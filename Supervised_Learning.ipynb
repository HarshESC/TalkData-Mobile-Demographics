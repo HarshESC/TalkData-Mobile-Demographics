{
  "nbformat": 4,
  "nbformat_minor": 0,
  "metadata": {
    "accelerator": "GPU",
    "colab": {
      "name": "Supervised Learning.ipynb",
      "provenance": [],
      "collapsed_sections": [],
      "include_colab_link": true
    },
    "kernelspec": {
      "display_name": "Python 3",
      "name": "python3"
    },
    "language_info": {
      "name": "python"
    }
  },
  "cells": [
    {
      "cell_type": "markdown",
      "metadata": {
        "id": "view-in-github",
        "colab_type": "text"
      },
      "source": [
        "<a href=\"https://colab.research.google.com/github/HarshESC/TalkData-Mobile-Demographics/blob/main/Supervised_Learning.ipynb\" target=\"_parent\"><img src=\"https://colab.research.google.com/assets/colab-badge.svg\" alt=\"Open In Colab\"/></a>"
      ]
    },
    {
      "cell_type": "code",
      "metadata": {
        "id": "N6abuKw0ky6Z"
      },
      "source": [
        "#Imports\n",
        "import numpy as np\n",
        "import pandas as pd\n",
        "from sklearn.datasets import load_boston\n",
        "from sklearn.model_selection import train_test_split, GridSearchCV, cross_val_score\n",
        "from sklearn.tree import DecisionTreeClassifier\n",
        "from sklearn.feature_selection import SelectKBest, f_regression, chi2\n",
        "import matplotlib.pyplot as plt\n",
        "import seaborn as sns\n",
        "from sklearn.metrics import confusion_matrix\n",
        "from sklearn.metrics import accuracy_score\n",
        "from sklearn.metrics import precision_score, recall_score\n",
        "from sklearn.metrics import f1_score\n",
        "from sklearn.metrics import classification_report\n",
        "from sklearn.ensemble import RandomForestClassifier\n",
        "from sklearn.neighbors import KNeighborsClassifier\n",
        "from sklearn import neighbors\n",
        "from sklearn import svm\n",
        "from sklearn.svm import SVC\n",
        "\n",
        "from sklearn import tree\n",
        "from sklearn.ensemble import GradientBoostingClassifier\n",
        "from sklearn.compose import ColumnTransformer\n",
        "from sklearn.preprocessing import StandardScaler\n",
        "from sklearn.pipeline import Pipeline\n",
        "from sklearn.decomposition import PCA\n",
        "from sklearn import ensemble\n",
        "from sklearn.preprocessing import LabelBinarizer\n",
        "from sklearn.metrics import roc_auc_score\n",
        "\n",
        "import warnings\n",
        "warnings.filterwarnings('ignore')\n",
        "\n"
      ],
      "execution_count": null,
      "outputs": []
    },
    {
      "cell_type": "code",
      "metadata": {
        "id": "yMIDjebVfwU4",
        "colab": {
          "base_uri": "https://localhost:8080/"
        },
        "outputId": "bb8ec518-ca57-46e3-8691-a3dfa39b2bd5"
      },
      "source": [
        "from google.colab import drive \n",
        "drive.mount('/content/gdrive')\n",
        "import os\n",
        "os.environ['KAGGLE_CONFIG_DIR'] = \"/content/gdrive/\"\n",
        "%cd \"/content/gdrive/My Drive/Final Capstone\""
      ],
      "execution_count": null,
      "outputs": [
        {
          "output_type": "stream",
          "name": "stdout",
          "text": [
            "Mounted at /content/gdrive\n",
            "/content/gdrive/My Drive/Final Capstone\n"
          ]
        }
      ]
    },
    {
      "cell_type": "markdown",
      "metadata": {
        "id": "IKhZL-THz3Ke"
      },
      "source": [
        "# Small EDA"
      ]
    },
    {
      "cell_type": "code",
      "metadata": {
        "colab": {
          "base_uri": "https://localhost:8080/",
          "height": 244
        },
        "id": "IlkCpkyYQ0U3",
        "outputId": "6be7f8aa-49af-443b-bab5-1a0905e36fc7"
      },
      "source": [
        "master_df = pd.read_csv(\"master_clean.csv\")\n",
        "\n",
        "master_df.head()"
      ],
      "execution_count": null,
      "outputs": [
        {
          "output_type": "execute_result",
          "data": {
            "text/html": [
              "<div>\n",
              "<style scoped>\n",
              "    .dataframe tbody tr th:only-of-type {\n",
              "        vertical-align: middle;\n",
              "    }\n",
              "\n",
              "    .dataframe tbody tr th {\n",
              "        vertical-align: top;\n",
              "    }\n",
              "\n",
              "    .dataframe thead th {\n",
              "        text-align: right;\n",
              "    }\n",
              "</style>\n",
              "<table border=\"1\" class=\"dataframe\">\n",
              "  <thead>\n",
              "    <tr style=\"text-align: right;\">\n",
              "      <th></th>\n",
              "      <th>event_id</th>\n",
              "      <th>app_id</th>\n",
              "      <th>is_active</th>\n",
              "      <th>device_id</th>\n",
              "      <th>251</th>\n",
              "      <th>252</th>\n",
              "      <th>253</th>\n",
              "      <th>254</th>\n",
              "      <th>256</th>\n",
              "      <th>262</th>\n",
              "      <th>263</th>\n",
              "      <th>302</th>\n",
              "      <th>303</th>\n",
              "      <th>306</th>\n",
              "      <th>318</th>\n",
              "      <th>326</th>\n",
              "      <th>405</th>\n",
              "      <th>406</th>\n",
              "      <th>407</th>\n",
              "      <th>548</th>\n",
              "      <th>549</th>\n",
              "      <th>551</th>\n",
              "      <th>558</th>\n",
              "      <th>562</th>\n",
              "      <th>564</th>\n",
              "      <th>565</th>\n",
              "      <th>566</th>\n",
              "      <th>english_phone_brand_asus</th>\n",
              "      <th>english_phone_brand_coolpad</th>\n",
              "      <th>english_phone_brand_hammer</th>\n",
              "      <th>english_phone_brand_huawei</th>\n",
              "      <th>english_phone_brand_lshi</th>\n",
              "      <th>english_phone_brand_meizu</th>\n",
              "      <th>english_phone_brand_oppo</th>\n",
              "      <th>english_phone_brand_qiku</th>\n",
              "      <th>english_phone_brand_samsung</th>\n",
              "      <th>english_phone_brand_vivo</th>\n",
              "      <th>english_phone_brand_xiaomi</th>\n",
              "      <th>device_model_Galaxy Note 3</th>\n",
              "      <th>device_model_Galaxy Note 4</th>\n",
              "      <th>device_model_Galaxy S5</th>\n",
              "      <th>device_model_Galaxy S6</th>\n",
              "      <th>device_model_MI 3</th>\n",
              "      <th>device_model_MI 4</th>\n",
              "      <th>device_model_MX4</th>\n",
              "      <th>device_model_MX4 Pro</th>\n",
              "      <th>device_model_MX5</th>\n",
              "      <th>device_model_Mate 7</th>\n",
              "      <th>device_model_P8 Lite</th>\n",
              "      <th>device_model_P8max</th>\n",
              "      <th>device_model_R7 Plus</th>\n",
              "      <th>device_model_U3</th>\n",
              "      <th>device_model_X5SL</th>\n",
              "      <th>device_model_Z1</th>\n",
              "      <th>device_model_ZenFone 2</th>\n",
              "      <th>device_model_note顶配版</th>\n",
              "      <th>device_model_坚果手机</th>\n",
              "      <th>device_model_大神Note3</th>\n",
              "      <th>device_model_小米4C</th>\n",
              "      <th>device_model_小米note</th>\n",
              "      <th>device_model_红米2</th>\n",
              "      <th>device_model_红米2A</th>\n",
              "      <th>device_model_红米Note2</th>\n",
              "      <th>device_model_红米Note3</th>\n",
              "      <th>device_model_红米note</th>\n",
              "      <th>device_model_荣耀3C</th>\n",
              "      <th>device_model_荣耀6</th>\n",
              "      <th>device_model_荣耀6 Plus</th>\n",
              "      <th>device_model_荣耀7</th>\n",
              "      <th>device_model_荣耀7i</th>\n",
              "      <th>device_model_荣耀X2</th>\n",
              "      <th>device_model_荣耀畅玩4C</th>\n",
              "      <th>device_model_荣耀畅玩5X</th>\n",
              "      <th>device_model_超级手机1</th>\n",
              "      <th>device_model_超级手机1 Pro</th>\n",
              "      <th>device_model_超级手机1s</th>\n",
              "      <th>device_model_青春版</th>\n",
              "      <th>device_model_魅蓝NOTE</th>\n",
              "      <th>device_model_魅蓝metal</th>\n",
              "      <th>num_group</th>\n",
              "    </tr>\n",
              "  </thead>\n",
              "  <tbody>\n",
              "    <tr>\n",
              "      <th>0</th>\n",
              "      <td>198</td>\n",
              "      <td>-8807740666788515175</td>\n",
              "      <td>0</td>\n",
              "      <td>6984152891252102027</td>\n",
              "      <td>0</td>\n",
              "      <td>0</td>\n",
              "      <td>0</td>\n",
              "      <td>0</td>\n",
              "      <td>0</td>\n",
              "      <td>0</td>\n",
              "      <td>0</td>\n",
              "      <td>0</td>\n",
              "      <td>0</td>\n",
              "      <td>0</td>\n",
              "      <td>0</td>\n",
              "      <td>0</td>\n",
              "      <td>0</td>\n",
              "      <td>0</td>\n",
              "      <td>0</td>\n",
              "      <td>1</td>\n",
              "      <td>1</td>\n",
              "      <td>0</td>\n",
              "      <td>0</td>\n",
              "      <td>0</td>\n",
              "      <td>0</td>\n",
              "      <td>0</td>\n",
              "      <td>0</td>\n",
              "      <td>0</td>\n",
              "      <td>0</td>\n",
              "      <td>0</td>\n",
              "      <td>0</td>\n",
              "      <td>0</td>\n",
              "      <td>0</td>\n",
              "      <td>0</td>\n",
              "      <td>0</td>\n",
              "      <td>0</td>\n",
              "      <td>0</td>\n",
              "      <td>1</td>\n",
              "      <td>0</td>\n",
              "      <td>0</td>\n",
              "      <td>0</td>\n",
              "      <td>0</td>\n",
              "      <td>0</td>\n",
              "      <td>1</td>\n",
              "      <td>0</td>\n",
              "      <td>0</td>\n",
              "      <td>0</td>\n",
              "      <td>0</td>\n",
              "      <td>0</td>\n",
              "      <td>0</td>\n",
              "      <td>0</td>\n",
              "      <td>0</td>\n",
              "      <td>0</td>\n",
              "      <td>0</td>\n",
              "      <td>0</td>\n",
              "      <td>0</td>\n",
              "      <td>0</td>\n",
              "      <td>0</td>\n",
              "      <td>0</td>\n",
              "      <td>0</td>\n",
              "      <td>0</td>\n",
              "      <td>0</td>\n",
              "      <td>0</td>\n",
              "      <td>0</td>\n",
              "      <td>0</td>\n",
              "      <td>0</td>\n",
              "      <td>0</td>\n",
              "      <td>0</td>\n",
              "      <td>0</td>\n",
              "      <td>0</td>\n",
              "      <td>0</td>\n",
              "      <td>0</td>\n",
              "      <td>0</td>\n",
              "      <td>0</td>\n",
              "      <td>0</td>\n",
              "      <td>0</td>\n",
              "      <td>0</td>\n",
              "      <td>0</td>\n",
              "      <td>0</td>\n",
              "      <td>4</td>\n",
              "    </tr>\n",
              "    <tr>\n",
              "      <th>1</th>\n",
              "      <td>198</td>\n",
              "      <td>-7415261454408512527</td>\n",
              "      <td>0</td>\n",
              "      <td>6984152891252102027</td>\n",
              "      <td>0</td>\n",
              "      <td>0</td>\n",
              "      <td>0</td>\n",
              "      <td>1</td>\n",
              "      <td>0</td>\n",
              "      <td>0</td>\n",
              "      <td>0</td>\n",
              "      <td>0</td>\n",
              "      <td>0</td>\n",
              "      <td>0</td>\n",
              "      <td>0</td>\n",
              "      <td>0</td>\n",
              "      <td>0</td>\n",
              "      <td>0</td>\n",
              "      <td>0</td>\n",
              "      <td>1</td>\n",
              "      <td>0</td>\n",
              "      <td>0</td>\n",
              "      <td>0</td>\n",
              "      <td>1</td>\n",
              "      <td>1</td>\n",
              "      <td>0</td>\n",
              "      <td>0</td>\n",
              "      <td>0</td>\n",
              "      <td>0</td>\n",
              "      <td>0</td>\n",
              "      <td>0</td>\n",
              "      <td>0</td>\n",
              "      <td>0</td>\n",
              "      <td>0</td>\n",
              "      <td>0</td>\n",
              "      <td>0</td>\n",
              "      <td>0</td>\n",
              "      <td>1</td>\n",
              "      <td>0</td>\n",
              "      <td>0</td>\n",
              "      <td>0</td>\n",
              "      <td>0</td>\n",
              "      <td>0</td>\n",
              "      <td>1</td>\n",
              "      <td>0</td>\n",
              "      <td>0</td>\n",
              "      <td>0</td>\n",
              "      <td>0</td>\n",
              "      <td>0</td>\n",
              "      <td>0</td>\n",
              "      <td>0</td>\n",
              "      <td>0</td>\n",
              "      <td>0</td>\n",
              "      <td>0</td>\n",
              "      <td>0</td>\n",
              "      <td>0</td>\n",
              "      <td>0</td>\n",
              "      <td>0</td>\n",
              "      <td>0</td>\n",
              "      <td>0</td>\n",
              "      <td>0</td>\n",
              "      <td>0</td>\n",
              "      <td>0</td>\n",
              "      <td>0</td>\n",
              "      <td>0</td>\n",
              "      <td>0</td>\n",
              "      <td>0</td>\n",
              "      <td>0</td>\n",
              "      <td>0</td>\n",
              "      <td>0</td>\n",
              "      <td>0</td>\n",
              "      <td>0</td>\n",
              "      <td>0</td>\n",
              "      <td>0</td>\n",
              "      <td>0</td>\n",
              "      <td>0</td>\n",
              "      <td>0</td>\n",
              "      <td>0</td>\n",
              "      <td>0</td>\n",
              "      <td>4</td>\n",
              "    </tr>\n",
              "    <tr>\n",
              "      <th>2</th>\n",
              "      <td>198</td>\n",
              "      <td>-6538188762242952077</td>\n",
              "      <td>1</td>\n",
              "      <td>6984152891252102027</td>\n",
              "      <td>1</td>\n",
              "      <td>0</td>\n",
              "      <td>0</td>\n",
              "      <td>0</td>\n",
              "      <td>0</td>\n",
              "      <td>1</td>\n",
              "      <td>0</td>\n",
              "      <td>1</td>\n",
              "      <td>1</td>\n",
              "      <td>0</td>\n",
              "      <td>0</td>\n",
              "      <td>0</td>\n",
              "      <td>0</td>\n",
              "      <td>0</td>\n",
              "      <td>0</td>\n",
              "      <td>0</td>\n",
              "      <td>0</td>\n",
              "      <td>0</td>\n",
              "      <td>0</td>\n",
              "      <td>0</td>\n",
              "      <td>0</td>\n",
              "      <td>0</td>\n",
              "      <td>0</td>\n",
              "      <td>0</td>\n",
              "      <td>0</td>\n",
              "      <td>0</td>\n",
              "      <td>0</td>\n",
              "      <td>0</td>\n",
              "      <td>0</td>\n",
              "      <td>0</td>\n",
              "      <td>0</td>\n",
              "      <td>0</td>\n",
              "      <td>0</td>\n",
              "      <td>1</td>\n",
              "      <td>0</td>\n",
              "      <td>0</td>\n",
              "      <td>0</td>\n",
              "      <td>0</td>\n",
              "      <td>0</td>\n",
              "      <td>1</td>\n",
              "      <td>0</td>\n",
              "      <td>0</td>\n",
              "      <td>0</td>\n",
              "      <td>0</td>\n",
              "      <td>0</td>\n",
              "      <td>0</td>\n",
              "      <td>0</td>\n",
              "      <td>0</td>\n",
              "      <td>0</td>\n",
              "      <td>0</td>\n",
              "      <td>0</td>\n",
              "      <td>0</td>\n",
              "      <td>0</td>\n",
              "      <td>0</td>\n",
              "      <td>0</td>\n",
              "      <td>0</td>\n",
              "      <td>0</td>\n",
              "      <td>0</td>\n",
              "      <td>0</td>\n",
              "      <td>0</td>\n",
              "      <td>0</td>\n",
              "      <td>0</td>\n",
              "      <td>0</td>\n",
              "      <td>0</td>\n",
              "      <td>0</td>\n",
              "      <td>0</td>\n",
              "      <td>0</td>\n",
              "      <td>0</td>\n",
              "      <td>0</td>\n",
              "      <td>0</td>\n",
              "      <td>0</td>\n",
              "      <td>0</td>\n",
              "      <td>0</td>\n",
              "      <td>0</td>\n",
              "      <td>0</td>\n",
              "      <td>4</td>\n",
              "    </tr>\n",
              "    <tr>\n",
              "      <th>3</th>\n",
              "      <td>198</td>\n",
              "      <td>-6493194103110420302</td>\n",
              "      <td>0</td>\n",
              "      <td>6984152891252102027</td>\n",
              "      <td>0</td>\n",
              "      <td>0</td>\n",
              "      <td>1</td>\n",
              "      <td>0</td>\n",
              "      <td>0</td>\n",
              "      <td>0</td>\n",
              "      <td>0</td>\n",
              "      <td>0</td>\n",
              "      <td>0</td>\n",
              "      <td>0</td>\n",
              "      <td>0</td>\n",
              "      <td>0</td>\n",
              "      <td>1</td>\n",
              "      <td>0</td>\n",
              "      <td>0</td>\n",
              "      <td>1</td>\n",
              "      <td>1</td>\n",
              "      <td>0</td>\n",
              "      <td>0</td>\n",
              "      <td>0</td>\n",
              "      <td>1</td>\n",
              "      <td>0</td>\n",
              "      <td>0</td>\n",
              "      <td>0</td>\n",
              "      <td>0</td>\n",
              "      <td>0</td>\n",
              "      <td>0</td>\n",
              "      <td>0</td>\n",
              "      <td>0</td>\n",
              "      <td>0</td>\n",
              "      <td>0</td>\n",
              "      <td>0</td>\n",
              "      <td>0</td>\n",
              "      <td>1</td>\n",
              "      <td>0</td>\n",
              "      <td>0</td>\n",
              "      <td>0</td>\n",
              "      <td>0</td>\n",
              "      <td>0</td>\n",
              "      <td>1</td>\n",
              "      <td>0</td>\n",
              "      <td>0</td>\n",
              "      <td>0</td>\n",
              "      <td>0</td>\n",
              "      <td>0</td>\n",
              "      <td>0</td>\n",
              "      <td>0</td>\n",
              "      <td>0</td>\n",
              "      <td>0</td>\n",
              "      <td>0</td>\n",
              "      <td>0</td>\n",
              "      <td>0</td>\n",
              "      <td>0</td>\n",
              "      <td>0</td>\n",
              "      <td>0</td>\n",
              "      <td>0</td>\n",
              "      <td>0</td>\n",
              "      <td>0</td>\n",
              "      <td>0</td>\n",
              "      <td>0</td>\n",
              "      <td>0</td>\n",
              "      <td>0</td>\n",
              "      <td>0</td>\n",
              "      <td>0</td>\n",
              "      <td>0</td>\n",
              "      <td>0</td>\n",
              "      <td>0</td>\n",
              "      <td>0</td>\n",
              "      <td>0</td>\n",
              "      <td>0</td>\n",
              "      <td>0</td>\n",
              "      <td>0</td>\n",
              "      <td>0</td>\n",
              "      <td>0</td>\n",
              "      <td>0</td>\n",
              "      <td>4</td>\n",
              "    </tr>\n",
              "    <tr>\n",
              "      <th>4</th>\n",
              "      <td>198</td>\n",
              "      <td>-6349602347932703147</td>\n",
              "      <td>0</td>\n",
              "      <td>6984152891252102027</td>\n",
              "      <td>0</td>\n",
              "      <td>0</td>\n",
              "      <td>0</td>\n",
              "      <td>0</td>\n",
              "      <td>0</td>\n",
              "      <td>0</td>\n",
              "      <td>0</td>\n",
              "      <td>0</td>\n",
              "      <td>0</td>\n",
              "      <td>0</td>\n",
              "      <td>0</td>\n",
              "      <td>0</td>\n",
              "      <td>1</td>\n",
              "      <td>0</td>\n",
              "      <td>0</td>\n",
              "      <td>1</td>\n",
              "      <td>1</td>\n",
              "      <td>0</td>\n",
              "      <td>0</td>\n",
              "      <td>0</td>\n",
              "      <td>0</td>\n",
              "      <td>0</td>\n",
              "      <td>0</td>\n",
              "      <td>0</td>\n",
              "      <td>0</td>\n",
              "      <td>0</td>\n",
              "      <td>0</td>\n",
              "      <td>0</td>\n",
              "      <td>0</td>\n",
              "      <td>0</td>\n",
              "      <td>0</td>\n",
              "      <td>0</td>\n",
              "      <td>0</td>\n",
              "      <td>1</td>\n",
              "      <td>0</td>\n",
              "      <td>0</td>\n",
              "      <td>0</td>\n",
              "      <td>0</td>\n",
              "      <td>0</td>\n",
              "      <td>1</td>\n",
              "      <td>0</td>\n",
              "      <td>0</td>\n",
              "      <td>0</td>\n",
              "      <td>0</td>\n",
              "      <td>0</td>\n",
              "      <td>0</td>\n",
              "      <td>0</td>\n",
              "      <td>0</td>\n",
              "      <td>0</td>\n",
              "      <td>0</td>\n",
              "      <td>0</td>\n",
              "      <td>0</td>\n",
              "      <td>0</td>\n",
              "      <td>0</td>\n",
              "      <td>0</td>\n",
              "      <td>0</td>\n",
              "      <td>0</td>\n",
              "      <td>0</td>\n",
              "      <td>0</td>\n",
              "      <td>0</td>\n",
              "      <td>0</td>\n",
              "      <td>0</td>\n",
              "      <td>0</td>\n",
              "      <td>0</td>\n",
              "      <td>0</td>\n",
              "      <td>0</td>\n",
              "      <td>0</td>\n",
              "      <td>0</td>\n",
              "      <td>0</td>\n",
              "      <td>0</td>\n",
              "      <td>0</td>\n",
              "      <td>0</td>\n",
              "      <td>0</td>\n",
              "      <td>0</td>\n",
              "      <td>0</td>\n",
              "      <td>4</td>\n",
              "    </tr>\n",
              "  </tbody>\n",
              "</table>\n",
              "</div>"
            ],
            "text/plain": [
              "   event_id               app_id  ...  device_model_魅蓝metal  num_group\n",
              "0       198 -8807740666788515175  ...                     0          4\n",
              "1       198 -7415261454408512527  ...                     0          4\n",
              "2       198 -6538188762242952077  ...                     0          4\n",
              "3       198 -6493194103110420302  ...                     0          4\n",
              "4       198 -6349602347932703147  ...                     0          4\n",
              "\n",
              "[5 rows x 80 columns]"
            ]
          },
          "metadata": {},
          "execution_count": 3
        }
      ]
    },
    {
      "cell_type": "code",
      "metadata": {
        "id": "rgH9EyuBx4vc"
      },
      "source": [
        "# Dropping AppID as I don't think it will be helpful for our question\n",
        "master_df = master_df.drop(columns=[\"app_id\"])\n"
      ],
      "execution_count": null,
      "outputs": []
    },
    {
      "cell_type": "code",
      "metadata": {
        "id": "Gv0lQw9d_Ryz",
        "colab": {
          "base_uri": "https://localhost:8080/"
        },
        "outputId": "ab015b06-79c5-4359-b4fc-75bdcfadd28a"
      },
      "source": [
        "\n",
        "master_df[\"num_group\"].value_counts()\n"
      ],
      "execution_count": null,
      "outputs": [
        {
          "output_type": "execute_result",
          "data": {
            "text/plain": [
              "5     2974\n",
              "4     2697\n",
              "3     1415\n",
              "1     1292\n",
              "2      960\n",
              "11     863\n",
              "10     687\n",
              "0      638\n",
              "9      405\n",
              "8      283\n",
              "6      194\n",
              "7      143\n",
              "Name: num_group, dtype: int64"
            ]
          },
          "metadata": {},
          "execution_count": 5
        }
      ]
    },
    {
      "cell_type": "code",
      "metadata": {
        "id": "MUQosOj2Ruc9"
      },
      "source": [
        "numerical_columns = [\"device_id\", \"event_id\"]\n"
      ],
      "execution_count": null,
      "outputs": []
    },
    {
      "cell_type": "markdown",
      "metadata": {
        "id": "d7H2CRIUR2De"
      },
      "source": [
        "# Select K Best"
      ]
    },
    {
      "cell_type": "code",
      "metadata": {
        "id": "w4XtgBQ0R3UQ"
      },
      "source": [
        "# splitting up the data and choosing num_group as target variable\n",
        "X = master_df.drop(columns=[\"num_group\"])\n",
        "y = master_df[\"num_group\"]\n",
        "\n",
        "X_train, X_test, y_train, y_test = train_test_split(\n",
        "    X, y, test_size=0.20, random_state=13, stratify=y\n",
        ")\n"
      ],
      "execution_count": null,
      "outputs": []
    },
    {
      "cell_type": "code",
      "metadata": {
        "id": "nKJHOTOKog3P"
      },
      "source": [
        "# set up preprocessing for pipeline (used to scale features)\n",
        "preprocessing = ColumnTransformer(\n",
        "    [(\"scale\", StandardScaler(), numerical_columns),], remainder=\"passthrough\",\n",
        ")\n",
        "\n"
      ],
      "execution_count": null,
      "outputs": []
    },
    {
      "cell_type": "markdown",
      "metadata": {
        "id": "EnzAyE28o-J3"
      },
      "source": [
        "## Random Forest Classifier"
      ]
    },
    {
      "cell_type": "code",
      "metadata": {
        "id": "Eiv56ZWnpKJw",
        "colab": {
          "base_uri": "https://localhost:8080/"
        },
        "outputId": "7d60c78f-0f80-4889-9f73-e7359edf1b88"
      },
      "source": [
        "pipeline = Pipeline(\n",
        "    [(\"preprocessing\", preprocessing), (\"rf\", RandomForestClassifier())], verbose=True\n",
        ")\n",
        "\n",
        "pipeline.fit(X_train, y_train)\n"
      ],
      "execution_count": null,
      "outputs": [
        {
          "output_type": "stream",
          "name": "stdout",
          "text": [
            "[Pipeline] ..... (step 1 of 2) Processing preprocessing, total=   0.0s\n",
            "[Pipeline] ................ (step 2 of 2) Processing rf, total=   1.2s\n"
          ]
        },
        {
          "output_type": "execute_result",
          "data": {
            "text/plain": [
              "Pipeline(steps=[('preprocessing',\n",
              "                 ColumnTransformer(remainder='passthrough',\n",
              "                                   transformers=[('scale', StandardScaler(),\n",
              "                                                  ['device_id', 'event_id'])])),\n",
              "                ('rf', RandomForestClassifier())],\n",
              "         verbose=True)"
            ]
          },
          "metadata": {},
          "execution_count": 9
        }
      ]
    },
    {
      "cell_type": "markdown",
      "metadata": {
        "id": "9hj7H3bOpIgP"
      },
      "source": [
        "Grid search"
      ]
    },
    {
      "cell_type": "code",
      "metadata": {
        "id": "z3bn9Euao3eX",
        "colab": {
          "base_uri": "https://localhost:8080/"
        },
        "outputId": "7424a509-f822-4b4f-edb1-5ed14f600465"
      },
      "source": [
        "# Max depth of 50 provides a better score, this is much better than the previous score of around 0.2.\n",
        "# To improve score suggest increasing max depth even more\n",
        "grid = {\n",
        "    \"rf__max_depth\": [50, 70, 90, 110],\n",
        "    \"rf__n_estimators\": [1, 10, 100],\n",
        "    \"rf__min_samples_leaf\": [1, 3, 5, 7],\n",
        "    \"rf__criterion\": [\"gini\"],\n",
        "}\n",
        "\n",
        "model = GridSearchCV(pipeline, grid, n_jobs=-1, verbose=True)\n",
        "model.fit(X_train, y_train)\n"
      ],
      "execution_count": null,
      "outputs": [
        {
          "output_type": "stream",
          "name": "stdout",
          "text": [
            "Fitting 5 folds for each of 48 candidates, totalling 240 fits\n",
            "[Pipeline] ..... (step 1 of 2) Processing preprocessing, total=   0.0s\n",
            "[Pipeline] ................ (step 2 of 2) Processing rf, total=   1.1s\n"
          ]
        },
        {
          "output_type": "execute_result",
          "data": {
            "text/plain": [
              "GridSearchCV(estimator=Pipeline(steps=[('preprocessing',\n",
              "                                        ColumnTransformer(remainder='passthrough',\n",
              "                                                          transformers=[('scale',\n",
              "                                                                         StandardScaler(),\n",
              "                                                                         ['device_id',\n",
              "                                                                          'event_id'])])),\n",
              "                                       ('rf', RandomForestClassifier())],\n",
              "                                verbose=True),\n",
              "             n_jobs=-1,\n",
              "             param_grid={'rf__criterion': ['gini'],\n",
              "                         'rf__max_depth': [50, 70, 90, 110],\n",
              "                         'rf__min_samples_leaf': [1, 3, 5, 7],\n",
              "                         'rf__n_estimators': [1, 10, 100]},\n",
              "             verbose=True)"
            ]
          },
          "metadata": {},
          "execution_count": 10
        }
      ]
    },
    {
      "cell_type": "code",
      "metadata": {
        "id": "tkQEYIt-pYkX",
        "colab": {
          "base_uri": "https://localhost:8080/"
        },
        "outputId": "e113063a-4642-4afb-c674-3ddd0c13a09c"
      },
      "source": [
        "model.best_params_\n"
      ],
      "execution_count": null,
      "outputs": [
        {
          "output_type": "execute_result",
          "data": {
            "text/plain": [
              "{'rf__criterion': 'gini',\n",
              " 'rf__max_depth': 110,\n",
              " 'rf__min_samples_leaf': 1,\n",
              " 'rf__n_estimators': 100}"
            ]
          },
          "metadata": {},
          "execution_count": 11
        }
      ]
    },
    {
      "cell_type": "code",
      "metadata": {
        "id": "cb5SPrB4pY2o",
        "colab": {
          "base_uri": "https://localhost:8080/"
        },
        "outputId": "6fb35c00-dc3b-4ca0-fe57-b0f44ab55dd1"
      },
      "source": [
        "# Model still appears to be extremely overfitting\n",
        "train_score = model.score(X_train, y_train)\n",
        "test_score = model.score(X_test, y_test)\n",
        "\n",
        "print(f\"Train score: {train_score}\")\n",
        "print(f\"Test score: {test_score}\")\n"
      ],
      "execution_count": null,
      "outputs": [
        {
          "output_type": "stream",
          "name": "stdout",
          "text": [
            "Train score: 1.0\n",
            "Test score: 0.9872560732775787\n"
          ]
        }
      ]
    },
    {
      "cell_type": "code",
      "metadata": {
        "id": "mVKdw7tDqbuP",
        "colab": {
          "base_uri": "https://localhost:8080/",
          "height": 425
        },
        "outputId": "daa2626d-c431-4921-d5e4-c8dd3d7a9478"
      },
      "source": [
        "y_pred = model.predict(X_test)\n",
        "\n",
        "con_mat = pd.DataFrame(\n",
        "    confusion_matrix(y_test, y_pred),\n",
        "    index=[\n",
        "        \"Actual M22-\",\n",
        "        \"Actual M23-26\",\n",
        "        \"Actual M27-28\",\n",
        "        \"Actual M29-31\",\n",
        "        \"Actual M32-38\",\n",
        "        \"Actual M39+\",\n",
        "        \"Actual F23-\",\n",
        "        \"Actual F24-26\",\n",
        "        \"Actual F27-28\",\n",
        "        \"Actual F29-32\",\n",
        "        \"Actual F33-42\",\n",
        "        \"Actual F43+\",\n",
        "    ],\n",
        "    columns=[\n",
        "        \"Predicted M22-\",\n",
        "        \"Predicted M23-26\",\n",
        "        \"Predicted M27-28\",\n",
        "        \"Predicted M29-31\",\n",
        "        \"Predicted M32-38\",\n",
        "        \"Predicted M39+\",\n",
        "        \"Predicted F23-\",\n",
        "        \"Predicted F24-26\",\n",
        "        \"Predicted F27-28\",\n",
        "        \"Predicted F29-32\",\n",
        "        \"Predicted F33-42\",\n",
        "        \"Predicted F43+\",\n",
        "    ],\n",
        ")\n",
        "con_mat.style.background_gradient(axis=None)\n",
        "\n",
        "\n"
      ],
      "execution_count": null,
      "outputs": [
        {
          "output_type": "execute_result",
          "data": {
            "text/html": [
              "<style  type=\"text/css\" >\n",
              "#T_73b63328_499d_11ec_bda8_0242ac1c0002row0_col0{\n",
              "            background-color:  #d9d8ea;\n",
              "            color:  #000000;\n",
              "        }#T_73b63328_499d_11ec_bda8_0242ac1c0002row0_col1,#T_73b63328_499d_11ec_bda8_0242ac1c0002row0_col2,#T_73b63328_499d_11ec_bda8_0242ac1c0002row0_col3,#T_73b63328_499d_11ec_bda8_0242ac1c0002row0_col4,#T_73b63328_499d_11ec_bda8_0242ac1c0002row0_col5,#T_73b63328_499d_11ec_bda8_0242ac1c0002row0_col6,#T_73b63328_499d_11ec_bda8_0242ac1c0002row0_col7,#T_73b63328_499d_11ec_bda8_0242ac1c0002row0_col8,#T_73b63328_499d_11ec_bda8_0242ac1c0002row0_col9,#T_73b63328_499d_11ec_bda8_0242ac1c0002row0_col10,#T_73b63328_499d_11ec_bda8_0242ac1c0002row0_col11,#T_73b63328_499d_11ec_bda8_0242ac1c0002row1_col0,#T_73b63328_499d_11ec_bda8_0242ac1c0002row1_col2,#T_73b63328_499d_11ec_bda8_0242ac1c0002row1_col3,#T_73b63328_499d_11ec_bda8_0242ac1c0002row1_col4,#T_73b63328_499d_11ec_bda8_0242ac1c0002row1_col5,#T_73b63328_499d_11ec_bda8_0242ac1c0002row1_col6,#T_73b63328_499d_11ec_bda8_0242ac1c0002row1_col7,#T_73b63328_499d_11ec_bda8_0242ac1c0002row1_col8,#T_73b63328_499d_11ec_bda8_0242ac1c0002row1_col9,#T_73b63328_499d_11ec_bda8_0242ac1c0002row1_col10,#T_73b63328_499d_11ec_bda8_0242ac1c0002row1_col11,#T_73b63328_499d_11ec_bda8_0242ac1c0002row2_col0,#T_73b63328_499d_11ec_bda8_0242ac1c0002row2_col1,#T_73b63328_499d_11ec_bda8_0242ac1c0002row2_col3,#T_73b63328_499d_11ec_bda8_0242ac1c0002row2_col4,#T_73b63328_499d_11ec_bda8_0242ac1c0002row2_col5,#T_73b63328_499d_11ec_bda8_0242ac1c0002row2_col6,#T_73b63328_499d_11ec_bda8_0242ac1c0002row2_col7,#T_73b63328_499d_11ec_bda8_0242ac1c0002row2_col8,#T_73b63328_499d_11ec_bda8_0242ac1c0002row2_col9,#T_73b63328_499d_11ec_bda8_0242ac1c0002row2_col10,#T_73b63328_499d_11ec_bda8_0242ac1c0002row2_col11,#T_73b63328_499d_11ec_bda8_0242ac1c0002row3_col1,#T_73b63328_499d_11ec_bda8_0242ac1c0002row3_col2,#T_73b63328_499d_11ec_bda8_0242ac1c0002row3_col4,#T_73b63328_499d_11ec_bda8_0242ac1c0002row3_col5,#T_73b63328_499d_11ec_bda8_0242ac1c0002row3_col6,#T_73b63328_499d_11ec_bda8_0242ac1c0002row3_col7,#T_73b63328_499d_11ec_bda8_0242ac1c0002row3_col8,#T_73b63328_499d_11ec_bda8_0242ac1c0002row3_col9,#T_73b63328_499d_11ec_bda8_0242ac1c0002row3_col10,#T_73b63328_499d_11ec_bda8_0242ac1c0002row3_col11,#T_73b63328_499d_11ec_bda8_0242ac1c0002row4_col0,#T_73b63328_499d_11ec_bda8_0242ac1c0002row4_col1,#T_73b63328_499d_11ec_bda8_0242ac1c0002row4_col2,#T_73b63328_499d_11ec_bda8_0242ac1c0002row4_col3,#T_73b63328_499d_11ec_bda8_0242ac1c0002row4_col5,#T_73b63328_499d_11ec_bda8_0242ac1c0002row4_col6,#T_73b63328_499d_11ec_bda8_0242ac1c0002row4_col7,#T_73b63328_499d_11ec_bda8_0242ac1c0002row4_col8,#T_73b63328_499d_11ec_bda8_0242ac1c0002row4_col9,#T_73b63328_499d_11ec_bda8_0242ac1c0002row4_col10,#T_73b63328_499d_11ec_bda8_0242ac1c0002row4_col11,#T_73b63328_499d_11ec_bda8_0242ac1c0002row5_col0,#T_73b63328_499d_11ec_bda8_0242ac1c0002row5_col1,#T_73b63328_499d_11ec_bda8_0242ac1c0002row5_col2,#T_73b63328_499d_11ec_bda8_0242ac1c0002row5_col3,#T_73b63328_499d_11ec_bda8_0242ac1c0002row5_col4,#T_73b63328_499d_11ec_bda8_0242ac1c0002row5_col6,#T_73b63328_499d_11ec_bda8_0242ac1c0002row5_col7,#T_73b63328_499d_11ec_bda8_0242ac1c0002row5_col8,#T_73b63328_499d_11ec_bda8_0242ac1c0002row5_col9,#T_73b63328_499d_11ec_bda8_0242ac1c0002row5_col10,#T_73b63328_499d_11ec_bda8_0242ac1c0002row5_col11,#T_73b63328_499d_11ec_bda8_0242ac1c0002row6_col0,#T_73b63328_499d_11ec_bda8_0242ac1c0002row6_col1,#T_73b63328_499d_11ec_bda8_0242ac1c0002row6_col2,#T_73b63328_499d_11ec_bda8_0242ac1c0002row6_col3,#T_73b63328_499d_11ec_bda8_0242ac1c0002row6_col4,#T_73b63328_499d_11ec_bda8_0242ac1c0002row6_col5,#T_73b63328_499d_11ec_bda8_0242ac1c0002row6_col7,#T_73b63328_499d_11ec_bda8_0242ac1c0002row6_col8,#T_73b63328_499d_11ec_bda8_0242ac1c0002row6_col9,#T_73b63328_499d_11ec_bda8_0242ac1c0002row6_col10,#T_73b63328_499d_11ec_bda8_0242ac1c0002row6_col11,#T_73b63328_499d_11ec_bda8_0242ac1c0002row7_col0,#T_73b63328_499d_11ec_bda8_0242ac1c0002row7_col1,#T_73b63328_499d_11ec_bda8_0242ac1c0002row7_col2,#T_73b63328_499d_11ec_bda8_0242ac1c0002row7_col3,#T_73b63328_499d_11ec_bda8_0242ac1c0002row7_col4,#T_73b63328_499d_11ec_bda8_0242ac1c0002row7_col5,#T_73b63328_499d_11ec_bda8_0242ac1c0002row7_col6,#T_73b63328_499d_11ec_bda8_0242ac1c0002row7_col8,#T_73b63328_499d_11ec_bda8_0242ac1c0002row7_col9,#T_73b63328_499d_11ec_bda8_0242ac1c0002row7_col10,#T_73b63328_499d_11ec_bda8_0242ac1c0002row7_col11,#T_73b63328_499d_11ec_bda8_0242ac1c0002row8_col0,#T_73b63328_499d_11ec_bda8_0242ac1c0002row8_col1,#T_73b63328_499d_11ec_bda8_0242ac1c0002row8_col2,#T_73b63328_499d_11ec_bda8_0242ac1c0002row8_col3,#T_73b63328_499d_11ec_bda8_0242ac1c0002row8_col4,#T_73b63328_499d_11ec_bda8_0242ac1c0002row8_col5,#T_73b63328_499d_11ec_bda8_0242ac1c0002row8_col6,#T_73b63328_499d_11ec_bda8_0242ac1c0002row8_col7,#T_73b63328_499d_11ec_bda8_0242ac1c0002row8_col9,#T_73b63328_499d_11ec_bda8_0242ac1c0002row8_col10,#T_73b63328_499d_11ec_bda8_0242ac1c0002row8_col11,#T_73b63328_499d_11ec_bda8_0242ac1c0002row9_col0,#T_73b63328_499d_11ec_bda8_0242ac1c0002row9_col1,#T_73b63328_499d_11ec_bda8_0242ac1c0002row9_col2,#T_73b63328_499d_11ec_bda8_0242ac1c0002row9_col3,#T_73b63328_499d_11ec_bda8_0242ac1c0002row9_col4,#T_73b63328_499d_11ec_bda8_0242ac1c0002row9_col5,#T_73b63328_499d_11ec_bda8_0242ac1c0002row9_col6,#T_73b63328_499d_11ec_bda8_0242ac1c0002row9_col7,#T_73b63328_499d_11ec_bda8_0242ac1c0002row9_col8,#T_73b63328_499d_11ec_bda8_0242ac1c0002row9_col10,#T_73b63328_499d_11ec_bda8_0242ac1c0002row9_col11,#T_73b63328_499d_11ec_bda8_0242ac1c0002row10_col0,#T_73b63328_499d_11ec_bda8_0242ac1c0002row10_col1,#T_73b63328_499d_11ec_bda8_0242ac1c0002row10_col2,#T_73b63328_499d_11ec_bda8_0242ac1c0002row10_col3,#T_73b63328_499d_11ec_bda8_0242ac1c0002row10_col4,#T_73b63328_499d_11ec_bda8_0242ac1c0002row10_col5,#T_73b63328_499d_11ec_bda8_0242ac1c0002row10_col6,#T_73b63328_499d_11ec_bda8_0242ac1c0002row10_col7,#T_73b63328_499d_11ec_bda8_0242ac1c0002row10_col8,#T_73b63328_499d_11ec_bda8_0242ac1c0002row10_col9,#T_73b63328_499d_11ec_bda8_0242ac1c0002row10_col11,#T_73b63328_499d_11ec_bda8_0242ac1c0002row11_col0,#T_73b63328_499d_11ec_bda8_0242ac1c0002row11_col1,#T_73b63328_499d_11ec_bda8_0242ac1c0002row11_col2,#T_73b63328_499d_11ec_bda8_0242ac1c0002row11_col3,#T_73b63328_499d_11ec_bda8_0242ac1c0002row11_col4,#T_73b63328_499d_11ec_bda8_0242ac1c0002row11_col5,#T_73b63328_499d_11ec_bda8_0242ac1c0002row11_col6,#T_73b63328_499d_11ec_bda8_0242ac1c0002row11_col7,#T_73b63328_499d_11ec_bda8_0242ac1c0002row11_col8,#T_73b63328_499d_11ec_bda8_0242ac1c0002row11_col9,#T_73b63328_499d_11ec_bda8_0242ac1c0002row11_col10{\n",
              "            background-color:  #fff7fb;\n",
              "            color:  #000000;\n",
              "        }#T_73b63328_499d_11ec_bda8_0242ac1c0002row1_col1{\n",
              "            background-color:  #8fb4d6;\n",
              "            color:  #000000;\n",
              "        }#T_73b63328_499d_11ec_bda8_0242ac1c0002row2_col2{\n",
              "            background-color:  #b8c6e0;\n",
              "            color:  #000000;\n",
              "        }#T_73b63328_499d_11ec_bda8_0242ac1c0002row3_col0{\n",
              "            background-color:  #fef6fa;\n",
              "            color:  #000000;\n",
              "        }#T_73b63328_499d_11ec_bda8_0242ac1c0002row3_col3{\n",
              "            background-color:  #81aed2;\n",
              "            color:  #000000;\n",
              "        }#T_73b63328_499d_11ec_bda8_0242ac1c0002row4_col4{\n",
              "            background-color:  #03517e;\n",
              "            color:  #f1f1f1;\n",
              "        }#T_73b63328_499d_11ec_bda8_0242ac1c0002row5_col5{\n",
              "            background-color:  #023858;\n",
              "            color:  #f1f1f1;\n",
              "        }#T_73b63328_499d_11ec_bda8_0242ac1c0002row6_col6{\n",
              "            background-color:  #f5eff6;\n",
              "            color:  #000000;\n",
              "        }#T_73b63328_499d_11ec_bda8_0242ac1c0002row7_col7{\n",
              "            background-color:  #f8f1f8;\n",
              "            color:  #000000;\n",
              "        }#T_73b63328_499d_11ec_bda8_0242ac1c0002row8_col8{\n",
              "            background-color:  #f1ebf4;\n",
              "            color:  #000000;\n",
              "        }#T_73b63328_499d_11ec_bda8_0242ac1c0002row9_col9{\n",
              "            background-color:  #e9e5f1;\n",
              "            color:  #000000;\n",
              "        }#T_73b63328_499d_11ec_bda8_0242ac1c0002row10_col10{\n",
              "            background-color:  #d4d4e8;\n",
              "            color:  #000000;\n",
              "        }#T_73b63328_499d_11ec_bda8_0242ac1c0002row11_col11{\n",
              "            background-color:  #c4cbe3;\n",
              "            color:  #000000;\n",
              "        }</style><table id=\"T_73b63328_499d_11ec_bda8_0242ac1c0002\" class=\"dataframe\"><thead>    <tr>        <th class=\"blank level0\" ></th>        <th class=\"col_heading level0 col0\" >Predicted M22-</th>        <th class=\"col_heading level0 col1\" >Predicted M23-26</th>        <th class=\"col_heading level0 col2\" >Predicted M27-28</th>        <th class=\"col_heading level0 col3\" >Predicted M29-31</th>        <th class=\"col_heading level0 col4\" >Predicted M32-38</th>        <th class=\"col_heading level0 col5\" >Predicted M39+</th>        <th class=\"col_heading level0 col6\" >Predicted F23-</th>        <th class=\"col_heading level0 col7\" >Predicted F24-26</th>        <th class=\"col_heading level0 col8\" >Predicted F27-28</th>        <th class=\"col_heading level0 col9\" >Predicted F29-32</th>        <th class=\"col_heading level0 col10\" >Predicted F33-42</th>        <th class=\"col_heading level0 col11\" >Predicted F43+</th>    </tr></thead><tbody>\n",
              "                <tr>\n",
              "                        <th id=\"T_73b63328_499d_11ec_bda8_0242ac1c0002level0_row0\" class=\"row_heading level0 row0\" >Actual M22-</th>\n",
              "                        <td id=\"T_73b63328_499d_11ec_bda8_0242ac1c0002row0_col0\" class=\"data row0 col0\" >125</td>\n",
              "                        <td id=\"T_73b63328_499d_11ec_bda8_0242ac1c0002row0_col1\" class=\"data row0 col1\" >0</td>\n",
              "                        <td id=\"T_73b63328_499d_11ec_bda8_0242ac1c0002row0_col2\" class=\"data row0 col2\" >0</td>\n",
              "                        <td id=\"T_73b63328_499d_11ec_bda8_0242ac1c0002row0_col3\" class=\"data row0 col3\" >1</td>\n",
              "                        <td id=\"T_73b63328_499d_11ec_bda8_0242ac1c0002row0_col4\" class=\"data row0 col4\" >1</td>\n",
              "                        <td id=\"T_73b63328_499d_11ec_bda8_0242ac1c0002row0_col5\" class=\"data row0 col5\" >0</td>\n",
              "                        <td id=\"T_73b63328_499d_11ec_bda8_0242ac1c0002row0_col6\" class=\"data row0 col6\" >0</td>\n",
              "                        <td id=\"T_73b63328_499d_11ec_bda8_0242ac1c0002row0_col7\" class=\"data row0 col7\" >0</td>\n",
              "                        <td id=\"T_73b63328_499d_11ec_bda8_0242ac1c0002row0_col8\" class=\"data row0 col8\" >0</td>\n",
              "                        <td id=\"T_73b63328_499d_11ec_bda8_0242ac1c0002row0_col9\" class=\"data row0 col9\" >1</td>\n",
              "                        <td id=\"T_73b63328_499d_11ec_bda8_0242ac1c0002row0_col10\" class=\"data row0 col10\" >0</td>\n",
              "                        <td id=\"T_73b63328_499d_11ec_bda8_0242ac1c0002row0_col11\" class=\"data row0 col11\" >0</td>\n",
              "            </tr>\n",
              "            <tr>\n",
              "                        <th id=\"T_73b63328_499d_11ec_bda8_0242ac1c0002level0_row1\" class=\"row_heading level0 row1\" >Actual M23-26</th>\n",
              "                        <td id=\"T_73b63328_499d_11ec_bda8_0242ac1c0002row1_col0\" class=\"data row1 col0\" >1</td>\n",
              "                        <td id=\"T_73b63328_499d_11ec_bda8_0242ac1c0002row1_col1\" class=\"data row1 col1\" >255</td>\n",
              "                        <td id=\"T_73b63328_499d_11ec_bda8_0242ac1c0002row1_col2\" class=\"data row1 col2\" >0</td>\n",
              "                        <td id=\"T_73b63328_499d_11ec_bda8_0242ac1c0002row1_col3\" class=\"data row1 col3\" >0</td>\n",
              "                        <td id=\"T_73b63328_499d_11ec_bda8_0242ac1c0002row1_col4\" class=\"data row1 col4\" >1</td>\n",
              "                        <td id=\"T_73b63328_499d_11ec_bda8_0242ac1c0002row1_col5\" class=\"data row1 col5\" >0</td>\n",
              "                        <td id=\"T_73b63328_499d_11ec_bda8_0242ac1c0002row1_col6\" class=\"data row1 col6\" >0</td>\n",
              "                        <td id=\"T_73b63328_499d_11ec_bda8_0242ac1c0002row1_col7\" class=\"data row1 col7\" >0</td>\n",
              "                        <td id=\"T_73b63328_499d_11ec_bda8_0242ac1c0002row1_col8\" class=\"data row1 col8\" >0</td>\n",
              "                        <td id=\"T_73b63328_499d_11ec_bda8_0242ac1c0002row1_col9\" class=\"data row1 col9\" >1</td>\n",
              "                        <td id=\"T_73b63328_499d_11ec_bda8_0242ac1c0002row1_col10\" class=\"data row1 col10\" >0</td>\n",
              "                        <td id=\"T_73b63328_499d_11ec_bda8_0242ac1c0002row1_col11\" class=\"data row1 col11\" >0</td>\n",
              "            </tr>\n",
              "            <tr>\n",
              "                        <th id=\"T_73b63328_499d_11ec_bda8_0242ac1c0002level0_row2\" class=\"row_heading level0 row2\" >Actual M27-28</th>\n",
              "                        <td id=\"T_73b63328_499d_11ec_bda8_0242ac1c0002row2_col0\" class=\"data row2 col0\" >0</td>\n",
              "                        <td id=\"T_73b63328_499d_11ec_bda8_0242ac1c0002row2_col1\" class=\"data row2 col1\" >0</td>\n",
              "                        <td id=\"T_73b63328_499d_11ec_bda8_0242ac1c0002row2_col2\" class=\"data row2 col2\" >189</td>\n",
              "                        <td id=\"T_73b63328_499d_11ec_bda8_0242ac1c0002row2_col3\" class=\"data row2 col3\" >1</td>\n",
              "                        <td id=\"T_73b63328_499d_11ec_bda8_0242ac1c0002row2_col4\" class=\"data row2 col4\" >0</td>\n",
              "                        <td id=\"T_73b63328_499d_11ec_bda8_0242ac1c0002row2_col5\" class=\"data row2 col5\" >2</td>\n",
              "                        <td id=\"T_73b63328_499d_11ec_bda8_0242ac1c0002row2_col6\" class=\"data row2 col6\" >0</td>\n",
              "                        <td id=\"T_73b63328_499d_11ec_bda8_0242ac1c0002row2_col7\" class=\"data row2 col7\" >0</td>\n",
              "                        <td id=\"T_73b63328_499d_11ec_bda8_0242ac1c0002row2_col8\" class=\"data row2 col8\" >0</td>\n",
              "                        <td id=\"T_73b63328_499d_11ec_bda8_0242ac1c0002row2_col9\" class=\"data row2 col9\" >0</td>\n",
              "                        <td id=\"T_73b63328_499d_11ec_bda8_0242ac1c0002row2_col10\" class=\"data row2 col10\" >0</td>\n",
              "                        <td id=\"T_73b63328_499d_11ec_bda8_0242ac1c0002row2_col11\" class=\"data row2 col11\" >0</td>\n",
              "            </tr>\n",
              "            <tr>\n",
              "                        <th id=\"T_73b63328_499d_11ec_bda8_0242ac1c0002level0_row3\" class=\"row_heading level0 row3\" >Actual M29-31</th>\n",
              "                        <td id=\"T_73b63328_499d_11ec_bda8_0242ac1c0002row3_col0\" class=\"data row3 col0\" >5</td>\n",
              "                        <td id=\"T_73b63328_499d_11ec_bda8_0242ac1c0002row3_col1\" class=\"data row3 col1\" >0</td>\n",
              "                        <td id=\"T_73b63328_499d_11ec_bda8_0242ac1c0002row3_col2\" class=\"data row3 col2\" >0</td>\n",
              "                        <td id=\"T_73b63328_499d_11ec_bda8_0242ac1c0002row3_col3\" class=\"data row3 col3\" >276</td>\n",
              "                        <td id=\"T_73b63328_499d_11ec_bda8_0242ac1c0002row3_col4\" class=\"data row3 col4\" >0</td>\n",
              "                        <td id=\"T_73b63328_499d_11ec_bda8_0242ac1c0002row3_col5\" class=\"data row3 col5\" >1</td>\n",
              "                        <td id=\"T_73b63328_499d_11ec_bda8_0242ac1c0002row3_col6\" class=\"data row3 col6\" >0</td>\n",
              "                        <td id=\"T_73b63328_499d_11ec_bda8_0242ac1c0002row3_col7\" class=\"data row3 col7\" >0</td>\n",
              "                        <td id=\"T_73b63328_499d_11ec_bda8_0242ac1c0002row3_col8\" class=\"data row3 col8\" >0</td>\n",
              "                        <td id=\"T_73b63328_499d_11ec_bda8_0242ac1c0002row3_col9\" class=\"data row3 col9\" >0</td>\n",
              "                        <td id=\"T_73b63328_499d_11ec_bda8_0242ac1c0002row3_col10\" class=\"data row3 col10\" >0</td>\n",
              "                        <td id=\"T_73b63328_499d_11ec_bda8_0242ac1c0002row3_col11\" class=\"data row3 col11\" >1</td>\n",
              "            </tr>\n",
              "            <tr>\n",
              "                        <th id=\"T_73b63328_499d_11ec_bda8_0242ac1c0002level0_row4\" class=\"row_heading level0 row4\" >Actual M32-38</th>\n",
              "                        <td id=\"T_73b63328_499d_11ec_bda8_0242ac1c0002row4_col0\" class=\"data row4 col0\" >0</td>\n",
              "                        <td id=\"T_73b63328_499d_11ec_bda8_0242ac1c0002row4_col1\" class=\"data row4 col1\" >0</td>\n",
              "                        <td id=\"T_73b63328_499d_11ec_bda8_0242ac1c0002row4_col2\" class=\"data row4 col2\" >0</td>\n",
              "                        <td id=\"T_73b63328_499d_11ec_bda8_0242ac1c0002row4_col3\" class=\"data row4 col3\" >0</td>\n",
              "                        <td id=\"T_73b63328_499d_11ec_bda8_0242ac1c0002row4_col4\" class=\"data row4 col4\" >535</td>\n",
              "                        <td id=\"T_73b63328_499d_11ec_bda8_0242ac1c0002row4_col5\" class=\"data row4 col5\" >2</td>\n",
              "                        <td id=\"T_73b63328_499d_11ec_bda8_0242ac1c0002row4_col6\" class=\"data row4 col6\" >0</td>\n",
              "                        <td id=\"T_73b63328_499d_11ec_bda8_0242ac1c0002row4_col7\" class=\"data row4 col7\" >0</td>\n",
              "                        <td id=\"T_73b63328_499d_11ec_bda8_0242ac1c0002row4_col8\" class=\"data row4 col8\" >1</td>\n",
              "                        <td id=\"T_73b63328_499d_11ec_bda8_0242ac1c0002row4_col9\" class=\"data row4 col9\" >0</td>\n",
              "                        <td id=\"T_73b63328_499d_11ec_bda8_0242ac1c0002row4_col10\" class=\"data row4 col10\" >0</td>\n",
              "                        <td id=\"T_73b63328_499d_11ec_bda8_0242ac1c0002row4_col11\" class=\"data row4 col11\" >1</td>\n",
              "            </tr>\n",
              "            <tr>\n",
              "                        <th id=\"T_73b63328_499d_11ec_bda8_0242ac1c0002level0_row5\" class=\"row_heading level0 row5\" >Actual M39+</th>\n",
              "                        <td id=\"T_73b63328_499d_11ec_bda8_0242ac1c0002row5_col0\" class=\"data row5 col0\" >0</td>\n",
              "                        <td id=\"T_73b63328_499d_11ec_bda8_0242ac1c0002row5_col1\" class=\"data row5 col1\" >1</td>\n",
              "                        <td id=\"T_73b63328_499d_11ec_bda8_0242ac1c0002row5_col2\" class=\"data row5 col2\" >1</td>\n",
              "                        <td id=\"T_73b63328_499d_11ec_bda8_0242ac1c0002row5_col3\" class=\"data row5 col3\" >1</td>\n",
              "                        <td id=\"T_73b63328_499d_11ec_bda8_0242ac1c0002row5_col4\" class=\"data row5 col4\" >1</td>\n",
              "                        <td id=\"T_73b63328_499d_11ec_bda8_0242ac1c0002row5_col5\" class=\"data row5 col5\" >590</td>\n",
              "                        <td id=\"T_73b63328_499d_11ec_bda8_0242ac1c0002row5_col6\" class=\"data row5 col6\" >0</td>\n",
              "                        <td id=\"T_73b63328_499d_11ec_bda8_0242ac1c0002row5_col7\" class=\"data row5 col7\" >0</td>\n",
              "                        <td id=\"T_73b63328_499d_11ec_bda8_0242ac1c0002row5_col8\" class=\"data row5 col8\" >0</td>\n",
              "                        <td id=\"T_73b63328_499d_11ec_bda8_0242ac1c0002row5_col9\" class=\"data row5 col9\" >0</td>\n",
              "                        <td id=\"T_73b63328_499d_11ec_bda8_0242ac1c0002row5_col10\" class=\"data row5 col10\" >1</td>\n",
              "                        <td id=\"T_73b63328_499d_11ec_bda8_0242ac1c0002row5_col11\" class=\"data row5 col11\" >0</td>\n",
              "            </tr>\n",
              "            <tr>\n",
              "                        <th id=\"T_73b63328_499d_11ec_bda8_0242ac1c0002level0_row6\" class=\"row_heading level0 row6\" >Actual F23-</th>\n",
              "                        <td id=\"T_73b63328_499d_11ec_bda8_0242ac1c0002row6_col0\" class=\"data row6 col0\" >0</td>\n",
              "                        <td id=\"T_73b63328_499d_11ec_bda8_0242ac1c0002row6_col1\" class=\"data row6 col1\" >0</td>\n",
              "                        <td id=\"T_73b63328_499d_11ec_bda8_0242ac1c0002row6_col2\" class=\"data row6 col2\" >0</td>\n",
              "                        <td id=\"T_73b63328_499d_11ec_bda8_0242ac1c0002row6_col3\" class=\"data row6 col3\" >0</td>\n",
              "                        <td id=\"T_73b63328_499d_11ec_bda8_0242ac1c0002row6_col4\" class=\"data row6 col4\" >0</td>\n",
              "                        <td id=\"T_73b63328_499d_11ec_bda8_0242ac1c0002row6_col5\" class=\"data row6 col5\" >0</td>\n",
              "                        <td id=\"T_73b63328_499d_11ec_bda8_0242ac1c0002row6_col6\" class=\"data row6 col6\" >39</td>\n",
              "                        <td id=\"T_73b63328_499d_11ec_bda8_0242ac1c0002row6_col7\" class=\"data row6 col7\" >0</td>\n",
              "                        <td id=\"T_73b63328_499d_11ec_bda8_0242ac1c0002row6_col8\" class=\"data row6 col8\" >0</td>\n",
              "                        <td id=\"T_73b63328_499d_11ec_bda8_0242ac1c0002row6_col9\" class=\"data row6 col9\" >0</td>\n",
              "                        <td id=\"T_73b63328_499d_11ec_bda8_0242ac1c0002row6_col10\" class=\"data row6 col10\" >0</td>\n",
              "                        <td id=\"T_73b63328_499d_11ec_bda8_0242ac1c0002row6_col11\" class=\"data row6 col11\" >0</td>\n",
              "            </tr>\n",
              "            <tr>\n",
              "                        <th id=\"T_73b63328_499d_11ec_bda8_0242ac1c0002level0_row7\" class=\"row_heading level0 row7\" >Actual F24-26</th>\n",
              "                        <td id=\"T_73b63328_499d_11ec_bda8_0242ac1c0002row7_col0\" class=\"data row7 col0\" >0</td>\n",
              "                        <td id=\"T_73b63328_499d_11ec_bda8_0242ac1c0002row7_col1\" class=\"data row7 col1\" >0</td>\n",
              "                        <td id=\"T_73b63328_499d_11ec_bda8_0242ac1c0002row7_col2\" class=\"data row7 col2\" >0</td>\n",
              "                        <td id=\"T_73b63328_499d_11ec_bda8_0242ac1c0002row7_col3\" class=\"data row7 col3\" >0</td>\n",
              "                        <td id=\"T_73b63328_499d_11ec_bda8_0242ac1c0002row7_col4\" class=\"data row7 col4\" >2</td>\n",
              "                        <td id=\"T_73b63328_499d_11ec_bda8_0242ac1c0002row7_col5\" class=\"data row7 col5\" >0</td>\n",
              "                        <td id=\"T_73b63328_499d_11ec_bda8_0242ac1c0002row7_col6\" class=\"data row7 col6\" >0</td>\n",
              "                        <td id=\"T_73b63328_499d_11ec_bda8_0242ac1c0002row7_col7\" class=\"data row7 col7\" >26</td>\n",
              "                        <td id=\"T_73b63328_499d_11ec_bda8_0242ac1c0002row7_col8\" class=\"data row7 col8\" >0</td>\n",
              "                        <td id=\"T_73b63328_499d_11ec_bda8_0242ac1c0002row7_col9\" class=\"data row7 col9\" >0</td>\n",
              "                        <td id=\"T_73b63328_499d_11ec_bda8_0242ac1c0002row7_col10\" class=\"data row7 col10\" >1</td>\n",
              "                        <td id=\"T_73b63328_499d_11ec_bda8_0242ac1c0002row7_col11\" class=\"data row7 col11\" >0</td>\n",
              "            </tr>\n",
              "            <tr>\n",
              "                        <th id=\"T_73b63328_499d_11ec_bda8_0242ac1c0002level0_row8\" class=\"row_heading level0 row8\" >Actual F27-28</th>\n",
              "                        <td id=\"T_73b63328_499d_11ec_bda8_0242ac1c0002row8_col0\" class=\"data row8 col0\" >0</td>\n",
              "                        <td id=\"T_73b63328_499d_11ec_bda8_0242ac1c0002row8_col1\" class=\"data row8 col1\" >0</td>\n",
              "                        <td id=\"T_73b63328_499d_11ec_bda8_0242ac1c0002row8_col2\" class=\"data row8 col2\" >0</td>\n",
              "                        <td id=\"T_73b63328_499d_11ec_bda8_0242ac1c0002row8_col3\" class=\"data row8 col3\" >0</td>\n",
              "                        <td id=\"T_73b63328_499d_11ec_bda8_0242ac1c0002row8_col4\" class=\"data row8 col4\" >0</td>\n",
              "                        <td id=\"T_73b63328_499d_11ec_bda8_0242ac1c0002row8_col5\" class=\"data row8 col5\" >0</td>\n",
              "                        <td id=\"T_73b63328_499d_11ec_bda8_0242ac1c0002row8_col6\" class=\"data row8 col6\" >0</td>\n",
              "                        <td id=\"T_73b63328_499d_11ec_bda8_0242ac1c0002row8_col7\" class=\"data row8 col7\" >0</td>\n",
              "                        <td id=\"T_73b63328_499d_11ec_bda8_0242ac1c0002row8_col8\" class=\"data row8 col8\" >57</td>\n",
              "                        <td id=\"T_73b63328_499d_11ec_bda8_0242ac1c0002row8_col9\" class=\"data row8 col9\" >0</td>\n",
              "                        <td id=\"T_73b63328_499d_11ec_bda8_0242ac1c0002row8_col10\" class=\"data row8 col10\" >0</td>\n",
              "                        <td id=\"T_73b63328_499d_11ec_bda8_0242ac1c0002row8_col11\" class=\"data row8 col11\" >0</td>\n",
              "            </tr>\n",
              "            <tr>\n",
              "                        <th id=\"T_73b63328_499d_11ec_bda8_0242ac1c0002level0_row9\" class=\"row_heading level0 row9\" >Actual F29-32</th>\n",
              "                        <td id=\"T_73b63328_499d_11ec_bda8_0242ac1c0002row9_col0\" class=\"data row9 col0\" >0</td>\n",
              "                        <td id=\"T_73b63328_499d_11ec_bda8_0242ac1c0002row9_col1\" class=\"data row9 col1\" >0</td>\n",
              "                        <td id=\"T_73b63328_499d_11ec_bda8_0242ac1c0002row9_col2\" class=\"data row9 col2\" >0</td>\n",
              "                        <td id=\"T_73b63328_499d_11ec_bda8_0242ac1c0002row9_col3\" class=\"data row9 col3\" >0</td>\n",
              "                        <td id=\"T_73b63328_499d_11ec_bda8_0242ac1c0002row9_col4\" class=\"data row9 col4\" >0</td>\n",
              "                        <td id=\"T_73b63328_499d_11ec_bda8_0242ac1c0002row9_col5\" class=\"data row9 col5\" >0</td>\n",
              "                        <td id=\"T_73b63328_499d_11ec_bda8_0242ac1c0002row9_col6\" class=\"data row9 col6\" >0</td>\n",
              "                        <td id=\"T_73b63328_499d_11ec_bda8_0242ac1c0002row9_col7\" class=\"data row9 col7\" >0</td>\n",
              "                        <td id=\"T_73b63328_499d_11ec_bda8_0242ac1c0002row9_col8\" class=\"data row9 col8\" >0</td>\n",
              "                        <td id=\"T_73b63328_499d_11ec_bda8_0242ac1c0002row9_col9\" class=\"data row9 col9\" >81</td>\n",
              "                        <td id=\"T_73b63328_499d_11ec_bda8_0242ac1c0002row9_col10\" class=\"data row9 col10\" >0</td>\n",
              "                        <td id=\"T_73b63328_499d_11ec_bda8_0242ac1c0002row9_col11\" class=\"data row9 col11\" >0</td>\n",
              "            </tr>\n",
              "            <tr>\n",
              "                        <th id=\"T_73b63328_499d_11ec_bda8_0242ac1c0002level0_row10\" class=\"row_heading level0 row10\" >Actual F33-42</th>\n",
              "                        <td id=\"T_73b63328_499d_11ec_bda8_0242ac1c0002row10_col0\" class=\"data row10 col0\" >0</td>\n",
              "                        <td id=\"T_73b63328_499d_11ec_bda8_0242ac1c0002row10_col1\" class=\"data row10 col1\" >0</td>\n",
              "                        <td id=\"T_73b63328_499d_11ec_bda8_0242ac1c0002row10_col2\" class=\"data row10 col2\" >0</td>\n",
              "                        <td id=\"T_73b63328_499d_11ec_bda8_0242ac1c0002row10_col3\" class=\"data row10 col3\" >0</td>\n",
              "                        <td id=\"T_73b63328_499d_11ec_bda8_0242ac1c0002row10_col4\" class=\"data row10 col4\" >0</td>\n",
              "                        <td id=\"T_73b63328_499d_11ec_bda8_0242ac1c0002row10_col5\" class=\"data row10 col5\" >0</td>\n",
              "                        <td id=\"T_73b63328_499d_11ec_bda8_0242ac1c0002row10_col6\" class=\"data row10 col6\" >0</td>\n",
              "                        <td id=\"T_73b63328_499d_11ec_bda8_0242ac1c0002row10_col7\" class=\"data row10 col7\" >0</td>\n",
              "                        <td id=\"T_73b63328_499d_11ec_bda8_0242ac1c0002row10_col8\" class=\"data row10 col8\" >0</td>\n",
              "                        <td id=\"T_73b63328_499d_11ec_bda8_0242ac1c0002row10_col9\" class=\"data row10 col9\" >0</td>\n",
              "                        <td id=\"T_73b63328_499d_11ec_bda8_0242ac1c0002row10_col10\" class=\"data row10 col10\" >136</td>\n",
              "                        <td id=\"T_73b63328_499d_11ec_bda8_0242ac1c0002row10_col11\" class=\"data row10 col11\" >1</td>\n",
              "            </tr>\n",
              "            <tr>\n",
              "                        <th id=\"T_73b63328_499d_11ec_bda8_0242ac1c0002level0_row11\" class=\"row_heading level0 row11\" >Actual F43+</th>\n",
              "                        <td id=\"T_73b63328_499d_11ec_bda8_0242ac1c0002row11_col0\" class=\"data row11 col0\" >0</td>\n",
              "                        <td id=\"T_73b63328_499d_11ec_bda8_0242ac1c0002row11_col1\" class=\"data row11 col1\" >0</td>\n",
              "                        <td id=\"T_73b63328_499d_11ec_bda8_0242ac1c0002row11_col2\" class=\"data row11 col2\" >0</td>\n",
              "                        <td id=\"T_73b63328_499d_11ec_bda8_0242ac1c0002row11_col3\" class=\"data row11 col3\" >0</td>\n",
              "                        <td id=\"T_73b63328_499d_11ec_bda8_0242ac1c0002row11_col4\" class=\"data row11 col4\" >2</td>\n",
              "                        <td id=\"T_73b63328_499d_11ec_bda8_0242ac1c0002row11_col5\" class=\"data row11 col5\" >1</td>\n",
              "                        <td id=\"T_73b63328_499d_11ec_bda8_0242ac1c0002row11_col6\" class=\"data row11 col6\" >0</td>\n",
              "                        <td id=\"T_73b63328_499d_11ec_bda8_0242ac1c0002row11_col7\" class=\"data row11 col7\" >0</td>\n",
              "                        <td id=\"T_73b63328_499d_11ec_bda8_0242ac1c0002row11_col8\" class=\"data row11 col8\" >0</td>\n",
              "                        <td id=\"T_73b63328_499d_11ec_bda8_0242ac1c0002row11_col9\" class=\"data row11 col9\" >0</td>\n",
              "                        <td id=\"T_73b63328_499d_11ec_bda8_0242ac1c0002row11_col10\" class=\"data row11 col10\" >0</td>\n",
              "                        <td id=\"T_73b63328_499d_11ec_bda8_0242ac1c0002row11_col11\" class=\"data row11 col11\" >170</td>\n",
              "            </tr>\n",
              "    </tbody></table>"
            ],
            "text/plain": [
              "<pandas.io.formats.style.Styler at 0x7f3d165d0390>"
            ]
          },
          "metadata": {},
          "execution_count": 13
        }
      ]
    },
    {
      "cell_type": "code",
      "metadata": {
        "id": "D5QCqZ-yvt0A",
        "colab": {
          "base_uri": "https://localhost:8080/"
        },
        "outputId": "601093ea-4f7f-458e-b608-344b88574053"
      },
      "source": [
        "print(\"Classification Report:\")\n",
        "print()\n",
        "print(classification_report(y_test, y_pred))"
      ],
      "execution_count": null,
      "outputs": [
        {
          "output_type": "stream",
          "name": "stdout",
          "text": [
            "Classification Report:\n",
            "\n",
            "              precision    recall  f1-score   support\n",
            "\n",
            "           0       0.95      0.98      0.97       128\n",
            "           1       1.00      0.99      0.99       258\n",
            "           2       0.99      0.98      0.99       192\n",
            "           3       0.99      0.98      0.98       283\n",
            "           4       0.99      0.99      0.99       539\n",
            "           5       0.99      0.99      0.99       595\n",
            "           6       1.00      1.00      1.00        39\n",
            "           7       1.00      0.90      0.95        29\n",
            "           8       0.98      1.00      0.99        57\n",
            "           9       0.98      1.00      0.99        81\n",
            "          10       0.99      0.99      0.99       137\n",
            "          11       0.98      0.98      0.98       173\n",
            "\n",
            "    accuracy                           0.99      2511\n",
            "   macro avg       0.99      0.98      0.98      2511\n",
            "weighted avg       0.99      0.99      0.99      2511\n",
            "\n"
          ]
        }
      ]
    },
    {
      "cell_type": "code",
      "metadata": {
        "id": "1cqnlH9TJlnX"
      },
      "source": [
        "def multiclass_roc_auc_score(y_test, y_pred, average=\"macro\"):\n",
        "  lb = LabelBinarizer()\n",
        "  lb.fit(y_test)\n",
        "  y_test = lb.transform(y_test)\n",
        "  y_pred = lb.transform(y_pred)\n",
        "  return roc_auc_score(y_test, y_pred, average=average)\n"
      ],
      "execution_count": null,
      "outputs": []
    },
    {
      "cell_type": "code",
      "metadata": {
        "id": "7wwM9nBncn5S",
        "colab": {
          "base_uri": "https://localhost:8080/"
        },
        "outputId": "75f70b96-bd70-4cd4-d3e3-d26f1d4b0f1f"
      },
      "source": [
        "multiclass_roc_auc_score(y_test, y_pred, average=\"macro\")"
      ],
      "execution_count": null,
      "outputs": [
        {
          "output_type": "execute_result",
          "data": {
            "text/plain": [
              "0.9902451972900056"
            ]
          },
          "metadata": {},
          "execution_count": 16
        }
      ]
    },
    {
      "cell_type": "markdown",
      "metadata": {
        "id": "ACMbdWLph5Tw"
      },
      "source": [
        "# K Nearest Neighbor \n"
      ]
    },
    {
      "cell_type": "code",
      "metadata": {
        "id": "b2EorFLYh4SL",
        "colab": {
          "base_uri": "https://localhost:8080/"
        },
        "outputId": "11233e4f-ff48-440e-9ccc-44d43013919b"
      },
      "source": [
        "pipeline = Pipeline(\n",
        "    [(\"preprocessing\", preprocessing), (\"knn\", KNeighborsClassifier())], verbose=True\n",
        ")\n",
        "\n",
        "pipeline.fit(X_train, y_train)\n"
      ],
      "execution_count": null,
      "outputs": [
        {
          "output_type": "stream",
          "name": "stdout",
          "text": [
            "[Pipeline] ..... (step 1 of 2) Processing preprocessing, total=   0.0s\n",
            "[Pipeline] ............... (step 2 of 2) Processing knn, total=   0.0s\n"
          ]
        },
        {
          "output_type": "execute_result",
          "data": {
            "text/plain": [
              "Pipeline(steps=[('preprocessing',\n",
              "                 ColumnTransformer(remainder='passthrough',\n",
              "                                   transformers=[('scale', StandardScaler(),\n",
              "                                                  ['device_id', 'event_id'])])),\n",
              "                ('knn', KNeighborsClassifier())],\n",
              "         verbose=True)"
            ]
          },
          "metadata": {},
          "execution_count": 17
        }
      ]
    },
    {
      "cell_type": "code",
      "metadata": {
        "id": "UzqM6Ob-jmYl",
        "colab": {
          "base_uri": "https://localhost:8080/"
        },
        "outputId": "a8464b11-b6b2-417e-e36b-d288c7b043dc"
      },
      "source": [
        "grid = {\n",
        "    \"knn__n_neighbors\": [50, 100, 150],\n",
        "    \"knn__weights\": [\"distance\"],\n",
        "    \"knn__leaf_size\": [1, 10, 20],\n",
        "}\n",
        "\n",
        "model = GridSearchCV(pipeline, grid, n_jobs=-1, verbose=2, cv=2)\n",
        "model.fit(X_train, y_train)\n"
      ],
      "execution_count": null,
      "outputs": [
        {
          "output_type": "stream",
          "name": "stdout",
          "text": [
            "Fitting 2 folds for each of 9 candidates, totalling 18 fits\n",
            "[Pipeline] ..... (step 1 of 2) Processing preprocessing, total=   0.0s\n",
            "[Pipeline] ............... (step 2 of 2) Processing knn, total=   0.0s\n"
          ]
        },
        {
          "output_type": "execute_result",
          "data": {
            "text/plain": [
              "GridSearchCV(cv=2,\n",
              "             estimator=Pipeline(steps=[('preprocessing',\n",
              "                                        ColumnTransformer(remainder='passthrough',\n",
              "                                                          transformers=[('scale',\n",
              "                                                                         StandardScaler(),\n",
              "                                                                         ['device_id',\n",
              "                                                                          'event_id'])])),\n",
              "                                       ('knn', KNeighborsClassifier())],\n",
              "                                verbose=True),\n",
              "             n_jobs=-1,\n",
              "             param_grid={'knn__leaf_size': [1, 10, 20],\n",
              "                         'knn__n_neighbors': [50, 100, 150],\n",
              "                         'knn__weights': ['distance']},\n",
              "             verbose=2)"
            ]
          },
          "metadata": {},
          "execution_count": 18
        }
      ]
    },
    {
      "cell_type": "code",
      "metadata": {
        "id": "p9GEb-BWoiC3",
        "colab": {
          "base_uri": "https://localhost:8080/"
        },
        "outputId": "6df586a4-efdc-4d31-acd6-2f10e61d1b2d"
      },
      "source": [
        "# Model still appears to be extremely overfitting\n",
        "train_score = model.score(X_train, y_train)\n",
        "test_score = model.score(X_test, y_test)\n",
        "\n",
        "print(f\"Train score: {train_score}\")\n",
        "print(f\"Test score: {test_score}\")"
      ],
      "execution_count": null,
      "outputs": [
        {
          "output_type": "stream",
          "name": "stdout",
          "text": [
            "Train score: 1.0\n",
            "Test score: 0.8622062923138192\n"
          ]
        }
      ]
    },
    {
      "cell_type": "code",
      "metadata": {
        "id": "0SKSDKtpovWL",
        "colab": {
          "base_uri": "https://localhost:8080/",
          "height": 425
        },
        "outputId": "5a0ada11-c8e5-45bf-c1af-790bbe6d9813"
      },
      "source": [
        "y_pred = model.predict(X_test)\n",
        "\n",
        "con_mat = pd.DataFrame(\n",
        "    confusion_matrix(y_test, y_pred),\n",
        "    index=[\n",
        "        \"Actual M22-\",\n",
        "        \"Actual M23-26\",\n",
        "        \"Actual M27-28\",\n",
        "        \"Actual M29-31\",\n",
        "        \"Actual M32-38\",\n",
        "        \"Actual M39+\",\n",
        "        \"Actual F23-\",\n",
        "        \"Actual F24-26\",\n",
        "        \"Actual F27-28\",\n",
        "        \"Actual F29-32\",\n",
        "        \"Actual F33-42\",\n",
        "        \"Actual F43+\",\n",
        "    ],\n",
        "    columns=[\n",
        "        \"Predicted M22-\",\n",
        "        \"Predicted M23-26\",\n",
        "        \"Predicted M27-28\",\n",
        "        \"Predicted M29-31\",\n",
        "        \"Predicted M32-38\",\n",
        "        \"Predicted M39+\",\n",
        "        \"Predicted F23-\",\n",
        "        \"Predicted F24-26\",\n",
        "        \"Predicted F27-28\",\n",
        "        \"Predicted F29-32\",\n",
        "        \"Predicted F33-42\",\n",
        "        \"Predicted F43+\",\n",
        "    ],\n",
        ")\n",
        "con_mat.style.background_gradient(axis=None)\n",
        "\n",
        "\n"
      ],
      "execution_count": null,
      "outputs": [
        {
          "output_type": "execute_result",
          "data": {
            "text/html": [
              "<style  type=\"text/css\" >\n",
              "#T_7ccf21d6_499d_11ec_bda8_0242ac1c0002row0_col0{\n",
              "            background-color:  #dcdaeb;\n",
              "            color:  #000000;\n",
              "        }#T_7ccf21d6_499d_11ec_bda8_0242ac1c0002row0_col1,#T_7ccf21d6_499d_11ec_bda8_0242ac1c0002row0_col2,#T_7ccf21d6_499d_11ec_bda8_0242ac1c0002row0_col3,#T_7ccf21d6_499d_11ec_bda8_0242ac1c0002row0_col6,#T_7ccf21d6_499d_11ec_bda8_0242ac1c0002row0_col7,#T_7ccf21d6_499d_11ec_bda8_0242ac1c0002row0_col8,#T_7ccf21d6_499d_11ec_bda8_0242ac1c0002row0_col9,#T_7ccf21d6_499d_11ec_bda8_0242ac1c0002row0_col10,#T_7ccf21d6_499d_11ec_bda8_0242ac1c0002row0_col11,#T_7ccf21d6_499d_11ec_bda8_0242ac1c0002row1_col2,#T_7ccf21d6_499d_11ec_bda8_0242ac1c0002row1_col3,#T_7ccf21d6_499d_11ec_bda8_0242ac1c0002row1_col6,#T_7ccf21d6_499d_11ec_bda8_0242ac1c0002row1_col7,#T_7ccf21d6_499d_11ec_bda8_0242ac1c0002row1_col8,#T_7ccf21d6_499d_11ec_bda8_0242ac1c0002row1_col9,#T_7ccf21d6_499d_11ec_bda8_0242ac1c0002row1_col11,#T_7ccf21d6_499d_11ec_bda8_0242ac1c0002row2_col0,#T_7ccf21d6_499d_11ec_bda8_0242ac1c0002row2_col3,#T_7ccf21d6_499d_11ec_bda8_0242ac1c0002row2_col6,#T_7ccf21d6_499d_11ec_bda8_0242ac1c0002row2_col7,#T_7ccf21d6_499d_11ec_bda8_0242ac1c0002row2_col8,#T_7ccf21d6_499d_11ec_bda8_0242ac1c0002row2_col9,#T_7ccf21d6_499d_11ec_bda8_0242ac1c0002row2_col10,#T_7ccf21d6_499d_11ec_bda8_0242ac1c0002row2_col11,#T_7ccf21d6_499d_11ec_bda8_0242ac1c0002row3_col2,#T_7ccf21d6_499d_11ec_bda8_0242ac1c0002row3_col6,#T_7ccf21d6_499d_11ec_bda8_0242ac1c0002row3_col7,#T_7ccf21d6_499d_11ec_bda8_0242ac1c0002row3_col8,#T_7ccf21d6_499d_11ec_bda8_0242ac1c0002row3_col9,#T_7ccf21d6_499d_11ec_bda8_0242ac1c0002row3_col10,#T_7ccf21d6_499d_11ec_bda8_0242ac1c0002row3_col11,#T_7ccf21d6_499d_11ec_bda8_0242ac1c0002row4_col0,#T_7ccf21d6_499d_11ec_bda8_0242ac1c0002row4_col1,#T_7ccf21d6_499d_11ec_bda8_0242ac1c0002row4_col2,#T_7ccf21d6_499d_11ec_bda8_0242ac1c0002row4_col6,#T_7ccf21d6_499d_11ec_bda8_0242ac1c0002row4_col7,#T_7ccf21d6_499d_11ec_bda8_0242ac1c0002row4_col8,#T_7ccf21d6_499d_11ec_bda8_0242ac1c0002row4_col10,#T_7ccf21d6_499d_11ec_bda8_0242ac1c0002row4_col11,#T_7ccf21d6_499d_11ec_bda8_0242ac1c0002row5_col0,#T_7ccf21d6_499d_11ec_bda8_0242ac1c0002row5_col1,#T_7ccf21d6_499d_11ec_bda8_0242ac1c0002row5_col2,#T_7ccf21d6_499d_11ec_bda8_0242ac1c0002row5_col3,#T_7ccf21d6_499d_11ec_bda8_0242ac1c0002row5_col6,#T_7ccf21d6_499d_11ec_bda8_0242ac1c0002row5_col7,#T_7ccf21d6_499d_11ec_bda8_0242ac1c0002row5_col8,#T_7ccf21d6_499d_11ec_bda8_0242ac1c0002row5_col11,#T_7ccf21d6_499d_11ec_bda8_0242ac1c0002row6_col0,#T_7ccf21d6_499d_11ec_bda8_0242ac1c0002row6_col1,#T_7ccf21d6_499d_11ec_bda8_0242ac1c0002row6_col2,#T_7ccf21d6_499d_11ec_bda8_0242ac1c0002row6_col3,#T_7ccf21d6_499d_11ec_bda8_0242ac1c0002row6_col7,#T_7ccf21d6_499d_11ec_bda8_0242ac1c0002row6_col8,#T_7ccf21d6_499d_11ec_bda8_0242ac1c0002row6_col9,#T_7ccf21d6_499d_11ec_bda8_0242ac1c0002row6_col10,#T_7ccf21d6_499d_11ec_bda8_0242ac1c0002row6_col11,#T_7ccf21d6_499d_11ec_bda8_0242ac1c0002row7_col0,#T_7ccf21d6_499d_11ec_bda8_0242ac1c0002row7_col1,#T_7ccf21d6_499d_11ec_bda8_0242ac1c0002row7_col2,#T_7ccf21d6_499d_11ec_bda8_0242ac1c0002row7_col3,#T_7ccf21d6_499d_11ec_bda8_0242ac1c0002row7_col4,#T_7ccf21d6_499d_11ec_bda8_0242ac1c0002row7_col6,#T_7ccf21d6_499d_11ec_bda8_0242ac1c0002row7_col8,#T_7ccf21d6_499d_11ec_bda8_0242ac1c0002row7_col9,#T_7ccf21d6_499d_11ec_bda8_0242ac1c0002row7_col10,#T_7ccf21d6_499d_11ec_bda8_0242ac1c0002row7_col11,#T_7ccf21d6_499d_11ec_bda8_0242ac1c0002row8_col0,#T_7ccf21d6_499d_11ec_bda8_0242ac1c0002row8_col2,#T_7ccf21d6_499d_11ec_bda8_0242ac1c0002row8_col4,#T_7ccf21d6_499d_11ec_bda8_0242ac1c0002row8_col6,#T_7ccf21d6_499d_11ec_bda8_0242ac1c0002row8_col7,#T_7ccf21d6_499d_11ec_bda8_0242ac1c0002row8_col9,#T_7ccf21d6_499d_11ec_bda8_0242ac1c0002row8_col10,#T_7ccf21d6_499d_11ec_bda8_0242ac1c0002row8_col11,#T_7ccf21d6_499d_11ec_bda8_0242ac1c0002row9_col0,#T_7ccf21d6_499d_11ec_bda8_0242ac1c0002row9_col1,#T_7ccf21d6_499d_11ec_bda8_0242ac1c0002row9_col2,#T_7ccf21d6_499d_11ec_bda8_0242ac1c0002row9_col3,#T_7ccf21d6_499d_11ec_bda8_0242ac1c0002row9_col6,#T_7ccf21d6_499d_11ec_bda8_0242ac1c0002row9_col7,#T_7ccf21d6_499d_11ec_bda8_0242ac1c0002row9_col8,#T_7ccf21d6_499d_11ec_bda8_0242ac1c0002row9_col10,#T_7ccf21d6_499d_11ec_bda8_0242ac1c0002row9_col11,#T_7ccf21d6_499d_11ec_bda8_0242ac1c0002row10_col0,#T_7ccf21d6_499d_11ec_bda8_0242ac1c0002row10_col1,#T_7ccf21d6_499d_11ec_bda8_0242ac1c0002row10_col2,#T_7ccf21d6_499d_11ec_bda8_0242ac1c0002row10_col3,#T_7ccf21d6_499d_11ec_bda8_0242ac1c0002row10_col4,#T_7ccf21d6_499d_11ec_bda8_0242ac1c0002row10_col6,#T_7ccf21d6_499d_11ec_bda8_0242ac1c0002row10_col7,#T_7ccf21d6_499d_11ec_bda8_0242ac1c0002row10_col8,#T_7ccf21d6_499d_11ec_bda8_0242ac1c0002row10_col9,#T_7ccf21d6_499d_11ec_bda8_0242ac1c0002row10_col11,#T_7ccf21d6_499d_11ec_bda8_0242ac1c0002row11_col0,#T_7ccf21d6_499d_11ec_bda8_0242ac1c0002row11_col1,#T_7ccf21d6_499d_11ec_bda8_0242ac1c0002row11_col2,#T_7ccf21d6_499d_11ec_bda8_0242ac1c0002row11_col6,#T_7ccf21d6_499d_11ec_bda8_0242ac1c0002row11_col7,#T_7ccf21d6_499d_11ec_bda8_0242ac1c0002row11_col8,#T_7ccf21d6_499d_11ec_bda8_0242ac1c0002row11_col9{\n",
              "            background-color:  #fff7fb;\n",
              "            color:  #000000;\n",
              "        }#T_7ccf21d6_499d_11ec_bda8_0242ac1c0002row0_col4,#T_7ccf21d6_499d_11ec_bda8_0242ac1c0002row0_col5,#T_7ccf21d6_499d_11ec_bda8_0242ac1c0002row4_col3{\n",
              "            background-color:  #fdf5fa;\n",
              "            color:  #000000;\n",
              "        }#T_7ccf21d6_499d_11ec_bda8_0242ac1c0002row1_col0,#T_7ccf21d6_499d_11ec_bda8_0242ac1c0002row1_col10,#T_7ccf21d6_499d_11ec_bda8_0242ac1c0002row2_col4,#T_7ccf21d6_499d_11ec_bda8_0242ac1c0002row3_col1,#T_7ccf21d6_499d_11ec_bda8_0242ac1c0002row4_col9,#T_7ccf21d6_499d_11ec_bda8_0242ac1c0002row5_col9,#T_7ccf21d6_499d_11ec_bda8_0242ac1c0002row6_col4,#T_7ccf21d6_499d_11ec_bda8_0242ac1c0002row6_col5,#T_7ccf21d6_499d_11ec_bda8_0242ac1c0002row7_col5,#T_7ccf21d6_499d_11ec_bda8_0242ac1c0002row8_col3,#T_7ccf21d6_499d_11ec_bda8_0242ac1c0002row9_col4,#T_7ccf21d6_499d_11ec_bda8_0242ac1c0002row11_col3,#T_7ccf21d6_499d_11ec_bda8_0242ac1c0002row11_col10{\n",
              "            background-color:  #fef6fb;\n",
              "            color:  #000000;\n",
              "        }#T_7ccf21d6_499d_11ec_bda8_0242ac1c0002row1_col1{\n",
              "            background-color:  #97b7d7;\n",
              "            color:  #000000;\n",
              "        }#T_7ccf21d6_499d_11ec_bda8_0242ac1c0002row1_col4,#T_7ccf21d6_499d_11ec_bda8_0242ac1c0002row2_col1,#T_7ccf21d6_499d_11ec_bda8_0242ac1c0002row8_col1,#T_7ccf21d6_499d_11ec_bda8_0242ac1c0002row8_col5{\n",
              "            background-color:  #fef6fa;\n",
              "            color:  #000000;\n",
              "        }#T_7ccf21d6_499d_11ec_bda8_0242ac1c0002row1_col5,#T_7ccf21d6_499d_11ec_bda8_0242ac1c0002row9_col5,#T_7ccf21d6_499d_11ec_bda8_0242ac1c0002row11_col4,#T_7ccf21d6_499d_11ec_bda8_0242ac1c0002row11_col5{\n",
              "            background-color:  #fbf4f9;\n",
              "            color:  #000000;\n",
              "        }#T_7ccf21d6_499d_11ec_bda8_0242ac1c0002row2_col2{\n",
              "            background-color:  #c2cbe2;\n",
              "            color:  #000000;\n",
              "        }#T_7ccf21d6_499d_11ec_bda8_0242ac1c0002row2_col5,#T_7ccf21d6_499d_11ec_bda8_0242ac1c0002row5_col4{\n",
              "            background-color:  #faf3f9;\n",
              "            color:  #000000;\n",
              "        }#T_7ccf21d6_499d_11ec_bda8_0242ac1c0002row3_col0,#T_7ccf21d6_499d_11ec_bda8_0242ac1c0002row5_col10{\n",
              "            background-color:  #fcf4fa;\n",
              "            color:  #000000;\n",
              "        }#T_7ccf21d6_499d_11ec_bda8_0242ac1c0002row3_col3{\n",
              "            background-color:  #93b5d6;\n",
              "            color:  #000000;\n",
              "        }#T_7ccf21d6_499d_11ec_bda8_0242ac1c0002row3_col4,#T_7ccf21d6_499d_11ec_bda8_0242ac1c0002row3_col5{\n",
              "            background-color:  #fbf3f9;\n",
              "            color:  #000000;\n",
              "        }#T_7ccf21d6_499d_11ec_bda8_0242ac1c0002row4_col4{\n",
              "            background-color:  #045b8e;\n",
              "            color:  #f1f1f1;\n",
              "        }#T_7ccf21d6_499d_11ec_bda8_0242ac1c0002row4_col5,#T_7ccf21d6_499d_11ec_bda8_0242ac1c0002row8_col8{\n",
              "            background-color:  #f4edf6;\n",
              "            color:  #000000;\n",
              "        }#T_7ccf21d6_499d_11ec_bda8_0242ac1c0002row5_col5{\n",
              "            background-color:  #023858;\n",
              "            color:  #f1f1f1;\n",
              "        }#T_7ccf21d6_499d_11ec_bda8_0242ac1c0002row6_col6{\n",
              "            background-color:  #f7f0f7;\n",
              "            color:  #000000;\n",
              "        }#T_7ccf21d6_499d_11ec_bda8_0242ac1c0002row7_col7{\n",
              "            background-color:  #f8f1f8;\n",
              "            color:  #000000;\n",
              "        }#T_7ccf21d6_499d_11ec_bda8_0242ac1c0002row9_col9{\n",
              "            background-color:  #eee9f3;\n",
              "            color:  #000000;\n",
              "        }#T_7ccf21d6_499d_11ec_bda8_0242ac1c0002row10_col5{\n",
              "            background-color:  #faf2f8;\n",
              "            color:  #000000;\n",
              "        }#T_7ccf21d6_499d_11ec_bda8_0242ac1c0002row10_col10{\n",
              "            background-color:  #dddbec;\n",
              "            color:  #000000;\n",
              "        }#T_7ccf21d6_499d_11ec_bda8_0242ac1c0002row11_col11{\n",
              "            background-color:  #d2d3e7;\n",
              "            color:  #000000;\n",
              "        }</style><table id=\"T_7ccf21d6_499d_11ec_bda8_0242ac1c0002\" class=\"dataframe\"><thead>    <tr>        <th class=\"blank level0\" ></th>        <th class=\"col_heading level0 col0\" >Predicted M22-</th>        <th class=\"col_heading level0 col1\" >Predicted M23-26</th>        <th class=\"col_heading level0 col2\" >Predicted M27-28</th>        <th class=\"col_heading level0 col3\" >Predicted M29-31</th>        <th class=\"col_heading level0 col4\" >Predicted M32-38</th>        <th class=\"col_heading level0 col5\" >Predicted M39+</th>        <th class=\"col_heading level0 col6\" >Predicted F23-</th>        <th class=\"col_heading level0 col7\" >Predicted F24-26</th>        <th class=\"col_heading level0 col8\" >Predicted F27-28</th>        <th class=\"col_heading level0 col9\" >Predicted F29-32</th>        <th class=\"col_heading level0 col10\" >Predicted F33-42</th>        <th class=\"col_heading level0 col11\" >Predicted F43+</th>    </tr></thead><tbody>\n",
              "                <tr>\n",
              "                        <th id=\"T_7ccf21d6_499d_11ec_bda8_0242ac1c0002level0_row0\" class=\"row_heading level0 row0\" >Actual M22-</th>\n",
              "                        <td id=\"T_7ccf21d6_499d_11ec_bda8_0242ac1c0002row0_col0\" class=\"data row0 col0\" >109</td>\n",
              "                        <td id=\"T_7ccf21d6_499d_11ec_bda8_0242ac1c0002row0_col1\" class=\"data row0 col1\" >1</td>\n",
              "                        <td id=\"T_7ccf21d6_499d_11ec_bda8_0242ac1c0002row0_col2\" class=\"data row0 col2\" >0</td>\n",
              "                        <td id=\"T_7ccf21d6_499d_11ec_bda8_0242ac1c0002row0_col3\" class=\"data row0 col3\" >2</td>\n",
              "                        <td id=\"T_7ccf21d6_499d_11ec_bda8_0242ac1c0002row0_col4\" class=\"data row0 col4\" >8</td>\n",
              "                        <td id=\"T_7ccf21d6_499d_11ec_bda8_0242ac1c0002row0_col5\" class=\"data row0 col5\" >8</td>\n",
              "                        <td id=\"T_7ccf21d6_499d_11ec_bda8_0242ac1c0002row0_col6\" class=\"data row0 col6\" >0</td>\n",
              "                        <td id=\"T_7ccf21d6_499d_11ec_bda8_0242ac1c0002row0_col7\" class=\"data row0 col7\" >0</td>\n",
              "                        <td id=\"T_7ccf21d6_499d_11ec_bda8_0242ac1c0002row0_col8\" class=\"data row0 col8\" >0</td>\n",
              "                        <td id=\"T_7ccf21d6_499d_11ec_bda8_0242ac1c0002row0_col9\" class=\"data row0 col9\" >0</td>\n",
              "                        <td id=\"T_7ccf21d6_499d_11ec_bda8_0242ac1c0002row0_col10\" class=\"data row0 col10\" >0</td>\n",
              "                        <td id=\"T_7ccf21d6_499d_11ec_bda8_0242ac1c0002row0_col11\" class=\"data row0 col11\" >0</td>\n",
              "            </tr>\n",
              "            <tr>\n",
              "                        <th id=\"T_7ccf21d6_499d_11ec_bda8_0242ac1c0002level0_row1\" class=\"row_heading level0 row1\" >Actual M23-26</th>\n",
              "                        <td id=\"T_7ccf21d6_499d_11ec_bda8_0242ac1c0002row1_col0\" class=\"data row1 col0\" >4</td>\n",
              "                        <td id=\"T_7ccf21d6_499d_11ec_bda8_0242ac1c0002row1_col1\" class=\"data row1 col1\" >228</td>\n",
              "                        <td id=\"T_7ccf21d6_499d_11ec_bda8_0242ac1c0002row1_col2\" class=\"data row1 col2\" >0</td>\n",
              "                        <td id=\"T_7ccf21d6_499d_11ec_bda8_0242ac1c0002row1_col3\" class=\"data row1 col3\" >1</td>\n",
              "                        <td id=\"T_7ccf21d6_499d_11ec_bda8_0242ac1c0002row1_col4\" class=\"data row1 col4\" >5</td>\n",
              "                        <td id=\"T_7ccf21d6_499d_11ec_bda8_0242ac1c0002row1_col5\" class=\"data row1 col5\" >13</td>\n",
              "                        <td id=\"T_7ccf21d6_499d_11ec_bda8_0242ac1c0002row1_col6\" class=\"data row1 col6\" >0</td>\n",
              "                        <td id=\"T_7ccf21d6_499d_11ec_bda8_0242ac1c0002row1_col7\" class=\"data row1 col7\" >0</td>\n",
              "                        <td id=\"T_7ccf21d6_499d_11ec_bda8_0242ac1c0002row1_col8\" class=\"data row1 col8\" >0</td>\n",
              "                        <td id=\"T_7ccf21d6_499d_11ec_bda8_0242ac1c0002row1_col9\" class=\"data row1 col9\" >2</td>\n",
              "                        <td id=\"T_7ccf21d6_499d_11ec_bda8_0242ac1c0002row1_col10\" class=\"data row1 col10\" >4</td>\n",
              "                        <td id=\"T_7ccf21d6_499d_11ec_bda8_0242ac1c0002row1_col11\" class=\"data row1 col11\" >1</td>\n",
              "            </tr>\n",
              "            <tr>\n",
              "                        <th id=\"T_7ccf21d6_499d_11ec_bda8_0242ac1c0002level0_row2\" class=\"row_heading level0 row2\" >Actual M27-28</th>\n",
              "                        <td id=\"T_7ccf21d6_499d_11ec_bda8_0242ac1c0002row2_col0\" class=\"data row2 col0\" >1</td>\n",
              "                        <td id=\"T_7ccf21d6_499d_11ec_bda8_0242ac1c0002row2_col1\" class=\"data row2 col1\" >5</td>\n",
              "                        <td id=\"T_7ccf21d6_499d_11ec_bda8_0242ac1c0002row2_col2\" class=\"data row2 col2\" >162</td>\n",
              "                        <td id=\"T_7ccf21d6_499d_11ec_bda8_0242ac1c0002row2_col3\" class=\"data row2 col3\" >2</td>\n",
              "                        <td id=\"T_7ccf21d6_499d_11ec_bda8_0242ac1c0002row2_col4\" class=\"data row2 col4\" >3</td>\n",
              "                        <td id=\"T_7ccf21d6_499d_11ec_bda8_0242ac1c0002row2_col5\" class=\"data row2 col5\" >18</td>\n",
              "                        <td id=\"T_7ccf21d6_499d_11ec_bda8_0242ac1c0002row2_col6\" class=\"data row2 col6\" >0</td>\n",
              "                        <td id=\"T_7ccf21d6_499d_11ec_bda8_0242ac1c0002row2_col7\" class=\"data row2 col7\" >0</td>\n",
              "                        <td id=\"T_7ccf21d6_499d_11ec_bda8_0242ac1c0002row2_col8\" class=\"data row2 col8\" >0</td>\n",
              "                        <td id=\"T_7ccf21d6_499d_11ec_bda8_0242ac1c0002row2_col9\" class=\"data row2 col9\" >0</td>\n",
              "                        <td id=\"T_7ccf21d6_499d_11ec_bda8_0242ac1c0002row2_col10\" class=\"data row2 col10\" >0</td>\n",
              "                        <td id=\"T_7ccf21d6_499d_11ec_bda8_0242ac1c0002row2_col11\" class=\"data row2 col11\" >1</td>\n",
              "            </tr>\n",
              "            <tr>\n",
              "                        <th id=\"T_7ccf21d6_499d_11ec_bda8_0242ac1c0002level0_row3\" class=\"row_heading level0 row3\" >Actual M29-31</th>\n",
              "                        <td id=\"T_7ccf21d6_499d_11ec_bda8_0242ac1c0002row3_col0\" class=\"data row3 col0\" >11</td>\n",
              "                        <td id=\"T_7ccf21d6_499d_11ec_bda8_0242ac1c0002row3_col1\" class=\"data row3 col1\" >3</td>\n",
              "                        <td id=\"T_7ccf21d6_499d_11ec_bda8_0242ac1c0002row3_col2\" class=\"data row3 col2\" >0</td>\n",
              "                        <td id=\"T_7ccf21d6_499d_11ec_bda8_0242ac1c0002row3_col3\" class=\"data row3 col3\" >234</td>\n",
              "                        <td id=\"T_7ccf21d6_499d_11ec_bda8_0242ac1c0002row3_col4\" class=\"data row3 col4\" >16</td>\n",
              "                        <td id=\"T_7ccf21d6_499d_11ec_bda8_0242ac1c0002row3_col5\" class=\"data row3 col5\" >17</td>\n",
              "                        <td id=\"T_7ccf21d6_499d_11ec_bda8_0242ac1c0002row3_col6\" class=\"data row3 col6\" >0</td>\n",
              "                        <td id=\"T_7ccf21d6_499d_11ec_bda8_0242ac1c0002row3_col7\" class=\"data row3 col7\" >0</td>\n",
              "                        <td id=\"T_7ccf21d6_499d_11ec_bda8_0242ac1c0002row3_col8\" class=\"data row3 col8\" >1</td>\n",
              "                        <td id=\"T_7ccf21d6_499d_11ec_bda8_0242ac1c0002row3_col9\" class=\"data row3 col9\" >0</td>\n",
              "                        <td id=\"T_7ccf21d6_499d_11ec_bda8_0242ac1c0002row3_col10\" class=\"data row3 col10\" >0</td>\n",
              "                        <td id=\"T_7ccf21d6_499d_11ec_bda8_0242ac1c0002row3_col11\" class=\"data row3 col11\" >1</td>\n",
              "            </tr>\n",
              "            <tr>\n",
              "                        <th id=\"T_7ccf21d6_499d_11ec_bda8_0242ac1c0002level0_row4\" class=\"row_heading level0 row4\" >Actual M32-38</th>\n",
              "                        <td id=\"T_7ccf21d6_499d_11ec_bda8_0242ac1c0002row4_col0\" class=\"data row4 col0\" >0</td>\n",
              "                        <td id=\"T_7ccf21d6_499d_11ec_bda8_0242ac1c0002row4_col1\" class=\"data row4 col1\" >0</td>\n",
              "                        <td id=\"T_7ccf21d6_499d_11ec_bda8_0242ac1c0002row4_col2\" class=\"data row4 col2\" >0</td>\n",
              "                        <td id=\"T_7ccf21d6_499d_11ec_bda8_0242ac1c0002row4_col3\" class=\"data row4 col3\" >8</td>\n",
              "                        <td id=\"T_7ccf21d6_499d_11ec_bda8_0242ac1c0002row4_col4\" class=\"data row4 col4\" >480</td>\n",
              "                        <td id=\"T_7ccf21d6_499d_11ec_bda8_0242ac1c0002row4_col5\" class=\"data row4 col5\" >42</td>\n",
              "                        <td id=\"T_7ccf21d6_499d_11ec_bda8_0242ac1c0002row4_col6\" class=\"data row4 col6\" >0</td>\n",
              "                        <td id=\"T_7ccf21d6_499d_11ec_bda8_0242ac1c0002row4_col7\" class=\"data row4 col7\" >2</td>\n",
              "                        <td id=\"T_7ccf21d6_499d_11ec_bda8_0242ac1c0002row4_col8\" class=\"data row4 col8\" >0</td>\n",
              "                        <td id=\"T_7ccf21d6_499d_11ec_bda8_0242ac1c0002row4_col9\" class=\"data row4 col9\" >3</td>\n",
              "                        <td id=\"T_7ccf21d6_499d_11ec_bda8_0242ac1c0002row4_col10\" class=\"data row4 col10\" >2</td>\n",
              "                        <td id=\"T_7ccf21d6_499d_11ec_bda8_0242ac1c0002row4_col11\" class=\"data row4 col11\" >2</td>\n",
              "            </tr>\n",
              "            <tr>\n",
              "                        <th id=\"T_7ccf21d6_499d_11ec_bda8_0242ac1c0002level0_row5\" class=\"row_heading level0 row5\" >Actual M39+</th>\n",
              "                        <td id=\"T_7ccf21d6_499d_11ec_bda8_0242ac1c0002row5_col0\" class=\"data row5 col0\" >2</td>\n",
              "                        <td id=\"T_7ccf21d6_499d_11ec_bda8_0242ac1c0002row5_col1\" class=\"data row5 col1\" >1</td>\n",
              "                        <td id=\"T_7ccf21d6_499d_11ec_bda8_0242ac1c0002row5_col2\" class=\"data row5 col2\" >1</td>\n",
              "                        <td id=\"T_7ccf21d6_499d_11ec_bda8_0242ac1c0002row5_col3\" class=\"data row5 col3\" >2</td>\n",
              "                        <td id=\"T_7ccf21d6_499d_11ec_bda8_0242ac1c0002row5_col4\" class=\"data row5 col4\" >19</td>\n",
              "                        <td id=\"T_7ccf21d6_499d_11ec_bda8_0242ac1c0002row5_col5\" class=\"data row5 col5\" >553</td>\n",
              "                        <td id=\"T_7ccf21d6_499d_11ec_bda8_0242ac1c0002row5_col6\" class=\"data row5 col6\" >0</td>\n",
              "                        <td id=\"T_7ccf21d6_499d_11ec_bda8_0242ac1c0002row5_col7\" class=\"data row5 col7\" >2</td>\n",
              "                        <td id=\"T_7ccf21d6_499d_11ec_bda8_0242ac1c0002row5_col8\" class=\"data row5 col8\" >0</td>\n",
              "                        <td id=\"T_7ccf21d6_499d_11ec_bda8_0242ac1c0002row5_col9\" class=\"data row5 col9\" >4</td>\n",
              "                        <td id=\"T_7ccf21d6_499d_11ec_bda8_0242ac1c0002row5_col10\" class=\"data row5 col10\" >11</td>\n",
              "                        <td id=\"T_7ccf21d6_499d_11ec_bda8_0242ac1c0002row5_col11\" class=\"data row5 col11\" >0</td>\n",
              "            </tr>\n",
              "            <tr>\n",
              "                        <th id=\"T_7ccf21d6_499d_11ec_bda8_0242ac1c0002level0_row6\" class=\"row_heading level0 row6\" >Actual F23-</th>\n",
              "                        <td id=\"T_7ccf21d6_499d_11ec_bda8_0242ac1c0002row6_col0\" class=\"data row6 col0\" >0</td>\n",
              "                        <td id=\"T_7ccf21d6_499d_11ec_bda8_0242ac1c0002row6_col1\" class=\"data row6 col1\" >0</td>\n",
              "                        <td id=\"T_7ccf21d6_499d_11ec_bda8_0242ac1c0002row6_col2\" class=\"data row6 col2\" >0</td>\n",
              "                        <td id=\"T_7ccf21d6_499d_11ec_bda8_0242ac1c0002row6_col3\" class=\"data row6 col3\" >1</td>\n",
              "                        <td id=\"T_7ccf21d6_499d_11ec_bda8_0242ac1c0002row6_col4\" class=\"data row6 col4\" >3</td>\n",
              "                        <td id=\"T_7ccf21d6_499d_11ec_bda8_0242ac1c0002row6_col5\" class=\"data row6 col5\" >4</td>\n",
              "                        <td id=\"T_7ccf21d6_499d_11ec_bda8_0242ac1c0002row6_col6\" class=\"data row6 col6\" >31</td>\n",
              "                        <td id=\"T_7ccf21d6_499d_11ec_bda8_0242ac1c0002row6_col7\" class=\"data row6 col7\" >0</td>\n",
              "                        <td id=\"T_7ccf21d6_499d_11ec_bda8_0242ac1c0002row6_col8\" class=\"data row6 col8\" >0</td>\n",
              "                        <td id=\"T_7ccf21d6_499d_11ec_bda8_0242ac1c0002row6_col9\" class=\"data row6 col9\" >0</td>\n",
              "                        <td id=\"T_7ccf21d6_499d_11ec_bda8_0242ac1c0002row6_col10\" class=\"data row6 col10\" >0</td>\n",
              "                        <td id=\"T_7ccf21d6_499d_11ec_bda8_0242ac1c0002row6_col11\" class=\"data row6 col11\" >0</td>\n",
              "            </tr>\n",
              "            <tr>\n",
              "                        <th id=\"T_7ccf21d6_499d_11ec_bda8_0242ac1c0002level0_row7\" class=\"row_heading level0 row7\" >Actual F24-26</th>\n",
              "                        <td id=\"T_7ccf21d6_499d_11ec_bda8_0242ac1c0002row7_col0\" class=\"data row7 col0\" >0</td>\n",
              "                        <td id=\"T_7ccf21d6_499d_11ec_bda8_0242ac1c0002row7_col1\" class=\"data row7 col1\" >0</td>\n",
              "                        <td id=\"T_7ccf21d6_499d_11ec_bda8_0242ac1c0002row7_col2\" class=\"data row7 col2\" >0</td>\n",
              "                        <td id=\"T_7ccf21d6_499d_11ec_bda8_0242ac1c0002row7_col3\" class=\"data row7 col3\" >0</td>\n",
              "                        <td id=\"T_7ccf21d6_499d_11ec_bda8_0242ac1c0002row7_col4\" class=\"data row7 col4\" >1</td>\n",
              "                        <td id=\"T_7ccf21d6_499d_11ec_bda8_0242ac1c0002row7_col5\" class=\"data row7 col5\" >4</td>\n",
              "                        <td id=\"T_7ccf21d6_499d_11ec_bda8_0242ac1c0002row7_col6\" class=\"data row7 col6\" >0</td>\n",
              "                        <td id=\"T_7ccf21d6_499d_11ec_bda8_0242ac1c0002row7_col7\" class=\"data row7 col7\" >24</td>\n",
              "                        <td id=\"T_7ccf21d6_499d_11ec_bda8_0242ac1c0002row7_col8\" class=\"data row7 col8\" >0</td>\n",
              "                        <td id=\"T_7ccf21d6_499d_11ec_bda8_0242ac1c0002row7_col9\" class=\"data row7 col9\" >0</td>\n",
              "                        <td id=\"T_7ccf21d6_499d_11ec_bda8_0242ac1c0002row7_col10\" class=\"data row7 col10\" >0</td>\n",
              "                        <td id=\"T_7ccf21d6_499d_11ec_bda8_0242ac1c0002row7_col11\" class=\"data row7 col11\" >0</td>\n",
              "            </tr>\n",
              "            <tr>\n",
              "                        <th id=\"T_7ccf21d6_499d_11ec_bda8_0242ac1c0002level0_row8\" class=\"row_heading level0 row8\" >Actual F27-28</th>\n",
              "                        <td id=\"T_7ccf21d6_499d_11ec_bda8_0242ac1c0002row8_col0\" class=\"data row8 col0\" >0</td>\n",
              "                        <td id=\"T_7ccf21d6_499d_11ec_bda8_0242ac1c0002row8_col1\" class=\"data row8 col1\" >6</td>\n",
              "                        <td id=\"T_7ccf21d6_499d_11ec_bda8_0242ac1c0002row8_col2\" class=\"data row8 col2\" >0</td>\n",
              "                        <td id=\"T_7ccf21d6_499d_11ec_bda8_0242ac1c0002row8_col3\" class=\"data row8 col3\" >3</td>\n",
              "                        <td id=\"T_7ccf21d6_499d_11ec_bda8_0242ac1c0002row8_col4\" class=\"data row8 col4\" >0</td>\n",
              "                        <td id=\"T_7ccf21d6_499d_11ec_bda8_0242ac1c0002row8_col5\" class=\"data row8 col5\" >6</td>\n",
              "                        <td id=\"T_7ccf21d6_499d_11ec_bda8_0242ac1c0002row8_col6\" class=\"data row8 col6\" >0</td>\n",
              "                        <td id=\"T_7ccf21d6_499d_11ec_bda8_0242ac1c0002row8_col7\" class=\"data row8 col7\" >0</td>\n",
              "                        <td id=\"T_7ccf21d6_499d_11ec_bda8_0242ac1c0002row8_col8\" class=\"data row8 col8\" >42</td>\n",
              "                        <td id=\"T_7ccf21d6_499d_11ec_bda8_0242ac1c0002row8_col9\" class=\"data row8 col9\" >0</td>\n",
              "                        <td id=\"T_7ccf21d6_499d_11ec_bda8_0242ac1c0002row8_col10\" class=\"data row8 col10\" >0</td>\n",
              "                        <td id=\"T_7ccf21d6_499d_11ec_bda8_0242ac1c0002row8_col11\" class=\"data row8 col11\" >0</td>\n",
              "            </tr>\n",
              "            <tr>\n",
              "                        <th id=\"T_7ccf21d6_499d_11ec_bda8_0242ac1c0002level0_row9\" class=\"row_heading level0 row9\" >Actual F29-32</th>\n",
              "                        <td id=\"T_7ccf21d6_499d_11ec_bda8_0242ac1c0002row9_col0\" class=\"data row9 col0\" >0</td>\n",
              "                        <td id=\"T_7ccf21d6_499d_11ec_bda8_0242ac1c0002row9_col1\" class=\"data row9 col1\" >0</td>\n",
              "                        <td id=\"T_7ccf21d6_499d_11ec_bda8_0242ac1c0002row9_col2\" class=\"data row9 col2\" >2</td>\n",
              "                        <td id=\"T_7ccf21d6_499d_11ec_bda8_0242ac1c0002row9_col3\" class=\"data row9 col3\" >0</td>\n",
              "                        <td id=\"T_7ccf21d6_499d_11ec_bda8_0242ac1c0002row9_col4\" class=\"data row9 col4\" >4</td>\n",
              "                        <td id=\"T_7ccf21d6_499d_11ec_bda8_0242ac1c0002row9_col5\" class=\"data row9 col5\" >14</td>\n",
              "                        <td id=\"T_7ccf21d6_499d_11ec_bda8_0242ac1c0002row9_col6\" class=\"data row9 col6\" >0</td>\n",
              "                        <td id=\"T_7ccf21d6_499d_11ec_bda8_0242ac1c0002row9_col7\" class=\"data row9 col7\" >0</td>\n",
              "                        <td id=\"T_7ccf21d6_499d_11ec_bda8_0242ac1c0002row9_col8\" class=\"data row9 col8\" >0</td>\n",
              "                        <td id=\"T_7ccf21d6_499d_11ec_bda8_0242ac1c0002row9_col9\" class=\"data row9 col9\" >61</td>\n",
              "                        <td id=\"T_7ccf21d6_499d_11ec_bda8_0242ac1c0002row9_col10\" class=\"data row9 col10\" >0</td>\n",
              "                        <td id=\"T_7ccf21d6_499d_11ec_bda8_0242ac1c0002row9_col11\" class=\"data row9 col11\" >0</td>\n",
              "            </tr>\n",
              "            <tr>\n",
              "                        <th id=\"T_7ccf21d6_499d_11ec_bda8_0242ac1c0002level0_row10\" class=\"row_heading level0 row10\" >Actual F33-42</th>\n",
              "                        <td id=\"T_7ccf21d6_499d_11ec_bda8_0242ac1c0002row10_col0\" class=\"data row10 col0\" >2</td>\n",
              "                        <td id=\"T_7ccf21d6_499d_11ec_bda8_0242ac1c0002row10_col1\" class=\"data row10 col1\" >0</td>\n",
              "                        <td id=\"T_7ccf21d6_499d_11ec_bda8_0242ac1c0002row10_col2\" class=\"data row10 col2\" >0</td>\n",
              "                        <td id=\"T_7ccf21d6_499d_11ec_bda8_0242ac1c0002row10_col3\" class=\"data row10 col3\" >0</td>\n",
              "                        <td id=\"T_7ccf21d6_499d_11ec_bda8_0242ac1c0002row10_col4\" class=\"data row10 col4\" >2</td>\n",
              "                        <td id=\"T_7ccf21d6_499d_11ec_bda8_0242ac1c0002row10_col5\" class=\"data row10 col5\" >21</td>\n",
              "                        <td id=\"T_7ccf21d6_499d_11ec_bda8_0242ac1c0002row10_col6\" class=\"data row10 col6\" >2</td>\n",
              "                        <td id=\"T_7ccf21d6_499d_11ec_bda8_0242ac1c0002row10_col7\" class=\"data row10 col7\" >1</td>\n",
              "                        <td id=\"T_7ccf21d6_499d_11ec_bda8_0242ac1c0002row10_col8\" class=\"data row10 col8\" >0</td>\n",
              "                        <td id=\"T_7ccf21d6_499d_11ec_bda8_0242ac1c0002row10_col9\" class=\"data row10 col9\" >1</td>\n",
              "                        <td id=\"T_7ccf21d6_499d_11ec_bda8_0242ac1c0002row10_col10\" class=\"data row10 col10\" >108</td>\n",
              "                        <td id=\"T_7ccf21d6_499d_11ec_bda8_0242ac1c0002row10_col11\" class=\"data row10 col11\" >0</td>\n",
              "            </tr>\n",
              "            <tr>\n",
              "                        <th id=\"T_7ccf21d6_499d_11ec_bda8_0242ac1c0002level0_row11\" class=\"row_heading level0 row11\" >Actual F43+</th>\n",
              "                        <td id=\"T_7ccf21d6_499d_11ec_bda8_0242ac1c0002row11_col0\" class=\"data row11 col0\" >0</td>\n",
              "                        <td id=\"T_7ccf21d6_499d_11ec_bda8_0242ac1c0002row11_col1\" class=\"data row11 col1\" >2</td>\n",
              "                        <td id=\"T_7ccf21d6_499d_11ec_bda8_0242ac1c0002row11_col2\" class=\"data row11 col2\" >2</td>\n",
              "                        <td id=\"T_7ccf21d6_499d_11ec_bda8_0242ac1c0002row11_col3\" class=\"data row11 col3\" >4</td>\n",
              "                        <td id=\"T_7ccf21d6_499d_11ec_bda8_0242ac1c0002row11_col4\" class=\"data row11 col4\" >15</td>\n",
              "                        <td id=\"T_7ccf21d6_499d_11ec_bda8_0242ac1c0002row11_col5\" class=\"data row11 col5\" >14</td>\n",
              "                        <td id=\"T_7ccf21d6_499d_11ec_bda8_0242ac1c0002row11_col6\" class=\"data row11 col6\" >0</td>\n",
              "                        <td id=\"T_7ccf21d6_499d_11ec_bda8_0242ac1c0002row11_col7\" class=\"data row11 col7\" >0</td>\n",
              "                        <td id=\"T_7ccf21d6_499d_11ec_bda8_0242ac1c0002row11_col8\" class=\"data row11 col8\" >0</td>\n",
              "                        <td id=\"T_7ccf21d6_499d_11ec_bda8_0242ac1c0002row11_col9\" class=\"data row11 col9\" >0</td>\n",
              "                        <td id=\"T_7ccf21d6_499d_11ec_bda8_0242ac1c0002row11_col10\" class=\"data row11 col10\" >3</td>\n",
              "                        <td id=\"T_7ccf21d6_499d_11ec_bda8_0242ac1c0002row11_col11\" class=\"data row11 col11\" >133</td>\n",
              "            </tr>\n",
              "    </tbody></table>"
            ],
            "text/plain": [
              "<pandas.io.formats.style.Styler at 0x7f3d14664850>"
            ]
          },
          "metadata": {},
          "execution_count": 20
        }
      ]
    },
    {
      "cell_type": "code",
      "metadata": {
        "colab": {
          "base_uri": "https://localhost:8080/"
        },
        "id": "V9ClTqkqwkP0",
        "outputId": "2f823e52-621a-4f56-aace-39b8781df22f"
      },
      "source": [
        "print(\"Classification Report:\")\n",
        "print()\n",
        "print(classification_report(y_test, y_pred))"
      ],
      "execution_count": null,
      "outputs": [
        {
          "output_type": "stream",
          "name": "stdout",
          "text": [
            "Classification Report:\n",
            "\n",
            "              precision    recall  f1-score   support\n",
            "\n",
            "           0       0.84      0.85      0.85       128\n",
            "           1       0.93      0.88      0.90       258\n",
            "           2       0.97      0.84      0.90       192\n",
            "           3       0.91      0.83      0.87       283\n",
            "           4       0.86      0.89      0.88       539\n",
            "           5       0.77      0.93      0.84       595\n",
            "           6       0.94      0.79      0.86        39\n",
            "           7       0.83      0.83      0.83        29\n",
            "           8       0.98      0.74      0.84        57\n",
            "           9       0.86      0.75      0.80        81\n",
            "          10       0.84      0.79      0.82       137\n",
            "          11       0.96      0.77      0.86       173\n",
            "\n",
            "    accuracy                           0.86      2511\n",
            "   macro avg       0.89      0.82      0.85      2511\n",
            "weighted avg       0.87      0.86      0.86      2511\n",
            "\n"
          ]
        }
      ]
    },
    {
      "cell_type": "code",
      "metadata": {
        "id": "uSJtALHbwoIc"
      },
      "source": [
        "def multiclass_roc_auc_score(y_test, y_pred, average=\"macro\"):\n",
        "  lb = LabelBinarizer()\n",
        "  lb.fit(y_test)\n",
        "  y_test = lb.transform(y_test)\n",
        "  y_pred = lb.transform(y_pred)\n",
        "  return roc_auc_score(y_test, y_pred, average=average)\n"
      ],
      "execution_count": null,
      "outputs": []
    },
    {
      "cell_type": "code",
      "metadata": {
        "colab": {
          "base_uri": "https://localhost:8080/"
        },
        "id": "6iShkhSOwoLD",
        "outputId": "178ca621-fbdc-4c03-ccba-627f143218e0"
      },
      "source": [
        "multiclass_roc_auc_score(y_test, y_pred, average=\"macro\")"
      ],
      "execution_count": null,
      "outputs": [
        {
          "output_type": "execute_result",
          "data": {
            "text/plain": [
              "0.9052496888001079"
            ]
          },
          "metadata": {},
          "execution_count": 23
        }
      ]
    },
    {
      "cell_type": "code",
      "metadata": {
        "colab": {
          "base_uri": "https://localhost:8080/"
        },
        "id": "E19R3nhczlup",
        "outputId": "5108b8e3-70df-4445-94e2-6ca2bc883279"
      },
      "source": [
        "pipeline = Pipeline(\n",
        "    [(\"preprocessing\", preprocessing), (\"dtc\", DecisionTreeClassifier())], verbose=True\n",
        ")\n",
        "\n",
        "pipeline.fit(X_train, y_train)\n"
      ],
      "execution_count": null,
      "outputs": [
        {
          "output_type": "stream",
          "name": "stdout",
          "text": [
            "[Pipeline] ..... (step 1 of 2) Processing preprocessing, total=   0.0s\n",
            "[Pipeline] ............... (step 2 of 2) Processing dtc, total=   0.0s\n"
          ]
        },
        {
          "output_type": "execute_result",
          "data": {
            "text/plain": [
              "Pipeline(steps=[('preprocessing',\n",
              "                 ColumnTransformer(remainder='passthrough',\n",
              "                                   transformers=[('scale', StandardScaler(),\n",
              "                                                  ['device_id', 'event_id'])])),\n",
              "                ('dtc', DecisionTreeClassifier())],\n",
              "         verbose=True)"
            ]
          },
          "metadata": {},
          "execution_count": 24
        }
      ]
    },
    {
      "cell_type": "code",
      "metadata": {
        "id": "kXtyHD7Bzl1B"
      },
      "source": [
        "# Max depth of 50 provides a better score, this is much better than the previous score of around 0.2.\n",
        "# To improve score suggest increasing max depth even more\n",
        "grid = {'max_leaf_nodes': list(range(2, 100)), 'min_samples_split': [2, 3, 4]}\n",
        "\n",
        "\n",
        "model = GridSearchCV(DecisionTreeClassifier(random_state=42), grid, verbose=1, cv=3)\n"
      ],
      "execution_count": null,
      "outputs": []
    },
    {
      "cell_type": "code",
      "metadata": {
        "colab": {
          "base_uri": "https://localhost:8080/"
        },
        "id": "pCb3USh_zpes",
        "outputId": "bbadd5bd-48f5-4a05-ec83-76426469ea4f"
      },
      "source": [
        "model.fit(X_train, y_train)\n"
      ],
      "execution_count": null,
      "outputs": [
        {
          "output_type": "stream",
          "name": "stdout",
          "text": [
            "Fitting 3 folds for each of 294 candidates, totalling 882 fits\n"
          ]
        },
        {
          "output_type": "execute_result",
          "data": {
            "text/plain": [
              "GridSearchCV(cv=3, estimator=DecisionTreeClassifier(random_state=42),\n",
              "             param_grid={'max_leaf_nodes': [2, 3, 4, 5, 6, 7, 8, 9, 10, 11, 12,\n",
              "                                            13, 14, 15, 16, 17, 18, 19, 20, 21,\n",
              "                                            22, 23, 24, 25, 26, 27, 28, 29, 30,\n",
              "                                            31, ...],\n",
              "                         'min_samples_split': [2, 3, 4]},\n",
              "             verbose=1)"
            ]
          },
          "metadata": {},
          "execution_count": 26
        }
      ]
    },
    {
      "cell_type": "code",
      "metadata": {
        "colab": {
          "base_uri": "https://localhost:8080/"
        },
        "id": "L8lpzmMHzphJ",
        "outputId": "2e38b7a1-187f-483c-d7fc-8c4809fc1534"
      },
      "source": [
        "model.best_params_\n"
      ],
      "execution_count": null,
      "outputs": [
        {
          "output_type": "execute_result",
          "data": {
            "text/plain": [
              "{'max_leaf_nodes': 99, 'min_samples_split': 2}"
            ]
          },
          "metadata": {},
          "execution_count": 27
        }
      ]
    },
    {
      "cell_type": "code",
      "metadata": {
        "colab": {
          "base_uri": "https://localhost:8080/"
        },
        "id": "FGg4MNtQzpji",
        "outputId": "502f3a3a-ecf0-4400-b91f-857b2b3a4d6f"
      },
      "source": [
        "# Model still appears to be extremely overfitting\n",
        "train_score = model.score(X_train, y_train)\n",
        "test_score = model.score(X_test, y_test)\n",
        "\n",
        "print(f\"Train score: {train_score}\")\n",
        "print(f\"Test score: {test_score}\")"
      ],
      "execution_count": null,
      "outputs": [
        {
          "output_type": "stream",
          "name": "stdout",
          "text": [
            "Train score: 0.8231075697211155\n",
            "Test score: 0.8231780167264038\n"
          ]
        }
      ]
    },
    {
      "cell_type": "code",
      "metadata": {
        "colab": {
          "base_uri": "https://localhost:8080/",
          "height": 425
        },
        "id": "cl6CUxQJzpmH",
        "outputId": "0476d346-0572-4385-be4f-1a4cadefa84a"
      },
      "source": [
        "y_pred = model.predict(X_test)\n",
        "\n",
        "con_mat = pd.DataFrame(\n",
        "    confusion_matrix(y_test, y_pred),\n",
        "    index=[\n",
        "        \"Actual M22-\",\n",
        "        \"Actual M23-26\",\n",
        "        \"Actual M27-28\",\n",
        "        \"Actual M29-31\",\n",
        "        \"Actual M32-38\",\n",
        "        \"Actual M39+\",\n",
        "        \"Actual F23-\",\n",
        "        \"Actual F24-26\",\n",
        "        \"Actual F27-28\",\n",
        "        \"Actual F29-32\",\n",
        "        \"Actual F33-42\",\n",
        "        \"Actual F43+\",\n",
        "    ],\n",
        "    columns=[\n",
        "        \"Predicted M22-\",\n",
        "        \"Predicted M23-26\",\n",
        "        \"Predicted M27-28\",\n",
        "        \"Predicted M29-31\",\n",
        "        \"Predicted M32-38\",\n",
        "        \"Predicted M39+\",\n",
        "        \"Predicted F23-\",\n",
        "        \"Predicted F24-26\",\n",
        "        \"Predicted F27-28\",\n",
        "        \"Predicted F29-32\",\n",
        "        \"Predicted F33-42\",\n",
        "        \"Predicted F43+\",\n",
        "    ],\n",
        ")\n",
        "con_mat.style.background_gradient(axis=None)\n",
        "\n",
        "\n"
      ],
      "execution_count": null,
      "outputs": [
        {
          "output_type": "execute_result",
          "data": {
            "text/html": [
              "<style  type=\"text/css\" >\n",
              "#T_8f064a82_499d_11ec_bda8_0242ac1c0002row0_col0{\n",
              "            background-color:  #e0deed;\n",
              "            color:  #000000;\n",
              "        }#T_8f064a82_499d_11ec_bda8_0242ac1c0002row0_col1,#T_8f064a82_499d_11ec_bda8_0242ac1c0002row0_col5,#T_8f064a82_499d_11ec_bda8_0242ac1c0002row0_col6,#T_8f064a82_499d_11ec_bda8_0242ac1c0002row0_col7,#T_8f064a82_499d_11ec_bda8_0242ac1c0002row0_col8,#T_8f064a82_499d_11ec_bda8_0242ac1c0002row0_col9,#T_8f064a82_499d_11ec_bda8_0242ac1c0002row1_col0,#T_8f064a82_499d_11ec_bda8_0242ac1c0002row1_col2,#T_8f064a82_499d_11ec_bda8_0242ac1c0002row1_col3,#T_8f064a82_499d_11ec_bda8_0242ac1c0002row1_col6,#T_8f064a82_499d_11ec_bda8_0242ac1c0002row1_col7,#T_8f064a82_499d_11ec_bda8_0242ac1c0002row1_col8,#T_8f064a82_499d_11ec_bda8_0242ac1c0002row1_col9,#T_8f064a82_499d_11ec_bda8_0242ac1c0002row1_col10,#T_8f064a82_499d_11ec_bda8_0242ac1c0002row1_col11,#T_8f064a82_499d_11ec_bda8_0242ac1c0002row2_col0,#T_8f064a82_499d_11ec_bda8_0242ac1c0002row2_col1,#T_8f064a82_499d_11ec_bda8_0242ac1c0002row2_col7,#T_8f064a82_499d_11ec_bda8_0242ac1c0002row2_col8,#T_8f064a82_499d_11ec_bda8_0242ac1c0002row2_col9,#T_8f064a82_499d_11ec_bda8_0242ac1c0002row2_col10,#T_8f064a82_499d_11ec_bda8_0242ac1c0002row3_col1,#T_8f064a82_499d_11ec_bda8_0242ac1c0002row3_col2,#T_8f064a82_499d_11ec_bda8_0242ac1c0002row3_col6,#T_8f064a82_499d_11ec_bda8_0242ac1c0002row3_col7,#T_8f064a82_499d_11ec_bda8_0242ac1c0002row3_col8,#T_8f064a82_499d_11ec_bda8_0242ac1c0002row3_col9,#T_8f064a82_499d_11ec_bda8_0242ac1c0002row3_col11,#T_8f064a82_499d_11ec_bda8_0242ac1c0002row4_col0,#T_8f064a82_499d_11ec_bda8_0242ac1c0002row4_col1,#T_8f064a82_499d_11ec_bda8_0242ac1c0002row4_col2,#T_8f064a82_499d_11ec_bda8_0242ac1c0002row4_col6,#T_8f064a82_499d_11ec_bda8_0242ac1c0002row4_col7,#T_8f064a82_499d_11ec_bda8_0242ac1c0002row4_col8,#T_8f064a82_499d_11ec_bda8_0242ac1c0002row4_col9,#T_8f064a82_499d_11ec_bda8_0242ac1c0002row4_col10,#T_8f064a82_499d_11ec_bda8_0242ac1c0002row4_col11,#T_8f064a82_499d_11ec_bda8_0242ac1c0002row5_col0,#T_8f064a82_499d_11ec_bda8_0242ac1c0002row5_col1,#T_8f064a82_499d_11ec_bda8_0242ac1c0002row5_col6,#T_8f064a82_499d_11ec_bda8_0242ac1c0002row5_col7,#T_8f064a82_499d_11ec_bda8_0242ac1c0002row5_col8,#T_8f064a82_499d_11ec_bda8_0242ac1c0002row5_col9,#T_8f064a82_499d_11ec_bda8_0242ac1c0002row5_col10,#T_8f064a82_499d_11ec_bda8_0242ac1c0002row5_col11,#T_8f064a82_499d_11ec_bda8_0242ac1c0002row6_col0,#T_8f064a82_499d_11ec_bda8_0242ac1c0002row6_col1,#T_8f064a82_499d_11ec_bda8_0242ac1c0002row6_col2,#T_8f064a82_499d_11ec_bda8_0242ac1c0002row6_col3,#T_8f064a82_499d_11ec_bda8_0242ac1c0002row6_col5,#T_8f064a82_499d_11ec_bda8_0242ac1c0002row6_col7,#T_8f064a82_499d_11ec_bda8_0242ac1c0002row6_col8,#T_8f064a82_499d_11ec_bda8_0242ac1c0002row6_col9,#T_8f064a82_499d_11ec_bda8_0242ac1c0002row6_col10,#T_8f064a82_499d_11ec_bda8_0242ac1c0002row6_col11,#T_8f064a82_499d_11ec_bda8_0242ac1c0002row7_col0,#T_8f064a82_499d_11ec_bda8_0242ac1c0002row7_col1,#T_8f064a82_499d_11ec_bda8_0242ac1c0002row7_col2,#T_8f064a82_499d_11ec_bda8_0242ac1c0002row7_col3,#T_8f064a82_499d_11ec_bda8_0242ac1c0002row7_col4,#T_8f064a82_499d_11ec_bda8_0242ac1c0002row7_col5,#T_8f064a82_499d_11ec_bda8_0242ac1c0002row7_col6,#T_8f064a82_499d_11ec_bda8_0242ac1c0002row7_col8,#T_8f064a82_499d_11ec_bda8_0242ac1c0002row7_col9,#T_8f064a82_499d_11ec_bda8_0242ac1c0002row7_col10,#T_8f064a82_499d_11ec_bda8_0242ac1c0002row7_col11,#T_8f064a82_499d_11ec_bda8_0242ac1c0002row8_col0,#T_8f064a82_499d_11ec_bda8_0242ac1c0002row8_col2,#T_8f064a82_499d_11ec_bda8_0242ac1c0002row8_col5,#T_8f064a82_499d_11ec_bda8_0242ac1c0002row8_col6,#T_8f064a82_499d_11ec_bda8_0242ac1c0002row8_col7,#T_8f064a82_499d_11ec_bda8_0242ac1c0002row8_col9,#T_8f064a82_499d_11ec_bda8_0242ac1c0002row8_col10,#T_8f064a82_499d_11ec_bda8_0242ac1c0002row8_col11,#T_8f064a82_499d_11ec_bda8_0242ac1c0002row9_col0,#T_8f064a82_499d_11ec_bda8_0242ac1c0002row9_col1,#T_8f064a82_499d_11ec_bda8_0242ac1c0002row9_col2,#T_8f064a82_499d_11ec_bda8_0242ac1c0002row9_col3,#T_8f064a82_499d_11ec_bda8_0242ac1c0002row9_col6,#T_8f064a82_499d_11ec_bda8_0242ac1c0002row9_col8,#T_8f064a82_499d_11ec_bda8_0242ac1c0002row9_col10,#T_8f064a82_499d_11ec_bda8_0242ac1c0002row9_col11,#T_8f064a82_499d_11ec_bda8_0242ac1c0002row10_col0,#T_8f064a82_499d_11ec_bda8_0242ac1c0002row10_col1,#T_8f064a82_499d_11ec_bda8_0242ac1c0002row10_col2,#T_8f064a82_499d_11ec_bda8_0242ac1c0002row10_col4,#T_8f064a82_499d_11ec_bda8_0242ac1c0002row10_col6,#T_8f064a82_499d_11ec_bda8_0242ac1c0002row10_col7,#T_8f064a82_499d_11ec_bda8_0242ac1c0002row10_col9,#T_8f064a82_499d_11ec_bda8_0242ac1c0002row10_col11,#T_8f064a82_499d_11ec_bda8_0242ac1c0002row11_col0,#T_8f064a82_499d_11ec_bda8_0242ac1c0002row11_col2,#T_8f064a82_499d_11ec_bda8_0242ac1c0002row11_col5,#T_8f064a82_499d_11ec_bda8_0242ac1c0002row11_col6,#T_8f064a82_499d_11ec_bda8_0242ac1c0002row11_col7,#T_8f064a82_499d_11ec_bda8_0242ac1c0002row11_col8,#T_8f064a82_499d_11ec_bda8_0242ac1c0002row11_col10{\n",
              "            background-color:  #fff7fb;\n",
              "            color:  #000000;\n",
              "        }#T_8f064a82_499d_11ec_bda8_0242ac1c0002row0_col2,#T_8f064a82_499d_11ec_bda8_0242ac1c0002row9_col5,#T_8f064a82_499d_11ec_bda8_0242ac1c0002row11_col1{\n",
              "            background-color:  #fef6fa;\n",
              "            color:  #000000;\n",
              "        }#T_8f064a82_499d_11ec_bda8_0242ac1c0002row0_col3,#T_8f064a82_499d_11ec_bda8_0242ac1c0002row0_col4,#T_8f064a82_499d_11ec_bda8_0242ac1c0002row0_col10,#T_8f064a82_499d_11ec_bda8_0242ac1c0002row1_col4,#T_8f064a82_499d_11ec_bda8_0242ac1c0002row1_col5,#T_8f064a82_499d_11ec_bda8_0242ac1c0002row2_col5,#T_8f064a82_499d_11ec_bda8_0242ac1c0002row2_col6,#T_8f064a82_499d_11ec_bda8_0242ac1c0002row2_col11,#T_8f064a82_499d_11ec_bda8_0242ac1c0002row3_col0,#T_8f064a82_499d_11ec_bda8_0242ac1c0002row3_col4,#T_8f064a82_499d_11ec_bda8_0242ac1c0002row3_col10,#T_8f064a82_499d_11ec_bda8_0242ac1c0002row9_col4,#T_8f064a82_499d_11ec_bda8_0242ac1c0002row10_col3,#T_8f064a82_499d_11ec_bda8_0242ac1c0002row11_col3,#T_8f064a82_499d_11ec_bda8_0242ac1c0002row11_col4{\n",
              "            background-color:  #fdf5fa;\n",
              "            color:  #000000;\n",
              "        }#T_8f064a82_499d_11ec_bda8_0242ac1c0002row0_col11,#T_8f064a82_499d_11ec_bda8_0242ac1c0002row5_col2{\n",
              "            background-color:  #fef6fb;\n",
              "            color:  #000000;\n",
              "        }#T_8f064a82_499d_11ec_bda8_0242ac1c0002row1_col1{\n",
              "            background-color:  #8bb2d4;\n",
              "            color:  #000000;\n",
              "        }#T_8f064a82_499d_11ec_bda8_0242ac1c0002row2_col2{\n",
              "            background-color:  #d0d1e6;\n",
              "            color:  #000000;\n",
              "        }#T_8f064a82_499d_11ec_bda8_0242ac1c0002row2_col3,#T_8f064a82_499d_11ec_bda8_0242ac1c0002row2_col4,#T_8f064a82_499d_11ec_bda8_0242ac1c0002row8_col1,#T_8f064a82_499d_11ec_bda8_0242ac1c0002row8_col3,#T_8f064a82_499d_11ec_bda8_0242ac1c0002row9_col7{\n",
              "            background-color:  #fbf4f9;\n",
              "            color:  #000000;\n",
              "        }#T_8f064a82_499d_11ec_bda8_0242ac1c0002row3_col3{\n",
              "            background-color:  #99b8d8;\n",
              "            color:  #000000;\n",
              "        }#T_8f064a82_499d_11ec_bda8_0242ac1c0002row3_col5{\n",
              "            background-color:  #f5eff6;\n",
              "            color:  #000000;\n",
              "        }#T_8f064a82_499d_11ec_bda8_0242ac1c0002row4_col3,#T_8f064a82_499d_11ec_bda8_0242ac1c0002row5_col4,#T_8f064a82_499d_11ec_bda8_0242ac1c0002row10_col8{\n",
              "            background-color:  #fbf3f9;\n",
              "            color:  #000000;\n",
              "        }#T_8f064a82_499d_11ec_bda8_0242ac1c0002row4_col4{\n",
              "            background-color:  #04588a;\n",
              "            color:  #f1f1f1;\n",
              "        }#T_8f064a82_499d_11ec_bda8_0242ac1c0002row4_col5{\n",
              "            background-color:  #f4edf6;\n",
              "            color:  #000000;\n",
              "        }#T_8f064a82_499d_11ec_bda8_0242ac1c0002row5_col3,#T_8f064a82_499d_11ec_bda8_0242ac1c0002row6_col6{\n",
              "            background-color:  #f8f1f8;\n",
              "            color:  #000000;\n",
              "        }#T_8f064a82_499d_11ec_bda8_0242ac1c0002row5_col5{\n",
              "            background-color:  #023858;\n",
              "            color:  #f1f1f1;\n",
              "        }#T_8f064a82_499d_11ec_bda8_0242ac1c0002row6_col4,#T_8f064a82_499d_11ec_bda8_0242ac1c0002row8_col4{\n",
              "            background-color:  #fcf4fa;\n",
              "            color:  #000000;\n",
              "        }#T_8f064a82_499d_11ec_bda8_0242ac1c0002row7_col7,#T_8f064a82_499d_11ec_bda8_0242ac1c0002row11_col9{\n",
              "            background-color:  #f7f0f7;\n",
              "            color:  #000000;\n",
              "        }#T_8f064a82_499d_11ec_bda8_0242ac1c0002row8_col8{\n",
              "            background-color:  #faf3f9;\n",
              "            color:  #000000;\n",
              "        }#T_8f064a82_499d_11ec_bda8_0242ac1c0002row9_col9{\n",
              "            background-color:  #f1ebf4;\n",
              "            color:  #000000;\n",
              "        }#T_8f064a82_499d_11ec_bda8_0242ac1c0002row10_col5{\n",
              "            background-color:  #f9f2f8;\n",
              "            color:  #000000;\n",
              "        }#T_8f064a82_499d_11ec_bda8_0242ac1c0002row10_col10{\n",
              "            background-color:  #e3e0ee;\n",
              "            color:  #000000;\n",
              "        }#T_8f064a82_499d_11ec_bda8_0242ac1c0002row11_col11{\n",
              "            background-color:  #d8d7e9;\n",
              "            color:  #000000;\n",
              "        }</style><table id=\"T_8f064a82_499d_11ec_bda8_0242ac1c0002\" class=\"dataframe\"><thead>    <tr>        <th class=\"blank level0\" ></th>        <th class=\"col_heading level0 col0\" >Predicted M22-</th>        <th class=\"col_heading level0 col1\" >Predicted M23-26</th>        <th class=\"col_heading level0 col2\" >Predicted M27-28</th>        <th class=\"col_heading level0 col3\" >Predicted M29-31</th>        <th class=\"col_heading level0 col4\" >Predicted M32-38</th>        <th class=\"col_heading level0 col5\" >Predicted M39+</th>        <th class=\"col_heading level0 col6\" >Predicted F23-</th>        <th class=\"col_heading level0 col7\" >Predicted F24-26</th>        <th class=\"col_heading level0 col8\" >Predicted F27-28</th>        <th class=\"col_heading level0 col9\" >Predicted F29-32</th>        <th class=\"col_heading level0 col10\" >Predicted F33-42</th>        <th class=\"col_heading level0 col11\" >Predicted F43+</th>    </tr></thead><tbody>\n",
              "                <tr>\n",
              "                        <th id=\"T_8f064a82_499d_11ec_bda8_0242ac1c0002level0_row0\" class=\"row_heading level0 row0\" >Actual M22-</th>\n",
              "                        <td id=\"T_8f064a82_499d_11ec_bda8_0242ac1c0002row0_col0\" class=\"data row0 col0\" >97</td>\n",
              "                        <td id=\"T_8f064a82_499d_11ec_bda8_0242ac1c0002row0_col1\" class=\"data row0 col1\" >0</td>\n",
              "                        <td id=\"T_8f064a82_499d_11ec_bda8_0242ac1c0002row0_col2\" class=\"data row0 col2\" >5</td>\n",
              "                        <td id=\"T_8f064a82_499d_11ec_bda8_0242ac1c0002row0_col3\" class=\"data row0 col3\" >7</td>\n",
              "                        <td id=\"T_8f064a82_499d_11ec_bda8_0242ac1c0002row0_col4\" class=\"data row0 col4\" >8</td>\n",
              "                        <td id=\"T_8f064a82_499d_11ec_bda8_0242ac1c0002row0_col5\" class=\"data row0 col5\" >0</td>\n",
              "                        <td id=\"T_8f064a82_499d_11ec_bda8_0242ac1c0002row0_col6\" class=\"data row0 col6\" >0</td>\n",
              "                        <td id=\"T_8f064a82_499d_11ec_bda8_0242ac1c0002row0_col7\" class=\"data row0 col7\" >0</td>\n",
              "                        <td id=\"T_8f064a82_499d_11ec_bda8_0242ac1c0002row0_col8\" class=\"data row0 col8\" >0</td>\n",
              "                        <td id=\"T_8f064a82_499d_11ec_bda8_0242ac1c0002row0_col9\" class=\"data row0 col9\" >0</td>\n",
              "                        <td id=\"T_8f064a82_499d_11ec_bda8_0242ac1c0002row0_col10\" class=\"data row0 col10\" >7</td>\n",
              "                        <td id=\"T_8f064a82_499d_11ec_bda8_0242ac1c0002row0_col11\" class=\"data row0 col11\" >4</td>\n",
              "            </tr>\n",
              "            <tr>\n",
              "                        <th id=\"T_8f064a82_499d_11ec_bda8_0242ac1c0002level0_row1\" class=\"row_heading level0 row1\" >Actual M23-26</th>\n",
              "                        <td id=\"T_8f064a82_499d_11ec_bda8_0242ac1c0002row1_col0\" class=\"data row1 col0\" >0</td>\n",
              "                        <td id=\"T_8f064a82_499d_11ec_bda8_0242ac1c0002row1_col1\" class=\"data row1 col1\" >243</td>\n",
              "                        <td id=\"T_8f064a82_499d_11ec_bda8_0242ac1c0002row1_col2\" class=\"data row1 col2\" >0</td>\n",
              "                        <td id=\"T_8f064a82_499d_11ec_bda8_0242ac1c0002row1_col3\" class=\"data row1 col3\" >0</td>\n",
              "                        <td id=\"T_8f064a82_499d_11ec_bda8_0242ac1c0002row1_col4\" class=\"data row1 col4\" >8</td>\n",
              "                        <td id=\"T_8f064a82_499d_11ec_bda8_0242ac1c0002row1_col5\" class=\"data row1 col5\" >7</td>\n",
              "                        <td id=\"T_8f064a82_499d_11ec_bda8_0242ac1c0002row1_col6\" class=\"data row1 col6\" >0</td>\n",
              "                        <td id=\"T_8f064a82_499d_11ec_bda8_0242ac1c0002row1_col7\" class=\"data row1 col7\" >0</td>\n",
              "                        <td id=\"T_8f064a82_499d_11ec_bda8_0242ac1c0002row1_col8\" class=\"data row1 col8\" >0</td>\n",
              "                        <td id=\"T_8f064a82_499d_11ec_bda8_0242ac1c0002row1_col9\" class=\"data row1 col9\" >0</td>\n",
              "                        <td id=\"T_8f064a82_499d_11ec_bda8_0242ac1c0002row1_col10\" class=\"data row1 col10\" >0</td>\n",
              "                        <td id=\"T_8f064a82_499d_11ec_bda8_0242ac1c0002row1_col11\" class=\"data row1 col11\" >0</td>\n",
              "            </tr>\n",
              "            <tr>\n",
              "                        <th id=\"T_8f064a82_499d_11ec_bda8_0242ac1c0002level0_row2\" class=\"row_heading level0 row2\" >Actual M27-28</th>\n",
              "                        <td id=\"T_8f064a82_499d_11ec_bda8_0242ac1c0002row2_col0\" class=\"data row2 col0\" >0</td>\n",
              "                        <td id=\"T_8f064a82_499d_11ec_bda8_0242ac1c0002row2_col1\" class=\"data row2 col1\" >0</td>\n",
              "                        <td id=\"T_8f064a82_499d_11ec_bda8_0242ac1c0002row2_col2\" class=\"data row2 col2\" >138</td>\n",
              "                        <td id=\"T_8f064a82_499d_11ec_bda8_0242ac1c0002row2_col3\" class=\"data row2 col3\" >13</td>\n",
              "                        <td id=\"T_8f064a82_499d_11ec_bda8_0242ac1c0002row2_col4\" class=\"data row2 col4\" >14</td>\n",
              "                        <td id=\"T_8f064a82_499d_11ec_bda8_0242ac1c0002row2_col5\" class=\"data row2 col5\" >9</td>\n",
              "                        <td id=\"T_8f064a82_499d_11ec_bda8_0242ac1c0002row2_col6\" class=\"data row2 col6\" >9</td>\n",
              "                        <td id=\"T_8f064a82_499d_11ec_bda8_0242ac1c0002row2_col7\" class=\"data row2 col7\" >0</td>\n",
              "                        <td id=\"T_8f064a82_499d_11ec_bda8_0242ac1c0002row2_col8\" class=\"data row2 col8\" >0</td>\n",
              "                        <td id=\"T_8f064a82_499d_11ec_bda8_0242ac1c0002row2_col9\" class=\"data row2 col9\" >0</td>\n",
              "                        <td id=\"T_8f064a82_499d_11ec_bda8_0242ac1c0002row2_col10\" class=\"data row2 col10\" >0</td>\n",
              "                        <td id=\"T_8f064a82_499d_11ec_bda8_0242ac1c0002row2_col11\" class=\"data row2 col11\" >9</td>\n",
              "            </tr>\n",
              "            <tr>\n",
              "                        <th id=\"T_8f064a82_499d_11ec_bda8_0242ac1c0002level0_row3\" class=\"row_heading level0 row3\" >Actual M29-31</th>\n",
              "                        <td id=\"T_8f064a82_499d_11ec_bda8_0242ac1c0002row3_col0\" class=\"data row3 col0\" >8</td>\n",
              "                        <td id=\"T_8f064a82_499d_11ec_bda8_0242ac1c0002row3_col1\" class=\"data row3 col1\" >0</td>\n",
              "                        <td id=\"T_8f064a82_499d_11ec_bda8_0242ac1c0002row3_col2\" class=\"data row3 col2\" >0</td>\n",
              "                        <td id=\"T_8f064a82_499d_11ec_bda8_0242ac1c0002row3_col3\" class=\"data row3 col3\" >224</td>\n",
              "                        <td id=\"T_8f064a82_499d_11ec_bda8_0242ac1c0002row3_col4\" class=\"data row3 col4\" >9</td>\n",
              "                        <td id=\"T_8f064a82_499d_11ec_bda8_0242ac1c0002row3_col5\" class=\"data row3 col5\" >35</td>\n",
              "                        <td id=\"T_8f064a82_499d_11ec_bda8_0242ac1c0002row3_col6\" class=\"data row3 col6\" >0</td>\n",
              "                        <td id=\"T_8f064a82_499d_11ec_bda8_0242ac1c0002row3_col7\" class=\"data row3 col7\" >0</td>\n",
              "                        <td id=\"T_8f064a82_499d_11ec_bda8_0242ac1c0002row3_col8\" class=\"data row3 col8\" >0</td>\n",
              "                        <td id=\"T_8f064a82_499d_11ec_bda8_0242ac1c0002row3_col9\" class=\"data row3 col9\" >0</td>\n",
              "                        <td id=\"T_8f064a82_499d_11ec_bda8_0242ac1c0002row3_col10\" class=\"data row3 col10\" >7</td>\n",
              "                        <td id=\"T_8f064a82_499d_11ec_bda8_0242ac1c0002row3_col11\" class=\"data row3 col11\" >0</td>\n",
              "            </tr>\n",
              "            <tr>\n",
              "                        <th id=\"T_8f064a82_499d_11ec_bda8_0242ac1c0002level0_row4\" class=\"row_heading level0 row4\" >Actual M32-38</th>\n",
              "                        <td id=\"T_8f064a82_499d_11ec_bda8_0242ac1c0002row4_col0\" class=\"data row4 col0\" >0</td>\n",
              "                        <td id=\"T_8f064a82_499d_11ec_bda8_0242ac1c0002row4_col1\" class=\"data row4 col1\" >0</td>\n",
              "                        <td id=\"T_8f064a82_499d_11ec_bda8_0242ac1c0002row4_col2\" class=\"data row4 col2\" >0</td>\n",
              "                        <td id=\"T_8f064a82_499d_11ec_bda8_0242ac1c0002row4_col3\" class=\"data row4 col3\" >15</td>\n",
              "                        <td id=\"T_8f064a82_499d_11ec_bda8_0242ac1c0002row4_col4\" class=\"data row4 col4\" >482</td>\n",
              "                        <td id=\"T_8f064a82_499d_11ec_bda8_0242ac1c0002row4_col5\" class=\"data row4 col5\" >42</td>\n",
              "                        <td id=\"T_8f064a82_499d_11ec_bda8_0242ac1c0002row4_col6\" class=\"data row4 col6\" >0</td>\n",
              "                        <td id=\"T_8f064a82_499d_11ec_bda8_0242ac1c0002row4_col7\" class=\"data row4 col7\" >0</td>\n",
              "                        <td id=\"T_8f064a82_499d_11ec_bda8_0242ac1c0002row4_col8\" class=\"data row4 col8\" >0</td>\n",
              "                        <td id=\"T_8f064a82_499d_11ec_bda8_0242ac1c0002row4_col9\" class=\"data row4 col9\" >0</td>\n",
              "                        <td id=\"T_8f064a82_499d_11ec_bda8_0242ac1c0002row4_col10\" class=\"data row4 col10\" >0</td>\n",
              "                        <td id=\"T_8f064a82_499d_11ec_bda8_0242ac1c0002row4_col11\" class=\"data row4 col11\" >0</td>\n",
              "            </tr>\n",
              "            <tr>\n",
              "                        <th id=\"T_8f064a82_499d_11ec_bda8_0242ac1c0002level0_row5\" class=\"row_heading level0 row5\" >Actual M39+</th>\n",
              "                        <td id=\"T_8f064a82_499d_11ec_bda8_0242ac1c0002row5_col0\" class=\"data row5 col0\" >0</td>\n",
              "                        <td id=\"T_8f064a82_499d_11ec_bda8_0242ac1c0002row5_col1\" class=\"data row5 col1\" >0</td>\n",
              "                        <td id=\"T_8f064a82_499d_11ec_bda8_0242ac1c0002row5_col2\" class=\"data row5 col2\" >3</td>\n",
              "                        <td id=\"T_8f064a82_499d_11ec_bda8_0242ac1c0002row5_col3\" class=\"data row5 col3\" >27</td>\n",
              "                        <td id=\"T_8f064a82_499d_11ec_bda8_0242ac1c0002row5_col4\" class=\"data row5 col4\" >17</td>\n",
              "                        <td id=\"T_8f064a82_499d_11ec_bda8_0242ac1c0002row5_col5\" class=\"data row5 col5\" >548</td>\n",
              "                        <td id=\"T_8f064a82_499d_11ec_bda8_0242ac1c0002row5_col6\" class=\"data row5 col6\" >0</td>\n",
              "                        <td id=\"T_8f064a82_499d_11ec_bda8_0242ac1c0002row5_col7\" class=\"data row5 col7\" >0</td>\n",
              "                        <td id=\"T_8f064a82_499d_11ec_bda8_0242ac1c0002row5_col8\" class=\"data row5 col8\" >0</td>\n",
              "                        <td id=\"T_8f064a82_499d_11ec_bda8_0242ac1c0002row5_col9\" class=\"data row5 col9\" >0</td>\n",
              "                        <td id=\"T_8f064a82_499d_11ec_bda8_0242ac1c0002row5_col10\" class=\"data row5 col10\" >0</td>\n",
              "                        <td id=\"T_8f064a82_499d_11ec_bda8_0242ac1c0002row5_col11\" class=\"data row5 col11\" >0</td>\n",
              "            </tr>\n",
              "            <tr>\n",
              "                        <th id=\"T_8f064a82_499d_11ec_bda8_0242ac1c0002level0_row6\" class=\"row_heading level0 row6\" >Actual F23-</th>\n",
              "                        <td id=\"T_8f064a82_499d_11ec_bda8_0242ac1c0002row6_col0\" class=\"data row6 col0\" >0</td>\n",
              "                        <td id=\"T_8f064a82_499d_11ec_bda8_0242ac1c0002row6_col1\" class=\"data row6 col1\" >0</td>\n",
              "                        <td id=\"T_8f064a82_499d_11ec_bda8_0242ac1c0002row6_col2\" class=\"data row6 col2\" >0</td>\n",
              "                        <td id=\"T_8f064a82_499d_11ec_bda8_0242ac1c0002row6_col3\" class=\"data row6 col3\" >0</td>\n",
              "                        <td id=\"T_8f064a82_499d_11ec_bda8_0242ac1c0002row6_col4\" class=\"data row6 col4\" >12</td>\n",
              "                        <td id=\"T_8f064a82_499d_11ec_bda8_0242ac1c0002row6_col5\" class=\"data row6 col5\" >0</td>\n",
              "                        <td id=\"T_8f064a82_499d_11ec_bda8_0242ac1c0002row6_col6\" class=\"data row6 col6\" >27</td>\n",
              "                        <td id=\"T_8f064a82_499d_11ec_bda8_0242ac1c0002row6_col7\" class=\"data row6 col7\" >0</td>\n",
              "                        <td id=\"T_8f064a82_499d_11ec_bda8_0242ac1c0002row6_col8\" class=\"data row6 col8\" >0</td>\n",
              "                        <td id=\"T_8f064a82_499d_11ec_bda8_0242ac1c0002row6_col9\" class=\"data row6 col9\" >0</td>\n",
              "                        <td id=\"T_8f064a82_499d_11ec_bda8_0242ac1c0002row6_col10\" class=\"data row6 col10\" >0</td>\n",
              "                        <td id=\"T_8f064a82_499d_11ec_bda8_0242ac1c0002row6_col11\" class=\"data row6 col11\" >0</td>\n",
              "            </tr>\n",
              "            <tr>\n",
              "                        <th id=\"T_8f064a82_499d_11ec_bda8_0242ac1c0002level0_row7\" class=\"row_heading level0 row7\" >Actual F24-26</th>\n",
              "                        <td id=\"T_8f064a82_499d_11ec_bda8_0242ac1c0002row7_col0\" class=\"data row7 col0\" >0</td>\n",
              "                        <td id=\"T_8f064a82_499d_11ec_bda8_0242ac1c0002row7_col1\" class=\"data row7 col1\" >0</td>\n",
              "                        <td id=\"T_8f064a82_499d_11ec_bda8_0242ac1c0002row7_col2\" class=\"data row7 col2\" >0</td>\n",
              "                        <td id=\"T_8f064a82_499d_11ec_bda8_0242ac1c0002row7_col3\" class=\"data row7 col3\" >0</td>\n",
              "                        <td id=\"T_8f064a82_499d_11ec_bda8_0242ac1c0002row7_col4\" class=\"data row7 col4\" >0</td>\n",
              "                        <td id=\"T_8f064a82_499d_11ec_bda8_0242ac1c0002row7_col5\" class=\"data row7 col5\" >0</td>\n",
              "                        <td id=\"T_8f064a82_499d_11ec_bda8_0242ac1c0002row7_col6\" class=\"data row7 col6\" >0</td>\n",
              "                        <td id=\"T_8f064a82_499d_11ec_bda8_0242ac1c0002row7_col7\" class=\"data row7 col7\" >29</td>\n",
              "                        <td id=\"T_8f064a82_499d_11ec_bda8_0242ac1c0002row7_col8\" class=\"data row7 col8\" >0</td>\n",
              "                        <td id=\"T_8f064a82_499d_11ec_bda8_0242ac1c0002row7_col9\" class=\"data row7 col9\" >0</td>\n",
              "                        <td id=\"T_8f064a82_499d_11ec_bda8_0242ac1c0002row7_col10\" class=\"data row7 col10\" >0</td>\n",
              "                        <td id=\"T_8f064a82_499d_11ec_bda8_0242ac1c0002row7_col11\" class=\"data row7 col11\" >0</td>\n",
              "            </tr>\n",
              "            <tr>\n",
              "                        <th id=\"T_8f064a82_499d_11ec_bda8_0242ac1c0002level0_row8\" class=\"row_heading level0 row8\" >Actual F27-28</th>\n",
              "                        <td id=\"T_8f064a82_499d_11ec_bda8_0242ac1c0002row8_col0\" class=\"data row8 col0\" >0</td>\n",
              "                        <td id=\"T_8f064a82_499d_11ec_bda8_0242ac1c0002row8_col1\" class=\"data row8 col1\" >13</td>\n",
              "                        <td id=\"T_8f064a82_499d_11ec_bda8_0242ac1c0002row8_col2\" class=\"data row8 col2\" >0</td>\n",
              "                        <td id=\"T_8f064a82_499d_11ec_bda8_0242ac1c0002row8_col3\" class=\"data row8 col3\" >14</td>\n",
              "                        <td id=\"T_8f064a82_499d_11ec_bda8_0242ac1c0002row8_col4\" class=\"data row8 col4\" >11</td>\n",
              "                        <td id=\"T_8f064a82_499d_11ec_bda8_0242ac1c0002row8_col5\" class=\"data row8 col5\" >0</td>\n",
              "                        <td id=\"T_8f064a82_499d_11ec_bda8_0242ac1c0002row8_col6\" class=\"data row8 col6\" >0</td>\n",
              "                        <td id=\"T_8f064a82_499d_11ec_bda8_0242ac1c0002row8_col7\" class=\"data row8 col7\" >0</td>\n",
              "                        <td id=\"T_8f064a82_499d_11ec_bda8_0242ac1c0002row8_col8\" class=\"data row8 col8\" >19</td>\n",
              "                        <td id=\"T_8f064a82_499d_11ec_bda8_0242ac1c0002row8_col9\" class=\"data row8 col9\" >0</td>\n",
              "                        <td id=\"T_8f064a82_499d_11ec_bda8_0242ac1c0002row8_col10\" class=\"data row8 col10\" >0</td>\n",
              "                        <td id=\"T_8f064a82_499d_11ec_bda8_0242ac1c0002row8_col11\" class=\"data row8 col11\" >0</td>\n",
              "            </tr>\n",
              "            <tr>\n",
              "                        <th id=\"T_8f064a82_499d_11ec_bda8_0242ac1c0002level0_row9\" class=\"row_heading level0 row9\" >Actual F29-32</th>\n",
              "                        <td id=\"T_8f064a82_499d_11ec_bda8_0242ac1c0002row9_col0\" class=\"data row9 col0\" >0</td>\n",
              "                        <td id=\"T_8f064a82_499d_11ec_bda8_0242ac1c0002row9_col1\" class=\"data row9 col1\" >0</td>\n",
              "                        <td id=\"T_8f064a82_499d_11ec_bda8_0242ac1c0002row9_col2\" class=\"data row9 col2\" >0</td>\n",
              "                        <td id=\"T_8f064a82_499d_11ec_bda8_0242ac1c0002row9_col3\" class=\"data row9 col3\" >0</td>\n",
              "                        <td id=\"T_8f064a82_499d_11ec_bda8_0242ac1c0002row9_col4\" class=\"data row9 col4\" >10</td>\n",
              "                        <td id=\"T_8f064a82_499d_11ec_bda8_0242ac1c0002row9_col5\" class=\"data row9 col5\" >6</td>\n",
              "                        <td id=\"T_8f064a82_499d_11ec_bda8_0242ac1c0002row9_col6\" class=\"data row9 col6\" >0</td>\n",
              "                        <td id=\"T_8f064a82_499d_11ec_bda8_0242ac1c0002row9_col7\" class=\"data row9 col7\" >13</td>\n",
              "                        <td id=\"T_8f064a82_499d_11ec_bda8_0242ac1c0002row9_col8\" class=\"data row9 col8\" >0</td>\n",
              "                        <td id=\"T_8f064a82_499d_11ec_bda8_0242ac1c0002row9_col9\" class=\"data row9 col9\" >52</td>\n",
              "                        <td id=\"T_8f064a82_499d_11ec_bda8_0242ac1c0002row9_col10\" class=\"data row9 col10\" >0</td>\n",
              "                        <td id=\"T_8f064a82_499d_11ec_bda8_0242ac1c0002row9_col11\" class=\"data row9 col11\" >0</td>\n",
              "            </tr>\n",
              "            <tr>\n",
              "                        <th id=\"T_8f064a82_499d_11ec_bda8_0242ac1c0002level0_row10\" class=\"row_heading level0 row10\" >Actual F33-42</th>\n",
              "                        <td id=\"T_8f064a82_499d_11ec_bda8_0242ac1c0002row10_col0\" class=\"data row10 col0\" >0</td>\n",
              "                        <td id=\"T_8f064a82_499d_11ec_bda8_0242ac1c0002row10_col1\" class=\"data row10 col1\" >0</td>\n",
              "                        <td id=\"T_8f064a82_499d_11ec_bda8_0242ac1c0002row10_col2\" class=\"data row10 col2\" >0</td>\n",
              "                        <td id=\"T_8f064a82_499d_11ec_bda8_0242ac1c0002row10_col3\" class=\"data row10 col3\" >9</td>\n",
              "                        <td id=\"T_8f064a82_499d_11ec_bda8_0242ac1c0002row10_col4\" class=\"data row10 col4\" >0</td>\n",
              "                        <td id=\"T_8f064a82_499d_11ec_bda8_0242ac1c0002row10_col5\" class=\"data row10 col5\" >22</td>\n",
              "                        <td id=\"T_8f064a82_499d_11ec_bda8_0242ac1c0002row10_col6\" class=\"data row10 col6\" >0</td>\n",
              "                        <td id=\"T_8f064a82_499d_11ec_bda8_0242ac1c0002row10_col7\" class=\"data row10 col7\" >0</td>\n",
              "                        <td id=\"T_8f064a82_499d_11ec_bda8_0242ac1c0002row10_col8\" class=\"data row10 col8\" >16</td>\n",
              "                        <td id=\"T_8f064a82_499d_11ec_bda8_0242ac1c0002row10_col9\" class=\"data row10 col9\" >0</td>\n",
              "                        <td id=\"T_8f064a82_499d_11ec_bda8_0242ac1c0002row10_col10\" class=\"data row10 col10\" >90</td>\n",
              "                        <td id=\"T_8f064a82_499d_11ec_bda8_0242ac1c0002row10_col11\" class=\"data row10 col11\" >0</td>\n",
              "            </tr>\n",
              "            <tr>\n",
              "                        <th id=\"T_8f064a82_499d_11ec_bda8_0242ac1c0002level0_row11\" class=\"row_heading level0 row11\" >Actual F43+</th>\n",
              "                        <td id=\"T_8f064a82_499d_11ec_bda8_0242ac1c0002row11_col0\" class=\"data row11 col0\" >0</td>\n",
              "                        <td id=\"T_8f064a82_499d_11ec_bda8_0242ac1c0002row11_col1\" class=\"data row11 col1\" >5</td>\n",
              "                        <td id=\"T_8f064a82_499d_11ec_bda8_0242ac1c0002row11_col2\" class=\"data row11 col2\" >0</td>\n",
              "                        <td id=\"T_8f064a82_499d_11ec_bda8_0242ac1c0002row11_col3\" class=\"data row11 col3\" >7</td>\n",
              "                        <td id=\"T_8f064a82_499d_11ec_bda8_0242ac1c0002row11_col4\" class=\"data row11 col4\" >9</td>\n",
              "                        <td id=\"T_8f064a82_499d_11ec_bda8_0242ac1c0002row11_col5\" class=\"data row11 col5\" >2</td>\n",
              "                        <td id=\"T_8f064a82_499d_11ec_bda8_0242ac1c0002row11_col6\" class=\"data row11 col6\" >0</td>\n",
              "                        <td id=\"T_8f064a82_499d_11ec_bda8_0242ac1c0002row11_col7\" class=\"data row11 col7\" >0</td>\n",
              "                        <td id=\"T_8f064a82_499d_11ec_bda8_0242ac1c0002row11_col8\" class=\"data row11 col8\" >0</td>\n",
              "                        <td id=\"T_8f064a82_499d_11ec_bda8_0242ac1c0002row11_col9\" class=\"data row11 col9\" >32</td>\n",
              "                        <td id=\"T_8f064a82_499d_11ec_bda8_0242ac1c0002row11_col10\" class=\"data row11 col10\" >0</td>\n",
              "                        <td id=\"T_8f064a82_499d_11ec_bda8_0242ac1c0002row11_col11\" class=\"data row11 col11\" >118</td>\n",
              "            </tr>\n",
              "    </tbody></table>"
            ],
            "text/plain": [
              "<pandas.io.formats.style.Styler at 0x7f3d1309a910>"
            ]
          },
          "metadata": {},
          "execution_count": 29
        }
      ]
    },
    {
      "cell_type": "code",
      "metadata": {
        "colab": {
          "base_uri": "https://localhost:8080/"
        },
        "id": "SuYUrFZZzpog",
        "outputId": "3aab1f52-f26a-4362-fa84-f2ad1dcc1ce0"
      },
      "source": [
        "print(\"Classification Report:\")\n",
        "print()\n",
        "print(classification_report(y_test, y_pred))"
      ],
      "execution_count": null,
      "outputs": [
        {
          "output_type": "stream",
          "name": "stdout",
          "text": [
            "Classification Report:\n",
            "\n",
            "              precision    recall  f1-score   support\n",
            "\n",
            "           0       0.92      0.76      0.83       128\n",
            "           1       0.93      0.94      0.94       258\n",
            "           2       0.95      0.72      0.82       192\n",
            "           3       0.71      0.79      0.75       283\n",
            "           4       0.83      0.89      0.86       539\n",
            "           5       0.82      0.92      0.87       595\n",
            "           6       0.75      0.69      0.72        39\n",
            "           7       0.69      1.00      0.82        29\n",
            "           8       0.54      0.33      0.41        57\n",
            "           9       0.62      0.64      0.63        81\n",
            "          10       0.87      0.66      0.75       137\n",
            "          11       0.90      0.68      0.78       173\n",
            "\n",
            "    accuracy                           0.82      2511\n",
            "   macro avg       0.79      0.75      0.76      2511\n",
            "weighted avg       0.83      0.82      0.82      2511\n",
            "\n"
          ]
        }
      ]
    },
    {
      "cell_type": "code",
      "metadata": {
        "id": "iKeTtNAu0Aq8"
      },
      "source": [
        "def multiclass_roc_auc_score(y_test, y_pred, average=\"macro\"):\n",
        "  lb = LabelBinarizer()\n",
        "  lb.fit(y_test)\n",
        "  y_test = lb.transform(y_test)\n",
        "  y_pred = lb.transform(y_pred)\n",
        "  return roc_auc_score(y_test, y_pred, average=average)\n"
      ],
      "execution_count": null,
      "outputs": []
    },
    {
      "cell_type": "code",
      "metadata": {
        "colab": {
          "base_uri": "https://localhost:8080/"
        },
        "id": "VG7J82Fy0AtL",
        "outputId": "94f5894a-f51b-4f86-cc2e-42788d6128eb"
      },
      "source": [
        "multiclass_roc_auc_score(y_test, y_pred, average=\"macro\")"
      ],
      "execution_count": null,
      "outputs": [
        {
          "output_type": "execute_result",
          "data": {
            "text/plain": [
              "0.8675760593619294"
            ]
          },
          "metadata": {},
          "execution_count": 32
        }
      ]
    },
    {
      "cell_type": "markdown",
      "metadata": {
        "id": "J167QMmb0m29"
      },
      "source": [
        "# Gradient Boosting "
      ]
    },
    {
      "cell_type": "code",
      "metadata": {
        "colab": {
          "base_uri": "https://localhost:8080/"
        },
        "id": "uMH8cfg50oUF",
        "outputId": "d0716f1a-a824-4f25-a88f-159b34a895e3"
      },
      "source": [
        "pipeline = Pipeline(\n",
        "    [(\"preprocessing\", preprocessing), (\"gb\", GradientBoostingClassifier())], verbose=True\n",
        ")\n",
        "\n",
        "pipeline.fit(X_train, y_train)\n"
      ],
      "execution_count": null,
      "outputs": [
        {
          "output_type": "stream",
          "name": "stdout",
          "text": [
            "[Pipeline] ..... (step 1 of 2) Processing preprocessing, total=   0.0s\n",
            "[Pipeline] ................ (step 2 of 2) Processing gb, total=  21.1s\n"
          ]
        },
        {
          "output_type": "execute_result",
          "data": {
            "text/plain": [
              "Pipeline(steps=[('preprocessing',\n",
              "                 ColumnTransformer(remainder='passthrough',\n",
              "                                   transformers=[('scale', StandardScaler(),\n",
              "                                                  ['device_id', 'event_id'])])),\n",
              "                ('gb', GradientBoostingClassifier())],\n",
              "         verbose=True)"
            ]
          },
          "metadata": {},
          "execution_count": 42
        }
      ]
    },
    {
      "cell_type": "code",
      "metadata": {
        "colab": {
          "base_uri": "https://localhost:8080/"
        },
        "id": "IhLiPWEQ0qVs",
        "outputId": "3889bca1-2d23-43e5-8f64-bf56df2c428a"
      },
      "source": [
        "grid = {'gb__n_estimators': [100], \n",
        "          'gb__max_depth': [5],\n",
        "          'gb__loss': ['deviance']}\n",
        "\n",
        "model = GridSearchCV(pipeline, grid, verbose=1, cv=3)\n",
        "model.fit(X_train, y_train)\n"
      ],
      "execution_count": null,
      "outputs": [
        {
          "output_type": "stream",
          "name": "stdout",
          "text": [
            "Fitting 3 folds for each of 1 candidates, totalling 3 fits\n",
            "[Pipeline] ..... (step 1 of 2) Processing preprocessing, total=   0.0s\n",
            "[Pipeline] ................ (step 2 of 2) Processing gb, total=  20.8s\n",
            "[Pipeline] ..... (step 1 of 2) Processing preprocessing, total=   0.0s\n",
            "[Pipeline] ................ (step 2 of 2) Processing gb, total=  20.5s\n",
            "[Pipeline] ..... (step 1 of 2) Processing preprocessing, total=   0.0s\n",
            "[Pipeline] ................ (step 2 of 2) Processing gb, total=  20.5s\n",
            "[Pipeline] ..... (step 1 of 2) Processing preprocessing, total=   0.0s\n",
            "[Pipeline] ................ (step 2 of 2) Processing gb, total=  30.6s\n"
          ]
        },
        {
          "output_type": "execute_result",
          "data": {
            "text/plain": [
              "GridSearchCV(cv=3,\n",
              "             estimator=Pipeline(steps=[('preprocessing',\n",
              "                                        ColumnTransformer(remainder='passthrough',\n",
              "                                                          transformers=[('scale',\n",
              "                                                                         StandardScaler(),\n",
              "                                                                         ['device_id',\n",
              "                                                                          'event_id'])])),\n",
              "                                       ('gb', GradientBoostingClassifier())],\n",
              "                                verbose=True),\n",
              "             param_grid={'gb__loss': ['deviance'], 'gb__max_depth': [5],\n",
              "                         'gb__n_estimators': [100]},\n",
              "             verbose=1)"
            ]
          },
          "metadata": {},
          "execution_count": 43
        }
      ]
    },
    {
      "cell_type": "code",
      "metadata": {
        "colab": {
          "base_uri": "https://localhost:8080/"
        },
        "id": "hg8gXSLP0qYf",
        "outputId": "9bb9be1d-bfa0-459b-b37a-6c28e8b8da4c"
      },
      "source": [
        "model.best_params_"
      ],
      "execution_count": null,
      "outputs": [
        {
          "output_type": "execute_result",
          "data": {
            "text/plain": [
              "{'gb__loss': 'deviance', 'gb__max_depth': 5, 'gb__n_estimators': 100}"
            ]
          },
          "metadata": {},
          "execution_count": 44
        }
      ]
    },
    {
      "cell_type": "code",
      "metadata": {
        "colab": {
          "base_uri": "https://localhost:8080/"
        },
        "id": "cBmAD_cJ0qah",
        "outputId": "9a8a0fdc-0689-4eac-ca98-79435be2e725"
      },
      "source": [
        "# Model still appears to be extremely overfitting\n",
        "train_score = model.score(X_train, y_train)\n",
        "test_score = model.score(X_test, y_test)\n",
        "\n",
        "print(f\"Train score: {train_score}\")\n",
        "print(f\"Test score: {test_score}\")"
      ],
      "execution_count": null,
      "outputs": [
        {
          "output_type": "stream",
          "name": "stdout",
          "text": [
            "Train score: 1.0\n",
            "Test score: 1.0\n"
          ]
        }
      ]
    },
    {
      "cell_type": "code",
      "metadata": {
        "colab": {
          "base_uri": "https://localhost:8080/",
          "height": 425
        },
        "id": "-WqrgMRI0qfk",
        "outputId": "f33d918d-98d0-4075-e6b9-75a724772780"
      },
      "source": [
        "y_pred = model.predict(X_test)\n",
        "\n",
        "con_mat = pd.DataFrame(\n",
        "    confusion_matrix(y_test, y_pred),\n",
        "    index=[\n",
        "        \"Actual M22-\",\n",
        "        \"Actual M23-26\",\n",
        "        \"Actual M27-28\",\n",
        "        \"Actual M29-31\",\n",
        "        \"Actual M32-38\",\n",
        "        \"Actual M39+\",\n",
        "        \"Actual F23-\",\n",
        "        \"Actual F24-26\",\n",
        "        \"Actual F27-28\",\n",
        "        \"Actual F29-32\",\n",
        "        \"Actual F33-42\",\n",
        "        \"Actual F43+\",\n",
        "    ],\n",
        "    columns=[\n",
        "        \"Predicted M22-\",\n",
        "        \"Predicted M23-26\",\n",
        "        \"Predicted M27-28\",\n",
        "        \"Predicted M29-31\",\n",
        "        \"Predicted M32-38\",\n",
        "        \"Predicted M39+\",\n",
        "        \"Predicted F23-\",\n",
        "        \"Predicted F24-26\",\n",
        "        \"Predicted F27-28\",\n",
        "        \"Predicted F29-32\",\n",
        "        \"Predicted F33-42\",\n",
        "        \"Predicted F43+\",\n",
        "    ],\n",
        ")\n",
        "con_mat.style.background_gradient(axis=None)\n"
      ],
      "execution_count": null,
      "outputs": [
        {
          "output_type": "execute_result",
          "data": {
            "text/html": [
              "<style  type=\"text/css\" >\n",
              "#T_37bda01c_499e_11ec_bda8_0242ac1c0002row0_col0{\n",
              "            background-color:  #d8d7e9;\n",
              "            color:  #000000;\n",
              "        }#T_37bda01c_499e_11ec_bda8_0242ac1c0002row0_col1,#T_37bda01c_499e_11ec_bda8_0242ac1c0002row0_col2,#T_37bda01c_499e_11ec_bda8_0242ac1c0002row0_col3,#T_37bda01c_499e_11ec_bda8_0242ac1c0002row0_col4,#T_37bda01c_499e_11ec_bda8_0242ac1c0002row0_col5,#T_37bda01c_499e_11ec_bda8_0242ac1c0002row0_col6,#T_37bda01c_499e_11ec_bda8_0242ac1c0002row0_col7,#T_37bda01c_499e_11ec_bda8_0242ac1c0002row0_col8,#T_37bda01c_499e_11ec_bda8_0242ac1c0002row0_col9,#T_37bda01c_499e_11ec_bda8_0242ac1c0002row0_col10,#T_37bda01c_499e_11ec_bda8_0242ac1c0002row0_col11,#T_37bda01c_499e_11ec_bda8_0242ac1c0002row1_col0,#T_37bda01c_499e_11ec_bda8_0242ac1c0002row1_col2,#T_37bda01c_499e_11ec_bda8_0242ac1c0002row1_col3,#T_37bda01c_499e_11ec_bda8_0242ac1c0002row1_col4,#T_37bda01c_499e_11ec_bda8_0242ac1c0002row1_col5,#T_37bda01c_499e_11ec_bda8_0242ac1c0002row1_col6,#T_37bda01c_499e_11ec_bda8_0242ac1c0002row1_col7,#T_37bda01c_499e_11ec_bda8_0242ac1c0002row1_col8,#T_37bda01c_499e_11ec_bda8_0242ac1c0002row1_col9,#T_37bda01c_499e_11ec_bda8_0242ac1c0002row1_col10,#T_37bda01c_499e_11ec_bda8_0242ac1c0002row1_col11,#T_37bda01c_499e_11ec_bda8_0242ac1c0002row2_col0,#T_37bda01c_499e_11ec_bda8_0242ac1c0002row2_col1,#T_37bda01c_499e_11ec_bda8_0242ac1c0002row2_col3,#T_37bda01c_499e_11ec_bda8_0242ac1c0002row2_col4,#T_37bda01c_499e_11ec_bda8_0242ac1c0002row2_col5,#T_37bda01c_499e_11ec_bda8_0242ac1c0002row2_col6,#T_37bda01c_499e_11ec_bda8_0242ac1c0002row2_col7,#T_37bda01c_499e_11ec_bda8_0242ac1c0002row2_col8,#T_37bda01c_499e_11ec_bda8_0242ac1c0002row2_col9,#T_37bda01c_499e_11ec_bda8_0242ac1c0002row2_col10,#T_37bda01c_499e_11ec_bda8_0242ac1c0002row2_col11,#T_37bda01c_499e_11ec_bda8_0242ac1c0002row3_col0,#T_37bda01c_499e_11ec_bda8_0242ac1c0002row3_col1,#T_37bda01c_499e_11ec_bda8_0242ac1c0002row3_col2,#T_37bda01c_499e_11ec_bda8_0242ac1c0002row3_col4,#T_37bda01c_499e_11ec_bda8_0242ac1c0002row3_col5,#T_37bda01c_499e_11ec_bda8_0242ac1c0002row3_col6,#T_37bda01c_499e_11ec_bda8_0242ac1c0002row3_col7,#T_37bda01c_499e_11ec_bda8_0242ac1c0002row3_col8,#T_37bda01c_499e_11ec_bda8_0242ac1c0002row3_col9,#T_37bda01c_499e_11ec_bda8_0242ac1c0002row3_col10,#T_37bda01c_499e_11ec_bda8_0242ac1c0002row3_col11,#T_37bda01c_499e_11ec_bda8_0242ac1c0002row4_col0,#T_37bda01c_499e_11ec_bda8_0242ac1c0002row4_col1,#T_37bda01c_499e_11ec_bda8_0242ac1c0002row4_col2,#T_37bda01c_499e_11ec_bda8_0242ac1c0002row4_col3,#T_37bda01c_499e_11ec_bda8_0242ac1c0002row4_col5,#T_37bda01c_499e_11ec_bda8_0242ac1c0002row4_col6,#T_37bda01c_499e_11ec_bda8_0242ac1c0002row4_col7,#T_37bda01c_499e_11ec_bda8_0242ac1c0002row4_col8,#T_37bda01c_499e_11ec_bda8_0242ac1c0002row4_col9,#T_37bda01c_499e_11ec_bda8_0242ac1c0002row4_col10,#T_37bda01c_499e_11ec_bda8_0242ac1c0002row4_col11,#T_37bda01c_499e_11ec_bda8_0242ac1c0002row5_col0,#T_37bda01c_499e_11ec_bda8_0242ac1c0002row5_col1,#T_37bda01c_499e_11ec_bda8_0242ac1c0002row5_col2,#T_37bda01c_499e_11ec_bda8_0242ac1c0002row5_col3,#T_37bda01c_499e_11ec_bda8_0242ac1c0002row5_col4,#T_37bda01c_499e_11ec_bda8_0242ac1c0002row5_col6,#T_37bda01c_499e_11ec_bda8_0242ac1c0002row5_col7,#T_37bda01c_499e_11ec_bda8_0242ac1c0002row5_col8,#T_37bda01c_499e_11ec_bda8_0242ac1c0002row5_col9,#T_37bda01c_499e_11ec_bda8_0242ac1c0002row5_col10,#T_37bda01c_499e_11ec_bda8_0242ac1c0002row5_col11,#T_37bda01c_499e_11ec_bda8_0242ac1c0002row6_col0,#T_37bda01c_499e_11ec_bda8_0242ac1c0002row6_col1,#T_37bda01c_499e_11ec_bda8_0242ac1c0002row6_col2,#T_37bda01c_499e_11ec_bda8_0242ac1c0002row6_col3,#T_37bda01c_499e_11ec_bda8_0242ac1c0002row6_col4,#T_37bda01c_499e_11ec_bda8_0242ac1c0002row6_col5,#T_37bda01c_499e_11ec_bda8_0242ac1c0002row6_col7,#T_37bda01c_499e_11ec_bda8_0242ac1c0002row6_col8,#T_37bda01c_499e_11ec_bda8_0242ac1c0002row6_col9,#T_37bda01c_499e_11ec_bda8_0242ac1c0002row6_col10,#T_37bda01c_499e_11ec_bda8_0242ac1c0002row6_col11,#T_37bda01c_499e_11ec_bda8_0242ac1c0002row7_col0,#T_37bda01c_499e_11ec_bda8_0242ac1c0002row7_col1,#T_37bda01c_499e_11ec_bda8_0242ac1c0002row7_col2,#T_37bda01c_499e_11ec_bda8_0242ac1c0002row7_col3,#T_37bda01c_499e_11ec_bda8_0242ac1c0002row7_col4,#T_37bda01c_499e_11ec_bda8_0242ac1c0002row7_col5,#T_37bda01c_499e_11ec_bda8_0242ac1c0002row7_col6,#T_37bda01c_499e_11ec_bda8_0242ac1c0002row7_col8,#T_37bda01c_499e_11ec_bda8_0242ac1c0002row7_col9,#T_37bda01c_499e_11ec_bda8_0242ac1c0002row7_col10,#T_37bda01c_499e_11ec_bda8_0242ac1c0002row7_col11,#T_37bda01c_499e_11ec_bda8_0242ac1c0002row8_col0,#T_37bda01c_499e_11ec_bda8_0242ac1c0002row8_col1,#T_37bda01c_499e_11ec_bda8_0242ac1c0002row8_col2,#T_37bda01c_499e_11ec_bda8_0242ac1c0002row8_col3,#T_37bda01c_499e_11ec_bda8_0242ac1c0002row8_col4,#T_37bda01c_499e_11ec_bda8_0242ac1c0002row8_col5,#T_37bda01c_499e_11ec_bda8_0242ac1c0002row8_col6,#T_37bda01c_499e_11ec_bda8_0242ac1c0002row8_col7,#T_37bda01c_499e_11ec_bda8_0242ac1c0002row8_col9,#T_37bda01c_499e_11ec_bda8_0242ac1c0002row8_col10,#T_37bda01c_499e_11ec_bda8_0242ac1c0002row8_col11,#T_37bda01c_499e_11ec_bda8_0242ac1c0002row9_col0,#T_37bda01c_499e_11ec_bda8_0242ac1c0002row9_col1,#T_37bda01c_499e_11ec_bda8_0242ac1c0002row9_col2,#T_37bda01c_499e_11ec_bda8_0242ac1c0002row9_col3,#T_37bda01c_499e_11ec_bda8_0242ac1c0002row9_col4,#T_37bda01c_499e_11ec_bda8_0242ac1c0002row9_col5,#T_37bda01c_499e_11ec_bda8_0242ac1c0002row9_col6,#T_37bda01c_499e_11ec_bda8_0242ac1c0002row9_col7,#T_37bda01c_499e_11ec_bda8_0242ac1c0002row9_col8,#T_37bda01c_499e_11ec_bda8_0242ac1c0002row9_col10,#T_37bda01c_499e_11ec_bda8_0242ac1c0002row9_col11,#T_37bda01c_499e_11ec_bda8_0242ac1c0002row10_col0,#T_37bda01c_499e_11ec_bda8_0242ac1c0002row10_col1,#T_37bda01c_499e_11ec_bda8_0242ac1c0002row10_col2,#T_37bda01c_499e_11ec_bda8_0242ac1c0002row10_col3,#T_37bda01c_499e_11ec_bda8_0242ac1c0002row10_col4,#T_37bda01c_499e_11ec_bda8_0242ac1c0002row10_col5,#T_37bda01c_499e_11ec_bda8_0242ac1c0002row10_col6,#T_37bda01c_499e_11ec_bda8_0242ac1c0002row10_col7,#T_37bda01c_499e_11ec_bda8_0242ac1c0002row10_col8,#T_37bda01c_499e_11ec_bda8_0242ac1c0002row10_col9,#T_37bda01c_499e_11ec_bda8_0242ac1c0002row10_col11,#T_37bda01c_499e_11ec_bda8_0242ac1c0002row11_col0,#T_37bda01c_499e_11ec_bda8_0242ac1c0002row11_col1,#T_37bda01c_499e_11ec_bda8_0242ac1c0002row11_col2,#T_37bda01c_499e_11ec_bda8_0242ac1c0002row11_col3,#T_37bda01c_499e_11ec_bda8_0242ac1c0002row11_col4,#T_37bda01c_499e_11ec_bda8_0242ac1c0002row11_col5,#T_37bda01c_499e_11ec_bda8_0242ac1c0002row11_col6,#T_37bda01c_499e_11ec_bda8_0242ac1c0002row11_col7,#T_37bda01c_499e_11ec_bda8_0242ac1c0002row11_col8,#T_37bda01c_499e_11ec_bda8_0242ac1c0002row11_col9,#T_37bda01c_499e_11ec_bda8_0242ac1c0002row11_col10{\n",
              "            background-color:  #fff7fb;\n",
              "            color:  #000000;\n",
              "        }#T_37bda01c_499e_11ec_bda8_0242ac1c0002row1_col1{\n",
              "            background-color:  #8eb3d5;\n",
              "            color:  #000000;\n",
              "        }#T_37bda01c_499e_11ec_bda8_0242ac1c0002row2_col2{\n",
              "            background-color:  #b8c6e0;\n",
              "            color:  #000000;\n",
              "        }#T_37bda01c_499e_11ec_bda8_0242ac1c0002row3_col3{\n",
              "            background-color:  #7eadd1;\n",
              "            color:  #000000;\n",
              "        }#T_37bda01c_499e_11ec_bda8_0242ac1c0002row4_col4{\n",
              "            background-color:  #045280;\n",
              "            color:  #f1f1f1;\n",
              "        }#T_37bda01c_499e_11ec_bda8_0242ac1c0002row5_col5{\n",
              "            background-color:  #023858;\n",
              "            color:  #f1f1f1;\n",
              "        }#T_37bda01c_499e_11ec_bda8_0242ac1c0002row6_col6{\n",
              "            background-color:  #f5eff6;\n",
              "            color:  #000000;\n",
              "        }#T_37bda01c_499e_11ec_bda8_0242ac1c0002row7_col7{\n",
              "            background-color:  #f8f1f8;\n",
              "            color:  #000000;\n",
              "        }#T_37bda01c_499e_11ec_bda8_0242ac1c0002row8_col8{\n",
              "            background-color:  #f1ebf4;\n",
              "            color:  #000000;\n",
              "        }#T_37bda01c_499e_11ec_bda8_0242ac1c0002row9_col9{\n",
              "            background-color:  #eae6f1;\n",
              "            color:  #000000;\n",
              "        }#T_37bda01c_499e_11ec_bda8_0242ac1c0002row10_col10{\n",
              "            background-color:  #d5d5e8;\n",
              "            color:  #000000;\n",
              "        }#T_37bda01c_499e_11ec_bda8_0242ac1c0002row11_col11{\n",
              "            background-color:  #c2cbe2;\n",
              "            color:  #000000;\n",
              "        }</style><table id=\"T_37bda01c_499e_11ec_bda8_0242ac1c0002\" class=\"dataframe\"><thead>    <tr>        <th class=\"blank level0\" ></th>        <th class=\"col_heading level0 col0\" >Predicted M22-</th>        <th class=\"col_heading level0 col1\" >Predicted M23-26</th>        <th class=\"col_heading level0 col2\" >Predicted M27-28</th>        <th class=\"col_heading level0 col3\" >Predicted M29-31</th>        <th class=\"col_heading level0 col4\" >Predicted M32-38</th>        <th class=\"col_heading level0 col5\" >Predicted M39+</th>        <th class=\"col_heading level0 col6\" >Predicted F23-</th>        <th class=\"col_heading level0 col7\" >Predicted F24-26</th>        <th class=\"col_heading level0 col8\" >Predicted F27-28</th>        <th class=\"col_heading level0 col9\" >Predicted F29-32</th>        <th class=\"col_heading level0 col10\" >Predicted F33-42</th>        <th class=\"col_heading level0 col11\" >Predicted F43+</th>    </tr></thead><tbody>\n",
              "                <tr>\n",
              "                        <th id=\"T_37bda01c_499e_11ec_bda8_0242ac1c0002level0_row0\" class=\"row_heading level0 row0\" >Actual M22-</th>\n",
              "                        <td id=\"T_37bda01c_499e_11ec_bda8_0242ac1c0002row0_col0\" class=\"data row0 col0\" >128</td>\n",
              "                        <td id=\"T_37bda01c_499e_11ec_bda8_0242ac1c0002row0_col1\" class=\"data row0 col1\" >0</td>\n",
              "                        <td id=\"T_37bda01c_499e_11ec_bda8_0242ac1c0002row0_col2\" class=\"data row0 col2\" >0</td>\n",
              "                        <td id=\"T_37bda01c_499e_11ec_bda8_0242ac1c0002row0_col3\" class=\"data row0 col3\" >0</td>\n",
              "                        <td id=\"T_37bda01c_499e_11ec_bda8_0242ac1c0002row0_col4\" class=\"data row0 col4\" >0</td>\n",
              "                        <td id=\"T_37bda01c_499e_11ec_bda8_0242ac1c0002row0_col5\" class=\"data row0 col5\" >0</td>\n",
              "                        <td id=\"T_37bda01c_499e_11ec_bda8_0242ac1c0002row0_col6\" class=\"data row0 col6\" >0</td>\n",
              "                        <td id=\"T_37bda01c_499e_11ec_bda8_0242ac1c0002row0_col7\" class=\"data row0 col7\" >0</td>\n",
              "                        <td id=\"T_37bda01c_499e_11ec_bda8_0242ac1c0002row0_col8\" class=\"data row0 col8\" >0</td>\n",
              "                        <td id=\"T_37bda01c_499e_11ec_bda8_0242ac1c0002row0_col9\" class=\"data row0 col9\" >0</td>\n",
              "                        <td id=\"T_37bda01c_499e_11ec_bda8_0242ac1c0002row0_col10\" class=\"data row0 col10\" >0</td>\n",
              "                        <td id=\"T_37bda01c_499e_11ec_bda8_0242ac1c0002row0_col11\" class=\"data row0 col11\" >0</td>\n",
              "            </tr>\n",
              "            <tr>\n",
              "                        <th id=\"T_37bda01c_499e_11ec_bda8_0242ac1c0002level0_row1\" class=\"row_heading level0 row1\" >Actual M23-26</th>\n",
              "                        <td id=\"T_37bda01c_499e_11ec_bda8_0242ac1c0002row1_col0\" class=\"data row1 col0\" >0</td>\n",
              "                        <td id=\"T_37bda01c_499e_11ec_bda8_0242ac1c0002row1_col1\" class=\"data row1 col1\" >258</td>\n",
              "                        <td id=\"T_37bda01c_499e_11ec_bda8_0242ac1c0002row1_col2\" class=\"data row1 col2\" >0</td>\n",
              "                        <td id=\"T_37bda01c_499e_11ec_bda8_0242ac1c0002row1_col3\" class=\"data row1 col3\" >0</td>\n",
              "                        <td id=\"T_37bda01c_499e_11ec_bda8_0242ac1c0002row1_col4\" class=\"data row1 col4\" >0</td>\n",
              "                        <td id=\"T_37bda01c_499e_11ec_bda8_0242ac1c0002row1_col5\" class=\"data row1 col5\" >0</td>\n",
              "                        <td id=\"T_37bda01c_499e_11ec_bda8_0242ac1c0002row1_col6\" class=\"data row1 col6\" >0</td>\n",
              "                        <td id=\"T_37bda01c_499e_11ec_bda8_0242ac1c0002row1_col7\" class=\"data row1 col7\" >0</td>\n",
              "                        <td id=\"T_37bda01c_499e_11ec_bda8_0242ac1c0002row1_col8\" class=\"data row1 col8\" >0</td>\n",
              "                        <td id=\"T_37bda01c_499e_11ec_bda8_0242ac1c0002row1_col9\" class=\"data row1 col9\" >0</td>\n",
              "                        <td id=\"T_37bda01c_499e_11ec_bda8_0242ac1c0002row1_col10\" class=\"data row1 col10\" >0</td>\n",
              "                        <td id=\"T_37bda01c_499e_11ec_bda8_0242ac1c0002row1_col11\" class=\"data row1 col11\" >0</td>\n",
              "            </tr>\n",
              "            <tr>\n",
              "                        <th id=\"T_37bda01c_499e_11ec_bda8_0242ac1c0002level0_row2\" class=\"row_heading level0 row2\" >Actual M27-28</th>\n",
              "                        <td id=\"T_37bda01c_499e_11ec_bda8_0242ac1c0002row2_col0\" class=\"data row2 col0\" >0</td>\n",
              "                        <td id=\"T_37bda01c_499e_11ec_bda8_0242ac1c0002row2_col1\" class=\"data row2 col1\" >0</td>\n",
              "                        <td id=\"T_37bda01c_499e_11ec_bda8_0242ac1c0002row2_col2\" class=\"data row2 col2\" >192</td>\n",
              "                        <td id=\"T_37bda01c_499e_11ec_bda8_0242ac1c0002row2_col3\" class=\"data row2 col3\" >0</td>\n",
              "                        <td id=\"T_37bda01c_499e_11ec_bda8_0242ac1c0002row2_col4\" class=\"data row2 col4\" >0</td>\n",
              "                        <td id=\"T_37bda01c_499e_11ec_bda8_0242ac1c0002row2_col5\" class=\"data row2 col5\" >0</td>\n",
              "                        <td id=\"T_37bda01c_499e_11ec_bda8_0242ac1c0002row2_col6\" class=\"data row2 col6\" >0</td>\n",
              "                        <td id=\"T_37bda01c_499e_11ec_bda8_0242ac1c0002row2_col7\" class=\"data row2 col7\" >0</td>\n",
              "                        <td id=\"T_37bda01c_499e_11ec_bda8_0242ac1c0002row2_col8\" class=\"data row2 col8\" >0</td>\n",
              "                        <td id=\"T_37bda01c_499e_11ec_bda8_0242ac1c0002row2_col9\" class=\"data row2 col9\" >0</td>\n",
              "                        <td id=\"T_37bda01c_499e_11ec_bda8_0242ac1c0002row2_col10\" class=\"data row2 col10\" >0</td>\n",
              "                        <td id=\"T_37bda01c_499e_11ec_bda8_0242ac1c0002row2_col11\" class=\"data row2 col11\" >0</td>\n",
              "            </tr>\n",
              "            <tr>\n",
              "                        <th id=\"T_37bda01c_499e_11ec_bda8_0242ac1c0002level0_row3\" class=\"row_heading level0 row3\" >Actual M29-31</th>\n",
              "                        <td id=\"T_37bda01c_499e_11ec_bda8_0242ac1c0002row3_col0\" class=\"data row3 col0\" >0</td>\n",
              "                        <td id=\"T_37bda01c_499e_11ec_bda8_0242ac1c0002row3_col1\" class=\"data row3 col1\" >0</td>\n",
              "                        <td id=\"T_37bda01c_499e_11ec_bda8_0242ac1c0002row3_col2\" class=\"data row3 col2\" >0</td>\n",
              "                        <td id=\"T_37bda01c_499e_11ec_bda8_0242ac1c0002row3_col3\" class=\"data row3 col3\" >283</td>\n",
              "                        <td id=\"T_37bda01c_499e_11ec_bda8_0242ac1c0002row3_col4\" class=\"data row3 col4\" >0</td>\n",
              "                        <td id=\"T_37bda01c_499e_11ec_bda8_0242ac1c0002row3_col5\" class=\"data row3 col5\" >0</td>\n",
              "                        <td id=\"T_37bda01c_499e_11ec_bda8_0242ac1c0002row3_col6\" class=\"data row3 col6\" >0</td>\n",
              "                        <td id=\"T_37bda01c_499e_11ec_bda8_0242ac1c0002row3_col7\" class=\"data row3 col7\" >0</td>\n",
              "                        <td id=\"T_37bda01c_499e_11ec_bda8_0242ac1c0002row3_col8\" class=\"data row3 col8\" >0</td>\n",
              "                        <td id=\"T_37bda01c_499e_11ec_bda8_0242ac1c0002row3_col9\" class=\"data row3 col9\" >0</td>\n",
              "                        <td id=\"T_37bda01c_499e_11ec_bda8_0242ac1c0002row3_col10\" class=\"data row3 col10\" >0</td>\n",
              "                        <td id=\"T_37bda01c_499e_11ec_bda8_0242ac1c0002row3_col11\" class=\"data row3 col11\" >0</td>\n",
              "            </tr>\n",
              "            <tr>\n",
              "                        <th id=\"T_37bda01c_499e_11ec_bda8_0242ac1c0002level0_row4\" class=\"row_heading level0 row4\" >Actual M32-38</th>\n",
              "                        <td id=\"T_37bda01c_499e_11ec_bda8_0242ac1c0002row4_col0\" class=\"data row4 col0\" >0</td>\n",
              "                        <td id=\"T_37bda01c_499e_11ec_bda8_0242ac1c0002row4_col1\" class=\"data row4 col1\" >0</td>\n",
              "                        <td id=\"T_37bda01c_499e_11ec_bda8_0242ac1c0002row4_col2\" class=\"data row4 col2\" >0</td>\n",
              "                        <td id=\"T_37bda01c_499e_11ec_bda8_0242ac1c0002row4_col3\" class=\"data row4 col3\" >0</td>\n",
              "                        <td id=\"T_37bda01c_499e_11ec_bda8_0242ac1c0002row4_col4\" class=\"data row4 col4\" >539</td>\n",
              "                        <td id=\"T_37bda01c_499e_11ec_bda8_0242ac1c0002row4_col5\" class=\"data row4 col5\" >0</td>\n",
              "                        <td id=\"T_37bda01c_499e_11ec_bda8_0242ac1c0002row4_col6\" class=\"data row4 col6\" >0</td>\n",
              "                        <td id=\"T_37bda01c_499e_11ec_bda8_0242ac1c0002row4_col7\" class=\"data row4 col7\" >0</td>\n",
              "                        <td id=\"T_37bda01c_499e_11ec_bda8_0242ac1c0002row4_col8\" class=\"data row4 col8\" >0</td>\n",
              "                        <td id=\"T_37bda01c_499e_11ec_bda8_0242ac1c0002row4_col9\" class=\"data row4 col9\" >0</td>\n",
              "                        <td id=\"T_37bda01c_499e_11ec_bda8_0242ac1c0002row4_col10\" class=\"data row4 col10\" >0</td>\n",
              "                        <td id=\"T_37bda01c_499e_11ec_bda8_0242ac1c0002row4_col11\" class=\"data row4 col11\" >0</td>\n",
              "            </tr>\n",
              "            <tr>\n",
              "                        <th id=\"T_37bda01c_499e_11ec_bda8_0242ac1c0002level0_row5\" class=\"row_heading level0 row5\" >Actual M39+</th>\n",
              "                        <td id=\"T_37bda01c_499e_11ec_bda8_0242ac1c0002row5_col0\" class=\"data row5 col0\" >0</td>\n",
              "                        <td id=\"T_37bda01c_499e_11ec_bda8_0242ac1c0002row5_col1\" class=\"data row5 col1\" >0</td>\n",
              "                        <td id=\"T_37bda01c_499e_11ec_bda8_0242ac1c0002row5_col2\" class=\"data row5 col2\" >0</td>\n",
              "                        <td id=\"T_37bda01c_499e_11ec_bda8_0242ac1c0002row5_col3\" class=\"data row5 col3\" >0</td>\n",
              "                        <td id=\"T_37bda01c_499e_11ec_bda8_0242ac1c0002row5_col4\" class=\"data row5 col4\" >0</td>\n",
              "                        <td id=\"T_37bda01c_499e_11ec_bda8_0242ac1c0002row5_col5\" class=\"data row5 col5\" >595</td>\n",
              "                        <td id=\"T_37bda01c_499e_11ec_bda8_0242ac1c0002row5_col6\" class=\"data row5 col6\" >0</td>\n",
              "                        <td id=\"T_37bda01c_499e_11ec_bda8_0242ac1c0002row5_col7\" class=\"data row5 col7\" >0</td>\n",
              "                        <td id=\"T_37bda01c_499e_11ec_bda8_0242ac1c0002row5_col8\" class=\"data row5 col8\" >0</td>\n",
              "                        <td id=\"T_37bda01c_499e_11ec_bda8_0242ac1c0002row5_col9\" class=\"data row5 col9\" >0</td>\n",
              "                        <td id=\"T_37bda01c_499e_11ec_bda8_0242ac1c0002row5_col10\" class=\"data row5 col10\" >0</td>\n",
              "                        <td id=\"T_37bda01c_499e_11ec_bda8_0242ac1c0002row5_col11\" class=\"data row5 col11\" >0</td>\n",
              "            </tr>\n",
              "            <tr>\n",
              "                        <th id=\"T_37bda01c_499e_11ec_bda8_0242ac1c0002level0_row6\" class=\"row_heading level0 row6\" >Actual F23-</th>\n",
              "                        <td id=\"T_37bda01c_499e_11ec_bda8_0242ac1c0002row6_col0\" class=\"data row6 col0\" >0</td>\n",
              "                        <td id=\"T_37bda01c_499e_11ec_bda8_0242ac1c0002row6_col1\" class=\"data row6 col1\" >0</td>\n",
              "                        <td id=\"T_37bda01c_499e_11ec_bda8_0242ac1c0002row6_col2\" class=\"data row6 col2\" >0</td>\n",
              "                        <td id=\"T_37bda01c_499e_11ec_bda8_0242ac1c0002row6_col3\" class=\"data row6 col3\" >0</td>\n",
              "                        <td id=\"T_37bda01c_499e_11ec_bda8_0242ac1c0002row6_col4\" class=\"data row6 col4\" >0</td>\n",
              "                        <td id=\"T_37bda01c_499e_11ec_bda8_0242ac1c0002row6_col5\" class=\"data row6 col5\" >0</td>\n",
              "                        <td id=\"T_37bda01c_499e_11ec_bda8_0242ac1c0002row6_col6\" class=\"data row6 col6\" >39</td>\n",
              "                        <td id=\"T_37bda01c_499e_11ec_bda8_0242ac1c0002row6_col7\" class=\"data row6 col7\" >0</td>\n",
              "                        <td id=\"T_37bda01c_499e_11ec_bda8_0242ac1c0002row6_col8\" class=\"data row6 col8\" >0</td>\n",
              "                        <td id=\"T_37bda01c_499e_11ec_bda8_0242ac1c0002row6_col9\" class=\"data row6 col9\" >0</td>\n",
              "                        <td id=\"T_37bda01c_499e_11ec_bda8_0242ac1c0002row6_col10\" class=\"data row6 col10\" >0</td>\n",
              "                        <td id=\"T_37bda01c_499e_11ec_bda8_0242ac1c0002row6_col11\" class=\"data row6 col11\" >0</td>\n",
              "            </tr>\n",
              "            <tr>\n",
              "                        <th id=\"T_37bda01c_499e_11ec_bda8_0242ac1c0002level0_row7\" class=\"row_heading level0 row7\" >Actual F24-26</th>\n",
              "                        <td id=\"T_37bda01c_499e_11ec_bda8_0242ac1c0002row7_col0\" class=\"data row7 col0\" >0</td>\n",
              "                        <td id=\"T_37bda01c_499e_11ec_bda8_0242ac1c0002row7_col1\" class=\"data row7 col1\" >0</td>\n",
              "                        <td id=\"T_37bda01c_499e_11ec_bda8_0242ac1c0002row7_col2\" class=\"data row7 col2\" >0</td>\n",
              "                        <td id=\"T_37bda01c_499e_11ec_bda8_0242ac1c0002row7_col3\" class=\"data row7 col3\" >0</td>\n",
              "                        <td id=\"T_37bda01c_499e_11ec_bda8_0242ac1c0002row7_col4\" class=\"data row7 col4\" >0</td>\n",
              "                        <td id=\"T_37bda01c_499e_11ec_bda8_0242ac1c0002row7_col5\" class=\"data row7 col5\" >0</td>\n",
              "                        <td id=\"T_37bda01c_499e_11ec_bda8_0242ac1c0002row7_col6\" class=\"data row7 col6\" >0</td>\n",
              "                        <td id=\"T_37bda01c_499e_11ec_bda8_0242ac1c0002row7_col7\" class=\"data row7 col7\" >29</td>\n",
              "                        <td id=\"T_37bda01c_499e_11ec_bda8_0242ac1c0002row7_col8\" class=\"data row7 col8\" >0</td>\n",
              "                        <td id=\"T_37bda01c_499e_11ec_bda8_0242ac1c0002row7_col9\" class=\"data row7 col9\" >0</td>\n",
              "                        <td id=\"T_37bda01c_499e_11ec_bda8_0242ac1c0002row7_col10\" class=\"data row7 col10\" >0</td>\n",
              "                        <td id=\"T_37bda01c_499e_11ec_bda8_0242ac1c0002row7_col11\" class=\"data row7 col11\" >0</td>\n",
              "            </tr>\n",
              "            <tr>\n",
              "                        <th id=\"T_37bda01c_499e_11ec_bda8_0242ac1c0002level0_row8\" class=\"row_heading level0 row8\" >Actual F27-28</th>\n",
              "                        <td id=\"T_37bda01c_499e_11ec_bda8_0242ac1c0002row8_col0\" class=\"data row8 col0\" >0</td>\n",
              "                        <td id=\"T_37bda01c_499e_11ec_bda8_0242ac1c0002row8_col1\" class=\"data row8 col1\" >0</td>\n",
              "                        <td id=\"T_37bda01c_499e_11ec_bda8_0242ac1c0002row8_col2\" class=\"data row8 col2\" >0</td>\n",
              "                        <td id=\"T_37bda01c_499e_11ec_bda8_0242ac1c0002row8_col3\" class=\"data row8 col3\" >0</td>\n",
              "                        <td id=\"T_37bda01c_499e_11ec_bda8_0242ac1c0002row8_col4\" class=\"data row8 col4\" >0</td>\n",
              "                        <td id=\"T_37bda01c_499e_11ec_bda8_0242ac1c0002row8_col5\" class=\"data row8 col5\" >0</td>\n",
              "                        <td id=\"T_37bda01c_499e_11ec_bda8_0242ac1c0002row8_col6\" class=\"data row8 col6\" >0</td>\n",
              "                        <td id=\"T_37bda01c_499e_11ec_bda8_0242ac1c0002row8_col7\" class=\"data row8 col7\" >0</td>\n",
              "                        <td id=\"T_37bda01c_499e_11ec_bda8_0242ac1c0002row8_col8\" class=\"data row8 col8\" >57</td>\n",
              "                        <td id=\"T_37bda01c_499e_11ec_bda8_0242ac1c0002row8_col9\" class=\"data row8 col9\" >0</td>\n",
              "                        <td id=\"T_37bda01c_499e_11ec_bda8_0242ac1c0002row8_col10\" class=\"data row8 col10\" >0</td>\n",
              "                        <td id=\"T_37bda01c_499e_11ec_bda8_0242ac1c0002row8_col11\" class=\"data row8 col11\" >0</td>\n",
              "            </tr>\n",
              "            <tr>\n",
              "                        <th id=\"T_37bda01c_499e_11ec_bda8_0242ac1c0002level0_row9\" class=\"row_heading level0 row9\" >Actual F29-32</th>\n",
              "                        <td id=\"T_37bda01c_499e_11ec_bda8_0242ac1c0002row9_col0\" class=\"data row9 col0\" >0</td>\n",
              "                        <td id=\"T_37bda01c_499e_11ec_bda8_0242ac1c0002row9_col1\" class=\"data row9 col1\" >0</td>\n",
              "                        <td id=\"T_37bda01c_499e_11ec_bda8_0242ac1c0002row9_col2\" class=\"data row9 col2\" >0</td>\n",
              "                        <td id=\"T_37bda01c_499e_11ec_bda8_0242ac1c0002row9_col3\" class=\"data row9 col3\" >0</td>\n",
              "                        <td id=\"T_37bda01c_499e_11ec_bda8_0242ac1c0002row9_col4\" class=\"data row9 col4\" >0</td>\n",
              "                        <td id=\"T_37bda01c_499e_11ec_bda8_0242ac1c0002row9_col5\" class=\"data row9 col5\" >0</td>\n",
              "                        <td id=\"T_37bda01c_499e_11ec_bda8_0242ac1c0002row9_col6\" class=\"data row9 col6\" >0</td>\n",
              "                        <td id=\"T_37bda01c_499e_11ec_bda8_0242ac1c0002row9_col7\" class=\"data row9 col7\" >0</td>\n",
              "                        <td id=\"T_37bda01c_499e_11ec_bda8_0242ac1c0002row9_col8\" class=\"data row9 col8\" >0</td>\n",
              "                        <td id=\"T_37bda01c_499e_11ec_bda8_0242ac1c0002row9_col9\" class=\"data row9 col9\" >81</td>\n",
              "                        <td id=\"T_37bda01c_499e_11ec_bda8_0242ac1c0002row9_col10\" class=\"data row9 col10\" >0</td>\n",
              "                        <td id=\"T_37bda01c_499e_11ec_bda8_0242ac1c0002row9_col11\" class=\"data row9 col11\" >0</td>\n",
              "            </tr>\n",
              "            <tr>\n",
              "                        <th id=\"T_37bda01c_499e_11ec_bda8_0242ac1c0002level0_row10\" class=\"row_heading level0 row10\" >Actual F33-42</th>\n",
              "                        <td id=\"T_37bda01c_499e_11ec_bda8_0242ac1c0002row10_col0\" class=\"data row10 col0\" >0</td>\n",
              "                        <td id=\"T_37bda01c_499e_11ec_bda8_0242ac1c0002row10_col1\" class=\"data row10 col1\" >0</td>\n",
              "                        <td id=\"T_37bda01c_499e_11ec_bda8_0242ac1c0002row10_col2\" class=\"data row10 col2\" >0</td>\n",
              "                        <td id=\"T_37bda01c_499e_11ec_bda8_0242ac1c0002row10_col3\" class=\"data row10 col3\" >0</td>\n",
              "                        <td id=\"T_37bda01c_499e_11ec_bda8_0242ac1c0002row10_col4\" class=\"data row10 col4\" >0</td>\n",
              "                        <td id=\"T_37bda01c_499e_11ec_bda8_0242ac1c0002row10_col5\" class=\"data row10 col5\" >0</td>\n",
              "                        <td id=\"T_37bda01c_499e_11ec_bda8_0242ac1c0002row10_col6\" class=\"data row10 col6\" >0</td>\n",
              "                        <td id=\"T_37bda01c_499e_11ec_bda8_0242ac1c0002row10_col7\" class=\"data row10 col7\" >0</td>\n",
              "                        <td id=\"T_37bda01c_499e_11ec_bda8_0242ac1c0002row10_col8\" class=\"data row10 col8\" >0</td>\n",
              "                        <td id=\"T_37bda01c_499e_11ec_bda8_0242ac1c0002row10_col9\" class=\"data row10 col9\" >0</td>\n",
              "                        <td id=\"T_37bda01c_499e_11ec_bda8_0242ac1c0002row10_col10\" class=\"data row10 col10\" >137</td>\n",
              "                        <td id=\"T_37bda01c_499e_11ec_bda8_0242ac1c0002row10_col11\" class=\"data row10 col11\" >0</td>\n",
              "            </tr>\n",
              "            <tr>\n",
              "                        <th id=\"T_37bda01c_499e_11ec_bda8_0242ac1c0002level0_row11\" class=\"row_heading level0 row11\" >Actual F43+</th>\n",
              "                        <td id=\"T_37bda01c_499e_11ec_bda8_0242ac1c0002row11_col0\" class=\"data row11 col0\" >0</td>\n",
              "                        <td id=\"T_37bda01c_499e_11ec_bda8_0242ac1c0002row11_col1\" class=\"data row11 col1\" >0</td>\n",
              "                        <td id=\"T_37bda01c_499e_11ec_bda8_0242ac1c0002row11_col2\" class=\"data row11 col2\" >0</td>\n",
              "                        <td id=\"T_37bda01c_499e_11ec_bda8_0242ac1c0002row11_col3\" class=\"data row11 col3\" >0</td>\n",
              "                        <td id=\"T_37bda01c_499e_11ec_bda8_0242ac1c0002row11_col4\" class=\"data row11 col4\" >0</td>\n",
              "                        <td id=\"T_37bda01c_499e_11ec_bda8_0242ac1c0002row11_col5\" class=\"data row11 col5\" >0</td>\n",
              "                        <td id=\"T_37bda01c_499e_11ec_bda8_0242ac1c0002row11_col6\" class=\"data row11 col6\" >0</td>\n",
              "                        <td id=\"T_37bda01c_499e_11ec_bda8_0242ac1c0002row11_col7\" class=\"data row11 col7\" >0</td>\n",
              "                        <td id=\"T_37bda01c_499e_11ec_bda8_0242ac1c0002row11_col8\" class=\"data row11 col8\" >0</td>\n",
              "                        <td id=\"T_37bda01c_499e_11ec_bda8_0242ac1c0002row11_col9\" class=\"data row11 col9\" >0</td>\n",
              "                        <td id=\"T_37bda01c_499e_11ec_bda8_0242ac1c0002row11_col10\" class=\"data row11 col10\" >0</td>\n",
              "                        <td id=\"T_37bda01c_499e_11ec_bda8_0242ac1c0002row11_col11\" class=\"data row11 col11\" >173</td>\n",
              "            </tr>\n",
              "    </tbody></table>"
            ],
            "text/plain": [
              "<pandas.io.formats.style.Styler at 0x7f3d0a73afd0>"
            ]
          },
          "metadata": {},
          "execution_count": 46
        }
      ]
    },
    {
      "cell_type": "code",
      "metadata": {
        "colab": {
          "base_uri": "https://localhost:8080/"
        },
        "id": "JdDimmVr059s",
        "outputId": "d5c84d34-6ccc-4500-ff97-f85eaabeaf18"
      },
      "source": [
        "print(\"Classification Report:\")\n",
        "print()\n",
        "print(classification_report(y_test, y_pred))\n"
      ],
      "execution_count": null,
      "outputs": [
        {
          "output_type": "stream",
          "name": "stdout",
          "text": [
            "Classification Report:\n",
            "\n",
            "              precision    recall  f1-score   support\n",
            "\n",
            "           0       1.00      1.00      1.00       128\n",
            "           1       1.00      1.00      1.00       258\n",
            "           2       1.00      1.00      1.00       192\n",
            "           3       1.00      1.00      1.00       283\n",
            "           4       1.00      1.00      1.00       539\n",
            "           5       1.00      1.00      1.00       595\n",
            "           6       1.00      1.00      1.00        39\n",
            "           7       1.00      1.00      1.00        29\n",
            "           8       1.00      1.00      1.00        57\n",
            "           9       1.00      1.00      1.00        81\n",
            "          10       1.00      1.00      1.00       137\n",
            "          11       1.00      1.00      1.00       173\n",
            "\n",
            "    accuracy                           1.00      2511\n",
            "   macro avg       1.00      1.00      1.00      2511\n",
            "weighted avg       1.00      1.00      1.00      2511\n",
            "\n"
          ]
        }
      ]
    },
    {
      "cell_type": "code",
      "metadata": {
        "id": "6ZqM5kR70_XV"
      },
      "source": [
        "def multiclass_roc_auc_score(y_test, y_pred, average=\"macro\"):\n",
        "  lb = LabelBinarizer()\n",
        "  lb.fit(y_test)\n",
        "  y_test = lb.transform(y_test)\n",
        "  y_pred = lb.transform(y_pred)\n",
        "  return roc_auc_score(y_test, y_pred, average=average)\n"
      ],
      "execution_count": null,
      "outputs": []
    },
    {
      "cell_type": "code",
      "metadata": {
        "colab": {
          "base_uri": "https://localhost:8080/"
        },
        "id": "CUhFq73c1CMW",
        "outputId": "130d4713-33b8-45af-b72e-d21fdf862c1d"
      },
      "source": [
        "multiclass_roc_auc_score(y_test, y_pred, average=\"macro\")"
      ],
      "execution_count": null,
      "outputs": [
        {
          "output_type": "execute_result",
          "data": {
            "text/plain": [
              "1.0"
            ]
          },
          "metadata": {},
          "execution_count": 49
        }
      ]
    },
    {
      "cell_type": "markdown",
      "metadata": {
        "id": "pzzr4ogT3P5Q"
      },
      "source": [
        "# PCA Models"
      ]
    },
    {
      "cell_type": "code",
      "metadata": {
        "id": "WODfKpju3UxX"
      },
      "source": [
        "# Since I am performing pca its necessary to standardize data and fit it to data frame.\n",
        "scaler = StandardScaler()\n",
        "X_train_std = scaler.fit_transform(X_train)\n",
        "\n",
        "# Computing the principal components\n",
        "pca = PCA()\n",
        "X_pca = pca.fit_transform(X_train_std)\n"
      ],
      "execution_count": null,
      "outputs": []
    },
    {
      "cell_type": "code",
      "metadata": {
        "id": "csI_TOOe3ZJ4"
      },
      "source": [
        "# I plan to use the amount of components that add up to 90% variance.\n",
        "n_components = np.sum(np.cumsum(pca.explained_variance_ratio_) < 0.90)\n",
        "X_pca = X_pca[:, :n_components]\n"
      ],
      "execution_count": null,
      "outputs": []
    },
    {
      "cell_type": "code",
      "metadata": {
        "colab": {
          "base_uri": "https://localhost:8080/"
        },
        "id": "ul58lJEG3bXQ",
        "outputId": "84fab7a4-563f-4e2d-b443-971185922c0d"
      },
      "source": [
        "# check to see the amount of components being used\n",
        "n_components\n"
      ],
      "execution_count": null,
      "outputs": [
        {
          "output_type": "execute_result",
          "data": {
            "text/plain": [
              "48"
            ]
          },
          "metadata": {},
          "execution_count": 52
        }
      ]
    },
    {
      "cell_type": "markdown",
      "metadata": {
        "id": "MUYdCQX13eK0"
      },
      "source": [
        "# Random Forest Classifier "
      ]
    },
    {
      "cell_type": "code",
      "metadata": {
        "id": "XO2x_ySC3flS"
      },
      "source": [
        "pipeline = Pipeline(\n",
        "    [\n",
        "        (\"scaler\", StandardScaler()),\n",
        "        (\"pca\", PCA(n_components=n_components)),\n",
        "        (\"rf\", RandomForestClassifier()),\n",
        "    ]\n",
        ")\n",
        "pipeline = pipeline.fit(X_train, y_train)\n"
      ],
      "execution_count": null,
      "outputs": []
    },
    {
      "cell_type": "code",
      "metadata": {
        "colab": {
          "base_uri": "https://localhost:8080/"
        },
        "id": "qICSU7F_3q1j",
        "outputId": "381dd26e-ebce-4fc9-b3e1-32893880388f"
      },
      "source": [
        "grid = {\n",
        "    \"rf__max_depth\": [90, 110, 130],\n",
        "    \"rf__n_estimators\": [1, 10, 100],\n",
        "    \"rf__min_samples_leaf\": [1, 3, 5, 7],\n",
        "    \"rf__criterion\": [\"gini\"],\n",
        "}\n",
        "\n",
        "model = GridSearchCV(pipeline, grid, n_jobs=-1, cv=2, verbose=2)\n",
        "model.fit(X_train, y_train)\n"
      ],
      "execution_count": null,
      "outputs": [
        {
          "output_type": "stream",
          "name": "stdout",
          "text": [
            "Fitting 2 folds for each of 36 candidates, totalling 72 fits\n"
          ]
        },
        {
          "output_type": "execute_result",
          "data": {
            "text/plain": [
              "GridSearchCV(cv=2,\n",
              "             estimator=Pipeline(steps=[('scaler', StandardScaler()),\n",
              "                                       ('pca', PCA(n_components=48)),\n",
              "                                       ('rf', RandomForestClassifier())]),\n",
              "             n_jobs=-1,\n",
              "             param_grid={'rf__criterion': ['gini'],\n",
              "                         'rf__max_depth': [90, 110, 130],\n",
              "                         'rf__min_samples_leaf': [1, 3, 5, 7],\n",
              "                         'rf__n_estimators': [1, 10, 100]},\n",
              "             verbose=2)"
            ]
          },
          "metadata": {},
          "execution_count": 54
        }
      ]
    },
    {
      "cell_type": "code",
      "metadata": {
        "colab": {
          "base_uri": "https://localhost:8080/"
        },
        "id": "hH0bMl7T3q4i",
        "outputId": "ece3b4c6-2e5c-4ddc-e2d3-6508c8908192"
      },
      "source": [
        "model.best_params_\n"
      ],
      "execution_count": null,
      "outputs": [
        {
          "output_type": "execute_result",
          "data": {
            "text/plain": [
              "{'rf__criterion': 'gini',\n",
              " 'rf__max_depth': 90,\n",
              " 'rf__min_samples_leaf': 1,\n",
              " 'rf__n_estimators': 100}"
            ]
          },
          "metadata": {},
          "execution_count": 55
        }
      ]
    },
    {
      "cell_type": "code",
      "metadata": {
        "colab": {
          "base_uri": "https://localhost:8080/"
        },
        "id": "yO4xnSAi3q6h",
        "outputId": "0953a1cd-5e54-44fb-9f7a-cd5efcd2adb0"
      },
      "source": [
        "# Model still appears to be extremely overfitting\n",
        "train_score = model.score(X_train, y_train)\n",
        "test_score = model.score(X_test, y_test)\n",
        "\n",
        "print(f\"Train score: {train_score}\")\n",
        "print(f\"Test score: {test_score}\")"
      ],
      "execution_count": null,
      "outputs": [
        {
          "output_type": "stream",
          "name": "stdout",
          "text": [
            "Train score: 0.9930278884462151\n",
            "Test score: 0.8056551174830745\n"
          ]
        }
      ]
    },
    {
      "cell_type": "code",
      "metadata": {
        "colab": {
          "base_uri": "https://localhost:8080/",
          "height": 425
        },
        "id": "ShO-_Xga3q9F",
        "outputId": "c8d3d054-833b-4296-9f78-214ea25c077d"
      },
      "source": [
        "y_pred = model.predict(X_test)\n",
        "\n",
        "con_mat = pd.DataFrame(\n",
        "    confusion_matrix(y_test, y_pred),\n",
        "    index=[\n",
        "        \"Actual M22-\",\n",
        "        \"Actual M23-26\",\n",
        "        \"Actual M27-28\",\n",
        "        \"Actual M29-31\",\n",
        "        \"Actual M32-38\",\n",
        "        \"Actual M39+\",\n",
        "        \"Actual F23-\",\n",
        "        \"Actual F24-26\",\n",
        "        \"Actual F27-28\",\n",
        "        \"Actual F29-32\",\n",
        "        \"Actual F33-42\",\n",
        "        \"Actual F43+\",\n",
        "    ],\n",
        "    columns=[\n",
        "        \"Predicted M22-\",\n",
        "        \"Predicted M23-26\",\n",
        "        \"Predicted M27-28\",\n",
        "        \"Predicted M29-31\",\n",
        "        \"Predicted M32-38\",\n",
        "        \"Predicted M39+\",\n",
        "        \"Predicted F23-\",\n",
        "        \"Predicted F24-26\",\n",
        "        \"Predicted F27-28\",\n",
        "        \"Predicted F29-32\",\n",
        "        \"Predicted F33-42\",\n",
        "        \"Predicted F43+\",\n",
        "    ],\n",
        ")\n",
        "con_mat.style.background_gradient(axis=None)\n"
      ],
      "execution_count": null,
      "outputs": [
        {
          "output_type": "execute_result",
          "data": {
            "text/html": [
              "<style  type=\"text/css\" >\n",
              "#T_c8d62c18_499e_11ec_bda8_0242ac1c0002row0_col0{\n",
              "            background-color:  #dedcec;\n",
              "            color:  #000000;\n",
              "        }#T_c8d62c18_499e_11ec_bda8_0242ac1c0002row0_col1,#T_c8d62c18_499e_11ec_bda8_0242ac1c0002row0_col9,#T_c8d62c18_499e_11ec_bda8_0242ac1c0002row1_col9,#T_c8d62c18_499e_11ec_bda8_0242ac1c0002row1_col10,#T_c8d62c18_499e_11ec_bda8_0242ac1c0002row1_col11,#T_c8d62c18_499e_11ec_bda8_0242ac1c0002row2_col0,#T_c8d62c18_499e_11ec_bda8_0242ac1c0002row3_col2,#T_c8d62c18_499e_11ec_bda8_0242ac1c0002row3_col8,#T_c8d62c18_499e_11ec_bda8_0242ac1c0002row3_col9,#T_c8d62c18_499e_11ec_bda8_0242ac1c0002row3_col10,#T_c8d62c18_499e_11ec_bda8_0242ac1c0002row3_col11,#T_c8d62c18_499e_11ec_bda8_0242ac1c0002row4_col0,#T_c8d62c18_499e_11ec_bda8_0242ac1c0002row4_col2,#T_c8d62c18_499e_11ec_bda8_0242ac1c0002row4_col8,#T_c8d62c18_499e_11ec_bda8_0242ac1c0002row4_col9,#T_c8d62c18_499e_11ec_bda8_0242ac1c0002row5_col8,#T_c8d62c18_499e_11ec_bda8_0242ac1c0002row6_col5,#T_c8d62c18_499e_11ec_bda8_0242ac1c0002row6_col10,#T_c8d62c18_499e_11ec_bda8_0242ac1c0002row7_col5,#T_c8d62c18_499e_11ec_bda8_0242ac1c0002row8_col3,#T_c8d62c18_499e_11ec_bda8_0242ac1c0002row8_col4,#T_c8d62c18_499e_11ec_bda8_0242ac1c0002row8_col11,#T_c8d62c18_499e_11ec_bda8_0242ac1c0002row10_col3,#T_c8d62c18_499e_11ec_bda8_0242ac1c0002row10_col11,#T_c8d62c18_499e_11ec_bda8_0242ac1c0002row11_col1,#T_c8d62c18_499e_11ec_bda8_0242ac1c0002row11_col3{\n",
              "            background-color:  #fef6fb;\n",
              "            color:  #000000;\n",
              "        }#T_c8d62c18_499e_11ec_bda8_0242ac1c0002row0_col2,#T_c8d62c18_499e_11ec_bda8_0242ac1c0002row0_col6,#T_c8d62c18_499e_11ec_bda8_0242ac1c0002row0_col7,#T_c8d62c18_499e_11ec_bda8_0242ac1c0002row0_col8,#T_c8d62c18_499e_11ec_bda8_0242ac1c0002row0_col10,#T_c8d62c18_499e_11ec_bda8_0242ac1c0002row0_col11,#T_c8d62c18_499e_11ec_bda8_0242ac1c0002row1_col6,#T_c8d62c18_499e_11ec_bda8_0242ac1c0002row1_col7,#T_c8d62c18_499e_11ec_bda8_0242ac1c0002row1_col8,#T_c8d62c18_499e_11ec_bda8_0242ac1c0002row2_col3,#T_c8d62c18_499e_11ec_bda8_0242ac1c0002row2_col6,#T_c8d62c18_499e_11ec_bda8_0242ac1c0002row2_col7,#T_c8d62c18_499e_11ec_bda8_0242ac1c0002row2_col8,#T_c8d62c18_499e_11ec_bda8_0242ac1c0002row2_col9,#T_c8d62c18_499e_11ec_bda8_0242ac1c0002row2_col10,#T_c8d62c18_499e_11ec_bda8_0242ac1c0002row3_col6,#T_c8d62c18_499e_11ec_bda8_0242ac1c0002row3_col7,#T_c8d62c18_499e_11ec_bda8_0242ac1c0002row4_col1,#T_c8d62c18_499e_11ec_bda8_0242ac1c0002row4_col6,#T_c8d62c18_499e_11ec_bda8_0242ac1c0002row4_col7,#T_c8d62c18_499e_11ec_bda8_0242ac1c0002row5_col6,#T_c8d62c18_499e_11ec_bda8_0242ac1c0002row6_col0,#T_c8d62c18_499e_11ec_bda8_0242ac1c0002row6_col1,#T_c8d62c18_499e_11ec_bda8_0242ac1c0002row6_col2,#T_c8d62c18_499e_11ec_bda8_0242ac1c0002row6_col3,#T_c8d62c18_499e_11ec_bda8_0242ac1c0002row6_col7,#T_c8d62c18_499e_11ec_bda8_0242ac1c0002row6_col8,#T_c8d62c18_499e_11ec_bda8_0242ac1c0002row6_col9,#T_c8d62c18_499e_11ec_bda8_0242ac1c0002row6_col11,#T_c8d62c18_499e_11ec_bda8_0242ac1c0002row7_col0,#T_c8d62c18_499e_11ec_bda8_0242ac1c0002row7_col1,#T_c8d62c18_499e_11ec_bda8_0242ac1c0002row7_col2,#T_c8d62c18_499e_11ec_bda8_0242ac1c0002row7_col3,#T_c8d62c18_499e_11ec_bda8_0242ac1c0002row7_col4,#T_c8d62c18_499e_11ec_bda8_0242ac1c0002row7_col6,#T_c8d62c18_499e_11ec_bda8_0242ac1c0002row7_col8,#T_c8d62c18_499e_11ec_bda8_0242ac1c0002row7_col9,#T_c8d62c18_499e_11ec_bda8_0242ac1c0002row7_col10,#T_c8d62c18_499e_11ec_bda8_0242ac1c0002row7_col11,#T_c8d62c18_499e_11ec_bda8_0242ac1c0002row8_col0,#T_c8d62c18_499e_11ec_bda8_0242ac1c0002row8_col2,#T_c8d62c18_499e_11ec_bda8_0242ac1c0002row8_col6,#T_c8d62c18_499e_11ec_bda8_0242ac1c0002row8_col7,#T_c8d62c18_499e_11ec_bda8_0242ac1c0002row8_col9,#T_c8d62c18_499e_11ec_bda8_0242ac1c0002row8_col10,#T_c8d62c18_499e_11ec_bda8_0242ac1c0002row9_col0,#T_c8d62c18_499e_11ec_bda8_0242ac1c0002row9_col2,#T_c8d62c18_499e_11ec_bda8_0242ac1c0002row9_col3,#T_c8d62c18_499e_11ec_bda8_0242ac1c0002row9_col6,#T_c8d62c18_499e_11ec_bda8_0242ac1c0002row9_col7,#T_c8d62c18_499e_11ec_bda8_0242ac1c0002row9_col8,#T_c8d62c18_499e_11ec_bda8_0242ac1c0002row9_col10,#T_c8d62c18_499e_11ec_bda8_0242ac1c0002row9_col11,#T_c8d62c18_499e_11ec_bda8_0242ac1c0002row10_col0,#T_c8d62c18_499e_11ec_bda8_0242ac1c0002row10_col1,#T_c8d62c18_499e_11ec_bda8_0242ac1c0002row10_col2,#T_c8d62c18_499e_11ec_bda8_0242ac1c0002row10_col6,#T_c8d62c18_499e_11ec_bda8_0242ac1c0002row10_col7,#T_c8d62c18_499e_11ec_bda8_0242ac1c0002row10_col8,#T_c8d62c18_499e_11ec_bda8_0242ac1c0002row11_col0,#T_c8d62c18_499e_11ec_bda8_0242ac1c0002row11_col2,#T_c8d62c18_499e_11ec_bda8_0242ac1c0002row11_col6,#T_c8d62c18_499e_11ec_bda8_0242ac1c0002row11_col7,#T_c8d62c18_499e_11ec_bda8_0242ac1c0002row11_col9{\n",
              "            background-color:  #fff7fb;\n",
              "            color:  #000000;\n",
              "        }#T_c8d62c18_499e_11ec_bda8_0242ac1c0002row0_col3,#T_c8d62c18_499e_11ec_bda8_0242ac1c0002row1_col0,#T_c8d62c18_499e_11ec_bda8_0242ac1c0002row1_col2,#T_c8d62c18_499e_11ec_bda8_0242ac1c0002row1_col3,#T_c8d62c18_499e_11ec_bda8_0242ac1c0002row2_col4,#T_c8d62c18_499e_11ec_bda8_0242ac1c0002row2_col11,#T_c8d62c18_499e_11ec_bda8_0242ac1c0002row4_col10,#T_c8d62c18_499e_11ec_bda8_0242ac1c0002row5_col7,#T_c8d62c18_499e_11ec_bda8_0242ac1c0002row5_col9,#T_c8d62c18_499e_11ec_bda8_0242ac1c0002row5_col11,#T_c8d62c18_499e_11ec_bda8_0242ac1c0002row6_col4,#T_c8d62c18_499e_11ec_bda8_0242ac1c0002row8_col1,#T_c8d62c18_499e_11ec_bda8_0242ac1c0002row8_col5,#T_c8d62c18_499e_11ec_bda8_0242ac1c0002row9_col1,#T_c8d62c18_499e_11ec_bda8_0242ac1c0002row10_col9,#T_c8d62c18_499e_11ec_bda8_0242ac1c0002row11_col8{\n",
              "            background-color:  #fef6fa;\n",
              "            color:  #000000;\n",
              "        }#T_c8d62c18_499e_11ec_bda8_0242ac1c0002row0_col4,#T_c8d62c18_499e_11ec_bda8_0242ac1c0002row1_col4,#T_c8d62c18_499e_11ec_bda8_0242ac1c0002row2_col1,#T_c8d62c18_499e_11ec_bda8_0242ac1c0002row2_col5,#T_c8d62c18_499e_11ec_bda8_0242ac1c0002row3_col0,#T_c8d62c18_499e_11ec_bda8_0242ac1c0002row3_col1,#T_c8d62c18_499e_11ec_bda8_0242ac1c0002row5_col2,#T_c8d62c18_499e_11ec_bda8_0242ac1c0002row9_col4,#T_c8d62c18_499e_11ec_bda8_0242ac1c0002row10_col4,#T_c8d62c18_499e_11ec_bda8_0242ac1c0002row11_col10{\n",
              "            background-color:  #fdf5fa;\n",
              "            color:  #000000;\n",
              "        }#T_c8d62c18_499e_11ec_bda8_0242ac1c0002row0_col5{\n",
              "            background-color:  #faf2f8;\n",
              "            color:  #000000;\n",
              "        }#T_c8d62c18_499e_11ec_bda8_0242ac1c0002row1_col1{\n",
              "            background-color:  #8cb3d5;\n",
              "            color:  #000000;\n",
              "        }#T_c8d62c18_499e_11ec_bda8_0242ac1c0002row1_col5,#T_c8d62c18_499e_11ec_bda8_0242ac1c0002row5_col10,#T_c8d62c18_499e_11ec_bda8_0242ac1c0002row11_col5{\n",
              "            background-color:  #fcf4fa;\n",
              "            color:  #000000;\n",
              "        }#T_c8d62c18_499e_11ec_bda8_0242ac1c0002row2_col2{\n",
              "            background-color:  #b7c5df;\n",
              "            color:  #000000;\n",
              "        }#T_c8d62c18_499e_11ec_bda8_0242ac1c0002row3_col3{\n",
              "            background-color:  #91b5d6;\n",
              "            color:  #000000;\n",
              "        }#T_c8d62c18_499e_11ec_bda8_0242ac1c0002row3_col4,#T_c8d62c18_499e_11ec_bda8_0242ac1c0002row5_col0,#T_c8d62c18_499e_11ec_bda8_0242ac1c0002row9_col5{\n",
              "            background-color:  #fbf3f9;\n",
              "            color:  #000000;\n",
              "        }#T_c8d62c18_499e_11ec_bda8_0242ac1c0002row3_col5{\n",
              "            background-color:  #f7f0f7;\n",
              "            color:  #000000;\n",
              "        }#T_c8d62c18_499e_11ec_bda8_0242ac1c0002row4_col3{\n",
              "            background-color:  #faf3f9;\n",
              "            color:  #000000;\n",
              "        }#T_c8d62c18_499e_11ec_bda8_0242ac1c0002row4_col4{\n",
              "            background-color:  #045280;\n",
              "            color:  #f1f1f1;\n",
              "        }#T_c8d62c18_499e_11ec_bda8_0242ac1c0002row4_col5{\n",
              "            background-color:  #f3edf5;\n",
              "            color:  #000000;\n",
              "        }#T_c8d62c18_499e_11ec_bda8_0242ac1c0002row4_col11,#T_c8d62c18_499e_11ec_bda8_0242ac1c0002row5_col1,#T_c8d62c18_499e_11ec_bda8_0242ac1c0002row5_col3,#T_c8d62c18_499e_11ec_bda8_0242ac1c0002row10_col5{\n",
              "            background-color:  #fbf4f9;\n",
              "            color:  #000000;\n",
              "        }#T_c8d62c18_499e_11ec_bda8_0242ac1c0002row5_col4{\n",
              "            background-color:  #f9f2f8;\n",
              "            color:  #000000;\n",
              "        }#T_c8d62c18_499e_11ec_bda8_0242ac1c0002row5_col5{\n",
              "            background-color:  #023858;\n",
              "            color:  #f1f1f1;\n",
              "        }#T_c8d62c18_499e_11ec_bda8_0242ac1c0002row6_col6{\n",
              "            background-color:  #f6eff7;\n",
              "            color:  #000000;\n",
              "        }#T_c8d62c18_499e_11ec_bda8_0242ac1c0002row7_col7,#T_c8d62c18_499e_11ec_bda8_0242ac1c0002row11_col4{\n",
              "            background-color:  #f8f1f8;\n",
              "            color:  #000000;\n",
              "        }#T_c8d62c18_499e_11ec_bda8_0242ac1c0002row8_col8{\n",
              "            background-color:  #f4edf6;\n",
              "            color:  #000000;\n",
              "        }#T_c8d62c18_499e_11ec_bda8_0242ac1c0002row9_col9{\n",
              "            background-color:  #efe9f3;\n",
              "            color:  #000000;\n",
              "        }#T_c8d62c18_499e_11ec_bda8_0242ac1c0002row10_col10{\n",
              "            background-color:  #dad9ea;\n",
              "            color:  #000000;\n",
              "        }#T_c8d62c18_499e_11ec_bda8_0242ac1c0002row11_col11{\n",
              "            background-color:  #d1d2e6;\n",
              "            color:  #000000;\n",
              "        }</style><table id=\"T_c8d62c18_499e_11ec_bda8_0242ac1c0002\" class=\"dataframe\"><thead>    <tr>        <th class=\"blank level0\" ></th>        <th class=\"col_heading level0 col0\" >Predicted M22-</th>        <th class=\"col_heading level0 col1\" >Predicted M23-26</th>        <th class=\"col_heading level0 col2\" >Predicted M27-28</th>        <th class=\"col_heading level0 col3\" >Predicted M29-31</th>        <th class=\"col_heading level0 col4\" >Predicted M32-38</th>        <th class=\"col_heading level0 col5\" >Predicted M39+</th>        <th class=\"col_heading level0 col6\" >Predicted F23-</th>        <th class=\"col_heading level0 col7\" >Predicted F24-26</th>        <th class=\"col_heading level0 col8\" >Predicted F27-28</th>        <th class=\"col_heading level0 col9\" >Predicted F29-32</th>        <th class=\"col_heading level0 col10\" >Predicted F33-42</th>        <th class=\"col_heading level0 col11\" >Predicted F43+</th>    </tr></thead><tbody>\n",
              "                <tr>\n",
              "                        <th id=\"T_c8d62c18_499e_11ec_bda8_0242ac1c0002level0_row0\" class=\"row_heading level0 row0\" >Actual M22-</th>\n",
              "                        <td id=\"T_c8d62c18_499e_11ec_bda8_0242ac1c0002row0_col0\" class=\"data row0 col0\" >95</td>\n",
              "                        <td id=\"T_c8d62c18_499e_11ec_bda8_0242ac1c0002row0_col1\" class=\"data row0 col1\" >3</td>\n",
              "                        <td id=\"T_c8d62c18_499e_11ec_bda8_0242ac1c0002row0_col2\" class=\"data row0 col2\" >0</td>\n",
              "                        <td id=\"T_c8d62c18_499e_11ec_bda8_0242ac1c0002row0_col3\" class=\"data row0 col3\" >4</td>\n",
              "                        <td id=\"T_c8d62c18_499e_11ec_bda8_0242ac1c0002row0_col4\" class=\"data row0 col4\" >6</td>\n",
              "                        <td id=\"T_c8d62c18_499e_11ec_bda8_0242ac1c0002row0_col5\" class=\"data row0 col5\" >18</td>\n",
              "                        <td id=\"T_c8d62c18_499e_11ec_bda8_0242ac1c0002row0_col6\" class=\"data row0 col6\" >0</td>\n",
              "                        <td id=\"T_c8d62c18_499e_11ec_bda8_0242ac1c0002row0_col7\" class=\"data row0 col7\" >0</td>\n",
              "                        <td id=\"T_c8d62c18_499e_11ec_bda8_0242ac1c0002row0_col8\" class=\"data row0 col8\" >0</td>\n",
              "                        <td id=\"T_c8d62c18_499e_11ec_bda8_0242ac1c0002row0_col9\" class=\"data row0 col9\" >2</td>\n",
              "                        <td id=\"T_c8d62c18_499e_11ec_bda8_0242ac1c0002row0_col10\" class=\"data row0 col10\" >0</td>\n",
              "                        <td id=\"T_c8d62c18_499e_11ec_bda8_0242ac1c0002row0_col11\" class=\"data row0 col11\" >0</td>\n",
              "            </tr>\n",
              "            <tr>\n",
              "                        <th id=\"T_c8d62c18_499e_11ec_bda8_0242ac1c0002level0_row1\" class=\"row_heading level0 row1\" >Actual M23-26</th>\n",
              "                        <td id=\"T_c8d62c18_499e_11ec_bda8_0242ac1c0002row1_col0\" class=\"data row1 col0\" >4</td>\n",
              "                        <td id=\"T_c8d62c18_499e_11ec_bda8_0242ac1c0002row1_col1\" class=\"data row1 col1\" >221</td>\n",
              "                        <td id=\"T_c8d62c18_499e_11ec_bda8_0242ac1c0002row1_col2\" class=\"data row1 col2\" >4</td>\n",
              "                        <td id=\"T_c8d62c18_499e_11ec_bda8_0242ac1c0002row1_col3\" class=\"data row1 col3\" >5</td>\n",
              "                        <td id=\"T_c8d62c18_499e_11ec_bda8_0242ac1c0002row1_col4\" class=\"data row1 col4\" >7</td>\n",
              "                        <td id=\"T_c8d62c18_499e_11ec_bda8_0242ac1c0002row1_col5\" class=\"data row1 col5\" >10</td>\n",
              "                        <td id=\"T_c8d62c18_499e_11ec_bda8_0242ac1c0002row1_col6\" class=\"data row1 col6\" >0</td>\n",
              "                        <td id=\"T_c8d62c18_499e_11ec_bda8_0242ac1c0002row1_col7\" class=\"data row1 col7\" >0</td>\n",
              "                        <td id=\"T_c8d62c18_499e_11ec_bda8_0242ac1c0002row1_col8\" class=\"data row1 col8\" >0</td>\n",
              "                        <td id=\"T_c8d62c18_499e_11ec_bda8_0242ac1c0002row1_col9\" class=\"data row1 col9\" >2</td>\n",
              "                        <td id=\"T_c8d62c18_499e_11ec_bda8_0242ac1c0002row1_col10\" class=\"data row1 col10\" >2</td>\n",
              "                        <td id=\"T_c8d62c18_499e_11ec_bda8_0242ac1c0002row1_col11\" class=\"data row1 col11\" >3</td>\n",
              "            </tr>\n",
              "            <tr>\n",
              "                        <th id=\"T_c8d62c18_499e_11ec_bda8_0242ac1c0002level0_row2\" class=\"row_heading level0 row2\" >Actual M27-28</th>\n",
              "                        <td id=\"T_c8d62c18_499e_11ec_bda8_0242ac1c0002row2_col0\" class=\"data row2 col0\" >3</td>\n",
              "                        <td id=\"T_c8d62c18_499e_11ec_bda8_0242ac1c0002row2_col1\" class=\"data row2 col1\" >6</td>\n",
              "                        <td id=\"T_c8d62c18_499e_11ec_bda8_0242ac1c0002row2_col2\" class=\"data row2 col2\" >163</td>\n",
              "                        <td id=\"T_c8d62c18_499e_11ec_bda8_0242ac1c0002row2_col3\" class=\"data row2 col3\" >1</td>\n",
              "                        <td id=\"T_c8d62c18_499e_11ec_bda8_0242ac1c0002row2_col4\" class=\"data row2 col4\" >5</td>\n",
              "                        <td id=\"T_c8d62c18_499e_11ec_bda8_0242ac1c0002row2_col5\" class=\"data row2 col5\" >8</td>\n",
              "                        <td id=\"T_c8d62c18_499e_11ec_bda8_0242ac1c0002row2_col6\" class=\"data row2 col6\" >0</td>\n",
              "                        <td id=\"T_c8d62c18_499e_11ec_bda8_0242ac1c0002row2_col7\" class=\"data row2 col7\" >0</td>\n",
              "                        <td id=\"T_c8d62c18_499e_11ec_bda8_0242ac1c0002row2_col8\" class=\"data row2 col8\" >0</td>\n",
              "                        <td id=\"T_c8d62c18_499e_11ec_bda8_0242ac1c0002row2_col9\" class=\"data row2 col9\" >0</td>\n",
              "                        <td id=\"T_c8d62c18_499e_11ec_bda8_0242ac1c0002row2_col10\" class=\"data row2 col10\" >1</td>\n",
              "                        <td id=\"T_c8d62c18_499e_11ec_bda8_0242ac1c0002row2_col11\" class=\"data row2 col11\" >5</td>\n",
              "            </tr>\n",
              "            <tr>\n",
              "                        <th id=\"T_c8d62c18_499e_11ec_bda8_0242ac1c0002level0_row3\" class=\"row_heading level0 row3\" >Actual M29-31</th>\n",
              "                        <td id=\"T_c8d62c18_499e_11ec_bda8_0242ac1c0002row3_col0\" class=\"data row3 col0\" >7</td>\n",
              "                        <td id=\"T_c8d62c18_499e_11ec_bda8_0242ac1c0002row3_col1\" class=\"data row3 col1\" >8</td>\n",
              "                        <td id=\"T_c8d62c18_499e_11ec_bda8_0242ac1c0002row3_col2\" class=\"data row3 col2\" >2</td>\n",
              "                        <td id=\"T_c8d62c18_499e_11ec_bda8_0242ac1c0002row3_col3\" class=\"data row3 col3\" >214</td>\n",
              "                        <td id=\"T_c8d62c18_499e_11ec_bda8_0242ac1c0002row3_col4\" class=\"data row3 col4\" >14</td>\n",
              "                        <td id=\"T_c8d62c18_499e_11ec_bda8_0242ac1c0002row3_col5\" class=\"data row3 col5\" >29</td>\n",
              "                        <td id=\"T_c8d62c18_499e_11ec_bda8_0242ac1c0002row3_col6\" class=\"data row3 col6\" >1</td>\n",
              "                        <td id=\"T_c8d62c18_499e_11ec_bda8_0242ac1c0002row3_col7\" class=\"data row3 col7\" >0</td>\n",
              "                        <td id=\"T_c8d62c18_499e_11ec_bda8_0242ac1c0002row3_col8\" class=\"data row3 col8\" >2</td>\n",
              "                        <td id=\"T_c8d62c18_499e_11ec_bda8_0242ac1c0002row3_col9\" class=\"data row3 col9\" >2</td>\n",
              "                        <td id=\"T_c8d62c18_499e_11ec_bda8_0242ac1c0002row3_col10\" class=\"data row3 col10\" >2</td>\n",
              "                        <td id=\"T_c8d62c18_499e_11ec_bda8_0242ac1c0002row3_col11\" class=\"data row3 col11\" >2</td>\n",
              "            </tr>\n",
              "            <tr>\n",
              "                        <th id=\"T_c8d62c18_499e_11ec_bda8_0242ac1c0002level0_row4\" class=\"row_heading level0 row4\" >Actual M32-38</th>\n",
              "                        <td id=\"T_c8d62c18_499e_11ec_bda8_0242ac1c0002row4_col0\" class=\"data row4 col0\" >3</td>\n",
              "                        <td id=\"T_c8d62c18_499e_11ec_bda8_0242ac1c0002row4_col1\" class=\"data row4 col1\" >0</td>\n",
              "                        <td id=\"T_c8d62c18_499e_11ec_bda8_0242ac1c0002row4_col2\" class=\"data row4 col2\" >3</td>\n",
              "                        <td id=\"T_c8d62c18_499e_11ec_bda8_0242ac1c0002row4_col3\" class=\"data row4 col3\" >16</td>\n",
              "                        <td id=\"T_c8d62c18_499e_11ec_bda8_0242ac1c0002row4_col4\" class=\"data row4 col4\" >453</td>\n",
              "                        <td id=\"T_c8d62c18_499e_11ec_bda8_0242ac1c0002row4_col5\" class=\"data row4 col5\" >40</td>\n",
              "                        <td id=\"T_c8d62c18_499e_11ec_bda8_0242ac1c0002row4_col6\" class=\"data row4 col6\" >0</td>\n",
              "                        <td id=\"T_c8d62c18_499e_11ec_bda8_0242ac1c0002row4_col7\" class=\"data row4 col7\" >1</td>\n",
              "                        <td id=\"T_c8d62c18_499e_11ec_bda8_0242ac1c0002row4_col8\" class=\"data row4 col8\" >2</td>\n",
              "                        <td id=\"T_c8d62c18_499e_11ec_bda8_0242ac1c0002row4_col9\" class=\"data row4 col9\" >3</td>\n",
              "                        <td id=\"T_c8d62c18_499e_11ec_bda8_0242ac1c0002row4_col10\" class=\"data row4 col10\" >5</td>\n",
              "                        <td id=\"T_c8d62c18_499e_11ec_bda8_0242ac1c0002row4_col11\" class=\"data row4 col11\" >13</td>\n",
              "            </tr>\n",
              "            <tr>\n",
              "                        <th id=\"T_c8d62c18_499e_11ec_bda8_0242ac1c0002level0_row5\" class=\"row_heading level0 row5\" >Actual M39+</th>\n",
              "                        <td id=\"T_c8d62c18_499e_11ec_bda8_0242ac1c0002row5_col0\" class=\"data row5 col0\" >14</td>\n",
              "                        <td id=\"T_c8d62c18_499e_11ec_bda8_0242ac1c0002row5_col1\" class=\"data row5 col1\" >12</td>\n",
              "                        <td id=\"T_c8d62c18_499e_11ec_bda8_0242ac1c0002row5_col2\" class=\"data row5 col2\" >6</td>\n",
              "                        <td id=\"T_c8d62c18_499e_11ec_bda8_0242ac1c0002row5_col3\" class=\"data row5 col3\" >12</td>\n",
              "                        <td id=\"T_c8d62c18_499e_11ec_bda8_0242ac1c0002row5_col4\" class=\"data row5 col4\" >21</td>\n",
              "                        <td id=\"T_c8d62c18_499e_11ec_bda8_0242ac1c0002row5_col5\" class=\"data row5 col5\" >502</td>\n",
              "                        <td id=\"T_c8d62c18_499e_11ec_bda8_0242ac1c0002row5_col6\" class=\"data row5 col6\" >0</td>\n",
              "                        <td id=\"T_c8d62c18_499e_11ec_bda8_0242ac1c0002row5_col7\" class=\"data row5 col7\" >5</td>\n",
              "                        <td id=\"T_c8d62c18_499e_11ec_bda8_0242ac1c0002row5_col8\" class=\"data row5 col8\" >3</td>\n",
              "                        <td id=\"T_c8d62c18_499e_11ec_bda8_0242ac1c0002row5_col9\" class=\"data row5 col9\" >5</td>\n",
              "                        <td id=\"T_c8d62c18_499e_11ec_bda8_0242ac1c0002row5_col10\" class=\"data row5 col10\" >11</td>\n",
              "                        <td id=\"T_c8d62c18_499e_11ec_bda8_0242ac1c0002row5_col11\" class=\"data row5 col11\" >4</td>\n",
              "            </tr>\n",
              "            <tr>\n",
              "                        <th id=\"T_c8d62c18_499e_11ec_bda8_0242ac1c0002level0_row6\" class=\"row_heading level0 row6\" >Actual F23-</th>\n",
              "                        <td id=\"T_c8d62c18_499e_11ec_bda8_0242ac1c0002row6_col0\" class=\"data row6 col0\" >0</td>\n",
              "                        <td id=\"T_c8d62c18_499e_11ec_bda8_0242ac1c0002row6_col1\" class=\"data row6 col1\" >0</td>\n",
              "                        <td id=\"T_c8d62c18_499e_11ec_bda8_0242ac1c0002row6_col2\" class=\"data row6 col2\" >0</td>\n",
              "                        <td id=\"T_c8d62c18_499e_11ec_bda8_0242ac1c0002row6_col3\" class=\"data row6 col3\" >0</td>\n",
              "                        <td id=\"T_c8d62c18_499e_11ec_bda8_0242ac1c0002row6_col4\" class=\"data row6 col4\" >4</td>\n",
              "                        <td id=\"T_c8d62c18_499e_11ec_bda8_0242ac1c0002row6_col5\" class=\"data row6 col5\" >3</td>\n",
              "                        <td id=\"T_c8d62c18_499e_11ec_bda8_0242ac1c0002row6_col6\" class=\"data row6 col6\" >30</td>\n",
              "                        <td id=\"T_c8d62c18_499e_11ec_bda8_0242ac1c0002row6_col7\" class=\"data row6 col7\" >0</td>\n",
              "                        <td id=\"T_c8d62c18_499e_11ec_bda8_0242ac1c0002row6_col8\" class=\"data row6 col8\" >0</td>\n",
              "                        <td id=\"T_c8d62c18_499e_11ec_bda8_0242ac1c0002row6_col9\" class=\"data row6 col9\" >0</td>\n",
              "                        <td id=\"T_c8d62c18_499e_11ec_bda8_0242ac1c0002row6_col10\" class=\"data row6 col10\" >2</td>\n",
              "                        <td id=\"T_c8d62c18_499e_11ec_bda8_0242ac1c0002row6_col11\" class=\"data row6 col11\" >0</td>\n",
              "            </tr>\n",
              "            <tr>\n",
              "                        <th id=\"T_c8d62c18_499e_11ec_bda8_0242ac1c0002level0_row7\" class=\"row_heading level0 row7\" >Actual F24-26</th>\n",
              "                        <td id=\"T_c8d62c18_499e_11ec_bda8_0242ac1c0002row7_col0\" class=\"data row7 col0\" >0</td>\n",
              "                        <td id=\"T_c8d62c18_499e_11ec_bda8_0242ac1c0002row7_col1\" class=\"data row7 col1\" >0</td>\n",
              "                        <td id=\"T_c8d62c18_499e_11ec_bda8_0242ac1c0002row7_col2\" class=\"data row7 col2\" >0</td>\n",
              "                        <td id=\"T_c8d62c18_499e_11ec_bda8_0242ac1c0002row7_col3\" class=\"data row7 col3\" >0</td>\n",
              "                        <td id=\"T_c8d62c18_499e_11ec_bda8_0242ac1c0002row7_col4\" class=\"data row7 col4\" >1</td>\n",
              "                        <td id=\"T_c8d62c18_499e_11ec_bda8_0242ac1c0002row7_col5\" class=\"data row7 col5\" >2</td>\n",
              "                        <td id=\"T_c8d62c18_499e_11ec_bda8_0242ac1c0002row7_col6\" class=\"data row7 col6\" >0</td>\n",
              "                        <td id=\"T_c8d62c18_499e_11ec_bda8_0242ac1c0002row7_col7\" class=\"data row7 col7\" >25</td>\n",
              "                        <td id=\"T_c8d62c18_499e_11ec_bda8_0242ac1c0002row7_col8\" class=\"data row7 col8\" >0</td>\n",
              "                        <td id=\"T_c8d62c18_499e_11ec_bda8_0242ac1c0002row7_col9\" class=\"data row7 col9\" >0</td>\n",
              "                        <td id=\"T_c8d62c18_499e_11ec_bda8_0242ac1c0002row7_col10\" class=\"data row7 col10\" >1</td>\n",
              "                        <td id=\"T_c8d62c18_499e_11ec_bda8_0242ac1c0002row7_col11\" class=\"data row7 col11\" >0</td>\n",
              "            </tr>\n",
              "            <tr>\n",
              "                        <th id=\"T_c8d62c18_499e_11ec_bda8_0242ac1c0002level0_row8\" class=\"row_heading level0 row8\" >Actual F27-28</th>\n",
              "                        <td id=\"T_c8d62c18_499e_11ec_bda8_0242ac1c0002row8_col0\" class=\"data row8 col0\" >0</td>\n",
              "                        <td id=\"T_c8d62c18_499e_11ec_bda8_0242ac1c0002row8_col1\" class=\"data row8 col1\" >5</td>\n",
              "                        <td id=\"T_c8d62c18_499e_11ec_bda8_0242ac1c0002row8_col2\" class=\"data row8 col2\" >1</td>\n",
              "                        <td id=\"T_c8d62c18_499e_11ec_bda8_0242ac1c0002row8_col3\" class=\"data row8 col3\" >2</td>\n",
              "                        <td id=\"T_c8d62c18_499e_11ec_bda8_0242ac1c0002row8_col4\" class=\"data row8 col4\" >2</td>\n",
              "                        <td id=\"T_c8d62c18_499e_11ec_bda8_0242ac1c0002row8_col5\" class=\"data row8 col5\" >5</td>\n",
              "                        <td id=\"T_c8d62c18_499e_11ec_bda8_0242ac1c0002row8_col6\" class=\"data row8 col6\" >0</td>\n",
              "                        <td id=\"T_c8d62c18_499e_11ec_bda8_0242ac1c0002row8_col7\" class=\"data row8 col7\" >0</td>\n",
              "                        <td id=\"T_c8d62c18_499e_11ec_bda8_0242ac1c0002row8_col8\" class=\"data row8 col8\" >39</td>\n",
              "                        <td id=\"T_c8d62c18_499e_11ec_bda8_0242ac1c0002row8_col9\" class=\"data row8 col9\" >0</td>\n",
              "                        <td id=\"T_c8d62c18_499e_11ec_bda8_0242ac1c0002row8_col10\" class=\"data row8 col10\" >0</td>\n",
              "                        <td id=\"T_c8d62c18_499e_11ec_bda8_0242ac1c0002row8_col11\" class=\"data row8 col11\" >3</td>\n",
              "            </tr>\n",
              "            <tr>\n",
              "                        <th id=\"T_c8d62c18_499e_11ec_bda8_0242ac1c0002level0_row9\" class=\"row_heading level0 row9\" >Actual F29-32</th>\n",
              "                        <td id=\"T_c8d62c18_499e_11ec_bda8_0242ac1c0002row9_col0\" class=\"data row9 col0\" >1</td>\n",
              "                        <td id=\"T_c8d62c18_499e_11ec_bda8_0242ac1c0002row9_col1\" class=\"data row9 col1\" >4</td>\n",
              "                        <td id=\"T_c8d62c18_499e_11ec_bda8_0242ac1c0002row9_col2\" class=\"data row9 col2\" >1</td>\n",
              "                        <td id=\"T_c8d62c18_499e_11ec_bda8_0242ac1c0002row9_col3\" class=\"data row9 col3\" >0</td>\n",
              "                        <td id=\"T_c8d62c18_499e_11ec_bda8_0242ac1c0002row9_col4\" class=\"data row9 col4\" >6</td>\n",
              "                        <td id=\"T_c8d62c18_499e_11ec_bda8_0242ac1c0002row9_col5\" class=\"data row9 col5\" >14</td>\n",
              "                        <td id=\"T_c8d62c18_499e_11ec_bda8_0242ac1c0002row9_col6\" class=\"data row9 col6\" >0</td>\n",
              "                        <td id=\"T_c8d62c18_499e_11ec_bda8_0242ac1c0002row9_col7\" class=\"data row9 col7\" >0</td>\n",
              "                        <td id=\"T_c8d62c18_499e_11ec_bda8_0242ac1c0002row9_col8\" class=\"data row9 col8\" >0</td>\n",
              "                        <td id=\"T_c8d62c18_499e_11ec_bda8_0242ac1c0002row9_col9\" class=\"data row9 col9\" >54</td>\n",
              "                        <td id=\"T_c8d62c18_499e_11ec_bda8_0242ac1c0002row9_col10\" class=\"data row9 col10\" >1</td>\n",
              "                        <td id=\"T_c8d62c18_499e_11ec_bda8_0242ac1c0002row9_col11\" class=\"data row9 col11\" >0</td>\n",
              "            </tr>\n",
              "            <tr>\n",
              "                        <th id=\"T_c8d62c18_499e_11ec_bda8_0242ac1c0002level0_row10\" class=\"row_heading level0 row10\" >Actual F33-42</th>\n",
              "                        <td id=\"T_c8d62c18_499e_11ec_bda8_0242ac1c0002row10_col0\" class=\"data row10 col0\" >1</td>\n",
              "                        <td id=\"T_c8d62c18_499e_11ec_bda8_0242ac1c0002row10_col1\" class=\"data row10 col1\" >1</td>\n",
              "                        <td id=\"T_c8d62c18_499e_11ec_bda8_0242ac1c0002row10_col2\" class=\"data row10 col2\" >0</td>\n",
              "                        <td id=\"T_c8d62c18_499e_11ec_bda8_0242ac1c0002row10_col3\" class=\"data row10 col3\" >3</td>\n",
              "                        <td id=\"T_c8d62c18_499e_11ec_bda8_0242ac1c0002row10_col4\" class=\"data row10 col4\" >9</td>\n",
              "                        <td id=\"T_c8d62c18_499e_11ec_bda8_0242ac1c0002row10_col5\" class=\"data row10 col5\" >12</td>\n",
              "                        <td id=\"T_c8d62c18_499e_11ec_bda8_0242ac1c0002row10_col6\" class=\"data row10 col6\" >1</td>\n",
              "                        <td id=\"T_c8d62c18_499e_11ec_bda8_0242ac1c0002row10_col7\" class=\"data row10 col7\" >1</td>\n",
              "                        <td id=\"T_c8d62c18_499e_11ec_bda8_0242ac1c0002row10_col8\" class=\"data row10 col8\" >0</td>\n",
              "                        <td id=\"T_c8d62c18_499e_11ec_bda8_0242ac1c0002row10_col9\" class=\"data row10 col9\" >4</td>\n",
              "                        <td id=\"T_c8d62c18_499e_11ec_bda8_0242ac1c0002row10_col10\" class=\"data row10 col10\" >103</td>\n",
              "                        <td id=\"T_c8d62c18_499e_11ec_bda8_0242ac1c0002row10_col11\" class=\"data row10 col11\" >2</td>\n",
              "            </tr>\n",
              "            <tr>\n",
              "                        <th id=\"T_c8d62c18_499e_11ec_bda8_0242ac1c0002level0_row11\" class=\"row_heading level0 row11\" >Actual F43+</th>\n",
              "                        <td id=\"T_c8d62c18_499e_11ec_bda8_0242ac1c0002row11_col0\" class=\"data row11 col0\" >0</td>\n",
              "                        <td id=\"T_c8d62c18_499e_11ec_bda8_0242ac1c0002row11_col1\" class=\"data row11 col1\" >2</td>\n",
              "                        <td id=\"T_c8d62c18_499e_11ec_bda8_0242ac1c0002row11_col2\" class=\"data row11 col2\" >0</td>\n",
              "                        <td id=\"T_c8d62c18_499e_11ec_bda8_0242ac1c0002row11_col3\" class=\"data row11 col3\" >3</td>\n",
              "                        <td id=\"T_c8d62c18_499e_11ec_bda8_0242ac1c0002row11_col4\" class=\"data row11 col4\" >22</td>\n",
              "                        <td id=\"T_c8d62c18_499e_11ec_bda8_0242ac1c0002row11_col5\" class=\"data row11 col5\" >10</td>\n",
              "                        <td id=\"T_c8d62c18_499e_11ec_bda8_0242ac1c0002row11_col6\" class=\"data row11 col6\" >0</td>\n",
              "                        <td id=\"T_c8d62c18_499e_11ec_bda8_0242ac1c0002row11_col7\" class=\"data row11 col7\" >0</td>\n",
              "                        <td id=\"T_c8d62c18_499e_11ec_bda8_0242ac1c0002row11_col8\" class=\"data row11 col8\" >4</td>\n",
              "                        <td id=\"T_c8d62c18_499e_11ec_bda8_0242ac1c0002row11_col9\" class=\"data row11 col9\" >0</td>\n",
              "                        <td id=\"T_c8d62c18_499e_11ec_bda8_0242ac1c0002row11_col10\" class=\"data row11 col10\" >8</td>\n",
              "                        <td id=\"T_c8d62c18_499e_11ec_bda8_0242ac1c0002row11_col11\" class=\"data row11 col11\" >124</td>\n",
              "            </tr>\n",
              "    </tbody></table>"
            ],
            "text/plain": [
              "<pandas.io.formats.style.Styler at 0x7f3d0a6a9e50>"
            ]
          },
          "metadata": {},
          "execution_count": 58
        }
      ]
    },
    {
      "cell_type": "code",
      "metadata": {
        "colab": {
          "base_uri": "https://localhost:8080/"
        },
        "id": "Oe3Tb5To3rAA",
        "outputId": "d5d38dc2-ae1b-4da9-c7d8-f0025063cf77"
      },
      "source": [
        "print(\"Classification Report:\")\n",
        "print()\n",
        "print(classification_report(y_test, y_pred))\n"
      ],
      "execution_count": null,
      "outputs": [
        {
          "output_type": "stream",
          "name": "stdout",
          "text": [
            "Classification Report:\n",
            "\n",
            "              precision    recall  f1-score   support\n",
            "\n",
            "           0       0.74      0.74      0.74       128\n",
            "           1       0.84      0.86      0.85       258\n",
            "           2       0.91      0.85      0.88       192\n",
            "           3       0.82      0.76      0.79       283\n",
            "           4       0.82      0.84      0.83       539\n",
            "           5       0.77      0.84      0.80       595\n",
            "           6       0.94      0.77      0.85        39\n",
            "           7       0.78      0.86      0.82        29\n",
            "           8       0.78      0.68      0.73        57\n",
            "           9       0.75      0.67      0.71        81\n",
            "          10       0.76      0.75      0.75       137\n",
            "          11       0.79      0.72      0.75       173\n",
            "\n",
            "    accuracy                           0.81      2511\n",
            "   macro avg       0.81      0.78      0.79      2511\n",
            "weighted avg       0.81      0.81      0.81      2511\n",
            "\n"
          ]
        }
      ]
    },
    {
      "cell_type": "code",
      "metadata": {
        "id": "qp7lD1Jo3rET"
      },
      "source": [
        "def multiclass_roc_auc_score(y_test, y_pred, average=\"macro\"):\n",
        "  lb = LabelBinarizer()\n",
        "  lb.fit(y_test)\n",
        "  y_test = lb.transform(y_test)\n",
        "  y_pred = lb.transform(y_pred)\n",
        "  return roc_auc_score(y_test, y_pred, average=average)\n"
      ],
      "execution_count": null,
      "outputs": []
    },
    {
      "cell_type": "code",
      "metadata": {
        "colab": {
          "base_uri": "https://localhost:8080/"
        },
        "id": "zDL5p2F64Hn5",
        "outputId": "acc55e3c-dbd6-4219-f7c6-01d8775db751"
      },
      "source": [
        "multiclass_roc_auc_score(y_test, y_pred, average=\"macro\")"
      ],
      "execution_count": null,
      "outputs": [
        {
          "output_type": "execute_result",
          "data": {
            "text/plain": [
              "0.8794874039412083"
            ]
          },
          "metadata": {},
          "execution_count": 61
        }
      ]
    },
    {
      "cell_type": "markdown",
      "metadata": {
        "id": "hk9z2ZYG5wHg"
      },
      "source": [
        "# KNN Classifier"
      ]
    },
    {
      "cell_type": "code",
      "metadata": {
        "id": "IuPR52NP5yHu"
      },
      "source": [
        "pipeline = Pipeline(\n",
        "    [\n",
        "        (\"scaler\", StandardScaler()),\n",
        "        (\"pca\", PCA(n_components=n_components)),\n",
        "        (\"knn\", KNeighborsClassifier()),\n",
        "    ]\n",
        ")\n",
        "pipeline = pipeline.fit(X_train, y_train)\n"
      ],
      "execution_count": null,
      "outputs": []
    },
    {
      "cell_type": "code",
      "metadata": {
        "colab": {
          "base_uri": "https://localhost:8080/"
        },
        "id": "p9d6COWp5yKj",
        "outputId": "d9bc3b8e-2ed6-4a63-f65c-c207ad0b60f4"
      },
      "source": [
        "grid = {\n",
        "    \"knn__n_neighbors\": [50, 100, 150],\n",
        "    \"knn__weights\": [\"distance\"],\n",
        "    \"knn__leaf_size\": [1, 10, 20],\n",
        "}\n",
        "\n",
        "model = GridSearchCV(pipeline, grid, n_jobs=-1, cv=2, verbose=2)\n",
        "model.fit(X_train, y_train)\n"
      ],
      "execution_count": null,
      "outputs": [
        {
          "output_type": "stream",
          "name": "stdout",
          "text": [
            "Fitting 2 folds for each of 9 candidates, totalling 18 fits\n"
          ]
        },
        {
          "output_type": "execute_result",
          "data": {
            "text/plain": [
              "GridSearchCV(cv=2,\n",
              "             estimator=Pipeline(steps=[('scaler', StandardScaler()),\n",
              "                                       ('pca', PCA(n_components=48)),\n",
              "                                       ('knn', KNeighborsClassifier())]),\n",
              "             n_jobs=-1,\n",
              "             param_grid={'knn__leaf_size': [1, 10, 20],\n",
              "                         'knn__n_neighbors': [50, 100, 150],\n",
              "                         'knn__weights': ['distance']},\n",
              "             verbose=2)"
            ]
          },
          "metadata": {},
          "execution_count": 63
        }
      ]
    },
    {
      "cell_type": "code",
      "metadata": {
        "colab": {
          "base_uri": "https://localhost:8080/"
        },
        "id": "PdgjVDej5yNc",
        "outputId": "3aa55c3e-5b32-4d31-8123-e7113f68d9a9"
      },
      "source": [
        "model.best_params_\n"
      ],
      "execution_count": null,
      "outputs": [
        {
          "output_type": "execute_result",
          "data": {
            "text/plain": [
              "{'knn__leaf_size': 10, 'knn__n_neighbors': 150, 'knn__weights': 'distance'}"
            ]
          },
          "metadata": {},
          "execution_count": 64
        }
      ]
    },
    {
      "cell_type": "code",
      "metadata": {
        "colab": {
          "base_uri": "https://localhost:8080/"
        },
        "id": "atuBEpjo5yPA",
        "outputId": "14d5abd9-42ba-46fe-ad5f-cebffaad6f18"
      },
      "source": [
        "# Model still appears to be extremely overfitting\n",
        "train_score = model.score(X_train, y_train)\n",
        "test_score = model.score(X_test, y_test)\n",
        "\n",
        "print(f\"Train score: {train_score}\")\n",
        "print(f\"Test score: {test_score}\")"
      ],
      "execution_count": null,
      "outputs": [
        {
          "output_type": "stream",
          "name": "stdout",
          "text": [
            "Train score: 0.9955179282868526\n",
            "Test score: 0.7678215850258862\n"
          ]
        }
      ]
    },
    {
      "cell_type": "code",
      "metadata": {
        "colab": {
          "base_uri": "https://localhost:8080/",
          "height": 425
        },
        "id": "7tV5dH5n6AAH",
        "outputId": "d08e3ef4-029f-4a0f-c76a-854ee6e72759"
      },
      "source": [
        "y_pred = model.predict(X_test)\n",
        "\n",
        "con_mat = pd.DataFrame(\n",
        "    confusion_matrix(y_test, y_pred),\n",
        "    index=[\n",
        "        \"Actual M22-\",\n",
        "        \"Actual M23-26\",\n",
        "        \"Actual M27-28\",\n",
        "        \"Actual M29-31\",\n",
        "        \"Actual M32-38\",\n",
        "        \"Actual M39+\",\n",
        "        \"Actual F23-\",\n",
        "        \"Actual F24-26\",\n",
        "        \"Actual F27-28\",\n",
        "        \"Actual F29-32\",\n",
        "        \"Actual F33-42\",\n",
        "        \"Actual F43+\",\n",
        "    ],\n",
        "    columns=[\n",
        "        \"Predicted M22-\",\n",
        "        \"Predicted M23-26\",\n",
        "        \"Predicted M27-28\",\n",
        "        \"Predicted M29-31\",\n",
        "        \"Predicted M32-38\",\n",
        "        \"Predicted M39+\",\n",
        "        \"Predicted F23-\",\n",
        "        \"Predicted F24-26\",\n",
        "        \"Predicted F27-28\",\n",
        "        \"Predicted F29-32\",\n",
        "        \"Predicted F33-42\",\n",
        "        \"Predicted F43+\",\n",
        "    ],\n",
        ")\n",
        "con_mat.style.background_gradient(axis=None)\n"
      ],
      "execution_count": null,
      "outputs": [
        {
          "output_type": "execute_result",
          "data": {
            "text/html": [
              "<style  type=\"text/css\" >\n",
              "#T_365d9d5c_499f_11ec_bda8_0242ac1c0002row0_col0{\n",
              "            background-color:  #e5e1ef;\n",
              "            color:  #000000;\n",
              "        }#T_365d9d5c_499f_11ec_bda8_0242ac1c0002row0_col1,#T_365d9d5c_499f_11ec_bda8_0242ac1c0002row0_col3,#T_365d9d5c_499f_11ec_bda8_0242ac1c0002row0_col7,#T_365d9d5c_499f_11ec_bda8_0242ac1c0002row1_col0,#T_365d9d5c_499f_11ec_bda8_0242ac1c0002row1_col9,#T_365d9d5c_499f_11ec_bda8_0242ac1c0002row1_col10,#T_365d9d5c_499f_11ec_bda8_0242ac1c0002row2_col3,#T_365d9d5c_499f_11ec_bda8_0242ac1c0002row2_col10,#T_365d9d5c_499f_11ec_bda8_0242ac1c0002row2_col11,#T_365d9d5c_499f_11ec_bda8_0242ac1c0002row4_col11,#T_365d9d5c_499f_11ec_bda8_0242ac1c0002row6_col4,#T_365d9d5c_499f_11ec_bda8_0242ac1c0002row8_col4,#T_365d9d5c_499f_11ec_bda8_0242ac1c0002row8_col11,#T_365d9d5c_499f_11ec_bda8_0242ac1c0002row9_col2,#T_365d9d5c_499f_11ec_bda8_0242ac1c0002row9_col4,#T_365d9d5c_499f_11ec_bda8_0242ac1c0002row10_col6,#T_365d9d5c_499f_11ec_bda8_0242ac1c0002row11_col8,#T_365d9d5c_499f_11ec_bda8_0242ac1c0002row11_col10{\n",
              "            background-color:  #fef6fb;\n",
              "            color:  #000000;\n",
              "        }#T_365d9d5c_499f_11ec_bda8_0242ac1c0002row0_col2,#T_365d9d5c_499f_11ec_bda8_0242ac1c0002row0_col6,#T_365d9d5c_499f_11ec_bda8_0242ac1c0002row0_col8,#T_365d9d5c_499f_11ec_bda8_0242ac1c0002row0_col9,#T_365d9d5c_499f_11ec_bda8_0242ac1c0002row0_col10,#T_365d9d5c_499f_11ec_bda8_0242ac1c0002row0_col11,#T_365d9d5c_499f_11ec_bda8_0242ac1c0002row1_col2,#T_365d9d5c_499f_11ec_bda8_0242ac1c0002row1_col3,#T_365d9d5c_499f_11ec_bda8_0242ac1c0002row1_col6,#T_365d9d5c_499f_11ec_bda8_0242ac1c0002row1_col7,#T_365d9d5c_499f_11ec_bda8_0242ac1c0002row1_col8,#T_365d9d5c_499f_11ec_bda8_0242ac1c0002row1_col11,#T_365d9d5c_499f_11ec_bda8_0242ac1c0002row2_col0,#T_365d9d5c_499f_11ec_bda8_0242ac1c0002row2_col6,#T_365d9d5c_499f_11ec_bda8_0242ac1c0002row2_col7,#T_365d9d5c_499f_11ec_bda8_0242ac1c0002row2_col8,#T_365d9d5c_499f_11ec_bda8_0242ac1c0002row2_col9,#T_365d9d5c_499f_11ec_bda8_0242ac1c0002row3_col2,#T_365d9d5c_499f_11ec_bda8_0242ac1c0002row3_col6,#T_365d9d5c_499f_11ec_bda8_0242ac1c0002row3_col7,#T_365d9d5c_499f_11ec_bda8_0242ac1c0002row3_col8,#T_365d9d5c_499f_11ec_bda8_0242ac1c0002row3_col9,#T_365d9d5c_499f_11ec_bda8_0242ac1c0002row3_col10,#T_365d9d5c_499f_11ec_bda8_0242ac1c0002row3_col11,#T_365d9d5c_499f_11ec_bda8_0242ac1c0002row4_col0,#T_365d9d5c_499f_11ec_bda8_0242ac1c0002row4_col1,#T_365d9d5c_499f_11ec_bda8_0242ac1c0002row4_col2,#T_365d9d5c_499f_11ec_bda8_0242ac1c0002row4_col6,#T_365d9d5c_499f_11ec_bda8_0242ac1c0002row4_col7,#T_365d9d5c_499f_11ec_bda8_0242ac1c0002row4_col8,#T_365d9d5c_499f_11ec_bda8_0242ac1c0002row4_col10,#T_365d9d5c_499f_11ec_bda8_0242ac1c0002row5_col2,#T_365d9d5c_499f_11ec_bda8_0242ac1c0002row5_col6,#T_365d9d5c_499f_11ec_bda8_0242ac1c0002row5_col7,#T_365d9d5c_499f_11ec_bda8_0242ac1c0002row5_col8,#T_365d9d5c_499f_11ec_bda8_0242ac1c0002row5_col11,#T_365d9d5c_499f_11ec_bda8_0242ac1c0002row6_col0,#T_365d9d5c_499f_11ec_bda8_0242ac1c0002row6_col1,#T_365d9d5c_499f_11ec_bda8_0242ac1c0002row6_col2,#T_365d9d5c_499f_11ec_bda8_0242ac1c0002row6_col3,#T_365d9d5c_499f_11ec_bda8_0242ac1c0002row6_col7,#T_365d9d5c_499f_11ec_bda8_0242ac1c0002row6_col8,#T_365d9d5c_499f_11ec_bda8_0242ac1c0002row6_col9,#T_365d9d5c_499f_11ec_bda8_0242ac1c0002row6_col10,#T_365d9d5c_499f_11ec_bda8_0242ac1c0002row6_col11,#T_365d9d5c_499f_11ec_bda8_0242ac1c0002row7_col0,#T_365d9d5c_499f_11ec_bda8_0242ac1c0002row7_col1,#T_365d9d5c_499f_11ec_bda8_0242ac1c0002row7_col2,#T_365d9d5c_499f_11ec_bda8_0242ac1c0002row7_col3,#T_365d9d5c_499f_11ec_bda8_0242ac1c0002row7_col4,#T_365d9d5c_499f_11ec_bda8_0242ac1c0002row7_col6,#T_365d9d5c_499f_11ec_bda8_0242ac1c0002row7_col8,#T_365d9d5c_499f_11ec_bda8_0242ac1c0002row7_col9,#T_365d9d5c_499f_11ec_bda8_0242ac1c0002row7_col10,#T_365d9d5c_499f_11ec_bda8_0242ac1c0002row7_col11,#T_365d9d5c_499f_11ec_bda8_0242ac1c0002row8_col0,#T_365d9d5c_499f_11ec_bda8_0242ac1c0002row8_col2,#T_365d9d5c_499f_11ec_bda8_0242ac1c0002row8_col3,#T_365d9d5c_499f_11ec_bda8_0242ac1c0002row8_col6,#T_365d9d5c_499f_11ec_bda8_0242ac1c0002row8_col7,#T_365d9d5c_499f_11ec_bda8_0242ac1c0002row8_col9,#T_365d9d5c_499f_11ec_bda8_0242ac1c0002row8_col10,#T_365d9d5c_499f_11ec_bda8_0242ac1c0002row9_col0,#T_365d9d5c_499f_11ec_bda8_0242ac1c0002row9_col6,#T_365d9d5c_499f_11ec_bda8_0242ac1c0002row9_col7,#T_365d9d5c_499f_11ec_bda8_0242ac1c0002row9_col8,#T_365d9d5c_499f_11ec_bda8_0242ac1c0002row9_col10,#T_365d9d5c_499f_11ec_bda8_0242ac1c0002row9_col11,#T_365d9d5c_499f_11ec_bda8_0242ac1c0002row10_col0,#T_365d9d5c_499f_11ec_bda8_0242ac1c0002row10_col1,#T_365d9d5c_499f_11ec_bda8_0242ac1c0002row10_col2,#T_365d9d5c_499f_11ec_bda8_0242ac1c0002row10_col3,#T_365d9d5c_499f_11ec_bda8_0242ac1c0002row10_col7,#T_365d9d5c_499f_11ec_bda8_0242ac1c0002row10_col8,#T_365d9d5c_499f_11ec_bda8_0242ac1c0002row10_col11,#T_365d9d5c_499f_11ec_bda8_0242ac1c0002row11_col0,#T_365d9d5c_499f_11ec_bda8_0242ac1c0002row11_col2,#T_365d9d5c_499f_11ec_bda8_0242ac1c0002row11_col3,#T_365d9d5c_499f_11ec_bda8_0242ac1c0002row11_col6,#T_365d9d5c_499f_11ec_bda8_0242ac1c0002row11_col7,#T_365d9d5c_499f_11ec_bda8_0242ac1c0002row11_col9{\n",
              "            background-color:  #fff7fb;\n",
              "            color:  #000000;\n",
              "        }#T_365d9d5c_499f_11ec_bda8_0242ac1c0002row0_col4,#T_365d9d5c_499f_11ec_bda8_0242ac1c0002row5_col1{\n",
              "            background-color:  #fbf4f9;\n",
              "            color:  #000000;\n",
              "        }#T_365d9d5c_499f_11ec_bda8_0242ac1c0002row0_col5,#T_365d9d5c_499f_11ec_bda8_0242ac1c0002row7_col7{\n",
              "            background-color:  #f9f2f8;\n",
              "            color:  #000000;\n",
              "        }#T_365d9d5c_499f_11ec_bda8_0242ac1c0002row1_col1{\n",
              "            background-color:  #a1bbda;\n",
              "            color:  #000000;\n",
              "        }#T_365d9d5c_499f_11ec_bda8_0242ac1c0002row1_col4{\n",
              "            background-color:  #faf3f9;\n",
              "            color:  #000000;\n",
              "        }#T_365d9d5c_499f_11ec_bda8_0242ac1c0002row1_col5,#T_365d9d5c_499f_11ec_bda8_0242ac1c0002row2_col5,#T_365d9d5c_499f_11ec_bda8_0242ac1c0002row10_col5{\n",
              "            background-color:  #f8f1f8;\n",
              "            color:  #000000;\n",
              "        }#T_365d9d5c_499f_11ec_bda8_0242ac1c0002row2_col1,#T_365d9d5c_499f_11ec_bda8_0242ac1c0002row4_col9,#T_365d9d5c_499f_11ec_bda8_0242ac1c0002row5_col9,#T_365d9d5c_499f_11ec_bda8_0242ac1c0002row9_col1,#T_365d9d5c_499f_11ec_bda8_0242ac1c0002row10_col4{\n",
              "            background-color:  #fdf5fa;\n",
              "            color:  #000000;\n",
              "        }#T_365d9d5c_499f_11ec_bda8_0242ac1c0002row2_col2{\n",
              "            background-color:  #c6cce3;\n",
              "            color:  #000000;\n",
              "        }#T_365d9d5c_499f_11ec_bda8_0242ac1c0002row2_col4,#T_365d9d5c_499f_11ec_bda8_0242ac1c0002row3_col0,#T_365d9d5c_499f_11ec_bda8_0242ac1c0002row4_col3,#T_365d9d5c_499f_11ec_bda8_0242ac1c0002row5_col3,#T_365d9d5c_499f_11ec_bda8_0242ac1c0002row5_col10,#T_365d9d5c_499f_11ec_bda8_0242ac1c0002row6_col5,#T_365d9d5c_499f_11ec_bda8_0242ac1c0002row7_col5,#T_365d9d5c_499f_11ec_bda8_0242ac1c0002row8_col1,#T_365d9d5c_499f_11ec_bda8_0242ac1c0002row8_col5,#T_365d9d5c_499f_11ec_bda8_0242ac1c0002row9_col3,#T_365d9d5c_499f_11ec_bda8_0242ac1c0002row10_col9,#T_365d9d5c_499f_11ec_bda8_0242ac1c0002row11_col1{\n",
              "            background-color:  #fef6fa;\n",
              "            color:  #000000;\n",
              "        }#T_365d9d5c_499f_11ec_bda8_0242ac1c0002row3_col1,#T_365d9d5c_499f_11ec_bda8_0242ac1c0002row5_col0{\n",
              "            background-color:  #fcf4fa;\n",
              "            color:  #000000;\n",
              "        }#T_365d9d5c_499f_11ec_bda8_0242ac1c0002row3_col3{\n",
              "            background-color:  #a5bddb;\n",
              "            color:  #000000;\n",
              "        }#T_365d9d5c_499f_11ec_bda8_0242ac1c0002row3_col4,#T_365d9d5c_499f_11ec_bda8_0242ac1c0002row6_col6{\n",
              "            background-color:  #f7f0f7;\n",
              "            color:  #000000;\n",
              "        }#T_365d9d5c_499f_11ec_bda8_0242ac1c0002row3_col5,#T_365d9d5c_499f_11ec_bda8_0242ac1c0002row9_col9{\n",
              "            background-color:  #f2ecf5;\n",
              "            color:  #000000;\n",
              "        }#T_365d9d5c_499f_11ec_bda8_0242ac1c0002row4_col4{\n",
              "            background-color:  #045483;\n",
              "            color:  #f1f1f1;\n",
              "        }#T_365d9d5c_499f_11ec_bda8_0242ac1c0002row4_col5{\n",
              "            background-color:  #eee9f3;\n",
              "            color:  #000000;\n",
              "        }#T_365d9d5c_499f_11ec_bda8_0242ac1c0002row5_col4{\n",
              "            background-color:  #f5eff6;\n",
              "            color:  #000000;\n",
              "        }#T_365d9d5c_499f_11ec_bda8_0242ac1c0002row5_col5{\n",
              "            background-color:  #023858;\n",
              "            color:  #f1f1f1;\n",
              "        }#T_365d9d5c_499f_11ec_bda8_0242ac1c0002row8_col8{\n",
              "            background-color:  #f4eef6;\n",
              "            color:  #000000;\n",
              "        }#T_365d9d5c_499f_11ec_bda8_0242ac1c0002row9_col5{\n",
              "            background-color:  #fbf3f9;\n",
              "            color:  #000000;\n",
              "        }#T_365d9d5c_499f_11ec_bda8_0242ac1c0002row10_col10{\n",
              "            background-color:  #e0deed;\n",
              "            color:  #000000;\n",
              "        }#T_365d9d5c_499f_11ec_bda8_0242ac1c0002row11_col4{\n",
              "            background-color:  #faf2f8;\n",
              "            color:  #000000;\n",
              "        }#T_365d9d5c_499f_11ec_bda8_0242ac1c0002row11_col5{\n",
              "            background-color:  #f6eff7;\n",
              "            color:  #000000;\n",
              "        }#T_365d9d5c_499f_11ec_bda8_0242ac1c0002row11_col11{\n",
              "            background-color:  #d9d8ea;\n",
              "            color:  #000000;\n",
              "        }</style><table id=\"T_365d9d5c_499f_11ec_bda8_0242ac1c0002\" class=\"dataframe\"><thead>    <tr>        <th class=\"blank level0\" ></th>        <th class=\"col_heading level0 col0\" >Predicted M22-</th>        <th class=\"col_heading level0 col1\" >Predicted M23-26</th>        <th class=\"col_heading level0 col2\" >Predicted M27-28</th>        <th class=\"col_heading level0 col3\" >Predicted M29-31</th>        <th class=\"col_heading level0 col4\" >Predicted M32-38</th>        <th class=\"col_heading level0 col5\" >Predicted M39+</th>        <th class=\"col_heading level0 col6\" >Predicted F23-</th>        <th class=\"col_heading level0 col7\" >Predicted F24-26</th>        <th class=\"col_heading level0 col8\" >Predicted F27-28</th>        <th class=\"col_heading level0 col9\" >Predicted F29-32</th>        <th class=\"col_heading level0 col10\" >Predicted F33-42</th>        <th class=\"col_heading level0 col11\" >Predicted F43+</th>    </tr></thead><tbody>\n",
              "                <tr>\n",
              "                        <th id=\"T_365d9d5c_499f_11ec_bda8_0242ac1c0002level0_row0\" class=\"row_heading level0 row0\" >Actual M22-</th>\n",
              "                        <td id=\"T_365d9d5c_499f_11ec_bda8_0242ac1c0002row0_col0\" class=\"data row0 col0\" >82</td>\n",
              "                        <td id=\"T_365d9d5c_499f_11ec_bda8_0242ac1c0002row0_col1\" class=\"data row0 col1\" >4</td>\n",
              "                        <td id=\"T_365d9d5c_499f_11ec_bda8_0242ac1c0002row0_col2\" class=\"data row0 col2\" >0</td>\n",
              "                        <td id=\"T_365d9d5c_499f_11ec_bda8_0242ac1c0002row0_col3\" class=\"data row0 col3\" >4</td>\n",
              "                        <td id=\"T_365d9d5c_499f_11ec_bda8_0242ac1c0002row0_col4\" class=\"data row0 col4\" >13</td>\n",
              "                        <td id=\"T_365d9d5c_499f_11ec_bda8_0242ac1c0002row0_col5\" class=\"data row0 col5\" >21</td>\n",
              "                        <td id=\"T_365d9d5c_499f_11ec_bda8_0242ac1c0002row0_col6\" class=\"data row0 col6\" >0</td>\n",
              "                        <td id=\"T_365d9d5c_499f_11ec_bda8_0242ac1c0002row0_col7\" class=\"data row0 col7\" >3</td>\n",
              "                        <td id=\"T_365d9d5c_499f_11ec_bda8_0242ac1c0002row0_col8\" class=\"data row0 col8\" >0</td>\n",
              "                        <td id=\"T_365d9d5c_499f_11ec_bda8_0242ac1c0002row0_col9\" class=\"data row0 col9\" >1</td>\n",
              "                        <td id=\"T_365d9d5c_499f_11ec_bda8_0242ac1c0002row0_col10\" class=\"data row0 col10\" >0</td>\n",
              "                        <td id=\"T_365d9d5c_499f_11ec_bda8_0242ac1c0002row0_col11\" class=\"data row0 col11\" >0</td>\n",
              "            </tr>\n",
              "            <tr>\n",
              "                        <th id=\"T_365d9d5c_499f_11ec_bda8_0242ac1c0002level0_row1\" class=\"row_heading level0 row1\" >Actual M23-26</th>\n",
              "                        <td id=\"T_365d9d5c_499f_11ec_bda8_0242ac1c0002row1_col0\" class=\"data row1 col0\" >4</td>\n",
              "                        <td id=\"T_365d9d5c_499f_11ec_bda8_0242ac1c0002row1_col1\" class=\"data row1 col1\" >201</td>\n",
              "                        <td id=\"T_365d9d5c_499f_11ec_bda8_0242ac1c0002row1_col2\" class=\"data row1 col2\" >1</td>\n",
              "                        <td id=\"T_365d9d5c_499f_11ec_bda8_0242ac1c0002row1_col3\" class=\"data row1 col3\" >1</td>\n",
              "                        <td id=\"T_365d9d5c_499f_11ec_bda8_0242ac1c0002row1_col4\" class=\"data row1 col4\" >18</td>\n",
              "                        <td id=\"T_365d9d5c_499f_11ec_bda8_0242ac1c0002row1_col5\" class=\"data row1 col5\" >26</td>\n",
              "                        <td id=\"T_365d9d5c_499f_11ec_bda8_0242ac1c0002row1_col6\" class=\"data row1 col6\" >0</td>\n",
              "                        <td id=\"T_365d9d5c_499f_11ec_bda8_0242ac1c0002row1_col7\" class=\"data row1 col7\" >0</td>\n",
              "                        <td id=\"T_365d9d5c_499f_11ec_bda8_0242ac1c0002row1_col8\" class=\"data row1 col8\" >0</td>\n",
              "                        <td id=\"T_365d9d5c_499f_11ec_bda8_0242ac1c0002row1_col9\" class=\"data row1 col9\" >3</td>\n",
              "                        <td id=\"T_365d9d5c_499f_11ec_bda8_0242ac1c0002row1_col10\" class=\"data row1 col10\" >4</td>\n",
              "                        <td id=\"T_365d9d5c_499f_11ec_bda8_0242ac1c0002row1_col11\" class=\"data row1 col11\" >0</td>\n",
              "            </tr>\n",
              "            <tr>\n",
              "                        <th id=\"T_365d9d5c_499f_11ec_bda8_0242ac1c0002level0_row2\" class=\"row_heading level0 row2\" >Actual M27-28</th>\n",
              "                        <td id=\"T_365d9d5c_499f_11ec_bda8_0242ac1c0002row2_col0\" class=\"data row2 col0\" >1</td>\n",
              "                        <td id=\"T_365d9d5c_499f_11ec_bda8_0242ac1c0002row2_col1\" class=\"data row2 col1\" >8</td>\n",
              "                        <td id=\"T_365d9d5c_499f_11ec_bda8_0242ac1c0002row2_col2\" class=\"data row2 col2\" >143</td>\n",
              "                        <td id=\"T_365d9d5c_499f_11ec_bda8_0242ac1c0002row2_col3\" class=\"data row2 col3\" >4</td>\n",
              "                        <td id=\"T_365d9d5c_499f_11ec_bda8_0242ac1c0002row2_col4\" class=\"data row2 col4\" >6</td>\n",
              "                        <td id=\"T_365d9d5c_499f_11ec_bda8_0242ac1c0002row2_col5\" class=\"data row2 col5\" >23</td>\n",
              "                        <td id=\"T_365d9d5c_499f_11ec_bda8_0242ac1c0002row2_col6\" class=\"data row2 col6\" >0</td>\n",
              "                        <td id=\"T_365d9d5c_499f_11ec_bda8_0242ac1c0002row2_col7\" class=\"data row2 col7\" >0</td>\n",
              "                        <td id=\"T_365d9d5c_499f_11ec_bda8_0242ac1c0002row2_col8\" class=\"data row2 col8\" >0</td>\n",
              "                        <td id=\"T_365d9d5c_499f_11ec_bda8_0242ac1c0002row2_col9\" class=\"data row2 col9\" >0</td>\n",
              "                        <td id=\"T_365d9d5c_499f_11ec_bda8_0242ac1c0002row2_col10\" class=\"data row2 col10\" >3</td>\n",
              "                        <td id=\"T_365d9d5c_499f_11ec_bda8_0242ac1c0002row2_col11\" class=\"data row2 col11\" >4</td>\n",
              "            </tr>\n",
              "            <tr>\n",
              "                        <th id=\"T_365d9d5c_499f_11ec_bda8_0242ac1c0002level0_row3\" class=\"row_heading level0 row3\" >Actual M29-31</th>\n",
              "                        <td id=\"T_365d9d5c_499f_11ec_bda8_0242ac1c0002row3_col0\" class=\"data row3 col0\" >6</td>\n",
              "                        <td id=\"T_365d9d5c_499f_11ec_bda8_0242ac1c0002row3_col1\" class=\"data row3 col1\" >12</td>\n",
              "                        <td id=\"T_365d9d5c_499f_11ec_bda8_0242ac1c0002row3_col2\" class=\"data row3 col2\" >0</td>\n",
              "                        <td id=\"T_365d9d5c_499f_11ec_bda8_0242ac1c0002row3_col3\" class=\"data row3 col3\" >195</td>\n",
              "                        <td id=\"T_365d9d5c_499f_11ec_bda8_0242ac1c0002row3_col4\" class=\"data row3 col4\" >27</td>\n",
              "                        <td id=\"T_365d9d5c_499f_11ec_bda8_0242ac1c0002row3_col5\" class=\"data row3 col5\" >43</td>\n",
              "                        <td id=\"T_365d9d5c_499f_11ec_bda8_0242ac1c0002row3_col6\" class=\"data row3 col6\" >0</td>\n",
              "                        <td id=\"T_365d9d5c_499f_11ec_bda8_0242ac1c0002row3_col7\" class=\"data row3 col7\" >0</td>\n",
              "                        <td id=\"T_365d9d5c_499f_11ec_bda8_0242ac1c0002row3_col8\" class=\"data row3 col8\" >0</td>\n",
              "                        <td id=\"T_365d9d5c_499f_11ec_bda8_0242ac1c0002row3_col9\" class=\"data row3 col9\" >0</td>\n",
              "                        <td id=\"T_365d9d5c_499f_11ec_bda8_0242ac1c0002row3_col10\" class=\"data row3 col10\" >0</td>\n",
              "                        <td id=\"T_365d9d5c_499f_11ec_bda8_0242ac1c0002row3_col11\" class=\"data row3 col11\" >0</td>\n",
              "            </tr>\n",
              "            <tr>\n",
              "                        <th id=\"T_365d9d5c_499f_11ec_bda8_0242ac1c0002level0_row4\" class=\"row_heading level0 row4\" >Actual M32-38</th>\n",
              "                        <td id=\"T_365d9d5c_499f_11ec_bda8_0242ac1c0002row4_col0\" class=\"data row4 col0\" >1</td>\n",
              "                        <td id=\"T_365d9d5c_499f_11ec_bda8_0242ac1c0002row4_col1\" class=\"data row4 col1\" >0</td>\n",
              "                        <td id=\"T_365d9d5c_499f_11ec_bda8_0242ac1c0002row4_col2\" class=\"data row4 col2\" >0</td>\n",
              "                        <td id=\"T_365d9d5c_499f_11ec_bda8_0242ac1c0002row4_col3\" class=\"data row4 col3\" >5</td>\n",
              "                        <td id=\"T_365d9d5c_499f_11ec_bda8_0242ac1c0002row4_col4\" class=\"data row4 col4\" >461</td>\n",
              "                        <td id=\"T_365d9d5c_499f_11ec_bda8_0242ac1c0002row4_col5\" class=\"data row4 col5\" >58</td>\n",
              "                        <td id=\"T_365d9d5c_499f_11ec_bda8_0242ac1c0002row4_col6\" class=\"data row4 col6\" >0</td>\n",
              "                        <td id=\"T_365d9d5c_499f_11ec_bda8_0242ac1c0002row4_col7\" class=\"data row4 col7\" >1</td>\n",
              "                        <td id=\"T_365d9d5c_499f_11ec_bda8_0242ac1c0002row4_col8\" class=\"data row4 col8\" >0</td>\n",
              "                        <td id=\"T_365d9d5c_499f_11ec_bda8_0242ac1c0002row4_col9\" class=\"data row4 col9\" >8</td>\n",
              "                        <td id=\"T_365d9d5c_499f_11ec_bda8_0242ac1c0002row4_col10\" class=\"data row4 col10\" >1</td>\n",
              "                        <td id=\"T_365d9d5c_499f_11ec_bda8_0242ac1c0002row4_col11\" class=\"data row4 col11\" >4</td>\n",
              "            </tr>\n",
              "            <tr>\n",
              "                        <th id=\"T_365d9d5c_499f_11ec_bda8_0242ac1c0002level0_row5\" class=\"row_heading level0 row5\" >Actual M39+</th>\n",
              "                        <td id=\"T_365d9d5c_499f_11ec_bda8_0242ac1c0002row5_col0\" class=\"data row5 col0\" >11</td>\n",
              "                        <td id=\"T_365d9d5c_499f_11ec_bda8_0242ac1c0002row5_col1\" class=\"data row5 col1\" >14</td>\n",
              "                        <td id=\"T_365d9d5c_499f_11ec_bda8_0242ac1c0002row5_col2\" class=\"data row5 col2\" >2</td>\n",
              "                        <td id=\"T_365d9d5c_499f_11ec_bda8_0242ac1c0002row5_col3\" class=\"data row5 col3\" >6</td>\n",
              "                        <td id=\"T_365d9d5c_499f_11ec_bda8_0242ac1c0002row5_col4\" class=\"data row5 col4\" >34</td>\n",
              "                        <td id=\"T_365d9d5c_499f_11ec_bda8_0242ac1c0002row5_col5\" class=\"data row5 col5\" >515</td>\n",
              "                        <td id=\"T_365d9d5c_499f_11ec_bda8_0242ac1c0002row5_col6\" class=\"data row5 col6\" >0</td>\n",
              "                        <td id=\"T_365d9d5c_499f_11ec_bda8_0242ac1c0002row5_col7\" class=\"data row5 col7\" >0</td>\n",
              "                        <td id=\"T_365d9d5c_499f_11ec_bda8_0242ac1c0002row5_col8\" class=\"data row5 col8\" >0</td>\n",
              "                        <td id=\"T_365d9d5c_499f_11ec_bda8_0242ac1c0002row5_col9\" class=\"data row5 col9\" >7</td>\n",
              "                        <td id=\"T_365d9d5c_499f_11ec_bda8_0242ac1c0002row5_col10\" class=\"data row5 col10\" >6</td>\n",
              "                        <td id=\"T_365d9d5c_499f_11ec_bda8_0242ac1c0002row5_col11\" class=\"data row5 col11\" >0</td>\n",
              "            </tr>\n",
              "            <tr>\n",
              "                        <th id=\"T_365d9d5c_499f_11ec_bda8_0242ac1c0002level0_row6\" class=\"row_heading level0 row6\" >Actual F23-</th>\n",
              "                        <td id=\"T_365d9d5c_499f_11ec_bda8_0242ac1c0002row6_col0\" class=\"data row6 col0\" >0</td>\n",
              "                        <td id=\"T_365d9d5c_499f_11ec_bda8_0242ac1c0002row6_col1\" class=\"data row6 col1\" >1</td>\n",
              "                        <td id=\"T_365d9d5c_499f_11ec_bda8_0242ac1c0002row6_col2\" class=\"data row6 col2\" >0</td>\n",
              "                        <td id=\"T_365d9d5c_499f_11ec_bda8_0242ac1c0002row6_col3\" class=\"data row6 col3\" >1</td>\n",
              "                        <td id=\"T_365d9d5c_499f_11ec_bda8_0242ac1c0002row6_col4\" class=\"data row6 col4\" >3</td>\n",
              "                        <td id=\"T_365d9d5c_499f_11ec_bda8_0242ac1c0002row6_col5\" class=\"data row6 col5\" >6</td>\n",
              "                        <td id=\"T_365d9d5c_499f_11ec_bda8_0242ac1c0002row6_col6\" class=\"data row6 col6\" >28</td>\n",
              "                        <td id=\"T_365d9d5c_499f_11ec_bda8_0242ac1c0002row6_col7\" class=\"data row6 col7\" >0</td>\n",
              "                        <td id=\"T_365d9d5c_499f_11ec_bda8_0242ac1c0002row6_col8\" class=\"data row6 col8\" >0</td>\n",
              "                        <td id=\"T_365d9d5c_499f_11ec_bda8_0242ac1c0002row6_col9\" class=\"data row6 col9\" >0</td>\n",
              "                        <td id=\"T_365d9d5c_499f_11ec_bda8_0242ac1c0002row6_col10\" class=\"data row6 col10\" >0</td>\n",
              "                        <td id=\"T_365d9d5c_499f_11ec_bda8_0242ac1c0002row6_col11\" class=\"data row6 col11\" >0</td>\n",
              "            </tr>\n",
              "            <tr>\n",
              "                        <th id=\"T_365d9d5c_499f_11ec_bda8_0242ac1c0002level0_row7\" class=\"row_heading level0 row7\" >Actual F24-26</th>\n",
              "                        <td id=\"T_365d9d5c_499f_11ec_bda8_0242ac1c0002row7_col0\" class=\"data row7 col0\" >2</td>\n",
              "                        <td id=\"T_365d9d5c_499f_11ec_bda8_0242ac1c0002row7_col1\" class=\"data row7 col1\" >0</td>\n",
              "                        <td id=\"T_365d9d5c_499f_11ec_bda8_0242ac1c0002row7_col2\" class=\"data row7 col2\" >0</td>\n",
              "                        <td id=\"T_365d9d5c_499f_11ec_bda8_0242ac1c0002row7_col3\" class=\"data row7 col3\" >0</td>\n",
              "                        <td id=\"T_365d9d5c_499f_11ec_bda8_0242ac1c0002row7_col4\" class=\"data row7 col4\" >0</td>\n",
              "                        <td id=\"T_365d9d5c_499f_11ec_bda8_0242ac1c0002row7_col5\" class=\"data row7 col5\" >5</td>\n",
              "                        <td id=\"T_365d9d5c_499f_11ec_bda8_0242ac1c0002row7_col6\" class=\"data row7 col6\" >0</td>\n",
              "                        <td id=\"T_365d9d5c_499f_11ec_bda8_0242ac1c0002row7_col7\" class=\"data row7 col7\" >22</td>\n",
              "                        <td id=\"T_365d9d5c_499f_11ec_bda8_0242ac1c0002row7_col8\" class=\"data row7 col8\" >0</td>\n",
              "                        <td id=\"T_365d9d5c_499f_11ec_bda8_0242ac1c0002row7_col9\" class=\"data row7 col9\" >0</td>\n",
              "                        <td id=\"T_365d9d5c_499f_11ec_bda8_0242ac1c0002row7_col10\" class=\"data row7 col10\" >0</td>\n",
              "                        <td id=\"T_365d9d5c_499f_11ec_bda8_0242ac1c0002row7_col11\" class=\"data row7 col11\" >0</td>\n",
              "            </tr>\n",
              "            <tr>\n",
              "                        <th id=\"T_365d9d5c_499f_11ec_bda8_0242ac1c0002level0_row8\" class=\"row_heading level0 row8\" >Actual F27-28</th>\n",
              "                        <td id=\"T_365d9d5c_499f_11ec_bda8_0242ac1c0002row8_col0\" class=\"data row8 col0\" >0</td>\n",
              "                        <td id=\"T_365d9d5c_499f_11ec_bda8_0242ac1c0002row8_col1\" class=\"data row8 col1\" >6</td>\n",
              "                        <td id=\"T_365d9d5c_499f_11ec_bda8_0242ac1c0002row8_col2\" class=\"data row8 col2\" >0</td>\n",
              "                        <td id=\"T_365d9d5c_499f_11ec_bda8_0242ac1c0002row8_col3\" class=\"data row8 col3\" >1</td>\n",
              "                        <td id=\"T_365d9d5c_499f_11ec_bda8_0242ac1c0002row8_col4\" class=\"data row8 col4\" >4</td>\n",
              "                        <td id=\"T_365d9d5c_499f_11ec_bda8_0242ac1c0002row8_col5\" class=\"data row8 col5\" >5</td>\n",
              "                        <td id=\"T_365d9d5c_499f_11ec_bda8_0242ac1c0002row8_col6\" class=\"data row8 col6\" >0</td>\n",
              "                        <td id=\"T_365d9d5c_499f_11ec_bda8_0242ac1c0002row8_col7\" class=\"data row8 col7\" >0</td>\n",
              "                        <td id=\"T_365d9d5c_499f_11ec_bda8_0242ac1c0002row8_col8\" class=\"data row8 col8\" >37</td>\n",
              "                        <td id=\"T_365d9d5c_499f_11ec_bda8_0242ac1c0002row8_col9\" class=\"data row8 col9\" >0</td>\n",
              "                        <td id=\"T_365d9d5c_499f_11ec_bda8_0242ac1c0002row8_col10\" class=\"data row8 col10\" >1</td>\n",
              "                        <td id=\"T_365d9d5c_499f_11ec_bda8_0242ac1c0002row8_col11\" class=\"data row8 col11\" >3</td>\n",
              "            </tr>\n",
              "            <tr>\n",
              "                        <th id=\"T_365d9d5c_499f_11ec_bda8_0242ac1c0002level0_row9\" class=\"row_heading level0 row9\" >Actual F29-32</th>\n",
              "                        <td id=\"T_365d9d5c_499f_11ec_bda8_0242ac1c0002row9_col0\" class=\"data row9 col0\" >0</td>\n",
              "                        <td id=\"T_365d9d5c_499f_11ec_bda8_0242ac1c0002row9_col1\" class=\"data row9 col1\" >8</td>\n",
              "                        <td id=\"T_365d9d5c_499f_11ec_bda8_0242ac1c0002row9_col2\" class=\"data row9 col2\" >4</td>\n",
              "                        <td id=\"T_365d9d5c_499f_11ec_bda8_0242ac1c0002row9_col3\" class=\"data row9 col3\" >6</td>\n",
              "                        <td id=\"T_365d9d5c_499f_11ec_bda8_0242ac1c0002row9_col4\" class=\"data row9 col4\" >3</td>\n",
              "                        <td id=\"T_365d9d5c_499f_11ec_bda8_0242ac1c0002row9_col5\" class=\"data row9 col5\" >15</td>\n",
              "                        <td id=\"T_365d9d5c_499f_11ec_bda8_0242ac1c0002row9_col6\" class=\"data row9 col6\" >0</td>\n",
              "                        <td id=\"T_365d9d5c_499f_11ec_bda8_0242ac1c0002row9_col7\" class=\"data row9 col7\" >0</td>\n",
              "                        <td id=\"T_365d9d5c_499f_11ec_bda8_0242ac1c0002row9_col8\" class=\"data row9 col8\" >0</td>\n",
              "                        <td id=\"T_365d9d5c_499f_11ec_bda8_0242ac1c0002row9_col9\" class=\"data row9 col9\" >45</td>\n",
              "                        <td id=\"T_365d9d5c_499f_11ec_bda8_0242ac1c0002row9_col10\" class=\"data row9 col10\" >0</td>\n",
              "                        <td id=\"T_365d9d5c_499f_11ec_bda8_0242ac1c0002row9_col11\" class=\"data row9 col11\" >0</td>\n",
              "            </tr>\n",
              "            <tr>\n",
              "                        <th id=\"T_365d9d5c_499f_11ec_bda8_0242ac1c0002level0_row10\" class=\"row_heading level0 row10\" >Actual F33-42</th>\n",
              "                        <td id=\"T_365d9d5c_499f_11ec_bda8_0242ac1c0002row10_col0\" class=\"data row10 col0\" >2</td>\n",
              "                        <td id=\"T_365d9d5c_499f_11ec_bda8_0242ac1c0002row10_col1\" class=\"data row10 col1\" >0</td>\n",
              "                        <td id=\"T_365d9d5c_499f_11ec_bda8_0242ac1c0002row10_col2\" class=\"data row10 col2\" >1</td>\n",
              "                        <td id=\"T_365d9d5c_499f_11ec_bda8_0242ac1c0002row10_col3\" class=\"data row10 col3\" >0</td>\n",
              "                        <td id=\"T_365d9d5c_499f_11ec_bda8_0242ac1c0002row10_col4\" class=\"data row10 col4\" >10</td>\n",
              "                        <td id=\"T_365d9d5c_499f_11ec_bda8_0242ac1c0002row10_col5\" class=\"data row10 col5\" >24</td>\n",
              "                        <td id=\"T_365d9d5c_499f_11ec_bda8_0242ac1c0002row10_col6\" class=\"data row10 col6\" >3</td>\n",
              "                        <td id=\"T_365d9d5c_499f_11ec_bda8_0242ac1c0002row10_col7\" class=\"data row10 col7\" >0</td>\n",
              "                        <td id=\"T_365d9d5c_499f_11ec_bda8_0242ac1c0002row10_col8\" class=\"data row10 col8\" >0</td>\n",
              "                        <td id=\"T_365d9d5c_499f_11ec_bda8_0242ac1c0002row10_col9\" class=\"data row10 col9\" >6</td>\n",
              "                        <td id=\"T_365d9d5c_499f_11ec_bda8_0242ac1c0002row10_col10\" class=\"data row10 col10\" >91</td>\n",
              "                        <td id=\"T_365d9d5c_499f_11ec_bda8_0242ac1c0002row10_col11\" class=\"data row10 col11\" >0</td>\n",
              "            </tr>\n",
              "            <tr>\n",
              "                        <th id=\"T_365d9d5c_499f_11ec_bda8_0242ac1c0002level0_row11\" class=\"row_heading level0 row11\" >Actual F43+</th>\n",
              "                        <td id=\"T_365d9d5c_499f_11ec_bda8_0242ac1c0002row11_col0\" class=\"data row11 col0\" >0</td>\n",
              "                        <td id=\"T_365d9d5c_499f_11ec_bda8_0242ac1c0002row11_col1\" class=\"data row11 col1\" >5</td>\n",
              "                        <td id=\"T_365d9d5c_499f_11ec_bda8_0242ac1c0002row11_col2\" class=\"data row11 col2\" >1</td>\n",
              "                        <td id=\"T_365d9d5c_499f_11ec_bda8_0242ac1c0002row11_col3\" class=\"data row11 col3\" >2</td>\n",
              "                        <td id=\"T_365d9d5c_499f_11ec_bda8_0242ac1c0002row11_col4\" class=\"data row11 col4\" >20</td>\n",
              "                        <td id=\"T_365d9d5c_499f_11ec_bda8_0242ac1c0002row11_col5\" class=\"data row11 col5\" >31</td>\n",
              "                        <td id=\"T_365d9d5c_499f_11ec_bda8_0242ac1c0002row11_col6\" class=\"data row11 col6\" >0</td>\n",
              "                        <td id=\"T_365d9d5c_499f_11ec_bda8_0242ac1c0002row11_col7\" class=\"data row11 col7\" >0</td>\n",
              "                        <td id=\"T_365d9d5c_499f_11ec_bda8_0242ac1c0002row11_col8\" class=\"data row11 col8\" >3</td>\n",
              "                        <td id=\"T_365d9d5c_499f_11ec_bda8_0242ac1c0002row11_col9\" class=\"data row11 col9\" >0</td>\n",
              "                        <td id=\"T_365d9d5c_499f_11ec_bda8_0242ac1c0002row11_col10\" class=\"data row11 col10\" >3</td>\n",
              "                        <td id=\"T_365d9d5c_499f_11ec_bda8_0242ac1c0002row11_col11\" class=\"data row11 col11\" >108</td>\n",
              "            </tr>\n",
              "    </tbody></table>"
            ],
            "text/plain": [
              "<pandas.io.formats.style.Styler at 0x7f3d0a783d10>"
            ]
          },
          "metadata": {},
          "execution_count": 66
        }
      ]
    },
    {
      "cell_type": "code",
      "metadata": {
        "colab": {
          "base_uri": "https://localhost:8080/"
        },
        "id": "BqxGMsiM6ADY",
        "outputId": "9ed7a7fb-dc38-4b0c-85f5-8c3ab4b10acb"
      },
      "source": [
        "print(\"Classification Report:\")\n",
        "print()\n",
        "print(classification_report(y_test, y_pred))\n"
      ],
      "execution_count": null,
      "outputs": [
        {
          "output_type": "stream",
          "name": "stdout",
          "text": [
            "Classification Report:\n",
            "\n",
            "              precision    recall  f1-score   support\n",
            "\n",
            "           0       0.75      0.64      0.69       128\n",
            "           1       0.78      0.78      0.78       258\n",
            "           2       0.94      0.74      0.83       192\n",
            "           3       0.87      0.69      0.77       283\n",
            "           4       0.77      0.86      0.81       539\n",
            "           5       0.67      0.87      0.75       595\n",
            "           6       0.90      0.72      0.80        39\n",
            "           7       0.85      0.76      0.80        29\n",
            "           8       0.93      0.65      0.76        57\n",
            "           9       0.64      0.56      0.60        81\n",
            "          10       0.83      0.66      0.74       137\n",
            "          11       0.91      0.62      0.74       173\n",
            "\n",
            "    accuracy                           0.77      2511\n",
            "   macro avg       0.82      0.71      0.76      2511\n",
            "weighted avg       0.78      0.77      0.77      2511\n",
            "\n"
          ]
        }
      ]
    },
    {
      "cell_type": "code",
      "metadata": {
        "id": "8Rhn__7j6AFP"
      },
      "source": [
        "def multiclass_roc_auc_score(y_test, y_pred, average=\"macro\"):\n",
        "  lb = LabelBinarizer()\n",
        "  lb.fit(y_test)\n",
        "  y_test = lb.transform(y_test)\n",
        "  y_pred = lb.transform(y_pred)\n",
        "  return roc_auc_score(y_test, y_pred, average=average)\n",
        "multiclass_roc_auc_score(y_test, y_pred, average=\"macro\")"
      ],
      "execution_count": null,
      "outputs": []
    },
    {
      "cell_type": "code",
      "metadata": {
        "colab": {
          "base_uri": "https://localhost:8080/"
        },
        "id": "SklypaMb6AHE",
        "outputId": "693d187e-e0f4-40c5-cce2-3d22fba73c1f"
      },
      "source": [
        "multiclass_roc_auc_score(y_test, y_pred, average=\"macro\")"
      ],
      "execution_count": null,
      "outputs": [
        {
          "output_type": "execute_result",
          "data": {
            "text/plain": [
              "0.8441237158181988"
            ]
          },
          "metadata": {},
          "execution_count": 69
        }
      ]
    },
    {
      "cell_type": "markdown",
      "metadata": {
        "id": "lmF54pS06ULY"
      },
      "source": [
        "# Gradient Boosting"
      ]
    },
    {
      "cell_type": "code",
      "metadata": {
        "id": "-e2CB9Cs7MdQ"
      },
      "source": [
        "pipeline = Pipeline(\n",
        "    [\n",
        "        (\"scaler\", StandardScaler()),\n",
        "        (\"pca\", PCA(n_components=n_components)),\n",
        "        (\"gb\", GradientBoostingClassifier()),\n",
        "    ]\n",
        ")\n",
        "pipeline = pipeline.fit(X_train, y_train)\n"
      ],
      "execution_count": null,
      "outputs": []
    },
    {
      "cell_type": "code",
      "metadata": {
        "colab": {
          "base_uri": "https://localhost:8080/"
        },
        "id": "2WiEy-FP7Mg0",
        "outputId": "1c7a061a-45f4-4236-c97c-f036e99144fe"
      },
      "source": [
        "grid = {'gb__n_estimators': [100], \n",
        "          'gb__max_depth': [5],\n",
        "          'gb__loss': ['deviance']}\n",
        "\n",
        "model = GridSearchCV(pipeline, grid, verbose=1, cv=3)\n",
        "model.fit(X_train, y_train)\n"
      ],
      "execution_count": null,
      "outputs": [
        {
          "output_type": "stream",
          "name": "stdout",
          "text": [
            "Fitting 3 folds for each of 1 candidates, totalling 3 fits\n"
          ]
        },
        {
          "output_type": "execute_result",
          "data": {
            "text/plain": [
              "GridSearchCV(cv=3,\n",
              "             estimator=Pipeline(steps=[('scaler', StandardScaler()),\n",
              "                                       ('pca', PCA(n_components=48)),\n",
              "                                       ('gb', GradientBoostingClassifier())]),\n",
              "             param_grid={'gb__loss': ['deviance'], 'gb__max_depth': [5],\n",
              "                         'gb__n_estimators': [100]},\n",
              "             verbose=1)"
            ]
          },
          "metadata": {},
          "execution_count": 90
        }
      ]
    },
    {
      "cell_type": "code",
      "metadata": {
        "colab": {
          "base_uri": "https://localhost:8080/"
        },
        "id": "fftpO7Di7MmM",
        "outputId": "64db2ab3-1dc9-4eb8-ba0b-8926c028b6be"
      },
      "source": [
        "model.best_params_  "
      ],
      "execution_count": null,
      "outputs": [
        {
          "output_type": "execute_result",
          "data": {
            "text/plain": [
              "{'gb__loss': 'deviance', 'gb__max_depth': 5, 'gb__n_estimators': 100}"
            ]
          },
          "metadata": {},
          "execution_count": 91
        }
      ]
    },
    {
      "cell_type": "code",
      "metadata": {
        "colab": {
          "base_uri": "https://localhost:8080/"
        },
        "id": "sxpei26o7MoH",
        "outputId": "484a36ea-b0e7-46dc-d20f-f937b755049c"
      },
      "source": [
        "# Model still appears to be extremely overfitting\n",
        "train_score = model.score(X_train, y_train)\n",
        "test_score = model.score(X_test, y_test)\n",
        "\n",
        "print(f\"Train score: {train_score}\")\n",
        "print(f\"Test score: {test_score}\")\n"
      ],
      "execution_count": null,
      "outputs": [
        {
          "output_type": "stream",
          "name": "stdout",
          "text": [
            "Train score: 0.9058764940239044\n",
            "Test score: 0.7793707686180804\n"
          ]
        }
      ]
    },
    {
      "cell_type": "code",
      "metadata": {
        "colab": {
          "base_uri": "https://localhost:8080/",
          "height": 425
        },
        "id": "KJRSzUyy7MqL",
        "outputId": "e6cd077e-adf6-4ee3-f7a9-c78dc10b7b35"
      },
      "source": [
        "y_pred = model.predict(X_test)\n",
        "\n",
        "con_mat = pd.DataFrame(\n",
        "    confusion_matrix(y_test, y_pred),\n",
        "    index=[\n",
        "        \"Actual M22-\",\n",
        "        \"Actual M23-26\",\n",
        "        \"Actual M27-28\",\n",
        "        \"Actual M29-31\",\n",
        "        \"Actual M32-38\",\n",
        "        \"Actual M39+\",\n",
        "        \"Actual F23-\",\n",
        "        \"Actual F24-26\",\n",
        "        \"Actual F27-28\",\n",
        "        \"Actual F29-32\",\n",
        "        \"Actual F33-42\",\n",
        "        \"Actual F43+\",\n",
        "    ],\n",
        "    columns=[\n",
        "        \"Predicted M22-\",\n",
        "        \"Predicted M23-26\",\n",
        "        \"Predicted M27-28\",\n",
        "        \"Predicted M29-31\",\n",
        "        \"Predicted M32-38\",\n",
        "        \"Predicted M39+\",\n",
        "        \"Predicted F23-\",\n",
        "        \"Predicted F24-26\",\n",
        "        \"Predicted F27-28\",\n",
        "        \"Predicted F29-32\",\n",
        "        \"Predicted F33-42\",\n",
        "        \"Predicted F43+\",\n",
        "    ],\n",
        ")\n",
        "con_mat.style.background_gradient(axis=None)\n"
      ],
      "execution_count": null,
      "outputs": [
        {
          "output_type": "execute_result",
          "data": {
            "text/html": [
              "<style  type=\"text/css\" >\n",
              "#T_4244be18_49a2_11ec_bda8_0242ac1c0002row0_col0{\n",
              "            background-color:  #e0dded;\n",
              "            color:  #000000;\n",
              "        }#T_4244be18_49a2_11ec_bda8_0242ac1c0002row0_col1,#T_4244be18_49a2_11ec_bda8_0242ac1c0002row0_col2,#T_4244be18_49a2_11ec_bda8_0242ac1c0002row0_col3,#T_4244be18_49a2_11ec_bda8_0242ac1c0002row0_col4,#T_4244be18_49a2_11ec_bda8_0242ac1c0002row2_col0,#T_4244be18_49a2_11ec_bda8_0242ac1c0002row2_col11,#T_4244be18_49a2_11ec_bda8_0242ac1c0002row4_col10,#T_4244be18_49a2_11ec_bda8_0242ac1c0002row5_col2,#T_4244be18_49a2_11ec_bda8_0242ac1c0002row5_col7,#T_4244be18_49a2_11ec_bda8_0242ac1c0002row6_col4,#T_4244be18_49a2_11ec_bda8_0242ac1c0002row8_col1,#T_4244be18_49a2_11ec_bda8_0242ac1c0002row9_col1,#T_4244be18_49a2_11ec_bda8_0242ac1c0002row9_col4,#T_4244be18_49a2_11ec_bda8_0242ac1c0002row11_col2,#T_4244be18_49a2_11ec_bda8_0242ac1c0002row11_col3,#T_4244be18_49a2_11ec_bda8_0242ac1c0002row11_col8{\n",
              "            background-color:  #fef6fa;\n",
              "            color:  #000000;\n",
              "        }#T_4244be18_49a2_11ec_bda8_0242ac1c0002row0_col5,#T_4244be18_49a2_11ec_bda8_0242ac1c0002row11_col5{\n",
              "            background-color:  #faf2f8;\n",
              "            color:  #000000;\n",
              "        }#T_4244be18_49a2_11ec_bda8_0242ac1c0002row0_col6,#T_4244be18_49a2_11ec_bda8_0242ac1c0002row0_col7,#T_4244be18_49a2_11ec_bda8_0242ac1c0002row0_col8,#T_4244be18_49a2_11ec_bda8_0242ac1c0002row0_col10,#T_4244be18_49a2_11ec_bda8_0242ac1c0002row0_col11,#T_4244be18_49a2_11ec_bda8_0242ac1c0002row1_col6,#T_4244be18_49a2_11ec_bda8_0242ac1c0002row1_col7,#T_4244be18_49a2_11ec_bda8_0242ac1c0002row1_col9,#T_4244be18_49a2_11ec_bda8_0242ac1c0002row1_col10,#T_4244be18_49a2_11ec_bda8_0242ac1c0002row2_col6,#T_4244be18_49a2_11ec_bda8_0242ac1c0002row2_col7,#T_4244be18_49a2_11ec_bda8_0242ac1c0002row2_col8,#T_4244be18_49a2_11ec_bda8_0242ac1c0002row2_col9,#T_4244be18_49a2_11ec_bda8_0242ac1c0002row2_col10,#T_4244be18_49a2_11ec_bda8_0242ac1c0002row3_col6,#T_4244be18_49a2_11ec_bda8_0242ac1c0002row3_col7,#T_4244be18_49a2_11ec_bda8_0242ac1c0002row3_col8,#T_4244be18_49a2_11ec_bda8_0242ac1c0002row3_col9,#T_4244be18_49a2_11ec_bda8_0242ac1c0002row4_col0,#T_4244be18_49a2_11ec_bda8_0242ac1c0002row4_col2,#T_4244be18_49a2_11ec_bda8_0242ac1c0002row4_col6,#T_4244be18_49a2_11ec_bda8_0242ac1c0002row4_col8,#T_4244be18_49a2_11ec_bda8_0242ac1c0002row4_col9,#T_4244be18_49a2_11ec_bda8_0242ac1c0002row5_col6,#T_4244be18_49a2_11ec_bda8_0242ac1c0002row6_col0,#T_4244be18_49a2_11ec_bda8_0242ac1c0002row6_col1,#T_4244be18_49a2_11ec_bda8_0242ac1c0002row6_col2,#T_4244be18_49a2_11ec_bda8_0242ac1c0002row6_col3,#T_4244be18_49a2_11ec_bda8_0242ac1c0002row6_col7,#T_4244be18_49a2_11ec_bda8_0242ac1c0002row6_col8,#T_4244be18_49a2_11ec_bda8_0242ac1c0002row6_col9,#T_4244be18_49a2_11ec_bda8_0242ac1c0002row6_col10,#T_4244be18_49a2_11ec_bda8_0242ac1c0002row6_col11,#T_4244be18_49a2_11ec_bda8_0242ac1c0002row7_col0,#T_4244be18_49a2_11ec_bda8_0242ac1c0002row7_col1,#T_4244be18_49a2_11ec_bda8_0242ac1c0002row7_col2,#T_4244be18_49a2_11ec_bda8_0242ac1c0002row7_col3,#T_4244be18_49a2_11ec_bda8_0242ac1c0002row7_col6,#T_4244be18_49a2_11ec_bda8_0242ac1c0002row7_col8,#T_4244be18_49a2_11ec_bda8_0242ac1c0002row7_col9,#T_4244be18_49a2_11ec_bda8_0242ac1c0002row7_col10,#T_4244be18_49a2_11ec_bda8_0242ac1c0002row7_col11,#T_4244be18_49a2_11ec_bda8_0242ac1c0002row8_col0,#T_4244be18_49a2_11ec_bda8_0242ac1c0002row8_col2,#T_4244be18_49a2_11ec_bda8_0242ac1c0002row8_col4,#T_4244be18_49a2_11ec_bda8_0242ac1c0002row8_col6,#T_4244be18_49a2_11ec_bda8_0242ac1c0002row8_col7,#T_4244be18_49a2_11ec_bda8_0242ac1c0002row8_col9,#T_4244be18_49a2_11ec_bda8_0242ac1c0002row8_col10,#T_4244be18_49a2_11ec_bda8_0242ac1c0002row9_col0,#T_4244be18_49a2_11ec_bda8_0242ac1c0002row9_col2,#T_4244be18_49a2_11ec_bda8_0242ac1c0002row9_col6,#T_4244be18_49a2_11ec_bda8_0242ac1c0002row9_col7,#T_4244be18_49a2_11ec_bda8_0242ac1c0002row9_col8,#T_4244be18_49a2_11ec_bda8_0242ac1c0002row9_col11,#T_4244be18_49a2_11ec_bda8_0242ac1c0002row10_col1,#T_4244be18_49a2_11ec_bda8_0242ac1c0002row10_col2,#T_4244be18_49a2_11ec_bda8_0242ac1c0002row10_col3,#T_4244be18_49a2_11ec_bda8_0242ac1c0002row10_col4,#T_4244be18_49a2_11ec_bda8_0242ac1c0002row10_col6,#T_4244be18_49a2_11ec_bda8_0242ac1c0002row10_col8,#T_4244be18_49a2_11ec_bda8_0242ac1c0002row10_col11,#T_4244be18_49a2_11ec_bda8_0242ac1c0002row11_col0,#T_4244be18_49a2_11ec_bda8_0242ac1c0002row11_col1,#T_4244be18_49a2_11ec_bda8_0242ac1c0002row11_col6,#T_4244be18_49a2_11ec_bda8_0242ac1c0002row11_col7,#T_4244be18_49a2_11ec_bda8_0242ac1c0002row11_col9{\n",
              "            background-color:  #fff7fb;\n",
              "            color:  #000000;\n",
              "        }#T_4244be18_49a2_11ec_bda8_0242ac1c0002row0_col9,#T_4244be18_49a2_11ec_bda8_0242ac1c0002row1_col0,#T_4244be18_49a2_11ec_bda8_0242ac1c0002row1_col2,#T_4244be18_49a2_11ec_bda8_0242ac1c0002row1_col8,#T_4244be18_49a2_11ec_bda8_0242ac1c0002row1_col11,#T_4244be18_49a2_11ec_bda8_0242ac1c0002row2_col3,#T_4244be18_49a2_11ec_bda8_0242ac1c0002row2_col4,#T_4244be18_49a2_11ec_bda8_0242ac1c0002row3_col2,#T_4244be18_49a2_11ec_bda8_0242ac1c0002row3_col10,#T_4244be18_49a2_11ec_bda8_0242ac1c0002row3_col11,#T_4244be18_49a2_11ec_bda8_0242ac1c0002row4_col1,#T_4244be18_49a2_11ec_bda8_0242ac1c0002row4_col7,#T_4244be18_49a2_11ec_bda8_0242ac1c0002row5_col8,#T_4244be18_49a2_11ec_bda8_0242ac1c0002row5_col11,#T_4244be18_49a2_11ec_bda8_0242ac1c0002row7_col4,#T_4244be18_49a2_11ec_bda8_0242ac1c0002row7_col5,#T_4244be18_49a2_11ec_bda8_0242ac1c0002row8_col3,#T_4244be18_49a2_11ec_bda8_0242ac1c0002row8_col11,#T_4244be18_49a2_11ec_bda8_0242ac1c0002row9_col3,#T_4244be18_49a2_11ec_bda8_0242ac1c0002row9_col10,#T_4244be18_49a2_11ec_bda8_0242ac1c0002row10_col0,#T_4244be18_49a2_11ec_bda8_0242ac1c0002row10_col7,#T_4244be18_49a2_11ec_bda8_0242ac1c0002row10_col9,#T_4244be18_49a2_11ec_bda8_0242ac1c0002row11_col10{\n",
              "            background-color:  #fef6fb;\n",
              "            color:  #000000;\n",
              "        }#T_4244be18_49a2_11ec_bda8_0242ac1c0002row1_col1{\n",
              "            background-color:  #93b5d6;\n",
              "            color:  #000000;\n",
              "        }#T_4244be18_49a2_11ec_bda8_0242ac1c0002row1_col3,#T_4244be18_49a2_11ec_bda8_0242ac1c0002row1_col4,#T_4244be18_49a2_11ec_bda8_0242ac1c0002row2_col1,#T_4244be18_49a2_11ec_bda8_0242ac1c0002row3_col0,#T_4244be18_49a2_11ec_bda8_0242ac1c0002row3_col1,#T_4244be18_49a2_11ec_bda8_0242ac1c0002row5_col1,#T_4244be18_49a2_11ec_bda8_0242ac1c0002row5_col9,#T_4244be18_49a2_11ec_bda8_0242ac1c0002row6_col5,#T_4244be18_49a2_11ec_bda8_0242ac1c0002row8_col5{\n",
              "            background-color:  #fdf5fa;\n",
              "            color:  #000000;\n",
              "        }#T_4244be18_49a2_11ec_bda8_0242ac1c0002row1_col5,#T_4244be18_49a2_11ec_bda8_0242ac1c0002row3_col4,#T_4244be18_49a2_11ec_bda8_0242ac1c0002row4_col3{\n",
              "            background-color:  #f9f2f8;\n",
              "            color:  #000000;\n",
              "        }#T_4244be18_49a2_11ec_bda8_0242ac1c0002row2_col2{\n",
              "            background-color:  #bbc7e0;\n",
              "            color:  #000000;\n",
              "        }#T_4244be18_49a2_11ec_bda8_0242ac1c0002row2_col5,#T_4244be18_49a2_11ec_bda8_0242ac1c0002row4_col11,#T_4244be18_49a2_11ec_bda8_0242ac1c0002row9_col5{\n",
              "            background-color:  #fcf4fa;\n",
              "            color:  #000000;\n",
              "        }#T_4244be18_49a2_11ec_bda8_0242ac1c0002row3_col3{\n",
              "            background-color:  #a2bcda;\n",
              "            color:  #000000;\n",
              "        }#T_4244be18_49a2_11ec_bda8_0242ac1c0002row3_col5{\n",
              "            background-color:  #f2ecf5;\n",
              "            color:  #000000;\n",
              "        }#T_4244be18_49a2_11ec_bda8_0242ac1c0002row4_col4{\n",
              "            background-color:  #045a8d;\n",
              "            color:  #f1f1f1;\n",
              "        }#T_4244be18_49a2_11ec_bda8_0242ac1c0002row4_col5{\n",
              "            background-color:  #eee8f3;\n",
              "            color:  #000000;\n",
              "        }#T_4244be18_49a2_11ec_bda8_0242ac1c0002row5_col0,#T_4244be18_49a2_11ec_bda8_0242ac1c0002row5_col3{\n",
              "            background-color:  #fbf4f9;\n",
              "            color:  #000000;\n",
              "        }#T_4244be18_49a2_11ec_bda8_0242ac1c0002row5_col4,#T_4244be18_49a2_11ec_bda8_0242ac1c0002row7_col7,#T_4244be18_49a2_11ec_bda8_0242ac1c0002row11_col4{\n",
              "            background-color:  #f8f1f8;\n",
              "            color:  #000000;\n",
              "        }#T_4244be18_49a2_11ec_bda8_0242ac1c0002row5_col5{\n",
              "            background-color:  #023858;\n",
              "            color:  #f1f1f1;\n",
              "        }#T_4244be18_49a2_11ec_bda8_0242ac1c0002row5_col10{\n",
              "            background-color:  #fbf3f9;\n",
              "            color:  #000000;\n",
              "        }#T_4244be18_49a2_11ec_bda8_0242ac1c0002row6_col6,#T_4244be18_49a2_11ec_bda8_0242ac1c0002row10_col5{\n",
              "            background-color:  #f7f0f7;\n",
              "            color:  #000000;\n",
              "        }#T_4244be18_49a2_11ec_bda8_0242ac1c0002row8_col8{\n",
              "            background-color:  #f3edf5;\n",
              "            color:  #000000;\n",
              "        }#T_4244be18_49a2_11ec_bda8_0242ac1c0002row9_col9{\n",
              "            background-color:  #eee9f3;\n",
              "            color:  #000000;\n",
              "        }#T_4244be18_49a2_11ec_bda8_0242ac1c0002row10_col10{\n",
              "            background-color:  #dddbec;\n",
              "            color:  #000000;\n",
              "        }#T_4244be18_49a2_11ec_bda8_0242ac1c0002row11_col11{\n",
              "            background-color:  #d5d5e8;\n",
              "            color:  #000000;\n",
              "        }</style><table id=\"T_4244be18_49a2_11ec_bda8_0242ac1c0002\" class=\"dataframe\"><thead>    <tr>        <th class=\"blank level0\" ></th>        <th class=\"col_heading level0 col0\" >Predicted M22-</th>        <th class=\"col_heading level0 col1\" >Predicted M23-26</th>        <th class=\"col_heading level0 col2\" >Predicted M27-28</th>        <th class=\"col_heading level0 col3\" >Predicted M29-31</th>        <th class=\"col_heading level0 col4\" >Predicted M32-38</th>        <th class=\"col_heading level0 col5\" >Predicted M39+</th>        <th class=\"col_heading level0 col6\" >Predicted F23-</th>        <th class=\"col_heading level0 col7\" >Predicted F24-26</th>        <th class=\"col_heading level0 col8\" >Predicted F27-28</th>        <th class=\"col_heading level0 col9\" >Predicted F29-32</th>        <th class=\"col_heading level0 col10\" >Predicted F33-42</th>        <th class=\"col_heading level0 col11\" >Predicted F43+</th>    </tr></thead><tbody>\n",
              "                <tr>\n",
              "                        <th id=\"T_4244be18_49a2_11ec_bda8_0242ac1c0002level0_row0\" class=\"row_heading level0 row0\" >Actual M22-</th>\n",
              "                        <td id=\"T_4244be18_49a2_11ec_bda8_0242ac1c0002row0_col0\" class=\"data row0 col0\" >92</td>\n",
              "                        <td id=\"T_4244be18_49a2_11ec_bda8_0242ac1c0002row0_col1\" class=\"data row0 col1\" >4</td>\n",
              "                        <td id=\"T_4244be18_49a2_11ec_bda8_0242ac1c0002row0_col2\" class=\"data row0 col2\" >4</td>\n",
              "                        <td id=\"T_4244be18_49a2_11ec_bda8_0242ac1c0002row0_col3\" class=\"data row0 col3\" >4</td>\n",
              "                        <td id=\"T_4244be18_49a2_11ec_bda8_0242ac1c0002row0_col4\" class=\"data row0 col4\" >4</td>\n",
              "                        <td id=\"T_4244be18_49a2_11ec_bda8_0242ac1c0002row0_col5\" class=\"data row0 col5\" >18</td>\n",
              "                        <td id=\"T_4244be18_49a2_11ec_bda8_0242ac1c0002row0_col6\" class=\"data row0 col6\" >0</td>\n",
              "                        <td id=\"T_4244be18_49a2_11ec_bda8_0242ac1c0002row0_col7\" class=\"data row0 col7\" >0</td>\n",
              "                        <td id=\"T_4244be18_49a2_11ec_bda8_0242ac1c0002row0_col8\" class=\"data row0 col8\" >0</td>\n",
              "                        <td id=\"T_4244be18_49a2_11ec_bda8_0242ac1c0002row0_col9\" class=\"data row0 col9\" >2</td>\n",
              "                        <td id=\"T_4244be18_49a2_11ec_bda8_0242ac1c0002row0_col10\" class=\"data row0 col10\" >0</td>\n",
              "                        <td id=\"T_4244be18_49a2_11ec_bda8_0242ac1c0002row0_col11\" class=\"data row0 col11\" >0</td>\n",
              "            </tr>\n",
              "            <tr>\n",
              "                        <th id=\"T_4244be18_49a2_11ec_bda8_0242ac1c0002level0_row1\" class=\"row_heading level0 row1\" >Actual M23-26</th>\n",
              "                        <td id=\"T_4244be18_49a2_11ec_bda8_0242ac1c0002row1_col0\" class=\"data row1 col0\" >3</td>\n",
              "                        <td id=\"T_4244be18_49a2_11ec_bda8_0242ac1c0002row1_col1\" class=\"data row1 col1\" >212</td>\n",
              "                        <td id=\"T_4244be18_49a2_11ec_bda8_0242ac1c0002row1_col2\" class=\"data row1 col2\" >2</td>\n",
              "                        <td id=\"T_4244be18_49a2_11ec_bda8_0242ac1c0002row1_col3\" class=\"data row1 col3\" >8</td>\n",
              "                        <td id=\"T_4244be18_49a2_11ec_bda8_0242ac1c0002row1_col4\" class=\"data row1 col4\" >7</td>\n",
              "                        <td id=\"T_4244be18_49a2_11ec_bda8_0242ac1c0002row1_col5\" class=\"data row1 col5\" >20</td>\n",
              "                        <td id=\"T_4244be18_49a2_11ec_bda8_0242ac1c0002row1_col6\" class=\"data row1 col6\" >0</td>\n",
              "                        <td id=\"T_4244be18_49a2_11ec_bda8_0242ac1c0002row1_col7\" class=\"data row1 col7\" >0</td>\n",
              "                        <td id=\"T_4244be18_49a2_11ec_bda8_0242ac1c0002row1_col8\" class=\"data row1 col8\" >2</td>\n",
              "                        <td id=\"T_4244be18_49a2_11ec_bda8_0242ac1c0002row1_col9\" class=\"data row1 col9\" >1</td>\n",
              "                        <td id=\"T_4244be18_49a2_11ec_bda8_0242ac1c0002row1_col10\" class=\"data row1 col10\" >1</td>\n",
              "                        <td id=\"T_4244be18_49a2_11ec_bda8_0242ac1c0002row1_col11\" class=\"data row1 col11\" >2</td>\n",
              "            </tr>\n",
              "            <tr>\n",
              "                        <th id=\"T_4244be18_49a2_11ec_bda8_0242ac1c0002level0_row2\" class=\"row_heading level0 row2\" >Actual M27-28</th>\n",
              "                        <td id=\"T_4244be18_49a2_11ec_bda8_0242ac1c0002row2_col0\" class=\"data row2 col0\" >4</td>\n",
              "                        <td id=\"T_4244be18_49a2_11ec_bda8_0242ac1c0002row2_col1\" class=\"data row2 col1\" >7</td>\n",
              "                        <td id=\"T_4244be18_49a2_11ec_bda8_0242ac1c0002row2_col2\" class=\"data row2 col2\" >158</td>\n",
              "                        <td id=\"T_4244be18_49a2_11ec_bda8_0242ac1c0002row2_col3\" class=\"data row2 col3\" >3</td>\n",
              "                        <td id=\"T_4244be18_49a2_11ec_bda8_0242ac1c0002row2_col4\" class=\"data row2 col4\" >3</td>\n",
              "                        <td id=\"T_4244be18_49a2_11ec_bda8_0242ac1c0002row2_col5\" class=\"data row2 col5\" >11</td>\n",
              "                        <td id=\"T_4244be18_49a2_11ec_bda8_0242ac1c0002row2_col6\" class=\"data row2 col6\" >0</td>\n",
              "                        <td id=\"T_4244be18_49a2_11ec_bda8_0242ac1c0002row2_col7\" class=\"data row2 col7\" >0</td>\n",
              "                        <td id=\"T_4244be18_49a2_11ec_bda8_0242ac1c0002row2_col8\" class=\"data row2 col8\" >0</td>\n",
              "                        <td id=\"T_4244be18_49a2_11ec_bda8_0242ac1c0002row2_col9\" class=\"data row2 col9\" >1</td>\n",
              "                        <td id=\"T_4244be18_49a2_11ec_bda8_0242ac1c0002row2_col10\" class=\"data row2 col10\" >1</td>\n",
              "                        <td id=\"T_4244be18_49a2_11ec_bda8_0242ac1c0002row2_col11\" class=\"data row2 col11\" >4</td>\n",
              "            </tr>\n",
              "            <tr>\n",
              "                        <th id=\"T_4244be18_49a2_11ec_bda8_0242ac1c0002level0_row3\" class=\"row_heading level0 row3\" >Actual M29-31</th>\n",
              "                        <td id=\"T_4244be18_49a2_11ec_bda8_0242ac1c0002row3_col0\" class=\"data row3 col0\" >7</td>\n",
              "                        <td id=\"T_4244be18_49a2_11ec_bda8_0242ac1c0002row3_col1\" class=\"data row3 col1\" >7</td>\n",
              "                        <td id=\"T_4244be18_49a2_11ec_bda8_0242ac1c0002row3_col2\" class=\"data row3 col2\" >2</td>\n",
              "                        <td id=\"T_4244be18_49a2_11ec_bda8_0242ac1c0002row3_col3\" class=\"data row3 col3\" >194</td>\n",
              "                        <td id=\"T_4244be18_49a2_11ec_bda8_0242ac1c0002row3_col4\" class=\"data row3 col4\" >21</td>\n",
              "                        <td id=\"T_4244be18_49a2_11ec_bda8_0242ac1c0002row3_col5\" class=\"data row3 col5\" >44</td>\n",
              "                        <td id=\"T_4244be18_49a2_11ec_bda8_0242ac1c0002row3_col6\" class=\"data row3 col6\" >1</td>\n",
              "                        <td id=\"T_4244be18_49a2_11ec_bda8_0242ac1c0002row3_col7\" class=\"data row3 col7\" >1</td>\n",
              "                        <td id=\"T_4244be18_49a2_11ec_bda8_0242ac1c0002row3_col8\" class=\"data row3 col8\" >1</td>\n",
              "                        <td id=\"T_4244be18_49a2_11ec_bda8_0242ac1c0002row3_col9\" class=\"data row3 col9\" >0</td>\n",
              "                        <td id=\"T_4244be18_49a2_11ec_bda8_0242ac1c0002row3_col10\" class=\"data row3 col10\" >2</td>\n",
              "                        <td id=\"T_4244be18_49a2_11ec_bda8_0242ac1c0002row3_col11\" class=\"data row3 col11\" >3</td>\n",
              "            </tr>\n",
              "            <tr>\n",
              "                        <th id=\"T_4244be18_49a2_11ec_bda8_0242ac1c0002level0_row4\" class=\"row_heading level0 row4\" >Actual M32-38</th>\n",
              "                        <td id=\"T_4244be18_49a2_11ec_bda8_0242ac1c0002row4_col0\" class=\"data row4 col0\" >1</td>\n",
              "                        <td id=\"T_4244be18_49a2_11ec_bda8_0242ac1c0002row4_col1\" class=\"data row4 col1\" >3</td>\n",
              "                        <td id=\"T_4244be18_49a2_11ec_bda8_0242ac1c0002row4_col2\" class=\"data row4 col2\" >0</td>\n",
              "                        <td id=\"T_4244be18_49a2_11ec_bda8_0242ac1c0002row4_col3\" class=\"data row4 col3\" >20</td>\n",
              "                        <td id=\"T_4244be18_49a2_11ec_bda8_0242ac1c0002row4_col4\" class=\"data row4 col4\" >439</td>\n",
              "                        <td id=\"T_4244be18_49a2_11ec_bda8_0242ac1c0002row4_col5\" class=\"data row4 col5\" >57</td>\n",
              "                        <td id=\"T_4244be18_49a2_11ec_bda8_0242ac1c0002row4_col6\" class=\"data row4 col6\" >0</td>\n",
              "                        <td id=\"T_4244be18_49a2_11ec_bda8_0242ac1c0002row4_col7\" class=\"data row4 col7\" >2</td>\n",
              "                        <td id=\"T_4244be18_49a2_11ec_bda8_0242ac1c0002row4_col8\" class=\"data row4 col8\" >1</td>\n",
              "                        <td id=\"T_4244be18_49a2_11ec_bda8_0242ac1c0002row4_col9\" class=\"data row4 col9\" >1</td>\n",
              "                        <td id=\"T_4244be18_49a2_11ec_bda8_0242ac1c0002row4_col10\" class=\"data row4 col10\" >4</td>\n",
              "                        <td id=\"T_4244be18_49a2_11ec_bda8_0242ac1c0002row4_col11\" class=\"data row4 col11\" >11</td>\n",
              "            </tr>\n",
              "            <tr>\n",
              "                        <th id=\"T_4244be18_49a2_11ec_bda8_0242ac1c0002level0_row5\" class=\"row_heading level0 row5\" >Actual M39+</th>\n",
              "                        <td id=\"T_4244be18_49a2_11ec_bda8_0242ac1c0002row5_col0\" class=\"data row5 col0\" >13</td>\n",
              "                        <td id=\"T_4244be18_49a2_11ec_bda8_0242ac1c0002row5_col1\" class=\"data row5 col1\" >8</td>\n",
              "                        <td id=\"T_4244be18_49a2_11ec_bda8_0242ac1c0002row5_col2\" class=\"data row5 col2\" >5</td>\n",
              "                        <td id=\"T_4244be18_49a2_11ec_bda8_0242ac1c0002row5_col3\" class=\"data row5 col3\" >12</td>\n",
              "                        <td id=\"T_4244be18_49a2_11ec_bda8_0242ac1c0002row5_col4\" class=\"data row5 col4\" >25</td>\n",
              "                        <td id=\"T_4244be18_49a2_11ec_bda8_0242ac1c0002row5_col5\" class=\"data row5 col5\" >502</td>\n",
              "                        <td id=\"T_4244be18_49a2_11ec_bda8_0242ac1c0002row5_col6\" class=\"data row5 col6\" >0</td>\n",
              "                        <td id=\"T_4244be18_49a2_11ec_bda8_0242ac1c0002row5_col7\" class=\"data row5 col7\" >5</td>\n",
              "                        <td id=\"T_4244be18_49a2_11ec_bda8_0242ac1c0002row5_col8\" class=\"data row5 col8\" >3</td>\n",
              "                        <td id=\"T_4244be18_49a2_11ec_bda8_0242ac1c0002row5_col9\" class=\"data row5 col9\" >6</td>\n",
              "                        <td id=\"T_4244be18_49a2_11ec_bda8_0242ac1c0002row5_col10\" class=\"data row5 col10\" >14</td>\n",
              "                        <td id=\"T_4244be18_49a2_11ec_bda8_0242ac1c0002row5_col11\" class=\"data row5 col11\" >2</td>\n",
              "            </tr>\n",
              "            <tr>\n",
              "                        <th id=\"T_4244be18_49a2_11ec_bda8_0242ac1c0002level0_row6\" class=\"row_heading level0 row6\" >Actual F23-</th>\n",
              "                        <td id=\"T_4244be18_49a2_11ec_bda8_0242ac1c0002row6_col0\" class=\"data row6 col0\" >0</td>\n",
              "                        <td id=\"T_4244be18_49a2_11ec_bda8_0242ac1c0002row6_col1\" class=\"data row6 col1\" >0</td>\n",
              "                        <td id=\"T_4244be18_49a2_11ec_bda8_0242ac1c0002row6_col2\" class=\"data row6 col2\" >0</td>\n",
              "                        <td id=\"T_4244be18_49a2_11ec_bda8_0242ac1c0002row6_col3\" class=\"data row6 col3\" >1</td>\n",
              "                        <td id=\"T_4244be18_49a2_11ec_bda8_0242ac1c0002row6_col4\" class=\"data row6 col4\" >4</td>\n",
              "                        <td id=\"T_4244be18_49a2_11ec_bda8_0242ac1c0002row6_col5\" class=\"data row6 col5\" >6</td>\n",
              "                        <td id=\"T_4244be18_49a2_11ec_bda8_0242ac1c0002row6_col6\" class=\"data row6 col6\" >28</td>\n",
              "                        <td id=\"T_4244be18_49a2_11ec_bda8_0242ac1c0002row6_col7\" class=\"data row6 col7\" >0</td>\n",
              "                        <td id=\"T_4244be18_49a2_11ec_bda8_0242ac1c0002row6_col8\" class=\"data row6 col8\" >0</td>\n",
              "                        <td id=\"T_4244be18_49a2_11ec_bda8_0242ac1c0002row6_col9\" class=\"data row6 col9\" >0</td>\n",
              "                        <td id=\"T_4244be18_49a2_11ec_bda8_0242ac1c0002row6_col10\" class=\"data row6 col10\" >0</td>\n",
              "                        <td id=\"T_4244be18_49a2_11ec_bda8_0242ac1c0002row6_col11\" class=\"data row6 col11\" >0</td>\n",
              "            </tr>\n",
              "            <tr>\n",
              "                        <th id=\"T_4244be18_49a2_11ec_bda8_0242ac1c0002level0_row7\" class=\"row_heading level0 row7\" >Actual F24-26</th>\n",
              "                        <td id=\"T_4244be18_49a2_11ec_bda8_0242ac1c0002row7_col0\" class=\"data row7 col0\" >0</td>\n",
              "                        <td id=\"T_4244be18_49a2_11ec_bda8_0242ac1c0002row7_col1\" class=\"data row7 col1\" >0</td>\n",
              "                        <td id=\"T_4244be18_49a2_11ec_bda8_0242ac1c0002row7_col2\" class=\"data row7 col2\" >0</td>\n",
              "                        <td id=\"T_4244be18_49a2_11ec_bda8_0242ac1c0002row7_col3\" class=\"data row7 col3\" >0</td>\n",
              "                        <td id=\"T_4244be18_49a2_11ec_bda8_0242ac1c0002row7_col4\" class=\"data row7 col4\" >2</td>\n",
              "                        <td id=\"T_4244be18_49a2_11ec_bda8_0242ac1c0002row7_col5\" class=\"data row7 col5\" >3</td>\n",
              "                        <td id=\"T_4244be18_49a2_11ec_bda8_0242ac1c0002row7_col6\" class=\"data row7 col6\" >0</td>\n",
              "                        <td id=\"T_4244be18_49a2_11ec_bda8_0242ac1c0002row7_col7\" class=\"data row7 col7\" >24</td>\n",
              "                        <td id=\"T_4244be18_49a2_11ec_bda8_0242ac1c0002row7_col8\" class=\"data row7 col8\" >0</td>\n",
              "                        <td id=\"T_4244be18_49a2_11ec_bda8_0242ac1c0002row7_col9\" class=\"data row7 col9\" >0</td>\n",
              "                        <td id=\"T_4244be18_49a2_11ec_bda8_0242ac1c0002row7_col10\" class=\"data row7 col10\" >0</td>\n",
              "                        <td id=\"T_4244be18_49a2_11ec_bda8_0242ac1c0002row7_col11\" class=\"data row7 col11\" >0</td>\n",
              "            </tr>\n",
              "            <tr>\n",
              "                        <th id=\"T_4244be18_49a2_11ec_bda8_0242ac1c0002level0_row8\" class=\"row_heading level0 row8\" >Actual F27-28</th>\n",
              "                        <td id=\"T_4244be18_49a2_11ec_bda8_0242ac1c0002row8_col0\" class=\"data row8 col0\" >0</td>\n",
              "                        <td id=\"T_4244be18_49a2_11ec_bda8_0242ac1c0002row8_col1\" class=\"data row8 col1\" >5</td>\n",
              "                        <td id=\"T_4244be18_49a2_11ec_bda8_0242ac1c0002row8_col2\" class=\"data row8 col2\" >0</td>\n",
              "                        <td id=\"T_4244be18_49a2_11ec_bda8_0242ac1c0002row8_col3\" class=\"data row8 col3\" >2</td>\n",
              "                        <td id=\"T_4244be18_49a2_11ec_bda8_0242ac1c0002row8_col4\" class=\"data row8 col4\" >1</td>\n",
              "                        <td id=\"T_4244be18_49a2_11ec_bda8_0242ac1c0002row8_col5\" class=\"data row8 col5\" >7</td>\n",
              "                        <td id=\"T_4244be18_49a2_11ec_bda8_0242ac1c0002row8_col6\" class=\"data row8 col6\" >0</td>\n",
              "                        <td id=\"T_4244be18_49a2_11ec_bda8_0242ac1c0002row8_col7\" class=\"data row8 col7\" >0</td>\n",
              "                        <td id=\"T_4244be18_49a2_11ec_bda8_0242ac1c0002row8_col8\" class=\"data row8 col8\" >40</td>\n",
              "                        <td id=\"T_4244be18_49a2_11ec_bda8_0242ac1c0002row8_col9\" class=\"data row8 col9\" >0</td>\n",
              "                        <td id=\"T_4244be18_49a2_11ec_bda8_0242ac1c0002row8_col10\" class=\"data row8 col10\" >0</td>\n",
              "                        <td id=\"T_4244be18_49a2_11ec_bda8_0242ac1c0002row8_col11\" class=\"data row8 col11\" >2</td>\n",
              "            </tr>\n",
              "            <tr>\n",
              "                        <th id=\"T_4244be18_49a2_11ec_bda8_0242ac1c0002level0_row9\" class=\"row_heading level0 row9\" >Actual F29-32</th>\n",
              "                        <td id=\"T_4244be18_49a2_11ec_bda8_0242ac1c0002row9_col0\" class=\"data row9 col0\" >0</td>\n",
              "                        <td id=\"T_4244be18_49a2_11ec_bda8_0242ac1c0002row9_col1\" class=\"data row9 col1\" >5</td>\n",
              "                        <td id=\"T_4244be18_49a2_11ec_bda8_0242ac1c0002row9_col2\" class=\"data row9 col2\" >1</td>\n",
              "                        <td id=\"T_4244be18_49a2_11ec_bda8_0242ac1c0002row9_col3\" class=\"data row9 col3\" >3</td>\n",
              "                        <td id=\"T_4244be18_49a2_11ec_bda8_0242ac1c0002row9_col4\" class=\"data row9 col4\" >4</td>\n",
              "                        <td id=\"T_4244be18_49a2_11ec_bda8_0242ac1c0002row9_col5\" class=\"data row9 col5\" >10</td>\n",
              "                        <td id=\"T_4244be18_49a2_11ec_bda8_0242ac1c0002row9_col6\" class=\"data row9 col6\" >0</td>\n",
              "                        <td id=\"T_4244be18_49a2_11ec_bda8_0242ac1c0002row9_col7\" class=\"data row9 col7\" >0</td>\n",
              "                        <td id=\"T_4244be18_49a2_11ec_bda8_0242ac1c0002row9_col8\" class=\"data row9 col8\" >0</td>\n",
              "                        <td id=\"T_4244be18_49a2_11ec_bda8_0242ac1c0002row9_col9\" class=\"data row9 col9\" >56</td>\n",
              "                        <td id=\"T_4244be18_49a2_11ec_bda8_0242ac1c0002row9_col10\" class=\"data row9 col10\" >2</td>\n",
              "                        <td id=\"T_4244be18_49a2_11ec_bda8_0242ac1c0002row9_col11\" class=\"data row9 col11\" >0</td>\n",
              "            </tr>\n",
              "            <tr>\n",
              "                        <th id=\"T_4244be18_49a2_11ec_bda8_0242ac1c0002level0_row10\" class=\"row_heading level0 row10\" >Actual F33-42</th>\n",
              "                        <td id=\"T_4244be18_49a2_11ec_bda8_0242ac1c0002row10_col0\" class=\"data row10 col0\" >2</td>\n",
              "                        <td id=\"T_4244be18_49a2_11ec_bda8_0242ac1c0002row10_col1\" class=\"data row10 col1\" >1</td>\n",
              "                        <td id=\"T_4244be18_49a2_11ec_bda8_0242ac1c0002row10_col2\" class=\"data row10 col2\" >1</td>\n",
              "                        <td id=\"T_4244be18_49a2_11ec_bda8_0242ac1c0002row10_col3\" class=\"data row10 col3\" >1</td>\n",
              "                        <td id=\"T_4244be18_49a2_11ec_bda8_0242ac1c0002row10_col4\" class=\"data row10 col4\" >1</td>\n",
              "                        <td id=\"T_4244be18_49a2_11ec_bda8_0242ac1c0002row10_col5\" class=\"data row10 col5\" >27</td>\n",
              "                        <td id=\"T_4244be18_49a2_11ec_bda8_0242ac1c0002row10_col6\" class=\"data row10 col6\" >1</td>\n",
              "                        <td id=\"T_4244be18_49a2_11ec_bda8_0242ac1c0002row10_col7\" class=\"data row10 col7\" >2</td>\n",
              "                        <td id=\"T_4244be18_49a2_11ec_bda8_0242ac1c0002row10_col8\" class=\"data row10 col8\" >0</td>\n",
              "                        <td id=\"T_4244be18_49a2_11ec_bda8_0242ac1c0002row10_col9\" class=\"data row10 col9\" >2</td>\n",
              "                        <td id=\"T_4244be18_49a2_11ec_bda8_0242ac1c0002row10_col10\" class=\"data row10 col10\" >98</td>\n",
              "                        <td id=\"T_4244be18_49a2_11ec_bda8_0242ac1c0002row10_col11\" class=\"data row10 col11\" >1</td>\n",
              "            </tr>\n",
              "            <tr>\n",
              "                        <th id=\"T_4244be18_49a2_11ec_bda8_0242ac1c0002level0_row11\" class=\"row_heading level0 row11\" >Actual F43+</th>\n",
              "                        <td id=\"T_4244be18_49a2_11ec_bda8_0242ac1c0002row11_col0\" class=\"data row11 col0\" >0</td>\n",
              "                        <td id=\"T_4244be18_49a2_11ec_bda8_0242ac1c0002row11_col1\" class=\"data row11 col1\" >1</td>\n",
              "                        <td id=\"T_4244be18_49a2_11ec_bda8_0242ac1c0002row11_col2\" class=\"data row11 col2\" >4</td>\n",
              "                        <td id=\"T_4244be18_49a2_11ec_bda8_0242ac1c0002row11_col3\" class=\"data row11 col3\" >4</td>\n",
              "                        <td id=\"T_4244be18_49a2_11ec_bda8_0242ac1c0002row11_col4\" class=\"data row11 col4\" >24</td>\n",
              "                        <td id=\"T_4244be18_49a2_11ec_bda8_0242ac1c0002row11_col5\" class=\"data row11 col5\" >19</td>\n",
              "                        <td id=\"T_4244be18_49a2_11ec_bda8_0242ac1c0002row11_col6\" class=\"data row11 col6\" >0</td>\n",
              "                        <td id=\"T_4244be18_49a2_11ec_bda8_0242ac1c0002row11_col7\" class=\"data row11 col7\" >1</td>\n",
              "                        <td id=\"T_4244be18_49a2_11ec_bda8_0242ac1c0002row11_col8\" class=\"data row11 col8\" >4</td>\n",
              "                        <td id=\"T_4244be18_49a2_11ec_bda8_0242ac1c0002row11_col9\" class=\"data row11 col9\" >0</td>\n",
              "                        <td id=\"T_4244be18_49a2_11ec_bda8_0242ac1c0002row11_col10\" class=\"data row11 col10\" >2</td>\n",
              "                        <td id=\"T_4244be18_49a2_11ec_bda8_0242ac1c0002row11_col11\" class=\"data row11 col11\" >114</td>\n",
              "            </tr>\n",
              "    </tbody></table>"
            ],
            "text/plain": [
              "<pandas.io.formats.style.Styler at 0x7f3d07cdf310>"
            ]
          },
          "metadata": {},
          "execution_count": 93
        }
      ]
    },
    {
      "cell_type": "code",
      "metadata": {
        "colab": {
          "base_uri": "https://localhost:8080/"
        },
        "id": "J-MQ2pS97MsC",
        "outputId": "17cbe871-f2ab-4f7d-faf9-b49d2937545a"
      },
      "source": [
        "print(\"Classification Report:\")\n",
        "print()\n",
        "print(classification_report(y_test, y_pred))"
      ],
      "execution_count": null,
      "outputs": [
        {
          "output_type": "stream",
          "name": "stdout",
          "text": [
            "Classification Report:\n",
            "\n",
            "              precision    recall  f1-score   support\n",
            "\n",
            "           0       0.75      0.72      0.74       128\n",
            "           1       0.84      0.82      0.83       258\n",
            "           2       0.89      0.82      0.86       192\n",
            "           3       0.77      0.69      0.73       283\n",
            "           4       0.82      0.81      0.82       539\n",
            "           5       0.69      0.84      0.76       595\n",
            "           6       0.93      0.72      0.81        39\n",
            "           7       0.69      0.83      0.75        29\n",
            "           8       0.78      0.70      0.74        57\n",
            "           9       0.81      0.69      0.75        81\n",
            "          10       0.79      0.72      0.75       137\n",
            "          11       0.82      0.66      0.73       173\n",
            "\n",
            "    accuracy                           0.78      2511\n",
            "   macro avg       0.80      0.75      0.77      2511\n",
            "weighted avg       0.79      0.78      0.78      2511\n",
            "\n"
          ]
        }
      ]
    },
    {
      "cell_type": "code",
      "metadata": {
        "id": "_CCnNev17cPJ"
      },
      "source": [
        "def multiclass_roc_auc_score(y_test, y_pred, average=\"macro\"):\n",
        "  lb = LabelBinarizer()\n",
        "  lb.fit(y_test)\n",
        "  y_test = lb.transform(y_test)\n",
        "  y_pred = lb.transform(y_pred)\n",
        "  return roc_auc_score(y_test, y_pred, average=average)\n"
      ],
      "execution_count": null,
      "outputs": []
    },
    {
      "cell_type": "code",
      "metadata": {
        "colab": {
          "base_uri": "https://localhost:8080/"
        },
        "id": "EiiNkVkA7cS4",
        "outputId": "a2ea0f4f-d2a0-4356-825c-c2f3372f34dc"
      },
      "source": [
        "multiclass_roc_auc_score(y_test, y_pred, average=\"macro\")"
      ],
      "execution_count": null,
      "outputs": [
        {
          "output_type": "execute_result",
          "data": {
            "text/plain": [
              "0.8647379098265993"
            ]
          },
          "metadata": {},
          "execution_count": 96
        }
      ]
    },
    {
      "cell_type": "markdown",
      "metadata": {
        "id": "kE7rrvN5CEVc"
      },
      "source": [
        "![Classification.png](data:image/png;base64,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)"
      ]
    }
  ]
}