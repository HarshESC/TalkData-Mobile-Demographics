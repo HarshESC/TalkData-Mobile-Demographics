{
  "nbformat": 4,
  "nbformat_minor": 0,
  "metadata": {
    "colab": {
      "name": "Supervised Learning.ipynb",
      "provenance": [],
      "collapsed_sections": [],
      "authorship_tag": "ABX9TyOcbJxXyL3FX2Xzgf2UVUD1",
      "include_colab_link": true
    },
    "kernelspec": {
      "name": "python3",
      "display_name": "Python 3"
    },
    "language_info": {
      "name": "python"
    }
  },
  "cells": [
    {
      "cell_type": "markdown",
      "metadata": {
        "id": "view-in-github",
        "colab_type": "text"
      },
      "source": [
        "<a href=\"https://colab.research.google.com/github/HarshESC/TalkData-Mobile-Demographics/blob/main/Supervised_Learning.ipynb\" target=\"_parent\"><img src=\"https://colab.research.google.com/assets/colab-badge.svg\" alt=\"Open In Colab\"/></a>"
      ]
    },
    {
      "cell_type": "code",
      "metadata": {
        "colab": {
          "base_uri": "https://localhost:8080/"
        },
        "id": "N6abuKw0ky6Z",
        "outputId": "c5c6ec20-9294-4354-bf65-ba91638d3b78"
      },
      "source": [
        "#Imports\n",
        "import numpy as np\n",
        "import pandas as pd\n",
        "from sklearn.datasets import load_boston\n",
        "from sklearn.model_selection import train_test_split, GridSearchCV, cross_val_score\n",
        "from sklearn.tree import DecisionTreeClassifier\n",
        "from sklearn.feature_selection import SelectKBest, f_regression, chi2\n",
        "import matplotlib.pyplot as plt\n",
        "import seaborn as sns\n",
        "from sklearn.metrics import confusion_matrix\n",
        "from sklearn.metrics import accuracy_score\n",
        "from sklearn.metrics import precision_score, recall_score\n",
        "from sklearn.metrics import f1_score\n",
        "from sklearn.metrics import classification_report\n",
        "from sklearn.ensemble import RandomForestClassifier\n",
        "from sklearn.neighbors import KNeighborsClassifier\n",
        "from sklearn import neighbors\n",
        "from sklearn import svm\n",
        "from sklearn.svm import SVC\n",
        "\n",
        "from sklearn import tree\n",
        "from sklearn.ensemble import GradientBoostingClassifier\n",
        "from sklearn.compose import ColumnTransformer\n",
        "from sklearn.preprocessing import StandardScaler\n",
        "from sklearn.pipeline import Pipeline\n",
        "from sklearn.decomposition import PCA\n",
        "from sklearn import ensemble\n",
        "\n",
        "import warnings\n",
        "warnings.filterwarnings('ignore')\n",
        "from google.colab import drive \n",
        "drive.mount('/content/gdrive')\n",
        "import os\n",
        "os.environ['KAGGLE_CONFIG_DIR'] = \"/content/gdrive/\"\n",
        "%cd \"/content/gdrive/My Drive/Final Capstone\"\n"
      ],
      "execution_count": null,
      "outputs": [
        {
          "output_type": "stream",
          "name": "stdout",
          "text": [
            "Mounted at /content/gdrive\n",
            "/content/gdrive/My Drive/Final Capstone\n"
          ]
        }
      ]
    },
    {
      "cell_type": "markdown",
      "metadata": {
        "id": "IKhZL-THz3Ke"
      },
      "source": [
        "# Small EDA"
      ]
    },
    {
      "cell_type": "code",
      "metadata": {
        "colab": {
          "base_uri": "https://localhost:8080/",
          "height": 238
        },
        "id": "IlkCpkyYQ0U3",
        "outputId": "36c0a2ff-8a7f-4f80-b3e3-b1aa444a4e31"
      },
      "source": [
        "master_df = pd.read_csv(\"master_clean.csv\")\n",
        "\n",
        "master_df.head()"
      ],
      "execution_count": null,
      "outputs": [
        {
          "output_type": "execute_result",
          "data": {
            "text/html": [
              "<div>\n",
              "<style scoped>\n",
              "    .dataframe tbody tr th:only-of-type {\n",
              "        vertical-align: middle;\n",
              "    }\n",
              "\n",
              "    .dataframe tbody tr th {\n",
              "        vertical-align: top;\n",
              "    }\n",
              "\n",
              "    .dataframe thead th {\n",
              "        text-align: right;\n",
              "    }\n",
              "</style>\n",
              "<table border=\"1\" class=\"dataframe\">\n",
              "  <thead>\n",
              "    <tr style=\"text-align: right;\">\n",
              "      <th></th>\n",
              "      <th>event_id</th>\n",
              "      <th>app_id</th>\n",
              "      <th>is_active</th>\n",
              "      <th>device_id</th>\n",
              "      <th>251</th>\n",
              "      <th>252</th>\n",
              "      <th>253</th>\n",
              "      <th>254</th>\n",
              "      <th>256</th>\n",
              "      <th>262</th>\n",
              "      <th>263</th>\n",
              "      <th>302</th>\n",
              "      <th>303</th>\n",
              "      <th>306</th>\n",
              "      <th>326</th>\n",
              "      <th>405</th>\n",
              "      <th>406</th>\n",
              "      <th>407</th>\n",
              "      <th>548</th>\n",
              "      <th>549</th>\n",
              "      <th>551</th>\n",
              "      <th>558</th>\n",
              "      <th>562</th>\n",
              "      <th>564</th>\n",
              "      <th>565</th>\n",
              "      <th>566</th>\n",
              "      <th>english_phone_brand_asus</th>\n",
              "      <th>english_phone_brand_coolpad</th>\n",
              "      <th>english_phone_brand_hammer</th>\n",
              "      <th>english_phone_brand_huawei</th>\n",
              "      <th>english_phone_brand_lshi</th>\n",
              "      <th>english_phone_brand_meizu</th>\n",
              "      <th>english_phone_brand_oppo</th>\n",
              "      <th>english_phone_brand_qiku</th>\n",
              "      <th>english_phone_brand_samsung</th>\n",
              "      <th>english_phone_brand_vivo</th>\n",
              "      <th>english_phone_brand_xiaomi</th>\n",
              "      <th>device_model_Galaxy Note 3</th>\n",
              "      <th>device_model_Galaxy Note 4</th>\n",
              "      <th>device_model_Galaxy S5</th>\n",
              "      <th>device_model_Galaxy S6</th>\n",
              "      <th>device_model_MI 3</th>\n",
              "      <th>device_model_MI 4</th>\n",
              "      <th>device_model_MX4</th>\n",
              "      <th>device_model_MX4 Pro</th>\n",
              "      <th>device_model_MX5</th>\n",
              "      <th>device_model_Mate 7</th>\n",
              "      <th>device_model_P8 Lite</th>\n",
              "      <th>device_model_P8max</th>\n",
              "      <th>device_model_R7 Plus</th>\n",
              "      <th>device_model_U3</th>\n",
              "      <th>device_model_X5SL</th>\n",
              "      <th>device_model_ZenFone 2</th>\n",
              "      <th>device_model_note顶配版</th>\n",
              "      <th>device_model_坚果手机</th>\n",
              "      <th>device_model_大神Note3</th>\n",
              "      <th>device_model_小米4C</th>\n",
              "      <th>device_model_小米note</th>\n",
              "      <th>device_model_红米2</th>\n",
              "      <th>device_model_红米2A</th>\n",
              "      <th>device_model_红米Note2</th>\n",
              "      <th>device_model_红米Note3</th>\n",
              "      <th>device_model_红米note</th>\n",
              "      <th>device_model_荣耀3C</th>\n",
              "      <th>device_model_荣耀6</th>\n",
              "      <th>device_model_荣耀6 Plus</th>\n",
              "      <th>device_model_荣耀7</th>\n",
              "      <th>device_model_荣耀7i</th>\n",
              "      <th>device_model_荣耀X2</th>\n",
              "      <th>device_model_荣耀畅玩4C</th>\n",
              "      <th>device_model_荣耀畅玩5X</th>\n",
              "      <th>device_model_超级手机1</th>\n",
              "      <th>device_model_超级手机1 Pro</th>\n",
              "      <th>device_model_超级手机1s</th>\n",
              "      <th>device_model_青春版</th>\n",
              "      <th>device_model_魅蓝NOTE</th>\n",
              "      <th>device_model_魅蓝metal</th>\n",
              "      <th>num_group</th>\n",
              "    </tr>\n",
              "  </thead>\n",
              "  <tbody>\n",
              "    <tr>\n",
              "      <th>0</th>\n",
              "      <td>198</td>\n",
              "      <td>-8807740666788515175</td>\n",
              "      <td>0</td>\n",
              "      <td>6984152891252102027</td>\n",
              "      <td>0</td>\n",
              "      <td>0</td>\n",
              "      <td>0</td>\n",
              "      <td>0</td>\n",
              "      <td>0</td>\n",
              "      <td>0</td>\n",
              "      <td>0</td>\n",
              "      <td>0</td>\n",
              "      <td>0</td>\n",
              "      <td>0</td>\n",
              "      <td>0</td>\n",
              "      <td>0</td>\n",
              "      <td>0</td>\n",
              "      <td>0</td>\n",
              "      <td>1</td>\n",
              "      <td>1</td>\n",
              "      <td>0</td>\n",
              "      <td>0</td>\n",
              "      <td>0</td>\n",
              "      <td>0</td>\n",
              "      <td>0</td>\n",
              "      <td>0</td>\n",
              "      <td>0</td>\n",
              "      <td>0</td>\n",
              "      <td>0</td>\n",
              "      <td>0</td>\n",
              "      <td>0</td>\n",
              "      <td>0</td>\n",
              "      <td>0</td>\n",
              "      <td>0</td>\n",
              "      <td>0</td>\n",
              "      <td>0</td>\n",
              "      <td>1</td>\n",
              "      <td>0</td>\n",
              "      <td>0</td>\n",
              "      <td>0</td>\n",
              "      <td>0</td>\n",
              "      <td>0</td>\n",
              "      <td>1</td>\n",
              "      <td>0</td>\n",
              "      <td>0</td>\n",
              "      <td>0</td>\n",
              "      <td>0</td>\n",
              "      <td>0</td>\n",
              "      <td>0</td>\n",
              "      <td>0</td>\n",
              "      <td>0</td>\n",
              "      <td>0</td>\n",
              "      <td>0</td>\n",
              "      <td>0</td>\n",
              "      <td>0</td>\n",
              "      <td>0</td>\n",
              "      <td>0</td>\n",
              "      <td>0</td>\n",
              "      <td>0</td>\n",
              "      <td>0</td>\n",
              "      <td>0</td>\n",
              "      <td>0</td>\n",
              "      <td>0</td>\n",
              "      <td>0</td>\n",
              "      <td>0</td>\n",
              "      <td>0</td>\n",
              "      <td>0</td>\n",
              "      <td>0</td>\n",
              "      <td>0</td>\n",
              "      <td>0</td>\n",
              "      <td>0</td>\n",
              "      <td>0</td>\n",
              "      <td>0</td>\n",
              "      <td>0</td>\n",
              "      <td>0</td>\n",
              "      <td>0</td>\n",
              "      <td>0</td>\n",
              "      <td>4</td>\n",
              "    </tr>\n",
              "    <tr>\n",
              "      <th>1</th>\n",
              "      <td>198</td>\n",
              "      <td>-7415261454408512527</td>\n",
              "      <td>0</td>\n",
              "      <td>6984152891252102027</td>\n",
              "      <td>0</td>\n",
              "      <td>0</td>\n",
              "      <td>0</td>\n",
              "      <td>1</td>\n",
              "      <td>0</td>\n",
              "      <td>0</td>\n",
              "      <td>0</td>\n",
              "      <td>0</td>\n",
              "      <td>0</td>\n",
              "      <td>0</td>\n",
              "      <td>0</td>\n",
              "      <td>0</td>\n",
              "      <td>0</td>\n",
              "      <td>0</td>\n",
              "      <td>1</td>\n",
              "      <td>0</td>\n",
              "      <td>0</td>\n",
              "      <td>0</td>\n",
              "      <td>1</td>\n",
              "      <td>1</td>\n",
              "      <td>0</td>\n",
              "      <td>0</td>\n",
              "      <td>0</td>\n",
              "      <td>0</td>\n",
              "      <td>0</td>\n",
              "      <td>0</td>\n",
              "      <td>0</td>\n",
              "      <td>0</td>\n",
              "      <td>0</td>\n",
              "      <td>0</td>\n",
              "      <td>0</td>\n",
              "      <td>0</td>\n",
              "      <td>1</td>\n",
              "      <td>0</td>\n",
              "      <td>0</td>\n",
              "      <td>0</td>\n",
              "      <td>0</td>\n",
              "      <td>0</td>\n",
              "      <td>1</td>\n",
              "      <td>0</td>\n",
              "      <td>0</td>\n",
              "      <td>0</td>\n",
              "      <td>0</td>\n",
              "      <td>0</td>\n",
              "      <td>0</td>\n",
              "      <td>0</td>\n",
              "      <td>0</td>\n",
              "      <td>0</td>\n",
              "      <td>0</td>\n",
              "      <td>0</td>\n",
              "      <td>0</td>\n",
              "      <td>0</td>\n",
              "      <td>0</td>\n",
              "      <td>0</td>\n",
              "      <td>0</td>\n",
              "      <td>0</td>\n",
              "      <td>0</td>\n",
              "      <td>0</td>\n",
              "      <td>0</td>\n",
              "      <td>0</td>\n",
              "      <td>0</td>\n",
              "      <td>0</td>\n",
              "      <td>0</td>\n",
              "      <td>0</td>\n",
              "      <td>0</td>\n",
              "      <td>0</td>\n",
              "      <td>0</td>\n",
              "      <td>0</td>\n",
              "      <td>0</td>\n",
              "      <td>0</td>\n",
              "      <td>0</td>\n",
              "      <td>0</td>\n",
              "      <td>0</td>\n",
              "      <td>4</td>\n",
              "    </tr>\n",
              "    <tr>\n",
              "      <th>2</th>\n",
              "      <td>198</td>\n",
              "      <td>-6538188762242952077</td>\n",
              "      <td>1</td>\n",
              "      <td>6984152891252102027</td>\n",
              "      <td>1</td>\n",
              "      <td>0</td>\n",
              "      <td>0</td>\n",
              "      <td>0</td>\n",
              "      <td>0</td>\n",
              "      <td>1</td>\n",
              "      <td>0</td>\n",
              "      <td>1</td>\n",
              "      <td>1</td>\n",
              "      <td>0</td>\n",
              "      <td>0</td>\n",
              "      <td>0</td>\n",
              "      <td>0</td>\n",
              "      <td>0</td>\n",
              "      <td>0</td>\n",
              "      <td>0</td>\n",
              "      <td>0</td>\n",
              "      <td>0</td>\n",
              "      <td>0</td>\n",
              "      <td>0</td>\n",
              "      <td>0</td>\n",
              "      <td>0</td>\n",
              "      <td>0</td>\n",
              "      <td>0</td>\n",
              "      <td>0</td>\n",
              "      <td>0</td>\n",
              "      <td>0</td>\n",
              "      <td>0</td>\n",
              "      <td>0</td>\n",
              "      <td>0</td>\n",
              "      <td>0</td>\n",
              "      <td>0</td>\n",
              "      <td>1</td>\n",
              "      <td>0</td>\n",
              "      <td>0</td>\n",
              "      <td>0</td>\n",
              "      <td>0</td>\n",
              "      <td>0</td>\n",
              "      <td>1</td>\n",
              "      <td>0</td>\n",
              "      <td>0</td>\n",
              "      <td>0</td>\n",
              "      <td>0</td>\n",
              "      <td>0</td>\n",
              "      <td>0</td>\n",
              "      <td>0</td>\n",
              "      <td>0</td>\n",
              "      <td>0</td>\n",
              "      <td>0</td>\n",
              "      <td>0</td>\n",
              "      <td>0</td>\n",
              "      <td>0</td>\n",
              "      <td>0</td>\n",
              "      <td>0</td>\n",
              "      <td>0</td>\n",
              "      <td>0</td>\n",
              "      <td>0</td>\n",
              "      <td>0</td>\n",
              "      <td>0</td>\n",
              "      <td>0</td>\n",
              "      <td>0</td>\n",
              "      <td>0</td>\n",
              "      <td>0</td>\n",
              "      <td>0</td>\n",
              "      <td>0</td>\n",
              "      <td>0</td>\n",
              "      <td>0</td>\n",
              "      <td>0</td>\n",
              "      <td>0</td>\n",
              "      <td>0</td>\n",
              "      <td>0</td>\n",
              "      <td>0</td>\n",
              "      <td>0</td>\n",
              "      <td>4</td>\n",
              "    </tr>\n",
              "    <tr>\n",
              "      <th>3</th>\n",
              "      <td>198</td>\n",
              "      <td>-6493194103110420302</td>\n",
              "      <td>0</td>\n",
              "      <td>6984152891252102027</td>\n",
              "      <td>0</td>\n",
              "      <td>0</td>\n",
              "      <td>1</td>\n",
              "      <td>0</td>\n",
              "      <td>0</td>\n",
              "      <td>0</td>\n",
              "      <td>0</td>\n",
              "      <td>0</td>\n",
              "      <td>0</td>\n",
              "      <td>0</td>\n",
              "      <td>0</td>\n",
              "      <td>1</td>\n",
              "      <td>0</td>\n",
              "      <td>0</td>\n",
              "      <td>1</td>\n",
              "      <td>1</td>\n",
              "      <td>0</td>\n",
              "      <td>0</td>\n",
              "      <td>0</td>\n",
              "      <td>1</td>\n",
              "      <td>0</td>\n",
              "      <td>0</td>\n",
              "      <td>0</td>\n",
              "      <td>0</td>\n",
              "      <td>0</td>\n",
              "      <td>0</td>\n",
              "      <td>0</td>\n",
              "      <td>0</td>\n",
              "      <td>0</td>\n",
              "      <td>0</td>\n",
              "      <td>0</td>\n",
              "      <td>0</td>\n",
              "      <td>1</td>\n",
              "      <td>0</td>\n",
              "      <td>0</td>\n",
              "      <td>0</td>\n",
              "      <td>0</td>\n",
              "      <td>0</td>\n",
              "      <td>1</td>\n",
              "      <td>0</td>\n",
              "      <td>0</td>\n",
              "      <td>0</td>\n",
              "      <td>0</td>\n",
              "      <td>0</td>\n",
              "      <td>0</td>\n",
              "      <td>0</td>\n",
              "      <td>0</td>\n",
              "      <td>0</td>\n",
              "      <td>0</td>\n",
              "      <td>0</td>\n",
              "      <td>0</td>\n",
              "      <td>0</td>\n",
              "      <td>0</td>\n",
              "      <td>0</td>\n",
              "      <td>0</td>\n",
              "      <td>0</td>\n",
              "      <td>0</td>\n",
              "      <td>0</td>\n",
              "      <td>0</td>\n",
              "      <td>0</td>\n",
              "      <td>0</td>\n",
              "      <td>0</td>\n",
              "      <td>0</td>\n",
              "      <td>0</td>\n",
              "      <td>0</td>\n",
              "      <td>0</td>\n",
              "      <td>0</td>\n",
              "      <td>0</td>\n",
              "      <td>0</td>\n",
              "      <td>0</td>\n",
              "      <td>0</td>\n",
              "      <td>0</td>\n",
              "      <td>0</td>\n",
              "      <td>4</td>\n",
              "    </tr>\n",
              "    <tr>\n",
              "      <th>4</th>\n",
              "      <td>198</td>\n",
              "      <td>-6349602347932703147</td>\n",
              "      <td>0</td>\n",
              "      <td>6984152891252102027</td>\n",
              "      <td>0</td>\n",
              "      <td>0</td>\n",
              "      <td>0</td>\n",
              "      <td>0</td>\n",
              "      <td>0</td>\n",
              "      <td>0</td>\n",
              "      <td>0</td>\n",
              "      <td>0</td>\n",
              "      <td>0</td>\n",
              "      <td>0</td>\n",
              "      <td>0</td>\n",
              "      <td>1</td>\n",
              "      <td>0</td>\n",
              "      <td>0</td>\n",
              "      <td>1</td>\n",
              "      <td>1</td>\n",
              "      <td>0</td>\n",
              "      <td>0</td>\n",
              "      <td>0</td>\n",
              "      <td>0</td>\n",
              "      <td>0</td>\n",
              "      <td>0</td>\n",
              "      <td>0</td>\n",
              "      <td>0</td>\n",
              "      <td>0</td>\n",
              "      <td>0</td>\n",
              "      <td>0</td>\n",
              "      <td>0</td>\n",
              "      <td>0</td>\n",
              "      <td>0</td>\n",
              "      <td>0</td>\n",
              "      <td>0</td>\n",
              "      <td>1</td>\n",
              "      <td>0</td>\n",
              "      <td>0</td>\n",
              "      <td>0</td>\n",
              "      <td>0</td>\n",
              "      <td>0</td>\n",
              "      <td>1</td>\n",
              "      <td>0</td>\n",
              "      <td>0</td>\n",
              "      <td>0</td>\n",
              "      <td>0</td>\n",
              "      <td>0</td>\n",
              "      <td>0</td>\n",
              "      <td>0</td>\n",
              "      <td>0</td>\n",
              "      <td>0</td>\n",
              "      <td>0</td>\n",
              "      <td>0</td>\n",
              "      <td>0</td>\n",
              "      <td>0</td>\n",
              "      <td>0</td>\n",
              "      <td>0</td>\n",
              "      <td>0</td>\n",
              "      <td>0</td>\n",
              "      <td>0</td>\n",
              "      <td>0</td>\n",
              "      <td>0</td>\n",
              "      <td>0</td>\n",
              "      <td>0</td>\n",
              "      <td>0</td>\n",
              "      <td>0</td>\n",
              "      <td>0</td>\n",
              "      <td>0</td>\n",
              "      <td>0</td>\n",
              "      <td>0</td>\n",
              "      <td>0</td>\n",
              "      <td>0</td>\n",
              "      <td>0</td>\n",
              "      <td>0</td>\n",
              "      <td>0</td>\n",
              "      <td>0</td>\n",
              "      <td>4</td>\n",
              "    </tr>\n",
              "  </tbody>\n",
              "</table>\n",
              "</div>"
            ],
            "text/plain": [
              "   event_id               app_id  ...  device_model_魅蓝metal  num_group\n",
              "0       198 -8807740666788515175  ...                     0          4\n",
              "1       198 -7415261454408512527  ...                     0          4\n",
              "2       198 -6538188762242952077  ...                     0          4\n",
              "3       198 -6493194103110420302  ...                     0          4\n",
              "4       198 -6349602347932703147  ...                     0          4\n",
              "\n",
              "[5 rows x 78 columns]"
            ]
          },
          "metadata": {},
          "execution_count": 2
        }
      ]
    },
    {
      "cell_type": "code",
      "metadata": {
        "id": "rgH9EyuBx4vc"
      },
      "source": [
        "# Dropping AppID as I don't think it will be helpful for our question\n",
        "master_df = master_df.drop(columns=[\"app_id\"])\n"
      ],
      "execution_count": null,
      "outputs": []
    },
    {
      "cell_type": "code",
      "metadata": {
        "id": "Gv0lQw9d_Ryz",
        "colab": {
          "base_uri": "https://localhost:8080/"
        },
        "outputId": "19caea53-4696-42e9-cf8f-1706bd02ec74"
      },
      "source": [
        "\n",
        "master_df[\"num_group\"].value_counts()\n"
      ],
      "execution_count": null,
      "outputs": [
        {
          "output_type": "execute_result",
          "data": {
            "text/plain": [
              "5     2842\n",
              "4     2690\n",
              "3     1366\n",
              "1     1250\n",
              "2      885\n",
              "11     857\n",
              "10     683\n",
              "0      637\n",
              "9      403\n",
              "8      282\n",
              "6      194\n",
              "7      142\n",
              "Name: num_group, dtype: int64"
            ]
          },
          "metadata": {},
          "execution_count": 4
        }
      ]
    },
    {
      "cell_type": "code",
      "metadata": {
        "id": "MUQosOj2Ruc9"
      },
      "source": [
        "numerical_columns = [\"device_id\", \"event_id\"]\n"
      ],
      "execution_count": null,
      "outputs": []
    },
    {
      "cell_type": "markdown",
      "metadata": {
        "id": "d7H2CRIUR2De"
      },
      "source": [
        "# Select K Best"
      ]
    },
    {
      "cell_type": "code",
      "metadata": {
        "id": "w4XtgBQ0R3UQ"
      },
      "source": [
        "# splitting up the data and choosing num_group as target variable\n",
        "X = master_df.drop(columns=[\"num_group\"])\n",
        "y = master_df[\"num_group\"]\n",
        "\n",
        "X_train, X_test, y_train, y_test = train_test_split(\n",
        "    X, y, test_size=0.20, random_state=13, stratify=y\n",
        ")\n"
      ],
      "execution_count": null,
      "outputs": []
    },
    {
      "cell_type": "code",
      "metadata": {
        "id": "nKJHOTOKog3P"
      },
      "source": [
        "# set up preprocessing for pipeline (used to scale features)\n",
        "preprocessing = ColumnTransformer(\n",
        "    [(\"scale\", StandardScaler(), numerical_columns),], remainder=\"passthrough\",\n",
        ")\n",
        "\n"
      ],
      "execution_count": null,
      "outputs": []
    },
    {
      "cell_type": "markdown",
      "metadata": {
        "id": "EnzAyE28o-J3"
      },
      "source": [
        "## Random Forest Classifier"
      ]
    },
    {
      "cell_type": "code",
      "metadata": {
        "colab": {
          "base_uri": "https://localhost:8080/"
        },
        "id": "Eiv56ZWnpKJw",
        "outputId": "f755c8b3-7e58-4baa-fe19-e6a68440f25a"
      },
      "source": [
        "pipeline = Pipeline(\n",
        "    [(\"preprocessing\", preprocessing), (\"rf\", RandomForestClassifier())], verbose=True\n",
        ")\n",
        "\n",
        "pipeline.fit(X_train, y_train)\n"
      ],
      "execution_count": null,
      "outputs": [
        {
          "output_type": "stream",
          "name": "stdout",
          "text": [
            "[Pipeline] ..... (step 1 of 2) Processing preprocessing, total=   0.0s\n",
            "[Pipeline] ................ (step 2 of 2) Processing rf, total=   1.3s\n"
          ]
        },
        {
          "output_type": "execute_result",
          "data": {
            "text/plain": [
              "Pipeline(memory=None,\n",
              "         steps=[('preprocessing',\n",
              "                 ColumnTransformer(n_jobs=None, remainder='passthrough',\n",
              "                                   sparse_threshold=0.3,\n",
              "                                   transformer_weights=None,\n",
              "                                   transformers=[('scale',\n",
              "                                                  StandardScaler(copy=True,\n",
              "                                                                 with_mean=True,\n",
              "                                                                 with_std=True),\n",
              "                                                  ['device_id', 'event_id'])],\n",
              "                                   verbose=False)),\n",
              "                ('rf',\n",
              "                 RandomForestClassifier(bootstrap=True, ccp_alpha=0.0,\n",
              "                                        class_weight=None, criterion='gini',\n",
              "                                        max_depth=None, max_features='auto',\n",
              "                                        max_leaf_nodes=None, max_samples=None,\n",
              "                                        min_impurity_decrease=0.0,\n",
              "                                        min_impurity_split=None,\n",
              "                                        min_samples_leaf=1, min_samples_split=2,\n",
              "                                        min_weight_fraction_leaf=0.0,\n",
              "                                        n_estimators=100, n_jobs=None,\n",
              "                                        oob_score=False, random_state=None,\n",
              "                                        verbose=0, warm_start=False))],\n",
              "         verbose=True)"
            ]
          },
          "metadata": {},
          "execution_count": 8
        }
      ]
    },
    {
      "cell_type": "markdown",
      "metadata": {
        "id": "9hj7H3bOpIgP"
      },
      "source": [
        "Grid search"
      ]
    },
    {
      "cell_type": "code",
      "metadata": {
        "colab": {
          "base_uri": "https://localhost:8080/"
        },
        "id": "z3bn9Euao3eX",
        "outputId": "09cccfe9-1c3e-4214-c7e1-a20ba0196bf3"
      },
      "source": [
        "# Max depth of 50 provides a better score, this is much better than the previous score of around 0.2.\n",
        "# To improve score suggest increasing max depth even more\n",
        "grid = {\n",
        "    \"rf__max_depth\": [50, 70, 90, 110],\n",
        "    \"rf__n_estimators\": [1, 10, 100],\n",
        "    \"rf__min_samples_leaf\": [1, 3, 5, 7],\n",
        "    \"rf__criterion\": [\"gini\"],\n",
        "}\n",
        "\n",
        "model = GridSearchCV(pipeline, grid, n_jobs=-1, verbose=True)\n",
        "model.fit(X_train, y_train)\n"
      ],
      "execution_count": null,
      "outputs": [
        {
          "output_type": "stream",
          "name": "stdout",
          "text": [
            "Fitting 5 folds for each of 48 candidates, totalling 240 fits\n"
          ]
        },
        {
          "output_type": "stream",
          "name": "stderr",
          "text": [
            "[Parallel(n_jobs=-1)]: Using backend LokyBackend with 2 concurrent workers.\n",
            "[Parallel(n_jobs=-1)]: Done  46 tasks      | elapsed:   13.1s\n",
            "[Parallel(n_jobs=-1)]: Done 196 tasks      | elapsed:   52.7s\n",
            "[Parallel(n_jobs=-1)]: Done 240 out of 240 | elapsed:  1.1min finished\n"
          ]
        },
        {
          "output_type": "stream",
          "name": "stdout",
          "text": [
            "[Pipeline] ..... (step 1 of 2) Processing preprocessing, total=   0.0s\n",
            "[Pipeline] ................ (step 2 of 2) Processing rf, total=   1.1s\n"
          ]
        },
        {
          "output_type": "execute_result",
          "data": {
            "text/plain": [
              "GridSearchCV(cv=None, error_score=nan,\n",
              "             estimator=Pipeline(memory=None,\n",
              "                                steps=[('preprocessing',\n",
              "                                        ColumnTransformer(n_jobs=None,\n",
              "                                                          remainder='passthrough',\n",
              "                                                          sparse_threshold=0.3,\n",
              "                                                          transformer_weights=None,\n",
              "                                                          transformers=[('scale',\n",
              "                                                                         StandardScaler(copy=True,\n",
              "                                                                                        with_mean=True,\n",
              "                                                                                        with_std=True),\n",
              "                                                                         ['device_id',\n",
              "                                                                          'event_id'])],\n",
              "                                                          verbose=False)),\n",
              "                                       ('rf',\n",
              "                                        RandomForestClassifier(bootstra...\n",
              "                                                               n_estimators=100,\n",
              "                                                               n_jobs=None,\n",
              "                                                               oob_score=False,\n",
              "                                                               random_state=None,\n",
              "                                                               verbose=0,\n",
              "                                                               warm_start=False))],\n",
              "                                verbose=True),\n",
              "             iid='deprecated', n_jobs=-1,\n",
              "             param_grid={'rf__criterion': ['gini'],\n",
              "                         'rf__max_depth': [50, 70, 90, 110],\n",
              "                         'rf__min_samples_leaf': [1, 3, 5, 7],\n",
              "                         'rf__n_estimators': [1, 10, 100]},\n",
              "             pre_dispatch='2*n_jobs', refit=True, return_train_score=False,\n",
              "             scoring=None, verbose=True)"
            ]
          },
          "metadata": {},
          "execution_count": 9
        }
      ]
    },
    {
      "cell_type": "code",
      "metadata": {
        "colab": {
          "base_uri": "https://localhost:8080/"
        },
        "id": "tkQEYIt-pYkX",
        "outputId": "ef818edc-1970-4182-b8f6-b09d448397e9"
      },
      "source": [
        "model.best_params_\n"
      ],
      "execution_count": null,
      "outputs": [
        {
          "output_type": "execute_result",
          "data": {
            "text/plain": [
              "{'rf__criterion': 'gini',\n",
              " 'rf__max_depth': 50,\n",
              " 'rf__min_samples_leaf': 1,\n",
              " 'rf__n_estimators': 100}"
            ]
          },
          "metadata": {},
          "execution_count": 10
        }
      ]
    },
    {
      "cell_type": "code",
      "metadata": {
        "colab": {
          "base_uri": "https://localhost:8080/"
        },
        "id": "cb5SPrB4pY2o",
        "outputId": "a5031107-c503-45ac-a999-ad27a31b037d"
      },
      "source": [
        "# Model still appears to be extremely overfitting\n",
        "train_score = model.score(X_train, y_train)\n",
        "test_score = model.score(X_test, y_test)\n",
        "\n",
        "print(f\"Train score: {train_score}\")\n",
        "print(f\"Test score: {test_score}\")\n"
      ],
      "execution_count": null,
      "outputs": [
        {
          "output_type": "stream",
          "name": "stdout",
          "text": [
            "Train score: 1.0\n",
            "Test score: 0.9852881078872088\n"
          ]
        }
      ]
    },
    {
      "cell_type": "code",
      "metadata": {
        "colab": {
          "base_uri": "https://localhost:8080/",
          "height": 416
        },
        "id": "mVKdw7tDqbuP",
        "outputId": "babf2680-baa8-463c-e55a-1c7b5340922d"
      },
      "source": [
        "y_pred = model.predict(X_test)\n",
        "\n",
        "con_mat = pd.DataFrame(\n",
        "    confusion_matrix(y_test, y_pred),\n",
        "    index=[\n",
        "        \"Actual M22-\",\n",
        "        \"Actual M23-26\",\n",
        "        \"Actual M27-28\",\n",
        "        \"Actual M29-31\",\n",
        "        \"Actual M32-38\",\n",
        "        \"Actual M39+\",\n",
        "        \"Actual F23-\",\n",
        "        \"Actual F24-26\",\n",
        "        \"Actual F27-28\",\n",
        "        \"Actual F29-32\",\n",
        "        \"Actual F33-42\",\n",
        "        \"Actual F43+\",\n",
        "    ],\n",
        "    columns=[\n",
        "        \"Predicted M22-\",\n",
        "        \"Predicted M23-26\",\n",
        "        \"Predicted M27-28\",\n",
        "        \"Predicted M29-31\",\n",
        "        \"Predicted M32-38\",\n",
        "        \"Predicted M39+\",\n",
        "        \"Predicted F23-\",\n",
        "        \"Predicted F24-26\",\n",
        "        \"Predicted F27-28\",\n",
        "        \"Predicted F29-32\",\n",
        "        \"Predicted F33-42\",\n",
        "        \"Predicted F43+\",\n",
        "    ],\n",
        ")\n",
        "con_mat.style.background_gradient(axis=None)\n",
        "\n",
        "\n"
      ],
      "execution_count": null,
      "outputs": [
        {
          "output_type": "execute_result",
          "data": {
            "text/html": [
              "<style  type=\"text/css\" >\n",
              "#T_8e235616_40c2_11ec_8465_0242ac1c0002row0_col0{\n",
              "            background-color:  #d7d6e9;\n",
              "            color:  #000000;\n",
              "        }#T_8e235616_40c2_11ec_8465_0242ac1c0002row0_col1,#T_8e235616_40c2_11ec_8465_0242ac1c0002row0_col2,#T_8e235616_40c2_11ec_8465_0242ac1c0002row0_col3,#T_8e235616_40c2_11ec_8465_0242ac1c0002row0_col4,#T_8e235616_40c2_11ec_8465_0242ac1c0002row0_col5,#T_8e235616_40c2_11ec_8465_0242ac1c0002row0_col6,#T_8e235616_40c2_11ec_8465_0242ac1c0002row0_col7,#T_8e235616_40c2_11ec_8465_0242ac1c0002row0_col8,#T_8e235616_40c2_11ec_8465_0242ac1c0002row0_col9,#T_8e235616_40c2_11ec_8465_0242ac1c0002row0_col10,#T_8e235616_40c2_11ec_8465_0242ac1c0002row0_col11,#T_8e235616_40c2_11ec_8465_0242ac1c0002row1_col0,#T_8e235616_40c2_11ec_8465_0242ac1c0002row1_col2,#T_8e235616_40c2_11ec_8465_0242ac1c0002row1_col3,#T_8e235616_40c2_11ec_8465_0242ac1c0002row1_col4,#T_8e235616_40c2_11ec_8465_0242ac1c0002row1_col5,#T_8e235616_40c2_11ec_8465_0242ac1c0002row1_col6,#T_8e235616_40c2_11ec_8465_0242ac1c0002row1_col7,#T_8e235616_40c2_11ec_8465_0242ac1c0002row1_col8,#T_8e235616_40c2_11ec_8465_0242ac1c0002row1_col9,#T_8e235616_40c2_11ec_8465_0242ac1c0002row1_col10,#T_8e235616_40c2_11ec_8465_0242ac1c0002row1_col11,#T_8e235616_40c2_11ec_8465_0242ac1c0002row2_col0,#T_8e235616_40c2_11ec_8465_0242ac1c0002row2_col1,#T_8e235616_40c2_11ec_8465_0242ac1c0002row2_col3,#T_8e235616_40c2_11ec_8465_0242ac1c0002row2_col4,#T_8e235616_40c2_11ec_8465_0242ac1c0002row2_col5,#T_8e235616_40c2_11ec_8465_0242ac1c0002row2_col6,#T_8e235616_40c2_11ec_8465_0242ac1c0002row2_col7,#T_8e235616_40c2_11ec_8465_0242ac1c0002row2_col8,#T_8e235616_40c2_11ec_8465_0242ac1c0002row2_col9,#T_8e235616_40c2_11ec_8465_0242ac1c0002row2_col10,#T_8e235616_40c2_11ec_8465_0242ac1c0002row2_col11,#T_8e235616_40c2_11ec_8465_0242ac1c0002row3_col0,#T_8e235616_40c2_11ec_8465_0242ac1c0002row3_col1,#T_8e235616_40c2_11ec_8465_0242ac1c0002row3_col2,#T_8e235616_40c2_11ec_8465_0242ac1c0002row3_col5,#T_8e235616_40c2_11ec_8465_0242ac1c0002row3_col6,#T_8e235616_40c2_11ec_8465_0242ac1c0002row3_col7,#T_8e235616_40c2_11ec_8465_0242ac1c0002row3_col8,#T_8e235616_40c2_11ec_8465_0242ac1c0002row3_col9,#T_8e235616_40c2_11ec_8465_0242ac1c0002row3_col10,#T_8e235616_40c2_11ec_8465_0242ac1c0002row3_col11,#T_8e235616_40c2_11ec_8465_0242ac1c0002row4_col0,#T_8e235616_40c2_11ec_8465_0242ac1c0002row4_col1,#T_8e235616_40c2_11ec_8465_0242ac1c0002row4_col2,#T_8e235616_40c2_11ec_8465_0242ac1c0002row4_col3,#T_8e235616_40c2_11ec_8465_0242ac1c0002row4_col5,#T_8e235616_40c2_11ec_8465_0242ac1c0002row4_col6,#T_8e235616_40c2_11ec_8465_0242ac1c0002row4_col7,#T_8e235616_40c2_11ec_8465_0242ac1c0002row4_col8,#T_8e235616_40c2_11ec_8465_0242ac1c0002row4_col9,#T_8e235616_40c2_11ec_8465_0242ac1c0002row4_col10,#T_8e235616_40c2_11ec_8465_0242ac1c0002row4_col11,#T_8e235616_40c2_11ec_8465_0242ac1c0002row5_col0,#T_8e235616_40c2_11ec_8465_0242ac1c0002row5_col1,#T_8e235616_40c2_11ec_8465_0242ac1c0002row5_col2,#T_8e235616_40c2_11ec_8465_0242ac1c0002row5_col3,#T_8e235616_40c2_11ec_8465_0242ac1c0002row5_col4,#T_8e235616_40c2_11ec_8465_0242ac1c0002row5_col6,#T_8e235616_40c2_11ec_8465_0242ac1c0002row5_col7,#T_8e235616_40c2_11ec_8465_0242ac1c0002row5_col8,#T_8e235616_40c2_11ec_8465_0242ac1c0002row5_col9,#T_8e235616_40c2_11ec_8465_0242ac1c0002row5_col10,#T_8e235616_40c2_11ec_8465_0242ac1c0002row5_col11,#T_8e235616_40c2_11ec_8465_0242ac1c0002row6_col0,#T_8e235616_40c2_11ec_8465_0242ac1c0002row6_col1,#T_8e235616_40c2_11ec_8465_0242ac1c0002row6_col2,#T_8e235616_40c2_11ec_8465_0242ac1c0002row6_col3,#T_8e235616_40c2_11ec_8465_0242ac1c0002row6_col4,#T_8e235616_40c2_11ec_8465_0242ac1c0002row6_col5,#T_8e235616_40c2_11ec_8465_0242ac1c0002row6_col7,#T_8e235616_40c2_11ec_8465_0242ac1c0002row6_col8,#T_8e235616_40c2_11ec_8465_0242ac1c0002row6_col9,#T_8e235616_40c2_11ec_8465_0242ac1c0002row6_col10,#T_8e235616_40c2_11ec_8465_0242ac1c0002row6_col11,#T_8e235616_40c2_11ec_8465_0242ac1c0002row7_col0,#T_8e235616_40c2_11ec_8465_0242ac1c0002row7_col1,#T_8e235616_40c2_11ec_8465_0242ac1c0002row7_col2,#T_8e235616_40c2_11ec_8465_0242ac1c0002row7_col3,#T_8e235616_40c2_11ec_8465_0242ac1c0002row7_col4,#T_8e235616_40c2_11ec_8465_0242ac1c0002row7_col5,#T_8e235616_40c2_11ec_8465_0242ac1c0002row7_col6,#T_8e235616_40c2_11ec_8465_0242ac1c0002row7_col8,#T_8e235616_40c2_11ec_8465_0242ac1c0002row7_col9,#T_8e235616_40c2_11ec_8465_0242ac1c0002row7_col10,#T_8e235616_40c2_11ec_8465_0242ac1c0002row7_col11,#T_8e235616_40c2_11ec_8465_0242ac1c0002row8_col0,#T_8e235616_40c2_11ec_8465_0242ac1c0002row8_col1,#T_8e235616_40c2_11ec_8465_0242ac1c0002row8_col2,#T_8e235616_40c2_11ec_8465_0242ac1c0002row8_col3,#T_8e235616_40c2_11ec_8465_0242ac1c0002row8_col4,#T_8e235616_40c2_11ec_8465_0242ac1c0002row8_col5,#T_8e235616_40c2_11ec_8465_0242ac1c0002row8_col6,#T_8e235616_40c2_11ec_8465_0242ac1c0002row8_col7,#T_8e235616_40c2_11ec_8465_0242ac1c0002row8_col9,#T_8e235616_40c2_11ec_8465_0242ac1c0002row8_col10,#T_8e235616_40c2_11ec_8465_0242ac1c0002row8_col11,#T_8e235616_40c2_11ec_8465_0242ac1c0002row9_col0,#T_8e235616_40c2_11ec_8465_0242ac1c0002row9_col1,#T_8e235616_40c2_11ec_8465_0242ac1c0002row9_col2,#T_8e235616_40c2_11ec_8465_0242ac1c0002row9_col3,#T_8e235616_40c2_11ec_8465_0242ac1c0002row9_col4,#T_8e235616_40c2_11ec_8465_0242ac1c0002row9_col5,#T_8e235616_40c2_11ec_8465_0242ac1c0002row9_col6,#T_8e235616_40c2_11ec_8465_0242ac1c0002row9_col7,#T_8e235616_40c2_11ec_8465_0242ac1c0002row9_col8,#T_8e235616_40c2_11ec_8465_0242ac1c0002row9_col10,#T_8e235616_40c2_11ec_8465_0242ac1c0002row9_col11,#T_8e235616_40c2_11ec_8465_0242ac1c0002row10_col0,#T_8e235616_40c2_11ec_8465_0242ac1c0002row10_col1,#T_8e235616_40c2_11ec_8465_0242ac1c0002row10_col2,#T_8e235616_40c2_11ec_8465_0242ac1c0002row10_col3,#T_8e235616_40c2_11ec_8465_0242ac1c0002row10_col4,#T_8e235616_40c2_11ec_8465_0242ac1c0002row10_col5,#T_8e235616_40c2_11ec_8465_0242ac1c0002row10_col6,#T_8e235616_40c2_11ec_8465_0242ac1c0002row10_col7,#T_8e235616_40c2_11ec_8465_0242ac1c0002row10_col8,#T_8e235616_40c2_11ec_8465_0242ac1c0002row10_col9,#T_8e235616_40c2_11ec_8465_0242ac1c0002row10_col11,#T_8e235616_40c2_11ec_8465_0242ac1c0002row11_col0,#T_8e235616_40c2_11ec_8465_0242ac1c0002row11_col1,#T_8e235616_40c2_11ec_8465_0242ac1c0002row11_col2,#T_8e235616_40c2_11ec_8465_0242ac1c0002row11_col3,#T_8e235616_40c2_11ec_8465_0242ac1c0002row11_col5,#T_8e235616_40c2_11ec_8465_0242ac1c0002row11_col6,#T_8e235616_40c2_11ec_8465_0242ac1c0002row11_col7,#T_8e235616_40c2_11ec_8465_0242ac1c0002row11_col8,#T_8e235616_40c2_11ec_8465_0242ac1c0002row11_col9,#T_8e235616_40c2_11ec_8465_0242ac1c0002row11_col10{\n",
              "            background-color:  #fff7fb;\n",
              "            color:  #000000;\n",
              "        }#T_8e235616_40c2_11ec_8465_0242ac1c0002row1_col1{\n",
              "            background-color:  #8cb3d5;\n",
              "            color:  #000000;\n",
              "        }#T_8e235616_40c2_11ec_8465_0242ac1c0002row2_col2{\n",
              "            background-color:  #bcc7e1;\n",
              "            color:  #000000;\n",
              "        }#T_8e235616_40c2_11ec_8465_0242ac1c0002row3_col3{\n",
              "            background-color:  #83afd3;\n",
              "            color:  #000000;\n",
              "        }#T_8e235616_40c2_11ec_8465_0242ac1c0002row3_col4,#T_8e235616_40c2_11ec_8465_0242ac1c0002row11_col4{\n",
              "            background-color:  #fef6fb;\n",
              "            color:  #000000;\n",
              "        }#T_8e235616_40c2_11ec_8465_0242ac1c0002row4_col4{\n",
              "            background-color:  #03476f;\n",
              "            color:  #f1f1f1;\n",
              "        }#T_8e235616_40c2_11ec_8465_0242ac1c0002row5_col5{\n",
              "            background-color:  #023858;\n",
              "            color:  #f1f1f1;\n",
              "        }#T_8e235616_40c2_11ec_8465_0242ac1c0002row6_col6{\n",
              "            background-color:  #f5eef6;\n",
              "            color:  #000000;\n",
              "        }#T_8e235616_40c2_11ec_8465_0242ac1c0002row7_col7{\n",
              "            background-color:  #f8f1f8;\n",
              "            color:  #000000;\n",
              "        }#T_8e235616_40c2_11ec_8465_0242ac1c0002row8_col8{\n",
              "            background-color:  #f1ebf4;\n",
              "            color:  #000000;\n",
              "        }#T_8e235616_40c2_11ec_8465_0242ac1c0002row9_col9{\n",
              "            background-color:  #e9e5f1;\n",
              "            color:  #000000;\n",
              "        }#T_8e235616_40c2_11ec_8465_0242ac1c0002row10_col10{\n",
              "            background-color:  #d2d3e7;\n",
              "            color:  #000000;\n",
              "        }#T_8e235616_40c2_11ec_8465_0242ac1c0002row11_col11{\n",
              "            background-color:  #c2cbe2;\n",
              "            color:  #000000;\n",
              "        }</style><table id=\"T_8e235616_40c2_11ec_8465_0242ac1c0002\" class=\"dataframe\"><thead>    <tr>        <th class=\"blank level0\" ></th>        <th class=\"col_heading level0 col0\" >Predicted M22-</th>        <th class=\"col_heading level0 col1\" >Predicted M23-26</th>        <th class=\"col_heading level0 col2\" >Predicted M27-28</th>        <th class=\"col_heading level0 col3\" >Predicted M29-31</th>        <th class=\"col_heading level0 col4\" >Predicted M32-38</th>        <th class=\"col_heading level0 col5\" >Predicted M39+</th>        <th class=\"col_heading level0 col6\" >Predicted F23-</th>        <th class=\"col_heading level0 col7\" >Predicted F24-26</th>        <th class=\"col_heading level0 col8\" >Predicted F27-28</th>        <th class=\"col_heading level0 col9\" >Predicted F29-32</th>        <th class=\"col_heading level0 col10\" >Predicted F33-42</th>        <th class=\"col_heading level0 col11\" >Predicted F43+</th>    </tr></thead><tbody>\n",
              "                <tr>\n",
              "                        <th id=\"T_8e235616_40c2_11ec_8465_0242ac1c0002level0_row0\" class=\"row_heading level0 row0\" >Actual M22-</th>\n",
              "                        <td id=\"T_8e235616_40c2_11ec_8465_0242ac1c0002row0_col0\" class=\"data row0 col0\" >125</td>\n",
              "                        <td id=\"T_8e235616_40c2_11ec_8465_0242ac1c0002row0_col1\" class=\"data row0 col1\" >0</td>\n",
              "                        <td id=\"T_8e235616_40c2_11ec_8465_0242ac1c0002row0_col2\" class=\"data row0 col2\" >0</td>\n",
              "                        <td id=\"T_8e235616_40c2_11ec_8465_0242ac1c0002row0_col3\" class=\"data row0 col3\" >1</td>\n",
              "                        <td id=\"T_8e235616_40c2_11ec_8465_0242ac1c0002row0_col4\" class=\"data row0 col4\" >0</td>\n",
              "                        <td id=\"T_8e235616_40c2_11ec_8465_0242ac1c0002row0_col5\" class=\"data row0 col5\" >1</td>\n",
              "                        <td id=\"T_8e235616_40c2_11ec_8465_0242ac1c0002row0_col6\" class=\"data row0 col6\" >0</td>\n",
              "                        <td id=\"T_8e235616_40c2_11ec_8465_0242ac1c0002row0_col7\" class=\"data row0 col7\" >0</td>\n",
              "                        <td id=\"T_8e235616_40c2_11ec_8465_0242ac1c0002row0_col8\" class=\"data row0 col8\" >0</td>\n",
              "                        <td id=\"T_8e235616_40c2_11ec_8465_0242ac1c0002row0_col9\" class=\"data row0 col9\" >0</td>\n",
              "                        <td id=\"T_8e235616_40c2_11ec_8465_0242ac1c0002row0_col10\" class=\"data row0 col10\" >0</td>\n",
              "                        <td id=\"T_8e235616_40c2_11ec_8465_0242ac1c0002row0_col11\" class=\"data row0 col11\" >0</td>\n",
              "            </tr>\n",
              "            <tr>\n",
              "                        <th id=\"T_8e235616_40c2_11ec_8465_0242ac1c0002level0_row1\" class=\"row_heading level0 row1\" >Actual M23-26</th>\n",
              "                        <td id=\"T_8e235616_40c2_11ec_8465_0242ac1c0002row1_col0\" class=\"data row1 col0\" >0</td>\n",
              "                        <td id=\"T_8e235616_40c2_11ec_8465_0242ac1c0002row1_col1\" class=\"data row1 col1\" >248</td>\n",
              "                        <td id=\"T_8e235616_40c2_11ec_8465_0242ac1c0002row1_col2\" class=\"data row1 col2\" >0</td>\n",
              "                        <td id=\"T_8e235616_40c2_11ec_8465_0242ac1c0002row1_col3\" class=\"data row1 col3\" >0</td>\n",
              "                        <td id=\"T_8e235616_40c2_11ec_8465_0242ac1c0002row1_col4\" class=\"data row1 col4\" >1</td>\n",
              "                        <td id=\"T_8e235616_40c2_11ec_8465_0242ac1c0002row1_col5\" class=\"data row1 col5\" >0</td>\n",
              "                        <td id=\"T_8e235616_40c2_11ec_8465_0242ac1c0002row1_col6\" class=\"data row1 col6\" >0</td>\n",
              "                        <td id=\"T_8e235616_40c2_11ec_8465_0242ac1c0002row1_col7\" class=\"data row1 col7\" >0</td>\n",
              "                        <td id=\"T_8e235616_40c2_11ec_8465_0242ac1c0002row1_col8\" class=\"data row1 col8\" >0</td>\n",
              "                        <td id=\"T_8e235616_40c2_11ec_8465_0242ac1c0002row1_col9\" class=\"data row1 col9\" >1</td>\n",
              "                        <td id=\"T_8e235616_40c2_11ec_8465_0242ac1c0002row1_col10\" class=\"data row1 col10\" >0</td>\n",
              "                        <td id=\"T_8e235616_40c2_11ec_8465_0242ac1c0002row1_col11\" class=\"data row1 col11\" >0</td>\n",
              "            </tr>\n",
              "            <tr>\n",
              "                        <th id=\"T_8e235616_40c2_11ec_8465_0242ac1c0002level0_row2\" class=\"row_heading level0 row2\" >Actual M27-28</th>\n",
              "                        <td id=\"T_8e235616_40c2_11ec_8465_0242ac1c0002row2_col0\" class=\"data row2 col0\" >0</td>\n",
              "                        <td id=\"T_8e235616_40c2_11ec_8465_0242ac1c0002row2_col1\" class=\"data row2 col1\" >0</td>\n",
              "                        <td id=\"T_8e235616_40c2_11ec_8465_0242ac1c0002row2_col2\" class=\"data row2 col2\" >175</td>\n",
              "                        <td id=\"T_8e235616_40c2_11ec_8465_0242ac1c0002row2_col3\" class=\"data row2 col3\" >0</td>\n",
              "                        <td id=\"T_8e235616_40c2_11ec_8465_0242ac1c0002row2_col4\" class=\"data row2 col4\" >1</td>\n",
              "                        <td id=\"T_8e235616_40c2_11ec_8465_0242ac1c0002row2_col5\" class=\"data row2 col5\" >1</td>\n",
              "                        <td id=\"T_8e235616_40c2_11ec_8465_0242ac1c0002row2_col6\" class=\"data row2 col6\" >0</td>\n",
              "                        <td id=\"T_8e235616_40c2_11ec_8465_0242ac1c0002row2_col7\" class=\"data row2 col7\" >0</td>\n",
              "                        <td id=\"T_8e235616_40c2_11ec_8465_0242ac1c0002row2_col8\" class=\"data row2 col8\" >0</td>\n",
              "                        <td id=\"T_8e235616_40c2_11ec_8465_0242ac1c0002row2_col9\" class=\"data row2 col9\" >0</td>\n",
              "                        <td id=\"T_8e235616_40c2_11ec_8465_0242ac1c0002row2_col10\" class=\"data row2 col10\" >0</td>\n",
              "                        <td id=\"T_8e235616_40c2_11ec_8465_0242ac1c0002row2_col11\" class=\"data row2 col11\" >0</td>\n",
              "            </tr>\n",
              "            <tr>\n",
              "                        <th id=\"T_8e235616_40c2_11ec_8465_0242ac1c0002level0_row3\" class=\"row_heading level0 row3\" >Actual M29-31</th>\n",
              "                        <td id=\"T_8e235616_40c2_11ec_8465_0242ac1c0002row3_col0\" class=\"data row3 col0\" >2</td>\n",
              "                        <td id=\"T_8e235616_40c2_11ec_8465_0242ac1c0002row3_col1\" class=\"data row3 col1\" >1</td>\n",
              "                        <td id=\"T_8e235616_40c2_11ec_8465_0242ac1c0002row3_col2\" class=\"data row3 col2\" >0</td>\n",
              "                        <td id=\"T_8e235616_40c2_11ec_8465_0242ac1c0002row3_col3\" class=\"data row3 col3\" >263</td>\n",
              "                        <td id=\"T_8e235616_40c2_11ec_8465_0242ac1c0002row3_col4\" class=\"data row3 col4\" >4</td>\n",
              "                        <td id=\"T_8e235616_40c2_11ec_8465_0242ac1c0002row3_col5\" class=\"data row3 col5\" >1</td>\n",
              "                        <td id=\"T_8e235616_40c2_11ec_8465_0242ac1c0002row3_col6\" class=\"data row3 col6\" >0</td>\n",
              "                        <td id=\"T_8e235616_40c2_11ec_8465_0242ac1c0002row3_col7\" class=\"data row3 col7\" >0</td>\n",
              "                        <td id=\"T_8e235616_40c2_11ec_8465_0242ac1c0002row3_col8\" class=\"data row3 col8\" >0</td>\n",
              "                        <td id=\"T_8e235616_40c2_11ec_8465_0242ac1c0002row3_col9\" class=\"data row3 col9\" >0</td>\n",
              "                        <td id=\"T_8e235616_40c2_11ec_8465_0242ac1c0002row3_col10\" class=\"data row3 col10\" >0</td>\n",
              "                        <td id=\"T_8e235616_40c2_11ec_8465_0242ac1c0002row3_col11\" class=\"data row3 col11\" >2</td>\n",
              "            </tr>\n",
              "            <tr>\n",
              "                        <th id=\"T_8e235616_40c2_11ec_8465_0242ac1c0002level0_row4\" class=\"row_heading level0 row4\" >Actual M32-38</th>\n",
              "                        <td id=\"T_8e235616_40c2_11ec_8465_0242ac1c0002row4_col0\" class=\"data row4 col0\" >0</td>\n",
              "                        <td id=\"T_8e235616_40c2_11ec_8465_0242ac1c0002row4_col1\" class=\"data row4 col1\" >0</td>\n",
              "                        <td id=\"T_8e235616_40c2_11ec_8465_0242ac1c0002row4_col2\" class=\"data row4 col2\" >0</td>\n",
              "                        <td id=\"T_8e235616_40c2_11ec_8465_0242ac1c0002row4_col3\" class=\"data row4 col3\" >0</td>\n",
              "                        <td id=\"T_8e235616_40c2_11ec_8465_0242ac1c0002row4_col4\" class=\"data row4 col4\" >535</td>\n",
              "                        <td id=\"T_8e235616_40c2_11ec_8465_0242ac1c0002row4_col5\" class=\"data row4 col5\" >2</td>\n",
              "                        <td id=\"T_8e235616_40c2_11ec_8465_0242ac1c0002row4_col6\" class=\"data row4 col6\" >0</td>\n",
              "                        <td id=\"T_8e235616_40c2_11ec_8465_0242ac1c0002row4_col7\" class=\"data row4 col7\" >1</td>\n",
              "                        <td id=\"T_8e235616_40c2_11ec_8465_0242ac1c0002row4_col8\" class=\"data row4 col8\" >0</td>\n",
              "                        <td id=\"T_8e235616_40c2_11ec_8465_0242ac1c0002row4_col9\" class=\"data row4 col9\" >0</td>\n",
              "                        <td id=\"T_8e235616_40c2_11ec_8465_0242ac1c0002row4_col10\" class=\"data row4 col10\" >0</td>\n",
              "                        <td id=\"T_8e235616_40c2_11ec_8465_0242ac1c0002row4_col11\" class=\"data row4 col11\" >0</td>\n",
              "            </tr>\n",
              "            <tr>\n",
              "                        <th id=\"T_8e235616_40c2_11ec_8465_0242ac1c0002level0_row5\" class=\"row_heading level0 row5\" >Actual M39+</th>\n",
              "                        <td id=\"T_8e235616_40c2_11ec_8465_0242ac1c0002row5_col0\" class=\"data row5 col0\" >0</td>\n",
              "                        <td id=\"T_8e235616_40c2_11ec_8465_0242ac1c0002row5_col1\" class=\"data row5 col1\" >1</td>\n",
              "                        <td id=\"T_8e235616_40c2_11ec_8465_0242ac1c0002row5_col2\" class=\"data row5 col2\" >1</td>\n",
              "                        <td id=\"T_8e235616_40c2_11ec_8465_0242ac1c0002row5_col3\" class=\"data row5 col3\" >0</td>\n",
              "                        <td id=\"T_8e235616_40c2_11ec_8465_0242ac1c0002row5_col4\" class=\"data row5 col4\" >0</td>\n",
              "                        <td id=\"T_8e235616_40c2_11ec_8465_0242ac1c0002row5_col5\" class=\"data row5 col5\" >566</td>\n",
              "                        <td id=\"T_8e235616_40c2_11ec_8465_0242ac1c0002row5_col6\" class=\"data row5 col6\" >0</td>\n",
              "                        <td id=\"T_8e235616_40c2_11ec_8465_0242ac1c0002row5_col7\" class=\"data row5 col7\" >0</td>\n",
              "                        <td id=\"T_8e235616_40c2_11ec_8465_0242ac1c0002row5_col8\" class=\"data row5 col8\" >0</td>\n",
              "                        <td id=\"T_8e235616_40c2_11ec_8465_0242ac1c0002row5_col9\" class=\"data row5 col9\" >0</td>\n",
              "                        <td id=\"T_8e235616_40c2_11ec_8465_0242ac1c0002row5_col10\" class=\"data row5 col10\" >1</td>\n",
              "                        <td id=\"T_8e235616_40c2_11ec_8465_0242ac1c0002row5_col11\" class=\"data row5 col11\" >0</td>\n",
              "            </tr>\n",
              "            <tr>\n",
              "                        <th id=\"T_8e235616_40c2_11ec_8465_0242ac1c0002level0_row6\" class=\"row_heading level0 row6\" >Actual F23-</th>\n",
              "                        <td id=\"T_8e235616_40c2_11ec_8465_0242ac1c0002row6_col0\" class=\"data row6 col0\" >0</td>\n",
              "                        <td id=\"T_8e235616_40c2_11ec_8465_0242ac1c0002row6_col1\" class=\"data row6 col1\" >0</td>\n",
              "                        <td id=\"T_8e235616_40c2_11ec_8465_0242ac1c0002row6_col2\" class=\"data row6 col2\" >0</td>\n",
              "                        <td id=\"T_8e235616_40c2_11ec_8465_0242ac1c0002row6_col3\" class=\"data row6 col3\" >1</td>\n",
              "                        <td id=\"T_8e235616_40c2_11ec_8465_0242ac1c0002row6_col4\" class=\"data row6 col4\" >0</td>\n",
              "                        <td id=\"T_8e235616_40c2_11ec_8465_0242ac1c0002row6_col5\" class=\"data row6 col5\" >0</td>\n",
              "                        <td id=\"T_8e235616_40c2_11ec_8465_0242ac1c0002row6_col6\" class=\"data row6 col6\" >38</td>\n",
              "                        <td id=\"T_8e235616_40c2_11ec_8465_0242ac1c0002row6_col7\" class=\"data row6 col7\" >0</td>\n",
              "                        <td id=\"T_8e235616_40c2_11ec_8465_0242ac1c0002row6_col8\" class=\"data row6 col8\" >0</td>\n",
              "                        <td id=\"T_8e235616_40c2_11ec_8465_0242ac1c0002row6_col9\" class=\"data row6 col9\" >0</td>\n",
              "                        <td id=\"T_8e235616_40c2_11ec_8465_0242ac1c0002row6_col10\" class=\"data row6 col10\" >0</td>\n",
              "                        <td id=\"T_8e235616_40c2_11ec_8465_0242ac1c0002row6_col11\" class=\"data row6 col11\" >0</td>\n",
              "            </tr>\n",
              "            <tr>\n",
              "                        <th id=\"T_8e235616_40c2_11ec_8465_0242ac1c0002level0_row7\" class=\"row_heading level0 row7\" >Actual F24-26</th>\n",
              "                        <td id=\"T_8e235616_40c2_11ec_8465_0242ac1c0002row7_col0\" class=\"data row7 col0\" >0</td>\n",
              "                        <td id=\"T_8e235616_40c2_11ec_8465_0242ac1c0002row7_col1\" class=\"data row7 col1\" >0</td>\n",
              "                        <td id=\"T_8e235616_40c2_11ec_8465_0242ac1c0002row7_col2\" class=\"data row7 col2\" >0</td>\n",
              "                        <td id=\"T_8e235616_40c2_11ec_8465_0242ac1c0002row7_col3\" class=\"data row7 col3\" >0</td>\n",
              "                        <td id=\"T_8e235616_40c2_11ec_8465_0242ac1c0002row7_col4\" class=\"data row7 col4\" >2</td>\n",
              "                        <td id=\"T_8e235616_40c2_11ec_8465_0242ac1c0002row7_col5\" class=\"data row7 col5\" >0</td>\n",
              "                        <td id=\"T_8e235616_40c2_11ec_8465_0242ac1c0002row7_col6\" class=\"data row7 col6\" >0</td>\n",
              "                        <td id=\"T_8e235616_40c2_11ec_8465_0242ac1c0002row7_col7\" class=\"data row7 col7\" >26</td>\n",
              "                        <td id=\"T_8e235616_40c2_11ec_8465_0242ac1c0002row7_col8\" class=\"data row7 col8\" >0</td>\n",
              "                        <td id=\"T_8e235616_40c2_11ec_8465_0242ac1c0002row7_col9\" class=\"data row7 col9\" >0</td>\n",
              "                        <td id=\"T_8e235616_40c2_11ec_8465_0242ac1c0002row7_col10\" class=\"data row7 col10\" >0</td>\n",
              "                        <td id=\"T_8e235616_40c2_11ec_8465_0242ac1c0002row7_col11\" class=\"data row7 col11\" >0</td>\n",
              "            </tr>\n",
              "            <tr>\n",
              "                        <th id=\"T_8e235616_40c2_11ec_8465_0242ac1c0002level0_row8\" class=\"row_heading level0 row8\" >Actual F27-28</th>\n",
              "                        <td id=\"T_8e235616_40c2_11ec_8465_0242ac1c0002row8_col0\" class=\"data row8 col0\" >0</td>\n",
              "                        <td id=\"T_8e235616_40c2_11ec_8465_0242ac1c0002row8_col1\" class=\"data row8 col1\" >1</td>\n",
              "                        <td id=\"T_8e235616_40c2_11ec_8465_0242ac1c0002row8_col2\" class=\"data row8 col2\" >0</td>\n",
              "                        <td id=\"T_8e235616_40c2_11ec_8465_0242ac1c0002row8_col3\" class=\"data row8 col3\" >0</td>\n",
              "                        <td id=\"T_8e235616_40c2_11ec_8465_0242ac1c0002row8_col4\" class=\"data row8 col4\" >0</td>\n",
              "                        <td id=\"T_8e235616_40c2_11ec_8465_0242ac1c0002row8_col5\" class=\"data row8 col5\" >1</td>\n",
              "                        <td id=\"T_8e235616_40c2_11ec_8465_0242ac1c0002row8_col6\" class=\"data row8 col6\" >0</td>\n",
              "                        <td id=\"T_8e235616_40c2_11ec_8465_0242ac1c0002row8_col7\" class=\"data row8 col7\" >0</td>\n",
              "                        <td id=\"T_8e235616_40c2_11ec_8465_0242ac1c0002row8_col8\" class=\"data row8 col8\" >54</td>\n",
              "                        <td id=\"T_8e235616_40c2_11ec_8465_0242ac1c0002row8_col9\" class=\"data row8 col9\" >0</td>\n",
              "                        <td id=\"T_8e235616_40c2_11ec_8465_0242ac1c0002row8_col10\" class=\"data row8 col10\" >0</td>\n",
              "                        <td id=\"T_8e235616_40c2_11ec_8465_0242ac1c0002row8_col11\" class=\"data row8 col11\" >0</td>\n",
              "            </tr>\n",
              "            <tr>\n",
              "                        <th id=\"T_8e235616_40c2_11ec_8465_0242ac1c0002level0_row9\" class=\"row_heading level0 row9\" >Actual F29-32</th>\n",
              "                        <td id=\"T_8e235616_40c2_11ec_8465_0242ac1c0002row9_col0\" class=\"data row9 col0\" >1</td>\n",
              "                        <td id=\"T_8e235616_40c2_11ec_8465_0242ac1c0002row9_col1\" class=\"data row9 col1\" >1</td>\n",
              "                        <td id=\"T_8e235616_40c2_11ec_8465_0242ac1c0002row9_col2\" class=\"data row9 col2\" >0</td>\n",
              "                        <td id=\"T_8e235616_40c2_11ec_8465_0242ac1c0002row9_col3\" class=\"data row9 col3\" >0</td>\n",
              "                        <td id=\"T_8e235616_40c2_11ec_8465_0242ac1c0002row9_col4\" class=\"data row9 col4\" >0</td>\n",
              "                        <td id=\"T_8e235616_40c2_11ec_8465_0242ac1c0002row9_col5\" class=\"data row9 col5\" >0</td>\n",
              "                        <td id=\"T_8e235616_40c2_11ec_8465_0242ac1c0002row9_col6\" class=\"data row9 col6\" >0</td>\n",
              "                        <td id=\"T_8e235616_40c2_11ec_8465_0242ac1c0002row9_col7\" class=\"data row9 col7\" >0</td>\n",
              "                        <td id=\"T_8e235616_40c2_11ec_8465_0242ac1c0002row9_col8\" class=\"data row9 col8\" >0</td>\n",
              "                        <td id=\"T_8e235616_40c2_11ec_8465_0242ac1c0002row9_col9\" class=\"data row9 col9\" >79</td>\n",
              "                        <td id=\"T_8e235616_40c2_11ec_8465_0242ac1c0002row9_col10\" class=\"data row9 col10\" >0</td>\n",
              "                        <td id=\"T_8e235616_40c2_11ec_8465_0242ac1c0002row9_col11\" class=\"data row9 col11\" >0</td>\n",
              "            </tr>\n",
              "            <tr>\n",
              "                        <th id=\"T_8e235616_40c2_11ec_8465_0242ac1c0002level0_row10\" class=\"row_heading level0 row10\" >Actual F33-42</th>\n",
              "                        <td id=\"T_8e235616_40c2_11ec_8465_0242ac1c0002row10_col0\" class=\"data row10 col0\" >0</td>\n",
              "                        <td id=\"T_8e235616_40c2_11ec_8465_0242ac1c0002row10_col1\" class=\"data row10 col1\" >0</td>\n",
              "                        <td id=\"T_8e235616_40c2_11ec_8465_0242ac1c0002row10_col2\" class=\"data row10 col2\" >0</td>\n",
              "                        <td id=\"T_8e235616_40c2_11ec_8465_0242ac1c0002row10_col3\" class=\"data row10 col3\" >0</td>\n",
              "                        <td id=\"T_8e235616_40c2_11ec_8465_0242ac1c0002row10_col4\" class=\"data row10 col4\" >0</td>\n",
              "                        <td id=\"T_8e235616_40c2_11ec_8465_0242ac1c0002row10_col5\" class=\"data row10 col5\" >0</td>\n",
              "                        <td id=\"T_8e235616_40c2_11ec_8465_0242ac1c0002row10_col6\" class=\"data row10 col6\" >0</td>\n",
              "                        <td id=\"T_8e235616_40c2_11ec_8465_0242ac1c0002row10_col7\" class=\"data row10 col7\" >0</td>\n",
              "                        <td id=\"T_8e235616_40c2_11ec_8465_0242ac1c0002row10_col8\" class=\"data row10 col8\" >0</td>\n",
              "                        <td id=\"T_8e235616_40c2_11ec_8465_0242ac1c0002row10_col9\" class=\"data row10 col9\" >0</td>\n",
              "                        <td id=\"T_8e235616_40c2_11ec_8465_0242ac1c0002row10_col10\" class=\"data row10 col10\" >137</td>\n",
              "                        <td id=\"T_8e235616_40c2_11ec_8465_0242ac1c0002row10_col11\" class=\"data row10 col11\" >0</td>\n",
              "            </tr>\n",
              "            <tr>\n",
              "                        <th id=\"T_8e235616_40c2_11ec_8465_0242ac1c0002level0_row11\" class=\"row_heading level0 row11\" >Actual F43+</th>\n",
              "                        <td id=\"T_8e235616_40c2_11ec_8465_0242ac1c0002row11_col0\" class=\"data row11 col0\" >0</td>\n",
              "                        <td id=\"T_8e235616_40c2_11ec_8465_0242ac1c0002row11_col1\" class=\"data row11 col1\" >0</td>\n",
              "                        <td id=\"T_8e235616_40c2_11ec_8465_0242ac1c0002row11_col2\" class=\"data row11 col2\" >0</td>\n",
              "                        <td id=\"T_8e235616_40c2_11ec_8465_0242ac1c0002row11_col3\" class=\"data row11 col3\" >2</td>\n",
              "                        <td id=\"T_8e235616_40c2_11ec_8465_0242ac1c0002row11_col4\" class=\"data row11 col4\" >4</td>\n",
              "                        <td id=\"T_8e235616_40c2_11ec_8465_0242ac1c0002row11_col5\" class=\"data row11 col5\" >1</td>\n",
              "                        <td id=\"T_8e235616_40c2_11ec_8465_0242ac1c0002row11_col6\" class=\"data row11 col6\" >0</td>\n",
              "                        <td id=\"T_8e235616_40c2_11ec_8465_0242ac1c0002row11_col7\" class=\"data row11 col7\" >0</td>\n",
              "                        <td id=\"T_8e235616_40c2_11ec_8465_0242ac1c0002row11_col8\" class=\"data row11 col8\" >0</td>\n",
              "                        <td id=\"T_8e235616_40c2_11ec_8465_0242ac1c0002row11_col9\" class=\"data row11 col9\" >0</td>\n",
              "                        <td id=\"T_8e235616_40c2_11ec_8465_0242ac1c0002row11_col10\" class=\"data row11 col10\" >0</td>\n",
              "                        <td id=\"T_8e235616_40c2_11ec_8465_0242ac1c0002row11_col11\" class=\"data row11 col11\" >165</td>\n",
              "            </tr>\n",
              "    </tbody></table>"
            ],
            "text/plain": [
              "<pandas.io.formats.style.Styler at 0x7f5c95600e50>"
            ]
          },
          "metadata": {},
          "execution_count": 12
        }
      ]
    },
    {
      "cell_type": "code",
      "metadata": {
        "colab": {
          "base_uri": "https://localhost:8080/"
        },
        "id": "D5QCqZ-yvt0A",
        "outputId": "d97a8e38-0bcc-439e-fd78-20644176606c"
      },
      "source": [
        "print(\"Classification Report:\")\n",
        "print()\n",
        "print(classification_report(y_test, y_pred))"
      ],
      "execution_count": null,
      "outputs": [
        {
          "output_type": "stream",
          "name": "stdout",
          "text": [
            "Classification Report:\n",
            "\n",
            "              precision    recall  f1-score   support\n",
            "\n",
            "           0       0.98      0.98      0.98       127\n",
            "           1       0.98      0.99      0.99       250\n",
            "           2       0.99      0.99      0.99       177\n",
            "           3       0.99      0.96      0.97       273\n",
            "           4       0.98      0.99      0.99       538\n",
            "           5       0.99      0.99      0.99       569\n",
            "           6       1.00      0.97      0.99        39\n",
            "           7       0.96      0.93      0.95        28\n",
            "           8       1.00      0.96      0.98        56\n",
            "           9       0.99      0.98      0.98        81\n",
            "          10       0.99      1.00      1.00       137\n",
            "          11       0.99      0.96      0.97       172\n",
            "\n",
            "    accuracy                           0.99      2447\n",
            "   macro avg       0.99      0.98      0.98      2447\n",
            "weighted avg       0.99      0.99      0.99      2447\n",
            "\n"
          ]
        }
      ]
    },
    {
      "cell_type": "markdown",
      "metadata": {
        "id": "a1PhJnnKrK_4"
      },
      "source": [
        "#K-Nearest Neighbor Classification"
      ]
    },
    {
      "cell_type": "code",
      "metadata": {
        "colab": {
          "base_uri": "https://localhost:8080/"
        },
        "id": "Cu0U7s65rN9g",
        "outputId": "7ca61f2b-1c0f-4a65-a523-240aadf80442"
      },
      "source": [
        "pipeline = Pipeline(\n",
        "    [(\"preprocessing\", preprocessing), (\"knn\", KNeighborsClassifier())], verbose=True\n",
        ")\n",
        "\n",
        "pipeline.fit(X_train, y_train)\n"
      ],
      "execution_count": null,
      "outputs": [
        {
          "output_type": "stream",
          "name": "stdout",
          "text": [
            "[Pipeline] ..... (step 1 of 2) Processing preprocessing, total=   0.0s\n",
            "[Pipeline] ............... (step 2 of 2) Processing knn, total=   0.1s\n"
          ]
        },
        {
          "output_type": "execute_result",
          "data": {
            "text/plain": [
              "Pipeline(memory=None,\n",
              "         steps=[('preprocessing',\n",
              "                 ColumnTransformer(n_jobs=None, remainder='passthrough',\n",
              "                                   sparse_threshold=0.3,\n",
              "                                   transformer_weights=None,\n",
              "                                   transformers=[('scale',\n",
              "                                                  StandardScaler(copy=True,\n",
              "                                                                 with_mean=True,\n",
              "                                                                 with_std=True),\n",
              "                                                  ['device_id', 'event_id'])],\n",
              "                                   verbose=False)),\n",
              "                ('knn',\n",
              "                 KNeighborsClassifier(algorithm='auto', leaf_size=30,\n",
              "                                      metric='minkowski', metric_params=None,\n",
              "                                      n_jobs=None, n_neighbors=5, p=2,\n",
              "                                      weights='uniform'))],\n",
              "         verbose=True)"
            ]
          },
          "metadata": {},
          "execution_count": 14
        }
      ]
    },
    {
      "cell_type": "code",
      "metadata": {
        "colab": {
          "base_uri": "https://localhost:8080/"
        },
        "id": "_6D2c9tOrTUA",
        "outputId": "4e816ab5-d301-4581-bd7f-be393dacf8ba"
      },
      "source": [
        "grid = {\n",
        "    \"knn__n_neighbors\": [50, 100, 150],\n",
        "    \"knn__weights\": [\"distance\"],\n",
        "    \"knn__leaf_size\": [1, 10, 20],\n",
        "}\n",
        "\n",
        "model = GridSearchCV(pipeline, grid, n_jobs=-1, verbose=2, cv=2)\n",
        "model.fit(X_train, y_train)\n"
      ],
      "execution_count": null,
      "outputs": [
        {
          "output_type": "stream",
          "name": "stdout",
          "text": [
            "Fitting 2 folds for each of 9 candidates, totalling 18 fits\n"
          ]
        },
        {
          "output_type": "stream",
          "name": "stderr",
          "text": [
            "[Parallel(n_jobs=-1)]: Using backend LokyBackend with 2 concurrent workers.\n",
            "[Parallel(n_jobs=-1)]: Done  18 out of  18 | elapsed:  1.9min finished\n"
          ]
        },
        {
          "output_type": "stream",
          "name": "stdout",
          "text": [
            "[Pipeline] ..... (step 1 of 2) Processing preprocessing, total=   0.0s\n",
            "[Pipeline] ............... (step 2 of 2) Processing knn, total=   0.2s\n"
          ]
        },
        {
          "output_type": "execute_result",
          "data": {
            "text/plain": [
              "GridSearchCV(cv=2, error_score=nan,\n",
              "             estimator=Pipeline(memory=None,\n",
              "                                steps=[('preprocessing',\n",
              "                                        ColumnTransformer(n_jobs=None,\n",
              "                                                          remainder='passthrough',\n",
              "                                                          sparse_threshold=0.3,\n",
              "                                                          transformer_weights=None,\n",
              "                                                          transformers=[('scale',\n",
              "                                                                         StandardScaler(copy=True,\n",
              "                                                                                        with_mean=True,\n",
              "                                                                                        with_std=True),\n",
              "                                                                         ['device_id',\n",
              "                                                                          'event_id'])],\n",
              "                                                          verbose=False)),\n",
              "                                       ('knn',\n",
              "                                        KNeighborsClassifier(algorithm='auto',\n",
              "                                                             leaf_size=30,\n",
              "                                                             metric='minkowski',\n",
              "                                                             metric_params=None,\n",
              "                                                             n_jobs=None,\n",
              "                                                             n_neighbors=5, p=2,\n",
              "                                                             weights='uniform'))],\n",
              "                                verbose=True),\n",
              "             iid='deprecated', n_jobs=-1,\n",
              "             param_grid={'knn__leaf_size': [1, 10, 20],\n",
              "                         'knn__n_neighbors': [50, 100, 150],\n",
              "                         'knn__weights': ['distance']},\n",
              "             pre_dispatch='2*n_jobs', refit=True, return_train_score=False,\n",
              "             scoring=None, verbose=2)"
            ]
          },
          "metadata": {},
          "execution_count": 15
        }
      ]
    },
    {
      "cell_type": "code",
      "metadata": {
        "colab": {
          "base_uri": "https://localhost:8080/"
        },
        "id": "87oc0cwYrdLg",
        "outputId": "e86066ae-1cc7-4b3a-99a1-bea4cbd705cb"
      },
      "source": [
        "# It seems like the higher the amount of n_neighbors the better the score, for next test, will increase n_neighbors\n",
        "model.best_params_\n"
      ],
      "execution_count": null,
      "outputs": [
        {
          "output_type": "execute_result",
          "data": {
            "text/plain": [
              "{'knn__leaf_size': 1, 'knn__n_neighbors': 50, 'knn__weights': 'distance'}"
            ]
          },
          "metadata": {},
          "execution_count": 16
        }
      ]
    },
    {
      "cell_type": "code",
      "metadata": {
        "colab": {
          "base_uri": "https://localhost:8080/"
        },
        "id": "RQOYJm5inBeF",
        "outputId": "712cc18f-404a-4500-fd9e-f09b407071e5"
      },
      "source": [
        "# Model still appears to be extremely overfitting\n",
        "train_score = model.score(X_train, y_train)\n",
        "test_score = model.score(X_test, y_test)\n",
        "\n",
        "print(f\"Train score: {train_score}\")\n",
        "print(f\"Test score: {test_score}\")\n"
      ],
      "execution_count": null,
      "outputs": [
        {
          "output_type": "stream",
          "name": "stdout",
          "text": [
            "Train score: 1.0\n",
            "Test score: 0.8602370249284839\n"
          ]
        }
      ]
    },
    {
      "cell_type": "code",
      "metadata": {
        "colab": {
          "base_uri": "https://localhost:8080/",
          "height": 416
        },
        "id": "g72wNAnYrml2",
        "outputId": "1b85bd2c-d3f1-44f4-f6dd-d62834d74946"
      },
      "source": [
        "y_pred = model.predict(X_test)\n",
        "\n",
        "con_mat = pd.DataFrame(\n",
        "    confusion_matrix(y_test, y_pred),\n",
        "    index=[\n",
        "        \"Actual M22-\",\n",
        "        \"Actual M23-26\",\n",
        "        \"Actual M27-28\",\n",
        "        \"Actual M29-31\",\n",
        "        \"Actual M32-38\",\n",
        "        \"Actual M39+\",\n",
        "        \"Actual F23-\",\n",
        "        \"Actual F24-26\",\n",
        "        \"Actual F27-28\",\n",
        "        \"Actual F29-32\",\n",
        "        \"Actual F33-42\",\n",
        "        \"Actual F43+\",\n",
        "    ],\n",
        "    columns=[\n",
        "        \"Predicted M22-\",\n",
        "        \"Predicted M23-26\",\n",
        "        \"Predicted M27-28\",\n",
        "        \"Predicted M29-31\",\n",
        "        \"Predicted M32-38\",\n",
        "        \"Predicted M39+\",\n",
        "        \"Predicted F23-\",\n",
        "        \"Predicted F24-26\",\n",
        "        \"Predicted F27-28\",\n",
        "        \"Predicted F29-32\",\n",
        "        \"Predicted F33-42\",\n",
        "        \"Predicted F43+\",\n",
        "    ],\n",
        ")\n",
        "con_mat.style.background_gradient(axis=None)\n"
      ],
      "execution_count": null,
      "outputs": [
        {
          "output_type": "execute_result",
          "data": {
            "text/html": [
              "<style  type=\"text/css\" >\n",
              "#T_eee889da_40c2_11ec_8465_0242ac1c0002row0_col0{\n",
              "            background-color:  #d6d6e9;\n",
              "            color:  #000000;\n",
              "        }#T_eee889da_40c2_11ec_8465_0242ac1c0002row0_col1,#T_eee889da_40c2_11ec_8465_0242ac1c0002row0_col2,#T_eee889da_40c2_11ec_8465_0242ac1c0002row0_col6,#T_eee889da_40c2_11ec_8465_0242ac1c0002row0_col7,#T_eee889da_40c2_11ec_8465_0242ac1c0002row0_col8,#T_eee889da_40c2_11ec_8465_0242ac1c0002row0_col9,#T_eee889da_40c2_11ec_8465_0242ac1c0002row0_col10,#T_eee889da_40c2_11ec_8465_0242ac1c0002row0_col11,#T_eee889da_40c2_11ec_8465_0242ac1c0002row1_col2,#T_eee889da_40c2_11ec_8465_0242ac1c0002row1_col3,#T_eee889da_40c2_11ec_8465_0242ac1c0002row1_col6,#T_eee889da_40c2_11ec_8465_0242ac1c0002row1_col7,#T_eee889da_40c2_11ec_8465_0242ac1c0002row1_col8,#T_eee889da_40c2_11ec_8465_0242ac1c0002row1_col9,#T_eee889da_40c2_11ec_8465_0242ac1c0002row1_col10,#T_eee889da_40c2_11ec_8465_0242ac1c0002row1_col11,#T_eee889da_40c2_11ec_8465_0242ac1c0002row2_col0,#T_eee889da_40c2_11ec_8465_0242ac1c0002row2_col3,#T_eee889da_40c2_11ec_8465_0242ac1c0002row2_col4,#T_eee889da_40c2_11ec_8465_0242ac1c0002row2_col6,#T_eee889da_40c2_11ec_8465_0242ac1c0002row2_col7,#T_eee889da_40c2_11ec_8465_0242ac1c0002row2_col8,#T_eee889da_40c2_11ec_8465_0242ac1c0002row2_col9,#T_eee889da_40c2_11ec_8465_0242ac1c0002row2_col10,#T_eee889da_40c2_11ec_8465_0242ac1c0002row2_col11,#T_eee889da_40c2_11ec_8465_0242ac1c0002row3_col1,#T_eee889da_40c2_11ec_8465_0242ac1c0002row3_col2,#T_eee889da_40c2_11ec_8465_0242ac1c0002row3_col6,#T_eee889da_40c2_11ec_8465_0242ac1c0002row3_col7,#T_eee889da_40c2_11ec_8465_0242ac1c0002row3_col8,#T_eee889da_40c2_11ec_8465_0242ac1c0002row3_col9,#T_eee889da_40c2_11ec_8465_0242ac1c0002row3_col10,#T_eee889da_40c2_11ec_8465_0242ac1c0002row3_col11,#T_eee889da_40c2_11ec_8465_0242ac1c0002row4_col0,#T_eee889da_40c2_11ec_8465_0242ac1c0002row4_col2,#T_eee889da_40c2_11ec_8465_0242ac1c0002row4_col6,#T_eee889da_40c2_11ec_8465_0242ac1c0002row4_col8,#T_eee889da_40c2_11ec_8465_0242ac1c0002row4_col9,#T_eee889da_40c2_11ec_8465_0242ac1c0002row4_col10,#T_eee889da_40c2_11ec_8465_0242ac1c0002row5_col0,#T_eee889da_40c2_11ec_8465_0242ac1c0002row5_col1,#T_eee889da_40c2_11ec_8465_0242ac1c0002row5_col2,#T_eee889da_40c2_11ec_8465_0242ac1c0002row5_col6,#T_eee889da_40c2_11ec_8465_0242ac1c0002row5_col7,#T_eee889da_40c2_11ec_8465_0242ac1c0002row5_col8,#T_eee889da_40c2_11ec_8465_0242ac1c0002row5_col11,#T_eee889da_40c2_11ec_8465_0242ac1c0002row6_col0,#T_eee889da_40c2_11ec_8465_0242ac1c0002row6_col1,#T_eee889da_40c2_11ec_8465_0242ac1c0002row6_col2,#T_eee889da_40c2_11ec_8465_0242ac1c0002row6_col3,#T_eee889da_40c2_11ec_8465_0242ac1c0002row6_col4,#T_eee889da_40c2_11ec_8465_0242ac1c0002row6_col5,#T_eee889da_40c2_11ec_8465_0242ac1c0002row6_col7,#T_eee889da_40c2_11ec_8465_0242ac1c0002row6_col8,#T_eee889da_40c2_11ec_8465_0242ac1c0002row6_col9,#T_eee889da_40c2_11ec_8465_0242ac1c0002row6_col10,#T_eee889da_40c2_11ec_8465_0242ac1c0002row6_col11,#T_eee889da_40c2_11ec_8465_0242ac1c0002row7_col0,#T_eee889da_40c2_11ec_8465_0242ac1c0002row7_col1,#T_eee889da_40c2_11ec_8465_0242ac1c0002row7_col2,#T_eee889da_40c2_11ec_8465_0242ac1c0002row7_col3,#T_eee889da_40c2_11ec_8465_0242ac1c0002row7_col4,#T_eee889da_40c2_11ec_8465_0242ac1c0002row7_col6,#T_eee889da_40c2_11ec_8465_0242ac1c0002row7_col8,#T_eee889da_40c2_11ec_8465_0242ac1c0002row7_col9,#T_eee889da_40c2_11ec_8465_0242ac1c0002row7_col10,#T_eee889da_40c2_11ec_8465_0242ac1c0002row7_col11,#T_eee889da_40c2_11ec_8465_0242ac1c0002row8_col0,#T_eee889da_40c2_11ec_8465_0242ac1c0002row8_col2,#T_eee889da_40c2_11ec_8465_0242ac1c0002row8_col4,#T_eee889da_40c2_11ec_8465_0242ac1c0002row8_col6,#T_eee889da_40c2_11ec_8465_0242ac1c0002row8_col7,#T_eee889da_40c2_11ec_8465_0242ac1c0002row8_col9,#T_eee889da_40c2_11ec_8465_0242ac1c0002row8_col10,#T_eee889da_40c2_11ec_8465_0242ac1c0002row8_col11,#T_eee889da_40c2_11ec_8465_0242ac1c0002row9_col0,#T_eee889da_40c2_11ec_8465_0242ac1c0002row9_col1,#T_eee889da_40c2_11ec_8465_0242ac1c0002row9_col2,#T_eee889da_40c2_11ec_8465_0242ac1c0002row9_col3,#T_eee889da_40c2_11ec_8465_0242ac1c0002row9_col4,#T_eee889da_40c2_11ec_8465_0242ac1c0002row9_col6,#T_eee889da_40c2_11ec_8465_0242ac1c0002row9_col7,#T_eee889da_40c2_11ec_8465_0242ac1c0002row9_col8,#T_eee889da_40c2_11ec_8465_0242ac1c0002row9_col10,#T_eee889da_40c2_11ec_8465_0242ac1c0002row9_col11,#T_eee889da_40c2_11ec_8465_0242ac1c0002row10_col0,#T_eee889da_40c2_11ec_8465_0242ac1c0002row10_col1,#T_eee889da_40c2_11ec_8465_0242ac1c0002row10_col2,#T_eee889da_40c2_11ec_8465_0242ac1c0002row10_col3,#T_eee889da_40c2_11ec_8465_0242ac1c0002row10_col6,#T_eee889da_40c2_11ec_8465_0242ac1c0002row10_col7,#T_eee889da_40c2_11ec_8465_0242ac1c0002row10_col8,#T_eee889da_40c2_11ec_8465_0242ac1c0002row10_col9,#T_eee889da_40c2_11ec_8465_0242ac1c0002row10_col11,#T_eee889da_40c2_11ec_8465_0242ac1c0002row11_col0,#T_eee889da_40c2_11ec_8465_0242ac1c0002row11_col1,#T_eee889da_40c2_11ec_8465_0242ac1c0002row11_col2,#T_eee889da_40c2_11ec_8465_0242ac1c0002row11_col6,#T_eee889da_40c2_11ec_8465_0242ac1c0002row11_col7,#T_eee889da_40c2_11ec_8465_0242ac1c0002row11_col8,#T_eee889da_40c2_11ec_8465_0242ac1c0002row11_col9,#T_eee889da_40c2_11ec_8465_0242ac1c0002row11_col10{\n",
              "            background-color:  #fff7fb;\n",
              "            color:  #000000;\n",
              "        }#T_eee889da_40c2_11ec_8465_0242ac1c0002row0_col3,#T_eee889da_40c2_11ec_8465_0242ac1c0002row0_col4,#T_eee889da_40c2_11ec_8465_0242ac1c0002row1_col0,#T_eee889da_40c2_11ec_8465_0242ac1c0002row1_col4,#T_eee889da_40c2_11ec_8465_0242ac1c0002row4_col1,#T_eee889da_40c2_11ec_8465_0242ac1c0002row4_col7,#T_eee889da_40c2_11ec_8465_0242ac1c0002row8_col1,#T_eee889da_40c2_11ec_8465_0242ac1c0002row8_col5{\n",
              "            background-color:  #fef6fb;\n",
              "            color:  #000000;\n",
              "        }#T_eee889da_40c2_11ec_8465_0242ac1c0002row0_col5,#T_eee889da_40c2_11ec_8465_0242ac1c0002row2_col1,#T_eee889da_40c2_11ec_8465_0242ac1c0002row4_col11,#T_eee889da_40c2_11ec_8465_0242ac1c0002row5_col9,#T_eee889da_40c2_11ec_8465_0242ac1c0002row7_col5,#T_eee889da_40c2_11ec_8465_0242ac1c0002row8_col3,#T_eee889da_40c2_11ec_8465_0242ac1c0002row10_col4,#T_eee889da_40c2_11ec_8465_0242ac1c0002row11_col3{\n",
              "            background-color:  #fef6fa;\n",
              "            color:  #000000;\n",
              "        }#T_eee889da_40c2_11ec_8465_0242ac1c0002row1_col1{\n",
              "            background-color:  #8fb4d6;\n",
              "            color:  #000000;\n",
              "        }#T_eee889da_40c2_11ec_8465_0242ac1c0002row1_col5,#T_eee889da_40c2_11ec_8465_0242ac1c0002row2_col5{\n",
              "            background-color:  #fbf3f9;\n",
              "            color:  #000000;\n",
              "        }#T_eee889da_40c2_11ec_8465_0242ac1c0002row2_col2{\n",
              "            background-color:  #c1cae2;\n",
              "            color:  #000000;\n",
              "        }#T_eee889da_40c2_11ec_8465_0242ac1c0002row3_col0,#T_eee889da_40c2_11ec_8465_0242ac1c0002row5_col3,#T_eee889da_40c2_11ec_8465_0242ac1c0002row9_col5{\n",
              "            background-color:  #fdf5fa;\n",
              "            color:  #000000;\n",
              "        }#T_eee889da_40c2_11ec_8465_0242ac1c0002row3_col3{\n",
              "            background-color:  #91b5d6;\n",
              "            color:  #000000;\n",
              "        }#T_eee889da_40c2_11ec_8465_0242ac1c0002row3_col4,#T_eee889da_40c2_11ec_8465_0242ac1c0002row5_col10{\n",
              "            background-color:  #fcf4fa;\n",
              "            color:  #000000;\n",
              "        }#T_eee889da_40c2_11ec_8465_0242ac1c0002row3_col5,#T_eee889da_40c2_11ec_8465_0242ac1c0002row5_col4{\n",
              "            background-color:  #f8f1f8;\n",
              "            color:  #000000;\n",
              "        }#T_eee889da_40c2_11ec_8465_0242ac1c0002row4_col3,#T_eee889da_40c2_11ec_8465_0242ac1c0002row11_col4{\n",
              "            background-color:  #faf3f9;\n",
              "            color:  #000000;\n",
              "        }#T_eee889da_40c2_11ec_8465_0242ac1c0002row4_col4{\n",
              "            background-color:  #034f7d;\n",
              "            color:  #f1f1f1;\n",
              "        }#T_eee889da_40c2_11ec_8465_0242ac1c0002row4_col5,#T_eee889da_40c2_11ec_8465_0242ac1c0002row6_col6{\n",
              "            background-color:  #f5eef6;\n",
              "            color:  #000000;\n",
              "        }#T_eee889da_40c2_11ec_8465_0242ac1c0002row5_col5{\n",
              "            background-color:  #023858;\n",
              "            color:  #f1f1f1;\n",
              "        }#T_eee889da_40c2_11ec_8465_0242ac1c0002row7_col7{\n",
              "            background-color:  #f9f2f8;\n",
              "            color:  #000000;\n",
              "        }#T_eee889da_40c2_11ec_8465_0242ac1c0002row8_col8{\n",
              "            background-color:  #f2ecf5;\n",
              "            color:  #000000;\n",
              "        }#T_eee889da_40c2_11ec_8465_0242ac1c0002row9_col9{\n",
              "            background-color:  #e9e5f1;\n",
              "            color:  #000000;\n",
              "        }#T_eee889da_40c2_11ec_8465_0242ac1c0002row10_col5{\n",
              "            background-color:  #fbf4f9;\n",
              "            color:  #000000;\n",
              "        }#T_eee889da_40c2_11ec_8465_0242ac1c0002row10_col10{\n",
              "            background-color:  #d8d7e9;\n",
              "            color:  #000000;\n",
              "        }#T_eee889da_40c2_11ec_8465_0242ac1c0002row11_col5{\n",
              "            background-color:  #faf2f8;\n",
              "            color:  #000000;\n",
              "        }#T_eee889da_40c2_11ec_8465_0242ac1c0002row11_col11{\n",
              "            background-color:  #d1d2e6;\n",
              "            color:  #000000;\n",
              "        }</style><table id=\"T_eee889da_40c2_11ec_8465_0242ac1c0002\" class=\"dataframe\"><thead>    <tr>        <th class=\"blank level0\" ></th>        <th class=\"col_heading level0 col0\" >Predicted M22-</th>        <th class=\"col_heading level0 col1\" >Predicted M23-26</th>        <th class=\"col_heading level0 col2\" >Predicted M27-28</th>        <th class=\"col_heading level0 col3\" >Predicted M29-31</th>        <th class=\"col_heading level0 col4\" >Predicted M32-38</th>        <th class=\"col_heading level0 col5\" >Predicted M39+</th>        <th class=\"col_heading level0 col6\" >Predicted F23-</th>        <th class=\"col_heading level0 col7\" >Predicted F24-26</th>        <th class=\"col_heading level0 col8\" >Predicted F27-28</th>        <th class=\"col_heading level0 col9\" >Predicted F29-32</th>        <th class=\"col_heading level0 col10\" >Predicted F33-42</th>        <th class=\"col_heading level0 col11\" >Predicted F43+</th>    </tr></thead><tbody>\n",
              "                <tr>\n",
              "                        <th id=\"T_eee889da_40c2_11ec_8465_0242ac1c0002level0_row0\" class=\"row_heading level0 row0\" >Actual M22-</th>\n",
              "                        <td id=\"T_eee889da_40c2_11ec_8465_0242ac1c0002row0_col0\" class=\"data row0 col0\" >115</td>\n",
              "                        <td id=\"T_eee889da_40c2_11ec_8465_0242ac1c0002row0_col1\" class=\"data row0 col1\" >1</td>\n",
              "                        <td id=\"T_eee889da_40c2_11ec_8465_0242ac1c0002row0_col2\" class=\"data row0 col2\" >0</td>\n",
              "                        <td id=\"T_eee889da_40c2_11ec_8465_0242ac1c0002row0_col3\" class=\"data row0 col3\" >3</td>\n",
              "                        <td id=\"T_eee889da_40c2_11ec_8465_0242ac1c0002row0_col4\" class=\"data row0 col4\" >3</td>\n",
              "                        <td id=\"T_eee889da_40c2_11ec_8465_0242ac1c0002row0_col5\" class=\"data row0 col5\" >5</td>\n",
              "                        <td id=\"T_eee889da_40c2_11ec_8465_0242ac1c0002row0_col6\" class=\"data row0 col6\" >0</td>\n",
              "                        <td id=\"T_eee889da_40c2_11ec_8465_0242ac1c0002row0_col7\" class=\"data row0 col7\" >0</td>\n",
              "                        <td id=\"T_eee889da_40c2_11ec_8465_0242ac1c0002row0_col8\" class=\"data row0 col8\" >0</td>\n",
              "                        <td id=\"T_eee889da_40c2_11ec_8465_0242ac1c0002row0_col9\" class=\"data row0 col9\" >0</td>\n",
              "                        <td id=\"T_eee889da_40c2_11ec_8465_0242ac1c0002row0_col10\" class=\"data row0 col10\" >0</td>\n",
              "                        <td id=\"T_eee889da_40c2_11ec_8465_0242ac1c0002row0_col11\" class=\"data row0 col11\" >0</td>\n",
              "            </tr>\n",
              "            <tr>\n",
              "                        <th id=\"T_eee889da_40c2_11ec_8465_0242ac1c0002level0_row1\" class=\"row_heading level0 row1\" >Actual M23-26</th>\n",
              "                        <td id=\"T_eee889da_40c2_11ec_8465_0242ac1c0002row1_col0\" class=\"data row1 col0\" >3</td>\n",
              "                        <td id=\"T_eee889da_40c2_11ec_8465_0242ac1c0002row1_col1\" class=\"data row1 col1\" >223</td>\n",
              "                        <td id=\"T_eee889da_40c2_11ec_8465_0242ac1c0002row1_col2\" class=\"data row1 col2\" >0</td>\n",
              "                        <td id=\"T_eee889da_40c2_11ec_8465_0242ac1c0002row1_col3\" class=\"data row1 col3\" >2</td>\n",
              "                        <td id=\"T_eee889da_40c2_11ec_8465_0242ac1c0002row1_col4\" class=\"data row1 col4\" >4</td>\n",
              "                        <td id=\"T_eee889da_40c2_11ec_8465_0242ac1c0002row1_col5\" class=\"data row1 col5\" >15</td>\n",
              "                        <td id=\"T_eee889da_40c2_11ec_8465_0242ac1c0002row1_col6\" class=\"data row1 col6\" >0</td>\n",
              "                        <td id=\"T_eee889da_40c2_11ec_8465_0242ac1c0002row1_col7\" class=\"data row1 col7\" >0</td>\n",
              "                        <td id=\"T_eee889da_40c2_11ec_8465_0242ac1c0002row1_col8\" class=\"data row1 col8\" >0</td>\n",
              "                        <td id=\"T_eee889da_40c2_11ec_8465_0242ac1c0002row1_col9\" class=\"data row1 col9\" >1</td>\n",
              "                        <td id=\"T_eee889da_40c2_11ec_8465_0242ac1c0002row1_col10\" class=\"data row1 col10\" >2</td>\n",
              "                        <td id=\"T_eee889da_40c2_11ec_8465_0242ac1c0002row1_col11\" class=\"data row1 col11\" >0</td>\n",
              "            </tr>\n",
              "            <tr>\n",
              "                        <th id=\"T_eee889da_40c2_11ec_8465_0242ac1c0002level0_row2\" class=\"row_heading level0 row2\" >Actual M27-28</th>\n",
              "                        <td id=\"T_eee889da_40c2_11ec_8465_0242ac1c0002row2_col0\" class=\"data row2 col0\" >1</td>\n",
              "                        <td id=\"T_eee889da_40c2_11ec_8465_0242ac1c0002row2_col1\" class=\"data row2 col1\" >6</td>\n",
              "                        <td id=\"T_eee889da_40c2_11ec_8465_0242ac1c0002row2_col2\" class=\"data row2 col2\" >152</td>\n",
              "                        <td id=\"T_eee889da_40c2_11ec_8465_0242ac1c0002row2_col3\" class=\"data row2 col3\" >0</td>\n",
              "                        <td id=\"T_eee889da_40c2_11ec_8465_0242ac1c0002row2_col4\" class=\"data row2 col4\" >1</td>\n",
              "                        <td id=\"T_eee889da_40c2_11ec_8465_0242ac1c0002row2_col5\" class=\"data row2 col5\" >15</td>\n",
              "                        <td id=\"T_eee889da_40c2_11ec_8465_0242ac1c0002row2_col6\" class=\"data row2 col6\" >0</td>\n",
              "                        <td id=\"T_eee889da_40c2_11ec_8465_0242ac1c0002row2_col7\" class=\"data row2 col7\" >0</td>\n",
              "                        <td id=\"T_eee889da_40c2_11ec_8465_0242ac1c0002row2_col8\" class=\"data row2 col8\" >0</td>\n",
              "                        <td id=\"T_eee889da_40c2_11ec_8465_0242ac1c0002row2_col9\" class=\"data row2 col9\" >0</td>\n",
              "                        <td id=\"T_eee889da_40c2_11ec_8465_0242ac1c0002row2_col10\" class=\"data row2 col10\" >1</td>\n",
              "                        <td id=\"T_eee889da_40c2_11ec_8465_0242ac1c0002row2_col11\" class=\"data row2 col11\" >1</td>\n",
              "            </tr>\n",
              "            <tr>\n",
              "                        <th id=\"T_eee889da_40c2_11ec_8465_0242ac1c0002level0_row3\" class=\"row_heading level0 row3\" >Actual M29-31</th>\n",
              "                        <td id=\"T_eee889da_40c2_11ec_8465_0242ac1c0002row3_col0\" class=\"data row3 col0\" >7</td>\n",
              "                        <td id=\"T_eee889da_40c2_11ec_8465_0242ac1c0002row3_col1\" class=\"data row3 col1\" >1</td>\n",
              "                        <td id=\"T_eee889da_40c2_11ec_8465_0242ac1c0002row3_col2\" class=\"data row3 col2\" >1</td>\n",
              "                        <td id=\"T_eee889da_40c2_11ec_8465_0242ac1c0002row3_col3\" class=\"data row3 col3\" >221</td>\n",
              "                        <td id=\"T_eee889da_40c2_11ec_8465_0242ac1c0002row3_col4\" class=\"data row3 col4\" >12</td>\n",
              "                        <td id=\"T_eee889da_40c2_11ec_8465_0242ac1c0002row3_col5\" class=\"data row3 col5\" >26</td>\n",
              "                        <td id=\"T_eee889da_40c2_11ec_8465_0242ac1c0002row3_col6\" class=\"data row3 col6\" >0</td>\n",
              "                        <td id=\"T_eee889da_40c2_11ec_8465_0242ac1c0002row3_col7\" class=\"data row3 col7\" >0</td>\n",
              "                        <td id=\"T_eee889da_40c2_11ec_8465_0242ac1c0002row3_col8\" class=\"data row3 col8\" >2</td>\n",
              "                        <td id=\"T_eee889da_40c2_11ec_8465_0242ac1c0002row3_col9\" class=\"data row3 col9\" >0</td>\n",
              "                        <td id=\"T_eee889da_40c2_11ec_8465_0242ac1c0002row3_col10\" class=\"data row3 col10\" >2</td>\n",
              "                        <td id=\"T_eee889da_40c2_11ec_8465_0242ac1c0002row3_col11\" class=\"data row3 col11\" >1</td>\n",
              "            </tr>\n",
              "            <tr>\n",
              "                        <th id=\"T_eee889da_40c2_11ec_8465_0242ac1c0002level0_row4\" class=\"row_heading level0 row4\" >Actual M32-38</th>\n",
              "                        <td id=\"T_eee889da_40c2_11ec_8465_0242ac1c0002row4_col0\" class=\"data row4 col0\" >0</td>\n",
              "                        <td id=\"T_eee889da_40c2_11ec_8465_0242ac1c0002row4_col1\" class=\"data row4 col1\" >3</td>\n",
              "                        <td id=\"T_eee889da_40c2_11ec_8465_0242ac1c0002row4_col2\" class=\"data row4 col2\" >0</td>\n",
              "                        <td id=\"T_eee889da_40c2_11ec_8465_0242ac1c0002row4_col3\" class=\"data row4 col3\" >17</td>\n",
              "                        <td id=\"T_eee889da_40c2_11ec_8465_0242ac1c0002row4_col4\" class=\"data row4 col4\" >470</td>\n",
              "                        <td id=\"T_eee889da_40c2_11ec_8465_0242ac1c0002row4_col5\" class=\"data row4 col5\" >36</td>\n",
              "                        <td id=\"T_eee889da_40c2_11ec_8465_0242ac1c0002row4_col6\" class=\"data row4 col6\" >0</td>\n",
              "                        <td id=\"T_eee889da_40c2_11ec_8465_0242ac1c0002row4_col7\" class=\"data row4 col7\" >3</td>\n",
              "                        <td id=\"T_eee889da_40c2_11ec_8465_0242ac1c0002row4_col8\" class=\"data row4 col8\" >0</td>\n",
              "                        <td id=\"T_eee889da_40c2_11ec_8465_0242ac1c0002row4_col9\" class=\"data row4 col9\" >1</td>\n",
              "                        <td id=\"T_eee889da_40c2_11ec_8465_0242ac1c0002row4_col10\" class=\"data row4 col10\" >2</td>\n",
              "                        <td id=\"T_eee889da_40c2_11ec_8465_0242ac1c0002row4_col11\" class=\"data row4 col11\" >6</td>\n",
              "            </tr>\n",
              "            <tr>\n",
              "                        <th id=\"T_eee889da_40c2_11ec_8465_0242ac1c0002level0_row5\" class=\"row_heading level0 row5\" >Actual M39+</th>\n",
              "                        <td id=\"T_eee889da_40c2_11ec_8465_0242ac1c0002row5_col0\" class=\"data row5 col0\" >0</td>\n",
              "                        <td id=\"T_eee889da_40c2_11ec_8465_0242ac1c0002row5_col1\" class=\"data row5 col1\" >2</td>\n",
              "                        <td id=\"T_eee889da_40c2_11ec_8465_0242ac1c0002row5_col2\" class=\"data row5 col2\" >0</td>\n",
              "                        <td id=\"T_eee889da_40c2_11ec_8465_0242ac1c0002row5_col3\" class=\"data row5 col3\" >9</td>\n",
              "                        <td id=\"T_eee889da_40c2_11ec_8465_0242ac1c0002row5_col4\" class=\"data row5 col4\" >26</td>\n",
              "                        <td id=\"T_eee889da_40c2_11ec_8465_0242ac1c0002row5_col5\" class=\"data row5 col5\" >515</td>\n",
              "                        <td id=\"T_eee889da_40c2_11ec_8465_0242ac1c0002row5_col6\" class=\"data row5 col6\" >0</td>\n",
              "                        <td id=\"T_eee889da_40c2_11ec_8465_0242ac1c0002row5_col7\" class=\"data row5 col7\" >0</td>\n",
              "                        <td id=\"T_eee889da_40c2_11ec_8465_0242ac1c0002row5_col8\" class=\"data row5 col8\" >0</td>\n",
              "                        <td id=\"T_eee889da_40c2_11ec_8465_0242ac1c0002row5_col9\" class=\"data row5 col9\" >5</td>\n",
              "                        <td id=\"T_eee889da_40c2_11ec_8465_0242ac1c0002row5_col10\" class=\"data row5 col10\" >12</td>\n",
              "                        <td id=\"T_eee889da_40c2_11ec_8465_0242ac1c0002row5_col11\" class=\"data row5 col11\" >0</td>\n",
              "            </tr>\n",
              "            <tr>\n",
              "                        <th id=\"T_eee889da_40c2_11ec_8465_0242ac1c0002level0_row6\" class=\"row_heading level0 row6\" >Actual F23-</th>\n",
              "                        <td id=\"T_eee889da_40c2_11ec_8465_0242ac1c0002row6_col0\" class=\"data row6 col0\" >0</td>\n",
              "                        <td id=\"T_eee889da_40c2_11ec_8465_0242ac1c0002row6_col1\" class=\"data row6 col1\" >0</td>\n",
              "                        <td id=\"T_eee889da_40c2_11ec_8465_0242ac1c0002row6_col2\" class=\"data row6 col2\" >0</td>\n",
              "                        <td id=\"T_eee889da_40c2_11ec_8465_0242ac1c0002row6_col3\" class=\"data row6 col3\" >2</td>\n",
              "                        <td id=\"T_eee889da_40c2_11ec_8465_0242ac1c0002row6_col4\" class=\"data row6 col4\" >0</td>\n",
              "                        <td id=\"T_eee889da_40c2_11ec_8465_0242ac1c0002row6_col5\" class=\"data row6 col5\" >2</td>\n",
              "                        <td id=\"T_eee889da_40c2_11ec_8465_0242ac1c0002row6_col6\" class=\"data row6 col6\" >35</td>\n",
              "                        <td id=\"T_eee889da_40c2_11ec_8465_0242ac1c0002row6_col7\" class=\"data row6 col7\" >0</td>\n",
              "                        <td id=\"T_eee889da_40c2_11ec_8465_0242ac1c0002row6_col8\" class=\"data row6 col8\" >0</td>\n",
              "                        <td id=\"T_eee889da_40c2_11ec_8465_0242ac1c0002row6_col9\" class=\"data row6 col9\" >0</td>\n",
              "                        <td id=\"T_eee889da_40c2_11ec_8465_0242ac1c0002row6_col10\" class=\"data row6 col10\" >0</td>\n",
              "                        <td id=\"T_eee889da_40c2_11ec_8465_0242ac1c0002row6_col11\" class=\"data row6 col11\" >0</td>\n",
              "            </tr>\n",
              "            <tr>\n",
              "                        <th id=\"T_eee889da_40c2_11ec_8465_0242ac1c0002level0_row7\" class=\"row_heading level0 row7\" >Actual F24-26</th>\n",
              "                        <td id=\"T_eee889da_40c2_11ec_8465_0242ac1c0002row7_col0\" class=\"data row7 col0\" >0</td>\n",
              "                        <td id=\"T_eee889da_40c2_11ec_8465_0242ac1c0002row7_col1\" class=\"data row7 col1\" >0</td>\n",
              "                        <td id=\"T_eee889da_40c2_11ec_8465_0242ac1c0002row7_col2\" class=\"data row7 col2\" >0</td>\n",
              "                        <td id=\"T_eee889da_40c2_11ec_8465_0242ac1c0002row7_col3\" class=\"data row7 col3\" >0</td>\n",
              "                        <td id=\"T_eee889da_40c2_11ec_8465_0242ac1c0002row7_col4\" class=\"data row7 col4\" >2</td>\n",
              "                        <td id=\"T_eee889da_40c2_11ec_8465_0242ac1c0002row7_col5\" class=\"data row7 col5\" >5</td>\n",
              "                        <td id=\"T_eee889da_40c2_11ec_8465_0242ac1c0002row7_col6\" class=\"data row7 col6\" >0</td>\n",
              "                        <td id=\"T_eee889da_40c2_11ec_8465_0242ac1c0002row7_col7\" class=\"data row7 col7\" >21</td>\n",
              "                        <td id=\"T_eee889da_40c2_11ec_8465_0242ac1c0002row7_col8\" class=\"data row7 col8\" >0</td>\n",
              "                        <td id=\"T_eee889da_40c2_11ec_8465_0242ac1c0002row7_col9\" class=\"data row7 col9\" >0</td>\n",
              "                        <td id=\"T_eee889da_40c2_11ec_8465_0242ac1c0002row7_col10\" class=\"data row7 col10\" >0</td>\n",
              "                        <td id=\"T_eee889da_40c2_11ec_8465_0242ac1c0002row7_col11\" class=\"data row7 col11\" >0</td>\n",
              "            </tr>\n",
              "            <tr>\n",
              "                        <th id=\"T_eee889da_40c2_11ec_8465_0242ac1c0002level0_row8\" class=\"row_heading level0 row8\" >Actual F27-28</th>\n",
              "                        <td id=\"T_eee889da_40c2_11ec_8465_0242ac1c0002row8_col0\" class=\"data row8 col0\" >0</td>\n",
              "                        <td id=\"T_eee889da_40c2_11ec_8465_0242ac1c0002row8_col1\" class=\"data row8 col1\" >3</td>\n",
              "                        <td id=\"T_eee889da_40c2_11ec_8465_0242ac1c0002row8_col2\" class=\"data row8 col2\" >0</td>\n",
              "                        <td id=\"T_eee889da_40c2_11ec_8465_0242ac1c0002row8_col3\" class=\"data row8 col3\" >5</td>\n",
              "                        <td id=\"T_eee889da_40c2_11ec_8465_0242ac1c0002row8_col4\" class=\"data row8 col4\" >0</td>\n",
              "                        <td id=\"T_eee889da_40c2_11ec_8465_0242ac1c0002row8_col5\" class=\"data row8 col5\" >3</td>\n",
              "                        <td id=\"T_eee889da_40c2_11ec_8465_0242ac1c0002row8_col6\" class=\"data row8 col6\" >0</td>\n",
              "                        <td id=\"T_eee889da_40c2_11ec_8465_0242ac1c0002row8_col7\" class=\"data row8 col7\" >0</td>\n",
              "                        <td id=\"T_eee889da_40c2_11ec_8465_0242ac1c0002row8_col8\" class=\"data row8 col8\" >43</td>\n",
              "                        <td id=\"T_eee889da_40c2_11ec_8465_0242ac1c0002row8_col9\" class=\"data row8 col9\" >0</td>\n",
              "                        <td id=\"T_eee889da_40c2_11ec_8465_0242ac1c0002row8_col10\" class=\"data row8 col10\" >0</td>\n",
              "                        <td id=\"T_eee889da_40c2_11ec_8465_0242ac1c0002row8_col11\" class=\"data row8 col11\" >2</td>\n",
              "            </tr>\n",
              "            <tr>\n",
              "                        <th id=\"T_eee889da_40c2_11ec_8465_0242ac1c0002level0_row9\" class=\"row_heading level0 row9\" >Actual F29-32</th>\n",
              "                        <td id=\"T_eee889da_40c2_11ec_8465_0242ac1c0002row9_col0\" class=\"data row9 col0\" >0</td>\n",
              "                        <td id=\"T_eee889da_40c2_11ec_8465_0242ac1c0002row9_col1\" class=\"data row9 col1\" >0</td>\n",
              "                        <td id=\"T_eee889da_40c2_11ec_8465_0242ac1c0002row9_col2\" class=\"data row9 col2\" >1</td>\n",
              "                        <td id=\"T_eee889da_40c2_11ec_8465_0242ac1c0002row9_col3\" class=\"data row9 col3\" >0</td>\n",
              "                        <td id=\"T_eee889da_40c2_11ec_8465_0242ac1c0002row9_col4\" class=\"data row9 col4\" >1</td>\n",
              "                        <td id=\"T_eee889da_40c2_11ec_8465_0242ac1c0002row9_col5\" class=\"data row9 col5\" >7</td>\n",
              "                        <td id=\"T_eee889da_40c2_11ec_8465_0242ac1c0002row9_col6\" class=\"data row9 col6\" >0</td>\n",
              "                        <td id=\"T_eee889da_40c2_11ec_8465_0242ac1c0002row9_col7\" class=\"data row9 col7\" >0</td>\n",
              "                        <td id=\"T_eee889da_40c2_11ec_8465_0242ac1c0002row9_col8\" class=\"data row9 col8\" >0</td>\n",
              "                        <td id=\"T_eee889da_40c2_11ec_8465_0242ac1c0002row9_col9\" class=\"data row9 col9\" >71</td>\n",
              "                        <td id=\"T_eee889da_40c2_11ec_8465_0242ac1c0002row9_col10\" class=\"data row9 col10\" >1</td>\n",
              "                        <td id=\"T_eee889da_40c2_11ec_8465_0242ac1c0002row9_col11\" class=\"data row9 col11\" >0</td>\n",
              "            </tr>\n",
              "            <tr>\n",
              "                        <th id=\"T_eee889da_40c2_11ec_8465_0242ac1c0002level0_row10\" class=\"row_heading level0 row10\" >Actual F33-42</th>\n",
              "                        <td id=\"T_eee889da_40c2_11ec_8465_0242ac1c0002row10_col0\" class=\"data row10 col0\" >0</td>\n",
              "                        <td id=\"T_eee889da_40c2_11ec_8465_0242ac1c0002row10_col1\" class=\"data row10 col1\" >0</td>\n",
              "                        <td id=\"T_eee889da_40c2_11ec_8465_0242ac1c0002row10_col2\" class=\"data row10 col2\" >0</td>\n",
              "                        <td id=\"T_eee889da_40c2_11ec_8465_0242ac1c0002row10_col3\" class=\"data row10 col3\" >1</td>\n",
              "                        <td id=\"T_eee889da_40c2_11ec_8465_0242ac1c0002row10_col4\" class=\"data row10 col4\" >6</td>\n",
              "                        <td id=\"T_eee889da_40c2_11ec_8465_0242ac1c0002row10_col5\" class=\"data row10 col5\" >14</td>\n",
              "                        <td id=\"T_eee889da_40c2_11ec_8465_0242ac1c0002row10_col6\" class=\"data row10 col6\" >2</td>\n",
              "                        <td id=\"T_eee889da_40c2_11ec_8465_0242ac1c0002row10_col7\" class=\"data row10 col7\" >1</td>\n",
              "                        <td id=\"T_eee889da_40c2_11ec_8465_0242ac1c0002row10_col8\" class=\"data row10 col8\" >0</td>\n",
              "                        <td id=\"T_eee889da_40c2_11ec_8465_0242ac1c0002row10_col9\" class=\"data row10 col9\" >0</td>\n",
              "                        <td id=\"T_eee889da_40c2_11ec_8465_0242ac1c0002row10_col10\" class=\"data row10 col10\" >112</td>\n",
              "                        <td id=\"T_eee889da_40c2_11ec_8465_0242ac1c0002row10_col11\" class=\"data row10 col11\" >1</td>\n",
              "            </tr>\n",
              "            <tr>\n",
              "                        <th id=\"T_eee889da_40c2_11ec_8465_0242ac1c0002level0_row11\" class=\"row_heading level0 row11\" >Actual F43+</th>\n",
              "                        <td id=\"T_eee889da_40c2_11ec_8465_0242ac1c0002row11_col0\" class=\"data row11 col0\" >0</td>\n",
              "                        <td id=\"T_eee889da_40c2_11ec_8465_0242ac1c0002row11_col1\" class=\"data row11 col1\" >1</td>\n",
              "                        <td id=\"T_eee889da_40c2_11ec_8465_0242ac1c0002row11_col2\" class=\"data row11 col2\" >1</td>\n",
              "                        <td id=\"T_eee889da_40c2_11ec_8465_0242ac1c0002row11_col3\" class=\"data row11 col3\" >6</td>\n",
              "                        <td id=\"T_eee889da_40c2_11ec_8465_0242ac1c0002row11_col4\" class=\"data row11 col4\" >17</td>\n",
              "                        <td id=\"T_eee889da_40c2_11ec_8465_0242ac1c0002row11_col5\" class=\"data row11 col5\" >19</td>\n",
              "                        <td id=\"T_eee889da_40c2_11ec_8465_0242ac1c0002row11_col6\" class=\"data row11 col6\" >0</td>\n",
              "                        <td id=\"T_eee889da_40c2_11ec_8465_0242ac1c0002row11_col7\" class=\"data row11 col7\" >0</td>\n",
              "                        <td id=\"T_eee889da_40c2_11ec_8465_0242ac1c0002row11_col8\" class=\"data row11 col8\" >0</td>\n",
              "                        <td id=\"T_eee889da_40c2_11ec_8465_0242ac1c0002row11_col9\" class=\"data row11 col9\" >0</td>\n",
              "                        <td id=\"T_eee889da_40c2_11ec_8465_0242ac1c0002row11_col10\" class=\"data row11 col10\" >1</td>\n",
              "                        <td id=\"T_eee889da_40c2_11ec_8465_0242ac1c0002row11_col11\" class=\"data row11 col11\" >127</td>\n",
              "            </tr>\n",
              "    </tbody></table>"
            ],
            "text/plain": [
              "<pandas.io.formats.style.Styler at 0x7f5c93a796d0>"
            ]
          },
          "metadata": {},
          "execution_count": 18
        }
      ]
    },
    {
      "cell_type": "code",
      "metadata": {
        "colab": {
          "base_uri": "https://localhost:8080/"
        },
        "id": "eb7p5Ci1ryaA",
        "outputId": "dbf9ed31-32b3-42ba-9245-28e110c8c585"
      },
      "source": [
        "print(\"Classification Report:\")\n",
        "print()\n",
        "print(classification_report(y_test, y_pred))\n"
      ],
      "execution_count": null,
      "outputs": [
        {
          "output_type": "stream",
          "name": "stdout",
          "text": [
            "Classification Report:\n",
            "\n",
            "              precision    recall  f1-score   support\n",
            "\n",
            "           0       0.91      0.91      0.91       127\n",
            "           1       0.93      0.89      0.91       250\n",
            "           2       0.98      0.86      0.92       177\n",
            "           3       0.83      0.81      0.82       273\n",
            "           4       0.87      0.87      0.87       538\n",
            "           5       0.78      0.91      0.84       569\n",
            "           6       0.95      0.90      0.92        39\n",
            "           7       0.84      0.75      0.79        28\n",
            "           8       0.96      0.77      0.85        56\n",
            "           9       0.91      0.88      0.89        81\n",
            "          10       0.84      0.82      0.83       137\n",
            "          11       0.92      0.74      0.82       172\n",
            "\n",
            "    accuracy                           0.86      2447\n",
            "   macro avg       0.89      0.84      0.86      2447\n",
            "weighted avg       0.87      0.86      0.86      2447\n",
            "\n"
          ]
        }
      ]
    },
    {
      "cell_type": "markdown",
      "metadata": {
        "id": "YjO0S8fa6LRC"
      },
      "source": [
        "# Decision Tree Classifier"
      ]
    },
    {
      "cell_type": "code",
      "metadata": {
        "colab": {
          "base_uri": "https://localhost:8080/"
        },
        "id": "yiz8bETf6kep",
        "outputId": "d128eddb-61b5-4c34-e173-997111119506"
      },
      "source": [
        "pipeline = Pipeline(\n",
        "    [(\"preprocessing\", preprocessing), (\"dtc\", DecisionTreeClassifier())], verbose=True\n",
        ")\n",
        "\n",
        "pipeline.fit(X_train, y_train)\n"
      ],
      "execution_count": null,
      "outputs": [
        {
          "output_type": "stream",
          "name": "stdout",
          "text": [
            "[Pipeline] ..... (step 1 of 2) Processing preprocessing, total=   0.0s\n",
            "[Pipeline] ............... (step 2 of 2) Processing dtc, total=   0.1s\n"
          ]
        },
        {
          "output_type": "execute_result",
          "data": {
            "text/plain": [
              "Pipeline(memory=None,\n",
              "         steps=[('preprocessing',\n",
              "                 ColumnTransformer(n_jobs=None, remainder='passthrough',\n",
              "                                   sparse_threshold=0.3,\n",
              "                                   transformer_weights=None,\n",
              "                                   transformers=[('scale',\n",
              "                                                  StandardScaler(copy=True,\n",
              "                                                                 with_mean=True,\n",
              "                                                                 with_std=True),\n",
              "                                                  ['device_id', 'event_id'])],\n",
              "                                   verbose=False)),\n",
              "                ('dtc',\n",
              "                 DecisionTreeClassifier(ccp_alpha=0.0, class_weight=None,\n",
              "                                        criterion='gini', max_depth=None,\n",
              "                                        max_features=None, max_leaf_nodes=None,\n",
              "                                        min_impurity_decrease=0.0,\n",
              "                                        min_impurity_split=None,\n",
              "                                        min_samples_leaf=1, min_samples_split=2,\n",
              "                                        min_weight_fraction_leaf=0.0,\n",
              "                                        presort='deprecated', random_state=None,\n",
              "                                        splitter='best'))],\n",
              "         verbose=True)"
            ]
          },
          "metadata": {},
          "execution_count": 20
        }
      ]
    },
    {
      "cell_type": "code",
      "metadata": {
        "id": "7TgFk7sG6kmg"
      },
      "source": [
        "# Max depth of 50 provides a better score, this is much better than the previous score of around 0.2.\n",
        "# To improve score suggest increasing max depth even more\n",
        "grid = {'max_leaf_nodes': list(range(2, 100)), 'min_samples_split': [2, 3, 4]}\n",
        "\n",
        "\n",
        "model = GridSearchCV(DecisionTreeClassifier(random_state=42), grid, verbose=1, cv=3)\n"
      ],
      "execution_count": null,
      "outputs": []
    },
    {
      "cell_type": "code",
      "metadata": {
        "colab": {
          "base_uri": "https://localhost:8080/"
        },
        "id": "luWT8GT76GrB",
        "outputId": "2256e173-94a3-4d69-c5e0-28b03e22d7a2"
      },
      "source": [
        "model.fit(X_train, y_train)\n"
      ],
      "execution_count": null,
      "outputs": [
        {
          "output_type": "stream",
          "name": "stdout",
          "text": [
            "Fitting 3 folds for each of 294 candidates, totalling 882 fits\n"
          ]
        },
        {
          "output_type": "stream",
          "name": "stderr",
          "text": [
            "[Parallel(n_jobs=1)]: Using backend SequentialBackend with 1 concurrent workers.\n",
            "[Parallel(n_jobs=1)]: Done 882 out of 882 | elapsed:   33.3s finished\n"
          ]
        },
        {
          "output_type": "execute_result",
          "data": {
            "text/plain": [
              "GridSearchCV(cv=3, error_score=nan,\n",
              "             estimator=DecisionTreeClassifier(ccp_alpha=0.0, class_weight=None,\n",
              "                                              criterion='gini', max_depth=None,\n",
              "                                              max_features=None,\n",
              "                                              max_leaf_nodes=None,\n",
              "                                              min_impurity_decrease=0.0,\n",
              "                                              min_impurity_split=None,\n",
              "                                              min_samples_leaf=1,\n",
              "                                              min_samples_split=2,\n",
              "                                              min_weight_fraction_leaf=0.0,\n",
              "                                              presort='deprecated',\n",
              "                                              random_state=42,\n",
              "                                              splitter='best'),\n",
              "             iid='deprecated', n_jobs=None,\n",
              "             param_grid={'max_leaf_nodes': [2, 3, 4, 5, 6, 7, 8, 9, 10, 11, 12,\n",
              "                                            13, 14, 15, 16, 17, 18, 19, 20, 21,\n",
              "                                            22, 23, 24, 25, 26, 27, 28, 29, 30,\n",
              "                                            31, ...],\n",
              "                         'min_samples_split': [2, 3, 4]},\n",
              "             pre_dispatch='2*n_jobs', refit=True, return_train_score=False,\n",
              "             scoring=None, verbose=1)"
            ]
          },
          "metadata": {},
          "execution_count": 22
        }
      ]
    },
    {
      "cell_type": "code",
      "metadata": {
        "colab": {
          "base_uri": "https://localhost:8080/"
        },
        "id": "mVgRV3hW6GuC",
        "outputId": "6b85f5b8-0dc9-4ccc-d006-96362fb2e5f3"
      },
      "source": [
        "model.best_params_\n"
      ],
      "execution_count": null,
      "outputs": [
        {
          "output_type": "execute_result",
          "data": {
            "text/plain": [
              "{'max_leaf_nodes': 99, 'min_samples_split': 2}"
            ]
          },
          "metadata": {},
          "execution_count": 23
        }
      ]
    },
    {
      "cell_type": "code",
      "metadata": {
        "colab": {
          "base_uri": "https://localhost:8080/"
        },
        "id": "NRnMEOPCnfrS",
        "outputId": "55ddeafd-3288-427b-887f-4d565223c99d"
      },
      "source": [
        "# Model still appears to be extremely overfitting\n",
        "train_score = model.score(X_train, y_train)\n",
        "test_score = model.score(X_test, y_test)\n",
        "\n",
        "print(f\"Train score: {train_score}\")\n",
        "print(f\"Test score: {test_score}\")\n"
      ],
      "execution_count": null,
      "outputs": [
        {
          "output_type": "stream",
          "name": "stdout",
          "text": [
            "Train score: 0.8423957481602616\n",
            "Test score: 0.8406211687780957\n"
          ]
        }
      ]
    },
    {
      "cell_type": "code",
      "metadata": {
        "colab": {
          "base_uri": "https://localhost:8080/",
          "height": 416
        },
        "id": "eaO2sMZA6GwL",
        "outputId": "8c4fc0a7-c7c7-4ecf-a6b0-04f8acab9c43"
      },
      "source": [
        "y_pred = model.predict(X_test)\n",
        "\n",
        "con_mat = pd.DataFrame(\n",
        "    confusion_matrix(y_test, y_pred),\n",
        "    index=[\n",
        "        \"Actual M22-\",\n",
        "        \"Actual M23-26\",\n",
        "        \"Actual M27-28\",\n",
        "        \"Actual M29-31\",\n",
        "        \"Actual M32-38\",\n",
        "        \"Actual M39+\",\n",
        "        \"Actual F23-\",\n",
        "        \"Actual F24-26\",\n",
        "        \"Actual F27-28\",\n",
        "        \"Actual F29-32\",\n",
        "        \"Actual F33-42\",\n",
        "        \"Actual F43+\",\n",
        "    ],\n",
        "    columns=[\n",
        "        \"Predicted M22-\",\n",
        "        \"Predicted M23-26\",\n",
        "        \"Predicted M27-28\",\n",
        "        \"Predicted M29-31\",\n",
        "        \"Predicted M32-38\",\n",
        "        \"Predicted M39+\",\n",
        "        \"Predicted F23-\",\n",
        "        \"Predicted F24-26\",\n",
        "        \"Predicted F27-28\",\n",
        "        \"Predicted F29-32\",\n",
        "        \"Predicted F33-42\",\n",
        "        \"Predicted F43+\",\n",
        "    ],\n",
        ")\n",
        "con_mat.style.background_gradient(axis=None)\n"
      ],
      "execution_count": null,
      "outputs": [
        {
          "output_type": "execute_result",
          "data": {
            "text/html": [
              "<style  type=\"text/css\" >\n",
              "#T_02eb2c26_40c3_11ec_8465_0242ac1c0002row0_col0{\n",
              "            background-color:  #e1dfed;\n",
              "            color:  #000000;\n",
              "        }#T_02eb2c26_40c3_11ec_8465_0242ac1c0002row0_col1,#T_02eb2c26_40c3_11ec_8465_0242ac1c0002row0_col3,#T_02eb2c26_40c3_11ec_8465_0242ac1c0002row0_col5,#T_02eb2c26_40c3_11ec_8465_0242ac1c0002row0_col6,#T_02eb2c26_40c3_11ec_8465_0242ac1c0002row0_col7,#T_02eb2c26_40c3_11ec_8465_0242ac1c0002row0_col8,#T_02eb2c26_40c3_11ec_8465_0242ac1c0002row0_col9,#T_02eb2c26_40c3_11ec_8465_0242ac1c0002row1_col0,#T_02eb2c26_40c3_11ec_8465_0242ac1c0002row1_col2,#T_02eb2c26_40c3_11ec_8465_0242ac1c0002row1_col3,#T_02eb2c26_40c3_11ec_8465_0242ac1c0002row1_col6,#T_02eb2c26_40c3_11ec_8465_0242ac1c0002row1_col7,#T_02eb2c26_40c3_11ec_8465_0242ac1c0002row1_col8,#T_02eb2c26_40c3_11ec_8465_0242ac1c0002row1_col9,#T_02eb2c26_40c3_11ec_8465_0242ac1c0002row1_col10,#T_02eb2c26_40c3_11ec_8465_0242ac1c0002row2_col0,#T_02eb2c26_40c3_11ec_8465_0242ac1c0002row2_col6,#T_02eb2c26_40c3_11ec_8465_0242ac1c0002row2_col7,#T_02eb2c26_40c3_11ec_8465_0242ac1c0002row2_col8,#T_02eb2c26_40c3_11ec_8465_0242ac1c0002row2_col9,#T_02eb2c26_40c3_11ec_8465_0242ac1c0002row2_col10,#T_02eb2c26_40c3_11ec_8465_0242ac1c0002row2_col11,#T_02eb2c26_40c3_11ec_8465_0242ac1c0002row3_col0,#T_02eb2c26_40c3_11ec_8465_0242ac1c0002row3_col1,#T_02eb2c26_40c3_11ec_8465_0242ac1c0002row3_col6,#T_02eb2c26_40c3_11ec_8465_0242ac1c0002row3_col7,#T_02eb2c26_40c3_11ec_8465_0242ac1c0002row3_col8,#T_02eb2c26_40c3_11ec_8465_0242ac1c0002row3_col9,#T_02eb2c26_40c3_11ec_8465_0242ac1c0002row3_col10,#T_02eb2c26_40c3_11ec_8465_0242ac1c0002row3_col11,#T_02eb2c26_40c3_11ec_8465_0242ac1c0002row4_col0,#T_02eb2c26_40c3_11ec_8465_0242ac1c0002row4_col1,#T_02eb2c26_40c3_11ec_8465_0242ac1c0002row4_col2,#T_02eb2c26_40c3_11ec_8465_0242ac1c0002row4_col6,#T_02eb2c26_40c3_11ec_8465_0242ac1c0002row4_col7,#T_02eb2c26_40c3_11ec_8465_0242ac1c0002row4_col9,#T_02eb2c26_40c3_11ec_8465_0242ac1c0002row4_col10,#T_02eb2c26_40c3_11ec_8465_0242ac1c0002row4_col11,#T_02eb2c26_40c3_11ec_8465_0242ac1c0002row5_col1,#T_02eb2c26_40c3_11ec_8465_0242ac1c0002row5_col2,#T_02eb2c26_40c3_11ec_8465_0242ac1c0002row5_col3,#T_02eb2c26_40c3_11ec_8465_0242ac1c0002row5_col6,#T_02eb2c26_40c3_11ec_8465_0242ac1c0002row5_col7,#T_02eb2c26_40c3_11ec_8465_0242ac1c0002row5_col8,#T_02eb2c26_40c3_11ec_8465_0242ac1c0002row5_col9,#T_02eb2c26_40c3_11ec_8465_0242ac1c0002row5_col10,#T_02eb2c26_40c3_11ec_8465_0242ac1c0002row6_col0,#T_02eb2c26_40c3_11ec_8465_0242ac1c0002row6_col1,#T_02eb2c26_40c3_11ec_8465_0242ac1c0002row6_col2,#T_02eb2c26_40c3_11ec_8465_0242ac1c0002row6_col3,#T_02eb2c26_40c3_11ec_8465_0242ac1c0002row6_col5,#T_02eb2c26_40c3_11ec_8465_0242ac1c0002row6_col7,#T_02eb2c26_40c3_11ec_8465_0242ac1c0002row6_col8,#T_02eb2c26_40c3_11ec_8465_0242ac1c0002row6_col9,#T_02eb2c26_40c3_11ec_8465_0242ac1c0002row6_col10,#T_02eb2c26_40c3_11ec_8465_0242ac1c0002row6_col11,#T_02eb2c26_40c3_11ec_8465_0242ac1c0002row7_col0,#T_02eb2c26_40c3_11ec_8465_0242ac1c0002row7_col1,#T_02eb2c26_40c3_11ec_8465_0242ac1c0002row7_col2,#T_02eb2c26_40c3_11ec_8465_0242ac1c0002row7_col3,#T_02eb2c26_40c3_11ec_8465_0242ac1c0002row7_col5,#T_02eb2c26_40c3_11ec_8465_0242ac1c0002row7_col6,#T_02eb2c26_40c3_11ec_8465_0242ac1c0002row7_col8,#T_02eb2c26_40c3_11ec_8465_0242ac1c0002row7_col9,#T_02eb2c26_40c3_11ec_8465_0242ac1c0002row7_col10,#T_02eb2c26_40c3_11ec_8465_0242ac1c0002row7_col11,#T_02eb2c26_40c3_11ec_8465_0242ac1c0002row8_col0,#T_02eb2c26_40c3_11ec_8465_0242ac1c0002row8_col2,#T_02eb2c26_40c3_11ec_8465_0242ac1c0002row8_col5,#T_02eb2c26_40c3_11ec_8465_0242ac1c0002row8_col6,#T_02eb2c26_40c3_11ec_8465_0242ac1c0002row8_col7,#T_02eb2c26_40c3_11ec_8465_0242ac1c0002row8_col9,#T_02eb2c26_40c3_11ec_8465_0242ac1c0002row8_col10,#T_02eb2c26_40c3_11ec_8465_0242ac1c0002row8_col11,#T_02eb2c26_40c3_11ec_8465_0242ac1c0002row9_col0,#T_02eb2c26_40c3_11ec_8465_0242ac1c0002row9_col1,#T_02eb2c26_40c3_11ec_8465_0242ac1c0002row9_col2,#T_02eb2c26_40c3_11ec_8465_0242ac1c0002row9_col4,#T_02eb2c26_40c3_11ec_8465_0242ac1c0002row9_col5,#T_02eb2c26_40c3_11ec_8465_0242ac1c0002row9_col6,#T_02eb2c26_40c3_11ec_8465_0242ac1c0002row9_col7,#T_02eb2c26_40c3_11ec_8465_0242ac1c0002row9_col8,#T_02eb2c26_40c3_11ec_8465_0242ac1c0002row9_col10,#T_02eb2c26_40c3_11ec_8465_0242ac1c0002row9_col11,#T_02eb2c26_40c3_11ec_8465_0242ac1c0002row10_col0,#T_02eb2c26_40c3_11ec_8465_0242ac1c0002row10_col1,#T_02eb2c26_40c3_11ec_8465_0242ac1c0002row10_col2,#T_02eb2c26_40c3_11ec_8465_0242ac1c0002row10_col4,#T_02eb2c26_40c3_11ec_8465_0242ac1c0002row10_col6,#T_02eb2c26_40c3_11ec_8465_0242ac1c0002row10_col7,#T_02eb2c26_40c3_11ec_8465_0242ac1c0002row10_col8,#T_02eb2c26_40c3_11ec_8465_0242ac1c0002row10_col9,#T_02eb2c26_40c3_11ec_8465_0242ac1c0002row10_col11,#T_02eb2c26_40c3_11ec_8465_0242ac1c0002row11_col0,#T_02eb2c26_40c3_11ec_8465_0242ac1c0002row11_col3,#T_02eb2c26_40c3_11ec_8465_0242ac1c0002row11_col6,#T_02eb2c26_40c3_11ec_8465_0242ac1c0002row11_col7,#T_02eb2c26_40c3_11ec_8465_0242ac1c0002row11_col8,#T_02eb2c26_40c3_11ec_8465_0242ac1c0002row11_col9,#T_02eb2c26_40c3_11ec_8465_0242ac1c0002row11_col10{\n",
              "            background-color:  #fff7fb;\n",
              "            color:  #000000;\n",
              "        }#T_02eb2c26_40c3_11ec_8465_0242ac1c0002row0_col2,#T_02eb2c26_40c3_11ec_8465_0242ac1c0002row2_col1,#T_02eb2c26_40c3_11ec_8465_0242ac1c0002row2_col3,#T_02eb2c26_40c3_11ec_8465_0242ac1c0002row2_col5{\n",
              "            background-color:  #fef6fa;\n",
              "            color:  #000000;\n",
              "        }#T_02eb2c26_40c3_11ec_8465_0242ac1c0002row0_col4,#T_02eb2c26_40c3_11ec_8465_0242ac1c0002row3_col4,#T_02eb2c26_40c3_11ec_8465_0242ac1c0002row4_col3{\n",
              "            background-color:  #faf3f9;\n",
              "            color:  #000000;\n",
              "        }#T_02eb2c26_40c3_11ec_8465_0242ac1c0002row0_col10,#T_02eb2c26_40c3_11ec_8465_0242ac1c0002row3_col2,#T_02eb2c26_40c3_11ec_8465_0242ac1c0002row4_col8,#T_02eb2c26_40c3_11ec_8465_0242ac1c0002row5_col0,#T_02eb2c26_40c3_11ec_8465_0242ac1c0002row6_col4,#T_02eb2c26_40c3_11ec_8465_0242ac1c0002row7_col4,#T_02eb2c26_40c3_11ec_8465_0242ac1c0002row8_col3,#T_02eb2c26_40c3_11ec_8465_0242ac1c0002row9_col3,#T_02eb2c26_40c3_11ec_8465_0242ac1c0002row11_col2,#T_02eb2c26_40c3_11ec_8465_0242ac1c0002row11_col4{\n",
              "            background-color:  #fdf5fa;\n",
              "            color:  #000000;\n",
              "        }#T_02eb2c26_40c3_11ec_8465_0242ac1c0002row0_col11,#T_02eb2c26_40c3_11ec_8465_0242ac1c0002row1_col11,#T_02eb2c26_40c3_11ec_8465_0242ac1c0002row5_col4,#T_02eb2c26_40c3_11ec_8465_0242ac1c0002row10_col3,#T_02eb2c26_40c3_11ec_8465_0242ac1c0002row11_col1{\n",
              "            background-color:  #fef6fb;\n",
              "            color:  #000000;\n",
              "        }#T_02eb2c26_40c3_11ec_8465_0242ac1c0002row1_col1{\n",
              "            background-color:  #9ab8d8;\n",
              "            color:  #000000;\n",
              "        }#T_02eb2c26_40c3_11ec_8465_0242ac1c0002row1_col4,#T_02eb2c26_40c3_11ec_8465_0242ac1c0002row5_col11{\n",
              "            background-color:  #fbf3f9;\n",
              "            color:  #000000;\n",
              "        }#T_02eb2c26_40c3_11ec_8465_0242ac1c0002row1_col5,#T_02eb2c26_40c3_11ec_8465_0242ac1c0002row4_col5,#T_02eb2c26_40c3_11ec_8465_0242ac1c0002row8_col1{\n",
              "            background-color:  #fcf4fa;\n",
              "            color:  #000000;\n",
              "        }#T_02eb2c26_40c3_11ec_8465_0242ac1c0002row2_col2{\n",
              "            background-color:  #ced0e6;\n",
              "            color:  #000000;\n",
              "        }#T_02eb2c26_40c3_11ec_8465_0242ac1c0002row2_col4,#T_02eb2c26_40c3_11ec_8465_0242ac1c0002row7_col7{\n",
              "            background-color:  #faf2f8;\n",
              "            color:  #000000;\n",
              "        }#T_02eb2c26_40c3_11ec_8465_0242ac1c0002row3_col3{\n",
              "            background-color:  #b1c2de;\n",
              "            color:  #000000;\n",
              "        }#T_02eb2c26_40c3_11ec_8465_0242ac1c0002row3_col5{\n",
              "            background-color:  #eee8f3;\n",
              "            color:  #000000;\n",
              "        }#T_02eb2c26_40c3_11ec_8465_0242ac1c0002row4_col4{\n",
              "            background-color:  #034b76;\n",
              "            color:  #f1f1f1;\n",
              "        }#T_02eb2c26_40c3_11ec_8465_0242ac1c0002row5_col5{\n",
              "            background-color:  #023858;\n",
              "            color:  #f1f1f1;\n",
              "        }#T_02eb2c26_40c3_11ec_8465_0242ac1c0002row6_col6{\n",
              "            background-color:  #f7f0f7;\n",
              "            color:  #000000;\n",
              "        }#T_02eb2c26_40c3_11ec_8465_0242ac1c0002row8_col4{\n",
              "            background-color:  #fbf4f9;\n",
              "            color:  #000000;\n",
              "        }#T_02eb2c26_40c3_11ec_8465_0242ac1c0002row8_col8,#T_02eb2c26_40c3_11ec_8465_0242ac1c0002row11_col5{\n",
              "            background-color:  #f9f2f8;\n",
              "            color:  #000000;\n",
              "        }#T_02eb2c26_40c3_11ec_8465_0242ac1c0002row9_col9{\n",
              "            background-color:  #eae6f1;\n",
              "            color:  #000000;\n",
              "        }#T_02eb2c26_40c3_11ec_8465_0242ac1c0002row10_col5{\n",
              "            background-color:  #f8f1f8;\n",
              "            color:  #000000;\n",
              "        }#T_02eb2c26_40c3_11ec_8465_0242ac1c0002row10_col10{\n",
              "            background-color:  #dcdaeb;\n",
              "            color:  #000000;\n",
              "        }#T_02eb2c26_40c3_11ec_8465_0242ac1c0002row11_col11{\n",
              "            background-color:  #d3d4e7;\n",
              "            color:  #000000;\n",
              "        }</style><table id=\"T_02eb2c26_40c3_11ec_8465_0242ac1c0002\" class=\"dataframe\"><thead>    <tr>        <th class=\"blank level0\" ></th>        <th class=\"col_heading level0 col0\" >Predicted M22-</th>        <th class=\"col_heading level0 col1\" >Predicted M23-26</th>        <th class=\"col_heading level0 col2\" >Predicted M27-28</th>        <th class=\"col_heading level0 col3\" >Predicted M29-31</th>        <th class=\"col_heading level0 col4\" >Predicted M32-38</th>        <th class=\"col_heading level0 col5\" >Predicted M39+</th>        <th class=\"col_heading level0 col6\" >Predicted F23-</th>        <th class=\"col_heading level0 col7\" >Predicted F24-26</th>        <th class=\"col_heading level0 col8\" >Predicted F27-28</th>        <th class=\"col_heading level0 col9\" >Predicted F29-32</th>        <th class=\"col_heading level0 col10\" >Predicted F33-42</th>        <th class=\"col_heading level0 col11\" >Predicted F43+</th>    </tr></thead><tbody>\n",
              "                <tr>\n",
              "                        <th id=\"T_02eb2c26_40c3_11ec_8465_0242ac1c0002level0_row0\" class=\"row_heading level0 row0\" >Actual M22-</th>\n",
              "                        <td id=\"T_02eb2c26_40c3_11ec_8465_0242ac1c0002row0_col0\" class=\"data row0 col0\" >93</td>\n",
              "                        <td id=\"T_02eb2c26_40c3_11ec_8465_0242ac1c0002row0_col1\" class=\"data row0 col1\" >0</td>\n",
              "                        <td id=\"T_02eb2c26_40c3_11ec_8465_0242ac1c0002row0_col2\" class=\"data row0 col2\" >5</td>\n",
              "                        <td id=\"T_02eb2c26_40c3_11ec_8465_0242ac1c0002row0_col3\" class=\"data row0 col3\" >0</td>\n",
              "                        <td id=\"T_02eb2c26_40c3_11ec_8465_0242ac1c0002row0_col4\" class=\"data row0 col4\" >18</td>\n",
              "                        <td id=\"T_02eb2c26_40c3_11ec_8465_0242ac1c0002row0_col5\" class=\"data row0 col5\" >0</td>\n",
              "                        <td id=\"T_02eb2c26_40c3_11ec_8465_0242ac1c0002row0_col6\" class=\"data row0 col6\" >0</td>\n",
              "                        <td id=\"T_02eb2c26_40c3_11ec_8465_0242ac1c0002row0_col7\" class=\"data row0 col7\" >0</td>\n",
              "                        <td id=\"T_02eb2c26_40c3_11ec_8465_0242ac1c0002row0_col8\" class=\"data row0 col8\" >0</td>\n",
              "                        <td id=\"T_02eb2c26_40c3_11ec_8465_0242ac1c0002row0_col9\" class=\"data row0 col9\" >0</td>\n",
              "                        <td id=\"T_02eb2c26_40c3_11ec_8465_0242ac1c0002row0_col10\" class=\"data row0 col10\" >7</td>\n",
              "                        <td id=\"T_02eb2c26_40c3_11ec_8465_0242ac1c0002row0_col11\" class=\"data row0 col11\" >4</td>\n",
              "            </tr>\n",
              "            <tr>\n",
              "                        <th id=\"T_02eb2c26_40c3_11ec_8465_0242ac1c0002level0_row1\" class=\"row_heading level0 row1\" >Actual M23-26</th>\n",
              "                        <td id=\"T_02eb2c26_40c3_11ec_8465_0242ac1c0002row1_col0\" class=\"data row1 col0\" >0</td>\n",
              "                        <td id=\"T_02eb2c26_40c3_11ec_8465_0242ac1c0002row1_col1\" class=\"data row1 col1\" >219</td>\n",
              "                        <td id=\"T_02eb2c26_40c3_11ec_8465_0242ac1c0002row1_col2\" class=\"data row1 col2\" >0</td>\n",
              "                        <td id=\"T_02eb2c26_40c3_11ec_8465_0242ac1c0002row1_col3\" class=\"data row1 col3\" >0</td>\n",
              "                        <td id=\"T_02eb2c26_40c3_11ec_8465_0242ac1c0002row1_col4\" class=\"data row1 col4\" >16</td>\n",
              "                        <td id=\"T_02eb2c26_40c3_11ec_8465_0242ac1c0002row1_col5\" class=\"data row1 col5\" >11</td>\n",
              "                        <td id=\"T_02eb2c26_40c3_11ec_8465_0242ac1c0002row1_col6\" class=\"data row1 col6\" >0</td>\n",
              "                        <td id=\"T_02eb2c26_40c3_11ec_8465_0242ac1c0002row1_col7\" class=\"data row1 col7\" >0</td>\n",
              "                        <td id=\"T_02eb2c26_40c3_11ec_8465_0242ac1c0002row1_col8\" class=\"data row1 col8\" >0</td>\n",
              "                        <td id=\"T_02eb2c26_40c3_11ec_8465_0242ac1c0002row1_col9\" class=\"data row1 col9\" >0</td>\n",
              "                        <td id=\"T_02eb2c26_40c3_11ec_8465_0242ac1c0002row1_col10\" class=\"data row1 col10\" >0</td>\n",
              "                        <td id=\"T_02eb2c26_40c3_11ec_8465_0242ac1c0002row1_col11\" class=\"data row1 col11\" >4</td>\n",
              "            </tr>\n",
              "            <tr>\n",
              "                        <th id=\"T_02eb2c26_40c3_11ec_8465_0242ac1c0002level0_row2\" class=\"row_heading level0 row2\" >Actual M27-28</th>\n",
              "                        <td id=\"T_02eb2c26_40c3_11ec_8465_0242ac1c0002row2_col0\" class=\"data row2 col0\" >0</td>\n",
              "                        <td id=\"T_02eb2c26_40c3_11ec_8465_0242ac1c0002row2_col1\" class=\"data row2 col1\" >5</td>\n",
              "                        <td id=\"T_02eb2c26_40c3_11ec_8465_0242ac1c0002row2_col2\" class=\"data row2 col2\" >139</td>\n",
              "                        <td id=\"T_02eb2c26_40c3_11ec_8465_0242ac1c0002row2_col3\" class=\"data row2 col3\" >6</td>\n",
              "                        <td id=\"T_02eb2c26_40c3_11ec_8465_0242ac1c0002row2_col4\" class=\"data row2 col4\" >21</td>\n",
              "                        <td id=\"T_02eb2c26_40c3_11ec_8465_0242ac1c0002row2_col5\" class=\"data row2 col5\" >6</td>\n",
              "                        <td id=\"T_02eb2c26_40c3_11ec_8465_0242ac1c0002row2_col6\" class=\"data row2 col6\" >0</td>\n",
              "                        <td id=\"T_02eb2c26_40c3_11ec_8465_0242ac1c0002row2_col7\" class=\"data row2 col7\" >0</td>\n",
              "                        <td id=\"T_02eb2c26_40c3_11ec_8465_0242ac1c0002row2_col8\" class=\"data row2 col8\" >0</td>\n",
              "                        <td id=\"T_02eb2c26_40c3_11ec_8465_0242ac1c0002row2_col9\" class=\"data row2 col9\" >0</td>\n",
              "                        <td id=\"T_02eb2c26_40c3_11ec_8465_0242ac1c0002row2_col10\" class=\"data row2 col10\" >0</td>\n",
              "                        <td id=\"T_02eb2c26_40c3_11ec_8465_0242ac1c0002row2_col11\" class=\"data row2 col11\" >0</td>\n",
              "            </tr>\n",
              "            <tr>\n",
              "                        <th id=\"T_02eb2c26_40c3_11ec_8465_0242ac1c0002level0_row3\" class=\"row_heading level0 row3\" >Actual M29-31</th>\n",
              "                        <td id=\"T_02eb2c26_40c3_11ec_8465_0242ac1c0002row3_col0\" class=\"data row3 col0\" >0</td>\n",
              "                        <td id=\"T_02eb2c26_40c3_11ec_8465_0242ac1c0002row3_col1\" class=\"data row3 col1\" >0</td>\n",
              "                        <td id=\"T_02eb2c26_40c3_11ec_8465_0242ac1c0002row3_col2\" class=\"data row3 col2\" >8</td>\n",
              "                        <td id=\"T_02eb2c26_40c3_11ec_8465_0242ac1c0002row3_col3\" class=\"data row3 col3\" >184</td>\n",
              "                        <td id=\"T_02eb2c26_40c3_11ec_8465_0242ac1c0002row3_col4\" class=\"data row3 col4\" >18</td>\n",
              "                        <td id=\"T_02eb2c26_40c3_11ec_8465_0242ac1c0002row3_col5\" class=\"data row3 col5\" >63</td>\n",
              "                        <td id=\"T_02eb2c26_40c3_11ec_8465_0242ac1c0002row3_col6\" class=\"data row3 col6\" >0</td>\n",
              "                        <td id=\"T_02eb2c26_40c3_11ec_8465_0242ac1c0002row3_col7\" class=\"data row3 col7\" >0</td>\n",
              "                        <td id=\"T_02eb2c26_40c3_11ec_8465_0242ac1c0002row3_col8\" class=\"data row3 col8\" >0</td>\n",
              "                        <td id=\"T_02eb2c26_40c3_11ec_8465_0242ac1c0002row3_col9\" class=\"data row3 col9\" >0</td>\n",
              "                        <td id=\"T_02eb2c26_40c3_11ec_8465_0242ac1c0002row3_col10\" class=\"data row3 col10\" >0</td>\n",
              "                        <td id=\"T_02eb2c26_40c3_11ec_8465_0242ac1c0002row3_col11\" class=\"data row3 col11\" >0</td>\n",
              "            </tr>\n",
              "            <tr>\n",
              "                        <th id=\"T_02eb2c26_40c3_11ec_8465_0242ac1c0002level0_row4\" class=\"row_heading level0 row4\" >Actual M32-38</th>\n",
              "                        <td id=\"T_02eb2c26_40c3_11ec_8465_0242ac1c0002row4_col0\" class=\"data row4 col0\" >0</td>\n",
              "                        <td id=\"T_02eb2c26_40c3_11ec_8465_0242ac1c0002row4_col1\" class=\"data row4 col1\" >0</td>\n",
              "                        <td id=\"T_02eb2c26_40c3_11ec_8465_0242ac1c0002row4_col2\" class=\"data row4 col2\" >0</td>\n",
              "                        <td id=\"T_02eb2c26_40c3_11ec_8465_0242ac1c0002row4_col3\" class=\"data row4 col3\" >17</td>\n",
              "                        <td id=\"T_02eb2c26_40c3_11ec_8465_0242ac1c0002row4_col4\" class=\"data row4 col4\" >502</td>\n",
              "                        <td id=\"T_02eb2c26_40c3_11ec_8465_0242ac1c0002row4_col5\" class=\"data row4 col5\" >12</td>\n",
              "                        <td id=\"T_02eb2c26_40c3_11ec_8465_0242ac1c0002row4_col6\" class=\"data row4 col6\" >0</td>\n",
              "                        <td id=\"T_02eb2c26_40c3_11ec_8465_0242ac1c0002row4_col7\" class=\"data row4 col7\" >0</td>\n",
              "                        <td id=\"T_02eb2c26_40c3_11ec_8465_0242ac1c0002row4_col8\" class=\"data row4 col8\" >7</td>\n",
              "                        <td id=\"T_02eb2c26_40c3_11ec_8465_0242ac1c0002row4_col9\" class=\"data row4 col9\" >0</td>\n",
              "                        <td id=\"T_02eb2c26_40c3_11ec_8465_0242ac1c0002row4_col10\" class=\"data row4 col10\" >0</td>\n",
              "                        <td id=\"T_02eb2c26_40c3_11ec_8465_0242ac1c0002row4_col11\" class=\"data row4 col11\" >0</td>\n",
              "            </tr>\n",
              "            <tr>\n",
              "                        <th id=\"T_02eb2c26_40c3_11ec_8465_0242ac1c0002level0_row5\" class=\"row_heading level0 row5\" >Actual M39+</th>\n",
              "                        <td id=\"T_02eb2c26_40c3_11ec_8465_0242ac1c0002row5_col0\" class=\"data row5 col0\" >9</td>\n",
              "                        <td id=\"T_02eb2c26_40c3_11ec_8465_0242ac1c0002row5_col1\" class=\"data row5 col1\" >0</td>\n",
              "                        <td id=\"T_02eb2c26_40c3_11ec_8465_0242ac1c0002row5_col2\" class=\"data row5 col2\" >2</td>\n",
              "                        <td id=\"T_02eb2c26_40c3_11ec_8465_0242ac1c0002row5_col3\" class=\"data row5 col3\" >0</td>\n",
              "                        <td id=\"T_02eb2c26_40c3_11ec_8465_0242ac1c0002row5_col4\" class=\"data row5 col4\" >3</td>\n",
              "                        <td id=\"T_02eb2c26_40c3_11ec_8465_0242ac1c0002row5_col5\" class=\"data row5 col5\" >540</td>\n",
              "                        <td id=\"T_02eb2c26_40c3_11ec_8465_0242ac1c0002row5_col6\" class=\"data row5 col6\" >0</td>\n",
              "                        <td id=\"T_02eb2c26_40c3_11ec_8465_0242ac1c0002row5_col7\" class=\"data row5 col7\" >0</td>\n",
              "                        <td id=\"T_02eb2c26_40c3_11ec_8465_0242ac1c0002row5_col8\" class=\"data row5 col8\" >0</td>\n",
              "                        <td id=\"T_02eb2c26_40c3_11ec_8465_0242ac1c0002row5_col9\" class=\"data row5 col9\" >0</td>\n",
              "                        <td id=\"T_02eb2c26_40c3_11ec_8465_0242ac1c0002row5_col10\" class=\"data row5 col10\" >0</td>\n",
              "                        <td id=\"T_02eb2c26_40c3_11ec_8465_0242ac1c0002row5_col11\" class=\"data row5 col11\" >15</td>\n",
              "            </tr>\n",
              "            <tr>\n",
              "                        <th id=\"T_02eb2c26_40c3_11ec_8465_0242ac1c0002level0_row6\" class=\"row_heading level0 row6\" >Actual F23-</th>\n",
              "                        <td id=\"T_02eb2c26_40c3_11ec_8465_0242ac1c0002row6_col0\" class=\"data row6 col0\" >0</td>\n",
              "                        <td id=\"T_02eb2c26_40c3_11ec_8465_0242ac1c0002row6_col1\" class=\"data row6 col1\" >0</td>\n",
              "                        <td id=\"T_02eb2c26_40c3_11ec_8465_0242ac1c0002row6_col2\" class=\"data row6 col2\" >0</td>\n",
              "                        <td id=\"T_02eb2c26_40c3_11ec_8465_0242ac1c0002row6_col3\" class=\"data row6 col3\" >0</td>\n",
              "                        <td id=\"T_02eb2c26_40c3_11ec_8465_0242ac1c0002row6_col4\" class=\"data row6 col4\" >10</td>\n",
              "                        <td id=\"T_02eb2c26_40c3_11ec_8465_0242ac1c0002row6_col5\" class=\"data row6 col5\" >0</td>\n",
              "                        <td id=\"T_02eb2c26_40c3_11ec_8465_0242ac1c0002row6_col6\" class=\"data row6 col6\" >29</td>\n",
              "                        <td id=\"T_02eb2c26_40c3_11ec_8465_0242ac1c0002row6_col7\" class=\"data row6 col7\" >0</td>\n",
              "                        <td id=\"T_02eb2c26_40c3_11ec_8465_0242ac1c0002row6_col8\" class=\"data row6 col8\" >0</td>\n",
              "                        <td id=\"T_02eb2c26_40c3_11ec_8465_0242ac1c0002row6_col9\" class=\"data row6 col9\" >0</td>\n",
              "                        <td id=\"T_02eb2c26_40c3_11ec_8465_0242ac1c0002row6_col10\" class=\"data row6 col10\" >0</td>\n",
              "                        <td id=\"T_02eb2c26_40c3_11ec_8465_0242ac1c0002row6_col11\" class=\"data row6 col11\" >0</td>\n",
              "            </tr>\n",
              "            <tr>\n",
              "                        <th id=\"T_02eb2c26_40c3_11ec_8465_0242ac1c0002level0_row7\" class=\"row_heading level0 row7\" >Actual F24-26</th>\n",
              "                        <td id=\"T_02eb2c26_40c3_11ec_8465_0242ac1c0002row7_col0\" class=\"data row7 col0\" >0</td>\n",
              "                        <td id=\"T_02eb2c26_40c3_11ec_8465_0242ac1c0002row7_col1\" class=\"data row7 col1\" >0</td>\n",
              "                        <td id=\"T_02eb2c26_40c3_11ec_8465_0242ac1c0002row7_col2\" class=\"data row7 col2\" >0</td>\n",
              "                        <td id=\"T_02eb2c26_40c3_11ec_8465_0242ac1c0002row7_col3\" class=\"data row7 col3\" >0</td>\n",
              "                        <td id=\"T_02eb2c26_40c3_11ec_8465_0242ac1c0002row7_col4\" class=\"data row7 col4\" >8</td>\n",
              "                        <td id=\"T_02eb2c26_40c3_11ec_8465_0242ac1c0002row7_col5\" class=\"data row7 col5\" >0</td>\n",
              "                        <td id=\"T_02eb2c26_40c3_11ec_8465_0242ac1c0002row7_col6\" class=\"data row7 col6\" >0</td>\n",
              "                        <td id=\"T_02eb2c26_40c3_11ec_8465_0242ac1c0002row7_col7\" class=\"data row7 col7\" >20</td>\n",
              "                        <td id=\"T_02eb2c26_40c3_11ec_8465_0242ac1c0002row7_col8\" class=\"data row7 col8\" >0</td>\n",
              "                        <td id=\"T_02eb2c26_40c3_11ec_8465_0242ac1c0002row7_col9\" class=\"data row7 col9\" >0</td>\n",
              "                        <td id=\"T_02eb2c26_40c3_11ec_8465_0242ac1c0002row7_col10\" class=\"data row7 col10\" >0</td>\n",
              "                        <td id=\"T_02eb2c26_40c3_11ec_8465_0242ac1c0002row7_col11\" class=\"data row7 col11\" >0</td>\n",
              "            </tr>\n",
              "            <tr>\n",
              "                        <th id=\"T_02eb2c26_40c3_11ec_8465_0242ac1c0002level0_row8\" class=\"row_heading level0 row8\" >Actual F27-28</th>\n",
              "                        <td id=\"T_02eb2c26_40c3_11ec_8465_0242ac1c0002row8_col0\" class=\"data row8 col0\" >0</td>\n",
              "                        <td id=\"T_02eb2c26_40c3_11ec_8465_0242ac1c0002row8_col1\" class=\"data row8 col1\" >11</td>\n",
              "                        <td id=\"T_02eb2c26_40c3_11ec_8465_0242ac1c0002row8_col2\" class=\"data row8 col2\" >0</td>\n",
              "                        <td id=\"T_02eb2c26_40c3_11ec_8465_0242ac1c0002row8_col3\" class=\"data row8 col3\" >8</td>\n",
              "                        <td id=\"T_02eb2c26_40c3_11ec_8465_0242ac1c0002row8_col4\" class=\"data row8 col4\" >14</td>\n",
              "                        <td id=\"T_02eb2c26_40c3_11ec_8465_0242ac1c0002row8_col5\" class=\"data row8 col5\" >0</td>\n",
              "                        <td id=\"T_02eb2c26_40c3_11ec_8465_0242ac1c0002row8_col6\" class=\"data row8 col6\" >0</td>\n",
              "                        <td id=\"T_02eb2c26_40c3_11ec_8465_0242ac1c0002row8_col7\" class=\"data row8 col7\" >0</td>\n",
              "                        <td id=\"T_02eb2c26_40c3_11ec_8465_0242ac1c0002row8_col8\" class=\"data row8 col8\" >23</td>\n",
              "                        <td id=\"T_02eb2c26_40c3_11ec_8465_0242ac1c0002row8_col9\" class=\"data row8 col9\" >0</td>\n",
              "                        <td id=\"T_02eb2c26_40c3_11ec_8465_0242ac1c0002row8_col10\" class=\"data row8 col10\" >0</td>\n",
              "                        <td id=\"T_02eb2c26_40c3_11ec_8465_0242ac1c0002row8_col11\" class=\"data row8 col11\" >0</td>\n",
              "            </tr>\n",
              "            <tr>\n",
              "                        <th id=\"T_02eb2c26_40c3_11ec_8465_0242ac1c0002level0_row9\" class=\"row_heading level0 row9\" >Actual F29-32</th>\n",
              "                        <td id=\"T_02eb2c26_40c3_11ec_8465_0242ac1c0002row9_col0\" class=\"data row9 col0\" >0</td>\n",
              "                        <td id=\"T_02eb2c26_40c3_11ec_8465_0242ac1c0002row9_col1\" class=\"data row9 col1\" >0</td>\n",
              "                        <td id=\"T_02eb2c26_40c3_11ec_8465_0242ac1c0002row9_col2\" class=\"data row9 col2\" >0</td>\n",
              "                        <td id=\"T_02eb2c26_40c3_11ec_8465_0242ac1c0002row9_col3\" class=\"data row9 col3\" >8</td>\n",
              "                        <td id=\"T_02eb2c26_40c3_11ec_8465_0242ac1c0002row9_col4\" class=\"data row9 col4\" >0</td>\n",
              "                        <td id=\"T_02eb2c26_40c3_11ec_8465_0242ac1c0002row9_col5\" class=\"data row9 col5\" >0</td>\n",
              "                        <td id=\"T_02eb2c26_40c3_11ec_8465_0242ac1c0002row9_col6\" class=\"data row9 col6\" >0</td>\n",
              "                        <td id=\"T_02eb2c26_40c3_11ec_8465_0242ac1c0002row9_col7\" class=\"data row9 col7\" >0</td>\n",
              "                        <td id=\"T_02eb2c26_40c3_11ec_8465_0242ac1c0002row9_col8\" class=\"data row9 col8\" >0</td>\n",
              "                        <td id=\"T_02eb2c26_40c3_11ec_8465_0242ac1c0002row9_col9\" class=\"data row9 col9\" >73</td>\n",
              "                        <td id=\"T_02eb2c26_40c3_11ec_8465_0242ac1c0002row9_col10\" class=\"data row9 col10\" >0</td>\n",
              "                        <td id=\"T_02eb2c26_40c3_11ec_8465_0242ac1c0002row9_col11\" class=\"data row9 col11\" >0</td>\n",
              "            </tr>\n",
              "            <tr>\n",
              "                        <th id=\"T_02eb2c26_40c3_11ec_8465_0242ac1c0002level0_row10\" class=\"row_heading level0 row10\" >Actual F33-42</th>\n",
              "                        <td id=\"T_02eb2c26_40c3_11ec_8465_0242ac1c0002row10_col0\" class=\"data row10 col0\" >0</td>\n",
              "                        <td id=\"T_02eb2c26_40c3_11ec_8465_0242ac1c0002row10_col1\" class=\"data row10 col1\" >0</td>\n",
              "                        <td id=\"T_02eb2c26_40c3_11ec_8465_0242ac1c0002row10_col2\" class=\"data row10 col2\" >0</td>\n",
              "                        <td id=\"T_02eb2c26_40c3_11ec_8465_0242ac1c0002row10_col3\" class=\"data row10 col3\" >3</td>\n",
              "                        <td id=\"T_02eb2c26_40c3_11ec_8465_0242ac1c0002row10_col4\" class=\"data row10 col4\" >0</td>\n",
              "                        <td id=\"T_02eb2c26_40c3_11ec_8465_0242ac1c0002row10_col5\" class=\"data row10 col5\" >27</td>\n",
              "                        <td id=\"T_02eb2c26_40c3_11ec_8465_0242ac1c0002row10_col6\" class=\"data row10 col6\" >0</td>\n",
              "                        <td id=\"T_02eb2c26_40c3_11ec_8465_0242ac1c0002row10_col7\" class=\"data row10 col7\" >0</td>\n",
              "                        <td id=\"T_02eb2c26_40c3_11ec_8465_0242ac1c0002row10_col8\" class=\"data row10 col8\" >0</td>\n",
              "                        <td id=\"T_02eb2c26_40c3_11ec_8465_0242ac1c0002row10_col9\" class=\"data row10 col9\" >0</td>\n",
              "                        <td id=\"T_02eb2c26_40c3_11ec_8465_0242ac1c0002row10_col10\" class=\"data row10 col10\" >107</td>\n",
              "                        <td id=\"T_02eb2c26_40c3_11ec_8465_0242ac1c0002row10_col11\" class=\"data row10 col11\" >0</td>\n",
              "            </tr>\n",
              "            <tr>\n",
              "                        <th id=\"T_02eb2c26_40c3_11ec_8465_0242ac1c0002level0_row11\" class=\"row_heading level0 row11\" >Actual F43+</th>\n",
              "                        <td id=\"T_02eb2c26_40c3_11ec_8465_0242ac1c0002row11_col0\" class=\"data row11 col0\" >0</td>\n",
              "                        <td id=\"T_02eb2c26_40c3_11ec_8465_0242ac1c0002row11_col1\" class=\"data row11 col1\" >4</td>\n",
              "                        <td id=\"T_02eb2c26_40c3_11ec_8465_0242ac1c0002row11_col2\" class=\"data row11 col2\" >8</td>\n",
              "                        <td id=\"T_02eb2c26_40c3_11ec_8465_0242ac1c0002row11_col3\" class=\"data row11 col3\" >0</td>\n",
              "                        <td id=\"T_02eb2c26_40c3_11ec_8465_0242ac1c0002row11_col4\" class=\"data row11 col4\" >9</td>\n",
              "                        <td id=\"T_02eb2c26_40c3_11ec_8465_0242ac1c0002row11_col5\" class=\"data row11 col5\" >23</td>\n",
              "                        <td id=\"T_02eb2c26_40c3_11ec_8465_0242ac1c0002row11_col6\" class=\"data row11 col6\" >0</td>\n",
              "                        <td id=\"T_02eb2c26_40c3_11ec_8465_0242ac1c0002row11_col7\" class=\"data row11 col7\" >0</td>\n",
              "                        <td id=\"T_02eb2c26_40c3_11ec_8465_0242ac1c0002row11_col8\" class=\"data row11 col8\" >0</td>\n",
              "                        <td id=\"T_02eb2c26_40c3_11ec_8465_0242ac1c0002row11_col9\" class=\"data row11 col9\" >0</td>\n",
              "                        <td id=\"T_02eb2c26_40c3_11ec_8465_0242ac1c0002row11_col10\" class=\"data row11 col10\" >0</td>\n",
              "                        <td id=\"T_02eb2c26_40c3_11ec_8465_0242ac1c0002row11_col11\" class=\"data row11 col11\" >128</td>\n",
              "            </tr>\n",
              "    </tbody></table>"
            ],
            "text/plain": [
              "<pandas.io.formats.style.Styler at 0x7f5c9346fd50>"
            ]
          },
          "metadata": {},
          "execution_count": 25
        }
      ]
    },
    {
      "cell_type": "code",
      "metadata": {
        "colab": {
          "base_uri": "https://localhost:8080/"
        },
        "id": "X_mqzWqQ6GzE",
        "outputId": "f9530195-aefb-45ef-a295-4f6a98d75eab"
      },
      "source": [
        "print(\"Classification Report:\")\n",
        "print()\n",
        "print(classification_report(y_test, y_pred))\n"
      ],
      "execution_count": null,
      "outputs": [
        {
          "output_type": "stream",
          "name": "stdout",
          "text": [
            "Classification Report:\n",
            "\n",
            "              precision    recall  f1-score   support\n",
            "\n",
            "           0       0.91      0.73      0.81       127\n",
            "           1       0.92      0.88      0.90       250\n",
            "           2       0.86      0.79      0.82       177\n",
            "           3       0.81      0.67      0.74       273\n",
            "           4       0.81      0.93      0.87       538\n",
            "           5       0.79      0.95      0.86       569\n",
            "           6       1.00      0.74      0.85        39\n",
            "           7       1.00      0.71      0.83        28\n",
            "           8       0.77      0.41      0.53        56\n",
            "           9       1.00      0.90      0.95        81\n",
            "          10       0.94      0.78      0.85       137\n",
            "          11       0.85      0.74      0.79       172\n",
            "\n",
            "    accuracy                           0.84      2447\n",
            "   macro avg       0.89      0.77      0.82      2447\n",
            "weighted avg       0.85      0.84      0.84      2447\n",
            "\n"
          ]
        }
      ]
    },
    {
      "cell_type": "markdown",
      "metadata": {
        "id": "hTTg4VKbJINs"
      },
      "source": [
        "# Support Vector Classifier"
      ]
    },
    {
      "cell_type": "code",
      "metadata": {
        "colab": {
          "base_uri": "https://localhost:8080/"
        },
        "id": "QurKJKgNJS9s",
        "outputId": "027a207d-98cd-4518-eb4e-4fac341daada"
      },
      "source": [
        "pipeline = Pipeline(\n",
        "    [(\"preprocessing\", preprocessing), (\"svcc\", SVC())], verbose=True\n",
        ")\n",
        "\n",
        "pipeline.fit(X_train, y_train)\n"
      ],
      "execution_count": null,
      "outputs": [
        {
          "output_type": "stream",
          "name": "stdout",
          "text": [
            "[Pipeline] ..... (step 1 of 2) Processing preprocessing, total=   0.0s\n",
            "[Pipeline] .............. (step 2 of 2) Processing svcc, total=  13.3s\n"
          ]
        },
        {
          "output_type": "execute_result",
          "data": {
            "text/plain": [
              "Pipeline(memory=None,\n",
              "         steps=[('preprocessing',\n",
              "                 ColumnTransformer(n_jobs=None, remainder='passthrough',\n",
              "                                   sparse_threshold=0.3,\n",
              "                                   transformer_weights=None,\n",
              "                                   transformers=[('scale',\n",
              "                                                  StandardScaler(copy=True,\n",
              "                                                                 with_mean=True,\n",
              "                                                                 with_std=True),\n",
              "                                                  ['device_id', 'event_id'])],\n",
              "                                   verbose=False)),\n",
              "                ('svcc',\n",
              "                 SVC(C=1.0, break_ties=False, cache_size=200, class_weight=None,\n",
              "                     coef0=0.0, decision_function_shape='ovr', degree=3,\n",
              "                     gamma='scale', kernel='rbf', max_iter=-1,\n",
              "                     probability=False, random_state=None, shrinking=True,\n",
              "                     tol=0.001, verbose=False))],\n",
              "         verbose=True)"
            ]
          },
          "metadata": {},
          "execution_count": 27
        }
      ]
    },
    {
      "cell_type": "code",
      "metadata": {
        "id": "9GofJilBJTC0"
      },
      "source": [
        "grid = { \"svcc__gamma\": [1.0, 5.0, 10.0], 'svcc__kernel': ['rbf']}\n",
        "\n",
        "\n",
        "model = GridSearchCV(pipeline, grid, verbose=1, cv=3)"
      ],
      "execution_count": null,
      "outputs": []
    },
    {
      "cell_type": "code",
      "metadata": {
        "colab": {
          "base_uri": "https://localhost:8080/"
        },
        "id": "ozZ-VO81TONr",
        "outputId": "1c784bc6-8ad9-45e2-d6df-864388047b33"
      },
      "source": [
        "model.fit(X_train, y_train)\n"
      ],
      "execution_count": null,
      "outputs": [
        {
          "output_type": "stream",
          "name": "stdout",
          "text": [
            "Fitting 3 folds for each of 3 candidates, totalling 9 fits\n",
            "[Pipeline] ..... (step 1 of 2) Processing preprocessing, total=   0.0s\n"
          ]
        },
        {
          "output_type": "stream",
          "name": "stderr",
          "text": [
            "[Parallel(n_jobs=1)]: Using backend SequentialBackend with 1 concurrent workers.\n"
          ]
        },
        {
          "output_type": "stream",
          "name": "stdout",
          "text": [
            "[Pipeline] .............. (step 2 of 2) Processing svcc, total=  11.9s\n",
            "[Pipeline] ..... (step 1 of 2) Processing preprocessing, total=   0.0s\n",
            "[Pipeline] .............. (step 2 of 2) Processing svcc, total=  11.9s\n",
            "[Pipeline] ..... (step 1 of 2) Processing preprocessing, total=   0.0s\n",
            "[Pipeline] .............. (step 2 of 2) Processing svcc, total=  11.9s\n",
            "[Pipeline] ..... (step 1 of 2) Processing preprocessing, total=   0.0s\n",
            "[Pipeline] .............. (step 2 of 2) Processing svcc, total=  11.9s\n",
            "[Pipeline] ..... (step 1 of 2) Processing preprocessing, total=   0.0s\n",
            "[Pipeline] .............. (step 2 of 2) Processing svcc, total=  12.0s\n",
            "[Pipeline] ..... (step 1 of 2) Processing preprocessing, total=   0.0s\n",
            "[Pipeline] .............. (step 2 of 2) Processing svcc, total=  12.0s\n",
            "[Pipeline] ..... (step 1 of 2) Processing preprocessing, total=   0.0s\n",
            "[Pipeline] .............. (step 2 of 2) Processing svcc, total=  11.9s\n",
            "[Pipeline] ..... (step 1 of 2) Processing preprocessing, total=   0.0s\n",
            "[Pipeline] .............. (step 2 of 2) Processing svcc, total=  11.9s\n",
            "[Pipeline] ..... (step 1 of 2) Processing preprocessing, total=   0.0s\n",
            "[Pipeline] .............. (step 2 of 2) Processing svcc, total=  12.1s\n"
          ]
        },
        {
          "output_type": "stream",
          "name": "stderr",
          "text": [
            "[Parallel(n_jobs=1)]: Done   9 out of   9 | elapsed:  2.2min finished\n"
          ]
        },
        {
          "output_type": "stream",
          "name": "stdout",
          "text": [
            "[Pipeline] ..... (step 1 of 2) Processing preprocessing, total=   0.0s\n",
            "[Pipeline] .............. (step 2 of 2) Processing svcc, total=  25.0s\n"
          ]
        },
        {
          "output_type": "execute_result",
          "data": {
            "text/plain": [
              "GridSearchCV(cv=3, error_score=nan,\n",
              "             estimator=Pipeline(memory=None,\n",
              "                                steps=[('preprocessing',\n",
              "                                        ColumnTransformer(n_jobs=None,\n",
              "                                                          remainder='passthrough',\n",
              "                                                          sparse_threshold=0.3,\n",
              "                                                          transformer_weights=None,\n",
              "                                                          transformers=[('scale',\n",
              "                                                                         StandardScaler(copy=True,\n",
              "                                                                                        with_mean=True,\n",
              "                                                                                        with_std=True),\n",
              "                                                                         ['device_id',\n",
              "                                                                          'event_id'])],\n",
              "                                                          verbose=False)),\n",
              "                                       ('svcc',\n",
              "                                        SVC(C=1.0, break_ties=False,\n",
              "                                            cache...\n",
              "                                            coef0=0.0,\n",
              "                                            decision_function_shape='ovr',\n",
              "                                            degree=3, gamma='scale',\n",
              "                                            kernel='rbf', max_iter=-1,\n",
              "                                            probability=False,\n",
              "                                            random_state=None, shrinking=True,\n",
              "                                            tol=0.001, verbose=False))],\n",
              "                                verbose=True),\n",
              "             iid='deprecated', n_jobs=None,\n",
              "             param_grid={'svcc__gamma': [1.0, 5.0, 10.0],\n",
              "                         'svcc__kernel': ['rbf']},\n",
              "             pre_dispatch='2*n_jobs', refit=True, return_train_score=False,\n",
              "             scoring=None, verbose=1)"
            ]
          },
          "metadata": {},
          "execution_count": 29
        }
      ]
    },
    {
      "cell_type": "code",
      "metadata": {
        "colab": {
          "base_uri": "https://localhost:8080/"
        },
        "id": "gmjSXP-SS7Dd",
        "outputId": "3b42011a-2e3f-4555-960d-06dc83fa4fe7"
      },
      "source": [
        "model.best_params_\n"
      ],
      "execution_count": null,
      "outputs": [
        {
          "output_type": "execute_result",
          "data": {
            "text/plain": [
              "{'svcc__gamma': 1.0, 'svcc__kernel': 'rbf'}"
            ]
          },
          "metadata": {},
          "execution_count": 30
        }
      ]
    },
    {
      "cell_type": "code",
      "metadata": {
        "colab": {
          "base_uri": "https://localhost:8080/",
          "height": 416
        },
        "id": "0Gr1QTmDJTH1",
        "outputId": "82328345-aa4c-4692-9c74-0f65ae09dbcb"
      },
      "source": [
        "y_pred = model.predict(X_test)\n",
        "\n",
        "con_mat = pd.DataFrame(\n",
        "    confusion_matrix(y_test, y_pred),\n",
        "    index=[\n",
        "        \"Actual M22-\",\n",
        "        \"Actual M23-26\",\n",
        "        \"Actual M27-28\",\n",
        "        \"Actual M29-31\",\n",
        "        \"Actual M32-38\",\n",
        "        \"Actual M39+\",\n",
        "        \"Actual F23-\",\n",
        "        \"Actual F24-26\",\n",
        "        \"Actual F27-28\",\n",
        "        \"Actual F29-32\",\n",
        "        \"Actual F33-42\",\n",
        "        \"Actual F43+\",\n",
        "    ],\n",
        "    columns=[\n",
        "        \"Predicted M22-\",\n",
        "        \"Predicted M23-26\",\n",
        "        \"Predicted M27-28\",\n",
        "        \"Predicted M29-31\",\n",
        "        \"Predicted M32-38\",\n",
        "        \"Predicted M39+\",\n",
        "        \"Predicted F23-\",\n",
        "        \"Predicted F24-26\",\n",
        "        \"Predicted F27-28\",\n",
        "        \"Predicted F29-32\",\n",
        "        \"Predicted F33-42\",\n",
        "        \"Predicted F43+\",\n",
        "    ],\n",
        ")\n",
        "con_mat.style.background_gradient(axis=None)\n"
      ],
      "execution_count": null,
      "outputs": [
        {
          "output_type": "execute_result",
          "data": {
            "text/html": [
              "<style  type=\"text/css\" >\n",
              "#T_69a93c00_40c3_11ec_8465_0242ac1c0002row0_col0{\n",
              "            background-color:  #e5e1ef;\n",
              "            color:  #000000;\n",
              "        }#T_69a93c00_40c3_11ec_8465_0242ac1c0002row0_col1,#T_69a93c00_40c3_11ec_8465_0242ac1c0002row3_col10,#T_69a93c00_40c3_11ec_8465_0242ac1c0002row5_col2,#T_69a93c00_40c3_11ec_8465_0242ac1c0002row5_col9,#T_69a93c00_40c3_11ec_8465_0242ac1c0002row10_col3,#T_69a93c00_40c3_11ec_8465_0242ac1c0002row11_col10{\n",
              "            background-color:  #fef6fa;\n",
              "            color:  #000000;\n",
              "        }#T_69a93c00_40c3_11ec_8465_0242ac1c0002row0_col2,#T_69a93c00_40c3_11ec_8465_0242ac1c0002row0_col6,#T_69a93c00_40c3_11ec_8465_0242ac1c0002row0_col7,#T_69a93c00_40c3_11ec_8465_0242ac1c0002row0_col8,#T_69a93c00_40c3_11ec_8465_0242ac1c0002row0_col9,#T_69a93c00_40c3_11ec_8465_0242ac1c0002row0_col10,#T_69a93c00_40c3_11ec_8465_0242ac1c0002row0_col11,#T_69a93c00_40c3_11ec_8465_0242ac1c0002row1_col6,#T_69a93c00_40c3_11ec_8465_0242ac1c0002row1_col7,#T_69a93c00_40c3_11ec_8465_0242ac1c0002row1_col8,#T_69a93c00_40c3_11ec_8465_0242ac1c0002row1_col9,#T_69a93c00_40c3_11ec_8465_0242ac1c0002row1_col10,#T_69a93c00_40c3_11ec_8465_0242ac1c0002row1_col11,#T_69a93c00_40c3_11ec_8465_0242ac1c0002row2_col3,#T_69a93c00_40c3_11ec_8465_0242ac1c0002row2_col6,#T_69a93c00_40c3_11ec_8465_0242ac1c0002row2_col7,#T_69a93c00_40c3_11ec_8465_0242ac1c0002row2_col8,#T_69a93c00_40c3_11ec_8465_0242ac1c0002row2_col9,#T_69a93c00_40c3_11ec_8465_0242ac1c0002row2_col10,#T_69a93c00_40c3_11ec_8465_0242ac1c0002row2_col11,#T_69a93c00_40c3_11ec_8465_0242ac1c0002row3_col2,#T_69a93c00_40c3_11ec_8465_0242ac1c0002row3_col6,#T_69a93c00_40c3_11ec_8465_0242ac1c0002row3_col7,#T_69a93c00_40c3_11ec_8465_0242ac1c0002row3_col9,#T_69a93c00_40c3_11ec_8465_0242ac1c0002row4_col0,#T_69a93c00_40c3_11ec_8465_0242ac1c0002row4_col1,#T_69a93c00_40c3_11ec_8465_0242ac1c0002row4_col2,#T_69a93c00_40c3_11ec_8465_0242ac1c0002row4_col6,#T_69a93c00_40c3_11ec_8465_0242ac1c0002row4_col7,#T_69a93c00_40c3_11ec_8465_0242ac1c0002row4_col8,#T_69a93c00_40c3_11ec_8465_0242ac1c0002row5_col6,#T_69a93c00_40c3_11ec_8465_0242ac1c0002row5_col7,#T_69a93c00_40c3_11ec_8465_0242ac1c0002row6_col0,#T_69a93c00_40c3_11ec_8465_0242ac1c0002row6_col1,#T_69a93c00_40c3_11ec_8465_0242ac1c0002row6_col2,#T_69a93c00_40c3_11ec_8465_0242ac1c0002row6_col4,#T_69a93c00_40c3_11ec_8465_0242ac1c0002row6_col7,#T_69a93c00_40c3_11ec_8465_0242ac1c0002row6_col8,#T_69a93c00_40c3_11ec_8465_0242ac1c0002row6_col9,#T_69a93c00_40c3_11ec_8465_0242ac1c0002row6_col11,#T_69a93c00_40c3_11ec_8465_0242ac1c0002row7_col0,#T_69a93c00_40c3_11ec_8465_0242ac1c0002row7_col1,#T_69a93c00_40c3_11ec_8465_0242ac1c0002row7_col2,#T_69a93c00_40c3_11ec_8465_0242ac1c0002row7_col3,#T_69a93c00_40c3_11ec_8465_0242ac1c0002row7_col4,#T_69a93c00_40c3_11ec_8465_0242ac1c0002row7_col6,#T_69a93c00_40c3_11ec_8465_0242ac1c0002row7_col8,#T_69a93c00_40c3_11ec_8465_0242ac1c0002row7_col9,#T_69a93c00_40c3_11ec_8465_0242ac1c0002row7_col10,#T_69a93c00_40c3_11ec_8465_0242ac1c0002row7_col11,#T_69a93c00_40c3_11ec_8465_0242ac1c0002row8_col0,#T_69a93c00_40c3_11ec_8465_0242ac1c0002row8_col2,#T_69a93c00_40c3_11ec_8465_0242ac1c0002row8_col4,#T_69a93c00_40c3_11ec_8465_0242ac1c0002row8_col6,#T_69a93c00_40c3_11ec_8465_0242ac1c0002row8_col7,#T_69a93c00_40c3_11ec_8465_0242ac1c0002row8_col9,#T_69a93c00_40c3_11ec_8465_0242ac1c0002row8_col10,#T_69a93c00_40c3_11ec_8465_0242ac1c0002row8_col11,#T_69a93c00_40c3_11ec_8465_0242ac1c0002row9_col0,#T_69a93c00_40c3_11ec_8465_0242ac1c0002row9_col1,#T_69a93c00_40c3_11ec_8465_0242ac1c0002row9_col3,#T_69a93c00_40c3_11ec_8465_0242ac1c0002row9_col6,#T_69a93c00_40c3_11ec_8465_0242ac1c0002row9_col7,#T_69a93c00_40c3_11ec_8465_0242ac1c0002row9_col8,#T_69a93c00_40c3_11ec_8465_0242ac1c0002row9_col10,#T_69a93c00_40c3_11ec_8465_0242ac1c0002row9_col11,#T_69a93c00_40c3_11ec_8465_0242ac1c0002row10_col1,#T_69a93c00_40c3_11ec_8465_0242ac1c0002row10_col6,#T_69a93c00_40c3_11ec_8465_0242ac1c0002row10_col7,#T_69a93c00_40c3_11ec_8465_0242ac1c0002row10_col8,#T_69a93c00_40c3_11ec_8465_0242ac1c0002row10_col9,#T_69a93c00_40c3_11ec_8465_0242ac1c0002row10_col11,#T_69a93c00_40c3_11ec_8465_0242ac1c0002row11_col0,#T_69a93c00_40c3_11ec_8465_0242ac1c0002row11_col6,#T_69a93c00_40c3_11ec_8465_0242ac1c0002row11_col7,#T_69a93c00_40c3_11ec_8465_0242ac1c0002row11_col8,#T_69a93c00_40c3_11ec_8465_0242ac1c0002row11_col9{\n",
              "            background-color:  #fff7fb;\n",
              "            color:  #000000;\n",
              "        }#T_69a93c00_40c3_11ec_8465_0242ac1c0002row0_col3,#T_69a93c00_40c3_11ec_8465_0242ac1c0002row2_col1,#T_69a93c00_40c3_11ec_8465_0242ac1c0002row3_col0,#T_69a93c00_40c3_11ec_8465_0242ac1c0002row5_col3,#T_69a93c00_40c3_11ec_8465_0242ac1c0002row6_col5{\n",
              "            background-color:  #fcf4fa;\n",
              "            color:  #000000;\n",
              "        }#T_69a93c00_40c3_11ec_8465_0242ac1c0002row0_col4,#T_69a93c00_40c3_11ec_8465_0242ac1c0002row1_col2,#T_69a93c00_40c3_11ec_8465_0242ac1c0002row1_col3,#T_69a93c00_40c3_11ec_8465_0242ac1c0002row2_col4,#T_69a93c00_40c3_11ec_8465_0242ac1c0002row4_col9,#T_69a93c00_40c3_11ec_8465_0242ac1c0002row5_col1,#T_69a93c00_40c3_11ec_8465_0242ac1c0002row6_col3,#T_69a93c00_40c3_11ec_8465_0242ac1c0002row8_col3,#T_69a93c00_40c3_11ec_8465_0242ac1c0002row9_col4,#T_69a93c00_40c3_11ec_8465_0242ac1c0002row11_col3{\n",
              "            background-color:  #fdf5fa;\n",
              "            color:  #000000;\n",
              "        }#T_69a93c00_40c3_11ec_8465_0242ac1c0002row0_col5,#T_69a93c00_40c3_11ec_8465_0242ac1c0002row1_col5{\n",
              "            background-color:  #f6eff7;\n",
              "            color:  #000000;\n",
              "        }#T_69a93c00_40c3_11ec_8465_0242ac1c0002row1_col0,#T_69a93c00_40c3_11ec_8465_0242ac1c0002row2_col0,#T_69a93c00_40c3_11ec_8465_0242ac1c0002row3_col1,#T_69a93c00_40c3_11ec_8465_0242ac1c0002row3_col8,#T_69a93c00_40c3_11ec_8465_0242ac1c0002row3_col11,#T_69a93c00_40c3_11ec_8465_0242ac1c0002row4_col10,#T_69a93c00_40c3_11ec_8465_0242ac1c0002row5_col0,#T_69a93c00_40c3_11ec_8465_0242ac1c0002row5_col8,#T_69a93c00_40c3_11ec_8465_0242ac1c0002row5_col11,#T_69a93c00_40c3_11ec_8465_0242ac1c0002row6_col10,#T_69a93c00_40c3_11ec_8465_0242ac1c0002row8_col1,#T_69a93c00_40c3_11ec_8465_0242ac1c0002row9_col2,#T_69a93c00_40c3_11ec_8465_0242ac1c0002row10_col0,#T_69a93c00_40c3_11ec_8465_0242ac1c0002row10_col2,#T_69a93c00_40c3_11ec_8465_0242ac1c0002row11_col1,#T_69a93c00_40c3_11ec_8465_0242ac1c0002row11_col2{\n",
              "            background-color:  #fef6fb;\n",
              "            color:  #000000;\n",
              "        }#T_69a93c00_40c3_11ec_8465_0242ac1c0002row1_col1{\n",
              "            background-color:  #9cb9d9;\n",
              "            color:  #000000;\n",
              "        }#T_69a93c00_40c3_11ec_8465_0242ac1c0002row1_col4,#T_69a93c00_40c3_11ec_8465_0242ac1c0002row7_col5,#T_69a93c00_40c3_11ec_8465_0242ac1c0002row7_col7{\n",
              "            background-color:  #fbf4f9;\n",
              "            color:  #000000;\n",
              "        }#T_69a93c00_40c3_11ec_8465_0242ac1c0002row2_col2{\n",
              "            background-color:  #c6cce3;\n",
              "            color:  #000000;\n",
              "        }#T_69a93c00_40c3_11ec_8465_0242ac1c0002row2_col5,#T_69a93c00_40c3_11ec_8465_0242ac1c0002row4_col3,#T_69a93c00_40c3_11ec_8465_0242ac1c0002row10_col5{\n",
              "            background-color:  #f8f1f8;\n",
              "            color:  #000000;\n",
              "        }#T_69a93c00_40c3_11ec_8465_0242ac1c0002row3_col3{\n",
              "            background-color:  #acc0dd;\n",
              "            color:  #000000;\n",
              "        }#T_69a93c00_40c3_11ec_8465_0242ac1c0002row3_col4,#T_69a93c00_40c3_11ec_8465_0242ac1c0002row11_col5{\n",
              "            background-color:  #f7f0f7;\n",
              "            color:  #000000;\n",
              "        }#T_69a93c00_40c3_11ec_8465_0242ac1c0002row3_col5{\n",
              "            background-color:  #eee8f3;\n",
              "            color:  #000000;\n",
              "        }#T_69a93c00_40c3_11ec_8465_0242ac1c0002row4_col4{\n",
              "            background-color:  #045483;\n",
              "            color:  #f1f1f1;\n",
              "        }#T_69a93c00_40c3_11ec_8465_0242ac1c0002row4_col5{\n",
              "            background-color:  #ebe6f2;\n",
              "            color:  #000000;\n",
              "        }#T_69a93c00_40c3_11ec_8465_0242ac1c0002row4_col11,#T_69a93c00_40c3_11ec_8465_0242ac1c0002row8_col5,#T_69a93c00_40c3_11ec_8465_0242ac1c0002row10_col4{\n",
              "            background-color:  #faf3f9;\n",
              "            color:  #000000;\n",
              "        }#T_69a93c00_40c3_11ec_8465_0242ac1c0002row5_col4{\n",
              "            background-color:  #f2ecf5;\n",
              "            color:  #000000;\n",
              "        }#T_69a93c00_40c3_11ec_8465_0242ac1c0002row5_col5{\n",
              "            background-color:  #023858;\n",
              "            color:  #f1f1f1;\n",
              "        }#T_69a93c00_40c3_11ec_8465_0242ac1c0002row5_col10,#T_69a93c00_40c3_11ec_8465_0242ac1c0002row9_col5{\n",
              "            background-color:  #f9f2f8;\n",
              "            color:  #000000;\n",
              "        }#T_69a93c00_40c3_11ec_8465_0242ac1c0002row6_col6{\n",
              "            background-color:  #faf2f8;\n",
              "            color:  #000000;\n",
              "        }#T_69a93c00_40c3_11ec_8465_0242ac1c0002row8_col8,#T_69a93c00_40c3_11ec_8465_0242ac1c0002row11_col4{\n",
              "            background-color:  #f5eff6;\n",
              "            color:  #000000;\n",
              "        }#T_69a93c00_40c3_11ec_8465_0242ac1c0002row9_col9{\n",
              "            background-color:  #f0eaf4;\n",
              "            color:  #000000;\n",
              "        }#T_69a93c00_40c3_11ec_8465_0242ac1c0002row10_col10{\n",
              "            background-color:  #e0dded;\n",
              "            color:  #000000;\n",
              "        }#T_69a93c00_40c3_11ec_8465_0242ac1c0002row11_col11{\n",
              "            background-color:  #d9d8ea;\n",
              "            color:  #000000;\n",
              "        }</style><table id=\"T_69a93c00_40c3_11ec_8465_0242ac1c0002\" class=\"dataframe\"><thead>    <tr>        <th class=\"blank level0\" ></th>        <th class=\"col_heading level0 col0\" >Predicted M22-</th>        <th class=\"col_heading level0 col1\" >Predicted M23-26</th>        <th class=\"col_heading level0 col2\" >Predicted M27-28</th>        <th class=\"col_heading level0 col3\" >Predicted M29-31</th>        <th class=\"col_heading level0 col4\" >Predicted M32-38</th>        <th class=\"col_heading level0 col5\" >Predicted M39+</th>        <th class=\"col_heading level0 col6\" >Predicted F23-</th>        <th class=\"col_heading level0 col7\" >Predicted F24-26</th>        <th class=\"col_heading level0 col8\" >Predicted F27-28</th>        <th class=\"col_heading level0 col9\" >Predicted F29-32</th>        <th class=\"col_heading level0 col10\" >Predicted F33-42</th>        <th class=\"col_heading level0 col11\" >Predicted F43+</th>    </tr></thead><tbody>\n",
              "                <tr>\n",
              "                        <th id=\"T_69a93c00_40c3_11ec_8465_0242ac1c0002level0_row0\" class=\"row_heading level0 row0\" >Actual M22-</th>\n",
              "                        <td id=\"T_69a93c00_40c3_11ec_8465_0242ac1c0002row0_col0\" class=\"data row0 col0\" >76</td>\n",
              "                        <td id=\"T_69a93c00_40c3_11ec_8465_0242ac1c0002row0_col1\" class=\"data row0 col1\" >5</td>\n",
              "                        <td id=\"T_69a93c00_40c3_11ec_8465_0242ac1c0002row0_col2\" class=\"data row0 col2\" >0</td>\n",
              "                        <td id=\"T_69a93c00_40c3_11ec_8465_0242ac1c0002row0_col3\" class=\"data row0 col3\" >11</td>\n",
              "                        <td id=\"T_69a93c00_40c3_11ec_8465_0242ac1c0002row0_col4\" class=\"data row0 col4\" >7</td>\n",
              "                        <td id=\"T_69a93c00_40c3_11ec_8465_0242ac1c0002row0_col5\" class=\"data row0 col5\" >28</td>\n",
              "                        <td id=\"T_69a93c00_40c3_11ec_8465_0242ac1c0002row0_col6\" class=\"data row0 col6\" >0</td>\n",
              "                        <td id=\"T_69a93c00_40c3_11ec_8465_0242ac1c0002row0_col7\" class=\"data row0 col7\" >0</td>\n",
              "                        <td id=\"T_69a93c00_40c3_11ec_8465_0242ac1c0002row0_col8\" class=\"data row0 col8\" >0</td>\n",
              "                        <td id=\"T_69a93c00_40c3_11ec_8465_0242ac1c0002row0_col9\" class=\"data row0 col9\" >0</td>\n",
              "                        <td id=\"T_69a93c00_40c3_11ec_8465_0242ac1c0002row0_col10\" class=\"data row0 col10\" >0</td>\n",
              "                        <td id=\"T_69a93c00_40c3_11ec_8465_0242ac1c0002row0_col11\" class=\"data row0 col11\" >0</td>\n",
              "            </tr>\n",
              "            <tr>\n",
              "                        <th id=\"T_69a93c00_40c3_11ec_8465_0242ac1c0002level0_row1\" class=\"row_heading level0 row1\" >Actual M23-26</th>\n",
              "                        <td id=\"T_69a93c00_40c3_11ec_8465_0242ac1c0002row1_col0\" class=\"data row1 col0\" >3</td>\n",
              "                        <td id=\"T_69a93c00_40c3_11ec_8465_0242ac1c0002row1_col1\" class=\"data row1 col1\" >190</td>\n",
              "                        <td id=\"T_69a93c00_40c3_11ec_8465_0242ac1c0002row1_col2\" class=\"data row1 col2\" >6</td>\n",
              "                        <td id=\"T_69a93c00_40c3_11ec_8465_0242ac1c0002row1_col3\" class=\"data row1 col3\" >9</td>\n",
              "                        <td id=\"T_69a93c00_40c3_11ec_8465_0242ac1c0002row1_col4\" class=\"data row1 col4\" >13</td>\n",
              "                        <td id=\"T_69a93c00_40c3_11ec_8465_0242ac1c0002row1_col5\" class=\"data row1 col5\" >28</td>\n",
              "                        <td id=\"T_69a93c00_40c3_11ec_8465_0242ac1c0002row1_col6\" class=\"data row1 col6\" >0</td>\n",
              "                        <td id=\"T_69a93c00_40c3_11ec_8465_0242ac1c0002row1_col7\" class=\"data row1 col7\" >0</td>\n",
              "                        <td id=\"T_69a93c00_40c3_11ec_8465_0242ac1c0002row1_col8\" class=\"data row1 col8\" >0</td>\n",
              "                        <td id=\"T_69a93c00_40c3_11ec_8465_0242ac1c0002row1_col9\" class=\"data row1 col9\" >0</td>\n",
              "                        <td id=\"T_69a93c00_40c3_11ec_8465_0242ac1c0002row1_col10\" class=\"data row1 col10\" >1</td>\n",
              "                        <td id=\"T_69a93c00_40c3_11ec_8465_0242ac1c0002row1_col11\" class=\"data row1 col11\" >0</td>\n",
              "            </tr>\n",
              "            <tr>\n",
              "                        <th id=\"T_69a93c00_40c3_11ec_8465_0242ac1c0002level0_row2\" class=\"row_heading level0 row2\" >Actual M27-28</th>\n",
              "                        <td id=\"T_69a93c00_40c3_11ec_8465_0242ac1c0002row2_col0\" class=\"data row2 col0\" >2</td>\n",
              "                        <td id=\"T_69a93c00_40c3_11ec_8465_0242ac1c0002row2_col1\" class=\"data row2 col1\" >11</td>\n",
              "                        <td id=\"T_69a93c00_40c3_11ec_8465_0242ac1c0002row2_col2\" class=\"data row2 col2\" >133</td>\n",
              "                        <td id=\"T_69a93c00_40c3_11ec_8465_0242ac1c0002row2_col3\" class=\"data row2 col3\" >0</td>\n",
              "                        <td id=\"T_69a93c00_40c3_11ec_8465_0242ac1c0002row2_col4\" class=\"data row2 col4\" >7</td>\n",
              "                        <td id=\"T_69a93c00_40c3_11ec_8465_0242ac1c0002row2_col5\" class=\"data row2 col5\" >23</td>\n",
              "                        <td id=\"T_69a93c00_40c3_11ec_8465_0242ac1c0002row2_col6\" class=\"data row2 col6\" >0</td>\n",
              "                        <td id=\"T_69a93c00_40c3_11ec_8465_0242ac1c0002row2_col7\" class=\"data row2 col7\" >0</td>\n",
              "                        <td id=\"T_69a93c00_40c3_11ec_8465_0242ac1c0002row2_col8\" class=\"data row2 col8\" >0</td>\n",
              "                        <td id=\"T_69a93c00_40c3_11ec_8465_0242ac1c0002row2_col9\" class=\"data row2 col9\" >0</td>\n",
              "                        <td id=\"T_69a93c00_40c3_11ec_8465_0242ac1c0002row2_col10\" class=\"data row2 col10\" >0</td>\n",
              "                        <td id=\"T_69a93c00_40c3_11ec_8465_0242ac1c0002row2_col11\" class=\"data row2 col11\" >1</td>\n",
              "            </tr>\n",
              "            <tr>\n",
              "                        <th id=\"T_69a93c00_40c3_11ec_8465_0242ac1c0002level0_row3\" class=\"row_heading level0 row3\" >Actual M29-31</th>\n",
              "                        <td id=\"T_69a93c00_40c3_11ec_8465_0242ac1c0002row3_col0\" class=\"data row3 col0\" >10</td>\n",
              "                        <td id=\"T_69a93c00_40c3_11ec_8465_0242ac1c0002row3_col1\" class=\"data row3 col1\" >3</td>\n",
              "                        <td id=\"T_69a93c00_40c3_11ec_8465_0242ac1c0002row3_col2\" class=\"data row3 col2\" >1</td>\n",
              "                        <td id=\"T_69a93c00_40c3_11ec_8465_0242ac1c0002row3_col3\" class=\"data row3 col3\" >170</td>\n",
              "                        <td id=\"T_69a93c00_40c3_11ec_8465_0242ac1c0002row3_col4\" class=\"data row3 col4\" >26</td>\n",
              "                        <td id=\"T_69a93c00_40c3_11ec_8465_0242ac1c0002row3_col5\" class=\"data row3 col5\" >54</td>\n",
              "                        <td id=\"T_69a93c00_40c3_11ec_8465_0242ac1c0002row3_col6\" class=\"data row3 col6\" >0</td>\n",
              "                        <td id=\"T_69a93c00_40c3_11ec_8465_0242ac1c0002row3_col7\" class=\"data row3 col7\" >0</td>\n",
              "                        <td id=\"T_69a93c00_40c3_11ec_8465_0242ac1c0002row3_col8\" class=\"data row3 col8\" >3</td>\n",
              "                        <td id=\"T_69a93c00_40c3_11ec_8465_0242ac1c0002row3_col9\" class=\"data row3 col9\" >0</td>\n",
              "                        <td id=\"T_69a93c00_40c3_11ec_8465_0242ac1c0002row3_col10\" class=\"data row3 col10\" >4</td>\n",
              "                        <td id=\"T_69a93c00_40c3_11ec_8465_0242ac1c0002row3_col11\" class=\"data row3 col11\" >2</td>\n",
              "            </tr>\n",
              "            <tr>\n",
              "                        <th id=\"T_69a93c00_40c3_11ec_8465_0242ac1c0002level0_row4\" class=\"row_heading level0 row4\" >Actual M32-38</th>\n",
              "                        <td id=\"T_69a93c00_40c3_11ec_8465_0242ac1c0002row4_col0\" class=\"data row4 col0\" >1</td>\n",
              "                        <td id=\"T_69a93c00_40c3_11ec_8465_0242ac1c0002row4_col1\" class=\"data row4 col1\" >0</td>\n",
              "                        <td id=\"T_69a93c00_40c3_11ec_8465_0242ac1c0002row4_col2\" class=\"data row4 col2\" >0</td>\n",
              "                        <td id=\"T_69a93c00_40c3_11ec_8465_0242ac1c0002row4_col3\" class=\"data row4 col3\" >24</td>\n",
              "                        <td id=\"T_69a93c00_40c3_11ec_8465_0242ac1c0002row4_col4\" class=\"data row4 col4\" >426</td>\n",
              "                        <td id=\"T_69a93c00_40c3_11ec_8465_0242ac1c0002row4_col5\" class=\"data row4 col5\" >63</td>\n",
              "                        <td id=\"T_69a93c00_40c3_11ec_8465_0242ac1c0002row4_col6\" class=\"data row4 col6\" >0</td>\n",
              "                        <td id=\"T_69a93c00_40c3_11ec_8465_0242ac1c0002row4_col7\" class=\"data row4 col7\" >0</td>\n",
              "                        <td id=\"T_69a93c00_40c3_11ec_8465_0242ac1c0002row4_col8\" class=\"data row4 col8\" >0</td>\n",
              "                        <td id=\"T_69a93c00_40c3_11ec_8465_0242ac1c0002row4_col9\" class=\"data row4 col9\" >6</td>\n",
              "                        <td id=\"T_69a93c00_40c3_11ec_8465_0242ac1c0002row4_col10\" class=\"data row4 col10\" >3</td>\n",
              "                        <td id=\"T_69a93c00_40c3_11ec_8465_0242ac1c0002row4_col11\" class=\"data row4 col11\" >15</td>\n",
              "            </tr>\n",
              "            <tr>\n",
              "                        <th id=\"T_69a93c00_40c3_11ec_8465_0242ac1c0002level0_row5\" class=\"row_heading level0 row5\" >Actual M39+</th>\n",
              "                        <td id=\"T_69a93c00_40c3_11ec_8465_0242ac1c0002row5_col0\" class=\"data row5 col0\" >2</td>\n",
              "                        <td id=\"T_69a93c00_40c3_11ec_8465_0242ac1c0002row5_col1\" class=\"data row5 col1\" >8</td>\n",
              "                        <td id=\"T_69a93c00_40c3_11ec_8465_0242ac1c0002row5_col2\" class=\"data row5 col2\" >4</td>\n",
              "                        <td id=\"T_69a93c00_40c3_11ec_8465_0242ac1c0002row5_col3\" class=\"data row5 col3\" >11</td>\n",
              "                        <td id=\"T_69a93c00_40c3_11ec_8465_0242ac1c0002row5_col4\" class=\"data row5 col4\" >40</td>\n",
              "                        <td id=\"T_69a93c00_40c3_11ec_8465_0242ac1c0002row5_col5\" class=\"data row5 col5\" >476</td>\n",
              "                        <td id=\"T_69a93c00_40c3_11ec_8465_0242ac1c0002row5_col6\" class=\"data row5 col6\" >0</td>\n",
              "                        <td id=\"T_69a93c00_40c3_11ec_8465_0242ac1c0002row5_col7\" class=\"data row5 col7\" >1</td>\n",
              "                        <td id=\"T_69a93c00_40c3_11ec_8465_0242ac1c0002row5_col8\" class=\"data row5 col8\" >2</td>\n",
              "                        <td id=\"T_69a93c00_40c3_11ec_8465_0242ac1c0002row5_col9\" class=\"data row5 col9\" >4</td>\n",
              "                        <td id=\"T_69a93c00_40c3_11ec_8465_0242ac1c0002row5_col10\" class=\"data row5 col10\" >19</td>\n",
              "                        <td id=\"T_69a93c00_40c3_11ec_8465_0242ac1c0002row5_col11\" class=\"data row5 col11\" >2</td>\n",
              "            </tr>\n",
              "            <tr>\n",
              "                        <th id=\"T_69a93c00_40c3_11ec_8465_0242ac1c0002level0_row6\" class=\"row_heading level0 row6\" >Actual F23-</th>\n",
              "                        <td id=\"T_69a93c00_40c3_11ec_8465_0242ac1c0002row6_col0\" class=\"data row6 col0\" >0</td>\n",
              "                        <td id=\"T_69a93c00_40c3_11ec_8465_0242ac1c0002row6_col1\" class=\"data row6 col1\" >0</td>\n",
              "                        <td id=\"T_69a93c00_40c3_11ec_8465_0242ac1c0002row6_col2\" class=\"data row6 col2\" >0</td>\n",
              "                        <td id=\"T_69a93c00_40c3_11ec_8465_0242ac1c0002row6_col3\" class=\"data row6 col3\" >6</td>\n",
              "                        <td id=\"T_69a93c00_40c3_11ec_8465_0242ac1c0002row6_col4\" class=\"data row6 col4\" >1</td>\n",
              "                        <td id=\"T_69a93c00_40c3_11ec_8465_0242ac1c0002row6_col5\" class=\"data row6 col5\" >11</td>\n",
              "                        <td id=\"T_69a93c00_40c3_11ec_8465_0242ac1c0002row6_col6\" class=\"data row6 col6\" >18</td>\n",
              "                        <td id=\"T_69a93c00_40c3_11ec_8465_0242ac1c0002row6_col7\" class=\"data row6 col7\" >0</td>\n",
              "                        <td id=\"T_69a93c00_40c3_11ec_8465_0242ac1c0002row6_col8\" class=\"data row6 col8\" >0</td>\n",
              "                        <td id=\"T_69a93c00_40c3_11ec_8465_0242ac1c0002row6_col9\" class=\"data row6 col9\" >0</td>\n",
              "                        <td id=\"T_69a93c00_40c3_11ec_8465_0242ac1c0002row6_col10\" class=\"data row6 col10\" >3</td>\n",
              "                        <td id=\"T_69a93c00_40c3_11ec_8465_0242ac1c0002row6_col11\" class=\"data row6 col11\" >0</td>\n",
              "            </tr>\n",
              "            <tr>\n",
              "                        <th id=\"T_69a93c00_40c3_11ec_8465_0242ac1c0002level0_row7\" class=\"row_heading level0 row7\" >Actual F24-26</th>\n",
              "                        <td id=\"T_69a93c00_40c3_11ec_8465_0242ac1c0002row7_col0\" class=\"data row7 col0\" >0</td>\n",
              "                        <td id=\"T_69a93c00_40c3_11ec_8465_0242ac1c0002row7_col1\" class=\"data row7 col1\" >0</td>\n",
              "                        <td id=\"T_69a93c00_40c3_11ec_8465_0242ac1c0002row7_col2\" class=\"data row7 col2\" >0</td>\n",
              "                        <td id=\"T_69a93c00_40c3_11ec_8465_0242ac1c0002row7_col3\" class=\"data row7 col3\" >0</td>\n",
              "                        <td id=\"T_69a93c00_40c3_11ec_8465_0242ac1c0002row7_col4\" class=\"data row7 col4\" >1</td>\n",
              "                        <td id=\"T_69a93c00_40c3_11ec_8465_0242ac1c0002row7_col5\" class=\"data row7 col5\" >13</td>\n",
              "                        <td id=\"T_69a93c00_40c3_11ec_8465_0242ac1c0002row7_col6\" class=\"data row7 col6\" >0</td>\n",
              "                        <td id=\"T_69a93c00_40c3_11ec_8465_0242ac1c0002row7_col7\" class=\"data row7 col7\" >13</td>\n",
              "                        <td id=\"T_69a93c00_40c3_11ec_8465_0242ac1c0002row7_col8\" class=\"data row7 col8\" >0</td>\n",
              "                        <td id=\"T_69a93c00_40c3_11ec_8465_0242ac1c0002row7_col9\" class=\"data row7 col9\" >0</td>\n",
              "                        <td id=\"T_69a93c00_40c3_11ec_8465_0242ac1c0002row7_col10\" class=\"data row7 col10\" >1</td>\n",
              "                        <td id=\"T_69a93c00_40c3_11ec_8465_0242ac1c0002row7_col11\" class=\"data row7 col11\" >0</td>\n",
              "            </tr>\n",
              "            <tr>\n",
              "                        <th id=\"T_69a93c00_40c3_11ec_8465_0242ac1c0002level0_row8\" class=\"row_heading level0 row8\" >Actual F27-28</th>\n",
              "                        <td id=\"T_69a93c00_40c3_11ec_8465_0242ac1c0002row8_col0\" class=\"data row8 col0\" >0</td>\n",
              "                        <td id=\"T_69a93c00_40c3_11ec_8465_0242ac1c0002row8_col1\" class=\"data row8 col1\" >2</td>\n",
              "                        <td id=\"T_69a93c00_40c3_11ec_8465_0242ac1c0002row8_col2\" class=\"data row8 col2\" >0</td>\n",
              "                        <td id=\"T_69a93c00_40c3_11ec_8465_0242ac1c0002row8_col3\" class=\"data row8 col3\" >8</td>\n",
              "                        <td id=\"T_69a93c00_40c3_11ec_8465_0242ac1c0002row8_col4\" class=\"data row8 col4\" >0</td>\n",
              "                        <td id=\"T_69a93c00_40c3_11ec_8465_0242ac1c0002row8_col5\" class=\"data row8 col5\" >15</td>\n",
              "                        <td id=\"T_69a93c00_40c3_11ec_8465_0242ac1c0002row8_col6\" class=\"data row8 col6\" >0</td>\n",
              "                        <td id=\"T_69a93c00_40c3_11ec_8465_0242ac1c0002row8_col7\" class=\"data row8 col7\" >0</td>\n",
              "                        <td id=\"T_69a93c00_40c3_11ec_8465_0242ac1c0002row8_col8\" class=\"data row8 col8\" >31</td>\n",
              "                        <td id=\"T_69a93c00_40c3_11ec_8465_0242ac1c0002row8_col9\" class=\"data row8 col9\" >0</td>\n",
              "                        <td id=\"T_69a93c00_40c3_11ec_8465_0242ac1c0002row8_col10\" class=\"data row8 col10\" >0</td>\n",
              "                        <td id=\"T_69a93c00_40c3_11ec_8465_0242ac1c0002row8_col11\" class=\"data row8 col11\" >0</td>\n",
              "            </tr>\n",
              "            <tr>\n",
              "                        <th id=\"T_69a93c00_40c3_11ec_8465_0242ac1c0002level0_row9\" class=\"row_heading level0 row9\" >Actual F29-32</th>\n",
              "                        <td id=\"T_69a93c00_40c3_11ec_8465_0242ac1c0002row9_col0\" class=\"data row9 col0\" >1</td>\n",
              "                        <td id=\"T_69a93c00_40c3_11ec_8465_0242ac1c0002row9_col1\" class=\"data row9 col1\" >0</td>\n",
              "                        <td id=\"T_69a93c00_40c3_11ec_8465_0242ac1c0002row9_col2\" class=\"data row9 col2\" >2</td>\n",
              "                        <td id=\"T_69a93c00_40c3_11ec_8465_0242ac1c0002row9_col3\" class=\"data row9 col3\" >0</td>\n",
              "                        <td id=\"T_69a93c00_40c3_11ec_8465_0242ac1c0002row9_col4\" class=\"data row9 col4\" >8</td>\n",
              "                        <td id=\"T_69a93c00_40c3_11ec_8465_0242ac1c0002row9_col5\" class=\"data row9 col5\" >19</td>\n",
              "                        <td id=\"T_69a93c00_40c3_11ec_8465_0242ac1c0002row9_col6\" class=\"data row9 col6\" >0</td>\n",
              "                        <td id=\"T_69a93c00_40c3_11ec_8465_0242ac1c0002row9_col7\" class=\"data row9 col7\" >0</td>\n",
              "                        <td id=\"T_69a93c00_40c3_11ec_8465_0242ac1c0002row9_col8\" class=\"data row9 col8\" >0</td>\n",
              "                        <td id=\"T_69a93c00_40c3_11ec_8465_0242ac1c0002row9_col9\" class=\"data row9 col9\" >50</td>\n",
              "                        <td id=\"T_69a93c00_40c3_11ec_8465_0242ac1c0002row9_col10\" class=\"data row9 col10\" >1</td>\n",
              "                        <td id=\"T_69a93c00_40c3_11ec_8465_0242ac1c0002row9_col11\" class=\"data row9 col11\" >0</td>\n",
              "            </tr>\n",
              "            <tr>\n",
              "                        <th id=\"T_69a93c00_40c3_11ec_8465_0242ac1c0002level0_row10\" class=\"row_heading level0 row10\" >Actual F33-42</th>\n",
              "                        <td id=\"T_69a93c00_40c3_11ec_8465_0242ac1c0002row10_col0\" class=\"data row10 col0\" >3</td>\n",
              "                        <td id=\"T_69a93c00_40c3_11ec_8465_0242ac1c0002row10_col1\" class=\"data row10 col1\" >1</td>\n",
              "                        <td id=\"T_69a93c00_40c3_11ec_8465_0242ac1c0002row10_col2\" class=\"data row10 col2\" >2</td>\n",
              "                        <td id=\"T_69a93c00_40c3_11ec_8465_0242ac1c0002row10_col3\" class=\"data row10 col3\" >4</td>\n",
              "                        <td id=\"T_69a93c00_40c3_11ec_8465_0242ac1c0002row10_col4\" class=\"data row10 col4\" >15</td>\n",
              "                        <td id=\"T_69a93c00_40c3_11ec_8465_0242ac1c0002row10_col5\" class=\"data row10 col5\" >23</td>\n",
              "                        <td id=\"T_69a93c00_40c3_11ec_8465_0242ac1c0002row10_col6\" class=\"data row10 col6\" >1</td>\n",
              "                        <td id=\"T_69a93c00_40c3_11ec_8465_0242ac1c0002row10_col7\" class=\"data row10 col7\" >1</td>\n",
              "                        <td id=\"T_69a93c00_40c3_11ec_8465_0242ac1c0002row10_col8\" class=\"data row10 col8\" >0</td>\n",
              "                        <td id=\"T_69a93c00_40c3_11ec_8465_0242ac1c0002row10_col9\" class=\"data row10 col9\" >0</td>\n",
              "                        <td id=\"T_69a93c00_40c3_11ec_8465_0242ac1c0002row10_col10\" class=\"data row10 col10\" >86</td>\n",
              "                        <td id=\"T_69a93c00_40c3_11ec_8465_0242ac1c0002row10_col11\" class=\"data row10 col11\" >1</td>\n",
              "            </tr>\n",
              "            <tr>\n",
              "                        <th id=\"T_69a93c00_40c3_11ec_8465_0242ac1c0002level0_row11\" class=\"row_heading level0 row11\" >Actual F43+</th>\n",
              "                        <td id=\"T_69a93c00_40c3_11ec_8465_0242ac1c0002row11_col0\" class=\"data row11 col0\" >0</td>\n",
              "                        <td id=\"T_69a93c00_40c3_11ec_8465_0242ac1c0002row11_col1\" class=\"data row11 col1\" >2</td>\n",
              "                        <td id=\"T_69a93c00_40c3_11ec_8465_0242ac1c0002row11_col2\" class=\"data row11 col2\" >2</td>\n",
              "                        <td id=\"T_69a93c00_40c3_11ec_8465_0242ac1c0002row11_col3\" class=\"data row11 col3\" >7</td>\n",
              "                        <td id=\"T_69a93c00_40c3_11ec_8465_0242ac1c0002row11_col4\" class=\"data row11 col4\" >30</td>\n",
              "                        <td id=\"T_69a93c00_40c3_11ec_8465_0242ac1c0002row11_col5\" class=\"data row11 col5\" >27</td>\n",
              "                        <td id=\"T_69a93c00_40c3_11ec_8465_0242ac1c0002row11_col6\" class=\"data row11 col6\" >0</td>\n",
              "                        <td id=\"T_69a93c00_40c3_11ec_8465_0242ac1c0002row11_col7\" class=\"data row11 col7\" >0</td>\n",
              "                        <td id=\"T_69a93c00_40c3_11ec_8465_0242ac1c0002row11_col8\" class=\"data row11 col8\" >0</td>\n",
              "                        <td id=\"T_69a93c00_40c3_11ec_8465_0242ac1c0002row11_col9\" class=\"data row11 col9\" >0</td>\n",
              "                        <td id=\"T_69a93c00_40c3_11ec_8465_0242ac1c0002row11_col10\" class=\"data row11 col10\" >5</td>\n",
              "                        <td id=\"T_69a93c00_40c3_11ec_8465_0242ac1c0002row11_col11\" class=\"data row11 col11\" >99</td>\n",
              "            </tr>\n",
              "    </tbody></table>"
            ],
            "text/plain": [
              "<pandas.io.formats.style.Styler at 0x7f5c95600990>"
            ]
          },
          "metadata": {},
          "execution_count": 31
        }
      ]
    },
    {
      "cell_type": "code",
      "metadata": {
        "colab": {
          "base_uri": "https://localhost:8080/"
        },
        "id": "X3cE78tBniOg",
        "outputId": "592be0ae-73d6-40f2-da9c-cd5ab3f2eca5"
      },
      "source": [
        "# Model still appears to be extremely overfitting\n",
        "train_score = model.score(X_train, y_train)\n",
        "test_score = model.score(X_test, y_test)\n",
        "\n",
        "print(f\"Train score: {train_score}\")\n",
        "print(f\"Test score: {test_score}\")\n"
      ],
      "execution_count": null,
      "outputs": [
        {
          "output_type": "stream",
          "name": "stdout",
          "text": [
            "Train score: 0.9021872444807849\n",
            "Test score: 0.7225173682059665\n"
          ]
        }
      ]
    },
    {
      "cell_type": "code",
      "metadata": {
        "colab": {
          "base_uri": "https://localhost:8080/"
        },
        "id": "p78wjBydS-8d",
        "outputId": "c649b5ca-7240-4dd5-c326-da237067dd6b"
      },
      "source": [
        "print(\"Classification Report:\")\n",
        "print()\n",
        "print(classification_report(y_test, y_pred))\n"
      ],
      "execution_count": null,
      "outputs": [
        {
          "output_type": "stream",
          "name": "stdout",
          "text": [
            "Classification Report:\n",
            "\n",
            "              precision    recall  f1-score   support\n",
            "\n",
            "           0       0.78      0.60      0.68       127\n",
            "           1       0.86      0.76      0.81       250\n",
            "           2       0.89      0.75      0.81       177\n",
            "           3       0.68      0.62      0.65       273\n",
            "           4       0.74      0.79      0.77       538\n",
            "           5       0.61      0.84      0.71       569\n",
            "           6       0.95      0.46      0.62        39\n",
            "           7       0.87      0.46      0.60        28\n",
            "           8       0.86      0.55      0.67        56\n",
            "           9       0.83      0.62      0.71        81\n",
            "          10       0.70      0.63      0.66       137\n",
            "          11       0.82      0.58      0.68       172\n",
            "\n",
            "    accuracy                           0.72      2447\n",
            "   macro avg       0.80      0.64      0.70      2447\n",
            "weighted avg       0.74      0.72      0.72      2447\n",
            "\n"
          ]
        }
      ]
    },
    {
      "cell_type": "markdown",
      "metadata": {
        "id": "2KZ00D2iImg0"
      },
      "source": [
        "# Gradient Boosting Classifier"
      ]
    },
    {
      "cell_type": "code",
      "metadata": {
        "colab": {
          "base_uri": "https://localhost:8080/"
        },
        "id": "EkO_P2hZ6G1N",
        "outputId": "6c2bb9f1-9112-4f98-d091-0d31ecf6e4af"
      },
      "source": [
        "pipeline = Pipeline(\n",
        "    [(\"preprocessing\", preprocessing), (\"gb\", GradientBoostingClassifier())], verbose=True\n",
        ")\n",
        "\n",
        "pipeline.fit(X_train, y_train)\n"
      ],
      "execution_count": null,
      "outputs": [
        {
          "output_type": "stream",
          "name": "stdout",
          "text": [
            "[Pipeline] ..... (step 1 of 2) Processing preprocessing, total=   0.0s\n",
            "[Pipeline] ................ (step 2 of 2) Processing gb, total=  22.4s\n"
          ]
        },
        {
          "output_type": "execute_result",
          "data": {
            "text/plain": [
              "Pipeline(memory=None,\n",
              "         steps=[('preprocessing',\n",
              "                 ColumnTransformer(n_jobs=None, remainder='passthrough',\n",
              "                                   sparse_threshold=0.3,\n",
              "                                   transformer_weights=None,\n",
              "                                   transformers=[('scale',\n",
              "                                                  StandardScaler(copy=True,\n",
              "                                                                 with_mean=True,\n",
              "                                                                 with_std=True),\n",
              "                                                  ['device_id', 'event_id'])],\n",
              "                                   verbose=False)),\n",
              "                ('gb',\n",
              "                 GradientBoostingClassifier(ccp_alpha=0.0,\n",
              "                                            criterion='friedman_mse', init=None,\n",
              "                                            le...='deviance',\n",
              "                                            max_depth=3, max_features=None,\n",
              "                                            max_leaf_nodes=None,\n",
              "                                            min_impurity_decrease=0.0,\n",
              "                                            min_impurity_split=None,\n",
              "                                            min_samples_leaf=1,\n",
              "                                            min_samples_split=2,\n",
              "                                            min_weight_fraction_leaf=0.0,\n",
              "                                            n_estimators=100,\n",
              "                                            n_iter_no_change=None,\n",
              "                                            presort='deprecated',\n",
              "                                            random_state=None, subsample=1.0,\n",
              "                                            tol=0.0001, validation_fraction=0.1,\n",
              "                                            verbose=0, warm_start=False))],\n",
              "         verbose=True)"
            ]
          },
          "metadata": {},
          "execution_count": 34
        }
      ]
    },
    {
      "cell_type": "code",
      "metadata": {
        "colab": {
          "base_uri": "https://localhost:8080/"
        },
        "id": "0QqEUvUJ6G3Q",
        "outputId": "964906ab-ebfd-4bd8-aa79-861091898e65"
      },
      "source": [
        "grid = {'gb__n_estimators': [100], \n",
        "          'gb__max_depth': [5],\n",
        "          'gb__loss': ['deviance']}\n",
        "\n",
        "model = GridSearchCV(pipeline, grid, verbose=1, cv=3)\n",
        "model.fit(X_train, y_train)\n"
      ],
      "execution_count": null,
      "outputs": [
        {
          "output_type": "stream",
          "name": "stdout",
          "text": [
            "Fitting 3 folds for each of 1 candidates, totalling 3 fits\n",
            "[Pipeline] ..... (step 1 of 2) Processing preprocessing, total=   0.0s\n"
          ]
        },
        {
          "output_type": "stream",
          "name": "stderr",
          "text": [
            "[Parallel(n_jobs=1)]: Using backend SequentialBackend with 1 concurrent workers.\n"
          ]
        },
        {
          "output_type": "stream",
          "name": "stdout",
          "text": [
            "[Pipeline] ................ (step 2 of 2) Processing gb, total=  20.5s\n",
            "[Pipeline] ..... (step 1 of 2) Processing preprocessing, total=   0.0s\n",
            "[Pipeline] ................ (step 2 of 2) Processing gb, total=  20.2s\n",
            "[Pipeline] ..... (step 1 of 2) Processing preprocessing, total=   0.0s\n",
            "[Pipeline] ................ (step 2 of 2) Processing gb, total=  20.2s\n",
            "[Pipeline] ..... (step 1 of 2) Processing preprocessing, total=   0.0s\n"
          ]
        },
        {
          "output_type": "stream",
          "name": "stderr",
          "text": [
            "[Parallel(n_jobs=1)]: Done   3 out of   3 | elapsed:  1.0min finished\n"
          ]
        },
        {
          "output_type": "stream",
          "name": "stdout",
          "text": [
            "[Pipeline] ................ (step 2 of 2) Processing gb, total=  30.0s\n"
          ]
        },
        {
          "output_type": "execute_result",
          "data": {
            "text/plain": [
              "GridSearchCV(cv=3, error_score=nan,\n",
              "             estimator=Pipeline(memory=None,\n",
              "                                steps=[('preprocessing',\n",
              "                                        ColumnTransformer(n_jobs=None,\n",
              "                                                          remainder='passthrough',\n",
              "                                                          sparse_threshold=0.3,\n",
              "                                                          transformer_weights=None,\n",
              "                                                          transformers=[('scale',\n",
              "                                                                         StandardScaler(copy=True,\n",
              "                                                                                        with_mean=True,\n",
              "                                                                                        with_std=True),\n",
              "                                                                         ['device_id',\n",
              "                                                                          'event_id'])],\n",
              "                                                          verbose=False)),\n",
              "                                       ('gb',\n",
              "                                        GradientBoostingClassifier(ccp_alp...\n",
              "                                                                   n_estimators=100,\n",
              "                                                                   n_iter_no_change=None,\n",
              "                                                                   presort='deprecated',\n",
              "                                                                   random_state=None,\n",
              "                                                                   subsample=1.0,\n",
              "                                                                   tol=0.0001,\n",
              "                                                                   validation_fraction=0.1,\n",
              "                                                                   verbose=0,\n",
              "                                                                   warm_start=False))],\n",
              "                                verbose=True),\n",
              "             iid='deprecated', n_jobs=None,\n",
              "             param_grid={'gb__loss': ['deviance'], 'gb__max_depth': [5],\n",
              "                         'gb__n_estimators': [100]},\n",
              "             pre_dispatch='2*n_jobs', refit=True, return_train_score=False,\n",
              "             scoring=None, verbose=1)"
            ]
          },
          "metadata": {},
          "execution_count": 35
        }
      ]
    },
    {
      "cell_type": "code",
      "metadata": {
        "colab": {
          "base_uri": "https://localhost:8080/"
        },
        "id": "PVFFN2k6ifb8",
        "outputId": "1b14529d-0fd9-4970-a2f4-b3d0efddd3ba"
      },
      "source": [
        "model.best_params_"
      ],
      "execution_count": null,
      "outputs": [
        {
          "output_type": "execute_result",
          "data": {
            "text/plain": [
              "{'gb__loss': 'deviance', 'gb__max_depth': 5, 'gb__n_estimators': 100}"
            ]
          },
          "metadata": {},
          "execution_count": 36
        }
      ]
    },
    {
      "cell_type": "code",
      "metadata": {
        "colab": {
          "base_uri": "https://localhost:8080/"
        },
        "id": "BqWTbreznkYp",
        "outputId": "61efbe5d-794a-4a78-a9e6-46665baf8a17"
      },
      "source": [
        "# Model still appears to be extremely overfitting\n",
        "train_score = model.score(X_train, y_train)\n",
        "test_score = model.score(X_test, y_test)\n",
        "\n",
        "print(f\"Train score: {train_score}\")\n",
        "print(f\"Test score: {test_score}\")\n"
      ],
      "execution_count": null,
      "outputs": [
        {
          "output_type": "stream",
          "name": "stdout",
          "text": [
            "Train score: 1.0\n",
            "Test score: 1.0\n"
          ]
        }
      ]
    },
    {
      "cell_type": "code",
      "metadata": {
        "colab": {
          "base_uri": "https://localhost:8080/",
          "height": 416
        },
        "id": "29CCYBDx6G5z",
        "outputId": "52be136c-fbb6-418a-9829-e801e20bc875"
      },
      "source": [
        "y_pred = model.predict(X_test)\n",
        "\n",
        "con_mat = pd.DataFrame(\n",
        "    confusion_matrix(y_test, y_pred),\n",
        "    index=[\n",
        "        \"Actual M22-\",\n",
        "        \"Actual M23-26\",\n",
        "        \"Actual M27-28\",\n",
        "        \"Actual M29-31\",\n",
        "        \"Actual M32-38\",\n",
        "        \"Actual M39+\",\n",
        "        \"Actual F23-\",\n",
        "        \"Actual F24-26\",\n",
        "        \"Actual F27-28\",\n",
        "        \"Actual F29-32\",\n",
        "        \"Actual F33-42\",\n",
        "        \"Actual F43+\",\n",
        "    ],\n",
        "    columns=[\n",
        "        \"Predicted M22-\",\n",
        "        \"Predicted M23-26\",\n",
        "        \"Predicted M27-28\",\n",
        "        \"Predicted M29-31\",\n",
        "        \"Predicted M32-38\",\n",
        "        \"Predicted M39+\",\n",
        "        \"Predicted F23-\",\n",
        "        \"Predicted F24-26\",\n",
        "        \"Predicted F27-28\",\n",
        "        \"Predicted F29-32\",\n",
        "        \"Predicted F33-42\",\n",
        "        \"Predicted F43+\",\n",
        "    ],\n",
        ")\n",
        "con_mat.style.background_gradient(axis=None)\n"
      ],
      "execution_count": null,
      "outputs": [
        {
          "output_type": "execute_result",
          "data": {
            "text/html": [
              "<style  type=\"text/css\" >\n",
              "#T_b5fc112c_40c3_11ec_8465_0242ac1c0002row0_col0{\n",
              "            background-color:  #d6d6e9;\n",
              "            color:  #000000;\n",
              "        }#T_b5fc112c_40c3_11ec_8465_0242ac1c0002row0_col1,#T_b5fc112c_40c3_11ec_8465_0242ac1c0002row0_col2,#T_b5fc112c_40c3_11ec_8465_0242ac1c0002row0_col3,#T_b5fc112c_40c3_11ec_8465_0242ac1c0002row0_col4,#T_b5fc112c_40c3_11ec_8465_0242ac1c0002row0_col5,#T_b5fc112c_40c3_11ec_8465_0242ac1c0002row0_col6,#T_b5fc112c_40c3_11ec_8465_0242ac1c0002row0_col7,#T_b5fc112c_40c3_11ec_8465_0242ac1c0002row0_col8,#T_b5fc112c_40c3_11ec_8465_0242ac1c0002row0_col9,#T_b5fc112c_40c3_11ec_8465_0242ac1c0002row0_col10,#T_b5fc112c_40c3_11ec_8465_0242ac1c0002row0_col11,#T_b5fc112c_40c3_11ec_8465_0242ac1c0002row1_col0,#T_b5fc112c_40c3_11ec_8465_0242ac1c0002row1_col2,#T_b5fc112c_40c3_11ec_8465_0242ac1c0002row1_col3,#T_b5fc112c_40c3_11ec_8465_0242ac1c0002row1_col4,#T_b5fc112c_40c3_11ec_8465_0242ac1c0002row1_col5,#T_b5fc112c_40c3_11ec_8465_0242ac1c0002row1_col6,#T_b5fc112c_40c3_11ec_8465_0242ac1c0002row1_col7,#T_b5fc112c_40c3_11ec_8465_0242ac1c0002row1_col8,#T_b5fc112c_40c3_11ec_8465_0242ac1c0002row1_col9,#T_b5fc112c_40c3_11ec_8465_0242ac1c0002row1_col10,#T_b5fc112c_40c3_11ec_8465_0242ac1c0002row1_col11,#T_b5fc112c_40c3_11ec_8465_0242ac1c0002row2_col0,#T_b5fc112c_40c3_11ec_8465_0242ac1c0002row2_col1,#T_b5fc112c_40c3_11ec_8465_0242ac1c0002row2_col3,#T_b5fc112c_40c3_11ec_8465_0242ac1c0002row2_col4,#T_b5fc112c_40c3_11ec_8465_0242ac1c0002row2_col5,#T_b5fc112c_40c3_11ec_8465_0242ac1c0002row2_col6,#T_b5fc112c_40c3_11ec_8465_0242ac1c0002row2_col7,#T_b5fc112c_40c3_11ec_8465_0242ac1c0002row2_col8,#T_b5fc112c_40c3_11ec_8465_0242ac1c0002row2_col9,#T_b5fc112c_40c3_11ec_8465_0242ac1c0002row2_col10,#T_b5fc112c_40c3_11ec_8465_0242ac1c0002row2_col11,#T_b5fc112c_40c3_11ec_8465_0242ac1c0002row3_col0,#T_b5fc112c_40c3_11ec_8465_0242ac1c0002row3_col1,#T_b5fc112c_40c3_11ec_8465_0242ac1c0002row3_col2,#T_b5fc112c_40c3_11ec_8465_0242ac1c0002row3_col4,#T_b5fc112c_40c3_11ec_8465_0242ac1c0002row3_col5,#T_b5fc112c_40c3_11ec_8465_0242ac1c0002row3_col6,#T_b5fc112c_40c3_11ec_8465_0242ac1c0002row3_col7,#T_b5fc112c_40c3_11ec_8465_0242ac1c0002row3_col8,#T_b5fc112c_40c3_11ec_8465_0242ac1c0002row3_col9,#T_b5fc112c_40c3_11ec_8465_0242ac1c0002row3_col10,#T_b5fc112c_40c3_11ec_8465_0242ac1c0002row3_col11,#T_b5fc112c_40c3_11ec_8465_0242ac1c0002row4_col0,#T_b5fc112c_40c3_11ec_8465_0242ac1c0002row4_col1,#T_b5fc112c_40c3_11ec_8465_0242ac1c0002row4_col2,#T_b5fc112c_40c3_11ec_8465_0242ac1c0002row4_col3,#T_b5fc112c_40c3_11ec_8465_0242ac1c0002row4_col5,#T_b5fc112c_40c3_11ec_8465_0242ac1c0002row4_col6,#T_b5fc112c_40c3_11ec_8465_0242ac1c0002row4_col7,#T_b5fc112c_40c3_11ec_8465_0242ac1c0002row4_col8,#T_b5fc112c_40c3_11ec_8465_0242ac1c0002row4_col9,#T_b5fc112c_40c3_11ec_8465_0242ac1c0002row4_col10,#T_b5fc112c_40c3_11ec_8465_0242ac1c0002row4_col11,#T_b5fc112c_40c3_11ec_8465_0242ac1c0002row5_col0,#T_b5fc112c_40c3_11ec_8465_0242ac1c0002row5_col1,#T_b5fc112c_40c3_11ec_8465_0242ac1c0002row5_col2,#T_b5fc112c_40c3_11ec_8465_0242ac1c0002row5_col3,#T_b5fc112c_40c3_11ec_8465_0242ac1c0002row5_col4,#T_b5fc112c_40c3_11ec_8465_0242ac1c0002row5_col6,#T_b5fc112c_40c3_11ec_8465_0242ac1c0002row5_col7,#T_b5fc112c_40c3_11ec_8465_0242ac1c0002row5_col8,#T_b5fc112c_40c3_11ec_8465_0242ac1c0002row5_col9,#T_b5fc112c_40c3_11ec_8465_0242ac1c0002row5_col10,#T_b5fc112c_40c3_11ec_8465_0242ac1c0002row5_col11,#T_b5fc112c_40c3_11ec_8465_0242ac1c0002row6_col0,#T_b5fc112c_40c3_11ec_8465_0242ac1c0002row6_col1,#T_b5fc112c_40c3_11ec_8465_0242ac1c0002row6_col2,#T_b5fc112c_40c3_11ec_8465_0242ac1c0002row6_col3,#T_b5fc112c_40c3_11ec_8465_0242ac1c0002row6_col4,#T_b5fc112c_40c3_11ec_8465_0242ac1c0002row6_col5,#T_b5fc112c_40c3_11ec_8465_0242ac1c0002row6_col7,#T_b5fc112c_40c3_11ec_8465_0242ac1c0002row6_col8,#T_b5fc112c_40c3_11ec_8465_0242ac1c0002row6_col9,#T_b5fc112c_40c3_11ec_8465_0242ac1c0002row6_col10,#T_b5fc112c_40c3_11ec_8465_0242ac1c0002row6_col11,#T_b5fc112c_40c3_11ec_8465_0242ac1c0002row7_col0,#T_b5fc112c_40c3_11ec_8465_0242ac1c0002row7_col1,#T_b5fc112c_40c3_11ec_8465_0242ac1c0002row7_col2,#T_b5fc112c_40c3_11ec_8465_0242ac1c0002row7_col3,#T_b5fc112c_40c3_11ec_8465_0242ac1c0002row7_col4,#T_b5fc112c_40c3_11ec_8465_0242ac1c0002row7_col5,#T_b5fc112c_40c3_11ec_8465_0242ac1c0002row7_col6,#T_b5fc112c_40c3_11ec_8465_0242ac1c0002row7_col8,#T_b5fc112c_40c3_11ec_8465_0242ac1c0002row7_col9,#T_b5fc112c_40c3_11ec_8465_0242ac1c0002row7_col10,#T_b5fc112c_40c3_11ec_8465_0242ac1c0002row7_col11,#T_b5fc112c_40c3_11ec_8465_0242ac1c0002row8_col0,#T_b5fc112c_40c3_11ec_8465_0242ac1c0002row8_col1,#T_b5fc112c_40c3_11ec_8465_0242ac1c0002row8_col2,#T_b5fc112c_40c3_11ec_8465_0242ac1c0002row8_col3,#T_b5fc112c_40c3_11ec_8465_0242ac1c0002row8_col4,#T_b5fc112c_40c3_11ec_8465_0242ac1c0002row8_col5,#T_b5fc112c_40c3_11ec_8465_0242ac1c0002row8_col6,#T_b5fc112c_40c3_11ec_8465_0242ac1c0002row8_col7,#T_b5fc112c_40c3_11ec_8465_0242ac1c0002row8_col9,#T_b5fc112c_40c3_11ec_8465_0242ac1c0002row8_col10,#T_b5fc112c_40c3_11ec_8465_0242ac1c0002row8_col11,#T_b5fc112c_40c3_11ec_8465_0242ac1c0002row9_col0,#T_b5fc112c_40c3_11ec_8465_0242ac1c0002row9_col1,#T_b5fc112c_40c3_11ec_8465_0242ac1c0002row9_col2,#T_b5fc112c_40c3_11ec_8465_0242ac1c0002row9_col3,#T_b5fc112c_40c3_11ec_8465_0242ac1c0002row9_col4,#T_b5fc112c_40c3_11ec_8465_0242ac1c0002row9_col5,#T_b5fc112c_40c3_11ec_8465_0242ac1c0002row9_col6,#T_b5fc112c_40c3_11ec_8465_0242ac1c0002row9_col7,#T_b5fc112c_40c3_11ec_8465_0242ac1c0002row9_col8,#T_b5fc112c_40c3_11ec_8465_0242ac1c0002row9_col10,#T_b5fc112c_40c3_11ec_8465_0242ac1c0002row9_col11,#T_b5fc112c_40c3_11ec_8465_0242ac1c0002row10_col0,#T_b5fc112c_40c3_11ec_8465_0242ac1c0002row10_col1,#T_b5fc112c_40c3_11ec_8465_0242ac1c0002row10_col2,#T_b5fc112c_40c3_11ec_8465_0242ac1c0002row10_col3,#T_b5fc112c_40c3_11ec_8465_0242ac1c0002row10_col4,#T_b5fc112c_40c3_11ec_8465_0242ac1c0002row10_col5,#T_b5fc112c_40c3_11ec_8465_0242ac1c0002row10_col6,#T_b5fc112c_40c3_11ec_8465_0242ac1c0002row10_col7,#T_b5fc112c_40c3_11ec_8465_0242ac1c0002row10_col8,#T_b5fc112c_40c3_11ec_8465_0242ac1c0002row10_col9,#T_b5fc112c_40c3_11ec_8465_0242ac1c0002row10_col11,#T_b5fc112c_40c3_11ec_8465_0242ac1c0002row11_col0,#T_b5fc112c_40c3_11ec_8465_0242ac1c0002row11_col1,#T_b5fc112c_40c3_11ec_8465_0242ac1c0002row11_col2,#T_b5fc112c_40c3_11ec_8465_0242ac1c0002row11_col3,#T_b5fc112c_40c3_11ec_8465_0242ac1c0002row11_col4,#T_b5fc112c_40c3_11ec_8465_0242ac1c0002row11_col5,#T_b5fc112c_40c3_11ec_8465_0242ac1c0002row11_col6,#T_b5fc112c_40c3_11ec_8465_0242ac1c0002row11_col7,#T_b5fc112c_40c3_11ec_8465_0242ac1c0002row11_col8,#T_b5fc112c_40c3_11ec_8465_0242ac1c0002row11_col9,#T_b5fc112c_40c3_11ec_8465_0242ac1c0002row11_col10{\n",
              "            background-color:  #fff7fb;\n",
              "            color:  #000000;\n",
              "        }#T_b5fc112c_40c3_11ec_8465_0242ac1c0002row1_col1{\n",
              "            background-color:  #8cb3d5;\n",
              "            color:  #000000;\n",
              "        }#T_b5fc112c_40c3_11ec_8465_0242ac1c0002row2_col2{\n",
              "            background-color:  #bcc7e1;\n",
              "            color:  #000000;\n",
              "        }#T_b5fc112c_40c3_11ec_8465_0242ac1c0002row3_col3{\n",
              "            background-color:  #7dacd1;\n",
              "            color:  #000000;\n",
              "        }#T_b5fc112c_40c3_11ec_8465_0242ac1c0002row4_col4{\n",
              "            background-color:  #03466e;\n",
              "            color:  #f1f1f1;\n",
              "        }#T_b5fc112c_40c3_11ec_8465_0242ac1c0002row5_col5{\n",
              "            background-color:  #023858;\n",
              "            color:  #f1f1f1;\n",
              "        }#T_b5fc112c_40c3_11ec_8465_0242ac1c0002row6_col6{\n",
              "            background-color:  #f5eef6;\n",
              "            color:  #000000;\n",
              "        }#T_b5fc112c_40c3_11ec_8465_0242ac1c0002row7_col7{\n",
              "            background-color:  #f8f1f8;\n",
              "            color:  #000000;\n",
              "        }#T_b5fc112c_40c3_11ec_8465_0242ac1c0002row8_col8{\n",
              "            background-color:  #f0eaf4;\n",
              "            color:  #000000;\n",
              "        }#T_b5fc112c_40c3_11ec_8465_0242ac1c0002row9_col9{\n",
              "            background-color:  #e8e4f0;\n",
              "            color:  #000000;\n",
              "        }#T_b5fc112c_40c3_11ec_8465_0242ac1c0002row10_col10{\n",
              "            background-color:  #d2d3e7;\n",
              "            color:  #000000;\n",
              "        }#T_b5fc112c_40c3_11ec_8465_0242ac1c0002row11_col11{\n",
              "            background-color:  #bfc9e1;\n",
              "            color:  #000000;\n",
              "        }</style><table id=\"T_b5fc112c_40c3_11ec_8465_0242ac1c0002\" class=\"dataframe\"><thead>    <tr>        <th class=\"blank level0\" ></th>        <th class=\"col_heading level0 col0\" >Predicted M22-</th>        <th class=\"col_heading level0 col1\" >Predicted M23-26</th>        <th class=\"col_heading level0 col2\" >Predicted M27-28</th>        <th class=\"col_heading level0 col3\" >Predicted M29-31</th>        <th class=\"col_heading level0 col4\" >Predicted M32-38</th>        <th class=\"col_heading level0 col5\" >Predicted M39+</th>        <th class=\"col_heading level0 col6\" >Predicted F23-</th>        <th class=\"col_heading level0 col7\" >Predicted F24-26</th>        <th class=\"col_heading level0 col8\" >Predicted F27-28</th>        <th class=\"col_heading level0 col9\" >Predicted F29-32</th>        <th class=\"col_heading level0 col10\" >Predicted F33-42</th>        <th class=\"col_heading level0 col11\" >Predicted F43+</th>    </tr></thead><tbody>\n",
              "                <tr>\n",
              "                        <th id=\"T_b5fc112c_40c3_11ec_8465_0242ac1c0002level0_row0\" class=\"row_heading level0 row0\" >Actual M22-</th>\n",
              "                        <td id=\"T_b5fc112c_40c3_11ec_8465_0242ac1c0002row0_col0\" class=\"data row0 col0\" >127</td>\n",
              "                        <td id=\"T_b5fc112c_40c3_11ec_8465_0242ac1c0002row0_col1\" class=\"data row0 col1\" >0</td>\n",
              "                        <td id=\"T_b5fc112c_40c3_11ec_8465_0242ac1c0002row0_col2\" class=\"data row0 col2\" >0</td>\n",
              "                        <td id=\"T_b5fc112c_40c3_11ec_8465_0242ac1c0002row0_col3\" class=\"data row0 col3\" >0</td>\n",
              "                        <td id=\"T_b5fc112c_40c3_11ec_8465_0242ac1c0002row0_col4\" class=\"data row0 col4\" >0</td>\n",
              "                        <td id=\"T_b5fc112c_40c3_11ec_8465_0242ac1c0002row0_col5\" class=\"data row0 col5\" >0</td>\n",
              "                        <td id=\"T_b5fc112c_40c3_11ec_8465_0242ac1c0002row0_col6\" class=\"data row0 col6\" >0</td>\n",
              "                        <td id=\"T_b5fc112c_40c3_11ec_8465_0242ac1c0002row0_col7\" class=\"data row0 col7\" >0</td>\n",
              "                        <td id=\"T_b5fc112c_40c3_11ec_8465_0242ac1c0002row0_col8\" class=\"data row0 col8\" >0</td>\n",
              "                        <td id=\"T_b5fc112c_40c3_11ec_8465_0242ac1c0002row0_col9\" class=\"data row0 col9\" >0</td>\n",
              "                        <td id=\"T_b5fc112c_40c3_11ec_8465_0242ac1c0002row0_col10\" class=\"data row0 col10\" >0</td>\n",
              "                        <td id=\"T_b5fc112c_40c3_11ec_8465_0242ac1c0002row0_col11\" class=\"data row0 col11\" >0</td>\n",
              "            </tr>\n",
              "            <tr>\n",
              "                        <th id=\"T_b5fc112c_40c3_11ec_8465_0242ac1c0002level0_row1\" class=\"row_heading level0 row1\" >Actual M23-26</th>\n",
              "                        <td id=\"T_b5fc112c_40c3_11ec_8465_0242ac1c0002row1_col0\" class=\"data row1 col0\" >0</td>\n",
              "                        <td id=\"T_b5fc112c_40c3_11ec_8465_0242ac1c0002row1_col1\" class=\"data row1 col1\" >250</td>\n",
              "                        <td id=\"T_b5fc112c_40c3_11ec_8465_0242ac1c0002row1_col2\" class=\"data row1 col2\" >0</td>\n",
              "                        <td id=\"T_b5fc112c_40c3_11ec_8465_0242ac1c0002row1_col3\" class=\"data row1 col3\" >0</td>\n",
              "                        <td id=\"T_b5fc112c_40c3_11ec_8465_0242ac1c0002row1_col4\" class=\"data row1 col4\" >0</td>\n",
              "                        <td id=\"T_b5fc112c_40c3_11ec_8465_0242ac1c0002row1_col5\" class=\"data row1 col5\" >0</td>\n",
              "                        <td id=\"T_b5fc112c_40c3_11ec_8465_0242ac1c0002row1_col6\" class=\"data row1 col6\" >0</td>\n",
              "                        <td id=\"T_b5fc112c_40c3_11ec_8465_0242ac1c0002row1_col7\" class=\"data row1 col7\" >0</td>\n",
              "                        <td id=\"T_b5fc112c_40c3_11ec_8465_0242ac1c0002row1_col8\" class=\"data row1 col8\" >0</td>\n",
              "                        <td id=\"T_b5fc112c_40c3_11ec_8465_0242ac1c0002row1_col9\" class=\"data row1 col9\" >0</td>\n",
              "                        <td id=\"T_b5fc112c_40c3_11ec_8465_0242ac1c0002row1_col10\" class=\"data row1 col10\" >0</td>\n",
              "                        <td id=\"T_b5fc112c_40c3_11ec_8465_0242ac1c0002row1_col11\" class=\"data row1 col11\" >0</td>\n",
              "            </tr>\n",
              "            <tr>\n",
              "                        <th id=\"T_b5fc112c_40c3_11ec_8465_0242ac1c0002level0_row2\" class=\"row_heading level0 row2\" >Actual M27-28</th>\n",
              "                        <td id=\"T_b5fc112c_40c3_11ec_8465_0242ac1c0002row2_col0\" class=\"data row2 col0\" >0</td>\n",
              "                        <td id=\"T_b5fc112c_40c3_11ec_8465_0242ac1c0002row2_col1\" class=\"data row2 col1\" >0</td>\n",
              "                        <td id=\"T_b5fc112c_40c3_11ec_8465_0242ac1c0002row2_col2\" class=\"data row2 col2\" >177</td>\n",
              "                        <td id=\"T_b5fc112c_40c3_11ec_8465_0242ac1c0002row2_col3\" class=\"data row2 col3\" >0</td>\n",
              "                        <td id=\"T_b5fc112c_40c3_11ec_8465_0242ac1c0002row2_col4\" class=\"data row2 col4\" >0</td>\n",
              "                        <td id=\"T_b5fc112c_40c3_11ec_8465_0242ac1c0002row2_col5\" class=\"data row2 col5\" >0</td>\n",
              "                        <td id=\"T_b5fc112c_40c3_11ec_8465_0242ac1c0002row2_col6\" class=\"data row2 col6\" >0</td>\n",
              "                        <td id=\"T_b5fc112c_40c3_11ec_8465_0242ac1c0002row2_col7\" class=\"data row2 col7\" >0</td>\n",
              "                        <td id=\"T_b5fc112c_40c3_11ec_8465_0242ac1c0002row2_col8\" class=\"data row2 col8\" >0</td>\n",
              "                        <td id=\"T_b5fc112c_40c3_11ec_8465_0242ac1c0002row2_col9\" class=\"data row2 col9\" >0</td>\n",
              "                        <td id=\"T_b5fc112c_40c3_11ec_8465_0242ac1c0002row2_col10\" class=\"data row2 col10\" >0</td>\n",
              "                        <td id=\"T_b5fc112c_40c3_11ec_8465_0242ac1c0002row2_col11\" class=\"data row2 col11\" >0</td>\n",
              "            </tr>\n",
              "            <tr>\n",
              "                        <th id=\"T_b5fc112c_40c3_11ec_8465_0242ac1c0002level0_row3\" class=\"row_heading level0 row3\" >Actual M29-31</th>\n",
              "                        <td id=\"T_b5fc112c_40c3_11ec_8465_0242ac1c0002row3_col0\" class=\"data row3 col0\" >0</td>\n",
              "                        <td id=\"T_b5fc112c_40c3_11ec_8465_0242ac1c0002row3_col1\" class=\"data row3 col1\" >0</td>\n",
              "                        <td id=\"T_b5fc112c_40c3_11ec_8465_0242ac1c0002row3_col2\" class=\"data row3 col2\" >0</td>\n",
              "                        <td id=\"T_b5fc112c_40c3_11ec_8465_0242ac1c0002row3_col3\" class=\"data row3 col3\" >273</td>\n",
              "                        <td id=\"T_b5fc112c_40c3_11ec_8465_0242ac1c0002row3_col4\" class=\"data row3 col4\" >0</td>\n",
              "                        <td id=\"T_b5fc112c_40c3_11ec_8465_0242ac1c0002row3_col5\" class=\"data row3 col5\" >0</td>\n",
              "                        <td id=\"T_b5fc112c_40c3_11ec_8465_0242ac1c0002row3_col6\" class=\"data row3 col6\" >0</td>\n",
              "                        <td id=\"T_b5fc112c_40c3_11ec_8465_0242ac1c0002row3_col7\" class=\"data row3 col7\" >0</td>\n",
              "                        <td id=\"T_b5fc112c_40c3_11ec_8465_0242ac1c0002row3_col8\" class=\"data row3 col8\" >0</td>\n",
              "                        <td id=\"T_b5fc112c_40c3_11ec_8465_0242ac1c0002row3_col9\" class=\"data row3 col9\" >0</td>\n",
              "                        <td id=\"T_b5fc112c_40c3_11ec_8465_0242ac1c0002row3_col10\" class=\"data row3 col10\" >0</td>\n",
              "                        <td id=\"T_b5fc112c_40c3_11ec_8465_0242ac1c0002row3_col11\" class=\"data row3 col11\" >0</td>\n",
              "            </tr>\n",
              "            <tr>\n",
              "                        <th id=\"T_b5fc112c_40c3_11ec_8465_0242ac1c0002level0_row4\" class=\"row_heading level0 row4\" >Actual M32-38</th>\n",
              "                        <td id=\"T_b5fc112c_40c3_11ec_8465_0242ac1c0002row4_col0\" class=\"data row4 col0\" >0</td>\n",
              "                        <td id=\"T_b5fc112c_40c3_11ec_8465_0242ac1c0002row4_col1\" class=\"data row4 col1\" >0</td>\n",
              "                        <td id=\"T_b5fc112c_40c3_11ec_8465_0242ac1c0002row4_col2\" class=\"data row4 col2\" >0</td>\n",
              "                        <td id=\"T_b5fc112c_40c3_11ec_8465_0242ac1c0002row4_col3\" class=\"data row4 col3\" >0</td>\n",
              "                        <td id=\"T_b5fc112c_40c3_11ec_8465_0242ac1c0002row4_col4\" class=\"data row4 col4\" >538</td>\n",
              "                        <td id=\"T_b5fc112c_40c3_11ec_8465_0242ac1c0002row4_col5\" class=\"data row4 col5\" >0</td>\n",
              "                        <td id=\"T_b5fc112c_40c3_11ec_8465_0242ac1c0002row4_col6\" class=\"data row4 col6\" >0</td>\n",
              "                        <td id=\"T_b5fc112c_40c3_11ec_8465_0242ac1c0002row4_col7\" class=\"data row4 col7\" >0</td>\n",
              "                        <td id=\"T_b5fc112c_40c3_11ec_8465_0242ac1c0002row4_col8\" class=\"data row4 col8\" >0</td>\n",
              "                        <td id=\"T_b5fc112c_40c3_11ec_8465_0242ac1c0002row4_col9\" class=\"data row4 col9\" >0</td>\n",
              "                        <td id=\"T_b5fc112c_40c3_11ec_8465_0242ac1c0002row4_col10\" class=\"data row4 col10\" >0</td>\n",
              "                        <td id=\"T_b5fc112c_40c3_11ec_8465_0242ac1c0002row4_col11\" class=\"data row4 col11\" >0</td>\n",
              "            </tr>\n",
              "            <tr>\n",
              "                        <th id=\"T_b5fc112c_40c3_11ec_8465_0242ac1c0002level0_row5\" class=\"row_heading level0 row5\" >Actual M39+</th>\n",
              "                        <td id=\"T_b5fc112c_40c3_11ec_8465_0242ac1c0002row5_col0\" class=\"data row5 col0\" >0</td>\n",
              "                        <td id=\"T_b5fc112c_40c3_11ec_8465_0242ac1c0002row5_col1\" class=\"data row5 col1\" >0</td>\n",
              "                        <td id=\"T_b5fc112c_40c3_11ec_8465_0242ac1c0002row5_col2\" class=\"data row5 col2\" >0</td>\n",
              "                        <td id=\"T_b5fc112c_40c3_11ec_8465_0242ac1c0002row5_col3\" class=\"data row5 col3\" >0</td>\n",
              "                        <td id=\"T_b5fc112c_40c3_11ec_8465_0242ac1c0002row5_col4\" class=\"data row5 col4\" >0</td>\n",
              "                        <td id=\"T_b5fc112c_40c3_11ec_8465_0242ac1c0002row5_col5\" class=\"data row5 col5\" >569</td>\n",
              "                        <td id=\"T_b5fc112c_40c3_11ec_8465_0242ac1c0002row5_col6\" class=\"data row5 col6\" >0</td>\n",
              "                        <td id=\"T_b5fc112c_40c3_11ec_8465_0242ac1c0002row5_col7\" class=\"data row5 col7\" >0</td>\n",
              "                        <td id=\"T_b5fc112c_40c3_11ec_8465_0242ac1c0002row5_col8\" class=\"data row5 col8\" >0</td>\n",
              "                        <td id=\"T_b5fc112c_40c3_11ec_8465_0242ac1c0002row5_col9\" class=\"data row5 col9\" >0</td>\n",
              "                        <td id=\"T_b5fc112c_40c3_11ec_8465_0242ac1c0002row5_col10\" class=\"data row5 col10\" >0</td>\n",
              "                        <td id=\"T_b5fc112c_40c3_11ec_8465_0242ac1c0002row5_col11\" class=\"data row5 col11\" >0</td>\n",
              "            </tr>\n",
              "            <tr>\n",
              "                        <th id=\"T_b5fc112c_40c3_11ec_8465_0242ac1c0002level0_row6\" class=\"row_heading level0 row6\" >Actual F23-</th>\n",
              "                        <td id=\"T_b5fc112c_40c3_11ec_8465_0242ac1c0002row6_col0\" class=\"data row6 col0\" >0</td>\n",
              "                        <td id=\"T_b5fc112c_40c3_11ec_8465_0242ac1c0002row6_col1\" class=\"data row6 col1\" >0</td>\n",
              "                        <td id=\"T_b5fc112c_40c3_11ec_8465_0242ac1c0002row6_col2\" class=\"data row6 col2\" >0</td>\n",
              "                        <td id=\"T_b5fc112c_40c3_11ec_8465_0242ac1c0002row6_col3\" class=\"data row6 col3\" >0</td>\n",
              "                        <td id=\"T_b5fc112c_40c3_11ec_8465_0242ac1c0002row6_col4\" class=\"data row6 col4\" >0</td>\n",
              "                        <td id=\"T_b5fc112c_40c3_11ec_8465_0242ac1c0002row6_col5\" class=\"data row6 col5\" >0</td>\n",
              "                        <td id=\"T_b5fc112c_40c3_11ec_8465_0242ac1c0002row6_col6\" class=\"data row6 col6\" >39</td>\n",
              "                        <td id=\"T_b5fc112c_40c3_11ec_8465_0242ac1c0002row6_col7\" class=\"data row6 col7\" >0</td>\n",
              "                        <td id=\"T_b5fc112c_40c3_11ec_8465_0242ac1c0002row6_col8\" class=\"data row6 col8\" >0</td>\n",
              "                        <td id=\"T_b5fc112c_40c3_11ec_8465_0242ac1c0002row6_col9\" class=\"data row6 col9\" >0</td>\n",
              "                        <td id=\"T_b5fc112c_40c3_11ec_8465_0242ac1c0002row6_col10\" class=\"data row6 col10\" >0</td>\n",
              "                        <td id=\"T_b5fc112c_40c3_11ec_8465_0242ac1c0002row6_col11\" class=\"data row6 col11\" >0</td>\n",
              "            </tr>\n",
              "            <tr>\n",
              "                        <th id=\"T_b5fc112c_40c3_11ec_8465_0242ac1c0002level0_row7\" class=\"row_heading level0 row7\" >Actual F24-26</th>\n",
              "                        <td id=\"T_b5fc112c_40c3_11ec_8465_0242ac1c0002row7_col0\" class=\"data row7 col0\" >0</td>\n",
              "                        <td id=\"T_b5fc112c_40c3_11ec_8465_0242ac1c0002row7_col1\" class=\"data row7 col1\" >0</td>\n",
              "                        <td id=\"T_b5fc112c_40c3_11ec_8465_0242ac1c0002row7_col2\" class=\"data row7 col2\" >0</td>\n",
              "                        <td id=\"T_b5fc112c_40c3_11ec_8465_0242ac1c0002row7_col3\" class=\"data row7 col3\" >0</td>\n",
              "                        <td id=\"T_b5fc112c_40c3_11ec_8465_0242ac1c0002row7_col4\" class=\"data row7 col4\" >0</td>\n",
              "                        <td id=\"T_b5fc112c_40c3_11ec_8465_0242ac1c0002row7_col5\" class=\"data row7 col5\" >0</td>\n",
              "                        <td id=\"T_b5fc112c_40c3_11ec_8465_0242ac1c0002row7_col6\" class=\"data row7 col6\" >0</td>\n",
              "                        <td id=\"T_b5fc112c_40c3_11ec_8465_0242ac1c0002row7_col7\" class=\"data row7 col7\" >28</td>\n",
              "                        <td id=\"T_b5fc112c_40c3_11ec_8465_0242ac1c0002row7_col8\" class=\"data row7 col8\" >0</td>\n",
              "                        <td id=\"T_b5fc112c_40c3_11ec_8465_0242ac1c0002row7_col9\" class=\"data row7 col9\" >0</td>\n",
              "                        <td id=\"T_b5fc112c_40c3_11ec_8465_0242ac1c0002row7_col10\" class=\"data row7 col10\" >0</td>\n",
              "                        <td id=\"T_b5fc112c_40c3_11ec_8465_0242ac1c0002row7_col11\" class=\"data row7 col11\" >0</td>\n",
              "            </tr>\n",
              "            <tr>\n",
              "                        <th id=\"T_b5fc112c_40c3_11ec_8465_0242ac1c0002level0_row8\" class=\"row_heading level0 row8\" >Actual F27-28</th>\n",
              "                        <td id=\"T_b5fc112c_40c3_11ec_8465_0242ac1c0002row8_col0\" class=\"data row8 col0\" >0</td>\n",
              "                        <td id=\"T_b5fc112c_40c3_11ec_8465_0242ac1c0002row8_col1\" class=\"data row8 col1\" >0</td>\n",
              "                        <td id=\"T_b5fc112c_40c3_11ec_8465_0242ac1c0002row8_col2\" class=\"data row8 col2\" >0</td>\n",
              "                        <td id=\"T_b5fc112c_40c3_11ec_8465_0242ac1c0002row8_col3\" class=\"data row8 col3\" >0</td>\n",
              "                        <td id=\"T_b5fc112c_40c3_11ec_8465_0242ac1c0002row8_col4\" class=\"data row8 col4\" >0</td>\n",
              "                        <td id=\"T_b5fc112c_40c3_11ec_8465_0242ac1c0002row8_col5\" class=\"data row8 col5\" >0</td>\n",
              "                        <td id=\"T_b5fc112c_40c3_11ec_8465_0242ac1c0002row8_col6\" class=\"data row8 col6\" >0</td>\n",
              "                        <td id=\"T_b5fc112c_40c3_11ec_8465_0242ac1c0002row8_col7\" class=\"data row8 col7\" >0</td>\n",
              "                        <td id=\"T_b5fc112c_40c3_11ec_8465_0242ac1c0002row8_col8\" class=\"data row8 col8\" >56</td>\n",
              "                        <td id=\"T_b5fc112c_40c3_11ec_8465_0242ac1c0002row8_col9\" class=\"data row8 col9\" >0</td>\n",
              "                        <td id=\"T_b5fc112c_40c3_11ec_8465_0242ac1c0002row8_col10\" class=\"data row8 col10\" >0</td>\n",
              "                        <td id=\"T_b5fc112c_40c3_11ec_8465_0242ac1c0002row8_col11\" class=\"data row8 col11\" >0</td>\n",
              "            </tr>\n",
              "            <tr>\n",
              "                        <th id=\"T_b5fc112c_40c3_11ec_8465_0242ac1c0002level0_row9\" class=\"row_heading level0 row9\" >Actual F29-32</th>\n",
              "                        <td id=\"T_b5fc112c_40c3_11ec_8465_0242ac1c0002row9_col0\" class=\"data row9 col0\" >0</td>\n",
              "                        <td id=\"T_b5fc112c_40c3_11ec_8465_0242ac1c0002row9_col1\" class=\"data row9 col1\" >0</td>\n",
              "                        <td id=\"T_b5fc112c_40c3_11ec_8465_0242ac1c0002row9_col2\" class=\"data row9 col2\" >0</td>\n",
              "                        <td id=\"T_b5fc112c_40c3_11ec_8465_0242ac1c0002row9_col3\" class=\"data row9 col3\" >0</td>\n",
              "                        <td id=\"T_b5fc112c_40c3_11ec_8465_0242ac1c0002row9_col4\" class=\"data row9 col4\" >0</td>\n",
              "                        <td id=\"T_b5fc112c_40c3_11ec_8465_0242ac1c0002row9_col5\" class=\"data row9 col5\" >0</td>\n",
              "                        <td id=\"T_b5fc112c_40c3_11ec_8465_0242ac1c0002row9_col6\" class=\"data row9 col6\" >0</td>\n",
              "                        <td id=\"T_b5fc112c_40c3_11ec_8465_0242ac1c0002row9_col7\" class=\"data row9 col7\" >0</td>\n",
              "                        <td id=\"T_b5fc112c_40c3_11ec_8465_0242ac1c0002row9_col8\" class=\"data row9 col8\" >0</td>\n",
              "                        <td id=\"T_b5fc112c_40c3_11ec_8465_0242ac1c0002row9_col9\" class=\"data row9 col9\" >81</td>\n",
              "                        <td id=\"T_b5fc112c_40c3_11ec_8465_0242ac1c0002row9_col10\" class=\"data row9 col10\" >0</td>\n",
              "                        <td id=\"T_b5fc112c_40c3_11ec_8465_0242ac1c0002row9_col11\" class=\"data row9 col11\" >0</td>\n",
              "            </tr>\n",
              "            <tr>\n",
              "                        <th id=\"T_b5fc112c_40c3_11ec_8465_0242ac1c0002level0_row10\" class=\"row_heading level0 row10\" >Actual F33-42</th>\n",
              "                        <td id=\"T_b5fc112c_40c3_11ec_8465_0242ac1c0002row10_col0\" class=\"data row10 col0\" >0</td>\n",
              "                        <td id=\"T_b5fc112c_40c3_11ec_8465_0242ac1c0002row10_col1\" class=\"data row10 col1\" >0</td>\n",
              "                        <td id=\"T_b5fc112c_40c3_11ec_8465_0242ac1c0002row10_col2\" class=\"data row10 col2\" >0</td>\n",
              "                        <td id=\"T_b5fc112c_40c3_11ec_8465_0242ac1c0002row10_col3\" class=\"data row10 col3\" >0</td>\n",
              "                        <td id=\"T_b5fc112c_40c3_11ec_8465_0242ac1c0002row10_col4\" class=\"data row10 col4\" >0</td>\n",
              "                        <td id=\"T_b5fc112c_40c3_11ec_8465_0242ac1c0002row10_col5\" class=\"data row10 col5\" >0</td>\n",
              "                        <td id=\"T_b5fc112c_40c3_11ec_8465_0242ac1c0002row10_col6\" class=\"data row10 col6\" >0</td>\n",
              "                        <td id=\"T_b5fc112c_40c3_11ec_8465_0242ac1c0002row10_col7\" class=\"data row10 col7\" >0</td>\n",
              "                        <td id=\"T_b5fc112c_40c3_11ec_8465_0242ac1c0002row10_col8\" class=\"data row10 col8\" >0</td>\n",
              "                        <td id=\"T_b5fc112c_40c3_11ec_8465_0242ac1c0002row10_col9\" class=\"data row10 col9\" >0</td>\n",
              "                        <td id=\"T_b5fc112c_40c3_11ec_8465_0242ac1c0002row10_col10\" class=\"data row10 col10\" >137</td>\n",
              "                        <td id=\"T_b5fc112c_40c3_11ec_8465_0242ac1c0002row10_col11\" class=\"data row10 col11\" >0</td>\n",
              "            </tr>\n",
              "            <tr>\n",
              "                        <th id=\"T_b5fc112c_40c3_11ec_8465_0242ac1c0002level0_row11\" class=\"row_heading level0 row11\" >Actual F43+</th>\n",
              "                        <td id=\"T_b5fc112c_40c3_11ec_8465_0242ac1c0002row11_col0\" class=\"data row11 col0\" >0</td>\n",
              "                        <td id=\"T_b5fc112c_40c3_11ec_8465_0242ac1c0002row11_col1\" class=\"data row11 col1\" >0</td>\n",
              "                        <td id=\"T_b5fc112c_40c3_11ec_8465_0242ac1c0002row11_col2\" class=\"data row11 col2\" >0</td>\n",
              "                        <td id=\"T_b5fc112c_40c3_11ec_8465_0242ac1c0002row11_col3\" class=\"data row11 col3\" >0</td>\n",
              "                        <td id=\"T_b5fc112c_40c3_11ec_8465_0242ac1c0002row11_col4\" class=\"data row11 col4\" >0</td>\n",
              "                        <td id=\"T_b5fc112c_40c3_11ec_8465_0242ac1c0002row11_col5\" class=\"data row11 col5\" >0</td>\n",
              "                        <td id=\"T_b5fc112c_40c3_11ec_8465_0242ac1c0002row11_col6\" class=\"data row11 col6\" >0</td>\n",
              "                        <td id=\"T_b5fc112c_40c3_11ec_8465_0242ac1c0002row11_col7\" class=\"data row11 col7\" >0</td>\n",
              "                        <td id=\"T_b5fc112c_40c3_11ec_8465_0242ac1c0002row11_col8\" class=\"data row11 col8\" >0</td>\n",
              "                        <td id=\"T_b5fc112c_40c3_11ec_8465_0242ac1c0002row11_col9\" class=\"data row11 col9\" >0</td>\n",
              "                        <td id=\"T_b5fc112c_40c3_11ec_8465_0242ac1c0002row11_col10\" class=\"data row11 col10\" >0</td>\n",
              "                        <td id=\"T_b5fc112c_40c3_11ec_8465_0242ac1c0002row11_col11\" class=\"data row11 col11\" >172</td>\n",
              "            </tr>\n",
              "    </tbody></table>"
            ],
            "text/plain": [
              "<pandas.io.formats.style.Styler at 0x7f5c93369f50>"
            ]
          },
          "metadata": {},
          "execution_count": 38
        }
      ]
    },
    {
      "cell_type": "code",
      "metadata": {
        "colab": {
          "base_uri": "https://localhost:8080/"
        },
        "id": "iWPqT4Eh6G8X",
        "outputId": "4104a00d-7335-462e-da5e-4957ecea9616"
      },
      "source": [
        "print(\"Classification Report:\")\n",
        "print()\n",
        "print(classification_report(y_test, y_pred))\n"
      ],
      "execution_count": null,
      "outputs": [
        {
          "output_type": "stream",
          "name": "stdout",
          "text": [
            "Classification Report:\n",
            "\n",
            "              precision    recall  f1-score   support\n",
            "\n",
            "           0       1.00      1.00      1.00       127\n",
            "           1       1.00      1.00      1.00       250\n",
            "           2       1.00      1.00      1.00       177\n",
            "           3       1.00      1.00      1.00       273\n",
            "           4       1.00      1.00      1.00       538\n",
            "           5       1.00      1.00      1.00       569\n",
            "           6       1.00      1.00      1.00        39\n",
            "           7       1.00      1.00      1.00        28\n",
            "           8       1.00      1.00      1.00        56\n",
            "           9       1.00      1.00      1.00        81\n",
            "          10       1.00      1.00      1.00       137\n",
            "          11       1.00      1.00      1.00       172\n",
            "\n",
            "    accuracy                           1.00      2447\n",
            "   macro avg       1.00      1.00      1.00      2447\n",
            "weighted avg       1.00      1.00      1.00      2447\n",
            "\n"
          ]
        }
      ]
    },
    {
      "cell_type": "markdown",
      "metadata": {
        "id": "qeqFuDfmr-DP"
      },
      "source": [
        "# PCA Models"
      ]
    },
    {
      "cell_type": "code",
      "metadata": {
        "id": "Uqre0UVGr_fJ"
      },
      "source": [
        "# Since I am performing pca its necessary to standardize data and fit it to data frame.\n",
        "scaler = StandardScaler()\n",
        "X_train_std = scaler.fit_transform(X_train)\n",
        "\n",
        "# Computing the principal components\n",
        "pca = PCA()\n",
        "X_pca = pca.fit_transform(X_train_std)\n"
      ],
      "execution_count": null,
      "outputs": []
    },
    {
      "cell_type": "code",
      "metadata": {
        "id": "Jo-l5GYosKgs"
      },
      "source": [
        "# I plan to use the amount of components that add up to 90% variance.\n",
        "n_components = np.sum(np.cumsum(pca.explained_variance_ratio_) < 0.90)\n",
        "X_pca = X_pca[:, :n_components]\n"
      ],
      "execution_count": null,
      "outputs": []
    },
    {
      "cell_type": "code",
      "metadata": {
        "colab": {
          "base_uri": "https://localhost:8080/"
        },
        "id": "9UyVl_rWsOxR",
        "outputId": "7c73736d-0f39-4343-9c9d-8ef3bbb40d17"
      },
      "source": [
        "# check to see the amount of components being used\n",
        "n_components\n"
      ],
      "execution_count": null,
      "outputs": [
        {
          "output_type": "execute_result",
          "data": {
            "text/plain": [
              "47"
            ]
          },
          "metadata": {},
          "execution_count": 42
        }
      ]
    },
    {
      "cell_type": "markdown",
      "metadata": {
        "id": "QE9jb2r1sQtx"
      },
      "source": [
        "# Random Forest Classifier"
      ]
    },
    {
      "cell_type": "code",
      "metadata": {
        "id": "O9CHYcI3sSvK"
      },
      "source": [
        "pipeline = Pipeline(\n",
        "    [\n",
        "        (\"scaler\", StandardScaler()),\n",
        "        (\"pca\", PCA(n_components=n_components)),\n",
        "        (\"rf\", RandomForestClassifier()),\n",
        "    ]\n",
        ")\n",
        "pipeline = pipeline.fit(X_train, y_train)\n"
      ],
      "execution_count": null,
      "outputs": []
    },
    {
      "cell_type": "markdown",
      "metadata": {
        "id": "ah-_0S8jsb7p"
      },
      "source": [
        "GridSearch"
      ]
    },
    {
      "cell_type": "code",
      "metadata": {
        "colab": {
          "base_uri": "https://localhost:8080/"
        },
        "id": "8rlQN2IvsaMj",
        "outputId": "e3c72f12-8cd3-4325-fa0f-730272ac1a26"
      },
      "source": [
        "grid = {\n",
        "    \"rf__max_depth\": [90, 110, 130],\n",
        "    \"rf__n_estimators\": [1, 10, 100],\n",
        "    \"rf__min_samples_leaf\": [1, 3, 5, 7],\n",
        "    \"rf__criterion\": [\"gini\"],\n",
        "}\n",
        "\n",
        "model = GridSearchCV(pipeline, grid, n_jobs=-1, cv=2, verbose=2)\n",
        "model.fit(X_train, y_train)\n"
      ],
      "execution_count": null,
      "outputs": [
        {
          "output_type": "stream",
          "name": "stdout",
          "text": [
            "Fitting 2 folds for each of 36 candidates, totalling 72 fits\n"
          ]
        },
        {
          "output_type": "stream",
          "name": "stderr",
          "text": [
            "[Parallel(n_jobs=-1)]: Using backend LokyBackend with 2 concurrent workers.\n",
            "[Parallel(n_jobs=-1)]: Done  37 tasks      | elapsed:   33.4s\n",
            "[Parallel(n_jobs=-1)]: Done  72 out of  72 | elapsed:  1.1min finished\n"
          ]
        },
        {
          "output_type": "execute_result",
          "data": {
            "text/plain": [
              "GridSearchCV(cv=2, error_score=nan,\n",
              "             estimator=Pipeline(memory=None,\n",
              "                                steps=[('scaler',\n",
              "                                        StandardScaler(copy=True,\n",
              "                                                       with_mean=True,\n",
              "                                                       with_std=True)),\n",
              "                                       ('pca',\n",
              "                                        PCA(copy=True, iterated_power='auto',\n",
              "                                            n_components=47, random_state=None,\n",
              "                                            svd_solver='auto', tol=0.0,\n",
              "                                            whiten=False)),\n",
              "                                       ('rf',\n",
              "                                        RandomForestClassifier(bootstrap=True,\n",
              "                                                               ccp_alpha=0.0,\n",
              "                                                               class_weight=None,\n",
              "                                                               criterion='gini',\n",
              "                                                               m...\n",
              "                                                               min_weight_fraction_leaf=0.0,\n",
              "                                                               n_estimators=100,\n",
              "                                                               n_jobs=None,\n",
              "                                                               oob_score=False,\n",
              "                                                               random_state=None,\n",
              "                                                               verbose=0,\n",
              "                                                               warm_start=False))],\n",
              "                                verbose=False),\n",
              "             iid='deprecated', n_jobs=-1,\n",
              "             param_grid={'rf__criterion': ['gini'],\n",
              "                         'rf__max_depth': [90, 110, 130],\n",
              "                         'rf__min_samples_leaf': [1, 3, 5, 7],\n",
              "                         'rf__n_estimators': [1, 10, 100]},\n",
              "             pre_dispatch='2*n_jobs', refit=True, return_train_score=False,\n",
              "             scoring=None, verbose=2)"
            ]
          },
          "metadata": {},
          "execution_count": 44
        }
      ]
    },
    {
      "cell_type": "code",
      "metadata": {
        "colab": {
          "base_uri": "https://localhost:8080/"
        },
        "id": "DO3iW0UysdgC",
        "outputId": "b694332b-5cc4-49e0-b0b6-2adaaa0a7bff"
      },
      "source": [
        "model.best_params_\n"
      ],
      "execution_count": null,
      "outputs": [
        {
          "output_type": "execute_result",
          "data": {
            "text/plain": [
              "{'rf__criterion': 'gini',\n",
              " 'rf__max_depth': 90,\n",
              " 'rf__min_samples_leaf': 1,\n",
              " 'rf__n_estimators': 100}"
            ]
          },
          "metadata": {},
          "execution_count": 45
        }
      ]
    },
    {
      "cell_type": "code",
      "metadata": {
        "colab": {
          "base_uri": "https://localhost:8080/"
        },
        "id": "WNJHfmYZswuB",
        "outputId": "a5702a98-a601-4071-9da0-d7e0babcb949"
      },
      "source": [
        "# Model still appears to be extremely overfitting\n",
        "train_score = model.score(X_train, y_train)\n",
        "test_score = model.score(X_test, y_test)\n",
        "\n",
        "print(f\"Train score: {train_score}\")\n",
        "print(f\"Test score: {test_score}\")\n"
      ],
      "execution_count": null,
      "outputs": [
        {
          "output_type": "stream",
          "name": "stdout",
          "text": [
            "Train score: 0.9963205233033524\n",
            "Test score: 0.8071107478545158\n"
          ]
        }
      ]
    },
    {
      "cell_type": "code",
      "metadata": {
        "colab": {
          "base_uri": "https://localhost:8080/",
          "height": 416
        },
        "id": "Gj5cOkHcterr",
        "outputId": "093a1716-f884-4a48-e143-fc3d6fb60dc5"
      },
      "source": [
        "y_pred = model.predict(X_test)\n",
        "\n",
        "con_mat = pd.DataFrame(\n",
        "    confusion_matrix(y_test, y_pred),\n",
        "    index=[\n",
        "        \"Actual M22-\",\n",
        "        \"Actual M23-26\",\n",
        "        \"Actual M27-28\",\n",
        "        \"Actual M29-31\",\n",
        "        \"Actual M32-38\",\n",
        "        \"Actual M39+\",\n",
        "        \"Actual F23-\",\n",
        "        \"Actual F24-26\",\n",
        "        \"Actual F27-28\",\n",
        "        \"Actual F29-32\",\n",
        "        \"Actual F33-42\",\n",
        "        \"Actual F43+\",\n",
        "    ],\n",
        "    columns=[\n",
        "        \"Predicted M22-\",\n",
        "        \"Predicted M23-26\",\n",
        "        \"Predicted M27-28\",\n",
        "        \"Predicted M29-31\",\n",
        "        \"Predicted M32-38\",\n",
        "        \"Predicted M39+\",\n",
        "        \"Predicted F23-\",\n",
        "        \"Predicted F24-26\",\n",
        "        \"Predicted F27-28\",\n",
        "        \"Predicted F29-32\",\n",
        "        \"Predicted F33-42\",\n",
        "        \"Predicted F43+\",\n",
        "    ],\n",
        ")\n",
        "con_mat.style.background_gradient(axis=None)\n"
      ],
      "execution_count": null,
      "outputs": [
        {
          "output_type": "execute_result",
          "data": {
            "text/html": [
              "<style  type=\"text/css\" >\n",
              "#T_e5360aec_40c3_11ec_8465_0242ac1c0002row0_col0{\n",
              "            background-color:  #d7d6e9;\n",
              "            color:  #000000;\n",
              "        }#T_e5360aec_40c3_11ec_8465_0242ac1c0002row0_col1,#T_e5360aec_40c3_11ec_8465_0242ac1c0002row1_col0,#T_e5360aec_40c3_11ec_8465_0242ac1c0002row1_col8,#T_e5360aec_40c3_11ec_8465_0242ac1c0002row1_col11,#T_e5360aec_40c3_11ec_8465_0242ac1c0002row2_col10,#T_e5360aec_40c3_11ec_8465_0242ac1c0002row2_col11,#T_e5360aec_40c3_11ec_8465_0242ac1c0002row3_col2,#T_e5360aec_40c3_11ec_8465_0242ac1c0002row3_col10,#T_e5360aec_40c3_11ec_8465_0242ac1c0002row4_col0,#T_e5360aec_40c3_11ec_8465_0242ac1c0002row4_col1,#T_e5360aec_40c3_11ec_8465_0242ac1c0002row4_col7,#T_e5360aec_40c3_11ec_8465_0242ac1c0002row4_col9,#T_e5360aec_40c3_11ec_8465_0242ac1c0002row4_col10,#T_e5360aec_40c3_11ec_8465_0242ac1c0002row5_col8,#T_e5360aec_40c3_11ec_8465_0242ac1c0002row5_col11,#T_e5360aec_40c3_11ec_8465_0242ac1c0002row6_col3,#T_e5360aec_40c3_11ec_8465_0242ac1c0002row6_col10,#T_e5360aec_40c3_11ec_8465_0242ac1c0002row7_col5,#T_e5360aec_40c3_11ec_8465_0242ac1c0002row8_col1,#T_e5360aec_40c3_11ec_8465_0242ac1c0002row9_col2,#T_e5360aec_40c3_11ec_8465_0242ac1c0002row9_col10,#T_e5360aec_40c3_11ec_8465_0242ac1c0002row10_col1,#T_e5360aec_40c3_11ec_8465_0242ac1c0002row10_col2,#T_e5360aec_40c3_11ec_8465_0242ac1c0002row11_col2,#T_e5360aec_40c3_11ec_8465_0242ac1c0002row11_col10{\n",
              "            background-color:  #fef6fb;\n",
              "            color:  #000000;\n",
              "        }#T_e5360aec_40c3_11ec_8465_0242ac1c0002row0_col2,#T_e5360aec_40c3_11ec_8465_0242ac1c0002row0_col6,#T_e5360aec_40c3_11ec_8465_0242ac1c0002row0_col7,#T_e5360aec_40c3_11ec_8465_0242ac1c0002row0_col8,#T_e5360aec_40c3_11ec_8465_0242ac1c0002row0_col9,#T_e5360aec_40c3_11ec_8465_0242ac1c0002row0_col10,#T_e5360aec_40c3_11ec_8465_0242ac1c0002row0_col11,#T_e5360aec_40c3_11ec_8465_0242ac1c0002row1_col6,#T_e5360aec_40c3_11ec_8465_0242ac1c0002row1_col7,#T_e5360aec_40c3_11ec_8465_0242ac1c0002row1_col9,#T_e5360aec_40c3_11ec_8465_0242ac1c0002row1_col10,#T_e5360aec_40c3_11ec_8465_0242ac1c0002row2_col0,#T_e5360aec_40c3_11ec_8465_0242ac1c0002row2_col3,#T_e5360aec_40c3_11ec_8465_0242ac1c0002row2_col6,#T_e5360aec_40c3_11ec_8465_0242ac1c0002row2_col7,#T_e5360aec_40c3_11ec_8465_0242ac1c0002row2_col8,#T_e5360aec_40c3_11ec_8465_0242ac1c0002row2_col9,#T_e5360aec_40c3_11ec_8465_0242ac1c0002row3_col1,#T_e5360aec_40c3_11ec_8465_0242ac1c0002row3_col6,#T_e5360aec_40c3_11ec_8465_0242ac1c0002row3_col7,#T_e5360aec_40c3_11ec_8465_0242ac1c0002row3_col9,#T_e5360aec_40c3_11ec_8465_0242ac1c0002row4_col2,#T_e5360aec_40c3_11ec_8465_0242ac1c0002row4_col6,#T_e5360aec_40c3_11ec_8465_0242ac1c0002row4_col8,#T_e5360aec_40c3_11ec_8465_0242ac1c0002row5_col6,#T_e5360aec_40c3_11ec_8465_0242ac1c0002row5_col7,#T_e5360aec_40c3_11ec_8465_0242ac1c0002row6_col0,#T_e5360aec_40c3_11ec_8465_0242ac1c0002row6_col1,#T_e5360aec_40c3_11ec_8465_0242ac1c0002row6_col2,#T_e5360aec_40c3_11ec_8465_0242ac1c0002row6_col4,#T_e5360aec_40c3_11ec_8465_0242ac1c0002row6_col5,#T_e5360aec_40c3_11ec_8465_0242ac1c0002row6_col7,#T_e5360aec_40c3_11ec_8465_0242ac1c0002row6_col8,#T_e5360aec_40c3_11ec_8465_0242ac1c0002row6_col9,#T_e5360aec_40c3_11ec_8465_0242ac1c0002row6_col11,#T_e5360aec_40c3_11ec_8465_0242ac1c0002row7_col0,#T_e5360aec_40c3_11ec_8465_0242ac1c0002row7_col1,#T_e5360aec_40c3_11ec_8465_0242ac1c0002row7_col2,#T_e5360aec_40c3_11ec_8465_0242ac1c0002row7_col3,#T_e5360aec_40c3_11ec_8465_0242ac1c0002row7_col6,#T_e5360aec_40c3_11ec_8465_0242ac1c0002row7_col8,#T_e5360aec_40c3_11ec_8465_0242ac1c0002row7_col9,#T_e5360aec_40c3_11ec_8465_0242ac1c0002row7_col10,#T_e5360aec_40c3_11ec_8465_0242ac1c0002row7_col11,#T_e5360aec_40c3_11ec_8465_0242ac1c0002row8_col0,#T_e5360aec_40c3_11ec_8465_0242ac1c0002row8_col2,#T_e5360aec_40c3_11ec_8465_0242ac1c0002row8_col6,#T_e5360aec_40c3_11ec_8465_0242ac1c0002row8_col7,#T_e5360aec_40c3_11ec_8465_0242ac1c0002row8_col9,#T_e5360aec_40c3_11ec_8465_0242ac1c0002row8_col10,#T_e5360aec_40c3_11ec_8465_0242ac1c0002row8_col11,#T_e5360aec_40c3_11ec_8465_0242ac1c0002row9_col0,#T_e5360aec_40c3_11ec_8465_0242ac1c0002row9_col1,#T_e5360aec_40c3_11ec_8465_0242ac1c0002row9_col3,#T_e5360aec_40c3_11ec_8465_0242ac1c0002row9_col6,#T_e5360aec_40c3_11ec_8465_0242ac1c0002row9_col7,#T_e5360aec_40c3_11ec_8465_0242ac1c0002row9_col8,#T_e5360aec_40c3_11ec_8465_0242ac1c0002row9_col11,#T_e5360aec_40c3_11ec_8465_0242ac1c0002row10_col0,#T_e5360aec_40c3_11ec_8465_0242ac1c0002row10_col3,#T_e5360aec_40c3_11ec_8465_0242ac1c0002row10_col6,#T_e5360aec_40c3_11ec_8465_0242ac1c0002row10_col7,#T_e5360aec_40c3_11ec_8465_0242ac1c0002row10_col8,#T_e5360aec_40c3_11ec_8465_0242ac1c0002row10_col9,#T_e5360aec_40c3_11ec_8465_0242ac1c0002row11_col0,#T_e5360aec_40c3_11ec_8465_0242ac1c0002row11_col6,#T_e5360aec_40c3_11ec_8465_0242ac1c0002row11_col7,#T_e5360aec_40c3_11ec_8465_0242ac1c0002row11_col8,#T_e5360aec_40c3_11ec_8465_0242ac1c0002row11_col9{\n",
              "            background-color:  #fff7fb;\n",
              "            color:  #000000;\n",
              "        }#T_e5360aec_40c3_11ec_8465_0242ac1c0002row0_col3,#T_e5360aec_40c3_11ec_8465_0242ac1c0002row0_col4,#T_e5360aec_40c3_11ec_8465_0242ac1c0002row1_col2,#T_e5360aec_40c3_11ec_8465_0242ac1c0002row1_col3,#T_e5360aec_40c3_11ec_8465_0242ac1c0002row2_col5,#T_e5360aec_40c3_11ec_8465_0242ac1c0002row3_col8,#T_e5360aec_40c3_11ec_8465_0242ac1c0002row3_col11,#T_e5360aec_40c3_11ec_8465_0242ac1c0002row5_col2,#T_e5360aec_40c3_11ec_8465_0242ac1c0002row7_col4,#T_e5360aec_40c3_11ec_8465_0242ac1c0002row8_col4,#T_e5360aec_40c3_11ec_8465_0242ac1c0002row8_col5,#T_e5360aec_40c3_11ec_8465_0242ac1c0002row9_col5,#T_e5360aec_40c3_11ec_8465_0242ac1c0002row10_col11,#T_e5360aec_40c3_11ec_8465_0242ac1c0002row11_col3{\n",
              "            background-color:  #fef6fa;\n",
              "            color:  #000000;\n",
              "        }#T_e5360aec_40c3_11ec_8465_0242ac1c0002row0_col5,#T_e5360aec_40c3_11ec_8465_0242ac1c0002row3_col5,#T_e5360aec_40c3_11ec_8465_0242ac1c0002row4_col11{\n",
              "            background-color:  #fbf3f9;\n",
              "            color:  #000000;\n",
              "        }#T_e5360aec_40c3_11ec_8465_0242ac1c0002row1_col1{\n",
              "            background-color:  #89b1d4;\n",
              "            color:  #000000;\n",
              "        }#T_e5360aec_40c3_11ec_8465_0242ac1c0002row1_col4{\n",
              "            background-color:  #fcf4fa;\n",
              "            color:  #000000;\n",
              "        }#T_e5360aec_40c3_11ec_8465_0242ac1c0002row1_col5{\n",
              "            background-color:  #faf3f9;\n",
              "            color:  #000000;\n",
              "        }#T_e5360aec_40c3_11ec_8465_0242ac1c0002row2_col1,#T_e5360aec_40c3_11ec_8465_0242ac1c0002row2_col4,#T_e5360aec_40c3_11ec_8465_0242ac1c0002row3_col0,#T_e5360aec_40c3_11ec_8465_0242ac1c0002row5_col1,#T_e5360aec_40c3_11ec_8465_0242ac1c0002row5_col9,#T_e5360aec_40c3_11ec_8465_0242ac1c0002row8_col3,#T_e5360aec_40c3_11ec_8465_0242ac1c0002row9_col4,#T_e5360aec_40c3_11ec_8465_0242ac1c0002row10_col4,#T_e5360aec_40c3_11ec_8465_0242ac1c0002row10_col5,#T_e5360aec_40c3_11ec_8465_0242ac1c0002row11_col1,#T_e5360aec_40c3_11ec_8465_0242ac1c0002row11_col5{\n",
              "            background-color:  #fdf5fa;\n",
              "            color:  #000000;\n",
              "        }#T_e5360aec_40c3_11ec_8465_0242ac1c0002row2_col2{\n",
              "            background-color:  #b5c4df;\n",
              "            color:  #000000;\n",
              "        }#T_e5360aec_40c3_11ec_8465_0242ac1c0002row3_col3{\n",
              "            background-color:  #80aed2;\n",
              "            color:  #000000;\n",
              "        }#T_e5360aec_40c3_11ec_8465_0242ac1c0002row3_col4{\n",
              "            background-color:  #f8f1f8;\n",
              "            color:  #000000;\n",
              "        }#T_e5360aec_40c3_11ec_8465_0242ac1c0002row4_col3,#T_e5360aec_40c3_11ec_8465_0242ac1c0002row5_col3,#T_e5360aec_40c3_11ec_8465_0242ac1c0002row7_col7{\n",
              "            background-color:  #f9f2f8;\n",
              "            color:  #000000;\n",
              "        }#T_e5360aec_40c3_11ec_8465_0242ac1c0002row4_col4,#T_e5360aec_40c3_11ec_8465_0242ac1c0002row5_col5{\n",
              "            background-color:  #023858;\n",
              "            color:  #f1f1f1;\n",
              "        }#T_e5360aec_40c3_11ec_8465_0242ac1c0002row4_col5{\n",
              "            background-color:  #f4edf6;\n",
              "            color:  #000000;\n",
              "        }#T_e5360aec_40c3_11ec_8465_0242ac1c0002row5_col0{\n",
              "            background-color:  #fbf4f9;\n",
              "            color:  #000000;\n",
              "        }#T_e5360aec_40c3_11ec_8465_0242ac1c0002row5_col4,#T_e5360aec_40c3_11ec_8465_0242ac1c0002row8_col8{\n",
              "            background-color:  #f2ecf5;\n",
              "            color:  #000000;\n",
              "        }#T_e5360aec_40c3_11ec_8465_0242ac1c0002row5_col10{\n",
              "            background-color:  #faf2f8;\n",
              "            color:  #000000;\n",
              "        }#T_e5360aec_40c3_11ec_8465_0242ac1c0002row6_col6{\n",
              "            background-color:  #f4eef6;\n",
              "            color:  #000000;\n",
              "        }#T_e5360aec_40c3_11ec_8465_0242ac1c0002row9_col9{\n",
              "            background-color:  #e9e5f1;\n",
              "            color:  #000000;\n",
              "        }#T_e5360aec_40c3_11ec_8465_0242ac1c0002row10_col10{\n",
              "            background-color:  #d2d2e7;\n",
              "            color:  #000000;\n",
              "        }#T_e5360aec_40c3_11ec_8465_0242ac1c0002row11_col4{\n",
              "            background-color:  #f7f0f7;\n",
              "            color:  #000000;\n",
              "        }#T_e5360aec_40c3_11ec_8465_0242ac1c0002row11_col11{\n",
              "            background-color:  #c9cee4;\n",
              "            color:  #000000;\n",
              "        }</style><table id=\"T_e5360aec_40c3_11ec_8465_0242ac1c0002\" class=\"dataframe\"><thead>    <tr>        <th class=\"blank level0\" ></th>        <th class=\"col_heading level0 col0\" >Predicted M22-</th>        <th class=\"col_heading level0 col1\" >Predicted M23-26</th>        <th class=\"col_heading level0 col2\" >Predicted M27-28</th>        <th class=\"col_heading level0 col3\" >Predicted M29-31</th>        <th class=\"col_heading level0 col4\" >Predicted M32-38</th>        <th class=\"col_heading level0 col5\" >Predicted M39+</th>        <th class=\"col_heading level0 col6\" >Predicted F23-</th>        <th class=\"col_heading level0 col7\" >Predicted F24-26</th>        <th class=\"col_heading level0 col8\" >Predicted F27-28</th>        <th class=\"col_heading level0 col9\" >Predicted F29-32</th>        <th class=\"col_heading level0 col10\" >Predicted F33-42</th>        <th class=\"col_heading level0 col11\" >Predicted F43+</th>    </tr></thead><tbody>\n",
              "                <tr>\n",
              "                        <th id=\"T_e5360aec_40c3_11ec_8465_0242ac1c0002level0_row0\" class=\"row_heading level0 row0\" >Actual M22-</th>\n",
              "                        <td id=\"T_e5360aec_40c3_11ec_8465_0242ac1c0002row0_col0\" class=\"data row0 col0\" >101</td>\n",
              "                        <td id=\"T_e5360aec_40c3_11ec_8465_0242ac1c0002row0_col1\" class=\"data row0 col1\" >3</td>\n",
              "                        <td id=\"T_e5360aec_40c3_11ec_8465_0242ac1c0002row0_col2\" class=\"data row0 col2\" >1</td>\n",
              "                        <td id=\"T_e5360aec_40c3_11ec_8465_0242ac1c0002row0_col3\" class=\"data row0 col3\" >4</td>\n",
              "                        <td id=\"T_e5360aec_40c3_11ec_8465_0242ac1c0002row0_col4\" class=\"data row0 col4\" >4</td>\n",
              "                        <td id=\"T_e5360aec_40c3_11ec_8465_0242ac1c0002row0_col5\" class=\"data row0 col5\" >14</td>\n",
              "                        <td id=\"T_e5360aec_40c3_11ec_8465_0242ac1c0002row0_col6\" class=\"data row0 col6\" >0</td>\n",
              "                        <td id=\"T_e5360aec_40c3_11ec_8465_0242ac1c0002row0_col7\" class=\"data row0 col7\" >0</td>\n",
              "                        <td id=\"T_e5360aec_40c3_11ec_8465_0242ac1c0002row0_col8\" class=\"data row0 col8\" >0</td>\n",
              "                        <td id=\"T_e5360aec_40c3_11ec_8465_0242ac1c0002row0_col9\" class=\"data row0 col9\" >0</td>\n",
              "                        <td id=\"T_e5360aec_40c3_11ec_8465_0242ac1c0002row0_col10\" class=\"data row0 col10\" >0</td>\n",
              "                        <td id=\"T_e5360aec_40c3_11ec_8465_0242ac1c0002row0_col11\" class=\"data row0 col11\" >0</td>\n",
              "            </tr>\n",
              "            <tr>\n",
              "                        <th id=\"T_e5360aec_40c3_11ec_8465_0242ac1c0002level0_row1\" class=\"row_heading level0 row1\" >Actual M23-26</th>\n",
              "                        <td id=\"T_e5360aec_40c3_11ec_8465_0242ac1c0002row1_col0\" class=\"data row1 col0\" >3</td>\n",
              "                        <td id=\"T_e5360aec_40c3_11ec_8465_0242ac1c0002row1_col1\" class=\"data row1 col1\" >205</td>\n",
              "                        <td id=\"T_e5360aec_40c3_11ec_8465_0242ac1c0002row1_col2\" class=\"data row1 col2\" >4</td>\n",
              "                        <td id=\"T_e5360aec_40c3_11ec_8465_0242ac1c0002row1_col3\" class=\"data row1 col3\" >5</td>\n",
              "                        <td id=\"T_e5360aec_40c3_11ec_8465_0242ac1c0002row1_col4\" class=\"data row1 col4\" >10</td>\n",
              "                        <td id=\"T_e5360aec_40c3_11ec_8465_0242ac1c0002row1_col5\" class=\"data row1 col5\" >16</td>\n",
              "                        <td id=\"T_e5360aec_40c3_11ec_8465_0242ac1c0002row1_col6\" class=\"data row1 col6\" >0</td>\n",
              "                        <td id=\"T_e5360aec_40c3_11ec_8465_0242ac1c0002row1_col7\" class=\"data row1 col7\" >0</td>\n",
              "                        <td id=\"T_e5360aec_40c3_11ec_8465_0242ac1c0002row1_col8\" class=\"data row1 col8\" >3</td>\n",
              "                        <td id=\"T_e5360aec_40c3_11ec_8465_0242ac1c0002row1_col9\" class=\"data row1 col9\" >1</td>\n",
              "                        <td id=\"T_e5360aec_40c3_11ec_8465_0242ac1c0002row1_col10\" class=\"data row1 col10\" >1</td>\n",
              "                        <td id=\"T_e5360aec_40c3_11ec_8465_0242ac1c0002row1_col11\" class=\"data row1 col11\" >2</td>\n",
              "            </tr>\n",
              "            <tr>\n",
              "                        <th id=\"T_e5360aec_40c3_11ec_8465_0242ac1c0002level0_row2\" class=\"row_heading level0 row2\" >Actual M27-28</th>\n",
              "                        <td id=\"T_e5360aec_40c3_11ec_8465_0242ac1c0002row2_col0\" class=\"data row2 col0\" >1</td>\n",
              "                        <td id=\"T_e5360aec_40c3_11ec_8465_0242ac1c0002row2_col1\" class=\"data row2 col1\" >8</td>\n",
              "                        <td id=\"T_e5360aec_40c3_11ec_8465_0242ac1c0002row2_col2\" class=\"data row2 col2\" >150</td>\n",
              "                        <td id=\"T_e5360aec_40c3_11ec_8465_0242ac1c0002row2_col3\" class=\"data row2 col3\" >0</td>\n",
              "                        <td id=\"T_e5360aec_40c3_11ec_8465_0242ac1c0002row2_col4\" class=\"data row2 col4\" >7</td>\n",
              "                        <td id=\"T_e5360aec_40c3_11ec_8465_0242ac1c0002row2_col5\" class=\"data row2 col5\" >5</td>\n",
              "                        <td id=\"T_e5360aec_40c3_11ec_8465_0242ac1c0002row2_col6\" class=\"data row2 col6\" >0</td>\n",
              "                        <td id=\"T_e5360aec_40c3_11ec_8465_0242ac1c0002row2_col7\" class=\"data row2 col7\" >0</td>\n",
              "                        <td id=\"T_e5360aec_40c3_11ec_8465_0242ac1c0002row2_col8\" class=\"data row2 col8\" >1</td>\n",
              "                        <td id=\"T_e5360aec_40c3_11ec_8465_0242ac1c0002row2_col9\" class=\"data row2 col9\" >0</td>\n",
              "                        <td id=\"T_e5360aec_40c3_11ec_8465_0242ac1c0002row2_col10\" class=\"data row2 col10\" >3</td>\n",
              "                        <td id=\"T_e5360aec_40c3_11ec_8465_0242ac1c0002row2_col11\" class=\"data row2 col11\" >2</td>\n",
              "            </tr>\n",
              "            <tr>\n",
              "                        <th id=\"T_e5360aec_40c3_11ec_8465_0242ac1c0002level0_row3\" class=\"row_heading level0 row3\" >Actual M29-31</th>\n",
              "                        <td id=\"T_e5360aec_40c3_11ec_8465_0242ac1c0002row3_col0\" class=\"data row3 col0\" >7</td>\n",
              "                        <td id=\"T_e5360aec_40c3_11ec_8465_0242ac1c0002row3_col1\" class=\"data row3 col1\" >1</td>\n",
              "                        <td id=\"T_e5360aec_40c3_11ec_8465_0242ac1c0002row3_col2\" class=\"data row3 col2\" >2</td>\n",
              "                        <td id=\"T_e5360aec_40c3_11ec_8465_0242ac1c0002row3_col3\" class=\"data row3 col3\" >216</td>\n",
              "                        <td id=\"T_e5360aec_40c3_11ec_8465_0242ac1c0002row3_col4\" class=\"data row3 col4\" >22</td>\n",
              "                        <td id=\"T_e5360aec_40c3_11ec_8465_0242ac1c0002row3_col5\" class=\"data row3 col5\" >13</td>\n",
              "                        <td id=\"T_e5360aec_40c3_11ec_8465_0242ac1c0002row3_col6\" class=\"data row3 col6\" >0</td>\n",
              "                        <td id=\"T_e5360aec_40c3_11ec_8465_0242ac1c0002row3_col7\" class=\"data row3 col7\" >0</td>\n",
              "                        <td id=\"T_e5360aec_40c3_11ec_8465_0242ac1c0002row3_col8\" class=\"data row3 col8\" >4</td>\n",
              "                        <td id=\"T_e5360aec_40c3_11ec_8465_0242ac1c0002row3_col9\" class=\"data row3 col9\" >1</td>\n",
              "                        <td id=\"T_e5360aec_40c3_11ec_8465_0242ac1c0002row3_col10\" class=\"data row3 col10\" >3</td>\n",
              "                        <td id=\"T_e5360aec_40c3_11ec_8465_0242ac1c0002row3_col11\" class=\"data row3 col11\" >4</td>\n",
              "            </tr>\n",
              "            <tr>\n",
              "                        <th id=\"T_e5360aec_40c3_11ec_8465_0242ac1c0002level0_row4\" class=\"row_heading level0 row4\" >Actual M32-38</th>\n",
              "                        <td id=\"T_e5360aec_40c3_11ec_8465_0242ac1c0002row4_col0\" class=\"data row4 col0\" >3</td>\n",
              "                        <td id=\"T_e5360aec_40c3_11ec_8465_0242ac1c0002row4_col1\" class=\"data row4 col1\" >2</td>\n",
              "                        <td id=\"T_e5360aec_40c3_11ec_8465_0242ac1c0002row4_col2\" class=\"data row4 col2\" >1</td>\n",
              "                        <td id=\"T_e5360aec_40c3_11ec_8465_0242ac1c0002row4_col3\" class=\"data row4 col3\" >19</td>\n",
              "                        <td id=\"T_e5360aec_40c3_11ec_8465_0242ac1c0002row4_col4\" class=\"data row4 col4\" >457</td>\n",
              "                        <td id=\"T_e5360aec_40c3_11ec_8465_0242ac1c0002row4_col5\" class=\"data row4 col5\" >35</td>\n",
              "                        <td id=\"T_e5360aec_40c3_11ec_8465_0242ac1c0002row4_col6\" class=\"data row4 col6\" >1</td>\n",
              "                        <td id=\"T_e5360aec_40c3_11ec_8465_0242ac1c0002row4_col7\" class=\"data row4 col7\" >3</td>\n",
              "                        <td id=\"T_e5360aec_40c3_11ec_8465_0242ac1c0002row4_col8\" class=\"data row4 col8\" >0</td>\n",
              "                        <td id=\"T_e5360aec_40c3_11ec_8465_0242ac1c0002row4_col9\" class=\"data row4 col9\" >2</td>\n",
              "                        <td id=\"T_e5360aec_40c3_11ec_8465_0242ac1c0002row4_col10\" class=\"data row4 col10\" >2</td>\n",
              "                        <td id=\"T_e5360aec_40c3_11ec_8465_0242ac1c0002row4_col11\" class=\"data row4 col11\" >13</td>\n",
              "            </tr>\n",
              "            <tr>\n",
              "                        <th id=\"T_e5360aec_40c3_11ec_8465_0242ac1c0002level0_row5\" class=\"row_heading level0 row5\" >Actual M39+</th>\n",
              "                        <td id=\"T_e5360aec_40c3_11ec_8465_0242ac1c0002row5_col0\" class=\"data row5 col0\" >11</td>\n",
              "                        <td id=\"T_e5360aec_40c3_11ec_8465_0242ac1c0002row5_col1\" class=\"data row5 col1\" >7</td>\n",
              "                        <td id=\"T_e5360aec_40c3_11ec_8465_0242ac1c0002row5_col2\" class=\"data row5 col2\" >5</td>\n",
              "                        <td id=\"T_e5360aec_40c3_11ec_8465_0242ac1c0002row5_col3\" class=\"data row5 col3\" >19</td>\n",
              "                        <td id=\"T_e5360aec_40c3_11ec_8465_0242ac1c0002row5_col4\" class=\"data row5 col4\" >40</td>\n",
              "                        <td id=\"T_e5360aec_40c3_11ec_8465_0242ac1c0002row5_col5\" class=\"data row5 col5\" >457</td>\n",
              "                        <td id=\"T_e5360aec_40c3_11ec_8465_0242ac1c0002row5_col6\" class=\"data row5 col6\" >0</td>\n",
              "                        <td id=\"T_e5360aec_40c3_11ec_8465_0242ac1c0002row5_col7\" class=\"data row5 col7\" >1</td>\n",
              "                        <td id=\"T_e5360aec_40c3_11ec_8465_0242ac1c0002row5_col8\" class=\"data row5 col8\" >2</td>\n",
              "                        <td id=\"T_e5360aec_40c3_11ec_8465_0242ac1c0002row5_col9\" class=\"data row5 col9\" >7</td>\n",
              "                        <td id=\"T_e5360aec_40c3_11ec_8465_0242ac1c0002row5_col10\" class=\"data row5 col10\" >17</td>\n",
              "                        <td id=\"T_e5360aec_40c3_11ec_8465_0242ac1c0002row5_col11\" class=\"data row5 col11\" >3</td>\n",
              "            </tr>\n",
              "            <tr>\n",
              "                        <th id=\"T_e5360aec_40c3_11ec_8465_0242ac1c0002level0_row6\" class=\"row_heading level0 row6\" >Actual F23-</th>\n",
              "                        <td id=\"T_e5360aec_40c3_11ec_8465_0242ac1c0002row6_col0\" class=\"data row6 col0\" >0</td>\n",
              "                        <td id=\"T_e5360aec_40c3_11ec_8465_0242ac1c0002row6_col1\" class=\"data row6 col1\" >0</td>\n",
              "                        <td id=\"T_e5360aec_40c3_11ec_8465_0242ac1c0002row6_col2\" class=\"data row6 col2\" >1</td>\n",
              "                        <td id=\"T_e5360aec_40c3_11ec_8465_0242ac1c0002row6_col3\" class=\"data row6 col3\" >2</td>\n",
              "                        <td id=\"T_e5360aec_40c3_11ec_8465_0242ac1c0002row6_col4\" class=\"data row6 col4\" >0</td>\n",
              "                        <td id=\"T_e5360aec_40c3_11ec_8465_0242ac1c0002row6_col5\" class=\"data row6 col5\" >0</td>\n",
              "                        <td id=\"T_e5360aec_40c3_11ec_8465_0242ac1c0002row6_col6\" class=\"data row6 col6\" >33</td>\n",
              "                        <td id=\"T_e5360aec_40c3_11ec_8465_0242ac1c0002row6_col7\" class=\"data row6 col7\" >0</td>\n",
              "                        <td id=\"T_e5360aec_40c3_11ec_8465_0242ac1c0002row6_col8\" class=\"data row6 col8\" >0</td>\n",
              "                        <td id=\"T_e5360aec_40c3_11ec_8465_0242ac1c0002row6_col9\" class=\"data row6 col9\" >0</td>\n",
              "                        <td id=\"T_e5360aec_40c3_11ec_8465_0242ac1c0002row6_col10\" class=\"data row6 col10\" >3</td>\n",
              "                        <td id=\"T_e5360aec_40c3_11ec_8465_0242ac1c0002row6_col11\" class=\"data row6 col11\" >0</td>\n",
              "            </tr>\n",
              "            <tr>\n",
              "                        <th id=\"T_e5360aec_40c3_11ec_8465_0242ac1c0002level0_row7\" class=\"row_heading level0 row7\" >Actual F24-26</th>\n",
              "                        <td id=\"T_e5360aec_40c3_11ec_8465_0242ac1c0002row7_col0\" class=\"data row7 col0\" >1</td>\n",
              "                        <td id=\"T_e5360aec_40c3_11ec_8465_0242ac1c0002row7_col1\" class=\"data row7 col1\" >0</td>\n",
              "                        <td id=\"T_e5360aec_40c3_11ec_8465_0242ac1c0002row7_col2\" class=\"data row7 col2\" >0</td>\n",
              "                        <td id=\"T_e5360aec_40c3_11ec_8465_0242ac1c0002row7_col3\" class=\"data row7 col3\" >1</td>\n",
              "                        <td id=\"T_e5360aec_40c3_11ec_8465_0242ac1c0002row7_col4\" class=\"data row7 col4\" >5</td>\n",
              "                        <td id=\"T_e5360aec_40c3_11ec_8465_0242ac1c0002row7_col5\" class=\"data row7 col5\" >2</td>\n",
              "                        <td id=\"T_e5360aec_40c3_11ec_8465_0242ac1c0002row7_col6\" class=\"data row7 col6\" >0</td>\n",
              "                        <td id=\"T_e5360aec_40c3_11ec_8465_0242ac1c0002row7_col7\" class=\"data row7 col7\" >19</td>\n",
              "                        <td id=\"T_e5360aec_40c3_11ec_8465_0242ac1c0002row7_col8\" class=\"data row7 col8\" >0</td>\n",
              "                        <td id=\"T_e5360aec_40c3_11ec_8465_0242ac1c0002row7_col9\" class=\"data row7 col9\" >0</td>\n",
              "                        <td id=\"T_e5360aec_40c3_11ec_8465_0242ac1c0002row7_col10\" class=\"data row7 col10\" >0</td>\n",
              "                        <td id=\"T_e5360aec_40c3_11ec_8465_0242ac1c0002row7_col11\" class=\"data row7 col11\" >0</td>\n",
              "            </tr>\n",
              "            <tr>\n",
              "                        <th id=\"T_e5360aec_40c3_11ec_8465_0242ac1c0002level0_row8\" class=\"row_heading level0 row8\" >Actual F27-28</th>\n",
              "                        <td id=\"T_e5360aec_40c3_11ec_8465_0242ac1c0002row8_col0\" class=\"data row8 col0\" >0</td>\n",
              "                        <td id=\"T_e5360aec_40c3_11ec_8465_0242ac1c0002row8_col1\" class=\"data row8 col1\" >3</td>\n",
              "                        <td id=\"T_e5360aec_40c3_11ec_8465_0242ac1c0002row8_col2\" class=\"data row8 col2\" >0</td>\n",
              "                        <td id=\"T_e5360aec_40c3_11ec_8465_0242ac1c0002row8_col3\" class=\"data row8 col3\" >6</td>\n",
              "                        <td id=\"T_e5360aec_40c3_11ec_8465_0242ac1c0002row8_col4\" class=\"data row8 col4\" >5</td>\n",
              "                        <td id=\"T_e5360aec_40c3_11ec_8465_0242ac1c0002row8_col5\" class=\"data row8 col5\" >4</td>\n",
              "                        <td id=\"T_e5360aec_40c3_11ec_8465_0242ac1c0002row8_col6\" class=\"data row8 col6\" >0</td>\n",
              "                        <td id=\"T_e5360aec_40c3_11ec_8465_0242ac1c0002row8_col7\" class=\"data row8 col7\" >0</td>\n",
              "                        <td id=\"T_e5360aec_40c3_11ec_8465_0242ac1c0002row8_col8\" class=\"data row8 col8\" >38</td>\n",
              "                        <td id=\"T_e5360aec_40c3_11ec_8465_0242ac1c0002row8_col9\" class=\"data row8 col9\" >0</td>\n",
              "                        <td id=\"T_e5360aec_40c3_11ec_8465_0242ac1c0002row8_col10\" class=\"data row8 col10\" >0</td>\n",
              "                        <td id=\"T_e5360aec_40c3_11ec_8465_0242ac1c0002row8_col11\" class=\"data row8 col11\" >0</td>\n",
              "            </tr>\n",
              "            <tr>\n",
              "                        <th id=\"T_e5360aec_40c3_11ec_8465_0242ac1c0002level0_row9\" class=\"row_heading level0 row9\" >Actual F29-32</th>\n",
              "                        <td id=\"T_e5360aec_40c3_11ec_8465_0242ac1c0002row9_col0\" class=\"data row9 col0\" >1</td>\n",
              "                        <td id=\"T_e5360aec_40c3_11ec_8465_0242ac1c0002row9_col1\" class=\"data row9 col1\" >0</td>\n",
              "                        <td id=\"T_e5360aec_40c3_11ec_8465_0242ac1c0002row9_col2\" class=\"data row9 col2\" >3</td>\n",
              "                        <td id=\"T_e5360aec_40c3_11ec_8465_0242ac1c0002row9_col3\" class=\"data row9 col3\" >0</td>\n",
              "                        <td id=\"T_e5360aec_40c3_11ec_8465_0242ac1c0002row9_col4\" class=\"data row9 col4\" >6</td>\n",
              "                        <td id=\"T_e5360aec_40c3_11ec_8465_0242ac1c0002row9_col5\" class=\"data row9 col5\" >5</td>\n",
              "                        <td id=\"T_e5360aec_40c3_11ec_8465_0242ac1c0002row9_col6\" class=\"data row9 col6\" >0</td>\n",
              "                        <td id=\"T_e5360aec_40c3_11ec_8465_0242ac1c0002row9_col7\" class=\"data row9 col7\" >0</td>\n",
              "                        <td id=\"T_e5360aec_40c3_11ec_8465_0242ac1c0002row9_col8\" class=\"data row9 col8\" >0</td>\n",
              "                        <td id=\"T_e5360aec_40c3_11ec_8465_0242ac1c0002row9_col9\" class=\"data row9 col9\" >64</td>\n",
              "                        <td id=\"T_e5360aec_40c3_11ec_8465_0242ac1c0002row9_col10\" class=\"data row9 col10\" >2</td>\n",
              "                        <td id=\"T_e5360aec_40c3_11ec_8465_0242ac1c0002row9_col11\" class=\"data row9 col11\" >0</td>\n",
              "            </tr>\n",
              "            <tr>\n",
              "                        <th id=\"T_e5360aec_40c3_11ec_8465_0242ac1c0002level0_row10\" class=\"row_heading level0 row10\" >Actual F33-42</th>\n",
              "                        <td id=\"T_e5360aec_40c3_11ec_8465_0242ac1c0002row10_col0\" class=\"data row10 col0\" >1</td>\n",
              "                        <td id=\"T_e5360aec_40c3_11ec_8465_0242ac1c0002row10_col1\" class=\"data row10 col1\" >2</td>\n",
              "                        <td id=\"T_e5360aec_40c3_11ec_8465_0242ac1c0002row10_col2\" class=\"data row10 col2\" >2</td>\n",
              "                        <td id=\"T_e5360aec_40c3_11ec_8465_0242ac1c0002row10_col3\" class=\"data row10 col3\" >1</td>\n",
              "                        <td id=\"T_e5360aec_40c3_11ec_8465_0242ac1c0002row10_col4\" class=\"data row10 col4\" >6</td>\n",
              "                        <td id=\"T_e5360aec_40c3_11ec_8465_0242ac1c0002row10_col5\" class=\"data row10 col5\" >8</td>\n",
              "                        <td id=\"T_e5360aec_40c3_11ec_8465_0242ac1c0002row10_col6\" class=\"data row10 col6\" >1</td>\n",
              "                        <td id=\"T_e5360aec_40c3_11ec_8465_0242ac1c0002row10_col7\" class=\"data row10 col7\" >1</td>\n",
              "                        <td id=\"T_e5360aec_40c3_11ec_8465_0242ac1c0002row10_col8\" class=\"data row10 col8\" >0</td>\n",
              "                        <td id=\"T_e5360aec_40c3_11ec_8465_0242ac1c0002row10_col9\" class=\"data row10 col9\" >0</td>\n",
              "                        <td id=\"T_e5360aec_40c3_11ec_8465_0242ac1c0002row10_col10\" class=\"data row10 col10\" >111</td>\n",
              "                        <td id=\"T_e5360aec_40c3_11ec_8465_0242ac1c0002row10_col11\" class=\"data row10 col11\" >4</td>\n",
              "            </tr>\n",
              "            <tr>\n",
              "                        <th id=\"T_e5360aec_40c3_11ec_8465_0242ac1c0002level0_row11\" class=\"row_heading level0 row11\" >Actual F43+</th>\n",
              "                        <td id=\"T_e5360aec_40c3_11ec_8465_0242ac1c0002row11_col0\" class=\"data row11 col0\" >1</td>\n",
              "                        <td id=\"T_e5360aec_40c3_11ec_8465_0242ac1c0002row11_col1\" class=\"data row11 col1\" >6</td>\n",
              "                        <td id=\"T_e5360aec_40c3_11ec_8465_0242ac1c0002row11_col2\" class=\"data row11 col2\" >2</td>\n",
              "                        <td id=\"T_e5360aec_40c3_11ec_8465_0242ac1c0002row11_col3\" class=\"data row11 col3\" >5</td>\n",
              "                        <td id=\"T_e5360aec_40c3_11ec_8465_0242ac1c0002row11_col4\" class=\"data row11 col4\" >24</td>\n",
              "                        <td id=\"T_e5360aec_40c3_11ec_8465_0242ac1c0002row11_col5\" class=\"data row11 col5\" >7</td>\n",
              "                        <td id=\"T_e5360aec_40c3_11ec_8465_0242ac1c0002row11_col6\" class=\"data row11 col6\" >0</td>\n",
              "                        <td id=\"T_e5360aec_40c3_11ec_8465_0242ac1c0002row11_col7\" class=\"data row11 col7\" >0</td>\n",
              "                        <td id=\"T_e5360aec_40c3_11ec_8465_0242ac1c0002row11_col8\" class=\"data row11 col8\" >0</td>\n",
              "                        <td id=\"T_e5360aec_40c3_11ec_8465_0242ac1c0002row11_col9\" class=\"data row11 col9\" >0</td>\n",
              "                        <td id=\"T_e5360aec_40c3_11ec_8465_0242ac1c0002row11_col10\" class=\"data row11 col10\" >3</td>\n",
              "                        <td id=\"T_e5360aec_40c3_11ec_8465_0242ac1c0002row11_col11\" class=\"data row11 col11\" >124</td>\n",
              "            </tr>\n",
              "    </tbody></table>"
            ],
            "text/plain": [
              "<pandas.io.formats.style.Styler at 0x7f5c9334ced0>"
            ]
          },
          "metadata": {},
          "execution_count": 47
        }
      ]
    },
    {
      "cell_type": "code",
      "metadata": {
        "colab": {
          "base_uri": "https://localhost:8080/"
        },
        "id": "N_Y2t54ntl54",
        "outputId": "c2aa53b6-bbdd-4f71-e56b-3dcaf5478e24"
      },
      "source": [
        "print(\"Classification Report:\")\n",
        "print()\n",
        "print(classification_report(y_test, y_pred))"
      ],
      "execution_count": null,
      "outputs": [
        {
          "output_type": "stream",
          "name": "stdout",
          "text": [
            "Classification Report:\n",
            "\n",
            "              precision    recall  f1-score   support\n",
            "\n",
            "           0       0.78      0.80      0.79       127\n",
            "           1       0.86      0.82      0.84       250\n",
            "           2       0.88      0.85      0.86       177\n",
            "           3       0.78      0.79      0.78       273\n",
            "           4       0.78      0.85      0.81       538\n",
            "           5       0.81      0.80      0.81       569\n",
            "           6       0.94      0.85      0.89        39\n",
            "           7       0.79      0.68      0.73        28\n",
            "           8       0.79      0.68      0.73        56\n",
            "           9       0.85      0.79      0.82        81\n",
            "          10       0.77      0.81      0.79       137\n",
            "          11       0.82      0.72      0.77       172\n",
            "\n",
            "    accuracy                           0.81      2447\n",
            "   macro avg       0.82      0.79      0.80      2447\n",
            "weighted avg       0.81      0.81      0.81      2447\n",
            "\n"
          ]
        }
      ]
    },
    {
      "cell_type": "markdown",
      "metadata": {
        "id": "zb7uUP5lHWAZ"
      },
      "source": [
        "#K Nearest Neighbor Classifier"
      ]
    },
    {
      "cell_type": "code",
      "metadata": {
        "id": "oWV_BMcnHe8p"
      },
      "source": [
        "pipeline = Pipeline(\n",
        "    [\n",
        "        (\"scaler\", StandardScaler()),\n",
        "        (\"pca\", PCA(n_components=n_components)),\n",
        "        (\"knn\", KNeighborsClassifier()),\n",
        "    ]\n",
        ")\n",
        "pipeline = pipeline.fit(X_train, y_train)\n"
      ],
      "execution_count": null,
      "outputs": []
    },
    {
      "cell_type": "markdown",
      "metadata": {
        "id": "75mWE8TKHZl5"
      },
      "source": [
        "Grid Search"
      ]
    },
    {
      "cell_type": "code",
      "metadata": {
        "colab": {
          "base_uri": "https://localhost:8080/"
        },
        "id": "WneYV5VoHpbq",
        "outputId": "bcac52a4-1d15-4e90-e34c-8921f0d5b495"
      },
      "source": [
        "grid = {\n",
        "    \"knn__n_neighbors\": [50, 100, 150],\n",
        "    \"knn__weights\": [\"distance\"],\n",
        "    \"knn__leaf_size\": [1, 10, 20],\n",
        "}\n",
        "\n",
        "model = GridSearchCV(pipeline, grid, n_jobs=-1, cv=2, verbose=2)\n",
        "model.fit(X_train, y_train)\n"
      ],
      "execution_count": null,
      "outputs": [
        {
          "output_type": "stream",
          "name": "stdout",
          "text": [
            "Fitting 2 folds for each of 9 candidates, totalling 18 fits\n"
          ]
        },
        {
          "output_type": "stream",
          "name": "stderr",
          "text": [
            "[Parallel(n_jobs=-1)]: Using backend LokyBackend with 2 concurrent workers.\n",
            "[Parallel(n_jobs=-1)]: Done  18 out of  18 | elapsed:  1.5min finished\n"
          ]
        },
        {
          "output_type": "execute_result",
          "data": {
            "text/plain": [
              "GridSearchCV(cv=2, error_score=nan,\n",
              "             estimator=Pipeline(memory=None,\n",
              "                                steps=[('scaler',\n",
              "                                        StandardScaler(copy=True,\n",
              "                                                       with_mean=True,\n",
              "                                                       with_std=True)),\n",
              "                                       ('pca',\n",
              "                                        PCA(copy=True, iterated_power='auto',\n",
              "                                            n_components=47, random_state=None,\n",
              "                                            svd_solver='auto', tol=0.0,\n",
              "                                            whiten=False)),\n",
              "                                       ('knn',\n",
              "                                        KNeighborsClassifier(algorithm='auto',\n",
              "                                                             leaf_size=30,\n",
              "                                                             metric='minkowski',\n",
              "                                                             metric_params=None,\n",
              "                                                             n_jobs=None,\n",
              "                                                             n_neighbors=5, p=2,\n",
              "                                                             weights='uniform'))],\n",
              "                                verbose=False),\n",
              "             iid='deprecated', n_jobs=-1,\n",
              "             param_grid={'knn__leaf_size': [1, 10, 20],\n",
              "                         'knn__n_neighbors': [50, 100, 150],\n",
              "                         'knn__weights': ['distance']},\n",
              "             pre_dispatch='2*n_jobs', refit=True, return_train_score=False,\n",
              "             scoring=None, verbose=2)"
            ]
          },
          "metadata": {},
          "execution_count": 50
        }
      ]
    },
    {
      "cell_type": "code",
      "metadata": {
        "colab": {
          "base_uri": "https://localhost:8080/"
        },
        "id": "tJQXrzWfHsx4",
        "outputId": "1aa7756f-7b6b-480d-cada-a46689ddf0e4"
      },
      "source": [
        "model.best_params_\n"
      ],
      "execution_count": null,
      "outputs": [
        {
          "output_type": "execute_result",
          "data": {
            "text/plain": [
              "{'knn__leaf_size': 10, 'knn__n_neighbors': 150, 'knn__weights': 'distance'}"
            ]
          },
          "metadata": {},
          "execution_count": 51
        }
      ]
    },
    {
      "cell_type": "code",
      "metadata": {
        "colab": {
          "base_uri": "https://localhost:8080/"
        },
        "id": "lgL1XZZEnqkd",
        "outputId": "641b110d-3a38-4fe8-91b7-3413092c42bc"
      },
      "source": [
        "# Model still appears to be extremely overfitting\n",
        "train_score = model.score(X_train, y_train)\n",
        "test_score = model.score(X_test, y_test)\n",
        "\n",
        "print(f\"Train score: {train_score}\")\n",
        "print(f\"Test score: {test_score}\")\n"
      ],
      "execution_count": null,
      "outputs": [
        {
          "output_type": "stream",
          "name": "stdout",
          "text": [
            "Train score: 0.999795584627964\n",
            "Test score: 0.7633837351859419\n"
          ]
        }
      ]
    },
    {
      "cell_type": "code",
      "metadata": {
        "colab": {
          "base_uri": "https://localhost:8080/",
          "height": 416
        },
        "id": "GEV12msUHvbi",
        "outputId": "7685680c-c174-42b6-e032-18a1b7842b91"
      },
      "source": [
        "y_pred = model.predict(X_test)\n",
        "\n",
        "con_mat = pd.DataFrame(\n",
        "    confusion_matrix(y_test, y_pred),\n",
        "    index=[\n",
        "        \"Actually M22-\",\n",
        "        \"Actually M23-26\",\n",
        "        \"Actually M27-28\",\n",
        "        \"Actually M29-31\",\n",
        "        \"Actually M32-38\",\n",
        "        \"Actually M39+\",\n",
        "        \"Actually F23-\",\n",
        "        \"Actually F24-26\",\n",
        "        \"Actually F27-28\",\n",
        "        \"Actually F29-32\",\n",
        "        \"Actually F33-42\",\n",
        "        \"Actually F43+\",\n",
        "    ],\n",
        "    columns=[\n",
        "        \"Predicted M22-\",\n",
        "        \"Predicted M23-26\",\n",
        "        \"Predicted M27-28\",\n",
        "        \"Predicted M29-31\",\n",
        "        \"Predicted M32-38\",\n",
        "        \"Predicted M39+\",\n",
        "        \"Predicted F23-\",\n",
        "        \"Predicted F24-26\",\n",
        "        \"Predicted F27-28\",\n",
        "        \"Predicted F29-32\",\n",
        "        \"Predicted F33-42\",\n",
        "        \"Predicted F43+\",\n",
        "    ],\n",
        ")\n",
        "con_mat.style.background_gradient(axis=None)\n"
      ],
      "execution_count": null,
      "outputs": [
        {
          "output_type": "execute_result",
          "data": {
            "text/html": [
              "<style  type=\"text/css\" >\n",
              "#T_248627e0_40c4_11ec_8465_0242ac1c0002row0_col0{\n",
              "            background-color:  #dbdaeb;\n",
              "            color:  #000000;\n",
              "        }#T_248627e0_40c4_11ec_8465_0242ac1c0002row0_col1,#T_248627e0_40c4_11ec_8465_0242ac1c0002row1_col0,#T_248627e0_40c4_11ec_8465_0242ac1c0002row1_col2,#T_248627e0_40c4_11ec_8465_0242ac1c0002row1_col9,#T_248627e0_40c4_11ec_8465_0242ac1c0002row2_col11,#T_248627e0_40c4_11ec_8465_0242ac1c0002row3_col2,#T_248627e0_40c4_11ec_8465_0242ac1c0002row3_col8,#T_248627e0_40c4_11ec_8465_0242ac1c0002row4_col7,#T_248627e0_40c4_11ec_8465_0242ac1c0002row4_col10,#T_248627e0_40c4_11ec_8465_0242ac1c0002row5_col2,#T_248627e0_40c4_11ec_8465_0242ac1c0002row6_col4,#T_248627e0_40c4_11ec_8465_0242ac1c0002row7_col0,#T_248627e0_40c4_11ec_8465_0242ac1c0002row7_col4,#T_248627e0_40c4_11ec_8465_0242ac1c0002row8_col3,#T_248627e0_40c4_11ec_8465_0242ac1c0002row8_col11,#T_248627e0_40c4_11ec_8465_0242ac1c0002row9_col4,#T_248627e0_40c4_11ec_8465_0242ac1c0002row10_col2,#T_248627e0_40c4_11ec_8465_0242ac1c0002row10_col3,#T_248627e0_40c4_11ec_8465_0242ac1c0002row10_col6,#T_248627e0_40c4_11ec_8465_0242ac1c0002row11_col0,#T_248627e0_40c4_11ec_8465_0242ac1c0002row11_col1,#T_248627e0_40c4_11ec_8465_0242ac1c0002row11_col2,#T_248627e0_40c4_11ec_8465_0242ac1c0002row11_col3,#T_248627e0_40c4_11ec_8465_0242ac1c0002row11_col10{\n",
              "            background-color:  #fef6fb;\n",
              "            color:  #000000;\n",
              "        }#T_248627e0_40c4_11ec_8465_0242ac1c0002row0_col2,#T_248627e0_40c4_11ec_8465_0242ac1c0002row0_col6,#T_248627e0_40c4_11ec_8465_0242ac1c0002row0_col7,#T_248627e0_40c4_11ec_8465_0242ac1c0002row0_col8,#T_248627e0_40c4_11ec_8465_0242ac1c0002row0_col9,#T_248627e0_40c4_11ec_8465_0242ac1c0002row0_col10,#T_248627e0_40c4_11ec_8465_0242ac1c0002row0_col11,#T_248627e0_40c4_11ec_8465_0242ac1c0002row1_col3,#T_248627e0_40c4_11ec_8465_0242ac1c0002row1_col6,#T_248627e0_40c4_11ec_8465_0242ac1c0002row1_col7,#T_248627e0_40c4_11ec_8465_0242ac1c0002row1_col8,#T_248627e0_40c4_11ec_8465_0242ac1c0002row1_col11,#T_248627e0_40c4_11ec_8465_0242ac1c0002row2_col0,#T_248627e0_40c4_11ec_8465_0242ac1c0002row2_col6,#T_248627e0_40c4_11ec_8465_0242ac1c0002row2_col7,#T_248627e0_40c4_11ec_8465_0242ac1c0002row2_col8,#T_248627e0_40c4_11ec_8465_0242ac1c0002row2_col9,#T_248627e0_40c4_11ec_8465_0242ac1c0002row3_col6,#T_248627e0_40c4_11ec_8465_0242ac1c0002row3_col7,#T_248627e0_40c4_11ec_8465_0242ac1c0002row3_col9,#T_248627e0_40c4_11ec_8465_0242ac1c0002row3_col10,#T_248627e0_40c4_11ec_8465_0242ac1c0002row3_col11,#T_248627e0_40c4_11ec_8465_0242ac1c0002row4_col0,#T_248627e0_40c4_11ec_8465_0242ac1c0002row4_col1,#T_248627e0_40c4_11ec_8465_0242ac1c0002row4_col2,#T_248627e0_40c4_11ec_8465_0242ac1c0002row4_col6,#T_248627e0_40c4_11ec_8465_0242ac1c0002row4_col8,#T_248627e0_40c4_11ec_8465_0242ac1c0002row5_col6,#T_248627e0_40c4_11ec_8465_0242ac1c0002row5_col7,#T_248627e0_40c4_11ec_8465_0242ac1c0002row5_col8,#T_248627e0_40c4_11ec_8465_0242ac1c0002row5_col11,#T_248627e0_40c4_11ec_8465_0242ac1c0002row6_col0,#T_248627e0_40c4_11ec_8465_0242ac1c0002row6_col1,#T_248627e0_40c4_11ec_8465_0242ac1c0002row6_col2,#T_248627e0_40c4_11ec_8465_0242ac1c0002row6_col3,#T_248627e0_40c4_11ec_8465_0242ac1c0002row6_col5,#T_248627e0_40c4_11ec_8465_0242ac1c0002row6_col7,#T_248627e0_40c4_11ec_8465_0242ac1c0002row6_col8,#T_248627e0_40c4_11ec_8465_0242ac1c0002row6_col9,#T_248627e0_40c4_11ec_8465_0242ac1c0002row6_col10,#T_248627e0_40c4_11ec_8465_0242ac1c0002row6_col11,#T_248627e0_40c4_11ec_8465_0242ac1c0002row7_col1,#T_248627e0_40c4_11ec_8465_0242ac1c0002row7_col2,#T_248627e0_40c4_11ec_8465_0242ac1c0002row7_col3,#T_248627e0_40c4_11ec_8465_0242ac1c0002row7_col6,#T_248627e0_40c4_11ec_8465_0242ac1c0002row7_col8,#T_248627e0_40c4_11ec_8465_0242ac1c0002row7_col9,#T_248627e0_40c4_11ec_8465_0242ac1c0002row7_col10,#T_248627e0_40c4_11ec_8465_0242ac1c0002row7_col11,#T_248627e0_40c4_11ec_8465_0242ac1c0002row8_col0,#T_248627e0_40c4_11ec_8465_0242ac1c0002row8_col2,#T_248627e0_40c4_11ec_8465_0242ac1c0002row8_col6,#T_248627e0_40c4_11ec_8465_0242ac1c0002row8_col7,#T_248627e0_40c4_11ec_8465_0242ac1c0002row8_col9,#T_248627e0_40c4_11ec_8465_0242ac1c0002row9_col0,#T_248627e0_40c4_11ec_8465_0242ac1c0002row9_col6,#T_248627e0_40c4_11ec_8465_0242ac1c0002row9_col7,#T_248627e0_40c4_11ec_8465_0242ac1c0002row9_col8,#T_248627e0_40c4_11ec_8465_0242ac1c0002row9_col10,#T_248627e0_40c4_11ec_8465_0242ac1c0002row9_col11,#T_248627e0_40c4_11ec_8465_0242ac1c0002row10_col0,#T_248627e0_40c4_11ec_8465_0242ac1c0002row10_col1,#T_248627e0_40c4_11ec_8465_0242ac1c0002row10_col7,#T_248627e0_40c4_11ec_8465_0242ac1c0002row10_col8,#T_248627e0_40c4_11ec_8465_0242ac1c0002row10_col9,#T_248627e0_40c4_11ec_8465_0242ac1c0002row10_col11,#T_248627e0_40c4_11ec_8465_0242ac1c0002row11_col6,#T_248627e0_40c4_11ec_8465_0242ac1c0002row11_col7,#T_248627e0_40c4_11ec_8465_0242ac1c0002row11_col8,#T_248627e0_40c4_11ec_8465_0242ac1c0002row11_col9{\n",
              "            background-color:  #fff7fb;\n",
              "            color:  #000000;\n",
              "        }#T_248627e0_40c4_11ec_8465_0242ac1c0002row0_col3,#T_248627e0_40c4_11ec_8465_0242ac1c0002row0_col4,#T_248627e0_40c4_11ec_8465_0242ac1c0002row1_col10,#T_248627e0_40c4_11ec_8465_0242ac1c0002row2_col10,#T_248627e0_40c4_11ec_8465_0242ac1c0002row5_col9,#T_248627e0_40c4_11ec_8465_0242ac1c0002row7_col5,#T_248627e0_40c4_11ec_8465_0242ac1c0002row8_col1,#T_248627e0_40c4_11ec_8465_0242ac1c0002row8_col5,#T_248627e0_40c4_11ec_8465_0242ac1c0002row8_col10,#T_248627e0_40c4_11ec_8465_0242ac1c0002row9_col1,#T_248627e0_40c4_11ec_8465_0242ac1c0002row9_col2,#T_248627e0_40c4_11ec_8465_0242ac1c0002row9_col3{\n",
              "            background-color:  #fef6fa;\n",
              "            color:  #000000;\n",
              "        }#T_248627e0_40c4_11ec_8465_0242ac1c0002row0_col5{\n",
              "            background-color:  #faf2f8;\n",
              "            color:  #000000;\n",
              "        }#T_248627e0_40c4_11ec_8465_0242ac1c0002row1_col1{\n",
              "            background-color:  #a2bcda;\n",
              "            color:  #000000;\n",
              "        }#T_248627e0_40c4_11ec_8465_0242ac1c0002row1_col4,#T_248627e0_40c4_11ec_8465_0242ac1c0002row7_col7{\n",
              "            background-color:  #f9f2f8;\n",
              "            color:  #000000;\n",
              "        }#T_248627e0_40c4_11ec_8465_0242ac1c0002row1_col5,#T_248627e0_40c4_11ec_8465_0242ac1c0002row3_col4{\n",
              "            background-color:  #f5eef6;\n",
              "            color:  #000000;\n",
              "        }#T_248627e0_40c4_11ec_8465_0242ac1c0002row2_col1,#T_248627e0_40c4_11ec_8465_0242ac1c0002row2_col5,#T_248627e0_40c4_11ec_8465_0242ac1c0002row9_col5,#T_248627e0_40c4_11ec_8465_0242ac1c0002row10_col4{\n",
              "            background-color:  #fcf4fa;\n",
              "            color:  #000000;\n",
              "        }#T_248627e0_40c4_11ec_8465_0242ac1c0002row2_col2{\n",
              "            background-color:  #cccfe5;\n",
              "            color:  #000000;\n",
              "        }#T_248627e0_40c4_11ec_8465_0242ac1c0002row2_col3,#T_248627e0_40c4_11ec_8465_0242ac1c0002row3_col0,#T_248627e0_40c4_11ec_8465_0242ac1c0002row3_col1,#T_248627e0_40c4_11ec_8465_0242ac1c0002row4_col9,#T_248627e0_40c4_11ec_8465_0242ac1c0002row4_col11,#T_248627e0_40c4_11ec_8465_0242ac1c0002row5_col0,#T_248627e0_40c4_11ec_8465_0242ac1c0002row5_col1,#T_248627e0_40c4_11ec_8465_0242ac1c0002row5_col3,#T_248627e0_40c4_11ec_8465_0242ac1c0002row5_col10,#T_248627e0_40c4_11ec_8465_0242ac1c0002row8_col4{\n",
              "            background-color:  #fdf5fa;\n",
              "            color:  #000000;\n",
              "        }#T_248627e0_40c4_11ec_8465_0242ac1c0002row2_col4,#T_248627e0_40c4_11ec_8465_0242ac1c0002row4_col3{\n",
              "            background-color:  #fbf4f9;\n",
              "            color:  #000000;\n",
              "        }#T_248627e0_40c4_11ec_8465_0242ac1c0002row3_col3{\n",
              "            background-color:  #9cb9d9;\n",
              "            color:  #000000;\n",
              "        }#T_248627e0_40c4_11ec_8465_0242ac1c0002row3_col5{\n",
              "            background-color:  #f6eff7;\n",
              "            color:  #000000;\n",
              "        }#T_248627e0_40c4_11ec_8465_0242ac1c0002row4_col4{\n",
              "            background-color:  #034973;\n",
              "            color:  #f1f1f1;\n",
              "        }#T_248627e0_40c4_11ec_8465_0242ac1c0002row4_col5,#T_248627e0_40c4_11ec_8465_0242ac1c0002row9_col9{\n",
              "            background-color:  #eee9f3;\n",
              "            color:  #000000;\n",
              "        }#T_248627e0_40c4_11ec_8465_0242ac1c0002row5_col4{\n",
              "            background-color:  #f0eaf4;\n",
              "            color:  #000000;\n",
              "        }#T_248627e0_40c4_11ec_8465_0242ac1c0002row5_col5{\n",
              "            background-color:  #023858;\n",
              "            color:  #f1f1f1;\n",
              "        }#T_248627e0_40c4_11ec_8465_0242ac1c0002row6_col6{\n",
              "            background-color:  #f4eef6;\n",
              "            color:  #000000;\n",
              "        }#T_248627e0_40c4_11ec_8465_0242ac1c0002row8_col8{\n",
              "            background-color:  #f5eff6;\n",
              "            color:  #000000;\n",
              "        }#T_248627e0_40c4_11ec_8465_0242ac1c0002row10_col5{\n",
              "            background-color:  #f8f1f8;\n",
              "            color:  #000000;\n",
              "        }#T_248627e0_40c4_11ec_8465_0242ac1c0002row10_col10{\n",
              "            background-color:  #dcdaeb;\n",
              "            color:  #000000;\n",
              "        }#T_248627e0_40c4_11ec_8465_0242ac1c0002row11_col4,#T_248627e0_40c4_11ec_8465_0242ac1c0002row11_col5{\n",
              "            background-color:  #f7f0f7;\n",
              "            color:  #000000;\n",
              "        }#T_248627e0_40c4_11ec_8465_0242ac1c0002row11_col11{\n",
              "            background-color:  #d7d6e9;\n",
              "            color:  #000000;\n",
              "        }</style><table id=\"T_248627e0_40c4_11ec_8465_0242ac1c0002\" class=\"dataframe\"><thead>    <tr>        <th class=\"blank level0\" ></th>        <th class=\"col_heading level0 col0\" >Predicted M22-</th>        <th class=\"col_heading level0 col1\" >Predicted M23-26</th>        <th class=\"col_heading level0 col2\" >Predicted M27-28</th>        <th class=\"col_heading level0 col3\" >Predicted M29-31</th>        <th class=\"col_heading level0 col4\" >Predicted M32-38</th>        <th class=\"col_heading level0 col5\" >Predicted M39+</th>        <th class=\"col_heading level0 col6\" >Predicted F23-</th>        <th class=\"col_heading level0 col7\" >Predicted F24-26</th>        <th class=\"col_heading level0 col8\" >Predicted F27-28</th>        <th class=\"col_heading level0 col9\" >Predicted F29-32</th>        <th class=\"col_heading level0 col10\" >Predicted F33-42</th>        <th class=\"col_heading level0 col11\" >Predicted F43+</th>    </tr></thead><tbody>\n",
              "                <tr>\n",
              "                        <th id=\"T_248627e0_40c4_11ec_8465_0242ac1c0002level0_row0\" class=\"row_heading level0 row0\" >Actually M22-</th>\n",
              "                        <td id=\"T_248627e0_40c4_11ec_8465_0242ac1c0002row0_col0\" class=\"data row0 col0\" >97</td>\n",
              "                        <td id=\"T_248627e0_40c4_11ec_8465_0242ac1c0002row0_col1\" class=\"data row0 col1\" >3</td>\n",
              "                        <td id=\"T_248627e0_40c4_11ec_8465_0242ac1c0002row0_col2\" class=\"data row0 col2\" >0</td>\n",
              "                        <td id=\"T_248627e0_40c4_11ec_8465_0242ac1c0002row0_col3\" class=\"data row0 col3\" >4</td>\n",
              "                        <td id=\"T_248627e0_40c4_11ec_8465_0242ac1c0002row0_col4\" class=\"data row0 col4\" >5</td>\n",
              "                        <td id=\"T_248627e0_40c4_11ec_8465_0242ac1c0002row0_col5\" class=\"data row0 col5\" >18</td>\n",
              "                        <td id=\"T_248627e0_40c4_11ec_8465_0242ac1c0002row0_col6\" class=\"data row0 col6\" >0</td>\n",
              "                        <td id=\"T_248627e0_40c4_11ec_8465_0242ac1c0002row0_col7\" class=\"data row0 col7\" >0</td>\n",
              "                        <td id=\"T_248627e0_40c4_11ec_8465_0242ac1c0002row0_col8\" class=\"data row0 col8\" >0</td>\n",
              "                        <td id=\"T_248627e0_40c4_11ec_8465_0242ac1c0002row0_col9\" class=\"data row0 col9\" >0</td>\n",
              "                        <td id=\"T_248627e0_40c4_11ec_8465_0242ac1c0002row0_col10\" class=\"data row0 col10\" >0</td>\n",
              "                        <td id=\"T_248627e0_40c4_11ec_8465_0242ac1c0002row0_col11\" class=\"data row0 col11\" >0</td>\n",
              "            </tr>\n",
              "            <tr>\n",
              "                        <th id=\"T_248627e0_40c4_11ec_8465_0242ac1c0002level0_row1\" class=\"row_heading level0 row1\" >Actually M23-26</th>\n",
              "                        <td id=\"T_248627e0_40c4_11ec_8465_0242ac1c0002row1_col0\" class=\"data row1 col0\" >3</td>\n",
              "                        <td id=\"T_248627e0_40c4_11ec_8465_0242ac1c0002row1_col1\" class=\"data row1 col1\" >185</td>\n",
              "                        <td id=\"T_248627e0_40c4_11ec_8465_0242ac1c0002row1_col2\" class=\"data row1 col2\" >2</td>\n",
              "                        <td id=\"T_248627e0_40c4_11ec_8465_0242ac1c0002row1_col3\" class=\"data row1 col3\" >0</td>\n",
              "                        <td id=\"T_248627e0_40c4_11ec_8465_0242ac1c0002row1_col4\" class=\"data row1 col4\" >19</td>\n",
              "                        <td id=\"T_248627e0_40c4_11ec_8465_0242ac1c0002row1_col5\" class=\"data row1 col5\" >33</td>\n",
              "                        <td id=\"T_248627e0_40c4_11ec_8465_0242ac1c0002row1_col6\" class=\"data row1 col6\" >0</td>\n",
              "                        <td id=\"T_248627e0_40c4_11ec_8465_0242ac1c0002row1_col7\" class=\"data row1 col7\" >0</td>\n",
              "                        <td id=\"T_248627e0_40c4_11ec_8465_0242ac1c0002row1_col8\" class=\"data row1 col8\" >0</td>\n",
              "                        <td id=\"T_248627e0_40c4_11ec_8465_0242ac1c0002row1_col9\" class=\"data row1 col9\" >3</td>\n",
              "                        <td id=\"T_248627e0_40c4_11ec_8465_0242ac1c0002row1_col10\" class=\"data row1 col10\" >4</td>\n",
              "                        <td id=\"T_248627e0_40c4_11ec_8465_0242ac1c0002row1_col11\" class=\"data row1 col11\" >1</td>\n",
              "            </tr>\n",
              "            <tr>\n",
              "                        <th id=\"T_248627e0_40c4_11ec_8465_0242ac1c0002level0_row2\" class=\"row_heading level0 row2\" >Actually M27-28</th>\n",
              "                        <td id=\"T_248627e0_40c4_11ec_8465_0242ac1c0002row2_col0\" class=\"data row2 col0\" >1</td>\n",
              "                        <td id=\"T_248627e0_40c4_11ec_8465_0242ac1c0002row2_col1\" class=\"data row2 col1\" >10</td>\n",
              "                        <td id=\"T_248627e0_40c4_11ec_8465_0242ac1c0002row2_col2\" class=\"data row2 col2\" >127</td>\n",
              "                        <td id=\"T_248627e0_40c4_11ec_8465_0242ac1c0002row2_col3\" class=\"data row2 col3\" >8</td>\n",
              "                        <td id=\"T_248627e0_40c4_11ec_8465_0242ac1c0002row2_col4\" class=\"data row2 col4\" >12</td>\n",
              "                        <td id=\"T_248627e0_40c4_11ec_8465_0242ac1c0002row2_col5\" class=\"data row2 col5\" >11</td>\n",
              "                        <td id=\"T_248627e0_40c4_11ec_8465_0242ac1c0002row2_col6\" class=\"data row2 col6\" >0</td>\n",
              "                        <td id=\"T_248627e0_40c4_11ec_8465_0242ac1c0002row2_col7\" class=\"data row2 col7\" >0</td>\n",
              "                        <td id=\"T_248627e0_40c4_11ec_8465_0242ac1c0002row2_col8\" class=\"data row2 col8\" >0</td>\n",
              "                        <td id=\"T_248627e0_40c4_11ec_8465_0242ac1c0002row2_col9\" class=\"data row2 col9\" >0</td>\n",
              "                        <td id=\"T_248627e0_40c4_11ec_8465_0242ac1c0002row2_col10\" class=\"data row2 col10\" >5</td>\n",
              "                        <td id=\"T_248627e0_40c4_11ec_8465_0242ac1c0002row2_col11\" class=\"data row2 col11\" >3</td>\n",
              "            </tr>\n",
              "            <tr>\n",
              "                        <th id=\"T_248627e0_40c4_11ec_8465_0242ac1c0002level0_row3\" class=\"row_heading level0 row3\" >Actually M29-31</th>\n",
              "                        <td id=\"T_248627e0_40c4_11ec_8465_0242ac1c0002row3_col0\" class=\"data row3 col0\" >7</td>\n",
              "                        <td id=\"T_248627e0_40c4_11ec_8465_0242ac1c0002row3_col1\" class=\"data row3 col1\" >9</td>\n",
              "                        <td id=\"T_248627e0_40c4_11ec_8465_0242ac1c0002row3_col2\" class=\"data row3 col2\" >2</td>\n",
              "                        <td id=\"T_248627e0_40c4_11ec_8465_0242ac1c0002row3_col3\" class=\"data row3 col3\" >192</td>\n",
              "                        <td id=\"T_248627e0_40c4_11ec_8465_0242ac1c0002row3_col4\" class=\"data row3 col4\" >32</td>\n",
              "                        <td id=\"T_248627e0_40c4_11ec_8465_0242ac1c0002row3_col5\" class=\"data row3 col5\" >29</td>\n",
              "                        <td id=\"T_248627e0_40c4_11ec_8465_0242ac1c0002row3_col6\" class=\"data row3 col6\" >0</td>\n",
              "                        <td id=\"T_248627e0_40c4_11ec_8465_0242ac1c0002row3_col7\" class=\"data row3 col7\" >0</td>\n",
              "                        <td id=\"T_248627e0_40c4_11ec_8465_0242ac1c0002row3_col8\" class=\"data row3 col8\" >2</td>\n",
              "                        <td id=\"T_248627e0_40c4_11ec_8465_0242ac1c0002row3_col9\" class=\"data row3 col9\" >0</td>\n",
              "                        <td id=\"T_248627e0_40c4_11ec_8465_0242ac1c0002row3_col10\" class=\"data row3 col10\" >0</td>\n",
              "                        <td id=\"T_248627e0_40c4_11ec_8465_0242ac1c0002row3_col11\" class=\"data row3 col11\" >0</td>\n",
              "            </tr>\n",
              "            <tr>\n",
              "                        <th id=\"T_248627e0_40c4_11ec_8465_0242ac1c0002level0_row4\" class=\"row_heading level0 row4\" >Actually M32-38</th>\n",
              "                        <td id=\"T_248627e0_40c4_11ec_8465_0242ac1c0002row4_col0\" class=\"data row4 col0\" >1</td>\n",
              "                        <td id=\"T_248627e0_40c4_11ec_8465_0242ac1c0002row4_col1\" class=\"data row4 col1\" >1</td>\n",
              "                        <td id=\"T_248627e0_40c4_11ec_8465_0242ac1c0002row4_col2\" class=\"data row4 col2\" >1</td>\n",
              "                        <td id=\"T_248627e0_40c4_11ec_8465_0242ac1c0002row4_col3\" class=\"data row4 col3\" >13</td>\n",
              "                        <td id=\"T_248627e0_40c4_11ec_8465_0242ac1c0002row4_col4\" class=\"data row4 col4\" >448</td>\n",
              "                        <td id=\"T_248627e0_40c4_11ec_8465_0242ac1c0002row4_col5\" class=\"data row4 col5\" >54</td>\n",
              "                        <td id=\"T_248627e0_40c4_11ec_8465_0242ac1c0002row4_col6\" class=\"data row4 col6\" >0</td>\n",
              "                        <td id=\"T_248627e0_40c4_11ec_8465_0242ac1c0002row4_col7\" class=\"data row4 col7\" >3</td>\n",
              "                        <td id=\"T_248627e0_40c4_11ec_8465_0242ac1c0002row4_col8\" class=\"data row4 col8\" >0</td>\n",
              "                        <td id=\"T_248627e0_40c4_11ec_8465_0242ac1c0002row4_col9\" class=\"data row4 col9\" >6</td>\n",
              "                        <td id=\"T_248627e0_40c4_11ec_8465_0242ac1c0002row4_col10\" class=\"data row4 col10\" >3</td>\n",
              "                        <td id=\"T_248627e0_40c4_11ec_8465_0242ac1c0002row4_col11\" class=\"data row4 col11\" >8</td>\n",
              "            </tr>\n",
              "            <tr>\n",
              "                        <th id=\"T_248627e0_40c4_11ec_8465_0242ac1c0002level0_row5\" class=\"row_heading level0 row5\" >Actually M39+</th>\n",
              "                        <td id=\"T_248627e0_40c4_11ec_8465_0242ac1c0002row5_col0\" class=\"data row5 col0\" >8</td>\n",
              "                        <td id=\"T_248627e0_40c4_11ec_8465_0242ac1c0002row5_col1\" class=\"data row5 col1\" >8</td>\n",
              "                        <td id=\"T_248627e0_40c4_11ec_8465_0242ac1c0002row5_col2\" class=\"data row5 col2\" >3</td>\n",
              "                        <td id=\"T_248627e0_40c4_11ec_8465_0242ac1c0002row5_col3\" class=\"data row5 col3\" >8</td>\n",
              "                        <td id=\"T_248627e0_40c4_11ec_8465_0242ac1c0002row5_col4\" class=\"data row5 col4\" >49</td>\n",
              "                        <td id=\"T_248627e0_40c4_11ec_8465_0242ac1c0002row5_col5\" class=\"data row5 col5\" >479</td>\n",
              "                        <td id=\"T_248627e0_40c4_11ec_8465_0242ac1c0002row5_col6\" class=\"data row5 col6\" >0</td>\n",
              "                        <td id=\"T_248627e0_40c4_11ec_8465_0242ac1c0002row5_col7\" class=\"data row5 col7\" >0</td>\n",
              "                        <td id=\"T_248627e0_40c4_11ec_8465_0242ac1c0002row5_col8\" class=\"data row5 col8\" >0</td>\n",
              "                        <td id=\"T_248627e0_40c4_11ec_8465_0242ac1c0002row5_col9\" class=\"data row5 col9\" >5</td>\n",
              "                        <td id=\"T_248627e0_40c4_11ec_8465_0242ac1c0002row5_col10\" class=\"data row5 col10\" >9</td>\n",
              "                        <td id=\"T_248627e0_40c4_11ec_8465_0242ac1c0002row5_col11\" class=\"data row5 col11\" >0</td>\n",
              "            </tr>\n",
              "            <tr>\n",
              "                        <th id=\"T_248627e0_40c4_11ec_8465_0242ac1c0002level0_row6\" class=\"row_heading level0 row6\" >Actually F23-</th>\n",
              "                        <td id=\"T_248627e0_40c4_11ec_8465_0242ac1c0002row6_col0\" class=\"data row6 col0\" >0</td>\n",
              "                        <td id=\"T_248627e0_40c4_11ec_8465_0242ac1c0002row6_col1\" class=\"data row6 col1\" >0</td>\n",
              "                        <td id=\"T_248627e0_40c4_11ec_8465_0242ac1c0002row6_col2\" class=\"data row6 col2\" >0</td>\n",
              "                        <td id=\"T_248627e0_40c4_11ec_8465_0242ac1c0002row6_col3\" class=\"data row6 col3\" >0</td>\n",
              "                        <td id=\"T_248627e0_40c4_11ec_8465_0242ac1c0002row6_col4\" class=\"data row6 col4\" >2</td>\n",
              "                        <td id=\"T_248627e0_40c4_11ec_8465_0242ac1c0002row6_col5\" class=\"data row6 col5\" >1</td>\n",
              "                        <td id=\"T_248627e0_40c4_11ec_8465_0242ac1c0002row6_col6\" class=\"data row6 col6\" >35</td>\n",
              "                        <td id=\"T_248627e0_40c4_11ec_8465_0242ac1c0002row6_col7\" class=\"data row6 col7\" >0</td>\n",
              "                        <td id=\"T_248627e0_40c4_11ec_8465_0242ac1c0002row6_col8\" class=\"data row6 col8\" >0</td>\n",
              "                        <td id=\"T_248627e0_40c4_11ec_8465_0242ac1c0002row6_col9\" class=\"data row6 col9\" >0</td>\n",
              "                        <td id=\"T_248627e0_40c4_11ec_8465_0242ac1c0002row6_col10\" class=\"data row6 col10\" >1</td>\n",
              "                        <td id=\"T_248627e0_40c4_11ec_8465_0242ac1c0002row6_col11\" class=\"data row6 col11\" >0</td>\n",
              "            </tr>\n",
              "            <tr>\n",
              "                        <th id=\"T_248627e0_40c4_11ec_8465_0242ac1c0002level0_row7\" class=\"row_heading level0 row7\" >Actually F24-26</th>\n",
              "                        <td id=\"T_248627e0_40c4_11ec_8465_0242ac1c0002row7_col0\" class=\"data row7 col0\" >2</td>\n",
              "                        <td id=\"T_248627e0_40c4_11ec_8465_0242ac1c0002row7_col1\" class=\"data row7 col1\" >0</td>\n",
              "                        <td id=\"T_248627e0_40c4_11ec_8465_0242ac1c0002row7_col2\" class=\"data row7 col2\" >0</td>\n",
              "                        <td id=\"T_248627e0_40c4_11ec_8465_0242ac1c0002row7_col3\" class=\"data row7 col3\" >1</td>\n",
              "                        <td id=\"T_248627e0_40c4_11ec_8465_0242ac1c0002row7_col4\" class=\"data row7 col4\" >2</td>\n",
              "                        <td id=\"T_248627e0_40c4_11ec_8465_0242ac1c0002row7_col5\" class=\"data row7 col5\" >4</td>\n",
              "                        <td id=\"T_248627e0_40c4_11ec_8465_0242ac1c0002row7_col6\" class=\"data row7 col6\" >0</td>\n",
              "                        <td id=\"T_248627e0_40c4_11ec_8465_0242ac1c0002row7_col7\" class=\"data row7 col7\" >19</td>\n",
              "                        <td id=\"T_248627e0_40c4_11ec_8465_0242ac1c0002row7_col8\" class=\"data row7 col8\" >0</td>\n",
              "                        <td id=\"T_248627e0_40c4_11ec_8465_0242ac1c0002row7_col9\" class=\"data row7 col9\" >0</td>\n",
              "                        <td id=\"T_248627e0_40c4_11ec_8465_0242ac1c0002row7_col10\" class=\"data row7 col10\" >0</td>\n",
              "                        <td id=\"T_248627e0_40c4_11ec_8465_0242ac1c0002row7_col11\" class=\"data row7 col11\" >0</td>\n",
              "            </tr>\n",
              "            <tr>\n",
              "                        <th id=\"T_248627e0_40c4_11ec_8465_0242ac1c0002level0_row8\" class=\"row_heading level0 row8\" >Actually F27-28</th>\n",
              "                        <td id=\"T_248627e0_40c4_11ec_8465_0242ac1c0002row8_col0\" class=\"data row8 col0\" >0</td>\n",
              "                        <td id=\"T_248627e0_40c4_11ec_8465_0242ac1c0002row8_col1\" class=\"data row8 col1\" >4</td>\n",
              "                        <td id=\"T_248627e0_40c4_11ec_8465_0242ac1c0002row8_col2\" class=\"data row8 col2\" >0</td>\n",
              "                        <td id=\"T_248627e0_40c4_11ec_8465_0242ac1c0002row8_col3\" class=\"data row8 col3\" >3</td>\n",
              "                        <td id=\"T_248627e0_40c4_11ec_8465_0242ac1c0002row8_col4\" class=\"data row8 col4\" >8</td>\n",
              "                        <td id=\"T_248627e0_40c4_11ec_8465_0242ac1c0002row8_col5\" class=\"data row8 col5\" >4</td>\n",
              "                        <td id=\"T_248627e0_40c4_11ec_8465_0242ac1c0002row8_col6\" class=\"data row8 col6\" >0</td>\n",
              "                        <td id=\"T_248627e0_40c4_11ec_8465_0242ac1c0002row8_col7\" class=\"data row8 col7\" >0</td>\n",
              "                        <td id=\"T_248627e0_40c4_11ec_8465_0242ac1c0002row8_col8\" class=\"data row8 col8\" >31</td>\n",
              "                        <td id=\"T_248627e0_40c4_11ec_8465_0242ac1c0002row8_col9\" class=\"data row8 col9\" >0</td>\n",
              "                        <td id=\"T_248627e0_40c4_11ec_8465_0242ac1c0002row8_col10\" class=\"data row8 col10\" >4</td>\n",
              "                        <td id=\"T_248627e0_40c4_11ec_8465_0242ac1c0002row8_col11\" class=\"data row8 col11\" >2</td>\n",
              "            </tr>\n",
              "            <tr>\n",
              "                        <th id=\"T_248627e0_40c4_11ec_8465_0242ac1c0002level0_row9\" class=\"row_heading level0 row9\" >Actually F29-32</th>\n",
              "                        <td id=\"T_248627e0_40c4_11ec_8465_0242ac1c0002row9_col0\" class=\"data row9 col0\" >0</td>\n",
              "                        <td id=\"T_248627e0_40c4_11ec_8465_0242ac1c0002row9_col1\" class=\"data row9 col1\" >4</td>\n",
              "                        <td id=\"T_248627e0_40c4_11ec_8465_0242ac1c0002row9_col2\" class=\"data row9 col2\" >4</td>\n",
              "                        <td id=\"T_248627e0_40c4_11ec_8465_0242ac1c0002row9_col3\" class=\"data row9 col3\" >5</td>\n",
              "                        <td id=\"T_248627e0_40c4_11ec_8465_0242ac1c0002row9_col4\" class=\"data row9 col4\" >3</td>\n",
              "                        <td id=\"T_248627e0_40c4_11ec_8465_0242ac1c0002row9_col5\" class=\"data row9 col5\" >10</td>\n",
              "                        <td id=\"T_248627e0_40c4_11ec_8465_0242ac1c0002row9_col6\" class=\"data row9 col6\" >0</td>\n",
              "                        <td id=\"T_248627e0_40c4_11ec_8465_0242ac1c0002row9_col7\" class=\"data row9 col7\" >0</td>\n",
              "                        <td id=\"T_248627e0_40c4_11ec_8465_0242ac1c0002row9_col8\" class=\"data row9 col8\" >0</td>\n",
              "                        <td id=\"T_248627e0_40c4_11ec_8465_0242ac1c0002row9_col9\" class=\"data row9 col9\" >54</td>\n",
              "                        <td id=\"T_248627e0_40c4_11ec_8465_0242ac1c0002row9_col10\" class=\"data row9 col10\" >1</td>\n",
              "                        <td id=\"T_248627e0_40c4_11ec_8465_0242ac1c0002row9_col11\" class=\"data row9 col11\" >0</td>\n",
              "            </tr>\n",
              "            <tr>\n",
              "                        <th id=\"T_248627e0_40c4_11ec_8465_0242ac1c0002level0_row10\" class=\"row_heading level0 row10\" >Actually F33-42</th>\n",
              "                        <td id=\"T_248627e0_40c4_11ec_8465_0242ac1c0002row10_col0\" class=\"data row10 col0\" >1</td>\n",
              "                        <td id=\"T_248627e0_40c4_11ec_8465_0242ac1c0002row10_col1\" class=\"data row10 col1\" >0</td>\n",
              "                        <td id=\"T_248627e0_40c4_11ec_8465_0242ac1c0002row10_col2\" class=\"data row10 col2\" >2</td>\n",
              "                        <td id=\"T_248627e0_40c4_11ec_8465_0242ac1c0002row10_col3\" class=\"data row10 col3\" >2</td>\n",
              "                        <td id=\"T_248627e0_40c4_11ec_8465_0242ac1c0002row10_col4\" class=\"data row10 col4\" >10</td>\n",
              "                        <td id=\"T_248627e0_40c4_11ec_8465_0242ac1c0002row10_col5\" class=\"data row10 col5\" >24</td>\n",
              "                        <td id=\"T_248627e0_40c4_11ec_8465_0242ac1c0002row10_col6\" class=\"data row10 col6\" >3</td>\n",
              "                        <td id=\"T_248627e0_40c4_11ec_8465_0242ac1c0002row10_col7\" class=\"data row10 col7\" >0</td>\n",
              "                        <td id=\"T_248627e0_40c4_11ec_8465_0242ac1c0002row10_col8\" class=\"data row10 col8\" >0</td>\n",
              "                        <td id=\"T_248627e0_40c4_11ec_8465_0242ac1c0002row10_col9\" class=\"data row10 col9\" >0</td>\n",
              "                        <td id=\"T_248627e0_40c4_11ec_8465_0242ac1c0002row10_col10\" class=\"data row10 col10\" >95</td>\n",
              "                        <td id=\"T_248627e0_40c4_11ec_8465_0242ac1c0002row10_col11\" class=\"data row10 col11\" >0</td>\n",
              "            </tr>\n",
              "            <tr>\n",
              "                        <th id=\"T_248627e0_40c4_11ec_8465_0242ac1c0002level0_row11\" class=\"row_heading level0 row11\" >Actually F43+</th>\n",
              "                        <td id=\"T_248627e0_40c4_11ec_8465_0242ac1c0002row11_col0\" class=\"data row11 col0\" >3</td>\n",
              "                        <td id=\"T_248627e0_40c4_11ec_8465_0242ac1c0002row11_col1\" class=\"data row11 col1\" >2</td>\n",
              "                        <td id=\"T_248627e0_40c4_11ec_8465_0242ac1c0002row11_col2\" class=\"data row11 col2\" >2</td>\n",
              "                        <td id=\"T_248627e0_40c4_11ec_8465_0242ac1c0002row11_col3\" class=\"data row11 col3\" >2</td>\n",
              "                        <td id=\"T_248627e0_40c4_11ec_8465_0242ac1c0002row11_col4\" class=\"data row11 col4\" >27</td>\n",
              "                        <td id=\"T_248627e0_40c4_11ec_8465_0242ac1c0002row11_col5\" class=\"data row11 col5\" >28</td>\n",
              "                        <td id=\"T_248627e0_40c4_11ec_8465_0242ac1c0002row11_col6\" class=\"data row11 col6\" >0</td>\n",
              "                        <td id=\"T_248627e0_40c4_11ec_8465_0242ac1c0002row11_col7\" class=\"data row11 col7\" >0</td>\n",
              "                        <td id=\"T_248627e0_40c4_11ec_8465_0242ac1c0002row11_col8\" class=\"data row11 col8\" >0</td>\n",
              "                        <td id=\"T_248627e0_40c4_11ec_8465_0242ac1c0002row11_col9\" class=\"data row11 col9\" >0</td>\n",
              "                        <td id=\"T_248627e0_40c4_11ec_8465_0242ac1c0002row11_col10\" class=\"data row11 col10\" >2</td>\n",
              "                        <td id=\"T_248627e0_40c4_11ec_8465_0242ac1c0002row11_col11\" class=\"data row11 col11\" >106</td>\n",
              "            </tr>\n",
              "    </tbody></table>"
            ],
            "text/plain": [
              "<pandas.io.formats.style.Styler at 0x7f5c934875d0>"
            ]
          },
          "metadata": {},
          "execution_count": 53
        }
      ]
    },
    {
      "cell_type": "code",
      "metadata": {
        "colab": {
          "base_uri": "https://localhost:8080/"
        },
        "id": "yyPzpeb-HyMZ",
        "outputId": "47441196-c75f-4c1c-d79c-b56870949ceb"
      },
      "source": [
        "print(\"Classification Report:\")\n",
        "print()\n",
        "print(classification_report(y_test, y_pred))"
      ],
      "execution_count": null,
      "outputs": [
        {
          "output_type": "stream",
          "name": "stdout",
          "text": [
            "Classification Report:\n",
            "\n",
            "              precision    recall  f1-score   support\n",
            "\n",
            "           0       0.79      0.76      0.78       127\n",
            "           1       0.82      0.74      0.78       250\n",
            "           2       0.89      0.72      0.79       177\n",
            "           3       0.81      0.70      0.75       273\n",
            "           4       0.73      0.83      0.78       538\n",
            "           5       0.69      0.84      0.76       569\n",
            "           6       0.92      0.90      0.91        39\n",
            "           7       0.86      0.68      0.76        28\n",
            "           8       0.94      0.55      0.70        56\n",
            "           9       0.79      0.67      0.72        81\n",
            "          10       0.77      0.69      0.73       137\n",
            "          11       0.88      0.62      0.73       172\n",
            "\n",
            "    accuracy                           0.76      2447\n",
            "   macro avg       0.82      0.73      0.76      2447\n",
            "weighted avg       0.78      0.76      0.76      2447\n",
            "\n"
          ]
        }
      ]
    },
    {
      "cell_type": "markdown",
      "metadata": {
        "id": "5t3uFGNWHsMR"
      },
      "source": [
        "# Decision Tree Classifier "
      ]
    },
    {
      "cell_type": "code",
      "metadata": {
        "id": "jBmcgTjXjOP3"
      },
      "source": [
        "pipeline = Pipeline(\n",
        "    [\n",
        "        (\"scaler\", StandardScaler()),\n",
        "        (\"pca\", PCA(n_components=n_components)),\n",
        "        (\"dtc\", DecisionTreeClassifier()),\n",
        "    ]\n",
        ")\n",
        "pipeline = pipeline.fit(X_train, y_train)\n",
        "\n"
      ],
      "execution_count": null,
      "outputs": []
    },
    {
      "cell_type": "code",
      "metadata": {
        "id": "u1z8JHPPjOSU"
      },
      "source": [
        "# Max depth of 50 provides a better score, this is much better than the previous score of around 0.2.\n",
        "# To improve score suggest increasing max depth even more\n",
        "grid = {'max_leaf_nodes': list(range(2, 100)), 'min_samples_split': [2, 3, 4]}\n",
        "\n",
        "\n",
        "model = GridSearchCV(DecisionTreeClassifier(random_state=42), grid, verbose=1, cv=3)\n"
      ],
      "execution_count": null,
      "outputs": []
    },
    {
      "cell_type": "code",
      "metadata": {
        "colab": {
          "base_uri": "https://localhost:8080/"
        },
        "id": "mVjhBfwkjfhc",
        "outputId": "9edfc52d-39b9-4b22-90ff-449ee0eaad11"
      },
      "source": [
        "model.fit(X_train, y_train)\n"
      ],
      "execution_count": null,
      "outputs": [
        {
          "output_type": "stream",
          "name": "stdout",
          "text": [
            "Fitting 3 folds for each of 294 candidates, totalling 882 fits\n"
          ]
        },
        {
          "output_type": "stream",
          "name": "stderr",
          "text": [
            "[Parallel(n_jobs=1)]: Using backend SequentialBackend with 1 concurrent workers.\n",
            "[Parallel(n_jobs=1)]: Done 882 out of 882 | elapsed:   33.2s finished\n"
          ]
        },
        {
          "output_type": "execute_result",
          "data": {
            "text/plain": [
              "GridSearchCV(cv=3, error_score=nan,\n",
              "             estimator=DecisionTreeClassifier(ccp_alpha=0.0, class_weight=None,\n",
              "                                              criterion='gini', max_depth=None,\n",
              "                                              max_features=None,\n",
              "                                              max_leaf_nodes=None,\n",
              "                                              min_impurity_decrease=0.0,\n",
              "                                              min_impurity_split=None,\n",
              "                                              min_samples_leaf=1,\n",
              "                                              min_samples_split=2,\n",
              "                                              min_weight_fraction_leaf=0.0,\n",
              "                                              presort='deprecated',\n",
              "                                              random_state=42,\n",
              "                                              splitter='best'),\n",
              "             iid='deprecated', n_jobs=None,\n",
              "             param_grid={'max_leaf_nodes': [2, 3, 4, 5, 6, 7, 8, 9, 10, 11, 12,\n",
              "                                            13, 14, 15, 16, 17, 18, 19, 20, 21,\n",
              "                                            22, 23, 24, 25, 26, 27, 28, 29, 30,\n",
              "                                            31, ...],\n",
              "                         'min_samples_split': [2, 3, 4]},\n",
              "             pre_dispatch='2*n_jobs', refit=True, return_train_score=False,\n",
              "             scoring=None, verbose=1)"
            ]
          },
          "metadata": {},
          "execution_count": 57
        }
      ]
    },
    {
      "cell_type": "code",
      "metadata": {
        "colab": {
          "base_uri": "https://localhost:8080/"
        },
        "id": "pB2XjHZNjkYV",
        "outputId": "a124dd71-6ce3-47d5-db36-a550ba49b7c9"
      },
      "source": [
        "model.best_params_"
      ],
      "execution_count": null,
      "outputs": [
        {
          "output_type": "execute_result",
          "data": {
            "text/plain": [
              "{'max_leaf_nodes': 99, 'min_samples_split': 2}"
            ]
          },
          "metadata": {},
          "execution_count": 58
        }
      ]
    },
    {
      "cell_type": "code",
      "metadata": {
        "colab": {
          "base_uri": "https://localhost:8080/"
        },
        "id": "pr785ifinrvY",
        "outputId": "399a8423-8506-4724-ff30-ac6e8623d6ab"
      },
      "source": [
        "# Model still appears to be extremely overfitting\n",
        "train_score = model.score(X_train, y_train)\n",
        "test_score = model.score(X_test, y_test)\n",
        "\n",
        "print(f\"Train score: {train_score}\")\n",
        "print(f\"Test score: {test_score}\")\n"
      ],
      "execution_count": null,
      "outputs": [
        {
          "output_type": "stream",
          "name": "stdout",
          "text": [
            "Train score: 0.8423957481602616\n",
            "Test score: 0.8406211687780957\n"
          ]
        }
      ]
    },
    {
      "cell_type": "code",
      "metadata": {
        "colab": {
          "base_uri": "https://localhost:8080/",
          "height": 416
        },
        "id": "Aq7dUY_6jpj_",
        "outputId": "bca0a079-3eef-45e6-f82b-c86941f5b5c2"
      },
      "source": [
        "y_pred = model.predict(X_test)\n",
        "\n",
        "con_mat = pd.DataFrame(\n",
        "    confusion_matrix(y_test, y_pred),\n",
        "    index=[\n",
        "        \"Actually M22-\",\n",
        "        \"Actually M23-26\",\n",
        "        \"Actually M27-28\",\n",
        "        \"Actually M29-31\",\n",
        "        \"Actually M32-38\",\n",
        "        \"Actually M39+\",\n",
        "        \"Actually F23-\",\n",
        "        \"Actually F24-26\",\n",
        "        \"Actually F27-28\",\n",
        "        \"Actually F29-32\",\n",
        "        \"Actually F33-42\",\n",
        "        \"Actually F43+\",\n",
        "    ],\n",
        "    columns=[\n",
        "        \"Predicted M22-\",\n",
        "        \"Predicted M23-26\",\n",
        "        \"Predicted M27-28\",\n",
        "        \"Predicted M29-31\",\n",
        "        \"Predicted M32-38\",\n",
        "        \"Predicted M39+\",\n",
        "        \"Predicted F23-\",\n",
        "        \"Predicted F24-26\",\n",
        "        \"Predicted F27-28\",\n",
        "        \"Predicted F29-32\",\n",
        "        \"Predicted F33-42\",\n",
        "        \"Predicted F43+\",\n",
        "    ],\n",
        ")\n",
        "con_mat.style.background_gradient(axis=None)\n"
      ],
      "execution_count": null,
      "outputs": [
        {
          "output_type": "execute_result",
          "data": {
            "text/html": [
              "<style  type=\"text/css\" >\n",
              "#T_38ff307c_40c4_11ec_8465_0242ac1c0002row0_col0{\n",
              "            background-color:  #e1dfed;\n",
              "            color:  #000000;\n",
              "        }#T_38ff307c_40c4_11ec_8465_0242ac1c0002row0_col1,#T_38ff307c_40c4_11ec_8465_0242ac1c0002row0_col3,#T_38ff307c_40c4_11ec_8465_0242ac1c0002row0_col5,#T_38ff307c_40c4_11ec_8465_0242ac1c0002row0_col6,#T_38ff307c_40c4_11ec_8465_0242ac1c0002row0_col7,#T_38ff307c_40c4_11ec_8465_0242ac1c0002row0_col8,#T_38ff307c_40c4_11ec_8465_0242ac1c0002row0_col9,#T_38ff307c_40c4_11ec_8465_0242ac1c0002row1_col0,#T_38ff307c_40c4_11ec_8465_0242ac1c0002row1_col2,#T_38ff307c_40c4_11ec_8465_0242ac1c0002row1_col3,#T_38ff307c_40c4_11ec_8465_0242ac1c0002row1_col6,#T_38ff307c_40c4_11ec_8465_0242ac1c0002row1_col7,#T_38ff307c_40c4_11ec_8465_0242ac1c0002row1_col8,#T_38ff307c_40c4_11ec_8465_0242ac1c0002row1_col9,#T_38ff307c_40c4_11ec_8465_0242ac1c0002row1_col10,#T_38ff307c_40c4_11ec_8465_0242ac1c0002row2_col0,#T_38ff307c_40c4_11ec_8465_0242ac1c0002row2_col6,#T_38ff307c_40c4_11ec_8465_0242ac1c0002row2_col7,#T_38ff307c_40c4_11ec_8465_0242ac1c0002row2_col8,#T_38ff307c_40c4_11ec_8465_0242ac1c0002row2_col9,#T_38ff307c_40c4_11ec_8465_0242ac1c0002row2_col10,#T_38ff307c_40c4_11ec_8465_0242ac1c0002row2_col11,#T_38ff307c_40c4_11ec_8465_0242ac1c0002row3_col0,#T_38ff307c_40c4_11ec_8465_0242ac1c0002row3_col1,#T_38ff307c_40c4_11ec_8465_0242ac1c0002row3_col6,#T_38ff307c_40c4_11ec_8465_0242ac1c0002row3_col7,#T_38ff307c_40c4_11ec_8465_0242ac1c0002row3_col8,#T_38ff307c_40c4_11ec_8465_0242ac1c0002row3_col9,#T_38ff307c_40c4_11ec_8465_0242ac1c0002row3_col10,#T_38ff307c_40c4_11ec_8465_0242ac1c0002row3_col11,#T_38ff307c_40c4_11ec_8465_0242ac1c0002row4_col0,#T_38ff307c_40c4_11ec_8465_0242ac1c0002row4_col1,#T_38ff307c_40c4_11ec_8465_0242ac1c0002row4_col2,#T_38ff307c_40c4_11ec_8465_0242ac1c0002row4_col6,#T_38ff307c_40c4_11ec_8465_0242ac1c0002row4_col7,#T_38ff307c_40c4_11ec_8465_0242ac1c0002row4_col9,#T_38ff307c_40c4_11ec_8465_0242ac1c0002row4_col10,#T_38ff307c_40c4_11ec_8465_0242ac1c0002row4_col11,#T_38ff307c_40c4_11ec_8465_0242ac1c0002row5_col1,#T_38ff307c_40c4_11ec_8465_0242ac1c0002row5_col2,#T_38ff307c_40c4_11ec_8465_0242ac1c0002row5_col3,#T_38ff307c_40c4_11ec_8465_0242ac1c0002row5_col6,#T_38ff307c_40c4_11ec_8465_0242ac1c0002row5_col7,#T_38ff307c_40c4_11ec_8465_0242ac1c0002row5_col8,#T_38ff307c_40c4_11ec_8465_0242ac1c0002row5_col9,#T_38ff307c_40c4_11ec_8465_0242ac1c0002row5_col10,#T_38ff307c_40c4_11ec_8465_0242ac1c0002row6_col0,#T_38ff307c_40c4_11ec_8465_0242ac1c0002row6_col1,#T_38ff307c_40c4_11ec_8465_0242ac1c0002row6_col2,#T_38ff307c_40c4_11ec_8465_0242ac1c0002row6_col3,#T_38ff307c_40c4_11ec_8465_0242ac1c0002row6_col5,#T_38ff307c_40c4_11ec_8465_0242ac1c0002row6_col7,#T_38ff307c_40c4_11ec_8465_0242ac1c0002row6_col8,#T_38ff307c_40c4_11ec_8465_0242ac1c0002row6_col9,#T_38ff307c_40c4_11ec_8465_0242ac1c0002row6_col10,#T_38ff307c_40c4_11ec_8465_0242ac1c0002row6_col11,#T_38ff307c_40c4_11ec_8465_0242ac1c0002row7_col0,#T_38ff307c_40c4_11ec_8465_0242ac1c0002row7_col1,#T_38ff307c_40c4_11ec_8465_0242ac1c0002row7_col2,#T_38ff307c_40c4_11ec_8465_0242ac1c0002row7_col3,#T_38ff307c_40c4_11ec_8465_0242ac1c0002row7_col5,#T_38ff307c_40c4_11ec_8465_0242ac1c0002row7_col6,#T_38ff307c_40c4_11ec_8465_0242ac1c0002row7_col8,#T_38ff307c_40c4_11ec_8465_0242ac1c0002row7_col9,#T_38ff307c_40c4_11ec_8465_0242ac1c0002row7_col10,#T_38ff307c_40c4_11ec_8465_0242ac1c0002row7_col11,#T_38ff307c_40c4_11ec_8465_0242ac1c0002row8_col0,#T_38ff307c_40c4_11ec_8465_0242ac1c0002row8_col2,#T_38ff307c_40c4_11ec_8465_0242ac1c0002row8_col5,#T_38ff307c_40c4_11ec_8465_0242ac1c0002row8_col6,#T_38ff307c_40c4_11ec_8465_0242ac1c0002row8_col7,#T_38ff307c_40c4_11ec_8465_0242ac1c0002row8_col9,#T_38ff307c_40c4_11ec_8465_0242ac1c0002row8_col10,#T_38ff307c_40c4_11ec_8465_0242ac1c0002row8_col11,#T_38ff307c_40c4_11ec_8465_0242ac1c0002row9_col0,#T_38ff307c_40c4_11ec_8465_0242ac1c0002row9_col1,#T_38ff307c_40c4_11ec_8465_0242ac1c0002row9_col2,#T_38ff307c_40c4_11ec_8465_0242ac1c0002row9_col4,#T_38ff307c_40c4_11ec_8465_0242ac1c0002row9_col5,#T_38ff307c_40c4_11ec_8465_0242ac1c0002row9_col6,#T_38ff307c_40c4_11ec_8465_0242ac1c0002row9_col7,#T_38ff307c_40c4_11ec_8465_0242ac1c0002row9_col8,#T_38ff307c_40c4_11ec_8465_0242ac1c0002row9_col10,#T_38ff307c_40c4_11ec_8465_0242ac1c0002row9_col11,#T_38ff307c_40c4_11ec_8465_0242ac1c0002row10_col0,#T_38ff307c_40c4_11ec_8465_0242ac1c0002row10_col1,#T_38ff307c_40c4_11ec_8465_0242ac1c0002row10_col2,#T_38ff307c_40c4_11ec_8465_0242ac1c0002row10_col4,#T_38ff307c_40c4_11ec_8465_0242ac1c0002row10_col6,#T_38ff307c_40c4_11ec_8465_0242ac1c0002row10_col7,#T_38ff307c_40c4_11ec_8465_0242ac1c0002row10_col8,#T_38ff307c_40c4_11ec_8465_0242ac1c0002row10_col9,#T_38ff307c_40c4_11ec_8465_0242ac1c0002row10_col11,#T_38ff307c_40c4_11ec_8465_0242ac1c0002row11_col0,#T_38ff307c_40c4_11ec_8465_0242ac1c0002row11_col3,#T_38ff307c_40c4_11ec_8465_0242ac1c0002row11_col6,#T_38ff307c_40c4_11ec_8465_0242ac1c0002row11_col7,#T_38ff307c_40c4_11ec_8465_0242ac1c0002row11_col8,#T_38ff307c_40c4_11ec_8465_0242ac1c0002row11_col9,#T_38ff307c_40c4_11ec_8465_0242ac1c0002row11_col10{\n",
              "            background-color:  #fff7fb;\n",
              "            color:  #000000;\n",
              "        }#T_38ff307c_40c4_11ec_8465_0242ac1c0002row0_col2,#T_38ff307c_40c4_11ec_8465_0242ac1c0002row2_col1,#T_38ff307c_40c4_11ec_8465_0242ac1c0002row2_col3,#T_38ff307c_40c4_11ec_8465_0242ac1c0002row2_col5{\n",
              "            background-color:  #fef6fa;\n",
              "            color:  #000000;\n",
              "        }#T_38ff307c_40c4_11ec_8465_0242ac1c0002row0_col4,#T_38ff307c_40c4_11ec_8465_0242ac1c0002row3_col4,#T_38ff307c_40c4_11ec_8465_0242ac1c0002row4_col3{\n",
              "            background-color:  #faf3f9;\n",
              "            color:  #000000;\n",
              "        }#T_38ff307c_40c4_11ec_8465_0242ac1c0002row0_col10,#T_38ff307c_40c4_11ec_8465_0242ac1c0002row3_col2,#T_38ff307c_40c4_11ec_8465_0242ac1c0002row4_col8,#T_38ff307c_40c4_11ec_8465_0242ac1c0002row5_col0,#T_38ff307c_40c4_11ec_8465_0242ac1c0002row6_col4,#T_38ff307c_40c4_11ec_8465_0242ac1c0002row7_col4,#T_38ff307c_40c4_11ec_8465_0242ac1c0002row8_col3,#T_38ff307c_40c4_11ec_8465_0242ac1c0002row9_col3,#T_38ff307c_40c4_11ec_8465_0242ac1c0002row11_col2,#T_38ff307c_40c4_11ec_8465_0242ac1c0002row11_col4{\n",
              "            background-color:  #fdf5fa;\n",
              "            color:  #000000;\n",
              "        }#T_38ff307c_40c4_11ec_8465_0242ac1c0002row0_col11,#T_38ff307c_40c4_11ec_8465_0242ac1c0002row1_col11,#T_38ff307c_40c4_11ec_8465_0242ac1c0002row5_col4,#T_38ff307c_40c4_11ec_8465_0242ac1c0002row10_col3,#T_38ff307c_40c4_11ec_8465_0242ac1c0002row11_col1{\n",
              "            background-color:  #fef6fb;\n",
              "            color:  #000000;\n",
              "        }#T_38ff307c_40c4_11ec_8465_0242ac1c0002row1_col1{\n",
              "            background-color:  #9ab8d8;\n",
              "            color:  #000000;\n",
              "        }#T_38ff307c_40c4_11ec_8465_0242ac1c0002row1_col4,#T_38ff307c_40c4_11ec_8465_0242ac1c0002row5_col11{\n",
              "            background-color:  #fbf3f9;\n",
              "            color:  #000000;\n",
              "        }#T_38ff307c_40c4_11ec_8465_0242ac1c0002row1_col5,#T_38ff307c_40c4_11ec_8465_0242ac1c0002row4_col5,#T_38ff307c_40c4_11ec_8465_0242ac1c0002row8_col1{\n",
              "            background-color:  #fcf4fa;\n",
              "            color:  #000000;\n",
              "        }#T_38ff307c_40c4_11ec_8465_0242ac1c0002row2_col2{\n",
              "            background-color:  #ced0e6;\n",
              "            color:  #000000;\n",
              "        }#T_38ff307c_40c4_11ec_8465_0242ac1c0002row2_col4,#T_38ff307c_40c4_11ec_8465_0242ac1c0002row7_col7{\n",
              "            background-color:  #faf2f8;\n",
              "            color:  #000000;\n",
              "        }#T_38ff307c_40c4_11ec_8465_0242ac1c0002row3_col3{\n",
              "            background-color:  #b1c2de;\n",
              "            color:  #000000;\n",
              "        }#T_38ff307c_40c4_11ec_8465_0242ac1c0002row3_col5{\n",
              "            background-color:  #eee8f3;\n",
              "            color:  #000000;\n",
              "        }#T_38ff307c_40c4_11ec_8465_0242ac1c0002row4_col4{\n",
              "            background-color:  #034b76;\n",
              "            color:  #f1f1f1;\n",
              "        }#T_38ff307c_40c4_11ec_8465_0242ac1c0002row5_col5{\n",
              "            background-color:  #023858;\n",
              "            color:  #f1f1f1;\n",
              "        }#T_38ff307c_40c4_11ec_8465_0242ac1c0002row6_col6{\n",
              "            background-color:  #f7f0f7;\n",
              "            color:  #000000;\n",
              "        }#T_38ff307c_40c4_11ec_8465_0242ac1c0002row8_col4{\n",
              "            background-color:  #fbf4f9;\n",
              "            color:  #000000;\n",
              "        }#T_38ff307c_40c4_11ec_8465_0242ac1c0002row8_col8,#T_38ff307c_40c4_11ec_8465_0242ac1c0002row11_col5{\n",
              "            background-color:  #f9f2f8;\n",
              "            color:  #000000;\n",
              "        }#T_38ff307c_40c4_11ec_8465_0242ac1c0002row9_col9{\n",
              "            background-color:  #eae6f1;\n",
              "            color:  #000000;\n",
              "        }#T_38ff307c_40c4_11ec_8465_0242ac1c0002row10_col5{\n",
              "            background-color:  #f8f1f8;\n",
              "            color:  #000000;\n",
              "        }#T_38ff307c_40c4_11ec_8465_0242ac1c0002row10_col10{\n",
              "            background-color:  #dcdaeb;\n",
              "            color:  #000000;\n",
              "        }#T_38ff307c_40c4_11ec_8465_0242ac1c0002row11_col11{\n",
              "            background-color:  #d3d4e7;\n",
              "            color:  #000000;\n",
              "        }</style><table id=\"T_38ff307c_40c4_11ec_8465_0242ac1c0002\" class=\"dataframe\"><thead>    <tr>        <th class=\"blank level0\" ></th>        <th class=\"col_heading level0 col0\" >Predicted M22-</th>        <th class=\"col_heading level0 col1\" >Predicted M23-26</th>        <th class=\"col_heading level0 col2\" >Predicted M27-28</th>        <th class=\"col_heading level0 col3\" >Predicted M29-31</th>        <th class=\"col_heading level0 col4\" >Predicted M32-38</th>        <th class=\"col_heading level0 col5\" >Predicted M39+</th>        <th class=\"col_heading level0 col6\" >Predicted F23-</th>        <th class=\"col_heading level0 col7\" >Predicted F24-26</th>        <th class=\"col_heading level0 col8\" >Predicted F27-28</th>        <th class=\"col_heading level0 col9\" >Predicted F29-32</th>        <th class=\"col_heading level0 col10\" >Predicted F33-42</th>        <th class=\"col_heading level0 col11\" >Predicted F43+</th>    </tr></thead><tbody>\n",
              "                <tr>\n",
              "                        <th id=\"T_38ff307c_40c4_11ec_8465_0242ac1c0002level0_row0\" class=\"row_heading level0 row0\" >Actually M22-</th>\n",
              "                        <td id=\"T_38ff307c_40c4_11ec_8465_0242ac1c0002row0_col0\" class=\"data row0 col0\" >93</td>\n",
              "                        <td id=\"T_38ff307c_40c4_11ec_8465_0242ac1c0002row0_col1\" class=\"data row0 col1\" >0</td>\n",
              "                        <td id=\"T_38ff307c_40c4_11ec_8465_0242ac1c0002row0_col2\" class=\"data row0 col2\" >5</td>\n",
              "                        <td id=\"T_38ff307c_40c4_11ec_8465_0242ac1c0002row0_col3\" class=\"data row0 col3\" >0</td>\n",
              "                        <td id=\"T_38ff307c_40c4_11ec_8465_0242ac1c0002row0_col4\" class=\"data row0 col4\" >18</td>\n",
              "                        <td id=\"T_38ff307c_40c4_11ec_8465_0242ac1c0002row0_col5\" class=\"data row0 col5\" >0</td>\n",
              "                        <td id=\"T_38ff307c_40c4_11ec_8465_0242ac1c0002row0_col6\" class=\"data row0 col6\" >0</td>\n",
              "                        <td id=\"T_38ff307c_40c4_11ec_8465_0242ac1c0002row0_col7\" class=\"data row0 col7\" >0</td>\n",
              "                        <td id=\"T_38ff307c_40c4_11ec_8465_0242ac1c0002row0_col8\" class=\"data row0 col8\" >0</td>\n",
              "                        <td id=\"T_38ff307c_40c4_11ec_8465_0242ac1c0002row0_col9\" class=\"data row0 col9\" >0</td>\n",
              "                        <td id=\"T_38ff307c_40c4_11ec_8465_0242ac1c0002row0_col10\" class=\"data row0 col10\" >7</td>\n",
              "                        <td id=\"T_38ff307c_40c4_11ec_8465_0242ac1c0002row0_col11\" class=\"data row0 col11\" >4</td>\n",
              "            </tr>\n",
              "            <tr>\n",
              "                        <th id=\"T_38ff307c_40c4_11ec_8465_0242ac1c0002level0_row1\" class=\"row_heading level0 row1\" >Actually M23-26</th>\n",
              "                        <td id=\"T_38ff307c_40c4_11ec_8465_0242ac1c0002row1_col0\" class=\"data row1 col0\" >0</td>\n",
              "                        <td id=\"T_38ff307c_40c4_11ec_8465_0242ac1c0002row1_col1\" class=\"data row1 col1\" >219</td>\n",
              "                        <td id=\"T_38ff307c_40c4_11ec_8465_0242ac1c0002row1_col2\" class=\"data row1 col2\" >0</td>\n",
              "                        <td id=\"T_38ff307c_40c4_11ec_8465_0242ac1c0002row1_col3\" class=\"data row1 col3\" >0</td>\n",
              "                        <td id=\"T_38ff307c_40c4_11ec_8465_0242ac1c0002row1_col4\" class=\"data row1 col4\" >16</td>\n",
              "                        <td id=\"T_38ff307c_40c4_11ec_8465_0242ac1c0002row1_col5\" class=\"data row1 col5\" >11</td>\n",
              "                        <td id=\"T_38ff307c_40c4_11ec_8465_0242ac1c0002row1_col6\" class=\"data row1 col6\" >0</td>\n",
              "                        <td id=\"T_38ff307c_40c4_11ec_8465_0242ac1c0002row1_col7\" class=\"data row1 col7\" >0</td>\n",
              "                        <td id=\"T_38ff307c_40c4_11ec_8465_0242ac1c0002row1_col8\" class=\"data row1 col8\" >0</td>\n",
              "                        <td id=\"T_38ff307c_40c4_11ec_8465_0242ac1c0002row1_col9\" class=\"data row1 col9\" >0</td>\n",
              "                        <td id=\"T_38ff307c_40c4_11ec_8465_0242ac1c0002row1_col10\" class=\"data row1 col10\" >0</td>\n",
              "                        <td id=\"T_38ff307c_40c4_11ec_8465_0242ac1c0002row1_col11\" class=\"data row1 col11\" >4</td>\n",
              "            </tr>\n",
              "            <tr>\n",
              "                        <th id=\"T_38ff307c_40c4_11ec_8465_0242ac1c0002level0_row2\" class=\"row_heading level0 row2\" >Actually M27-28</th>\n",
              "                        <td id=\"T_38ff307c_40c4_11ec_8465_0242ac1c0002row2_col0\" class=\"data row2 col0\" >0</td>\n",
              "                        <td id=\"T_38ff307c_40c4_11ec_8465_0242ac1c0002row2_col1\" class=\"data row2 col1\" >5</td>\n",
              "                        <td id=\"T_38ff307c_40c4_11ec_8465_0242ac1c0002row2_col2\" class=\"data row2 col2\" >139</td>\n",
              "                        <td id=\"T_38ff307c_40c4_11ec_8465_0242ac1c0002row2_col3\" class=\"data row2 col3\" >6</td>\n",
              "                        <td id=\"T_38ff307c_40c4_11ec_8465_0242ac1c0002row2_col4\" class=\"data row2 col4\" >21</td>\n",
              "                        <td id=\"T_38ff307c_40c4_11ec_8465_0242ac1c0002row2_col5\" class=\"data row2 col5\" >6</td>\n",
              "                        <td id=\"T_38ff307c_40c4_11ec_8465_0242ac1c0002row2_col6\" class=\"data row2 col6\" >0</td>\n",
              "                        <td id=\"T_38ff307c_40c4_11ec_8465_0242ac1c0002row2_col7\" class=\"data row2 col7\" >0</td>\n",
              "                        <td id=\"T_38ff307c_40c4_11ec_8465_0242ac1c0002row2_col8\" class=\"data row2 col8\" >0</td>\n",
              "                        <td id=\"T_38ff307c_40c4_11ec_8465_0242ac1c0002row2_col9\" class=\"data row2 col9\" >0</td>\n",
              "                        <td id=\"T_38ff307c_40c4_11ec_8465_0242ac1c0002row2_col10\" class=\"data row2 col10\" >0</td>\n",
              "                        <td id=\"T_38ff307c_40c4_11ec_8465_0242ac1c0002row2_col11\" class=\"data row2 col11\" >0</td>\n",
              "            </tr>\n",
              "            <tr>\n",
              "                        <th id=\"T_38ff307c_40c4_11ec_8465_0242ac1c0002level0_row3\" class=\"row_heading level0 row3\" >Actually M29-31</th>\n",
              "                        <td id=\"T_38ff307c_40c4_11ec_8465_0242ac1c0002row3_col0\" class=\"data row3 col0\" >0</td>\n",
              "                        <td id=\"T_38ff307c_40c4_11ec_8465_0242ac1c0002row3_col1\" class=\"data row3 col1\" >0</td>\n",
              "                        <td id=\"T_38ff307c_40c4_11ec_8465_0242ac1c0002row3_col2\" class=\"data row3 col2\" >8</td>\n",
              "                        <td id=\"T_38ff307c_40c4_11ec_8465_0242ac1c0002row3_col3\" class=\"data row3 col3\" >184</td>\n",
              "                        <td id=\"T_38ff307c_40c4_11ec_8465_0242ac1c0002row3_col4\" class=\"data row3 col4\" >18</td>\n",
              "                        <td id=\"T_38ff307c_40c4_11ec_8465_0242ac1c0002row3_col5\" class=\"data row3 col5\" >63</td>\n",
              "                        <td id=\"T_38ff307c_40c4_11ec_8465_0242ac1c0002row3_col6\" class=\"data row3 col6\" >0</td>\n",
              "                        <td id=\"T_38ff307c_40c4_11ec_8465_0242ac1c0002row3_col7\" class=\"data row3 col7\" >0</td>\n",
              "                        <td id=\"T_38ff307c_40c4_11ec_8465_0242ac1c0002row3_col8\" class=\"data row3 col8\" >0</td>\n",
              "                        <td id=\"T_38ff307c_40c4_11ec_8465_0242ac1c0002row3_col9\" class=\"data row3 col9\" >0</td>\n",
              "                        <td id=\"T_38ff307c_40c4_11ec_8465_0242ac1c0002row3_col10\" class=\"data row3 col10\" >0</td>\n",
              "                        <td id=\"T_38ff307c_40c4_11ec_8465_0242ac1c0002row3_col11\" class=\"data row3 col11\" >0</td>\n",
              "            </tr>\n",
              "            <tr>\n",
              "                        <th id=\"T_38ff307c_40c4_11ec_8465_0242ac1c0002level0_row4\" class=\"row_heading level0 row4\" >Actually M32-38</th>\n",
              "                        <td id=\"T_38ff307c_40c4_11ec_8465_0242ac1c0002row4_col0\" class=\"data row4 col0\" >0</td>\n",
              "                        <td id=\"T_38ff307c_40c4_11ec_8465_0242ac1c0002row4_col1\" class=\"data row4 col1\" >0</td>\n",
              "                        <td id=\"T_38ff307c_40c4_11ec_8465_0242ac1c0002row4_col2\" class=\"data row4 col2\" >0</td>\n",
              "                        <td id=\"T_38ff307c_40c4_11ec_8465_0242ac1c0002row4_col3\" class=\"data row4 col3\" >17</td>\n",
              "                        <td id=\"T_38ff307c_40c4_11ec_8465_0242ac1c0002row4_col4\" class=\"data row4 col4\" >502</td>\n",
              "                        <td id=\"T_38ff307c_40c4_11ec_8465_0242ac1c0002row4_col5\" class=\"data row4 col5\" >12</td>\n",
              "                        <td id=\"T_38ff307c_40c4_11ec_8465_0242ac1c0002row4_col6\" class=\"data row4 col6\" >0</td>\n",
              "                        <td id=\"T_38ff307c_40c4_11ec_8465_0242ac1c0002row4_col7\" class=\"data row4 col7\" >0</td>\n",
              "                        <td id=\"T_38ff307c_40c4_11ec_8465_0242ac1c0002row4_col8\" class=\"data row4 col8\" >7</td>\n",
              "                        <td id=\"T_38ff307c_40c4_11ec_8465_0242ac1c0002row4_col9\" class=\"data row4 col9\" >0</td>\n",
              "                        <td id=\"T_38ff307c_40c4_11ec_8465_0242ac1c0002row4_col10\" class=\"data row4 col10\" >0</td>\n",
              "                        <td id=\"T_38ff307c_40c4_11ec_8465_0242ac1c0002row4_col11\" class=\"data row4 col11\" >0</td>\n",
              "            </tr>\n",
              "            <tr>\n",
              "                        <th id=\"T_38ff307c_40c4_11ec_8465_0242ac1c0002level0_row5\" class=\"row_heading level0 row5\" >Actually M39+</th>\n",
              "                        <td id=\"T_38ff307c_40c4_11ec_8465_0242ac1c0002row5_col0\" class=\"data row5 col0\" >9</td>\n",
              "                        <td id=\"T_38ff307c_40c4_11ec_8465_0242ac1c0002row5_col1\" class=\"data row5 col1\" >0</td>\n",
              "                        <td id=\"T_38ff307c_40c4_11ec_8465_0242ac1c0002row5_col2\" class=\"data row5 col2\" >2</td>\n",
              "                        <td id=\"T_38ff307c_40c4_11ec_8465_0242ac1c0002row5_col3\" class=\"data row5 col3\" >0</td>\n",
              "                        <td id=\"T_38ff307c_40c4_11ec_8465_0242ac1c0002row5_col4\" class=\"data row5 col4\" >3</td>\n",
              "                        <td id=\"T_38ff307c_40c4_11ec_8465_0242ac1c0002row5_col5\" class=\"data row5 col5\" >540</td>\n",
              "                        <td id=\"T_38ff307c_40c4_11ec_8465_0242ac1c0002row5_col6\" class=\"data row5 col6\" >0</td>\n",
              "                        <td id=\"T_38ff307c_40c4_11ec_8465_0242ac1c0002row5_col7\" class=\"data row5 col7\" >0</td>\n",
              "                        <td id=\"T_38ff307c_40c4_11ec_8465_0242ac1c0002row5_col8\" class=\"data row5 col8\" >0</td>\n",
              "                        <td id=\"T_38ff307c_40c4_11ec_8465_0242ac1c0002row5_col9\" class=\"data row5 col9\" >0</td>\n",
              "                        <td id=\"T_38ff307c_40c4_11ec_8465_0242ac1c0002row5_col10\" class=\"data row5 col10\" >0</td>\n",
              "                        <td id=\"T_38ff307c_40c4_11ec_8465_0242ac1c0002row5_col11\" class=\"data row5 col11\" >15</td>\n",
              "            </tr>\n",
              "            <tr>\n",
              "                        <th id=\"T_38ff307c_40c4_11ec_8465_0242ac1c0002level0_row6\" class=\"row_heading level0 row6\" >Actually F23-</th>\n",
              "                        <td id=\"T_38ff307c_40c4_11ec_8465_0242ac1c0002row6_col0\" class=\"data row6 col0\" >0</td>\n",
              "                        <td id=\"T_38ff307c_40c4_11ec_8465_0242ac1c0002row6_col1\" class=\"data row6 col1\" >0</td>\n",
              "                        <td id=\"T_38ff307c_40c4_11ec_8465_0242ac1c0002row6_col2\" class=\"data row6 col2\" >0</td>\n",
              "                        <td id=\"T_38ff307c_40c4_11ec_8465_0242ac1c0002row6_col3\" class=\"data row6 col3\" >0</td>\n",
              "                        <td id=\"T_38ff307c_40c4_11ec_8465_0242ac1c0002row6_col4\" class=\"data row6 col4\" >10</td>\n",
              "                        <td id=\"T_38ff307c_40c4_11ec_8465_0242ac1c0002row6_col5\" class=\"data row6 col5\" >0</td>\n",
              "                        <td id=\"T_38ff307c_40c4_11ec_8465_0242ac1c0002row6_col6\" class=\"data row6 col6\" >29</td>\n",
              "                        <td id=\"T_38ff307c_40c4_11ec_8465_0242ac1c0002row6_col7\" class=\"data row6 col7\" >0</td>\n",
              "                        <td id=\"T_38ff307c_40c4_11ec_8465_0242ac1c0002row6_col8\" class=\"data row6 col8\" >0</td>\n",
              "                        <td id=\"T_38ff307c_40c4_11ec_8465_0242ac1c0002row6_col9\" class=\"data row6 col9\" >0</td>\n",
              "                        <td id=\"T_38ff307c_40c4_11ec_8465_0242ac1c0002row6_col10\" class=\"data row6 col10\" >0</td>\n",
              "                        <td id=\"T_38ff307c_40c4_11ec_8465_0242ac1c0002row6_col11\" class=\"data row6 col11\" >0</td>\n",
              "            </tr>\n",
              "            <tr>\n",
              "                        <th id=\"T_38ff307c_40c4_11ec_8465_0242ac1c0002level0_row7\" class=\"row_heading level0 row7\" >Actually F24-26</th>\n",
              "                        <td id=\"T_38ff307c_40c4_11ec_8465_0242ac1c0002row7_col0\" class=\"data row7 col0\" >0</td>\n",
              "                        <td id=\"T_38ff307c_40c4_11ec_8465_0242ac1c0002row7_col1\" class=\"data row7 col1\" >0</td>\n",
              "                        <td id=\"T_38ff307c_40c4_11ec_8465_0242ac1c0002row7_col2\" class=\"data row7 col2\" >0</td>\n",
              "                        <td id=\"T_38ff307c_40c4_11ec_8465_0242ac1c0002row7_col3\" class=\"data row7 col3\" >0</td>\n",
              "                        <td id=\"T_38ff307c_40c4_11ec_8465_0242ac1c0002row7_col4\" class=\"data row7 col4\" >8</td>\n",
              "                        <td id=\"T_38ff307c_40c4_11ec_8465_0242ac1c0002row7_col5\" class=\"data row7 col5\" >0</td>\n",
              "                        <td id=\"T_38ff307c_40c4_11ec_8465_0242ac1c0002row7_col6\" class=\"data row7 col6\" >0</td>\n",
              "                        <td id=\"T_38ff307c_40c4_11ec_8465_0242ac1c0002row7_col7\" class=\"data row7 col7\" >20</td>\n",
              "                        <td id=\"T_38ff307c_40c4_11ec_8465_0242ac1c0002row7_col8\" class=\"data row7 col8\" >0</td>\n",
              "                        <td id=\"T_38ff307c_40c4_11ec_8465_0242ac1c0002row7_col9\" class=\"data row7 col9\" >0</td>\n",
              "                        <td id=\"T_38ff307c_40c4_11ec_8465_0242ac1c0002row7_col10\" class=\"data row7 col10\" >0</td>\n",
              "                        <td id=\"T_38ff307c_40c4_11ec_8465_0242ac1c0002row7_col11\" class=\"data row7 col11\" >0</td>\n",
              "            </tr>\n",
              "            <tr>\n",
              "                        <th id=\"T_38ff307c_40c4_11ec_8465_0242ac1c0002level0_row8\" class=\"row_heading level0 row8\" >Actually F27-28</th>\n",
              "                        <td id=\"T_38ff307c_40c4_11ec_8465_0242ac1c0002row8_col0\" class=\"data row8 col0\" >0</td>\n",
              "                        <td id=\"T_38ff307c_40c4_11ec_8465_0242ac1c0002row8_col1\" class=\"data row8 col1\" >11</td>\n",
              "                        <td id=\"T_38ff307c_40c4_11ec_8465_0242ac1c0002row8_col2\" class=\"data row8 col2\" >0</td>\n",
              "                        <td id=\"T_38ff307c_40c4_11ec_8465_0242ac1c0002row8_col3\" class=\"data row8 col3\" >8</td>\n",
              "                        <td id=\"T_38ff307c_40c4_11ec_8465_0242ac1c0002row8_col4\" class=\"data row8 col4\" >14</td>\n",
              "                        <td id=\"T_38ff307c_40c4_11ec_8465_0242ac1c0002row8_col5\" class=\"data row8 col5\" >0</td>\n",
              "                        <td id=\"T_38ff307c_40c4_11ec_8465_0242ac1c0002row8_col6\" class=\"data row8 col6\" >0</td>\n",
              "                        <td id=\"T_38ff307c_40c4_11ec_8465_0242ac1c0002row8_col7\" class=\"data row8 col7\" >0</td>\n",
              "                        <td id=\"T_38ff307c_40c4_11ec_8465_0242ac1c0002row8_col8\" class=\"data row8 col8\" >23</td>\n",
              "                        <td id=\"T_38ff307c_40c4_11ec_8465_0242ac1c0002row8_col9\" class=\"data row8 col9\" >0</td>\n",
              "                        <td id=\"T_38ff307c_40c4_11ec_8465_0242ac1c0002row8_col10\" class=\"data row8 col10\" >0</td>\n",
              "                        <td id=\"T_38ff307c_40c4_11ec_8465_0242ac1c0002row8_col11\" class=\"data row8 col11\" >0</td>\n",
              "            </tr>\n",
              "            <tr>\n",
              "                        <th id=\"T_38ff307c_40c4_11ec_8465_0242ac1c0002level0_row9\" class=\"row_heading level0 row9\" >Actually F29-32</th>\n",
              "                        <td id=\"T_38ff307c_40c4_11ec_8465_0242ac1c0002row9_col0\" class=\"data row9 col0\" >0</td>\n",
              "                        <td id=\"T_38ff307c_40c4_11ec_8465_0242ac1c0002row9_col1\" class=\"data row9 col1\" >0</td>\n",
              "                        <td id=\"T_38ff307c_40c4_11ec_8465_0242ac1c0002row9_col2\" class=\"data row9 col2\" >0</td>\n",
              "                        <td id=\"T_38ff307c_40c4_11ec_8465_0242ac1c0002row9_col3\" class=\"data row9 col3\" >8</td>\n",
              "                        <td id=\"T_38ff307c_40c4_11ec_8465_0242ac1c0002row9_col4\" class=\"data row9 col4\" >0</td>\n",
              "                        <td id=\"T_38ff307c_40c4_11ec_8465_0242ac1c0002row9_col5\" class=\"data row9 col5\" >0</td>\n",
              "                        <td id=\"T_38ff307c_40c4_11ec_8465_0242ac1c0002row9_col6\" class=\"data row9 col6\" >0</td>\n",
              "                        <td id=\"T_38ff307c_40c4_11ec_8465_0242ac1c0002row9_col7\" class=\"data row9 col7\" >0</td>\n",
              "                        <td id=\"T_38ff307c_40c4_11ec_8465_0242ac1c0002row9_col8\" class=\"data row9 col8\" >0</td>\n",
              "                        <td id=\"T_38ff307c_40c4_11ec_8465_0242ac1c0002row9_col9\" class=\"data row9 col9\" >73</td>\n",
              "                        <td id=\"T_38ff307c_40c4_11ec_8465_0242ac1c0002row9_col10\" class=\"data row9 col10\" >0</td>\n",
              "                        <td id=\"T_38ff307c_40c4_11ec_8465_0242ac1c0002row9_col11\" class=\"data row9 col11\" >0</td>\n",
              "            </tr>\n",
              "            <tr>\n",
              "                        <th id=\"T_38ff307c_40c4_11ec_8465_0242ac1c0002level0_row10\" class=\"row_heading level0 row10\" >Actually F33-42</th>\n",
              "                        <td id=\"T_38ff307c_40c4_11ec_8465_0242ac1c0002row10_col0\" class=\"data row10 col0\" >0</td>\n",
              "                        <td id=\"T_38ff307c_40c4_11ec_8465_0242ac1c0002row10_col1\" class=\"data row10 col1\" >0</td>\n",
              "                        <td id=\"T_38ff307c_40c4_11ec_8465_0242ac1c0002row10_col2\" class=\"data row10 col2\" >0</td>\n",
              "                        <td id=\"T_38ff307c_40c4_11ec_8465_0242ac1c0002row10_col3\" class=\"data row10 col3\" >3</td>\n",
              "                        <td id=\"T_38ff307c_40c4_11ec_8465_0242ac1c0002row10_col4\" class=\"data row10 col4\" >0</td>\n",
              "                        <td id=\"T_38ff307c_40c4_11ec_8465_0242ac1c0002row10_col5\" class=\"data row10 col5\" >27</td>\n",
              "                        <td id=\"T_38ff307c_40c4_11ec_8465_0242ac1c0002row10_col6\" class=\"data row10 col6\" >0</td>\n",
              "                        <td id=\"T_38ff307c_40c4_11ec_8465_0242ac1c0002row10_col7\" class=\"data row10 col7\" >0</td>\n",
              "                        <td id=\"T_38ff307c_40c4_11ec_8465_0242ac1c0002row10_col8\" class=\"data row10 col8\" >0</td>\n",
              "                        <td id=\"T_38ff307c_40c4_11ec_8465_0242ac1c0002row10_col9\" class=\"data row10 col9\" >0</td>\n",
              "                        <td id=\"T_38ff307c_40c4_11ec_8465_0242ac1c0002row10_col10\" class=\"data row10 col10\" >107</td>\n",
              "                        <td id=\"T_38ff307c_40c4_11ec_8465_0242ac1c0002row10_col11\" class=\"data row10 col11\" >0</td>\n",
              "            </tr>\n",
              "            <tr>\n",
              "                        <th id=\"T_38ff307c_40c4_11ec_8465_0242ac1c0002level0_row11\" class=\"row_heading level0 row11\" >Actually F43+</th>\n",
              "                        <td id=\"T_38ff307c_40c4_11ec_8465_0242ac1c0002row11_col0\" class=\"data row11 col0\" >0</td>\n",
              "                        <td id=\"T_38ff307c_40c4_11ec_8465_0242ac1c0002row11_col1\" class=\"data row11 col1\" >4</td>\n",
              "                        <td id=\"T_38ff307c_40c4_11ec_8465_0242ac1c0002row11_col2\" class=\"data row11 col2\" >8</td>\n",
              "                        <td id=\"T_38ff307c_40c4_11ec_8465_0242ac1c0002row11_col3\" class=\"data row11 col3\" >0</td>\n",
              "                        <td id=\"T_38ff307c_40c4_11ec_8465_0242ac1c0002row11_col4\" class=\"data row11 col4\" >9</td>\n",
              "                        <td id=\"T_38ff307c_40c4_11ec_8465_0242ac1c0002row11_col5\" class=\"data row11 col5\" >23</td>\n",
              "                        <td id=\"T_38ff307c_40c4_11ec_8465_0242ac1c0002row11_col6\" class=\"data row11 col6\" >0</td>\n",
              "                        <td id=\"T_38ff307c_40c4_11ec_8465_0242ac1c0002row11_col7\" class=\"data row11 col7\" >0</td>\n",
              "                        <td id=\"T_38ff307c_40c4_11ec_8465_0242ac1c0002row11_col8\" class=\"data row11 col8\" >0</td>\n",
              "                        <td id=\"T_38ff307c_40c4_11ec_8465_0242ac1c0002row11_col9\" class=\"data row11 col9\" >0</td>\n",
              "                        <td id=\"T_38ff307c_40c4_11ec_8465_0242ac1c0002row11_col10\" class=\"data row11 col10\" >0</td>\n",
              "                        <td id=\"T_38ff307c_40c4_11ec_8465_0242ac1c0002row11_col11\" class=\"data row11 col11\" >128</td>\n",
              "            </tr>\n",
              "    </tbody></table>"
            ],
            "text/plain": [
              "<pandas.io.formats.style.Styler at 0x7f5c88276b90>"
            ]
          },
          "metadata": {},
          "execution_count": 60
        }
      ]
    },
    {
      "cell_type": "code",
      "metadata": {
        "colab": {
          "base_uri": "https://localhost:8080/"
        },
        "id": "DIawF3dtjs7v",
        "outputId": "3c4c7165-1d29-46bd-9fc6-aa8d73d1a6d3"
      },
      "source": [
        "print(\"Classification Report:\")\n",
        "print()\n",
        "print(classification_report(y_test, y_pred))"
      ],
      "execution_count": null,
      "outputs": [
        {
          "output_type": "stream",
          "name": "stdout",
          "text": [
            "Classification Report:\n",
            "\n",
            "              precision    recall  f1-score   support\n",
            "\n",
            "           0       0.91      0.73      0.81       127\n",
            "           1       0.92      0.88      0.90       250\n",
            "           2       0.86      0.79      0.82       177\n",
            "           3       0.81      0.67      0.74       273\n",
            "           4       0.81      0.93      0.87       538\n",
            "           5       0.79      0.95      0.86       569\n",
            "           6       1.00      0.74      0.85        39\n",
            "           7       1.00      0.71      0.83        28\n",
            "           8       0.77      0.41      0.53        56\n",
            "           9       1.00      0.90      0.95        81\n",
            "          10       0.94      0.78      0.85       137\n",
            "          11       0.85      0.74      0.79       172\n",
            "\n",
            "    accuracy                           0.84      2447\n",
            "   macro avg       0.89      0.77      0.82      2447\n",
            "weighted avg       0.85      0.84      0.84      2447\n",
            "\n"
          ]
        }
      ]
    },
    {
      "cell_type": "markdown",
      "metadata": {
        "id": "CV4kfrWyjD8V"
      },
      "source": [
        "# Support Vector Classifier"
      ]
    },
    {
      "cell_type": "code",
      "metadata": {
        "id": "k3exeTmXkBAa"
      },
      "source": [
        "pipeline = Pipeline(\n",
        "    [\n",
        "        (\"scaler\", StandardScaler()),\n",
        "        (\"pca\", PCA(n_components=n_components)),\n",
        "        (\"svcc\", SVC()),\n",
        "    ]\n",
        ")\n",
        "pipeline = pipeline.fit(X_train, y_train)\n"
      ],
      "execution_count": null,
      "outputs": []
    },
    {
      "cell_type": "code",
      "metadata": {
        "id": "VFlBp1JtkBDQ"
      },
      "source": [
        "grid = { \"svcc__gamma\": [1.0, 5.0, 10.0], 'svcc__kernel': ['rbf']}\n",
        "\n",
        "\n",
        "model = GridSearchCV(pipeline, grid, verbose=1, cv=3)"
      ],
      "execution_count": null,
      "outputs": []
    },
    {
      "cell_type": "code",
      "metadata": {
        "colab": {
          "base_uri": "https://localhost:8080/"
        },
        "id": "G3MyLJkLkBHB",
        "outputId": "1e342fac-4e1f-4621-89f2-9206254efc2b"
      },
      "source": [
        "model.fit(X_train, y_train)\n"
      ],
      "execution_count": null,
      "outputs": [
        {
          "output_type": "stream",
          "name": "stdout",
          "text": [
            "Fitting 3 folds for each of 3 candidates, totalling 9 fits\n"
          ]
        },
        {
          "output_type": "stream",
          "name": "stderr",
          "text": [
            "[Parallel(n_jobs=1)]: Using backend SequentialBackend with 1 concurrent workers.\n",
            "[Parallel(n_jobs=1)]: Done   9 out of   9 | elapsed:  1.7min finished\n"
          ]
        },
        {
          "output_type": "execute_result",
          "data": {
            "text/plain": [
              "GridSearchCV(cv=3, error_score=nan,\n",
              "             estimator=Pipeline(memory=None,\n",
              "                                steps=[('scaler',\n",
              "                                        StandardScaler(copy=True,\n",
              "                                                       with_mean=True,\n",
              "                                                       with_std=True)),\n",
              "                                       ('pca',\n",
              "                                        PCA(copy=True, iterated_power='auto',\n",
              "                                            n_components=47, random_state=None,\n",
              "                                            svd_solver='auto', tol=0.0,\n",
              "                                            whiten=False)),\n",
              "                                       ('svcc',\n",
              "                                        SVC(C=1.0, break_ties=False,\n",
              "                                            cache_size=200, class_weight=None,\n",
              "                                            coef0=0.0,\n",
              "                                            decision_function_shape='ovr',\n",
              "                                            degree=3, gamma='scale',\n",
              "                                            kernel='rbf', max_iter=-1,\n",
              "                                            probability=False,\n",
              "                                            random_state=None, shrinking=True,\n",
              "                                            tol=0.001, verbose=False))],\n",
              "                                verbose=False),\n",
              "             iid='deprecated', n_jobs=None,\n",
              "             param_grid={'svcc__gamma': [1.0, 5.0, 10.0],\n",
              "                         'svcc__kernel': ['rbf']},\n",
              "             pre_dispatch='2*n_jobs', refit=True, return_train_score=False,\n",
              "             scoring=None, verbose=1)"
            ]
          },
          "metadata": {},
          "execution_count": 64
        }
      ]
    },
    {
      "cell_type": "code",
      "metadata": {
        "colab": {
          "base_uri": "https://localhost:8080/"
        },
        "id": "wi8_LlC8kBI-",
        "outputId": "f774038b-a860-4aef-8dcc-ace1c2395b4d"
      },
      "source": [
        "model.best_params_"
      ],
      "execution_count": null,
      "outputs": [
        {
          "output_type": "execute_result",
          "data": {
            "text/plain": [
              "{'svcc__gamma': 10.0, 'svcc__kernel': 'rbf'}"
            ]
          },
          "metadata": {},
          "execution_count": 65
        }
      ]
    },
    {
      "cell_type": "code",
      "metadata": {
        "colab": {
          "base_uri": "https://localhost:8080/"
        },
        "id": "tXC3IVYsntGv",
        "outputId": "879e84b0-e976-44a1-f5ec-85602686738c"
      },
      "source": [
        "# Model still appears to be extremely overfitting\n",
        "train_score = model.score(X_train, y_train)\n",
        "test_score = model.score(X_test, y_test)\n",
        "\n",
        "print(f\"Train score: {train_score}\")\n",
        "print(f\"Test score: {test_score}\")\n"
      ],
      "execution_count": null,
      "outputs": [
        {
          "output_type": "stream",
          "name": "stdout",
          "text": [
            "Train score: 0.9440923957481603\n",
            "Test score: 0.6505925623212097\n"
          ]
        }
      ]
    },
    {
      "cell_type": "code",
      "metadata": {
        "colab": {
          "base_uri": "https://localhost:8080/",
          "height": 416
        },
        "id": "qAHiD8hXkBLG",
        "outputId": "5a82cc9c-8bd3-4aa9-ddfb-3a68cc011a16"
      },
      "source": [
        "y_pred = model.predict(X_test)\n",
        "\n",
        "con_mat = pd.DataFrame(\n",
        "    confusion_matrix(y_test, y_pred),\n",
        "    index=[\n",
        "        \"Actually M22-\",\n",
        "        \"Actually M23-26\",\n",
        "        \"Actually M27-28\",\n",
        "        \"Actually M29-31\",\n",
        "        \"Actually M32-38\",\n",
        "        \"Actually M39+\",\n",
        "        \"Actually F23-\",\n",
        "        \"Actually F24-26\",\n",
        "        \"Actually F27-28\",\n",
        "        \"Actually F29-32\",\n",
        "        \"Actually F33-42\",\n",
        "        \"Actually F43+\",\n",
        "    ],\n",
        "    columns=[\n",
        "        \"Predicted M22-\",\n",
        "        \"Predicted M23-26\",\n",
        "        \"Predicted M27-28\",\n",
        "        \"Predicted M29-31\",\n",
        "        \"Predicted M32-38\",\n",
        "        \"Predicted M39+\",\n",
        "        \"Predicted F23-\",\n",
        "        \"Predicted F24-26\",\n",
        "        \"Predicted F27-28\",\n",
        "        \"Predicted F29-32\",\n",
        "        \"Predicted F33-42\",\n",
        "        \"Predicted F43+\",\n",
        "    ],\n",
        ")\n",
        "con_mat.style.background_gradient(axis=None)\n"
      ],
      "execution_count": null,
      "outputs": [
        {
          "output_type": "execute_result",
          "data": {
            "text/html": [
              "<style  type=\"text/css\" >\n",
              "#T_8d6b0938_40c4_11ec_8465_0242ac1c0002row0_col0{\n",
              "            background-color:  #ede8f3;\n",
              "            color:  #000000;\n",
              "        }#T_8d6b0938_40c4_11ec_8465_0242ac1c0002row0_col1,#T_8d6b0938_40c4_11ec_8465_0242ac1c0002row1_col3,#T_8d6b0938_40c4_11ec_8465_0242ac1c0002row1_col4,#T_8d6b0938_40c4_11ec_8465_0242ac1c0002row8_col3{\n",
              "            background-color:  #fef6fa;\n",
              "            color:  #000000;\n",
              "        }#T_8d6b0938_40c4_11ec_8465_0242ac1c0002row0_col2,#T_8d6b0938_40c4_11ec_8465_0242ac1c0002row0_col6,#T_8d6b0938_40c4_11ec_8465_0242ac1c0002row0_col7,#T_8d6b0938_40c4_11ec_8465_0242ac1c0002row0_col8,#T_8d6b0938_40c4_11ec_8465_0242ac1c0002row0_col9,#T_8d6b0938_40c4_11ec_8465_0242ac1c0002row0_col10,#T_8d6b0938_40c4_11ec_8465_0242ac1c0002row0_col11,#T_8d6b0938_40c4_11ec_8465_0242ac1c0002row1_col2,#T_8d6b0938_40c4_11ec_8465_0242ac1c0002row1_col6,#T_8d6b0938_40c4_11ec_8465_0242ac1c0002row1_col7,#T_8d6b0938_40c4_11ec_8465_0242ac1c0002row1_col8,#T_8d6b0938_40c4_11ec_8465_0242ac1c0002row1_col9,#T_8d6b0938_40c4_11ec_8465_0242ac1c0002row1_col10,#T_8d6b0938_40c4_11ec_8465_0242ac1c0002row1_col11,#T_8d6b0938_40c4_11ec_8465_0242ac1c0002row2_col0,#T_8d6b0938_40c4_11ec_8465_0242ac1c0002row2_col3,#T_8d6b0938_40c4_11ec_8465_0242ac1c0002row2_col6,#T_8d6b0938_40c4_11ec_8465_0242ac1c0002row2_col7,#T_8d6b0938_40c4_11ec_8465_0242ac1c0002row2_col8,#T_8d6b0938_40c4_11ec_8465_0242ac1c0002row2_col9,#T_8d6b0938_40c4_11ec_8465_0242ac1c0002row2_col10,#T_8d6b0938_40c4_11ec_8465_0242ac1c0002row2_col11,#T_8d6b0938_40c4_11ec_8465_0242ac1c0002row3_col1,#T_8d6b0938_40c4_11ec_8465_0242ac1c0002row3_col2,#T_8d6b0938_40c4_11ec_8465_0242ac1c0002row3_col6,#T_8d6b0938_40c4_11ec_8465_0242ac1c0002row3_col7,#T_8d6b0938_40c4_11ec_8465_0242ac1c0002row3_col8,#T_8d6b0938_40c4_11ec_8465_0242ac1c0002row3_col9,#T_8d6b0938_40c4_11ec_8465_0242ac1c0002row3_col11,#T_8d6b0938_40c4_11ec_8465_0242ac1c0002row4_col0,#T_8d6b0938_40c4_11ec_8465_0242ac1c0002row4_col1,#T_8d6b0938_40c4_11ec_8465_0242ac1c0002row4_col2,#T_8d6b0938_40c4_11ec_8465_0242ac1c0002row4_col6,#T_8d6b0938_40c4_11ec_8465_0242ac1c0002row4_col8,#T_8d6b0938_40c4_11ec_8465_0242ac1c0002row4_col9,#T_8d6b0938_40c4_11ec_8465_0242ac1c0002row5_col0,#T_8d6b0938_40c4_11ec_8465_0242ac1c0002row5_col1,#T_8d6b0938_40c4_11ec_8465_0242ac1c0002row5_col6,#T_8d6b0938_40c4_11ec_8465_0242ac1c0002row5_col7,#T_8d6b0938_40c4_11ec_8465_0242ac1c0002row5_col8,#T_8d6b0938_40c4_11ec_8465_0242ac1c0002row5_col9,#T_8d6b0938_40c4_11ec_8465_0242ac1c0002row6_col0,#T_8d6b0938_40c4_11ec_8465_0242ac1c0002row6_col1,#T_8d6b0938_40c4_11ec_8465_0242ac1c0002row6_col2,#T_8d6b0938_40c4_11ec_8465_0242ac1c0002row6_col3,#T_8d6b0938_40c4_11ec_8465_0242ac1c0002row6_col7,#T_8d6b0938_40c4_11ec_8465_0242ac1c0002row6_col8,#T_8d6b0938_40c4_11ec_8465_0242ac1c0002row6_col9,#T_8d6b0938_40c4_11ec_8465_0242ac1c0002row6_col10,#T_8d6b0938_40c4_11ec_8465_0242ac1c0002row6_col11,#T_8d6b0938_40c4_11ec_8465_0242ac1c0002row7_col0,#T_8d6b0938_40c4_11ec_8465_0242ac1c0002row7_col1,#T_8d6b0938_40c4_11ec_8465_0242ac1c0002row7_col2,#T_8d6b0938_40c4_11ec_8465_0242ac1c0002row7_col3,#T_8d6b0938_40c4_11ec_8465_0242ac1c0002row7_col6,#T_8d6b0938_40c4_11ec_8465_0242ac1c0002row7_col8,#T_8d6b0938_40c4_11ec_8465_0242ac1c0002row7_col9,#T_8d6b0938_40c4_11ec_8465_0242ac1c0002row7_col10,#T_8d6b0938_40c4_11ec_8465_0242ac1c0002row7_col11,#T_8d6b0938_40c4_11ec_8465_0242ac1c0002row8_col0,#T_8d6b0938_40c4_11ec_8465_0242ac1c0002row8_col1,#T_8d6b0938_40c4_11ec_8465_0242ac1c0002row8_col2,#T_8d6b0938_40c4_11ec_8465_0242ac1c0002row8_col4,#T_8d6b0938_40c4_11ec_8465_0242ac1c0002row8_col6,#T_8d6b0938_40c4_11ec_8465_0242ac1c0002row8_col7,#T_8d6b0938_40c4_11ec_8465_0242ac1c0002row8_col9,#T_8d6b0938_40c4_11ec_8465_0242ac1c0002row8_col10,#T_8d6b0938_40c4_11ec_8465_0242ac1c0002row8_col11,#T_8d6b0938_40c4_11ec_8465_0242ac1c0002row9_col0,#T_8d6b0938_40c4_11ec_8465_0242ac1c0002row9_col1,#T_8d6b0938_40c4_11ec_8465_0242ac1c0002row9_col2,#T_8d6b0938_40c4_11ec_8465_0242ac1c0002row9_col3,#T_8d6b0938_40c4_11ec_8465_0242ac1c0002row9_col6,#T_8d6b0938_40c4_11ec_8465_0242ac1c0002row9_col7,#T_8d6b0938_40c4_11ec_8465_0242ac1c0002row9_col8,#T_8d6b0938_40c4_11ec_8465_0242ac1c0002row9_col10,#T_8d6b0938_40c4_11ec_8465_0242ac1c0002row9_col11,#T_8d6b0938_40c4_11ec_8465_0242ac1c0002row10_col1,#T_8d6b0938_40c4_11ec_8465_0242ac1c0002row10_col2,#T_8d6b0938_40c4_11ec_8465_0242ac1c0002row10_col6,#T_8d6b0938_40c4_11ec_8465_0242ac1c0002row10_col7,#T_8d6b0938_40c4_11ec_8465_0242ac1c0002row10_col8,#T_8d6b0938_40c4_11ec_8465_0242ac1c0002row10_col9,#T_8d6b0938_40c4_11ec_8465_0242ac1c0002row10_col11,#T_8d6b0938_40c4_11ec_8465_0242ac1c0002row11_col0,#T_8d6b0938_40c4_11ec_8465_0242ac1c0002row11_col1,#T_8d6b0938_40c4_11ec_8465_0242ac1c0002row11_col2,#T_8d6b0938_40c4_11ec_8465_0242ac1c0002row11_col6,#T_8d6b0938_40c4_11ec_8465_0242ac1c0002row11_col7,#T_8d6b0938_40c4_11ec_8465_0242ac1c0002row11_col8,#T_8d6b0938_40c4_11ec_8465_0242ac1c0002row11_col9{\n",
              "            background-color:  #fff7fb;\n",
              "            color:  #000000;\n",
              "        }#T_8d6b0938_40c4_11ec_8465_0242ac1c0002row0_col3,#T_8d6b0938_40c4_11ec_8465_0242ac1c0002row1_col0,#T_8d6b0938_40c4_11ec_8465_0242ac1c0002row3_col0,#T_8d6b0938_40c4_11ec_8465_0242ac1c0002row5_col3,#T_8d6b0938_40c4_11ec_8465_0242ac1c0002row7_col4,#T_8d6b0938_40c4_11ec_8465_0242ac1c0002row7_col5,#T_8d6b0938_40c4_11ec_8465_0242ac1c0002row11_col3{\n",
              "            background-color:  #fdf5fa;\n",
              "            color:  #000000;\n",
              "        }#T_8d6b0938_40c4_11ec_8465_0242ac1c0002row0_col4,#T_8d6b0938_40c4_11ec_8465_0242ac1c0002row4_col11,#T_8d6b0938_40c4_11ec_8465_0242ac1c0002row5_col10{\n",
              "            background-color:  #fcf4fa;\n",
              "            color:  #000000;\n",
              "        }#T_8d6b0938_40c4_11ec_8465_0242ac1c0002row0_col5{\n",
              "            background-color:  #f2ecf5;\n",
              "            color:  #000000;\n",
              "        }#T_8d6b0938_40c4_11ec_8465_0242ac1c0002row1_col1,#T_8d6b0938_40c4_11ec_8465_0242ac1c0002row3_col3{\n",
              "            background-color:  #c2cbe2;\n",
              "            color:  #000000;\n",
              "        }#T_8d6b0938_40c4_11ec_8465_0242ac1c0002row1_col5,#T_8d6b0938_40c4_11ec_8465_0242ac1c0002row11_col11{\n",
              "            background-color:  #e2dfee;\n",
              "            color:  #000000;\n",
              "        }#T_8d6b0938_40c4_11ec_8465_0242ac1c0002row2_col1,#T_8d6b0938_40c4_11ec_8465_0242ac1c0002row2_col4,#T_8d6b0938_40c4_11ec_8465_0242ac1c0002row3_col10,#T_8d6b0938_40c4_11ec_8465_0242ac1c0002row4_col7,#T_8d6b0938_40c4_11ec_8465_0242ac1c0002row4_col10,#T_8d6b0938_40c4_11ec_8465_0242ac1c0002row5_col2,#T_8d6b0938_40c4_11ec_8465_0242ac1c0002row5_col11,#T_8d6b0938_40c4_11ec_8465_0242ac1c0002row6_col4,#T_8d6b0938_40c4_11ec_8465_0242ac1c0002row9_col4,#T_8d6b0938_40c4_11ec_8465_0242ac1c0002row10_col0,#T_8d6b0938_40c4_11ec_8465_0242ac1c0002row10_col3,#T_8d6b0938_40c4_11ec_8465_0242ac1c0002row10_col4,#T_8d6b0938_40c4_11ec_8465_0242ac1c0002row11_col10{\n",
              "            background-color:  #fef6fb;\n",
              "            color:  #000000;\n",
              "        }#T_8d6b0938_40c4_11ec_8465_0242ac1c0002row2_col2{\n",
              "            background-color:  #d9d8ea;\n",
              "            color:  #000000;\n",
              "        }#T_8d6b0938_40c4_11ec_8465_0242ac1c0002row2_col5{\n",
              "            background-color:  #ece7f2;\n",
              "            color:  #000000;\n",
              "        }#T_8d6b0938_40c4_11ec_8465_0242ac1c0002row3_col4,#T_8d6b0938_40c4_11ec_8465_0242ac1c0002row8_col5,#T_8d6b0938_40c4_11ec_8465_0242ac1c0002row11_col4{\n",
              "            background-color:  #f8f1f8;\n",
              "            color:  #000000;\n",
              "        }#T_8d6b0938_40c4_11ec_8465_0242ac1c0002row3_col5{\n",
              "            background-color:  #e0deed;\n",
              "            color:  #000000;\n",
              "        }#T_8d6b0938_40c4_11ec_8465_0242ac1c0002row4_col3{\n",
              "            background-color:  #faf3f9;\n",
              "            color:  #000000;\n",
              "        }#T_8d6b0938_40c4_11ec_8465_0242ac1c0002row4_col4{\n",
              "            background-color:  #2685bb;\n",
              "            color:  #000000;\n",
              "        }#T_8d6b0938_40c4_11ec_8465_0242ac1c0002row4_col5{\n",
              "            background-color:  #b8c6e0;\n",
              "            color:  #000000;\n",
              "        }#T_8d6b0938_40c4_11ec_8465_0242ac1c0002row5_col4{\n",
              "            background-color:  #f6eff7;\n",
              "            color:  #000000;\n",
              "        }#T_8d6b0938_40c4_11ec_8465_0242ac1c0002row5_col5{\n",
              "            background-color:  #023858;\n",
              "            color:  #f1f1f1;\n",
              "        }#T_8d6b0938_40c4_11ec_8465_0242ac1c0002row6_col5,#T_8d6b0938_40c4_11ec_8465_0242ac1c0002row7_col7{\n",
              "            background-color:  #fbf3f9;\n",
              "            color:  #000000;\n",
              "        }#T_8d6b0938_40c4_11ec_8465_0242ac1c0002row6_col6{\n",
              "            background-color:  #f9f2f8;\n",
              "            color:  #000000;\n",
              "        }#T_8d6b0938_40c4_11ec_8465_0242ac1c0002row8_col8,#T_8d6b0938_40c4_11ec_8465_0242ac1c0002row9_col5{\n",
              "            background-color:  #f7f0f7;\n",
              "            color:  #000000;\n",
              "        }#T_8d6b0938_40c4_11ec_8465_0242ac1c0002row9_col9{\n",
              "            background-color:  #f1ebf4;\n",
              "            color:  #000000;\n",
              "        }#T_8d6b0938_40c4_11ec_8465_0242ac1c0002row10_col5{\n",
              "            background-color:  #f0eaf4;\n",
              "            color:  #000000;\n",
              "        }#T_8d6b0938_40c4_11ec_8465_0242ac1c0002row10_col10{\n",
              "            background-color:  #e7e3f0;\n",
              "            color:  #000000;\n",
              "        }#T_8d6b0938_40c4_11ec_8465_0242ac1c0002row11_col5{\n",
              "            background-color:  #efe9f3;\n",
              "            color:  #000000;\n",
              "        }</style><table id=\"T_8d6b0938_40c4_11ec_8465_0242ac1c0002\" class=\"dataframe\"><thead>    <tr>        <th class=\"blank level0\" ></th>        <th class=\"col_heading level0 col0\" >Predicted M22-</th>        <th class=\"col_heading level0 col1\" >Predicted M23-26</th>        <th class=\"col_heading level0 col2\" >Predicted M27-28</th>        <th class=\"col_heading level0 col3\" >Predicted M29-31</th>        <th class=\"col_heading level0 col4\" >Predicted M32-38</th>        <th class=\"col_heading level0 col5\" >Predicted M39+</th>        <th class=\"col_heading level0 col6\" >Predicted F23-</th>        <th class=\"col_heading level0 col7\" >Predicted F24-26</th>        <th class=\"col_heading level0 col8\" >Predicted F27-28</th>        <th class=\"col_heading level0 col9\" >Predicted F29-32</th>        <th class=\"col_heading level0 col10\" >Predicted F33-42</th>        <th class=\"col_heading level0 col11\" >Predicted F43+</th>    </tr></thead><tbody>\n",
              "                <tr>\n",
              "                        <th id=\"T_8d6b0938_40c4_11ec_8465_0242ac1c0002level0_row0\" class=\"row_heading level0 row0\" >Actually M22-</th>\n",
              "                        <td id=\"T_8d6b0938_40c4_11ec_8465_0242ac1c0002row0_col0\" class=\"data row0 col0\" >60</td>\n",
              "                        <td id=\"T_8d6b0938_40c4_11ec_8465_0242ac1c0002row0_col1\" class=\"data row0 col1\" >5</td>\n",
              "                        <td id=\"T_8d6b0938_40c4_11ec_8465_0242ac1c0002row0_col2\" class=\"data row0 col2\" >0</td>\n",
              "                        <td id=\"T_8d6b0938_40c4_11ec_8465_0242ac1c0002row0_col3\" class=\"data row0 col3\" >9</td>\n",
              "                        <td id=\"T_8d6b0938_40c4_11ec_8465_0242ac1c0002row0_col4\" class=\"data row0 col4\" >10</td>\n",
              "                        <td id=\"T_8d6b0938_40c4_11ec_8465_0242ac1c0002row0_col5\" class=\"data row0 col5\" >43</td>\n",
              "                        <td id=\"T_8d6b0938_40c4_11ec_8465_0242ac1c0002row0_col6\" class=\"data row0 col6\" >0</td>\n",
              "                        <td id=\"T_8d6b0938_40c4_11ec_8465_0242ac1c0002row0_col7\" class=\"data row0 col7\" >0</td>\n",
              "                        <td id=\"T_8d6b0938_40c4_11ec_8465_0242ac1c0002row0_col8\" class=\"data row0 col8\" >0</td>\n",
              "                        <td id=\"T_8d6b0938_40c4_11ec_8465_0242ac1c0002row0_col9\" class=\"data row0 col9\" >0</td>\n",
              "                        <td id=\"T_8d6b0938_40c4_11ec_8465_0242ac1c0002row0_col10\" class=\"data row0 col10\" >0</td>\n",
              "                        <td id=\"T_8d6b0938_40c4_11ec_8465_0242ac1c0002row0_col11\" class=\"data row0 col11\" >0</td>\n",
              "            </tr>\n",
              "            <tr>\n",
              "                        <th id=\"T_8d6b0938_40c4_11ec_8465_0242ac1c0002level0_row1\" class=\"row_heading level0 row1\" >Actually M23-26</th>\n",
              "                        <td id=\"T_8d6b0938_40c4_11ec_8465_0242ac1c0002row1_col0\" class=\"data row1 col0\" >7</td>\n",
              "                        <td id=\"T_8d6b0938_40c4_11ec_8465_0242ac1c0002row1_col1\" class=\"data row1 col1\" >148</td>\n",
              "                        <td id=\"T_8d6b0938_40c4_11ec_8465_0242ac1c0002row1_col2\" class=\"data row1 col2\" >0</td>\n",
              "                        <td id=\"T_8d6b0938_40c4_11ec_8465_0242ac1c0002row1_col3\" class=\"data row1 col3\" >4</td>\n",
              "                        <td id=\"T_8d6b0938_40c4_11ec_8465_0242ac1c0002row1_col4\" class=\"data row1 col4\" >5</td>\n",
              "                        <td id=\"T_8d6b0938_40c4_11ec_8465_0242ac1c0002row1_col5\" class=\"data row1 col5\" >86</td>\n",
              "                        <td id=\"T_8d6b0938_40c4_11ec_8465_0242ac1c0002row1_col6\" class=\"data row1 col6\" >0</td>\n",
              "                        <td id=\"T_8d6b0938_40c4_11ec_8465_0242ac1c0002row1_col7\" class=\"data row1 col7\" >0</td>\n",
              "                        <td id=\"T_8d6b0938_40c4_11ec_8465_0242ac1c0002row1_col8\" class=\"data row1 col8\" >0</td>\n",
              "                        <td id=\"T_8d6b0938_40c4_11ec_8465_0242ac1c0002row1_col9\" class=\"data row1 col9\" >0</td>\n",
              "                        <td id=\"T_8d6b0938_40c4_11ec_8465_0242ac1c0002row1_col10\" class=\"data row1 col10\" >0</td>\n",
              "                        <td id=\"T_8d6b0938_40c4_11ec_8465_0242ac1c0002row1_col11\" class=\"data row1 col11\" >0</td>\n",
              "            </tr>\n",
              "            <tr>\n",
              "                        <th id=\"T_8d6b0938_40c4_11ec_8465_0242ac1c0002level0_row2\" class=\"row_heading level0 row2\" >Actually M27-28</th>\n",
              "                        <td id=\"T_8d6b0938_40c4_11ec_8465_0242ac1c0002row2_col0\" class=\"data row2 col0\" >0</td>\n",
              "                        <td id=\"T_8d6b0938_40c4_11ec_8465_0242ac1c0002row2_col1\" class=\"data row2 col1\" >2</td>\n",
              "                        <td id=\"T_8d6b0938_40c4_11ec_8465_0242ac1c0002row2_col2\" class=\"data row2 col2\" >108</td>\n",
              "                        <td id=\"T_8d6b0938_40c4_11ec_8465_0242ac1c0002row2_col3\" class=\"data row2 col3\" >0</td>\n",
              "                        <td id=\"T_8d6b0938_40c4_11ec_8465_0242ac1c0002row2_col4\" class=\"data row2 col4\" >2</td>\n",
              "                        <td id=\"T_8d6b0938_40c4_11ec_8465_0242ac1c0002row2_col5\" class=\"data row2 col5\" >65</td>\n",
              "                        <td id=\"T_8d6b0938_40c4_11ec_8465_0242ac1c0002row2_col6\" class=\"data row2 col6\" >0</td>\n",
              "                        <td id=\"T_8d6b0938_40c4_11ec_8465_0242ac1c0002row2_col7\" class=\"data row2 col7\" >0</td>\n",
              "                        <td id=\"T_8d6b0938_40c4_11ec_8465_0242ac1c0002row2_col8\" class=\"data row2 col8\" >0</td>\n",
              "                        <td id=\"T_8d6b0938_40c4_11ec_8465_0242ac1c0002row2_col9\" class=\"data row2 col9\" >0</td>\n",
              "                        <td id=\"T_8d6b0938_40c4_11ec_8465_0242ac1c0002row2_col10\" class=\"data row2 col10\" >0</td>\n",
              "                        <td id=\"T_8d6b0938_40c4_11ec_8465_0242ac1c0002row2_col11\" class=\"data row2 col11\" >0</td>\n",
              "            </tr>\n",
              "            <tr>\n",
              "                        <th id=\"T_8d6b0938_40c4_11ec_8465_0242ac1c0002level0_row3\" class=\"row_heading level0 row3\" >Actually M29-31</th>\n",
              "                        <td id=\"T_8d6b0938_40c4_11ec_8465_0242ac1c0002row3_col0\" class=\"data row3 col0\" >9</td>\n",
              "                        <td id=\"T_8d6b0938_40c4_11ec_8465_0242ac1c0002row3_col1\" class=\"data row3 col1\" >0</td>\n",
              "                        <td id=\"T_8d6b0938_40c4_11ec_8465_0242ac1c0002row3_col2\" class=\"data row3 col2\" >0</td>\n",
              "                        <td id=\"T_8d6b0938_40c4_11ec_8465_0242ac1c0002row3_col3\" class=\"data row3 col3\" >148</td>\n",
              "                        <td id=\"T_8d6b0938_40c4_11ec_8465_0242ac1c0002row3_col4\" class=\"data row3 col4\" >23</td>\n",
              "                        <td id=\"T_8d6b0938_40c4_11ec_8465_0242ac1c0002row3_col5\" class=\"data row3 col5\" >90</td>\n",
              "                        <td id=\"T_8d6b0938_40c4_11ec_8465_0242ac1c0002row3_col6\" class=\"data row3 col6\" >0</td>\n",
              "                        <td id=\"T_8d6b0938_40c4_11ec_8465_0242ac1c0002row3_col7\" class=\"data row3 col7\" >0</td>\n",
              "                        <td id=\"T_8d6b0938_40c4_11ec_8465_0242ac1c0002row3_col8\" class=\"data row3 col8\" >0</td>\n",
              "                        <td id=\"T_8d6b0938_40c4_11ec_8465_0242ac1c0002row3_col9\" class=\"data row3 col9\" >0</td>\n",
              "                        <td id=\"T_8d6b0938_40c4_11ec_8465_0242ac1c0002row3_col10\" class=\"data row3 col10\" >3</td>\n",
              "                        <td id=\"T_8d6b0938_40c4_11ec_8465_0242ac1c0002row3_col11\" class=\"data row3 col11\" >0</td>\n",
              "            </tr>\n",
              "            <tr>\n",
              "                        <th id=\"T_8d6b0938_40c4_11ec_8465_0242ac1c0002level0_row4\" class=\"row_heading level0 row4\" >Actually M32-38</th>\n",
              "                        <td id=\"T_8d6b0938_40c4_11ec_8465_0242ac1c0002row4_col0\" class=\"data row4 col0\" >0</td>\n",
              "                        <td id=\"T_8d6b0938_40c4_11ec_8465_0242ac1c0002row4_col1\" class=\"data row4 col1\" >1</td>\n",
              "                        <td id=\"T_8d6b0938_40c4_11ec_8465_0242ac1c0002row4_col2\" class=\"data row4 col2\" >0</td>\n",
              "                        <td id=\"T_8d6b0938_40c4_11ec_8465_0242ac1c0002row4_col3\" class=\"data row4 col3\" >16</td>\n",
              "                        <td id=\"T_8d6b0938_40c4_11ec_8465_0242ac1c0002row4_col4\" class=\"data row4 col4\" >341</td>\n",
              "                        <td id=\"T_8d6b0938_40c4_11ec_8465_0242ac1c0002row4_col5\" class=\"data row4 col5\" >165</td>\n",
              "                        <td id=\"T_8d6b0938_40c4_11ec_8465_0242ac1c0002row4_col6\" class=\"data row4 col6\" >0</td>\n",
              "                        <td id=\"T_8d6b0938_40c4_11ec_8465_0242ac1c0002row4_col7\" class=\"data row4 col7\" >2</td>\n",
              "                        <td id=\"T_8d6b0938_40c4_11ec_8465_0242ac1c0002row4_col8\" class=\"data row4 col8\" >0</td>\n",
              "                        <td id=\"T_8d6b0938_40c4_11ec_8465_0242ac1c0002row4_col9\" class=\"data row4 col9\" >0</td>\n",
              "                        <td id=\"T_8d6b0938_40c4_11ec_8465_0242ac1c0002row4_col10\" class=\"data row4 col10\" >2</td>\n",
              "                        <td id=\"T_8d6b0938_40c4_11ec_8465_0242ac1c0002row4_col11\" class=\"data row4 col11\" >11</td>\n",
              "            </tr>\n",
              "            <tr>\n",
              "                        <th id=\"T_8d6b0938_40c4_11ec_8465_0242ac1c0002level0_row5\" class=\"row_heading level0 row5\" >Actually M39+</th>\n",
              "                        <td id=\"T_8d6b0938_40c4_11ec_8465_0242ac1c0002row5_col0\" class=\"data row5 col0\" >0</td>\n",
              "                        <td id=\"T_8d6b0938_40c4_11ec_8465_0242ac1c0002row5_col1\" class=\"data row5 col1\" >1</td>\n",
              "                        <td id=\"T_8d6b0938_40c4_11ec_8465_0242ac1c0002row5_col2\" class=\"data row5 col2\" >2</td>\n",
              "                        <td id=\"T_8d6b0938_40c4_11ec_8465_0242ac1c0002row5_col3\" class=\"data row5 col3\" >9</td>\n",
              "                        <td id=\"T_8d6b0938_40c4_11ec_8465_0242ac1c0002row5_col4\" class=\"data row5 col4\" >30</td>\n",
              "                        <td id=\"T_8d6b0938_40c4_11ec_8465_0242ac1c0002row5_col5\" class=\"data row5 col5\" >512</td>\n",
              "                        <td id=\"T_8d6b0938_40c4_11ec_8465_0242ac1c0002row5_col6\" class=\"data row5 col6\" >0</td>\n",
              "                        <td id=\"T_8d6b0938_40c4_11ec_8465_0242ac1c0002row5_col7\" class=\"data row5 col7\" >1</td>\n",
              "                        <td id=\"T_8d6b0938_40c4_11ec_8465_0242ac1c0002row5_col8\" class=\"data row5 col8\" >0</td>\n",
              "                        <td id=\"T_8d6b0938_40c4_11ec_8465_0242ac1c0002row5_col9\" class=\"data row5 col9\" >1</td>\n",
              "                        <td id=\"T_8d6b0938_40c4_11ec_8465_0242ac1c0002row5_col10\" class=\"data row5 col10\" >11</td>\n",
              "                        <td id=\"T_8d6b0938_40c4_11ec_8465_0242ac1c0002row5_col11\" class=\"data row5 col11\" >2</td>\n",
              "            </tr>\n",
              "            <tr>\n",
              "                        <th id=\"T_8d6b0938_40c4_11ec_8465_0242ac1c0002level0_row6\" class=\"row_heading level0 row6\" >Actually F23-</th>\n",
              "                        <td id=\"T_8d6b0938_40c4_11ec_8465_0242ac1c0002row6_col0\" class=\"data row6 col0\" >0</td>\n",
              "                        <td id=\"T_8d6b0938_40c4_11ec_8465_0242ac1c0002row6_col1\" class=\"data row6 col1\" >0</td>\n",
              "                        <td id=\"T_8d6b0938_40c4_11ec_8465_0242ac1c0002row6_col2\" class=\"data row6 col2\" >0</td>\n",
              "                        <td id=\"T_8d6b0938_40c4_11ec_8465_0242ac1c0002row6_col3\" class=\"data row6 col3\" >1</td>\n",
              "                        <td id=\"T_8d6b0938_40c4_11ec_8465_0242ac1c0002row6_col4\" class=\"data row6 col4\" >3</td>\n",
              "                        <td id=\"T_8d6b0938_40c4_11ec_8465_0242ac1c0002row6_col5\" class=\"data row6 col5\" >14</td>\n",
              "                        <td id=\"T_8d6b0938_40c4_11ec_8465_0242ac1c0002row6_col6\" class=\"data row6 col6\" >21</td>\n",
              "                        <td id=\"T_8d6b0938_40c4_11ec_8465_0242ac1c0002row6_col7\" class=\"data row6 col7\" >0</td>\n",
              "                        <td id=\"T_8d6b0938_40c4_11ec_8465_0242ac1c0002row6_col8\" class=\"data row6 col8\" >0</td>\n",
              "                        <td id=\"T_8d6b0938_40c4_11ec_8465_0242ac1c0002row6_col9\" class=\"data row6 col9\" >0</td>\n",
              "                        <td id=\"T_8d6b0938_40c4_11ec_8465_0242ac1c0002row6_col10\" class=\"data row6 col10\" >0</td>\n",
              "                        <td id=\"T_8d6b0938_40c4_11ec_8465_0242ac1c0002row6_col11\" class=\"data row6 col11\" >0</td>\n",
              "            </tr>\n",
              "            <tr>\n",
              "                        <th id=\"T_8d6b0938_40c4_11ec_8465_0242ac1c0002level0_row7\" class=\"row_heading level0 row7\" >Actually F24-26</th>\n",
              "                        <td id=\"T_8d6b0938_40c4_11ec_8465_0242ac1c0002row7_col0\" class=\"data row7 col0\" >0</td>\n",
              "                        <td id=\"T_8d6b0938_40c4_11ec_8465_0242ac1c0002row7_col1\" class=\"data row7 col1\" >0</td>\n",
              "                        <td id=\"T_8d6b0938_40c4_11ec_8465_0242ac1c0002row7_col2\" class=\"data row7 col2\" >0</td>\n",
              "                        <td id=\"T_8d6b0938_40c4_11ec_8465_0242ac1c0002row7_col3\" class=\"data row7 col3\" >0</td>\n",
              "                        <td id=\"T_8d6b0938_40c4_11ec_8465_0242ac1c0002row7_col4\" class=\"data row7 col4\" >6</td>\n",
              "                        <td id=\"T_8d6b0938_40c4_11ec_8465_0242ac1c0002row7_col5\" class=\"data row7 col5\" >7</td>\n",
              "                        <td id=\"T_8d6b0938_40c4_11ec_8465_0242ac1c0002row7_col6\" class=\"data row7 col6\" >0</td>\n",
              "                        <td id=\"T_8d6b0938_40c4_11ec_8465_0242ac1c0002row7_col7\" class=\"data row7 col7\" >15</td>\n",
              "                        <td id=\"T_8d6b0938_40c4_11ec_8465_0242ac1c0002row7_col8\" class=\"data row7 col8\" >0</td>\n",
              "                        <td id=\"T_8d6b0938_40c4_11ec_8465_0242ac1c0002row7_col9\" class=\"data row7 col9\" >0</td>\n",
              "                        <td id=\"T_8d6b0938_40c4_11ec_8465_0242ac1c0002row7_col10\" class=\"data row7 col10\" >0</td>\n",
              "                        <td id=\"T_8d6b0938_40c4_11ec_8465_0242ac1c0002row7_col11\" class=\"data row7 col11\" >0</td>\n",
              "            </tr>\n",
              "            <tr>\n",
              "                        <th id=\"T_8d6b0938_40c4_11ec_8465_0242ac1c0002level0_row8\" class=\"row_heading level0 row8\" >Actually F27-28</th>\n",
              "                        <td id=\"T_8d6b0938_40c4_11ec_8465_0242ac1c0002row8_col0\" class=\"data row8 col0\" >0</td>\n",
              "                        <td id=\"T_8d6b0938_40c4_11ec_8465_0242ac1c0002row8_col1\" class=\"data row8 col1\" >0</td>\n",
              "                        <td id=\"T_8d6b0938_40c4_11ec_8465_0242ac1c0002row8_col2\" class=\"data row8 col2\" >0</td>\n",
              "                        <td id=\"T_8d6b0938_40c4_11ec_8465_0242ac1c0002row8_col3\" class=\"data row8 col3\" >4</td>\n",
              "                        <td id=\"T_8d6b0938_40c4_11ec_8465_0242ac1c0002row8_col4\" class=\"data row8 col4\" >0</td>\n",
              "                        <td id=\"T_8d6b0938_40c4_11ec_8465_0242ac1c0002row8_col5\" class=\"data row8 col5\" >24</td>\n",
              "                        <td id=\"T_8d6b0938_40c4_11ec_8465_0242ac1c0002row8_col6\" class=\"data row8 col6\" >0</td>\n",
              "                        <td id=\"T_8d6b0938_40c4_11ec_8465_0242ac1c0002row8_col7\" class=\"data row8 col7\" >0</td>\n",
              "                        <td id=\"T_8d6b0938_40c4_11ec_8465_0242ac1c0002row8_col8\" class=\"data row8 col8\" >28</td>\n",
              "                        <td id=\"T_8d6b0938_40c4_11ec_8465_0242ac1c0002row8_col9\" class=\"data row8 col9\" >0</td>\n",
              "                        <td id=\"T_8d6b0938_40c4_11ec_8465_0242ac1c0002row8_col10\" class=\"data row8 col10\" >0</td>\n",
              "                        <td id=\"T_8d6b0938_40c4_11ec_8465_0242ac1c0002row8_col11\" class=\"data row8 col11\" >0</td>\n",
              "            </tr>\n",
              "            <tr>\n",
              "                        <th id=\"T_8d6b0938_40c4_11ec_8465_0242ac1c0002level0_row9\" class=\"row_heading level0 row9\" >Actually F29-32</th>\n",
              "                        <td id=\"T_8d6b0938_40c4_11ec_8465_0242ac1c0002row9_col0\" class=\"data row9 col0\" >0</td>\n",
              "                        <td id=\"T_8d6b0938_40c4_11ec_8465_0242ac1c0002row9_col1\" class=\"data row9 col1\" >0</td>\n",
              "                        <td id=\"T_8d6b0938_40c4_11ec_8465_0242ac1c0002row9_col2\" class=\"data row9 col2\" >0</td>\n",
              "                        <td id=\"T_8d6b0938_40c4_11ec_8465_0242ac1c0002row9_col3\" class=\"data row9 col3\" >0</td>\n",
              "                        <td id=\"T_8d6b0938_40c4_11ec_8465_0242ac1c0002row9_col4\" class=\"data row9 col4\" >3</td>\n",
              "                        <td id=\"T_8d6b0938_40c4_11ec_8465_0242ac1c0002row9_col5\" class=\"data row9 col5\" >29</td>\n",
              "                        <td id=\"T_8d6b0938_40c4_11ec_8465_0242ac1c0002row9_col6\" class=\"data row9 col6\" >0</td>\n",
              "                        <td id=\"T_8d6b0938_40c4_11ec_8465_0242ac1c0002row9_col7\" class=\"data row9 col7\" >0</td>\n",
              "                        <td id=\"T_8d6b0938_40c4_11ec_8465_0242ac1c0002row9_col8\" class=\"data row9 col8\" >0</td>\n",
              "                        <td id=\"T_8d6b0938_40c4_11ec_8465_0242ac1c0002row9_col9\" class=\"data row9 col9\" >49</td>\n",
              "                        <td id=\"T_8d6b0938_40c4_11ec_8465_0242ac1c0002row9_col10\" class=\"data row9 col10\" >0</td>\n",
              "                        <td id=\"T_8d6b0938_40c4_11ec_8465_0242ac1c0002row9_col11\" class=\"data row9 col11\" >0</td>\n",
              "            </tr>\n",
              "            <tr>\n",
              "                        <th id=\"T_8d6b0938_40c4_11ec_8465_0242ac1c0002level0_row10\" class=\"row_heading level0 row10\" >Actually F33-42</th>\n",
              "                        <td id=\"T_8d6b0938_40c4_11ec_8465_0242ac1c0002row10_col0\" class=\"data row10 col0\" >2</td>\n",
              "                        <td id=\"T_8d6b0938_40c4_11ec_8465_0242ac1c0002row10_col1\" class=\"data row10 col1\" >0</td>\n",
              "                        <td id=\"T_8d6b0938_40c4_11ec_8465_0242ac1c0002row10_col2\" class=\"data row10 col2\" >0</td>\n",
              "                        <td id=\"T_8d6b0938_40c4_11ec_8465_0242ac1c0002row10_col3\" class=\"data row10 col3\" >2</td>\n",
              "                        <td id=\"T_8d6b0938_40c4_11ec_8465_0242ac1c0002row10_col4\" class=\"data row10 col4\" >3</td>\n",
              "                        <td id=\"T_8d6b0938_40c4_11ec_8465_0242ac1c0002row10_col5\" class=\"data row10 col5\" >53</td>\n",
              "                        <td id=\"T_8d6b0938_40c4_11ec_8465_0242ac1c0002row10_col6\" class=\"data row10 col6\" >0</td>\n",
              "                        <td id=\"T_8d6b0938_40c4_11ec_8465_0242ac1c0002row10_col7\" class=\"data row10 col7\" >0</td>\n",
              "                        <td id=\"T_8d6b0938_40c4_11ec_8465_0242ac1c0002row10_col8\" class=\"data row10 col8\" >0</td>\n",
              "                        <td id=\"T_8d6b0938_40c4_11ec_8465_0242ac1c0002row10_col9\" class=\"data row10 col9\" >0</td>\n",
              "                        <td id=\"T_8d6b0938_40c4_11ec_8465_0242ac1c0002row10_col10\" class=\"data row10 col10\" >76</td>\n",
              "                        <td id=\"T_8d6b0938_40c4_11ec_8465_0242ac1c0002row10_col11\" class=\"data row10 col11\" >1</td>\n",
              "            </tr>\n",
              "            <tr>\n",
              "                        <th id=\"T_8d6b0938_40c4_11ec_8465_0242ac1c0002level0_row11\" class=\"row_heading level0 row11\" >Actually F43+</th>\n",
              "                        <td id=\"T_8d6b0938_40c4_11ec_8465_0242ac1c0002row11_col0\" class=\"data row11 col0\" >0</td>\n",
              "                        <td id=\"T_8d6b0938_40c4_11ec_8465_0242ac1c0002row11_col1\" class=\"data row11 col1\" >0</td>\n",
              "                        <td id=\"T_8d6b0938_40c4_11ec_8465_0242ac1c0002row11_col2\" class=\"data row11 col2\" >0</td>\n",
              "                        <td id=\"T_8d6b0938_40c4_11ec_8465_0242ac1c0002row11_col3\" class=\"data row11 col3\" >7</td>\n",
              "                        <td id=\"T_8d6b0938_40c4_11ec_8465_0242ac1c0002row11_col4\" class=\"data row11 col4\" >23</td>\n",
              "                        <td id=\"T_8d6b0938_40c4_11ec_8465_0242ac1c0002row11_col5\" class=\"data row11 col5\" >54</td>\n",
              "                        <td id=\"T_8d6b0938_40c4_11ec_8465_0242ac1c0002row11_col6\" class=\"data row11 col6\" >0</td>\n",
              "                        <td id=\"T_8d6b0938_40c4_11ec_8465_0242ac1c0002row11_col7\" class=\"data row11 col7\" >0</td>\n",
              "                        <td id=\"T_8d6b0938_40c4_11ec_8465_0242ac1c0002row11_col8\" class=\"data row11 col8\" >0</td>\n",
              "                        <td id=\"T_8d6b0938_40c4_11ec_8465_0242ac1c0002row11_col9\" class=\"data row11 col9\" >0</td>\n",
              "                        <td id=\"T_8d6b0938_40c4_11ec_8465_0242ac1c0002row11_col10\" class=\"data row11 col10\" >2</td>\n",
              "                        <td id=\"T_8d6b0938_40c4_11ec_8465_0242ac1c0002row11_col11\" class=\"data row11 col11\" >86</td>\n",
              "            </tr>\n",
              "    </tbody></table>"
            ],
            "text/plain": [
              "<pandas.io.formats.style.Styler at 0x7f5c88305310>"
            ]
          },
          "metadata": {},
          "execution_count": 67
        }
      ]
    },
    {
      "cell_type": "code",
      "metadata": {
        "colab": {
          "base_uri": "https://localhost:8080/"
        },
        "id": "OFASU9ankSAg",
        "outputId": "e4696886-9adc-48f8-dca9-34fe9390f3fb"
      },
      "source": [
        "print(\"Classification Report:\")\n",
        "print()\n",
        "print(classification_report(y_test, y_pred))"
      ],
      "execution_count": null,
      "outputs": [
        {
          "output_type": "stream",
          "name": "stdout",
          "text": [
            "Classification Report:\n",
            "\n",
            "              precision    recall  f1-score   support\n",
            "\n",
            "           0       0.77      0.47      0.59       127\n",
            "           1       0.94      0.59      0.73       250\n",
            "           2       0.98      0.61      0.75       177\n",
            "           3       0.74      0.54      0.63       273\n",
            "           4       0.76      0.63      0.69       538\n",
            "           5       0.45      0.90      0.60       569\n",
            "           6       1.00      0.54      0.70        39\n",
            "           7       0.83      0.54      0.65        28\n",
            "           8       1.00      0.50      0.67        56\n",
            "           9       0.98      0.60      0.75        81\n",
            "          10       0.81      0.55      0.66       137\n",
            "          11       0.86      0.50      0.63       172\n",
            "\n",
            "    accuracy                           0.65      2447\n",
            "   macro avg       0.84      0.58      0.67      2447\n",
            "weighted avg       0.75      0.65      0.66      2447\n",
            "\n"
          ]
        }
      ]
    },
    {
      "cell_type": "markdown",
      "metadata": {
        "id": "o_IkLlnPjD-_"
      },
      "source": [
        "# Gradient Boosting Classifier"
      ]
    },
    {
      "cell_type": "code",
      "metadata": {
        "id": "I53CDjWukUpx"
      },
      "source": [
        "pipeline = Pipeline(\n",
        "    [\n",
        "        (\"scaler\", StandardScaler()),\n",
        "        (\"pca\", PCA(n_components=n_components)),\n",
        "        (\"gb\", GradientBoostingClassifier()),\n",
        "    ]\n",
        ")\n",
        "pipeline = pipeline.fit(X_train, y_train)\n"
      ],
      "execution_count": null,
      "outputs": []
    },
    {
      "cell_type": "code",
      "metadata": {
        "colab": {
          "base_uri": "https://localhost:8080/"
        },
        "id": "p0Yu_fE5kUsh",
        "outputId": "c8ff1011-ab7e-45aa-d2b4-ac0462ca0e3f"
      },
      "source": [
        "grid = {'gb__n_estimators': [100], \n",
        "          'gb__max_depth': [5],\n",
        "          'gb__loss': ['deviance']}\n",
        "\n",
        "model = GridSearchCV(pipeline, grid, verbose=1, cv=3)\n",
        "model.fit(X_train, y_train)\n"
      ],
      "execution_count": null,
      "outputs": [
        {
          "output_type": "stream",
          "name": "stdout",
          "text": [
            "Fitting 3 folds for each of 1 candidates, totalling 3 fits\n"
          ]
        },
        {
          "output_type": "stream",
          "name": "stderr",
          "text": [
            "[Parallel(n_jobs=1)]: Using backend SequentialBackend with 1 concurrent workers.\n",
            "[Parallel(n_jobs=1)]: Done   3 out of   3 | elapsed: 10.1min finished\n"
          ]
        },
        {
          "output_type": "execute_result",
          "data": {
            "text/plain": [
              "GridSearchCV(cv=3, error_score=nan,\n",
              "             estimator=Pipeline(memory=None,\n",
              "                                steps=[('scaler',\n",
              "                                        StandardScaler(copy=True,\n",
              "                                                       with_mean=True,\n",
              "                                                       with_std=True)),\n",
              "                                       ('pca',\n",
              "                                        PCA(copy=True, iterated_power='auto',\n",
              "                                            n_components=47, random_state=None,\n",
              "                                            svd_solver='auto', tol=0.0,\n",
              "                                            whiten=False)),\n",
              "                                       ('gb',\n",
              "                                        GradientBoostingClassifier(ccp_alpha=0.0,\n",
              "                                                                   criterion='friedman_mse',\n",
              "                                                                   init=None,\n",
              "                                                                   learning_rat...\n",
              "                                                                   n_estimators=100,\n",
              "                                                                   n_iter_no_change=None,\n",
              "                                                                   presort='deprecated',\n",
              "                                                                   random_state=None,\n",
              "                                                                   subsample=1.0,\n",
              "                                                                   tol=0.0001,\n",
              "                                                                   validation_fraction=0.1,\n",
              "                                                                   verbose=0,\n",
              "                                                                   warm_start=False))],\n",
              "                                verbose=False),\n",
              "             iid='deprecated', n_jobs=None,\n",
              "             param_grid={'gb__loss': ['deviance'], 'gb__max_depth': [5],\n",
              "                         'gb__n_estimators': [100]},\n",
              "             pre_dispatch='2*n_jobs', refit=True, return_train_score=False,\n",
              "             scoring=None, verbose=1)"
            ]
          },
          "metadata": {},
          "execution_count": 70
        }
      ]
    },
    {
      "cell_type": "code",
      "metadata": {
        "colab": {
          "base_uri": "https://localhost:8080/"
        },
        "id": "wvPaWiMvkUu-",
        "outputId": "49f75eba-0b0b-420a-f718-c9da20b32bdd"
      },
      "source": [
        "model.best_params_  "
      ],
      "execution_count": null,
      "outputs": [
        {
          "output_type": "execute_result",
          "data": {
            "text/plain": [
              "{'gb__loss': 'deviance', 'gb__max_depth': 5, 'gb__n_estimators': 100}"
            ]
          },
          "metadata": {},
          "execution_count": 71
        }
      ]
    },
    {
      "cell_type": "code",
      "metadata": {
        "colab": {
          "base_uri": "https://localhost:8080/"
        },
        "id": "4Bp4iDxtnubH",
        "outputId": "80b86444-385f-4d53-ad4b-197cc9b4d06d"
      },
      "source": [
        "# Model still appears to be extremely overfitting\n",
        "train_score = model.score(X_train, y_train)\n",
        "test_score = model.score(X_test, y_test)\n",
        "\n",
        "print(f\"Train score: {train_score}\")\n",
        "print(f\"Test score: {test_score}\")\n"
      ],
      "execution_count": null,
      "outputs": [
        {
          "output_type": "stream",
          "name": "stdout",
          "text": [
            "Train score: 0.9033115290269829\n",
            "Test score: 0.7711483449121374\n"
          ]
        }
      ]
    },
    {
      "cell_type": "code",
      "metadata": {
        "colab": {
          "base_uri": "https://localhost:8080/",
          "height": 416
        },
        "id": "VlW05Xj2kUxM",
        "outputId": "9faa8ac3-645f-4053-d244-a2ca95d2ac6f"
      },
      "source": [
        "y_pred = model.predict(X_test)\n",
        "\n",
        "con_mat = pd.DataFrame(\n",
        "    confusion_matrix(y_test, y_pred),\n",
        "    index=[\n",
        "        \"Actual M22-\",\n",
        "        \"Actual M23-26\",\n",
        "        \"Actual M27-28\",\n",
        "        \"Actual M29-31\",\n",
        "        \"Actual M32-38\",\n",
        "        \"Actual M39+\",\n",
        "        \"Actual F23-\",\n",
        "        \"Actual F24-26\",\n",
        "        \"Actual F27-28\",\n",
        "        \"Actual F29-32\",\n",
        "        \"Actual F33-42\",\n",
        "        \"Actual F43+\",\n",
        "    ],\n",
        "    columns=[\n",
        "        \"Predicted M22-\",\n",
        "        \"Predicted M23-26\",\n",
        "        \"Predicted M27-28\",\n",
        "        \"Predicted M29-31\",\n",
        "        \"Predicted M32-38\",\n",
        "        \"Predicted M39+\",\n",
        "        \"Predicted F23-\",\n",
        "        \"Predicted F24-26\",\n",
        "        \"Predicted F27-28\",\n",
        "        \"Predicted F29-32\",\n",
        "        \"Predicted F33-42\",\n",
        "        \"Predicted F43+\",\n",
        "    ],\n",
        ")\n",
        "con_mat.style.background_gradient(axis=None)\n"
      ],
      "execution_count": null,
      "outputs": [
        {
          "output_type": "execute_result",
          "data": {
            "text/html": [
              "<style  type=\"text/css\" >\n",
              "#T_18fef854_40c7_11ec_8465_0242ac1c0002row0_col0{\n",
              "            background-color:  #dbdaeb;\n",
              "            color:  #000000;\n",
              "        }#T_18fef854_40c7_11ec_8465_0242ac1c0002row0_col1,#T_18fef854_40c7_11ec_8465_0242ac1c0002row1_col0,#T_18fef854_40c7_11ec_8465_0242ac1c0002row1_col9,#T_18fef854_40c7_11ec_8465_0242ac1c0002row1_col11,#T_18fef854_40c7_11ec_8465_0242ac1c0002row2_col3,#T_18fef854_40c7_11ec_8465_0242ac1c0002row2_col10,#T_18fef854_40c7_11ec_8465_0242ac1c0002row3_col1,#T_18fef854_40c7_11ec_8465_0242ac1c0002row3_col2,#T_18fef854_40c7_11ec_8465_0242ac1c0002row3_col7,#T_18fef854_40c7_11ec_8465_0242ac1c0002row3_col8,#T_18fef854_40c7_11ec_8465_0242ac1c0002row3_col11,#T_18fef854_40c7_11ec_8465_0242ac1c0002row4_col9,#T_18fef854_40c7_11ec_8465_0242ac1c0002row4_col10,#T_18fef854_40c7_11ec_8465_0242ac1c0002row5_col7,#T_18fef854_40c7_11ec_8465_0242ac1c0002row5_col11,#T_18fef854_40c7_11ec_8465_0242ac1c0002row6_col3,#T_18fef854_40c7_11ec_8465_0242ac1c0002row6_col5,#T_18fef854_40c7_11ec_8465_0242ac1c0002row8_col1,#T_18fef854_40c7_11ec_8465_0242ac1c0002row8_col3,#T_18fef854_40c7_11ec_8465_0242ac1c0002row8_col4,#T_18fef854_40c7_11ec_8465_0242ac1c0002row9_col2,#T_18fef854_40c7_11ec_8465_0242ac1c0002row10_col1,#T_18fef854_40c7_11ec_8465_0242ac1c0002row10_col7,#T_18fef854_40c7_11ec_8465_0242ac1c0002row10_col11,#T_18fef854_40c7_11ec_8465_0242ac1c0002row11_col1,#T_18fef854_40c7_11ec_8465_0242ac1c0002row11_col10{\n",
              "            background-color:  #fef6fb;\n",
              "            color:  #000000;\n",
              "        }#T_18fef854_40c7_11ec_8465_0242ac1c0002row0_col2,#T_18fef854_40c7_11ec_8465_0242ac1c0002row0_col6,#T_18fef854_40c7_11ec_8465_0242ac1c0002row0_col7,#T_18fef854_40c7_11ec_8465_0242ac1c0002row0_col8,#T_18fef854_40c7_11ec_8465_0242ac1c0002row0_col9,#T_18fef854_40c7_11ec_8465_0242ac1c0002row0_col10,#T_18fef854_40c7_11ec_8465_0242ac1c0002row0_col11,#T_18fef854_40c7_11ec_8465_0242ac1c0002row1_col6,#T_18fef854_40c7_11ec_8465_0242ac1c0002row1_col7,#T_18fef854_40c7_11ec_8465_0242ac1c0002row1_col8,#T_18fef854_40c7_11ec_8465_0242ac1c0002row1_col10,#T_18fef854_40c7_11ec_8465_0242ac1c0002row2_col6,#T_18fef854_40c7_11ec_8465_0242ac1c0002row2_col7,#T_18fef854_40c7_11ec_8465_0242ac1c0002row2_col8,#T_18fef854_40c7_11ec_8465_0242ac1c0002row2_col9,#T_18fef854_40c7_11ec_8465_0242ac1c0002row2_col11,#T_18fef854_40c7_11ec_8465_0242ac1c0002row3_col6,#T_18fef854_40c7_11ec_8465_0242ac1c0002row3_col9,#T_18fef854_40c7_11ec_8465_0242ac1c0002row4_col0,#T_18fef854_40c7_11ec_8465_0242ac1c0002row4_col1,#T_18fef854_40c7_11ec_8465_0242ac1c0002row4_col2,#T_18fef854_40c7_11ec_8465_0242ac1c0002row4_col6,#T_18fef854_40c7_11ec_8465_0242ac1c0002row4_col8,#T_18fef854_40c7_11ec_8465_0242ac1c0002row5_col6,#T_18fef854_40c7_11ec_8465_0242ac1c0002row5_col8,#T_18fef854_40c7_11ec_8465_0242ac1c0002row6_col0,#T_18fef854_40c7_11ec_8465_0242ac1c0002row6_col1,#T_18fef854_40c7_11ec_8465_0242ac1c0002row6_col2,#T_18fef854_40c7_11ec_8465_0242ac1c0002row6_col7,#T_18fef854_40c7_11ec_8465_0242ac1c0002row6_col8,#T_18fef854_40c7_11ec_8465_0242ac1c0002row6_col9,#T_18fef854_40c7_11ec_8465_0242ac1c0002row6_col11,#T_18fef854_40c7_11ec_8465_0242ac1c0002row7_col0,#T_18fef854_40c7_11ec_8465_0242ac1c0002row7_col1,#T_18fef854_40c7_11ec_8465_0242ac1c0002row7_col2,#T_18fef854_40c7_11ec_8465_0242ac1c0002row7_col3,#T_18fef854_40c7_11ec_8465_0242ac1c0002row7_col4,#T_18fef854_40c7_11ec_8465_0242ac1c0002row7_col6,#T_18fef854_40c7_11ec_8465_0242ac1c0002row7_col8,#T_18fef854_40c7_11ec_8465_0242ac1c0002row7_col9,#T_18fef854_40c7_11ec_8465_0242ac1c0002row7_col10,#T_18fef854_40c7_11ec_8465_0242ac1c0002row7_col11,#T_18fef854_40c7_11ec_8465_0242ac1c0002row8_col0,#T_18fef854_40c7_11ec_8465_0242ac1c0002row8_col2,#T_18fef854_40c7_11ec_8465_0242ac1c0002row8_col6,#T_18fef854_40c7_11ec_8465_0242ac1c0002row8_col7,#T_18fef854_40c7_11ec_8465_0242ac1c0002row8_col9,#T_18fef854_40c7_11ec_8465_0242ac1c0002row8_col10,#T_18fef854_40c7_11ec_8465_0242ac1c0002row8_col11,#T_18fef854_40c7_11ec_8465_0242ac1c0002row9_col0,#T_18fef854_40c7_11ec_8465_0242ac1c0002row9_col1,#T_18fef854_40c7_11ec_8465_0242ac1c0002row9_col3,#T_18fef854_40c7_11ec_8465_0242ac1c0002row9_col6,#T_18fef854_40c7_11ec_8465_0242ac1c0002row9_col7,#T_18fef854_40c7_11ec_8465_0242ac1c0002row9_col8,#T_18fef854_40c7_11ec_8465_0242ac1c0002row9_col10,#T_18fef854_40c7_11ec_8465_0242ac1c0002row9_col11,#T_18fef854_40c7_11ec_8465_0242ac1c0002row10_col0,#T_18fef854_40c7_11ec_8465_0242ac1c0002row10_col2,#T_18fef854_40c7_11ec_8465_0242ac1c0002row10_col3,#T_18fef854_40c7_11ec_8465_0242ac1c0002row10_col6,#T_18fef854_40c7_11ec_8465_0242ac1c0002row10_col8,#T_18fef854_40c7_11ec_8465_0242ac1c0002row10_col9,#T_18fef854_40c7_11ec_8465_0242ac1c0002row11_col0,#T_18fef854_40c7_11ec_8465_0242ac1c0002row11_col6,#T_18fef854_40c7_11ec_8465_0242ac1c0002row11_col7,#T_18fef854_40c7_11ec_8465_0242ac1c0002row11_col8,#T_18fef854_40c7_11ec_8465_0242ac1c0002row11_col9{\n",
              "            background-color:  #fff7fb;\n",
              "            color:  #000000;\n",
              "        }#T_18fef854_40c7_11ec_8465_0242ac1c0002row0_col3,#T_18fef854_40c7_11ec_8465_0242ac1c0002row1_col3,#T_18fef854_40c7_11ec_8465_0242ac1c0002row2_col0,#T_18fef854_40c7_11ec_8465_0242ac1c0002row2_col4,#T_18fef854_40c7_11ec_8465_0242ac1c0002row5_col2,#T_18fef854_40c7_11ec_8465_0242ac1c0002row5_col9,#T_18fef854_40c7_11ec_8465_0242ac1c0002row6_col4,#T_18fef854_40c7_11ec_8465_0242ac1c0002row6_col10,#T_18fef854_40c7_11ec_8465_0242ac1c0002row8_col5,#T_18fef854_40c7_11ec_8465_0242ac1c0002row9_col4,#T_18fef854_40c7_11ec_8465_0242ac1c0002row9_col5,#T_18fef854_40c7_11ec_8465_0242ac1c0002row10_col4,#T_18fef854_40c7_11ec_8465_0242ac1c0002row11_col2{\n",
              "            background-color:  #fef6fa;\n",
              "            color:  #000000;\n",
              "        }#T_18fef854_40c7_11ec_8465_0242ac1c0002row0_col4,#T_18fef854_40c7_11ec_8465_0242ac1c0002row1_col2,#T_18fef854_40c7_11ec_8465_0242ac1c0002row1_col4,#T_18fef854_40c7_11ec_8465_0242ac1c0002row3_col0,#T_18fef854_40c7_11ec_8465_0242ac1c0002row3_col10,#T_18fef854_40c7_11ec_8465_0242ac1c0002row4_col7,#T_18fef854_40c7_11ec_8465_0242ac1c0002row5_col0,#T_18fef854_40c7_11ec_8465_0242ac1c0002row7_col5,#T_18fef854_40c7_11ec_8465_0242ac1c0002row11_col3{\n",
              "            background-color:  #fdf5fa;\n",
              "            color:  #000000;\n",
              "        }#T_18fef854_40c7_11ec_8465_0242ac1c0002row0_col5,#T_18fef854_40c7_11ec_8465_0242ac1c0002row7_col7,#T_18fef854_40c7_11ec_8465_0242ac1c0002row10_col5{\n",
              "            background-color:  #f9f2f8;\n",
              "            color:  #000000;\n",
              "        }#T_18fef854_40c7_11ec_8465_0242ac1c0002row1_col1{\n",
              "            background-color:  #8bb2d4;\n",
              "            color:  #000000;\n",
              "        }#T_18fef854_40c7_11ec_8465_0242ac1c0002row1_col5,#T_18fef854_40c7_11ec_8465_0242ac1c0002row4_col11{\n",
              "            background-color:  #faf3f9;\n",
              "            color:  #000000;\n",
              "        }#T_18fef854_40c7_11ec_8465_0242ac1c0002row2_col1,#T_18fef854_40c7_11ec_8465_0242ac1c0002row5_col1{\n",
              "            background-color:  #fbf4f9;\n",
              "            color:  #000000;\n",
              "        }#T_18fef854_40c7_11ec_8465_0242ac1c0002row2_col2{\n",
              "            background-color:  #c0c9e2;\n",
              "            color:  #000000;\n",
              "        }#T_18fef854_40c7_11ec_8465_0242ac1c0002row2_col5,#T_18fef854_40c7_11ec_8465_0242ac1c0002row5_col3{\n",
              "            background-color:  #fbf3f9;\n",
              "            color:  #000000;\n",
              "        }#T_18fef854_40c7_11ec_8465_0242ac1c0002row3_col3{\n",
              "            background-color:  #99b8d8;\n",
              "            color:  #000000;\n",
              "        }#T_18fef854_40c7_11ec_8465_0242ac1c0002row3_col4,#T_18fef854_40c7_11ec_8465_0242ac1c0002row11_col4{\n",
              "            background-color:  #f5eff6;\n",
              "            color:  #000000;\n",
              "        }#T_18fef854_40c7_11ec_8465_0242ac1c0002row3_col5,#T_18fef854_40c7_11ec_8465_0242ac1c0002row6_col6{\n",
              "            background-color:  #f7f0f7;\n",
              "            color:  #000000;\n",
              "        }#T_18fef854_40c7_11ec_8465_0242ac1c0002row4_col3,#T_18fef854_40c7_11ec_8465_0242ac1c0002row11_col5{\n",
              "            background-color:  #f8f1f8;\n",
              "            color:  #000000;\n",
              "        }#T_18fef854_40c7_11ec_8465_0242ac1c0002row4_col4{\n",
              "            background-color:  #034871;\n",
              "            color:  #f1f1f1;\n",
              "        }#T_18fef854_40c7_11ec_8465_0242ac1c0002row4_col5{\n",
              "            background-color:  #efe9f3;\n",
              "            color:  #000000;\n",
              "        }#T_18fef854_40c7_11ec_8465_0242ac1c0002row5_col4{\n",
              "            background-color:  #f1ebf5;\n",
              "            color:  #000000;\n",
              "        }#T_18fef854_40c7_11ec_8465_0242ac1c0002row5_col5{\n",
              "            background-color:  #023858;\n",
              "            color:  #f1f1f1;\n",
              "        }#T_18fef854_40c7_11ec_8465_0242ac1c0002row5_col10{\n",
              "            background-color:  #faf2f8;\n",
              "            color:  #000000;\n",
              "        }#T_18fef854_40c7_11ec_8465_0242ac1c0002row8_col8{\n",
              "            background-color:  #f2ecf5;\n",
              "            color:  #000000;\n",
              "        }#T_18fef854_40c7_11ec_8465_0242ac1c0002row9_col9{\n",
              "            background-color:  #e7e3f0;\n",
              "            color:  #000000;\n",
              "        }#T_18fef854_40c7_11ec_8465_0242ac1c0002row10_col10,#T_18fef854_40c7_11ec_8465_0242ac1c0002row11_col11{\n",
              "            background-color:  #d5d5e8;\n",
              "            color:  #000000;\n",
              "        }</style><table id=\"T_18fef854_40c7_11ec_8465_0242ac1c0002\" class=\"dataframe\"><thead>    <tr>        <th class=\"blank level0\" ></th>        <th class=\"col_heading level0 col0\" >Predicted M22-</th>        <th class=\"col_heading level0 col1\" >Predicted M23-26</th>        <th class=\"col_heading level0 col2\" >Predicted M27-28</th>        <th class=\"col_heading level0 col3\" >Predicted M29-31</th>        <th class=\"col_heading level0 col4\" >Predicted M32-38</th>        <th class=\"col_heading level0 col5\" >Predicted M39+</th>        <th class=\"col_heading level0 col6\" >Predicted F23-</th>        <th class=\"col_heading level0 col7\" >Predicted F24-26</th>        <th class=\"col_heading level0 col8\" >Predicted F27-28</th>        <th class=\"col_heading level0 col9\" >Predicted F29-32</th>        <th class=\"col_heading level0 col10\" >Predicted F33-42</th>        <th class=\"col_heading level0 col11\" >Predicted F43+</th>    </tr></thead><tbody>\n",
              "                <tr>\n",
              "                        <th id=\"T_18fef854_40c7_11ec_8465_0242ac1c0002level0_row0\" class=\"row_heading level0 row0\" >Actual M22-</th>\n",
              "                        <td id=\"T_18fef854_40c7_11ec_8465_0242ac1c0002row0_col0\" class=\"data row0 col0\" >93</td>\n",
              "                        <td id=\"T_18fef854_40c7_11ec_8465_0242ac1c0002row0_col1\" class=\"data row0 col1\" >3</td>\n",
              "                        <td id=\"T_18fef854_40c7_11ec_8465_0242ac1c0002row0_col2\" class=\"data row0 col2\" >1</td>\n",
              "                        <td id=\"T_18fef854_40c7_11ec_8465_0242ac1c0002row0_col3\" class=\"data row0 col3\" >5</td>\n",
              "                        <td id=\"T_18fef854_40c7_11ec_8465_0242ac1c0002row0_col4\" class=\"data row0 col4\" >6</td>\n",
              "                        <td id=\"T_18fef854_40c7_11ec_8465_0242ac1c0002row0_col5\" class=\"data row0 col5\" >19</td>\n",
              "                        <td id=\"T_18fef854_40c7_11ec_8465_0242ac1c0002row0_col6\" class=\"data row0 col6\" >0</td>\n",
              "                        <td id=\"T_18fef854_40c7_11ec_8465_0242ac1c0002row0_col7\" class=\"data row0 col7\" >0</td>\n",
              "                        <td id=\"T_18fef854_40c7_11ec_8465_0242ac1c0002row0_col8\" class=\"data row0 col8\" >0</td>\n",
              "                        <td id=\"T_18fef854_40c7_11ec_8465_0242ac1c0002row0_col9\" class=\"data row0 col9\" >0</td>\n",
              "                        <td id=\"T_18fef854_40c7_11ec_8465_0242ac1c0002row0_col10\" class=\"data row0 col10\" >0</td>\n",
              "                        <td id=\"T_18fef854_40c7_11ec_8465_0242ac1c0002row0_col11\" class=\"data row0 col11\" >0</td>\n",
              "            </tr>\n",
              "            <tr>\n",
              "                        <th id=\"T_18fef854_40c7_11ec_8465_0242ac1c0002level0_row1\" class=\"row_heading level0 row1\" >Actual M23-26</th>\n",
              "                        <td id=\"T_18fef854_40c7_11ec_8465_0242ac1c0002row1_col0\" class=\"data row1 col0\" >2</td>\n",
              "                        <td id=\"T_18fef854_40c7_11ec_8465_0242ac1c0002row1_col1\" class=\"data row1 col1\" >205</td>\n",
              "                        <td id=\"T_18fef854_40c7_11ec_8465_0242ac1c0002row1_col2\" class=\"data row1 col2\" >7</td>\n",
              "                        <td id=\"T_18fef854_40c7_11ec_8465_0242ac1c0002row1_col3\" class=\"data row1 col3\" >4</td>\n",
              "                        <td id=\"T_18fef854_40c7_11ec_8465_0242ac1c0002row1_col4\" class=\"data row1 col4\" >9</td>\n",
              "                        <td id=\"T_18fef854_40c7_11ec_8465_0242ac1c0002row1_col5\" class=\"data row1 col5\" >16</td>\n",
              "                        <td id=\"T_18fef854_40c7_11ec_8465_0242ac1c0002row1_col6\" class=\"data row1 col6\" >1</td>\n",
              "                        <td id=\"T_18fef854_40c7_11ec_8465_0242ac1c0002row1_col7\" class=\"data row1 col7\" >0</td>\n",
              "                        <td id=\"T_18fef854_40c7_11ec_8465_0242ac1c0002row1_col8\" class=\"data row1 col8\" >0</td>\n",
              "                        <td id=\"T_18fef854_40c7_11ec_8465_0242ac1c0002row1_col9\" class=\"data row1 col9\" >2</td>\n",
              "                        <td id=\"T_18fef854_40c7_11ec_8465_0242ac1c0002row1_col10\" class=\"data row1 col10\" >1</td>\n",
              "                        <td id=\"T_18fef854_40c7_11ec_8465_0242ac1c0002row1_col11\" class=\"data row1 col11\" >3</td>\n",
              "            </tr>\n",
              "            <tr>\n",
              "                        <th id=\"T_18fef854_40c7_11ec_8465_0242ac1c0002level0_row2\" class=\"row_heading level0 row2\" >Actual M27-28</th>\n",
              "                        <td id=\"T_18fef854_40c7_11ec_8465_0242ac1c0002row2_col0\" class=\"data row2 col0\" >4</td>\n",
              "                        <td id=\"T_18fef854_40c7_11ec_8465_0242ac1c0002row2_col1\" class=\"data row2 col1\" >11</td>\n",
              "                        <td id=\"T_18fef854_40c7_11ec_8465_0242ac1c0002row2_col2\" class=\"data row2 col2\" >139</td>\n",
              "                        <td id=\"T_18fef854_40c7_11ec_8465_0242ac1c0002row2_col3\" class=\"data row2 col3\" >2</td>\n",
              "                        <td id=\"T_18fef854_40c7_11ec_8465_0242ac1c0002row2_col4\" class=\"data row2 col4\" >5</td>\n",
              "                        <td id=\"T_18fef854_40c7_11ec_8465_0242ac1c0002row2_col5\" class=\"data row2 col5\" >14</td>\n",
              "                        <td id=\"T_18fef854_40c7_11ec_8465_0242ac1c0002row2_col6\" class=\"data row2 col6\" >0</td>\n",
              "                        <td id=\"T_18fef854_40c7_11ec_8465_0242ac1c0002row2_col7\" class=\"data row2 col7\" >0</td>\n",
              "                        <td id=\"T_18fef854_40c7_11ec_8465_0242ac1c0002row2_col8\" class=\"data row2 col8\" >0</td>\n",
              "                        <td id=\"T_18fef854_40c7_11ec_8465_0242ac1c0002row2_col9\" class=\"data row2 col9\" >0</td>\n",
              "                        <td id=\"T_18fef854_40c7_11ec_8465_0242ac1c0002row2_col10\" class=\"data row2 col10\" >2</td>\n",
              "                        <td id=\"T_18fef854_40c7_11ec_8465_0242ac1c0002row2_col11\" class=\"data row2 col11\" >0</td>\n",
              "            </tr>\n",
              "            <tr>\n",
              "                        <th id=\"T_18fef854_40c7_11ec_8465_0242ac1c0002level0_row3\" class=\"row_heading level0 row3\" >Actual M29-31</th>\n",
              "                        <td id=\"T_18fef854_40c7_11ec_8465_0242ac1c0002row3_col0\" class=\"data row3 col0\" >9</td>\n",
              "                        <td id=\"T_18fef854_40c7_11ec_8465_0242ac1c0002row3_col1\" class=\"data row3 col1\" >3</td>\n",
              "                        <td id=\"T_18fef854_40c7_11ec_8465_0242ac1c0002row3_col2\" class=\"data row3 col2\" >2</td>\n",
              "                        <td id=\"T_18fef854_40c7_11ec_8465_0242ac1c0002row3_col3\" class=\"data row3 col3\" >189</td>\n",
              "                        <td id=\"T_18fef854_40c7_11ec_8465_0242ac1c0002row3_col4\" class=\"data row3 col4\" >30</td>\n",
              "                        <td id=\"T_18fef854_40c7_11ec_8465_0242ac1c0002row3_col5\" class=\"data row3 col5\" >27</td>\n",
              "                        <td id=\"T_18fef854_40c7_11ec_8465_0242ac1c0002row3_col6\" class=\"data row3 col6\" >0</td>\n",
              "                        <td id=\"T_18fef854_40c7_11ec_8465_0242ac1c0002row3_col7\" class=\"data row3 col7\" >2</td>\n",
              "                        <td id=\"T_18fef854_40c7_11ec_8465_0242ac1c0002row3_col8\" class=\"data row3 col8\" >2</td>\n",
              "                        <td id=\"T_18fef854_40c7_11ec_8465_0242ac1c0002row3_col9\" class=\"data row3 col9\" >0</td>\n",
              "                        <td id=\"T_18fef854_40c7_11ec_8465_0242ac1c0002row3_col10\" class=\"data row3 col10\" >6</td>\n",
              "                        <td id=\"T_18fef854_40c7_11ec_8465_0242ac1c0002row3_col11\" class=\"data row3 col11\" >3</td>\n",
              "            </tr>\n",
              "            <tr>\n",
              "                        <th id=\"T_18fef854_40c7_11ec_8465_0242ac1c0002level0_row4\" class=\"row_heading level0 row4\" >Actual M32-38</th>\n",
              "                        <td id=\"T_18fef854_40c7_11ec_8465_0242ac1c0002row4_col0\" class=\"data row4 col0\" >0</td>\n",
              "                        <td id=\"T_18fef854_40c7_11ec_8465_0242ac1c0002row4_col1\" class=\"data row4 col1\" >1</td>\n",
              "                        <td id=\"T_18fef854_40c7_11ec_8465_0242ac1c0002row4_col2\" class=\"data row4 col2\" >1</td>\n",
              "                        <td id=\"T_18fef854_40c7_11ec_8465_0242ac1c0002row4_col3\" class=\"data row4 col3\" >23</td>\n",
              "                        <td id=\"T_18fef854_40c7_11ec_8465_0242ac1c0002row4_col4\" class=\"data row4 col4\" >435</td>\n",
              "                        <td id=\"T_18fef854_40c7_11ec_8465_0242ac1c0002row4_col5\" class=\"data row4 col5\" >50</td>\n",
              "                        <td id=\"T_18fef854_40c7_11ec_8465_0242ac1c0002row4_col6\" class=\"data row4 col6\" >1</td>\n",
              "                        <td id=\"T_18fef854_40c7_11ec_8465_0242ac1c0002row4_col7\" class=\"data row4 col7\" >6</td>\n",
              "                        <td id=\"T_18fef854_40c7_11ec_8465_0242ac1c0002row4_col8\" class=\"data row4 col8\" >0</td>\n",
              "                        <td id=\"T_18fef854_40c7_11ec_8465_0242ac1c0002row4_col9\" class=\"data row4 col9\" >3</td>\n",
              "                        <td id=\"T_18fef854_40c7_11ec_8465_0242ac1c0002row4_col10\" class=\"data row4 col10\" >3</td>\n",
              "                        <td id=\"T_18fef854_40c7_11ec_8465_0242ac1c0002row4_col11\" class=\"data row4 col11\" >15</td>\n",
              "            </tr>\n",
              "            <tr>\n",
              "                        <th id=\"T_18fef854_40c7_11ec_8465_0242ac1c0002level0_row5\" class=\"row_heading level0 row5\" >Actual M39+</th>\n",
              "                        <td id=\"T_18fef854_40c7_11ec_8465_0242ac1c0002row5_col0\" class=\"data row5 col0\" >6</td>\n",
              "                        <td id=\"T_18fef854_40c7_11ec_8465_0242ac1c0002row5_col1\" class=\"data row5 col1\" >12</td>\n",
              "                        <td id=\"T_18fef854_40c7_11ec_8465_0242ac1c0002row5_col2\" class=\"data row5 col2\" >4</td>\n",
              "                        <td id=\"T_18fef854_40c7_11ec_8465_0242ac1c0002row5_col3\" class=\"data row5 col3\" >13</td>\n",
              "                        <td id=\"T_18fef854_40c7_11ec_8465_0242ac1c0002row5_col4\" class=\"data row5 col4\" >43</td>\n",
              "                        <td id=\"T_18fef854_40c7_11ec_8465_0242ac1c0002row5_col5\" class=\"data row5 col5\" >463</td>\n",
              "                        <td id=\"T_18fef854_40c7_11ec_8465_0242ac1c0002row5_col6\" class=\"data row5 col6\" >0</td>\n",
              "                        <td id=\"T_18fef854_40c7_11ec_8465_0242ac1c0002row5_col7\" class=\"data row5 col7\" >2</td>\n",
              "                        <td id=\"T_18fef854_40c7_11ec_8465_0242ac1c0002row5_col8\" class=\"data row5 col8\" >1</td>\n",
              "                        <td id=\"T_18fef854_40c7_11ec_8465_0242ac1c0002row5_col9\" class=\"data row5 col9\" >5</td>\n",
              "                        <td id=\"T_18fef854_40c7_11ec_8465_0242ac1c0002row5_col10\" class=\"data row5 col10\" >18</td>\n",
              "                        <td id=\"T_18fef854_40c7_11ec_8465_0242ac1c0002row5_col11\" class=\"data row5 col11\" >2</td>\n",
              "            </tr>\n",
              "            <tr>\n",
              "                        <th id=\"T_18fef854_40c7_11ec_8465_0242ac1c0002level0_row6\" class=\"row_heading level0 row6\" >Actual F23-</th>\n",
              "                        <td id=\"T_18fef854_40c7_11ec_8465_0242ac1c0002row6_col0\" class=\"data row6 col0\" >0</td>\n",
              "                        <td id=\"T_18fef854_40c7_11ec_8465_0242ac1c0002row6_col1\" class=\"data row6 col1\" >0</td>\n",
              "                        <td id=\"T_18fef854_40c7_11ec_8465_0242ac1c0002row6_col2\" class=\"data row6 col2\" >0</td>\n",
              "                        <td id=\"T_18fef854_40c7_11ec_8465_0242ac1c0002row6_col3\" class=\"data row6 col3\" >2</td>\n",
              "                        <td id=\"T_18fef854_40c7_11ec_8465_0242ac1c0002row6_col4\" class=\"data row6 col4\" >4</td>\n",
              "                        <td id=\"T_18fef854_40c7_11ec_8465_0242ac1c0002row6_col5\" class=\"data row6 col5\" >3</td>\n",
              "                        <td id=\"T_18fef854_40c7_11ec_8465_0242ac1c0002row6_col6\" class=\"data row6 col6\" >25</td>\n",
              "                        <td id=\"T_18fef854_40c7_11ec_8465_0242ac1c0002row6_col7\" class=\"data row6 col7\" >0</td>\n",
              "                        <td id=\"T_18fef854_40c7_11ec_8465_0242ac1c0002row6_col8\" class=\"data row6 col8\" >0</td>\n",
              "                        <td id=\"T_18fef854_40c7_11ec_8465_0242ac1c0002row6_col9\" class=\"data row6 col9\" >0</td>\n",
              "                        <td id=\"T_18fef854_40c7_11ec_8465_0242ac1c0002row6_col10\" class=\"data row6 col10\" >4</td>\n",
              "                        <td id=\"T_18fef854_40c7_11ec_8465_0242ac1c0002row6_col11\" class=\"data row6 col11\" >1</td>\n",
              "            </tr>\n",
              "            <tr>\n",
              "                        <th id=\"T_18fef854_40c7_11ec_8465_0242ac1c0002level0_row7\" class=\"row_heading level0 row7\" >Actual F24-26</th>\n",
              "                        <td id=\"T_18fef854_40c7_11ec_8465_0242ac1c0002row7_col0\" class=\"data row7 col0\" >0</td>\n",
              "                        <td id=\"T_18fef854_40c7_11ec_8465_0242ac1c0002row7_col1\" class=\"data row7 col1\" >0</td>\n",
              "                        <td id=\"T_18fef854_40c7_11ec_8465_0242ac1c0002row7_col2\" class=\"data row7 col2\" >0</td>\n",
              "                        <td id=\"T_18fef854_40c7_11ec_8465_0242ac1c0002row7_col3\" class=\"data row7 col3\" >1</td>\n",
              "                        <td id=\"T_18fef854_40c7_11ec_8465_0242ac1c0002row7_col4\" class=\"data row7 col4\" >1</td>\n",
              "                        <td id=\"T_18fef854_40c7_11ec_8465_0242ac1c0002row7_col5\" class=\"data row7 col5\" >7</td>\n",
              "                        <td id=\"T_18fef854_40c7_11ec_8465_0242ac1c0002row7_col6\" class=\"data row7 col6\" >0</td>\n",
              "                        <td id=\"T_18fef854_40c7_11ec_8465_0242ac1c0002row7_col7\" class=\"data row7 col7\" >19</td>\n",
              "                        <td id=\"T_18fef854_40c7_11ec_8465_0242ac1c0002row7_col8\" class=\"data row7 col8\" >0</td>\n",
              "                        <td id=\"T_18fef854_40c7_11ec_8465_0242ac1c0002row7_col9\" class=\"data row7 col9\" >0</td>\n",
              "                        <td id=\"T_18fef854_40c7_11ec_8465_0242ac1c0002row7_col10\" class=\"data row7 col10\" >0</td>\n",
              "                        <td id=\"T_18fef854_40c7_11ec_8465_0242ac1c0002row7_col11\" class=\"data row7 col11\" >0</td>\n",
              "            </tr>\n",
              "            <tr>\n",
              "                        <th id=\"T_18fef854_40c7_11ec_8465_0242ac1c0002level0_row8\" class=\"row_heading level0 row8\" >Actual F27-28</th>\n",
              "                        <td id=\"T_18fef854_40c7_11ec_8465_0242ac1c0002row8_col0\" class=\"data row8 col0\" >0</td>\n",
              "                        <td id=\"T_18fef854_40c7_11ec_8465_0242ac1c0002row8_col1\" class=\"data row8 col1\" >3</td>\n",
              "                        <td id=\"T_18fef854_40c7_11ec_8465_0242ac1c0002row8_col2\" class=\"data row8 col2\" >0</td>\n",
              "                        <td id=\"T_18fef854_40c7_11ec_8465_0242ac1c0002row8_col3\" class=\"data row8 col3\" >3</td>\n",
              "                        <td id=\"T_18fef854_40c7_11ec_8465_0242ac1c0002row8_col4\" class=\"data row8 col4\" >3</td>\n",
              "                        <td id=\"T_18fef854_40c7_11ec_8465_0242ac1c0002row8_col5\" class=\"data row8 col5\" >4</td>\n",
              "                        <td id=\"T_18fef854_40c7_11ec_8465_0242ac1c0002row8_col6\" class=\"data row8 col6\" >0</td>\n",
              "                        <td id=\"T_18fef854_40c7_11ec_8465_0242ac1c0002row8_col7\" class=\"data row8 col7\" >0</td>\n",
              "                        <td id=\"T_18fef854_40c7_11ec_8465_0242ac1c0002row8_col8\" class=\"data row8 col8\" >41</td>\n",
              "                        <td id=\"T_18fef854_40c7_11ec_8465_0242ac1c0002row8_col9\" class=\"data row8 col9\" >1</td>\n",
              "                        <td id=\"T_18fef854_40c7_11ec_8465_0242ac1c0002row8_col10\" class=\"data row8 col10\" >0</td>\n",
              "                        <td id=\"T_18fef854_40c7_11ec_8465_0242ac1c0002row8_col11\" class=\"data row8 col11\" >1</td>\n",
              "            </tr>\n",
              "            <tr>\n",
              "                        <th id=\"T_18fef854_40c7_11ec_8465_0242ac1c0002level0_row9\" class=\"row_heading level0 row9\" >Actual F29-32</th>\n",
              "                        <td id=\"T_18fef854_40c7_11ec_8465_0242ac1c0002row9_col0\" class=\"data row9 col0\" >1</td>\n",
              "                        <td id=\"T_18fef854_40c7_11ec_8465_0242ac1c0002row9_col1\" class=\"data row9 col1\" >1</td>\n",
              "                        <td id=\"T_18fef854_40c7_11ec_8465_0242ac1c0002row9_col2\" class=\"data row9 col2\" >2</td>\n",
              "                        <td id=\"T_18fef854_40c7_11ec_8465_0242ac1c0002row9_col3\" class=\"data row9 col3\" >0</td>\n",
              "                        <td id=\"T_18fef854_40c7_11ec_8465_0242ac1c0002row9_col4\" class=\"data row9 col4\" >4</td>\n",
              "                        <td id=\"T_18fef854_40c7_11ec_8465_0242ac1c0002row9_col5\" class=\"data row9 col5\" >4</td>\n",
              "                        <td id=\"T_18fef854_40c7_11ec_8465_0242ac1c0002row9_col6\" class=\"data row9 col6\" >0</td>\n",
              "                        <td id=\"T_18fef854_40c7_11ec_8465_0242ac1c0002row9_col7\" class=\"data row9 col7\" >0</td>\n",
              "                        <td id=\"T_18fef854_40c7_11ec_8465_0242ac1c0002row9_col8\" class=\"data row9 col8\" >1</td>\n",
              "                        <td id=\"T_18fef854_40c7_11ec_8465_0242ac1c0002row9_col9\" class=\"data row9 col9\" >67</td>\n",
              "                        <td id=\"T_18fef854_40c7_11ec_8465_0242ac1c0002row9_col10\" class=\"data row9 col10\" >0</td>\n",
              "                        <td id=\"T_18fef854_40c7_11ec_8465_0242ac1c0002row9_col11\" class=\"data row9 col11\" >1</td>\n",
              "            </tr>\n",
              "            <tr>\n",
              "                        <th id=\"T_18fef854_40c7_11ec_8465_0242ac1c0002level0_row10\" class=\"row_heading level0 row10\" >Actual F33-42</th>\n",
              "                        <td id=\"T_18fef854_40c7_11ec_8465_0242ac1c0002row10_col0\" class=\"data row10 col0\" >0</td>\n",
              "                        <td id=\"T_18fef854_40c7_11ec_8465_0242ac1c0002row10_col1\" class=\"data row10 col1\" >2</td>\n",
              "                        <td id=\"T_18fef854_40c7_11ec_8465_0242ac1c0002row10_col2\" class=\"data row10 col2\" >1</td>\n",
              "                        <td id=\"T_18fef854_40c7_11ec_8465_0242ac1c0002row10_col3\" class=\"data row10 col3\" >1</td>\n",
              "                        <td id=\"T_18fef854_40c7_11ec_8465_0242ac1c0002row10_col4\" class=\"data row10 col4\" >4</td>\n",
              "                        <td id=\"T_18fef854_40c7_11ec_8465_0242ac1c0002row10_col5\" class=\"data row10 col5\" >19</td>\n",
              "                        <td id=\"T_18fef854_40c7_11ec_8465_0242ac1c0002row10_col6\" class=\"data row10 col6\" >0</td>\n",
              "                        <td id=\"T_18fef854_40c7_11ec_8465_0242ac1c0002row10_col7\" class=\"data row10 col7\" >2</td>\n",
              "                        <td id=\"T_18fef854_40c7_11ec_8465_0242ac1c0002row10_col8\" class=\"data row10 col8\" >0</td>\n",
              "                        <td id=\"T_18fef854_40c7_11ec_8465_0242ac1c0002row10_col9\" class=\"data row10 col9\" >0</td>\n",
              "                        <td id=\"T_18fef854_40c7_11ec_8465_0242ac1c0002row10_col10\" class=\"data row10 col10\" >105</td>\n",
              "                        <td id=\"T_18fef854_40c7_11ec_8465_0242ac1c0002row10_col11\" class=\"data row10 col11\" >3</td>\n",
              "            </tr>\n",
              "            <tr>\n",
              "                        <th id=\"T_18fef854_40c7_11ec_8465_0242ac1c0002level0_row11\" class=\"row_heading level0 row11\" >Actual F43+</th>\n",
              "                        <td id=\"T_18fef854_40c7_11ec_8465_0242ac1c0002row11_col0\" class=\"data row11 col0\" >0</td>\n",
              "                        <td id=\"T_18fef854_40c7_11ec_8465_0242ac1c0002row11_col1\" class=\"data row11 col1\" >2</td>\n",
              "                        <td id=\"T_18fef854_40c7_11ec_8465_0242ac1c0002row11_col2\" class=\"data row11 col2\" >4</td>\n",
              "                        <td id=\"T_18fef854_40c7_11ec_8465_0242ac1c0002row11_col3\" class=\"data row11 col3\" >7</td>\n",
              "                        <td id=\"T_18fef854_40c7_11ec_8465_0242ac1c0002row11_col4\" class=\"data row11 col4\" >30</td>\n",
              "                        <td id=\"T_18fef854_40c7_11ec_8465_0242ac1c0002row11_col5\" class=\"data row11 col5\" >21</td>\n",
              "                        <td id=\"T_18fef854_40c7_11ec_8465_0242ac1c0002row11_col6\" class=\"data row11 col6\" >0</td>\n",
              "                        <td id=\"T_18fef854_40c7_11ec_8465_0242ac1c0002row11_col7\" class=\"data row11 col7\" >0</td>\n",
              "                        <td id=\"T_18fef854_40c7_11ec_8465_0242ac1c0002row11_col8\" class=\"data row11 col8\" >0</td>\n",
              "                        <td id=\"T_18fef854_40c7_11ec_8465_0242ac1c0002row11_col9\" class=\"data row11 col9\" >0</td>\n",
              "                        <td id=\"T_18fef854_40c7_11ec_8465_0242ac1c0002row11_col10\" class=\"data row11 col10\" >2</td>\n",
              "                        <td id=\"T_18fef854_40c7_11ec_8465_0242ac1c0002row11_col11\" class=\"data row11 col11\" >106</td>\n",
              "            </tr>\n",
              "    </tbody></table>"
            ],
            "text/plain": [
              "<pandas.io.formats.style.Styler at 0x7f5c88223510>"
            ]
          },
          "metadata": {},
          "execution_count": 73
        }
      ]
    },
    {
      "cell_type": "code",
      "metadata": {
        "colab": {
          "base_uri": "https://localhost:8080/"
        },
        "id": "Z-ZdcB_dkUzx",
        "outputId": "ca14bb58-d581-46da-8b65-a0e998161341"
      },
      "source": [
        "print(\"Classification Report:\")\n",
        "print()\n",
        "print(classification_report(y_test, y_pred))"
      ],
      "execution_count": null,
      "outputs": [
        {
          "output_type": "stream",
          "name": "stdout",
          "text": [
            "Classification Report:\n",
            "\n",
            "              precision    recall  f1-score   support\n",
            "\n",
            "           0       0.81      0.73      0.77       127\n",
            "           1       0.84      0.82      0.83       250\n",
            "           2       0.86      0.79      0.82       177\n",
            "           3       0.76      0.69      0.72       273\n",
            "           4       0.76      0.81      0.78       538\n",
            "           5       0.72      0.81      0.76       569\n",
            "           6       0.93      0.64      0.76        39\n",
            "           7       0.61      0.68      0.64        28\n",
            "           8       0.91      0.73      0.81        56\n",
            "           9       0.86      0.83      0.84        81\n",
            "          10       0.74      0.77      0.76       137\n",
            "          11       0.79      0.62      0.69       172\n",
            "\n",
            "    accuracy                           0.77      2447\n",
            "   macro avg       0.80      0.74      0.77      2447\n",
            "weighted avg       0.78      0.77      0.77      2447\n",
            "\n"
          ]
        }
      ]
    },
    {
      "cell_type": "markdown",
      "metadata": {
        "id": "vld6WTbIJGeR"
      },
      "source": [
        "## Let's Compare the models"
      ]
    },
    {
      "cell_type": "markdown",
      "metadata": {
        "id": "2K5LcW-cG80W"
      },
      "source": [
        "![Supervised Accuracy Comparison.png](data:image/png;base64,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)"
      ]
    },
    {
      "cell_type": "markdown",
      "metadata": {
        "id": "v90k8YaLG2U2"
      },
      "source": [
        "# Analysis\n",
        "\n"
      ]
    },
    {
      "cell_type": "markdown",
      "metadata": {
        "id": "DcTLhv3qHw3e"
      },
      "source": [
        "For my classification models, I used the following classification models to predict the age and gender groups:\n",
        "* Decision Tree\n",
        "* Random Forest\n",
        "* K-Nearest Neighbor (KNN)\n",
        "* Support Vector Machine (SVM)\n",
        "* Gradient Boosting\n",
        "\n",
        "I started off by using Select K Best to get the best features.  I then ran each model with the best features from a Grid Search, and calculated Accuracy score based off of F1 Score. A classification report was generated for each result and the scores are sumarrized in the graph above. \n",
        "\n",
        "I found that Gradient Boosting provided a perfect Accuracy Score, with Random Forest giving an almost perfect score of 0.99.\n",
        "\n",
        "Once I obtained results from these models, I used PCA for dimension reductionality to see if my accuracy would improve.  However, this ended up not being the case at all.  In fact, all of the accuracies from PCA ended up significantly hurting the accuracies.  \n",
        "\n",
        "After comparing the confusion matrices and classification reports for each model, I was able to determine the best model came from using a Gradient Boosting Classifier.  However, Random Forest also proved to be quite effective, so I will be showing both parameters I used.\n",
        "\n",
        "* Gradient Boosting Parameters:    \n",
        "{'gb__loss': 'deviance', 'gb__max_depth': 5, 'gb__n_estimators': 100}\n",
        "\n",
        "\n",
        "* Random Forest Parameters:  \n",
        "{'rf__criterion': 'gini',\n",
        " 'rf__max_depth': 50,\n",
        " 'rf__min_samples_leaf': 1,\n",
        " 'rf__n_estimators': 100}\n",
        "\n",
        " Due to time constraints, I used a supsample of data sets, so that could have had an impact on the results.  \n",
        "\n"
      ]
    }
  ]
}