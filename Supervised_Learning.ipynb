{
  "nbformat": 4,
  "nbformat_minor": 0,
  "metadata": {
    "accelerator": "GPU",
    "colab": {
      "name": "Supervised Learning.ipynb",
      "provenance": [],
      "collapsed_sections": [],
      "include_colab_link": true
    },
    "kernelspec": {
      "display_name": "Python 3",
      "name": "python3"
    },
    "language_info": {
      "name": "python"
    }
  },
  "cells": [
    {
      "cell_type": "markdown",
      "metadata": {
        "id": "view-in-github",
        "colab_type": "text"
      },
      "source": [
        "<a href=\"https://colab.research.google.com/github/HarshESC/TalkData-Mobile-Demographics/blob/main/Supervised_Learning.ipynb\" target=\"_parent\"><img src=\"https://colab.research.google.com/assets/colab-badge.svg\" alt=\"Open In Colab\"/></a>"
      ]
    },
    {
      "cell_type": "code",
      "metadata": {
        "id": "N6abuKw0ky6Z"
      },
      "source": [
        "#Imports\n",
        "import numpy as np\n",
        "import pandas as pd\n",
        "from sklearn.datasets import load_boston\n",
        "from sklearn.model_selection import train_test_split, GridSearchCV, cross_val_score\n",
        "from sklearn.tree import DecisionTreeClassifier\n",
        "from sklearn.feature_selection import SelectKBest, f_regression, chi2\n",
        "import matplotlib.pyplot as plt\n",
        "import seaborn as sns\n",
        "from sklearn.metrics import confusion_matrix\n",
        "from sklearn.metrics import accuracy_score\n",
        "from sklearn.metrics import precision_score, recall_score\n",
        "from sklearn.metrics import f1_score\n",
        "from sklearn.metrics import classification_report\n",
        "from sklearn.ensemble import RandomForestClassifier\n",
        "from sklearn.neighbors import KNeighborsClassifier\n",
        "from sklearn import neighbors\n",
        "from sklearn import svm\n",
        "from sklearn.svm import SVC\n",
        "\n",
        "from sklearn import tree\n",
        "from sklearn.ensemble import GradientBoostingClassifier\n",
        "from sklearn.compose import ColumnTransformer\n",
        "from sklearn.preprocessing import StandardScaler\n",
        "from sklearn.pipeline import Pipeline\n",
        "from sklearn.decomposition import PCA\n",
        "from sklearn import ensemble\n",
        "from sklearn.preprocessing import LabelBinarizer\n",
        "from sklearn.metrics import roc_auc_score\n",
        "\n",
        "import warnings\n",
        "warnings.filterwarnings('ignore')\n",
        "\n"
      ],
      "execution_count": null,
      "outputs": []
    },
    {
      "cell_type": "code",
      "metadata": {
        "id": "yMIDjebVfwU4",
        "colab": {
          "base_uri": "https://localhost:8080/"
        },
        "outputId": "bb8ec518-ca57-46e3-8691-a3dfa39b2bd5"
      },
      "source": [
        "from google.colab import drive \n",
        "drive.mount('/content/gdrive')\n",
        "import os\n",
        "os.environ['KAGGLE_CONFIG_DIR'] = \"/content/gdrive/\"\n",
        "%cd \"/content/gdrive/My Drive/Final Capstone\""
      ],
      "execution_count": null,
      "outputs": [
        {
          "output_type": "stream",
          "name": "stdout",
          "text": [
            "Mounted at /content/gdrive\n",
            "/content/gdrive/My Drive/Final Capstone\n"
          ]
        }
      ]
    },
    {
      "cell_type": "markdown",
      "metadata": {
        "id": "IKhZL-THz3Ke"
      },
      "source": [
        "# Small EDA"
      ]
    },
    {
      "cell_type": "code",
      "metadata": {
        "colab": {
          "base_uri": "https://localhost:8080/",
          "height": 244
        },
        "id": "IlkCpkyYQ0U3",
        "outputId": "6be7f8aa-49af-443b-bab5-1a0905e36fc7"
      },
      "source": [
        "master_df = pd.read_csv(\"master_clean.csv\")\n",
        "\n",
        "master_df.head()"
      ],
      "execution_count": null,
      "outputs": [
        {
          "output_type": "execute_result",
          "data": {
            "text/html": [
              "<div>\n",
              "<style scoped>\n",
              "    .dataframe tbody tr th:only-of-type {\n",
              "        vertical-align: middle;\n",
              "    }\n",
              "\n",
              "    .dataframe tbody tr th {\n",
              "        vertical-align: top;\n",
              "    }\n",
              "\n",
              "    .dataframe thead th {\n",
              "        text-align: right;\n",
              "    }\n",
              "</style>\n",
              "<table border=\"1\" class=\"dataframe\">\n",
              "  <thead>\n",
              "    <tr style=\"text-align: right;\">\n",
              "      <th></th>\n",
              "      <th>event_id</th>\n",
              "      <th>app_id</th>\n",
              "      <th>is_active</th>\n",
              "      <th>device_id</th>\n",
              "      <th>251</th>\n",
              "      <th>252</th>\n",
              "      <th>253</th>\n",
              "      <th>254</th>\n",
              "      <th>256</th>\n",
              "      <th>262</th>\n",
              "      <th>263</th>\n",
              "      <th>302</th>\n",
              "      <th>303</th>\n",
              "      <th>306</th>\n",
              "      <th>318</th>\n",
              "      <th>326</th>\n",
              "      <th>405</th>\n",
              "      <th>406</th>\n",
              "      <th>407</th>\n",
              "      <th>548</th>\n",
              "      <th>549</th>\n",
              "      <th>551</th>\n",
              "      <th>558</th>\n",
              "      <th>562</th>\n",
              "      <th>564</th>\n",
              "      <th>565</th>\n",
              "      <th>566</th>\n",
              "      <th>english_phone_brand_asus</th>\n",
              "      <th>english_phone_brand_coolpad</th>\n",
              "      <th>english_phone_brand_hammer</th>\n",
              "      <th>english_phone_brand_huawei</th>\n",
              "      <th>english_phone_brand_lshi</th>\n",
              "      <th>english_phone_brand_meizu</th>\n",
              "      <th>english_phone_brand_oppo</th>\n",
              "      <th>english_phone_brand_qiku</th>\n",
              "      <th>english_phone_brand_samsung</th>\n",
              "      <th>english_phone_brand_vivo</th>\n",
              "      <th>english_phone_brand_xiaomi</th>\n",
              "      <th>device_model_Galaxy Note 3</th>\n",
              "      <th>device_model_Galaxy Note 4</th>\n",
              "      <th>device_model_Galaxy S5</th>\n",
              "      <th>device_model_Galaxy S6</th>\n",
              "      <th>device_model_MI 3</th>\n",
              "      <th>device_model_MI 4</th>\n",
              "      <th>device_model_MX4</th>\n",
              "      <th>device_model_MX4 Pro</th>\n",
              "      <th>device_model_MX5</th>\n",
              "      <th>device_model_Mate 7</th>\n",
              "      <th>device_model_P8 Lite</th>\n",
              "      <th>device_model_P8max</th>\n",
              "      <th>device_model_R7 Plus</th>\n",
              "      <th>device_model_U3</th>\n",
              "      <th>device_model_X5SL</th>\n",
              "      <th>device_model_Z1</th>\n",
              "      <th>device_model_ZenFone 2</th>\n",
              "      <th>device_model_note顶配版</th>\n",
              "      <th>device_model_坚果手机</th>\n",
              "      <th>device_model_大神Note3</th>\n",
              "      <th>device_model_小米4C</th>\n",
              "      <th>device_model_小米note</th>\n",
              "      <th>device_model_红米2</th>\n",
              "      <th>device_model_红米2A</th>\n",
              "      <th>device_model_红米Note2</th>\n",
              "      <th>device_model_红米Note3</th>\n",
              "      <th>device_model_红米note</th>\n",
              "      <th>device_model_荣耀3C</th>\n",
              "      <th>device_model_荣耀6</th>\n",
              "      <th>device_model_荣耀6 Plus</th>\n",
              "      <th>device_model_荣耀7</th>\n",
              "      <th>device_model_荣耀7i</th>\n",
              "      <th>device_model_荣耀X2</th>\n",
              "      <th>device_model_荣耀畅玩4C</th>\n",
              "      <th>device_model_荣耀畅玩5X</th>\n",
              "      <th>device_model_超级手机1</th>\n",
              "      <th>device_model_超级手机1 Pro</th>\n",
              "      <th>device_model_超级手机1s</th>\n",
              "      <th>device_model_青春版</th>\n",
              "      <th>device_model_魅蓝NOTE</th>\n",
              "      <th>device_model_魅蓝metal</th>\n",
              "      <th>num_group</th>\n",
              "    </tr>\n",
              "  </thead>\n",
              "  <tbody>\n",
              "    <tr>\n",
              "      <th>0</th>\n",
              "      <td>198</td>\n",
              "      <td>-8807740666788515175</td>\n",
              "      <td>0</td>\n",
              "      <td>6984152891252102027</td>\n",
              "      <td>0</td>\n",
              "      <td>0</td>\n",
              "      <td>0</td>\n",
              "      <td>0</td>\n",
              "      <td>0</td>\n",
              "      <td>0</td>\n",
              "      <td>0</td>\n",
              "      <td>0</td>\n",
              "      <td>0</td>\n",
              "      <td>0</td>\n",
              "      <td>0</td>\n",
              "      <td>0</td>\n",
              "      <td>0</td>\n",
              "      <td>0</td>\n",
              "      <td>0</td>\n",
              "      <td>1</td>\n",
              "      <td>1</td>\n",
              "      <td>0</td>\n",
              "      <td>0</td>\n",
              "      <td>0</td>\n",
              "      <td>0</td>\n",
              "      <td>0</td>\n",
              "      <td>0</td>\n",
              "      <td>0</td>\n",
              "      <td>0</td>\n",
              "      <td>0</td>\n",
              "      <td>0</td>\n",
              "      <td>0</td>\n",
              "      <td>0</td>\n",
              "      <td>0</td>\n",
              "      <td>0</td>\n",
              "      <td>0</td>\n",
              "      <td>0</td>\n",
              "      <td>1</td>\n",
              "      <td>0</td>\n",
              "      <td>0</td>\n",
              "      <td>0</td>\n",
              "      <td>0</td>\n",
              "      <td>0</td>\n",
              "      <td>1</td>\n",
              "      <td>0</td>\n",
              "      <td>0</td>\n",
              "      <td>0</td>\n",
              "      <td>0</td>\n",
              "      <td>0</td>\n",
              "      <td>0</td>\n",
              "      <td>0</td>\n",
              "      <td>0</td>\n",
              "      <td>0</td>\n",
              "      <td>0</td>\n",
              "      <td>0</td>\n",
              "      <td>0</td>\n",
              "      <td>0</td>\n",
              "      <td>0</td>\n",
              "      <td>0</td>\n",
              "      <td>0</td>\n",
              "      <td>0</td>\n",
              "      <td>0</td>\n",
              "      <td>0</td>\n",
              "      <td>0</td>\n",
              "      <td>0</td>\n",
              "      <td>0</td>\n",
              "      <td>0</td>\n",
              "      <td>0</td>\n",
              "      <td>0</td>\n",
              "      <td>0</td>\n",
              "      <td>0</td>\n",
              "      <td>0</td>\n",
              "      <td>0</td>\n",
              "      <td>0</td>\n",
              "      <td>0</td>\n",
              "      <td>0</td>\n",
              "      <td>0</td>\n",
              "      <td>0</td>\n",
              "      <td>0</td>\n",
              "      <td>4</td>\n",
              "    </tr>\n",
              "    <tr>\n",
              "      <th>1</th>\n",
              "      <td>198</td>\n",
              "      <td>-7415261454408512527</td>\n",
              "      <td>0</td>\n",
              "      <td>6984152891252102027</td>\n",
              "      <td>0</td>\n",
              "      <td>0</td>\n",
              "      <td>0</td>\n",
              "      <td>1</td>\n",
              "      <td>0</td>\n",
              "      <td>0</td>\n",
              "      <td>0</td>\n",
              "      <td>0</td>\n",
              "      <td>0</td>\n",
              "      <td>0</td>\n",
              "      <td>0</td>\n",
              "      <td>0</td>\n",
              "      <td>0</td>\n",
              "      <td>0</td>\n",
              "      <td>0</td>\n",
              "      <td>1</td>\n",
              "      <td>0</td>\n",
              "      <td>0</td>\n",
              "      <td>0</td>\n",
              "      <td>1</td>\n",
              "      <td>1</td>\n",
              "      <td>0</td>\n",
              "      <td>0</td>\n",
              "      <td>0</td>\n",
              "      <td>0</td>\n",
              "      <td>0</td>\n",
              "      <td>0</td>\n",
              "      <td>0</td>\n",
              "      <td>0</td>\n",
              "      <td>0</td>\n",
              "      <td>0</td>\n",
              "      <td>0</td>\n",
              "      <td>0</td>\n",
              "      <td>1</td>\n",
              "      <td>0</td>\n",
              "      <td>0</td>\n",
              "      <td>0</td>\n",
              "      <td>0</td>\n",
              "      <td>0</td>\n",
              "      <td>1</td>\n",
              "      <td>0</td>\n",
              "      <td>0</td>\n",
              "      <td>0</td>\n",
              "      <td>0</td>\n",
              "      <td>0</td>\n",
              "      <td>0</td>\n",
              "      <td>0</td>\n",
              "      <td>0</td>\n",
              "      <td>0</td>\n",
              "      <td>0</td>\n",
              "      <td>0</td>\n",
              "      <td>0</td>\n",
              "      <td>0</td>\n",
              "      <td>0</td>\n",
              "      <td>0</td>\n",
              "      <td>0</td>\n",
              "      <td>0</td>\n",
              "      <td>0</td>\n",
              "      <td>0</td>\n",
              "      <td>0</td>\n",
              "      <td>0</td>\n",
              "      <td>0</td>\n",
              "      <td>0</td>\n",
              "      <td>0</td>\n",
              "      <td>0</td>\n",
              "      <td>0</td>\n",
              "      <td>0</td>\n",
              "      <td>0</td>\n",
              "      <td>0</td>\n",
              "      <td>0</td>\n",
              "      <td>0</td>\n",
              "      <td>0</td>\n",
              "      <td>0</td>\n",
              "      <td>0</td>\n",
              "      <td>0</td>\n",
              "      <td>4</td>\n",
              "    </tr>\n",
              "    <tr>\n",
              "      <th>2</th>\n",
              "      <td>198</td>\n",
              "      <td>-6538188762242952077</td>\n",
              "      <td>1</td>\n",
              "      <td>6984152891252102027</td>\n",
              "      <td>1</td>\n",
              "      <td>0</td>\n",
              "      <td>0</td>\n",
              "      <td>0</td>\n",
              "      <td>0</td>\n",
              "      <td>1</td>\n",
              "      <td>0</td>\n",
              "      <td>1</td>\n",
              "      <td>1</td>\n",
              "      <td>0</td>\n",
              "      <td>0</td>\n",
              "      <td>0</td>\n",
              "      <td>0</td>\n",
              "      <td>0</td>\n",
              "      <td>0</td>\n",
              "      <td>0</td>\n",
              "      <td>0</td>\n",
              "      <td>0</td>\n",
              "      <td>0</td>\n",
              "      <td>0</td>\n",
              "      <td>0</td>\n",
              "      <td>0</td>\n",
              "      <td>0</td>\n",
              "      <td>0</td>\n",
              "      <td>0</td>\n",
              "      <td>0</td>\n",
              "      <td>0</td>\n",
              "      <td>0</td>\n",
              "      <td>0</td>\n",
              "      <td>0</td>\n",
              "      <td>0</td>\n",
              "      <td>0</td>\n",
              "      <td>0</td>\n",
              "      <td>1</td>\n",
              "      <td>0</td>\n",
              "      <td>0</td>\n",
              "      <td>0</td>\n",
              "      <td>0</td>\n",
              "      <td>0</td>\n",
              "      <td>1</td>\n",
              "      <td>0</td>\n",
              "      <td>0</td>\n",
              "      <td>0</td>\n",
              "      <td>0</td>\n",
              "      <td>0</td>\n",
              "      <td>0</td>\n",
              "      <td>0</td>\n",
              "      <td>0</td>\n",
              "      <td>0</td>\n",
              "      <td>0</td>\n",
              "      <td>0</td>\n",
              "      <td>0</td>\n",
              "      <td>0</td>\n",
              "      <td>0</td>\n",
              "      <td>0</td>\n",
              "      <td>0</td>\n",
              "      <td>0</td>\n",
              "      <td>0</td>\n",
              "      <td>0</td>\n",
              "      <td>0</td>\n",
              "      <td>0</td>\n",
              "      <td>0</td>\n",
              "      <td>0</td>\n",
              "      <td>0</td>\n",
              "      <td>0</td>\n",
              "      <td>0</td>\n",
              "      <td>0</td>\n",
              "      <td>0</td>\n",
              "      <td>0</td>\n",
              "      <td>0</td>\n",
              "      <td>0</td>\n",
              "      <td>0</td>\n",
              "      <td>0</td>\n",
              "      <td>0</td>\n",
              "      <td>0</td>\n",
              "      <td>4</td>\n",
              "    </tr>\n",
              "    <tr>\n",
              "      <th>3</th>\n",
              "      <td>198</td>\n",
              "      <td>-6493194103110420302</td>\n",
              "      <td>0</td>\n",
              "      <td>6984152891252102027</td>\n",
              "      <td>0</td>\n",
              "      <td>0</td>\n",
              "      <td>1</td>\n",
              "      <td>0</td>\n",
              "      <td>0</td>\n",
              "      <td>0</td>\n",
              "      <td>0</td>\n",
              "      <td>0</td>\n",
              "      <td>0</td>\n",
              "      <td>0</td>\n",
              "      <td>0</td>\n",
              "      <td>0</td>\n",
              "      <td>1</td>\n",
              "      <td>0</td>\n",
              "      <td>0</td>\n",
              "      <td>1</td>\n",
              "      <td>1</td>\n",
              "      <td>0</td>\n",
              "      <td>0</td>\n",
              "      <td>0</td>\n",
              "      <td>1</td>\n",
              "      <td>0</td>\n",
              "      <td>0</td>\n",
              "      <td>0</td>\n",
              "      <td>0</td>\n",
              "      <td>0</td>\n",
              "      <td>0</td>\n",
              "      <td>0</td>\n",
              "      <td>0</td>\n",
              "      <td>0</td>\n",
              "      <td>0</td>\n",
              "      <td>0</td>\n",
              "      <td>0</td>\n",
              "      <td>1</td>\n",
              "      <td>0</td>\n",
              "      <td>0</td>\n",
              "      <td>0</td>\n",
              "      <td>0</td>\n",
              "      <td>0</td>\n",
              "      <td>1</td>\n",
              "      <td>0</td>\n",
              "      <td>0</td>\n",
              "      <td>0</td>\n",
              "      <td>0</td>\n",
              "      <td>0</td>\n",
              "      <td>0</td>\n",
              "      <td>0</td>\n",
              "      <td>0</td>\n",
              "      <td>0</td>\n",
              "      <td>0</td>\n",
              "      <td>0</td>\n",
              "      <td>0</td>\n",
              "      <td>0</td>\n",
              "      <td>0</td>\n",
              "      <td>0</td>\n",
              "      <td>0</td>\n",
              "      <td>0</td>\n",
              "      <td>0</td>\n",
              "      <td>0</td>\n",
              "      <td>0</td>\n",
              "      <td>0</td>\n",
              "      <td>0</td>\n",
              "      <td>0</td>\n",
              "      <td>0</td>\n",
              "      <td>0</td>\n",
              "      <td>0</td>\n",
              "      <td>0</td>\n",
              "      <td>0</td>\n",
              "      <td>0</td>\n",
              "      <td>0</td>\n",
              "      <td>0</td>\n",
              "      <td>0</td>\n",
              "      <td>0</td>\n",
              "      <td>0</td>\n",
              "      <td>0</td>\n",
              "      <td>4</td>\n",
              "    </tr>\n",
              "    <tr>\n",
              "      <th>4</th>\n",
              "      <td>198</td>\n",
              "      <td>-6349602347932703147</td>\n",
              "      <td>0</td>\n",
              "      <td>6984152891252102027</td>\n",
              "      <td>0</td>\n",
              "      <td>0</td>\n",
              "      <td>0</td>\n",
              "      <td>0</td>\n",
              "      <td>0</td>\n",
              "      <td>0</td>\n",
              "      <td>0</td>\n",
              "      <td>0</td>\n",
              "      <td>0</td>\n",
              "      <td>0</td>\n",
              "      <td>0</td>\n",
              "      <td>0</td>\n",
              "      <td>1</td>\n",
              "      <td>0</td>\n",
              "      <td>0</td>\n",
              "      <td>1</td>\n",
              "      <td>1</td>\n",
              "      <td>0</td>\n",
              "      <td>0</td>\n",
              "      <td>0</td>\n",
              "      <td>0</td>\n",
              "      <td>0</td>\n",
              "      <td>0</td>\n",
              "      <td>0</td>\n",
              "      <td>0</td>\n",
              "      <td>0</td>\n",
              "      <td>0</td>\n",
              "      <td>0</td>\n",
              "      <td>0</td>\n",
              "      <td>0</td>\n",
              "      <td>0</td>\n",
              "      <td>0</td>\n",
              "      <td>0</td>\n",
              "      <td>1</td>\n",
              "      <td>0</td>\n",
              "      <td>0</td>\n",
              "      <td>0</td>\n",
              "      <td>0</td>\n",
              "      <td>0</td>\n",
              "      <td>1</td>\n",
              "      <td>0</td>\n",
              "      <td>0</td>\n",
              "      <td>0</td>\n",
              "      <td>0</td>\n",
              "      <td>0</td>\n",
              "      <td>0</td>\n",
              "      <td>0</td>\n",
              "      <td>0</td>\n",
              "      <td>0</td>\n",
              "      <td>0</td>\n",
              "      <td>0</td>\n",
              "      <td>0</td>\n",
              "      <td>0</td>\n",
              "      <td>0</td>\n",
              "      <td>0</td>\n",
              "      <td>0</td>\n",
              "      <td>0</td>\n",
              "      <td>0</td>\n",
              "      <td>0</td>\n",
              "      <td>0</td>\n",
              "      <td>0</td>\n",
              "      <td>0</td>\n",
              "      <td>0</td>\n",
              "      <td>0</td>\n",
              "      <td>0</td>\n",
              "      <td>0</td>\n",
              "      <td>0</td>\n",
              "      <td>0</td>\n",
              "      <td>0</td>\n",
              "      <td>0</td>\n",
              "      <td>0</td>\n",
              "      <td>0</td>\n",
              "      <td>0</td>\n",
              "      <td>0</td>\n",
              "      <td>0</td>\n",
              "      <td>4</td>\n",
              "    </tr>\n",
              "  </tbody>\n",
              "</table>\n",
              "</div>"
            ],
            "text/plain": [
              "   event_id               app_id  ...  device_model_魅蓝metal  num_group\n",
              "0       198 -8807740666788515175  ...                     0          4\n",
              "1       198 -7415261454408512527  ...                     0          4\n",
              "2       198 -6538188762242952077  ...                     0          4\n",
              "3       198 -6493194103110420302  ...                     0          4\n",
              "4       198 -6349602347932703147  ...                     0          4\n",
              "\n",
              "[5 rows x 80 columns]"
            ]
          },
          "metadata": {},
          "execution_count": 3
        }
      ]
    },
    {
      "cell_type": "code",
      "metadata": {
        "id": "rgH9EyuBx4vc"
      },
      "source": [
        "# Dropping AppID as I don't think it will be helpful for our question\n",
        "master_df = master_df.drop(columns=[\"app_id\"])\n"
      ],
      "execution_count": null,
      "outputs": []
    },
    {
      "cell_type": "code",
      "metadata": {
        "id": "Gv0lQw9d_Ryz",
        "colab": {
          "base_uri": "https://localhost:8080/"
        },
        "outputId": "ab015b06-79c5-4359-b4fc-75bdcfadd28a"
      },
      "source": [
        "\n",
        "master_df[\"num_group\"].value_counts()\n"
      ],
      "execution_count": null,
      "outputs": [
        {
          "output_type": "execute_result",
          "data": {
            "text/plain": [
              "5     2974\n",
              "4     2697\n",
              "3     1415\n",
              "1     1292\n",
              "2      960\n",
              "11     863\n",
              "10     687\n",
              "0      638\n",
              "9      405\n",
              "8      283\n",
              "6      194\n",
              "7      143\n",
              "Name: num_group, dtype: int64"
            ]
          },
          "metadata": {},
          "execution_count": 5
        }
      ]
    },
    {
      "cell_type": "code",
      "metadata": {
        "id": "MUQosOj2Ruc9"
      },
      "source": [
        "numerical_columns = [\"device_id\", \"event_id\"]\n"
      ],
      "execution_count": null,
      "outputs": []
    },
    {
      "cell_type": "markdown",
      "metadata": {
        "id": "d7H2CRIUR2De"
      },
      "source": [
        "# Select K Best"
      ]
    },
    {
      "cell_type": "code",
      "metadata": {
        "id": "w4XtgBQ0R3UQ"
      },
      "source": [
        "# splitting up the data and choosing num_group as target variable\n",
        "X = master_df.drop(columns=[\"num_group\"])\n",
        "y = master_df[\"num_group\"]\n",
        "\n",
        "X_train, X_test, y_train, y_test = train_test_split(\n",
        "    X, y, test_size=0.20, random_state=13, stratify=y\n",
        ")\n"
      ],
      "execution_count": null,
      "outputs": []
    },
    {
      "cell_type": "code",
      "metadata": {
        "id": "nKJHOTOKog3P"
      },
      "source": [
        "# set up preprocessing for pipeline (used to scale features)\n",
        "preprocessing = ColumnTransformer(\n",
        "    [(\"scale\", StandardScaler(), numerical_columns),], remainder=\"passthrough\",\n",
        ")\n",
        "\n"
      ],
      "execution_count": null,
      "outputs": []
    },
    {
      "cell_type": "markdown",
      "metadata": {
        "id": "EnzAyE28o-J3"
      },
      "source": [
        "## Random Forest Classifier"
      ]
    },
    {
      "cell_type": "code",
      "metadata": {
        "id": "Eiv56ZWnpKJw",
        "colab": {
          "base_uri": "https://localhost:8080/"
        },
        "outputId": "7d60c78f-0f80-4889-9f73-e7359edf1b88"
      },
      "source": [
        "pipeline = Pipeline(\n",
        "    [(\"preprocessing\", preprocessing), (\"rf\", RandomForestClassifier())], verbose=True\n",
        ")\n",
        "\n",
        "pipeline.fit(X_train, y_train)\n"
      ],
      "execution_count": null,
      "outputs": [
        {
          "output_type": "stream",
          "name": "stdout",
          "text": [
            "[Pipeline] ..... (step 1 of 2) Processing preprocessing, total=   0.0s\n",
            "[Pipeline] ................ (step 2 of 2) Processing rf, total=   1.2s\n"
          ]
        },
        {
          "output_type": "execute_result",
          "data": {
            "text/plain": [
              "Pipeline(steps=[('preprocessing',\n",
              "                 ColumnTransformer(remainder='passthrough',\n",
              "                                   transformers=[('scale', StandardScaler(),\n",
              "                                                  ['device_id', 'event_id'])])),\n",
              "                ('rf', RandomForestClassifier())],\n",
              "         verbose=True)"
            ]
          },
          "metadata": {},
          "execution_count": 9
        }
      ]
    },
    {
      "cell_type": "markdown",
      "metadata": {
        "id": "9hj7H3bOpIgP"
      },
      "source": [
        "Grid search"
      ]
    },
    {
      "cell_type": "code",
      "metadata": {
        "id": "z3bn9Euao3eX",
        "colab": {
          "base_uri": "https://localhost:8080/"
        },
        "outputId": "7424a509-f822-4b4f-edb1-5ed14f600465"
      },
      "source": [
        "# Max depth of 50 provides a better score, this is much better than the previous score of around 0.2.\n",
        "# To improve score suggest increasing max depth even more\n",
        "grid = {\n",
        "    \"rf__max_depth\": [50, 70, 90, 110],\n",
        "    \"rf__n_estimators\": [1, 10, 100],\n",
        "    \"rf__min_samples_leaf\": [1, 3, 5, 7],\n",
        "    \"rf__criterion\": [\"gini\"],\n",
        "}\n",
        "\n",
        "model = GridSearchCV(pipeline, grid, n_jobs=-1, verbose=True)\n",
        "model.fit(X_train, y_train)\n"
      ],
      "execution_count": null,
      "outputs": [
        {
          "output_type": "stream",
          "name": "stdout",
          "text": [
            "Fitting 5 folds for each of 48 candidates, totalling 240 fits\n",
            "[Pipeline] ..... (step 1 of 2) Processing preprocessing, total=   0.0s\n",
            "[Pipeline] ................ (step 2 of 2) Processing rf, total=   1.1s\n"
          ]
        },
        {
          "output_type": "execute_result",
          "data": {
            "text/plain": [
              "GridSearchCV(estimator=Pipeline(steps=[('preprocessing',\n",
              "                                        ColumnTransformer(remainder='passthrough',\n",
              "                                                          transformers=[('scale',\n",
              "                                                                         StandardScaler(),\n",
              "                                                                         ['device_id',\n",
              "                                                                          'event_id'])])),\n",
              "                                       ('rf', RandomForestClassifier())],\n",
              "                                verbose=True),\n",
              "             n_jobs=-1,\n",
              "             param_grid={'rf__criterion': ['gini'],\n",
              "                         'rf__max_depth': [50, 70, 90, 110],\n",
              "                         'rf__min_samples_leaf': [1, 3, 5, 7],\n",
              "                         'rf__n_estimators': [1, 10, 100]},\n",
              "             verbose=True)"
            ]
          },
          "metadata": {},
          "execution_count": 10
        }
      ]
    },
    {
      "cell_type": "code",
      "metadata": {
        "id": "tkQEYIt-pYkX",
        "colab": {
          "base_uri": "https://localhost:8080/"
        },
        "outputId": "e113063a-4642-4afb-c674-3ddd0c13a09c"
      },
      "source": [
        "model.best_params_\n"
      ],
      "execution_count": null,
      "outputs": [
        {
          "output_type": "execute_result",
          "data": {
            "text/plain": [
              "{'rf__criterion': 'gini',\n",
              " 'rf__max_depth': 110,\n",
              " 'rf__min_samples_leaf': 1,\n",
              " 'rf__n_estimators': 100}"
            ]
          },
          "metadata": {},
          "execution_count": 11
        }
      ]
    },
    {
      "cell_type": "code",
      "metadata": {
        "id": "cb5SPrB4pY2o",
        "colab": {
          "base_uri": "https://localhost:8080/"
        },
        "outputId": "6fb35c00-dc3b-4ca0-fe57-b0f44ab55dd1"
      },
      "source": [
        "# Model still appears to be extremely overfitting\n",
        "train_score = model.score(X_train, y_train)\n",
        "test_score = model.score(X_test, y_test)\n",
        "\n",
        "print(f\"Train score: {train_score}\")\n",
        "print(f\"Test score: {test_score}\")\n"
      ],
      "execution_count": null,
      "outputs": [
        {
          "output_type": "stream",
          "name": "stdout",
          "text": [
            "Train score: 1.0\n",
            "Test score: 0.9872560732775787\n"
          ]
        }
      ]
    },
    {
      "cell_type": "code",
      "metadata": {
        "id": "mVKdw7tDqbuP",
        "colab": {
          "base_uri": "https://localhost:8080/",
          "height": 425
        },
        "outputId": "daa2626d-c431-4921-d5e4-c8dd3d7a9478"
      },
      "source": [
        "y_pred = model.predict(X_test)\n",
        "\n",
        "con_mat = pd.DataFrame(\n",
        "    confusion_matrix(y_test, y_pred),\n",
        "    index=[\n",
        "        \"Actual M22-\",\n",
        "        \"Actual M23-26\",\n",
        "        \"Actual M27-28\",\n",
        "        \"Actual M29-31\",\n",
        "        \"Actual M32-38\",\n",
        "        \"Actual M39+\",\n",
        "        \"Actual F23-\",\n",
        "        \"Actual F24-26\",\n",
        "        \"Actual F27-28\",\n",
        "        \"Actual F29-32\",\n",
        "        \"Actual F33-42\",\n",
        "        \"Actual F43+\",\n",
        "    ],\n",
        "    columns=[\n",
        "        \"Predicted M22-\",\n",
        "        \"Predicted M23-26\",\n",
        "        \"Predicted M27-28\",\n",
        "        \"Predicted M29-31\",\n",
        "        \"Predicted M32-38\",\n",
        "        \"Predicted M39+\",\n",
        "        \"Predicted F23-\",\n",
        "        \"Predicted F24-26\",\n",
        "        \"Predicted F27-28\",\n",
        "        \"Predicted F29-32\",\n",
        "        \"Predicted F33-42\",\n",
        "        \"Predicted F43+\",\n",
        "    ],\n",
        ")\n",
        "con_mat.style.background_gradient(axis=None)\n",
        "\n",
        "\n"
      ],
      "execution_count": null,
      "outputs": [
        {
          "output_type": "execute_result",
          "data": {
            "text/html": [
              "<style  type=\"text/css\" >\n",
              "#T_73b63328_499d_11ec_bda8_0242ac1c0002row0_col0{\n",
              "            background-color:  #d9d8ea;\n",
              "            color:  #000000;\n",
              "        }#T_73b63328_499d_11ec_bda8_0242ac1c0002row0_col1,#T_73b63328_499d_11ec_bda8_0242ac1c0002row0_col2,#T_73b63328_499d_11ec_bda8_0242ac1c0002row0_col3,#T_73b63328_499d_11ec_bda8_0242ac1c0002row0_col4,#T_73b63328_499d_11ec_bda8_0242ac1c0002row0_col5,#T_73b63328_499d_11ec_bda8_0242ac1c0002row0_col6,#T_73b63328_499d_11ec_bda8_0242ac1c0002row0_col7,#T_73b63328_499d_11ec_bda8_0242ac1c0002row0_col8,#T_73b63328_499d_11ec_bda8_0242ac1c0002row0_col9,#T_73b63328_499d_11ec_bda8_0242ac1c0002row0_col10,#T_73b63328_499d_11ec_bda8_0242ac1c0002row0_col11,#T_73b63328_499d_11ec_bda8_0242ac1c0002row1_col0,#T_73b63328_499d_11ec_bda8_0242ac1c0002row1_col2,#T_73b63328_499d_11ec_bda8_0242ac1c0002row1_col3,#T_73b63328_499d_11ec_bda8_0242ac1c0002row1_col4,#T_73b63328_499d_11ec_bda8_0242ac1c0002row1_col5,#T_73b63328_499d_11ec_bda8_0242ac1c0002row1_col6,#T_73b63328_499d_11ec_bda8_0242ac1c0002row1_col7,#T_73b63328_499d_11ec_bda8_0242ac1c0002row1_col8,#T_73b63328_499d_11ec_bda8_0242ac1c0002row1_col9,#T_73b63328_499d_11ec_bda8_0242ac1c0002row1_col10,#T_73b63328_499d_11ec_bda8_0242ac1c0002row1_col11,#T_73b63328_499d_11ec_bda8_0242ac1c0002row2_col0,#T_73b63328_499d_11ec_bda8_0242ac1c0002row2_col1,#T_73b63328_499d_11ec_bda8_0242ac1c0002row2_col3,#T_73b63328_499d_11ec_bda8_0242ac1c0002row2_col4,#T_73b63328_499d_11ec_bda8_0242ac1c0002row2_col5,#T_73b63328_499d_11ec_bda8_0242ac1c0002row2_col6,#T_73b63328_499d_11ec_bda8_0242ac1c0002row2_col7,#T_73b63328_499d_11ec_bda8_0242ac1c0002row2_col8,#T_73b63328_499d_11ec_bda8_0242ac1c0002row2_col9,#T_73b63328_499d_11ec_bda8_0242ac1c0002row2_col10,#T_73b63328_499d_11ec_bda8_0242ac1c0002row2_col11,#T_73b63328_499d_11ec_bda8_0242ac1c0002row3_col1,#T_73b63328_499d_11ec_bda8_0242ac1c0002row3_col2,#T_73b63328_499d_11ec_bda8_0242ac1c0002row3_col4,#T_73b63328_499d_11ec_bda8_0242ac1c0002row3_col5,#T_73b63328_499d_11ec_bda8_0242ac1c0002row3_col6,#T_73b63328_499d_11ec_bda8_0242ac1c0002row3_col7,#T_73b63328_499d_11ec_bda8_0242ac1c0002row3_col8,#T_73b63328_499d_11ec_bda8_0242ac1c0002row3_col9,#T_73b63328_499d_11ec_bda8_0242ac1c0002row3_col10,#T_73b63328_499d_11ec_bda8_0242ac1c0002row3_col11,#T_73b63328_499d_11ec_bda8_0242ac1c0002row4_col0,#T_73b63328_499d_11ec_bda8_0242ac1c0002row4_col1,#T_73b63328_499d_11ec_bda8_0242ac1c0002row4_col2,#T_73b63328_499d_11ec_bda8_0242ac1c0002row4_col3,#T_73b63328_499d_11ec_bda8_0242ac1c0002row4_col5,#T_73b63328_499d_11ec_bda8_0242ac1c0002row4_col6,#T_73b63328_499d_11ec_bda8_0242ac1c0002row4_col7,#T_73b63328_499d_11ec_bda8_0242ac1c0002row4_col8,#T_73b63328_499d_11ec_bda8_0242ac1c0002row4_col9,#T_73b63328_499d_11ec_bda8_0242ac1c0002row4_col10,#T_73b63328_499d_11ec_bda8_0242ac1c0002row4_col11,#T_73b63328_499d_11ec_bda8_0242ac1c0002row5_col0,#T_73b63328_499d_11ec_bda8_0242ac1c0002row5_col1,#T_73b63328_499d_11ec_bda8_0242ac1c0002row5_col2,#T_73b63328_499d_11ec_bda8_0242ac1c0002row5_col3,#T_73b63328_499d_11ec_bda8_0242ac1c0002row5_col4,#T_73b63328_499d_11ec_bda8_0242ac1c0002row5_col6,#T_73b63328_499d_11ec_bda8_0242ac1c0002row5_col7,#T_73b63328_499d_11ec_bda8_0242ac1c0002row5_col8,#T_73b63328_499d_11ec_bda8_0242ac1c0002row5_col9,#T_73b63328_499d_11ec_bda8_0242ac1c0002row5_col10,#T_73b63328_499d_11ec_bda8_0242ac1c0002row5_col11,#T_73b63328_499d_11ec_bda8_0242ac1c0002row6_col0,#T_73b63328_499d_11ec_bda8_0242ac1c0002row6_col1,#T_73b63328_499d_11ec_bda8_0242ac1c0002row6_col2,#T_73b63328_499d_11ec_bda8_0242ac1c0002row6_col3,#T_73b63328_499d_11ec_bda8_0242ac1c0002row6_col4,#T_73b63328_499d_11ec_bda8_0242ac1c0002row6_col5,#T_73b63328_499d_11ec_bda8_0242ac1c0002row6_col7,#T_73b63328_499d_11ec_bda8_0242ac1c0002row6_col8,#T_73b63328_499d_11ec_bda8_0242ac1c0002row6_col9,#T_73b63328_499d_11ec_bda8_0242ac1c0002row6_col10,#T_73b63328_499d_11ec_bda8_0242ac1c0002row6_col11,#T_73b63328_499d_11ec_bda8_0242ac1c0002row7_col0,#T_73b63328_499d_11ec_bda8_0242ac1c0002row7_col1,#T_73b63328_499d_11ec_bda8_0242ac1c0002row7_col2,#T_73b63328_499d_11ec_bda8_0242ac1c0002row7_col3,#T_73b63328_499d_11ec_bda8_0242ac1c0002row7_col4,#T_73b63328_499d_11ec_bda8_0242ac1c0002row7_col5,#T_73b63328_499d_11ec_bda8_0242ac1c0002row7_col6,#T_73b63328_499d_11ec_bda8_0242ac1c0002row7_col8,#T_73b63328_499d_11ec_bda8_0242ac1c0002row7_col9,#T_73b63328_499d_11ec_bda8_0242ac1c0002row7_col10,#T_73b63328_499d_11ec_bda8_0242ac1c0002row7_col11,#T_73b63328_499d_11ec_bda8_0242ac1c0002row8_col0,#T_73b63328_499d_11ec_bda8_0242ac1c0002row8_col1,#T_73b63328_499d_11ec_bda8_0242ac1c0002row8_col2,#T_73b63328_499d_11ec_bda8_0242ac1c0002row8_col3,#T_73b63328_499d_11ec_bda8_0242ac1c0002row8_col4,#T_73b63328_499d_11ec_bda8_0242ac1c0002row8_col5,#T_73b63328_499d_11ec_bda8_0242ac1c0002row8_col6,#T_73b63328_499d_11ec_bda8_0242ac1c0002row8_col7,#T_73b63328_499d_11ec_bda8_0242ac1c0002row8_col9,#T_73b63328_499d_11ec_bda8_0242ac1c0002row8_col10,#T_73b63328_499d_11ec_bda8_0242ac1c0002row8_col11,#T_73b63328_499d_11ec_bda8_0242ac1c0002row9_col0,#T_73b63328_499d_11ec_bda8_0242ac1c0002row9_col1,#T_73b63328_499d_11ec_bda8_0242ac1c0002row9_col2,#T_73b63328_499d_11ec_bda8_0242ac1c0002row9_col3,#T_73b63328_499d_11ec_bda8_0242ac1c0002row9_col4,#T_73b63328_499d_11ec_bda8_0242ac1c0002row9_col5,#T_73b63328_499d_11ec_bda8_0242ac1c0002row9_col6,#T_73b63328_499d_11ec_bda8_0242ac1c0002row9_col7,#T_73b63328_499d_11ec_bda8_0242ac1c0002row9_col8,#T_73b63328_499d_11ec_bda8_0242ac1c0002row9_col10,#T_73b63328_499d_11ec_bda8_0242ac1c0002row9_col11,#T_73b63328_499d_11ec_bda8_0242ac1c0002row10_col0,#T_73b63328_499d_11ec_bda8_0242ac1c0002row10_col1,#T_73b63328_499d_11ec_bda8_0242ac1c0002row10_col2,#T_73b63328_499d_11ec_bda8_0242ac1c0002row10_col3,#T_73b63328_499d_11ec_bda8_0242ac1c0002row10_col4,#T_73b63328_499d_11ec_bda8_0242ac1c0002row10_col5,#T_73b63328_499d_11ec_bda8_0242ac1c0002row10_col6,#T_73b63328_499d_11ec_bda8_0242ac1c0002row10_col7,#T_73b63328_499d_11ec_bda8_0242ac1c0002row10_col8,#T_73b63328_499d_11ec_bda8_0242ac1c0002row10_col9,#T_73b63328_499d_11ec_bda8_0242ac1c0002row10_col11,#T_73b63328_499d_11ec_bda8_0242ac1c0002row11_col0,#T_73b63328_499d_11ec_bda8_0242ac1c0002row11_col1,#T_73b63328_499d_11ec_bda8_0242ac1c0002row11_col2,#T_73b63328_499d_11ec_bda8_0242ac1c0002row11_col3,#T_73b63328_499d_11ec_bda8_0242ac1c0002row11_col4,#T_73b63328_499d_11ec_bda8_0242ac1c0002row11_col5,#T_73b63328_499d_11ec_bda8_0242ac1c0002row11_col6,#T_73b63328_499d_11ec_bda8_0242ac1c0002row11_col7,#T_73b63328_499d_11ec_bda8_0242ac1c0002row11_col8,#T_73b63328_499d_11ec_bda8_0242ac1c0002row11_col9,#T_73b63328_499d_11ec_bda8_0242ac1c0002row11_col10{\n",
              "            background-color:  #fff7fb;\n",
              "            color:  #000000;\n",
              "        }#T_73b63328_499d_11ec_bda8_0242ac1c0002row1_col1{\n",
              "            background-color:  #8fb4d6;\n",
              "            color:  #000000;\n",
              "        }#T_73b63328_499d_11ec_bda8_0242ac1c0002row2_col2{\n",
              "            background-color:  #b8c6e0;\n",
              "            color:  #000000;\n",
              "        }#T_73b63328_499d_11ec_bda8_0242ac1c0002row3_col0{\n",
              "            background-color:  #fef6fa;\n",
              "            color:  #000000;\n",
              "        }#T_73b63328_499d_11ec_bda8_0242ac1c0002row3_col3{\n",
              "            background-color:  #81aed2;\n",
              "            color:  #000000;\n",
              "        }#T_73b63328_499d_11ec_bda8_0242ac1c0002row4_col4{\n",
              "            background-color:  #03517e;\n",
              "            color:  #f1f1f1;\n",
              "        }#T_73b63328_499d_11ec_bda8_0242ac1c0002row5_col5{\n",
              "            background-color:  #023858;\n",
              "            color:  #f1f1f1;\n",
              "        }#T_73b63328_499d_11ec_bda8_0242ac1c0002row6_col6{\n",
              "            background-color:  #f5eff6;\n",
              "            color:  #000000;\n",
              "        }#T_73b63328_499d_11ec_bda8_0242ac1c0002row7_col7{\n",
              "            background-color:  #f8f1f8;\n",
              "            color:  #000000;\n",
              "        }#T_73b63328_499d_11ec_bda8_0242ac1c0002row8_col8{\n",
              "            background-color:  #f1ebf4;\n",
              "            color:  #000000;\n",
              "        }#T_73b63328_499d_11ec_bda8_0242ac1c0002row9_col9{\n",
              "            background-color:  #e9e5f1;\n",
              "            color:  #000000;\n",
              "        }#T_73b63328_499d_11ec_bda8_0242ac1c0002row10_col10{\n",
              "            background-color:  #d4d4e8;\n",
              "            color:  #000000;\n",
              "        }#T_73b63328_499d_11ec_bda8_0242ac1c0002row11_col11{\n",
              "            background-color:  #c4cbe3;\n",
              "            color:  #000000;\n",
              "        }</style><table id=\"T_73b63328_499d_11ec_bda8_0242ac1c0002\" class=\"dataframe\"><thead>    <tr>        <th class=\"blank level0\" ></th>        <th class=\"col_heading level0 col0\" >Predicted M22-</th>        <th class=\"col_heading level0 col1\" >Predicted M23-26</th>        <th class=\"col_heading level0 col2\" >Predicted M27-28</th>        <th class=\"col_heading level0 col3\" >Predicted M29-31</th>        <th class=\"col_heading level0 col4\" >Predicted M32-38</th>        <th class=\"col_heading level0 col5\" >Predicted M39+</th>        <th class=\"col_heading level0 col6\" >Predicted F23-</th>        <th class=\"col_heading level0 col7\" >Predicted F24-26</th>        <th class=\"col_heading level0 col8\" >Predicted F27-28</th>        <th class=\"col_heading level0 col9\" >Predicted F29-32</th>        <th class=\"col_heading level0 col10\" >Predicted F33-42</th>        <th class=\"col_heading level0 col11\" >Predicted F43+</th>    </tr></thead><tbody>\n",
              "                <tr>\n",
              "                        <th id=\"T_73b63328_499d_11ec_bda8_0242ac1c0002level0_row0\" class=\"row_heading level0 row0\" >Actual M22-</th>\n",
              "                        <td id=\"T_73b63328_499d_11ec_bda8_0242ac1c0002row0_col0\" class=\"data row0 col0\" >125</td>\n",
              "                        <td id=\"T_73b63328_499d_11ec_bda8_0242ac1c0002row0_col1\" class=\"data row0 col1\" >0</td>\n",
              "                        <td id=\"T_73b63328_499d_11ec_bda8_0242ac1c0002row0_col2\" class=\"data row0 col2\" >0</td>\n",
              "                        <td id=\"T_73b63328_499d_11ec_bda8_0242ac1c0002row0_col3\" class=\"data row0 col3\" >1</td>\n",
              "                        <td id=\"T_73b63328_499d_11ec_bda8_0242ac1c0002row0_col4\" class=\"data row0 col4\" >1</td>\n",
              "                        <td id=\"T_73b63328_499d_11ec_bda8_0242ac1c0002row0_col5\" class=\"data row0 col5\" >0</td>\n",
              "                        <td id=\"T_73b63328_499d_11ec_bda8_0242ac1c0002row0_col6\" class=\"data row0 col6\" >0</td>\n",
              "                        <td id=\"T_73b63328_499d_11ec_bda8_0242ac1c0002row0_col7\" class=\"data row0 col7\" >0</td>\n",
              "                        <td id=\"T_73b63328_499d_11ec_bda8_0242ac1c0002row0_col8\" class=\"data row0 col8\" >0</td>\n",
              "                        <td id=\"T_73b63328_499d_11ec_bda8_0242ac1c0002row0_col9\" class=\"data row0 col9\" >1</td>\n",
              "                        <td id=\"T_73b63328_499d_11ec_bda8_0242ac1c0002row0_col10\" class=\"data row0 col10\" >0</td>\n",
              "                        <td id=\"T_73b63328_499d_11ec_bda8_0242ac1c0002row0_col11\" class=\"data row0 col11\" >0</td>\n",
              "            </tr>\n",
              "            <tr>\n",
              "                        <th id=\"T_73b63328_499d_11ec_bda8_0242ac1c0002level0_row1\" class=\"row_heading level0 row1\" >Actual M23-26</th>\n",
              "                        <td id=\"T_73b63328_499d_11ec_bda8_0242ac1c0002row1_col0\" class=\"data row1 col0\" >1</td>\n",
              "                        <td id=\"T_73b63328_499d_11ec_bda8_0242ac1c0002row1_col1\" class=\"data row1 col1\" >255</td>\n",
              "                        <td id=\"T_73b63328_499d_11ec_bda8_0242ac1c0002row1_col2\" class=\"data row1 col2\" >0</td>\n",
              "                        <td id=\"T_73b63328_499d_11ec_bda8_0242ac1c0002row1_col3\" class=\"data row1 col3\" >0</td>\n",
              "                        <td id=\"T_73b63328_499d_11ec_bda8_0242ac1c0002row1_col4\" class=\"data row1 col4\" >1</td>\n",
              "                        <td id=\"T_73b63328_499d_11ec_bda8_0242ac1c0002row1_col5\" class=\"data row1 col5\" >0</td>\n",
              "                        <td id=\"T_73b63328_499d_11ec_bda8_0242ac1c0002row1_col6\" class=\"data row1 col6\" >0</td>\n",
              "                        <td id=\"T_73b63328_499d_11ec_bda8_0242ac1c0002row1_col7\" class=\"data row1 col7\" >0</td>\n",
              "                        <td id=\"T_73b63328_499d_11ec_bda8_0242ac1c0002row1_col8\" class=\"data row1 col8\" >0</td>\n",
              "                        <td id=\"T_73b63328_499d_11ec_bda8_0242ac1c0002row1_col9\" class=\"data row1 col9\" >1</td>\n",
              "                        <td id=\"T_73b63328_499d_11ec_bda8_0242ac1c0002row1_col10\" class=\"data row1 col10\" >0</td>\n",
              "                        <td id=\"T_73b63328_499d_11ec_bda8_0242ac1c0002row1_col11\" class=\"data row1 col11\" >0</td>\n",
              "            </tr>\n",
              "            <tr>\n",
              "                        <th id=\"T_73b63328_499d_11ec_bda8_0242ac1c0002level0_row2\" class=\"row_heading level0 row2\" >Actual M27-28</th>\n",
              "                        <td id=\"T_73b63328_499d_11ec_bda8_0242ac1c0002row2_col0\" class=\"data row2 col0\" >0</td>\n",
              "                        <td id=\"T_73b63328_499d_11ec_bda8_0242ac1c0002row2_col1\" class=\"data row2 col1\" >0</td>\n",
              "                        <td id=\"T_73b63328_499d_11ec_bda8_0242ac1c0002row2_col2\" class=\"data row2 col2\" >189</td>\n",
              "                        <td id=\"T_73b63328_499d_11ec_bda8_0242ac1c0002row2_col3\" class=\"data row2 col3\" >1</td>\n",
              "                        <td id=\"T_73b63328_499d_11ec_bda8_0242ac1c0002row2_col4\" class=\"data row2 col4\" >0</td>\n",
              "                        <td id=\"T_73b63328_499d_11ec_bda8_0242ac1c0002row2_col5\" class=\"data row2 col5\" >2</td>\n",
              "                        <td id=\"T_73b63328_499d_11ec_bda8_0242ac1c0002row2_col6\" class=\"data row2 col6\" >0</td>\n",
              "                        <td id=\"T_73b63328_499d_11ec_bda8_0242ac1c0002row2_col7\" class=\"data row2 col7\" >0</td>\n",
              "                        <td id=\"T_73b63328_499d_11ec_bda8_0242ac1c0002row2_col8\" class=\"data row2 col8\" >0</td>\n",
              "                        <td id=\"T_73b63328_499d_11ec_bda8_0242ac1c0002row2_col9\" class=\"data row2 col9\" >0</td>\n",
              "                        <td id=\"T_73b63328_499d_11ec_bda8_0242ac1c0002row2_col10\" class=\"data row2 col10\" >0</td>\n",
              "                        <td id=\"T_73b63328_499d_11ec_bda8_0242ac1c0002row2_col11\" class=\"data row2 col11\" >0</td>\n",
              "            </tr>\n",
              "            <tr>\n",
              "                        <th id=\"T_73b63328_499d_11ec_bda8_0242ac1c0002level0_row3\" class=\"row_heading level0 row3\" >Actual M29-31</th>\n",
              "                        <td id=\"T_73b63328_499d_11ec_bda8_0242ac1c0002row3_col0\" class=\"data row3 col0\" >5</td>\n",
              "                        <td id=\"T_73b63328_499d_11ec_bda8_0242ac1c0002row3_col1\" class=\"data row3 col1\" >0</td>\n",
              "                        <td id=\"T_73b63328_499d_11ec_bda8_0242ac1c0002row3_col2\" class=\"data row3 col2\" >0</td>\n",
              "                        <td id=\"T_73b63328_499d_11ec_bda8_0242ac1c0002row3_col3\" class=\"data row3 col3\" >276</td>\n",
              "                        <td id=\"T_73b63328_499d_11ec_bda8_0242ac1c0002row3_col4\" class=\"data row3 col4\" >0</td>\n",
              "                        <td id=\"T_73b63328_499d_11ec_bda8_0242ac1c0002row3_col5\" class=\"data row3 col5\" >1</td>\n",
              "                        <td id=\"T_73b63328_499d_11ec_bda8_0242ac1c0002row3_col6\" class=\"data row3 col6\" >0</td>\n",
              "                        <td id=\"T_73b63328_499d_11ec_bda8_0242ac1c0002row3_col7\" class=\"data row3 col7\" >0</td>\n",
              "                        <td id=\"T_73b63328_499d_11ec_bda8_0242ac1c0002row3_col8\" class=\"data row3 col8\" >0</td>\n",
              "                        <td id=\"T_73b63328_499d_11ec_bda8_0242ac1c0002row3_col9\" class=\"data row3 col9\" >0</td>\n",
              "                        <td id=\"T_73b63328_499d_11ec_bda8_0242ac1c0002row3_col10\" class=\"data row3 col10\" >0</td>\n",
              "                        <td id=\"T_73b63328_499d_11ec_bda8_0242ac1c0002row3_col11\" class=\"data row3 col11\" >1</td>\n",
              "            </tr>\n",
              "            <tr>\n",
              "                        <th id=\"T_73b63328_499d_11ec_bda8_0242ac1c0002level0_row4\" class=\"row_heading level0 row4\" >Actual M32-38</th>\n",
              "                        <td id=\"T_73b63328_499d_11ec_bda8_0242ac1c0002row4_col0\" class=\"data row4 col0\" >0</td>\n",
              "                        <td id=\"T_73b63328_499d_11ec_bda8_0242ac1c0002row4_col1\" class=\"data row4 col1\" >0</td>\n",
              "                        <td id=\"T_73b63328_499d_11ec_bda8_0242ac1c0002row4_col2\" class=\"data row4 col2\" >0</td>\n",
              "                        <td id=\"T_73b63328_499d_11ec_bda8_0242ac1c0002row4_col3\" class=\"data row4 col3\" >0</td>\n",
              "                        <td id=\"T_73b63328_499d_11ec_bda8_0242ac1c0002row4_col4\" class=\"data row4 col4\" >535</td>\n",
              "                        <td id=\"T_73b63328_499d_11ec_bda8_0242ac1c0002row4_col5\" class=\"data row4 col5\" >2</td>\n",
              "                        <td id=\"T_73b63328_499d_11ec_bda8_0242ac1c0002row4_col6\" class=\"data row4 col6\" >0</td>\n",
              "                        <td id=\"T_73b63328_499d_11ec_bda8_0242ac1c0002row4_col7\" class=\"data row4 col7\" >0</td>\n",
              "                        <td id=\"T_73b63328_499d_11ec_bda8_0242ac1c0002row4_col8\" class=\"data row4 col8\" >1</td>\n",
              "                        <td id=\"T_73b63328_499d_11ec_bda8_0242ac1c0002row4_col9\" class=\"data row4 col9\" >0</td>\n",
              "                        <td id=\"T_73b63328_499d_11ec_bda8_0242ac1c0002row4_col10\" class=\"data row4 col10\" >0</td>\n",
              "                        <td id=\"T_73b63328_499d_11ec_bda8_0242ac1c0002row4_col11\" class=\"data row4 col11\" >1</td>\n",
              "            </tr>\n",
              "            <tr>\n",
              "                        <th id=\"T_73b63328_499d_11ec_bda8_0242ac1c0002level0_row5\" class=\"row_heading level0 row5\" >Actual M39+</th>\n",
              "                        <td id=\"T_73b63328_499d_11ec_bda8_0242ac1c0002row5_col0\" class=\"data row5 col0\" >0</td>\n",
              "                        <td id=\"T_73b63328_499d_11ec_bda8_0242ac1c0002row5_col1\" class=\"data row5 col1\" >1</td>\n",
              "                        <td id=\"T_73b63328_499d_11ec_bda8_0242ac1c0002row5_col2\" class=\"data row5 col2\" >1</td>\n",
              "                        <td id=\"T_73b63328_499d_11ec_bda8_0242ac1c0002row5_col3\" class=\"data row5 col3\" >1</td>\n",
              "                        <td id=\"T_73b63328_499d_11ec_bda8_0242ac1c0002row5_col4\" class=\"data row5 col4\" >1</td>\n",
              "                        <td id=\"T_73b63328_499d_11ec_bda8_0242ac1c0002row5_col5\" class=\"data row5 col5\" >590</td>\n",
              "                        <td id=\"T_73b63328_499d_11ec_bda8_0242ac1c0002row5_col6\" class=\"data row5 col6\" >0</td>\n",
              "                        <td id=\"T_73b63328_499d_11ec_bda8_0242ac1c0002row5_col7\" class=\"data row5 col7\" >0</td>\n",
              "                        <td id=\"T_73b63328_499d_11ec_bda8_0242ac1c0002row5_col8\" class=\"data row5 col8\" >0</td>\n",
              "                        <td id=\"T_73b63328_499d_11ec_bda8_0242ac1c0002row5_col9\" class=\"data row5 col9\" >0</td>\n",
              "                        <td id=\"T_73b63328_499d_11ec_bda8_0242ac1c0002row5_col10\" class=\"data row5 col10\" >1</td>\n",
              "                        <td id=\"T_73b63328_499d_11ec_bda8_0242ac1c0002row5_col11\" class=\"data row5 col11\" >0</td>\n",
              "            </tr>\n",
              "            <tr>\n",
              "                        <th id=\"T_73b63328_499d_11ec_bda8_0242ac1c0002level0_row6\" class=\"row_heading level0 row6\" >Actual F23-</th>\n",
              "                        <td id=\"T_73b63328_499d_11ec_bda8_0242ac1c0002row6_col0\" class=\"data row6 col0\" >0</td>\n",
              "                        <td id=\"T_73b63328_499d_11ec_bda8_0242ac1c0002row6_col1\" class=\"data row6 col1\" >0</td>\n",
              "                        <td id=\"T_73b63328_499d_11ec_bda8_0242ac1c0002row6_col2\" class=\"data row6 col2\" >0</td>\n",
              "                        <td id=\"T_73b63328_499d_11ec_bda8_0242ac1c0002row6_col3\" class=\"data row6 col3\" >0</td>\n",
              "                        <td id=\"T_73b63328_499d_11ec_bda8_0242ac1c0002row6_col4\" class=\"data row6 col4\" >0</td>\n",
              "                        <td id=\"T_73b63328_499d_11ec_bda8_0242ac1c0002row6_col5\" class=\"data row6 col5\" >0</td>\n",
              "                        <td id=\"T_73b63328_499d_11ec_bda8_0242ac1c0002row6_col6\" class=\"data row6 col6\" >39</td>\n",
              "                        <td id=\"T_73b63328_499d_11ec_bda8_0242ac1c0002row6_col7\" class=\"data row6 col7\" >0</td>\n",
              "                        <td id=\"T_73b63328_499d_11ec_bda8_0242ac1c0002row6_col8\" class=\"data row6 col8\" >0</td>\n",
              "                        <td id=\"T_73b63328_499d_11ec_bda8_0242ac1c0002row6_col9\" class=\"data row6 col9\" >0</td>\n",
              "                        <td id=\"T_73b63328_499d_11ec_bda8_0242ac1c0002row6_col10\" class=\"data row6 col10\" >0</td>\n",
              "                        <td id=\"T_73b63328_499d_11ec_bda8_0242ac1c0002row6_col11\" class=\"data row6 col11\" >0</td>\n",
              "            </tr>\n",
              "            <tr>\n",
              "                        <th id=\"T_73b63328_499d_11ec_bda8_0242ac1c0002level0_row7\" class=\"row_heading level0 row7\" >Actual F24-26</th>\n",
              "                        <td id=\"T_73b63328_499d_11ec_bda8_0242ac1c0002row7_col0\" class=\"data row7 col0\" >0</td>\n",
              "                        <td id=\"T_73b63328_499d_11ec_bda8_0242ac1c0002row7_col1\" class=\"data row7 col1\" >0</td>\n",
              "                        <td id=\"T_73b63328_499d_11ec_bda8_0242ac1c0002row7_col2\" class=\"data row7 col2\" >0</td>\n",
              "                        <td id=\"T_73b63328_499d_11ec_bda8_0242ac1c0002row7_col3\" class=\"data row7 col3\" >0</td>\n",
              "                        <td id=\"T_73b63328_499d_11ec_bda8_0242ac1c0002row7_col4\" class=\"data row7 col4\" >2</td>\n",
              "                        <td id=\"T_73b63328_499d_11ec_bda8_0242ac1c0002row7_col5\" class=\"data row7 col5\" >0</td>\n",
              "                        <td id=\"T_73b63328_499d_11ec_bda8_0242ac1c0002row7_col6\" class=\"data row7 col6\" >0</td>\n",
              "                        <td id=\"T_73b63328_499d_11ec_bda8_0242ac1c0002row7_col7\" class=\"data row7 col7\" >26</td>\n",
              "                        <td id=\"T_73b63328_499d_11ec_bda8_0242ac1c0002row7_col8\" class=\"data row7 col8\" >0</td>\n",
              "                        <td id=\"T_73b63328_499d_11ec_bda8_0242ac1c0002row7_col9\" class=\"data row7 col9\" >0</td>\n",
              "                        <td id=\"T_73b63328_499d_11ec_bda8_0242ac1c0002row7_col10\" class=\"data row7 col10\" >1</td>\n",
              "                        <td id=\"T_73b63328_499d_11ec_bda8_0242ac1c0002row7_col11\" class=\"data row7 col11\" >0</td>\n",
              "            </tr>\n",
              "            <tr>\n",
              "                        <th id=\"T_73b63328_499d_11ec_bda8_0242ac1c0002level0_row8\" class=\"row_heading level0 row8\" >Actual F27-28</th>\n",
              "                        <td id=\"T_73b63328_499d_11ec_bda8_0242ac1c0002row8_col0\" class=\"data row8 col0\" >0</td>\n",
              "                        <td id=\"T_73b63328_499d_11ec_bda8_0242ac1c0002row8_col1\" class=\"data row8 col1\" >0</td>\n",
              "                        <td id=\"T_73b63328_499d_11ec_bda8_0242ac1c0002row8_col2\" class=\"data row8 col2\" >0</td>\n",
              "                        <td id=\"T_73b63328_499d_11ec_bda8_0242ac1c0002row8_col3\" class=\"data row8 col3\" >0</td>\n",
              "                        <td id=\"T_73b63328_499d_11ec_bda8_0242ac1c0002row8_col4\" class=\"data row8 col4\" >0</td>\n",
              "                        <td id=\"T_73b63328_499d_11ec_bda8_0242ac1c0002row8_col5\" class=\"data row8 col5\" >0</td>\n",
              "                        <td id=\"T_73b63328_499d_11ec_bda8_0242ac1c0002row8_col6\" class=\"data row8 col6\" >0</td>\n",
              "                        <td id=\"T_73b63328_499d_11ec_bda8_0242ac1c0002row8_col7\" class=\"data row8 col7\" >0</td>\n",
              "                        <td id=\"T_73b63328_499d_11ec_bda8_0242ac1c0002row8_col8\" class=\"data row8 col8\" >57</td>\n",
              "                        <td id=\"T_73b63328_499d_11ec_bda8_0242ac1c0002row8_col9\" class=\"data row8 col9\" >0</td>\n",
              "                        <td id=\"T_73b63328_499d_11ec_bda8_0242ac1c0002row8_col10\" class=\"data row8 col10\" >0</td>\n",
              "                        <td id=\"T_73b63328_499d_11ec_bda8_0242ac1c0002row8_col11\" class=\"data row8 col11\" >0</td>\n",
              "            </tr>\n",
              "            <tr>\n",
              "                        <th id=\"T_73b63328_499d_11ec_bda8_0242ac1c0002level0_row9\" class=\"row_heading level0 row9\" >Actual F29-32</th>\n",
              "                        <td id=\"T_73b63328_499d_11ec_bda8_0242ac1c0002row9_col0\" class=\"data row9 col0\" >0</td>\n",
              "                        <td id=\"T_73b63328_499d_11ec_bda8_0242ac1c0002row9_col1\" class=\"data row9 col1\" >0</td>\n",
              "                        <td id=\"T_73b63328_499d_11ec_bda8_0242ac1c0002row9_col2\" class=\"data row9 col2\" >0</td>\n",
              "                        <td id=\"T_73b63328_499d_11ec_bda8_0242ac1c0002row9_col3\" class=\"data row9 col3\" >0</td>\n",
              "                        <td id=\"T_73b63328_499d_11ec_bda8_0242ac1c0002row9_col4\" class=\"data row9 col4\" >0</td>\n",
              "                        <td id=\"T_73b63328_499d_11ec_bda8_0242ac1c0002row9_col5\" class=\"data row9 col5\" >0</td>\n",
              "                        <td id=\"T_73b63328_499d_11ec_bda8_0242ac1c0002row9_col6\" class=\"data row9 col6\" >0</td>\n",
              "                        <td id=\"T_73b63328_499d_11ec_bda8_0242ac1c0002row9_col7\" class=\"data row9 col7\" >0</td>\n",
              "                        <td id=\"T_73b63328_499d_11ec_bda8_0242ac1c0002row9_col8\" class=\"data row9 col8\" >0</td>\n",
              "                        <td id=\"T_73b63328_499d_11ec_bda8_0242ac1c0002row9_col9\" class=\"data row9 col9\" >81</td>\n",
              "                        <td id=\"T_73b63328_499d_11ec_bda8_0242ac1c0002row9_col10\" class=\"data row9 col10\" >0</td>\n",
              "                        <td id=\"T_73b63328_499d_11ec_bda8_0242ac1c0002row9_col11\" class=\"data row9 col11\" >0</td>\n",
              "            </tr>\n",
              "            <tr>\n",
              "                        <th id=\"T_73b63328_499d_11ec_bda8_0242ac1c0002level0_row10\" class=\"row_heading level0 row10\" >Actual F33-42</th>\n",
              "                        <td id=\"T_73b63328_499d_11ec_bda8_0242ac1c0002row10_col0\" class=\"data row10 col0\" >0</td>\n",
              "                        <td id=\"T_73b63328_499d_11ec_bda8_0242ac1c0002row10_col1\" class=\"data row10 col1\" >0</td>\n",
              "                        <td id=\"T_73b63328_499d_11ec_bda8_0242ac1c0002row10_col2\" class=\"data row10 col2\" >0</td>\n",
              "                        <td id=\"T_73b63328_499d_11ec_bda8_0242ac1c0002row10_col3\" class=\"data row10 col3\" >0</td>\n",
              "                        <td id=\"T_73b63328_499d_11ec_bda8_0242ac1c0002row10_col4\" class=\"data row10 col4\" >0</td>\n",
              "                        <td id=\"T_73b63328_499d_11ec_bda8_0242ac1c0002row10_col5\" class=\"data row10 col5\" >0</td>\n",
              "                        <td id=\"T_73b63328_499d_11ec_bda8_0242ac1c0002row10_col6\" class=\"data row10 col6\" >0</td>\n",
              "                        <td id=\"T_73b63328_499d_11ec_bda8_0242ac1c0002row10_col7\" class=\"data row10 col7\" >0</td>\n",
              "                        <td id=\"T_73b63328_499d_11ec_bda8_0242ac1c0002row10_col8\" class=\"data row10 col8\" >0</td>\n",
              "                        <td id=\"T_73b63328_499d_11ec_bda8_0242ac1c0002row10_col9\" class=\"data row10 col9\" >0</td>\n",
              "                        <td id=\"T_73b63328_499d_11ec_bda8_0242ac1c0002row10_col10\" class=\"data row10 col10\" >136</td>\n",
              "                        <td id=\"T_73b63328_499d_11ec_bda8_0242ac1c0002row10_col11\" class=\"data row10 col11\" >1</td>\n",
              "            </tr>\n",
              "            <tr>\n",
              "                        <th id=\"T_73b63328_499d_11ec_bda8_0242ac1c0002level0_row11\" class=\"row_heading level0 row11\" >Actual F43+</th>\n",
              "                        <td id=\"T_73b63328_499d_11ec_bda8_0242ac1c0002row11_col0\" class=\"data row11 col0\" >0</td>\n",
              "                        <td id=\"T_73b63328_499d_11ec_bda8_0242ac1c0002row11_col1\" class=\"data row11 col1\" >0</td>\n",
              "                        <td id=\"T_73b63328_499d_11ec_bda8_0242ac1c0002row11_col2\" class=\"data row11 col2\" >0</td>\n",
              "                        <td id=\"T_73b63328_499d_11ec_bda8_0242ac1c0002row11_col3\" class=\"data row11 col3\" >0</td>\n",
              "                        <td id=\"T_73b63328_499d_11ec_bda8_0242ac1c0002row11_col4\" class=\"data row11 col4\" >2</td>\n",
              "                        <td id=\"T_73b63328_499d_11ec_bda8_0242ac1c0002row11_col5\" class=\"data row11 col5\" >1</td>\n",
              "                        <td id=\"T_73b63328_499d_11ec_bda8_0242ac1c0002row11_col6\" class=\"data row11 col6\" >0</td>\n",
              "                        <td id=\"T_73b63328_499d_11ec_bda8_0242ac1c0002row11_col7\" class=\"data row11 col7\" >0</td>\n",
              "                        <td id=\"T_73b63328_499d_11ec_bda8_0242ac1c0002row11_col8\" class=\"data row11 col8\" >0</td>\n",
              "                        <td id=\"T_73b63328_499d_11ec_bda8_0242ac1c0002row11_col9\" class=\"data row11 col9\" >0</td>\n",
              "                        <td id=\"T_73b63328_499d_11ec_bda8_0242ac1c0002row11_col10\" class=\"data row11 col10\" >0</td>\n",
              "                        <td id=\"T_73b63328_499d_11ec_bda8_0242ac1c0002row11_col11\" class=\"data row11 col11\" >170</td>\n",
              "            </tr>\n",
              "    </tbody></table>"
            ],
            "text/plain": [
              "<pandas.io.formats.style.Styler at 0x7f3d165d0390>"
            ]
          },
          "metadata": {},
          "execution_count": 13
        }
      ]
    },
    {
      "cell_type": "code",
      "metadata": {
        "id": "D5QCqZ-yvt0A",
        "colab": {
          "base_uri": "https://localhost:8080/"
        },
        "outputId": "601093ea-4f7f-458e-b608-344b88574053"
      },
      "source": [
        "print(\"Classification Report:\")\n",
        "print()\n",
        "print(classification_report(y_test, y_pred))"
      ],
      "execution_count": null,
      "outputs": [
        {
          "output_type": "stream",
          "name": "stdout",
          "text": [
            "Classification Report:\n",
            "\n",
            "              precision    recall  f1-score   support\n",
            "\n",
            "           0       0.95      0.98      0.97       128\n",
            "           1       1.00      0.99      0.99       258\n",
            "           2       0.99      0.98      0.99       192\n",
            "           3       0.99      0.98      0.98       283\n",
            "           4       0.99      0.99      0.99       539\n",
            "           5       0.99      0.99      0.99       595\n",
            "           6       1.00      1.00      1.00        39\n",
            "           7       1.00      0.90      0.95        29\n",
            "           8       0.98      1.00      0.99        57\n",
            "           9       0.98      1.00      0.99        81\n",
            "          10       0.99      0.99      0.99       137\n",
            "          11       0.98      0.98      0.98       173\n",
            "\n",
            "    accuracy                           0.99      2511\n",
            "   macro avg       0.99      0.98      0.98      2511\n",
            "weighted avg       0.99      0.99      0.99      2511\n",
            "\n"
          ]
        }
      ]
    },
    {
      "cell_type": "code",
      "metadata": {
        "id": "1cqnlH9TJlnX"
      },
      "source": [
        "def multiclass_roc_auc_score(y_test, y_pred, average=\"macro\"):\n",
        "  lb = LabelBinarizer()\n",
        "  lb.fit(y_test)\n",
        "  y_test = lb.transform(y_test)\n",
        "  y_pred = lb.transform(y_pred)\n",
        "  return roc_auc_score(y_test, y_pred, average=average)\n"
      ],
      "execution_count": null,
      "outputs": []
    },
    {
      "cell_type": "code",
      "metadata": {
        "id": "7wwM9nBncn5S",
        "colab": {
          "base_uri": "https://localhost:8080/"
        },
        "outputId": "75f70b96-bd70-4cd4-d3e3-d26f1d4b0f1f"
      },
      "source": [
        "multiclass_roc_auc_score(y_test, y_pred, average=\"macro\")"
      ],
      "execution_count": null,
      "outputs": [
        {
          "output_type": "execute_result",
          "data": {
            "text/plain": [
              "0.9902451972900056"
            ]
          },
          "metadata": {},
          "execution_count": 16
        }
      ]
    },
    {
      "cell_type": "markdown",
      "metadata": {
        "id": "ACMbdWLph5Tw"
      },
      "source": [
        "K Nearest Neighbor test\n"
      ]
    },
    {
      "cell_type": "code",
      "metadata": {
        "id": "b2EorFLYh4SL",
        "colab": {
          "base_uri": "https://localhost:8080/"
        },
        "outputId": "11233e4f-ff48-440e-9ccc-44d43013919b"
      },
      "source": [
        "pipeline = Pipeline(\n",
        "    [(\"preprocessing\", preprocessing), (\"knn\", KNeighborsClassifier())], verbose=True\n",
        ")\n",
        "\n",
        "pipeline.fit(X_train, y_train)\n"
      ],
      "execution_count": null,
      "outputs": [
        {
          "output_type": "stream",
          "name": "stdout",
          "text": [
            "[Pipeline] ..... (step 1 of 2) Processing preprocessing, total=   0.0s\n",
            "[Pipeline] ............... (step 2 of 2) Processing knn, total=   0.0s\n"
          ]
        },
        {
          "output_type": "execute_result",
          "data": {
            "text/plain": [
              "Pipeline(steps=[('preprocessing',\n",
              "                 ColumnTransformer(remainder='passthrough',\n",
              "                                   transformers=[('scale', StandardScaler(),\n",
              "                                                  ['device_id', 'event_id'])])),\n",
              "                ('knn', KNeighborsClassifier())],\n",
              "         verbose=True)"
            ]
          },
          "metadata": {},
          "execution_count": 17
        }
      ]
    },
    {
      "cell_type": "code",
      "metadata": {
        "id": "UzqM6Ob-jmYl",
        "colab": {
          "base_uri": "https://localhost:8080/"
        },
        "outputId": "a8464b11-b6b2-417e-e36b-d288c7b043dc"
      },
      "source": [
        "grid = {\n",
        "    \"knn__n_neighbors\": [50, 100, 150],\n",
        "    \"knn__weights\": [\"distance\"],\n",
        "    \"knn__leaf_size\": [1, 10, 20],\n",
        "}\n",
        "\n",
        "model = GridSearchCV(pipeline, grid, n_jobs=-1, verbose=2, cv=2)\n",
        "model.fit(X_train, y_train)\n"
      ],
      "execution_count": null,
      "outputs": [
        {
          "output_type": "stream",
          "name": "stdout",
          "text": [
            "Fitting 2 folds for each of 9 candidates, totalling 18 fits\n",
            "[Pipeline] ..... (step 1 of 2) Processing preprocessing, total=   0.0s\n",
            "[Pipeline] ............... (step 2 of 2) Processing knn, total=   0.0s\n"
          ]
        },
        {
          "output_type": "execute_result",
          "data": {
            "text/plain": [
              "GridSearchCV(cv=2,\n",
              "             estimator=Pipeline(steps=[('preprocessing',\n",
              "                                        ColumnTransformer(remainder='passthrough',\n",
              "                                                          transformers=[('scale',\n",
              "                                                                         StandardScaler(),\n",
              "                                                                         ['device_id',\n",
              "                                                                          'event_id'])])),\n",
              "                                       ('knn', KNeighborsClassifier())],\n",
              "                                verbose=True),\n",
              "             n_jobs=-1,\n",
              "             param_grid={'knn__leaf_size': [1, 10, 20],\n",
              "                         'knn__n_neighbors': [50, 100, 150],\n",
              "                         'knn__weights': ['distance']},\n",
              "             verbose=2)"
            ]
          },
          "metadata": {},
          "execution_count": 18
        }
      ]
    },
    {
      "cell_type": "code",
      "metadata": {
        "id": "p9GEb-BWoiC3",
        "colab": {
          "base_uri": "https://localhost:8080/"
        },
        "outputId": "6df586a4-efdc-4d31-acd6-2f10e61d1b2d"
      },
      "source": [
        "# Model still appears to be extremely overfitting\n",
        "train_score = model.score(X_train, y_train)\n",
        "test_score = model.score(X_test, y_test)\n",
        "\n",
        "print(f\"Train score: {train_score}\")\n",
        "print(f\"Test score: {test_score}\")"
      ],
      "execution_count": null,
      "outputs": [
        {
          "output_type": "stream",
          "name": "stdout",
          "text": [
            "Train score: 1.0\n",
            "Test score: 0.8622062923138192\n"
          ]
        }
      ]
    },
    {
      "cell_type": "code",
      "metadata": {
        "id": "0SKSDKtpovWL",
        "colab": {
          "base_uri": "https://localhost:8080/",
          "height": 425
        },
        "outputId": "5a0ada11-c8e5-45bf-c1af-790bbe6d9813"
      },
      "source": [
        "y_pred = model.predict(X_test)\n",
        "\n",
        "con_mat = pd.DataFrame(\n",
        "    confusion_matrix(y_test, y_pred),\n",
        "    index=[\n",
        "        \"Actual M22-\",\n",
        "        \"Actual M23-26\",\n",
        "        \"Actual M27-28\",\n",
        "        \"Actual M29-31\",\n",
        "        \"Actual M32-38\",\n",
        "        \"Actual M39+\",\n",
        "        \"Actual F23-\",\n",
        "        \"Actual F24-26\",\n",
        "        \"Actual F27-28\",\n",
        "        \"Actual F29-32\",\n",
        "        \"Actual F33-42\",\n",
        "        \"Actual F43+\",\n",
        "    ],\n",
        "    columns=[\n",
        "        \"Predicted M22-\",\n",
        "        \"Predicted M23-26\",\n",
        "        \"Predicted M27-28\",\n",
        "        \"Predicted M29-31\",\n",
        "        \"Predicted M32-38\",\n",
        "        \"Predicted M39+\",\n",
        "        \"Predicted F23-\",\n",
        "        \"Predicted F24-26\",\n",
        "        \"Predicted F27-28\",\n",
        "        \"Predicted F29-32\",\n",
        "        \"Predicted F33-42\",\n",
        "        \"Predicted F43+\",\n",
        "    ],\n",
        ")\n",
        "con_mat.style.background_gradient(axis=None)\n",
        "\n",
        "\n"
      ],
      "execution_count": null,
      "outputs": [
        {
          "output_type": "execute_result",
          "data": {
            "text/html": [
              "<style  type=\"text/css\" >\n",
              "#T_7ccf21d6_499d_11ec_bda8_0242ac1c0002row0_col0{\n",
              "            background-color:  #dcdaeb;\n",
              "            color:  #000000;\n",
              "        }#T_7ccf21d6_499d_11ec_bda8_0242ac1c0002row0_col1,#T_7ccf21d6_499d_11ec_bda8_0242ac1c0002row0_col2,#T_7ccf21d6_499d_11ec_bda8_0242ac1c0002row0_col3,#T_7ccf21d6_499d_11ec_bda8_0242ac1c0002row0_col6,#T_7ccf21d6_499d_11ec_bda8_0242ac1c0002row0_col7,#T_7ccf21d6_499d_11ec_bda8_0242ac1c0002row0_col8,#T_7ccf21d6_499d_11ec_bda8_0242ac1c0002row0_col9,#T_7ccf21d6_499d_11ec_bda8_0242ac1c0002row0_col10,#T_7ccf21d6_499d_11ec_bda8_0242ac1c0002row0_col11,#T_7ccf21d6_499d_11ec_bda8_0242ac1c0002row1_col2,#T_7ccf21d6_499d_11ec_bda8_0242ac1c0002row1_col3,#T_7ccf21d6_499d_11ec_bda8_0242ac1c0002row1_col6,#T_7ccf21d6_499d_11ec_bda8_0242ac1c0002row1_col7,#T_7ccf21d6_499d_11ec_bda8_0242ac1c0002row1_col8,#T_7ccf21d6_499d_11ec_bda8_0242ac1c0002row1_col9,#T_7ccf21d6_499d_11ec_bda8_0242ac1c0002row1_col11,#T_7ccf21d6_499d_11ec_bda8_0242ac1c0002row2_col0,#T_7ccf21d6_499d_11ec_bda8_0242ac1c0002row2_col3,#T_7ccf21d6_499d_11ec_bda8_0242ac1c0002row2_col6,#T_7ccf21d6_499d_11ec_bda8_0242ac1c0002row2_col7,#T_7ccf21d6_499d_11ec_bda8_0242ac1c0002row2_col8,#T_7ccf21d6_499d_11ec_bda8_0242ac1c0002row2_col9,#T_7ccf21d6_499d_11ec_bda8_0242ac1c0002row2_col10,#T_7ccf21d6_499d_11ec_bda8_0242ac1c0002row2_col11,#T_7ccf21d6_499d_11ec_bda8_0242ac1c0002row3_col2,#T_7ccf21d6_499d_11ec_bda8_0242ac1c0002row3_col6,#T_7ccf21d6_499d_11ec_bda8_0242ac1c0002row3_col7,#T_7ccf21d6_499d_11ec_bda8_0242ac1c0002row3_col8,#T_7ccf21d6_499d_11ec_bda8_0242ac1c0002row3_col9,#T_7ccf21d6_499d_11ec_bda8_0242ac1c0002row3_col10,#T_7ccf21d6_499d_11ec_bda8_0242ac1c0002row3_col11,#T_7ccf21d6_499d_11ec_bda8_0242ac1c0002row4_col0,#T_7ccf21d6_499d_11ec_bda8_0242ac1c0002row4_col1,#T_7ccf21d6_499d_11ec_bda8_0242ac1c0002row4_col2,#T_7ccf21d6_499d_11ec_bda8_0242ac1c0002row4_col6,#T_7ccf21d6_499d_11ec_bda8_0242ac1c0002row4_col7,#T_7ccf21d6_499d_11ec_bda8_0242ac1c0002row4_col8,#T_7ccf21d6_499d_11ec_bda8_0242ac1c0002row4_col10,#T_7ccf21d6_499d_11ec_bda8_0242ac1c0002row4_col11,#T_7ccf21d6_499d_11ec_bda8_0242ac1c0002row5_col0,#T_7ccf21d6_499d_11ec_bda8_0242ac1c0002row5_col1,#T_7ccf21d6_499d_11ec_bda8_0242ac1c0002row5_col2,#T_7ccf21d6_499d_11ec_bda8_0242ac1c0002row5_col3,#T_7ccf21d6_499d_11ec_bda8_0242ac1c0002row5_col6,#T_7ccf21d6_499d_11ec_bda8_0242ac1c0002row5_col7,#T_7ccf21d6_499d_11ec_bda8_0242ac1c0002row5_col8,#T_7ccf21d6_499d_11ec_bda8_0242ac1c0002row5_col11,#T_7ccf21d6_499d_11ec_bda8_0242ac1c0002row6_col0,#T_7ccf21d6_499d_11ec_bda8_0242ac1c0002row6_col1,#T_7ccf21d6_499d_11ec_bda8_0242ac1c0002row6_col2,#T_7ccf21d6_499d_11ec_bda8_0242ac1c0002row6_col3,#T_7ccf21d6_499d_11ec_bda8_0242ac1c0002row6_col7,#T_7ccf21d6_499d_11ec_bda8_0242ac1c0002row6_col8,#T_7ccf21d6_499d_11ec_bda8_0242ac1c0002row6_col9,#T_7ccf21d6_499d_11ec_bda8_0242ac1c0002row6_col10,#T_7ccf21d6_499d_11ec_bda8_0242ac1c0002row6_col11,#T_7ccf21d6_499d_11ec_bda8_0242ac1c0002row7_col0,#T_7ccf21d6_499d_11ec_bda8_0242ac1c0002row7_col1,#T_7ccf21d6_499d_11ec_bda8_0242ac1c0002row7_col2,#T_7ccf21d6_499d_11ec_bda8_0242ac1c0002row7_col3,#T_7ccf21d6_499d_11ec_bda8_0242ac1c0002row7_col4,#T_7ccf21d6_499d_11ec_bda8_0242ac1c0002row7_col6,#T_7ccf21d6_499d_11ec_bda8_0242ac1c0002row7_col8,#T_7ccf21d6_499d_11ec_bda8_0242ac1c0002row7_col9,#T_7ccf21d6_499d_11ec_bda8_0242ac1c0002row7_col10,#T_7ccf21d6_499d_11ec_bda8_0242ac1c0002row7_col11,#T_7ccf21d6_499d_11ec_bda8_0242ac1c0002row8_col0,#T_7ccf21d6_499d_11ec_bda8_0242ac1c0002row8_col2,#T_7ccf21d6_499d_11ec_bda8_0242ac1c0002row8_col4,#T_7ccf21d6_499d_11ec_bda8_0242ac1c0002row8_col6,#T_7ccf21d6_499d_11ec_bda8_0242ac1c0002row8_col7,#T_7ccf21d6_499d_11ec_bda8_0242ac1c0002row8_col9,#T_7ccf21d6_499d_11ec_bda8_0242ac1c0002row8_col10,#T_7ccf21d6_499d_11ec_bda8_0242ac1c0002row8_col11,#T_7ccf21d6_499d_11ec_bda8_0242ac1c0002row9_col0,#T_7ccf21d6_499d_11ec_bda8_0242ac1c0002row9_col1,#T_7ccf21d6_499d_11ec_bda8_0242ac1c0002row9_col2,#T_7ccf21d6_499d_11ec_bda8_0242ac1c0002row9_col3,#T_7ccf21d6_499d_11ec_bda8_0242ac1c0002row9_col6,#T_7ccf21d6_499d_11ec_bda8_0242ac1c0002row9_col7,#T_7ccf21d6_499d_11ec_bda8_0242ac1c0002row9_col8,#T_7ccf21d6_499d_11ec_bda8_0242ac1c0002row9_col10,#T_7ccf21d6_499d_11ec_bda8_0242ac1c0002row9_col11,#T_7ccf21d6_499d_11ec_bda8_0242ac1c0002row10_col0,#T_7ccf21d6_499d_11ec_bda8_0242ac1c0002row10_col1,#T_7ccf21d6_499d_11ec_bda8_0242ac1c0002row10_col2,#T_7ccf21d6_499d_11ec_bda8_0242ac1c0002row10_col3,#T_7ccf21d6_499d_11ec_bda8_0242ac1c0002row10_col4,#T_7ccf21d6_499d_11ec_bda8_0242ac1c0002row10_col6,#T_7ccf21d6_499d_11ec_bda8_0242ac1c0002row10_col7,#T_7ccf21d6_499d_11ec_bda8_0242ac1c0002row10_col8,#T_7ccf21d6_499d_11ec_bda8_0242ac1c0002row10_col9,#T_7ccf21d6_499d_11ec_bda8_0242ac1c0002row10_col11,#T_7ccf21d6_499d_11ec_bda8_0242ac1c0002row11_col0,#T_7ccf21d6_499d_11ec_bda8_0242ac1c0002row11_col1,#T_7ccf21d6_499d_11ec_bda8_0242ac1c0002row11_col2,#T_7ccf21d6_499d_11ec_bda8_0242ac1c0002row11_col6,#T_7ccf21d6_499d_11ec_bda8_0242ac1c0002row11_col7,#T_7ccf21d6_499d_11ec_bda8_0242ac1c0002row11_col8,#T_7ccf21d6_499d_11ec_bda8_0242ac1c0002row11_col9{\n",
              "            background-color:  #fff7fb;\n",
              "            color:  #000000;\n",
              "        }#T_7ccf21d6_499d_11ec_bda8_0242ac1c0002row0_col4,#T_7ccf21d6_499d_11ec_bda8_0242ac1c0002row0_col5,#T_7ccf21d6_499d_11ec_bda8_0242ac1c0002row4_col3{\n",
              "            background-color:  #fdf5fa;\n",
              "            color:  #000000;\n",
              "        }#T_7ccf21d6_499d_11ec_bda8_0242ac1c0002row1_col0,#T_7ccf21d6_499d_11ec_bda8_0242ac1c0002row1_col10,#T_7ccf21d6_499d_11ec_bda8_0242ac1c0002row2_col4,#T_7ccf21d6_499d_11ec_bda8_0242ac1c0002row3_col1,#T_7ccf21d6_499d_11ec_bda8_0242ac1c0002row4_col9,#T_7ccf21d6_499d_11ec_bda8_0242ac1c0002row5_col9,#T_7ccf21d6_499d_11ec_bda8_0242ac1c0002row6_col4,#T_7ccf21d6_499d_11ec_bda8_0242ac1c0002row6_col5,#T_7ccf21d6_499d_11ec_bda8_0242ac1c0002row7_col5,#T_7ccf21d6_499d_11ec_bda8_0242ac1c0002row8_col3,#T_7ccf21d6_499d_11ec_bda8_0242ac1c0002row9_col4,#T_7ccf21d6_499d_11ec_bda8_0242ac1c0002row11_col3,#T_7ccf21d6_499d_11ec_bda8_0242ac1c0002row11_col10{\n",
              "            background-color:  #fef6fb;\n",
              "            color:  #000000;\n",
              "        }#T_7ccf21d6_499d_11ec_bda8_0242ac1c0002row1_col1{\n",
              "            background-color:  #97b7d7;\n",
              "            color:  #000000;\n",
              "        }#T_7ccf21d6_499d_11ec_bda8_0242ac1c0002row1_col4,#T_7ccf21d6_499d_11ec_bda8_0242ac1c0002row2_col1,#T_7ccf21d6_499d_11ec_bda8_0242ac1c0002row8_col1,#T_7ccf21d6_499d_11ec_bda8_0242ac1c0002row8_col5{\n",
              "            background-color:  #fef6fa;\n",
              "            color:  #000000;\n",
              "        }#T_7ccf21d6_499d_11ec_bda8_0242ac1c0002row1_col5,#T_7ccf21d6_499d_11ec_bda8_0242ac1c0002row9_col5,#T_7ccf21d6_499d_11ec_bda8_0242ac1c0002row11_col4,#T_7ccf21d6_499d_11ec_bda8_0242ac1c0002row11_col5{\n",
              "            background-color:  #fbf4f9;\n",
              "            color:  #000000;\n",
              "        }#T_7ccf21d6_499d_11ec_bda8_0242ac1c0002row2_col2{\n",
              "            background-color:  #c2cbe2;\n",
              "            color:  #000000;\n",
              "        }#T_7ccf21d6_499d_11ec_bda8_0242ac1c0002row2_col5,#T_7ccf21d6_499d_11ec_bda8_0242ac1c0002row5_col4{\n",
              "            background-color:  #faf3f9;\n",
              "            color:  #000000;\n",
              "        }#T_7ccf21d6_499d_11ec_bda8_0242ac1c0002row3_col0,#T_7ccf21d6_499d_11ec_bda8_0242ac1c0002row5_col10{\n",
              "            background-color:  #fcf4fa;\n",
              "            color:  #000000;\n",
              "        }#T_7ccf21d6_499d_11ec_bda8_0242ac1c0002row3_col3{\n",
              "            background-color:  #93b5d6;\n",
              "            color:  #000000;\n",
              "        }#T_7ccf21d6_499d_11ec_bda8_0242ac1c0002row3_col4,#T_7ccf21d6_499d_11ec_bda8_0242ac1c0002row3_col5{\n",
              "            background-color:  #fbf3f9;\n",
              "            color:  #000000;\n",
              "        }#T_7ccf21d6_499d_11ec_bda8_0242ac1c0002row4_col4{\n",
              "            background-color:  #045b8e;\n",
              "            color:  #f1f1f1;\n",
              "        }#T_7ccf21d6_499d_11ec_bda8_0242ac1c0002row4_col5,#T_7ccf21d6_499d_11ec_bda8_0242ac1c0002row8_col8{\n",
              "            background-color:  #f4edf6;\n",
              "            color:  #000000;\n",
              "        }#T_7ccf21d6_499d_11ec_bda8_0242ac1c0002row5_col5{\n",
              "            background-color:  #023858;\n",
              "            color:  #f1f1f1;\n",
              "        }#T_7ccf21d6_499d_11ec_bda8_0242ac1c0002row6_col6{\n",
              "            background-color:  #f7f0f7;\n",
              "            color:  #000000;\n",
              "        }#T_7ccf21d6_499d_11ec_bda8_0242ac1c0002row7_col7{\n",
              "            background-color:  #f8f1f8;\n",
              "            color:  #000000;\n",
              "        }#T_7ccf21d6_499d_11ec_bda8_0242ac1c0002row9_col9{\n",
              "            background-color:  #eee9f3;\n",
              "            color:  #000000;\n",
              "        }#T_7ccf21d6_499d_11ec_bda8_0242ac1c0002row10_col5{\n",
              "            background-color:  #faf2f8;\n",
              "            color:  #000000;\n",
              "        }#T_7ccf21d6_499d_11ec_bda8_0242ac1c0002row10_col10{\n",
              "            background-color:  #dddbec;\n",
              "            color:  #000000;\n",
              "        }#T_7ccf21d6_499d_11ec_bda8_0242ac1c0002row11_col11{\n",
              "            background-color:  #d2d3e7;\n",
              "            color:  #000000;\n",
              "        }</style><table id=\"T_7ccf21d6_499d_11ec_bda8_0242ac1c0002\" class=\"dataframe\"><thead>    <tr>        <th class=\"blank level0\" ></th>        <th class=\"col_heading level0 col0\" >Predicted M22-</th>        <th class=\"col_heading level0 col1\" >Predicted M23-26</th>        <th class=\"col_heading level0 col2\" >Predicted M27-28</th>        <th class=\"col_heading level0 col3\" >Predicted M29-31</th>        <th class=\"col_heading level0 col4\" >Predicted M32-38</th>        <th class=\"col_heading level0 col5\" >Predicted M39+</th>        <th class=\"col_heading level0 col6\" >Predicted F23-</th>        <th class=\"col_heading level0 col7\" >Predicted F24-26</th>        <th class=\"col_heading level0 col8\" >Predicted F27-28</th>        <th class=\"col_heading level0 col9\" >Predicted F29-32</th>        <th class=\"col_heading level0 col10\" >Predicted F33-42</th>        <th class=\"col_heading level0 col11\" >Predicted F43+</th>    </tr></thead><tbody>\n",
              "                <tr>\n",
              "                        <th id=\"T_7ccf21d6_499d_11ec_bda8_0242ac1c0002level0_row0\" class=\"row_heading level0 row0\" >Actual M22-</th>\n",
              "                        <td id=\"T_7ccf21d6_499d_11ec_bda8_0242ac1c0002row0_col0\" class=\"data row0 col0\" >109</td>\n",
              "                        <td id=\"T_7ccf21d6_499d_11ec_bda8_0242ac1c0002row0_col1\" class=\"data row0 col1\" >1</td>\n",
              "                        <td id=\"T_7ccf21d6_499d_11ec_bda8_0242ac1c0002row0_col2\" class=\"data row0 col2\" >0</td>\n",
              "                        <td id=\"T_7ccf21d6_499d_11ec_bda8_0242ac1c0002row0_col3\" class=\"data row0 col3\" >2</td>\n",
              "                        <td id=\"T_7ccf21d6_499d_11ec_bda8_0242ac1c0002row0_col4\" class=\"data row0 col4\" >8</td>\n",
              "                        <td id=\"T_7ccf21d6_499d_11ec_bda8_0242ac1c0002row0_col5\" class=\"data row0 col5\" >8</td>\n",
              "                        <td id=\"T_7ccf21d6_499d_11ec_bda8_0242ac1c0002row0_col6\" class=\"data row0 col6\" >0</td>\n",
              "                        <td id=\"T_7ccf21d6_499d_11ec_bda8_0242ac1c0002row0_col7\" class=\"data row0 col7\" >0</td>\n",
              "                        <td id=\"T_7ccf21d6_499d_11ec_bda8_0242ac1c0002row0_col8\" class=\"data row0 col8\" >0</td>\n",
              "                        <td id=\"T_7ccf21d6_499d_11ec_bda8_0242ac1c0002row0_col9\" class=\"data row0 col9\" >0</td>\n",
              "                        <td id=\"T_7ccf21d6_499d_11ec_bda8_0242ac1c0002row0_col10\" class=\"data row0 col10\" >0</td>\n",
              "                        <td id=\"T_7ccf21d6_499d_11ec_bda8_0242ac1c0002row0_col11\" class=\"data row0 col11\" >0</td>\n",
              "            </tr>\n",
              "            <tr>\n",
              "                        <th id=\"T_7ccf21d6_499d_11ec_bda8_0242ac1c0002level0_row1\" class=\"row_heading level0 row1\" >Actual M23-26</th>\n",
              "                        <td id=\"T_7ccf21d6_499d_11ec_bda8_0242ac1c0002row1_col0\" class=\"data row1 col0\" >4</td>\n",
              "                        <td id=\"T_7ccf21d6_499d_11ec_bda8_0242ac1c0002row1_col1\" class=\"data row1 col1\" >228</td>\n",
              "                        <td id=\"T_7ccf21d6_499d_11ec_bda8_0242ac1c0002row1_col2\" class=\"data row1 col2\" >0</td>\n",
              "                        <td id=\"T_7ccf21d6_499d_11ec_bda8_0242ac1c0002row1_col3\" class=\"data row1 col3\" >1</td>\n",
              "                        <td id=\"T_7ccf21d6_499d_11ec_bda8_0242ac1c0002row1_col4\" class=\"data row1 col4\" >5</td>\n",
              "                        <td id=\"T_7ccf21d6_499d_11ec_bda8_0242ac1c0002row1_col5\" class=\"data row1 col5\" >13</td>\n",
              "                        <td id=\"T_7ccf21d6_499d_11ec_bda8_0242ac1c0002row1_col6\" class=\"data row1 col6\" >0</td>\n",
              "                        <td id=\"T_7ccf21d6_499d_11ec_bda8_0242ac1c0002row1_col7\" class=\"data row1 col7\" >0</td>\n",
              "                        <td id=\"T_7ccf21d6_499d_11ec_bda8_0242ac1c0002row1_col8\" class=\"data row1 col8\" >0</td>\n",
              "                        <td id=\"T_7ccf21d6_499d_11ec_bda8_0242ac1c0002row1_col9\" class=\"data row1 col9\" >2</td>\n",
              "                        <td id=\"T_7ccf21d6_499d_11ec_bda8_0242ac1c0002row1_col10\" class=\"data row1 col10\" >4</td>\n",
              "                        <td id=\"T_7ccf21d6_499d_11ec_bda8_0242ac1c0002row1_col11\" class=\"data row1 col11\" >1</td>\n",
              "            </tr>\n",
              "            <tr>\n",
              "                        <th id=\"T_7ccf21d6_499d_11ec_bda8_0242ac1c0002level0_row2\" class=\"row_heading level0 row2\" >Actual M27-28</th>\n",
              "                        <td id=\"T_7ccf21d6_499d_11ec_bda8_0242ac1c0002row2_col0\" class=\"data row2 col0\" >1</td>\n",
              "                        <td id=\"T_7ccf21d6_499d_11ec_bda8_0242ac1c0002row2_col1\" class=\"data row2 col1\" >5</td>\n",
              "                        <td id=\"T_7ccf21d6_499d_11ec_bda8_0242ac1c0002row2_col2\" class=\"data row2 col2\" >162</td>\n",
              "                        <td id=\"T_7ccf21d6_499d_11ec_bda8_0242ac1c0002row2_col3\" class=\"data row2 col3\" >2</td>\n",
              "                        <td id=\"T_7ccf21d6_499d_11ec_bda8_0242ac1c0002row2_col4\" class=\"data row2 col4\" >3</td>\n",
              "                        <td id=\"T_7ccf21d6_499d_11ec_bda8_0242ac1c0002row2_col5\" class=\"data row2 col5\" >18</td>\n",
              "                        <td id=\"T_7ccf21d6_499d_11ec_bda8_0242ac1c0002row2_col6\" class=\"data row2 col6\" >0</td>\n",
              "                        <td id=\"T_7ccf21d6_499d_11ec_bda8_0242ac1c0002row2_col7\" class=\"data row2 col7\" >0</td>\n",
              "                        <td id=\"T_7ccf21d6_499d_11ec_bda8_0242ac1c0002row2_col8\" class=\"data row2 col8\" >0</td>\n",
              "                        <td id=\"T_7ccf21d6_499d_11ec_bda8_0242ac1c0002row2_col9\" class=\"data row2 col9\" >0</td>\n",
              "                        <td id=\"T_7ccf21d6_499d_11ec_bda8_0242ac1c0002row2_col10\" class=\"data row2 col10\" >0</td>\n",
              "                        <td id=\"T_7ccf21d6_499d_11ec_bda8_0242ac1c0002row2_col11\" class=\"data row2 col11\" >1</td>\n",
              "            </tr>\n",
              "            <tr>\n",
              "                        <th id=\"T_7ccf21d6_499d_11ec_bda8_0242ac1c0002level0_row3\" class=\"row_heading level0 row3\" >Actual M29-31</th>\n",
              "                        <td id=\"T_7ccf21d6_499d_11ec_bda8_0242ac1c0002row3_col0\" class=\"data row3 col0\" >11</td>\n",
              "                        <td id=\"T_7ccf21d6_499d_11ec_bda8_0242ac1c0002row3_col1\" class=\"data row3 col1\" >3</td>\n",
              "                        <td id=\"T_7ccf21d6_499d_11ec_bda8_0242ac1c0002row3_col2\" class=\"data row3 col2\" >0</td>\n",
              "                        <td id=\"T_7ccf21d6_499d_11ec_bda8_0242ac1c0002row3_col3\" class=\"data row3 col3\" >234</td>\n",
              "                        <td id=\"T_7ccf21d6_499d_11ec_bda8_0242ac1c0002row3_col4\" class=\"data row3 col4\" >16</td>\n",
              "                        <td id=\"T_7ccf21d6_499d_11ec_bda8_0242ac1c0002row3_col5\" class=\"data row3 col5\" >17</td>\n",
              "                        <td id=\"T_7ccf21d6_499d_11ec_bda8_0242ac1c0002row3_col6\" class=\"data row3 col6\" >0</td>\n",
              "                        <td id=\"T_7ccf21d6_499d_11ec_bda8_0242ac1c0002row3_col7\" class=\"data row3 col7\" >0</td>\n",
              "                        <td id=\"T_7ccf21d6_499d_11ec_bda8_0242ac1c0002row3_col8\" class=\"data row3 col8\" >1</td>\n",
              "                        <td id=\"T_7ccf21d6_499d_11ec_bda8_0242ac1c0002row3_col9\" class=\"data row3 col9\" >0</td>\n",
              "                        <td id=\"T_7ccf21d6_499d_11ec_bda8_0242ac1c0002row3_col10\" class=\"data row3 col10\" >0</td>\n",
              "                        <td id=\"T_7ccf21d6_499d_11ec_bda8_0242ac1c0002row3_col11\" class=\"data row3 col11\" >1</td>\n",
              "            </tr>\n",
              "            <tr>\n",
              "                        <th id=\"T_7ccf21d6_499d_11ec_bda8_0242ac1c0002level0_row4\" class=\"row_heading level0 row4\" >Actual M32-38</th>\n",
              "                        <td id=\"T_7ccf21d6_499d_11ec_bda8_0242ac1c0002row4_col0\" class=\"data row4 col0\" >0</td>\n",
              "                        <td id=\"T_7ccf21d6_499d_11ec_bda8_0242ac1c0002row4_col1\" class=\"data row4 col1\" >0</td>\n",
              "                        <td id=\"T_7ccf21d6_499d_11ec_bda8_0242ac1c0002row4_col2\" class=\"data row4 col2\" >0</td>\n",
              "                        <td id=\"T_7ccf21d6_499d_11ec_bda8_0242ac1c0002row4_col3\" class=\"data row4 col3\" >8</td>\n",
              "                        <td id=\"T_7ccf21d6_499d_11ec_bda8_0242ac1c0002row4_col4\" class=\"data row4 col4\" >480</td>\n",
              "                        <td id=\"T_7ccf21d6_499d_11ec_bda8_0242ac1c0002row4_col5\" class=\"data row4 col5\" >42</td>\n",
              "                        <td id=\"T_7ccf21d6_499d_11ec_bda8_0242ac1c0002row4_col6\" class=\"data row4 col6\" >0</td>\n",
              "                        <td id=\"T_7ccf21d6_499d_11ec_bda8_0242ac1c0002row4_col7\" class=\"data row4 col7\" >2</td>\n",
              "                        <td id=\"T_7ccf21d6_499d_11ec_bda8_0242ac1c0002row4_col8\" class=\"data row4 col8\" >0</td>\n",
              "                        <td id=\"T_7ccf21d6_499d_11ec_bda8_0242ac1c0002row4_col9\" class=\"data row4 col9\" >3</td>\n",
              "                        <td id=\"T_7ccf21d6_499d_11ec_bda8_0242ac1c0002row4_col10\" class=\"data row4 col10\" >2</td>\n",
              "                        <td id=\"T_7ccf21d6_499d_11ec_bda8_0242ac1c0002row4_col11\" class=\"data row4 col11\" >2</td>\n",
              "            </tr>\n",
              "            <tr>\n",
              "                        <th id=\"T_7ccf21d6_499d_11ec_bda8_0242ac1c0002level0_row5\" class=\"row_heading level0 row5\" >Actual M39+</th>\n",
              "                        <td id=\"T_7ccf21d6_499d_11ec_bda8_0242ac1c0002row5_col0\" class=\"data row5 col0\" >2</td>\n",
              "                        <td id=\"T_7ccf21d6_499d_11ec_bda8_0242ac1c0002row5_col1\" class=\"data row5 col1\" >1</td>\n",
              "                        <td id=\"T_7ccf21d6_499d_11ec_bda8_0242ac1c0002row5_col2\" class=\"data row5 col2\" >1</td>\n",
              "                        <td id=\"T_7ccf21d6_499d_11ec_bda8_0242ac1c0002row5_col3\" class=\"data row5 col3\" >2</td>\n",
              "                        <td id=\"T_7ccf21d6_499d_11ec_bda8_0242ac1c0002row5_col4\" class=\"data row5 col4\" >19</td>\n",
              "                        <td id=\"T_7ccf21d6_499d_11ec_bda8_0242ac1c0002row5_col5\" class=\"data row5 col5\" >553</td>\n",
              "                        <td id=\"T_7ccf21d6_499d_11ec_bda8_0242ac1c0002row5_col6\" class=\"data row5 col6\" >0</td>\n",
              "                        <td id=\"T_7ccf21d6_499d_11ec_bda8_0242ac1c0002row5_col7\" class=\"data row5 col7\" >2</td>\n",
              "                        <td id=\"T_7ccf21d6_499d_11ec_bda8_0242ac1c0002row5_col8\" class=\"data row5 col8\" >0</td>\n",
              "                        <td id=\"T_7ccf21d6_499d_11ec_bda8_0242ac1c0002row5_col9\" class=\"data row5 col9\" >4</td>\n",
              "                        <td id=\"T_7ccf21d6_499d_11ec_bda8_0242ac1c0002row5_col10\" class=\"data row5 col10\" >11</td>\n",
              "                        <td id=\"T_7ccf21d6_499d_11ec_bda8_0242ac1c0002row5_col11\" class=\"data row5 col11\" >0</td>\n",
              "            </tr>\n",
              "            <tr>\n",
              "                        <th id=\"T_7ccf21d6_499d_11ec_bda8_0242ac1c0002level0_row6\" class=\"row_heading level0 row6\" >Actual F23-</th>\n",
              "                        <td id=\"T_7ccf21d6_499d_11ec_bda8_0242ac1c0002row6_col0\" class=\"data row6 col0\" >0</td>\n",
              "                        <td id=\"T_7ccf21d6_499d_11ec_bda8_0242ac1c0002row6_col1\" class=\"data row6 col1\" >0</td>\n",
              "                        <td id=\"T_7ccf21d6_499d_11ec_bda8_0242ac1c0002row6_col2\" class=\"data row6 col2\" >0</td>\n",
              "                        <td id=\"T_7ccf21d6_499d_11ec_bda8_0242ac1c0002row6_col3\" class=\"data row6 col3\" >1</td>\n",
              "                        <td id=\"T_7ccf21d6_499d_11ec_bda8_0242ac1c0002row6_col4\" class=\"data row6 col4\" >3</td>\n",
              "                        <td id=\"T_7ccf21d6_499d_11ec_bda8_0242ac1c0002row6_col5\" class=\"data row6 col5\" >4</td>\n",
              "                        <td id=\"T_7ccf21d6_499d_11ec_bda8_0242ac1c0002row6_col6\" class=\"data row6 col6\" >31</td>\n",
              "                        <td id=\"T_7ccf21d6_499d_11ec_bda8_0242ac1c0002row6_col7\" class=\"data row6 col7\" >0</td>\n",
              "                        <td id=\"T_7ccf21d6_499d_11ec_bda8_0242ac1c0002row6_col8\" class=\"data row6 col8\" >0</td>\n",
              "                        <td id=\"T_7ccf21d6_499d_11ec_bda8_0242ac1c0002row6_col9\" class=\"data row6 col9\" >0</td>\n",
              "                        <td id=\"T_7ccf21d6_499d_11ec_bda8_0242ac1c0002row6_col10\" class=\"data row6 col10\" >0</td>\n",
              "                        <td id=\"T_7ccf21d6_499d_11ec_bda8_0242ac1c0002row6_col11\" class=\"data row6 col11\" >0</td>\n",
              "            </tr>\n",
              "            <tr>\n",
              "                        <th id=\"T_7ccf21d6_499d_11ec_bda8_0242ac1c0002level0_row7\" class=\"row_heading level0 row7\" >Actual F24-26</th>\n",
              "                        <td id=\"T_7ccf21d6_499d_11ec_bda8_0242ac1c0002row7_col0\" class=\"data row7 col0\" >0</td>\n",
              "                        <td id=\"T_7ccf21d6_499d_11ec_bda8_0242ac1c0002row7_col1\" class=\"data row7 col1\" >0</td>\n",
              "                        <td id=\"T_7ccf21d6_499d_11ec_bda8_0242ac1c0002row7_col2\" class=\"data row7 col2\" >0</td>\n",
              "                        <td id=\"T_7ccf21d6_499d_11ec_bda8_0242ac1c0002row7_col3\" class=\"data row7 col3\" >0</td>\n",
              "                        <td id=\"T_7ccf21d6_499d_11ec_bda8_0242ac1c0002row7_col4\" class=\"data row7 col4\" >1</td>\n",
              "                        <td id=\"T_7ccf21d6_499d_11ec_bda8_0242ac1c0002row7_col5\" class=\"data row7 col5\" >4</td>\n",
              "                        <td id=\"T_7ccf21d6_499d_11ec_bda8_0242ac1c0002row7_col6\" class=\"data row7 col6\" >0</td>\n",
              "                        <td id=\"T_7ccf21d6_499d_11ec_bda8_0242ac1c0002row7_col7\" class=\"data row7 col7\" >24</td>\n",
              "                        <td id=\"T_7ccf21d6_499d_11ec_bda8_0242ac1c0002row7_col8\" class=\"data row7 col8\" >0</td>\n",
              "                        <td id=\"T_7ccf21d6_499d_11ec_bda8_0242ac1c0002row7_col9\" class=\"data row7 col9\" >0</td>\n",
              "                        <td id=\"T_7ccf21d6_499d_11ec_bda8_0242ac1c0002row7_col10\" class=\"data row7 col10\" >0</td>\n",
              "                        <td id=\"T_7ccf21d6_499d_11ec_bda8_0242ac1c0002row7_col11\" class=\"data row7 col11\" >0</td>\n",
              "            </tr>\n",
              "            <tr>\n",
              "                        <th id=\"T_7ccf21d6_499d_11ec_bda8_0242ac1c0002level0_row8\" class=\"row_heading level0 row8\" >Actual F27-28</th>\n",
              "                        <td id=\"T_7ccf21d6_499d_11ec_bda8_0242ac1c0002row8_col0\" class=\"data row8 col0\" >0</td>\n",
              "                        <td id=\"T_7ccf21d6_499d_11ec_bda8_0242ac1c0002row8_col1\" class=\"data row8 col1\" >6</td>\n",
              "                        <td id=\"T_7ccf21d6_499d_11ec_bda8_0242ac1c0002row8_col2\" class=\"data row8 col2\" >0</td>\n",
              "                        <td id=\"T_7ccf21d6_499d_11ec_bda8_0242ac1c0002row8_col3\" class=\"data row8 col3\" >3</td>\n",
              "                        <td id=\"T_7ccf21d6_499d_11ec_bda8_0242ac1c0002row8_col4\" class=\"data row8 col4\" >0</td>\n",
              "                        <td id=\"T_7ccf21d6_499d_11ec_bda8_0242ac1c0002row8_col5\" class=\"data row8 col5\" >6</td>\n",
              "                        <td id=\"T_7ccf21d6_499d_11ec_bda8_0242ac1c0002row8_col6\" class=\"data row8 col6\" >0</td>\n",
              "                        <td id=\"T_7ccf21d6_499d_11ec_bda8_0242ac1c0002row8_col7\" class=\"data row8 col7\" >0</td>\n",
              "                        <td id=\"T_7ccf21d6_499d_11ec_bda8_0242ac1c0002row8_col8\" class=\"data row8 col8\" >42</td>\n",
              "                        <td id=\"T_7ccf21d6_499d_11ec_bda8_0242ac1c0002row8_col9\" class=\"data row8 col9\" >0</td>\n",
              "                        <td id=\"T_7ccf21d6_499d_11ec_bda8_0242ac1c0002row8_col10\" class=\"data row8 col10\" >0</td>\n",
              "                        <td id=\"T_7ccf21d6_499d_11ec_bda8_0242ac1c0002row8_col11\" class=\"data row8 col11\" >0</td>\n",
              "            </tr>\n",
              "            <tr>\n",
              "                        <th id=\"T_7ccf21d6_499d_11ec_bda8_0242ac1c0002level0_row9\" class=\"row_heading level0 row9\" >Actual F29-32</th>\n",
              "                        <td id=\"T_7ccf21d6_499d_11ec_bda8_0242ac1c0002row9_col0\" class=\"data row9 col0\" >0</td>\n",
              "                        <td id=\"T_7ccf21d6_499d_11ec_bda8_0242ac1c0002row9_col1\" class=\"data row9 col1\" >0</td>\n",
              "                        <td id=\"T_7ccf21d6_499d_11ec_bda8_0242ac1c0002row9_col2\" class=\"data row9 col2\" >2</td>\n",
              "                        <td id=\"T_7ccf21d6_499d_11ec_bda8_0242ac1c0002row9_col3\" class=\"data row9 col3\" >0</td>\n",
              "                        <td id=\"T_7ccf21d6_499d_11ec_bda8_0242ac1c0002row9_col4\" class=\"data row9 col4\" >4</td>\n",
              "                        <td id=\"T_7ccf21d6_499d_11ec_bda8_0242ac1c0002row9_col5\" class=\"data row9 col5\" >14</td>\n",
              "                        <td id=\"T_7ccf21d6_499d_11ec_bda8_0242ac1c0002row9_col6\" class=\"data row9 col6\" >0</td>\n",
              "                        <td id=\"T_7ccf21d6_499d_11ec_bda8_0242ac1c0002row9_col7\" class=\"data row9 col7\" >0</td>\n",
              "                        <td id=\"T_7ccf21d6_499d_11ec_bda8_0242ac1c0002row9_col8\" class=\"data row9 col8\" >0</td>\n",
              "                        <td id=\"T_7ccf21d6_499d_11ec_bda8_0242ac1c0002row9_col9\" class=\"data row9 col9\" >61</td>\n",
              "                        <td id=\"T_7ccf21d6_499d_11ec_bda8_0242ac1c0002row9_col10\" class=\"data row9 col10\" >0</td>\n",
              "                        <td id=\"T_7ccf21d6_499d_11ec_bda8_0242ac1c0002row9_col11\" class=\"data row9 col11\" >0</td>\n",
              "            </tr>\n",
              "            <tr>\n",
              "                        <th id=\"T_7ccf21d6_499d_11ec_bda8_0242ac1c0002level0_row10\" class=\"row_heading level0 row10\" >Actual F33-42</th>\n",
              "                        <td id=\"T_7ccf21d6_499d_11ec_bda8_0242ac1c0002row10_col0\" class=\"data row10 col0\" >2</td>\n",
              "                        <td id=\"T_7ccf21d6_499d_11ec_bda8_0242ac1c0002row10_col1\" class=\"data row10 col1\" >0</td>\n",
              "                        <td id=\"T_7ccf21d6_499d_11ec_bda8_0242ac1c0002row10_col2\" class=\"data row10 col2\" >0</td>\n",
              "                        <td id=\"T_7ccf21d6_499d_11ec_bda8_0242ac1c0002row10_col3\" class=\"data row10 col3\" >0</td>\n",
              "                        <td id=\"T_7ccf21d6_499d_11ec_bda8_0242ac1c0002row10_col4\" class=\"data row10 col4\" >2</td>\n",
              "                        <td id=\"T_7ccf21d6_499d_11ec_bda8_0242ac1c0002row10_col5\" class=\"data row10 col5\" >21</td>\n",
              "                        <td id=\"T_7ccf21d6_499d_11ec_bda8_0242ac1c0002row10_col6\" class=\"data row10 col6\" >2</td>\n",
              "                        <td id=\"T_7ccf21d6_499d_11ec_bda8_0242ac1c0002row10_col7\" class=\"data row10 col7\" >1</td>\n",
              "                        <td id=\"T_7ccf21d6_499d_11ec_bda8_0242ac1c0002row10_col8\" class=\"data row10 col8\" >0</td>\n",
              "                        <td id=\"T_7ccf21d6_499d_11ec_bda8_0242ac1c0002row10_col9\" class=\"data row10 col9\" >1</td>\n",
              "                        <td id=\"T_7ccf21d6_499d_11ec_bda8_0242ac1c0002row10_col10\" class=\"data row10 col10\" >108</td>\n",
              "                        <td id=\"T_7ccf21d6_499d_11ec_bda8_0242ac1c0002row10_col11\" class=\"data row10 col11\" >0</td>\n",
              "            </tr>\n",
              "            <tr>\n",
              "                        <th id=\"T_7ccf21d6_499d_11ec_bda8_0242ac1c0002level0_row11\" class=\"row_heading level0 row11\" >Actual F43+</th>\n",
              "                        <td id=\"T_7ccf21d6_499d_11ec_bda8_0242ac1c0002row11_col0\" class=\"data row11 col0\" >0</td>\n",
              "                        <td id=\"T_7ccf21d6_499d_11ec_bda8_0242ac1c0002row11_col1\" class=\"data row11 col1\" >2</td>\n",
              "                        <td id=\"T_7ccf21d6_499d_11ec_bda8_0242ac1c0002row11_col2\" class=\"data row11 col2\" >2</td>\n",
              "                        <td id=\"T_7ccf21d6_499d_11ec_bda8_0242ac1c0002row11_col3\" class=\"data row11 col3\" >4</td>\n",
              "                        <td id=\"T_7ccf21d6_499d_11ec_bda8_0242ac1c0002row11_col4\" class=\"data row11 col4\" >15</td>\n",
              "                        <td id=\"T_7ccf21d6_499d_11ec_bda8_0242ac1c0002row11_col5\" class=\"data row11 col5\" >14</td>\n",
              "                        <td id=\"T_7ccf21d6_499d_11ec_bda8_0242ac1c0002row11_col6\" class=\"data row11 col6\" >0</td>\n",
              "                        <td id=\"T_7ccf21d6_499d_11ec_bda8_0242ac1c0002row11_col7\" class=\"data row11 col7\" >0</td>\n",
              "                        <td id=\"T_7ccf21d6_499d_11ec_bda8_0242ac1c0002row11_col8\" class=\"data row11 col8\" >0</td>\n",
              "                        <td id=\"T_7ccf21d6_499d_11ec_bda8_0242ac1c0002row11_col9\" class=\"data row11 col9\" >0</td>\n",
              "                        <td id=\"T_7ccf21d6_499d_11ec_bda8_0242ac1c0002row11_col10\" class=\"data row11 col10\" >3</td>\n",
              "                        <td id=\"T_7ccf21d6_499d_11ec_bda8_0242ac1c0002row11_col11\" class=\"data row11 col11\" >133</td>\n",
              "            </tr>\n",
              "    </tbody></table>"
            ],
            "text/plain": [
              "<pandas.io.formats.style.Styler at 0x7f3d14664850>"
            ]
          },
          "metadata": {},
          "execution_count": 20
        }
      ]
    },
    {
      "cell_type": "code",
      "metadata": {
        "colab": {
          "base_uri": "https://localhost:8080/"
        },
        "id": "V9ClTqkqwkP0",
        "outputId": "2f823e52-621a-4f56-aace-39b8781df22f"
      },
      "source": [
        "print(\"Classification Report:\")\n",
        "print()\n",
        "print(classification_report(y_test, y_pred))"
      ],
      "execution_count": null,
      "outputs": [
        {
          "output_type": "stream",
          "name": "stdout",
          "text": [
            "Classification Report:\n",
            "\n",
            "              precision    recall  f1-score   support\n",
            "\n",
            "           0       0.84      0.85      0.85       128\n",
            "           1       0.93      0.88      0.90       258\n",
            "           2       0.97      0.84      0.90       192\n",
            "           3       0.91      0.83      0.87       283\n",
            "           4       0.86      0.89      0.88       539\n",
            "           5       0.77      0.93      0.84       595\n",
            "           6       0.94      0.79      0.86        39\n",
            "           7       0.83      0.83      0.83        29\n",
            "           8       0.98      0.74      0.84        57\n",
            "           9       0.86      0.75      0.80        81\n",
            "          10       0.84      0.79      0.82       137\n",
            "          11       0.96      0.77      0.86       173\n",
            "\n",
            "    accuracy                           0.86      2511\n",
            "   macro avg       0.89      0.82      0.85      2511\n",
            "weighted avg       0.87      0.86      0.86      2511\n",
            "\n"
          ]
        }
      ]
    },
    {
      "cell_type": "code",
      "metadata": {
        "id": "uSJtALHbwoIc"
      },
      "source": [
        "def multiclass_roc_auc_score(y_test, y_pred, average=\"macro\"):\n",
        "  lb = LabelBinarizer()\n",
        "  lb.fit(y_test)\n",
        "  y_test = lb.transform(y_test)\n",
        "  y_pred = lb.transform(y_pred)\n",
        "  return roc_auc_score(y_test, y_pred, average=average)\n"
      ],
      "execution_count": null,
      "outputs": []
    },
    {
      "cell_type": "code",
      "metadata": {
        "colab": {
          "base_uri": "https://localhost:8080/"
        },
        "id": "6iShkhSOwoLD",
        "outputId": "178ca621-fbdc-4c03-ccba-627f143218e0"
      },
      "source": [
        "multiclass_roc_auc_score(y_test, y_pred, average=\"macro\")"
      ],
      "execution_count": null,
      "outputs": [
        {
          "output_type": "execute_result",
          "data": {
            "text/plain": [
              "0.9052496888001079"
            ]
          },
          "metadata": {},
          "execution_count": 23
        }
      ]
    },
    {
      "cell_type": "code",
      "metadata": {
        "colab": {
          "base_uri": "https://localhost:8080/"
        },
        "id": "E19R3nhczlup",
        "outputId": "5108b8e3-70df-4445-94e2-6ca2bc883279"
      },
      "source": [
        "pipeline = Pipeline(\n",
        "    [(\"preprocessing\", preprocessing), (\"dtc\", DecisionTreeClassifier())], verbose=True\n",
        ")\n",
        "\n",
        "pipeline.fit(X_train, y_train)\n"
      ],
      "execution_count": null,
      "outputs": [
        {
          "output_type": "stream",
          "name": "stdout",
          "text": [
            "[Pipeline] ..... (step 1 of 2) Processing preprocessing, total=   0.0s\n",
            "[Pipeline] ............... (step 2 of 2) Processing dtc, total=   0.0s\n"
          ]
        },
        {
          "output_type": "execute_result",
          "data": {
            "text/plain": [
              "Pipeline(steps=[('preprocessing',\n",
              "                 ColumnTransformer(remainder='passthrough',\n",
              "                                   transformers=[('scale', StandardScaler(),\n",
              "                                                  ['device_id', 'event_id'])])),\n",
              "                ('dtc', DecisionTreeClassifier())],\n",
              "         verbose=True)"
            ]
          },
          "metadata": {},
          "execution_count": 24
        }
      ]
    },
    {
      "cell_type": "code",
      "metadata": {
        "id": "kXtyHD7Bzl1B"
      },
      "source": [
        "# Max depth of 50 provides a better score, this is much better than the previous score of around 0.2.\n",
        "# To improve score suggest increasing max depth even more\n",
        "grid = {'max_leaf_nodes': list(range(2, 100)), 'min_samples_split': [2, 3, 4]}\n",
        "\n",
        "\n",
        "model = GridSearchCV(DecisionTreeClassifier(random_state=42), grid, verbose=1, cv=3)\n"
      ],
      "execution_count": null,
      "outputs": []
    },
    {
      "cell_type": "code",
      "metadata": {
        "colab": {
          "base_uri": "https://localhost:8080/"
        },
        "id": "pCb3USh_zpes",
        "outputId": "bbadd5bd-48f5-4a05-ec83-76426469ea4f"
      },
      "source": [
        "model.fit(X_train, y_train)\n"
      ],
      "execution_count": null,
      "outputs": [
        {
          "output_type": "stream",
          "name": "stdout",
          "text": [
            "Fitting 3 folds for each of 294 candidates, totalling 882 fits\n"
          ]
        },
        {
          "output_type": "execute_result",
          "data": {
            "text/plain": [
              "GridSearchCV(cv=3, estimator=DecisionTreeClassifier(random_state=42),\n",
              "             param_grid={'max_leaf_nodes': [2, 3, 4, 5, 6, 7, 8, 9, 10, 11, 12,\n",
              "                                            13, 14, 15, 16, 17, 18, 19, 20, 21,\n",
              "                                            22, 23, 24, 25, 26, 27, 28, 29, 30,\n",
              "                                            31, ...],\n",
              "                         'min_samples_split': [2, 3, 4]},\n",
              "             verbose=1)"
            ]
          },
          "metadata": {},
          "execution_count": 26
        }
      ]
    },
    {
      "cell_type": "code",
      "metadata": {
        "colab": {
          "base_uri": "https://localhost:8080/"
        },
        "id": "L8lpzmMHzphJ",
        "outputId": "2e38b7a1-187f-483c-d7fc-8c4809fc1534"
      },
      "source": [
        "model.best_params_\n"
      ],
      "execution_count": null,
      "outputs": [
        {
          "output_type": "execute_result",
          "data": {
            "text/plain": [
              "{'max_leaf_nodes': 99, 'min_samples_split': 2}"
            ]
          },
          "metadata": {},
          "execution_count": 27
        }
      ]
    },
    {
      "cell_type": "code",
      "metadata": {
        "colab": {
          "base_uri": "https://localhost:8080/"
        },
        "id": "FGg4MNtQzpji",
        "outputId": "502f3a3a-ecf0-4400-b91f-857b2b3a4d6f"
      },
      "source": [
        "# Model still appears to be extremely overfitting\n",
        "train_score = model.score(X_train, y_train)\n",
        "test_score = model.score(X_test, y_test)\n",
        "\n",
        "print(f\"Train score: {train_score}\")\n",
        "print(f\"Test score: {test_score}\")"
      ],
      "execution_count": null,
      "outputs": [
        {
          "output_type": "stream",
          "name": "stdout",
          "text": [
            "Train score: 0.8231075697211155\n",
            "Test score: 0.8231780167264038\n"
          ]
        }
      ]
    },
    {
      "cell_type": "code",
      "metadata": {
        "colab": {
          "base_uri": "https://localhost:8080/",
          "height": 425
        },
        "id": "cl6CUxQJzpmH",
        "outputId": "0476d346-0572-4385-be4f-1a4cadefa84a"
      },
      "source": [
        "y_pred = model.predict(X_test)\n",
        "\n",
        "con_mat = pd.DataFrame(\n",
        "    confusion_matrix(y_test, y_pred),\n",
        "    index=[\n",
        "        \"Actual M22-\",\n",
        "        \"Actual M23-26\",\n",
        "        \"Actual M27-28\",\n",
        "        \"Actual M29-31\",\n",
        "        \"Actual M32-38\",\n",
        "        \"Actual M39+\",\n",
        "        \"Actual F23-\",\n",
        "        \"Actual F24-26\",\n",
        "        \"Actual F27-28\",\n",
        "        \"Actual F29-32\",\n",
        "        \"Actual F33-42\",\n",
        "        \"Actual F43+\",\n",
        "    ],\n",
        "    columns=[\n",
        "        \"Predicted M22-\",\n",
        "        \"Predicted M23-26\",\n",
        "        \"Predicted M27-28\",\n",
        "        \"Predicted M29-31\",\n",
        "        \"Predicted M32-38\",\n",
        "        \"Predicted M39+\",\n",
        "        \"Predicted F23-\",\n",
        "        \"Predicted F24-26\",\n",
        "        \"Predicted F27-28\",\n",
        "        \"Predicted F29-32\",\n",
        "        \"Predicted F33-42\",\n",
        "        \"Predicted F43+\",\n",
        "    ],\n",
        ")\n",
        "con_mat.style.background_gradient(axis=None)\n",
        "\n",
        "\n"
      ],
      "execution_count": null,
      "outputs": [
        {
          "output_type": "execute_result",
          "data": {
            "text/html": [
              "<style  type=\"text/css\" >\n",
              "#T_8f064a82_499d_11ec_bda8_0242ac1c0002row0_col0{\n",
              "            background-color:  #e0deed;\n",
              "            color:  #000000;\n",
              "        }#T_8f064a82_499d_11ec_bda8_0242ac1c0002row0_col1,#T_8f064a82_499d_11ec_bda8_0242ac1c0002row0_col5,#T_8f064a82_499d_11ec_bda8_0242ac1c0002row0_col6,#T_8f064a82_499d_11ec_bda8_0242ac1c0002row0_col7,#T_8f064a82_499d_11ec_bda8_0242ac1c0002row0_col8,#T_8f064a82_499d_11ec_bda8_0242ac1c0002row0_col9,#T_8f064a82_499d_11ec_bda8_0242ac1c0002row1_col0,#T_8f064a82_499d_11ec_bda8_0242ac1c0002row1_col2,#T_8f064a82_499d_11ec_bda8_0242ac1c0002row1_col3,#T_8f064a82_499d_11ec_bda8_0242ac1c0002row1_col6,#T_8f064a82_499d_11ec_bda8_0242ac1c0002row1_col7,#T_8f064a82_499d_11ec_bda8_0242ac1c0002row1_col8,#T_8f064a82_499d_11ec_bda8_0242ac1c0002row1_col9,#T_8f064a82_499d_11ec_bda8_0242ac1c0002row1_col10,#T_8f064a82_499d_11ec_bda8_0242ac1c0002row1_col11,#T_8f064a82_499d_11ec_bda8_0242ac1c0002row2_col0,#T_8f064a82_499d_11ec_bda8_0242ac1c0002row2_col1,#T_8f064a82_499d_11ec_bda8_0242ac1c0002row2_col7,#T_8f064a82_499d_11ec_bda8_0242ac1c0002row2_col8,#T_8f064a82_499d_11ec_bda8_0242ac1c0002row2_col9,#T_8f064a82_499d_11ec_bda8_0242ac1c0002row2_col10,#T_8f064a82_499d_11ec_bda8_0242ac1c0002row3_col1,#T_8f064a82_499d_11ec_bda8_0242ac1c0002row3_col2,#T_8f064a82_499d_11ec_bda8_0242ac1c0002row3_col6,#T_8f064a82_499d_11ec_bda8_0242ac1c0002row3_col7,#T_8f064a82_499d_11ec_bda8_0242ac1c0002row3_col8,#T_8f064a82_499d_11ec_bda8_0242ac1c0002row3_col9,#T_8f064a82_499d_11ec_bda8_0242ac1c0002row3_col11,#T_8f064a82_499d_11ec_bda8_0242ac1c0002row4_col0,#T_8f064a82_499d_11ec_bda8_0242ac1c0002row4_col1,#T_8f064a82_499d_11ec_bda8_0242ac1c0002row4_col2,#T_8f064a82_499d_11ec_bda8_0242ac1c0002row4_col6,#T_8f064a82_499d_11ec_bda8_0242ac1c0002row4_col7,#T_8f064a82_499d_11ec_bda8_0242ac1c0002row4_col8,#T_8f064a82_499d_11ec_bda8_0242ac1c0002row4_col9,#T_8f064a82_499d_11ec_bda8_0242ac1c0002row4_col10,#T_8f064a82_499d_11ec_bda8_0242ac1c0002row4_col11,#T_8f064a82_499d_11ec_bda8_0242ac1c0002row5_col0,#T_8f064a82_499d_11ec_bda8_0242ac1c0002row5_col1,#T_8f064a82_499d_11ec_bda8_0242ac1c0002row5_col6,#T_8f064a82_499d_11ec_bda8_0242ac1c0002row5_col7,#T_8f064a82_499d_11ec_bda8_0242ac1c0002row5_col8,#T_8f064a82_499d_11ec_bda8_0242ac1c0002row5_col9,#T_8f064a82_499d_11ec_bda8_0242ac1c0002row5_col10,#T_8f064a82_499d_11ec_bda8_0242ac1c0002row5_col11,#T_8f064a82_499d_11ec_bda8_0242ac1c0002row6_col0,#T_8f064a82_499d_11ec_bda8_0242ac1c0002row6_col1,#T_8f064a82_499d_11ec_bda8_0242ac1c0002row6_col2,#T_8f064a82_499d_11ec_bda8_0242ac1c0002row6_col3,#T_8f064a82_499d_11ec_bda8_0242ac1c0002row6_col5,#T_8f064a82_499d_11ec_bda8_0242ac1c0002row6_col7,#T_8f064a82_499d_11ec_bda8_0242ac1c0002row6_col8,#T_8f064a82_499d_11ec_bda8_0242ac1c0002row6_col9,#T_8f064a82_499d_11ec_bda8_0242ac1c0002row6_col10,#T_8f064a82_499d_11ec_bda8_0242ac1c0002row6_col11,#T_8f064a82_499d_11ec_bda8_0242ac1c0002row7_col0,#T_8f064a82_499d_11ec_bda8_0242ac1c0002row7_col1,#T_8f064a82_499d_11ec_bda8_0242ac1c0002row7_col2,#T_8f064a82_499d_11ec_bda8_0242ac1c0002row7_col3,#T_8f064a82_499d_11ec_bda8_0242ac1c0002row7_col4,#T_8f064a82_499d_11ec_bda8_0242ac1c0002row7_col5,#T_8f064a82_499d_11ec_bda8_0242ac1c0002row7_col6,#T_8f064a82_499d_11ec_bda8_0242ac1c0002row7_col8,#T_8f064a82_499d_11ec_bda8_0242ac1c0002row7_col9,#T_8f064a82_499d_11ec_bda8_0242ac1c0002row7_col10,#T_8f064a82_499d_11ec_bda8_0242ac1c0002row7_col11,#T_8f064a82_499d_11ec_bda8_0242ac1c0002row8_col0,#T_8f064a82_499d_11ec_bda8_0242ac1c0002row8_col2,#T_8f064a82_499d_11ec_bda8_0242ac1c0002row8_col5,#T_8f064a82_499d_11ec_bda8_0242ac1c0002row8_col6,#T_8f064a82_499d_11ec_bda8_0242ac1c0002row8_col7,#T_8f064a82_499d_11ec_bda8_0242ac1c0002row8_col9,#T_8f064a82_499d_11ec_bda8_0242ac1c0002row8_col10,#T_8f064a82_499d_11ec_bda8_0242ac1c0002row8_col11,#T_8f064a82_499d_11ec_bda8_0242ac1c0002row9_col0,#T_8f064a82_499d_11ec_bda8_0242ac1c0002row9_col1,#T_8f064a82_499d_11ec_bda8_0242ac1c0002row9_col2,#T_8f064a82_499d_11ec_bda8_0242ac1c0002row9_col3,#T_8f064a82_499d_11ec_bda8_0242ac1c0002row9_col6,#T_8f064a82_499d_11ec_bda8_0242ac1c0002row9_col8,#T_8f064a82_499d_11ec_bda8_0242ac1c0002row9_col10,#T_8f064a82_499d_11ec_bda8_0242ac1c0002row9_col11,#T_8f064a82_499d_11ec_bda8_0242ac1c0002row10_col0,#T_8f064a82_499d_11ec_bda8_0242ac1c0002row10_col1,#T_8f064a82_499d_11ec_bda8_0242ac1c0002row10_col2,#T_8f064a82_499d_11ec_bda8_0242ac1c0002row10_col4,#T_8f064a82_499d_11ec_bda8_0242ac1c0002row10_col6,#T_8f064a82_499d_11ec_bda8_0242ac1c0002row10_col7,#T_8f064a82_499d_11ec_bda8_0242ac1c0002row10_col9,#T_8f064a82_499d_11ec_bda8_0242ac1c0002row10_col11,#T_8f064a82_499d_11ec_bda8_0242ac1c0002row11_col0,#T_8f064a82_499d_11ec_bda8_0242ac1c0002row11_col2,#T_8f064a82_499d_11ec_bda8_0242ac1c0002row11_col5,#T_8f064a82_499d_11ec_bda8_0242ac1c0002row11_col6,#T_8f064a82_499d_11ec_bda8_0242ac1c0002row11_col7,#T_8f064a82_499d_11ec_bda8_0242ac1c0002row11_col8,#T_8f064a82_499d_11ec_bda8_0242ac1c0002row11_col10{\n",
              "            background-color:  #fff7fb;\n",
              "            color:  #000000;\n",
              "        }#T_8f064a82_499d_11ec_bda8_0242ac1c0002row0_col2,#T_8f064a82_499d_11ec_bda8_0242ac1c0002row9_col5,#T_8f064a82_499d_11ec_bda8_0242ac1c0002row11_col1{\n",
              "            background-color:  #fef6fa;\n",
              "            color:  #000000;\n",
              "        }#T_8f064a82_499d_11ec_bda8_0242ac1c0002row0_col3,#T_8f064a82_499d_11ec_bda8_0242ac1c0002row0_col4,#T_8f064a82_499d_11ec_bda8_0242ac1c0002row0_col10,#T_8f064a82_499d_11ec_bda8_0242ac1c0002row1_col4,#T_8f064a82_499d_11ec_bda8_0242ac1c0002row1_col5,#T_8f064a82_499d_11ec_bda8_0242ac1c0002row2_col5,#T_8f064a82_499d_11ec_bda8_0242ac1c0002row2_col6,#T_8f064a82_499d_11ec_bda8_0242ac1c0002row2_col11,#T_8f064a82_499d_11ec_bda8_0242ac1c0002row3_col0,#T_8f064a82_499d_11ec_bda8_0242ac1c0002row3_col4,#T_8f064a82_499d_11ec_bda8_0242ac1c0002row3_col10,#T_8f064a82_499d_11ec_bda8_0242ac1c0002row9_col4,#T_8f064a82_499d_11ec_bda8_0242ac1c0002row10_col3,#T_8f064a82_499d_11ec_bda8_0242ac1c0002row11_col3,#T_8f064a82_499d_11ec_bda8_0242ac1c0002row11_col4{\n",
              "            background-color:  #fdf5fa;\n",
              "            color:  #000000;\n",
              "        }#T_8f064a82_499d_11ec_bda8_0242ac1c0002row0_col11,#T_8f064a82_499d_11ec_bda8_0242ac1c0002row5_col2{\n",
              "            background-color:  #fef6fb;\n",
              "            color:  #000000;\n",
              "        }#T_8f064a82_499d_11ec_bda8_0242ac1c0002row1_col1{\n",
              "            background-color:  #8bb2d4;\n",
              "            color:  #000000;\n",
              "        }#T_8f064a82_499d_11ec_bda8_0242ac1c0002row2_col2{\n",
              "            background-color:  #d0d1e6;\n",
              "            color:  #000000;\n",
              "        }#T_8f064a82_499d_11ec_bda8_0242ac1c0002row2_col3,#T_8f064a82_499d_11ec_bda8_0242ac1c0002row2_col4,#T_8f064a82_499d_11ec_bda8_0242ac1c0002row8_col1,#T_8f064a82_499d_11ec_bda8_0242ac1c0002row8_col3,#T_8f064a82_499d_11ec_bda8_0242ac1c0002row9_col7{\n",
              "            background-color:  #fbf4f9;\n",
              "            color:  #000000;\n",
              "        }#T_8f064a82_499d_11ec_bda8_0242ac1c0002row3_col3{\n",
              "            background-color:  #99b8d8;\n",
              "            color:  #000000;\n",
              "        }#T_8f064a82_499d_11ec_bda8_0242ac1c0002row3_col5{\n",
              "            background-color:  #f5eff6;\n",
              "            color:  #000000;\n",
              "        }#T_8f064a82_499d_11ec_bda8_0242ac1c0002row4_col3,#T_8f064a82_499d_11ec_bda8_0242ac1c0002row5_col4,#T_8f064a82_499d_11ec_bda8_0242ac1c0002row10_col8{\n",
              "            background-color:  #fbf3f9;\n",
              "            color:  #000000;\n",
              "        }#T_8f064a82_499d_11ec_bda8_0242ac1c0002row4_col4{\n",
              "            background-color:  #04588a;\n",
              "            color:  #f1f1f1;\n",
              "        }#T_8f064a82_499d_11ec_bda8_0242ac1c0002row4_col5{\n",
              "            background-color:  #f4edf6;\n",
              "            color:  #000000;\n",
              "        }#T_8f064a82_499d_11ec_bda8_0242ac1c0002row5_col3,#T_8f064a82_499d_11ec_bda8_0242ac1c0002row6_col6{\n",
              "            background-color:  #f8f1f8;\n",
              "            color:  #000000;\n",
              "        }#T_8f064a82_499d_11ec_bda8_0242ac1c0002row5_col5{\n",
              "            background-color:  #023858;\n",
              "            color:  #f1f1f1;\n",
              "        }#T_8f064a82_499d_11ec_bda8_0242ac1c0002row6_col4,#T_8f064a82_499d_11ec_bda8_0242ac1c0002row8_col4{\n",
              "            background-color:  #fcf4fa;\n",
              "            color:  #000000;\n",
              "        }#T_8f064a82_499d_11ec_bda8_0242ac1c0002row7_col7,#T_8f064a82_499d_11ec_bda8_0242ac1c0002row11_col9{\n",
              "            background-color:  #f7f0f7;\n",
              "            color:  #000000;\n",
              "        }#T_8f064a82_499d_11ec_bda8_0242ac1c0002row8_col8{\n",
              "            background-color:  #faf3f9;\n",
              "            color:  #000000;\n",
              "        }#T_8f064a82_499d_11ec_bda8_0242ac1c0002row9_col9{\n",
              "            background-color:  #f1ebf4;\n",
              "            color:  #000000;\n",
              "        }#T_8f064a82_499d_11ec_bda8_0242ac1c0002row10_col5{\n",
              "            background-color:  #f9f2f8;\n",
              "            color:  #000000;\n",
              "        }#T_8f064a82_499d_11ec_bda8_0242ac1c0002row10_col10{\n",
              "            background-color:  #e3e0ee;\n",
              "            color:  #000000;\n",
              "        }#T_8f064a82_499d_11ec_bda8_0242ac1c0002row11_col11{\n",
              "            background-color:  #d8d7e9;\n",
              "            color:  #000000;\n",
              "        }</style><table id=\"T_8f064a82_499d_11ec_bda8_0242ac1c0002\" class=\"dataframe\"><thead>    <tr>        <th class=\"blank level0\" ></th>        <th class=\"col_heading level0 col0\" >Predicted M22-</th>        <th class=\"col_heading level0 col1\" >Predicted M23-26</th>        <th class=\"col_heading level0 col2\" >Predicted M27-28</th>        <th class=\"col_heading level0 col3\" >Predicted M29-31</th>        <th class=\"col_heading level0 col4\" >Predicted M32-38</th>        <th class=\"col_heading level0 col5\" >Predicted M39+</th>        <th class=\"col_heading level0 col6\" >Predicted F23-</th>        <th class=\"col_heading level0 col7\" >Predicted F24-26</th>        <th class=\"col_heading level0 col8\" >Predicted F27-28</th>        <th class=\"col_heading level0 col9\" >Predicted F29-32</th>        <th class=\"col_heading level0 col10\" >Predicted F33-42</th>        <th class=\"col_heading level0 col11\" >Predicted F43+</th>    </tr></thead><tbody>\n",
              "                <tr>\n",
              "                        <th id=\"T_8f064a82_499d_11ec_bda8_0242ac1c0002level0_row0\" class=\"row_heading level0 row0\" >Actual M22-</th>\n",
              "                        <td id=\"T_8f064a82_499d_11ec_bda8_0242ac1c0002row0_col0\" class=\"data row0 col0\" >97</td>\n",
              "                        <td id=\"T_8f064a82_499d_11ec_bda8_0242ac1c0002row0_col1\" class=\"data row0 col1\" >0</td>\n",
              "                        <td id=\"T_8f064a82_499d_11ec_bda8_0242ac1c0002row0_col2\" class=\"data row0 col2\" >5</td>\n",
              "                        <td id=\"T_8f064a82_499d_11ec_bda8_0242ac1c0002row0_col3\" class=\"data row0 col3\" >7</td>\n",
              "                        <td id=\"T_8f064a82_499d_11ec_bda8_0242ac1c0002row0_col4\" class=\"data row0 col4\" >8</td>\n",
              "                        <td id=\"T_8f064a82_499d_11ec_bda8_0242ac1c0002row0_col5\" class=\"data row0 col5\" >0</td>\n",
              "                        <td id=\"T_8f064a82_499d_11ec_bda8_0242ac1c0002row0_col6\" class=\"data row0 col6\" >0</td>\n",
              "                        <td id=\"T_8f064a82_499d_11ec_bda8_0242ac1c0002row0_col7\" class=\"data row0 col7\" >0</td>\n",
              "                        <td id=\"T_8f064a82_499d_11ec_bda8_0242ac1c0002row0_col8\" class=\"data row0 col8\" >0</td>\n",
              "                        <td id=\"T_8f064a82_499d_11ec_bda8_0242ac1c0002row0_col9\" class=\"data row0 col9\" >0</td>\n",
              "                        <td id=\"T_8f064a82_499d_11ec_bda8_0242ac1c0002row0_col10\" class=\"data row0 col10\" >7</td>\n",
              "                        <td id=\"T_8f064a82_499d_11ec_bda8_0242ac1c0002row0_col11\" class=\"data row0 col11\" >4</td>\n",
              "            </tr>\n",
              "            <tr>\n",
              "                        <th id=\"T_8f064a82_499d_11ec_bda8_0242ac1c0002level0_row1\" class=\"row_heading level0 row1\" >Actual M23-26</th>\n",
              "                        <td id=\"T_8f064a82_499d_11ec_bda8_0242ac1c0002row1_col0\" class=\"data row1 col0\" >0</td>\n",
              "                        <td id=\"T_8f064a82_499d_11ec_bda8_0242ac1c0002row1_col1\" class=\"data row1 col1\" >243</td>\n",
              "                        <td id=\"T_8f064a82_499d_11ec_bda8_0242ac1c0002row1_col2\" class=\"data row1 col2\" >0</td>\n",
              "                        <td id=\"T_8f064a82_499d_11ec_bda8_0242ac1c0002row1_col3\" class=\"data row1 col3\" >0</td>\n",
              "                        <td id=\"T_8f064a82_499d_11ec_bda8_0242ac1c0002row1_col4\" class=\"data row1 col4\" >8</td>\n",
              "                        <td id=\"T_8f064a82_499d_11ec_bda8_0242ac1c0002row1_col5\" class=\"data row1 col5\" >7</td>\n",
              "                        <td id=\"T_8f064a82_499d_11ec_bda8_0242ac1c0002row1_col6\" class=\"data row1 col6\" >0</td>\n",
              "                        <td id=\"T_8f064a82_499d_11ec_bda8_0242ac1c0002row1_col7\" class=\"data row1 col7\" >0</td>\n",
              "                        <td id=\"T_8f064a82_499d_11ec_bda8_0242ac1c0002row1_col8\" class=\"data row1 col8\" >0</td>\n",
              "                        <td id=\"T_8f064a82_499d_11ec_bda8_0242ac1c0002row1_col9\" class=\"data row1 col9\" >0</td>\n",
              "                        <td id=\"T_8f064a82_499d_11ec_bda8_0242ac1c0002row1_col10\" class=\"data row1 col10\" >0</td>\n",
              "                        <td id=\"T_8f064a82_499d_11ec_bda8_0242ac1c0002row1_col11\" class=\"data row1 col11\" >0</td>\n",
              "            </tr>\n",
              "            <tr>\n",
              "                        <th id=\"T_8f064a82_499d_11ec_bda8_0242ac1c0002level0_row2\" class=\"row_heading level0 row2\" >Actual M27-28</th>\n",
              "                        <td id=\"T_8f064a82_499d_11ec_bda8_0242ac1c0002row2_col0\" class=\"data row2 col0\" >0</td>\n",
              "                        <td id=\"T_8f064a82_499d_11ec_bda8_0242ac1c0002row2_col1\" class=\"data row2 col1\" >0</td>\n",
              "                        <td id=\"T_8f064a82_499d_11ec_bda8_0242ac1c0002row2_col2\" class=\"data row2 col2\" >138</td>\n",
              "                        <td id=\"T_8f064a82_499d_11ec_bda8_0242ac1c0002row2_col3\" class=\"data row2 col3\" >13</td>\n",
              "                        <td id=\"T_8f064a82_499d_11ec_bda8_0242ac1c0002row2_col4\" class=\"data row2 col4\" >14</td>\n",
              "                        <td id=\"T_8f064a82_499d_11ec_bda8_0242ac1c0002row2_col5\" class=\"data row2 col5\" >9</td>\n",
              "                        <td id=\"T_8f064a82_499d_11ec_bda8_0242ac1c0002row2_col6\" class=\"data row2 col6\" >9</td>\n",
              "                        <td id=\"T_8f064a82_499d_11ec_bda8_0242ac1c0002row2_col7\" class=\"data row2 col7\" >0</td>\n",
              "                        <td id=\"T_8f064a82_499d_11ec_bda8_0242ac1c0002row2_col8\" class=\"data row2 col8\" >0</td>\n",
              "                        <td id=\"T_8f064a82_499d_11ec_bda8_0242ac1c0002row2_col9\" class=\"data row2 col9\" >0</td>\n",
              "                        <td id=\"T_8f064a82_499d_11ec_bda8_0242ac1c0002row2_col10\" class=\"data row2 col10\" >0</td>\n",
              "                        <td id=\"T_8f064a82_499d_11ec_bda8_0242ac1c0002row2_col11\" class=\"data row2 col11\" >9</td>\n",
              "            </tr>\n",
              "            <tr>\n",
              "                        <th id=\"T_8f064a82_499d_11ec_bda8_0242ac1c0002level0_row3\" class=\"row_heading level0 row3\" >Actual M29-31</th>\n",
              "                        <td id=\"T_8f064a82_499d_11ec_bda8_0242ac1c0002row3_col0\" class=\"data row3 col0\" >8</td>\n",
              "                        <td id=\"T_8f064a82_499d_11ec_bda8_0242ac1c0002row3_col1\" class=\"data row3 col1\" >0</td>\n",
              "                        <td id=\"T_8f064a82_499d_11ec_bda8_0242ac1c0002row3_col2\" class=\"data row3 col2\" >0</td>\n",
              "                        <td id=\"T_8f064a82_499d_11ec_bda8_0242ac1c0002row3_col3\" class=\"data row3 col3\" >224</td>\n",
              "                        <td id=\"T_8f064a82_499d_11ec_bda8_0242ac1c0002row3_col4\" class=\"data row3 col4\" >9</td>\n",
              "                        <td id=\"T_8f064a82_499d_11ec_bda8_0242ac1c0002row3_col5\" class=\"data row3 col5\" >35</td>\n",
              "                        <td id=\"T_8f064a82_499d_11ec_bda8_0242ac1c0002row3_col6\" class=\"data row3 col6\" >0</td>\n",
              "                        <td id=\"T_8f064a82_499d_11ec_bda8_0242ac1c0002row3_col7\" class=\"data row3 col7\" >0</td>\n",
              "                        <td id=\"T_8f064a82_499d_11ec_bda8_0242ac1c0002row3_col8\" class=\"data row3 col8\" >0</td>\n",
              "                        <td id=\"T_8f064a82_499d_11ec_bda8_0242ac1c0002row3_col9\" class=\"data row3 col9\" >0</td>\n",
              "                        <td id=\"T_8f064a82_499d_11ec_bda8_0242ac1c0002row3_col10\" class=\"data row3 col10\" >7</td>\n",
              "                        <td id=\"T_8f064a82_499d_11ec_bda8_0242ac1c0002row3_col11\" class=\"data row3 col11\" >0</td>\n",
              "            </tr>\n",
              "            <tr>\n",
              "                        <th id=\"T_8f064a82_499d_11ec_bda8_0242ac1c0002level0_row4\" class=\"row_heading level0 row4\" >Actual M32-38</th>\n",
              "                        <td id=\"T_8f064a82_499d_11ec_bda8_0242ac1c0002row4_col0\" class=\"data row4 col0\" >0</td>\n",
              "                        <td id=\"T_8f064a82_499d_11ec_bda8_0242ac1c0002row4_col1\" class=\"data row4 col1\" >0</td>\n",
              "                        <td id=\"T_8f064a82_499d_11ec_bda8_0242ac1c0002row4_col2\" class=\"data row4 col2\" >0</td>\n",
              "                        <td id=\"T_8f064a82_499d_11ec_bda8_0242ac1c0002row4_col3\" class=\"data row4 col3\" >15</td>\n",
              "                        <td id=\"T_8f064a82_499d_11ec_bda8_0242ac1c0002row4_col4\" class=\"data row4 col4\" >482</td>\n",
              "                        <td id=\"T_8f064a82_499d_11ec_bda8_0242ac1c0002row4_col5\" class=\"data row4 col5\" >42</td>\n",
              "                        <td id=\"T_8f064a82_499d_11ec_bda8_0242ac1c0002row4_col6\" class=\"data row4 col6\" >0</td>\n",
              "                        <td id=\"T_8f064a82_499d_11ec_bda8_0242ac1c0002row4_col7\" class=\"data row4 col7\" >0</td>\n",
              "                        <td id=\"T_8f064a82_499d_11ec_bda8_0242ac1c0002row4_col8\" class=\"data row4 col8\" >0</td>\n",
              "                        <td id=\"T_8f064a82_499d_11ec_bda8_0242ac1c0002row4_col9\" class=\"data row4 col9\" >0</td>\n",
              "                        <td id=\"T_8f064a82_499d_11ec_bda8_0242ac1c0002row4_col10\" class=\"data row4 col10\" >0</td>\n",
              "                        <td id=\"T_8f064a82_499d_11ec_bda8_0242ac1c0002row4_col11\" class=\"data row4 col11\" >0</td>\n",
              "            </tr>\n",
              "            <tr>\n",
              "                        <th id=\"T_8f064a82_499d_11ec_bda8_0242ac1c0002level0_row5\" class=\"row_heading level0 row5\" >Actual M39+</th>\n",
              "                        <td id=\"T_8f064a82_499d_11ec_bda8_0242ac1c0002row5_col0\" class=\"data row5 col0\" >0</td>\n",
              "                        <td id=\"T_8f064a82_499d_11ec_bda8_0242ac1c0002row5_col1\" class=\"data row5 col1\" >0</td>\n",
              "                        <td id=\"T_8f064a82_499d_11ec_bda8_0242ac1c0002row5_col2\" class=\"data row5 col2\" >3</td>\n",
              "                        <td id=\"T_8f064a82_499d_11ec_bda8_0242ac1c0002row5_col3\" class=\"data row5 col3\" >27</td>\n",
              "                        <td id=\"T_8f064a82_499d_11ec_bda8_0242ac1c0002row5_col4\" class=\"data row5 col4\" >17</td>\n",
              "                        <td id=\"T_8f064a82_499d_11ec_bda8_0242ac1c0002row5_col5\" class=\"data row5 col5\" >548</td>\n",
              "                        <td id=\"T_8f064a82_499d_11ec_bda8_0242ac1c0002row5_col6\" class=\"data row5 col6\" >0</td>\n",
              "                        <td id=\"T_8f064a82_499d_11ec_bda8_0242ac1c0002row5_col7\" class=\"data row5 col7\" >0</td>\n",
              "                        <td id=\"T_8f064a82_499d_11ec_bda8_0242ac1c0002row5_col8\" class=\"data row5 col8\" >0</td>\n",
              "                        <td id=\"T_8f064a82_499d_11ec_bda8_0242ac1c0002row5_col9\" class=\"data row5 col9\" >0</td>\n",
              "                        <td id=\"T_8f064a82_499d_11ec_bda8_0242ac1c0002row5_col10\" class=\"data row5 col10\" >0</td>\n",
              "                        <td id=\"T_8f064a82_499d_11ec_bda8_0242ac1c0002row5_col11\" class=\"data row5 col11\" >0</td>\n",
              "            </tr>\n",
              "            <tr>\n",
              "                        <th id=\"T_8f064a82_499d_11ec_bda8_0242ac1c0002level0_row6\" class=\"row_heading level0 row6\" >Actual F23-</th>\n",
              "                        <td id=\"T_8f064a82_499d_11ec_bda8_0242ac1c0002row6_col0\" class=\"data row6 col0\" >0</td>\n",
              "                        <td id=\"T_8f064a82_499d_11ec_bda8_0242ac1c0002row6_col1\" class=\"data row6 col1\" >0</td>\n",
              "                        <td id=\"T_8f064a82_499d_11ec_bda8_0242ac1c0002row6_col2\" class=\"data row6 col2\" >0</td>\n",
              "                        <td id=\"T_8f064a82_499d_11ec_bda8_0242ac1c0002row6_col3\" class=\"data row6 col3\" >0</td>\n",
              "                        <td id=\"T_8f064a82_499d_11ec_bda8_0242ac1c0002row6_col4\" class=\"data row6 col4\" >12</td>\n",
              "                        <td id=\"T_8f064a82_499d_11ec_bda8_0242ac1c0002row6_col5\" class=\"data row6 col5\" >0</td>\n",
              "                        <td id=\"T_8f064a82_499d_11ec_bda8_0242ac1c0002row6_col6\" class=\"data row6 col6\" >27</td>\n",
              "                        <td id=\"T_8f064a82_499d_11ec_bda8_0242ac1c0002row6_col7\" class=\"data row6 col7\" >0</td>\n",
              "                        <td id=\"T_8f064a82_499d_11ec_bda8_0242ac1c0002row6_col8\" class=\"data row6 col8\" >0</td>\n",
              "                        <td id=\"T_8f064a82_499d_11ec_bda8_0242ac1c0002row6_col9\" class=\"data row6 col9\" >0</td>\n",
              "                        <td id=\"T_8f064a82_499d_11ec_bda8_0242ac1c0002row6_col10\" class=\"data row6 col10\" >0</td>\n",
              "                        <td id=\"T_8f064a82_499d_11ec_bda8_0242ac1c0002row6_col11\" class=\"data row6 col11\" >0</td>\n",
              "            </tr>\n",
              "            <tr>\n",
              "                        <th id=\"T_8f064a82_499d_11ec_bda8_0242ac1c0002level0_row7\" class=\"row_heading level0 row7\" >Actual F24-26</th>\n",
              "                        <td id=\"T_8f064a82_499d_11ec_bda8_0242ac1c0002row7_col0\" class=\"data row7 col0\" >0</td>\n",
              "                        <td id=\"T_8f064a82_499d_11ec_bda8_0242ac1c0002row7_col1\" class=\"data row7 col1\" >0</td>\n",
              "                        <td id=\"T_8f064a82_499d_11ec_bda8_0242ac1c0002row7_col2\" class=\"data row7 col2\" >0</td>\n",
              "                        <td id=\"T_8f064a82_499d_11ec_bda8_0242ac1c0002row7_col3\" class=\"data row7 col3\" >0</td>\n",
              "                        <td id=\"T_8f064a82_499d_11ec_bda8_0242ac1c0002row7_col4\" class=\"data row7 col4\" >0</td>\n",
              "                        <td id=\"T_8f064a82_499d_11ec_bda8_0242ac1c0002row7_col5\" class=\"data row7 col5\" >0</td>\n",
              "                        <td id=\"T_8f064a82_499d_11ec_bda8_0242ac1c0002row7_col6\" class=\"data row7 col6\" >0</td>\n",
              "                        <td id=\"T_8f064a82_499d_11ec_bda8_0242ac1c0002row7_col7\" class=\"data row7 col7\" >29</td>\n",
              "                        <td id=\"T_8f064a82_499d_11ec_bda8_0242ac1c0002row7_col8\" class=\"data row7 col8\" >0</td>\n",
              "                        <td id=\"T_8f064a82_499d_11ec_bda8_0242ac1c0002row7_col9\" class=\"data row7 col9\" >0</td>\n",
              "                        <td id=\"T_8f064a82_499d_11ec_bda8_0242ac1c0002row7_col10\" class=\"data row7 col10\" >0</td>\n",
              "                        <td id=\"T_8f064a82_499d_11ec_bda8_0242ac1c0002row7_col11\" class=\"data row7 col11\" >0</td>\n",
              "            </tr>\n",
              "            <tr>\n",
              "                        <th id=\"T_8f064a82_499d_11ec_bda8_0242ac1c0002level0_row8\" class=\"row_heading level0 row8\" >Actual F27-28</th>\n",
              "                        <td id=\"T_8f064a82_499d_11ec_bda8_0242ac1c0002row8_col0\" class=\"data row8 col0\" >0</td>\n",
              "                        <td id=\"T_8f064a82_499d_11ec_bda8_0242ac1c0002row8_col1\" class=\"data row8 col1\" >13</td>\n",
              "                        <td id=\"T_8f064a82_499d_11ec_bda8_0242ac1c0002row8_col2\" class=\"data row8 col2\" >0</td>\n",
              "                        <td id=\"T_8f064a82_499d_11ec_bda8_0242ac1c0002row8_col3\" class=\"data row8 col3\" >14</td>\n",
              "                        <td id=\"T_8f064a82_499d_11ec_bda8_0242ac1c0002row8_col4\" class=\"data row8 col4\" >11</td>\n",
              "                        <td id=\"T_8f064a82_499d_11ec_bda8_0242ac1c0002row8_col5\" class=\"data row8 col5\" >0</td>\n",
              "                        <td id=\"T_8f064a82_499d_11ec_bda8_0242ac1c0002row8_col6\" class=\"data row8 col6\" >0</td>\n",
              "                        <td id=\"T_8f064a82_499d_11ec_bda8_0242ac1c0002row8_col7\" class=\"data row8 col7\" >0</td>\n",
              "                        <td id=\"T_8f064a82_499d_11ec_bda8_0242ac1c0002row8_col8\" class=\"data row8 col8\" >19</td>\n",
              "                        <td id=\"T_8f064a82_499d_11ec_bda8_0242ac1c0002row8_col9\" class=\"data row8 col9\" >0</td>\n",
              "                        <td id=\"T_8f064a82_499d_11ec_bda8_0242ac1c0002row8_col10\" class=\"data row8 col10\" >0</td>\n",
              "                        <td id=\"T_8f064a82_499d_11ec_bda8_0242ac1c0002row8_col11\" class=\"data row8 col11\" >0</td>\n",
              "            </tr>\n",
              "            <tr>\n",
              "                        <th id=\"T_8f064a82_499d_11ec_bda8_0242ac1c0002level0_row9\" class=\"row_heading level0 row9\" >Actual F29-32</th>\n",
              "                        <td id=\"T_8f064a82_499d_11ec_bda8_0242ac1c0002row9_col0\" class=\"data row9 col0\" >0</td>\n",
              "                        <td id=\"T_8f064a82_499d_11ec_bda8_0242ac1c0002row9_col1\" class=\"data row9 col1\" >0</td>\n",
              "                        <td id=\"T_8f064a82_499d_11ec_bda8_0242ac1c0002row9_col2\" class=\"data row9 col2\" >0</td>\n",
              "                        <td id=\"T_8f064a82_499d_11ec_bda8_0242ac1c0002row9_col3\" class=\"data row9 col3\" >0</td>\n",
              "                        <td id=\"T_8f064a82_499d_11ec_bda8_0242ac1c0002row9_col4\" class=\"data row9 col4\" >10</td>\n",
              "                        <td id=\"T_8f064a82_499d_11ec_bda8_0242ac1c0002row9_col5\" class=\"data row9 col5\" >6</td>\n",
              "                        <td id=\"T_8f064a82_499d_11ec_bda8_0242ac1c0002row9_col6\" class=\"data row9 col6\" >0</td>\n",
              "                        <td id=\"T_8f064a82_499d_11ec_bda8_0242ac1c0002row9_col7\" class=\"data row9 col7\" >13</td>\n",
              "                        <td id=\"T_8f064a82_499d_11ec_bda8_0242ac1c0002row9_col8\" class=\"data row9 col8\" >0</td>\n",
              "                        <td id=\"T_8f064a82_499d_11ec_bda8_0242ac1c0002row9_col9\" class=\"data row9 col9\" >52</td>\n",
              "                        <td id=\"T_8f064a82_499d_11ec_bda8_0242ac1c0002row9_col10\" class=\"data row9 col10\" >0</td>\n",
              "                        <td id=\"T_8f064a82_499d_11ec_bda8_0242ac1c0002row9_col11\" class=\"data row9 col11\" >0</td>\n",
              "            </tr>\n",
              "            <tr>\n",
              "                        <th id=\"T_8f064a82_499d_11ec_bda8_0242ac1c0002level0_row10\" class=\"row_heading level0 row10\" >Actual F33-42</th>\n",
              "                        <td id=\"T_8f064a82_499d_11ec_bda8_0242ac1c0002row10_col0\" class=\"data row10 col0\" >0</td>\n",
              "                        <td id=\"T_8f064a82_499d_11ec_bda8_0242ac1c0002row10_col1\" class=\"data row10 col1\" >0</td>\n",
              "                        <td id=\"T_8f064a82_499d_11ec_bda8_0242ac1c0002row10_col2\" class=\"data row10 col2\" >0</td>\n",
              "                        <td id=\"T_8f064a82_499d_11ec_bda8_0242ac1c0002row10_col3\" class=\"data row10 col3\" >9</td>\n",
              "                        <td id=\"T_8f064a82_499d_11ec_bda8_0242ac1c0002row10_col4\" class=\"data row10 col4\" >0</td>\n",
              "                        <td id=\"T_8f064a82_499d_11ec_bda8_0242ac1c0002row10_col5\" class=\"data row10 col5\" >22</td>\n",
              "                        <td id=\"T_8f064a82_499d_11ec_bda8_0242ac1c0002row10_col6\" class=\"data row10 col6\" >0</td>\n",
              "                        <td id=\"T_8f064a82_499d_11ec_bda8_0242ac1c0002row10_col7\" class=\"data row10 col7\" >0</td>\n",
              "                        <td id=\"T_8f064a82_499d_11ec_bda8_0242ac1c0002row10_col8\" class=\"data row10 col8\" >16</td>\n",
              "                        <td id=\"T_8f064a82_499d_11ec_bda8_0242ac1c0002row10_col9\" class=\"data row10 col9\" >0</td>\n",
              "                        <td id=\"T_8f064a82_499d_11ec_bda8_0242ac1c0002row10_col10\" class=\"data row10 col10\" >90</td>\n",
              "                        <td id=\"T_8f064a82_499d_11ec_bda8_0242ac1c0002row10_col11\" class=\"data row10 col11\" >0</td>\n",
              "            </tr>\n",
              "            <tr>\n",
              "                        <th id=\"T_8f064a82_499d_11ec_bda8_0242ac1c0002level0_row11\" class=\"row_heading level0 row11\" >Actual F43+</th>\n",
              "                        <td id=\"T_8f064a82_499d_11ec_bda8_0242ac1c0002row11_col0\" class=\"data row11 col0\" >0</td>\n",
              "                        <td id=\"T_8f064a82_499d_11ec_bda8_0242ac1c0002row11_col1\" class=\"data row11 col1\" >5</td>\n",
              "                        <td id=\"T_8f064a82_499d_11ec_bda8_0242ac1c0002row11_col2\" class=\"data row11 col2\" >0</td>\n",
              "                        <td id=\"T_8f064a82_499d_11ec_bda8_0242ac1c0002row11_col3\" class=\"data row11 col3\" >7</td>\n",
              "                        <td id=\"T_8f064a82_499d_11ec_bda8_0242ac1c0002row11_col4\" class=\"data row11 col4\" >9</td>\n",
              "                        <td id=\"T_8f064a82_499d_11ec_bda8_0242ac1c0002row11_col5\" class=\"data row11 col5\" >2</td>\n",
              "                        <td id=\"T_8f064a82_499d_11ec_bda8_0242ac1c0002row11_col6\" class=\"data row11 col6\" >0</td>\n",
              "                        <td id=\"T_8f064a82_499d_11ec_bda8_0242ac1c0002row11_col7\" class=\"data row11 col7\" >0</td>\n",
              "                        <td id=\"T_8f064a82_499d_11ec_bda8_0242ac1c0002row11_col8\" class=\"data row11 col8\" >0</td>\n",
              "                        <td id=\"T_8f064a82_499d_11ec_bda8_0242ac1c0002row11_col9\" class=\"data row11 col9\" >32</td>\n",
              "                        <td id=\"T_8f064a82_499d_11ec_bda8_0242ac1c0002row11_col10\" class=\"data row11 col10\" >0</td>\n",
              "                        <td id=\"T_8f064a82_499d_11ec_bda8_0242ac1c0002row11_col11\" class=\"data row11 col11\" >118</td>\n",
              "            </tr>\n",
              "    </tbody></table>"
            ],
            "text/plain": [
              "<pandas.io.formats.style.Styler at 0x7f3d1309a910>"
            ]
          },
          "metadata": {},
          "execution_count": 29
        }
      ]
    },
    {
      "cell_type": "code",
      "metadata": {
        "colab": {
          "base_uri": "https://localhost:8080/"
        },
        "id": "SuYUrFZZzpog",
        "outputId": "3aab1f52-f26a-4362-fa84-f2ad1dcc1ce0"
      },
      "source": [
        "print(\"Classification Report:\")\n",
        "print()\n",
        "print(classification_report(y_test, y_pred))"
      ],
      "execution_count": null,
      "outputs": [
        {
          "output_type": "stream",
          "name": "stdout",
          "text": [
            "Classification Report:\n",
            "\n",
            "              precision    recall  f1-score   support\n",
            "\n",
            "           0       0.92      0.76      0.83       128\n",
            "           1       0.93      0.94      0.94       258\n",
            "           2       0.95      0.72      0.82       192\n",
            "           3       0.71      0.79      0.75       283\n",
            "           4       0.83      0.89      0.86       539\n",
            "           5       0.82      0.92      0.87       595\n",
            "           6       0.75      0.69      0.72        39\n",
            "           7       0.69      1.00      0.82        29\n",
            "           8       0.54      0.33      0.41        57\n",
            "           9       0.62      0.64      0.63        81\n",
            "          10       0.87      0.66      0.75       137\n",
            "          11       0.90      0.68      0.78       173\n",
            "\n",
            "    accuracy                           0.82      2511\n",
            "   macro avg       0.79      0.75      0.76      2511\n",
            "weighted avg       0.83      0.82      0.82      2511\n",
            "\n"
          ]
        }
      ]
    },
    {
      "cell_type": "code",
      "metadata": {
        "id": "iKeTtNAu0Aq8"
      },
      "source": [
        "def multiclass_roc_auc_score(y_test, y_pred, average=\"macro\"):\n",
        "  lb = LabelBinarizer()\n",
        "  lb.fit(y_test)\n",
        "  y_test = lb.transform(y_test)\n",
        "  y_pred = lb.transform(y_pred)\n",
        "  return roc_auc_score(y_test, y_pred, average=average)\n"
      ],
      "execution_count": null,
      "outputs": []
    },
    {
      "cell_type": "code",
      "metadata": {
        "colab": {
          "base_uri": "https://localhost:8080/"
        },
        "id": "VG7J82Fy0AtL",
        "outputId": "94f5894a-f51b-4f86-cc2e-42788d6128eb"
      },
      "source": [
        "multiclass_roc_auc_score(y_test, y_pred, average=\"macro\")"
      ],
      "execution_count": null,
      "outputs": [
        {
          "output_type": "execute_result",
          "data": {
            "text/plain": [
              "0.8675760593619294"
            ]
          },
          "metadata": {},
          "execution_count": 32
        }
      ]
    },
    {
      "cell_type": "markdown",
      "metadata": {
        "id": "LY3d6fCQ0H8f"
      },
      "source": [
        "# Support Vector Machine"
      ]
    },
    {
      "cell_type": "code",
      "metadata": {
        "colab": {
          "base_uri": "https://localhost:8080/"
        },
        "id": "BJIRtTaa0Ax4",
        "outputId": "f825b6a6-925c-45d3-d148-c5fdbc5bf7a8"
      },
      "source": [
        "pipeline = Pipeline(\n",
        "    [(\"preprocessing\", preprocessing), (\"svcc\", SVC())], verbose=True\n",
        ")\n",
        "\n",
        "pipeline.fit(X_train, y_train)\n"
      ],
      "execution_count": null,
      "outputs": [
        {
          "output_type": "stream",
          "name": "stdout",
          "text": [
            "[Pipeline] ..... (step 1 of 2) Processing preprocessing, total=   0.0s\n",
            "[Pipeline] .............. (step 2 of 2) Processing svcc, total=  11.2s\n"
          ]
        },
        {
          "output_type": "execute_result",
          "data": {
            "text/plain": [
              "Pipeline(steps=[('preprocessing',\n",
              "                 ColumnTransformer(remainder='passthrough',\n",
              "                                   transformers=[('scale', StandardScaler(),\n",
              "                                                  ['device_id', 'event_id'])])),\n",
              "                ('svcc', SVC())],\n",
              "         verbose=True)"
            ]
          },
          "metadata": {},
          "execution_count": 33
        }
      ]
    },
    {
      "cell_type": "code",
      "metadata": {
        "id": "J-1rLHpj0OUZ"
      },
      "source": [
        "grid = { \"svcc__gamma\": [1.0, 5.0, 10.0], 'svcc__kernel': ['rbf']}\n",
        "\n",
        "\n",
        "model = GridSearchCV(pipeline, grid, verbose=1, cv=3)"
      ],
      "execution_count": null,
      "outputs": []
    },
    {
      "cell_type": "code",
      "metadata": {
        "colab": {
          "base_uri": "https://localhost:8080/"
        },
        "id": "H5m_Qkh00OXG",
        "outputId": "9e75adcc-43b8-4564-e832-00d950350817"
      },
      "source": [
        "model.fit(X_train, y_train)\n"
      ],
      "execution_count": null,
      "outputs": [
        {
          "output_type": "stream",
          "name": "stdout",
          "text": [
            "Fitting 3 folds for each of 3 candidates, totalling 9 fits\n",
            "[Pipeline] ..... (step 1 of 2) Processing preprocessing, total=   0.0s\n",
            "[Pipeline] .............. (step 2 of 2) Processing svcc, total=   9.8s\n",
            "[Pipeline] ..... (step 1 of 2) Processing preprocessing, total=   0.0s\n",
            "[Pipeline] .............. (step 2 of 2) Processing svcc, total=   9.6s\n",
            "[Pipeline] ..... (step 1 of 2) Processing preprocessing, total=   0.0s\n",
            "[Pipeline] .............. (step 2 of 2) Processing svcc, total=   9.6s\n",
            "[Pipeline] ..... (step 1 of 2) Processing preprocessing, total=   0.0s\n",
            "[Pipeline] .............. (step 2 of 2) Processing svcc, total=  10.7s\n",
            "[Pipeline] ..... (step 1 of 2) Processing preprocessing, total=   0.0s\n",
            "[Pipeline] .............. (step 2 of 2) Processing svcc, total=  10.6s\n",
            "[Pipeline] ..... (step 1 of 2) Processing preprocessing, total=   0.0s\n",
            "[Pipeline] .............. (step 2 of 2) Processing svcc, total=  10.7s\n",
            "[Pipeline] ..... (step 1 of 2) Processing preprocessing, total=   0.0s\n",
            "[Pipeline] .............. (step 2 of 2) Processing svcc, total=  12.9s\n",
            "[Pipeline] ..... (step 1 of 2) Processing preprocessing, total=   0.0s\n",
            "[Pipeline] .............. (step 2 of 2) Processing svcc, total=  12.9s\n",
            "[Pipeline] ..... (step 1 of 2) Processing preprocessing, total=   0.0s\n",
            "[Pipeline] .............. (step 2 of 2) Processing svcc, total=  13.0s\n",
            "[Pipeline] ..... (step 1 of 2) Processing preprocessing, total=   0.0s\n",
            "[Pipeline] .............. (step 2 of 2) Processing svcc, total=  19.4s\n"
          ]
        },
        {
          "output_type": "execute_result",
          "data": {
            "text/plain": [
              "GridSearchCV(cv=3,\n",
              "             estimator=Pipeline(steps=[('preprocessing',\n",
              "                                        ColumnTransformer(remainder='passthrough',\n",
              "                                                          transformers=[('scale',\n",
              "                                                                         StandardScaler(),\n",
              "                                                                         ['device_id',\n",
              "                                                                          'event_id'])])),\n",
              "                                       ('svcc', SVC())],\n",
              "                                verbose=True),\n",
              "             param_grid={'svcc__gamma': [1.0, 5.0, 10.0],\n",
              "                         'svcc__kernel': ['rbf']},\n",
              "             verbose=1)"
            ]
          },
          "metadata": {},
          "execution_count": 35
        }
      ]
    },
    {
      "cell_type": "code",
      "metadata": {
        "colab": {
          "base_uri": "https://localhost:8080/"
        },
        "id": "07eSmBFq0OZb",
        "outputId": "77f35154-86f8-4278-d561-f37eb0383a4d"
      },
      "source": [
        "model.best_params_\n"
      ],
      "execution_count": null,
      "outputs": [
        {
          "output_type": "execute_result",
          "data": {
            "text/plain": [
              "{'svcc__gamma': 1.0, 'svcc__kernel': 'rbf'}"
            ]
          },
          "metadata": {},
          "execution_count": 36
        }
      ]
    },
    {
      "cell_type": "code",
      "metadata": {
        "colab": {
          "base_uri": "https://localhost:8080/"
        },
        "id": "9pIFB-A-2pow",
        "outputId": "ea970349-17d8-489a-c8bf-c58958ce39aa"
      },
      "source": [
        "# Model still appears to be extremely overfitting\n",
        "train_score = model.score(X_train, y_train)\n",
        "test_score = model.score(X_test, y_test)\n",
        "\n",
        "print(f\"Train score: {train_score}\")\n",
        "print(f\"Test score: {test_score}\")"
      ],
      "execution_count": null,
      "outputs": [
        {
          "output_type": "stream",
          "name": "stdout",
          "text": [
            "Train score: 0.8989043824701195\n",
            "Test score: 0.7339705296694544\n"
          ]
        }
      ]
    },
    {
      "cell_type": "code",
      "metadata": {
        "colab": {
          "base_uri": "https://localhost:8080/",
          "height": 425
        },
        "id": "7JwbKuSW0Ob2",
        "outputId": "e258e8f1-62c3-481c-8496-6db52a50542b"
      },
      "source": [
        "y_pred = model.predict(X_test)\n",
        "\n",
        "con_mat = pd.DataFrame(\n",
        "    confusion_matrix(y_test, y_pred),\n",
        "    index=[\n",
        "        \"Actual M22-\",\n",
        "        \"Actual M23-26\",\n",
        "        \"Actual M27-28\",\n",
        "        \"Actual M29-31\",\n",
        "        \"Actual M32-38\",\n",
        "        \"Actual M39+\",\n",
        "        \"Actual F23-\",\n",
        "        \"Actual F24-26\",\n",
        "        \"Actual F27-28\",\n",
        "        \"Actual F29-32\",\n",
        "        \"Actual F33-42\",\n",
        "        \"Actual F43+\",\n",
        "    ],\n",
        "    columns=[\n",
        "        \"Predicted M22-\",\n",
        "        \"Predicted M23-26\",\n",
        "        \"Predicted M27-28\",\n",
        "        \"Predicted M29-31\",\n",
        "        \"Predicted M32-38\",\n",
        "        \"Predicted M39+\",\n",
        "        \"Predicted F23-\",\n",
        "        \"Predicted F24-26\",\n",
        "        \"Predicted F27-28\",\n",
        "        \"Predicted F29-32\",\n",
        "        \"Predicted F33-42\",\n",
        "        \"Predicted F43+\",\n",
        "    ],\n",
        ")\n",
        "con_mat.style.background_gradient(axis=None)\n"
      ],
      "execution_count": null,
      "outputs": [
        {
          "output_type": "execute_result",
          "data": {
            "text/html": [
              "<style  type=\"text/css\" >\n",
              "#T_f34e601a_499d_11ec_bda8_0242ac1c0002row0_col0,#T_f34e601a_499d_11ec_bda8_0242ac1c0002row4_col5{\n",
              "            background-color:  #e7e3f0;\n",
              "            color:  #000000;\n",
              "        }#T_f34e601a_499d_11ec_bda8_0242ac1c0002row0_col1,#T_f34e601a_499d_11ec_bda8_0242ac1c0002row0_col4,#T_f34e601a_499d_11ec_bda8_0242ac1c0002row1_col2,#T_f34e601a_499d_11ec_bda8_0242ac1c0002row3_col1,#T_f34e601a_499d_11ec_bda8_0242ac1c0002row6_col4,#T_f34e601a_499d_11ec_bda8_0242ac1c0002row8_col3,#T_f34e601a_499d_11ec_bda8_0242ac1c0002row10_col4{\n",
              "            background-color:  #fef6fa;\n",
              "            color:  #000000;\n",
              "        }#T_f34e601a_499d_11ec_bda8_0242ac1c0002row0_col2,#T_f34e601a_499d_11ec_bda8_0242ac1c0002row0_col6,#T_f34e601a_499d_11ec_bda8_0242ac1c0002row0_col7,#T_f34e601a_499d_11ec_bda8_0242ac1c0002row0_col8,#T_f34e601a_499d_11ec_bda8_0242ac1c0002row0_col9,#T_f34e601a_499d_11ec_bda8_0242ac1c0002row0_col10,#T_f34e601a_499d_11ec_bda8_0242ac1c0002row0_col11,#T_f34e601a_499d_11ec_bda8_0242ac1c0002row1_col6,#T_f34e601a_499d_11ec_bda8_0242ac1c0002row1_col7,#T_f34e601a_499d_11ec_bda8_0242ac1c0002row1_col8,#T_f34e601a_499d_11ec_bda8_0242ac1c0002row1_col9,#T_f34e601a_499d_11ec_bda8_0242ac1c0002row1_col10,#T_f34e601a_499d_11ec_bda8_0242ac1c0002row1_col11,#T_f34e601a_499d_11ec_bda8_0242ac1c0002row2_col0,#T_f34e601a_499d_11ec_bda8_0242ac1c0002row2_col3,#T_f34e601a_499d_11ec_bda8_0242ac1c0002row2_col6,#T_f34e601a_499d_11ec_bda8_0242ac1c0002row2_col7,#T_f34e601a_499d_11ec_bda8_0242ac1c0002row2_col8,#T_f34e601a_499d_11ec_bda8_0242ac1c0002row2_col9,#T_f34e601a_499d_11ec_bda8_0242ac1c0002row2_col10,#T_f34e601a_499d_11ec_bda8_0242ac1c0002row2_col11,#T_f34e601a_499d_11ec_bda8_0242ac1c0002row3_col2,#T_f34e601a_499d_11ec_bda8_0242ac1c0002row3_col6,#T_f34e601a_499d_11ec_bda8_0242ac1c0002row3_col7,#T_f34e601a_499d_11ec_bda8_0242ac1c0002row3_col8,#T_f34e601a_499d_11ec_bda8_0242ac1c0002row3_col9,#T_f34e601a_499d_11ec_bda8_0242ac1c0002row3_col10,#T_f34e601a_499d_11ec_bda8_0242ac1c0002row3_col11,#T_f34e601a_499d_11ec_bda8_0242ac1c0002row4_col0,#T_f34e601a_499d_11ec_bda8_0242ac1c0002row4_col1,#T_f34e601a_499d_11ec_bda8_0242ac1c0002row4_col2,#T_f34e601a_499d_11ec_bda8_0242ac1c0002row4_col6,#T_f34e601a_499d_11ec_bda8_0242ac1c0002row4_col7,#T_f34e601a_499d_11ec_bda8_0242ac1c0002row4_col8,#T_f34e601a_499d_11ec_bda8_0242ac1c0002row4_col9,#T_f34e601a_499d_11ec_bda8_0242ac1c0002row5_col6,#T_f34e601a_499d_11ec_bda8_0242ac1c0002row5_col8,#T_f34e601a_499d_11ec_bda8_0242ac1c0002row5_col9,#T_f34e601a_499d_11ec_bda8_0242ac1c0002row5_col11,#T_f34e601a_499d_11ec_bda8_0242ac1c0002row6_col0,#T_f34e601a_499d_11ec_bda8_0242ac1c0002row6_col1,#T_f34e601a_499d_11ec_bda8_0242ac1c0002row6_col2,#T_f34e601a_499d_11ec_bda8_0242ac1c0002row6_col3,#T_f34e601a_499d_11ec_bda8_0242ac1c0002row6_col7,#T_f34e601a_499d_11ec_bda8_0242ac1c0002row6_col8,#T_f34e601a_499d_11ec_bda8_0242ac1c0002row6_col9,#T_f34e601a_499d_11ec_bda8_0242ac1c0002row6_col10,#T_f34e601a_499d_11ec_bda8_0242ac1c0002row6_col11,#T_f34e601a_499d_11ec_bda8_0242ac1c0002row7_col0,#T_f34e601a_499d_11ec_bda8_0242ac1c0002row7_col1,#T_f34e601a_499d_11ec_bda8_0242ac1c0002row7_col2,#T_f34e601a_499d_11ec_bda8_0242ac1c0002row7_col3,#T_f34e601a_499d_11ec_bda8_0242ac1c0002row7_col4,#T_f34e601a_499d_11ec_bda8_0242ac1c0002row7_col6,#T_f34e601a_499d_11ec_bda8_0242ac1c0002row7_col8,#T_f34e601a_499d_11ec_bda8_0242ac1c0002row7_col9,#T_f34e601a_499d_11ec_bda8_0242ac1c0002row7_col11,#T_f34e601a_499d_11ec_bda8_0242ac1c0002row8_col0,#T_f34e601a_499d_11ec_bda8_0242ac1c0002row8_col2,#T_f34e601a_499d_11ec_bda8_0242ac1c0002row8_col4,#T_f34e601a_499d_11ec_bda8_0242ac1c0002row8_col6,#T_f34e601a_499d_11ec_bda8_0242ac1c0002row8_col7,#T_f34e601a_499d_11ec_bda8_0242ac1c0002row8_col9,#T_f34e601a_499d_11ec_bda8_0242ac1c0002row8_col10,#T_f34e601a_499d_11ec_bda8_0242ac1c0002row8_col11,#T_f34e601a_499d_11ec_bda8_0242ac1c0002row9_col0,#T_f34e601a_499d_11ec_bda8_0242ac1c0002row9_col1,#T_f34e601a_499d_11ec_bda8_0242ac1c0002row9_col2,#T_f34e601a_499d_11ec_bda8_0242ac1c0002row9_col3,#T_f34e601a_499d_11ec_bda8_0242ac1c0002row9_col6,#T_f34e601a_499d_11ec_bda8_0242ac1c0002row9_col7,#T_f34e601a_499d_11ec_bda8_0242ac1c0002row9_col8,#T_f34e601a_499d_11ec_bda8_0242ac1c0002row9_col10,#T_f34e601a_499d_11ec_bda8_0242ac1c0002row9_col11,#T_f34e601a_499d_11ec_bda8_0242ac1c0002row10_col1,#T_f34e601a_499d_11ec_bda8_0242ac1c0002row10_col2,#T_f34e601a_499d_11ec_bda8_0242ac1c0002row10_col3,#T_f34e601a_499d_11ec_bda8_0242ac1c0002row10_col6,#T_f34e601a_499d_11ec_bda8_0242ac1c0002row10_col7,#T_f34e601a_499d_11ec_bda8_0242ac1c0002row10_col8,#T_f34e601a_499d_11ec_bda8_0242ac1c0002row10_col9,#T_f34e601a_499d_11ec_bda8_0242ac1c0002row10_col11,#T_f34e601a_499d_11ec_bda8_0242ac1c0002row11_col0,#T_f34e601a_499d_11ec_bda8_0242ac1c0002row11_col1,#T_f34e601a_499d_11ec_bda8_0242ac1c0002row11_col2,#T_f34e601a_499d_11ec_bda8_0242ac1c0002row11_col6,#T_f34e601a_499d_11ec_bda8_0242ac1c0002row11_col7,#T_f34e601a_499d_11ec_bda8_0242ac1c0002row11_col8,#T_f34e601a_499d_11ec_bda8_0242ac1c0002row11_col9,#T_f34e601a_499d_11ec_bda8_0242ac1c0002row11_col10{\n",
              "            background-color:  #fff7fb;\n",
              "            color:  #000000;\n",
              "        }#T_f34e601a_499d_11ec_bda8_0242ac1c0002row0_col3,#T_f34e601a_499d_11ec_bda8_0242ac1c0002row1_col3,#T_f34e601a_499d_11ec_bda8_0242ac1c0002row1_col4,#T_f34e601a_499d_11ec_bda8_0242ac1c0002row2_col1,#T_f34e601a_499d_11ec_bda8_0242ac1c0002row4_col11,#T_f34e601a_499d_11ec_bda8_0242ac1c0002row5_col3{\n",
              "            background-color:  #fdf5fa;\n",
              "            color:  #000000;\n",
              "        }#T_f34e601a_499d_11ec_bda8_0242ac1c0002row0_col5,#T_f34e601a_499d_11ec_bda8_0242ac1c0002row5_col4,#T_f34e601a_499d_11ec_bda8_0242ac1c0002row11_col5{\n",
              "            background-color:  #f7f0f7;\n",
              "            color:  #000000;\n",
              "        }#T_f34e601a_499d_11ec_bda8_0242ac1c0002row1_col0,#T_f34e601a_499d_11ec_bda8_0242ac1c0002row2_col4,#T_f34e601a_499d_11ec_bda8_0242ac1c0002row4_col10,#T_f34e601a_499d_11ec_bda8_0242ac1c0002row5_col0,#T_f34e601a_499d_11ec_bda8_0242ac1c0002row5_col1,#T_f34e601a_499d_11ec_bda8_0242ac1c0002row5_col2,#T_f34e601a_499d_11ec_bda8_0242ac1c0002row5_col7,#T_f34e601a_499d_11ec_bda8_0242ac1c0002row7_col10,#T_f34e601a_499d_11ec_bda8_0242ac1c0002row8_col1,#T_f34e601a_499d_11ec_bda8_0242ac1c0002row10_col0{\n",
              "            background-color:  #fef6fb;\n",
              "            color:  #000000;\n",
              "        }#T_f34e601a_499d_11ec_bda8_0242ac1c0002row1_col1{\n",
              "            background-color:  #a5bddb;\n",
              "            color:  #000000;\n",
              "        }#T_f34e601a_499d_11ec_bda8_0242ac1c0002row1_col5{\n",
              "            background-color:  #f6eff7;\n",
              "            color:  #000000;\n",
              "        }#T_f34e601a_499d_11ec_bda8_0242ac1c0002row2_col2{\n",
              "            background-color:  #c8cde4;\n",
              "            color:  #000000;\n",
              "        }#T_f34e601a_499d_11ec_bda8_0242ac1c0002row2_col5{\n",
              "            background-color:  #f5eff6;\n",
              "            color:  #000000;\n",
              "        }#T_f34e601a_499d_11ec_bda8_0242ac1c0002row3_col0,#T_f34e601a_499d_11ec_bda8_0242ac1c0002row6_col5,#T_f34e601a_499d_11ec_bda8_0242ac1c0002row7_col5,#T_f34e601a_499d_11ec_bda8_0242ac1c0002row7_col7,#T_f34e601a_499d_11ec_bda8_0242ac1c0002row8_col5{\n",
              "            background-color:  #fbf4f9;\n",
              "            color:  #000000;\n",
              "        }#T_f34e601a_499d_11ec_bda8_0242ac1c0002row3_col3{\n",
              "            background-color:  #b0c2de;\n",
              "            color:  #000000;\n",
              "        }#T_f34e601a_499d_11ec_bda8_0242ac1c0002row3_col4,#T_f34e601a_499d_11ec_bda8_0242ac1c0002row11_col4{\n",
              "            background-color:  #f8f1f8;\n",
              "            color:  #000000;\n",
              "        }#T_f34e601a_499d_11ec_bda8_0242ac1c0002row3_col5{\n",
              "            background-color:  #eee9f3;\n",
              "            color:  #000000;\n",
              "        }#T_f34e601a_499d_11ec_bda8_0242ac1c0002row4_col3,#T_f34e601a_499d_11ec_bda8_0242ac1c0002row6_col6{\n",
              "            background-color:  #faf3f9;\n",
              "            color:  #000000;\n",
              "        }#T_f34e601a_499d_11ec_bda8_0242ac1c0002row4_col4{\n",
              "            background-color:  #046299;\n",
              "            color:  #f1f1f1;\n",
              "        }#T_f34e601a_499d_11ec_bda8_0242ac1c0002row5_col5{\n",
              "            background-color:  #023858;\n",
              "            color:  #f1f1f1;\n",
              "        }#T_f34e601a_499d_11ec_bda8_0242ac1c0002row5_col10,#T_f34e601a_499d_11ec_bda8_0242ac1c0002row9_col5{\n",
              "            background-color:  #f9f2f8;\n",
              "            color:  #000000;\n",
              "        }#T_f34e601a_499d_11ec_bda8_0242ac1c0002row8_col8{\n",
              "            background-color:  #f5eef6;\n",
              "            color:  #000000;\n",
              "        }#T_f34e601a_499d_11ec_bda8_0242ac1c0002row9_col4,#T_f34e601a_499d_11ec_bda8_0242ac1c0002row11_col3{\n",
              "            background-color:  #fcf4fa;\n",
              "            color:  #000000;\n",
              "        }#T_f34e601a_499d_11ec_bda8_0242ac1c0002row9_col9{\n",
              "            background-color:  #f2ecf5;\n",
              "            color:  #000000;\n",
              "        }#T_f34e601a_499d_11ec_bda8_0242ac1c0002row10_col5{\n",
              "            background-color:  #f4edf6;\n",
              "            color:  #000000;\n",
              "        }#T_f34e601a_499d_11ec_bda8_0242ac1c0002row10_col10{\n",
              "            background-color:  #e3e0ee;\n",
              "            color:  #000000;\n",
              "        }#T_f34e601a_499d_11ec_bda8_0242ac1c0002row11_col11{\n",
              "            background-color:  #dbdaeb;\n",
              "            color:  #000000;\n",
              "        }</style><table id=\"T_f34e601a_499d_11ec_bda8_0242ac1c0002\" class=\"dataframe\"><thead>    <tr>        <th class=\"blank level0\" ></th>        <th class=\"col_heading level0 col0\" >Predicted M22-</th>        <th class=\"col_heading level0 col1\" >Predicted M23-26</th>        <th class=\"col_heading level0 col2\" >Predicted M27-28</th>        <th class=\"col_heading level0 col3\" >Predicted M29-31</th>        <th class=\"col_heading level0 col4\" >Predicted M32-38</th>        <th class=\"col_heading level0 col5\" >Predicted M39+</th>        <th class=\"col_heading level0 col6\" >Predicted F23-</th>        <th class=\"col_heading level0 col7\" >Predicted F24-26</th>        <th class=\"col_heading level0 col8\" >Predicted F27-28</th>        <th class=\"col_heading level0 col9\" >Predicted F29-32</th>        <th class=\"col_heading level0 col10\" >Predicted F33-42</th>        <th class=\"col_heading level0 col11\" >Predicted F43+</th>    </tr></thead><tbody>\n",
              "                <tr>\n",
              "                        <th id=\"T_f34e601a_499d_11ec_bda8_0242ac1c0002level0_row0\" class=\"row_heading level0 row0\" >Actual M22-</th>\n",
              "                        <td id=\"T_f34e601a_499d_11ec_bda8_0242ac1c0002row0_col0\" class=\"data row0 col0\" >78</td>\n",
              "                        <td id=\"T_f34e601a_499d_11ec_bda8_0242ac1c0002row0_col1\" class=\"data row0 col1\" >5</td>\n",
              "                        <td id=\"T_f34e601a_499d_11ec_bda8_0242ac1c0002row0_col2\" class=\"data row0 col2\" >0</td>\n",
              "                        <td id=\"T_f34e601a_499d_11ec_bda8_0242ac1c0002row0_col3\" class=\"data row0 col3\" >9</td>\n",
              "                        <td id=\"T_f34e601a_499d_11ec_bda8_0242ac1c0002row0_col4\" class=\"data row0 col4\" >6</td>\n",
              "                        <td id=\"T_f34e601a_499d_11ec_bda8_0242ac1c0002row0_col5\" class=\"data row0 col5\" >30</td>\n",
              "                        <td id=\"T_f34e601a_499d_11ec_bda8_0242ac1c0002row0_col6\" class=\"data row0 col6\" >0</td>\n",
              "                        <td id=\"T_f34e601a_499d_11ec_bda8_0242ac1c0002row0_col7\" class=\"data row0 col7\" >0</td>\n",
              "                        <td id=\"T_f34e601a_499d_11ec_bda8_0242ac1c0002row0_col8\" class=\"data row0 col8\" >0</td>\n",
              "                        <td id=\"T_f34e601a_499d_11ec_bda8_0242ac1c0002row0_col9\" class=\"data row0 col9\" >0</td>\n",
              "                        <td id=\"T_f34e601a_499d_11ec_bda8_0242ac1c0002row0_col10\" class=\"data row0 col10\" >0</td>\n",
              "                        <td id=\"T_f34e601a_499d_11ec_bda8_0242ac1c0002row0_col11\" class=\"data row0 col11\" >0</td>\n",
              "            </tr>\n",
              "            <tr>\n",
              "                        <th id=\"T_f34e601a_499d_11ec_bda8_0242ac1c0002level0_row1\" class=\"row_heading level0 row1\" >Actual M23-26</th>\n",
              "                        <td id=\"T_f34e601a_499d_11ec_bda8_0242ac1c0002row1_col0\" class=\"data row1 col0\" >4</td>\n",
              "                        <td id=\"T_f34e601a_499d_11ec_bda8_0242ac1c0002row1_col1\" class=\"data row1 col1\" >196</td>\n",
              "                        <td id=\"T_f34e601a_499d_11ec_bda8_0242ac1c0002row1_col2\" class=\"data row1 col2\" >6</td>\n",
              "                        <td id=\"T_f34e601a_499d_11ec_bda8_0242ac1c0002row1_col3\" class=\"data row1 col3\" >9</td>\n",
              "                        <td id=\"T_f34e601a_499d_11ec_bda8_0242ac1c0002row1_col4\" class=\"data row1 col4\" >9</td>\n",
              "                        <td id=\"T_f34e601a_499d_11ec_bda8_0242ac1c0002row1_col5\" class=\"data row1 col5\" >31</td>\n",
              "                        <td id=\"T_f34e601a_499d_11ec_bda8_0242ac1c0002row1_col6\" class=\"data row1 col6\" >0</td>\n",
              "                        <td id=\"T_f34e601a_499d_11ec_bda8_0242ac1c0002row1_col7\" class=\"data row1 col7\" >0</td>\n",
              "                        <td id=\"T_f34e601a_499d_11ec_bda8_0242ac1c0002row1_col8\" class=\"data row1 col8\" >0</td>\n",
              "                        <td id=\"T_f34e601a_499d_11ec_bda8_0242ac1c0002row1_col9\" class=\"data row1 col9\" >1</td>\n",
              "                        <td id=\"T_f34e601a_499d_11ec_bda8_0242ac1c0002row1_col10\" class=\"data row1 col10\" >1</td>\n",
              "                        <td id=\"T_f34e601a_499d_11ec_bda8_0242ac1c0002row1_col11\" class=\"data row1 col11\" >1</td>\n",
              "            </tr>\n",
              "            <tr>\n",
              "                        <th id=\"T_f34e601a_499d_11ec_bda8_0242ac1c0002level0_row2\" class=\"row_heading level0 row2\" >Actual M27-28</th>\n",
              "                        <td id=\"T_f34e601a_499d_11ec_bda8_0242ac1c0002row2_col0\" class=\"data row2 col0\" >1</td>\n",
              "                        <td id=\"T_f34e601a_499d_11ec_bda8_0242ac1c0002row2_col1\" class=\"data row2 col1\" >9</td>\n",
              "                        <td id=\"T_f34e601a_499d_11ec_bda8_0242ac1c0002row2_col2\" class=\"data row2 col2\" >143</td>\n",
              "                        <td id=\"T_f34e601a_499d_11ec_bda8_0242ac1c0002row2_col3\" class=\"data row2 col3\" >0</td>\n",
              "                        <td id=\"T_f34e601a_499d_11ec_bda8_0242ac1c0002row2_col4\" class=\"data row2 col4\" >4</td>\n",
              "                        <td id=\"T_f34e601a_499d_11ec_bda8_0242ac1c0002row2_col5\" class=\"data row2 col5\" >34</td>\n",
              "                        <td id=\"T_f34e601a_499d_11ec_bda8_0242ac1c0002row2_col6\" class=\"data row2 col6\" >0</td>\n",
              "                        <td id=\"T_f34e601a_499d_11ec_bda8_0242ac1c0002row2_col7\" class=\"data row2 col7\" >0</td>\n",
              "                        <td id=\"T_f34e601a_499d_11ec_bda8_0242ac1c0002row2_col8\" class=\"data row2 col8\" >0</td>\n",
              "                        <td id=\"T_f34e601a_499d_11ec_bda8_0242ac1c0002row2_col9\" class=\"data row2 col9\" >0</td>\n",
              "                        <td id=\"T_f34e601a_499d_11ec_bda8_0242ac1c0002row2_col10\" class=\"data row2 col10\" >0</td>\n",
              "                        <td id=\"T_f34e601a_499d_11ec_bda8_0242ac1c0002row2_col11\" class=\"data row2 col11\" >1</td>\n",
              "            </tr>\n",
              "            <tr>\n",
              "                        <th id=\"T_f34e601a_499d_11ec_bda8_0242ac1c0002level0_row3\" class=\"row_heading level0 row3\" >Actual M29-31</th>\n",
              "                        <td id=\"T_f34e601a_499d_11ec_bda8_0242ac1c0002row3_col0\" class=\"data row3 col0\" >13</td>\n",
              "                        <td id=\"T_f34e601a_499d_11ec_bda8_0242ac1c0002row3_col1\" class=\"data row3 col1\" >5</td>\n",
              "                        <td id=\"T_f34e601a_499d_11ec_bda8_0242ac1c0002row3_col2\" class=\"data row3 col2\" >2</td>\n",
              "                        <td id=\"T_f34e601a_499d_11ec_bda8_0242ac1c0002row3_col3\" class=\"data row3 col3\" >179</td>\n",
              "                        <td id=\"T_f34e601a_499d_11ec_bda8_0242ac1c0002row3_col4\" class=\"data row3 col4\" >24</td>\n",
              "                        <td id=\"T_f34e601a_499d_11ec_bda8_0242ac1c0002row3_col5\" class=\"data row3 col5\" >57</td>\n",
              "                        <td id=\"T_f34e601a_499d_11ec_bda8_0242ac1c0002row3_col6\" class=\"data row3 col6\" >0</td>\n",
              "                        <td id=\"T_f34e601a_499d_11ec_bda8_0242ac1c0002row3_col7\" class=\"data row3 col7\" >0</td>\n",
              "                        <td id=\"T_f34e601a_499d_11ec_bda8_0242ac1c0002row3_col8\" class=\"data row3 col8\" >0</td>\n",
              "                        <td id=\"T_f34e601a_499d_11ec_bda8_0242ac1c0002row3_col9\" class=\"data row3 col9\" >0</td>\n",
              "                        <td id=\"T_f34e601a_499d_11ec_bda8_0242ac1c0002row3_col10\" class=\"data row3 col10\" >1</td>\n",
              "                        <td id=\"T_f34e601a_499d_11ec_bda8_0242ac1c0002row3_col11\" class=\"data row3 col11\" >2</td>\n",
              "            </tr>\n",
              "            <tr>\n",
              "                        <th id=\"T_f34e601a_499d_11ec_bda8_0242ac1c0002level0_row4\" class=\"row_heading level0 row4\" >Actual M32-38</th>\n",
              "                        <td id=\"T_f34e601a_499d_11ec_bda8_0242ac1c0002row4_col0\" class=\"data row4 col0\" >0</td>\n",
              "                        <td id=\"T_f34e601a_499d_11ec_bda8_0242ac1c0002row4_col1\" class=\"data row4 col1\" >0</td>\n",
              "                        <td id=\"T_f34e601a_499d_11ec_bda8_0242ac1c0002row4_col2\" class=\"data row4 col2\" >0</td>\n",
              "                        <td id=\"T_f34e601a_499d_11ec_bda8_0242ac1c0002row4_col3\" class=\"data row4 col3\" >17</td>\n",
              "                        <td id=\"T_f34e601a_499d_11ec_bda8_0242ac1c0002row4_col4\" class=\"data row4 col4\" >430</td>\n",
              "                        <td id=\"T_f34e601a_499d_11ec_bda8_0242ac1c0002row4_col5\" class=\"data row4 col5\" >78</td>\n",
              "                        <td id=\"T_f34e601a_499d_11ec_bda8_0242ac1c0002row4_col6\" class=\"data row4 col6\" >0</td>\n",
              "                        <td id=\"T_f34e601a_499d_11ec_bda8_0242ac1c0002row4_col7\" class=\"data row4 col7\" >1</td>\n",
              "                        <td id=\"T_f34e601a_499d_11ec_bda8_0242ac1c0002row4_col8\" class=\"data row4 col8\" >0</td>\n",
              "                        <td id=\"T_f34e601a_499d_11ec_bda8_0242ac1c0002row4_col9\" class=\"data row4 col9\" >2</td>\n",
              "                        <td id=\"T_f34e601a_499d_11ec_bda8_0242ac1c0002row4_col10\" class=\"data row4 col10\" >3</td>\n",
              "                        <td id=\"T_f34e601a_499d_11ec_bda8_0242ac1c0002row4_col11\" class=\"data row4 col11\" >8</td>\n",
              "            </tr>\n",
              "            <tr>\n",
              "                        <th id=\"T_f34e601a_499d_11ec_bda8_0242ac1c0002level0_row5\" class=\"row_heading level0 row5\" >Actual M39+</th>\n",
              "                        <td id=\"T_f34e601a_499d_11ec_bda8_0242ac1c0002row5_col0\" class=\"data row5 col0\" >4</td>\n",
              "                        <td id=\"T_f34e601a_499d_11ec_bda8_0242ac1c0002row5_col1\" class=\"data row5 col1\" >3</td>\n",
              "                        <td id=\"T_f34e601a_499d_11ec_bda8_0242ac1c0002row5_col2\" class=\"data row5 col2\" >3</td>\n",
              "                        <td id=\"T_f34e601a_499d_11ec_bda8_0242ac1c0002row5_col3\" class=\"data row5 col3\" >10</td>\n",
              "                        <td id=\"T_f34e601a_499d_11ec_bda8_0242ac1c0002row5_col4\" class=\"data row5 col4\" >29</td>\n",
              "                        <td id=\"T_f34e601a_499d_11ec_bda8_0242ac1c0002row5_col5\" class=\"data row5 col5\" >518</td>\n",
              "                        <td id=\"T_f34e601a_499d_11ec_bda8_0242ac1c0002row5_col6\" class=\"data row5 col6\" >0</td>\n",
              "                        <td id=\"T_f34e601a_499d_11ec_bda8_0242ac1c0002row5_col7\" class=\"data row5 col7\" >4</td>\n",
              "                        <td id=\"T_f34e601a_499d_11ec_bda8_0242ac1c0002row5_col8\" class=\"data row5 col8\" >1</td>\n",
              "                        <td id=\"T_f34e601a_499d_11ec_bda8_0242ac1c0002row5_col9\" class=\"data row5 col9\" >2</td>\n",
              "                        <td id=\"T_f34e601a_499d_11ec_bda8_0242ac1c0002row5_col10\" class=\"data row5 col10\" >21</td>\n",
              "                        <td id=\"T_f34e601a_499d_11ec_bda8_0242ac1c0002row5_col11\" class=\"data row5 col11\" >0</td>\n",
              "            </tr>\n",
              "            <tr>\n",
              "                        <th id=\"T_f34e601a_499d_11ec_bda8_0242ac1c0002level0_row6\" class=\"row_heading level0 row6\" >Actual F23-</th>\n",
              "                        <td id=\"T_f34e601a_499d_11ec_bda8_0242ac1c0002row6_col0\" class=\"data row6 col0\" >0</td>\n",
              "                        <td id=\"T_f34e601a_499d_11ec_bda8_0242ac1c0002row6_col1\" class=\"data row6 col1\" >0</td>\n",
              "                        <td id=\"T_f34e601a_499d_11ec_bda8_0242ac1c0002row6_col2\" class=\"data row6 col2\" >0</td>\n",
              "                        <td id=\"T_f34e601a_499d_11ec_bda8_0242ac1c0002row6_col3\" class=\"data row6 col3\" >1</td>\n",
              "                        <td id=\"T_f34e601a_499d_11ec_bda8_0242ac1c0002row6_col4\" class=\"data row6 col4\" >6</td>\n",
              "                        <td id=\"T_f34e601a_499d_11ec_bda8_0242ac1c0002row6_col5\" class=\"data row6 col5\" >13</td>\n",
              "                        <td id=\"T_f34e601a_499d_11ec_bda8_0242ac1c0002row6_col6\" class=\"data row6 col6\" >18</td>\n",
              "                        <td id=\"T_f34e601a_499d_11ec_bda8_0242ac1c0002row6_col7\" class=\"data row6 col7\" >0</td>\n",
              "                        <td id=\"T_f34e601a_499d_11ec_bda8_0242ac1c0002row6_col8\" class=\"data row6 col8\" >0</td>\n",
              "                        <td id=\"T_f34e601a_499d_11ec_bda8_0242ac1c0002row6_col9\" class=\"data row6 col9\" >0</td>\n",
              "                        <td id=\"T_f34e601a_499d_11ec_bda8_0242ac1c0002row6_col10\" class=\"data row6 col10\" >1</td>\n",
              "                        <td id=\"T_f34e601a_499d_11ec_bda8_0242ac1c0002row6_col11\" class=\"data row6 col11\" >0</td>\n",
              "            </tr>\n",
              "            <tr>\n",
              "                        <th id=\"T_f34e601a_499d_11ec_bda8_0242ac1c0002level0_row7\" class=\"row_heading level0 row7\" >Actual F24-26</th>\n",
              "                        <td id=\"T_f34e601a_499d_11ec_bda8_0242ac1c0002row7_col0\" class=\"data row7 col0\" >0</td>\n",
              "                        <td id=\"T_f34e601a_499d_11ec_bda8_0242ac1c0002row7_col1\" class=\"data row7 col1\" >0</td>\n",
              "                        <td id=\"T_f34e601a_499d_11ec_bda8_0242ac1c0002row7_col2\" class=\"data row7 col2\" >0</td>\n",
              "                        <td id=\"T_f34e601a_499d_11ec_bda8_0242ac1c0002row7_col3\" class=\"data row7 col3\" >0</td>\n",
              "                        <td id=\"T_f34e601a_499d_11ec_bda8_0242ac1c0002row7_col4\" class=\"data row7 col4\" >0</td>\n",
              "                        <td id=\"T_f34e601a_499d_11ec_bda8_0242ac1c0002row7_col5\" class=\"data row7 col5\" >13</td>\n",
              "                        <td id=\"T_f34e601a_499d_11ec_bda8_0242ac1c0002row7_col6\" class=\"data row7 col6\" >0</td>\n",
              "                        <td id=\"T_f34e601a_499d_11ec_bda8_0242ac1c0002row7_col7\" class=\"data row7 col7\" >13</td>\n",
              "                        <td id=\"T_f34e601a_499d_11ec_bda8_0242ac1c0002row7_col8\" class=\"data row7 col8\" >0</td>\n",
              "                        <td id=\"T_f34e601a_499d_11ec_bda8_0242ac1c0002row7_col9\" class=\"data row7 col9\" >0</td>\n",
              "                        <td id=\"T_f34e601a_499d_11ec_bda8_0242ac1c0002row7_col10\" class=\"data row7 col10\" >3</td>\n",
              "                        <td id=\"T_f34e601a_499d_11ec_bda8_0242ac1c0002row7_col11\" class=\"data row7 col11\" >0</td>\n",
              "            </tr>\n",
              "            <tr>\n",
              "                        <th id=\"T_f34e601a_499d_11ec_bda8_0242ac1c0002level0_row8\" class=\"row_heading level0 row8\" >Actual F27-28</th>\n",
              "                        <td id=\"T_f34e601a_499d_11ec_bda8_0242ac1c0002row8_col0\" class=\"data row8 col0\" >0</td>\n",
              "                        <td id=\"T_f34e601a_499d_11ec_bda8_0242ac1c0002row8_col1\" class=\"data row8 col1\" >4</td>\n",
              "                        <td id=\"T_f34e601a_499d_11ec_bda8_0242ac1c0002row8_col2\" class=\"data row8 col2\" >0</td>\n",
              "                        <td id=\"T_f34e601a_499d_11ec_bda8_0242ac1c0002row8_col3\" class=\"data row8 col3\" >5</td>\n",
              "                        <td id=\"T_f34e601a_499d_11ec_bda8_0242ac1c0002row8_col4\" class=\"data row8 col4\" >0</td>\n",
              "                        <td id=\"T_f34e601a_499d_11ec_bda8_0242ac1c0002row8_col5\" class=\"data row8 col5\" >13</td>\n",
              "                        <td id=\"T_f34e601a_499d_11ec_bda8_0242ac1c0002row8_col6\" class=\"data row8 col6\" >0</td>\n",
              "                        <td id=\"T_f34e601a_499d_11ec_bda8_0242ac1c0002row8_col7\" class=\"data row8 col7\" >0</td>\n",
              "                        <td id=\"T_f34e601a_499d_11ec_bda8_0242ac1c0002row8_col8\" class=\"data row8 col8\" >35</td>\n",
              "                        <td id=\"T_f34e601a_499d_11ec_bda8_0242ac1c0002row8_col9\" class=\"data row8 col9\" >0</td>\n",
              "                        <td id=\"T_f34e601a_499d_11ec_bda8_0242ac1c0002row8_col10\" class=\"data row8 col10\" >0</td>\n",
              "                        <td id=\"T_f34e601a_499d_11ec_bda8_0242ac1c0002row8_col11\" class=\"data row8 col11\" >0</td>\n",
              "            </tr>\n",
              "            <tr>\n",
              "                        <th id=\"T_f34e601a_499d_11ec_bda8_0242ac1c0002level0_row9\" class=\"row_heading level0 row9\" >Actual F29-32</th>\n",
              "                        <td id=\"T_f34e601a_499d_11ec_bda8_0242ac1c0002row9_col0\" class=\"data row9 col0\" >1</td>\n",
              "                        <td id=\"T_f34e601a_499d_11ec_bda8_0242ac1c0002row9_col1\" class=\"data row9 col1\" >0</td>\n",
              "                        <td id=\"T_f34e601a_499d_11ec_bda8_0242ac1c0002row9_col2\" class=\"data row9 col2\" >2</td>\n",
              "                        <td id=\"T_f34e601a_499d_11ec_bda8_0242ac1c0002row9_col3\" class=\"data row9 col3\" >0</td>\n",
              "                        <td id=\"T_f34e601a_499d_11ec_bda8_0242ac1c0002row9_col4\" class=\"data row9 col4\" >12</td>\n",
              "                        <td id=\"T_f34e601a_499d_11ec_bda8_0242ac1c0002row9_col5\" class=\"data row9 col5\" >22</td>\n",
              "                        <td id=\"T_f34e601a_499d_11ec_bda8_0242ac1c0002row9_col6\" class=\"data row9 col6\" >0</td>\n",
              "                        <td id=\"T_f34e601a_499d_11ec_bda8_0242ac1c0002row9_col7\" class=\"data row9 col7\" >0</td>\n",
              "                        <td id=\"T_f34e601a_499d_11ec_bda8_0242ac1c0002row9_col8\" class=\"data row9 col8\" >0</td>\n",
              "                        <td id=\"T_f34e601a_499d_11ec_bda8_0242ac1c0002row9_col9\" class=\"data row9 col9\" >44</td>\n",
              "                        <td id=\"T_f34e601a_499d_11ec_bda8_0242ac1c0002row9_col10\" class=\"data row9 col10\" >0</td>\n",
              "                        <td id=\"T_f34e601a_499d_11ec_bda8_0242ac1c0002row9_col11\" class=\"data row9 col11\" >0</td>\n",
              "            </tr>\n",
              "            <tr>\n",
              "                        <th id=\"T_f34e601a_499d_11ec_bda8_0242ac1c0002level0_row10\" class=\"row_heading level0 row10\" >Actual F33-42</th>\n",
              "                        <td id=\"T_f34e601a_499d_11ec_bda8_0242ac1c0002row10_col0\" class=\"data row10 col0\" >4</td>\n",
              "                        <td id=\"T_f34e601a_499d_11ec_bda8_0242ac1c0002row10_col1\" class=\"data row10 col1\" >0</td>\n",
              "                        <td id=\"T_f34e601a_499d_11ec_bda8_0242ac1c0002row10_col2\" class=\"data row10 col2\" >0</td>\n",
              "                        <td id=\"T_f34e601a_499d_11ec_bda8_0242ac1c0002row10_col3\" class=\"data row10 col3\" >2</td>\n",
              "                        <td id=\"T_f34e601a_499d_11ec_bda8_0242ac1c0002row10_col4\" class=\"data row10 col4\" >6</td>\n",
              "                        <td id=\"T_f34e601a_499d_11ec_bda8_0242ac1c0002row10_col5\" class=\"data row10 col5\" >39</td>\n",
              "                        <td id=\"T_f34e601a_499d_11ec_bda8_0242ac1c0002row10_col6\" class=\"data row10 col6\" >0</td>\n",
              "                        <td id=\"T_f34e601a_499d_11ec_bda8_0242ac1c0002row10_col7\" class=\"data row10 col7\" >1</td>\n",
              "                        <td id=\"T_f34e601a_499d_11ec_bda8_0242ac1c0002row10_col8\" class=\"data row10 col8\" >0</td>\n",
              "                        <td id=\"T_f34e601a_499d_11ec_bda8_0242ac1c0002row10_col9\" class=\"data row10 col9\" >0</td>\n",
              "                        <td id=\"T_f34e601a_499d_11ec_bda8_0242ac1c0002row10_col10\" class=\"data row10 col10\" >85</td>\n",
              "                        <td id=\"T_f34e601a_499d_11ec_bda8_0242ac1c0002row10_col11\" class=\"data row10 col11\" >0</td>\n",
              "            </tr>\n",
              "            <tr>\n",
              "                        <th id=\"T_f34e601a_499d_11ec_bda8_0242ac1c0002level0_row11\" class=\"row_heading level0 row11\" >Actual F43+</th>\n",
              "                        <td id=\"T_f34e601a_499d_11ec_bda8_0242ac1c0002row11_col0\" class=\"data row11 col0\" >0</td>\n",
              "                        <td id=\"T_f34e601a_499d_11ec_bda8_0242ac1c0002row11_col1\" class=\"data row11 col1\" >2</td>\n",
              "                        <td id=\"T_f34e601a_499d_11ec_bda8_0242ac1c0002row11_col2\" class=\"data row11 col2\" >0</td>\n",
              "                        <td id=\"T_f34e601a_499d_11ec_bda8_0242ac1c0002row11_col3\" class=\"data row11 col3\" >12</td>\n",
              "                        <td id=\"T_f34e601a_499d_11ec_bda8_0242ac1c0002row11_col4\" class=\"data row11 col4\" >26</td>\n",
              "                        <td id=\"T_f34e601a_499d_11ec_bda8_0242ac1c0002row11_col5\" class=\"data row11 col5\" >27</td>\n",
              "                        <td id=\"T_f34e601a_499d_11ec_bda8_0242ac1c0002row11_col6\" class=\"data row11 col6\" >0</td>\n",
              "                        <td id=\"T_f34e601a_499d_11ec_bda8_0242ac1c0002row11_col7\" class=\"data row11 col7\" >0</td>\n",
              "                        <td id=\"T_f34e601a_499d_11ec_bda8_0242ac1c0002row11_col8\" class=\"data row11 col8\" >0</td>\n",
              "                        <td id=\"T_f34e601a_499d_11ec_bda8_0242ac1c0002row11_col9\" class=\"data row11 col9\" >0</td>\n",
              "                        <td id=\"T_f34e601a_499d_11ec_bda8_0242ac1c0002row11_col10\" class=\"data row11 col10\" >2</td>\n",
              "                        <td id=\"T_f34e601a_499d_11ec_bda8_0242ac1c0002row11_col11\" class=\"data row11 col11\" >104</td>\n",
              "            </tr>\n",
              "    </tbody></table>"
            ],
            "text/plain": [
              "<pandas.io.formats.style.Styler at 0x7f3d13064410>"
            ]
          },
          "metadata": {},
          "execution_count": 38
        }
      ]
    },
    {
      "cell_type": "code",
      "metadata": {
        "colab": {
          "base_uri": "https://localhost:8080/"
        },
        "id": "AZ--vrGQ0VYb",
        "outputId": "2698b317-f6a6-4e2c-927d-ee81b72de7ab"
      },
      "source": [
        "print(\"Classification Report:\")\n",
        "print()\n",
        "print(classification_report(y_test, y_pred))"
      ],
      "execution_count": null,
      "outputs": [
        {
          "output_type": "stream",
          "name": "stdout",
          "text": [
            "Classification Report:\n",
            "\n",
            "              precision    recall  f1-score   support\n",
            "\n",
            "           0       0.74      0.61      0.67       128\n",
            "           1       0.88      0.76      0.81       258\n",
            "           2       0.92      0.74      0.82       192\n",
            "           3       0.73      0.63      0.68       283\n",
            "           4       0.78      0.80      0.79       539\n",
            "           5       0.59      0.87      0.70       595\n",
            "           6       1.00      0.46      0.63        39\n",
            "           7       0.68      0.45      0.54        29\n",
            "           8       0.97      0.61      0.75        57\n",
            "           9       0.90      0.54      0.68        81\n",
            "          10       0.73      0.62      0.67       137\n",
            "          11       0.90      0.60      0.72       173\n",
            "\n",
            "    accuracy                           0.73      2511\n",
            "   macro avg       0.82      0.64      0.71      2511\n",
            "weighted avg       0.76      0.73      0.73      2511\n",
            "\n"
          ]
        }
      ]
    },
    {
      "cell_type": "code",
      "metadata": {
        "id": "k9IMnZjG0VbF"
      },
      "source": [
        "def multiclass_roc_auc_score(y_test, y_pred, average=\"macro\"):\n",
        "  lb = LabelBinarizer()\n",
        "  lb.fit(y_test)\n",
        "  y_test = lb.transform(y_test)\n",
        "  y_pred = lb.transform(y_pred)\n",
        "  return roc_auc_score(y_test, y_pred, average=average)\n"
      ],
      "execution_count": null,
      "outputs": []
    },
    {
      "cell_type": "code",
      "metadata": {
        "colab": {
          "base_uri": "https://localhost:8080/"
        },
        "id": "FqQX1YxK0Vdb",
        "outputId": "228edd77-2f93-4161-9500-c2971740adae"
      },
      "source": [
        "multiclass_roc_auc_score(y_test, y_pred, average=\"macro\")"
      ],
      "execution_count": null,
      "outputs": [
        {
          "output_type": "execute_result",
          "data": {
            "text/plain": [
              "0.8072148421909379"
            ]
          },
          "metadata": {},
          "execution_count": 41
        }
      ]
    },
    {
      "cell_type": "markdown",
      "metadata": {
        "id": "J167QMmb0m29"
      },
      "source": [
        "# Gradient Boosting "
      ]
    },
    {
      "cell_type": "code",
      "metadata": {
        "colab": {
          "base_uri": "https://localhost:8080/"
        },
        "id": "uMH8cfg50oUF",
        "outputId": "d0716f1a-a824-4f25-a88f-159b34a895e3"
      },
      "source": [
        "pipeline = Pipeline(\n",
        "    [(\"preprocessing\", preprocessing), (\"gb\", GradientBoostingClassifier())], verbose=True\n",
        ")\n",
        "\n",
        "pipeline.fit(X_train, y_train)\n"
      ],
      "execution_count": null,
      "outputs": [
        {
          "output_type": "stream",
          "name": "stdout",
          "text": [
            "[Pipeline] ..... (step 1 of 2) Processing preprocessing, total=   0.0s\n",
            "[Pipeline] ................ (step 2 of 2) Processing gb, total=  21.1s\n"
          ]
        },
        {
          "output_type": "execute_result",
          "data": {
            "text/plain": [
              "Pipeline(steps=[('preprocessing',\n",
              "                 ColumnTransformer(remainder='passthrough',\n",
              "                                   transformers=[('scale', StandardScaler(),\n",
              "                                                  ['device_id', 'event_id'])])),\n",
              "                ('gb', GradientBoostingClassifier())],\n",
              "         verbose=True)"
            ]
          },
          "metadata": {},
          "execution_count": 42
        }
      ]
    },
    {
      "cell_type": "code",
      "metadata": {
        "colab": {
          "base_uri": "https://localhost:8080/"
        },
        "id": "IhLiPWEQ0qVs",
        "outputId": "3889bca1-2d23-43e5-8f64-bf56df2c428a"
      },
      "source": [
        "grid = {'gb__n_estimators': [100], \n",
        "          'gb__max_depth': [5],\n",
        "          'gb__loss': ['deviance']}\n",
        "\n",
        "model = GridSearchCV(pipeline, grid, verbose=1, cv=3)\n",
        "model.fit(X_train, y_train)\n"
      ],
      "execution_count": null,
      "outputs": [
        {
          "output_type": "stream",
          "name": "stdout",
          "text": [
            "Fitting 3 folds for each of 1 candidates, totalling 3 fits\n",
            "[Pipeline] ..... (step 1 of 2) Processing preprocessing, total=   0.0s\n",
            "[Pipeline] ................ (step 2 of 2) Processing gb, total=  20.8s\n",
            "[Pipeline] ..... (step 1 of 2) Processing preprocessing, total=   0.0s\n",
            "[Pipeline] ................ (step 2 of 2) Processing gb, total=  20.5s\n",
            "[Pipeline] ..... (step 1 of 2) Processing preprocessing, total=   0.0s\n",
            "[Pipeline] ................ (step 2 of 2) Processing gb, total=  20.5s\n",
            "[Pipeline] ..... (step 1 of 2) Processing preprocessing, total=   0.0s\n",
            "[Pipeline] ................ (step 2 of 2) Processing gb, total=  30.6s\n"
          ]
        },
        {
          "output_type": "execute_result",
          "data": {
            "text/plain": [
              "GridSearchCV(cv=3,\n",
              "             estimator=Pipeline(steps=[('preprocessing',\n",
              "                                        ColumnTransformer(remainder='passthrough',\n",
              "                                                          transformers=[('scale',\n",
              "                                                                         StandardScaler(),\n",
              "                                                                         ['device_id',\n",
              "                                                                          'event_id'])])),\n",
              "                                       ('gb', GradientBoostingClassifier())],\n",
              "                                verbose=True),\n",
              "             param_grid={'gb__loss': ['deviance'], 'gb__max_depth': [5],\n",
              "                         'gb__n_estimators': [100]},\n",
              "             verbose=1)"
            ]
          },
          "metadata": {},
          "execution_count": 43
        }
      ]
    },
    {
      "cell_type": "code",
      "metadata": {
        "colab": {
          "base_uri": "https://localhost:8080/"
        },
        "id": "hg8gXSLP0qYf",
        "outputId": "9bb9be1d-bfa0-459b-b37a-6c28e8b8da4c"
      },
      "source": [
        "model.best_params_"
      ],
      "execution_count": null,
      "outputs": [
        {
          "output_type": "execute_result",
          "data": {
            "text/plain": [
              "{'gb__loss': 'deviance', 'gb__max_depth': 5, 'gb__n_estimators': 100}"
            ]
          },
          "metadata": {},
          "execution_count": 44
        }
      ]
    },
    {
      "cell_type": "code",
      "metadata": {
        "colab": {
          "base_uri": "https://localhost:8080/"
        },
        "id": "cBmAD_cJ0qah",
        "outputId": "9a8a0fdc-0689-4eac-ca98-79435be2e725"
      },
      "source": [
        "# Model still appears to be extremely overfitting\n",
        "train_score = model.score(X_train, y_train)\n",
        "test_score = model.score(X_test, y_test)\n",
        "\n",
        "print(f\"Train score: {train_score}\")\n",
        "print(f\"Test score: {test_score}\")"
      ],
      "execution_count": null,
      "outputs": [
        {
          "output_type": "stream",
          "name": "stdout",
          "text": [
            "Train score: 1.0\n",
            "Test score: 1.0\n"
          ]
        }
      ]
    },
    {
      "cell_type": "code",
      "metadata": {
        "colab": {
          "base_uri": "https://localhost:8080/",
          "height": 425
        },
        "id": "-WqrgMRI0qfk",
        "outputId": "f33d918d-98d0-4075-e6b9-75a724772780"
      },
      "source": [
        "y_pred = model.predict(X_test)\n",
        "\n",
        "con_mat = pd.DataFrame(\n",
        "    confusion_matrix(y_test, y_pred),\n",
        "    index=[\n",
        "        \"Actual M22-\",\n",
        "        \"Actual M23-26\",\n",
        "        \"Actual M27-28\",\n",
        "        \"Actual M29-31\",\n",
        "        \"Actual M32-38\",\n",
        "        \"Actual M39+\",\n",
        "        \"Actual F23-\",\n",
        "        \"Actual F24-26\",\n",
        "        \"Actual F27-28\",\n",
        "        \"Actual F29-32\",\n",
        "        \"Actual F33-42\",\n",
        "        \"Actual F43+\",\n",
        "    ],\n",
        "    columns=[\n",
        "        \"Predicted M22-\",\n",
        "        \"Predicted M23-26\",\n",
        "        \"Predicted M27-28\",\n",
        "        \"Predicted M29-31\",\n",
        "        \"Predicted M32-38\",\n",
        "        \"Predicted M39+\",\n",
        "        \"Predicted F23-\",\n",
        "        \"Predicted F24-26\",\n",
        "        \"Predicted F27-28\",\n",
        "        \"Predicted F29-32\",\n",
        "        \"Predicted F33-42\",\n",
        "        \"Predicted F43+\",\n",
        "    ],\n",
        ")\n",
        "con_mat.style.background_gradient(axis=None)\n"
      ],
      "execution_count": null,
      "outputs": [
        {
          "output_type": "execute_result",
          "data": {
            "text/html": [
              "<style  type=\"text/css\" >\n",
              "#T_37bda01c_499e_11ec_bda8_0242ac1c0002row0_col0{\n",
              "            background-color:  #d8d7e9;\n",
              "            color:  #000000;\n",
              "        }#T_37bda01c_499e_11ec_bda8_0242ac1c0002row0_col1,#T_37bda01c_499e_11ec_bda8_0242ac1c0002row0_col2,#T_37bda01c_499e_11ec_bda8_0242ac1c0002row0_col3,#T_37bda01c_499e_11ec_bda8_0242ac1c0002row0_col4,#T_37bda01c_499e_11ec_bda8_0242ac1c0002row0_col5,#T_37bda01c_499e_11ec_bda8_0242ac1c0002row0_col6,#T_37bda01c_499e_11ec_bda8_0242ac1c0002row0_col7,#T_37bda01c_499e_11ec_bda8_0242ac1c0002row0_col8,#T_37bda01c_499e_11ec_bda8_0242ac1c0002row0_col9,#T_37bda01c_499e_11ec_bda8_0242ac1c0002row0_col10,#T_37bda01c_499e_11ec_bda8_0242ac1c0002row0_col11,#T_37bda01c_499e_11ec_bda8_0242ac1c0002row1_col0,#T_37bda01c_499e_11ec_bda8_0242ac1c0002row1_col2,#T_37bda01c_499e_11ec_bda8_0242ac1c0002row1_col3,#T_37bda01c_499e_11ec_bda8_0242ac1c0002row1_col4,#T_37bda01c_499e_11ec_bda8_0242ac1c0002row1_col5,#T_37bda01c_499e_11ec_bda8_0242ac1c0002row1_col6,#T_37bda01c_499e_11ec_bda8_0242ac1c0002row1_col7,#T_37bda01c_499e_11ec_bda8_0242ac1c0002row1_col8,#T_37bda01c_499e_11ec_bda8_0242ac1c0002row1_col9,#T_37bda01c_499e_11ec_bda8_0242ac1c0002row1_col10,#T_37bda01c_499e_11ec_bda8_0242ac1c0002row1_col11,#T_37bda01c_499e_11ec_bda8_0242ac1c0002row2_col0,#T_37bda01c_499e_11ec_bda8_0242ac1c0002row2_col1,#T_37bda01c_499e_11ec_bda8_0242ac1c0002row2_col3,#T_37bda01c_499e_11ec_bda8_0242ac1c0002row2_col4,#T_37bda01c_499e_11ec_bda8_0242ac1c0002row2_col5,#T_37bda01c_499e_11ec_bda8_0242ac1c0002row2_col6,#T_37bda01c_499e_11ec_bda8_0242ac1c0002row2_col7,#T_37bda01c_499e_11ec_bda8_0242ac1c0002row2_col8,#T_37bda01c_499e_11ec_bda8_0242ac1c0002row2_col9,#T_37bda01c_499e_11ec_bda8_0242ac1c0002row2_col10,#T_37bda01c_499e_11ec_bda8_0242ac1c0002row2_col11,#T_37bda01c_499e_11ec_bda8_0242ac1c0002row3_col0,#T_37bda01c_499e_11ec_bda8_0242ac1c0002row3_col1,#T_37bda01c_499e_11ec_bda8_0242ac1c0002row3_col2,#T_37bda01c_499e_11ec_bda8_0242ac1c0002row3_col4,#T_37bda01c_499e_11ec_bda8_0242ac1c0002row3_col5,#T_37bda01c_499e_11ec_bda8_0242ac1c0002row3_col6,#T_37bda01c_499e_11ec_bda8_0242ac1c0002row3_col7,#T_37bda01c_499e_11ec_bda8_0242ac1c0002row3_col8,#T_37bda01c_499e_11ec_bda8_0242ac1c0002row3_col9,#T_37bda01c_499e_11ec_bda8_0242ac1c0002row3_col10,#T_37bda01c_499e_11ec_bda8_0242ac1c0002row3_col11,#T_37bda01c_499e_11ec_bda8_0242ac1c0002row4_col0,#T_37bda01c_499e_11ec_bda8_0242ac1c0002row4_col1,#T_37bda01c_499e_11ec_bda8_0242ac1c0002row4_col2,#T_37bda01c_499e_11ec_bda8_0242ac1c0002row4_col3,#T_37bda01c_499e_11ec_bda8_0242ac1c0002row4_col5,#T_37bda01c_499e_11ec_bda8_0242ac1c0002row4_col6,#T_37bda01c_499e_11ec_bda8_0242ac1c0002row4_col7,#T_37bda01c_499e_11ec_bda8_0242ac1c0002row4_col8,#T_37bda01c_499e_11ec_bda8_0242ac1c0002row4_col9,#T_37bda01c_499e_11ec_bda8_0242ac1c0002row4_col10,#T_37bda01c_499e_11ec_bda8_0242ac1c0002row4_col11,#T_37bda01c_499e_11ec_bda8_0242ac1c0002row5_col0,#T_37bda01c_499e_11ec_bda8_0242ac1c0002row5_col1,#T_37bda01c_499e_11ec_bda8_0242ac1c0002row5_col2,#T_37bda01c_499e_11ec_bda8_0242ac1c0002row5_col3,#T_37bda01c_499e_11ec_bda8_0242ac1c0002row5_col4,#T_37bda01c_499e_11ec_bda8_0242ac1c0002row5_col6,#T_37bda01c_499e_11ec_bda8_0242ac1c0002row5_col7,#T_37bda01c_499e_11ec_bda8_0242ac1c0002row5_col8,#T_37bda01c_499e_11ec_bda8_0242ac1c0002row5_col9,#T_37bda01c_499e_11ec_bda8_0242ac1c0002row5_col10,#T_37bda01c_499e_11ec_bda8_0242ac1c0002row5_col11,#T_37bda01c_499e_11ec_bda8_0242ac1c0002row6_col0,#T_37bda01c_499e_11ec_bda8_0242ac1c0002row6_col1,#T_37bda01c_499e_11ec_bda8_0242ac1c0002row6_col2,#T_37bda01c_499e_11ec_bda8_0242ac1c0002row6_col3,#T_37bda01c_499e_11ec_bda8_0242ac1c0002row6_col4,#T_37bda01c_499e_11ec_bda8_0242ac1c0002row6_col5,#T_37bda01c_499e_11ec_bda8_0242ac1c0002row6_col7,#T_37bda01c_499e_11ec_bda8_0242ac1c0002row6_col8,#T_37bda01c_499e_11ec_bda8_0242ac1c0002row6_col9,#T_37bda01c_499e_11ec_bda8_0242ac1c0002row6_col10,#T_37bda01c_499e_11ec_bda8_0242ac1c0002row6_col11,#T_37bda01c_499e_11ec_bda8_0242ac1c0002row7_col0,#T_37bda01c_499e_11ec_bda8_0242ac1c0002row7_col1,#T_37bda01c_499e_11ec_bda8_0242ac1c0002row7_col2,#T_37bda01c_499e_11ec_bda8_0242ac1c0002row7_col3,#T_37bda01c_499e_11ec_bda8_0242ac1c0002row7_col4,#T_37bda01c_499e_11ec_bda8_0242ac1c0002row7_col5,#T_37bda01c_499e_11ec_bda8_0242ac1c0002row7_col6,#T_37bda01c_499e_11ec_bda8_0242ac1c0002row7_col8,#T_37bda01c_499e_11ec_bda8_0242ac1c0002row7_col9,#T_37bda01c_499e_11ec_bda8_0242ac1c0002row7_col10,#T_37bda01c_499e_11ec_bda8_0242ac1c0002row7_col11,#T_37bda01c_499e_11ec_bda8_0242ac1c0002row8_col0,#T_37bda01c_499e_11ec_bda8_0242ac1c0002row8_col1,#T_37bda01c_499e_11ec_bda8_0242ac1c0002row8_col2,#T_37bda01c_499e_11ec_bda8_0242ac1c0002row8_col3,#T_37bda01c_499e_11ec_bda8_0242ac1c0002row8_col4,#T_37bda01c_499e_11ec_bda8_0242ac1c0002row8_col5,#T_37bda01c_499e_11ec_bda8_0242ac1c0002row8_col6,#T_37bda01c_499e_11ec_bda8_0242ac1c0002row8_col7,#T_37bda01c_499e_11ec_bda8_0242ac1c0002row8_col9,#T_37bda01c_499e_11ec_bda8_0242ac1c0002row8_col10,#T_37bda01c_499e_11ec_bda8_0242ac1c0002row8_col11,#T_37bda01c_499e_11ec_bda8_0242ac1c0002row9_col0,#T_37bda01c_499e_11ec_bda8_0242ac1c0002row9_col1,#T_37bda01c_499e_11ec_bda8_0242ac1c0002row9_col2,#T_37bda01c_499e_11ec_bda8_0242ac1c0002row9_col3,#T_37bda01c_499e_11ec_bda8_0242ac1c0002row9_col4,#T_37bda01c_499e_11ec_bda8_0242ac1c0002row9_col5,#T_37bda01c_499e_11ec_bda8_0242ac1c0002row9_col6,#T_37bda01c_499e_11ec_bda8_0242ac1c0002row9_col7,#T_37bda01c_499e_11ec_bda8_0242ac1c0002row9_col8,#T_37bda01c_499e_11ec_bda8_0242ac1c0002row9_col10,#T_37bda01c_499e_11ec_bda8_0242ac1c0002row9_col11,#T_37bda01c_499e_11ec_bda8_0242ac1c0002row10_col0,#T_37bda01c_499e_11ec_bda8_0242ac1c0002row10_col1,#T_37bda01c_499e_11ec_bda8_0242ac1c0002row10_col2,#T_37bda01c_499e_11ec_bda8_0242ac1c0002row10_col3,#T_37bda01c_499e_11ec_bda8_0242ac1c0002row10_col4,#T_37bda01c_499e_11ec_bda8_0242ac1c0002row10_col5,#T_37bda01c_499e_11ec_bda8_0242ac1c0002row10_col6,#T_37bda01c_499e_11ec_bda8_0242ac1c0002row10_col7,#T_37bda01c_499e_11ec_bda8_0242ac1c0002row10_col8,#T_37bda01c_499e_11ec_bda8_0242ac1c0002row10_col9,#T_37bda01c_499e_11ec_bda8_0242ac1c0002row10_col11,#T_37bda01c_499e_11ec_bda8_0242ac1c0002row11_col0,#T_37bda01c_499e_11ec_bda8_0242ac1c0002row11_col1,#T_37bda01c_499e_11ec_bda8_0242ac1c0002row11_col2,#T_37bda01c_499e_11ec_bda8_0242ac1c0002row11_col3,#T_37bda01c_499e_11ec_bda8_0242ac1c0002row11_col4,#T_37bda01c_499e_11ec_bda8_0242ac1c0002row11_col5,#T_37bda01c_499e_11ec_bda8_0242ac1c0002row11_col6,#T_37bda01c_499e_11ec_bda8_0242ac1c0002row11_col7,#T_37bda01c_499e_11ec_bda8_0242ac1c0002row11_col8,#T_37bda01c_499e_11ec_bda8_0242ac1c0002row11_col9,#T_37bda01c_499e_11ec_bda8_0242ac1c0002row11_col10{\n",
              "            background-color:  #fff7fb;\n",
              "            color:  #000000;\n",
              "        }#T_37bda01c_499e_11ec_bda8_0242ac1c0002row1_col1{\n",
              "            background-color:  #8eb3d5;\n",
              "            color:  #000000;\n",
              "        }#T_37bda01c_499e_11ec_bda8_0242ac1c0002row2_col2{\n",
              "            background-color:  #b8c6e0;\n",
              "            color:  #000000;\n",
              "        }#T_37bda01c_499e_11ec_bda8_0242ac1c0002row3_col3{\n",
              "            background-color:  #7eadd1;\n",
              "            color:  #000000;\n",
              "        }#T_37bda01c_499e_11ec_bda8_0242ac1c0002row4_col4{\n",
              "            background-color:  #045280;\n",
              "            color:  #f1f1f1;\n",
              "        }#T_37bda01c_499e_11ec_bda8_0242ac1c0002row5_col5{\n",
              "            background-color:  #023858;\n",
              "            color:  #f1f1f1;\n",
              "        }#T_37bda01c_499e_11ec_bda8_0242ac1c0002row6_col6{\n",
              "            background-color:  #f5eff6;\n",
              "            color:  #000000;\n",
              "        }#T_37bda01c_499e_11ec_bda8_0242ac1c0002row7_col7{\n",
              "            background-color:  #f8f1f8;\n",
              "            color:  #000000;\n",
              "        }#T_37bda01c_499e_11ec_bda8_0242ac1c0002row8_col8{\n",
              "            background-color:  #f1ebf4;\n",
              "            color:  #000000;\n",
              "        }#T_37bda01c_499e_11ec_bda8_0242ac1c0002row9_col9{\n",
              "            background-color:  #eae6f1;\n",
              "            color:  #000000;\n",
              "        }#T_37bda01c_499e_11ec_bda8_0242ac1c0002row10_col10{\n",
              "            background-color:  #d5d5e8;\n",
              "            color:  #000000;\n",
              "        }#T_37bda01c_499e_11ec_bda8_0242ac1c0002row11_col11{\n",
              "            background-color:  #c2cbe2;\n",
              "            color:  #000000;\n",
              "        }</style><table id=\"T_37bda01c_499e_11ec_bda8_0242ac1c0002\" class=\"dataframe\"><thead>    <tr>        <th class=\"blank level0\" ></th>        <th class=\"col_heading level0 col0\" >Predicted M22-</th>        <th class=\"col_heading level0 col1\" >Predicted M23-26</th>        <th class=\"col_heading level0 col2\" >Predicted M27-28</th>        <th class=\"col_heading level0 col3\" >Predicted M29-31</th>        <th class=\"col_heading level0 col4\" >Predicted M32-38</th>        <th class=\"col_heading level0 col5\" >Predicted M39+</th>        <th class=\"col_heading level0 col6\" >Predicted F23-</th>        <th class=\"col_heading level0 col7\" >Predicted F24-26</th>        <th class=\"col_heading level0 col8\" >Predicted F27-28</th>        <th class=\"col_heading level0 col9\" >Predicted F29-32</th>        <th class=\"col_heading level0 col10\" >Predicted F33-42</th>        <th class=\"col_heading level0 col11\" >Predicted F43+</th>    </tr></thead><tbody>\n",
              "                <tr>\n",
              "                        <th id=\"T_37bda01c_499e_11ec_bda8_0242ac1c0002level0_row0\" class=\"row_heading level0 row0\" >Actual M22-</th>\n",
              "                        <td id=\"T_37bda01c_499e_11ec_bda8_0242ac1c0002row0_col0\" class=\"data row0 col0\" >128</td>\n",
              "                        <td id=\"T_37bda01c_499e_11ec_bda8_0242ac1c0002row0_col1\" class=\"data row0 col1\" >0</td>\n",
              "                        <td id=\"T_37bda01c_499e_11ec_bda8_0242ac1c0002row0_col2\" class=\"data row0 col2\" >0</td>\n",
              "                        <td id=\"T_37bda01c_499e_11ec_bda8_0242ac1c0002row0_col3\" class=\"data row0 col3\" >0</td>\n",
              "                        <td id=\"T_37bda01c_499e_11ec_bda8_0242ac1c0002row0_col4\" class=\"data row0 col4\" >0</td>\n",
              "                        <td id=\"T_37bda01c_499e_11ec_bda8_0242ac1c0002row0_col5\" class=\"data row0 col5\" >0</td>\n",
              "                        <td id=\"T_37bda01c_499e_11ec_bda8_0242ac1c0002row0_col6\" class=\"data row0 col6\" >0</td>\n",
              "                        <td id=\"T_37bda01c_499e_11ec_bda8_0242ac1c0002row0_col7\" class=\"data row0 col7\" >0</td>\n",
              "                        <td id=\"T_37bda01c_499e_11ec_bda8_0242ac1c0002row0_col8\" class=\"data row0 col8\" >0</td>\n",
              "                        <td id=\"T_37bda01c_499e_11ec_bda8_0242ac1c0002row0_col9\" class=\"data row0 col9\" >0</td>\n",
              "                        <td id=\"T_37bda01c_499e_11ec_bda8_0242ac1c0002row0_col10\" class=\"data row0 col10\" >0</td>\n",
              "                        <td id=\"T_37bda01c_499e_11ec_bda8_0242ac1c0002row0_col11\" class=\"data row0 col11\" >0</td>\n",
              "            </tr>\n",
              "            <tr>\n",
              "                        <th id=\"T_37bda01c_499e_11ec_bda8_0242ac1c0002level0_row1\" class=\"row_heading level0 row1\" >Actual M23-26</th>\n",
              "                        <td id=\"T_37bda01c_499e_11ec_bda8_0242ac1c0002row1_col0\" class=\"data row1 col0\" >0</td>\n",
              "                        <td id=\"T_37bda01c_499e_11ec_bda8_0242ac1c0002row1_col1\" class=\"data row1 col1\" >258</td>\n",
              "                        <td id=\"T_37bda01c_499e_11ec_bda8_0242ac1c0002row1_col2\" class=\"data row1 col2\" >0</td>\n",
              "                        <td id=\"T_37bda01c_499e_11ec_bda8_0242ac1c0002row1_col3\" class=\"data row1 col3\" >0</td>\n",
              "                        <td id=\"T_37bda01c_499e_11ec_bda8_0242ac1c0002row1_col4\" class=\"data row1 col4\" >0</td>\n",
              "                        <td id=\"T_37bda01c_499e_11ec_bda8_0242ac1c0002row1_col5\" class=\"data row1 col5\" >0</td>\n",
              "                        <td id=\"T_37bda01c_499e_11ec_bda8_0242ac1c0002row1_col6\" class=\"data row1 col6\" >0</td>\n",
              "                        <td id=\"T_37bda01c_499e_11ec_bda8_0242ac1c0002row1_col7\" class=\"data row1 col7\" >0</td>\n",
              "                        <td id=\"T_37bda01c_499e_11ec_bda8_0242ac1c0002row1_col8\" class=\"data row1 col8\" >0</td>\n",
              "                        <td id=\"T_37bda01c_499e_11ec_bda8_0242ac1c0002row1_col9\" class=\"data row1 col9\" >0</td>\n",
              "                        <td id=\"T_37bda01c_499e_11ec_bda8_0242ac1c0002row1_col10\" class=\"data row1 col10\" >0</td>\n",
              "                        <td id=\"T_37bda01c_499e_11ec_bda8_0242ac1c0002row1_col11\" class=\"data row1 col11\" >0</td>\n",
              "            </tr>\n",
              "            <tr>\n",
              "                        <th id=\"T_37bda01c_499e_11ec_bda8_0242ac1c0002level0_row2\" class=\"row_heading level0 row2\" >Actual M27-28</th>\n",
              "                        <td id=\"T_37bda01c_499e_11ec_bda8_0242ac1c0002row2_col0\" class=\"data row2 col0\" >0</td>\n",
              "                        <td id=\"T_37bda01c_499e_11ec_bda8_0242ac1c0002row2_col1\" class=\"data row2 col1\" >0</td>\n",
              "                        <td id=\"T_37bda01c_499e_11ec_bda8_0242ac1c0002row2_col2\" class=\"data row2 col2\" >192</td>\n",
              "                        <td id=\"T_37bda01c_499e_11ec_bda8_0242ac1c0002row2_col3\" class=\"data row2 col3\" >0</td>\n",
              "                        <td id=\"T_37bda01c_499e_11ec_bda8_0242ac1c0002row2_col4\" class=\"data row2 col4\" >0</td>\n",
              "                        <td id=\"T_37bda01c_499e_11ec_bda8_0242ac1c0002row2_col5\" class=\"data row2 col5\" >0</td>\n",
              "                        <td id=\"T_37bda01c_499e_11ec_bda8_0242ac1c0002row2_col6\" class=\"data row2 col6\" >0</td>\n",
              "                        <td id=\"T_37bda01c_499e_11ec_bda8_0242ac1c0002row2_col7\" class=\"data row2 col7\" >0</td>\n",
              "                        <td id=\"T_37bda01c_499e_11ec_bda8_0242ac1c0002row2_col8\" class=\"data row2 col8\" >0</td>\n",
              "                        <td id=\"T_37bda01c_499e_11ec_bda8_0242ac1c0002row2_col9\" class=\"data row2 col9\" >0</td>\n",
              "                        <td id=\"T_37bda01c_499e_11ec_bda8_0242ac1c0002row2_col10\" class=\"data row2 col10\" >0</td>\n",
              "                        <td id=\"T_37bda01c_499e_11ec_bda8_0242ac1c0002row2_col11\" class=\"data row2 col11\" >0</td>\n",
              "            </tr>\n",
              "            <tr>\n",
              "                        <th id=\"T_37bda01c_499e_11ec_bda8_0242ac1c0002level0_row3\" class=\"row_heading level0 row3\" >Actual M29-31</th>\n",
              "                        <td id=\"T_37bda01c_499e_11ec_bda8_0242ac1c0002row3_col0\" class=\"data row3 col0\" >0</td>\n",
              "                        <td id=\"T_37bda01c_499e_11ec_bda8_0242ac1c0002row3_col1\" class=\"data row3 col1\" >0</td>\n",
              "                        <td id=\"T_37bda01c_499e_11ec_bda8_0242ac1c0002row3_col2\" class=\"data row3 col2\" >0</td>\n",
              "                        <td id=\"T_37bda01c_499e_11ec_bda8_0242ac1c0002row3_col3\" class=\"data row3 col3\" >283</td>\n",
              "                        <td id=\"T_37bda01c_499e_11ec_bda8_0242ac1c0002row3_col4\" class=\"data row3 col4\" >0</td>\n",
              "                        <td id=\"T_37bda01c_499e_11ec_bda8_0242ac1c0002row3_col5\" class=\"data row3 col5\" >0</td>\n",
              "                        <td id=\"T_37bda01c_499e_11ec_bda8_0242ac1c0002row3_col6\" class=\"data row3 col6\" >0</td>\n",
              "                        <td id=\"T_37bda01c_499e_11ec_bda8_0242ac1c0002row3_col7\" class=\"data row3 col7\" >0</td>\n",
              "                        <td id=\"T_37bda01c_499e_11ec_bda8_0242ac1c0002row3_col8\" class=\"data row3 col8\" >0</td>\n",
              "                        <td id=\"T_37bda01c_499e_11ec_bda8_0242ac1c0002row3_col9\" class=\"data row3 col9\" >0</td>\n",
              "                        <td id=\"T_37bda01c_499e_11ec_bda8_0242ac1c0002row3_col10\" class=\"data row3 col10\" >0</td>\n",
              "                        <td id=\"T_37bda01c_499e_11ec_bda8_0242ac1c0002row3_col11\" class=\"data row3 col11\" >0</td>\n",
              "            </tr>\n",
              "            <tr>\n",
              "                        <th id=\"T_37bda01c_499e_11ec_bda8_0242ac1c0002level0_row4\" class=\"row_heading level0 row4\" >Actual M32-38</th>\n",
              "                        <td id=\"T_37bda01c_499e_11ec_bda8_0242ac1c0002row4_col0\" class=\"data row4 col0\" >0</td>\n",
              "                        <td id=\"T_37bda01c_499e_11ec_bda8_0242ac1c0002row4_col1\" class=\"data row4 col1\" >0</td>\n",
              "                        <td id=\"T_37bda01c_499e_11ec_bda8_0242ac1c0002row4_col2\" class=\"data row4 col2\" >0</td>\n",
              "                        <td id=\"T_37bda01c_499e_11ec_bda8_0242ac1c0002row4_col3\" class=\"data row4 col3\" >0</td>\n",
              "                        <td id=\"T_37bda01c_499e_11ec_bda8_0242ac1c0002row4_col4\" class=\"data row4 col4\" >539</td>\n",
              "                        <td id=\"T_37bda01c_499e_11ec_bda8_0242ac1c0002row4_col5\" class=\"data row4 col5\" >0</td>\n",
              "                        <td id=\"T_37bda01c_499e_11ec_bda8_0242ac1c0002row4_col6\" class=\"data row4 col6\" >0</td>\n",
              "                        <td id=\"T_37bda01c_499e_11ec_bda8_0242ac1c0002row4_col7\" class=\"data row4 col7\" >0</td>\n",
              "                        <td id=\"T_37bda01c_499e_11ec_bda8_0242ac1c0002row4_col8\" class=\"data row4 col8\" >0</td>\n",
              "                        <td id=\"T_37bda01c_499e_11ec_bda8_0242ac1c0002row4_col9\" class=\"data row4 col9\" >0</td>\n",
              "                        <td id=\"T_37bda01c_499e_11ec_bda8_0242ac1c0002row4_col10\" class=\"data row4 col10\" >0</td>\n",
              "                        <td id=\"T_37bda01c_499e_11ec_bda8_0242ac1c0002row4_col11\" class=\"data row4 col11\" >0</td>\n",
              "            </tr>\n",
              "            <tr>\n",
              "                        <th id=\"T_37bda01c_499e_11ec_bda8_0242ac1c0002level0_row5\" class=\"row_heading level0 row5\" >Actual M39+</th>\n",
              "                        <td id=\"T_37bda01c_499e_11ec_bda8_0242ac1c0002row5_col0\" class=\"data row5 col0\" >0</td>\n",
              "                        <td id=\"T_37bda01c_499e_11ec_bda8_0242ac1c0002row5_col1\" class=\"data row5 col1\" >0</td>\n",
              "                        <td id=\"T_37bda01c_499e_11ec_bda8_0242ac1c0002row5_col2\" class=\"data row5 col2\" >0</td>\n",
              "                        <td id=\"T_37bda01c_499e_11ec_bda8_0242ac1c0002row5_col3\" class=\"data row5 col3\" >0</td>\n",
              "                        <td id=\"T_37bda01c_499e_11ec_bda8_0242ac1c0002row5_col4\" class=\"data row5 col4\" >0</td>\n",
              "                        <td id=\"T_37bda01c_499e_11ec_bda8_0242ac1c0002row5_col5\" class=\"data row5 col5\" >595</td>\n",
              "                        <td id=\"T_37bda01c_499e_11ec_bda8_0242ac1c0002row5_col6\" class=\"data row5 col6\" >0</td>\n",
              "                        <td id=\"T_37bda01c_499e_11ec_bda8_0242ac1c0002row5_col7\" class=\"data row5 col7\" >0</td>\n",
              "                        <td id=\"T_37bda01c_499e_11ec_bda8_0242ac1c0002row5_col8\" class=\"data row5 col8\" >0</td>\n",
              "                        <td id=\"T_37bda01c_499e_11ec_bda8_0242ac1c0002row5_col9\" class=\"data row5 col9\" >0</td>\n",
              "                        <td id=\"T_37bda01c_499e_11ec_bda8_0242ac1c0002row5_col10\" class=\"data row5 col10\" >0</td>\n",
              "                        <td id=\"T_37bda01c_499e_11ec_bda8_0242ac1c0002row5_col11\" class=\"data row5 col11\" >0</td>\n",
              "            </tr>\n",
              "            <tr>\n",
              "                        <th id=\"T_37bda01c_499e_11ec_bda8_0242ac1c0002level0_row6\" class=\"row_heading level0 row6\" >Actual F23-</th>\n",
              "                        <td id=\"T_37bda01c_499e_11ec_bda8_0242ac1c0002row6_col0\" class=\"data row6 col0\" >0</td>\n",
              "                        <td id=\"T_37bda01c_499e_11ec_bda8_0242ac1c0002row6_col1\" class=\"data row6 col1\" >0</td>\n",
              "                        <td id=\"T_37bda01c_499e_11ec_bda8_0242ac1c0002row6_col2\" class=\"data row6 col2\" >0</td>\n",
              "                        <td id=\"T_37bda01c_499e_11ec_bda8_0242ac1c0002row6_col3\" class=\"data row6 col3\" >0</td>\n",
              "                        <td id=\"T_37bda01c_499e_11ec_bda8_0242ac1c0002row6_col4\" class=\"data row6 col4\" >0</td>\n",
              "                        <td id=\"T_37bda01c_499e_11ec_bda8_0242ac1c0002row6_col5\" class=\"data row6 col5\" >0</td>\n",
              "                        <td id=\"T_37bda01c_499e_11ec_bda8_0242ac1c0002row6_col6\" class=\"data row6 col6\" >39</td>\n",
              "                        <td id=\"T_37bda01c_499e_11ec_bda8_0242ac1c0002row6_col7\" class=\"data row6 col7\" >0</td>\n",
              "                        <td id=\"T_37bda01c_499e_11ec_bda8_0242ac1c0002row6_col8\" class=\"data row6 col8\" >0</td>\n",
              "                        <td id=\"T_37bda01c_499e_11ec_bda8_0242ac1c0002row6_col9\" class=\"data row6 col9\" >0</td>\n",
              "                        <td id=\"T_37bda01c_499e_11ec_bda8_0242ac1c0002row6_col10\" class=\"data row6 col10\" >0</td>\n",
              "                        <td id=\"T_37bda01c_499e_11ec_bda8_0242ac1c0002row6_col11\" class=\"data row6 col11\" >0</td>\n",
              "            </tr>\n",
              "            <tr>\n",
              "                        <th id=\"T_37bda01c_499e_11ec_bda8_0242ac1c0002level0_row7\" class=\"row_heading level0 row7\" >Actual F24-26</th>\n",
              "                        <td id=\"T_37bda01c_499e_11ec_bda8_0242ac1c0002row7_col0\" class=\"data row7 col0\" >0</td>\n",
              "                        <td id=\"T_37bda01c_499e_11ec_bda8_0242ac1c0002row7_col1\" class=\"data row7 col1\" >0</td>\n",
              "                        <td id=\"T_37bda01c_499e_11ec_bda8_0242ac1c0002row7_col2\" class=\"data row7 col2\" >0</td>\n",
              "                        <td id=\"T_37bda01c_499e_11ec_bda8_0242ac1c0002row7_col3\" class=\"data row7 col3\" >0</td>\n",
              "                        <td id=\"T_37bda01c_499e_11ec_bda8_0242ac1c0002row7_col4\" class=\"data row7 col4\" >0</td>\n",
              "                        <td id=\"T_37bda01c_499e_11ec_bda8_0242ac1c0002row7_col5\" class=\"data row7 col5\" >0</td>\n",
              "                        <td id=\"T_37bda01c_499e_11ec_bda8_0242ac1c0002row7_col6\" class=\"data row7 col6\" >0</td>\n",
              "                        <td id=\"T_37bda01c_499e_11ec_bda8_0242ac1c0002row7_col7\" class=\"data row7 col7\" >29</td>\n",
              "                        <td id=\"T_37bda01c_499e_11ec_bda8_0242ac1c0002row7_col8\" class=\"data row7 col8\" >0</td>\n",
              "                        <td id=\"T_37bda01c_499e_11ec_bda8_0242ac1c0002row7_col9\" class=\"data row7 col9\" >0</td>\n",
              "                        <td id=\"T_37bda01c_499e_11ec_bda8_0242ac1c0002row7_col10\" class=\"data row7 col10\" >0</td>\n",
              "                        <td id=\"T_37bda01c_499e_11ec_bda8_0242ac1c0002row7_col11\" class=\"data row7 col11\" >0</td>\n",
              "            </tr>\n",
              "            <tr>\n",
              "                        <th id=\"T_37bda01c_499e_11ec_bda8_0242ac1c0002level0_row8\" class=\"row_heading level0 row8\" >Actual F27-28</th>\n",
              "                        <td id=\"T_37bda01c_499e_11ec_bda8_0242ac1c0002row8_col0\" class=\"data row8 col0\" >0</td>\n",
              "                        <td id=\"T_37bda01c_499e_11ec_bda8_0242ac1c0002row8_col1\" class=\"data row8 col1\" >0</td>\n",
              "                        <td id=\"T_37bda01c_499e_11ec_bda8_0242ac1c0002row8_col2\" class=\"data row8 col2\" >0</td>\n",
              "                        <td id=\"T_37bda01c_499e_11ec_bda8_0242ac1c0002row8_col3\" class=\"data row8 col3\" >0</td>\n",
              "                        <td id=\"T_37bda01c_499e_11ec_bda8_0242ac1c0002row8_col4\" class=\"data row8 col4\" >0</td>\n",
              "                        <td id=\"T_37bda01c_499e_11ec_bda8_0242ac1c0002row8_col5\" class=\"data row8 col5\" >0</td>\n",
              "                        <td id=\"T_37bda01c_499e_11ec_bda8_0242ac1c0002row8_col6\" class=\"data row8 col6\" >0</td>\n",
              "                        <td id=\"T_37bda01c_499e_11ec_bda8_0242ac1c0002row8_col7\" class=\"data row8 col7\" >0</td>\n",
              "                        <td id=\"T_37bda01c_499e_11ec_bda8_0242ac1c0002row8_col8\" class=\"data row8 col8\" >57</td>\n",
              "                        <td id=\"T_37bda01c_499e_11ec_bda8_0242ac1c0002row8_col9\" class=\"data row8 col9\" >0</td>\n",
              "                        <td id=\"T_37bda01c_499e_11ec_bda8_0242ac1c0002row8_col10\" class=\"data row8 col10\" >0</td>\n",
              "                        <td id=\"T_37bda01c_499e_11ec_bda8_0242ac1c0002row8_col11\" class=\"data row8 col11\" >0</td>\n",
              "            </tr>\n",
              "            <tr>\n",
              "                        <th id=\"T_37bda01c_499e_11ec_bda8_0242ac1c0002level0_row9\" class=\"row_heading level0 row9\" >Actual F29-32</th>\n",
              "                        <td id=\"T_37bda01c_499e_11ec_bda8_0242ac1c0002row9_col0\" class=\"data row9 col0\" >0</td>\n",
              "                        <td id=\"T_37bda01c_499e_11ec_bda8_0242ac1c0002row9_col1\" class=\"data row9 col1\" >0</td>\n",
              "                        <td id=\"T_37bda01c_499e_11ec_bda8_0242ac1c0002row9_col2\" class=\"data row9 col2\" >0</td>\n",
              "                        <td id=\"T_37bda01c_499e_11ec_bda8_0242ac1c0002row9_col3\" class=\"data row9 col3\" >0</td>\n",
              "                        <td id=\"T_37bda01c_499e_11ec_bda8_0242ac1c0002row9_col4\" class=\"data row9 col4\" >0</td>\n",
              "                        <td id=\"T_37bda01c_499e_11ec_bda8_0242ac1c0002row9_col5\" class=\"data row9 col5\" >0</td>\n",
              "                        <td id=\"T_37bda01c_499e_11ec_bda8_0242ac1c0002row9_col6\" class=\"data row9 col6\" >0</td>\n",
              "                        <td id=\"T_37bda01c_499e_11ec_bda8_0242ac1c0002row9_col7\" class=\"data row9 col7\" >0</td>\n",
              "                        <td id=\"T_37bda01c_499e_11ec_bda8_0242ac1c0002row9_col8\" class=\"data row9 col8\" >0</td>\n",
              "                        <td id=\"T_37bda01c_499e_11ec_bda8_0242ac1c0002row9_col9\" class=\"data row9 col9\" >81</td>\n",
              "                        <td id=\"T_37bda01c_499e_11ec_bda8_0242ac1c0002row9_col10\" class=\"data row9 col10\" >0</td>\n",
              "                        <td id=\"T_37bda01c_499e_11ec_bda8_0242ac1c0002row9_col11\" class=\"data row9 col11\" >0</td>\n",
              "            </tr>\n",
              "            <tr>\n",
              "                        <th id=\"T_37bda01c_499e_11ec_bda8_0242ac1c0002level0_row10\" class=\"row_heading level0 row10\" >Actual F33-42</th>\n",
              "                        <td id=\"T_37bda01c_499e_11ec_bda8_0242ac1c0002row10_col0\" class=\"data row10 col0\" >0</td>\n",
              "                        <td id=\"T_37bda01c_499e_11ec_bda8_0242ac1c0002row10_col1\" class=\"data row10 col1\" >0</td>\n",
              "                        <td id=\"T_37bda01c_499e_11ec_bda8_0242ac1c0002row10_col2\" class=\"data row10 col2\" >0</td>\n",
              "                        <td id=\"T_37bda01c_499e_11ec_bda8_0242ac1c0002row10_col3\" class=\"data row10 col3\" >0</td>\n",
              "                        <td id=\"T_37bda01c_499e_11ec_bda8_0242ac1c0002row10_col4\" class=\"data row10 col4\" >0</td>\n",
              "                        <td id=\"T_37bda01c_499e_11ec_bda8_0242ac1c0002row10_col5\" class=\"data row10 col5\" >0</td>\n",
              "                        <td id=\"T_37bda01c_499e_11ec_bda8_0242ac1c0002row10_col6\" class=\"data row10 col6\" >0</td>\n",
              "                        <td id=\"T_37bda01c_499e_11ec_bda8_0242ac1c0002row10_col7\" class=\"data row10 col7\" >0</td>\n",
              "                        <td id=\"T_37bda01c_499e_11ec_bda8_0242ac1c0002row10_col8\" class=\"data row10 col8\" >0</td>\n",
              "                        <td id=\"T_37bda01c_499e_11ec_bda8_0242ac1c0002row10_col9\" class=\"data row10 col9\" >0</td>\n",
              "                        <td id=\"T_37bda01c_499e_11ec_bda8_0242ac1c0002row10_col10\" class=\"data row10 col10\" >137</td>\n",
              "                        <td id=\"T_37bda01c_499e_11ec_bda8_0242ac1c0002row10_col11\" class=\"data row10 col11\" >0</td>\n",
              "            </tr>\n",
              "            <tr>\n",
              "                        <th id=\"T_37bda01c_499e_11ec_bda8_0242ac1c0002level0_row11\" class=\"row_heading level0 row11\" >Actual F43+</th>\n",
              "                        <td id=\"T_37bda01c_499e_11ec_bda8_0242ac1c0002row11_col0\" class=\"data row11 col0\" >0</td>\n",
              "                        <td id=\"T_37bda01c_499e_11ec_bda8_0242ac1c0002row11_col1\" class=\"data row11 col1\" >0</td>\n",
              "                        <td id=\"T_37bda01c_499e_11ec_bda8_0242ac1c0002row11_col2\" class=\"data row11 col2\" >0</td>\n",
              "                        <td id=\"T_37bda01c_499e_11ec_bda8_0242ac1c0002row11_col3\" class=\"data row11 col3\" >0</td>\n",
              "                        <td id=\"T_37bda01c_499e_11ec_bda8_0242ac1c0002row11_col4\" class=\"data row11 col4\" >0</td>\n",
              "                        <td id=\"T_37bda01c_499e_11ec_bda8_0242ac1c0002row11_col5\" class=\"data row11 col5\" >0</td>\n",
              "                        <td id=\"T_37bda01c_499e_11ec_bda8_0242ac1c0002row11_col6\" class=\"data row11 col6\" >0</td>\n",
              "                        <td id=\"T_37bda01c_499e_11ec_bda8_0242ac1c0002row11_col7\" class=\"data row11 col7\" >0</td>\n",
              "                        <td id=\"T_37bda01c_499e_11ec_bda8_0242ac1c0002row11_col8\" class=\"data row11 col8\" >0</td>\n",
              "                        <td id=\"T_37bda01c_499e_11ec_bda8_0242ac1c0002row11_col9\" class=\"data row11 col9\" >0</td>\n",
              "                        <td id=\"T_37bda01c_499e_11ec_bda8_0242ac1c0002row11_col10\" class=\"data row11 col10\" >0</td>\n",
              "                        <td id=\"T_37bda01c_499e_11ec_bda8_0242ac1c0002row11_col11\" class=\"data row11 col11\" >173</td>\n",
              "            </tr>\n",
              "    </tbody></table>"
            ],
            "text/plain": [
              "<pandas.io.formats.style.Styler at 0x7f3d0a73afd0>"
            ]
          },
          "metadata": {},
          "execution_count": 46
        }
      ]
    },
    {
      "cell_type": "code",
      "metadata": {
        "colab": {
          "base_uri": "https://localhost:8080/"
        },
        "id": "JdDimmVr059s",
        "outputId": "d5c84d34-6ccc-4500-ff97-f85eaabeaf18"
      },
      "source": [
        "print(\"Classification Report:\")\n",
        "print()\n",
        "print(classification_report(y_test, y_pred))\n"
      ],
      "execution_count": null,
      "outputs": [
        {
          "output_type": "stream",
          "name": "stdout",
          "text": [
            "Classification Report:\n",
            "\n",
            "              precision    recall  f1-score   support\n",
            "\n",
            "           0       1.00      1.00      1.00       128\n",
            "           1       1.00      1.00      1.00       258\n",
            "           2       1.00      1.00      1.00       192\n",
            "           3       1.00      1.00      1.00       283\n",
            "           4       1.00      1.00      1.00       539\n",
            "           5       1.00      1.00      1.00       595\n",
            "           6       1.00      1.00      1.00        39\n",
            "           7       1.00      1.00      1.00        29\n",
            "           8       1.00      1.00      1.00        57\n",
            "           9       1.00      1.00      1.00        81\n",
            "          10       1.00      1.00      1.00       137\n",
            "          11       1.00      1.00      1.00       173\n",
            "\n",
            "    accuracy                           1.00      2511\n",
            "   macro avg       1.00      1.00      1.00      2511\n",
            "weighted avg       1.00      1.00      1.00      2511\n",
            "\n"
          ]
        }
      ]
    },
    {
      "cell_type": "code",
      "metadata": {
        "id": "6ZqM5kR70_XV"
      },
      "source": [
        "def multiclass_roc_auc_score(y_test, y_pred, average=\"macro\"):\n",
        "  lb = LabelBinarizer()\n",
        "  lb.fit(y_test)\n",
        "  y_test = lb.transform(y_test)\n",
        "  y_pred = lb.transform(y_pred)\n",
        "  return roc_auc_score(y_test, y_pred, average=average)\n"
      ],
      "execution_count": null,
      "outputs": []
    },
    {
      "cell_type": "code",
      "metadata": {
        "colab": {
          "base_uri": "https://localhost:8080/"
        },
        "id": "CUhFq73c1CMW",
        "outputId": "130d4713-33b8-45af-b72e-d21fdf862c1d"
      },
      "source": [
        "multiclass_roc_auc_score(y_test, y_pred, average=\"macro\")"
      ],
      "execution_count": null,
      "outputs": [
        {
          "output_type": "execute_result",
          "data": {
            "text/plain": [
              "1.0"
            ]
          },
          "metadata": {},
          "execution_count": 49
        }
      ]
    },
    {
      "cell_type": "markdown",
      "metadata": {
        "id": "pzzr4ogT3P5Q"
      },
      "source": [
        "# PCA Models"
      ]
    },
    {
      "cell_type": "code",
      "metadata": {
        "id": "WODfKpju3UxX"
      },
      "source": [
        "# Since I am performing pca its necessary to standardize data and fit it to data frame.\n",
        "scaler = StandardScaler()\n",
        "X_train_std = scaler.fit_transform(X_train)\n",
        "\n",
        "# Computing the principal components\n",
        "pca = PCA()\n",
        "X_pca = pca.fit_transform(X_train_std)\n"
      ],
      "execution_count": null,
      "outputs": []
    },
    {
      "cell_type": "code",
      "metadata": {
        "id": "csI_TOOe3ZJ4"
      },
      "source": [
        "# I plan to use the amount of components that add up to 90% variance.\n",
        "n_components = np.sum(np.cumsum(pca.explained_variance_ratio_) < 0.90)\n",
        "X_pca = X_pca[:, :n_components]\n"
      ],
      "execution_count": null,
      "outputs": []
    },
    {
      "cell_type": "code",
      "metadata": {
        "colab": {
          "base_uri": "https://localhost:8080/"
        },
        "id": "ul58lJEG3bXQ",
        "outputId": "84fab7a4-563f-4e2d-b443-971185922c0d"
      },
      "source": [
        "# check to see the amount of components being used\n",
        "n_components\n"
      ],
      "execution_count": null,
      "outputs": [
        {
          "output_type": "execute_result",
          "data": {
            "text/plain": [
              "48"
            ]
          },
          "metadata": {},
          "execution_count": 52
        }
      ]
    },
    {
      "cell_type": "markdown",
      "metadata": {
        "id": "MUYdCQX13eK0"
      },
      "source": [
        "# Random Forest Classifier "
      ]
    },
    {
      "cell_type": "code",
      "metadata": {
        "id": "XO2x_ySC3flS"
      },
      "source": [
        "pipeline = Pipeline(\n",
        "    [\n",
        "        (\"scaler\", StandardScaler()),\n",
        "        (\"pca\", PCA(n_components=n_components)),\n",
        "        (\"rf\", RandomForestClassifier()),\n",
        "    ]\n",
        ")\n",
        "pipeline = pipeline.fit(X_train, y_train)\n"
      ],
      "execution_count": null,
      "outputs": []
    },
    {
      "cell_type": "code",
      "metadata": {
        "colab": {
          "base_uri": "https://localhost:8080/"
        },
        "id": "qICSU7F_3q1j",
        "outputId": "381dd26e-ebce-4fc9-b3e1-32893880388f"
      },
      "source": [
        "grid = {\n",
        "    \"rf__max_depth\": [90, 110, 130],\n",
        "    \"rf__n_estimators\": [1, 10, 100],\n",
        "    \"rf__min_samples_leaf\": [1, 3, 5, 7],\n",
        "    \"rf__criterion\": [\"gini\"],\n",
        "}\n",
        "\n",
        "model = GridSearchCV(pipeline, grid, n_jobs=-1, cv=2, verbose=2)\n",
        "model.fit(X_train, y_train)\n"
      ],
      "execution_count": null,
      "outputs": [
        {
          "output_type": "stream",
          "name": "stdout",
          "text": [
            "Fitting 2 folds for each of 36 candidates, totalling 72 fits\n"
          ]
        },
        {
          "output_type": "execute_result",
          "data": {
            "text/plain": [
              "GridSearchCV(cv=2,\n",
              "             estimator=Pipeline(steps=[('scaler', StandardScaler()),\n",
              "                                       ('pca', PCA(n_components=48)),\n",
              "                                       ('rf', RandomForestClassifier())]),\n",
              "             n_jobs=-1,\n",
              "             param_grid={'rf__criterion': ['gini'],\n",
              "                         'rf__max_depth': [90, 110, 130],\n",
              "                         'rf__min_samples_leaf': [1, 3, 5, 7],\n",
              "                         'rf__n_estimators': [1, 10, 100]},\n",
              "             verbose=2)"
            ]
          },
          "metadata": {},
          "execution_count": 54
        }
      ]
    },
    {
      "cell_type": "code",
      "metadata": {
        "colab": {
          "base_uri": "https://localhost:8080/"
        },
        "id": "hH0bMl7T3q4i",
        "outputId": "ece3b4c6-2e5c-4ddc-e2d3-6508c8908192"
      },
      "source": [
        "model.best_params_\n"
      ],
      "execution_count": null,
      "outputs": [
        {
          "output_type": "execute_result",
          "data": {
            "text/plain": [
              "{'rf__criterion': 'gini',\n",
              " 'rf__max_depth': 90,\n",
              " 'rf__min_samples_leaf': 1,\n",
              " 'rf__n_estimators': 100}"
            ]
          },
          "metadata": {},
          "execution_count": 55
        }
      ]
    },
    {
      "cell_type": "code",
      "metadata": {
        "colab": {
          "base_uri": "https://localhost:8080/"
        },
        "id": "yO4xnSAi3q6h",
        "outputId": "0953a1cd-5e54-44fb-9f7a-cd5efcd2adb0"
      },
      "source": [
        "# Model still appears to be extremely overfitting\n",
        "train_score = model.score(X_train, y_train)\n",
        "test_score = model.score(X_test, y_test)\n",
        "\n",
        "print(f\"Train score: {train_score}\")\n",
        "print(f\"Test score: {test_score}\")"
      ],
      "execution_count": null,
      "outputs": [
        {
          "output_type": "stream",
          "name": "stdout",
          "text": [
            "Train score: 0.9930278884462151\n",
            "Test score: 0.8056551174830745\n"
          ]
        }
      ]
    },
    {
      "cell_type": "code",
      "metadata": {
        "colab": {
          "base_uri": "https://localhost:8080/",
          "height": 425
        },
        "id": "ShO-_Xga3q9F",
        "outputId": "c8d3d054-833b-4296-9f78-214ea25c077d"
      },
      "source": [
        "y_pred = model.predict(X_test)\n",
        "\n",
        "con_mat = pd.DataFrame(\n",
        "    confusion_matrix(y_test, y_pred),\n",
        "    index=[\n",
        "        \"Actual M22-\",\n",
        "        \"Actual M23-26\",\n",
        "        \"Actual M27-28\",\n",
        "        \"Actual M29-31\",\n",
        "        \"Actual M32-38\",\n",
        "        \"Actual M39+\",\n",
        "        \"Actual F23-\",\n",
        "        \"Actual F24-26\",\n",
        "        \"Actual F27-28\",\n",
        "        \"Actual F29-32\",\n",
        "        \"Actual F33-42\",\n",
        "        \"Actual F43+\",\n",
        "    ],\n",
        "    columns=[\n",
        "        \"Predicted M22-\",\n",
        "        \"Predicted M23-26\",\n",
        "        \"Predicted M27-28\",\n",
        "        \"Predicted M29-31\",\n",
        "        \"Predicted M32-38\",\n",
        "        \"Predicted M39+\",\n",
        "        \"Predicted F23-\",\n",
        "        \"Predicted F24-26\",\n",
        "        \"Predicted F27-28\",\n",
        "        \"Predicted F29-32\",\n",
        "        \"Predicted F33-42\",\n",
        "        \"Predicted F43+\",\n",
        "    ],\n",
        ")\n",
        "con_mat.style.background_gradient(axis=None)\n"
      ],
      "execution_count": null,
      "outputs": [
        {
          "output_type": "execute_result",
          "data": {
            "text/html": [
              "<style  type=\"text/css\" >\n",
              "#T_c8d62c18_499e_11ec_bda8_0242ac1c0002row0_col0{\n",
              "            background-color:  #dedcec;\n",
              "            color:  #000000;\n",
              "        }#T_c8d62c18_499e_11ec_bda8_0242ac1c0002row0_col1,#T_c8d62c18_499e_11ec_bda8_0242ac1c0002row0_col9,#T_c8d62c18_499e_11ec_bda8_0242ac1c0002row1_col9,#T_c8d62c18_499e_11ec_bda8_0242ac1c0002row1_col10,#T_c8d62c18_499e_11ec_bda8_0242ac1c0002row1_col11,#T_c8d62c18_499e_11ec_bda8_0242ac1c0002row2_col0,#T_c8d62c18_499e_11ec_bda8_0242ac1c0002row3_col2,#T_c8d62c18_499e_11ec_bda8_0242ac1c0002row3_col8,#T_c8d62c18_499e_11ec_bda8_0242ac1c0002row3_col9,#T_c8d62c18_499e_11ec_bda8_0242ac1c0002row3_col10,#T_c8d62c18_499e_11ec_bda8_0242ac1c0002row3_col11,#T_c8d62c18_499e_11ec_bda8_0242ac1c0002row4_col0,#T_c8d62c18_499e_11ec_bda8_0242ac1c0002row4_col2,#T_c8d62c18_499e_11ec_bda8_0242ac1c0002row4_col8,#T_c8d62c18_499e_11ec_bda8_0242ac1c0002row4_col9,#T_c8d62c18_499e_11ec_bda8_0242ac1c0002row5_col8,#T_c8d62c18_499e_11ec_bda8_0242ac1c0002row6_col5,#T_c8d62c18_499e_11ec_bda8_0242ac1c0002row6_col10,#T_c8d62c18_499e_11ec_bda8_0242ac1c0002row7_col5,#T_c8d62c18_499e_11ec_bda8_0242ac1c0002row8_col3,#T_c8d62c18_499e_11ec_bda8_0242ac1c0002row8_col4,#T_c8d62c18_499e_11ec_bda8_0242ac1c0002row8_col11,#T_c8d62c18_499e_11ec_bda8_0242ac1c0002row10_col3,#T_c8d62c18_499e_11ec_bda8_0242ac1c0002row10_col11,#T_c8d62c18_499e_11ec_bda8_0242ac1c0002row11_col1,#T_c8d62c18_499e_11ec_bda8_0242ac1c0002row11_col3{\n",
              "            background-color:  #fef6fb;\n",
              "            color:  #000000;\n",
              "        }#T_c8d62c18_499e_11ec_bda8_0242ac1c0002row0_col2,#T_c8d62c18_499e_11ec_bda8_0242ac1c0002row0_col6,#T_c8d62c18_499e_11ec_bda8_0242ac1c0002row0_col7,#T_c8d62c18_499e_11ec_bda8_0242ac1c0002row0_col8,#T_c8d62c18_499e_11ec_bda8_0242ac1c0002row0_col10,#T_c8d62c18_499e_11ec_bda8_0242ac1c0002row0_col11,#T_c8d62c18_499e_11ec_bda8_0242ac1c0002row1_col6,#T_c8d62c18_499e_11ec_bda8_0242ac1c0002row1_col7,#T_c8d62c18_499e_11ec_bda8_0242ac1c0002row1_col8,#T_c8d62c18_499e_11ec_bda8_0242ac1c0002row2_col3,#T_c8d62c18_499e_11ec_bda8_0242ac1c0002row2_col6,#T_c8d62c18_499e_11ec_bda8_0242ac1c0002row2_col7,#T_c8d62c18_499e_11ec_bda8_0242ac1c0002row2_col8,#T_c8d62c18_499e_11ec_bda8_0242ac1c0002row2_col9,#T_c8d62c18_499e_11ec_bda8_0242ac1c0002row2_col10,#T_c8d62c18_499e_11ec_bda8_0242ac1c0002row3_col6,#T_c8d62c18_499e_11ec_bda8_0242ac1c0002row3_col7,#T_c8d62c18_499e_11ec_bda8_0242ac1c0002row4_col1,#T_c8d62c18_499e_11ec_bda8_0242ac1c0002row4_col6,#T_c8d62c18_499e_11ec_bda8_0242ac1c0002row4_col7,#T_c8d62c18_499e_11ec_bda8_0242ac1c0002row5_col6,#T_c8d62c18_499e_11ec_bda8_0242ac1c0002row6_col0,#T_c8d62c18_499e_11ec_bda8_0242ac1c0002row6_col1,#T_c8d62c18_499e_11ec_bda8_0242ac1c0002row6_col2,#T_c8d62c18_499e_11ec_bda8_0242ac1c0002row6_col3,#T_c8d62c18_499e_11ec_bda8_0242ac1c0002row6_col7,#T_c8d62c18_499e_11ec_bda8_0242ac1c0002row6_col8,#T_c8d62c18_499e_11ec_bda8_0242ac1c0002row6_col9,#T_c8d62c18_499e_11ec_bda8_0242ac1c0002row6_col11,#T_c8d62c18_499e_11ec_bda8_0242ac1c0002row7_col0,#T_c8d62c18_499e_11ec_bda8_0242ac1c0002row7_col1,#T_c8d62c18_499e_11ec_bda8_0242ac1c0002row7_col2,#T_c8d62c18_499e_11ec_bda8_0242ac1c0002row7_col3,#T_c8d62c18_499e_11ec_bda8_0242ac1c0002row7_col4,#T_c8d62c18_499e_11ec_bda8_0242ac1c0002row7_col6,#T_c8d62c18_499e_11ec_bda8_0242ac1c0002row7_col8,#T_c8d62c18_499e_11ec_bda8_0242ac1c0002row7_col9,#T_c8d62c18_499e_11ec_bda8_0242ac1c0002row7_col10,#T_c8d62c18_499e_11ec_bda8_0242ac1c0002row7_col11,#T_c8d62c18_499e_11ec_bda8_0242ac1c0002row8_col0,#T_c8d62c18_499e_11ec_bda8_0242ac1c0002row8_col2,#T_c8d62c18_499e_11ec_bda8_0242ac1c0002row8_col6,#T_c8d62c18_499e_11ec_bda8_0242ac1c0002row8_col7,#T_c8d62c18_499e_11ec_bda8_0242ac1c0002row8_col9,#T_c8d62c18_499e_11ec_bda8_0242ac1c0002row8_col10,#T_c8d62c18_499e_11ec_bda8_0242ac1c0002row9_col0,#T_c8d62c18_499e_11ec_bda8_0242ac1c0002row9_col2,#T_c8d62c18_499e_11ec_bda8_0242ac1c0002row9_col3,#T_c8d62c18_499e_11ec_bda8_0242ac1c0002row9_col6,#T_c8d62c18_499e_11ec_bda8_0242ac1c0002row9_col7,#T_c8d62c18_499e_11ec_bda8_0242ac1c0002row9_col8,#T_c8d62c18_499e_11ec_bda8_0242ac1c0002row9_col10,#T_c8d62c18_499e_11ec_bda8_0242ac1c0002row9_col11,#T_c8d62c18_499e_11ec_bda8_0242ac1c0002row10_col0,#T_c8d62c18_499e_11ec_bda8_0242ac1c0002row10_col1,#T_c8d62c18_499e_11ec_bda8_0242ac1c0002row10_col2,#T_c8d62c18_499e_11ec_bda8_0242ac1c0002row10_col6,#T_c8d62c18_499e_11ec_bda8_0242ac1c0002row10_col7,#T_c8d62c18_499e_11ec_bda8_0242ac1c0002row10_col8,#T_c8d62c18_499e_11ec_bda8_0242ac1c0002row11_col0,#T_c8d62c18_499e_11ec_bda8_0242ac1c0002row11_col2,#T_c8d62c18_499e_11ec_bda8_0242ac1c0002row11_col6,#T_c8d62c18_499e_11ec_bda8_0242ac1c0002row11_col7,#T_c8d62c18_499e_11ec_bda8_0242ac1c0002row11_col9{\n",
              "            background-color:  #fff7fb;\n",
              "            color:  #000000;\n",
              "        }#T_c8d62c18_499e_11ec_bda8_0242ac1c0002row0_col3,#T_c8d62c18_499e_11ec_bda8_0242ac1c0002row1_col0,#T_c8d62c18_499e_11ec_bda8_0242ac1c0002row1_col2,#T_c8d62c18_499e_11ec_bda8_0242ac1c0002row1_col3,#T_c8d62c18_499e_11ec_bda8_0242ac1c0002row2_col4,#T_c8d62c18_499e_11ec_bda8_0242ac1c0002row2_col11,#T_c8d62c18_499e_11ec_bda8_0242ac1c0002row4_col10,#T_c8d62c18_499e_11ec_bda8_0242ac1c0002row5_col7,#T_c8d62c18_499e_11ec_bda8_0242ac1c0002row5_col9,#T_c8d62c18_499e_11ec_bda8_0242ac1c0002row5_col11,#T_c8d62c18_499e_11ec_bda8_0242ac1c0002row6_col4,#T_c8d62c18_499e_11ec_bda8_0242ac1c0002row8_col1,#T_c8d62c18_499e_11ec_bda8_0242ac1c0002row8_col5,#T_c8d62c18_499e_11ec_bda8_0242ac1c0002row9_col1,#T_c8d62c18_499e_11ec_bda8_0242ac1c0002row10_col9,#T_c8d62c18_499e_11ec_bda8_0242ac1c0002row11_col8{\n",
              "            background-color:  #fef6fa;\n",
              "            color:  #000000;\n",
              "        }#T_c8d62c18_499e_11ec_bda8_0242ac1c0002row0_col4,#T_c8d62c18_499e_11ec_bda8_0242ac1c0002row1_col4,#T_c8d62c18_499e_11ec_bda8_0242ac1c0002row2_col1,#T_c8d62c18_499e_11ec_bda8_0242ac1c0002row2_col5,#T_c8d62c18_499e_11ec_bda8_0242ac1c0002row3_col0,#T_c8d62c18_499e_11ec_bda8_0242ac1c0002row3_col1,#T_c8d62c18_499e_11ec_bda8_0242ac1c0002row5_col2,#T_c8d62c18_499e_11ec_bda8_0242ac1c0002row9_col4,#T_c8d62c18_499e_11ec_bda8_0242ac1c0002row10_col4,#T_c8d62c18_499e_11ec_bda8_0242ac1c0002row11_col10{\n",
              "            background-color:  #fdf5fa;\n",
              "            color:  #000000;\n",
              "        }#T_c8d62c18_499e_11ec_bda8_0242ac1c0002row0_col5{\n",
              "            background-color:  #faf2f8;\n",
              "            color:  #000000;\n",
              "        }#T_c8d62c18_499e_11ec_bda8_0242ac1c0002row1_col1{\n",
              "            background-color:  #8cb3d5;\n",
              "            color:  #000000;\n",
              "        }#T_c8d62c18_499e_11ec_bda8_0242ac1c0002row1_col5,#T_c8d62c18_499e_11ec_bda8_0242ac1c0002row5_col10,#T_c8d62c18_499e_11ec_bda8_0242ac1c0002row11_col5{\n",
              "            background-color:  #fcf4fa;\n",
              "            color:  #000000;\n",
              "        }#T_c8d62c18_499e_11ec_bda8_0242ac1c0002row2_col2{\n",
              "            background-color:  #b7c5df;\n",
              "            color:  #000000;\n",
              "        }#T_c8d62c18_499e_11ec_bda8_0242ac1c0002row3_col3{\n",
              "            background-color:  #91b5d6;\n",
              "            color:  #000000;\n",
              "        }#T_c8d62c18_499e_11ec_bda8_0242ac1c0002row3_col4,#T_c8d62c18_499e_11ec_bda8_0242ac1c0002row5_col0,#T_c8d62c18_499e_11ec_bda8_0242ac1c0002row9_col5{\n",
              "            background-color:  #fbf3f9;\n",
              "            color:  #000000;\n",
              "        }#T_c8d62c18_499e_11ec_bda8_0242ac1c0002row3_col5{\n",
              "            background-color:  #f7f0f7;\n",
              "            color:  #000000;\n",
              "        }#T_c8d62c18_499e_11ec_bda8_0242ac1c0002row4_col3{\n",
              "            background-color:  #faf3f9;\n",
              "            color:  #000000;\n",
              "        }#T_c8d62c18_499e_11ec_bda8_0242ac1c0002row4_col4{\n",
              "            background-color:  #045280;\n",
              "            color:  #f1f1f1;\n",
              "        }#T_c8d62c18_499e_11ec_bda8_0242ac1c0002row4_col5{\n",
              "            background-color:  #f3edf5;\n",
              "            color:  #000000;\n",
              "        }#T_c8d62c18_499e_11ec_bda8_0242ac1c0002row4_col11,#T_c8d62c18_499e_11ec_bda8_0242ac1c0002row5_col1,#T_c8d62c18_499e_11ec_bda8_0242ac1c0002row5_col3,#T_c8d62c18_499e_11ec_bda8_0242ac1c0002row10_col5{\n",
              "            background-color:  #fbf4f9;\n",
              "            color:  #000000;\n",
              "        }#T_c8d62c18_499e_11ec_bda8_0242ac1c0002row5_col4{\n",
              "            background-color:  #f9f2f8;\n",
              "            color:  #000000;\n",
              "        }#T_c8d62c18_499e_11ec_bda8_0242ac1c0002row5_col5{\n",
              "            background-color:  #023858;\n",
              "            color:  #f1f1f1;\n",
              "        }#T_c8d62c18_499e_11ec_bda8_0242ac1c0002row6_col6{\n",
              "            background-color:  #f6eff7;\n",
              "            color:  #000000;\n",
              "        }#T_c8d62c18_499e_11ec_bda8_0242ac1c0002row7_col7,#T_c8d62c18_499e_11ec_bda8_0242ac1c0002row11_col4{\n",
              "            background-color:  #f8f1f8;\n",
              "            color:  #000000;\n",
              "        }#T_c8d62c18_499e_11ec_bda8_0242ac1c0002row8_col8{\n",
              "            background-color:  #f4edf6;\n",
              "            color:  #000000;\n",
              "        }#T_c8d62c18_499e_11ec_bda8_0242ac1c0002row9_col9{\n",
              "            background-color:  #efe9f3;\n",
              "            color:  #000000;\n",
              "        }#T_c8d62c18_499e_11ec_bda8_0242ac1c0002row10_col10{\n",
              "            background-color:  #dad9ea;\n",
              "            color:  #000000;\n",
              "        }#T_c8d62c18_499e_11ec_bda8_0242ac1c0002row11_col11{\n",
              "            background-color:  #d1d2e6;\n",
              "            color:  #000000;\n",
              "        }</style><table id=\"T_c8d62c18_499e_11ec_bda8_0242ac1c0002\" class=\"dataframe\"><thead>    <tr>        <th class=\"blank level0\" ></th>        <th class=\"col_heading level0 col0\" >Predicted M22-</th>        <th class=\"col_heading level0 col1\" >Predicted M23-26</th>        <th class=\"col_heading level0 col2\" >Predicted M27-28</th>        <th class=\"col_heading level0 col3\" >Predicted M29-31</th>        <th class=\"col_heading level0 col4\" >Predicted M32-38</th>        <th class=\"col_heading level0 col5\" >Predicted M39+</th>        <th class=\"col_heading level0 col6\" >Predicted F23-</th>        <th class=\"col_heading level0 col7\" >Predicted F24-26</th>        <th class=\"col_heading level0 col8\" >Predicted F27-28</th>        <th class=\"col_heading level0 col9\" >Predicted F29-32</th>        <th class=\"col_heading level0 col10\" >Predicted F33-42</th>        <th class=\"col_heading level0 col11\" >Predicted F43+</th>    </tr></thead><tbody>\n",
              "                <tr>\n",
              "                        <th id=\"T_c8d62c18_499e_11ec_bda8_0242ac1c0002level0_row0\" class=\"row_heading level0 row0\" >Actual M22-</th>\n",
              "                        <td id=\"T_c8d62c18_499e_11ec_bda8_0242ac1c0002row0_col0\" class=\"data row0 col0\" >95</td>\n",
              "                        <td id=\"T_c8d62c18_499e_11ec_bda8_0242ac1c0002row0_col1\" class=\"data row0 col1\" >3</td>\n",
              "                        <td id=\"T_c8d62c18_499e_11ec_bda8_0242ac1c0002row0_col2\" class=\"data row0 col2\" >0</td>\n",
              "                        <td id=\"T_c8d62c18_499e_11ec_bda8_0242ac1c0002row0_col3\" class=\"data row0 col3\" >4</td>\n",
              "                        <td id=\"T_c8d62c18_499e_11ec_bda8_0242ac1c0002row0_col4\" class=\"data row0 col4\" >6</td>\n",
              "                        <td id=\"T_c8d62c18_499e_11ec_bda8_0242ac1c0002row0_col5\" class=\"data row0 col5\" >18</td>\n",
              "                        <td id=\"T_c8d62c18_499e_11ec_bda8_0242ac1c0002row0_col6\" class=\"data row0 col6\" >0</td>\n",
              "                        <td id=\"T_c8d62c18_499e_11ec_bda8_0242ac1c0002row0_col7\" class=\"data row0 col7\" >0</td>\n",
              "                        <td id=\"T_c8d62c18_499e_11ec_bda8_0242ac1c0002row0_col8\" class=\"data row0 col8\" >0</td>\n",
              "                        <td id=\"T_c8d62c18_499e_11ec_bda8_0242ac1c0002row0_col9\" class=\"data row0 col9\" >2</td>\n",
              "                        <td id=\"T_c8d62c18_499e_11ec_bda8_0242ac1c0002row0_col10\" class=\"data row0 col10\" >0</td>\n",
              "                        <td id=\"T_c8d62c18_499e_11ec_bda8_0242ac1c0002row0_col11\" class=\"data row0 col11\" >0</td>\n",
              "            </tr>\n",
              "            <tr>\n",
              "                        <th id=\"T_c8d62c18_499e_11ec_bda8_0242ac1c0002level0_row1\" class=\"row_heading level0 row1\" >Actual M23-26</th>\n",
              "                        <td id=\"T_c8d62c18_499e_11ec_bda8_0242ac1c0002row1_col0\" class=\"data row1 col0\" >4</td>\n",
              "                        <td id=\"T_c8d62c18_499e_11ec_bda8_0242ac1c0002row1_col1\" class=\"data row1 col1\" >221</td>\n",
              "                        <td id=\"T_c8d62c18_499e_11ec_bda8_0242ac1c0002row1_col2\" class=\"data row1 col2\" >4</td>\n",
              "                        <td id=\"T_c8d62c18_499e_11ec_bda8_0242ac1c0002row1_col3\" class=\"data row1 col3\" >5</td>\n",
              "                        <td id=\"T_c8d62c18_499e_11ec_bda8_0242ac1c0002row1_col4\" class=\"data row1 col4\" >7</td>\n",
              "                        <td id=\"T_c8d62c18_499e_11ec_bda8_0242ac1c0002row1_col5\" class=\"data row1 col5\" >10</td>\n",
              "                        <td id=\"T_c8d62c18_499e_11ec_bda8_0242ac1c0002row1_col6\" class=\"data row1 col6\" >0</td>\n",
              "                        <td id=\"T_c8d62c18_499e_11ec_bda8_0242ac1c0002row1_col7\" class=\"data row1 col7\" >0</td>\n",
              "                        <td id=\"T_c8d62c18_499e_11ec_bda8_0242ac1c0002row1_col8\" class=\"data row1 col8\" >0</td>\n",
              "                        <td id=\"T_c8d62c18_499e_11ec_bda8_0242ac1c0002row1_col9\" class=\"data row1 col9\" >2</td>\n",
              "                        <td id=\"T_c8d62c18_499e_11ec_bda8_0242ac1c0002row1_col10\" class=\"data row1 col10\" >2</td>\n",
              "                        <td id=\"T_c8d62c18_499e_11ec_bda8_0242ac1c0002row1_col11\" class=\"data row1 col11\" >3</td>\n",
              "            </tr>\n",
              "            <tr>\n",
              "                        <th id=\"T_c8d62c18_499e_11ec_bda8_0242ac1c0002level0_row2\" class=\"row_heading level0 row2\" >Actual M27-28</th>\n",
              "                        <td id=\"T_c8d62c18_499e_11ec_bda8_0242ac1c0002row2_col0\" class=\"data row2 col0\" >3</td>\n",
              "                        <td id=\"T_c8d62c18_499e_11ec_bda8_0242ac1c0002row2_col1\" class=\"data row2 col1\" >6</td>\n",
              "                        <td id=\"T_c8d62c18_499e_11ec_bda8_0242ac1c0002row2_col2\" class=\"data row2 col2\" >163</td>\n",
              "                        <td id=\"T_c8d62c18_499e_11ec_bda8_0242ac1c0002row2_col3\" class=\"data row2 col3\" >1</td>\n",
              "                        <td id=\"T_c8d62c18_499e_11ec_bda8_0242ac1c0002row2_col4\" class=\"data row2 col4\" >5</td>\n",
              "                        <td id=\"T_c8d62c18_499e_11ec_bda8_0242ac1c0002row2_col5\" class=\"data row2 col5\" >8</td>\n",
              "                        <td id=\"T_c8d62c18_499e_11ec_bda8_0242ac1c0002row2_col6\" class=\"data row2 col6\" >0</td>\n",
              "                        <td id=\"T_c8d62c18_499e_11ec_bda8_0242ac1c0002row2_col7\" class=\"data row2 col7\" >0</td>\n",
              "                        <td id=\"T_c8d62c18_499e_11ec_bda8_0242ac1c0002row2_col8\" class=\"data row2 col8\" >0</td>\n",
              "                        <td id=\"T_c8d62c18_499e_11ec_bda8_0242ac1c0002row2_col9\" class=\"data row2 col9\" >0</td>\n",
              "                        <td id=\"T_c8d62c18_499e_11ec_bda8_0242ac1c0002row2_col10\" class=\"data row2 col10\" >1</td>\n",
              "                        <td id=\"T_c8d62c18_499e_11ec_bda8_0242ac1c0002row2_col11\" class=\"data row2 col11\" >5</td>\n",
              "            </tr>\n",
              "            <tr>\n",
              "                        <th id=\"T_c8d62c18_499e_11ec_bda8_0242ac1c0002level0_row3\" class=\"row_heading level0 row3\" >Actual M29-31</th>\n",
              "                        <td id=\"T_c8d62c18_499e_11ec_bda8_0242ac1c0002row3_col0\" class=\"data row3 col0\" >7</td>\n",
              "                        <td id=\"T_c8d62c18_499e_11ec_bda8_0242ac1c0002row3_col1\" class=\"data row3 col1\" >8</td>\n",
              "                        <td id=\"T_c8d62c18_499e_11ec_bda8_0242ac1c0002row3_col2\" class=\"data row3 col2\" >2</td>\n",
              "                        <td id=\"T_c8d62c18_499e_11ec_bda8_0242ac1c0002row3_col3\" class=\"data row3 col3\" >214</td>\n",
              "                        <td id=\"T_c8d62c18_499e_11ec_bda8_0242ac1c0002row3_col4\" class=\"data row3 col4\" >14</td>\n",
              "                        <td id=\"T_c8d62c18_499e_11ec_bda8_0242ac1c0002row3_col5\" class=\"data row3 col5\" >29</td>\n",
              "                        <td id=\"T_c8d62c18_499e_11ec_bda8_0242ac1c0002row3_col6\" class=\"data row3 col6\" >1</td>\n",
              "                        <td id=\"T_c8d62c18_499e_11ec_bda8_0242ac1c0002row3_col7\" class=\"data row3 col7\" >0</td>\n",
              "                        <td id=\"T_c8d62c18_499e_11ec_bda8_0242ac1c0002row3_col8\" class=\"data row3 col8\" >2</td>\n",
              "                        <td id=\"T_c8d62c18_499e_11ec_bda8_0242ac1c0002row3_col9\" class=\"data row3 col9\" >2</td>\n",
              "                        <td id=\"T_c8d62c18_499e_11ec_bda8_0242ac1c0002row3_col10\" class=\"data row3 col10\" >2</td>\n",
              "                        <td id=\"T_c8d62c18_499e_11ec_bda8_0242ac1c0002row3_col11\" class=\"data row3 col11\" >2</td>\n",
              "            </tr>\n",
              "            <tr>\n",
              "                        <th id=\"T_c8d62c18_499e_11ec_bda8_0242ac1c0002level0_row4\" class=\"row_heading level0 row4\" >Actual M32-38</th>\n",
              "                        <td id=\"T_c8d62c18_499e_11ec_bda8_0242ac1c0002row4_col0\" class=\"data row4 col0\" >3</td>\n",
              "                        <td id=\"T_c8d62c18_499e_11ec_bda8_0242ac1c0002row4_col1\" class=\"data row4 col1\" >0</td>\n",
              "                        <td id=\"T_c8d62c18_499e_11ec_bda8_0242ac1c0002row4_col2\" class=\"data row4 col2\" >3</td>\n",
              "                        <td id=\"T_c8d62c18_499e_11ec_bda8_0242ac1c0002row4_col3\" class=\"data row4 col3\" >16</td>\n",
              "                        <td id=\"T_c8d62c18_499e_11ec_bda8_0242ac1c0002row4_col4\" class=\"data row4 col4\" >453</td>\n",
              "                        <td id=\"T_c8d62c18_499e_11ec_bda8_0242ac1c0002row4_col5\" class=\"data row4 col5\" >40</td>\n",
              "                        <td id=\"T_c8d62c18_499e_11ec_bda8_0242ac1c0002row4_col6\" class=\"data row4 col6\" >0</td>\n",
              "                        <td id=\"T_c8d62c18_499e_11ec_bda8_0242ac1c0002row4_col7\" class=\"data row4 col7\" >1</td>\n",
              "                        <td id=\"T_c8d62c18_499e_11ec_bda8_0242ac1c0002row4_col8\" class=\"data row4 col8\" >2</td>\n",
              "                        <td id=\"T_c8d62c18_499e_11ec_bda8_0242ac1c0002row4_col9\" class=\"data row4 col9\" >3</td>\n",
              "                        <td id=\"T_c8d62c18_499e_11ec_bda8_0242ac1c0002row4_col10\" class=\"data row4 col10\" >5</td>\n",
              "                        <td id=\"T_c8d62c18_499e_11ec_bda8_0242ac1c0002row4_col11\" class=\"data row4 col11\" >13</td>\n",
              "            </tr>\n",
              "            <tr>\n",
              "                        <th id=\"T_c8d62c18_499e_11ec_bda8_0242ac1c0002level0_row5\" class=\"row_heading level0 row5\" >Actual M39+</th>\n",
              "                        <td id=\"T_c8d62c18_499e_11ec_bda8_0242ac1c0002row5_col0\" class=\"data row5 col0\" >14</td>\n",
              "                        <td id=\"T_c8d62c18_499e_11ec_bda8_0242ac1c0002row5_col1\" class=\"data row5 col1\" >12</td>\n",
              "                        <td id=\"T_c8d62c18_499e_11ec_bda8_0242ac1c0002row5_col2\" class=\"data row5 col2\" >6</td>\n",
              "                        <td id=\"T_c8d62c18_499e_11ec_bda8_0242ac1c0002row5_col3\" class=\"data row5 col3\" >12</td>\n",
              "                        <td id=\"T_c8d62c18_499e_11ec_bda8_0242ac1c0002row5_col4\" class=\"data row5 col4\" >21</td>\n",
              "                        <td id=\"T_c8d62c18_499e_11ec_bda8_0242ac1c0002row5_col5\" class=\"data row5 col5\" >502</td>\n",
              "                        <td id=\"T_c8d62c18_499e_11ec_bda8_0242ac1c0002row5_col6\" class=\"data row5 col6\" >0</td>\n",
              "                        <td id=\"T_c8d62c18_499e_11ec_bda8_0242ac1c0002row5_col7\" class=\"data row5 col7\" >5</td>\n",
              "                        <td id=\"T_c8d62c18_499e_11ec_bda8_0242ac1c0002row5_col8\" class=\"data row5 col8\" >3</td>\n",
              "                        <td id=\"T_c8d62c18_499e_11ec_bda8_0242ac1c0002row5_col9\" class=\"data row5 col9\" >5</td>\n",
              "                        <td id=\"T_c8d62c18_499e_11ec_bda8_0242ac1c0002row5_col10\" class=\"data row5 col10\" >11</td>\n",
              "                        <td id=\"T_c8d62c18_499e_11ec_bda8_0242ac1c0002row5_col11\" class=\"data row5 col11\" >4</td>\n",
              "            </tr>\n",
              "            <tr>\n",
              "                        <th id=\"T_c8d62c18_499e_11ec_bda8_0242ac1c0002level0_row6\" class=\"row_heading level0 row6\" >Actual F23-</th>\n",
              "                        <td id=\"T_c8d62c18_499e_11ec_bda8_0242ac1c0002row6_col0\" class=\"data row6 col0\" >0</td>\n",
              "                        <td id=\"T_c8d62c18_499e_11ec_bda8_0242ac1c0002row6_col1\" class=\"data row6 col1\" >0</td>\n",
              "                        <td id=\"T_c8d62c18_499e_11ec_bda8_0242ac1c0002row6_col2\" class=\"data row6 col2\" >0</td>\n",
              "                        <td id=\"T_c8d62c18_499e_11ec_bda8_0242ac1c0002row6_col3\" class=\"data row6 col3\" >0</td>\n",
              "                        <td id=\"T_c8d62c18_499e_11ec_bda8_0242ac1c0002row6_col4\" class=\"data row6 col4\" >4</td>\n",
              "                        <td id=\"T_c8d62c18_499e_11ec_bda8_0242ac1c0002row6_col5\" class=\"data row6 col5\" >3</td>\n",
              "                        <td id=\"T_c8d62c18_499e_11ec_bda8_0242ac1c0002row6_col6\" class=\"data row6 col6\" >30</td>\n",
              "                        <td id=\"T_c8d62c18_499e_11ec_bda8_0242ac1c0002row6_col7\" class=\"data row6 col7\" >0</td>\n",
              "                        <td id=\"T_c8d62c18_499e_11ec_bda8_0242ac1c0002row6_col8\" class=\"data row6 col8\" >0</td>\n",
              "                        <td id=\"T_c8d62c18_499e_11ec_bda8_0242ac1c0002row6_col9\" class=\"data row6 col9\" >0</td>\n",
              "                        <td id=\"T_c8d62c18_499e_11ec_bda8_0242ac1c0002row6_col10\" class=\"data row6 col10\" >2</td>\n",
              "                        <td id=\"T_c8d62c18_499e_11ec_bda8_0242ac1c0002row6_col11\" class=\"data row6 col11\" >0</td>\n",
              "            </tr>\n",
              "            <tr>\n",
              "                        <th id=\"T_c8d62c18_499e_11ec_bda8_0242ac1c0002level0_row7\" class=\"row_heading level0 row7\" >Actual F24-26</th>\n",
              "                        <td id=\"T_c8d62c18_499e_11ec_bda8_0242ac1c0002row7_col0\" class=\"data row7 col0\" >0</td>\n",
              "                        <td id=\"T_c8d62c18_499e_11ec_bda8_0242ac1c0002row7_col1\" class=\"data row7 col1\" >0</td>\n",
              "                        <td id=\"T_c8d62c18_499e_11ec_bda8_0242ac1c0002row7_col2\" class=\"data row7 col2\" >0</td>\n",
              "                        <td id=\"T_c8d62c18_499e_11ec_bda8_0242ac1c0002row7_col3\" class=\"data row7 col3\" >0</td>\n",
              "                        <td id=\"T_c8d62c18_499e_11ec_bda8_0242ac1c0002row7_col4\" class=\"data row7 col4\" >1</td>\n",
              "                        <td id=\"T_c8d62c18_499e_11ec_bda8_0242ac1c0002row7_col5\" class=\"data row7 col5\" >2</td>\n",
              "                        <td id=\"T_c8d62c18_499e_11ec_bda8_0242ac1c0002row7_col6\" class=\"data row7 col6\" >0</td>\n",
              "                        <td id=\"T_c8d62c18_499e_11ec_bda8_0242ac1c0002row7_col7\" class=\"data row7 col7\" >25</td>\n",
              "                        <td id=\"T_c8d62c18_499e_11ec_bda8_0242ac1c0002row7_col8\" class=\"data row7 col8\" >0</td>\n",
              "                        <td id=\"T_c8d62c18_499e_11ec_bda8_0242ac1c0002row7_col9\" class=\"data row7 col9\" >0</td>\n",
              "                        <td id=\"T_c8d62c18_499e_11ec_bda8_0242ac1c0002row7_col10\" class=\"data row7 col10\" >1</td>\n",
              "                        <td id=\"T_c8d62c18_499e_11ec_bda8_0242ac1c0002row7_col11\" class=\"data row7 col11\" >0</td>\n",
              "            </tr>\n",
              "            <tr>\n",
              "                        <th id=\"T_c8d62c18_499e_11ec_bda8_0242ac1c0002level0_row8\" class=\"row_heading level0 row8\" >Actual F27-28</th>\n",
              "                        <td id=\"T_c8d62c18_499e_11ec_bda8_0242ac1c0002row8_col0\" class=\"data row8 col0\" >0</td>\n",
              "                        <td id=\"T_c8d62c18_499e_11ec_bda8_0242ac1c0002row8_col1\" class=\"data row8 col1\" >5</td>\n",
              "                        <td id=\"T_c8d62c18_499e_11ec_bda8_0242ac1c0002row8_col2\" class=\"data row8 col2\" >1</td>\n",
              "                        <td id=\"T_c8d62c18_499e_11ec_bda8_0242ac1c0002row8_col3\" class=\"data row8 col3\" >2</td>\n",
              "                        <td id=\"T_c8d62c18_499e_11ec_bda8_0242ac1c0002row8_col4\" class=\"data row8 col4\" >2</td>\n",
              "                        <td id=\"T_c8d62c18_499e_11ec_bda8_0242ac1c0002row8_col5\" class=\"data row8 col5\" >5</td>\n",
              "                        <td id=\"T_c8d62c18_499e_11ec_bda8_0242ac1c0002row8_col6\" class=\"data row8 col6\" >0</td>\n",
              "                        <td id=\"T_c8d62c18_499e_11ec_bda8_0242ac1c0002row8_col7\" class=\"data row8 col7\" >0</td>\n",
              "                        <td id=\"T_c8d62c18_499e_11ec_bda8_0242ac1c0002row8_col8\" class=\"data row8 col8\" >39</td>\n",
              "                        <td id=\"T_c8d62c18_499e_11ec_bda8_0242ac1c0002row8_col9\" class=\"data row8 col9\" >0</td>\n",
              "                        <td id=\"T_c8d62c18_499e_11ec_bda8_0242ac1c0002row8_col10\" class=\"data row8 col10\" >0</td>\n",
              "                        <td id=\"T_c8d62c18_499e_11ec_bda8_0242ac1c0002row8_col11\" class=\"data row8 col11\" >3</td>\n",
              "            </tr>\n",
              "            <tr>\n",
              "                        <th id=\"T_c8d62c18_499e_11ec_bda8_0242ac1c0002level0_row9\" class=\"row_heading level0 row9\" >Actual F29-32</th>\n",
              "                        <td id=\"T_c8d62c18_499e_11ec_bda8_0242ac1c0002row9_col0\" class=\"data row9 col0\" >1</td>\n",
              "                        <td id=\"T_c8d62c18_499e_11ec_bda8_0242ac1c0002row9_col1\" class=\"data row9 col1\" >4</td>\n",
              "                        <td id=\"T_c8d62c18_499e_11ec_bda8_0242ac1c0002row9_col2\" class=\"data row9 col2\" >1</td>\n",
              "                        <td id=\"T_c8d62c18_499e_11ec_bda8_0242ac1c0002row9_col3\" class=\"data row9 col3\" >0</td>\n",
              "                        <td id=\"T_c8d62c18_499e_11ec_bda8_0242ac1c0002row9_col4\" class=\"data row9 col4\" >6</td>\n",
              "                        <td id=\"T_c8d62c18_499e_11ec_bda8_0242ac1c0002row9_col5\" class=\"data row9 col5\" >14</td>\n",
              "                        <td id=\"T_c8d62c18_499e_11ec_bda8_0242ac1c0002row9_col6\" class=\"data row9 col6\" >0</td>\n",
              "                        <td id=\"T_c8d62c18_499e_11ec_bda8_0242ac1c0002row9_col7\" class=\"data row9 col7\" >0</td>\n",
              "                        <td id=\"T_c8d62c18_499e_11ec_bda8_0242ac1c0002row9_col8\" class=\"data row9 col8\" >0</td>\n",
              "                        <td id=\"T_c8d62c18_499e_11ec_bda8_0242ac1c0002row9_col9\" class=\"data row9 col9\" >54</td>\n",
              "                        <td id=\"T_c8d62c18_499e_11ec_bda8_0242ac1c0002row9_col10\" class=\"data row9 col10\" >1</td>\n",
              "                        <td id=\"T_c8d62c18_499e_11ec_bda8_0242ac1c0002row9_col11\" class=\"data row9 col11\" >0</td>\n",
              "            </tr>\n",
              "            <tr>\n",
              "                        <th id=\"T_c8d62c18_499e_11ec_bda8_0242ac1c0002level0_row10\" class=\"row_heading level0 row10\" >Actual F33-42</th>\n",
              "                        <td id=\"T_c8d62c18_499e_11ec_bda8_0242ac1c0002row10_col0\" class=\"data row10 col0\" >1</td>\n",
              "                        <td id=\"T_c8d62c18_499e_11ec_bda8_0242ac1c0002row10_col1\" class=\"data row10 col1\" >1</td>\n",
              "                        <td id=\"T_c8d62c18_499e_11ec_bda8_0242ac1c0002row10_col2\" class=\"data row10 col2\" >0</td>\n",
              "                        <td id=\"T_c8d62c18_499e_11ec_bda8_0242ac1c0002row10_col3\" class=\"data row10 col3\" >3</td>\n",
              "                        <td id=\"T_c8d62c18_499e_11ec_bda8_0242ac1c0002row10_col4\" class=\"data row10 col4\" >9</td>\n",
              "                        <td id=\"T_c8d62c18_499e_11ec_bda8_0242ac1c0002row10_col5\" class=\"data row10 col5\" >12</td>\n",
              "                        <td id=\"T_c8d62c18_499e_11ec_bda8_0242ac1c0002row10_col6\" class=\"data row10 col6\" >1</td>\n",
              "                        <td id=\"T_c8d62c18_499e_11ec_bda8_0242ac1c0002row10_col7\" class=\"data row10 col7\" >1</td>\n",
              "                        <td id=\"T_c8d62c18_499e_11ec_bda8_0242ac1c0002row10_col8\" class=\"data row10 col8\" >0</td>\n",
              "                        <td id=\"T_c8d62c18_499e_11ec_bda8_0242ac1c0002row10_col9\" class=\"data row10 col9\" >4</td>\n",
              "                        <td id=\"T_c8d62c18_499e_11ec_bda8_0242ac1c0002row10_col10\" class=\"data row10 col10\" >103</td>\n",
              "                        <td id=\"T_c8d62c18_499e_11ec_bda8_0242ac1c0002row10_col11\" class=\"data row10 col11\" >2</td>\n",
              "            </tr>\n",
              "            <tr>\n",
              "                        <th id=\"T_c8d62c18_499e_11ec_bda8_0242ac1c0002level0_row11\" class=\"row_heading level0 row11\" >Actual F43+</th>\n",
              "                        <td id=\"T_c8d62c18_499e_11ec_bda8_0242ac1c0002row11_col0\" class=\"data row11 col0\" >0</td>\n",
              "                        <td id=\"T_c8d62c18_499e_11ec_bda8_0242ac1c0002row11_col1\" class=\"data row11 col1\" >2</td>\n",
              "                        <td id=\"T_c8d62c18_499e_11ec_bda8_0242ac1c0002row11_col2\" class=\"data row11 col2\" >0</td>\n",
              "                        <td id=\"T_c8d62c18_499e_11ec_bda8_0242ac1c0002row11_col3\" class=\"data row11 col3\" >3</td>\n",
              "                        <td id=\"T_c8d62c18_499e_11ec_bda8_0242ac1c0002row11_col4\" class=\"data row11 col4\" >22</td>\n",
              "                        <td id=\"T_c8d62c18_499e_11ec_bda8_0242ac1c0002row11_col5\" class=\"data row11 col5\" >10</td>\n",
              "                        <td id=\"T_c8d62c18_499e_11ec_bda8_0242ac1c0002row11_col6\" class=\"data row11 col6\" >0</td>\n",
              "                        <td id=\"T_c8d62c18_499e_11ec_bda8_0242ac1c0002row11_col7\" class=\"data row11 col7\" >0</td>\n",
              "                        <td id=\"T_c8d62c18_499e_11ec_bda8_0242ac1c0002row11_col8\" class=\"data row11 col8\" >4</td>\n",
              "                        <td id=\"T_c8d62c18_499e_11ec_bda8_0242ac1c0002row11_col9\" class=\"data row11 col9\" >0</td>\n",
              "                        <td id=\"T_c8d62c18_499e_11ec_bda8_0242ac1c0002row11_col10\" class=\"data row11 col10\" >8</td>\n",
              "                        <td id=\"T_c8d62c18_499e_11ec_bda8_0242ac1c0002row11_col11\" class=\"data row11 col11\" >124</td>\n",
              "            </tr>\n",
              "    </tbody></table>"
            ],
            "text/plain": [
              "<pandas.io.formats.style.Styler at 0x7f3d0a6a9e50>"
            ]
          },
          "metadata": {},
          "execution_count": 58
        }
      ]
    },
    {
      "cell_type": "code",
      "metadata": {
        "colab": {
          "base_uri": "https://localhost:8080/"
        },
        "id": "Oe3Tb5To3rAA",
        "outputId": "d5d38dc2-ae1b-4da9-c7d8-f0025063cf77"
      },
      "source": [
        "print(\"Classification Report:\")\n",
        "print()\n",
        "print(classification_report(y_test, y_pred))\n"
      ],
      "execution_count": null,
      "outputs": [
        {
          "output_type": "stream",
          "name": "stdout",
          "text": [
            "Classification Report:\n",
            "\n",
            "              precision    recall  f1-score   support\n",
            "\n",
            "           0       0.74      0.74      0.74       128\n",
            "           1       0.84      0.86      0.85       258\n",
            "           2       0.91      0.85      0.88       192\n",
            "           3       0.82      0.76      0.79       283\n",
            "           4       0.82      0.84      0.83       539\n",
            "           5       0.77      0.84      0.80       595\n",
            "           6       0.94      0.77      0.85        39\n",
            "           7       0.78      0.86      0.82        29\n",
            "           8       0.78      0.68      0.73        57\n",
            "           9       0.75      0.67      0.71        81\n",
            "          10       0.76      0.75      0.75       137\n",
            "          11       0.79      0.72      0.75       173\n",
            "\n",
            "    accuracy                           0.81      2511\n",
            "   macro avg       0.81      0.78      0.79      2511\n",
            "weighted avg       0.81      0.81      0.81      2511\n",
            "\n"
          ]
        }
      ]
    },
    {
      "cell_type": "code",
      "metadata": {
        "id": "qp7lD1Jo3rET"
      },
      "source": [
        "def multiclass_roc_auc_score(y_test, y_pred, average=\"macro\"):\n",
        "  lb = LabelBinarizer()\n",
        "  lb.fit(y_test)\n",
        "  y_test = lb.transform(y_test)\n",
        "  y_pred = lb.transform(y_pred)\n",
        "  return roc_auc_score(y_test, y_pred, average=average)\n"
      ],
      "execution_count": null,
      "outputs": []
    },
    {
      "cell_type": "code",
      "metadata": {
        "colab": {
          "base_uri": "https://localhost:8080/"
        },
        "id": "zDL5p2F64Hn5",
        "outputId": "acc55e3c-dbd6-4219-f7c6-01d8775db751"
      },
      "source": [
        "multiclass_roc_auc_score(y_test, y_pred, average=\"macro\")"
      ],
      "execution_count": null,
      "outputs": [
        {
          "output_type": "execute_result",
          "data": {
            "text/plain": [
              "0.8794874039412083"
            ]
          },
          "metadata": {},
          "execution_count": 61
        }
      ]
    },
    {
      "cell_type": "markdown",
      "metadata": {
        "id": "hk9z2ZYG5wHg"
      },
      "source": [
        "# KNN Classifier"
      ]
    },
    {
      "cell_type": "code",
      "metadata": {
        "id": "IuPR52NP5yHu"
      },
      "source": [
        "pipeline = Pipeline(\n",
        "    [\n",
        "        (\"scaler\", StandardScaler()),\n",
        "        (\"pca\", PCA(n_components=n_components)),\n",
        "        (\"knn\", KNeighborsClassifier()),\n",
        "    ]\n",
        ")\n",
        "pipeline = pipeline.fit(X_train, y_train)\n"
      ],
      "execution_count": null,
      "outputs": []
    },
    {
      "cell_type": "code",
      "metadata": {
        "colab": {
          "base_uri": "https://localhost:8080/"
        },
        "id": "p9d6COWp5yKj",
        "outputId": "d9bc3b8e-2ed6-4a63-f65c-c207ad0b60f4"
      },
      "source": [
        "grid = {\n",
        "    \"knn__n_neighbors\": [50, 100, 150],\n",
        "    \"knn__weights\": [\"distance\"],\n",
        "    \"knn__leaf_size\": [1, 10, 20],\n",
        "}\n",
        "\n",
        "model = GridSearchCV(pipeline, grid, n_jobs=-1, cv=2, verbose=2)\n",
        "model.fit(X_train, y_train)\n"
      ],
      "execution_count": null,
      "outputs": [
        {
          "output_type": "stream",
          "name": "stdout",
          "text": [
            "Fitting 2 folds for each of 9 candidates, totalling 18 fits\n"
          ]
        },
        {
          "output_type": "execute_result",
          "data": {
            "text/plain": [
              "GridSearchCV(cv=2,\n",
              "             estimator=Pipeline(steps=[('scaler', StandardScaler()),\n",
              "                                       ('pca', PCA(n_components=48)),\n",
              "                                       ('knn', KNeighborsClassifier())]),\n",
              "             n_jobs=-1,\n",
              "             param_grid={'knn__leaf_size': [1, 10, 20],\n",
              "                         'knn__n_neighbors': [50, 100, 150],\n",
              "                         'knn__weights': ['distance']},\n",
              "             verbose=2)"
            ]
          },
          "metadata": {},
          "execution_count": 63
        }
      ]
    },
    {
      "cell_type": "code",
      "metadata": {
        "colab": {
          "base_uri": "https://localhost:8080/"
        },
        "id": "PdgjVDej5yNc",
        "outputId": "3aa55c3e-5b32-4d31-8123-e7113f68d9a9"
      },
      "source": [
        "model.best_params_\n"
      ],
      "execution_count": null,
      "outputs": [
        {
          "output_type": "execute_result",
          "data": {
            "text/plain": [
              "{'knn__leaf_size': 10, 'knn__n_neighbors': 150, 'knn__weights': 'distance'}"
            ]
          },
          "metadata": {},
          "execution_count": 64
        }
      ]
    },
    {
      "cell_type": "code",
      "metadata": {
        "colab": {
          "base_uri": "https://localhost:8080/"
        },
        "id": "atuBEpjo5yPA",
        "outputId": "14d5abd9-42ba-46fe-ad5f-cebffaad6f18"
      },
      "source": [
        "# Model still appears to be extremely overfitting\n",
        "train_score = model.score(X_train, y_train)\n",
        "test_score = model.score(X_test, y_test)\n",
        "\n",
        "print(f\"Train score: {train_score}\")\n",
        "print(f\"Test score: {test_score}\")"
      ],
      "execution_count": null,
      "outputs": [
        {
          "output_type": "stream",
          "name": "stdout",
          "text": [
            "Train score: 0.9955179282868526\n",
            "Test score: 0.7678215850258862\n"
          ]
        }
      ]
    },
    {
      "cell_type": "code",
      "metadata": {
        "colab": {
          "base_uri": "https://localhost:8080/",
          "height": 425
        },
        "id": "7tV5dH5n6AAH",
        "outputId": "d08e3ef4-029f-4a0f-c76a-854ee6e72759"
      },
      "source": [
        "y_pred = model.predict(X_test)\n",
        "\n",
        "con_mat = pd.DataFrame(\n",
        "    confusion_matrix(y_test, y_pred),\n",
        "    index=[\n",
        "        \"Actual M22-\",\n",
        "        \"Actual M23-26\",\n",
        "        \"Actual M27-28\",\n",
        "        \"Actual M29-31\",\n",
        "        \"Actual M32-38\",\n",
        "        \"Actual M39+\",\n",
        "        \"Actual F23-\",\n",
        "        \"Actual F24-26\",\n",
        "        \"Actual F27-28\",\n",
        "        \"Actual F29-32\",\n",
        "        \"Actual F33-42\",\n",
        "        \"Actual F43+\",\n",
        "    ],\n",
        "    columns=[\n",
        "        \"Predicted M22-\",\n",
        "        \"Predicted M23-26\",\n",
        "        \"Predicted M27-28\",\n",
        "        \"Predicted M29-31\",\n",
        "        \"Predicted M32-38\",\n",
        "        \"Predicted M39+\",\n",
        "        \"Predicted F23-\",\n",
        "        \"Predicted F24-26\",\n",
        "        \"Predicted F27-28\",\n",
        "        \"Predicted F29-32\",\n",
        "        \"Predicted F33-42\",\n",
        "        \"Predicted F43+\",\n",
        "    ],\n",
        ")\n",
        "con_mat.style.background_gradient(axis=None)\n"
      ],
      "execution_count": null,
      "outputs": [
        {
          "output_type": "execute_result",
          "data": {
            "text/html": [
              "<style  type=\"text/css\" >\n",
              "#T_365d9d5c_499f_11ec_bda8_0242ac1c0002row0_col0{\n",
              "            background-color:  #e5e1ef;\n",
              "            color:  #000000;\n",
              "        }#T_365d9d5c_499f_11ec_bda8_0242ac1c0002row0_col1,#T_365d9d5c_499f_11ec_bda8_0242ac1c0002row0_col3,#T_365d9d5c_499f_11ec_bda8_0242ac1c0002row0_col7,#T_365d9d5c_499f_11ec_bda8_0242ac1c0002row1_col0,#T_365d9d5c_499f_11ec_bda8_0242ac1c0002row1_col9,#T_365d9d5c_499f_11ec_bda8_0242ac1c0002row1_col10,#T_365d9d5c_499f_11ec_bda8_0242ac1c0002row2_col3,#T_365d9d5c_499f_11ec_bda8_0242ac1c0002row2_col10,#T_365d9d5c_499f_11ec_bda8_0242ac1c0002row2_col11,#T_365d9d5c_499f_11ec_bda8_0242ac1c0002row4_col11,#T_365d9d5c_499f_11ec_bda8_0242ac1c0002row6_col4,#T_365d9d5c_499f_11ec_bda8_0242ac1c0002row8_col4,#T_365d9d5c_499f_11ec_bda8_0242ac1c0002row8_col11,#T_365d9d5c_499f_11ec_bda8_0242ac1c0002row9_col2,#T_365d9d5c_499f_11ec_bda8_0242ac1c0002row9_col4,#T_365d9d5c_499f_11ec_bda8_0242ac1c0002row10_col6,#T_365d9d5c_499f_11ec_bda8_0242ac1c0002row11_col8,#T_365d9d5c_499f_11ec_bda8_0242ac1c0002row11_col10{\n",
              "            background-color:  #fef6fb;\n",
              "            color:  #000000;\n",
              "        }#T_365d9d5c_499f_11ec_bda8_0242ac1c0002row0_col2,#T_365d9d5c_499f_11ec_bda8_0242ac1c0002row0_col6,#T_365d9d5c_499f_11ec_bda8_0242ac1c0002row0_col8,#T_365d9d5c_499f_11ec_bda8_0242ac1c0002row0_col9,#T_365d9d5c_499f_11ec_bda8_0242ac1c0002row0_col10,#T_365d9d5c_499f_11ec_bda8_0242ac1c0002row0_col11,#T_365d9d5c_499f_11ec_bda8_0242ac1c0002row1_col2,#T_365d9d5c_499f_11ec_bda8_0242ac1c0002row1_col3,#T_365d9d5c_499f_11ec_bda8_0242ac1c0002row1_col6,#T_365d9d5c_499f_11ec_bda8_0242ac1c0002row1_col7,#T_365d9d5c_499f_11ec_bda8_0242ac1c0002row1_col8,#T_365d9d5c_499f_11ec_bda8_0242ac1c0002row1_col11,#T_365d9d5c_499f_11ec_bda8_0242ac1c0002row2_col0,#T_365d9d5c_499f_11ec_bda8_0242ac1c0002row2_col6,#T_365d9d5c_499f_11ec_bda8_0242ac1c0002row2_col7,#T_365d9d5c_499f_11ec_bda8_0242ac1c0002row2_col8,#T_365d9d5c_499f_11ec_bda8_0242ac1c0002row2_col9,#T_365d9d5c_499f_11ec_bda8_0242ac1c0002row3_col2,#T_365d9d5c_499f_11ec_bda8_0242ac1c0002row3_col6,#T_365d9d5c_499f_11ec_bda8_0242ac1c0002row3_col7,#T_365d9d5c_499f_11ec_bda8_0242ac1c0002row3_col8,#T_365d9d5c_499f_11ec_bda8_0242ac1c0002row3_col9,#T_365d9d5c_499f_11ec_bda8_0242ac1c0002row3_col10,#T_365d9d5c_499f_11ec_bda8_0242ac1c0002row3_col11,#T_365d9d5c_499f_11ec_bda8_0242ac1c0002row4_col0,#T_365d9d5c_499f_11ec_bda8_0242ac1c0002row4_col1,#T_365d9d5c_499f_11ec_bda8_0242ac1c0002row4_col2,#T_365d9d5c_499f_11ec_bda8_0242ac1c0002row4_col6,#T_365d9d5c_499f_11ec_bda8_0242ac1c0002row4_col7,#T_365d9d5c_499f_11ec_bda8_0242ac1c0002row4_col8,#T_365d9d5c_499f_11ec_bda8_0242ac1c0002row4_col10,#T_365d9d5c_499f_11ec_bda8_0242ac1c0002row5_col2,#T_365d9d5c_499f_11ec_bda8_0242ac1c0002row5_col6,#T_365d9d5c_499f_11ec_bda8_0242ac1c0002row5_col7,#T_365d9d5c_499f_11ec_bda8_0242ac1c0002row5_col8,#T_365d9d5c_499f_11ec_bda8_0242ac1c0002row5_col11,#T_365d9d5c_499f_11ec_bda8_0242ac1c0002row6_col0,#T_365d9d5c_499f_11ec_bda8_0242ac1c0002row6_col1,#T_365d9d5c_499f_11ec_bda8_0242ac1c0002row6_col2,#T_365d9d5c_499f_11ec_bda8_0242ac1c0002row6_col3,#T_365d9d5c_499f_11ec_bda8_0242ac1c0002row6_col7,#T_365d9d5c_499f_11ec_bda8_0242ac1c0002row6_col8,#T_365d9d5c_499f_11ec_bda8_0242ac1c0002row6_col9,#T_365d9d5c_499f_11ec_bda8_0242ac1c0002row6_col10,#T_365d9d5c_499f_11ec_bda8_0242ac1c0002row6_col11,#T_365d9d5c_499f_11ec_bda8_0242ac1c0002row7_col0,#T_365d9d5c_499f_11ec_bda8_0242ac1c0002row7_col1,#T_365d9d5c_499f_11ec_bda8_0242ac1c0002row7_col2,#T_365d9d5c_499f_11ec_bda8_0242ac1c0002row7_col3,#T_365d9d5c_499f_11ec_bda8_0242ac1c0002row7_col4,#T_365d9d5c_499f_11ec_bda8_0242ac1c0002row7_col6,#T_365d9d5c_499f_11ec_bda8_0242ac1c0002row7_col8,#T_365d9d5c_499f_11ec_bda8_0242ac1c0002row7_col9,#T_365d9d5c_499f_11ec_bda8_0242ac1c0002row7_col10,#T_365d9d5c_499f_11ec_bda8_0242ac1c0002row7_col11,#T_365d9d5c_499f_11ec_bda8_0242ac1c0002row8_col0,#T_365d9d5c_499f_11ec_bda8_0242ac1c0002row8_col2,#T_365d9d5c_499f_11ec_bda8_0242ac1c0002row8_col3,#T_365d9d5c_499f_11ec_bda8_0242ac1c0002row8_col6,#T_365d9d5c_499f_11ec_bda8_0242ac1c0002row8_col7,#T_365d9d5c_499f_11ec_bda8_0242ac1c0002row8_col9,#T_365d9d5c_499f_11ec_bda8_0242ac1c0002row8_col10,#T_365d9d5c_499f_11ec_bda8_0242ac1c0002row9_col0,#T_365d9d5c_499f_11ec_bda8_0242ac1c0002row9_col6,#T_365d9d5c_499f_11ec_bda8_0242ac1c0002row9_col7,#T_365d9d5c_499f_11ec_bda8_0242ac1c0002row9_col8,#T_365d9d5c_499f_11ec_bda8_0242ac1c0002row9_col10,#T_365d9d5c_499f_11ec_bda8_0242ac1c0002row9_col11,#T_365d9d5c_499f_11ec_bda8_0242ac1c0002row10_col0,#T_365d9d5c_499f_11ec_bda8_0242ac1c0002row10_col1,#T_365d9d5c_499f_11ec_bda8_0242ac1c0002row10_col2,#T_365d9d5c_499f_11ec_bda8_0242ac1c0002row10_col3,#T_365d9d5c_499f_11ec_bda8_0242ac1c0002row10_col7,#T_365d9d5c_499f_11ec_bda8_0242ac1c0002row10_col8,#T_365d9d5c_499f_11ec_bda8_0242ac1c0002row10_col11,#T_365d9d5c_499f_11ec_bda8_0242ac1c0002row11_col0,#T_365d9d5c_499f_11ec_bda8_0242ac1c0002row11_col2,#T_365d9d5c_499f_11ec_bda8_0242ac1c0002row11_col3,#T_365d9d5c_499f_11ec_bda8_0242ac1c0002row11_col6,#T_365d9d5c_499f_11ec_bda8_0242ac1c0002row11_col7,#T_365d9d5c_499f_11ec_bda8_0242ac1c0002row11_col9{\n",
              "            background-color:  #fff7fb;\n",
              "            color:  #000000;\n",
              "        }#T_365d9d5c_499f_11ec_bda8_0242ac1c0002row0_col4,#T_365d9d5c_499f_11ec_bda8_0242ac1c0002row5_col1{\n",
              "            background-color:  #fbf4f9;\n",
              "            color:  #000000;\n",
              "        }#T_365d9d5c_499f_11ec_bda8_0242ac1c0002row0_col5,#T_365d9d5c_499f_11ec_bda8_0242ac1c0002row7_col7{\n",
              "            background-color:  #f9f2f8;\n",
              "            color:  #000000;\n",
              "        }#T_365d9d5c_499f_11ec_bda8_0242ac1c0002row1_col1{\n",
              "            background-color:  #a1bbda;\n",
              "            color:  #000000;\n",
              "        }#T_365d9d5c_499f_11ec_bda8_0242ac1c0002row1_col4{\n",
              "            background-color:  #faf3f9;\n",
              "            color:  #000000;\n",
              "        }#T_365d9d5c_499f_11ec_bda8_0242ac1c0002row1_col5,#T_365d9d5c_499f_11ec_bda8_0242ac1c0002row2_col5,#T_365d9d5c_499f_11ec_bda8_0242ac1c0002row10_col5{\n",
              "            background-color:  #f8f1f8;\n",
              "            color:  #000000;\n",
              "        }#T_365d9d5c_499f_11ec_bda8_0242ac1c0002row2_col1,#T_365d9d5c_499f_11ec_bda8_0242ac1c0002row4_col9,#T_365d9d5c_499f_11ec_bda8_0242ac1c0002row5_col9,#T_365d9d5c_499f_11ec_bda8_0242ac1c0002row9_col1,#T_365d9d5c_499f_11ec_bda8_0242ac1c0002row10_col4{\n",
              "            background-color:  #fdf5fa;\n",
              "            color:  #000000;\n",
              "        }#T_365d9d5c_499f_11ec_bda8_0242ac1c0002row2_col2{\n",
              "            background-color:  #c6cce3;\n",
              "            color:  #000000;\n",
              "        }#T_365d9d5c_499f_11ec_bda8_0242ac1c0002row2_col4,#T_365d9d5c_499f_11ec_bda8_0242ac1c0002row3_col0,#T_365d9d5c_499f_11ec_bda8_0242ac1c0002row4_col3,#T_365d9d5c_499f_11ec_bda8_0242ac1c0002row5_col3,#T_365d9d5c_499f_11ec_bda8_0242ac1c0002row5_col10,#T_365d9d5c_499f_11ec_bda8_0242ac1c0002row6_col5,#T_365d9d5c_499f_11ec_bda8_0242ac1c0002row7_col5,#T_365d9d5c_499f_11ec_bda8_0242ac1c0002row8_col1,#T_365d9d5c_499f_11ec_bda8_0242ac1c0002row8_col5,#T_365d9d5c_499f_11ec_bda8_0242ac1c0002row9_col3,#T_365d9d5c_499f_11ec_bda8_0242ac1c0002row10_col9,#T_365d9d5c_499f_11ec_bda8_0242ac1c0002row11_col1{\n",
              "            background-color:  #fef6fa;\n",
              "            color:  #000000;\n",
              "        }#T_365d9d5c_499f_11ec_bda8_0242ac1c0002row3_col1,#T_365d9d5c_499f_11ec_bda8_0242ac1c0002row5_col0{\n",
              "            background-color:  #fcf4fa;\n",
              "            color:  #000000;\n",
              "        }#T_365d9d5c_499f_11ec_bda8_0242ac1c0002row3_col3{\n",
              "            background-color:  #a5bddb;\n",
              "            color:  #000000;\n",
              "        }#T_365d9d5c_499f_11ec_bda8_0242ac1c0002row3_col4,#T_365d9d5c_499f_11ec_bda8_0242ac1c0002row6_col6{\n",
              "            background-color:  #f7f0f7;\n",
              "            color:  #000000;\n",
              "        }#T_365d9d5c_499f_11ec_bda8_0242ac1c0002row3_col5,#T_365d9d5c_499f_11ec_bda8_0242ac1c0002row9_col9{\n",
              "            background-color:  #f2ecf5;\n",
              "            color:  #000000;\n",
              "        }#T_365d9d5c_499f_11ec_bda8_0242ac1c0002row4_col4{\n",
              "            background-color:  #045483;\n",
              "            color:  #f1f1f1;\n",
              "        }#T_365d9d5c_499f_11ec_bda8_0242ac1c0002row4_col5{\n",
              "            background-color:  #eee9f3;\n",
              "            color:  #000000;\n",
              "        }#T_365d9d5c_499f_11ec_bda8_0242ac1c0002row5_col4{\n",
              "            background-color:  #f5eff6;\n",
              "            color:  #000000;\n",
              "        }#T_365d9d5c_499f_11ec_bda8_0242ac1c0002row5_col5{\n",
              "            background-color:  #023858;\n",
              "            color:  #f1f1f1;\n",
              "        }#T_365d9d5c_499f_11ec_bda8_0242ac1c0002row8_col8{\n",
              "            background-color:  #f4eef6;\n",
              "            color:  #000000;\n",
              "        }#T_365d9d5c_499f_11ec_bda8_0242ac1c0002row9_col5{\n",
              "            background-color:  #fbf3f9;\n",
              "            color:  #000000;\n",
              "        }#T_365d9d5c_499f_11ec_bda8_0242ac1c0002row10_col10{\n",
              "            background-color:  #e0deed;\n",
              "            color:  #000000;\n",
              "        }#T_365d9d5c_499f_11ec_bda8_0242ac1c0002row11_col4{\n",
              "            background-color:  #faf2f8;\n",
              "            color:  #000000;\n",
              "        }#T_365d9d5c_499f_11ec_bda8_0242ac1c0002row11_col5{\n",
              "            background-color:  #f6eff7;\n",
              "            color:  #000000;\n",
              "        }#T_365d9d5c_499f_11ec_bda8_0242ac1c0002row11_col11{\n",
              "            background-color:  #d9d8ea;\n",
              "            color:  #000000;\n",
              "        }</style><table id=\"T_365d9d5c_499f_11ec_bda8_0242ac1c0002\" class=\"dataframe\"><thead>    <tr>        <th class=\"blank level0\" ></th>        <th class=\"col_heading level0 col0\" >Predicted M22-</th>        <th class=\"col_heading level0 col1\" >Predicted M23-26</th>        <th class=\"col_heading level0 col2\" >Predicted M27-28</th>        <th class=\"col_heading level0 col3\" >Predicted M29-31</th>        <th class=\"col_heading level0 col4\" >Predicted M32-38</th>        <th class=\"col_heading level0 col5\" >Predicted M39+</th>        <th class=\"col_heading level0 col6\" >Predicted F23-</th>        <th class=\"col_heading level0 col7\" >Predicted F24-26</th>        <th class=\"col_heading level0 col8\" >Predicted F27-28</th>        <th class=\"col_heading level0 col9\" >Predicted F29-32</th>        <th class=\"col_heading level0 col10\" >Predicted F33-42</th>        <th class=\"col_heading level0 col11\" >Predicted F43+</th>    </tr></thead><tbody>\n",
              "                <tr>\n",
              "                        <th id=\"T_365d9d5c_499f_11ec_bda8_0242ac1c0002level0_row0\" class=\"row_heading level0 row0\" >Actual M22-</th>\n",
              "                        <td id=\"T_365d9d5c_499f_11ec_bda8_0242ac1c0002row0_col0\" class=\"data row0 col0\" >82</td>\n",
              "                        <td id=\"T_365d9d5c_499f_11ec_bda8_0242ac1c0002row0_col1\" class=\"data row0 col1\" >4</td>\n",
              "                        <td id=\"T_365d9d5c_499f_11ec_bda8_0242ac1c0002row0_col2\" class=\"data row0 col2\" >0</td>\n",
              "                        <td id=\"T_365d9d5c_499f_11ec_bda8_0242ac1c0002row0_col3\" class=\"data row0 col3\" >4</td>\n",
              "                        <td id=\"T_365d9d5c_499f_11ec_bda8_0242ac1c0002row0_col4\" class=\"data row0 col4\" >13</td>\n",
              "                        <td id=\"T_365d9d5c_499f_11ec_bda8_0242ac1c0002row0_col5\" class=\"data row0 col5\" >21</td>\n",
              "                        <td id=\"T_365d9d5c_499f_11ec_bda8_0242ac1c0002row0_col6\" class=\"data row0 col6\" >0</td>\n",
              "                        <td id=\"T_365d9d5c_499f_11ec_bda8_0242ac1c0002row0_col7\" class=\"data row0 col7\" >3</td>\n",
              "                        <td id=\"T_365d9d5c_499f_11ec_bda8_0242ac1c0002row0_col8\" class=\"data row0 col8\" >0</td>\n",
              "                        <td id=\"T_365d9d5c_499f_11ec_bda8_0242ac1c0002row0_col9\" class=\"data row0 col9\" >1</td>\n",
              "                        <td id=\"T_365d9d5c_499f_11ec_bda8_0242ac1c0002row0_col10\" class=\"data row0 col10\" >0</td>\n",
              "                        <td id=\"T_365d9d5c_499f_11ec_bda8_0242ac1c0002row0_col11\" class=\"data row0 col11\" >0</td>\n",
              "            </tr>\n",
              "            <tr>\n",
              "                        <th id=\"T_365d9d5c_499f_11ec_bda8_0242ac1c0002level0_row1\" class=\"row_heading level0 row1\" >Actual M23-26</th>\n",
              "                        <td id=\"T_365d9d5c_499f_11ec_bda8_0242ac1c0002row1_col0\" class=\"data row1 col0\" >4</td>\n",
              "                        <td id=\"T_365d9d5c_499f_11ec_bda8_0242ac1c0002row1_col1\" class=\"data row1 col1\" >201</td>\n",
              "                        <td id=\"T_365d9d5c_499f_11ec_bda8_0242ac1c0002row1_col2\" class=\"data row1 col2\" >1</td>\n",
              "                        <td id=\"T_365d9d5c_499f_11ec_bda8_0242ac1c0002row1_col3\" class=\"data row1 col3\" >1</td>\n",
              "                        <td id=\"T_365d9d5c_499f_11ec_bda8_0242ac1c0002row1_col4\" class=\"data row1 col4\" >18</td>\n",
              "                        <td id=\"T_365d9d5c_499f_11ec_bda8_0242ac1c0002row1_col5\" class=\"data row1 col5\" >26</td>\n",
              "                        <td id=\"T_365d9d5c_499f_11ec_bda8_0242ac1c0002row1_col6\" class=\"data row1 col6\" >0</td>\n",
              "                        <td id=\"T_365d9d5c_499f_11ec_bda8_0242ac1c0002row1_col7\" class=\"data row1 col7\" >0</td>\n",
              "                        <td id=\"T_365d9d5c_499f_11ec_bda8_0242ac1c0002row1_col8\" class=\"data row1 col8\" >0</td>\n",
              "                        <td id=\"T_365d9d5c_499f_11ec_bda8_0242ac1c0002row1_col9\" class=\"data row1 col9\" >3</td>\n",
              "                        <td id=\"T_365d9d5c_499f_11ec_bda8_0242ac1c0002row1_col10\" class=\"data row1 col10\" >4</td>\n",
              "                        <td id=\"T_365d9d5c_499f_11ec_bda8_0242ac1c0002row1_col11\" class=\"data row1 col11\" >0</td>\n",
              "            </tr>\n",
              "            <tr>\n",
              "                        <th id=\"T_365d9d5c_499f_11ec_bda8_0242ac1c0002level0_row2\" class=\"row_heading level0 row2\" >Actual M27-28</th>\n",
              "                        <td id=\"T_365d9d5c_499f_11ec_bda8_0242ac1c0002row2_col0\" class=\"data row2 col0\" >1</td>\n",
              "                        <td id=\"T_365d9d5c_499f_11ec_bda8_0242ac1c0002row2_col1\" class=\"data row2 col1\" >8</td>\n",
              "                        <td id=\"T_365d9d5c_499f_11ec_bda8_0242ac1c0002row2_col2\" class=\"data row2 col2\" >143</td>\n",
              "                        <td id=\"T_365d9d5c_499f_11ec_bda8_0242ac1c0002row2_col3\" class=\"data row2 col3\" >4</td>\n",
              "                        <td id=\"T_365d9d5c_499f_11ec_bda8_0242ac1c0002row2_col4\" class=\"data row2 col4\" >6</td>\n",
              "                        <td id=\"T_365d9d5c_499f_11ec_bda8_0242ac1c0002row2_col5\" class=\"data row2 col5\" >23</td>\n",
              "                        <td id=\"T_365d9d5c_499f_11ec_bda8_0242ac1c0002row2_col6\" class=\"data row2 col6\" >0</td>\n",
              "                        <td id=\"T_365d9d5c_499f_11ec_bda8_0242ac1c0002row2_col7\" class=\"data row2 col7\" >0</td>\n",
              "                        <td id=\"T_365d9d5c_499f_11ec_bda8_0242ac1c0002row2_col8\" class=\"data row2 col8\" >0</td>\n",
              "                        <td id=\"T_365d9d5c_499f_11ec_bda8_0242ac1c0002row2_col9\" class=\"data row2 col9\" >0</td>\n",
              "                        <td id=\"T_365d9d5c_499f_11ec_bda8_0242ac1c0002row2_col10\" class=\"data row2 col10\" >3</td>\n",
              "                        <td id=\"T_365d9d5c_499f_11ec_bda8_0242ac1c0002row2_col11\" class=\"data row2 col11\" >4</td>\n",
              "            </tr>\n",
              "            <tr>\n",
              "                        <th id=\"T_365d9d5c_499f_11ec_bda8_0242ac1c0002level0_row3\" class=\"row_heading level0 row3\" >Actual M29-31</th>\n",
              "                        <td id=\"T_365d9d5c_499f_11ec_bda8_0242ac1c0002row3_col0\" class=\"data row3 col0\" >6</td>\n",
              "                        <td id=\"T_365d9d5c_499f_11ec_bda8_0242ac1c0002row3_col1\" class=\"data row3 col1\" >12</td>\n",
              "                        <td id=\"T_365d9d5c_499f_11ec_bda8_0242ac1c0002row3_col2\" class=\"data row3 col2\" >0</td>\n",
              "                        <td id=\"T_365d9d5c_499f_11ec_bda8_0242ac1c0002row3_col3\" class=\"data row3 col3\" >195</td>\n",
              "                        <td id=\"T_365d9d5c_499f_11ec_bda8_0242ac1c0002row3_col4\" class=\"data row3 col4\" >27</td>\n",
              "                        <td id=\"T_365d9d5c_499f_11ec_bda8_0242ac1c0002row3_col5\" class=\"data row3 col5\" >43</td>\n",
              "                        <td id=\"T_365d9d5c_499f_11ec_bda8_0242ac1c0002row3_col6\" class=\"data row3 col6\" >0</td>\n",
              "                        <td id=\"T_365d9d5c_499f_11ec_bda8_0242ac1c0002row3_col7\" class=\"data row3 col7\" >0</td>\n",
              "                        <td id=\"T_365d9d5c_499f_11ec_bda8_0242ac1c0002row3_col8\" class=\"data row3 col8\" >0</td>\n",
              "                        <td id=\"T_365d9d5c_499f_11ec_bda8_0242ac1c0002row3_col9\" class=\"data row3 col9\" >0</td>\n",
              "                        <td id=\"T_365d9d5c_499f_11ec_bda8_0242ac1c0002row3_col10\" class=\"data row3 col10\" >0</td>\n",
              "                        <td id=\"T_365d9d5c_499f_11ec_bda8_0242ac1c0002row3_col11\" class=\"data row3 col11\" >0</td>\n",
              "            </tr>\n",
              "            <tr>\n",
              "                        <th id=\"T_365d9d5c_499f_11ec_bda8_0242ac1c0002level0_row4\" class=\"row_heading level0 row4\" >Actual M32-38</th>\n",
              "                        <td id=\"T_365d9d5c_499f_11ec_bda8_0242ac1c0002row4_col0\" class=\"data row4 col0\" >1</td>\n",
              "                        <td id=\"T_365d9d5c_499f_11ec_bda8_0242ac1c0002row4_col1\" class=\"data row4 col1\" >0</td>\n",
              "                        <td id=\"T_365d9d5c_499f_11ec_bda8_0242ac1c0002row4_col2\" class=\"data row4 col2\" >0</td>\n",
              "                        <td id=\"T_365d9d5c_499f_11ec_bda8_0242ac1c0002row4_col3\" class=\"data row4 col3\" >5</td>\n",
              "                        <td id=\"T_365d9d5c_499f_11ec_bda8_0242ac1c0002row4_col4\" class=\"data row4 col4\" >461</td>\n",
              "                        <td id=\"T_365d9d5c_499f_11ec_bda8_0242ac1c0002row4_col5\" class=\"data row4 col5\" >58</td>\n",
              "                        <td id=\"T_365d9d5c_499f_11ec_bda8_0242ac1c0002row4_col6\" class=\"data row4 col6\" >0</td>\n",
              "                        <td id=\"T_365d9d5c_499f_11ec_bda8_0242ac1c0002row4_col7\" class=\"data row4 col7\" >1</td>\n",
              "                        <td id=\"T_365d9d5c_499f_11ec_bda8_0242ac1c0002row4_col8\" class=\"data row4 col8\" >0</td>\n",
              "                        <td id=\"T_365d9d5c_499f_11ec_bda8_0242ac1c0002row4_col9\" class=\"data row4 col9\" >8</td>\n",
              "                        <td id=\"T_365d9d5c_499f_11ec_bda8_0242ac1c0002row4_col10\" class=\"data row4 col10\" >1</td>\n",
              "                        <td id=\"T_365d9d5c_499f_11ec_bda8_0242ac1c0002row4_col11\" class=\"data row4 col11\" >4</td>\n",
              "            </tr>\n",
              "            <tr>\n",
              "                        <th id=\"T_365d9d5c_499f_11ec_bda8_0242ac1c0002level0_row5\" class=\"row_heading level0 row5\" >Actual M39+</th>\n",
              "                        <td id=\"T_365d9d5c_499f_11ec_bda8_0242ac1c0002row5_col0\" class=\"data row5 col0\" >11</td>\n",
              "                        <td id=\"T_365d9d5c_499f_11ec_bda8_0242ac1c0002row5_col1\" class=\"data row5 col1\" >14</td>\n",
              "                        <td id=\"T_365d9d5c_499f_11ec_bda8_0242ac1c0002row5_col2\" class=\"data row5 col2\" >2</td>\n",
              "                        <td id=\"T_365d9d5c_499f_11ec_bda8_0242ac1c0002row5_col3\" class=\"data row5 col3\" >6</td>\n",
              "                        <td id=\"T_365d9d5c_499f_11ec_bda8_0242ac1c0002row5_col4\" class=\"data row5 col4\" >34</td>\n",
              "                        <td id=\"T_365d9d5c_499f_11ec_bda8_0242ac1c0002row5_col5\" class=\"data row5 col5\" >515</td>\n",
              "                        <td id=\"T_365d9d5c_499f_11ec_bda8_0242ac1c0002row5_col6\" class=\"data row5 col6\" >0</td>\n",
              "                        <td id=\"T_365d9d5c_499f_11ec_bda8_0242ac1c0002row5_col7\" class=\"data row5 col7\" >0</td>\n",
              "                        <td id=\"T_365d9d5c_499f_11ec_bda8_0242ac1c0002row5_col8\" class=\"data row5 col8\" >0</td>\n",
              "                        <td id=\"T_365d9d5c_499f_11ec_bda8_0242ac1c0002row5_col9\" class=\"data row5 col9\" >7</td>\n",
              "                        <td id=\"T_365d9d5c_499f_11ec_bda8_0242ac1c0002row5_col10\" class=\"data row5 col10\" >6</td>\n",
              "                        <td id=\"T_365d9d5c_499f_11ec_bda8_0242ac1c0002row5_col11\" class=\"data row5 col11\" >0</td>\n",
              "            </tr>\n",
              "            <tr>\n",
              "                        <th id=\"T_365d9d5c_499f_11ec_bda8_0242ac1c0002level0_row6\" class=\"row_heading level0 row6\" >Actual F23-</th>\n",
              "                        <td id=\"T_365d9d5c_499f_11ec_bda8_0242ac1c0002row6_col0\" class=\"data row6 col0\" >0</td>\n",
              "                        <td id=\"T_365d9d5c_499f_11ec_bda8_0242ac1c0002row6_col1\" class=\"data row6 col1\" >1</td>\n",
              "                        <td id=\"T_365d9d5c_499f_11ec_bda8_0242ac1c0002row6_col2\" class=\"data row6 col2\" >0</td>\n",
              "                        <td id=\"T_365d9d5c_499f_11ec_bda8_0242ac1c0002row6_col3\" class=\"data row6 col3\" >1</td>\n",
              "                        <td id=\"T_365d9d5c_499f_11ec_bda8_0242ac1c0002row6_col4\" class=\"data row6 col4\" >3</td>\n",
              "                        <td id=\"T_365d9d5c_499f_11ec_bda8_0242ac1c0002row6_col5\" class=\"data row6 col5\" >6</td>\n",
              "                        <td id=\"T_365d9d5c_499f_11ec_bda8_0242ac1c0002row6_col6\" class=\"data row6 col6\" >28</td>\n",
              "                        <td id=\"T_365d9d5c_499f_11ec_bda8_0242ac1c0002row6_col7\" class=\"data row6 col7\" >0</td>\n",
              "                        <td id=\"T_365d9d5c_499f_11ec_bda8_0242ac1c0002row6_col8\" class=\"data row6 col8\" >0</td>\n",
              "                        <td id=\"T_365d9d5c_499f_11ec_bda8_0242ac1c0002row6_col9\" class=\"data row6 col9\" >0</td>\n",
              "                        <td id=\"T_365d9d5c_499f_11ec_bda8_0242ac1c0002row6_col10\" class=\"data row6 col10\" >0</td>\n",
              "                        <td id=\"T_365d9d5c_499f_11ec_bda8_0242ac1c0002row6_col11\" class=\"data row6 col11\" >0</td>\n",
              "            </tr>\n",
              "            <tr>\n",
              "                        <th id=\"T_365d9d5c_499f_11ec_bda8_0242ac1c0002level0_row7\" class=\"row_heading level0 row7\" >Actual F24-26</th>\n",
              "                        <td id=\"T_365d9d5c_499f_11ec_bda8_0242ac1c0002row7_col0\" class=\"data row7 col0\" >2</td>\n",
              "                        <td id=\"T_365d9d5c_499f_11ec_bda8_0242ac1c0002row7_col1\" class=\"data row7 col1\" >0</td>\n",
              "                        <td id=\"T_365d9d5c_499f_11ec_bda8_0242ac1c0002row7_col2\" class=\"data row7 col2\" >0</td>\n",
              "                        <td id=\"T_365d9d5c_499f_11ec_bda8_0242ac1c0002row7_col3\" class=\"data row7 col3\" >0</td>\n",
              "                        <td id=\"T_365d9d5c_499f_11ec_bda8_0242ac1c0002row7_col4\" class=\"data row7 col4\" >0</td>\n",
              "                        <td id=\"T_365d9d5c_499f_11ec_bda8_0242ac1c0002row7_col5\" class=\"data row7 col5\" >5</td>\n",
              "                        <td id=\"T_365d9d5c_499f_11ec_bda8_0242ac1c0002row7_col6\" class=\"data row7 col6\" >0</td>\n",
              "                        <td id=\"T_365d9d5c_499f_11ec_bda8_0242ac1c0002row7_col7\" class=\"data row7 col7\" >22</td>\n",
              "                        <td id=\"T_365d9d5c_499f_11ec_bda8_0242ac1c0002row7_col8\" class=\"data row7 col8\" >0</td>\n",
              "                        <td id=\"T_365d9d5c_499f_11ec_bda8_0242ac1c0002row7_col9\" class=\"data row7 col9\" >0</td>\n",
              "                        <td id=\"T_365d9d5c_499f_11ec_bda8_0242ac1c0002row7_col10\" class=\"data row7 col10\" >0</td>\n",
              "                        <td id=\"T_365d9d5c_499f_11ec_bda8_0242ac1c0002row7_col11\" class=\"data row7 col11\" >0</td>\n",
              "            </tr>\n",
              "            <tr>\n",
              "                        <th id=\"T_365d9d5c_499f_11ec_bda8_0242ac1c0002level0_row8\" class=\"row_heading level0 row8\" >Actual F27-28</th>\n",
              "                        <td id=\"T_365d9d5c_499f_11ec_bda8_0242ac1c0002row8_col0\" class=\"data row8 col0\" >0</td>\n",
              "                        <td id=\"T_365d9d5c_499f_11ec_bda8_0242ac1c0002row8_col1\" class=\"data row8 col1\" >6</td>\n",
              "                        <td id=\"T_365d9d5c_499f_11ec_bda8_0242ac1c0002row8_col2\" class=\"data row8 col2\" >0</td>\n",
              "                        <td id=\"T_365d9d5c_499f_11ec_bda8_0242ac1c0002row8_col3\" class=\"data row8 col3\" >1</td>\n",
              "                        <td id=\"T_365d9d5c_499f_11ec_bda8_0242ac1c0002row8_col4\" class=\"data row8 col4\" >4</td>\n",
              "                        <td id=\"T_365d9d5c_499f_11ec_bda8_0242ac1c0002row8_col5\" class=\"data row8 col5\" >5</td>\n",
              "                        <td id=\"T_365d9d5c_499f_11ec_bda8_0242ac1c0002row8_col6\" class=\"data row8 col6\" >0</td>\n",
              "                        <td id=\"T_365d9d5c_499f_11ec_bda8_0242ac1c0002row8_col7\" class=\"data row8 col7\" >0</td>\n",
              "                        <td id=\"T_365d9d5c_499f_11ec_bda8_0242ac1c0002row8_col8\" class=\"data row8 col8\" >37</td>\n",
              "                        <td id=\"T_365d9d5c_499f_11ec_bda8_0242ac1c0002row8_col9\" class=\"data row8 col9\" >0</td>\n",
              "                        <td id=\"T_365d9d5c_499f_11ec_bda8_0242ac1c0002row8_col10\" class=\"data row8 col10\" >1</td>\n",
              "                        <td id=\"T_365d9d5c_499f_11ec_bda8_0242ac1c0002row8_col11\" class=\"data row8 col11\" >3</td>\n",
              "            </tr>\n",
              "            <tr>\n",
              "                        <th id=\"T_365d9d5c_499f_11ec_bda8_0242ac1c0002level0_row9\" class=\"row_heading level0 row9\" >Actual F29-32</th>\n",
              "                        <td id=\"T_365d9d5c_499f_11ec_bda8_0242ac1c0002row9_col0\" class=\"data row9 col0\" >0</td>\n",
              "                        <td id=\"T_365d9d5c_499f_11ec_bda8_0242ac1c0002row9_col1\" class=\"data row9 col1\" >8</td>\n",
              "                        <td id=\"T_365d9d5c_499f_11ec_bda8_0242ac1c0002row9_col2\" class=\"data row9 col2\" >4</td>\n",
              "                        <td id=\"T_365d9d5c_499f_11ec_bda8_0242ac1c0002row9_col3\" class=\"data row9 col3\" >6</td>\n",
              "                        <td id=\"T_365d9d5c_499f_11ec_bda8_0242ac1c0002row9_col4\" class=\"data row9 col4\" >3</td>\n",
              "                        <td id=\"T_365d9d5c_499f_11ec_bda8_0242ac1c0002row9_col5\" class=\"data row9 col5\" >15</td>\n",
              "                        <td id=\"T_365d9d5c_499f_11ec_bda8_0242ac1c0002row9_col6\" class=\"data row9 col6\" >0</td>\n",
              "                        <td id=\"T_365d9d5c_499f_11ec_bda8_0242ac1c0002row9_col7\" class=\"data row9 col7\" >0</td>\n",
              "                        <td id=\"T_365d9d5c_499f_11ec_bda8_0242ac1c0002row9_col8\" class=\"data row9 col8\" >0</td>\n",
              "                        <td id=\"T_365d9d5c_499f_11ec_bda8_0242ac1c0002row9_col9\" class=\"data row9 col9\" >45</td>\n",
              "                        <td id=\"T_365d9d5c_499f_11ec_bda8_0242ac1c0002row9_col10\" class=\"data row9 col10\" >0</td>\n",
              "                        <td id=\"T_365d9d5c_499f_11ec_bda8_0242ac1c0002row9_col11\" class=\"data row9 col11\" >0</td>\n",
              "            </tr>\n",
              "            <tr>\n",
              "                        <th id=\"T_365d9d5c_499f_11ec_bda8_0242ac1c0002level0_row10\" class=\"row_heading level0 row10\" >Actual F33-42</th>\n",
              "                        <td id=\"T_365d9d5c_499f_11ec_bda8_0242ac1c0002row10_col0\" class=\"data row10 col0\" >2</td>\n",
              "                        <td id=\"T_365d9d5c_499f_11ec_bda8_0242ac1c0002row10_col1\" class=\"data row10 col1\" >0</td>\n",
              "                        <td id=\"T_365d9d5c_499f_11ec_bda8_0242ac1c0002row10_col2\" class=\"data row10 col2\" >1</td>\n",
              "                        <td id=\"T_365d9d5c_499f_11ec_bda8_0242ac1c0002row10_col3\" class=\"data row10 col3\" >0</td>\n",
              "                        <td id=\"T_365d9d5c_499f_11ec_bda8_0242ac1c0002row10_col4\" class=\"data row10 col4\" >10</td>\n",
              "                        <td id=\"T_365d9d5c_499f_11ec_bda8_0242ac1c0002row10_col5\" class=\"data row10 col5\" >24</td>\n",
              "                        <td id=\"T_365d9d5c_499f_11ec_bda8_0242ac1c0002row10_col6\" class=\"data row10 col6\" >3</td>\n",
              "                        <td id=\"T_365d9d5c_499f_11ec_bda8_0242ac1c0002row10_col7\" class=\"data row10 col7\" >0</td>\n",
              "                        <td id=\"T_365d9d5c_499f_11ec_bda8_0242ac1c0002row10_col8\" class=\"data row10 col8\" >0</td>\n",
              "                        <td id=\"T_365d9d5c_499f_11ec_bda8_0242ac1c0002row10_col9\" class=\"data row10 col9\" >6</td>\n",
              "                        <td id=\"T_365d9d5c_499f_11ec_bda8_0242ac1c0002row10_col10\" class=\"data row10 col10\" >91</td>\n",
              "                        <td id=\"T_365d9d5c_499f_11ec_bda8_0242ac1c0002row10_col11\" class=\"data row10 col11\" >0</td>\n",
              "            </tr>\n",
              "            <tr>\n",
              "                        <th id=\"T_365d9d5c_499f_11ec_bda8_0242ac1c0002level0_row11\" class=\"row_heading level0 row11\" >Actual F43+</th>\n",
              "                        <td id=\"T_365d9d5c_499f_11ec_bda8_0242ac1c0002row11_col0\" class=\"data row11 col0\" >0</td>\n",
              "                        <td id=\"T_365d9d5c_499f_11ec_bda8_0242ac1c0002row11_col1\" class=\"data row11 col1\" >5</td>\n",
              "                        <td id=\"T_365d9d5c_499f_11ec_bda8_0242ac1c0002row11_col2\" class=\"data row11 col2\" >1</td>\n",
              "                        <td id=\"T_365d9d5c_499f_11ec_bda8_0242ac1c0002row11_col3\" class=\"data row11 col3\" >2</td>\n",
              "                        <td id=\"T_365d9d5c_499f_11ec_bda8_0242ac1c0002row11_col4\" class=\"data row11 col4\" >20</td>\n",
              "                        <td id=\"T_365d9d5c_499f_11ec_bda8_0242ac1c0002row11_col5\" class=\"data row11 col5\" >31</td>\n",
              "                        <td id=\"T_365d9d5c_499f_11ec_bda8_0242ac1c0002row11_col6\" class=\"data row11 col6\" >0</td>\n",
              "                        <td id=\"T_365d9d5c_499f_11ec_bda8_0242ac1c0002row11_col7\" class=\"data row11 col7\" >0</td>\n",
              "                        <td id=\"T_365d9d5c_499f_11ec_bda8_0242ac1c0002row11_col8\" class=\"data row11 col8\" >3</td>\n",
              "                        <td id=\"T_365d9d5c_499f_11ec_bda8_0242ac1c0002row11_col9\" class=\"data row11 col9\" >0</td>\n",
              "                        <td id=\"T_365d9d5c_499f_11ec_bda8_0242ac1c0002row11_col10\" class=\"data row11 col10\" >3</td>\n",
              "                        <td id=\"T_365d9d5c_499f_11ec_bda8_0242ac1c0002row11_col11\" class=\"data row11 col11\" >108</td>\n",
              "            </tr>\n",
              "    </tbody></table>"
            ],
            "text/plain": [
              "<pandas.io.formats.style.Styler at 0x7f3d0a783d10>"
            ]
          },
          "metadata": {},
          "execution_count": 66
        }
      ]
    },
    {
      "cell_type": "code",
      "metadata": {
        "colab": {
          "base_uri": "https://localhost:8080/"
        },
        "id": "BqxGMsiM6ADY",
        "outputId": "9ed7a7fb-dc38-4b0c-85f5-8c3ab4b10acb"
      },
      "source": [
        "print(\"Classification Report:\")\n",
        "print()\n",
        "print(classification_report(y_test, y_pred))\n"
      ],
      "execution_count": null,
      "outputs": [
        {
          "output_type": "stream",
          "name": "stdout",
          "text": [
            "Classification Report:\n",
            "\n",
            "              precision    recall  f1-score   support\n",
            "\n",
            "           0       0.75      0.64      0.69       128\n",
            "           1       0.78      0.78      0.78       258\n",
            "           2       0.94      0.74      0.83       192\n",
            "           3       0.87      0.69      0.77       283\n",
            "           4       0.77      0.86      0.81       539\n",
            "           5       0.67      0.87      0.75       595\n",
            "           6       0.90      0.72      0.80        39\n",
            "           7       0.85      0.76      0.80        29\n",
            "           8       0.93      0.65      0.76        57\n",
            "           9       0.64      0.56      0.60        81\n",
            "          10       0.83      0.66      0.74       137\n",
            "          11       0.91      0.62      0.74       173\n",
            "\n",
            "    accuracy                           0.77      2511\n",
            "   macro avg       0.82      0.71      0.76      2511\n",
            "weighted avg       0.78      0.77      0.77      2511\n",
            "\n"
          ]
        }
      ]
    },
    {
      "cell_type": "code",
      "metadata": {
        "id": "8Rhn__7j6AFP"
      },
      "source": [
        "def multiclass_roc_auc_score(y_test, y_pred, average=\"macro\"):\n",
        "  lb = LabelBinarizer()\n",
        "  lb.fit(y_test)\n",
        "  y_test = lb.transform(y_test)\n",
        "  y_pred = lb.transform(y_pred)\n",
        "  return roc_auc_score(y_test, y_pred, average=average)\n",
        "multiclass_roc_auc_score(y_test, y_pred, average=\"macro\")"
      ],
      "execution_count": null,
      "outputs": []
    },
    {
      "cell_type": "code",
      "metadata": {
        "colab": {
          "base_uri": "https://localhost:8080/"
        },
        "id": "SklypaMb6AHE",
        "outputId": "693d187e-e0f4-40c5-cce2-3d22fba73c1f"
      },
      "source": [
        "multiclass_roc_auc_score(y_test, y_pred, average=\"macro\")"
      ],
      "execution_count": null,
      "outputs": [
        {
          "output_type": "execute_result",
          "data": {
            "text/plain": [
              "0.8441237158181988"
            ]
          },
          "metadata": {},
          "execution_count": 69
        }
      ]
    },
    {
      "cell_type": "markdown",
      "metadata": {
        "id": "sLuAIyte6K5y"
      },
      "source": [
        "# Decision Tree Classifier"
      ]
    },
    {
      "cell_type": "code",
      "metadata": {
        "id": "EFNhqtZe6AJg"
      },
      "source": [
        "pipeline = Pipeline(\n",
        "    [\n",
        "        (\"scaler\", StandardScaler()),\n",
        "        (\"pca\", PCA(n_components=n_components)),\n",
        "        (\"dtc\", DecisionTreeClassifier()),\n",
        "    ]\n",
        ")\n",
        "pipeline = pipeline.fit(X_train, y_train)\n",
        "\n"
      ],
      "execution_count": null,
      "outputs": []
    },
    {
      "cell_type": "code",
      "metadata": {
        "id": "Gf1jgOrj6P7Y"
      },
      "source": [
        "# Max depth of 50 provides a better score, this is much better than the previous score of around 0.2.\n",
        "# To improve score suggest increasing max depth even more\n",
        "grid = {'max_leaf_nodes': list(range(2, 100)), 'min_samples_split': [2, 3, 4]}\n",
        "\n",
        "\n",
        "model = GridSearchCV(DecisionTreeClassifier(random_state=42), grid, verbose=1, cv=3)\n"
      ],
      "execution_count": null,
      "outputs": []
    },
    {
      "cell_type": "code",
      "metadata": {
        "colab": {
          "base_uri": "https://localhost:8080/"
        },
        "id": "CER_CZaM6P-j",
        "outputId": "f031fd3d-9b19-448b-e82e-ad6181abaf2e"
      },
      "source": [
        "model.fit(X_train, y_train)\n"
      ],
      "execution_count": null,
      "outputs": [
        {
          "output_type": "stream",
          "name": "stdout",
          "text": [
            "Fitting 3 folds for each of 294 candidates, totalling 882 fits\n"
          ]
        },
        {
          "output_type": "execute_result",
          "data": {
            "text/plain": [
              "GridSearchCV(cv=3, estimator=DecisionTreeClassifier(random_state=42),\n",
              "             param_grid={'max_leaf_nodes': [2, 3, 4, 5, 6, 7, 8, 9, 10, 11, 12,\n",
              "                                            13, 14, 15, 16, 17, 18, 19, 20, 21,\n",
              "                                            22, 23, 24, 25, 26, 27, 28, 29, 30,\n",
              "                                            31, ...],\n",
              "                         'min_samples_split': [2, 3, 4]},\n",
              "             verbose=1)"
            ]
          },
          "metadata": {},
          "execution_count": 72
        }
      ]
    },
    {
      "cell_type": "code",
      "metadata": {
        "colab": {
          "base_uri": "https://localhost:8080/"
        },
        "id": "6o3W9Lal6QAm",
        "outputId": "5e9b70c5-4e25-4ecf-a4b5-3fcce162d91f"
      },
      "source": [
        "model.best_params_"
      ],
      "execution_count": null,
      "outputs": [
        {
          "output_type": "execute_result",
          "data": {
            "text/plain": [
              "{'max_leaf_nodes': 99, 'min_samples_split': 2}"
            ]
          },
          "metadata": {},
          "execution_count": 73
        }
      ]
    },
    {
      "cell_type": "code",
      "metadata": {
        "colab": {
          "base_uri": "https://localhost:8080/"
        },
        "id": "QYQzZfYr6QDx",
        "outputId": "e1d42263-2150-4b99-d27b-ff82fe4a7743"
      },
      "source": [
        "# Model still appears to be extremely overfitting\n",
        "train_score = model.score(X_train, y_train)\n",
        "test_score = model.score(X_test, y_test)\n",
        "\n",
        "print(f\"Train score: {train_score}\")\n",
        "print(f\"Test score: {test_score}\")\n"
      ],
      "execution_count": null,
      "outputs": [
        {
          "output_type": "stream",
          "name": "stdout",
          "text": [
            "Train score: 0.8231075697211155\n",
            "Test score: 0.8231780167264038\n"
          ]
        }
      ]
    },
    {
      "cell_type": "code",
      "metadata": {
        "colab": {
          "base_uri": "https://localhost:8080/",
          "height": 425
        },
        "id": "YwUTnAJ16QFZ",
        "outputId": "fa821a80-fb5d-4c84-a024-a59bfe626a29"
      },
      "source": [
        "y_pred = model.predict(X_test)\n",
        "\n",
        "con_mat = pd.DataFrame(\n",
        "    confusion_matrix(y_test, y_pred),\n",
        "    index=[\n",
        "        \"Actually M22-\",\n",
        "        \"Actually M23-26\",\n",
        "        \"Actually M27-28\",\n",
        "        \"Actually M29-31\",\n",
        "        \"Actually M32-38\",\n",
        "        \"Actually M39+\",\n",
        "        \"Actually F23-\",\n",
        "        \"Actually F24-26\",\n",
        "        \"Actually F27-28\",\n",
        "        \"Actually F29-32\",\n",
        "        \"Actually F33-42\",\n",
        "        \"Actually F43+\",\n",
        "    ],\n",
        "    columns=[\n",
        "        \"Predicted M22-\",\n",
        "        \"Predicted M23-26\",\n",
        "        \"Predicted M27-28\",\n",
        "        \"Predicted M29-31\",\n",
        "        \"Predicted M32-38\",\n",
        "        \"Predicted M39+\",\n",
        "        \"Predicted F23-\",\n",
        "        \"Predicted F24-26\",\n",
        "        \"Predicted F27-28\",\n",
        "        \"Predicted F29-32\",\n",
        "        \"Predicted F33-42\",\n",
        "        \"Predicted F43+\",\n",
        "    ],\n",
        ")\n",
        "con_mat.style.background_gradient(axis=None)\n"
      ],
      "execution_count": null,
      "outputs": [
        {
          "output_type": "execute_result",
          "data": {
            "text/html": [
              "<style  type=\"text/css\" >\n",
              "#T_78604b46_499f_11ec_bda8_0242ac1c0002row0_col0{\n",
              "            background-color:  #e0deed;\n",
              "            color:  #000000;\n",
              "        }#T_78604b46_499f_11ec_bda8_0242ac1c0002row0_col1,#T_78604b46_499f_11ec_bda8_0242ac1c0002row0_col5,#T_78604b46_499f_11ec_bda8_0242ac1c0002row0_col6,#T_78604b46_499f_11ec_bda8_0242ac1c0002row0_col7,#T_78604b46_499f_11ec_bda8_0242ac1c0002row0_col8,#T_78604b46_499f_11ec_bda8_0242ac1c0002row0_col9,#T_78604b46_499f_11ec_bda8_0242ac1c0002row1_col0,#T_78604b46_499f_11ec_bda8_0242ac1c0002row1_col2,#T_78604b46_499f_11ec_bda8_0242ac1c0002row1_col3,#T_78604b46_499f_11ec_bda8_0242ac1c0002row1_col6,#T_78604b46_499f_11ec_bda8_0242ac1c0002row1_col7,#T_78604b46_499f_11ec_bda8_0242ac1c0002row1_col8,#T_78604b46_499f_11ec_bda8_0242ac1c0002row1_col9,#T_78604b46_499f_11ec_bda8_0242ac1c0002row1_col10,#T_78604b46_499f_11ec_bda8_0242ac1c0002row1_col11,#T_78604b46_499f_11ec_bda8_0242ac1c0002row2_col0,#T_78604b46_499f_11ec_bda8_0242ac1c0002row2_col1,#T_78604b46_499f_11ec_bda8_0242ac1c0002row2_col7,#T_78604b46_499f_11ec_bda8_0242ac1c0002row2_col8,#T_78604b46_499f_11ec_bda8_0242ac1c0002row2_col9,#T_78604b46_499f_11ec_bda8_0242ac1c0002row2_col10,#T_78604b46_499f_11ec_bda8_0242ac1c0002row3_col1,#T_78604b46_499f_11ec_bda8_0242ac1c0002row3_col2,#T_78604b46_499f_11ec_bda8_0242ac1c0002row3_col6,#T_78604b46_499f_11ec_bda8_0242ac1c0002row3_col7,#T_78604b46_499f_11ec_bda8_0242ac1c0002row3_col8,#T_78604b46_499f_11ec_bda8_0242ac1c0002row3_col9,#T_78604b46_499f_11ec_bda8_0242ac1c0002row3_col11,#T_78604b46_499f_11ec_bda8_0242ac1c0002row4_col0,#T_78604b46_499f_11ec_bda8_0242ac1c0002row4_col1,#T_78604b46_499f_11ec_bda8_0242ac1c0002row4_col2,#T_78604b46_499f_11ec_bda8_0242ac1c0002row4_col6,#T_78604b46_499f_11ec_bda8_0242ac1c0002row4_col7,#T_78604b46_499f_11ec_bda8_0242ac1c0002row4_col8,#T_78604b46_499f_11ec_bda8_0242ac1c0002row4_col9,#T_78604b46_499f_11ec_bda8_0242ac1c0002row4_col10,#T_78604b46_499f_11ec_bda8_0242ac1c0002row4_col11,#T_78604b46_499f_11ec_bda8_0242ac1c0002row5_col0,#T_78604b46_499f_11ec_bda8_0242ac1c0002row5_col1,#T_78604b46_499f_11ec_bda8_0242ac1c0002row5_col6,#T_78604b46_499f_11ec_bda8_0242ac1c0002row5_col7,#T_78604b46_499f_11ec_bda8_0242ac1c0002row5_col8,#T_78604b46_499f_11ec_bda8_0242ac1c0002row5_col9,#T_78604b46_499f_11ec_bda8_0242ac1c0002row5_col10,#T_78604b46_499f_11ec_bda8_0242ac1c0002row5_col11,#T_78604b46_499f_11ec_bda8_0242ac1c0002row6_col0,#T_78604b46_499f_11ec_bda8_0242ac1c0002row6_col1,#T_78604b46_499f_11ec_bda8_0242ac1c0002row6_col2,#T_78604b46_499f_11ec_bda8_0242ac1c0002row6_col3,#T_78604b46_499f_11ec_bda8_0242ac1c0002row6_col5,#T_78604b46_499f_11ec_bda8_0242ac1c0002row6_col7,#T_78604b46_499f_11ec_bda8_0242ac1c0002row6_col8,#T_78604b46_499f_11ec_bda8_0242ac1c0002row6_col9,#T_78604b46_499f_11ec_bda8_0242ac1c0002row6_col10,#T_78604b46_499f_11ec_bda8_0242ac1c0002row6_col11,#T_78604b46_499f_11ec_bda8_0242ac1c0002row7_col0,#T_78604b46_499f_11ec_bda8_0242ac1c0002row7_col1,#T_78604b46_499f_11ec_bda8_0242ac1c0002row7_col2,#T_78604b46_499f_11ec_bda8_0242ac1c0002row7_col3,#T_78604b46_499f_11ec_bda8_0242ac1c0002row7_col4,#T_78604b46_499f_11ec_bda8_0242ac1c0002row7_col5,#T_78604b46_499f_11ec_bda8_0242ac1c0002row7_col6,#T_78604b46_499f_11ec_bda8_0242ac1c0002row7_col8,#T_78604b46_499f_11ec_bda8_0242ac1c0002row7_col9,#T_78604b46_499f_11ec_bda8_0242ac1c0002row7_col10,#T_78604b46_499f_11ec_bda8_0242ac1c0002row7_col11,#T_78604b46_499f_11ec_bda8_0242ac1c0002row8_col0,#T_78604b46_499f_11ec_bda8_0242ac1c0002row8_col2,#T_78604b46_499f_11ec_bda8_0242ac1c0002row8_col5,#T_78604b46_499f_11ec_bda8_0242ac1c0002row8_col6,#T_78604b46_499f_11ec_bda8_0242ac1c0002row8_col7,#T_78604b46_499f_11ec_bda8_0242ac1c0002row8_col9,#T_78604b46_499f_11ec_bda8_0242ac1c0002row8_col10,#T_78604b46_499f_11ec_bda8_0242ac1c0002row8_col11,#T_78604b46_499f_11ec_bda8_0242ac1c0002row9_col0,#T_78604b46_499f_11ec_bda8_0242ac1c0002row9_col1,#T_78604b46_499f_11ec_bda8_0242ac1c0002row9_col2,#T_78604b46_499f_11ec_bda8_0242ac1c0002row9_col3,#T_78604b46_499f_11ec_bda8_0242ac1c0002row9_col6,#T_78604b46_499f_11ec_bda8_0242ac1c0002row9_col8,#T_78604b46_499f_11ec_bda8_0242ac1c0002row9_col10,#T_78604b46_499f_11ec_bda8_0242ac1c0002row9_col11,#T_78604b46_499f_11ec_bda8_0242ac1c0002row10_col0,#T_78604b46_499f_11ec_bda8_0242ac1c0002row10_col1,#T_78604b46_499f_11ec_bda8_0242ac1c0002row10_col2,#T_78604b46_499f_11ec_bda8_0242ac1c0002row10_col4,#T_78604b46_499f_11ec_bda8_0242ac1c0002row10_col6,#T_78604b46_499f_11ec_bda8_0242ac1c0002row10_col7,#T_78604b46_499f_11ec_bda8_0242ac1c0002row10_col9,#T_78604b46_499f_11ec_bda8_0242ac1c0002row10_col11,#T_78604b46_499f_11ec_bda8_0242ac1c0002row11_col0,#T_78604b46_499f_11ec_bda8_0242ac1c0002row11_col2,#T_78604b46_499f_11ec_bda8_0242ac1c0002row11_col5,#T_78604b46_499f_11ec_bda8_0242ac1c0002row11_col6,#T_78604b46_499f_11ec_bda8_0242ac1c0002row11_col7,#T_78604b46_499f_11ec_bda8_0242ac1c0002row11_col8,#T_78604b46_499f_11ec_bda8_0242ac1c0002row11_col10{\n",
              "            background-color:  #fff7fb;\n",
              "            color:  #000000;\n",
              "        }#T_78604b46_499f_11ec_bda8_0242ac1c0002row0_col2,#T_78604b46_499f_11ec_bda8_0242ac1c0002row9_col5,#T_78604b46_499f_11ec_bda8_0242ac1c0002row11_col1{\n",
              "            background-color:  #fef6fa;\n",
              "            color:  #000000;\n",
              "        }#T_78604b46_499f_11ec_bda8_0242ac1c0002row0_col3,#T_78604b46_499f_11ec_bda8_0242ac1c0002row0_col4,#T_78604b46_499f_11ec_bda8_0242ac1c0002row0_col10,#T_78604b46_499f_11ec_bda8_0242ac1c0002row1_col4,#T_78604b46_499f_11ec_bda8_0242ac1c0002row1_col5,#T_78604b46_499f_11ec_bda8_0242ac1c0002row2_col5,#T_78604b46_499f_11ec_bda8_0242ac1c0002row2_col6,#T_78604b46_499f_11ec_bda8_0242ac1c0002row2_col11,#T_78604b46_499f_11ec_bda8_0242ac1c0002row3_col0,#T_78604b46_499f_11ec_bda8_0242ac1c0002row3_col4,#T_78604b46_499f_11ec_bda8_0242ac1c0002row3_col10,#T_78604b46_499f_11ec_bda8_0242ac1c0002row9_col4,#T_78604b46_499f_11ec_bda8_0242ac1c0002row10_col3,#T_78604b46_499f_11ec_bda8_0242ac1c0002row11_col3,#T_78604b46_499f_11ec_bda8_0242ac1c0002row11_col4{\n",
              "            background-color:  #fdf5fa;\n",
              "            color:  #000000;\n",
              "        }#T_78604b46_499f_11ec_bda8_0242ac1c0002row0_col11,#T_78604b46_499f_11ec_bda8_0242ac1c0002row5_col2{\n",
              "            background-color:  #fef6fb;\n",
              "            color:  #000000;\n",
              "        }#T_78604b46_499f_11ec_bda8_0242ac1c0002row1_col1{\n",
              "            background-color:  #8bb2d4;\n",
              "            color:  #000000;\n",
              "        }#T_78604b46_499f_11ec_bda8_0242ac1c0002row2_col2{\n",
              "            background-color:  #d0d1e6;\n",
              "            color:  #000000;\n",
              "        }#T_78604b46_499f_11ec_bda8_0242ac1c0002row2_col3,#T_78604b46_499f_11ec_bda8_0242ac1c0002row2_col4,#T_78604b46_499f_11ec_bda8_0242ac1c0002row8_col1,#T_78604b46_499f_11ec_bda8_0242ac1c0002row8_col3,#T_78604b46_499f_11ec_bda8_0242ac1c0002row9_col7{\n",
              "            background-color:  #fbf4f9;\n",
              "            color:  #000000;\n",
              "        }#T_78604b46_499f_11ec_bda8_0242ac1c0002row3_col3{\n",
              "            background-color:  #99b8d8;\n",
              "            color:  #000000;\n",
              "        }#T_78604b46_499f_11ec_bda8_0242ac1c0002row3_col5{\n",
              "            background-color:  #f5eff6;\n",
              "            color:  #000000;\n",
              "        }#T_78604b46_499f_11ec_bda8_0242ac1c0002row4_col3,#T_78604b46_499f_11ec_bda8_0242ac1c0002row5_col4,#T_78604b46_499f_11ec_bda8_0242ac1c0002row10_col8{\n",
              "            background-color:  #fbf3f9;\n",
              "            color:  #000000;\n",
              "        }#T_78604b46_499f_11ec_bda8_0242ac1c0002row4_col4{\n",
              "            background-color:  #04588a;\n",
              "            color:  #f1f1f1;\n",
              "        }#T_78604b46_499f_11ec_bda8_0242ac1c0002row4_col5{\n",
              "            background-color:  #f4edf6;\n",
              "            color:  #000000;\n",
              "        }#T_78604b46_499f_11ec_bda8_0242ac1c0002row5_col3,#T_78604b46_499f_11ec_bda8_0242ac1c0002row6_col6{\n",
              "            background-color:  #f8f1f8;\n",
              "            color:  #000000;\n",
              "        }#T_78604b46_499f_11ec_bda8_0242ac1c0002row5_col5{\n",
              "            background-color:  #023858;\n",
              "            color:  #f1f1f1;\n",
              "        }#T_78604b46_499f_11ec_bda8_0242ac1c0002row6_col4,#T_78604b46_499f_11ec_bda8_0242ac1c0002row8_col4{\n",
              "            background-color:  #fcf4fa;\n",
              "            color:  #000000;\n",
              "        }#T_78604b46_499f_11ec_bda8_0242ac1c0002row7_col7,#T_78604b46_499f_11ec_bda8_0242ac1c0002row11_col9{\n",
              "            background-color:  #f7f0f7;\n",
              "            color:  #000000;\n",
              "        }#T_78604b46_499f_11ec_bda8_0242ac1c0002row8_col8{\n",
              "            background-color:  #faf3f9;\n",
              "            color:  #000000;\n",
              "        }#T_78604b46_499f_11ec_bda8_0242ac1c0002row9_col9{\n",
              "            background-color:  #f1ebf4;\n",
              "            color:  #000000;\n",
              "        }#T_78604b46_499f_11ec_bda8_0242ac1c0002row10_col5{\n",
              "            background-color:  #f9f2f8;\n",
              "            color:  #000000;\n",
              "        }#T_78604b46_499f_11ec_bda8_0242ac1c0002row10_col10{\n",
              "            background-color:  #e3e0ee;\n",
              "            color:  #000000;\n",
              "        }#T_78604b46_499f_11ec_bda8_0242ac1c0002row11_col11{\n",
              "            background-color:  #d8d7e9;\n",
              "            color:  #000000;\n",
              "        }</style><table id=\"T_78604b46_499f_11ec_bda8_0242ac1c0002\" class=\"dataframe\"><thead>    <tr>        <th class=\"blank level0\" ></th>        <th class=\"col_heading level0 col0\" >Predicted M22-</th>        <th class=\"col_heading level0 col1\" >Predicted M23-26</th>        <th class=\"col_heading level0 col2\" >Predicted M27-28</th>        <th class=\"col_heading level0 col3\" >Predicted M29-31</th>        <th class=\"col_heading level0 col4\" >Predicted M32-38</th>        <th class=\"col_heading level0 col5\" >Predicted M39+</th>        <th class=\"col_heading level0 col6\" >Predicted F23-</th>        <th class=\"col_heading level0 col7\" >Predicted F24-26</th>        <th class=\"col_heading level0 col8\" >Predicted F27-28</th>        <th class=\"col_heading level0 col9\" >Predicted F29-32</th>        <th class=\"col_heading level0 col10\" >Predicted F33-42</th>        <th class=\"col_heading level0 col11\" >Predicted F43+</th>    </tr></thead><tbody>\n",
              "                <tr>\n",
              "                        <th id=\"T_78604b46_499f_11ec_bda8_0242ac1c0002level0_row0\" class=\"row_heading level0 row0\" >Actually M22-</th>\n",
              "                        <td id=\"T_78604b46_499f_11ec_bda8_0242ac1c0002row0_col0\" class=\"data row0 col0\" >97</td>\n",
              "                        <td id=\"T_78604b46_499f_11ec_bda8_0242ac1c0002row0_col1\" class=\"data row0 col1\" >0</td>\n",
              "                        <td id=\"T_78604b46_499f_11ec_bda8_0242ac1c0002row0_col2\" class=\"data row0 col2\" >5</td>\n",
              "                        <td id=\"T_78604b46_499f_11ec_bda8_0242ac1c0002row0_col3\" class=\"data row0 col3\" >7</td>\n",
              "                        <td id=\"T_78604b46_499f_11ec_bda8_0242ac1c0002row0_col4\" class=\"data row0 col4\" >8</td>\n",
              "                        <td id=\"T_78604b46_499f_11ec_bda8_0242ac1c0002row0_col5\" class=\"data row0 col5\" >0</td>\n",
              "                        <td id=\"T_78604b46_499f_11ec_bda8_0242ac1c0002row0_col6\" class=\"data row0 col6\" >0</td>\n",
              "                        <td id=\"T_78604b46_499f_11ec_bda8_0242ac1c0002row0_col7\" class=\"data row0 col7\" >0</td>\n",
              "                        <td id=\"T_78604b46_499f_11ec_bda8_0242ac1c0002row0_col8\" class=\"data row0 col8\" >0</td>\n",
              "                        <td id=\"T_78604b46_499f_11ec_bda8_0242ac1c0002row0_col9\" class=\"data row0 col9\" >0</td>\n",
              "                        <td id=\"T_78604b46_499f_11ec_bda8_0242ac1c0002row0_col10\" class=\"data row0 col10\" >7</td>\n",
              "                        <td id=\"T_78604b46_499f_11ec_bda8_0242ac1c0002row0_col11\" class=\"data row0 col11\" >4</td>\n",
              "            </tr>\n",
              "            <tr>\n",
              "                        <th id=\"T_78604b46_499f_11ec_bda8_0242ac1c0002level0_row1\" class=\"row_heading level0 row1\" >Actually M23-26</th>\n",
              "                        <td id=\"T_78604b46_499f_11ec_bda8_0242ac1c0002row1_col0\" class=\"data row1 col0\" >0</td>\n",
              "                        <td id=\"T_78604b46_499f_11ec_bda8_0242ac1c0002row1_col1\" class=\"data row1 col1\" >243</td>\n",
              "                        <td id=\"T_78604b46_499f_11ec_bda8_0242ac1c0002row1_col2\" class=\"data row1 col2\" >0</td>\n",
              "                        <td id=\"T_78604b46_499f_11ec_bda8_0242ac1c0002row1_col3\" class=\"data row1 col3\" >0</td>\n",
              "                        <td id=\"T_78604b46_499f_11ec_bda8_0242ac1c0002row1_col4\" class=\"data row1 col4\" >8</td>\n",
              "                        <td id=\"T_78604b46_499f_11ec_bda8_0242ac1c0002row1_col5\" class=\"data row1 col5\" >7</td>\n",
              "                        <td id=\"T_78604b46_499f_11ec_bda8_0242ac1c0002row1_col6\" class=\"data row1 col6\" >0</td>\n",
              "                        <td id=\"T_78604b46_499f_11ec_bda8_0242ac1c0002row1_col7\" class=\"data row1 col7\" >0</td>\n",
              "                        <td id=\"T_78604b46_499f_11ec_bda8_0242ac1c0002row1_col8\" class=\"data row1 col8\" >0</td>\n",
              "                        <td id=\"T_78604b46_499f_11ec_bda8_0242ac1c0002row1_col9\" class=\"data row1 col9\" >0</td>\n",
              "                        <td id=\"T_78604b46_499f_11ec_bda8_0242ac1c0002row1_col10\" class=\"data row1 col10\" >0</td>\n",
              "                        <td id=\"T_78604b46_499f_11ec_bda8_0242ac1c0002row1_col11\" class=\"data row1 col11\" >0</td>\n",
              "            </tr>\n",
              "            <tr>\n",
              "                        <th id=\"T_78604b46_499f_11ec_bda8_0242ac1c0002level0_row2\" class=\"row_heading level0 row2\" >Actually M27-28</th>\n",
              "                        <td id=\"T_78604b46_499f_11ec_bda8_0242ac1c0002row2_col0\" class=\"data row2 col0\" >0</td>\n",
              "                        <td id=\"T_78604b46_499f_11ec_bda8_0242ac1c0002row2_col1\" class=\"data row2 col1\" >0</td>\n",
              "                        <td id=\"T_78604b46_499f_11ec_bda8_0242ac1c0002row2_col2\" class=\"data row2 col2\" >138</td>\n",
              "                        <td id=\"T_78604b46_499f_11ec_bda8_0242ac1c0002row2_col3\" class=\"data row2 col3\" >13</td>\n",
              "                        <td id=\"T_78604b46_499f_11ec_bda8_0242ac1c0002row2_col4\" class=\"data row2 col4\" >14</td>\n",
              "                        <td id=\"T_78604b46_499f_11ec_bda8_0242ac1c0002row2_col5\" class=\"data row2 col5\" >9</td>\n",
              "                        <td id=\"T_78604b46_499f_11ec_bda8_0242ac1c0002row2_col6\" class=\"data row2 col6\" >9</td>\n",
              "                        <td id=\"T_78604b46_499f_11ec_bda8_0242ac1c0002row2_col7\" class=\"data row2 col7\" >0</td>\n",
              "                        <td id=\"T_78604b46_499f_11ec_bda8_0242ac1c0002row2_col8\" class=\"data row2 col8\" >0</td>\n",
              "                        <td id=\"T_78604b46_499f_11ec_bda8_0242ac1c0002row2_col9\" class=\"data row2 col9\" >0</td>\n",
              "                        <td id=\"T_78604b46_499f_11ec_bda8_0242ac1c0002row2_col10\" class=\"data row2 col10\" >0</td>\n",
              "                        <td id=\"T_78604b46_499f_11ec_bda8_0242ac1c0002row2_col11\" class=\"data row2 col11\" >9</td>\n",
              "            </tr>\n",
              "            <tr>\n",
              "                        <th id=\"T_78604b46_499f_11ec_bda8_0242ac1c0002level0_row3\" class=\"row_heading level0 row3\" >Actually M29-31</th>\n",
              "                        <td id=\"T_78604b46_499f_11ec_bda8_0242ac1c0002row3_col0\" class=\"data row3 col0\" >8</td>\n",
              "                        <td id=\"T_78604b46_499f_11ec_bda8_0242ac1c0002row3_col1\" class=\"data row3 col1\" >0</td>\n",
              "                        <td id=\"T_78604b46_499f_11ec_bda8_0242ac1c0002row3_col2\" class=\"data row3 col2\" >0</td>\n",
              "                        <td id=\"T_78604b46_499f_11ec_bda8_0242ac1c0002row3_col3\" class=\"data row3 col3\" >224</td>\n",
              "                        <td id=\"T_78604b46_499f_11ec_bda8_0242ac1c0002row3_col4\" class=\"data row3 col4\" >9</td>\n",
              "                        <td id=\"T_78604b46_499f_11ec_bda8_0242ac1c0002row3_col5\" class=\"data row3 col5\" >35</td>\n",
              "                        <td id=\"T_78604b46_499f_11ec_bda8_0242ac1c0002row3_col6\" class=\"data row3 col6\" >0</td>\n",
              "                        <td id=\"T_78604b46_499f_11ec_bda8_0242ac1c0002row3_col7\" class=\"data row3 col7\" >0</td>\n",
              "                        <td id=\"T_78604b46_499f_11ec_bda8_0242ac1c0002row3_col8\" class=\"data row3 col8\" >0</td>\n",
              "                        <td id=\"T_78604b46_499f_11ec_bda8_0242ac1c0002row3_col9\" class=\"data row3 col9\" >0</td>\n",
              "                        <td id=\"T_78604b46_499f_11ec_bda8_0242ac1c0002row3_col10\" class=\"data row3 col10\" >7</td>\n",
              "                        <td id=\"T_78604b46_499f_11ec_bda8_0242ac1c0002row3_col11\" class=\"data row3 col11\" >0</td>\n",
              "            </tr>\n",
              "            <tr>\n",
              "                        <th id=\"T_78604b46_499f_11ec_bda8_0242ac1c0002level0_row4\" class=\"row_heading level0 row4\" >Actually M32-38</th>\n",
              "                        <td id=\"T_78604b46_499f_11ec_bda8_0242ac1c0002row4_col0\" class=\"data row4 col0\" >0</td>\n",
              "                        <td id=\"T_78604b46_499f_11ec_bda8_0242ac1c0002row4_col1\" class=\"data row4 col1\" >0</td>\n",
              "                        <td id=\"T_78604b46_499f_11ec_bda8_0242ac1c0002row4_col2\" class=\"data row4 col2\" >0</td>\n",
              "                        <td id=\"T_78604b46_499f_11ec_bda8_0242ac1c0002row4_col3\" class=\"data row4 col3\" >15</td>\n",
              "                        <td id=\"T_78604b46_499f_11ec_bda8_0242ac1c0002row4_col4\" class=\"data row4 col4\" >482</td>\n",
              "                        <td id=\"T_78604b46_499f_11ec_bda8_0242ac1c0002row4_col5\" class=\"data row4 col5\" >42</td>\n",
              "                        <td id=\"T_78604b46_499f_11ec_bda8_0242ac1c0002row4_col6\" class=\"data row4 col6\" >0</td>\n",
              "                        <td id=\"T_78604b46_499f_11ec_bda8_0242ac1c0002row4_col7\" class=\"data row4 col7\" >0</td>\n",
              "                        <td id=\"T_78604b46_499f_11ec_bda8_0242ac1c0002row4_col8\" class=\"data row4 col8\" >0</td>\n",
              "                        <td id=\"T_78604b46_499f_11ec_bda8_0242ac1c0002row4_col9\" class=\"data row4 col9\" >0</td>\n",
              "                        <td id=\"T_78604b46_499f_11ec_bda8_0242ac1c0002row4_col10\" class=\"data row4 col10\" >0</td>\n",
              "                        <td id=\"T_78604b46_499f_11ec_bda8_0242ac1c0002row4_col11\" class=\"data row4 col11\" >0</td>\n",
              "            </tr>\n",
              "            <tr>\n",
              "                        <th id=\"T_78604b46_499f_11ec_bda8_0242ac1c0002level0_row5\" class=\"row_heading level0 row5\" >Actually M39+</th>\n",
              "                        <td id=\"T_78604b46_499f_11ec_bda8_0242ac1c0002row5_col0\" class=\"data row5 col0\" >0</td>\n",
              "                        <td id=\"T_78604b46_499f_11ec_bda8_0242ac1c0002row5_col1\" class=\"data row5 col1\" >0</td>\n",
              "                        <td id=\"T_78604b46_499f_11ec_bda8_0242ac1c0002row5_col2\" class=\"data row5 col2\" >3</td>\n",
              "                        <td id=\"T_78604b46_499f_11ec_bda8_0242ac1c0002row5_col3\" class=\"data row5 col3\" >27</td>\n",
              "                        <td id=\"T_78604b46_499f_11ec_bda8_0242ac1c0002row5_col4\" class=\"data row5 col4\" >17</td>\n",
              "                        <td id=\"T_78604b46_499f_11ec_bda8_0242ac1c0002row5_col5\" class=\"data row5 col5\" >548</td>\n",
              "                        <td id=\"T_78604b46_499f_11ec_bda8_0242ac1c0002row5_col6\" class=\"data row5 col6\" >0</td>\n",
              "                        <td id=\"T_78604b46_499f_11ec_bda8_0242ac1c0002row5_col7\" class=\"data row5 col7\" >0</td>\n",
              "                        <td id=\"T_78604b46_499f_11ec_bda8_0242ac1c0002row5_col8\" class=\"data row5 col8\" >0</td>\n",
              "                        <td id=\"T_78604b46_499f_11ec_bda8_0242ac1c0002row5_col9\" class=\"data row5 col9\" >0</td>\n",
              "                        <td id=\"T_78604b46_499f_11ec_bda8_0242ac1c0002row5_col10\" class=\"data row5 col10\" >0</td>\n",
              "                        <td id=\"T_78604b46_499f_11ec_bda8_0242ac1c0002row5_col11\" class=\"data row5 col11\" >0</td>\n",
              "            </tr>\n",
              "            <tr>\n",
              "                        <th id=\"T_78604b46_499f_11ec_bda8_0242ac1c0002level0_row6\" class=\"row_heading level0 row6\" >Actually F23-</th>\n",
              "                        <td id=\"T_78604b46_499f_11ec_bda8_0242ac1c0002row6_col0\" class=\"data row6 col0\" >0</td>\n",
              "                        <td id=\"T_78604b46_499f_11ec_bda8_0242ac1c0002row6_col1\" class=\"data row6 col1\" >0</td>\n",
              "                        <td id=\"T_78604b46_499f_11ec_bda8_0242ac1c0002row6_col2\" class=\"data row6 col2\" >0</td>\n",
              "                        <td id=\"T_78604b46_499f_11ec_bda8_0242ac1c0002row6_col3\" class=\"data row6 col3\" >0</td>\n",
              "                        <td id=\"T_78604b46_499f_11ec_bda8_0242ac1c0002row6_col4\" class=\"data row6 col4\" >12</td>\n",
              "                        <td id=\"T_78604b46_499f_11ec_bda8_0242ac1c0002row6_col5\" class=\"data row6 col5\" >0</td>\n",
              "                        <td id=\"T_78604b46_499f_11ec_bda8_0242ac1c0002row6_col6\" class=\"data row6 col6\" >27</td>\n",
              "                        <td id=\"T_78604b46_499f_11ec_bda8_0242ac1c0002row6_col7\" class=\"data row6 col7\" >0</td>\n",
              "                        <td id=\"T_78604b46_499f_11ec_bda8_0242ac1c0002row6_col8\" class=\"data row6 col8\" >0</td>\n",
              "                        <td id=\"T_78604b46_499f_11ec_bda8_0242ac1c0002row6_col9\" class=\"data row6 col9\" >0</td>\n",
              "                        <td id=\"T_78604b46_499f_11ec_bda8_0242ac1c0002row6_col10\" class=\"data row6 col10\" >0</td>\n",
              "                        <td id=\"T_78604b46_499f_11ec_bda8_0242ac1c0002row6_col11\" class=\"data row6 col11\" >0</td>\n",
              "            </tr>\n",
              "            <tr>\n",
              "                        <th id=\"T_78604b46_499f_11ec_bda8_0242ac1c0002level0_row7\" class=\"row_heading level0 row7\" >Actually F24-26</th>\n",
              "                        <td id=\"T_78604b46_499f_11ec_bda8_0242ac1c0002row7_col0\" class=\"data row7 col0\" >0</td>\n",
              "                        <td id=\"T_78604b46_499f_11ec_bda8_0242ac1c0002row7_col1\" class=\"data row7 col1\" >0</td>\n",
              "                        <td id=\"T_78604b46_499f_11ec_bda8_0242ac1c0002row7_col2\" class=\"data row7 col2\" >0</td>\n",
              "                        <td id=\"T_78604b46_499f_11ec_bda8_0242ac1c0002row7_col3\" class=\"data row7 col3\" >0</td>\n",
              "                        <td id=\"T_78604b46_499f_11ec_bda8_0242ac1c0002row7_col4\" class=\"data row7 col4\" >0</td>\n",
              "                        <td id=\"T_78604b46_499f_11ec_bda8_0242ac1c0002row7_col5\" class=\"data row7 col5\" >0</td>\n",
              "                        <td id=\"T_78604b46_499f_11ec_bda8_0242ac1c0002row7_col6\" class=\"data row7 col6\" >0</td>\n",
              "                        <td id=\"T_78604b46_499f_11ec_bda8_0242ac1c0002row7_col7\" class=\"data row7 col7\" >29</td>\n",
              "                        <td id=\"T_78604b46_499f_11ec_bda8_0242ac1c0002row7_col8\" class=\"data row7 col8\" >0</td>\n",
              "                        <td id=\"T_78604b46_499f_11ec_bda8_0242ac1c0002row7_col9\" class=\"data row7 col9\" >0</td>\n",
              "                        <td id=\"T_78604b46_499f_11ec_bda8_0242ac1c0002row7_col10\" class=\"data row7 col10\" >0</td>\n",
              "                        <td id=\"T_78604b46_499f_11ec_bda8_0242ac1c0002row7_col11\" class=\"data row7 col11\" >0</td>\n",
              "            </tr>\n",
              "            <tr>\n",
              "                        <th id=\"T_78604b46_499f_11ec_bda8_0242ac1c0002level0_row8\" class=\"row_heading level0 row8\" >Actually F27-28</th>\n",
              "                        <td id=\"T_78604b46_499f_11ec_bda8_0242ac1c0002row8_col0\" class=\"data row8 col0\" >0</td>\n",
              "                        <td id=\"T_78604b46_499f_11ec_bda8_0242ac1c0002row8_col1\" class=\"data row8 col1\" >13</td>\n",
              "                        <td id=\"T_78604b46_499f_11ec_bda8_0242ac1c0002row8_col2\" class=\"data row8 col2\" >0</td>\n",
              "                        <td id=\"T_78604b46_499f_11ec_bda8_0242ac1c0002row8_col3\" class=\"data row8 col3\" >14</td>\n",
              "                        <td id=\"T_78604b46_499f_11ec_bda8_0242ac1c0002row8_col4\" class=\"data row8 col4\" >11</td>\n",
              "                        <td id=\"T_78604b46_499f_11ec_bda8_0242ac1c0002row8_col5\" class=\"data row8 col5\" >0</td>\n",
              "                        <td id=\"T_78604b46_499f_11ec_bda8_0242ac1c0002row8_col6\" class=\"data row8 col6\" >0</td>\n",
              "                        <td id=\"T_78604b46_499f_11ec_bda8_0242ac1c0002row8_col7\" class=\"data row8 col7\" >0</td>\n",
              "                        <td id=\"T_78604b46_499f_11ec_bda8_0242ac1c0002row8_col8\" class=\"data row8 col8\" >19</td>\n",
              "                        <td id=\"T_78604b46_499f_11ec_bda8_0242ac1c0002row8_col9\" class=\"data row8 col9\" >0</td>\n",
              "                        <td id=\"T_78604b46_499f_11ec_bda8_0242ac1c0002row8_col10\" class=\"data row8 col10\" >0</td>\n",
              "                        <td id=\"T_78604b46_499f_11ec_bda8_0242ac1c0002row8_col11\" class=\"data row8 col11\" >0</td>\n",
              "            </tr>\n",
              "            <tr>\n",
              "                        <th id=\"T_78604b46_499f_11ec_bda8_0242ac1c0002level0_row9\" class=\"row_heading level0 row9\" >Actually F29-32</th>\n",
              "                        <td id=\"T_78604b46_499f_11ec_bda8_0242ac1c0002row9_col0\" class=\"data row9 col0\" >0</td>\n",
              "                        <td id=\"T_78604b46_499f_11ec_bda8_0242ac1c0002row9_col1\" class=\"data row9 col1\" >0</td>\n",
              "                        <td id=\"T_78604b46_499f_11ec_bda8_0242ac1c0002row9_col2\" class=\"data row9 col2\" >0</td>\n",
              "                        <td id=\"T_78604b46_499f_11ec_bda8_0242ac1c0002row9_col3\" class=\"data row9 col3\" >0</td>\n",
              "                        <td id=\"T_78604b46_499f_11ec_bda8_0242ac1c0002row9_col4\" class=\"data row9 col4\" >10</td>\n",
              "                        <td id=\"T_78604b46_499f_11ec_bda8_0242ac1c0002row9_col5\" class=\"data row9 col5\" >6</td>\n",
              "                        <td id=\"T_78604b46_499f_11ec_bda8_0242ac1c0002row9_col6\" class=\"data row9 col6\" >0</td>\n",
              "                        <td id=\"T_78604b46_499f_11ec_bda8_0242ac1c0002row9_col7\" class=\"data row9 col7\" >13</td>\n",
              "                        <td id=\"T_78604b46_499f_11ec_bda8_0242ac1c0002row9_col8\" class=\"data row9 col8\" >0</td>\n",
              "                        <td id=\"T_78604b46_499f_11ec_bda8_0242ac1c0002row9_col9\" class=\"data row9 col9\" >52</td>\n",
              "                        <td id=\"T_78604b46_499f_11ec_bda8_0242ac1c0002row9_col10\" class=\"data row9 col10\" >0</td>\n",
              "                        <td id=\"T_78604b46_499f_11ec_bda8_0242ac1c0002row9_col11\" class=\"data row9 col11\" >0</td>\n",
              "            </tr>\n",
              "            <tr>\n",
              "                        <th id=\"T_78604b46_499f_11ec_bda8_0242ac1c0002level0_row10\" class=\"row_heading level0 row10\" >Actually F33-42</th>\n",
              "                        <td id=\"T_78604b46_499f_11ec_bda8_0242ac1c0002row10_col0\" class=\"data row10 col0\" >0</td>\n",
              "                        <td id=\"T_78604b46_499f_11ec_bda8_0242ac1c0002row10_col1\" class=\"data row10 col1\" >0</td>\n",
              "                        <td id=\"T_78604b46_499f_11ec_bda8_0242ac1c0002row10_col2\" class=\"data row10 col2\" >0</td>\n",
              "                        <td id=\"T_78604b46_499f_11ec_bda8_0242ac1c0002row10_col3\" class=\"data row10 col3\" >9</td>\n",
              "                        <td id=\"T_78604b46_499f_11ec_bda8_0242ac1c0002row10_col4\" class=\"data row10 col4\" >0</td>\n",
              "                        <td id=\"T_78604b46_499f_11ec_bda8_0242ac1c0002row10_col5\" class=\"data row10 col5\" >22</td>\n",
              "                        <td id=\"T_78604b46_499f_11ec_bda8_0242ac1c0002row10_col6\" class=\"data row10 col6\" >0</td>\n",
              "                        <td id=\"T_78604b46_499f_11ec_bda8_0242ac1c0002row10_col7\" class=\"data row10 col7\" >0</td>\n",
              "                        <td id=\"T_78604b46_499f_11ec_bda8_0242ac1c0002row10_col8\" class=\"data row10 col8\" >16</td>\n",
              "                        <td id=\"T_78604b46_499f_11ec_bda8_0242ac1c0002row10_col9\" class=\"data row10 col9\" >0</td>\n",
              "                        <td id=\"T_78604b46_499f_11ec_bda8_0242ac1c0002row10_col10\" class=\"data row10 col10\" >90</td>\n",
              "                        <td id=\"T_78604b46_499f_11ec_bda8_0242ac1c0002row10_col11\" class=\"data row10 col11\" >0</td>\n",
              "            </tr>\n",
              "            <tr>\n",
              "                        <th id=\"T_78604b46_499f_11ec_bda8_0242ac1c0002level0_row11\" class=\"row_heading level0 row11\" >Actually F43+</th>\n",
              "                        <td id=\"T_78604b46_499f_11ec_bda8_0242ac1c0002row11_col0\" class=\"data row11 col0\" >0</td>\n",
              "                        <td id=\"T_78604b46_499f_11ec_bda8_0242ac1c0002row11_col1\" class=\"data row11 col1\" >5</td>\n",
              "                        <td id=\"T_78604b46_499f_11ec_bda8_0242ac1c0002row11_col2\" class=\"data row11 col2\" >0</td>\n",
              "                        <td id=\"T_78604b46_499f_11ec_bda8_0242ac1c0002row11_col3\" class=\"data row11 col3\" >7</td>\n",
              "                        <td id=\"T_78604b46_499f_11ec_bda8_0242ac1c0002row11_col4\" class=\"data row11 col4\" >9</td>\n",
              "                        <td id=\"T_78604b46_499f_11ec_bda8_0242ac1c0002row11_col5\" class=\"data row11 col5\" >2</td>\n",
              "                        <td id=\"T_78604b46_499f_11ec_bda8_0242ac1c0002row11_col6\" class=\"data row11 col6\" >0</td>\n",
              "                        <td id=\"T_78604b46_499f_11ec_bda8_0242ac1c0002row11_col7\" class=\"data row11 col7\" >0</td>\n",
              "                        <td id=\"T_78604b46_499f_11ec_bda8_0242ac1c0002row11_col8\" class=\"data row11 col8\" >0</td>\n",
              "                        <td id=\"T_78604b46_499f_11ec_bda8_0242ac1c0002row11_col9\" class=\"data row11 col9\" >32</td>\n",
              "                        <td id=\"T_78604b46_499f_11ec_bda8_0242ac1c0002row11_col10\" class=\"data row11 col10\" >0</td>\n",
              "                        <td id=\"T_78604b46_499f_11ec_bda8_0242ac1c0002row11_col11\" class=\"data row11 col11\" >118</td>\n",
              "            </tr>\n",
              "    </tbody></table>"
            ],
            "text/plain": [
              "<pandas.io.formats.style.Styler at 0x7f3d07df3990>"
            ]
          },
          "metadata": {},
          "execution_count": 75
        }
      ]
    },
    {
      "cell_type": "code",
      "metadata": {
        "colab": {
          "base_uri": "https://localhost:8080/"
        },
        "id": "bcGNcqx36QIr",
        "outputId": "396f5ae7-7012-42dd-82e7-f01152d41ea5"
      },
      "source": [
        "print(\"Classification Report:\")\n",
        "print()\n",
        "print(classification_report(y_test, y_pred))"
      ],
      "execution_count": null,
      "outputs": [
        {
          "output_type": "stream",
          "name": "stdout",
          "text": [
            "Classification Report:\n",
            "\n",
            "              precision    recall  f1-score   support\n",
            "\n",
            "           0       0.92      0.76      0.83       128\n",
            "           1       0.93      0.94      0.94       258\n",
            "           2       0.95      0.72      0.82       192\n",
            "           3       0.71      0.79      0.75       283\n",
            "           4       0.83      0.89      0.86       539\n",
            "           5       0.82      0.92      0.87       595\n",
            "           6       0.75      0.69      0.72        39\n",
            "           7       0.69      1.00      0.82        29\n",
            "           8       0.54      0.33      0.41        57\n",
            "           9       0.62      0.64      0.63        81\n",
            "          10       0.87      0.66      0.75       137\n",
            "          11       0.90      0.68      0.78       173\n",
            "\n",
            "    accuracy                           0.82      2511\n",
            "   macro avg       0.79      0.75      0.76      2511\n",
            "weighted avg       0.83      0.82      0.82      2511\n",
            "\n"
          ]
        }
      ]
    },
    {
      "cell_type": "code",
      "metadata": {
        "id": "HJSRdbix6Quf"
      },
      "source": [
        "def multiclass_roc_auc_score(y_test, y_pred, average=\"macro\"):\n",
        "  lb = LabelBinarizer()\n",
        "  lb.fit(y_test)\n",
        "  y_test = lb.transform(y_test)\n",
        "  y_pred = lb.transform(y_pred)\n",
        "  return roc_auc_score(y_test, y_pred, average=average)\n"
      ],
      "execution_count": null,
      "outputs": []
    },
    {
      "cell_type": "code",
      "metadata": {
        "colab": {
          "base_uri": "https://localhost:8080/"
        },
        "id": "PLsq-Mqn6Qxz",
        "outputId": "c83a6817-f7fb-4a75-d0ee-d05c63d075ec"
      },
      "source": [
        "multiclass_roc_auc_score(y_test, y_pred, average=\"macro\")"
      ],
      "execution_count": null,
      "outputs": [
        {
          "output_type": "execute_result",
          "data": {
            "text/plain": [
              "0.8675760593619294"
            ]
          },
          "metadata": {},
          "execution_count": 79
        }
      ]
    },
    {
      "cell_type": "markdown",
      "metadata": {
        "id": "J8C7tdZz6RLv"
      },
      "source": [
        "# Support Vector Machine"
      ]
    },
    {
      "cell_type": "code",
      "metadata": {
        "id": "JYhBRI0N6S8r"
      },
      "source": [
        "pipeline = Pipeline(\n",
        "    [\n",
        "        (\"scaler\", StandardScaler()),\n",
        "        (\"pca\", PCA(n_components=n_components)),\n",
        "        (\"svcc\", SVC()),\n",
        "    ]\n",
        ")\n",
        "pipeline = pipeline.fit(X_train, y_train)\n"
      ],
      "execution_count": null,
      "outputs": []
    },
    {
      "cell_type": "code",
      "metadata": {
        "id": "1yhIw6Ca6TAZ"
      },
      "source": [
        "grid = { \"svcc__gamma\": [1.0, 5.0, 10.0], 'svcc__kernel': ['rbf']}\n",
        "\n",
        "\n",
        "model = GridSearchCV(pipeline, grid, verbose=1, cv=3)"
      ],
      "execution_count": null,
      "outputs": []
    },
    {
      "cell_type": "code",
      "metadata": {
        "colab": {
          "base_uri": "https://localhost:8080/"
        },
        "id": "C-PT_fDg6TCe",
        "outputId": "c0a4d1be-0d45-4a85-a73f-2822f7e85351"
      },
      "source": [
        "model.fit(X_train, y_train)\n"
      ],
      "execution_count": null,
      "outputs": [
        {
          "output_type": "stream",
          "name": "stdout",
          "text": [
            "Fitting 3 folds for each of 3 candidates, totalling 9 fits\n"
          ]
        },
        {
          "output_type": "execute_result",
          "data": {
            "text/plain": [
              "GridSearchCV(cv=3,\n",
              "             estimator=Pipeline(steps=[('scaler', StandardScaler()),\n",
              "                                       ('pca', PCA(n_components=48)),\n",
              "                                       ('svcc', SVC())]),\n",
              "             param_grid={'svcc__gamma': [1.0, 5.0, 10.0],\n",
              "                         'svcc__kernel': ['rbf']},\n",
              "             verbose=1)"
            ]
          },
          "metadata": {},
          "execution_count": 82
        }
      ]
    },
    {
      "cell_type": "code",
      "metadata": {
        "colab": {
          "base_uri": "https://localhost:8080/"
        },
        "id": "Z1Tu5a8X6TFr",
        "outputId": "3384f37b-9a37-4a1d-d78c-0c3e4b6d323b"
      },
      "source": [
        "model.best_params_"
      ],
      "execution_count": null,
      "outputs": [
        {
          "output_type": "execute_result",
          "data": {
            "text/plain": [
              "{'svcc__gamma': 10.0, 'svcc__kernel': 'rbf'}"
            ]
          },
          "metadata": {},
          "execution_count": 83
        }
      ]
    },
    {
      "cell_type": "code",
      "metadata": {
        "colab": {
          "base_uri": "https://localhost:8080/"
        },
        "id": "72NvUd1x6THu",
        "outputId": "dfdc4178-2ac8-4f45-f77e-8f8c8e9a4dce"
      },
      "source": [
        "# Model still appears to be extremely overfitting\n",
        "train_score = model.score(X_train, y_train)\n",
        "test_score = model.score(X_test, y_test)\n",
        "\n",
        "print(f\"Train score: {train_score}\")\n",
        "print(f\"Test score: {test_score}\")\n"
      ],
      "execution_count": null,
      "outputs": [
        {
          "output_type": "stream",
          "name": "stdout",
          "text": [
            "Train score: 0.9469123505976096\n",
            "Test score: 0.663878932696137\n"
          ]
        }
      ]
    },
    {
      "cell_type": "code",
      "metadata": {
        "colab": {
          "base_uri": "https://localhost:8080/",
          "height": 425
        },
        "id": "3iek6cIm6TJh",
        "outputId": "cf29a2e7-5612-4f84-b567-eb9f2dc741c9"
      },
      "source": [
        "y_pred = model.predict(X_test)\n",
        "\n",
        "con_mat = pd.DataFrame(\n",
        "    confusion_matrix(y_test, y_pred),\n",
        "    index=[\n",
        "        \"Actually M22-\",\n",
        "        \"Actually M23-26\",\n",
        "        \"Actually M27-28\",\n",
        "        \"Actually M29-31\",\n",
        "        \"Actually M32-38\",\n",
        "        \"Actually M39+\",\n",
        "        \"Actually F23-\",\n",
        "        \"Actually F24-26\",\n",
        "        \"Actually F27-28\",\n",
        "        \"Actually F29-32\",\n",
        "        \"Actually F33-42\",\n",
        "        \"Actually F43+\",\n",
        "    ],\n",
        "    columns=[\n",
        "        \"Predicted M22-\",\n",
        "        \"Predicted M23-26\",\n",
        "        \"Predicted M27-28\",\n",
        "        \"Predicted M29-31\",\n",
        "        \"Predicted M32-38\",\n",
        "        \"Predicted M39+\",\n",
        "        \"Predicted F23-\",\n",
        "        \"Predicted F24-26\",\n",
        "        \"Predicted F27-28\",\n",
        "        \"Predicted F29-32\",\n",
        "        \"Predicted F33-42\",\n",
        "        \"Predicted F43+\",\n",
        "    ],\n",
        ")\n",
        "con_mat.style.background_gradient(axis=None)\n"
      ],
      "execution_count": null,
      "outputs": [
        {
          "output_type": "execute_result",
          "data": {
            "text/html": [
              "<style  type=\"text/css\" >\n",
              "#T_f7553290_499f_11ec_bda8_0242ac1c0002row0_col0{\n",
              "            background-color:  #efe9f3;\n",
              "            color:  #000000;\n",
              "        }#T_f7553290_499f_11ec_bda8_0242ac1c0002row0_col1,#T_f7553290_499f_11ec_bda8_0242ac1c0002row4_col10,#T_f7553290_499f_11ec_bda8_0242ac1c0002row5_col10,#T_f7553290_499f_11ec_bda8_0242ac1c0002row6_col4,#T_f7553290_499f_11ec_bda8_0242ac1c0002row10_col4,#T_f7553290_499f_11ec_bda8_0242ac1c0002row11_col3{\n",
              "            background-color:  #fef6fa;\n",
              "            color:  #000000;\n",
              "        }#T_f7553290_499f_11ec_bda8_0242ac1c0002row0_col2,#T_f7553290_499f_11ec_bda8_0242ac1c0002row0_col6,#T_f7553290_499f_11ec_bda8_0242ac1c0002row0_col7,#T_f7553290_499f_11ec_bda8_0242ac1c0002row0_col8,#T_f7553290_499f_11ec_bda8_0242ac1c0002row0_col9,#T_f7553290_499f_11ec_bda8_0242ac1c0002row0_col10,#T_f7553290_499f_11ec_bda8_0242ac1c0002row0_col11,#T_f7553290_499f_11ec_bda8_0242ac1c0002row1_col2,#T_f7553290_499f_11ec_bda8_0242ac1c0002row1_col6,#T_f7553290_499f_11ec_bda8_0242ac1c0002row1_col7,#T_f7553290_499f_11ec_bda8_0242ac1c0002row1_col8,#T_f7553290_499f_11ec_bda8_0242ac1c0002row1_col9,#T_f7553290_499f_11ec_bda8_0242ac1c0002row1_col10,#T_f7553290_499f_11ec_bda8_0242ac1c0002row1_col11,#T_f7553290_499f_11ec_bda8_0242ac1c0002row2_col0,#T_f7553290_499f_11ec_bda8_0242ac1c0002row2_col1,#T_f7553290_499f_11ec_bda8_0242ac1c0002row2_col3,#T_f7553290_499f_11ec_bda8_0242ac1c0002row2_col6,#T_f7553290_499f_11ec_bda8_0242ac1c0002row2_col7,#T_f7553290_499f_11ec_bda8_0242ac1c0002row2_col8,#T_f7553290_499f_11ec_bda8_0242ac1c0002row2_col9,#T_f7553290_499f_11ec_bda8_0242ac1c0002row2_col10,#T_f7553290_499f_11ec_bda8_0242ac1c0002row2_col11,#T_f7553290_499f_11ec_bda8_0242ac1c0002row3_col1,#T_f7553290_499f_11ec_bda8_0242ac1c0002row3_col2,#T_f7553290_499f_11ec_bda8_0242ac1c0002row3_col6,#T_f7553290_499f_11ec_bda8_0242ac1c0002row3_col7,#T_f7553290_499f_11ec_bda8_0242ac1c0002row3_col8,#T_f7553290_499f_11ec_bda8_0242ac1c0002row3_col9,#T_f7553290_499f_11ec_bda8_0242ac1c0002row3_col10,#T_f7553290_499f_11ec_bda8_0242ac1c0002row3_col11,#T_f7553290_499f_11ec_bda8_0242ac1c0002row4_col0,#T_f7553290_499f_11ec_bda8_0242ac1c0002row4_col1,#T_f7553290_499f_11ec_bda8_0242ac1c0002row4_col2,#T_f7553290_499f_11ec_bda8_0242ac1c0002row4_col6,#T_f7553290_499f_11ec_bda8_0242ac1c0002row4_col7,#T_f7553290_499f_11ec_bda8_0242ac1c0002row4_col8,#T_f7553290_499f_11ec_bda8_0242ac1c0002row4_col9,#T_f7553290_499f_11ec_bda8_0242ac1c0002row5_col0,#T_f7553290_499f_11ec_bda8_0242ac1c0002row5_col1,#T_f7553290_499f_11ec_bda8_0242ac1c0002row5_col6,#T_f7553290_499f_11ec_bda8_0242ac1c0002row5_col8,#T_f7553290_499f_11ec_bda8_0242ac1c0002row5_col9,#T_f7553290_499f_11ec_bda8_0242ac1c0002row5_col11,#T_f7553290_499f_11ec_bda8_0242ac1c0002row6_col0,#T_f7553290_499f_11ec_bda8_0242ac1c0002row6_col1,#T_f7553290_499f_11ec_bda8_0242ac1c0002row6_col2,#T_f7553290_499f_11ec_bda8_0242ac1c0002row6_col3,#T_f7553290_499f_11ec_bda8_0242ac1c0002row6_col7,#T_f7553290_499f_11ec_bda8_0242ac1c0002row6_col8,#T_f7553290_499f_11ec_bda8_0242ac1c0002row6_col9,#T_f7553290_499f_11ec_bda8_0242ac1c0002row6_col10,#T_f7553290_499f_11ec_bda8_0242ac1c0002row6_col11,#T_f7553290_499f_11ec_bda8_0242ac1c0002row7_col0,#T_f7553290_499f_11ec_bda8_0242ac1c0002row7_col1,#T_f7553290_499f_11ec_bda8_0242ac1c0002row7_col2,#T_f7553290_499f_11ec_bda8_0242ac1c0002row7_col3,#T_f7553290_499f_11ec_bda8_0242ac1c0002row7_col4,#T_f7553290_499f_11ec_bda8_0242ac1c0002row7_col6,#T_f7553290_499f_11ec_bda8_0242ac1c0002row7_col8,#T_f7553290_499f_11ec_bda8_0242ac1c0002row7_col9,#T_f7553290_499f_11ec_bda8_0242ac1c0002row7_col11,#T_f7553290_499f_11ec_bda8_0242ac1c0002row8_col0,#T_f7553290_499f_11ec_bda8_0242ac1c0002row8_col1,#T_f7553290_499f_11ec_bda8_0242ac1c0002row8_col2,#T_f7553290_499f_11ec_bda8_0242ac1c0002row8_col4,#T_f7553290_499f_11ec_bda8_0242ac1c0002row8_col6,#T_f7553290_499f_11ec_bda8_0242ac1c0002row8_col7,#T_f7553290_499f_11ec_bda8_0242ac1c0002row8_col9,#T_f7553290_499f_11ec_bda8_0242ac1c0002row8_col10,#T_f7553290_499f_11ec_bda8_0242ac1c0002row8_col11,#T_f7553290_499f_11ec_bda8_0242ac1c0002row9_col0,#T_f7553290_499f_11ec_bda8_0242ac1c0002row9_col1,#T_f7553290_499f_11ec_bda8_0242ac1c0002row9_col2,#T_f7553290_499f_11ec_bda8_0242ac1c0002row9_col3,#T_f7553290_499f_11ec_bda8_0242ac1c0002row9_col6,#T_f7553290_499f_11ec_bda8_0242ac1c0002row9_col7,#T_f7553290_499f_11ec_bda8_0242ac1c0002row9_col8,#T_f7553290_499f_11ec_bda8_0242ac1c0002row9_col10,#T_f7553290_499f_11ec_bda8_0242ac1c0002row9_col11,#T_f7553290_499f_11ec_bda8_0242ac1c0002row10_col0,#T_f7553290_499f_11ec_bda8_0242ac1c0002row10_col1,#T_f7553290_499f_11ec_bda8_0242ac1c0002row10_col2,#T_f7553290_499f_11ec_bda8_0242ac1c0002row10_col6,#T_f7553290_499f_11ec_bda8_0242ac1c0002row10_col7,#T_f7553290_499f_11ec_bda8_0242ac1c0002row10_col8,#T_f7553290_499f_11ec_bda8_0242ac1c0002row10_col9,#T_f7553290_499f_11ec_bda8_0242ac1c0002row10_col11,#T_f7553290_499f_11ec_bda8_0242ac1c0002row11_col0,#T_f7553290_499f_11ec_bda8_0242ac1c0002row11_col1,#T_f7553290_499f_11ec_bda8_0242ac1c0002row11_col2,#T_f7553290_499f_11ec_bda8_0242ac1c0002row11_col6,#T_f7553290_499f_11ec_bda8_0242ac1c0002row11_col7,#T_f7553290_499f_11ec_bda8_0242ac1c0002row11_col8,#T_f7553290_499f_11ec_bda8_0242ac1c0002row11_col9,#T_f7553290_499f_11ec_bda8_0242ac1c0002row11_col10{\n",
              "            background-color:  #fff7fb;\n",
              "            color:  #000000;\n",
              "        }#T_f7553290_499f_11ec_bda8_0242ac1c0002row0_col3,#T_f7553290_499f_11ec_bda8_0242ac1c0002row0_col4,#T_f7553290_499f_11ec_bda8_0242ac1c0002row1_col0,#T_f7553290_499f_11ec_bda8_0242ac1c0002row3_col0,#T_f7553290_499f_11ec_bda8_0242ac1c0002row4_col3,#T_f7553290_499f_11ec_bda8_0242ac1c0002row7_col5{\n",
              "            background-color:  #fdf5fa;\n",
              "            color:  #000000;\n",
              "        }#T_f7553290_499f_11ec_bda8_0242ac1c0002row0_col5{\n",
              "            background-color:  #f3edf5;\n",
              "            color:  #000000;\n",
              "        }#T_f7553290_499f_11ec_bda8_0242ac1c0002row1_col1,#T_f7553290_499f_11ec_bda8_0242ac1c0002row3_col3{\n",
              "            background-color:  #c4cbe3;\n",
              "            color:  #000000;\n",
              "        }#T_f7553290_499f_11ec_bda8_0242ac1c0002row1_col3,#T_f7553290_499f_11ec_bda8_0242ac1c0002row1_col4,#T_f7553290_499f_11ec_bda8_0242ac1c0002row2_col4,#T_f7553290_499f_11ec_bda8_0242ac1c0002row4_col11,#T_f7553290_499f_11ec_bda8_0242ac1c0002row5_col2,#T_f7553290_499f_11ec_bda8_0242ac1c0002row5_col7,#T_f7553290_499f_11ec_bda8_0242ac1c0002row7_col10,#T_f7553290_499f_11ec_bda8_0242ac1c0002row8_col3,#T_f7553290_499f_11ec_bda8_0242ac1c0002row9_col4,#T_f7553290_499f_11ec_bda8_0242ac1c0002row10_col3{\n",
              "            background-color:  #fef6fb;\n",
              "            color:  #000000;\n",
              "        }#T_f7553290_499f_11ec_bda8_0242ac1c0002row1_col5{\n",
              "            background-color:  #e6e2ef;\n",
              "            color:  #000000;\n",
              "        }#T_f7553290_499f_11ec_bda8_0242ac1c0002row2_col2{\n",
              "            background-color:  #d9d8ea;\n",
              "            color:  #000000;\n",
              "        }#T_f7553290_499f_11ec_bda8_0242ac1c0002row2_col5{\n",
              "            background-color:  #ebe6f2;\n",
              "            color:  #000000;\n",
              "        }#T_f7553290_499f_11ec_bda8_0242ac1c0002row3_col4,#T_f7553290_499f_11ec_bda8_0242ac1c0002row7_col7,#T_f7553290_499f_11ec_bda8_0242ac1c0002row11_col4{\n",
              "            background-color:  #fbf3f9;\n",
              "            color:  #000000;\n",
              "        }#T_f7553290_499f_11ec_bda8_0242ac1c0002row3_col5{\n",
              "            background-color:  #e0dded;\n",
              "            color:  #000000;\n",
              "        }#T_f7553290_499f_11ec_bda8_0242ac1c0002row4_col4{\n",
              "            background-color:  #3b92c1;\n",
              "            color:  #000000;\n",
              "        }#T_f7553290_499f_11ec_bda8_0242ac1c0002row4_col5{\n",
              "            background-color:  #b7c5df;\n",
              "            color:  #000000;\n",
              "        }#T_f7553290_499f_11ec_bda8_0242ac1c0002row5_col3{\n",
              "            background-color:  #fcf4fa;\n",
              "            color:  #000000;\n",
              "        }#T_f7553290_499f_11ec_bda8_0242ac1c0002row5_col4{\n",
              "            background-color:  #faf3f9;\n",
              "            color:  #000000;\n",
              "        }#T_f7553290_499f_11ec_bda8_0242ac1c0002row5_col5{\n",
              "            background-color:  #023858;\n",
              "            color:  #f1f1f1;\n",
              "        }#T_f7553290_499f_11ec_bda8_0242ac1c0002row6_col5{\n",
              "            background-color:  #fbf4f9;\n",
              "            color:  #000000;\n",
              "        }#T_f7553290_499f_11ec_bda8_0242ac1c0002row6_col6,#T_f7553290_499f_11ec_bda8_0242ac1c0002row8_col5{\n",
              "            background-color:  #faf2f8;\n",
              "            color:  #000000;\n",
              "        }#T_f7553290_499f_11ec_bda8_0242ac1c0002row8_col8{\n",
              "            background-color:  #f6eff7;\n",
              "            color:  #000000;\n",
              "        }#T_f7553290_499f_11ec_bda8_0242ac1c0002row9_col5{\n",
              "            background-color:  #f5eff6;\n",
              "            color:  #000000;\n",
              "        }#T_f7553290_499f_11ec_bda8_0242ac1c0002row9_col9{\n",
              "            background-color:  #f4edf6;\n",
              "            color:  #000000;\n",
              "        }#T_f7553290_499f_11ec_bda8_0242ac1c0002row10_col5,#T_f7553290_499f_11ec_bda8_0242ac1c0002row11_col5{\n",
              "            background-color:  #f1ebf4;\n",
              "            color:  #000000;\n",
              "        }#T_f7553290_499f_11ec_bda8_0242ac1c0002row10_col10{\n",
              "            background-color:  #eae6f1;\n",
              "            color:  #000000;\n",
              "        }#T_f7553290_499f_11ec_bda8_0242ac1c0002row11_col11{\n",
              "            background-color:  #e0deed;\n",
              "            color:  #000000;\n",
              "        }</style><table id=\"T_f7553290_499f_11ec_bda8_0242ac1c0002\" class=\"dataframe\"><thead>    <tr>        <th class=\"blank level0\" ></th>        <th class=\"col_heading level0 col0\" >Predicted M22-</th>        <th class=\"col_heading level0 col1\" >Predicted M23-26</th>        <th class=\"col_heading level0 col2\" >Predicted M27-28</th>        <th class=\"col_heading level0 col3\" >Predicted M29-31</th>        <th class=\"col_heading level0 col4\" >Predicted M32-38</th>        <th class=\"col_heading level0 col5\" >Predicted M39+</th>        <th class=\"col_heading level0 col6\" >Predicted F23-</th>        <th class=\"col_heading level0 col7\" >Predicted F24-26</th>        <th class=\"col_heading level0 col8\" >Predicted F27-28</th>        <th class=\"col_heading level0 col9\" >Predicted F29-32</th>        <th class=\"col_heading level0 col10\" >Predicted F33-42</th>        <th class=\"col_heading level0 col11\" >Predicted F43+</th>    </tr></thead><tbody>\n",
              "                <tr>\n",
              "                        <th id=\"T_f7553290_499f_11ec_bda8_0242ac1c0002level0_row0\" class=\"row_heading level0 row0\" >Actually M22-</th>\n",
              "                        <td id=\"T_f7553290_499f_11ec_bda8_0242ac1c0002row0_col0\" class=\"data row0 col0\" >59</td>\n",
              "                        <td id=\"T_f7553290_499f_11ec_bda8_0242ac1c0002row0_col1\" class=\"data row0 col1\" >5</td>\n",
              "                        <td id=\"T_f7553290_499f_11ec_bda8_0242ac1c0002row0_col2\" class=\"data row0 col2\" >0</td>\n",
              "                        <td id=\"T_f7553290_499f_11ec_bda8_0242ac1c0002row0_col3\" class=\"data row0 col3\" >10</td>\n",
              "                        <td id=\"T_f7553290_499f_11ec_bda8_0242ac1c0002row0_col4\" class=\"data row0 col4\" >9</td>\n",
              "                        <td id=\"T_f7553290_499f_11ec_bda8_0242ac1c0002row0_col5\" class=\"data row0 col5\" >45</td>\n",
              "                        <td id=\"T_f7553290_499f_11ec_bda8_0242ac1c0002row0_col6\" class=\"data row0 col6\" >0</td>\n",
              "                        <td id=\"T_f7553290_499f_11ec_bda8_0242ac1c0002row0_col7\" class=\"data row0 col7\" >0</td>\n",
              "                        <td id=\"T_f7553290_499f_11ec_bda8_0242ac1c0002row0_col8\" class=\"data row0 col8\" >0</td>\n",
              "                        <td id=\"T_f7553290_499f_11ec_bda8_0242ac1c0002row0_col9\" class=\"data row0 col9\" >0</td>\n",
              "                        <td id=\"T_f7553290_499f_11ec_bda8_0242ac1c0002row0_col10\" class=\"data row0 col10\" >0</td>\n",
              "                        <td id=\"T_f7553290_499f_11ec_bda8_0242ac1c0002row0_col11\" class=\"data row0 col11\" >0</td>\n",
              "            </tr>\n",
              "            <tr>\n",
              "                        <th id=\"T_f7553290_499f_11ec_bda8_0242ac1c0002level0_row1\" class=\"row_heading level0 row1\" >Actually M23-26</th>\n",
              "                        <td id=\"T_f7553290_499f_11ec_bda8_0242ac1c0002row1_col0\" class=\"data row1 col0\" >8</td>\n",
              "                        <td id=\"T_f7553290_499f_11ec_bda8_0242ac1c0002row1_col1\" class=\"data row1 col1\" >158</td>\n",
              "                        <td id=\"T_f7553290_499f_11ec_bda8_0242ac1c0002row1_col2\" class=\"data row1 col2\" >0</td>\n",
              "                        <td id=\"T_f7553290_499f_11ec_bda8_0242ac1c0002row1_col3\" class=\"data row1 col3\" >3</td>\n",
              "                        <td id=\"T_f7553290_499f_11ec_bda8_0242ac1c0002row1_col4\" class=\"data row1 col4\" >4</td>\n",
              "                        <td id=\"T_f7553290_499f_11ec_bda8_0242ac1c0002row1_col5\" class=\"data row1 col5\" >85</td>\n",
              "                        <td id=\"T_f7553290_499f_11ec_bda8_0242ac1c0002row1_col6\" class=\"data row1 col6\" >0</td>\n",
              "                        <td id=\"T_f7553290_499f_11ec_bda8_0242ac1c0002row1_col7\" class=\"data row1 col7\" >0</td>\n",
              "                        <td id=\"T_f7553290_499f_11ec_bda8_0242ac1c0002row1_col8\" class=\"data row1 col8\" >0</td>\n",
              "                        <td id=\"T_f7553290_499f_11ec_bda8_0242ac1c0002row1_col9\" class=\"data row1 col9\" >0</td>\n",
              "                        <td id=\"T_f7553290_499f_11ec_bda8_0242ac1c0002row1_col10\" class=\"data row1 col10\" >0</td>\n",
              "                        <td id=\"T_f7553290_499f_11ec_bda8_0242ac1c0002row1_col11\" class=\"data row1 col11\" >0</td>\n",
              "            </tr>\n",
              "            <tr>\n",
              "                        <th id=\"T_f7553290_499f_11ec_bda8_0242ac1c0002level0_row2\" class=\"row_heading level0 row2\" >Actually M27-28</th>\n",
              "                        <td id=\"T_f7553290_499f_11ec_bda8_0242ac1c0002row2_col0\" class=\"data row2 col0\" >0</td>\n",
              "                        <td id=\"T_f7553290_499f_11ec_bda8_0242ac1c0002row2_col1\" class=\"data row2 col1\" >0</td>\n",
              "                        <td id=\"T_f7553290_499f_11ec_bda8_0242ac1c0002row2_col2\" class=\"data row2 col2\" >116</td>\n",
              "                        <td id=\"T_f7553290_499f_11ec_bda8_0242ac1c0002row2_col3\" class=\"data row2 col3\" >0</td>\n",
              "                        <td id=\"T_f7553290_499f_11ec_bda8_0242ac1c0002row2_col4\" class=\"data row2 col4\" >3</td>\n",
              "                        <td id=\"T_f7553290_499f_11ec_bda8_0242ac1c0002row2_col5\" class=\"data row2 col5\" >73</td>\n",
              "                        <td id=\"T_f7553290_499f_11ec_bda8_0242ac1c0002row2_col6\" class=\"data row2 col6\" >0</td>\n",
              "                        <td id=\"T_f7553290_499f_11ec_bda8_0242ac1c0002row2_col7\" class=\"data row2 col7\" >0</td>\n",
              "                        <td id=\"T_f7553290_499f_11ec_bda8_0242ac1c0002row2_col8\" class=\"data row2 col8\" >0</td>\n",
              "                        <td id=\"T_f7553290_499f_11ec_bda8_0242ac1c0002row2_col9\" class=\"data row2 col9\" >0</td>\n",
              "                        <td id=\"T_f7553290_499f_11ec_bda8_0242ac1c0002row2_col10\" class=\"data row2 col10\" >0</td>\n",
              "                        <td id=\"T_f7553290_499f_11ec_bda8_0242ac1c0002row2_col11\" class=\"data row2 col11\" >0</td>\n",
              "            </tr>\n",
              "            <tr>\n",
              "                        <th id=\"T_f7553290_499f_11ec_bda8_0242ac1c0002level0_row3\" class=\"row_heading level0 row3\" >Actually M29-31</th>\n",
              "                        <td id=\"T_f7553290_499f_11ec_bda8_0242ac1c0002row3_col0\" class=\"data row3 col0\" >7</td>\n",
              "                        <td id=\"T_f7553290_499f_11ec_bda8_0242ac1c0002row3_col1\" class=\"data row3 col1\" >1</td>\n",
              "                        <td id=\"T_f7553290_499f_11ec_bda8_0242ac1c0002row3_col2\" class=\"data row3 col2\" >0</td>\n",
              "                        <td id=\"T_f7553290_499f_11ec_bda8_0242ac1c0002row3_col3\" class=\"data row3 col3\" >158</td>\n",
              "                        <td id=\"T_f7553290_499f_11ec_bda8_0242ac1c0002row3_col4\" class=\"data row3 col4\" >16</td>\n",
              "                        <td id=\"T_f7553290_499f_11ec_bda8_0242ac1c0002row3_col5\" class=\"data row3 col5\" >101</td>\n",
              "                        <td id=\"T_f7553290_499f_11ec_bda8_0242ac1c0002row3_col6\" class=\"data row3 col6\" >0</td>\n",
              "                        <td id=\"T_f7553290_499f_11ec_bda8_0242ac1c0002row3_col7\" class=\"data row3 col7\" >0</td>\n",
              "                        <td id=\"T_f7553290_499f_11ec_bda8_0242ac1c0002row3_col8\" class=\"data row3 col8\" >0</td>\n",
              "                        <td id=\"T_f7553290_499f_11ec_bda8_0242ac1c0002row3_col9\" class=\"data row3 col9\" >0</td>\n",
              "                        <td id=\"T_f7553290_499f_11ec_bda8_0242ac1c0002row3_col10\" class=\"data row3 col10\" >0</td>\n",
              "                        <td id=\"T_f7553290_499f_11ec_bda8_0242ac1c0002row3_col11\" class=\"data row3 col11\" >0</td>\n",
              "            </tr>\n",
              "            <tr>\n",
              "                        <th id=\"T_f7553290_499f_11ec_bda8_0242ac1c0002level0_row4\" class=\"row_heading level0 row4\" >Actually M32-38</th>\n",
              "                        <td id=\"T_f7553290_499f_11ec_bda8_0242ac1c0002row4_col0\" class=\"data row4 col0\" >0</td>\n",
              "                        <td id=\"T_f7553290_499f_11ec_bda8_0242ac1c0002row4_col1\" class=\"data row4 col1\" >0</td>\n",
              "                        <td id=\"T_f7553290_499f_11ec_bda8_0242ac1c0002row4_col2\" class=\"data row4 col2\" >0</td>\n",
              "                        <td id=\"T_f7553290_499f_11ec_bda8_0242ac1c0002row4_col3\" class=\"data row4 col3\" >8</td>\n",
              "                        <td id=\"T_f7553290_499f_11ec_bda8_0242ac1c0002row4_col4\" class=\"data row4 col4\" >340</td>\n",
              "                        <td id=\"T_f7553290_499f_11ec_bda8_0242ac1c0002row4_col5\" class=\"data row4 col5\" >180</td>\n",
              "                        <td id=\"T_f7553290_499f_11ec_bda8_0242ac1c0002row4_col6\" class=\"data row4 col6\" >0</td>\n",
              "                        <td id=\"T_f7553290_499f_11ec_bda8_0242ac1c0002row4_col7\" class=\"data row4 col7\" >1</td>\n",
              "                        <td id=\"T_f7553290_499f_11ec_bda8_0242ac1c0002row4_col8\" class=\"data row4 col8\" >0</td>\n",
              "                        <td id=\"T_f7553290_499f_11ec_bda8_0242ac1c0002row4_col9\" class=\"data row4 col9\" >1</td>\n",
              "                        <td id=\"T_f7553290_499f_11ec_bda8_0242ac1c0002row4_col10\" class=\"data row4 col10\" >5</td>\n",
              "                        <td id=\"T_f7553290_499f_11ec_bda8_0242ac1c0002row4_col11\" class=\"data row4 col11\" >4</td>\n",
              "            </tr>\n",
              "            <tr>\n",
              "                        <th id=\"T_f7553290_499f_11ec_bda8_0242ac1c0002level0_row5\" class=\"row_heading level0 row5\" >Actually M39+</th>\n",
              "                        <td id=\"T_f7553290_499f_11ec_bda8_0242ac1c0002row5_col0\" class=\"data row5 col0\" >2</td>\n",
              "                        <td id=\"T_f7553290_499f_11ec_bda8_0242ac1c0002row5_col1\" class=\"data row5 col1\" >0</td>\n",
              "                        <td id=\"T_f7553290_499f_11ec_bda8_0242ac1c0002row5_col2\" class=\"data row5 col2\" >3</td>\n",
              "                        <td id=\"T_f7553290_499f_11ec_bda8_0242ac1c0002row5_col3\" class=\"data row5 col3\" >12</td>\n",
              "                        <td id=\"T_f7553290_499f_11ec_bda8_0242ac1c0002row5_col4\" class=\"data row5 col4\" >18</td>\n",
              "                        <td id=\"T_f7553290_499f_11ec_bda8_0242ac1c0002row5_col5\" class=\"data row5 col5\" >551</td>\n",
              "                        <td id=\"T_f7553290_499f_11ec_bda8_0242ac1c0002row5_col6\" class=\"data row5 col6\" >0</td>\n",
              "                        <td id=\"T_f7553290_499f_11ec_bda8_0242ac1c0002row5_col7\" class=\"data row5 col7\" >3</td>\n",
              "                        <td id=\"T_f7553290_499f_11ec_bda8_0242ac1c0002row5_col8\" class=\"data row5 col8\" >0</td>\n",
              "                        <td id=\"T_f7553290_499f_11ec_bda8_0242ac1c0002row5_col9\" class=\"data row5 col9\" >1</td>\n",
              "                        <td id=\"T_f7553290_499f_11ec_bda8_0242ac1c0002row5_col10\" class=\"data row5 col10\" >5</td>\n",
              "                        <td id=\"T_f7553290_499f_11ec_bda8_0242ac1c0002row5_col11\" class=\"data row5 col11\" >0</td>\n",
              "            </tr>\n",
              "            <tr>\n",
              "                        <th id=\"T_f7553290_499f_11ec_bda8_0242ac1c0002level0_row6\" class=\"row_heading level0 row6\" >Actually F23-</th>\n",
              "                        <td id=\"T_f7553290_499f_11ec_bda8_0242ac1c0002row6_col0\" class=\"data row6 col0\" >0</td>\n",
              "                        <td id=\"T_f7553290_499f_11ec_bda8_0242ac1c0002row6_col1\" class=\"data row6 col1\" >0</td>\n",
              "                        <td id=\"T_f7553290_499f_11ec_bda8_0242ac1c0002row6_col2\" class=\"data row6 col2\" >0</td>\n",
              "                        <td id=\"T_f7553290_499f_11ec_bda8_0242ac1c0002row6_col3\" class=\"data row6 col3\" >0</td>\n",
              "                        <td id=\"T_f7553290_499f_11ec_bda8_0242ac1c0002row6_col4\" class=\"data row6 col4\" >5</td>\n",
              "                        <td id=\"T_f7553290_499f_11ec_bda8_0242ac1c0002row6_col5\" class=\"data row6 col5\" >13</td>\n",
              "                        <td id=\"T_f7553290_499f_11ec_bda8_0242ac1c0002row6_col6\" class=\"data row6 col6\" >21</td>\n",
              "                        <td id=\"T_f7553290_499f_11ec_bda8_0242ac1c0002row6_col7\" class=\"data row6 col7\" >0</td>\n",
              "                        <td id=\"T_f7553290_499f_11ec_bda8_0242ac1c0002row6_col8\" class=\"data row6 col8\" >0</td>\n",
              "                        <td id=\"T_f7553290_499f_11ec_bda8_0242ac1c0002row6_col9\" class=\"data row6 col9\" >0</td>\n",
              "                        <td id=\"T_f7553290_499f_11ec_bda8_0242ac1c0002row6_col10\" class=\"data row6 col10\" >0</td>\n",
              "                        <td id=\"T_f7553290_499f_11ec_bda8_0242ac1c0002row6_col11\" class=\"data row6 col11\" >0</td>\n",
              "            </tr>\n",
              "            <tr>\n",
              "                        <th id=\"T_f7553290_499f_11ec_bda8_0242ac1c0002level0_row7\" class=\"row_heading level0 row7\" >Actually F24-26</th>\n",
              "                        <td id=\"T_f7553290_499f_11ec_bda8_0242ac1c0002row7_col0\" class=\"data row7 col0\" >0</td>\n",
              "                        <td id=\"T_f7553290_499f_11ec_bda8_0242ac1c0002row7_col1\" class=\"data row7 col1\" >0</td>\n",
              "                        <td id=\"T_f7553290_499f_11ec_bda8_0242ac1c0002row7_col2\" class=\"data row7 col2\" >0</td>\n",
              "                        <td id=\"T_f7553290_499f_11ec_bda8_0242ac1c0002row7_col3\" class=\"data row7 col3\" >0</td>\n",
              "                        <td id=\"T_f7553290_499f_11ec_bda8_0242ac1c0002row7_col4\" class=\"data row7 col4\" >1</td>\n",
              "                        <td id=\"T_f7553290_499f_11ec_bda8_0242ac1c0002row7_col5\" class=\"data row7 col5\" >8</td>\n",
              "                        <td id=\"T_f7553290_499f_11ec_bda8_0242ac1c0002row7_col6\" class=\"data row7 col6\" >0</td>\n",
              "                        <td id=\"T_f7553290_499f_11ec_bda8_0242ac1c0002row7_col7\" class=\"data row7 col7\" >17</td>\n",
              "                        <td id=\"T_f7553290_499f_11ec_bda8_0242ac1c0002row7_col8\" class=\"data row7 col8\" >0</td>\n",
              "                        <td id=\"T_f7553290_499f_11ec_bda8_0242ac1c0002row7_col9\" class=\"data row7 col9\" >0</td>\n",
              "                        <td id=\"T_f7553290_499f_11ec_bda8_0242ac1c0002row7_col10\" class=\"data row7 col10\" >3</td>\n",
              "                        <td id=\"T_f7553290_499f_11ec_bda8_0242ac1c0002row7_col11\" class=\"data row7 col11\" >0</td>\n",
              "            </tr>\n",
              "            <tr>\n",
              "                        <th id=\"T_f7553290_499f_11ec_bda8_0242ac1c0002level0_row8\" class=\"row_heading level0 row8\" >Actually F27-28</th>\n",
              "                        <td id=\"T_f7553290_499f_11ec_bda8_0242ac1c0002row8_col0\" class=\"data row8 col0\" >0</td>\n",
              "                        <td id=\"T_f7553290_499f_11ec_bda8_0242ac1c0002row8_col1\" class=\"data row8 col1\" >0</td>\n",
              "                        <td id=\"T_f7553290_499f_11ec_bda8_0242ac1c0002row8_col2\" class=\"data row8 col2\" >0</td>\n",
              "                        <td id=\"T_f7553290_499f_11ec_bda8_0242ac1c0002row8_col3\" class=\"data row8 col3\" >3</td>\n",
              "                        <td id=\"T_f7553290_499f_11ec_bda8_0242ac1c0002row8_col4\" class=\"data row8 col4\" >0</td>\n",
              "                        <td id=\"T_f7553290_499f_11ec_bda8_0242ac1c0002row8_col5\" class=\"data row8 col5\" >21</td>\n",
              "                        <td id=\"T_f7553290_499f_11ec_bda8_0242ac1c0002row8_col6\" class=\"data row8 col6\" >0</td>\n",
              "                        <td id=\"T_f7553290_499f_11ec_bda8_0242ac1c0002row8_col7\" class=\"data row8 col7\" >0</td>\n",
              "                        <td id=\"T_f7553290_499f_11ec_bda8_0242ac1c0002row8_col8\" class=\"data row8 col8\" >33</td>\n",
              "                        <td id=\"T_f7553290_499f_11ec_bda8_0242ac1c0002row8_col9\" class=\"data row8 col9\" >0</td>\n",
              "                        <td id=\"T_f7553290_499f_11ec_bda8_0242ac1c0002row8_col10\" class=\"data row8 col10\" >0</td>\n",
              "                        <td id=\"T_f7553290_499f_11ec_bda8_0242ac1c0002row8_col11\" class=\"data row8 col11\" >0</td>\n",
              "            </tr>\n",
              "            <tr>\n",
              "                        <th id=\"T_f7553290_499f_11ec_bda8_0242ac1c0002level0_row9\" class=\"row_heading level0 row9\" >Actually F29-32</th>\n",
              "                        <td id=\"T_f7553290_499f_11ec_bda8_0242ac1c0002row9_col0\" class=\"data row9 col0\" >0</td>\n",
              "                        <td id=\"T_f7553290_499f_11ec_bda8_0242ac1c0002row9_col1\" class=\"data row9 col1\" >0</td>\n",
              "                        <td id=\"T_f7553290_499f_11ec_bda8_0242ac1c0002row9_col2\" class=\"data row9 col2\" >0</td>\n",
              "                        <td id=\"T_f7553290_499f_11ec_bda8_0242ac1c0002row9_col3\" class=\"data row9 col3\" >0</td>\n",
              "                        <td id=\"T_f7553290_499f_11ec_bda8_0242ac1c0002row9_col4\" class=\"data row9 col4\" >3</td>\n",
              "                        <td id=\"T_f7553290_499f_11ec_bda8_0242ac1c0002row9_col5\" class=\"data row9 col5\" >36</td>\n",
              "                        <td id=\"T_f7553290_499f_11ec_bda8_0242ac1c0002row9_col6\" class=\"data row9 col6\" >0</td>\n",
              "                        <td id=\"T_f7553290_499f_11ec_bda8_0242ac1c0002row9_col7\" class=\"data row9 col7\" >0</td>\n",
              "                        <td id=\"T_f7553290_499f_11ec_bda8_0242ac1c0002row9_col8\" class=\"data row9 col8\" >0</td>\n",
              "                        <td id=\"T_f7553290_499f_11ec_bda8_0242ac1c0002row9_col9\" class=\"data row9 col9\" >42</td>\n",
              "                        <td id=\"T_f7553290_499f_11ec_bda8_0242ac1c0002row9_col10\" class=\"data row9 col10\" >0</td>\n",
              "                        <td id=\"T_f7553290_499f_11ec_bda8_0242ac1c0002row9_col11\" class=\"data row9 col11\" >0</td>\n",
              "            </tr>\n",
              "            <tr>\n",
              "                        <th id=\"T_f7553290_499f_11ec_bda8_0242ac1c0002level0_row10\" class=\"row_heading level0 row10\" >Actually F33-42</th>\n",
              "                        <td id=\"T_f7553290_499f_11ec_bda8_0242ac1c0002row10_col0\" class=\"data row10 col0\" >1</td>\n",
              "                        <td id=\"T_f7553290_499f_11ec_bda8_0242ac1c0002row10_col1\" class=\"data row10 col1\" >0</td>\n",
              "                        <td id=\"T_f7553290_499f_11ec_bda8_0242ac1c0002row10_col2\" class=\"data row10 col2\" >0</td>\n",
              "                        <td id=\"T_f7553290_499f_11ec_bda8_0242ac1c0002row10_col3\" class=\"data row10 col3\" >4</td>\n",
              "                        <td id=\"T_f7553290_499f_11ec_bda8_0242ac1c0002row10_col4\" class=\"data row10 col4\" >5</td>\n",
              "                        <td id=\"T_f7553290_499f_11ec_bda8_0242ac1c0002row10_col5\" class=\"data row10 col5\" >52</td>\n",
              "                        <td id=\"T_f7553290_499f_11ec_bda8_0242ac1c0002row10_col6\" class=\"data row10 col6\" >0</td>\n",
              "                        <td id=\"T_f7553290_499f_11ec_bda8_0242ac1c0002row10_col7\" class=\"data row10 col7\" >0</td>\n",
              "                        <td id=\"T_f7553290_499f_11ec_bda8_0242ac1c0002row10_col8\" class=\"data row10 col8\" >0</td>\n",
              "                        <td id=\"T_f7553290_499f_11ec_bda8_0242ac1c0002row10_col9\" class=\"data row10 col9\" >0</td>\n",
              "                        <td id=\"T_f7553290_499f_11ec_bda8_0242ac1c0002row10_col10\" class=\"data row10 col10\" >75</td>\n",
              "                        <td id=\"T_f7553290_499f_11ec_bda8_0242ac1c0002row10_col11\" class=\"data row10 col11\" >0</td>\n",
              "            </tr>\n",
              "            <tr>\n",
              "                        <th id=\"T_f7553290_499f_11ec_bda8_0242ac1c0002level0_row11\" class=\"row_heading level0 row11\" >Actually F43+</th>\n",
              "                        <td id=\"T_f7553290_499f_11ec_bda8_0242ac1c0002row11_col0\" class=\"data row11 col0\" >0</td>\n",
              "                        <td id=\"T_f7553290_499f_11ec_bda8_0242ac1c0002row11_col1\" class=\"data row11 col1\" >0</td>\n",
              "                        <td id=\"T_f7553290_499f_11ec_bda8_0242ac1c0002row11_col2\" class=\"data row11 col2\" >0</td>\n",
              "                        <td id=\"T_f7553290_499f_11ec_bda8_0242ac1c0002row11_col3\" class=\"data row11 col3\" >6</td>\n",
              "                        <td id=\"T_f7553290_499f_11ec_bda8_0242ac1c0002row11_col4\" class=\"data row11 col4\" >17</td>\n",
              "                        <td id=\"T_f7553290_499f_11ec_bda8_0242ac1c0002row11_col5\" class=\"data row11 col5\" >53</td>\n",
              "                        <td id=\"T_f7553290_499f_11ec_bda8_0242ac1c0002row11_col6\" class=\"data row11 col6\" >0</td>\n",
              "                        <td id=\"T_f7553290_499f_11ec_bda8_0242ac1c0002row11_col7\" class=\"data row11 col7\" >0</td>\n",
              "                        <td id=\"T_f7553290_499f_11ec_bda8_0242ac1c0002row11_col8\" class=\"data row11 col8\" >0</td>\n",
              "                        <td id=\"T_f7553290_499f_11ec_bda8_0242ac1c0002row11_col9\" class=\"data row11 col9\" >0</td>\n",
              "                        <td id=\"T_f7553290_499f_11ec_bda8_0242ac1c0002row11_col10\" class=\"data row11 col10\" >0</td>\n",
              "                        <td id=\"T_f7553290_499f_11ec_bda8_0242ac1c0002row11_col11\" class=\"data row11 col11\" >97</td>\n",
              "            </tr>\n",
              "    </tbody></table>"
            ],
            "text/plain": [
              "<pandas.io.formats.style.Styler at 0x7f3d07d9a110>"
            ]
          },
          "metadata": {},
          "execution_count": 85
        }
      ]
    },
    {
      "cell_type": "code",
      "metadata": {
        "colab": {
          "base_uri": "https://localhost:8080/"
        },
        "id": "g3dzgx1Y6TL_",
        "outputId": "36c8fc91-fb25-4b24-aecb-b4edd9fa4e62"
      },
      "source": [
        "print(\"Classification Report:\")\n",
        "print()\n",
        "print(classification_report(y_test, y_pred))"
      ],
      "execution_count": null,
      "outputs": [
        {
          "output_type": "stream",
          "name": "stdout",
          "text": [
            "Classification Report:\n",
            "\n",
            "              precision    recall  f1-score   support\n",
            "\n",
            "           0       0.77      0.46      0.58       128\n",
            "           1       0.96      0.61      0.75       258\n",
            "           2       0.97      0.60      0.75       192\n",
            "           3       0.77      0.56      0.65       283\n",
            "           4       0.81      0.63      0.71       539\n",
            "           5       0.45      0.93      0.61       595\n",
            "           6       1.00      0.54      0.70        39\n",
            "           7       0.81      0.59      0.68        29\n",
            "           8       1.00      0.58      0.73        57\n",
            "           9       0.95      0.52      0.67        81\n",
            "          10       0.85      0.55      0.67       137\n",
            "          11       0.96      0.56      0.71       173\n",
            "\n",
            "    accuracy                           0.66      2511\n",
            "   macro avg       0.86      0.59      0.68      2511\n",
            "weighted avg       0.77      0.66      0.67      2511\n",
            "\n"
          ]
        }
      ]
    },
    {
      "cell_type": "code",
      "metadata": {
        "id": "jbiWvWT16Tqg"
      },
      "source": [
        "def multiclass_roc_auc_score(y_test, y_pred, average=\"macro\"):\n",
        "  lb = LabelBinarizer()\n",
        "  lb.fit(y_test)\n",
        "  y_test = lb.transform(y_test)\n",
        "  y_pred = lb.transform(y_pred)\n",
        "  return roc_auc_score(y_test, y_pred, average=average)\n"
      ],
      "execution_count": null,
      "outputs": []
    },
    {
      "cell_type": "code",
      "metadata": {
        "colab": {
          "base_uri": "https://localhost:8080/"
        },
        "id": "WhJDhbak6Tts",
        "outputId": "006bc793-6d3e-48ef-c297-6ded4462271f"
      },
      "source": [
        "multiclass_roc_auc_score(y_test, y_pred, average=\"macro\")"
      ],
      "execution_count": null,
      "outputs": [
        {
          "output_type": "execute_result",
          "data": {
            "text/plain": [
              "0.7788315969908188"
            ]
          },
          "metadata": {},
          "execution_count": 88
        }
      ]
    },
    {
      "cell_type": "markdown",
      "metadata": {
        "id": "lmF54pS06ULY"
      },
      "source": [
        "# Gradient Boosting"
      ]
    },
    {
      "cell_type": "code",
      "metadata": {
        "id": "-e2CB9Cs7MdQ"
      },
      "source": [
        "pipeline = Pipeline(\n",
        "    [\n",
        "        (\"scaler\", StandardScaler()),\n",
        "        (\"pca\", PCA(n_components=n_components)),\n",
        "        (\"gb\", GradientBoostingClassifier()),\n",
        "    ]\n",
        ")\n",
        "pipeline = pipeline.fit(X_train, y_train)\n"
      ],
      "execution_count": null,
      "outputs": []
    },
    {
      "cell_type": "code",
      "metadata": {
        "colab": {
          "base_uri": "https://localhost:8080/"
        },
        "id": "2WiEy-FP7Mg0",
        "outputId": "1c7a061a-45f4-4236-c97c-f036e99144fe"
      },
      "source": [
        "grid = {'gb__n_estimators': [100], \n",
        "          'gb__max_depth': [5],\n",
        "          'gb__loss': ['deviance']}\n",
        "\n",
        "model = GridSearchCV(pipeline, grid, verbose=1, cv=3)\n",
        "model.fit(X_train, y_train)\n"
      ],
      "execution_count": null,
      "outputs": [
        {
          "output_type": "stream",
          "name": "stdout",
          "text": [
            "Fitting 3 folds for each of 1 candidates, totalling 3 fits\n"
          ]
        },
        {
          "output_type": "execute_result",
          "data": {
            "text/plain": [
              "GridSearchCV(cv=3,\n",
              "             estimator=Pipeline(steps=[('scaler', StandardScaler()),\n",
              "                                       ('pca', PCA(n_components=48)),\n",
              "                                       ('gb', GradientBoostingClassifier())]),\n",
              "             param_grid={'gb__loss': ['deviance'], 'gb__max_depth': [5],\n",
              "                         'gb__n_estimators': [100]},\n",
              "             verbose=1)"
            ]
          },
          "metadata": {},
          "execution_count": 90
        }
      ]
    },
    {
      "cell_type": "code",
      "metadata": {
        "colab": {
          "base_uri": "https://localhost:8080/"
        },
        "id": "fftpO7Di7MmM",
        "outputId": "64db2ab3-1dc9-4eb8-ba0b-8926c028b6be"
      },
      "source": [
        "model.best_params_  "
      ],
      "execution_count": null,
      "outputs": [
        {
          "output_type": "execute_result",
          "data": {
            "text/plain": [
              "{'gb__loss': 'deviance', 'gb__max_depth': 5, 'gb__n_estimators': 100}"
            ]
          },
          "metadata": {},
          "execution_count": 91
        }
      ]
    },
    {
      "cell_type": "code",
      "metadata": {
        "colab": {
          "base_uri": "https://localhost:8080/"
        },
        "id": "sxpei26o7MoH",
        "outputId": "484a36ea-b0e7-46dc-d20f-f937b755049c"
      },
      "source": [
        "# Model still appears to be extremely overfitting\n",
        "train_score = model.score(X_train, y_train)\n",
        "test_score = model.score(X_test, y_test)\n",
        "\n",
        "print(f\"Train score: {train_score}\")\n",
        "print(f\"Test score: {test_score}\")\n"
      ],
      "execution_count": null,
      "outputs": [
        {
          "output_type": "stream",
          "name": "stdout",
          "text": [
            "Train score: 0.9058764940239044\n",
            "Test score: 0.7793707686180804\n"
          ]
        }
      ]
    },
    {
      "cell_type": "code",
      "metadata": {
        "colab": {
          "base_uri": "https://localhost:8080/",
          "height": 425
        },
        "id": "KJRSzUyy7MqL",
        "outputId": "e6cd077e-adf6-4ee3-f7a9-c78dc10b7b35"
      },
      "source": [
        "y_pred = model.predict(X_test)\n",
        "\n",
        "con_mat = pd.DataFrame(\n",
        "    confusion_matrix(y_test, y_pred),\n",
        "    index=[\n",
        "        \"Actual M22-\",\n",
        "        \"Actual M23-26\",\n",
        "        \"Actual M27-28\",\n",
        "        \"Actual M29-31\",\n",
        "        \"Actual M32-38\",\n",
        "        \"Actual M39+\",\n",
        "        \"Actual F23-\",\n",
        "        \"Actual F24-26\",\n",
        "        \"Actual F27-28\",\n",
        "        \"Actual F29-32\",\n",
        "        \"Actual F33-42\",\n",
        "        \"Actual F43+\",\n",
        "    ],\n",
        "    columns=[\n",
        "        \"Predicted M22-\",\n",
        "        \"Predicted M23-26\",\n",
        "        \"Predicted M27-28\",\n",
        "        \"Predicted M29-31\",\n",
        "        \"Predicted M32-38\",\n",
        "        \"Predicted M39+\",\n",
        "        \"Predicted F23-\",\n",
        "        \"Predicted F24-26\",\n",
        "        \"Predicted F27-28\",\n",
        "        \"Predicted F29-32\",\n",
        "        \"Predicted F33-42\",\n",
        "        \"Predicted F43+\",\n",
        "    ],\n",
        ")\n",
        "con_mat.style.background_gradient(axis=None)\n"
      ],
      "execution_count": null,
      "outputs": [
        {
          "output_type": "execute_result",
          "data": {
            "text/html": [
              "<style  type=\"text/css\" >\n",
              "#T_4244be18_49a2_11ec_bda8_0242ac1c0002row0_col0{\n",
              "            background-color:  #e0dded;\n",
              "            color:  #000000;\n",
              "        }#T_4244be18_49a2_11ec_bda8_0242ac1c0002row0_col1,#T_4244be18_49a2_11ec_bda8_0242ac1c0002row0_col2,#T_4244be18_49a2_11ec_bda8_0242ac1c0002row0_col3,#T_4244be18_49a2_11ec_bda8_0242ac1c0002row0_col4,#T_4244be18_49a2_11ec_bda8_0242ac1c0002row2_col0,#T_4244be18_49a2_11ec_bda8_0242ac1c0002row2_col11,#T_4244be18_49a2_11ec_bda8_0242ac1c0002row4_col10,#T_4244be18_49a2_11ec_bda8_0242ac1c0002row5_col2,#T_4244be18_49a2_11ec_bda8_0242ac1c0002row5_col7,#T_4244be18_49a2_11ec_bda8_0242ac1c0002row6_col4,#T_4244be18_49a2_11ec_bda8_0242ac1c0002row8_col1,#T_4244be18_49a2_11ec_bda8_0242ac1c0002row9_col1,#T_4244be18_49a2_11ec_bda8_0242ac1c0002row9_col4,#T_4244be18_49a2_11ec_bda8_0242ac1c0002row11_col2,#T_4244be18_49a2_11ec_bda8_0242ac1c0002row11_col3,#T_4244be18_49a2_11ec_bda8_0242ac1c0002row11_col8{\n",
              "            background-color:  #fef6fa;\n",
              "            color:  #000000;\n",
              "        }#T_4244be18_49a2_11ec_bda8_0242ac1c0002row0_col5,#T_4244be18_49a2_11ec_bda8_0242ac1c0002row11_col5{\n",
              "            background-color:  #faf2f8;\n",
              "            color:  #000000;\n",
              "        }#T_4244be18_49a2_11ec_bda8_0242ac1c0002row0_col6,#T_4244be18_49a2_11ec_bda8_0242ac1c0002row0_col7,#T_4244be18_49a2_11ec_bda8_0242ac1c0002row0_col8,#T_4244be18_49a2_11ec_bda8_0242ac1c0002row0_col10,#T_4244be18_49a2_11ec_bda8_0242ac1c0002row0_col11,#T_4244be18_49a2_11ec_bda8_0242ac1c0002row1_col6,#T_4244be18_49a2_11ec_bda8_0242ac1c0002row1_col7,#T_4244be18_49a2_11ec_bda8_0242ac1c0002row1_col9,#T_4244be18_49a2_11ec_bda8_0242ac1c0002row1_col10,#T_4244be18_49a2_11ec_bda8_0242ac1c0002row2_col6,#T_4244be18_49a2_11ec_bda8_0242ac1c0002row2_col7,#T_4244be18_49a2_11ec_bda8_0242ac1c0002row2_col8,#T_4244be18_49a2_11ec_bda8_0242ac1c0002row2_col9,#T_4244be18_49a2_11ec_bda8_0242ac1c0002row2_col10,#T_4244be18_49a2_11ec_bda8_0242ac1c0002row3_col6,#T_4244be18_49a2_11ec_bda8_0242ac1c0002row3_col7,#T_4244be18_49a2_11ec_bda8_0242ac1c0002row3_col8,#T_4244be18_49a2_11ec_bda8_0242ac1c0002row3_col9,#T_4244be18_49a2_11ec_bda8_0242ac1c0002row4_col0,#T_4244be18_49a2_11ec_bda8_0242ac1c0002row4_col2,#T_4244be18_49a2_11ec_bda8_0242ac1c0002row4_col6,#T_4244be18_49a2_11ec_bda8_0242ac1c0002row4_col8,#T_4244be18_49a2_11ec_bda8_0242ac1c0002row4_col9,#T_4244be18_49a2_11ec_bda8_0242ac1c0002row5_col6,#T_4244be18_49a2_11ec_bda8_0242ac1c0002row6_col0,#T_4244be18_49a2_11ec_bda8_0242ac1c0002row6_col1,#T_4244be18_49a2_11ec_bda8_0242ac1c0002row6_col2,#T_4244be18_49a2_11ec_bda8_0242ac1c0002row6_col3,#T_4244be18_49a2_11ec_bda8_0242ac1c0002row6_col7,#T_4244be18_49a2_11ec_bda8_0242ac1c0002row6_col8,#T_4244be18_49a2_11ec_bda8_0242ac1c0002row6_col9,#T_4244be18_49a2_11ec_bda8_0242ac1c0002row6_col10,#T_4244be18_49a2_11ec_bda8_0242ac1c0002row6_col11,#T_4244be18_49a2_11ec_bda8_0242ac1c0002row7_col0,#T_4244be18_49a2_11ec_bda8_0242ac1c0002row7_col1,#T_4244be18_49a2_11ec_bda8_0242ac1c0002row7_col2,#T_4244be18_49a2_11ec_bda8_0242ac1c0002row7_col3,#T_4244be18_49a2_11ec_bda8_0242ac1c0002row7_col6,#T_4244be18_49a2_11ec_bda8_0242ac1c0002row7_col8,#T_4244be18_49a2_11ec_bda8_0242ac1c0002row7_col9,#T_4244be18_49a2_11ec_bda8_0242ac1c0002row7_col10,#T_4244be18_49a2_11ec_bda8_0242ac1c0002row7_col11,#T_4244be18_49a2_11ec_bda8_0242ac1c0002row8_col0,#T_4244be18_49a2_11ec_bda8_0242ac1c0002row8_col2,#T_4244be18_49a2_11ec_bda8_0242ac1c0002row8_col4,#T_4244be18_49a2_11ec_bda8_0242ac1c0002row8_col6,#T_4244be18_49a2_11ec_bda8_0242ac1c0002row8_col7,#T_4244be18_49a2_11ec_bda8_0242ac1c0002row8_col9,#T_4244be18_49a2_11ec_bda8_0242ac1c0002row8_col10,#T_4244be18_49a2_11ec_bda8_0242ac1c0002row9_col0,#T_4244be18_49a2_11ec_bda8_0242ac1c0002row9_col2,#T_4244be18_49a2_11ec_bda8_0242ac1c0002row9_col6,#T_4244be18_49a2_11ec_bda8_0242ac1c0002row9_col7,#T_4244be18_49a2_11ec_bda8_0242ac1c0002row9_col8,#T_4244be18_49a2_11ec_bda8_0242ac1c0002row9_col11,#T_4244be18_49a2_11ec_bda8_0242ac1c0002row10_col1,#T_4244be18_49a2_11ec_bda8_0242ac1c0002row10_col2,#T_4244be18_49a2_11ec_bda8_0242ac1c0002row10_col3,#T_4244be18_49a2_11ec_bda8_0242ac1c0002row10_col4,#T_4244be18_49a2_11ec_bda8_0242ac1c0002row10_col6,#T_4244be18_49a2_11ec_bda8_0242ac1c0002row10_col8,#T_4244be18_49a2_11ec_bda8_0242ac1c0002row10_col11,#T_4244be18_49a2_11ec_bda8_0242ac1c0002row11_col0,#T_4244be18_49a2_11ec_bda8_0242ac1c0002row11_col1,#T_4244be18_49a2_11ec_bda8_0242ac1c0002row11_col6,#T_4244be18_49a2_11ec_bda8_0242ac1c0002row11_col7,#T_4244be18_49a2_11ec_bda8_0242ac1c0002row11_col9{\n",
              "            background-color:  #fff7fb;\n",
              "            color:  #000000;\n",
              "        }#T_4244be18_49a2_11ec_bda8_0242ac1c0002row0_col9,#T_4244be18_49a2_11ec_bda8_0242ac1c0002row1_col0,#T_4244be18_49a2_11ec_bda8_0242ac1c0002row1_col2,#T_4244be18_49a2_11ec_bda8_0242ac1c0002row1_col8,#T_4244be18_49a2_11ec_bda8_0242ac1c0002row1_col11,#T_4244be18_49a2_11ec_bda8_0242ac1c0002row2_col3,#T_4244be18_49a2_11ec_bda8_0242ac1c0002row2_col4,#T_4244be18_49a2_11ec_bda8_0242ac1c0002row3_col2,#T_4244be18_49a2_11ec_bda8_0242ac1c0002row3_col10,#T_4244be18_49a2_11ec_bda8_0242ac1c0002row3_col11,#T_4244be18_49a2_11ec_bda8_0242ac1c0002row4_col1,#T_4244be18_49a2_11ec_bda8_0242ac1c0002row4_col7,#T_4244be18_49a2_11ec_bda8_0242ac1c0002row5_col8,#T_4244be18_49a2_11ec_bda8_0242ac1c0002row5_col11,#T_4244be18_49a2_11ec_bda8_0242ac1c0002row7_col4,#T_4244be18_49a2_11ec_bda8_0242ac1c0002row7_col5,#T_4244be18_49a2_11ec_bda8_0242ac1c0002row8_col3,#T_4244be18_49a2_11ec_bda8_0242ac1c0002row8_col11,#T_4244be18_49a2_11ec_bda8_0242ac1c0002row9_col3,#T_4244be18_49a2_11ec_bda8_0242ac1c0002row9_col10,#T_4244be18_49a2_11ec_bda8_0242ac1c0002row10_col0,#T_4244be18_49a2_11ec_bda8_0242ac1c0002row10_col7,#T_4244be18_49a2_11ec_bda8_0242ac1c0002row10_col9,#T_4244be18_49a2_11ec_bda8_0242ac1c0002row11_col10{\n",
              "            background-color:  #fef6fb;\n",
              "            color:  #000000;\n",
              "        }#T_4244be18_49a2_11ec_bda8_0242ac1c0002row1_col1{\n",
              "            background-color:  #93b5d6;\n",
              "            color:  #000000;\n",
              "        }#T_4244be18_49a2_11ec_bda8_0242ac1c0002row1_col3,#T_4244be18_49a2_11ec_bda8_0242ac1c0002row1_col4,#T_4244be18_49a2_11ec_bda8_0242ac1c0002row2_col1,#T_4244be18_49a2_11ec_bda8_0242ac1c0002row3_col0,#T_4244be18_49a2_11ec_bda8_0242ac1c0002row3_col1,#T_4244be18_49a2_11ec_bda8_0242ac1c0002row5_col1,#T_4244be18_49a2_11ec_bda8_0242ac1c0002row5_col9,#T_4244be18_49a2_11ec_bda8_0242ac1c0002row6_col5,#T_4244be18_49a2_11ec_bda8_0242ac1c0002row8_col5{\n",
              "            background-color:  #fdf5fa;\n",
              "            color:  #000000;\n",
              "        }#T_4244be18_49a2_11ec_bda8_0242ac1c0002row1_col5,#T_4244be18_49a2_11ec_bda8_0242ac1c0002row3_col4,#T_4244be18_49a2_11ec_bda8_0242ac1c0002row4_col3{\n",
              "            background-color:  #f9f2f8;\n",
              "            color:  #000000;\n",
              "        }#T_4244be18_49a2_11ec_bda8_0242ac1c0002row2_col2{\n",
              "            background-color:  #bbc7e0;\n",
              "            color:  #000000;\n",
              "        }#T_4244be18_49a2_11ec_bda8_0242ac1c0002row2_col5,#T_4244be18_49a2_11ec_bda8_0242ac1c0002row4_col11,#T_4244be18_49a2_11ec_bda8_0242ac1c0002row9_col5{\n",
              "            background-color:  #fcf4fa;\n",
              "            color:  #000000;\n",
              "        }#T_4244be18_49a2_11ec_bda8_0242ac1c0002row3_col3{\n",
              "            background-color:  #a2bcda;\n",
              "            color:  #000000;\n",
              "        }#T_4244be18_49a2_11ec_bda8_0242ac1c0002row3_col5{\n",
              "            background-color:  #f2ecf5;\n",
              "            color:  #000000;\n",
              "        }#T_4244be18_49a2_11ec_bda8_0242ac1c0002row4_col4{\n",
              "            background-color:  #045a8d;\n",
              "            color:  #f1f1f1;\n",
              "        }#T_4244be18_49a2_11ec_bda8_0242ac1c0002row4_col5{\n",
              "            background-color:  #eee8f3;\n",
              "            color:  #000000;\n",
              "        }#T_4244be18_49a2_11ec_bda8_0242ac1c0002row5_col0,#T_4244be18_49a2_11ec_bda8_0242ac1c0002row5_col3{\n",
              "            background-color:  #fbf4f9;\n",
              "            color:  #000000;\n",
              "        }#T_4244be18_49a2_11ec_bda8_0242ac1c0002row5_col4,#T_4244be18_49a2_11ec_bda8_0242ac1c0002row7_col7,#T_4244be18_49a2_11ec_bda8_0242ac1c0002row11_col4{\n",
              "            background-color:  #f8f1f8;\n",
              "            color:  #000000;\n",
              "        }#T_4244be18_49a2_11ec_bda8_0242ac1c0002row5_col5{\n",
              "            background-color:  #023858;\n",
              "            color:  #f1f1f1;\n",
              "        }#T_4244be18_49a2_11ec_bda8_0242ac1c0002row5_col10{\n",
              "            background-color:  #fbf3f9;\n",
              "            color:  #000000;\n",
              "        }#T_4244be18_49a2_11ec_bda8_0242ac1c0002row6_col6,#T_4244be18_49a2_11ec_bda8_0242ac1c0002row10_col5{\n",
              "            background-color:  #f7f0f7;\n",
              "            color:  #000000;\n",
              "        }#T_4244be18_49a2_11ec_bda8_0242ac1c0002row8_col8{\n",
              "            background-color:  #f3edf5;\n",
              "            color:  #000000;\n",
              "        }#T_4244be18_49a2_11ec_bda8_0242ac1c0002row9_col9{\n",
              "            background-color:  #eee9f3;\n",
              "            color:  #000000;\n",
              "        }#T_4244be18_49a2_11ec_bda8_0242ac1c0002row10_col10{\n",
              "            background-color:  #dddbec;\n",
              "            color:  #000000;\n",
              "        }#T_4244be18_49a2_11ec_bda8_0242ac1c0002row11_col11{\n",
              "            background-color:  #d5d5e8;\n",
              "            color:  #000000;\n",
              "        }</style><table id=\"T_4244be18_49a2_11ec_bda8_0242ac1c0002\" class=\"dataframe\"><thead>    <tr>        <th class=\"blank level0\" ></th>        <th class=\"col_heading level0 col0\" >Predicted M22-</th>        <th class=\"col_heading level0 col1\" >Predicted M23-26</th>        <th class=\"col_heading level0 col2\" >Predicted M27-28</th>        <th class=\"col_heading level0 col3\" >Predicted M29-31</th>        <th class=\"col_heading level0 col4\" >Predicted M32-38</th>        <th class=\"col_heading level0 col5\" >Predicted M39+</th>        <th class=\"col_heading level0 col6\" >Predicted F23-</th>        <th class=\"col_heading level0 col7\" >Predicted F24-26</th>        <th class=\"col_heading level0 col8\" >Predicted F27-28</th>        <th class=\"col_heading level0 col9\" >Predicted F29-32</th>        <th class=\"col_heading level0 col10\" >Predicted F33-42</th>        <th class=\"col_heading level0 col11\" >Predicted F43+</th>    </tr></thead><tbody>\n",
              "                <tr>\n",
              "                        <th id=\"T_4244be18_49a2_11ec_bda8_0242ac1c0002level0_row0\" class=\"row_heading level0 row0\" >Actual M22-</th>\n",
              "                        <td id=\"T_4244be18_49a2_11ec_bda8_0242ac1c0002row0_col0\" class=\"data row0 col0\" >92</td>\n",
              "                        <td id=\"T_4244be18_49a2_11ec_bda8_0242ac1c0002row0_col1\" class=\"data row0 col1\" >4</td>\n",
              "                        <td id=\"T_4244be18_49a2_11ec_bda8_0242ac1c0002row0_col2\" class=\"data row0 col2\" >4</td>\n",
              "                        <td id=\"T_4244be18_49a2_11ec_bda8_0242ac1c0002row0_col3\" class=\"data row0 col3\" >4</td>\n",
              "                        <td id=\"T_4244be18_49a2_11ec_bda8_0242ac1c0002row0_col4\" class=\"data row0 col4\" >4</td>\n",
              "                        <td id=\"T_4244be18_49a2_11ec_bda8_0242ac1c0002row0_col5\" class=\"data row0 col5\" >18</td>\n",
              "                        <td id=\"T_4244be18_49a2_11ec_bda8_0242ac1c0002row0_col6\" class=\"data row0 col6\" >0</td>\n",
              "                        <td id=\"T_4244be18_49a2_11ec_bda8_0242ac1c0002row0_col7\" class=\"data row0 col7\" >0</td>\n",
              "                        <td id=\"T_4244be18_49a2_11ec_bda8_0242ac1c0002row0_col8\" class=\"data row0 col8\" >0</td>\n",
              "                        <td id=\"T_4244be18_49a2_11ec_bda8_0242ac1c0002row0_col9\" class=\"data row0 col9\" >2</td>\n",
              "                        <td id=\"T_4244be18_49a2_11ec_bda8_0242ac1c0002row0_col10\" class=\"data row0 col10\" >0</td>\n",
              "                        <td id=\"T_4244be18_49a2_11ec_bda8_0242ac1c0002row0_col11\" class=\"data row0 col11\" >0</td>\n",
              "            </tr>\n",
              "            <tr>\n",
              "                        <th id=\"T_4244be18_49a2_11ec_bda8_0242ac1c0002level0_row1\" class=\"row_heading level0 row1\" >Actual M23-26</th>\n",
              "                        <td id=\"T_4244be18_49a2_11ec_bda8_0242ac1c0002row1_col0\" class=\"data row1 col0\" >3</td>\n",
              "                        <td id=\"T_4244be18_49a2_11ec_bda8_0242ac1c0002row1_col1\" class=\"data row1 col1\" >212</td>\n",
              "                        <td id=\"T_4244be18_49a2_11ec_bda8_0242ac1c0002row1_col2\" class=\"data row1 col2\" >2</td>\n",
              "                        <td id=\"T_4244be18_49a2_11ec_bda8_0242ac1c0002row1_col3\" class=\"data row1 col3\" >8</td>\n",
              "                        <td id=\"T_4244be18_49a2_11ec_bda8_0242ac1c0002row1_col4\" class=\"data row1 col4\" >7</td>\n",
              "                        <td id=\"T_4244be18_49a2_11ec_bda8_0242ac1c0002row1_col5\" class=\"data row1 col5\" >20</td>\n",
              "                        <td id=\"T_4244be18_49a2_11ec_bda8_0242ac1c0002row1_col6\" class=\"data row1 col6\" >0</td>\n",
              "                        <td id=\"T_4244be18_49a2_11ec_bda8_0242ac1c0002row1_col7\" class=\"data row1 col7\" >0</td>\n",
              "                        <td id=\"T_4244be18_49a2_11ec_bda8_0242ac1c0002row1_col8\" class=\"data row1 col8\" >2</td>\n",
              "                        <td id=\"T_4244be18_49a2_11ec_bda8_0242ac1c0002row1_col9\" class=\"data row1 col9\" >1</td>\n",
              "                        <td id=\"T_4244be18_49a2_11ec_bda8_0242ac1c0002row1_col10\" class=\"data row1 col10\" >1</td>\n",
              "                        <td id=\"T_4244be18_49a2_11ec_bda8_0242ac1c0002row1_col11\" class=\"data row1 col11\" >2</td>\n",
              "            </tr>\n",
              "            <tr>\n",
              "                        <th id=\"T_4244be18_49a2_11ec_bda8_0242ac1c0002level0_row2\" class=\"row_heading level0 row2\" >Actual M27-28</th>\n",
              "                        <td id=\"T_4244be18_49a2_11ec_bda8_0242ac1c0002row2_col0\" class=\"data row2 col0\" >4</td>\n",
              "                        <td id=\"T_4244be18_49a2_11ec_bda8_0242ac1c0002row2_col1\" class=\"data row2 col1\" >7</td>\n",
              "                        <td id=\"T_4244be18_49a2_11ec_bda8_0242ac1c0002row2_col2\" class=\"data row2 col2\" >158</td>\n",
              "                        <td id=\"T_4244be18_49a2_11ec_bda8_0242ac1c0002row2_col3\" class=\"data row2 col3\" >3</td>\n",
              "                        <td id=\"T_4244be18_49a2_11ec_bda8_0242ac1c0002row2_col4\" class=\"data row2 col4\" >3</td>\n",
              "                        <td id=\"T_4244be18_49a2_11ec_bda8_0242ac1c0002row2_col5\" class=\"data row2 col5\" >11</td>\n",
              "                        <td id=\"T_4244be18_49a2_11ec_bda8_0242ac1c0002row2_col6\" class=\"data row2 col6\" >0</td>\n",
              "                        <td id=\"T_4244be18_49a2_11ec_bda8_0242ac1c0002row2_col7\" class=\"data row2 col7\" >0</td>\n",
              "                        <td id=\"T_4244be18_49a2_11ec_bda8_0242ac1c0002row2_col8\" class=\"data row2 col8\" >0</td>\n",
              "                        <td id=\"T_4244be18_49a2_11ec_bda8_0242ac1c0002row2_col9\" class=\"data row2 col9\" >1</td>\n",
              "                        <td id=\"T_4244be18_49a2_11ec_bda8_0242ac1c0002row2_col10\" class=\"data row2 col10\" >1</td>\n",
              "                        <td id=\"T_4244be18_49a2_11ec_bda8_0242ac1c0002row2_col11\" class=\"data row2 col11\" >4</td>\n",
              "            </tr>\n",
              "            <tr>\n",
              "                        <th id=\"T_4244be18_49a2_11ec_bda8_0242ac1c0002level0_row3\" class=\"row_heading level0 row3\" >Actual M29-31</th>\n",
              "                        <td id=\"T_4244be18_49a2_11ec_bda8_0242ac1c0002row3_col0\" class=\"data row3 col0\" >7</td>\n",
              "                        <td id=\"T_4244be18_49a2_11ec_bda8_0242ac1c0002row3_col1\" class=\"data row3 col1\" >7</td>\n",
              "                        <td id=\"T_4244be18_49a2_11ec_bda8_0242ac1c0002row3_col2\" class=\"data row3 col2\" >2</td>\n",
              "                        <td id=\"T_4244be18_49a2_11ec_bda8_0242ac1c0002row3_col3\" class=\"data row3 col3\" >194</td>\n",
              "                        <td id=\"T_4244be18_49a2_11ec_bda8_0242ac1c0002row3_col4\" class=\"data row3 col4\" >21</td>\n",
              "                        <td id=\"T_4244be18_49a2_11ec_bda8_0242ac1c0002row3_col5\" class=\"data row3 col5\" >44</td>\n",
              "                        <td id=\"T_4244be18_49a2_11ec_bda8_0242ac1c0002row3_col6\" class=\"data row3 col6\" >1</td>\n",
              "                        <td id=\"T_4244be18_49a2_11ec_bda8_0242ac1c0002row3_col7\" class=\"data row3 col7\" >1</td>\n",
              "                        <td id=\"T_4244be18_49a2_11ec_bda8_0242ac1c0002row3_col8\" class=\"data row3 col8\" >1</td>\n",
              "                        <td id=\"T_4244be18_49a2_11ec_bda8_0242ac1c0002row3_col9\" class=\"data row3 col9\" >0</td>\n",
              "                        <td id=\"T_4244be18_49a2_11ec_bda8_0242ac1c0002row3_col10\" class=\"data row3 col10\" >2</td>\n",
              "                        <td id=\"T_4244be18_49a2_11ec_bda8_0242ac1c0002row3_col11\" class=\"data row3 col11\" >3</td>\n",
              "            </tr>\n",
              "            <tr>\n",
              "                        <th id=\"T_4244be18_49a2_11ec_bda8_0242ac1c0002level0_row4\" class=\"row_heading level0 row4\" >Actual M32-38</th>\n",
              "                        <td id=\"T_4244be18_49a2_11ec_bda8_0242ac1c0002row4_col0\" class=\"data row4 col0\" >1</td>\n",
              "                        <td id=\"T_4244be18_49a2_11ec_bda8_0242ac1c0002row4_col1\" class=\"data row4 col1\" >3</td>\n",
              "                        <td id=\"T_4244be18_49a2_11ec_bda8_0242ac1c0002row4_col2\" class=\"data row4 col2\" >0</td>\n",
              "                        <td id=\"T_4244be18_49a2_11ec_bda8_0242ac1c0002row4_col3\" class=\"data row4 col3\" >20</td>\n",
              "                        <td id=\"T_4244be18_49a2_11ec_bda8_0242ac1c0002row4_col4\" class=\"data row4 col4\" >439</td>\n",
              "                        <td id=\"T_4244be18_49a2_11ec_bda8_0242ac1c0002row4_col5\" class=\"data row4 col5\" >57</td>\n",
              "                        <td id=\"T_4244be18_49a2_11ec_bda8_0242ac1c0002row4_col6\" class=\"data row4 col6\" >0</td>\n",
              "                        <td id=\"T_4244be18_49a2_11ec_bda8_0242ac1c0002row4_col7\" class=\"data row4 col7\" >2</td>\n",
              "                        <td id=\"T_4244be18_49a2_11ec_bda8_0242ac1c0002row4_col8\" class=\"data row4 col8\" >1</td>\n",
              "                        <td id=\"T_4244be18_49a2_11ec_bda8_0242ac1c0002row4_col9\" class=\"data row4 col9\" >1</td>\n",
              "                        <td id=\"T_4244be18_49a2_11ec_bda8_0242ac1c0002row4_col10\" class=\"data row4 col10\" >4</td>\n",
              "                        <td id=\"T_4244be18_49a2_11ec_bda8_0242ac1c0002row4_col11\" class=\"data row4 col11\" >11</td>\n",
              "            </tr>\n",
              "            <tr>\n",
              "                        <th id=\"T_4244be18_49a2_11ec_bda8_0242ac1c0002level0_row5\" class=\"row_heading level0 row5\" >Actual M39+</th>\n",
              "                        <td id=\"T_4244be18_49a2_11ec_bda8_0242ac1c0002row5_col0\" class=\"data row5 col0\" >13</td>\n",
              "                        <td id=\"T_4244be18_49a2_11ec_bda8_0242ac1c0002row5_col1\" class=\"data row5 col1\" >8</td>\n",
              "                        <td id=\"T_4244be18_49a2_11ec_bda8_0242ac1c0002row5_col2\" class=\"data row5 col2\" >5</td>\n",
              "                        <td id=\"T_4244be18_49a2_11ec_bda8_0242ac1c0002row5_col3\" class=\"data row5 col3\" >12</td>\n",
              "                        <td id=\"T_4244be18_49a2_11ec_bda8_0242ac1c0002row5_col4\" class=\"data row5 col4\" >25</td>\n",
              "                        <td id=\"T_4244be18_49a2_11ec_bda8_0242ac1c0002row5_col5\" class=\"data row5 col5\" >502</td>\n",
              "                        <td id=\"T_4244be18_49a2_11ec_bda8_0242ac1c0002row5_col6\" class=\"data row5 col6\" >0</td>\n",
              "                        <td id=\"T_4244be18_49a2_11ec_bda8_0242ac1c0002row5_col7\" class=\"data row5 col7\" >5</td>\n",
              "                        <td id=\"T_4244be18_49a2_11ec_bda8_0242ac1c0002row5_col8\" class=\"data row5 col8\" >3</td>\n",
              "                        <td id=\"T_4244be18_49a2_11ec_bda8_0242ac1c0002row5_col9\" class=\"data row5 col9\" >6</td>\n",
              "                        <td id=\"T_4244be18_49a2_11ec_bda8_0242ac1c0002row5_col10\" class=\"data row5 col10\" >14</td>\n",
              "                        <td id=\"T_4244be18_49a2_11ec_bda8_0242ac1c0002row5_col11\" class=\"data row5 col11\" >2</td>\n",
              "            </tr>\n",
              "            <tr>\n",
              "                        <th id=\"T_4244be18_49a2_11ec_bda8_0242ac1c0002level0_row6\" class=\"row_heading level0 row6\" >Actual F23-</th>\n",
              "                        <td id=\"T_4244be18_49a2_11ec_bda8_0242ac1c0002row6_col0\" class=\"data row6 col0\" >0</td>\n",
              "                        <td id=\"T_4244be18_49a2_11ec_bda8_0242ac1c0002row6_col1\" class=\"data row6 col1\" >0</td>\n",
              "                        <td id=\"T_4244be18_49a2_11ec_bda8_0242ac1c0002row6_col2\" class=\"data row6 col2\" >0</td>\n",
              "                        <td id=\"T_4244be18_49a2_11ec_bda8_0242ac1c0002row6_col3\" class=\"data row6 col3\" >1</td>\n",
              "                        <td id=\"T_4244be18_49a2_11ec_bda8_0242ac1c0002row6_col4\" class=\"data row6 col4\" >4</td>\n",
              "                        <td id=\"T_4244be18_49a2_11ec_bda8_0242ac1c0002row6_col5\" class=\"data row6 col5\" >6</td>\n",
              "                        <td id=\"T_4244be18_49a2_11ec_bda8_0242ac1c0002row6_col6\" class=\"data row6 col6\" >28</td>\n",
              "                        <td id=\"T_4244be18_49a2_11ec_bda8_0242ac1c0002row6_col7\" class=\"data row6 col7\" >0</td>\n",
              "                        <td id=\"T_4244be18_49a2_11ec_bda8_0242ac1c0002row6_col8\" class=\"data row6 col8\" >0</td>\n",
              "                        <td id=\"T_4244be18_49a2_11ec_bda8_0242ac1c0002row6_col9\" class=\"data row6 col9\" >0</td>\n",
              "                        <td id=\"T_4244be18_49a2_11ec_bda8_0242ac1c0002row6_col10\" class=\"data row6 col10\" >0</td>\n",
              "                        <td id=\"T_4244be18_49a2_11ec_bda8_0242ac1c0002row6_col11\" class=\"data row6 col11\" >0</td>\n",
              "            </tr>\n",
              "            <tr>\n",
              "                        <th id=\"T_4244be18_49a2_11ec_bda8_0242ac1c0002level0_row7\" class=\"row_heading level0 row7\" >Actual F24-26</th>\n",
              "                        <td id=\"T_4244be18_49a2_11ec_bda8_0242ac1c0002row7_col0\" class=\"data row7 col0\" >0</td>\n",
              "                        <td id=\"T_4244be18_49a2_11ec_bda8_0242ac1c0002row7_col1\" class=\"data row7 col1\" >0</td>\n",
              "                        <td id=\"T_4244be18_49a2_11ec_bda8_0242ac1c0002row7_col2\" class=\"data row7 col2\" >0</td>\n",
              "                        <td id=\"T_4244be18_49a2_11ec_bda8_0242ac1c0002row7_col3\" class=\"data row7 col3\" >0</td>\n",
              "                        <td id=\"T_4244be18_49a2_11ec_bda8_0242ac1c0002row7_col4\" class=\"data row7 col4\" >2</td>\n",
              "                        <td id=\"T_4244be18_49a2_11ec_bda8_0242ac1c0002row7_col5\" class=\"data row7 col5\" >3</td>\n",
              "                        <td id=\"T_4244be18_49a2_11ec_bda8_0242ac1c0002row7_col6\" class=\"data row7 col6\" >0</td>\n",
              "                        <td id=\"T_4244be18_49a2_11ec_bda8_0242ac1c0002row7_col7\" class=\"data row7 col7\" >24</td>\n",
              "                        <td id=\"T_4244be18_49a2_11ec_bda8_0242ac1c0002row7_col8\" class=\"data row7 col8\" >0</td>\n",
              "                        <td id=\"T_4244be18_49a2_11ec_bda8_0242ac1c0002row7_col9\" class=\"data row7 col9\" >0</td>\n",
              "                        <td id=\"T_4244be18_49a2_11ec_bda8_0242ac1c0002row7_col10\" class=\"data row7 col10\" >0</td>\n",
              "                        <td id=\"T_4244be18_49a2_11ec_bda8_0242ac1c0002row7_col11\" class=\"data row7 col11\" >0</td>\n",
              "            </tr>\n",
              "            <tr>\n",
              "                        <th id=\"T_4244be18_49a2_11ec_bda8_0242ac1c0002level0_row8\" class=\"row_heading level0 row8\" >Actual F27-28</th>\n",
              "                        <td id=\"T_4244be18_49a2_11ec_bda8_0242ac1c0002row8_col0\" class=\"data row8 col0\" >0</td>\n",
              "                        <td id=\"T_4244be18_49a2_11ec_bda8_0242ac1c0002row8_col1\" class=\"data row8 col1\" >5</td>\n",
              "                        <td id=\"T_4244be18_49a2_11ec_bda8_0242ac1c0002row8_col2\" class=\"data row8 col2\" >0</td>\n",
              "                        <td id=\"T_4244be18_49a2_11ec_bda8_0242ac1c0002row8_col3\" class=\"data row8 col3\" >2</td>\n",
              "                        <td id=\"T_4244be18_49a2_11ec_bda8_0242ac1c0002row8_col4\" class=\"data row8 col4\" >1</td>\n",
              "                        <td id=\"T_4244be18_49a2_11ec_bda8_0242ac1c0002row8_col5\" class=\"data row8 col5\" >7</td>\n",
              "                        <td id=\"T_4244be18_49a2_11ec_bda8_0242ac1c0002row8_col6\" class=\"data row8 col6\" >0</td>\n",
              "                        <td id=\"T_4244be18_49a2_11ec_bda8_0242ac1c0002row8_col7\" class=\"data row8 col7\" >0</td>\n",
              "                        <td id=\"T_4244be18_49a2_11ec_bda8_0242ac1c0002row8_col8\" class=\"data row8 col8\" >40</td>\n",
              "                        <td id=\"T_4244be18_49a2_11ec_bda8_0242ac1c0002row8_col9\" class=\"data row8 col9\" >0</td>\n",
              "                        <td id=\"T_4244be18_49a2_11ec_bda8_0242ac1c0002row8_col10\" class=\"data row8 col10\" >0</td>\n",
              "                        <td id=\"T_4244be18_49a2_11ec_bda8_0242ac1c0002row8_col11\" class=\"data row8 col11\" >2</td>\n",
              "            </tr>\n",
              "            <tr>\n",
              "                        <th id=\"T_4244be18_49a2_11ec_bda8_0242ac1c0002level0_row9\" class=\"row_heading level0 row9\" >Actual F29-32</th>\n",
              "                        <td id=\"T_4244be18_49a2_11ec_bda8_0242ac1c0002row9_col0\" class=\"data row9 col0\" >0</td>\n",
              "                        <td id=\"T_4244be18_49a2_11ec_bda8_0242ac1c0002row9_col1\" class=\"data row9 col1\" >5</td>\n",
              "                        <td id=\"T_4244be18_49a2_11ec_bda8_0242ac1c0002row9_col2\" class=\"data row9 col2\" >1</td>\n",
              "                        <td id=\"T_4244be18_49a2_11ec_bda8_0242ac1c0002row9_col3\" class=\"data row9 col3\" >3</td>\n",
              "                        <td id=\"T_4244be18_49a2_11ec_bda8_0242ac1c0002row9_col4\" class=\"data row9 col4\" >4</td>\n",
              "                        <td id=\"T_4244be18_49a2_11ec_bda8_0242ac1c0002row9_col5\" class=\"data row9 col5\" >10</td>\n",
              "                        <td id=\"T_4244be18_49a2_11ec_bda8_0242ac1c0002row9_col6\" class=\"data row9 col6\" >0</td>\n",
              "                        <td id=\"T_4244be18_49a2_11ec_bda8_0242ac1c0002row9_col7\" class=\"data row9 col7\" >0</td>\n",
              "                        <td id=\"T_4244be18_49a2_11ec_bda8_0242ac1c0002row9_col8\" class=\"data row9 col8\" >0</td>\n",
              "                        <td id=\"T_4244be18_49a2_11ec_bda8_0242ac1c0002row9_col9\" class=\"data row9 col9\" >56</td>\n",
              "                        <td id=\"T_4244be18_49a2_11ec_bda8_0242ac1c0002row9_col10\" class=\"data row9 col10\" >2</td>\n",
              "                        <td id=\"T_4244be18_49a2_11ec_bda8_0242ac1c0002row9_col11\" class=\"data row9 col11\" >0</td>\n",
              "            </tr>\n",
              "            <tr>\n",
              "                        <th id=\"T_4244be18_49a2_11ec_bda8_0242ac1c0002level0_row10\" class=\"row_heading level0 row10\" >Actual F33-42</th>\n",
              "                        <td id=\"T_4244be18_49a2_11ec_bda8_0242ac1c0002row10_col0\" class=\"data row10 col0\" >2</td>\n",
              "                        <td id=\"T_4244be18_49a2_11ec_bda8_0242ac1c0002row10_col1\" class=\"data row10 col1\" >1</td>\n",
              "                        <td id=\"T_4244be18_49a2_11ec_bda8_0242ac1c0002row10_col2\" class=\"data row10 col2\" >1</td>\n",
              "                        <td id=\"T_4244be18_49a2_11ec_bda8_0242ac1c0002row10_col3\" class=\"data row10 col3\" >1</td>\n",
              "                        <td id=\"T_4244be18_49a2_11ec_bda8_0242ac1c0002row10_col4\" class=\"data row10 col4\" >1</td>\n",
              "                        <td id=\"T_4244be18_49a2_11ec_bda8_0242ac1c0002row10_col5\" class=\"data row10 col5\" >27</td>\n",
              "                        <td id=\"T_4244be18_49a2_11ec_bda8_0242ac1c0002row10_col6\" class=\"data row10 col6\" >1</td>\n",
              "                        <td id=\"T_4244be18_49a2_11ec_bda8_0242ac1c0002row10_col7\" class=\"data row10 col7\" >2</td>\n",
              "                        <td id=\"T_4244be18_49a2_11ec_bda8_0242ac1c0002row10_col8\" class=\"data row10 col8\" >0</td>\n",
              "                        <td id=\"T_4244be18_49a2_11ec_bda8_0242ac1c0002row10_col9\" class=\"data row10 col9\" >2</td>\n",
              "                        <td id=\"T_4244be18_49a2_11ec_bda8_0242ac1c0002row10_col10\" class=\"data row10 col10\" >98</td>\n",
              "                        <td id=\"T_4244be18_49a2_11ec_bda8_0242ac1c0002row10_col11\" class=\"data row10 col11\" >1</td>\n",
              "            </tr>\n",
              "            <tr>\n",
              "                        <th id=\"T_4244be18_49a2_11ec_bda8_0242ac1c0002level0_row11\" class=\"row_heading level0 row11\" >Actual F43+</th>\n",
              "                        <td id=\"T_4244be18_49a2_11ec_bda8_0242ac1c0002row11_col0\" class=\"data row11 col0\" >0</td>\n",
              "                        <td id=\"T_4244be18_49a2_11ec_bda8_0242ac1c0002row11_col1\" class=\"data row11 col1\" >1</td>\n",
              "                        <td id=\"T_4244be18_49a2_11ec_bda8_0242ac1c0002row11_col2\" class=\"data row11 col2\" >4</td>\n",
              "                        <td id=\"T_4244be18_49a2_11ec_bda8_0242ac1c0002row11_col3\" class=\"data row11 col3\" >4</td>\n",
              "                        <td id=\"T_4244be18_49a2_11ec_bda8_0242ac1c0002row11_col4\" class=\"data row11 col4\" >24</td>\n",
              "                        <td id=\"T_4244be18_49a2_11ec_bda8_0242ac1c0002row11_col5\" class=\"data row11 col5\" >19</td>\n",
              "                        <td id=\"T_4244be18_49a2_11ec_bda8_0242ac1c0002row11_col6\" class=\"data row11 col6\" >0</td>\n",
              "                        <td id=\"T_4244be18_49a2_11ec_bda8_0242ac1c0002row11_col7\" class=\"data row11 col7\" >1</td>\n",
              "                        <td id=\"T_4244be18_49a2_11ec_bda8_0242ac1c0002row11_col8\" class=\"data row11 col8\" >4</td>\n",
              "                        <td id=\"T_4244be18_49a2_11ec_bda8_0242ac1c0002row11_col9\" class=\"data row11 col9\" >0</td>\n",
              "                        <td id=\"T_4244be18_49a2_11ec_bda8_0242ac1c0002row11_col10\" class=\"data row11 col10\" >2</td>\n",
              "                        <td id=\"T_4244be18_49a2_11ec_bda8_0242ac1c0002row11_col11\" class=\"data row11 col11\" >114</td>\n",
              "            </tr>\n",
              "    </tbody></table>"
            ],
            "text/plain": [
              "<pandas.io.formats.style.Styler at 0x7f3d07cdf310>"
            ]
          },
          "metadata": {},
          "execution_count": 93
        }
      ]
    },
    {
      "cell_type": "code",
      "metadata": {
        "colab": {
          "base_uri": "https://localhost:8080/"
        },
        "id": "J-MQ2pS97MsC",
        "outputId": "17cbe871-f2ab-4f7d-faf9-b49d2937545a"
      },
      "source": [
        "print(\"Classification Report:\")\n",
        "print()\n",
        "print(classification_report(y_test, y_pred))"
      ],
      "execution_count": null,
      "outputs": [
        {
          "output_type": "stream",
          "name": "stdout",
          "text": [
            "Classification Report:\n",
            "\n",
            "              precision    recall  f1-score   support\n",
            "\n",
            "           0       0.75      0.72      0.74       128\n",
            "           1       0.84      0.82      0.83       258\n",
            "           2       0.89      0.82      0.86       192\n",
            "           3       0.77      0.69      0.73       283\n",
            "           4       0.82      0.81      0.82       539\n",
            "           5       0.69      0.84      0.76       595\n",
            "           6       0.93      0.72      0.81        39\n",
            "           7       0.69      0.83      0.75        29\n",
            "           8       0.78      0.70      0.74        57\n",
            "           9       0.81      0.69      0.75        81\n",
            "          10       0.79      0.72      0.75       137\n",
            "          11       0.82      0.66      0.73       173\n",
            "\n",
            "    accuracy                           0.78      2511\n",
            "   macro avg       0.80      0.75      0.77      2511\n",
            "weighted avg       0.79      0.78      0.78      2511\n",
            "\n"
          ]
        }
      ]
    },
    {
      "cell_type": "code",
      "metadata": {
        "id": "_CCnNev17cPJ"
      },
      "source": [
        "def multiclass_roc_auc_score(y_test, y_pred, average=\"macro\"):\n",
        "  lb = LabelBinarizer()\n",
        "  lb.fit(y_test)\n",
        "  y_test = lb.transform(y_test)\n",
        "  y_pred = lb.transform(y_pred)\n",
        "  return roc_auc_score(y_test, y_pred, average=average)\n"
      ],
      "execution_count": null,
      "outputs": []
    },
    {
      "cell_type": "code",
      "metadata": {
        "colab": {
          "base_uri": "https://localhost:8080/"
        },
        "id": "EiiNkVkA7cS4",
        "outputId": "a2ea0f4f-d2a0-4356-825c-c2f3372f34dc"
      },
      "source": [
        "multiclass_roc_auc_score(y_test, y_pred, average=\"macro\")"
      ],
      "execution_count": null,
      "outputs": [
        {
          "output_type": "execute_result",
          "data": {
            "text/plain": [
              "0.8647379098265993"
            ]
          },
          "metadata": {},
          "execution_count": 96
        }
      ]
    }
  ]
}