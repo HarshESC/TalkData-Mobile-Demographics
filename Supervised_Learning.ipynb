{
  "nbformat": 4,
  "nbformat_minor": 0,
  "metadata": {
    "colab": {
      "name": "Supervised Learning.ipynb",
      "provenance": [],
      "collapsed_sections": [],
      "authorship_tag": "ABX9TyPAeR5nEljfBzJJ3GCpvQws",
      "include_colab_link": true
    },
    "kernelspec": {
      "name": "python3",
      "display_name": "Python 3"
    },
    "language_info": {
      "name": "python"
    }
  },
  "cells": [
    {
      "cell_type": "markdown",
      "metadata": {
        "id": "view-in-github",
        "colab_type": "text"
      },
      "source": [
        "<a href=\"https://colab.research.google.com/github/HarshESC/TalkData-Mobile-Demographics/blob/main/Supervised_Learning.ipynb\" target=\"_parent\"><img src=\"https://colab.research.google.com/assets/colab-badge.svg\" alt=\"Open In Colab\"/></a>"
      ]
    },
    {
      "cell_type": "code",
      "metadata": {
        "colab": {
          "base_uri": "https://localhost:8080/"
        },
        "id": "N6abuKw0ky6Z",
        "outputId": "8444e2ce-1cc0-432d-bf71-7c8acd53006d"
      },
      "source": [
        "#Imports\n",
        "import numpy as np\n",
        "import pandas as pd\n",
        "from sklearn.datasets import load_boston\n",
        "from sklearn.model_selection import train_test_split, GridSearchCV, cross_val_score\n",
        "from sklearn.tree import DecisionTreeClassifier\n",
        "from sklearn.feature_selection import SelectKBest, f_regression, chi2\n",
        "import matplotlib.pyplot as plt\n",
        "import seaborn as sns\n",
        "from sklearn.metrics import confusion_matrix\n",
        "from sklearn.metrics import accuracy_score\n",
        "from sklearn.metrics import precision_score, recall_score\n",
        "from sklearn.metrics import f1_score\n",
        "from sklearn.metrics import classification_report\n",
        "from sklearn.ensemble import RandomForestClassifier\n",
        "from sklearn.neighbors import KNeighborsClassifier\n",
        "from sklearn import neighbors\n",
        "from sklearn import svm\n",
        "from sklearn.svm import SVC\n",
        "\n",
        "from sklearn import tree\n",
        "from sklearn.ensemble import GradientBoostingClassifier\n",
        "from sklearn.compose import ColumnTransformer\n",
        "from sklearn.preprocessing import StandardScaler\n",
        "from sklearn.pipeline import Pipeline\n",
        "from sklearn.decomposition import PCA\n",
        "from sklearn import ensemble\n",
        "\n",
        "import warnings\n",
        "warnings.filterwarnings('ignore')\n",
        "from google.colab import drive \n",
        "drive.mount('/content/gdrive')\n",
        "import os\n",
        "os.environ['KAGGLE_CONFIG_DIR'] = \"/content/gdrive/\"\n",
        "%cd \"/content/gdrive/My Drive/Final Capstone\"\n"
      ],
      "execution_count": 1,
      "outputs": [
        {
          "output_type": "stream",
          "name": "stdout",
          "text": [
            "Drive already mounted at /content/gdrive; to attempt to forcibly remount, call drive.mount(\"/content/gdrive\", force_remount=True).\n",
            "/content/gdrive/My Drive/Final Capstone\n"
          ]
        }
      ]
    },
    {
      "cell_type": "markdown",
      "metadata": {
        "id": "IKhZL-THz3Ke"
      },
      "source": [
        "# Small EDA"
      ]
    },
    {
      "cell_type": "code",
      "metadata": {
        "colab": {
          "base_uri": "https://localhost:8080/",
          "height": 237
        },
        "id": "IlkCpkyYQ0U3",
        "outputId": "b560ce98-3104-4941-9042-7dfc76ee8a0d"
      },
      "source": [
        "master_df = pd.read_csv(\"master_clean.csv\")\n",
        "\n",
        "master_df.head()"
      ],
      "execution_count": 2,
      "outputs": [
        {
          "output_type": "execute_result",
          "data": {
            "text/html": [
              "<div>\n",
              "<style scoped>\n",
              "    .dataframe tbody tr th:only-of-type {\n",
              "        vertical-align: middle;\n",
              "    }\n",
              "\n",
              "    .dataframe tbody tr th {\n",
              "        vertical-align: top;\n",
              "    }\n",
              "\n",
              "    .dataframe thead th {\n",
              "        text-align: right;\n",
              "    }\n",
              "</style>\n",
              "<table border=\"1\" class=\"dataframe\">\n",
              "  <thead>\n",
              "    <tr style=\"text-align: right;\">\n",
              "      <th></th>\n",
              "      <th>event_id</th>\n",
              "      <th>app_id</th>\n",
              "      <th>is_active</th>\n",
              "      <th>device_id</th>\n",
              "      <th>label_id_x</th>\n",
              "      <th>download_id</th>\n",
              "      <th>251</th>\n",
              "      <th>252</th>\n",
              "      <th>253</th>\n",
              "      <th>254</th>\n",
              "      <th>256</th>\n",
              "      <th>262</th>\n",
              "      <th>263</th>\n",
              "      <th>302</th>\n",
              "      <th>303</th>\n",
              "      <th>306</th>\n",
              "      <th>326</th>\n",
              "      <th>405</th>\n",
              "      <th>406</th>\n",
              "      <th>407</th>\n",
              "      <th>548</th>\n",
              "      <th>549</th>\n",
              "      <th>551</th>\n",
              "      <th>558</th>\n",
              "      <th>562</th>\n",
              "      <th>564</th>\n",
              "      <th>565</th>\n",
              "      <th>566</th>\n",
              "      <th>english_phone_brand_asus</th>\n",
              "      <th>english_phone_brand_coolpad</th>\n",
              "      <th>english_phone_brand_hammer</th>\n",
              "      <th>english_phone_brand_huawei</th>\n",
              "      <th>english_phone_brand_lshi</th>\n",
              "      <th>english_phone_brand_meizu</th>\n",
              "      <th>english_phone_brand_oppo</th>\n",
              "      <th>english_phone_brand_qiku</th>\n",
              "      <th>english_phone_brand_samsung</th>\n",
              "      <th>english_phone_brand_vivo</th>\n",
              "      <th>english_phone_brand_xiaomi</th>\n",
              "      <th>device_model_Galaxy Note 3</th>\n",
              "      <th>device_model_Galaxy Note 4</th>\n",
              "      <th>device_model_Galaxy S5</th>\n",
              "      <th>device_model_Galaxy S6</th>\n",
              "      <th>device_model_MI 3</th>\n",
              "      <th>device_model_MI 4</th>\n",
              "      <th>device_model_MX4</th>\n",
              "      <th>device_model_MX4 Pro</th>\n",
              "      <th>device_model_MX5</th>\n",
              "      <th>device_model_Mate 7</th>\n",
              "      <th>device_model_P8 Lite</th>\n",
              "      <th>device_model_P8max</th>\n",
              "      <th>device_model_R7 Plus</th>\n",
              "      <th>device_model_U3</th>\n",
              "      <th>device_model_X5SL</th>\n",
              "      <th>device_model_ZenFone 2</th>\n",
              "      <th>device_model_note顶配版</th>\n",
              "      <th>device_model_坚果手机</th>\n",
              "      <th>device_model_大神Note3</th>\n",
              "      <th>device_model_小米4C</th>\n",
              "      <th>device_model_小米note</th>\n",
              "      <th>device_model_红米2</th>\n",
              "      <th>device_model_红米2A</th>\n",
              "      <th>device_model_红米Note2</th>\n",
              "      <th>device_model_红米Note3</th>\n",
              "      <th>device_model_红米note</th>\n",
              "      <th>device_model_荣耀3C</th>\n",
              "      <th>device_model_荣耀6</th>\n",
              "      <th>device_model_荣耀6 Plus</th>\n",
              "      <th>device_model_荣耀7</th>\n",
              "      <th>device_model_荣耀7i</th>\n",
              "      <th>device_model_荣耀X2</th>\n",
              "      <th>device_model_荣耀畅玩4C</th>\n",
              "      <th>device_model_荣耀畅玩5X</th>\n",
              "      <th>device_model_超级手机1</th>\n",
              "      <th>device_model_超级手机1 Pro</th>\n",
              "      <th>device_model_超级手机1s</th>\n",
              "      <th>device_model_青春版</th>\n",
              "      <th>device_model_魅蓝NOTE</th>\n",
              "      <th>device_model_魅蓝metal</th>\n",
              "      <th>num_group</th>\n",
              "    </tr>\n",
              "  </thead>\n",
              "  <tbody>\n",
              "    <tr>\n",
              "      <th>0</th>\n",
              "      <td>198</td>\n",
              "      <td>-8807740666788515175</td>\n",
              "      <td>0</td>\n",
              "      <td>6984152891252102027</td>\n",
              "      <td>548</td>\n",
              "      <td>-1823587775536413148</td>\n",
              "      <td>0</td>\n",
              "      <td>0</td>\n",
              "      <td>0</td>\n",
              "      <td>0</td>\n",
              "      <td>0</td>\n",
              "      <td>0</td>\n",
              "      <td>0</td>\n",
              "      <td>0</td>\n",
              "      <td>0</td>\n",
              "      <td>0</td>\n",
              "      <td>0</td>\n",
              "      <td>0</td>\n",
              "      <td>0</td>\n",
              "      <td>0</td>\n",
              "      <td>1</td>\n",
              "      <td>1</td>\n",
              "      <td>0</td>\n",
              "      <td>0</td>\n",
              "      <td>0</td>\n",
              "      <td>0</td>\n",
              "      <td>0</td>\n",
              "      <td>0</td>\n",
              "      <td>0</td>\n",
              "      <td>0</td>\n",
              "      <td>0</td>\n",
              "      <td>0</td>\n",
              "      <td>0</td>\n",
              "      <td>0</td>\n",
              "      <td>0</td>\n",
              "      <td>0</td>\n",
              "      <td>0</td>\n",
              "      <td>0</td>\n",
              "      <td>1</td>\n",
              "      <td>0</td>\n",
              "      <td>0</td>\n",
              "      <td>0</td>\n",
              "      <td>0</td>\n",
              "      <td>0</td>\n",
              "      <td>1</td>\n",
              "      <td>0</td>\n",
              "      <td>0</td>\n",
              "      <td>0</td>\n",
              "      <td>0</td>\n",
              "      <td>0</td>\n",
              "      <td>0</td>\n",
              "      <td>0</td>\n",
              "      <td>0</td>\n",
              "      <td>0</td>\n",
              "      <td>0</td>\n",
              "      <td>0</td>\n",
              "      <td>0</td>\n",
              "      <td>0</td>\n",
              "      <td>0</td>\n",
              "      <td>0</td>\n",
              "      <td>0</td>\n",
              "      <td>0</td>\n",
              "      <td>0</td>\n",
              "      <td>0</td>\n",
              "      <td>0</td>\n",
              "      <td>0</td>\n",
              "      <td>0</td>\n",
              "      <td>0</td>\n",
              "      <td>0</td>\n",
              "      <td>0</td>\n",
              "      <td>0</td>\n",
              "      <td>0</td>\n",
              "      <td>0</td>\n",
              "      <td>0</td>\n",
              "      <td>0</td>\n",
              "      <td>0</td>\n",
              "      <td>0</td>\n",
              "      <td>0</td>\n",
              "      <td>0</td>\n",
              "      <td>4</td>\n",
              "    </tr>\n",
              "    <tr>\n",
              "      <th>1</th>\n",
              "      <td>198</td>\n",
              "      <td>-7415261454408512527</td>\n",
              "      <td>0</td>\n",
              "      <td>6984152891252102027</td>\n",
              "      <td>254</td>\n",
              "      <td>-431108563156410500</td>\n",
              "      <td>0</td>\n",
              "      <td>0</td>\n",
              "      <td>0</td>\n",
              "      <td>1</td>\n",
              "      <td>0</td>\n",
              "      <td>0</td>\n",
              "      <td>0</td>\n",
              "      <td>0</td>\n",
              "      <td>0</td>\n",
              "      <td>0</td>\n",
              "      <td>0</td>\n",
              "      <td>0</td>\n",
              "      <td>0</td>\n",
              "      <td>0</td>\n",
              "      <td>1</td>\n",
              "      <td>0</td>\n",
              "      <td>0</td>\n",
              "      <td>0</td>\n",
              "      <td>1</td>\n",
              "      <td>1</td>\n",
              "      <td>0</td>\n",
              "      <td>0</td>\n",
              "      <td>0</td>\n",
              "      <td>0</td>\n",
              "      <td>0</td>\n",
              "      <td>0</td>\n",
              "      <td>0</td>\n",
              "      <td>0</td>\n",
              "      <td>0</td>\n",
              "      <td>0</td>\n",
              "      <td>0</td>\n",
              "      <td>0</td>\n",
              "      <td>1</td>\n",
              "      <td>0</td>\n",
              "      <td>0</td>\n",
              "      <td>0</td>\n",
              "      <td>0</td>\n",
              "      <td>0</td>\n",
              "      <td>1</td>\n",
              "      <td>0</td>\n",
              "      <td>0</td>\n",
              "      <td>0</td>\n",
              "      <td>0</td>\n",
              "      <td>0</td>\n",
              "      <td>0</td>\n",
              "      <td>0</td>\n",
              "      <td>0</td>\n",
              "      <td>0</td>\n",
              "      <td>0</td>\n",
              "      <td>0</td>\n",
              "      <td>0</td>\n",
              "      <td>0</td>\n",
              "      <td>0</td>\n",
              "      <td>0</td>\n",
              "      <td>0</td>\n",
              "      <td>0</td>\n",
              "      <td>0</td>\n",
              "      <td>0</td>\n",
              "      <td>0</td>\n",
              "      <td>0</td>\n",
              "      <td>0</td>\n",
              "      <td>0</td>\n",
              "      <td>0</td>\n",
              "      <td>0</td>\n",
              "      <td>0</td>\n",
              "      <td>0</td>\n",
              "      <td>0</td>\n",
              "      <td>0</td>\n",
              "      <td>0</td>\n",
              "      <td>0</td>\n",
              "      <td>0</td>\n",
              "      <td>0</td>\n",
              "      <td>0</td>\n",
              "      <td>4</td>\n",
              "    </tr>\n",
              "    <tr>\n",
              "      <th>2</th>\n",
              "      <td>198</td>\n",
              "      <td>-6538188762242952077</td>\n",
              "      <td>1</td>\n",
              "      <td>6984152891252102027</td>\n",
              "      <td>251</td>\n",
              "      <td>445964129009149950</td>\n",
              "      <td>1</td>\n",
              "      <td>0</td>\n",
              "      <td>0</td>\n",
              "      <td>0</td>\n",
              "      <td>0</td>\n",
              "      <td>1</td>\n",
              "      <td>0</td>\n",
              "      <td>1</td>\n",
              "      <td>1</td>\n",
              "      <td>0</td>\n",
              "      <td>0</td>\n",
              "      <td>0</td>\n",
              "      <td>0</td>\n",
              "      <td>0</td>\n",
              "      <td>0</td>\n",
              "      <td>0</td>\n",
              "      <td>0</td>\n",
              "      <td>0</td>\n",
              "      <td>0</td>\n",
              "      <td>0</td>\n",
              "      <td>0</td>\n",
              "      <td>0</td>\n",
              "      <td>0</td>\n",
              "      <td>0</td>\n",
              "      <td>0</td>\n",
              "      <td>0</td>\n",
              "      <td>0</td>\n",
              "      <td>0</td>\n",
              "      <td>0</td>\n",
              "      <td>0</td>\n",
              "      <td>0</td>\n",
              "      <td>0</td>\n",
              "      <td>1</td>\n",
              "      <td>0</td>\n",
              "      <td>0</td>\n",
              "      <td>0</td>\n",
              "      <td>0</td>\n",
              "      <td>0</td>\n",
              "      <td>1</td>\n",
              "      <td>0</td>\n",
              "      <td>0</td>\n",
              "      <td>0</td>\n",
              "      <td>0</td>\n",
              "      <td>0</td>\n",
              "      <td>0</td>\n",
              "      <td>0</td>\n",
              "      <td>0</td>\n",
              "      <td>0</td>\n",
              "      <td>0</td>\n",
              "      <td>0</td>\n",
              "      <td>0</td>\n",
              "      <td>0</td>\n",
              "      <td>0</td>\n",
              "      <td>0</td>\n",
              "      <td>0</td>\n",
              "      <td>0</td>\n",
              "      <td>0</td>\n",
              "      <td>0</td>\n",
              "      <td>0</td>\n",
              "      <td>0</td>\n",
              "      <td>0</td>\n",
              "      <td>0</td>\n",
              "      <td>0</td>\n",
              "      <td>0</td>\n",
              "      <td>0</td>\n",
              "      <td>0</td>\n",
              "      <td>0</td>\n",
              "      <td>0</td>\n",
              "      <td>0</td>\n",
              "      <td>0</td>\n",
              "      <td>0</td>\n",
              "      <td>0</td>\n",
              "      <td>0</td>\n",
              "      <td>4</td>\n",
              "    </tr>\n",
              "    <tr>\n",
              "      <th>3</th>\n",
              "      <td>198</td>\n",
              "      <td>-6493194103110420302</td>\n",
              "      <td>0</td>\n",
              "      <td>6984152891252102027</td>\n",
              "      <td>253</td>\n",
              "      <td>490958788141681725</td>\n",
              "      <td>0</td>\n",
              "      <td>0</td>\n",
              "      <td>1</td>\n",
              "      <td>0</td>\n",
              "      <td>0</td>\n",
              "      <td>0</td>\n",
              "      <td>0</td>\n",
              "      <td>0</td>\n",
              "      <td>0</td>\n",
              "      <td>0</td>\n",
              "      <td>0</td>\n",
              "      <td>1</td>\n",
              "      <td>0</td>\n",
              "      <td>0</td>\n",
              "      <td>1</td>\n",
              "      <td>1</td>\n",
              "      <td>0</td>\n",
              "      <td>0</td>\n",
              "      <td>0</td>\n",
              "      <td>1</td>\n",
              "      <td>0</td>\n",
              "      <td>0</td>\n",
              "      <td>0</td>\n",
              "      <td>0</td>\n",
              "      <td>0</td>\n",
              "      <td>0</td>\n",
              "      <td>0</td>\n",
              "      <td>0</td>\n",
              "      <td>0</td>\n",
              "      <td>0</td>\n",
              "      <td>0</td>\n",
              "      <td>0</td>\n",
              "      <td>1</td>\n",
              "      <td>0</td>\n",
              "      <td>0</td>\n",
              "      <td>0</td>\n",
              "      <td>0</td>\n",
              "      <td>0</td>\n",
              "      <td>1</td>\n",
              "      <td>0</td>\n",
              "      <td>0</td>\n",
              "      <td>0</td>\n",
              "      <td>0</td>\n",
              "      <td>0</td>\n",
              "      <td>0</td>\n",
              "      <td>0</td>\n",
              "      <td>0</td>\n",
              "      <td>0</td>\n",
              "      <td>0</td>\n",
              "      <td>0</td>\n",
              "      <td>0</td>\n",
              "      <td>0</td>\n",
              "      <td>0</td>\n",
              "      <td>0</td>\n",
              "      <td>0</td>\n",
              "      <td>0</td>\n",
              "      <td>0</td>\n",
              "      <td>0</td>\n",
              "      <td>0</td>\n",
              "      <td>0</td>\n",
              "      <td>0</td>\n",
              "      <td>0</td>\n",
              "      <td>0</td>\n",
              "      <td>0</td>\n",
              "      <td>0</td>\n",
              "      <td>0</td>\n",
              "      <td>0</td>\n",
              "      <td>0</td>\n",
              "      <td>0</td>\n",
              "      <td>0</td>\n",
              "      <td>0</td>\n",
              "      <td>0</td>\n",
              "      <td>0</td>\n",
              "      <td>4</td>\n",
              "    </tr>\n",
              "    <tr>\n",
              "      <th>4</th>\n",
              "      <td>198</td>\n",
              "      <td>-6349602347932703147</td>\n",
              "      <td>0</td>\n",
              "      <td>6984152891252102027</td>\n",
              "      <td>405</td>\n",
              "      <td>634550543319398880</td>\n",
              "      <td>0</td>\n",
              "      <td>0</td>\n",
              "      <td>0</td>\n",
              "      <td>0</td>\n",
              "      <td>0</td>\n",
              "      <td>0</td>\n",
              "      <td>0</td>\n",
              "      <td>0</td>\n",
              "      <td>0</td>\n",
              "      <td>0</td>\n",
              "      <td>0</td>\n",
              "      <td>1</td>\n",
              "      <td>0</td>\n",
              "      <td>0</td>\n",
              "      <td>1</td>\n",
              "      <td>1</td>\n",
              "      <td>0</td>\n",
              "      <td>0</td>\n",
              "      <td>0</td>\n",
              "      <td>0</td>\n",
              "      <td>0</td>\n",
              "      <td>0</td>\n",
              "      <td>0</td>\n",
              "      <td>0</td>\n",
              "      <td>0</td>\n",
              "      <td>0</td>\n",
              "      <td>0</td>\n",
              "      <td>0</td>\n",
              "      <td>0</td>\n",
              "      <td>0</td>\n",
              "      <td>0</td>\n",
              "      <td>0</td>\n",
              "      <td>1</td>\n",
              "      <td>0</td>\n",
              "      <td>0</td>\n",
              "      <td>0</td>\n",
              "      <td>0</td>\n",
              "      <td>0</td>\n",
              "      <td>1</td>\n",
              "      <td>0</td>\n",
              "      <td>0</td>\n",
              "      <td>0</td>\n",
              "      <td>0</td>\n",
              "      <td>0</td>\n",
              "      <td>0</td>\n",
              "      <td>0</td>\n",
              "      <td>0</td>\n",
              "      <td>0</td>\n",
              "      <td>0</td>\n",
              "      <td>0</td>\n",
              "      <td>0</td>\n",
              "      <td>0</td>\n",
              "      <td>0</td>\n",
              "      <td>0</td>\n",
              "      <td>0</td>\n",
              "      <td>0</td>\n",
              "      <td>0</td>\n",
              "      <td>0</td>\n",
              "      <td>0</td>\n",
              "      <td>0</td>\n",
              "      <td>0</td>\n",
              "      <td>0</td>\n",
              "      <td>0</td>\n",
              "      <td>0</td>\n",
              "      <td>0</td>\n",
              "      <td>0</td>\n",
              "      <td>0</td>\n",
              "      <td>0</td>\n",
              "      <td>0</td>\n",
              "      <td>0</td>\n",
              "      <td>0</td>\n",
              "      <td>0</td>\n",
              "      <td>0</td>\n",
              "      <td>4</td>\n",
              "    </tr>\n",
              "  </tbody>\n",
              "</table>\n",
              "</div>"
            ],
            "text/plain": [
              "   event_id               app_id  ...  device_model_魅蓝metal  num_group\n",
              "0       198 -8807740666788515175  ...                     0          4\n",
              "1       198 -7415261454408512527  ...                     0          4\n",
              "2       198 -6538188762242952077  ...                     0          4\n",
              "3       198 -6493194103110420302  ...                     0          4\n",
              "4       198 -6349602347932703147  ...                     0          4\n",
              "\n",
              "[5 rows x 80 columns]"
            ]
          },
          "metadata": {},
          "execution_count": 2
        }
      ]
    },
    {
      "cell_type": "code",
      "metadata": {
        "id": "rgH9EyuBx4vc"
      },
      "source": [
        "# Dropping AppID as I don't think it will be helpful for our question\n",
        "master_df = master_df.drop(columns=[\"app_id\"])\n"
      ],
      "execution_count": 3,
      "outputs": []
    },
    {
      "cell_type": "code",
      "metadata": {
        "id": "Gv0lQw9d_Ryz",
        "colab": {
          "base_uri": "https://localhost:8080/"
        },
        "outputId": "08ad1fc1-2d40-4467-abe4-486aa67090da"
      },
      "source": [
        "\n",
        "master_df[\"num_group\"].value_counts()\n"
      ],
      "execution_count": 4,
      "outputs": [
        {
          "output_type": "execute_result",
          "data": {
            "text/plain": [
              "5     2842\n",
              "4     2690\n",
              "3     1366\n",
              "1     1250\n",
              "2      885\n",
              "11     857\n",
              "10     683\n",
              "0      637\n",
              "9      403\n",
              "8      282\n",
              "6      194\n",
              "7      142\n",
              "Name: num_group, dtype: int64"
            ]
          },
          "metadata": {},
          "execution_count": 4
        }
      ]
    },
    {
      "cell_type": "code",
      "metadata": {
        "id": "MUQosOj2Ruc9"
      },
      "source": [
        "numerical_columns = [\"device_id\", \"event_id\"]\n"
      ],
      "execution_count": 5,
      "outputs": []
    },
    {
      "cell_type": "markdown",
      "metadata": {
        "id": "d7H2CRIUR2De"
      },
      "source": [
        "# Select K Best"
      ]
    },
    {
      "cell_type": "code",
      "metadata": {
        "id": "w4XtgBQ0R3UQ"
      },
      "source": [
        "# splitting up the data and choosing num_group as target variable\n",
        "X = master_df.drop(columns=[\"num_group\"])\n",
        "y = master_df[\"num_group\"]\n",
        "\n",
        "X_train, X_test, y_train, y_test = train_test_split(\n",
        "    X, y, test_size=0.20, random_state=13, stratify=y\n",
        ")\n"
      ],
      "execution_count": 6,
      "outputs": []
    },
    {
      "cell_type": "code",
      "metadata": {
        "id": "nKJHOTOKog3P"
      },
      "source": [
        "# set up preprocessing for pipeline (used to scale features)\n",
        "preprocessing = ColumnTransformer(\n",
        "    [(\"scale\", StandardScaler(), numerical_columns),], remainder=\"passthrough\",\n",
        ")\n",
        "\n"
      ],
      "execution_count": 7,
      "outputs": []
    },
    {
      "cell_type": "markdown",
      "metadata": {
        "id": "EnzAyE28o-J3"
      },
      "source": [
        "## Random Forest Classifier"
      ]
    },
    {
      "cell_type": "code",
      "metadata": {
        "colab": {
          "base_uri": "https://localhost:8080/"
        },
        "id": "Eiv56ZWnpKJw",
        "outputId": "72b88aaa-bd01-4ebf-cfc3-f162337cda55"
      },
      "source": [
        "pipeline = Pipeline(\n",
        "    [(\"preprocessing\", preprocessing), (\"rf\", RandomForestClassifier())], verbose=True\n",
        ")\n",
        "\n",
        "pipeline.fit(X_train, y_train)\n"
      ],
      "execution_count": 8,
      "outputs": [
        {
          "output_type": "stream",
          "name": "stdout",
          "text": [
            "[Pipeline] ..... (step 1 of 2) Processing preprocessing, total=   0.0s\n",
            "[Pipeline] ................ (step 2 of 2) Processing rf, total=   1.7s\n"
          ]
        },
        {
          "output_type": "execute_result",
          "data": {
            "text/plain": [
              "Pipeline(memory=None,\n",
              "         steps=[('preprocessing',\n",
              "                 ColumnTransformer(n_jobs=None, remainder='passthrough',\n",
              "                                   sparse_threshold=0.3,\n",
              "                                   transformer_weights=None,\n",
              "                                   transformers=[('scale',\n",
              "                                                  StandardScaler(copy=True,\n",
              "                                                                 with_mean=True,\n",
              "                                                                 with_std=True),\n",
              "                                                  ['device_id', 'event_id'])],\n",
              "                                   verbose=False)),\n",
              "                ('rf',\n",
              "                 RandomForestClassifier(bootstrap=True, ccp_alpha=0.0,\n",
              "                                        class_weight=None, criterion='gini',\n",
              "                                        max_depth=None, max_features='auto',\n",
              "                                        max_leaf_nodes=None, max_samples=None,\n",
              "                                        min_impurity_decrease=0.0,\n",
              "                                        min_impurity_split=None,\n",
              "                                        min_samples_leaf=1, min_samples_split=2,\n",
              "                                        min_weight_fraction_leaf=0.0,\n",
              "                                        n_estimators=100, n_jobs=None,\n",
              "                                        oob_score=False, random_state=None,\n",
              "                                        verbose=0, warm_start=False))],\n",
              "         verbose=True)"
            ]
          },
          "metadata": {},
          "execution_count": 8
        }
      ]
    },
    {
      "cell_type": "markdown",
      "metadata": {
        "id": "9hj7H3bOpIgP"
      },
      "source": [
        "Grid search"
      ]
    },
    {
      "cell_type": "code",
      "metadata": {
        "colab": {
          "base_uri": "https://localhost:8080/"
        },
        "id": "z3bn9Euao3eX",
        "outputId": "e7139b7c-d812-4098-efc0-90bb3af175a5"
      },
      "source": [
        "# Max depth of 50 provides a better score, this is much better than the previous score of around 0.2.\n",
        "# To improve score suggest increasing max depth even more\n",
        "grid = {\n",
        "    \"rf__max_depth\": [50, 70, 90, 110],\n",
        "    \"rf__n_estimators\": [1, 10, 100],\n",
        "    \"rf__min_samples_leaf\": [1, 3, 5, 7],\n",
        "    \"rf__criterion\": [\"gini\"],\n",
        "}\n",
        "\n",
        "model = GridSearchCV(pipeline, grid, n_jobs=-1, verbose=True)\n",
        "model.fit(X_train, y_train)\n"
      ],
      "execution_count": 9,
      "outputs": [
        {
          "output_type": "stream",
          "name": "stdout",
          "text": [
            "Fitting 5 folds for each of 48 candidates, totalling 240 fits\n"
          ]
        },
        {
          "output_type": "stream",
          "name": "stderr",
          "text": [
            "[Parallel(n_jobs=-1)]: Using backend LokyBackend with 2 concurrent workers.\n",
            "[Parallel(n_jobs=-1)]: Done  46 tasks      | elapsed:   16.5s\n",
            "[Parallel(n_jobs=-1)]: Done 196 tasks      | elapsed:  1.1min\n",
            "[Parallel(n_jobs=-1)]: Done 240 out of 240 | elapsed:  1.4min finished\n"
          ]
        },
        {
          "output_type": "stream",
          "name": "stdout",
          "text": [
            "[Pipeline] ..... (step 1 of 2) Processing preprocessing, total=   0.0s\n",
            "[Pipeline] ................ (step 2 of 2) Processing rf, total=   1.6s\n"
          ]
        },
        {
          "output_type": "execute_result",
          "data": {
            "text/plain": [
              "GridSearchCV(cv=None, error_score=nan,\n",
              "             estimator=Pipeline(memory=None,\n",
              "                                steps=[('preprocessing',\n",
              "                                        ColumnTransformer(n_jobs=None,\n",
              "                                                          remainder='passthrough',\n",
              "                                                          sparse_threshold=0.3,\n",
              "                                                          transformer_weights=None,\n",
              "                                                          transformers=[('scale',\n",
              "                                                                         StandardScaler(copy=True,\n",
              "                                                                                        with_mean=True,\n",
              "                                                                                        with_std=True),\n",
              "                                                                         ['device_id',\n",
              "                                                                          'event_id'])],\n",
              "                                                          verbose=False)),\n",
              "                                       ('rf',\n",
              "                                        RandomForestClassifier(bootstra...\n",
              "                                                               n_estimators=100,\n",
              "                                                               n_jobs=None,\n",
              "                                                               oob_score=False,\n",
              "                                                               random_state=None,\n",
              "                                                               verbose=0,\n",
              "                                                               warm_start=False))],\n",
              "                                verbose=True),\n",
              "             iid='deprecated', n_jobs=-1,\n",
              "             param_grid={'rf__criterion': ['gini'],\n",
              "                         'rf__max_depth': [50, 70, 90, 110],\n",
              "                         'rf__min_samples_leaf': [1, 3, 5, 7],\n",
              "                         'rf__n_estimators': [1, 10, 100]},\n",
              "             pre_dispatch='2*n_jobs', refit=True, return_train_score=False,\n",
              "             scoring=None, verbose=True)"
            ]
          },
          "metadata": {},
          "execution_count": 9
        }
      ]
    },
    {
      "cell_type": "code",
      "metadata": {
        "colab": {
          "base_uri": "https://localhost:8080/"
        },
        "id": "tkQEYIt-pYkX",
        "outputId": "0d651b7c-802a-4828-dd6e-cf5a087dfa58"
      },
      "source": [
        "model.best_params_\n"
      ],
      "execution_count": 10,
      "outputs": [
        {
          "output_type": "execute_result",
          "data": {
            "text/plain": [
              "{'rf__criterion': 'gini',\n",
              " 'rf__max_depth': 90,\n",
              " 'rf__min_samples_leaf': 1,\n",
              " 'rf__n_estimators': 100}"
            ]
          },
          "metadata": {},
          "execution_count": 10
        }
      ]
    },
    {
      "cell_type": "code",
      "metadata": {
        "colab": {
          "base_uri": "https://localhost:8080/"
        },
        "id": "cb5SPrB4pY2o",
        "outputId": "9e875a48-ee44-495f-c1ca-235b71ac9737"
      },
      "source": [
        "# Model still appears to be extremely overfitting\n",
        "train_score = model.score(X_train, y_train)\n",
        "test_score = model.score(X_test, y_test)\n",
        "\n",
        "print(f\"Train score: {train_score}\")\n",
        "print(f\"Test score: {test_score}\")\n"
      ],
      "execution_count": 11,
      "outputs": [
        {
          "output_type": "stream",
          "name": "stdout",
          "text": [
            "Train score: 1.0\n",
            "Test score: 0.981610134859011\n"
          ]
        }
      ]
    },
    {
      "cell_type": "code",
      "metadata": {
        "colab": {
          "base_uri": "https://localhost:8080/",
          "height": 414
        },
        "id": "mVKdw7tDqbuP",
        "outputId": "984932f4-d952-4988-c5cd-6f1d236ebefa"
      },
      "source": [
        "y_pred = model.predict(X_test)\n",
        "\n",
        "con_mat = pd.DataFrame(\n",
        "    confusion_matrix(y_test, y_pred),\n",
        "    index=[\n",
        "        \"Actual M22-\",\n",
        "        \"Actual M23-26\",\n",
        "        \"Actual M27-28\",\n",
        "        \"Actual M29-31\",\n",
        "        \"Actual M32-38\",\n",
        "        \"Actual M39+\",\n",
        "        \"Actual F23-\",\n",
        "        \"Actual F24-26\",\n",
        "        \"Actual F27-28\",\n",
        "        \"Actual F29-32\",\n",
        "        \"Actual F33-42\",\n",
        "        \"Actual F43+\",\n",
        "    ],\n",
        "    columns=[\n",
        "        \"Predicted M22-\",\n",
        "        \"Predicted M23-26\",\n",
        "        \"Predicted M27-28\",\n",
        "        \"Predicted M29-31\",\n",
        "        \"Predicted M32-38\",\n",
        "        \"Predicted M39+\",\n",
        "        \"Predicted F23-\",\n",
        "        \"Predicted F24-26\",\n",
        "        \"Predicted F27-28\",\n",
        "        \"Predicted F29-32\",\n",
        "        \"Predicted F33-42\",\n",
        "        \"Predicted F43+\",\n",
        "    ],\n",
        ")\n",
        "con_mat.style.background_gradient(axis=None)\n",
        "\n",
        "\n"
      ],
      "execution_count": 12,
      "outputs": [
        {
          "output_type": "execute_result",
          "data": {
            "text/html": [
              "<style  type=\"text/css\" >\n",
              "#T_20df8f26_3856_11ec_baf8_0242ac1c0002row0_col0{\n",
              "            background-color:  #d6d6e9;\n",
              "            color:  #000000;\n",
              "        }#T_20df8f26_3856_11ec_baf8_0242ac1c0002row0_col1,#T_20df8f26_3856_11ec_baf8_0242ac1c0002row0_col2,#T_20df8f26_3856_11ec_baf8_0242ac1c0002row0_col3,#T_20df8f26_3856_11ec_baf8_0242ac1c0002row0_col4,#T_20df8f26_3856_11ec_baf8_0242ac1c0002row0_col5,#T_20df8f26_3856_11ec_baf8_0242ac1c0002row0_col6,#T_20df8f26_3856_11ec_baf8_0242ac1c0002row0_col7,#T_20df8f26_3856_11ec_baf8_0242ac1c0002row0_col8,#T_20df8f26_3856_11ec_baf8_0242ac1c0002row0_col9,#T_20df8f26_3856_11ec_baf8_0242ac1c0002row0_col10,#T_20df8f26_3856_11ec_baf8_0242ac1c0002row0_col11,#T_20df8f26_3856_11ec_baf8_0242ac1c0002row1_col0,#T_20df8f26_3856_11ec_baf8_0242ac1c0002row1_col2,#T_20df8f26_3856_11ec_baf8_0242ac1c0002row1_col3,#T_20df8f26_3856_11ec_baf8_0242ac1c0002row1_col4,#T_20df8f26_3856_11ec_baf8_0242ac1c0002row1_col5,#T_20df8f26_3856_11ec_baf8_0242ac1c0002row1_col6,#T_20df8f26_3856_11ec_baf8_0242ac1c0002row1_col7,#T_20df8f26_3856_11ec_baf8_0242ac1c0002row1_col8,#T_20df8f26_3856_11ec_baf8_0242ac1c0002row1_col9,#T_20df8f26_3856_11ec_baf8_0242ac1c0002row1_col10,#T_20df8f26_3856_11ec_baf8_0242ac1c0002row1_col11,#T_20df8f26_3856_11ec_baf8_0242ac1c0002row2_col0,#T_20df8f26_3856_11ec_baf8_0242ac1c0002row2_col1,#T_20df8f26_3856_11ec_baf8_0242ac1c0002row2_col3,#T_20df8f26_3856_11ec_baf8_0242ac1c0002row2_col4,#T_20df8f26_3856_11ec_baf8_0242ac1c0002row2_col5,#T_20df8f26_3856_11ec_baf8_0242ac1c0002row2_col6,#T_20df8f26_3856_11ec_baf8_0242ac1c0002row2_col7,#T_20df8f26_3856_11ec_baf8_0242ac1c0002row2_col8,#T_20df8f26_3856_11ec_baf8_0242ac1c0002row2_col9,#T_20df8f26_3856_11ec_baf8_0242ac1c0002row2_col10,#T_20df8f26_3856_11ec_baf8_0242ac1c0002row2_col11,#T_20df8f26_3856_11ec_baf8_0242ac1c0002row3_col0,#T_20df8f26_3856_11ec_baf8_0242ac1c0002row3_col1,#T_20df8f26_3856_11ec_baf8_0242ac1c0002row3_col2,#T_20df8f26_3856_11ec_baf8_0242ac1c0002row3_col6,#T_20df8f26_3856_11ec_baf8_0242ac1c0002row3_col7,#T_20df8f26_3856_11ec_baf8_0242ac1c0002row3_col8,#T_20df8f26_3856_11ec_baf8_0242ac1c0002row3_col9,#T_20df8f26_3856_11ec_baf8_0242ac1c0002row3_col10,#T_20df8f26_3856_11ec_baf8_0242ac1c0002row4_col0,#T_20df8f26_3856_11ec_baf8_0242ac1c0002row4_col1,#T_20df8f26_3856_11ec_baf8_0242ac1c0002row4_col2,#T_20df8f26_3856_11ec_baf8_0242ac1c0002row4_col3,#T_20df8f26_3856_11ec_baf8_0242ac1c0002row4_col6,#T_20df8f26_3856_11ec_baf8_0242ac1c0002row4_col7,#T_20df8f26_3856_11ec_baf8_0242ac1c0002row4_col8,#T_20df8f26_3856_11ec_baf8_0242ac1c0002row4_col9,#T_20df8f26_3856_11ec_baf8_0242ac1c0002row4_col10,#T_20df8f26_3856_11ec_baf8_0242ac1c0002row4_col11,#T_20df8f26_3856_11ec_baf8_0242ac1c0002row5_col0,#T_20df8f26_3856_11ec_baf8_0242ac1c0002row5_col1,#T_20df8f26_3856_11ec_baf8_0242ac1c0002row5_col2,#T_20df8f26_3856_11ec_baf8_0242ac1c0002row5_col3,#T_20df8f26_3856_11ec_baf8_0242ac1c0002row5_col4,#T_20df8f26_3856_11ec_baf8_0242ac1c0002row5_col6,#T_20df8f26_3856_11ec_baf8_0242ac1c0002row5_col7,#T_20df8f26_3856_11ec_baf8_0242ac1c0002row5_col8,#T_20df8f26_3856_11ec_baf8_0242ac1c0002row5_col9,#T_20df8f26_3856_11ec_baf8_0242ac1c0002row5_col10,#T_20df8f26_3856_11ec_baf8_0242ac1c0002row5_col11,#T_20df8f26_3856_11ec_baf8_0242ac1c0002row6_col0,#T_20df8f26_3856_11ec_baf8_0242ac1c0002row6_col1,#T_20df8f26_3856_11ec_baf8_0242ac1c0002row6_col2,#T_20df8f26_3856_11ec_baf8_0242ac1c0002row6_col3,#T_20df8f26_3856_11ec_baf8_0242ac1c0002row6_col4,#T_20df8f26_3856_11ec_baf8_0242ac1c0002row6_col5,#T_20df8f26_3856_11ec_baf8_0242ac1c0002row6_col7,#T_20df8f26_3856_11ec_baf8_0242ac1c0002row6_col8,#T_20df8f26_3856_11ec_baf8_0242ac1c0002row6_col9,#T_20df8f26_3856_11ec_baf8_0242ac1c0002row6_col10,#T_20df8f26_3856_11ec_baf8_0242ac1c0002row6_col11,#T_20df8f26_3856_11ec_baf8_0242ac1c0002row7_col0,#T_20df8f26_3856_11ec_baf8_0242ac1c0002row7_col1,#T_20df8f26_3856_11ec_baf8_0242ac1c0002row7_col2,#T_20df8f26_3856_11ec_baf8_0242ac1c0002row7_col3,#T_20df8f26_3856_11ec_baf8_0242ac1c0002row7_col4,#T_20df8f26_3856_11ec_baf8_0242ac1c0002row7_col5,#T_20df8f26_3856_11ec_baf8_0242ac1c0002row7_col6,#T_20df8f26_3856_11ec_baf8_0242ac1c0002row7_col8,#T_20df8f26_3856_11ec_baf8_0242ac1c0002row7_col9,#T_20df8f26_3856_11ec_baf8_0242ac1c0002row7_col10,#T_20df8f26_3856_11ec_baf8_0242ac1c0002row7_col11,#T_20df8f26_3856_11ec_baf8_0242ac1c0002row8_col0,#T_20df8f26_3856_11ec_baf8_0242ac1c0002row8_col1,#T_20df8f26_3856_11ec_baf8_0242ac1c0002row8_col2,#T_20df8f26_3856_11ec_baf8_0242ac1c0002row8_col3,#T_20df8f26_3856_11ec_baf8_0242ac1c0002row8_col4,#T_20df8f26_3856_11ec_baf8_0242ac1c0002row8_col5,#T_20df8f26_3856_11ec_baf8_0242ac1c0002row8_col6,#T_20df8f26_3856_11ec_baf8_0242ac1c0002row8_col7,#T_20df8f26_3856_11ec_baf8_0242ac1c0002row8_col9,#T_20df8f26_3856_11ec_baf8_0242ac1c0002row8_col10,#T_20df8f26_3856_11ec_baf8_0242ac1c0002row8_col11,#T_20df8f26_3856_11ec_baf8_0242ac1c0002row9_col0,#T_20df8f26_3856_11ec_baf8_0242ac1c0002row9_col1,#T_20df8f26_3856_11ec_baf8_0242ac1c0002row9_col2,#T_20df8f26_3856_11ec_baf8_0242ac1c0002row9_col3,#T_20df8f26_3856_11ec_baf8_0242ac1c0002row9_col4,#T_20df8f26_3856_11ec_baf8_0242ac1c0002row9_col5,#T_20df8f26_3856_11ec_baf8_0242ac1c0002row9_col6,#T_20df8f26_3856_11ec_baf8_0242ac1c0002row9_col7,#T_20df8f26_3856_11ec_baf8_0242ac1c0002row9_col8,#T_20df8f26_3856_11ec_baf8_0242ac1c0002row9_col10,#T_20df8f26_3856_11ec_baf8_0242ac1c0002row9_col11,#T_20df8f26_3856_11ec_baf8_0242ac1c0002row10_col0,#T_20df8f26_3856_11ec_baf8_0242ac1c0002row10_col1,#T_20df8f26_3856_11ec_baf8_0242ac1c0002row10_col2,#T_20df8f26_3856_11ec_baf8_0242ac1c0002row10_col3,#T_20df8f26_3856_11ec_baf8_0242ac1c0002row10_col4,#T_20df8f26_3856_11ec_baf8_0242ac1c0002row10_col5,#T_20df8f26_3856_11ec_baf8_0242ac1c0002row10_col6,#T_20df8f26_3856_11ec_baf8_0242ac1c0002row10_col7,#T_20df8f26_3856_11ec_baf8_0242ac1c0002row10_col8,#T_20df8f26_3856_11ec_baf8_0242ac1c0002row10_col9,#T_20df8f26_3856_11ec_baf8_0242ac1c0002row10_col11,#T_20df8f26_3856_11ec_baf8_0242ac1c0002row11_col0,#T_20df8f26_3856_11ec_baf8_0242ac1c0002row11_col1,#T_20df8f26_3856_11ec_baf8_0242ac1c0002row11_col2,#T_20df8f26_3856_11ec_baf8_0242ac1c0002row11_col3,#T_20df8f26_3856_11ec_baf8_0242ac1c0002row11_col5,#T_20df8f26_3856_11ec_baf8_0242ac1c0002row11_col6,#T_20df8f26_3856_11ec_baf8_0242ac1c0002row11_col7,#T_20df8f26_3856_11ec_baf8_0242ac1c0002row11_col8,#T_20df8f26_3856_11ec_baf8_0242ac1c0002row11_col9,#T_20df8f26_3856_11ec_baf8_0242ac1c0002row11_col10{\n",
              "            background-color:  #fff7fb;\n",
              "            color:  #000000;\n",
              "        }#T_20df8f26_3856_11ec_baf8_0242ac1c0002row1_col1{\n",
              "            background-color:  #8eb3d5;\n",
              "            color:  #000000;\n",
              "        }#T_20df8f26_3856_11ec_baf8_0242ac1c0002row2_col2{\n",
              "            background-color:  #bcc7e1;\n",
              "            color:  #000000;\n",
              "        }#T_20df8f26_3856_11ec_baf8_0242ac1c0002row3_col3{\n",
              "            background-color:  #84b0d3;\n",
              "            color:  #000000;\n",
              "        }#T_20df8f26_3856_11ec_baf8_0242ac1c0002row3_col4,#T_20df8f26_3856_11ec_baf8_0242ac1c0002row3_col5,#T_20df8f26_3856_11ec_baf8_0242ac1c0002row3_col11,#T_20df8f26_3856_11ec_baf8_0242ac1c0002row4_col5,#T_20df8f26_3856_11ec_baf8_0242ac1c0002row11_col4{\n",
              "            background-color:  #fef6fb;\n",
              "            color:  #000000;\n",
              "        }#T_20df8f26_3856_11ec_baf8_0242ac1c0002row4_col4{\n",
              "            background-color:  #03476f;\n",
              "            color:  #f1f1f1;\n",
              "        }#T_20df8f26_3856_11ec_baf8_0242ac1c0002row5_col5{\n",
              "            background-color:  #023858;\n",
              "            color:  #f1f1f1;\n",
              "        }#T_20df8f26_3856_11ec_baf8_0242ac1c0002row6_col6{\n",
              "            background-color:  #f5eff6;\n",
              "            color:  #000000;\n",
              "        }#T_20df8f26_3856_11ec_baf8_0242ac1c0002row7_col7{\n",
              "            background-color:  #f8f1f8;\n",
              "            color:  #000000;\n",
              "        }#T_20df8f26_3856_11ec_baf8_0242ac1c0002row8_col8{\n",
              "            background-color:  #f1ebf5;\n",
              "            color:  #000000;\n",
              "        }#T_20df8f26_3856_11ec_baf8_0242ac1c0002row9_col9{\n",
              "            background-color:  #e8e4f0;\n",
              "            color:  #000000;\n",
              "        }#T_20df8f26_3856_11ec_baf8_0242ac1c0002row10_col10{\n",
              "            background-color:  #d2d3e7;\n",
              "            color:  #000000;\n",
              "        }#T_20df8f26_3856_11ec_baf8_0242ac1c0002row11_col11{\n",
              "            background-color:  #c1cae2;\n",
              "            color:  #000000;\n",
              "        }</style><table id=\"T_20df8f26_3856_11ec_baf8_0242ac1c0002\" class=\"dataframe\"><thead>    <tr>        <th class=\"blank level0\" ></th>        <th class=\"col_heading level0 col0\" >Predicted M22-</th>        <th class=\"col_heading level0 col1\" >Predicted M23-26</th>        <th class=\"col_heading level0 col2\" >Predicted M27-28</th>        <th class=\"col_heading level0 col3\" >Predicted M29-31</th>        <th class=\"col_heading level0 col4\" >Predicted M32-38</th>        <th class=\"col_heading level0 col5\" >Predicted M39+</th>        <th class=\"col_heading level0 col6\" >Predicted F23-</th>        <th class=\"col_heading level0 col7\" >Predicted F24-26</th>        <th class=\"col_heading level0 col8\" >Predicted F27-28</th>        <th class=\"col_heading level0 col9\" >Predicted F29-32</th>        <th class=\"col_heading level0 col10\" >Predicted F33-42</th>        <th class=\"col_heading level0 col11\" >Predicted F43+</th>    </tr></thead><tbody>\n",
              "                <tr>\n",
              "                        <th id=\"T_20df8f26_3856_11ec_baf8_0242ac1c0002level0_row0\" class=\"row_heading level0 row0\" >Actual M22-</th>\n",
              "                        <td id=\"T_20df8f26_3856_11ec_baf8_0242ac1c0002row0_col0\" class=\"data row0 col0\" >127</td>\n",
              "                        <td id=\"T_20df8f26_3856_11ec_baf8_0242ac1c0002row0_col1\" class=\"data row0 col1\" >0</td>\n",
              "                        <td id=\"T_20df8f26_3856_11ec_baf8_0242ac1c0002row0_col2\" class=\"data row0 col2\" >0</td>\n",
              "                        <td id=\"T_20df8f26_3856_11ec_baf8_0242ac1c0002row0_col3\" class=\"data row0 col3\" >0</td>\n",
              "                        <td id=\"T_20df8f26_3856_11ec_baf8_0242ac1c0002row0_col4\" class=\"data row0 col4\" >0</td>\n",
              "                        <td id=\"T_20df8f26_3856_11ec_baf8_0242ac1c0002row0_col5\" class=\"data row0 col5\" >0</td>\n",
              "                        <td id=\"T_20df8f26_3856_11ec_baf8_0242ac1c0002row0_col6\" class=\"data row0 col6\" >0</td>\n",
              "                        <td id=\"T_20df8f26_3856_11ec_baf8_0242ac1c0002row0_col7\" class=\"data row0 col7\" >0</td>\n",
              "                        <td id=\"T_20df8f26_3856_11ec_baf8_0242ac1c0002row0_col8\" class=\"data row0 col8\" >0</td>\n",
              "                        <td id=\"T_20df8f26_3856_11ec_baf8_0242ac1c0002row0_col9\" class=\"data row0 col9\" >0</td>\n",
              "                        <td id=\"T_20df8f26_3856_11ec_baf8_0242ac1c0002row0_col10\" class=\"data row0 col10\" >0</td>\n",
              "                        <td id=\"T_20df8f26_3856_11ec_baf8_0242ac1c0002row0_col11\" class=\"data row0 col11\" >0</td>\n",
              "            </tr>\n",
              "            <tr>\n",
              "                        <th id=\"T_20df8f26_3856_11ec_baf8_0242ac1c0002level0_row1\" class=\"row_heading level0 row1\" >Actual M23-26</th>\n",
              "                        <td id=\"T_20df8f26_3856_11ec_baf8_0242ac1c0002row1_col0\" class=\"data row1 col0\" >1</td>\n",
              "                        <td id=\"T_20df8f26_3856_11ec_baf8_0242ac1c0002row1_col1\" class=\"data row1 col1\" >246</td>\n",
              "                        <td id=\"T_20df8f26_3856_11ec_baf8_0242ac1c0002row1_col2\" class=\"data row1 col2\" >0</td>\n",
              "                        <td id=\"T_20df8f26_3856_11ec_baf8_0242ac1c0002row1_col3\" class=\"data row1 col3\" >1</td>\n",
              "                        <td id=\"T_20df8f26_3856_11ec_baf8_0242ac1c0002row1_col4\" class=\"data row1 col4\" >1</td>\n",
              "                        <td id=\"T_20df8f26_3856_11ec_baf8_0242ac1c0002row1_col5\" class=\"data row1 col5\" >0</td>\n",
              "                        <td id=\"T_20df8f26_3856_11ec_baf8_0242ac1c0002row1_col6\" class=\"data row1 col6\" >0</td>\n",
              "                        <td id=\"T_20df8f26_3856_11ec_baf8_0242ac1c0002row1_col7\" class=\"data row1 col7\" >0</td>\n",
              "                        <td id=\"T_20df8f26_3856_11ec_baf8_0242ac1c0002row1_col8\" class=\"data row1 col8\" >0</td>\n",
              "                        <td id=\"T_20df8f26_3856_11ec_baf8_0242ac1c0002row1_col9\" class=\"data row1 col9\" >1</td>\n",
              "                        <td id=\"T_20df8f26_3856_11ec_baf8_0242ac1c0002row1_col10\" class=\"data row1 col10\" >0</td>\n",
              "                        <td id=\"T_20df8f26_3856_11ec_baf8_0242ac1c0002row1_col11\" class=\"data row1 col11\" >0</td>\n",
              "            </tr>\n",
              "            <tr>\n",
              "                        <th id=\"T_20df8f26_3856_11ec_baf8_0242ac1c0002level0_row2\" class=\"row_heading level0 row2\" >Actual M27-28</th>\n",
              "                        <td id=\"T_20df8f26_3856_11ec_baf8_0242ac1c0002row2_col0\" class=\"data row2 col0\" >0</td>\n",
              "                        <td id=\"T_20df8f26_3856_11ec_baf8_0242ac1c0002row2_col1\" class=\"data row2 col1\" >0</td>\n",
              "                        <td id=\"T_20df8f26_3856_11ec_baf8_0242ac1c0002row2_col2\" class=\"data row2 col2\" >175</td>\n",
              "                        <td id=\"T_20df8f26_3856_11ec_baf8_0242ac1c0002row2_col3\" class=\"data row2 col3\" >0</td>\n",
              "                        <td id=\"T_20df8f26_3856_11ec_baf8_0242ac1c0002row2_col4\" class=\"data row2 col4\" >2</td>\n",
              "                        <td id=\"T_20df8f26_3856_11ec_baf8_0242ac1c0002row2_col5\" class=\"data row2 col5\" >0</td>\n",
              "                        <td id=\"T_20df8f26_3856_11ec_baf8_0242ac1c0002row2_col6\" class=\"data row2 col6\" >0</td>\n",
              "                        <td id=\"T_20df8f26_3856_11ec_baf8_0242ac1c0002row2_col7\" class=\"data row2 col7\" >0</td>\n",
              "                        <td id=\"T_20df8f26_3856_11ec_baf8_0242ac1c0002row2_col8\" class=\"data row2 col8\" >0</td>\n",
              "                        <td id=\"T_20df8f26_3856_11ec_baf8_0242ac1c0002row2_col9\" class=\"data row2 col9\" >0</td>\n",
              "                        <td id=\"T_20df8f26_3856_11ec_baf8_0242ac1c0002row2_col10\" class=\"data row2 col10\" >0</td>\n",
              "                        <td id=\"T_20df8f26_3856_11ec_baf8_0242ac1c0002row2_col11\" class=\"data row2 col11\" >0</td>\n",
              "            </tr>\n",
              "            <tr>\n",
              "                        <th id=\"T_20df8f26_3856_11ec_baf8_0242ac1c0002level0_row3\" class=\"row_heading level0 row3\" >Actual M29-31</th>\n",
              "                        <td id=\"T_20df8f26_3856_11ec_baf8_0242ac1c0002row3_col0\" class=\"data row3 col0\" >0</td>\n",
              "                        <td id=\"T_20df8f26_3856_11ec_baf8_0242ac1c0002row3_col1\" class=\"data row3 col1\" >2</td>\n",
              "                        <td id=\"T_20df8f26_3856_11ec_baf8_0242ac1c0002row3_col2\" class=\"data row3 col2\" >0</td>\n",
              "                        <td id=\"T_20df8f26_3856_11ec_baf8_0242ac1c0002row3_col3\" class=\"data row3 col3\" >259</td>\n",
              "                        <td id=\"T_20df8f26_3856_11ec_baf8_0242ac1c0002row3_col4\" class=\"data row3 col4\" >4</td>\n",
              "                        <td id=\"T_20df8f26_3856_11ec_baf8_0242ac1c0002row3_col5\" class=\"data row3 col5\" >3</td>\n",
              "                        <td id=\"T_20df8f26_3856_11ec_baf8_0242ac1c0002row3_col6\" class=\"data row3 col6\" >0</td>\n",
              "                        <td id=\"T_20df8f26_3856_11ec_baf8_0242ac1c0002row3_col7\" class=\"data row3 col7\" >0</td>\n",
              "                        <td id=\"T_20df8f26_3856_11ec_baf8_0242ac1c0002row3_col8\" class=\"data row3 col8\" >0</td>\n",
              "                        <td id=\"T_20df8f26_3856_11ec_baf8_0242ac1c0002row3_col9\" class=\"data row3 col9\" >0</td>\n",
              "                        <td id=\"T_20df8f26_3856_11ec_baf8_0242ac1c0002row3_col10\" class=\"data row3 col10\" >2</td>\n",
              "                        <td id=\"T_20df8f26_3856_11ec_baf8_0242ac1c0002row3_col11\" class=\"data row3 col11\" >3</td>\n",
              "            </tr>\n",
              "            <tr>\n",
              "                        <th id=\"T_20df8f26_3856_11ec_baf8_0242ac1c0002level0_row4\" class=\"row_heading level0 row4\" >Actual M32-38</th>\n",
              "                        <td id=\"T_20df8f26_3856_11ec_baf8_0242ac1c0002row4_col0\" class=\"data row4 col0\" >0</td>\n",
              "                        <td id=\"T_20df8f26_3856_11ec_baf8_0242ac1c0002row4_col1\" class=\"data row4 col1\" >0</td>\n",
              "                        <td id=\"T_20df8f26_3856_11ec_baf8_0242ac1c0002row4_col2\" class=\"data row4 col2\" >0</td>\n",
              "                        <td id=\"T_20df8f26_3856_11ec_baf8_0242ac1c0002row4_col3\" class=\"data row4 col3\" >0</td>\n",
              "                        <td id=\"T_20df8f26_3856_11ec_baf8_0242ac1c0002row4_col4\" class=\"data row4 col4\" >533</td>\n",
              "                        <td id=\"T_20df8f26_3856_11ec_baf8_0242ac1c0002row4_col5\" class=\"data row4 col5\" >4</td>\n",
              "                        <td id=\"T_20df8f26_3856_11ec_baf8_0242ac1c0002row4_col6\" class=\"data row4 col6\" >0</td>\n",
              "                        <td id=\"T_20df8f26_3856_11ec_baf8_0242ac1c0002row4_col7\" class=\"data row4 col7\" >1</td>\n",
              "                        <td id=\"T_20df8f26_3856_11ec_baf8_0242ac1c0002row4_col8\" class=\"data row4 col8\" >0</td>\n",
              "                        <td id=\"T_20df8f26_3856_11ec_baf8_0242ac1c0002row4_col9\" class=\"data row4 col9\" >0</td>\n",
              "                        <td id=\"T_20df8f26_3856_11ec_baf8_0242ac1c0002row4_col10\" class=\"data row4 col10\" >0</td>\n",
              "                        <td id=\"T_20df8f26_3856_11ec_baf8_0242ac1c0002row4_col11\" class=\"data row4 col11\" >0</td>\n",
              "            </tr>\n",
              "            <tr>\n",
              "                        <th id=\"T_20df8f26_3856_11ec_baf8_0242ac1c0002level0_row5\" class=\"row_heading level0 row5\" >Actual M39+</th>\n",
              "                        <td id=\"T_20df8f26_3856_11ec_baf8_0242ac1c0002row5_col0\" class=\"data row5 col0\" >0</td>\n",
              "                        <td id=\"T_20df8f26_3856_11ec_baf8_0242ac1c0002row5_col1\" class=\"data row5 col1\" >0</td>\n",
              "                        <td id=\"T_20df8f26_3856_11ec_baf8_0242ac1c0002row5_col2\" class=\"data row5 col2\" >1</td>\n",
              "                        <td id=\"T_20df8f26_3856_11ec_baf8_0242ac1c0002row5_col3\" class=\"data row5 col3\" >1</td>\n",
              "                        <td id=\"T_20df8f26_3856_11ec_baf8_0242ac1c0002row5_col4\" class=\"data row5 col4\" >1</td>\n",
              "                        <td id=\"T_20df8f26_3856_11ec_baf8_0242ac1c0002row5_col5\" class=\"data row5 col5\" >565</td>\n",
              "                        <td id=\"T_20df8f26_3856_11ec_baf8_0242ac1c0002row5_col6\" class=\"data row5 col6\" >0</td>\n",
              "                        <td id=\"T_20df8f26_3856_11ec_baf8_0242ac1c0002row5_col7\" class=\"data row5 col7\" >0</td>\n",
              "                        <td id=\"T_20df8f26_3856_11ec_baf8_0242ac1c0002row5_col8\" class=\"data row5 col8\" >0</td>\n",
              "                        <td id=\"T_20df8f26_3856_11ec_baf8_0242ac1c0002row5_col9\" class=\"data row5 col9\" >1</td>\n",
              "                        <td id=\"T_20df8f26_3856_11ec_baf8_0242ac1c0002row5_col10\" class=\"data row5 col10\" >0</td>\n",
              "                        <td id=\"T_20df8f26_3856_11ec_baf8_0242ac1c0002row5_col11\" class=\"data row5 col11\" >0</td>\n",
              "            </tr>\n",
              "            <tr>\n",
              "                        <th id=\"T_20df8f26_3856_11ec_baf8_0242ac1c0002level0_row6\" class=\"row_heading level0 row6\" >Actual F23-</th>\n",
              "                        <td id=\"T_20df8f26_3856_11ec_baf8_0242ac1c0002row6_col0\" class=\"data row6 col0\" >0</td>\n",
              "                        <td id=\"T_20df8f26_3856_11ec_baf8_0242ac1c0002row6_col1\" class=\"data row6 col1\" >0</td>\n",
              "                        <td id=\"T_20df8f26_3856_11ec_baf8_0242ac1c0002row6_col2\" class=\"data row6 col2\" >0</td>\n",
              "                        <td id=\"T_20df8f26_3856_11ec_baf8_0242ac1c0002row6_col3\" class=\"data row6 col3\" >2</td>\n",
              "                        <td id=\"T_20df8f26_3856_11ec_baf8_0242ac1c0002row6_col4\" class=\"data row6 col4\" >0</td>\n",
              "                        <td id=\"T_20df8f26_3856_11ec_baf8_0242ac1c0002row6_col5\" class=\"data row6 col5\" >0</td>\n",
              "                        <td id=\"T_20df8f26_3856_11ec_baf8_0242ac1c0002row6_col6\" class=\"data row6 col6\" >37</td>\n",
              "                        <td id=\"T_20df8f26_3856_11ec_baf8_0242ac1c0002row6_col7\" class=\"data row6 col7\" >0</td>\n",
              "                        <td id=\"T_20df8f26_3856_11ec_baf8_0242ac1c0002row6_col8\" class=\"data row6 col8\" >0</td>\n",
              "                        <td id=\"T_20df8f26_3856_11ec_baf8_0242ac1c0002row6_col9\" class=\"data row6 col9\" >0</td>\n",
              "                        <td id=\"T_20df8f26_3856_11ec_baf8_0242ac1c0002row6_col10\" class=\"data row6 col10\" >0</td>\n",
              "                        <td id=\"T_20df8f26_3856_11ec_baf8_0242ac1c0002row6_col11\" class=\"data row6 col11\" >0</td>\n",
              "            </tr>\n",
              "            <tr>\n",
              "                        <th id=\"T_20df8f26_3856_11ec_baf8_0242ac1c0002level0_row7\" class=\"row_heading level0 row7\" >Actual F24-26</th>\n",
              "                        <td id=\"T_20df8f26_3856_11ec_baf8_0242ac1c0002row7_col0\" class=\"data row7 col0\" >0</td>\n",
              "                        <td id=\"T_20df8f26_3856_11ec_baf8_0242ac1c0002row7_col1\" class=\"data row7 col1\" >0</td>\n",
              "                        <td id=\"T_20df8f26_3856_11ec_baf8_0242ac1c0002row7_col2\" class=\"data row7 col2\" >0</td>\n",
              "                        <td id=\"T_20df8f26_3856_11ec_baf8_0242ac1c0002row7_col3\" class=\"data row7 col3\" >0</td>\n",
              "                        <td id=\"T_20df8f26_3856_11ec_baf8_0242ac1c0002row7_col4\" class=\"data row7 col4\" >1</td>\n",
              "                        <td id=\"T_20df8f26_3856_11ec_baf8_0242ac1c0002row7_col5\" class=\"data row7 col5\" >0</td>\n",
              "                        <td id=\"T_20df8f26_3856_11ec_baf8_0242ac1c0002row7_col6\" class=\"data row7 col6\" >0</td>\n",
              "                        <td id=\"T_20df8f26_3856_11ec_baf8_0242ac1c0002row7_col7\" class=\"data row7 col7\" >27</td>\n",
              "                        <td id=\"T_20df8f26_3856_11ec_baf8_0242ac1c0002row7_col8\" class=\"data row7 col8\" >0</td>\n",
              "                        <td id=\"T_20df8f26_3856_11ec_baf8_0242ac1c0002row7_col9\" class=\"data row7 col9\" >0</td>\n",
              "                        <td id=\"T_20df8f26_3856_11ec_baf8_0242ac1c0002row7_col10\" class=\"data row7 col10\" >0</td>\n",
              "                        <td id=\"T_20df8f26_3856_11ec_baf8_0242ac1c0002row7_col11\" class=\"data row7 col11\" >0</td>\n",
              "            </tr>\n",
              "            <tr>\n",
              "                        <th id=\"T_20df8f26_3856_11ec_baf8_0242ac1c0002level0_row8\" class=\"row_heading level0 row8\" >Actual F27-28</th>\n",
              "                        <td id=\"T_20df8f26_3856_11ec_baf8_0242ac1c0002row8_col0\" class=\"data row8 col0\" >0</td>\n",
              "                        <td id=\"T_20df8f26_3856_11ec_baf8_0242ac1c0002row8_col1\" class=\"data row8 col1\" >1</td>\n",
              "                        <td id=\"T_20df8f26_3856_11ec_baf8_0242ac1c0002row8_col2\" class=\"data row8 col2\" >0</td>\n",
              "                        <td id=\"T_20df8f26_3856_11ec_baf8_0242ac1c0002row8_col3\" class=\"data row8 col3\" >2</td>\n",
              "                        <td id=\"T_20df8f26_3856_11ec_baf8_0242ac1c0002row8_col4\" class=\"data row8 col4\" >0</td>\n",
              "                        <td id=\"T_20df8f26_3856_11ec_baf8_0242ac1c0002row8_col5\" class=\"data row8 col5\" >2</td>\n",
              "                        <td id=\"T_20df8f26_3856_11ec_baf8_0242ac1c0002row8_col6\" class=\"data row8 col6\" >0</td>\n",
              "                        <td id=\"T_20df8f26_3856_11ec_baf8_0242ac1c0002row8_col7\" class=\"data row8 col7\" >0</td>\n",
              "                        <td id=\"T_20df8f26_3856_11ec_baf8_0242ac1c0002row8_col8\" class=\"data row8 col8\" >51</td>\n",
              "                        <td id=\"T_20df8f26_3856_11ec_baf8_0242ac1c0002row8_col9\" class=\"data row8 col9\" >0</td>\n",
              "                        <td id=\"T_20df8f26_3856_11ec_baf8_0242ac1c0002row8_col10\" class=\"data row8 col10\" >0</td>\n",
              "                        <td id=\"T_20df8f26_3856_11ec_baf8_0242ac1c0002row8_col11\" class=\"data row8 col11\" >0</td>\n",
              "            </tr>\n",
              "            <tr>\n",
              "                        <th id=\"T_20df8f26_3856_11ec_baf8_0242ac1c0002level0_row9\" class=\"row_heading level0 row9\" >Actual F29-32</th>\n",
              "                        <td id=\"T_20df8f26_3856_11ec_baf8_0242ac1c0002row9_col0\" class=\"data row9 col0\" >0</td>\n",
              "                        <td id=\"T_20df8f26_3856_11ec_baf8_0242ac1c0002row9_col1\" class=\"data row9 col1\" >0</td>\n",
              "                        <td id=\"T_20df8f26_3856_11ec_baf8_0242ac1c0002row9_col2\" class=\"data row9 col2\" >0</td>\n",
              "                        <td id=\"T_20df8f26_3856_11ec_baf8_0242ac1c0002row9_col3\" class=\"data row9 col3\" >0</td>\n",
              "                        <td id=\"T_20df8f26_3856_11ec_baf8_0242ac1c0002row9_col4\" class=\"data row9 col4\" >0</td>\n",
              "                        <td id=\"T_20df8f26_3856_11ec_baf8_0242ac1c0002row9_col5\" class=\"data row9 col5\" >0</td>\n",
              "                        <td id=\"T_20df8f26_3856_11ec_baf8_0242ac1c0002row9_col6\" class=\"data row9 col6\" >0</td>\n",
              "                        <td id=\"T_20df8f26_3856_11ec_baf8_0242ac1c0002row9_col7\" class=\"data row9 col7\" >0</td>\n",
              "                        <td id=\"T_20df8f26_3856_11ec_baf8_0242ac1c0002row9_col8\" class=\"data row9 col8\" >0</td>\n",
              "                        <td id=\"T_20df8f26_3856_11ec_baf8_0242ac1c0002row9_col9\" class=\"data row9 col9\" >81</td>\n",
              "                        <td id=\"T_20df8f26_3856_11ec_baf8_0242ac1c0002row9_col10\" class=\"data row9 col10\" >0</td>\n",
              "                        <td id=\"T_20df8f26_3856_11ec_baf8_0242ac1c0002row9_col11\" class=\"data row9 col11\" >0</td>\n",
              "            </tr>\n",
              "            <tr>\n",
              "                        <th id=\"T_20df8f26_3856_11ec_baf8_0242ac1c0002level0_row10\" class=\"row_heading level0 row10\" >Actual F33-42</th>\n",
              "                        <td id=\"T_20df8f26_3856_11ec_baf8_0242ac1c0002row10_col0\" class=\"data row10 col0\" >0</td>\n",
              "                        <td id=\"T_20df8f26_3856_11ec_baf8_0242ac1c0002row10_col1\" class=\"data row10 col1\" >0</td>\n",
              "                        <td id=\"T_20df8f26_3856_11ec_baf8_0242ac1c0002row10_col2\" class=\"data row10 col2\" >0</td>\n",
              "                        <td id=\"T_20df8f26_3856_11ec_baf8_0242ac1c0002row10_col3\" class=\"data row10 col3\" >0</td>\n",
              "                        <td id=\"T_20df8f26_3856_11ec_baf8_0242ac1c0002row10_col4\" class=\"data row10 col4\" >0</td>\n",
              "                        <td id=\"T_20df8f26_3856_11ec_baf8_0242ac1c0002row10_col5\" class=\"data row10 col5\" >1</td>\n",
              "                        <td id=\"T_20df8f26_3856_11ec_baf8_0242ac1c0002row10_col6\" class=\"data row10 col6\" >0</td>\n",
              "                        <td id=\"T_20df8f26_3856_11ec_baf8_0242ac1c0002row10_col7\" class=\"data row10 col7\" >1</td>\n",
              "                        <td id=\"T_20df8f26_3856_11ec_baf8_0242ac1c0002row10_col8\" class=\"data row10 col8\" >0</td>\n",
              "                        <td id=\"T_20df8f26_3856_11ec_baf8_0242ac1c0002row10_col9\" class=\"data row10 col9\" >0</td>\n",
              "                        <td id=\"T_20df8f26_3856_11ec_baf8_0242ac1c0002row10_col10\" class=\"data row10 col10\" >135</td>\n",
              "                        <td id=\"T_20df8f26_3856_11ec_baf8_0242ac1c0002row10_col11\" class=\"data row10 col11\" >0</td>\n",
              "            </tr>\n",
              "            <tr>\n",
              "                        <th id=\"T_20df8f26_3856_11ec_baf8_0242ac1c0002level0_row11\" class=\"row_heading level0 row11\" >Actual F43+</th>\n",
              "                        <td id=\"T_20df8f26_3856_11ec_baf8_0242ac1c0002row11_col0\" class=\"data row11 col0\" >0</td>\n",
              "                        <td id=\"T_20df8f26_3856_11ec_baf8_0242ac1c0002row11_col1\" class=\"data row11 col1\" >0</td>\n",
              "                        <td id=\"T_20df8f26_3856_11ec_baf8_0242ac1c0002row11_col2\" class=\"data row11 col2\" >0</td>\n",
              "                        <td id=\"T_20df8f26_3856_11ec_baf8_0242ac1c0002row11_col3\" class=\"data row11 col3\" >2</td>\n",
              "                        <td id=\"T_20df8f26_3856_11ec_baf8_0242ac1c0002row11_col4\" class=\"data row11 col4\" >4</td>\n",
              "                        <td id=\"T_20df8f26_3856_11ec_baf8_0242ac1c0002row11_col5\" class=\"data row11 col5\" >0</td>\n",
              "                        <td id=\"T_20df8f26_3856_11ec_baf8_0242ac1c0002row11_col6\" class=\"data row11 col6\" >0</td>\n",
              "                        <td id=\"T_20df8f26_3856_11ec_baf8_0242ac1c0002row11_col7\" class=\"data row11 col7\" >0</td>\n",
              "                        <td id=\"T_20df8f26_3856_11ec_baf8_0242ac1c0002row11_col8\" class=\"data row11 col8\" >0</td>\n",
              "                        <td id=\"T_20df8f26_3856_11ec_baf8_0242ac1c0002row11_col9\" class=\"data row11 col9\" >0</td>\n",
              "                        <td id=\"T_20df8f26_3856_11ec_baf8_0242ac1c0002row11_col10\" class=\"data row11 col10\" >0</td>\n",
              "                        <td id=\"T_20df8f26_3856_11ec_baf8_0242ac1c0002row11_col11\" class=\"data row11 col11\" >166</td>\n",
              "            </tr>\n",
              "    </tbody></table>"
            ],
            "text/plain": [
              "<pandas.io.formats.style.Styler at 0x7f62ab4e1190>"
            ]
          },
          "metadata": {},
          "execution_count": 12
        }
      ]
    },
    {
      "cell_type": "code",
      "metadata": {
        "colab": {
          "base_uri": "https://localhost:8080/"
        },
        "id": "D5QCqZ-yvt0A",
        "outputId": "94e6555d-8b96-45da-9f82-9cde8bedaeb1"
      },
      "source": [
        "print(\"Classification Report:\")\n",
        "print()\n",
        "print(classification_report(y_test, y_pred))"
      ],
      "execution_count": 13,
      "outputs": [
        {
          "output_type": "stream",
          "name": "stdout",
          "text": [
            "Classification Report:\n",
            "\n",
            "              precision    recall  f1-score   support\n",
            "\n",
            "           0       0.99      1.00      1.00       127\n",
            "           1       0.99      0.98      0.99       250\n",
            "           2       0.99      0.99      0.99       177\n",
            "           3       0.97      0.95      0.96       273\n",
            "           4       0.98      0.99      0.98       538\n",
            "           5       0.98      0.99      0.99       569\n",
            "           6       1.00      0.95      0.97        39\n",
            "           7       0.93      0.96      0.95        28\n",
            "           8       1.00      0.91      0.95        56\n",
            "           9       0.98      1.00      0.99        81\n",
            "          10       0.99      0.99      0.99       137\n",
            "          11       0.98      0.97      0.97       172\n",
            "\n",
            "    accuracy                           0.98      2447\n",
            "   macro avg       0.98      0.97      0.98      2447\n",
            "weighted avg       0.98      0.98      0.98      2447\n",
            "\n"
          ]
        }
      ]
    },
    {
      "cell_type": "markdown",
      "metadata": {
        "id": "a1PhJnnKrK_4"
      },
      "source": [
        "#K-Nearest Neighbor Classification"
      ]
    },
    {
      "cell_type": "code",
      "metadata": {
        "colab": {
          "base_uri": "https://localhost:8080/"
        },
        "id": "Cu0U7s65rN9g",
        "outputId": "671f804c-5d7f-4aa0-f166-0e813a66c96a"
      },
      "source": [
        "pipeline = Pipeline(\n",
        "    [(\"preprocessing\", preprocessing), (\"knn\", KNeighborsClassifier())], verbose=True\n",
        ")\n",
        "\n",
        "pipeline.fit(X_train, y_train)\n"
      ],
      "execution_count": 14,
      "outputs": [
        {
          "output_type": "stream",
          "name": "stdout",
          "text": [
            "[Pipeline] ..... (step 1 of 2) Processing preprocessing, total=   0.0s\n",
            "[Pipeline] ............... (step 2 of 2) Processing knn, total=   0.1s\n"
          ]
        },
        {
          "output_type": "execute_result",
          "data": {
            "text/plain": [
              "Pipeline(memory=None,\n",
              "         steps=[('preprocessing',\n",
              "                 ColumnTransformer(n_jobs=None, remainder='passthrough',\n",
              "                                   sparse_threshold=0.3,\n",
              "                                   transformer_weights=None,\n",
              "                                   transformers=[('scale',\n",
              "                                                  StandardScaler(copy=True,\n",
              "                                                                 with_mean=True,\n",
              "                                                                 with_std=True),\n",
              "                                                  ['device_id', 'event_id'])],\n",
              "                                   verbose=False)),\n",
              "                ('knn',\n",
              "                 KNeighborsClassifier(algorithm='auto', leaf_size=30,\n",
              "                                      metric='minkowski', metric_params=None,\n",
              "                                      n_jobs=None, n_neighbors=5, p=2,\n",
              "                                      weights='uniform'))],\n",
              "         verbose=True)"
            ]
          },
          "metadata": {},
          "execution_count": 14
        }
      ]
    },
    {
      "cell_type": "code",
      "metadata": {
        "colab": {
          "base_uri": "https://localhost:8080/"
        },
        "id": "_6D2c9tOrTUA",
        "outputId": "2f0c0d66-3a41-494a-e8c9-30b1b2e090b8"
      },
      "source": [
        "grid = {\n",
        "    \"knn__n_neighbors\": [50, 100, 150],\n",
        "    \"knn__weights\": [\"distance\"],\n",
        "    \"knn__leaf_size\": [1, 10, 20],\n",
        "}\n",
        "\n",
        "model = GridSearchCV(pipeline, grid, n_jobs=-1, verbose=2, cv=2)\n",
        "model.fit(X_train, y_train)\n"
      ],
      "execution_count": 15,
      "outputs": [
        {
          "output_type": "stream",
          "name": "stdout",
          "text": [
            "Fitting 2 folds for each of 9 candidates, totalling 18 fits\n"
          ]
        },
        {
          "output_type": "stream",
          "name": "stderr",
          "text": [
            "[Parallel(n_jobs=-1)]: Using backend LokyBackend with 2 concurrent workers.\n",
            "[Parallel(n_jobs=-1)]: Done  18 out of  18 | elapsed:   12.6s finished\n"
          ]
        },
        {
          "output_type": "stream",
          "name": "stdout",
          "text": [
            "[Pipeline] ..... (step 1 of 2) Processing preprocessing, total=   0.0s\n",
            "[Pipeline] ............... (step 2 of 2) Processing knn, total=   0.2s\n"
          ]
        },
        {
          "output_type": "execute_result",
          "data": {
            "text/plain": [
              "GridSearchCV(cv=2, error_score=nan,\n",
              "             estimator=Pipeline(memory=None,\n",
              "                                steps=[('preprocessing',\n",
              "                                        ColumnTransformer(n_jobs=None,\n",
              "                                                          remainder='passthrough',\n",
              "                                                          sparse_threshold=0.3,\n",
              "                                                          transformer_weights=None,\n",
              "                                                          transformers=[('scale',\n",
              "                                                                         StandardScaler(copy=True,\n",
              "                                                                                        with_mean=True,\n",
              "                                                                                        with_std=True),\n",
              "                                                                         ['device_id',\n",
              "                                                                          'event_id'])],\n",
              "                                                          verbose=False)),\n",
              "                                       ('knn',\n",
              "                                        KNeighborsClassifier(algorithm='auto',\n",
              "                                                             leaf_size=30,\n",
              "                                                             metric='minkowski',\n",
              "                                                             metric_params=None,\n",
              "                                                             n_jobs=None,\n",
              "                                                             n_neighbors=5, p=2,\n",
              "                                                             weights='uniform'))],\n",
              "                                verbose=True),\n",
              "             iid='deprecated', n_jobs=-1,\n",
              "             param_grid={'knn__leaf_size': [1, 10, 20],\n",
              "                         'knn__n_neighbors': [50, 100, 150],\n",
              "                         'knn__weights': ['distance']},\n",
              "             pre_dispatch='2*n_jobs', refit=True, return_train_score=False,\n",
              "             scoring=None, verbose=2)"
            ]
          },
          "metadata": {},
          "execution_count": 15
        }
      ]
    },
    {
      "cell_type": "code",
      "metadata": {
        "colab": {
          "base_uri": "https://localhost:8080/"
        },
        "id": "87oc0cwYrdLg",
        "outputId": "bafcf724-5ff5-4987-b77b-80c86a37480e"
      },
      "source": [
        "# It seems like the higher the amount of n_neighbors the better the score, for next test, will increase n_neighbors\n",
        "model.best_params_\n"
      ],
      "execution_count": 16,
      "outputs": [
        {
          "output_type": "execute_result",
          "data": {
            "text/plain": [
              "{'knn__leaf_size': 1, 'knn__n_neighbors': 150, 'knn__weights': 'distance'}"
            ]
          },
          "metadata": {},
          "execution_count": 16
        }
      ]
    },
    {
      "cell_type": "code",
      "metadata": {
        "colab": {
          "base_uri": "https://localhost:8080/"
        },
        "id": "RQOYJm5inBeF",
        "outputId": "77122525-7628-40a2-9628-21a218f40598"
      },
      "source": [
        "# Model still appears to be extremely overfitting\n",
        "train_score = model.score(X_train, y_train)\n",
        "test_score = model.score(X_test, y_test)\n",
        "\n",
        "print(f\"Train score: {train_score}\")\n",
        "print(f\"Test score: {test_score}\")\n"
      ],
      "execution_count": 17,
      "outputs": [
        {
          "output_type": "stream",
          "name": "stdout",
          "text": [
            "Train score: 1.0\n",
            "Test score: 0.22353902738046588\n"
          ]
        }
      ]
    },
    {
      "cell_type": "code",
      "metadata": {
        "colab": {
          "base_uri": "https://localhost:8080/",
          "height": 414
        },
        "id": "g72wNAnYrml2",
        "outputId": "b8bac89a-c0d1-4ac1-bbf6-1f0e11e10180"
      },
      "source": [
        "y_pred = model.predict(X_test)\n",
        "\n",
        "con_mat = pd.DataFrame(\n",
        "    confusion_matrix(y_test, y_pred),\n",
        "    index=[\n",
        "        \"Actual M22-\",\n",
        "        \"Actual M23-26\",\n",
        "        \"Actual M27-28\",\n",
        "        \"Actual M29-31\",\n",
        "        \"Actual M32-38\",\n",
        "        \"Actual M39+\",\n",
        "        \"Actual F23-\",\n",
        "        \"Actual F24-26\",\n",
        "        \"Actual F27-28\",\n",
        "        \"Actual F29-32\",\n",
        "        \"Actual F33-42\",\n",
        "        \"Actual F43+\",\n",
        "    ],\n",
        "    columns=[\n",
        "        \"Predicted M22-\",\n",
        "        \"Predicted M23-26\",\n",
        "        \"Predicted M27-28\",\n",
        "        \"Predicted M29-31\",\n",
        "        \"Predicted M32-38\",\n",
        "        \"Predicted M39+\",\n",
        "        \"Predicted F23-\",\n",
        "        \"Predicted F24-26\",\n",
        "        \"Predicted F27-28\",\n",
        "        \"Predicted F29-32\",\n",
        "        \"Predicted F33-42\",\n",
        "        \"Predicted F43+\",\n",
        "    ],\n",
        ")\n",
        "con_mat.style.background_gradient(axis=None)\n"
      ],
      "execution_count": 18,
      "outputs": [
        {
          "output_type": "execute_result",
          "data": {
            "text/html": [
              "<style  type=\"text/css\" >\n",
              "#T_2cc04d26_3856_11ec_baf8_0242ac1c0002row0_col0,#T_2cc04d26_3856_11ec_baf8_0242ac1c0002row3_col2,#T_2cc04d26_3856_11ec_baf8_0242ac1c0002row4_col10{\n",
              "            background-color:  #f3edf5;\n",
              "            color:  #000000;\n",
              "        }#T_2cc04d26_3856_11ec_baf8_0242ac1c0002row0_col1,#T_2cc04d26_3856_11ec_baf8_0242ac1c0002row1_col0,#T_2cc04d26_3856_11ec_baf8_0242ac1c0002row1_col10,#T_2cc04d26_3856_11ec_baf8_0242ac1c0002row2_col3,#T_2cc04d26_3856_11ec_baf8_0242ac1c0002row11_col0{\n",
              "            background-color:  #faf2f8;\n",
              "            color:  #000000;\n",
              "        }#T_2cc04d26_3856_11ec_baf8_0242ac1c0002row0_col2,#T_2cc04d26_3856_11ec_baf8_0242ac1c0002row2_col0,#T_2cc04d26_3856_11ec_baf8_0242ac1c0002row2_col6,#T_2cc04d26_3856_11ec_baf8_0242ac1c0002row2_col8,#T_2cc04d26_3856_11ec_baf8_0242ac1c0002row3_col6,#T_2cc04d26_3856_11ec_baf8_0242ac1c0002row4_col7,#T_2cc04d26_3856_11ec_baf8_0242ac1c0002row6_col2,#T_2cc04d26_3856_11ec_baf8_0242ac1c0002row7_col1,#T_2cc04d26_3856_11ec_baf8_0242ac1c0002row8_col11,#T_2cc04d26_3856_11ec_baf8_0242ac1c0002row9_col8,#T_2cc04d26_3856_11ec_baf8_0242ac1c0002row9_col11{\n",
              "            background-color:  #fef6fa;\n",
              "            color:  #000000;\n",
              "        }#T_2cc04d26_3856_11ec_baf8_0242ac1c0002row0_col3,#T_2cc04d26_3856_11ec_baf8_0242ac1c0002row2_col11,#T_2cc04d26_3856_11ec_baf8_0242ac1c0002row4_col8,#T_2cc04d26_3856_11ec_baf8_0242ac1c0002row4_col9,#T_2cc04d26_3856_11ec_baf8_0242ac1c0002row9_col1,#T_2cc04d26_3856_11ec_baf8_0242ac1c0002row10_col2{\n",
              "            background-color:  #fbf4f9;\n",
              "            color:  #000000;\n",
              "        }#T_2cc04d26_3856_11ec_baf8_0242ac1c0002row0_col4,#T_2cc04d26_3856_11ec_baf8_0242ac1c0002row4_col1,#T_2cc04d26_3856_11ec_baf8_0242ac1c0002row9_col5{\n",
              "            background-color:  #e6e2ef;\n",
              "            color:  #000000;\n",
              "        }#T_2cc04d26_3856_11ec_baf8_0242ac1c0002row0_col5{\n",
              "            background-color:  #d9d8ea;\n",
              "            color:  #000000;\n",
              "        }#T_2cc04d26_3856_11ec_baf8_0242ac1c0002row0_col6,#T_2cc04d26_3856_11ec_baf8_0242ac1c0002row0_col10,#T_2cc04d26_3856_11ec_baf8_0242ac1c0002row1_col9,#T_2cc04d26_3856_11ec_baf8_0242ac1c0002row3_col8,#T_2cc04d26_3856_11ec_baf8_0242ac1c0002row4_col6,#T_2cc04d26_3856_11ec_baf8_0242ac1c0002row5_col6,#T_2cc04d26_3856_11ec_baf8_0242ac1c0002row5_col7,#T_2cc04d26_3856_11ec_baf8_0242ac1c0002row5_col8,#T_2cc04d26_3856_11ec_baf8_0242ac1c0002row6_col1,#T_2cc04d26_3856_11ec_baf8_0242ac1c0002row6_col3,#T_2cc04d26_3856_11ec_baf8_0242ac1c0002row7_col3,#T_2cc04d26_3856_11ec_baf8_0242ac1c0002row7_col7,#T_2cc04d26_3856_11ec_baf8_0242ac1c0002row7_col11,#T_2cc04d26_3856_11ec_baf8_0242ac1c0002row8_col0,#T_2cc04d26_3856_11ec_baf8_0242ac1c0002row8_col8,#T_2cc04d26_3856_11ec_baf8_0242ac1c0002row8_col10,#T_2cc04d26_3856_11ec_baf8_0242ac1c0002row9_col0,#T_2cc04d26_3856_11ec_baf8_0242ac1c0002row9_col2,#T_2cc04d26_3856_11ec_baf8_0242ac1c0002row9_col3,#T_2cc04d26_3856_11ec_baf8_0242ac1c0002row9_col10,#T_2cc04d26_3856_11ec_baf8_0242ac1c0002row10_col0,#T_2cc04d26_3856_11ec_baf8_0242ac1c0002row10_col9,#T_2cc04d26_3856_11ec_baf8_0242ac1c0002row10_col11,#T_2cc04d26_3856_11ec_baf8_0242ac1c0002row11_col9{\n",
              "            background-color:  #fdf5fa;\n",
              "            color:  #000000;\n",
              "        }#T_2cc04d26_3856_11ec_baf8_0242ac1c0002row0_col7,#T_2cc04d26_3856_11ec_baf8_0242ac1c0002row0_col8,#T_2cc04d26_3856_11ec_baf8_0242ac1c0002row2_col7,#T_2cc04d26_3856_11ec_baf8_0242ac1c0002row3_col7,#T_2cc04d26_3856_11ec_baf8_0242ac1c0002row6_col0,#T_2cc04d26_3856_11ec_baf8_0242ac1c0002row6_col8,#T_2cc04d26_3856_11ec_baf8_0242ac1c0002row6_col10,#T_2cc04d26_3856_11ec_baf8_0242ac1c0002row6_col11,#T_2cc04d26_3856_11ec_baf8_0242ac1c0002row7_col2,#T_2cc04d26_3856_11ec_baf8_0242ac1c0002row7_col6,#T_2cc04d26_3856_11ec_baf8_0242ac1c0002row7_col8,#T_2cc04d26_3856_11ec_baf8_0242ac1c0002row7_col9,#T_2cc04d26_3856_11ec_baf8_0242ac1c0002row7_col10,#T_2cc04d26_3856_11ec_baf8_0242ac1c0002row8_col6,#T_2cc04d26_3856_11ec_baf8_0242ac1c0002row9_col7,#T_2cc04d26_3856_11ec_baf8_0242ac1c0002row10_col6,#T_2cc04d26_3856_11ec_baf8_0242ac1c0002row10_col7{\n",
              "            background-color:  #fff7fb;\n",
              "            color:  #000000;\n",
              "        }#T_2cc04d26_3856_11ec_baf8_0242ac1c0002row0_col9,#T_2cc04d26_3856_11ec_baf8_0242ac1c0002row1_col6,#T_2cc04d26_3856_11ec_baf8_0242ac1c0002row1_col7,#T_2cc04d26_3856_11ec_baf8_0242ac1c0002row2_col9,#T_2cc04d26_3856_11ec_baf8_0242ac1c0002row6_col7,#T_2cc04d26_3856_11ec_baf8_0242ac1c0002row6_col9,#T_2cc04d26_3856_11ec_baf8_0242ac1c0002row7_col0,#T_2cc04d26_3856_11ec_baf8_0242ac1c0002row8_col2,#T_2cc04d26_3856_11ec_baf8_0242ac1c0002row8_col7,#T_2cc04d26_3856_11ec_baf8_0242ac1c0002row8_col9,#T_2cc04d26_3856_11ec_baf8_0242ac1c0002row9_col6,#T_2cc04d26_3856_11ec_baf8_0242ac1c0002row9_col9,#T_2cc04d26_3856_11ec_baf8_0242ac1c0002row10_col8,#T_2cc04d26_3856_11ec_baf8_0242ac1c0002row11_col6,#T_2cc04d26_3856_11ec_baf8_0242ac1c0002row11_col7,#T_2cc04d26_3856_11ec_baf8_0242ac1c0002row11_col8{\n",
              "            background-color:  #fef6fb;\n",
              "            color:  #000000;\n",
              "        }#T_2cc04d26_3856_11ec_baf8_0242ac1c0002row0_col11,#T_2cc04d26_3856_11ec_baf8_0242ac1c0002row1_col8,#T_2cc04d26_3856_11ec_baf8_0242ac1c0002row3_col9,#T_2cc04d26_3856_11ec_baf8_0242ac1c0002row3_col11,#T_2cc04d26_3856_11ec_baf8_0242ac1c0002row6_col6,#T_2cc04d26_3856_11ec_baf8_0242ac1c0002row7_col5,#T_2cc04d26_3856_11ec_baf8_0242ac1c0002row8_col1,#T_2cc04d26_3856_11ec_baf8_0242ac1c0002row8_col3,#T_2cc04d26_3856_11ec_baf8_0242ac1c0002row10_col3,#T_2cc04d26_3856_11ec_baf8_0242ac1c0002row11_col10{\n",
              "            background-color:  #fcf4fa;\n",
              "            color:  #000000;\n",
              "        }#T_2cc04d26_3856_11ec_baf8_0242ac1c0002row1_col1{\n",
              "            background-color:  #e1dfed;\n",
              "            color:  #000000;\n",
              "        }#T_2cc04d26_3856_11ec_baf8_0242ac1c0002row1_col2,#T_2cc04d26_3856_11ec_baf8_0242ac1c0002row2_col1,#T_2cc04d26_3856_11ec_baf8_0242ac1c0002row2_col10,#T_2cc04d26_3856_11ec_baf8_0242ac1c0002row3_col0,#T_2cc04d26_3856_11ec_baf8_0242ac1c0002row6_col5,#T_2cc04d26_3856_11ec_baf8_0242ac1c0002row11_col11{\n",
              "            background-color:  #f8f1f8;\n",
              "            color:  #000000;\n",
              "        }#T_2cc04d26_3856_11ec_baf8_0242ac1c0002row1_col3{\n",
              "            background-color:  #f1ebf4;\n",
              "            color:  #000000;\n",
              "        }#T_2cc04d26_3856_11ec_baf8_0242ac1c0002row1_col4{\n",
              "            background-color:  #bdc8e1;\n",
              "            color:  #000000;\n",
              "        }#T_2cc04d26_3856_11ec_baf8_0242ac1c0002row1_col5{\n",
              "            background-color:  #adc1dd;\n",
              "            color:  #000000;\n",
              "        }#T_2cc04d26_3856_11ec_baf8_0242ac1c0002row1_col11{\n",
              "            background-color:  #faf3f9;\n",
              "            color:  #000000;\n",
              "        }#T_2cc04d26_3856_11ec_baf8_0242ac1c0002row2_col2,#T_2cc04d26_3856_11ec_baf8_0242ac1c0002row5_col11{\n",
              "            background-color:  #eee9f3;\n",
              "            color:  #000000;\n",
              "        }#T_2cc04d26_3856_11ec_baf8_0242ac1c0002row2_col4{\n",
              "            background-color:  #d2d2e7;\n",
              "            color:  #000000;\n",
              "        }#T_2cc04d26_3856_11ec_baf8_0242ac1c0002row2_col5{\n",
              "            background-color:  #d0d1e6;\n",
              "            color:  #000000;\n",
              "        }#T_2cc04d26_3856_11ec_baf8_0242ac1c0002row3_col1,#T_2cc04d26_3856_11ec_baf8_0242ac1c0002row5_col2{\n",
              "            background-color:  #f0eaf4;\n",
              "            color:  #000000;\n",
              "        }#T_2cc04d26_3856_11ec_baf8_0242ac1c0002row3_col3{\n",
              "            background-color:  #e7e3f0;\n",
              "            color:  #000000;\n",
              "        }#T_2cc04d26_3856_11ec_baf8_0242ac1c0002row3_col4{\n",
              "            background-color:  #a5bddb;\n",
              "            color:  #000000;\n",
              "        }#T_2cc04d26_3856_11ec_baf8_0242ac1c0002row3_col5{\n",
              "            background-color:  #b0c2de;\n",
              "            color:  #000000;\n",
              "        }#T_2cc04d26_3856_11ec_baf8_0242ac1c0002row3_col10{\n",
              "            background-color:  #f5eff6;\n",
              "            color:  #000000;\n",
              "        }#T_2cc04d26_3856_11ec_baf8_0242ac1c0002row4_col0{\n",
              "            background-color:  #f5eef6;\n",
              "            color:  #000000;\n",
              "        }#T_2cc04d26_3856_11ec_baf8_0242ac1c0002row4_col2{\n",
              "            background-color:  #ede8f3;\n",
              "            color:  #000000;\n",
              "        }#T_2cc04d26_3856_11ec_baf8_0242ac1c0002row4_col3{\n",
              "            background-color:  #dad9ea;\n",
              "            color:  #000000;\n",
              "        }#T_2cc04d26_3856_11ec_baf8_0242ac1c0002row4_col4{\n",
              "            background-color:  #04649e;\n",
              "            color:  #f1f1f1;\n",
              "        }#T_2cc04d26_3856_11ec_baf8_0242ac1c0002row4_col5{\n",
              "            background-color:  #0569a4;\n",
              "            color:  #f1f1f1;\n",
              "        }#T_2cc04d26_3856_11ec_baf8_0242ac1c0002row4_col11{\n",
              "            background-color:  #ede7f2;\n",
              "            color:  #000000;\n",
              "        }#T_2cc04d26_3856_11ec_baf8_0242ac1c0002row5_col0{\n",
              "            background-color:  #efe9f3;\n",
              "            color:  #000000;\n",
              "        }#T_2cc04d26_3856_11ec_baf8_0242ac1c0002row5_col1{\n",
              "            background-color:  #e9e5f1;\n",
              "            color:  #000000;\n",
              "        }#T_2cc04d26_3856_11ec_baf8_0242ac1c0002row5_col3{\n",
              "            background-color:  #e0dded;\n",
              "            color:  #000000;\n",
              "        }#T_2cc04d26_3856_11ec_baf8_0242ac1c0002row5_col4{\n",
              "            background-color:  #056fae;\n",
              "            color:  #f1f1f1;\n",
              "        }#T_2cc04d26_3856_11ec_baf8_0242ac1c0002row5_col5{\n",
              "            background-color:  #023858;\n",
              "            color:  #f1f1f1;\n",
              "        }#T_2cc04d26_3856_11ec_baf8_0242ac1c0002row5_col9,#T_2cc04d26_3856_11ec_baf8_0242ac1c0002row6_col4,#T_2cc04d26_3856_11ec_baf8_0242ac1c0002row8_col4,#T_2cc04d26_3856_11ec_baf8_0242ac1c0002row11_col1{\n",
              "            background-color:  #f7f0f7;\n",
              "            color:  #000000;\n",
              "        }#T_2cc04d26_3856_11ec_baf8_0242ac1c0002row5_col10{\n",
              "            background-color:  #f4eef6;\n",
              "            color:  #000000;\n",
              "        }#T_2cc04d26_3856_11ec_baf8_0242ac1c0002row7_col4,#T_2cc04d26_3856_11ec_baf8_0242ac1c0002row10_col1,#T_2cc04d26_3856_11ec_baf8_0242ac1c0002row10_col10,#T_2cc04d26_3856_11ec_baf8_0242ac1c0002row11_col2{\n",
              "            background-color:  #f9f2f8;\n",
              "            color:  #000000;\n",
              "        }#T_2cc04d26_3856_11ec_baf8_0242ac1c0002row8_col5{\n",
              "            background-color:  #f2ecf5;\n",
              "            color:  #000000;\n",
              "        }#T_2cc04d26_3856_11ec_baf8_0242ac1c0002row9_col4,#T_2cc04d26_3856_11ec_baf8_0242ac1c0002row11_col3{\n",
              "            background-color:  #f1ebf5;\n",
              "            color:  #000000;\n",
              "        }#T_2cc04d26_3856_11ec_baf8_0242ac1c0002row10_col4{\n",
              "            background-color:  #dddbec;\n",
              "            color:  #000000;\n",
              "        }#T_2cc04d26_3856_11ec_baf8_0242ac1c0002row10_col5{\n",
              "            background-color:  #d2d3e7;\n",
              "            color:  #000000;\n",
              "        }#T_2cc04d26_3856_11ec_baf8_0242ac1c0002row11_col4{\n",
              "            background-color:  #e0deed;\n",
              "            color:  #000000;\n",
              "        }#T_2cc04d26_3856_11ec_baf8_0242ac1c0002row11_col5{\n",
              "            background-color:  #c6cce3;\n",
              "            color:  #000000;\n",
              "        }</style><table id=\"T_2cc04d26_3856_11ec_baf8_0242ac1c0002\" class=\"dataframe\"><thead>    <tr>        <th class=\"blank level0\" ></th>        <th class=\"col_heading level0 col0\" >Predicted M22-</th>        <th class=\"col_heading level0 col1\" >Predicted M23-26</th>        <th class=\"col_heading level0 col2\" >Predicted M27-28</th>        <th class=\"col_heading level0 col3\" >Predicted M29-31</th>        <th class=\"col_heading level0 col4\" >Predicted M32-38</th>        <th class=\"col_heading level0 col5\" >Predicted M39+</th>        <th class=\"col_heading level0 col6\" >Predicted F23-</th>        <th class=\"col_heading level0 col7\" >Predicted F24-26</th>        <th class=\"col_heading level0 col8\" >Predicted F27-28</th>        <th class=\"col_heading level0 col9\" >Predicted F29-32</th>        <th class=\"col_heading level0 col10\" >Predicted F33-42</th>        <th class=\"col_heading level0 col11\" >Predicted F43+</th>    </tr></thead><tbody>\n",
              "                <tr>\n",
              "                        <th id=\"T_2cc04d26_3856_11ec_baf8_0242ac1c0002level0_row0\" class=\"row_heading level0 row0\" >Actual M22-</th>\n",
              "                        <td id=\"T_2cc04d26_3856_11ec_baf8_0242ac1c0002row0_col0\" class=\"data row0 col0\" >18</td>\n",
              "                        <td id=\"T_2cc04d26_3856_11ec_baf8_0242ac1c0002row0_col1\" class=\"data row0 col1\" >8</td>\n",
              "                        <td id=\"T_2cc04d26_3856_11ec_baf8_0242ac1c0002row0_col2\" class=\"data row0 col2\" >2</td>\n",
              "                        <td id=\"T_2cc04d26_3856_11ec_baf8_0242ac1c0002row0_col3\" class=\"data row0 col3\" >6</td>\n",
              "                        <td id=\"T_2cc04d26_3856_11ec_baf8_0242ac1c0002row0_col4\" class=\"data row0 col4\" >34</td>\n",
              "                        <td id=\"T_2cc04d26_3856_11ec_baf8_0242ac1c0002row0_col5\" class=\"data row0 col5\" >46</td>\n",
              "                        <td id=\"T_2cc04d26_3856_11ec_baf8_0242ac1c0002row0_col6\" class=\"data row0 col6\" >3</td>\n",
              "                        <td id=\"T_2cc04d26_3856_11ec_baf8_0242ac1c0002row0_col7\" class=\"data row0 col7\" >0</td>\n",
              "                        <td id=\"T_2cc04d26_3856_11ec_baf8_0242ac1c0002row0_col8\" class=\"data row0 col8\" >0</td>\n",
              "                        <td id=\"T_2cc04d26_3856_11ec_baf8_0242ac1c0002row0_col9\" class=\"data row0 col9\" >1</td>\n",
              "                        <td id=\"T_2cc04d26_3856_11ec_baf8_0242ac1c0002row0_col10\" class=\"data row0 col10\" >4</td>\n",
              "                        <td id=\"T_2cc04d26_3856_11ec_baf8_0242ac1c0002row0_col11\" class=\"data row0 col11\" >5</td>\n",
              "            </tr>\n",
              "            <tr>\n",
              "                        <th id=\"T_2cc04d26_3856_11ec_baf8_0242ac1c0002level0_row1\" class=\"row_heading level0 row1\" >Actual M23-26</th>\n",
              "                        <td id=\"T_2cc04d26_3856_11ec_baf8_0242ac1c0002row1_col0\" class=\"data row1 col0\" >8</td>\n",
              "                        <td id=\"T_2cc04d26_3856_11ec_baf8_0242ac1c0002row1_col1\" class=\"data row1 col1\" >38</td>\n",
              "                        <td id=\"T_2cc04d26_3856_11ec_baf8_0242ac1c0002row1_col2\" class=\"data row1 col2\" >11</td>\n",
              "                        <td id=\"T_2cc04d26_3856_11ec_baf8_0242ac1c0002row1_col3\" class=\"data row1 col3\" >21</td>\n",
              "                        <td id=\"T_2cc04d26_3856_11ec_baf8_0242ac1c0002row1_col4\" class=\"data row1 col4\" >68</td>\n",
              "                        <td id=\"T_2cc04d26_3856_11ec_baf8_0242ac1c0002row1_col5\" class=\"data row1 col5\" >78</td>\n",
              "                        <td id=\"T_2cc04d26_3856_11ec_baf8_0242ac1c0002row1_col6\" class=\"data row1 col6\" >1</td>\n",
              "                        <td id=\"T_2cc04d26_3856_11ec_baf8_0242ac1c0002row1_col7\" class=\"data row1 col7\" >1</td>\n",
              "                        <td id=\"T_2cc04d26_3856_11ec_baf8_0242ac1c0002row1_col8\" class=\"data row1 col8\" >5</td>\n",
              "                        <td id=\"T_2cc04d26_3856_11ec_baf8_0242ac1c0002row1_col9\" class=\"data row1 col9\" >4</td>\n",
              "                        <td id=\"T_2cc04d26_3856_11ec_baf8_0242ac1c0002row1_col10\" class=\"data row1 col10\" >8</td>\n",
              "                        <td id=\"T_2cc04d26_3856_11ec_baf8_0242ac1c0002row1_col11\" class=\"data row1 col11\" >7</td>\n",
              "            </tr>\n",
              "            <tr>\n",
              "                        <th id=\"T_2cc04d26_3856_11ec_baf8_0242ac1c0002level0_row2\" class=\"row_heading level0 row2\" >Actual M27-28</th>\n",
              "                        <td id=\"T_2cc04d26_3856_11ec_baf8_0242ac1c0002row2_col0\" class=\"data row2 col0\" >2</td>\n",
              "                        <td id=\"T_2cc04d26_3856_11ec_baf8_0242ac1c0002row2_col1\" class=\"data row2 col1\" >11</td>\n",
              "                        <td id=\"T_2cc04d26_3856_11ec_baf8_0242ac1c0002row2_col2\" class=\"data row2 col2\" >25</td>\n",
              "                        <td id=\"T_2cc04d26_3856_11ec_baf8_0242ac1c0002row2_col3\" class=\"data row2 col3\" >8</td>\n",
              "                        <td id=\"T_2cc04d26_3856_11ec_baf8_0242ac1c0002row2_col4\" class=\"data row2 col4\" >54</td>\n",
              "                        <td id=\"T_2cc04d26_3856_11ec_baf8_0242ac1c0002row2_col5\" class=\"data row2 col5\" >56</td>\n",
              "                        <td id=\"T_2cc04d26_3856_11ec_baf8_0242ac1c0002row2_col6\" class=\"data row2 col6\" >2</td>\n",
              "                        <td id=\"T_2cc04d26_3856_11ec_baf8_0242ac1c0002row2_col7\" class=\"data row2 col7\" >0</td>\n",
              "                        <td id=\"T_2cc04d26_3856_11ec_baf8_0242ac1c0002row2_col8\" class=\"data row2 col8\" >2</td>\n",
              "                        <td id=\"T_2cc04d26_3856_11ec_baf8_0242ac1c0002row2_col9\" class=\"data row2 col9\" >1</td>\n",
              "                        <td id=\"T_2cc04d26_3856_11ec_baf8_0242ac1c0002row2_col10\" class=\"data row2 col10\" >10</td>\n",
              "                        <td id=\"T_2cc04d26_3856_11ec_baf8_0242ac1c0002row2_col11\" class=\"data row2 col11\" >6</td>\n",
              "            </tr>\n",
              "            <tr>\n",
              "                        <th id=\"T_2cc04d26_3856_11ec_baf8_0242ac1c0002level0_row3\" class=\"row_heading level0 row3\" >Actual M29-31</th>\n",
              "                        <td id=\"T_2cc04d26_3856_11ec_baf8_0242ac1c0002row3_col0\" class=\"data row3 col0\" >10</td>\n",
              "                        <td id=\"T_2cc04d26_3856_11ec_baf8_0242ac1c0002row3_col1\" class=\"data row3 col1\" >23</td>\n",
              "                        <td id=\"T_2cc04d26_3856_11ec_baf8_0242ac1c0002row3_col2\" class=\"data row3 col2\" >18</td>\n",
              "                        <td id=\"T_2cc04d26_3856_11ec_baf8_0242ac1c0002row3_col3\" class=\"data row3 col3\" >33</td>\n",
              "                        <td id=\"T_2cc04d26_3856_11ec_baf8_0242ac1c0002row3_col4\" class=\"data row3 col4\" >83</td>\n",
              "                        <td id=\"T_2cc04d26_3856_11ec_baf8_0242ac1c0002row3_col5\" class=\"data row3 col5\" >76</td>\n",
              "                        <td id=\"T_2cc04d26_3856_11ec_baf8_0242ac1c0002row3_col6\" class=\"data row3 col6\" >2</td>\n",
              "                        <td id=\"T_2cc04d26_3856_11ec_baf8_0242ac1c0002row3_col7\" class=\"data row3 col7\" >0</td>\n",
              "                        <td id=\"T_2cc04d26_3856_11ec_baf8_0242ac1c0002row3_col8\" class=\"data row3 col8\" >4</td>\n",
              "                        <td id=\"T_2cc04d26_3856_11ec_baf8_0242ac1c0002row3_col9\" class=\"data row3 col9\" >5</td>\n",
              "                        <td id=\"T_2cc04d26_3856_11ec_baf8_0242ac1c0002row3_col10\" class=\"data row3 col10\" >14</td>\n",
              "                        <td id=\"T_2cc04d26_3856_11ec_baf8_0242ac1c0002row3_col11\" class=\"data row3 col11\" >5</td>\n",
              "            </tr>\n",
              "            <tr>\n",
              "                        <th id=\"T_2cc04d26_3856_11ec_baf8_0242ac1c0002level0_row4\" class=\"row_heading level0 row4\" >Actual M32-38</th>\n",
              "                        <td id=\"T_2cc04d26_3856_11ec_baf8_0242ac1c0002row4_col0\" class=\"data row4 col0\" >15</td>\n",
              "                        <td id=\"T_2cc04d26_3856_11ec_baf8_0242ac1c0002row4_col1\" class=\"data row4 col1\" >34</td>\n",
              "                        <td id=\"T_2cc04d26_3856_11ec_baf8_0242ac1c0002row4_col2\" class=\"data row4 col2\" >26</td>\n",
              "                        <td id=\"T_2cc04d26_3856_11ec_baf8_0242ac1c0002row4_col3\" class=\"data row4 col3\" >45</td>\n",
              "                        <td id=\"T_2cc04d26_3856_11ec_baf8_0242ac1c0002row4_col4\" class=\"data row4 col4\" >180</td>\n",
              "                        <td id=\"T_2cc04d26_3856_11ec_baf8_0242ac1c0002row4_col5\" class=\"data row4 col5\" >175</td>\n",
              "                        <td id=\"T_2cc04d26_3856_11ec_baf8_0242ac1c0002row4_col6\" class=\"data row4 col6\" >4</td>\n",
              "                        <td id=\"T_2cc04d26_3856_11ec_baf8_0242ac1c0002row4_col7\" class=\"data row4 col7\" >2</td>\n",
              "                        <td id=\"T_2cc04d26_3856_11ec_baf8_0242ac1c0002row4_col8\" class=\"data row4 col8\" >6</td>\n",
              "                        <td id=\"T_2cc04d26_3856_11ec_baf8_0242ac1c0002row4_col9\" class=\"data row4 col9\" >6</td>\n",
              "                        <td id=\"T_2cc04d26_3856_11ec_baf8_0242ac1c0002row4_col10\" class=\"data row4 col10\" >18</td>\n",
              "                        <td id=\"T_2cc04d26_3856_11ec_baf8_0242ac1c0002row4_col11\" class=\"data row4 col11\" >27</td>\n",
              "            </tr>\n",
              "            <tr>\n",
              "                        <th id=\"T_2cc04d26_3856_11ec_baf8_0242ac1c0002level0_row5\" class=\"row_heading level0 row5\" >Actual M39+</th>\n",
              "                        <td id=\"T_2cc04d26_3856_11ec_baf8_0242ac1c0002row5_col0\" class=\"data row5 col0\" >24</td>\n",
              "                        <td id=\"T_2cc04d26_3856_11ec_baf8_0242ac1c0002row5_col1\" class=\"data row5 col1\" >31</td>\n",
              "                        <td id=\"T_2cc04d26_3856_11ec_baf8_0242ac1c0002row5_col2\" class=\"data row5 col2\" >22</td>\n",
              "                        <td id=\"T_2cc04d26_3856_11ec_baf8_0242ac1c0002row5_col3\" class=\"data row5 col3\" >40</td>\n",
              "                        <td id=\"T_2cc04d26_3856_11ec_baf8_0242ac1c0002row5_col4\" class=\"data row5 col4\" >167</td>\n",
              "                        <td id=\"T_2cc04d26_3856_11ec_baf8_0242ac1c0002row5_col5\" class=\"data row5 col5\" >221</td>\n",
              "                        <td id=\"T_2cc04d26_3856_11ec_baf8_0242ac1c0002row5_col6\" class=\"data row5 col6\" >4</td>\n",
              "                        <td id=\"T_2cc04d26_3856_11ec_baf8_0242ac1c0002row5_col7\" class=\"data row5 col7\" >4</td>\n",
              "                        <td id=\"T_2cc04d26_3856_11ec_baf8_0242ac1c0002row5_col8\" class=\"data row5 col8\" >3</td>\n",
              "                        <td id=\"T_2cc04d26_3856_11ec_baf8_0242ac1c0002row5_col9\" class=\"data row5 col9\" >12</td>\n",
              "                        <td id=\"T_2cc04d26_3856_11ec_baf8_0242ac1c0002row5_col10\" class=\"data row5 col10\" >16</td>\n",
              "                        <td id=\"T_2cc04d26_3856_11ec_baf8_0242ac1c0002row5_col11\" class=\"data row5 col11\" >25</td>\n",
              "            </tr>\n",
              "            <tr>\n",
              "                        <th id=\"T_2cc04d26_3856_11ec_baf8_0242ac1c0002level0_row6\" class=\"row_heading level0 row6\" >Actual F23-</th>\n",
              "                        <td id=\"T_2cc04d26_3856_11ec_baf8_0242ac1c0002row6_col0\" class=\"data row6 col0\" >0</td>\n",
              "                        <td id=\"T_2cc04d26_3856_11ec_baf8_0242ac1c0002row6_col1\" class=\"data row6 col1\" >4</td>\n",
              "                        <td id=\"T_2cc04d26_3856_11ec_baf8_0242ac1c0002row6_col2\" class=\"data row6 col2\" >2</td>\n",
              "                        <td id=\"T_2cc04d26_3856_11ec_baf8_0242ac1c0002row6_col3\" class=\"data row6 col3\" >3</td>\n",
              "                        <td id=\"T_2cc04d26_3856_11ec_baf8_0242ac1c0002row6_col4\" class=\"data row6 col4\" >12</td>\n",
              "                        <td id=\"T_2cc04d26_3856_11ec_baf8_0242ac1c0002row6_col5\" class=\"data row6 col5\" >11</td>\n",
              "                        <td id=\"T_2cc04d26_3856_11ec_baf8_0242ac1c0002row6_col6\" class=\"data row6 col6\" >5</td>\n",
              "                        <td id=\"T_2cc04d26_3856_11ec_baf8_0242ac1c0002row6_col7\" class=\"data row6 col7\" >1</td>\n",
              "                        <td id=\"T_2cc04d26_3856_11ec_baf8_0242ac1c0002row6_col8\" class=\"data row6 col8\" >0</td>\n",
              "                        <td id=\"T_2cc04d26_3856_11ec_baf8_0242ac1c0002row6_col9\" class=\"data row6 col9\" >1</td>\n",
              "                        <td id=\"T_2cc04d26_3856_11ec_baf8_0242ac1c0002row6_col10\" class=\"data row6 col10\" >0</td>\n",
              "                        <td id=\"T_2cc04d26_3856_11ec_baf8_0242ac1c0002row6_col11\" class=\"data row6 col11\" >0</td>\n",
              "            </tr>\n",
              "            <tr>\n",
              "                        <th id=\"T_2cc04d26_3856_11ec_baf8_0242ac1c0002level0_row7\" class=\"row_heading level0 row7\" >Actual F24-26</th>\n",
              "                        <td id=\"T_2cc04d26_3856_11ec_baf8_0242ac1c0002row7_col0\" class=\"data row7 col0\" >1</td>\n",
              "                        <td id=\"T_2cc04d26_3856_11ec_baf8_0242ac1c0002row7_col1\" class=\"data row7 col1\" >2</td>\n",
              "                        <td id=\"T_2cc04d26_3856_11ec_baf8_0242ac1c0002row7_col2\" class=\"data row7 col2\" >0</td>\n",
              "                        <td id=\"T_2cc04d26_3856_11ec_baf8_0242ac1c0002row7_col3\" class=\"data row7 col3\" >4</td>\n",
              "                        <td id=\"T_2cc04d26_3856_11ec_baf8_0242ac1c0002row7_col4\" class=\"data row7 col4\" >9</td>\n",
              "                        <td id=\"T_2cc04d26_3856_11ec_baf8_0242ac1c0002row7_col5\" class=\"data row7 col5\" >5</td>\n",
              "                        <td id=\"T_2cc04d26_3856_11ec_baf8_0242ac1c0002row7_col6\" class=\"data row7 col6\" >0</td>\n",
              "                        <td id=\"T_2cc04d26_3856_11ec_baf8_0242ac1c0002row7_col7\" class=\"data row7 col7\" >3</td>\n",
              "                        <td id=\"T_2cc04d26_3856_11ec_baf8_0242ac1c0002row7_col8\" class=\"data row7 col8\" >0</td>\n",
              "                        <td id=\"T_2cc04d26_3856_11ec_baf8_0242ac1c0002row7_col9\" class=\"data row7 col9\" >0</td>\n",
              "                        <td id=\"T_2cc04d26_3856_11ec_baf8_0242ac1c0002row7_col10\" class=\"data row7 col10\" >0</td>\n",
              "                        <td id=\"T_2cc04d26_3856_11ec_baf8_0242ac1c0002row7_col11\" class=\"data row7 col11\" >4</td>\n",
              "            </tr>\n",
              "            <tr>\n",
              "                        <th id=\"T_2cc04d26_3856_11ec_baf8_0242ac1c0002level0_row8\" class=\"row_heading level0 row8\" >Actual F27-28</th>\n",
              "                        <td id=\"T_2cc04d26_3856_11ec_baf8_0242ac1c0002row8_col0\" class=\"data row8 col0\" >3</td>\n",
              "                        <td id=\"T_2cc04d26_3856_11ec_baf8_0242ac1c0002row8_col1\" class=\"data row8 col1\" >5</td>\n",
              "                        <td id=\"T_2cc04d26_3856_11ec_baf8_0242ac1c0002row8_col2\" class=\"data row8 col2\" >1</td>\n",
              "                        <td id=\"T_2cc04d26_3856_11ec_baf8_0242ac1c0002row8_col3\" class=\"data row8 col3\" >5</td>\n",
              "                        <td id=\"T_2cc04d26_3856_11ec_baf8_0242ac1c0002row8_col4\" class=\"data row8 col4\" >12</td>\n",
              "                        <td id=\"T_2cc04d26_3856_11ec_baf8_0242ac1c0002row8_col5\" class=\"data row8 col5\" >19</td>\n",
              "                        <td id=\"T_2cc04d26_3856_11ec_baf8_0242ac1c0002row8_col6\" class=\"data row8 col6\" >0</td>\n",
              "                        <td id=\"T_2cc04d26_3856_11ec_baf8_0242ac1c0002row8_col7\" class=\"data row8 col7\" >1</td>\n",
              "                        <td id=\"T_2cc04d26_3856_11ec_baf8_0242ac1c0002row8_col8\" class=\"data row8 col8\" >3</td>\n",
              "                        <td id=\"T_2cc04d26_3856_11ec_baf8_0242ac1c0002row8_col9\" class=\"data row8 col9\" >1</td>\n",
              "                        <td id=\"T_2cc04d26_3856_11ec_baf8_0242ac1c0002row8_col10\" class=\"data row8 col10\" >4</td>\n",
              "                        <td id=\"T_2cc04d26_3856_11ec_baf8_0242ac1c0002row8_col11\" class=\"data row8 col11\" >2</td>\n",
              "            </tr>\n",
              "            <tr>\n",
              "                        <th id=\"T_2cc04d26_3856_11ec_baf8_0242ac1c0002level0_row9\" class=\"row_heading level0 row9\" >Actual F29-32</th>\n",
              "                        <td id=\"T_2cc04d26_3856_11ec_baf8_0242ac1c0002row9_col0\" class=\"data row9 col0\" >4</td>\n",
              "                        <td id=\"T_2cc04d26_3856_11ec_baf8_0242ac1c0002row9_col1\" class=\"data row9 col1\" >6</td>\n",
              "                        <td id=\"T_2cc04d26_3856_11ec_baf8_0242ac1c0002row9_col2\" class=\"data row9 col2\" >4</td>\n",
              "                        <td id=\"T_2cc04d26_3856_11ec_baf8_0242ac1c0002row9_col3\" class=\"data row9 col3\" >3</td>\n",
              "                        <td id=\"T_2cc04d26_3856_11ec_baf8_0242ac1c0002row9_col4\" class=\"data row9 col4\" >20</td>\n",
              "                        <td id=\"T_2cc04d26_3856_11ec_baf8_0242ac1c0002row9_col5\" class=\"data row9 col5\" >34</td>\n",
              "                        <td id=\"T_2cc04d26_3856_11ec_baf8_0242ac1c0002row9_col6\" class=\"data row9 col6\" >1</td>\n",
              "                        <td id=\"T_2cc04d26_3856_11ec_baf8_0242ac1c0002row9_col7\" class=\"data row9 col7\" >0</td>\n",
              "                        <td id=\"T_2cc04d26_3856_11ec_baf8_0242ac1c0002row9_col8\" class=\"data row9 col8\" >2</td>\n",
              "                        <td id=\"T_2cc04d26_3856_11ec_baf8_0242ac1c0002row9_col9\" class=\"data row9 col9\" >1</td>\n",
              "                        <td id=\"T_2cc04d26_3856_11ec_baf8_0242ac1c0002row9_col10\" class=\"data row9 col10\" >4</td>\n",
              "                        <td id=\"T_2cc04d26_3856_11ec_baf8_0242ac1c0002row9_col11\" class=\"data row9 col11\" >2</td>\n",
              "            </tr>\n",
              "            <tr>\n",
              "                        <th id=\"T_2cc04d26_3856_11ec_baf8_0242ac1c0002level0_row10\" class=\"row_heading level0 row10\" >Actual F33-42</th>\n",
              "                        <td id=\"T_2cc04d26_3856_11ec_baf8_0242ac1c0002row10_col0\" class=\"data row10 col0\" >4</td>\n",
              "                        <td id=\"T_2cc04d26_3856_11ec_baf8_0242ac1c0002row10_col1\" class=\"data row10 col1\" >9</td>\n",
              "                        <td id=\"T_2cc04d26_3856_11ec_baf8_0242ac1c0002row10_col2\" class=\"data row10 col2\" >6</td>\n",
              "                        <td id=\"T_2cc04d26_3856_11ec_baf8_0242ac1c0002row10_col3\" class=\"data row10 col3\" >5</td>\n",
              "                        <td id=\"T_2cc04d26_3856_11ec_baf8_0242ac1c0002row10_col4\" class=\"data row10 col4\" >43</td>\n",
              "                        <td id=\"T_2cc04d26_3856_11ec_baf8_0242ac1c0002row10_col5\" class=\"data row10 col5\" >53</td>\n",
              "                        <td id=\"T_2cc04d26_3856_11ec_baf8_0242ac1c0002row10_col6\" class=\"data row10 col6\" >0</td>\n",
              "                        <td id=\"T_2cc04d26_3856_11ec_baf8_0242ac1c0002row10_col7\" class=\"data row10 col7\" >0</td>\n",
              "                        <td id=\"T_2cc04d26_3856_11ec_baf8_0242ac1c0002row10_col8\" class=\"data row10 col8\" >1</td>\n",
              "                        <td id=\"T_2cc04d26_3856_11ec_baf8_0242ac1c0002row10_col9\" class=\"data row10 col9\" >3</td>\n",
              "                        <td id=\"T_2cc04d26_3856_11ec_baf8_0242ac1c0002row10_col10\" class=\"data row10 col10\" >9</td>\n",
              "                        <td id=\"T_2cc04d26_3856_11ec_baf8_0242ac1c0002row10_col11\" class=\"data row10 col11\" >4</td>\n",
              "            </tr>\n",
              "            <tr>\n",
              "                        <th id=\"T_2cc04d26_3856_11ec_baf8_0242ac1c0002level0_row11\" class=\"row_heading level0 row11\" >Actual F43+</th>\n",
              "                        <td id=\"T_2cc04d26_3856_11ec_baf8_0242ac1c0002row11_col0\" class=\"data row11 col0\" >8</td>\n",
              "                        <td id=\"T_2cc04d26_3856_11ec_baf8_0242ac1c0002row11_col1\" class=\"data row11 col1\" >12</td>\n",
              "                        <td id=\"T_2cc04d26_3856_11ec_baf8_0242ac1c0002row11_col2\" class=\"data row11 col2\" >9</td>\n",
              "                        <td id=\"T_2cc04d26_3856_11ec_baf8_0242ac1c0002row11_col3\" class=\"data row11 col3\" >20</td>\n",
              "                        <td id=\"T_2cc04d26_3856_11ec_baf8_0242ac1c0002row11_col4\" class=\"data row11 col4\" >39</td>\n",
              "                        <td id=\"T_2cc04d26_3856_11ec_baf8_0242ac1c0002row11_col5\" class=\"data row11 col5\" >62</td>\n",
              "                        <td id=\"T_2cc04d26_3856_11ec_baf8_0242ac1c0002row11_col6\" class=\"data row11 col6\" >1</td>\n",
              "                        <td id=\"T_2cc04d26_3856_11ec_baf8_0242ac1c0002row11_col7\" class=\"data row11 col7\" >1</td>\n",
              "                        <td id=\"T_2cc04d26_3856_11ec_baf8_0242ac1c0002row11_col8\" class=\"data row11 col8\" >1</td>\n",
              "                        <td id=\"T_2cc04d26_3856_11ec_baf8_0242ac1c0002row11_col9\" class=\"data row11 col9\" >3</td>\n",
              "                        <td id=\"T_2cc04d26_3856_11ec_baf8_0242ac1c0002row11_col10\" class=\"data row11 col10\" >5</td>\n",
              "                        <td id=\"T_2cc04d26_3856_11ec_baf8_0242ac1c0002row11_col11\" class=\"data row11 col11\" >11</td>\n",
              "            </tr>\n",
              "    </tbody></table>"
            ],
            "text/plain": [
              "<pandas.io.formats.style.Styler at 0x7f62a9ffea50>"
            ]
          },
          "metadata": {},
          "execution_count": 18
        }
      ]
    },
    {
      "cell_type": "code",
      "metadata": {
        "colab": {
          "base_uri": "https://localhost:8080/"
        },
        "id": "eb7p5Ci1ryaA",
        "outputId": "b2c8a6ed-aae3-499b-bce3-0894961851ee"
      },
      "source": [
        "print(\"Classification Report:\")\n",
        "print()\n",
        "print(classification_report(y_test, y_pred))\n"
      ],
      "execution_count": 19,
      "outputs": [
        {
          "output_type": "stream",
          "name": "stdout",
          "text": [
            "Classification Report:\n",
            "\n",
            "              precision    recall  f1-score   support\n",
            "\n",
            "           0       0.19      0.14      0.16       127\n",
            "           1       0.21      0.15      0.18       250\n",
            "           2       0.20      0.14      0.17       177\n",
            "           3       0.17      0.12      0.14       273\n",
            "           4       0.25      0.33      0.29       538\n",
            "           5       0.26      0.39      0.31       569\n",
            "           6       0.22      0.13      0.16        39\n",
            "           7       0.23      0.11      0.15        28\n",
            "           8       0.11      0.05      0.07        56\n",
            "           9       0.03      0.01      0.02        81\n",
            "          10       0.10      0.07      0.08       137\n",
            "          11       0.11      0.06      0.08       172\n",
            "\n",
            "    accuracy                           0.22      2447\n",
            "   macro avg       0.17      0.14      0.15      2447\n",
            "weighted avg       0.20      0.22      0.21      2447\n",
            "\n"
          ]
        }
      ]
    },
    {
      "cell_type": "markdown",
      "metadata": {
        "id": "YjO0S8fa6LRC"
      },
      "source": [
        "# Decision Tree Classifier"
      ]
    },
    {
      "cell_type": "code",
      "metadata": {
        "colab": {
          "base_uri": "https://localhost:8080/"
        },
        "id": "yiz8bETf6kep",
        "outputId": "3e781144-a7dc-430e-c7e0-5fa7b88e2fba"
      },
      "source": [
        "pipeline = Pipeline(\n",
        "    [(\"preprocessing\", preprocessing), (\"dtc\", DecisionTreeClassifier())], verbose=True\n",
        ")\n",
        "\n",
        "pipeline.fit(X_train, y_train)\n"
      ],
      "execution_count": 20,
      "outputs": [
        {
          "output_type": "stream",
          "name": "stdout",
          "text": [
            "[Pipeline] ..... (step 1 of 2) Processing preprocessing, total=   0.0s\n",
            "[Pipeline] ............... (step 2 of 2) Processing dtc, total=   0.1s\n"
          ]
        },
        {
          "output_type": "execute_result",
          "data": {
            "text/plain": [
              "Pipeline(memory=None,\n",
              "         steps=[('preprocessing',\n",
              "                 ColumnTransformer(n_jobs=None, remainder='passthrough',\n",
              "                                   sparse_threshold=0.3,\n",
              "                                   transformer_weights=None,\n",
              "                                   transformers=[('scale',\n",
              "                                                  StandardScaler(copy=True,\n",
              "                                                                 with_mean=True,\n",
              "                                                                 with_std=True),\n",
              "                                                  ['device_id', 'event_id'])],\n",
              "                                   verbose=False)),\n",
              "                ('dtc',\n",
              "                 DecisionTreeClassifier(ccp_alpha=0.0, class_weight=None,\n",
              "                                        criterion='gini', max_depth=None,\n",
              "                                        max_features=None, max_leaf_nodes=None,\n",
              "                                        min_impurity_decrease=0.0,\n",
              "                                        min_impurity_split=None,\n",
              "                                        min_samples_leaf=1, min_samples_split=2,\n",
              "                                        min_weight_fraction_leaf=0.0,\n",
              "                                        presort='deprecated', random_state=None,\n",
              "                                        splitter='best'))],\n",
              "         verbose=True)"
            ]
          },
          "metadata": {},
          "execution_count": 20
        }
      ]
    },
    {
      "cell_type": "code",
      "metadata": {
        "id": "7TgFk7sG6kmg"
      },
      "source": [
        "# Max depth of 50 provides a better score, this is much better than the previous score of around 0.2.\n",
        "# To improve score suggest increasing max depth even more\n",
        "grid = {'max_leaf_nodes': list(range(2, 100)), 'min_samples_split': [2, 3, 4]}\n",
        "\n",
        "\n",
        "model = GridSearchCV(DecisionTreeClassifier(random_state=42), grid, verbose=1, cv=3)\n"
      ],
      "execution_count": 21,
      "outputs": []
    },
    {
      "cell_type": "code",
      "metadata": {
        "colab": {
          "base_uri": "https://localhost:8080/"
        },
        "id": "luWT8GT76GrB",
        "outputId": "eadd72fd-38b9-405a-fb5c-8b43a72b2794"
      },
      "source": [
        "model.fit(X_train, y_train)\n"
      ],
      "execution_count": 22,
      "outputs": [
        {
          "output_type": "stream",
          "name": "stdout",
          "text": [
            "Fitting 3 folds for each of 294 candidates, totalling 882 fits\n"
          ]
        },
        {
          "output_type": "stream",
          "name": "stderr",
          "text": [
            "[Parallel(n_jobs=1)]: Using backend SequentialBackend with 1 concurrent workers.\n",
            "[Parallel(n_jobs=1)]: Done 882 out of 882 | elapsed:   45.7s finished\n"
          ]
        },
        {
          "output_type": "execute_result",
          "data": {
            "text/plain": [
              "GridSearchCV(cv=3, error_score=nan,\n",
              "             estimator=DecisionTreeClassifier(ccp_alpha=0.0, class_weight=None,\n",
              "                                              criterion='gini', max_depth=None,\n",
              "                                              max_features=None,\n",
              "                                              max_leaf_nodes=None,\n",
              "                                              min_impurity_decrease=0.0,\n",
              "                                              min_impurity_split=None,\n",
              "                                              min_samples_leaf=1,\n",
              "                                              min_samples_split=2,\n",
              "                                              min_weight_fraction_leaf=0.0,\n",
              "                                              presort='deprecated',\n",
              "                                              random_state=42,\n",
              "                                              splitter='best'),\n",
              "             iid='deprecated', n_jobs=None,\n",
              "             param_grid={'max_leaf_nodes': [2, 3, 4, 5, 6, 7, 8, 9, 10, 11, 12,\n",
              "                                            13, 14, 15, 16, 17, 18, 19, 20, 21,\n",
              "                                            22, 23, 24, 25, 26, 27, 28, 29, 30,\n",
              "                                            31, ...],\n",
              "                         'min_samples_split': [2, 3, 4]},\n",
              "             pre_dispatch='2*n_jobs', refit=True, return_train_score=False,\n",
              "             scoring=None, verbose=1)"
            ]
          },
          "metadata": {},
          "execution_count": 22
        }
      ]
    },
    {
      "cell_type": "code",
      "metadata": {
        "colab": {
          "base_uri": "https://localhost:8080/"
        },
        "id": "mVgRV3hW6GuC",
        "outputId": "e03d3078-69ae-4004-e9b8-4b9be4dba328"
      },
      "source": [
        "model.best_params_\n"
      ],
      "execution_count": 23,
      "outputs": [
        {
          "output_type": "execute_result",
          "data": {
            "text/plain": [
              "{'max_leaf_nodes': 99, 'min_samples_split': 2}"
            ]
          },
          "metadata": {},
          "execution_count": 23
        }
      ]
    },
    {
      "cell_type": "code",
      "metadata": {
        "colab": {
          "base_uri": "https://localhost:8080/"
        },
        "id": "NRnMEOPCnfrS",
        "outputId": "9f1990dd-41f7-4181-f51e-cbe2f28356f1"
      },
      "source": [
        "# Model still appears to be extremely overfitting\n",
        "train_score = model.score(X_train, y_train)\n",
        "test_score = model.score(X_test, y_test)\n",
        "\n",
        "print(f\"Train score: {train_score}\")\n",
        "print(f\"Test score: {test_score}\")\n"
      ],
      "execution_count": 24,
      "outputs": [
        {
          "output_type": "stream",
          "name": "stdout",
          "text": [
            "Train score: 0.8423957481602616\n",
            "Test score: 0.8406211687780957\n"
          ]
        }
      ]
    },
    {
      "cell_type": "code",
      "metadata": {
        "colab": {
          "base_uri": "https://localhost:8080/",
          "height": 414
        },
        "id": "eaO2sMZA6GwL",
        "outputId": "1de84e34-c83b-4b01-b4bf-b64d49d41018"
      },
      "source": [
        "y_pred = model.predict(X_test)\n",
        "\n",
        "con_mat = pd.DataFrame(\n",
        "    confusion_matrix(y_test, y_pred),\n",
        "    index=[\n",
        "        \"Actual M22-\",\n",
        "        \"Actual M23-26\",\n",
        "        \"Actual M27-28\",\n",
        "        \"Actual M29-31\",\n",
        "        \"Actual M32-38\",\n",
        "        \"Actual M39+\",\n",
        "        \"Actual F23-\",\n",
        "        \"Actual F24-26\",\n",
        "        \"Actual F27-28\",\n",
        "        \"Actual F29-32\",\n",
        "        \"Actual F33-42\",\n",
        "        \"Actual F43+\",\n",
        "    ],\n",
        "    columns=[\n",
        "        \"Predicted M22-\",\n",
        "        \"Predicted M23-26\",\n",
        "        \"Predicted M27-28\",\n",
        "        \"Predicted M29-31\",\n",
        "        \"Predicted M32-38\",\n",
        "        \"Predicted M39+\",\n",
        "        \"Predicted F23-\",\n",
        "        \"Predicted F24-26\",\n",
        "        \"Predicted F27-28\",\n",
        "        \"Predicted F29-32\",\n",
        "        \"Predicted F33-42\",\n",
        "        \"Predicted F43+\",\n",
        "    ],\n",
        ")\n",
        "con_mat.style.background_gradient(axis=None)\n"
      ],
      "execution_count": 25,
      "outputs": [
        {
          "output_type": "execute_result",
          "data": {
            "text/html": [
              "<style  type=\"text/css\" >\n",
              "#T_482ccfda_3856_11ec_baf8_0242ac1c0002row0_col0{\n",
              "            background-color:  #e1dfed;\n",
              "            color:  #000000;\n",
              "        }#T_482ccfda_3856_11ec_baf8_0242ac1c0002row0_col1,#T_482ccfda_3856_11ec_baf8_0242ac1c0002row0_col3,#T_482ccfda_3856_11ec_baf8_0242ac1c0002row0_col5,#T_482ccfda_3856_11ec_baf8_0242ac1c0002row0_col6,#T_482ccfda_3856_11ec_baf8_0242ac1c0002row0_col7,#T_482ccfda_3856_11ec_baf8_0242ac1c0002row0_col8,#T_482ccfda_3856_11ec_baf8_0242ac1c0002row0_col9,#T_482ccfda_3856_11ec_baf8_0242ac1c0002row1_col0,#T_482ccfda_3856_11ec_baf8_0242ac1c0002row1_col2,#T_482ccfda_3856_11ec_baf8_0242ac1c0002row1_col3,#T_482ccfda_3856_11ec_baf8_0242ac1c0002row1_col6,#T_482ccfda_3856_11ec_baf8_0242ac1c0002row1_col7,#T_482ccfda_3856_11ec_baf8_0242ac1c0002row1_col8,#T_482ccfda_3856_11ec_baf8_0242ac1c0002row1_col9,#T_482ccfda_3856_11ec_baf8_0242ac1c0002row1_col10,#T_482ccfda_3856_11ec_baf8_0242ac1c0002row2_col0,#T_482ccfda_3856_11ec_baf8_0242ac1c0002row2_col6,#T_482ccfda_3856_11ec_baf8_0242ac1c0002row2_col7,#T_482ccfda_3856_11ec_baf8_0242ac1c0002row2_col8,#T_482ccfda_3856_11ec_baf8_0242ac1c0002row2_col9,#T_482ccfda_3856_11ec_baf8_0242ac1c0002row2_col10,#T_482ccfda_3856_11ec_baf8_0242ac1c0002row2_col11,#T_482ccfda_3856_11ec_baf8_0242ac1c0002row3_col0,#T_482ccfda_3856_11ec_baf8_0242ac1c0002row3_col1,#T_482ccfda_3856_11ec_baf8_0242ac1c0002row3_col6,#T_482ccfda_3856_11ec_baf8_0242ac1c0002row3_col7,#T_482ccfda_3856_11ec_baf8_0242ac1c0002row3_col8,#T_482ccfda_3856_11ec_baf8_0242ac1c0002row3_col9,#T_482ccfda_3856_11ec_baf8_0242ac1c0002row3_col10,#T_482ccfda_3856_11ec_baf8_0242ac1c0002row3_col11,#T_482ccfda_3856_11ec_baf8_0242ac1c0002row4_col0,#T_482ccfda_3856_11ec_baf8_0242ac1c0002row4_col1,#T_482ccfda_3856_11ec_baf8_0242ac1c0002row4_col2,#T_482ccfda_3856_11ec_baf8_0242ac1c0002row4_col6,#T_482ccfda_3856_11ec_baf8_0242ac1c0002row4_col7,#T_482ccfda_3856_11ec_baf8_0242ac1c0002row4_col9,#T_482ccfda_3856_11ec_baf8_0242ac1c0002row4_col10,#T_482ccfda_3856_11ec_baf8_0242ac1c0002row4_col11,#T_482ccfda_3856_11ec_baf8_0242ac1c0002row5_col1,#T_482ccfda_3856_11ec_baf8_0242ac1c0002row5_col2,#T_482ccfda_3856_11ec_baf8_0242ac1c0002row5_col3,#T_482ccfda_3856_11ec_baf8_0242ac1c0002row5_col6,#T_482ccfda_3856_11ec_baf8_0242ac1c0002row5_col7,#T_482ccfda_3856_11ec_baf8_0242ac1c0002row5_col8,#T_482ccfda_3856_11ec_baf8_0242ac1c0002row5_col9,#T_482ccfda_3856_11ec_baf8_0242ac1c0002row5_col10,#T_482ccfda_3856_11ec_baf8_0242ac1c0002row6_col0,#T_482ccfda_3856_11ec_baf8_0242ac1c0002row6_col1,#T_482ccfda_3856_11ec_baf8_0242ac1c0002row6_col2,#T_482ccfda_3856_11ec_baf8_0242ac1c0002row6_col3,#T_482ccfda_3856_11ec_baf8_0242ac1c0002row6_col5,#T_482ccfda_3856_11ec_baf8_0242ac1c0002row6_col7,#T_482ccfda_3856_11ec_baf8_0242ac1c0002row6_col8,#T_482ccfda_3856_11ec_baf8_0242ac1c0002row6_col9,#T_482ccfda_3856_11ec_baf8_0242ac1c0002row6_col10,#T_482ccfda_3856_11ec_baf8_0242ac1c0002row6_col11,#T_482ccfda_3856_11ec_baf8_0242ac1c0002row7_col0,#T_482ccfda_3856_11ec_baf8_0242ac1c0002row7_col1,#T_482ccfda_3856_11ec_baf8_0242ac1c0002row7_col2,#T_482ccfda_3856_11ec_baf8_0242ac1c0002row7_col3,#T_482ccfda_3856_11ec_baf8_0242ac1c0002row7_col5,#T_482ccfda_3856_11ec_baf8_0242ac1c0002row7_col6,#T_482ccfda_3856_11ec_baf8_0242ac1c0002row7_col8,#T_482ccfda_3856_11ec_baf8_0242ac1c0002row7_col9,#T_482ccfda_3856_11ec_baf8_0242ac1c0002row7_col10,#T_482ccfda_3856_11ec_baf8_0242ac1c0002row7_col11,#T_482ccfda_3856_11ec_baf8_0242ac1c0002row8_col0,#T_482ccfda_3856_11ec_baf8_0242ac1c0002row8_col2,#T_482ccfda_3856_11ec_baf8_0242ac1c0002row8_col5,#T_482ccfda_3856_11ec_baf8_0242ac1c0002row8_col6,#T_482ccfda_3856_11ec_baf8_0242ac1c0002row8_col7,#T_482ccfda_3856_11ec_baf8_0242ac1c0002row8_col9,#T_482ccfda_3856_11ec_baf8_0242ac1c0002row8_col10,#T_482ccfda_3856_11ec_baf8_0242ac1c0002row8_col11,#T_482ccfda_3856_11ec_baf8_0242ac1c0002row9_col0,#T_482ccfda_3856_11ec_baf8_0242ac1c0002row9_col1,#T_482ccfda_3856_11ec_baf8_0242ac1c0002row9_col2,#T_482ccfda_3856_11ec_baf8_0242ac1c0002row9_col4,#T_482ccfda_3856_11ec_baf8_0242ac1c0002row9_col5,#T_482ccfda_3856_11ec_baf8_0242ac1c0002row9_col6,#T_482ccfda_3856_11ec_baf8_0242ac1c0002row9_col7,#T_482ccfda_3856_11ec_baf8_0242ac1c0002row9_col8,#T_482ccfda_3856_11ec_baf8_0242ac1c0002row9_col10,#T_482ccfda_3856_11ec_baf8_0242ac1c0002row9_col11,#T_482ccfda_3856_11ec_baf8_0242ac1c0002row10_col0,#T_482ccfda_3856_11ec_baf8_0242ac1c0002row10_col1,#T_482ccfda_3856_11ec_baf8_0242ac1c0002row10_col2,#T_482ccfda_3856_11ec_baf8_0242ac1c0002row10_col4,#T_482ccfda_3856_11ec_baf8_0242ac1c0002row10_col6,#T_482ccfda_3856_11ec_baf8_0242ac1c0002row10_col7,#T_482ccfda_3856_11ec_baf8_0242ac1c0002row10_col8,#T_482ccfda_3856_11ec_baf8_0242ac1c0002row10_col9,#T_482ccfda_3856_11ec_baf8_0242ac1c0002row10_col11,#T_482ccfda_3856_11ec_baf8_0242ac1c0002row11_col0,#T_482ccfda_3856_11ec_baf8_0242ac1c0002row11_col3,#T_482ccfda_3856_11ec_baf8_0242ac1c0002row11_col6,#T_482ccfda_3856_11ec_baf8_0242ac1c0002row11_col7,#T_482ccfda_3856_11ec_baf8_0242ac1c0002row11_col8,#T_482ccfda_3856_11ec_baf8_0242ac1c0002row11_col9,#T_482ccfda_3856_11ec_baf8_0242ac1c0002row11_col10{\n",
              "            background-color:  #fff7fb;\n",
              "            color:  #000000;\n",
              "        }#T_482ccfda_3856_11ec_baf8_0242ac1c0002row0_col2,#T_482ccfda_3856_11ec_baf8_0242ac1c0002row2_col1,#T_482ccfda_3856_11ec_baf8_0242ac1c0002row2_col3,#T_482ccfda_3856_11ec_baf8_0242ac1c0002row2_col5{\n",
              "            background-color:  #fef6fa;\n",
              "            color:  #000000;\n",
              "        }#T_482ccfda_3856_11ec_baf8_0242ac1c0002row0_col4,#T_482ccfda_3856_11ec_baf8_0242ac1c0002row3_col4,#T_482ccfda_3856_11ec_baf8_0242ac1c0002row4_col3{\n",
              "            background-color:  #faf3f9;\n",
              "            color:  #000000;\n",
              "        }#T_482ccfda_3856_11ec_baf8_0242ac1c0002row0_col10,#T_482ccfda_3856_11ec_baf8_0242ac1c0002row3_col2,#T_482ccfda_3856_11ec_baf8_0242ac1c0002row4_col8,#T_482ccfda_3856_11ec_baf8_0242ac1c0002row5_col0,#T_482ccfda_3856_11ec_baf8_0242ac1c0002row6_col4,#T_482ccfda_3856_11ec_baf8_0242ac1c0002row7_col4,#T_482ccfda_3856_11ec_baf8_0242ac1c0002row8_col3,#T_482ccfda_3856_11ec_baf8_0242ac1c0002row9_col3,#T_482ccfda_3856_11ec_baf8_0242ac1c0002row11_col2,#T_482ccfda_3856_11ec_baf8_0242ac1c0002row11_col4{\n",
              "            background-color:  #fdf5fa;\n",
              "            color:  #000000;\n",
              "        }#T_482ccfda_3856_11ec_baf8_0242ac1c0002row0_col11,#T_482ccfda_3856_11ec_baf8_0242ac1c0002row1_col11,#T_482ccfda_3856_11ec_baf8_0242ac1c0002row5_col4,#T_482ccfda_3856_11ec_baf8_0242ac1c0002row10_col3,#T_482ccfda_3856_11ec_baf8_0242ac1c0002row11_col1{\n",
              "            background-color:  #fef6fb;\n",
              "            color:  #000000;\n",
              "        }#T_482ccfda_3856_11ec_baf8_0242ac1c0002row1_col1{\n",
              "            background-color:  #9ab8d8;\n",
              "            color:  #000000;\n",
              "        }#T_482ccfda_3856_11ec_baf8_0242ac1c0002row1_col4,#T_482ccfda_3856_11ec_baf8_0242ac1c0002row5_col11{\n",
              "            background-color:  #fbf3f9;\n",
              "            color:  #000000;\n",
              "        }#T_482ccfda_3856_11ec_baf8_0242ac1c0002row1_col5,#T_482ccfda_3856_11ec_baf8_0242ac1c0002row4_col5,#T_482ccfda_3856_11ec_baf8_0242ac1c0002row8_col1{\n",
              "            background-color:  #fcf4fa;\n",
              "            color:  #000000;\n",
              "        }#T_482ccfda_3856_11ec_baf8_0242ac1c0002row2_col2{\n",
              "            background-color:  #ced0e6;\n",
              "            color:  #000000;\n",
              "        }#T_482ccfda_3856_11ec_baf8_0242ac1c0002row2_col4,#T_482ccfda_3856_11ec_baf8_0242ac1c0002row7_col7{\n",
              "            background-color:  #faf2f8;\n",
              "            color:  #000000;\n",
              "        }#T_482ccfda_3856_11ec_baf8_0242ac1c0002row3_col3{\n",
              "            background-color:  #b1c2de;\n",
              "            color:  #000000;\n",
              "        }#T_482ccfda_3856_11ec_baf8_0242ac1c0002row3_col5{\n",
              "            background-color:  #eee8f3;\n",
              "            color:  #000000;\n",
              "        }#T_482ccfda_3856_11ec_baf8_0242ac1c0002row4_col4{\n",
              "            background-color:  #034b76;\n",
              "            color:  #f1f1f1;\n",
              "        }#T_482ccfda_3856_11ec_baf8_0242ac1c0002row5_col5{\n",
              "            background-color:  #023858;\n",
              "            color:  #f1f1f1;\n",
              "        }#T_482ccfda_3856_11ec_baf8_0242ac1c0002row6_col6{\n",
              "            background-color:  #f7f0f7;\n",
              "            color:  #000000;\n",
              "        }#T_482ccfda_3856_11ec_baf8_0242ac1c0002row8_col4{\n",
              "            background-color:  #fbf4f9;\n",
              "            color:  #000000;\n",
              "        }#T_482ccfda_3856_11ec_baf8_0242ac1c0002row8_col8,#T_482ccfda_3856_11ec_baf8_0242ac1c0002row11_col5{\n",
              "            background-color:  #f9f2f8;\n",
              "            color:  #000000;\n",
              "        }#T_482ccfda_3856_11ec_baf8_0242ac1c0002row9_col9{\n",
              "            background-color:  #eae6f1;\n",
              "            color:  #000000;\n",
              "        }#T_482ccfda_3856_11ec_baf8_0242ac1c0002row10_col5{\n",
              "            background-color:  #f8f1f8;\n",
              "            color:  #000000;\n",
              "        }#T_482ccfda_3856_11ec_baf8_0242ac1c0002row10_col10{\n",
              "            background-color:  #dcdaeb;\n",
              "            color:  #000000;\n",
              "        }#T_482ccfda_3856_11ec_baf8_0242ac1c0002row11_col11{\n",
              "            background-color:  #d3d4e7;\n",
              "            color:  #000000;\n",
              "        }</style><table id=\"T_482ccfda_3856_11ec_baf8_0242ac1c0002\" class=\"dataframe\"><thead>    <tr>        <th class=\"blank level0\" ></th>        <th class=\"col_heading level0 col0\" >Predicted M22-</th>        <th class=\"col_heading level0 col1\" >Predicted M23-26</th>        <th class=\"col_heading level0 col2\" >Predicted M27-28</th>        <th class=\"col_heading level0 col3\" >Predicted M29-31</th>        <th class=\"col_heading level0 col4\" >Predicted M32-38</th>        <th class=\"col_heading level0 col5\" >Predicted M39+</th>        <th class=\"col_heading level0 col6\" >Predicted F23-</th>        <th class=\"col_heading level0 col7\" >Predicted F24-26</th>        <th class=\"col_heading level0 col8\" >Predicted F27-28</th>        <th class=\"col_heading level0 col9\" >Predicted F29-32</th>        <th class=\"col_heading level0 col10\" >Predicted F33-42</th>        <th class=\"col_heading level0 col11\" >Predicted F43+</th>    </tr></thead><tbody>\n",
              "                <tr>\n",
              "                        <th id=\"T_482ccfda_3856_11ec_baf8_0242ac1c0002level0_row0\" class=\"row_heading level0 row0\" >Actual M22-</th>\n",
              "                        <td id=\"T_482ccfda_3856_11ec_baf8_0242ac1c0002row0_col0\" class=\"data row0 col0\" >93</td>\n",
              "                        <td id=\"T_482ccfda_3856_11ec_baf8_0242ac1c0002row0_col1\" class=\"data row0 col1\" >0</td>\n",
              "                        <td id=\"T_482ccfda_3856_11ec_baf8_0242ac1c0002row0_col2\" class=\"data row0 col2\" >5</td>\n",
              "                        <td id=\"T_482ccfda_3856_11ec_baf8_0242ac1c0002row0_col3\" class=\"data row0 col3\" >0</td>\n",
              "                        <td id=\"T_482ccfda_3856_11ec_baf8_0242ac1c0002row0_col4\" class=\"data row0 col4\" >18</td>\n",
              "                        <td id=\"T_482ccfda_3856_11ec_baf8_0242ac1c0002row0_col5\" class=\"data row0 col5\" >0</td>\n",
              "                        <td id=\"T_482ccfda_3856_11ec_baf8_0242ac1c0002row0_col6\" class=\"data row0 col6\" >0</td>\n",
              "                        <td id=\"T_482ccfda_3856_11ec_baf8_0242ac1c0002row0_col7\" class=\"data row0 col7\" >0</td>\n",
              "                        <td id=\"T_482ccfda_3856_11ec_baf8_0242ac1c0002row0_col8\" class=\"data row0 col8\" >0</td>\n",
              "                        <td id=\"T_482ccfda_3856_11ec_baf8_0242ac1c0002row0_col9\" class=\"data row0 col9\" >0</td>\n",
              "                        <td id=\"T_482ccfda_3856_11ec_baf8_0242ac1c0002row0_col10\" class=\"data row0 col10\" >7</td>\n",
              "                        <td id=\"T_482ccfda_3856_11ec_baf8_0242ac1c0002row0_col11\" class=\"data row0 col11\" >4</td>\n",
              "            </tr>\n",
              "            <tr>\n",
              "                        <th id=\"T_482ccfda_3856_11ec_baf8_0242ac1c0002level0_row1\" class=\"row_heading level0 row1\" >Actual M23-26</th>\n",
              "                        <td id=\"T_482ccfda_3856_11ec_baf8_0242ac1c0002row1_col0\" class=\"data row1 col0\" >0</td>\n",
              "                        <td id=\"T_482ccfda_3856_11ec_baf8_0242ac1c0002row1_col1\" class=\"data row1 col1\" >219</td>\n",
              "                        <td id=\"T_482ccfda_3856_11ec_baf8_0242ac1c0002row1_col2\" class=\"data row1 col2\" >0</td>\n",
              "                        <td id=\"T_482ccfda_3856_11ec_baf8_0242ac1c0002row1_col3\" class=\"data row1 col3\" >0</td>\n",
              "                        <td id=\"T_482ccfda_3856_11ec_baf8_0242ac1c0002row1_col4\" class=\"data row1 col4\" >16</td>\n",
              "                        <td id=\"T_482ccfda_3856_11ec_baf8_0242ac1c0002row1_col5\" class=\"data row1 col5\" >11</td>\n",
              "                        <td id=\"T_482ccfda_3856_11ec_baf8_0242ac1c0002row1_col6\" class=\"data row1 col6\" >0</td>\n",
              "                        <td id=\"T_482ccfda_3856_11ec_baf8_0242ac1c0002row1_col7\" class=\"data row1 col7\" >0</td>\n",
              "                        <td id=\"T_482ccfda_3856_11ec_baf8_0242ac1c0002row1_col8\" class=\"data row1 col8\" >0</td>\n",
              "                        <td id=\"T_482ccfda_3856_11ec_baf8_0242ac1c0002row1_col9\" class=\"data row1 col9\" >0</td>\n",
              "                        <td id=\"T_482ccfda_3856_11ec_baf8_0242ac1c0002row1_col10\" class=\"data row1 col10\" >0</td>\n",
              "                        <td id=\"T_482ccfda_3856_11ec_baf8_0242ac1c0002row1_col11\" class=\"data row1 col11\" >4</td>\n",
              "            </tr>\n",
              "            <tr>\n",
              "                        <th id=\"T_482ccfda_3856_11ec_baf8_0242ac1c0002level0_row2\" class=\"row_heading level0 row2\" >Actual M27-28</th>\n",
              "                        <td id=\"T_482ccfda_3856_11ec_baf8_0242ac1c0002row2_col0\" class=\"data row2 col0\" >0</td>\n",
              "                        <td id=\"T_482ccfda_3856_11ec_baf8_0242ac1c0002row2_col1\" class=\"data row2 col1\" >5</td>\n",
              "                        <td id=\"T_482ccfda_3856_11ec_baf8_0242ac1c0002row2_col2\" class=\"data row2 col2\" >139</td>\n",
              "                        <td id=\"T_482ccfda_3856_11ec_baf8_0242ac1c0002row2_col3\" class=\"data row2 col3\" >6</td>\n",
              "                        <td id=\"T_482ccfda_3856_11ec_baf8_0242ac1c0002row2_col4\" class=\"data row2 col4\" >21</td>\n",
              "                        <td id=\"T_482ccfda_3856_11ec_baf8_0242ac1c0002row2_col5\" class=\"data row2 col5\" >6</td>\n",
              "                        <td id=\"T_482ccfda_3856_11ec_baf8_0242ac1c0002row2_col6\" class=\"data row2 col6\" >0</td>\n",
              "                        <td id=\"T_482ccfda_3856_11ec_baf8_0242ac1c0002row2_col7\" class=\"data row2 col7\" >0</td>\n",
              "                        <td id=\"T_482ccfda_3856_11ec_baf8_0242ac1c0002row2_col8\" class=\"data row2 col8\" >0</td>\n",
              "                        <td id=\"T_482ccfda_3856_11ec_baf8_0242ac1c0002row2_col9\" class=\"data row2 col9\" >0</td>\n",
              "                        <td id=\"T_482ccfda_3856_11ec_baf8_0242ac1c0002row2_col10\" class=\"data row2 col10\" >0</td>\n",
              "                        <td id=\"T_482ccfda_3856_11ec_baf8_0242ac1c0002row2_col11\" class=\"data row2 col11\" >0</td>\n",
              "            </tr>\n",
              "            <tr>\n",
              "                        <th id=\"T_482ccfda_3856_11ec_baf8_0242ac1c0002level0_row3\" class=\"row_heading level0 row3\" >Actual M29-31</th>\n",
              "                        <td id=\"T_482ccfda_3856_11ec_baf8_0242ac1c0002row3_col0\" class=\"data row3 col0\" >0</td>\n",
              "                        <td id=\"T_482ccfda_3856_11ec_baf8_0242ac1c0002row3_col1\" class=\"data row3 col1\" >0</td>\n",
              "                        <td id=\"T_482ccfda_3856_11ec_baf8_0242ac1c0002row3_col2\" class=\"data row3 col2\" >8</td>\n",
              "                        <td id=\"T_482ccfda_3856_11ec_baf8_0242ac1c0002row3_col3\" class=\"data row3 col3\" >184</td>\n",
              "                        <td id=\"T_482ccfda_3856_11ec_baf8_0242ac1c0002row3_col4\" class=\"data row3 col4\" >18</td>\n",
              "                        <td id=\"T_482ccfda_3856_11ec_baf8_0242ac1c0002row3_col5\" class=\"data row3 col5\" >63</td>\n",
              "                        <td id=\"T_482ccfda_3856_11ec_baf8_0242ac1c0002row3_col6\" class=\"data row3 col6\" >0</td>\n",
              "                        <td id=\"T_482ccfda_3856_11ec_baf8_0242ac1c0002row3_col7\" class=\"data row3 col7\" >0</td>\n",
              "                        <td id=\"T_482ccfda_3856_11ec_baf8_0242ac1c0002row3_col8\" class=\"data row3 col8\" >0</td>\n",
              "                        <td id=\"T_482ccfda_3856_11ec_baf8_0242ac1c0002row3_col9\" class=\"data row3 col9\" >0</td>\n",
              "                        <td id=\"T_482ccfda_3856_11ec_baf8_0242ac1c0002row3_col10\" class=\"data row3 col10\" >0</td>\n",
              "                        <td id=\"T_482ccfda_3856_11ec_baf8_0242ac1c0002row3_col11\" class=\"data row3 col11\" >0</td>\n",
              "            </tr>\n",
              "            <tr>\n",
              "                        <th id=\"T_482ccfda_3856_11ec_baf8_0242ac1c0002level0_row4\" class=\"row_heading level0 row4\" >Actual M32-38</th>\n",
              "                        <td id=\"T_482ccfda_3856_11ec_baf8_0242ac1c0002row4_col0\" class=\"data row4 col0\" >0</td>\n",
              "                        <td id=\"T_482ccfda_3856_11ec_baf8_0242ac1c0002row4_col1\" class=\"data row4 col1\" >0</td>\n",
              "                        <td id=\"T_482ccfda_3856_11ec_baf8_0242ac1c0002row4_col2\" class=\"data row4 col2\" >0</td>\n",
              "                        <td id=\"T_482ccfda_3856_11ec_baf8_0242ac1c0002row4_col3\" class=\"data row4 col3\" >17</td>\n",
              "                        <td id=\"T_482ccfda_3856_11ec_baf8_0242ac1c0002row4_col4\" class=\"data row4 col4\" >502</td>\n",
              "                        <td id=\"T_482ccfda_3856_11ec_baf8_0242ac1c0002row4_col5\" class=\"data row4 col5\" >12</td>\n",
              "                        <td id=\"T_482ccfda_3856_11ec_baf8_0242ac1c0002row4_col6\" class=\"data row4 col6\" >0</td>\n",
              "                        <td id=\"T_482ccfda_3856_11ec_baf8_0242ac1c0002row4_col7\" class=\"data row4 col7\" >0</td>\n",
              "                        <td id=\"T_482ccfda_3856_11ec_baf8_0242ac1c0002row4_col8\" class=\"data row4 col8\" >7</td>\n",
              "                        <td id=\"T_482ccfda_3856_11ec_baf8_0242ac1c0002row4_col9\" class=\"data row4 col9\" >0</td>\n",
              "                        <td id=\"T_482ccfda_3856_11ec_baf8_0242ac1c0002row4_col10\" class=\"data row4 col10\" >0</td>\n",
              "                        <td id=\"T_482ccfda_3856_11ec_baf8_0242ac1c0002row4_col11\" class=\"data row4 col11\" >0</td>\n",
              "            </tr>\n",
              "            <tr>\n",
              "                        <th id=\"T_482ccfda_3856_11ec_baf8_0242ac1c0002level0_row5\" class=\"row_heading level0 row5\" >Actual M39+</th>\n",
              "                        <td id=\"T_482ccfda_3856_11ec_baf8_0242ac1c0002row5_col0\" class=\"data row5 col0\" >9</td>\n",
              "                        <td id=\"T_482ccfda_3856_11ec_baf8_0242ac1c0002row5_col1\" class=\"data row5 col1\" >0</td>\n",
              "                        <td id=\"T_482ccfda_3856_11ec_baf8_0242ac1c0002row5_col2\" class=\"data row5 col2\" >2</td>\n",
              "                        <td id=\"T_482ccfda_3856_11ec_baf8_0242ac1c0002row5_col3\" class=\"data row5 col3\" >0</td>\n",
              "                        <td id=\"T_482ccfda_3856_11ec_baf8_0242ac1c0002row5_col4\" class=\"data row5 col4\" >3</td>\n",
              "                        <td id=\"T_482ccfda_3856_11ec_baf8_0242ac1c0002row5_col5\" class=\"data row5 col5\" >540</td>\n",
              "                        <td id=\"T_482ccfda_3856_11ec_baf8_0242ac1c0002row5_col6\" class=\"data row5 col6\" >0</td>\n",
              "                        <td id=\"T_482ccfda_3856_11ec_baf8_0242ac1c0002row5_col7\" class=\"data row5 col7\" >0</td>\n",
              "                        <td id=\"T_482ccfda_3856_11ec_baf8_0242ac1c0002row5_col8\" class=\"data row5 col8\" >0</td>\n",
              "                        <td id=\"T_482ccfda_3856_11ec_baf8_0242ac1c0002row5_col9\" class=\"data row5 col9\" >0</td>\n",
              "                        <td id=\"T_482ccfda_3856_11ec_baf8_0242ac1c0002row5_col10\" class=\"data row5 col10\" >0</td>\n",
              "                        <td id=\"T_482ccfda_3856_11ec_baf8_0242ac1c0002row5_col11\" class=\"data row5 col11\" >15</td>\n",
              "            </tr>\n",
              "            <tr>\n",
              "                        <th id=\"T_482ccfda_3856_11ec_baf8_0242ac1c0002level0_row6\" class=\"row_heading level0 row6\" >Actual F23-</th>\n",
              "                        <td id=\"T_482ccfda_3856_11ec_baf8_0242ac1c0002row6_col0\" class=\"data row6 col0\" >0</td>\n",
              "                        <td id=\"T_482ccfda_3856_11ec_baf8_0242ac1c0002row6_col1\" class=\"data row6 col1\" >0</td>\n",
              "                        <td id=\"T_482ccfda_3856_11ec_baf8_0242ac1c0002row6_col2\" class=\"data row6 col2\" >0</td>\n",
              "                        <td id=\"T_482ccfda_3856_11ec_baf8_0242ac1c0002row6_col3\" class=\"data row6 col3\" >0</td>\n",
              "                        <td id=\"T_482ccfda_3856_11ec_baf8_0242ac1c0002row6_col4\" class=\"data row6 col4\" >10</td>\n",
              "                        <td id=\"T_482ccfda_3856_11ec_baf8_0242ac1c0002row6_col5\" class=\"data row6 col5\" >0</td>\n",
              "                        <td id=\"T_482ccfda_3856_11ec_baf8_0242ac1c0002row6_col6\" class=\"data row6 col6\" >29</td>\n",
              "                        <td id=\"T_482ccfda_3856_11ec_baf8_0242ac1c0002row6_col7\" class=\"data row6 col7\" >0</td>\n",
              "                        <td id=\"T_482ccfda_3856_11ec_baf8_0242ac1c0002row6_col8\" class=\"data row6 col8\" >0</td>\n",
              "                        <td id=\"T_482ccfda_3856_11ec_baf8_0242ac1c0002row6_col9\" class=\"data row6 col9\" >0</td>\n",
              "                        <td id=\"T_482ccfda_3856_11ec_baf8_0242ac1c0002row6_col10\" class=\"data row6 col10\" >0</td>\n",
              "                        <td id=\"T_482ccfda_3856_11ec_baf8_0242ac1c0002row6_col11\" class=\"data row6 col11\" >0</td>\n",
              "            </tr>\n",
              "            <tr>\n",
              "                        <th id=\"T_482ccfda_3856_11ec_baf8_0242ac1c0002level0_row7\" class=\"row_heading level0 row7\" >Actual F24-26</th>\n",
              "                        <td id=\"T_482ccfda_3856_11ec_baf8_0242ac1c0002row7_col0\" class=\"data row7 col0\" >0</td>\n",
              "                        <td id=\"T_482ccfda_3856_11ec_baf8_0242ac1c0002row7_col1\" class=\"data row7 col1\" >0</td>\n",
              "                        <td id=\"T_482ccfda_3856_11ec_baf8_0242ac1c0002row7_col2\" class=\"data row7 col2\" >0</td>\n",
              "                        <td id=\"T_482ccfda_3856_11ec_baf8_0242ac1c0002row7_col3\" class=\"data row7 col3\" >0</td>\n",
              "                        <td id=\"T_482ccfda_3856_11ec_baf8_0242ac1c0002row7_col4\" class=\"data row7 col4\" >8</td>\n",
              "                        <td id=\"T_482ccfda_3856_11ec_baf8_0242ac1c0002row7_col5\" class=\"data row7 col5\" >0</td>\n",
              "                        <td id=\"T_482ccfda_3856_11ec_baf8_0242ac1c0002row7_col6\" class=\"data row7 col6\" >0</td>\n",
              "                        <td id=\"T_482ccfda_3856_11ec_baf8_0242ac1c0002row7_col7\" class=\"data row7 col7\" >20</td>\n",
              "                        <td id=\"T_482ccfda_3856_11ec_baf8_0242ac1c0002row7_col8\" class=\"data row7 col8\" >0</td>\n",
              "                        <td id=\"T_482ccfda_3856_11ec_baf8_0242ac1c0002row7_col9\" class=\"data row7 col9\" >0</td>\n",
              "                        <td id=\"T_482ccfda_3856_11ec_baf8_0242ac1c0002row7_col10\" class=\"data row7 col10\" >0</td>\n",
              "                        <td id=\"T_482ccfda_3856_11ec_baf8_0242ac1c0002row7_col11\" class=\"data row7 col11\" >0</td>\n",
              "            </tr>\n",
              "            <tr>\n",
              "                        <th id=\"T_482ccfda_3856_11ec_baf8_0242ac1c0002level0_row8\" class=\"row_heading level0 row8\" >Actual F27-28</th>\n",
              "                        <td id=\"T_482ccfda_3856_11ec_baf8_0242ac1c0002row8_col0\" class=\"data row8 col0\" >0</td>\n",
              "                        <td id=\"T_482ccfda_3856_11ec_baf8_0242ac1c0002row8_col1\" class=\"data row8 col1\" >11</td>\n",
              "                        <td id=\"T_482ccfda_3856_11ec_baf8_0242ac1c0002row8_col2\" class=\"data row8 col2\" >0</td>\n",
              "                        <td id=\"T_482ccfda_3856_11ec_baf8_0242ac1c0002row8_col3\" class=\"data row8 col3\" >8</td>\n",
              "                        <td id=\"T_482ccfda_3856_11ec_baf8_0242ac1c0002row8_col4\" class=\"data row8 col4\" >14</td>\n",
              "                        <td id=\"T_482ccfda_3856_11ec_baf8_0242ac1c0002row8_col5\" class=\"data row8 col5\" >0</td>\n",
              "                        <td id=\"T_482ccfda_3856_11ec_baf8_0242ac1c0002row8_col6\" class=\"data row8 col6\" >0</td>\n",
              "                        <td id=\"T_482ccfda_3856_11ec_baf8_0242ac1c0002row8_col7\" class=\"data row8 col7\" >0</td>\n",
              "                        <td id=\"T_482ccfda_3856_11ec_baf8_0242ac1c0002row8_col8\" class=\"data row8 col8\" >23</td>\n",
              "                        <td id=\"T_482ccfda_3856_11ec_baf8_0242ac1c0002row8_col9\" class=\"data row8 col9\" >0</td>\n",
              "                        <td id=\"T_482ccfda_3856_11ec_baf8_0242ac1c0002row8_col10\" class=\"data row8 col10\" >0</td>\n",
              "                        <td id=\"T_482ccfda_3856_11ec_baf8_0242ac1c0002row8_col11\" class=\"data row8 col11\" >0</td>\n",
              "            </tr>\n",
              "            <tr>\n",
              "                        <th id=\"T_482ccfda_3856_11ec_baf8_0242ac1c0002level0_row9\" class=\"row_heading level0 row9\" >Actual F29-32</th>\n",
              "                        <td id=\"T_482ccfda_3856_11ec_baf8_0242ac1c0002row9_col0\" class=\"data row9 col0\" >0</td>\n",
              "                        <td id=\"T_482ccfda_3856_11ec_baf8_0242ac1c0002row9_col1\" class=\"data row9 col1\" >0</td>\n",
              "                        <td id=\"T_482ccfda_3856_11ec_baf8_0242ac1c0002row9_col2\" class=\"data row9 col2\" >0</td>\n",
              "                        <td id=\"T_482ccfda_3856_11ec_baf8_0242ac1c0002row9_col3\" class=\"data row9 col3\" >8</td>\n",
              "                        <td id=\"T_482ccfda_3856_11ec_baf8_0242ac1c0002row9_col4\" class=\"data row9 col4\" >0</td>\n",
              "                        <td id=\"T_482ccfda_3856_11ec_baf8_0242ac1c0002row9_col5\" class=\"data row9 col5\" >0</td>\n",
              "                        <td id=\"T_482ccfda_3856_11ec_baf8_0242ac1c0002row9_col6\" class=\"data row9 col6\" >0</td>\n",
              "                        <td id=\"T_482ccfda_3856_11ec_baf8_0242ac1c0002row9_col7\" class=\"data row9 col7\" >0</td>\n",
              "                        <td id=\"T_482ccfda_3856_11ec_baf8_0242ac1c0002row9_col8\" class=\"data row9 col8\" >0</td>\n",
              "                        <td id=\"T_482ccfda_3856_11ec_baf8_0242ac1c0002row9_col9\" class=\"data row9 col9\" >73</td>\n",
              "                        <td id=\"T_482ccfda_3856_11ec_baf8_0242ac1c0002row9_col10\" class=\"data row9 col10\" >0</td>\n",
              "                        <td id=\"T_482ccfda_3856_11ec_baf8_0242ac1c0002row9_col11\" class=\"data row9 col11\" >0</td>\n",
              "            </tr>\n",
              "            <tr>\n",
              "                        <th id=\"T_482ccfda_3856_11ec_baf8_0242ac1c0002level0_row10\" class=\"row_heading level0 row10\" >Actual F33-42</th>\n",
              "                        <td id=\"T_482ccfda_3856_11ec_baf8_0242ac1c0002row10_col0\" class=\"data row10 col0\" >0</td>\n",
              "                        <td id=\"T_482ccfda_3856_11ec_baf8_0242ac1c0002row10_col1\" class=\"data row10 col1\" >0</td>\n",
              "                        <td id=\"T_482ccfda_3856_11ec_baf8_0242ac1c0002row10_col2\" class=\"data row10 col2\" >0</td>\n",
              "                        <td id=\"T_482ccfda_3856_11ec_baf8_0242ac1c0002row10_col3\" class=\"data row10 col3\" >3</td>\n",
              "                        <td id=\"T_482ccfda_3856_11ec_baf8_0242ac1c0002row10_col4\" class=\"data row10 col4\" >0</td>\n",
              "                        <td id=\"T_482ccfda_3856_11ec_baf8_0242ac1c0002row10_col5\" class=\"data row10 col5\" >27</td>\n",
              "                        <td id=\"T_482ccfda_3856_11ec_baf8_0242ac1c0002row10_col6\" class=\"data row10 col6\" >0</td>\n",
              "                        <td id=\"T_482ccfda_3856_11ec_baf8_0242ac1c0002row10_col7\" class=\"data row10 col7\" >0</td>\n",
              "                        <td id=\"T_482ccfda_3856_11ec_baf8_0242ac1c0002row10_col8\" class=\"data row10 col8\" >0</td>\n",
              "                        <td id=\"T_482ccfda_3856_11ec_baf8_0242ac1c0002row10_col9\" class=\"data row10 col9\" >0</td>\n",
              "                        <td id=\"T_482ccfda_3856_11ec_baf8_0242ac1c0002row10_col10\" class=\"data row10 col10\" >107</td>\n",
              "                        <td id=\"T_482ccfda_3856_11ec_baf8_0242ac1c0002row10_col11\" class=\"data row10 col11\" >0</td>\n",
              "            </tr>\n",
              "            <tr>\n",
              "                        <th id=\"T_482ccfda_3856_11ec_baf8_0242ac1c0002level0_row11\" class=\"row_heading level0 row11\" >Actual F43+</th>\n",
              "                        <td id=\"T_482ccfda_3856_11ec_baf8_0242ac1c0002row11_col0\" class=\"data row11 col0\" >0</td>\n",
              "                        <td id=\"T_482ccfda_3856_11ec_baf8_0242ac1c0002row11_col1\" class=\"data row11 col1\" >4</td>\n",
              "                        <td id=\"T_482ccfda_3856_11ec_baf8_0242ac1c0002row11_col2\" class=\"data row11 col2\" >8</td>\n",
              "                        <td id=\"T_482ccfda_3856_11ec_baf8_0242ac1c0002row11_col3\" class=\"data row11 col3\" >0</td>\n",
              "                        <td id=\"T_482ccfda_3856_11ec_baf8_0242ac1c0002row11_col4\" class=\"data row11 col4\" >9</td>\n",
              "                        <td id=\"T_482ccfda_3856_11ec_baf8_0242ac1c0002row11_col5\" class=\"data row11 col5\" >23</td>\n",
              "                        <td id=\"T_482ccfda_3856_11ec_baf8_0242ac1c0002row11_col6\" class=\"data row11 col6\" >0</td>\n",
              "                        <td id=\"T_482ccfda_3856_11ec_baf8_0242ac1c0002row11_col7\" class=\"data row11 col7\" >0</td>\n",
              "                        <td id=\"T_482ccfda_3856_11ec_baf8_0242ac1c0002row11_col8\" class=\"data row11 col8\" >0</td>\n",
              "                        <td id=\"T_482ccfda_3856_11ec_baf8_0242ac1c0002row11_col9\" class=\"data row11 col9\" >0</td>\n",
              "                        <td id=\"T_482ccfda_3856_11ec_baf8_0242ac1c0002row11_col10\" class=\"data row11 col10\" >0</td>\n",
              "                        <td id=\"T_482ccfda_3856_11ec_baf8_0242ac1c0002row11_col11\" class=\"data row11 col11\" >128</td>\n",
              "            </tr>\n",
              "    </tbody></table>"
            ],
            "text/plain": [
              "<pandas.io.formats.style.Styler at 0x7f62a9c17950>"
            ]
          },
          "metadata": {},
          "execution_count": 25
        }
      ]
    },
    {
      "cell_type": "code",
      "metadata": {
        "colab": {
          "base_uri": "https://localhost:8080/"
        },
        "id": "X_mqzWqQ6GzE",
        "outputId": "1735a7a6-12f1-4125-e011-41356f51ba9a"
      },
      "source": [
        "print(\"Classification Report:\")\n",
        "print()\n",
        "print(classification_report(y_test, y_pred))\n"
      ],
      "execution_count": 26,
      "outputs": [
        {
          "output_type": "stream",
          "name": "stdout",
          "text": [
            "Classification Report:\n",
            "\n",
            "              precision    recall  f1-score   support\n",
            "\n",
            "           0       0.91      0.73      0.81       127\n",
            "           1       0.92      0.88      0.90       250\n",
            "           2       0.86      0.79      0.82       177\n",
            "           3       0.81      0.67      0.74       273\n",
            "           4       0.81      0.93      0.87       538\n",
            "           5       0.79      0.95      0.86       569\n",
            "           6       1.00      0.74      0.85        39\n",
            "           7       1.00      0.71      0.83        28\n",
            "           8       0.77      0.41      0.53        56\n",
            "           9       1.00      0.90      0.95        81\n",
            "          10       0.94      0.78      0.85       137\n",
            "          11       0.85      0.74      0.79       172\n",
            "\n",
            "    accuracy                           0.84      2447\n",
            "   macro avg       0.89      0.77      0.82      2447\n",
            "weighted avg       0.85      0.84      0.84      2447\n",
            "\n"
          ]
        }
      ]
    },
    {
      "cell_type": "markdown",
      "metadata": {
        "id": "hTTg4VKbJINs"
      },
      "source": [
        "# Support Vector Classifier"
      ]
    },
    {
      "cell_type": "code",
      "metadata": {
        "colab": {
          "base_uri": "https://localhost:8080/"
        },
        "id": "QurKJKgNJS9s",
        "outputId": "d91d25d4-c1f6-4f66-aba1-7317c50cfc04"
      },
      "source": [
        "pipeline = Pipeline(\n",
        "    [(\"preprocessing\", preprocessing), (\"svcc\", SVC())], verbose=True\n",
        ")\n",
        "\n",
        "pipeline.fit(X_train, y_train)\n"
      ],
      "execution_count": 27,
      "outputs": [
        {
          "output_type": "stream",
          "name": "stdout",
          "text": [
            "[Pipeline] ..... (step 1 of 2) Processing preprocessing, total=   0.0s\n",
            "[Pipeline] .............. (step 2 of 2) Processing svcc, total=  21.5s\n"
          ]
        },
        {
          "output_type": "execute_result",
          "data": {
            "text/plain": [
              "Pipeline(memory=None,\n",
              "         steps=[('preprocessing',\n",
              "                 ColumnTransformer(n_jobs=None, remainder='passthrough',\n",
              "                                   sparse_threshold=0.3,\n",
              "                                   transformer_weights=None,\n",
              "                                   transformers=[('scale',\n",
              "                                                  StandardScaler(copy=True,\n",
              "                                                                 with_mean=True,\n",
              "                                                                 with_std=True),\n",
              "                                                  ['device_id', 'event_id'])],\n",
              "                                   verbose=False)),\n",
              "                ('svcc',\n",
              "                 SVC(C=1.0, break_ties=False, cache_size=200, class_weight=None,\n",
              "                     coef0=0.0, decision_function_shape='ovr', degree=3,\n",
              "                     gamma='scale', kernel='rbf', max_iter=-1,\n",
              "                     probability=False, random_state=None, shrinking=True,\n",
              "                     tol=0.001, verbose=False))],\n",
              "         verbose=True)"
            ]
          },
          "metadata": {},
          "execution_count": 27
        }
      ]
    },
    {
      "cell_type": "code",
      "metadata": {
        "id": "9GofJilBJTC0"
      },
      "source": [
        "grid = { \"svcc__gamma\": [1.0, 5.0, 10.0], 'svcc__kernel': ['rbf']}\n",
        "\n",
        "\n",
        "model = GridSearchCV(pipeline, grid, verbose=1, cv=3)"
      ],
      "execution_count": 28,
      "outputs": []
    },
    {
      "cell_type": "code",
      "metadata": {
        "colab": {
          "base_uri": "https://localhost:8080/"
        },
        "id": "ozZ-VO81TONr",
        "outputId": "305c3383-cd08-4199-f9b1-c2f22cb8ade5"
      },
      "source": [
        "model.fit(X_train, y_train)\n"
      ],
      "execution_count": 29,
      "outputs": [
        {
          "output_type": "stream",
          "name": "stdout",
          "text": [
            "Fitting 3 folds for each of 3 candidates, totalling 9 fits\n",
            "[Pipeline] ..... (step 1 of 2) Processing preprocessing, total=   0.0s\n"
          ]
        },
        {
          "output_type": "stream",
          "name": "stderr",
          "text": [
            "[Parallel(n_jobs=1)]: Using backend SequentialBackend with 1 concurrent workers.\n"
          ]
        },
        {
          "output_type": "stream",
          "name": "stdout",
          "text": [
            "[Pipeline] .............. (step 2 of 2) Processing svcc, total=  15.8s\n",
            "[Pipeline] ..... (step 1 of 2) Processing preprocessing, total=   0.0s\n",
            "[Pipeline] .............. (step 2 of 2) Processing svcc, total=  15.6s\n",
            "[Pipeline] ..... (step 1 of 2) Processing preprocessing, total=   0.0s\n",
            "[Pipeline] .............. (step 2 of 2) Processing svcc, total=  15.7s\n",
            "[Pipeline] ..... (step 1 of 2) Processing preprocessing, total=   0.0s\n",
            "[Pipeline] .............. (step 2 of 2) Processing svcc, total=  15.6s\n",
            "[Pipeline] ..... (step 1 of 2) Processing preprocessing, total=   0.0s\n",
            "[Pipeline] .............. (step 2 of 2) Processing svcc, total=  15.7s\n",
            "[Pipeline] ..... (step 1 of 2) Processing preprocessing, total=   0.0s\n",
            "[Pipeline] .............. (step 2 of 2) Processing svcc, total=  15.7s\n",
            "[Pipeline] ..... (step 1 of 2) Processing preprocessing, total=   0.0s\n",
            "[Pipeline] .............. (step 2 of 2) Processing svcc, total=  15.5s\n",
            "[Pipeline] ..... (step 1 of 2) Processing preprocessing, total=   0.0s\n",
            "[Pipeline] .............. (step 2 of 2) Processing svcc, total=  15.5s\n",
            "[Pipeline] ..... (step 1 of 2) Processing preprocessing, total=   0.0s\n",
            "[Pipeline] .............. (step 2 of 2) Processing svcc, total=  15.7s\n"
          ]
        },
        {
          "output_type": "stream",
          "name": "stderr",
          "text": [
            "[Parallel(n_jobs=1)]: Done   9 out of   9 | elapsed:  2.8min finished\n"
          ]
        },
        {
          "output_type": "stream",
          "name": "stdout",
          "text": [
            "[Pipeline] ..... (step 1 of 2) Processing preprocessing, total=   0.0s\n",
            "[Pipeline] .............. (step 2 of 2) Processing svcc, total=  37.2s\n"
          ]
        },
        {
          "output_type": "execute_result",
          "data": {
            "text/plain": [
              "GridSearchCV(cv=3, error_score=nan,\n",
              "             estimator=Pipeline(memory=None,\n",
              "                                steps=[('preprocessing',\n",
              "                                        ColumnTransformer(n_jobs=None,\n",
              "                                                          remainder='passthrough',\n",
              "                                                          sparse_threshold=0.3,\n",
              "                                                          transformer_weights=None,\n",
              "                                                          transformers=[('scale',\n",
              "                                                                         StandardScaler(copy=True,\n",
              "                                                                                        with_mean=True,\n",
              "                                                                                        with_std=True),\n",
              "                                                                         ['device_id',\n",
              "                                                                          'event_id'])],\n",
              "                                                          verbose=False)),\n",
              "                                       ('svcc',\n",
              "                                        SVC(C=1.0, break_ties=False,\n",
              "                                            cache...\n",
              "                                            coef0=0.0,\n",
              "                                            decision_function_shape='ovr',\n",
              "                                            degree=3, gamma='scale',\n",
              "                                            kernel='rbf', max_iter=-1,\n",
              "                                            probability=False,\n",
              "                                            random_state=None, shrinking=True,\n",
              "                                            tol=0.001, verbose=False))],\n",
              "                                verbose=True),\n",
              "             iid='deprecated', n_jobs=None,\n",
              "             param_grid={'svcc__gamma': [1.0, 5.0, 10.0],\n",
              "                         'svcc__kernel': ['rbf']},\n",
              "             pre_dispatch='2*n_jobs', refit=True, return_train_score=False,\n",
              "             scoring=None, verbose=1)"
            ]
          },
          "metadata": {},
          "execution_count": 29
        }
      ]
    },
    {
      "cell_type": "code",
      "metadata": {
        "colab": {
          "base_uri": "https://localhost:8080/"
        },
        "id": "gmjSXP-SS7Dd",
        "outputId": "eddff324-d9d2-49c8-80af-4943007407b2"
      },
      "source": [
        "model.best_params_\n"
      ],
      "execution_count": 30,
      "outputs": [
        {
          "output_type": "execute_result",
          "data": {
            "text/plain": [
              "{'svcc__gamma': 1.0, 'svcc__kernel': 'rbf'}"
            ]
          },
          "metadata": {},
          "execution_count": 30
        }
      ]
    },
    {
      "cell_type": "code",
      "metadata": {
        "colab": {
          "base_uri": "https://localhost:8080/",
          "height": 414
        },
        "id": "0Gr1QTmDJTH1",
        "outputId": "45521374-4456-4c3c-bf90-694ce5a2e306"
      },
      "source": [
        "y_pred = model.predict(X_test)\n",
        "\n",
        "con_mat = pd.DataFrame(\n",
        "    confusion_matrix(y_test, y_pred),\n",
        "    index=[\n",
        "        \"Actual M22-\",\n",
        "        \"Actual M23-26\",\n",
        "        \"Actual M27-28\",\n",
        "        \"Actual M29-31\",\n",
        "        \"Actual M32-38\",\n",
        "        \"Actual M39+\",\n",
        "        \"Actual F23-\",\n",
        "        \"Actual F24-26\",\n",
        "        \"Actual F27-28\",\n",
        "        \"Actual F29-32\",\n",
        "        \"Actual F33-42\",\n",
        "        \"Actual F43+\",\n",
        "    ],\n",
        "    columns=[\n",
        "        \"Predicted M22-\",\n",
        "        \"Predicted M23-26\",\n",
        "        \"Predicted M27-28\",\n",
        "        \"Predicted M29-31\",\n",
        "        \"Predicted M32-38\",\n",
        "        \"Predicted M39+\",\n",
        "        \"Predicted F23-\",\n",
        "        \"Predicted F24-26\",\n",
        "        \"Predicted F27-28\",\n",
        "        \"Predicted F29-32\",\n",
        "        \"Predicted F33-42\",\n",
        "        \"Predicted F43+\",\n",
        "    ],\n",
        ")\n",
        "con_mat.style.background_gradient(axis=None)\n"
      ],
      "execution_count": 31,
      "outputs": [
        {
          "output_type": "execute_result",
          "data": {
            "text/html": [
              "<style  type=\"text/css\" >\n",
              "#T_d12238d4_3856_11ec_baf8_0242ac1c0002row0_col0,#T_d12238d4_3856_11ec_baf8_0242ac1c0002row0_col1,#T_d12238d4_3856_11ec_baf8_0242ac1c0002row0_col2,#T_d12238d4_3856_11ec_baf8_0242ac1c0002row0_col3,#T_d12238d4_3856_11ec_baf8_0242ac1c0002row0_col4,#T_d12238d4_3856_11ec_baf8_0242ac1c0002row0_col6,#T_d12238d4_3856_11ec_baf8_0242ac1c0002row0_col7,#T_d12238d4_3856_11ec_baf8_0242ac1c0002row0_col8,#T_d12238d4_3856_11ec_baf8_0242ac1c0002row0_col9,#T_d12238d4_3856_11ec_baf8_0242ac1c0002row0_col10,#T_d12238d4_3856_11ec_baf8_0242ac1c0002row0_col11,#T_d12238d4_3856_11ec_baf8_0242ac1c0002row1_col0,#T_d12238d4_3856_11ec_baf8_0242ac1c0002row1_col1,#T_d12238d4_3856_11ec_baf8_0242ac1c0002row1_col2,#T_d12238d4_3856_11ec_baf8_0242ac1c0002row1_col3,#T_d12238d4_3856_11ec_baf8_0242ac1c0002row1_col4,#T_d12238d4_3856_11ec_baf8_0242ac1c0002row1_col6,#T_d12238d4_3856_11ec_baf8_0242ac1c0002row1_col7,#T_d12238d4_3856_11ec_baf8_0242ac1c0002row1_col8,#T_d12238d4_3856_11ec_baf8_0242ac1c0002row1_col9,#T_d12238d4_3856_11ec_baf8_0242ac1c0002row1_col10,#T_d12238d4_3856_11ec_baf8_0242ac1c0002row1_col11,#T_d12238d4_3856_11ec_baf8_0242ac1c0002row2_col0,#T_d12238d4_3856_11ec_baf8_0242ac1c0002row2_col1,#T_d12238d4_3856_11ec_baf8_0242ac1c0002row2_col2,#T_d12238d4_3856_11ec_baf8_0242ac1c0002row2_col3,#T_d12238d4_3856_11ec_baf8_0242ac1c0002row2_col4,#T_d12238d4_3856_11ec_baf8_0242ac1c0002row2_col6,#T_d12238d4_3856_11ec_baf8_0242ac1c0002row2_col7,#T_d12238d4_3856_11ec_baf8_0242ac1c0002row2_col8,#T_d12238d4_3856_11ec_baf8_0242ac1c0002row2_col9,#T_d12238d4_3856_11ec_baf8_0242ac1c0002row2_col10,#T_d12238d4_3856_11ec_baf8_0242ac1c0002row2_col11,#T_d12238d4_3856_11ec_baf8_0242ac1c0002row3_col0,#T_d12238d4_3856_11ec_baf8_0242ac1c0002row3_col1,#T_d12238d4_3856_11ec_baf8_0242ac1c0002row3_col2,#T_d12238d4_3856_11ec_baf8_0242ac1c0002row3_col3,#T_d12238d4_3856_11ec_baf8_0242ac1c0002row3_col4,#T_d12238d4_3856_11ec_baf8_0242ac1c0002row3_col6,#T_d12238d4_3856_11ec_baf8_0242ac1c0002row3_col7,#T_d12238d4_3856_11ec_baf8_0242ac1c0002row3_col8,#T_d12238d4_3856_11ec_baf8_0242ac1c0002row3_col9,#T_d12238d4_3856_11ec_baf8_0242ac1c0002row3_col10,#T_d12238d4_3856_11ec_baf8_0242ac1c0002row3_col11,#T_d12238d4_3856_11ec_baf8_0242ac1c0002row4_col0,#T_d12238d4_3856_11ec_baf8_0242ac1c0002row4_col1,#T_d12238d4_3856_11ec_baf8_0242ac1c0002row4_col2,#T_d12238d4_3856_11ec_baf8_0242ac1c0002row4_col3,#T_d12238d4_3856_11ec_baf8_0242ac1c0002row4_col4,#T_d12238d4_3856_11ec_baf8_0242ac1c0002row4_col6,#T_d12238d4_3856_11ec_baf8_0242ac1c0002row4_col7,#T_d12238d4_3856_11ec_baf8_0242ac1c0002row4_col8,#T_d12238d4_3856_11ec_baf8_0242ac1c0002row4_col9,#T_d12238d4_3856_11ec_baf8_0242ac1c0002row4_col10,#T_d12238d4_3856_11ec_baf8_0242ac1c0002row4_col11,#T_d12238d4_3856_11ec_baf8_0242ac1c0002row5_col0,#T_d12238d4_3856_11ec_baf8_0242ac1c0002row5_col1,#T_d12238d4_3856_11ec_baf8_0242ac1c0002row5_col2,#T_d12238d4_3856_11ec_baf8_0242ac1c0002row5_col3,#T_d12238d4_3856_11ec_baf8_0242ac1c0002row5_col4,#T_d12238d4_3856_11ec_baf8_0242ac1c0002row5_col6,#T_d12238d4_3856_11ec_baf8_0242ac1c0002row5_col7,#T_d12238d4_3856_11ec_baf8_0242ac1c0002row5_col8,#T_d12238d4_3856_11ec_baf8_0242ac1c0002row5_col9,#T_d12238d4_3856_11ec_baf8_0242ac1c0002row5_col10,#T_d12238d4_3856_11ec_baf8_0242ac1c0002row5_col11,#T_d12238d4_3856_11ec_baf8_0242ac1c0002row6_col0,#T_d12238d4_3856_11ec_baf8_0242ac1c0002row6_col1,#T_d12238d4_3856_11ec_baf8_0242ac1c0002row6_col2,#T_d12238d4_3856_11ec_baf8_0242ac1c0002row6_col3,#T_d12238d4_3856_11ec_baf8_0242ac1c0002row6_col4,#T_d12238d4_3856_11ec_baf8_0242ac1c0002row6_col6,#T_d12238d4_3856_11ec_baf8_0242ac1c0002row6_col7,#T_d12238d4_3856_11ec_baf8_0242ac1c0002row6_col8,#T_d12238d4_3856_11ec_baf8_0242ac1c0002row6_col9,#T_d12238d4_3856_11ec_baf8_0242ac1c0002row6_col10,#T_d12238d4_3856_11ec_baf8_0242ac1c0002row6_col11,#T_d12238d4_3856_11ec_baf8_0242ac1c0002row7_col0,#T_d12238d4_3856_11ec_baf8_0242ac1c0002row7_col1,#T_d12238d4_3856_11ec_baf8_0242ac1c0002row7_col2,#T_d12238d4_3856_11ec_baf8_0242ac1c0002row7_col3,#T_d12238d4_3856_11ec_baf8_0242ac1c0002row7_col4,#T_d12238d4_3856_11ec_baf8_0242ac1c0002row7_col6,#T_d12238d4_3856_11ec_baf8_0242ac1c0002row7_col7,#T_d12238d4_3856_11ec_baf8_0242ac1c0002row7_col8,#T_d12238d4_3856_11ec_baf8_0242ac1c0002row7_col9,#T_d12238d4_3856_11ec_baf8_0242ac1c0002row7_col10,#T_d12238d4_3856_11ec_baf8_0242ac1c0002row7_col11,#T_d12238d4_3856_11ec_baf8_0242ac1c0002row8_col0,#T_d12238d4_3856_11ec_baf8_0242ac1c0002row8_col1,#T_d12238d4_3856_11ec_baf8_0242ac1c0002row8_col2,#T_d12238d4_3856_11ec_baf8_0242ac1c0002row8_col3,#T_d12238d4_3856_11ec_baf8_0242ac1c0002row8_col4,#T_d12238d4_3856_11ec_baf8_0242ac1c0002row8_col6,#T_d12238d4_3856_11ec_baf8_0242ac1c0002row8_col7,#T_d12238d4_3856_11ec_baf8_0242ac1c0002row8_col8,#T_d12238d4_3856_11ec_baf8_0242ac1c0002row8_col9,#T_d12238d4_3856_11ec_baf8_0242ac1c0002row8_col10,#T_d12238d4_3856_11ec_baf8_0242ac1c0002row8_col11,#T_d12238d4_3856_11ec_baf8_0242ac1c0002row9_col0,#T_d12238d4_3856_11ec_baf8_0242ac1c0002row9_col1,#T_d12238d4_3856_11ec_baf8_0242ac1c0002row9_col2,#T_d12238d4_3856_11ec_baf8_0242ac1c0002row9_col3,#T_d12238d4_3856_11ec_baf8_0242ac1c0002row9_col4,#T_d12238d4_3856_11ec_baf8_0242ac1c0002row9_col6,#T_d12238d4_3856_11ec_baf8_0242ac1c0002row9_col7,#T_d12238d4_3856_11ec_baf8_0242ac1c0002row9_col8,#T_d12238d4_3856_11ec_baf8_0242ac1c0002row9_col9,#T_d12238d4_3856_11ec_baf8_0242ac1c0002row9_col10,#T_d12238d4_3856_11ec_baf8_0242ac1c0002row9_col11,#T_d12238d4_3856_11ec_baf8_0242ac1c0002row10_col0,#T_d12238d4_3856_11ec_baf8_0242ac1c0002row10_col1,#T_d12238d4_3856_11ec_baf8_0242ac1c0002row10_col2,#T_d12238d4_3856_11ec_baf8_0242ac1c0002row10_col3,#T_d12238d4_3856_11ec_baf8_0242ac1c0002row10_col4,#T_d12238d4_3856_11ec_baf8_0242ac1c0002row10_col6,#T_d12238d4_3856_11ec_baf8_0242ac1c0002row10_col7,#T_d12238d4_3856_11ec_baf8_0242ac1c0002row10_col8,#T_d12238d4_3856_11ec_baf8_0242ac1c0002row10_col9,#T_d12238d4_3856_11ec_baf8_0242ac1c0002row10_col10,#T_d12238d4_3856_11ec_baf8_0242ac1c0002row10_col11,#T_d12238d4_3856_11ec_baf8_0242ac1c0002row11_col0,#T_d12238d4_3856_11ec_baf8_0242ac1c0002row11_col1,#T_d12238d4_3856_11ec_baf8_0242ac1c0002row11_col2,#T_d12238d4_3856_11ec_baf8_0242ac1c0002row11_col3,#T_d12238d4_3856_11ec_baf8_0242ac1c0002row11_col4,#T_d12238d4_3856_11ec_baf8_0242ac1c0002row11_col6,#T_d12238d4_3856_11ec_baf8_0242ac1c0002row11_col7,#T_d12238d4_3856_11ec_baf8_0242ac1c0002row11_col8,#T_d12238d4_3856_11ec_baf8_0242ac1c0002row11_col9,#T_d12238d4_3856_11ec_baf8_0242ac1c0002row11_col10,#T_d12238d4_3856_11ec_baf8_0242ac1c0002row11_col11{\n",
              "            background-color:  #fff7fb;\n",
              "            color:  #000000;\n",
              "        }#T_d12238d4_3856_11ec_baf8_0242ac1c0002row0_col5{\n",
              "            background-color:  #d6d6e9;\n",
              "            color:  #000000;\n",
              "        }#T_d12238d4_3856_11ec_baf8_0242ac1c0002row1_col5{\n",
              "            background-color:  #8cb3d5;\n",
              "            color:  #000000;\n",
              "        }#T_d12238d4_3856_11ec_baf8_0242ac1c0002row2_col5{\n",
              "            background-color:  #bcc7e1;\n",
              "            color:  #000000;\n",
              "        }#T_d12238d4_3856_11ec_baf8_0242ac1c0002row3_col5{\n",
              "            background-color:  #7dacd1;\n",
              "            color:  #000000;\n",
              "        }#T_d12238d4_3856_11ec_baf8_0242ac1c0002row4_col5{\n",
              "            background-color:  #03466e;\n",
              "            color:  #f1f1f1;\n",
              "        }#T_d12238d4_3856_11ec_baf8_0242ac1c0002row5_col5{\n",
              "            background-color:  #023858;\n",
              "            color:  #f1f1f1;\n",
              "        }#T_d12238d4_3856_11ec_baf8_0242ac1c0002row6_col5{\n",
              "            background-color:  #f5eef6;\n",
              "            color:  #000000;\n",
              "        }#T_d12238d4_3856_11ec_baf8_0242ac1c0002row7_col5{\n",
              "            background-color:  #f8f1f8;\n",
              "            color:  #000000;\n",
              "        }#T_d12238d4_3856_11ec_baf8_0242ac1c0002row8_col5{\n",
              "            background-color:  #f0eaf4;\n",
              "            color:  #000000;\n",
              "        }#T_d12238d4_3856_11ec_baf8_0242ac1c0002row9_col5{\n",
              "            background-color:  #e8e4f0;\n",
              "            color:  #000000;\n",
              "        }#T_d12238d4_3856_11ec_baf8_0242ac1c0002row10_col5{\n",
              "            background-color:  #d2d3e7;\n",
              "            color:  #000000;\n",
              "        }#T_d12238d4_3856_11ec_baf8_0242ac1c0002row11_col5{\n",
              "            background-color:  #bfc9e1;\n",
              "            color:  #000000;\n",
              "        }</style><table id=\"T_d12238d4_3856_11ec_baf8_0242ac1c0002\" class=\"dataframe\"><thead>    <tr>        <th class=\"blank level0\" ></th>        <th class=\"col_heading level0 col0\" >Predicted M22-</th>        <th class=\"col_heading level0 col1\" >Predicted M23-26</th>        <th class=\"col_heading level0 col2\" >Predicted M27-28</th>        <th class=\"col_heading level0 col3\" >Predicted M29-31</th>        <th class=\"col_heading level0 col4\" >Predicted M32-38</th>        <th class=\"col_heading level0 col5\" >Predicted M39+</th>        <th class=\"col_heading level0 col6\" >Predicted F23-</th>        <th class=\"col_heading level0 col7\" >Predicted F24-26</th>        <th class=\"col_heading level0 col8\" >Predicted F27-28</th>        <th class=\"col_heading level0 col9\" >Predicted F29-32</th>        <th class=\"col_heading level0 col10\" >Predicted F33-42</th>        <th class=\"col_heading level0 col11\" >Predicted F43+</th>    </tr></thead><tbody>\n",
              "                <tr>\n",
              "                        <th id=\"T_d12238d4_3856_11ec_baf8_0242ac1c0002level0_row0\" class=\"row_heading level0 row0\" >Actual M22-</th>\n",
              "                        <td id=\"T_d12238d4_3856_11ec_baf8_0242ac1c0002row0_col0\" class=\"data row0 col0\" >0</td>\n",
              "                        <td id=\"T_d12238d4_3856_11ec_baf8_0242ac1c0002row0_col1\" class=\"data row0 col1\" >0</td>\n",
              "                        <td id=\"T_d12238d4_3856_11ec_baf8_0242ac1c0002row0_col2\" class=\"data row0 col2\" >0</td>\n",
              "                        <td id=\"T_d12238d4_3856_11ec_baf8_0242ac1c0002row0_col3\" class=\"data row0 col3\" >0</td>\n",
              "                        <td id=\"T_d12238d4_3856_11ec_baf8_0242ac1c0002row0_col4\" class=\"data row0 col4\" >0</td>\n",
              "                        <td id=\"T_d12238d4_3856_11ec_baf8_0242ac1c0002row0_col5\" class=\"data row0 col5\" >127</td>\n",
              "                        <td id=\"T_d12238d4_3856_11ec_baf8_0242ac1c0002row0_col6\" class=\"data row0 col6\" >0</td>\n",
              "                        <td id=\"T_d12238d4_3856_11ec_baf8_0242ac1c0002row0_col7\" class=\"data row0 col7\" >0</td>\n",
              "                        <td id=\"T_d12238d4_3856_11ec_baf8_0242ac1c0002row0_col8\" class=\"data row0 col8\" >0</td>\n",
              "                        <td id=\"T_d12238d4_3856_11ec_baf8_0242ac1c0002row0_col9\" class=\"data row0 col9\" >0</td>\n",
              "                        <td id=\"T_d12238d4_3856_11ec_baf8_0242ac1c0002row0_col10\" class=\"data row0 col10\" >0</td>\n",
              "                        <td id=\"T_d12238d4_3856_11ec_baf8_0242ac1c0002row0_col11\" class=\"data row0 col11\" >0</td>\n",
              "            </tr>\n",
              "            <tr>\n",
              "                        <th id=\"T_d12238d4_3856_11ec_baf8_0242ac1c0002level0_row1\" class=\"row_heading level0 row1\" >Actual M23-26</th>\n",
              "                        <td id=\"T_d12238d4_3856_11ec_baf8_0242ac1c0002row1_col0\" class=\"data row1 col0\" >0</td>\n",
              "                        <td id=\"T_d12238d4_3856_11ec_baf8_0242ac1c0002row1_col1\" class=\"data row1 col1\" >0</td>\n",
              "                        <td id=\"T_d12238d4_3856_11ec_baf8_0242ac1c0002row1_col2\" class=\"data row1 col2\" >0</td>\n",
              "                        <td id=\"T_d12238d4_3856_11ec_baf8_0242ac1c0002row1_col3\" class=\"data row1 col3\" >0</td>\n",
              "                        <td id=\"T_d12238d4_3856_11ec_baf8_0242ac1c0002row1_col4\" class=\"data row1 col4\" >0</td>\n",
              "                        <td id=\"T_d12238d4_3856_11ec_baf8_0242ac1c0002row1_col5\" class=\"data row1 col5\" >250</td>\n",
              "                        <td id=\"T_d12238d4_3856_11ec_baf8_0242ac1c0002row1_col6\" class=\"data row1 col6\" >0</td>\n",
              "                        <td id=\"T_d12238d4_3856_11ec_baf8_0242ac1c0002row1_col7\" class=\"data row1 col7\" >0</td>\n",
              "                        <td id=\"T_d12238d4_3856_11ec_baf8_0242ac1c0002row1_col8\" class=\"data row1 col8\" >0</td>\n",
              "                        <td id=\"T_d12238d4_3856_11ec_baf8_0242ac1c0002row1_col9\" class=\"data row1 col9\" >0</td>\n",
              "                        <td id=\"T_d12238d4_3856_11ec_baf8_0242ac1c0002row1_col10\" class=\"data row1 col10\" >0</td>\n",
              "                        <td id=\"T_d12238d4_3856_11ec_baf8_0242ac1c0002row1_col11\" class=\"data row1 col11\" >0</td>\n",
              "            </tr>\n",
              "            <tr>\n",
              "                        <th id=\"T_d12238d4_3856_11ec_baf8_0242ac1c0002level0_row2\" class=\"row_heading level0 row2\" >Actual M27-28</th>\n",
              "                        <td id=\"T_d12238d4_3856_11ec_baf8_0242ac1c0002row2_col0\" class=\"data row2 col0\" >0</td>\n",
              "                        <td id=\"T_d12238d4_3856_11ec_baf8_0242ac1c0002row2_col1\" class=\"data row2 col1\" >0</td>\n",
              "                        <td id=\"T_d12238d4_3856_11ec_baf8_0242ac1c0002row2_col2\" class=\"data row2 col2\" >0</td>\n",
              "                        <td id=\"T_d12238d4_3856_11ec_baf8_0242ac1c0002row2_col3\" class=\"data row2 col3\" >0</td>\n",
              "                        <td id=\"T_d12238d4_3856_11ec_baf8_0242ac1c0002row2_col4\" class=\"data row2 col4\" >0</td>\n",
              "                        <td id=\"T_d12238d4_3856_11ec_baf8_0242ac1c0002row2_col5\" class=\"data row2 col5\" >177</td>\n",
              "                        <td id=\"T_d12238d4_3856_11ec_baf8_0242ac1c0002row2_col6\" class=\"data row2 col6\" >0</td>\n",
              "                        <td id=\"T_d12238d4_3856_11ec_baf8_0242ac1c0002row2_col7\" class=\"data row2 col7\" >0</td>\n",
              "                        <td id=\"T_d12238d4_3856_11ec_baf8_0242ac1c0002row2_col8\" class=\"data row2 col8\" >0</td>\n",
              "                        <td id=\"T_d12238d4_3856_11ec_baf8_0242ac1c0002row2_col9\" class=\"data row2 col9\" >0</td>\n",
              "                        <td id=\"T_d12238d4_3856_11ec_baf8_0242ac1c0002row2_col10\" class=\"data row2 col10\" >0</td>\n",
              "                        <td id=\"T_d12238d4_3856_11ec_baf8_0242ac1c0002row2_col11\" class=\"data row2 col11\" >0</td>\n",
              "            </tr>\n",
              "            <tr>\n",
              "                        <th id=\"T_d12238d4_3856_11ec_baf8_0242ac1c0002level0_row3\" class=\"row_heading level0 row3\" >Actual M29-31</th>\n",
              "                        <td id=\"T_d12238d4_3856_11ec_baf8_0242ac1c0002row3_col0\" class=\"data row3 col0\" >0</td>\n",
              "                        <td id=\"T_d12238d4_3856_11ec_baf8_0242ac1c0002row3_col1\" class=\"data row3 col1\" >0</td>\n",
              "                        <td id=\"T_d12238d4_3856_11ec_baf8_0242ac1c0002row3_col2\" class=\"data row3 col2\" >0</td>\n",
              "                        <td id=\"T_d12238d4_3856_11ec_baf8_0242ac1c0002row3_col3\" class=\"data row3 col3\" >0</td>\n",
              "                        <td id=\"T_d12238d4_3856_11ec_baf8_0242ac1c0002row3_col4\" class=\"data row3 col4\" >0</td>\n",
              "                        <td id=\"T_d12238d4_3856_11ec_baf8_0242ac1c0002row3_col5\" class=\"data row3 col5\" >273</td>\n",
              "                        <td id=\"T_d12238d4_3856_11ec_baf8_0242ac1c0002row3_col6\" class=\"data row3 col6\" >0</td>\n",
              "                        <td id=\"T_d12238d4_3856_11ec_baf8_0242ac1c0002row3_col7\" class=\"data row3 col7\" >0</td>\n",
              "                        <td id=\"T_d12238d4_3856_11ec_baf8_0242ac1c0002row3_col8\" class=\"data row3 col8\" >0</td>\n",
              "                        <td id=\"T_d12238d4_3856_11ec_baf8_0242ac1c0002row3_col9\" class=\"data row3 col9\" >0</td>\n",
              "                        <td id=\"T_d12238d4_3856_11ec_baf8_0242ac1c0002row3_col10\" class=\"data row3 col10\" >0</td>\n",
              "                        <td id=\"T_d12238d4_3856_11ec_baf8_0242ac1c0002row3_col11\" class=\"data row3 col11\" >0</td>\n",
              "            </tr>\n",
              "            <tr>\n",
              "                        <th id=\"T_d12238d4_3856_11ec_baf8_0242ac1c0002level0_row4\" class=\"row_heading level0 row4\" >Actual M32-38</th>\n",
              "                        <td id=\"T_d12238d4_3856_11ec_baf8_0242ac1c0002row4_col0\" class=\"data row4 col0\" >0</td>\n",
              "                        <td id=\"T_d12238d4_3856_11ec_baf8_0242ac1c0002row4_col1\" class=\"data row4 col1\" >0</td>\n",
              "                        <td id=\"T_d12238d4_3856_11ec_baf8_0242ac1c0002row4_col2\" class=\"data row4 col2\" >0</td>\n",
              "                        <td id=\"T_d12238d4_3856_11ec_baf8_0242ac1c0002row4_col3\" class=\"data row4 col3\" >0</td>\n",
              "                        <td id=\"T_d12238d4_3856_11ec_baf8_0242ac1c0002row4_col4\" class=\"data row4 col4\" >0</td>\n",
              "                        <td id=\"T_d12238d4_3856_11ec_baf8_0242ac1c0002row4_col5\" class=\"data row4 col5\" >538</td>\n",
              "                        <td id=\"T_d12238d4_3856_11ec_baf8_0242ac1c0002row4_col6\" class=\"data row4 col6\" >0</td>\n",
              "                        <td id=\"T_d12238d4_3856_11ec_baf8_0242ac1c0002row4_col7\" class=\"data row4 col7\" >0</td>\n",
              "                        <td id=\"T_d12238d4_3856_11ec_baf8_0242ac1c0002row4_col8\" class=\"data row4 col8\" >0</td>\n",
              "                        <td id=\"T_d12238d4_3856_11ec_baf8_0242ac1c0002row4_col9\" class=\"data row4 col9\" >0</td>\n",
              "                        <td id=\"T_d12238d4_3856_11ec_baf8_0242ac1c0002row4_col10\" class=\"data row4 col10\" >0</td>\n",
              "                        <td id=\"T_d12238d4_3856_11ec_baf8_0242ac1c0002row4_col11\" class=\"data row4 col11\" >0</td>\n",
              "            </tr>\n",
              "            <tr>\n",
              "                        <th id=\"T_d12238d4_3856_11ec_baf8_0242ac1c0002level0_row5\" class=\"row_heading level0 row5\" >Actual M39+</th>\n",
              "                        <td id=\"T_d12238d4_3856_11ec_baf8_0242ac1c0002row5_col0\" class=\"data row5 col0\" >0</td>\n",
              "                        <td id=\"T_d12238d4_3856_11ec_baf8_0242ac1c0002row5_col1\" class=\"data row5 col1\" >0</td>\n",
              "                        <td id=\"T_d12238d4_3856_11ec_baf8_0242ac1c0002row5_col2\" class=\"data row5 col2\" >0</td>\n",
              "                        <td id=\"T_d12238d4_3856_11ec_baf8_0242ac1c0002row5_col3\" class=\"data row5 col3\" >0</td>\n",
              "                        <td id=\"T_d12238d4_3856_11ec_baf8_0242ac1c0002row5_col4\" class=\"data row5 col4\" >0</td>\n",
              "                        <td id=\"T_d12238d4_3856_11ec_baf8_0242ac1c0002row5_col5\" class=\"data row5 col5\" >569</td>\n",
              "                        <td id=\"T_d12238d4_3856_11ec_baf8_0242ac1c0002row5_col6\" class=\"data row5 col6\" >0</td>\n",
              "                        <td id=\"T_d12238d4_3856_11ec_baf8_0242ac1c0002row5_col7\" class=\"data row5 col7\" >0</td>\n",
              "                        <td id=\"T_d12238d4_3856_11ec_baf8_0242ac1c0002row5_col8\" class=\"data row5 col8\" >0</td>\n",
              "                        <td id=\"T_d12238d4_3856_11ec_baf8_0242ac1c0002row5_col9\" class=\"data row5 col9\" >0</td>\n",
              "                        <td id=\"T_d12238d4_3856_11ec_baf8_0242ac1c0002row5_col10\" class=\"data row5 col10\" >0</td>\n",
              "                        <td id=\"T_d12238d4_3856_11ec_baf8_0242ac1c0002row5_col11\" class=\"data row5 col11\" >0</td>\n",
              "            </tr>\n",
              "            <tr>\n",
              "                        <th id=\"T_d12238d4_3856_11ec_baf8_0242ac1c0002level0_row6\" class=\"row_heading level0 row6\" >Actual F23-</th>\n",
              "                        <td id=\"T_d12238d4_3856_11ec_baf8_0242ac1c0002row6_col0\" class=\"data row6 col0\" >0</td>\n",
              "                        <td id=\"T_d12238d4_3856_11ec_baf8_0242ac1c0002row6_col1\" class=\"data row6 col1\" >0</td>\n",
              "                        <td id=\"T_d12238d4_3856_11ec_baf8_0242ac1c0002row6_col2\" class=\"data row6 col2\" >0</td>\n",
              "                        <td id=\"T_d12238d4_3856_11ec_baf8_0242ac1c0002row6_col3\" class=\"data row6 col3\" >0</td>\n",
              "                        <td id=\"T_d12238d4_3856_11ec_baf8_0242ac1c0002row6_col4\" class=\"data row6 col4\" >0</td>\n",
              "                        <td id=\"T_d12238d4_3856_11ec_baf8_0242ac1c0002row6_col5\" class=\"data row6 col5\" >39</td>\n",
              "                        <td id=\"T_d12238d4_3856_11ec_baf8_0242ac1c0002row6_col6\" class=\"data row6 col6\" >0</td>\n",
              "                        <td id=\"T_d12238d4_3856_11ec_baf8_0242ac1c0002row6_col7\" class=\"data row6 col7\" >0</td>\n",
              "                        <td id=\"T_d12238d4_3856_11ec_baf8_0242ac1c0002row6_col8\" class=\"data row6 col8\" >0</td>\n",
              "                        <td id=\"T_d12238d4_3856_11ec_baf8_0242ac1c0002row6_col9\" class=\"data row6 col9\" >0</td>\n",
              "                        <td id=\"T_d12238d4_3856_11ec_baf8_0242ac1c0002row6_col10\" class=\"data row6 col10\" >0</td>\n",
              "                        <td id=\"T_d12238d4_3856_11ec_baf8_0242ac1c0002row6_col11\" class=\"data row6 col11\" >0</td>\n",
              "            </tr>\n",
              "            <tr>\n",
              "                        <th id=\"T_d12238d4_3856_11ec_baf8_0242ac1c0002level0_row7\" class=\"row_heading level0 row7\" >Actual F24-26</th>\n",
              "                        <td id=\"T_d12238d4_3856_11ec_baf8_0242ac1c0002row7_col0\" class=\"data row7 col0\" >0</td>\n",
              "                        <td id=\"T_d12238d4_3856_11ec_baf8_0242ac1c0002row7_col1\" class=\"data row7 col1\" >0</td>\n",
              "                        <td id=\"T_d12238d4_3856_11ec_baf8_0242ac1c0002row7_col2\" class=\"data row7 col2\" >0</td>\n",
              "                        <td id=\"T_d12238d4_3856_11ec_baf8_0242ac1c0002row7_col3\" class=\"data row7 col3\" >0</td>\n",
              "                        <td id=\"T_d12238d4_3856_11ec_baf8_0242ac1c0002row7_col4\" class=\"data row7 col4\" >0</td>\n",
              "                        <td id=\"T_d12238d4_3856_11ec_baf8_0242ac1c0002row7_col5\" class=\"data row7 col5\" >28</td>\n",
              "                        <td id=\"T_d12238d4_3856_11ec_baf8_0242ac1c0002row7_col6\" class=\"data row7 col6\" >0</td>\n",
              "                        <td id=\"T_d12238d4_3856_11ec_baf8_0242ac1c0002row7_col7\" class=\"data row7 col7\" >0</td>\n",
              "                        <td id=\"T_d12238d4_3856_11ec_baf8_0242ac1c0002row7_col8\" class=\"data row7 col8\" >0</td>\n",
              "                        <td id=\"T_d12238d4_3856_11ec_baf8_0242ac1c0002row7_col9\" class=\"data row7 col9\" >0</td>\n",
              "                        <td id=\"T_d12238d4_3856_11ec_baf8_0242ac1c0002row7_col10\" class=\"data row7 col10\" >0</td>\n",
              "                        <td id=\"T_d12238d4_3856_11ec_baf8_0242ac1c0002row7_col11\" class=\"data row7 col11\" >0</td>\n",
              "            </tr>\n",
              "            <tr>\n",
              "                        <th id=\"T_d12238d4_3856_11ec_baf8_0242ac1c0002level0_row8\" class=\"row_heading level0 row8\" >Actual F27-28</th>\n",
              "                        <td id=\"T_d12238d4_3856_11ec_baf8_0242ac1c0002row8_col0\" class=\"data row8 col0\" >0</td>\n",
              "                        <td id=\"T_d12238d4_3856_11ec_baf8_0242ac1c0002row8_col1\" class=\"data row8 col1\" >0</td>\n",
              "                        <td id=\"T_d12238d4_3856_11ec_baf8_0242ac1c0002row8_col2\" class=\"data row8 col2\" >0</td>\n",
              "                        <td id=\"T_d12238d4_3856_11ec_baf8_0242ac1c0002row8_col3\" class=\"data row8 col3\" >0</td>\n",
              "                        <td id=\"T_d12238d4_3856_11ec_baf8_0242ac1c0002row8_col4\" class=\"data row8 col4\" >0</td>\n",
              "                        <td id=\"T_d12238d4_3856_11ec_baf8_0242ac1c0002row8_col5\" class=\"data row8 col5\" >56</td>\n",
              "                        <td id=\"T_d12238d4_3856_11ec_baf8_0242ac1c0002row8_col6\" class=\"data row8 col6\" >0</td>\n",
              "                        <td id=\"T_d12238d4_3856_11ec_baf8_0242ac1c0002row8_col7\" class=\"data row8 col7\" >0</td>\n",
              "                        <td id=\"T_d12238d4_3856_11ec_baf8_0242ac1c0002row8_col8\" class=\"data row8 col8\" >0</td>\n",
              "                        <td id=\"T_d12238d4_3856_11ec_baf8_0242ac1c0002row8_col9\" class=\"data row8 col9\" >0</td>\n",
              "                        <td id=\"T_d12238d4_3856_11ec_baf8_0242ac1c0002row8_col10\" class=\"data row8 col10\" >0</td>\n",
              "                        <td id=\"T_d12238d4_3856_11ec_baf8_0242ac1c0002row8_col11\" class=\"data row8 col11\" >0</td>\n",
              "            </tr>\n",
              "            <tr>\n",
              "                        <th id=\"T_d12238d4_3856_11ec_baf8_0242ac1c0002level0_row9\" class=\"row_heading level0 row9\" >Actual F29-32</th>\n",
              "                        <td id=\"T_d12238d4_3856_11ec_baf8_0242ac1c0002row9_col0\" class=\"data row9 col0\" >0</td>\n",
              "                        <td id=\"T_d12238d4_3856_11ec_baf8_0242ac1c0002row9_col1\" class=\"data row9 col1\" >0</td>\n",
              "                        <td id=\"T_d12238d4_3856_11ec_baf8_0242ac1c0002row9_col2\" class=\"data row9 col2\" >0</td>\n",
              "                        <td id=\"T_d12238d4_3856_11ec_baf8_0242ac1c0002row9_col3\" class=\"data row9 col3\" >0</td>\n",
              "                        <td id=\"T_d12238d4_3856_11ec_baf8_0242ac1c0002row9_col4\" class=\"data row9 col4\" >0</td>\n",
              "                        <td id=\"T_d12238d4_3856_11ec_baf8_0242ac1c0002row9_col5\" class=\"data row9 col5\" >81</td>\n",
              "                        <td id=\"T_d12238d4_3856_11ec_baf8_0242ac1c0002row9_col6\" class=\"data row9 col6\" >0</td>\n",
              "                        <td id=\"T_d12238d4_3856_11ec_baf8_0242ac1c0002row9_col7\" class=\"data row9 col7\" >0</td>\n",
              "                        <td id=\"T_d12238d4_3856_11ec_baf8_0242ac1c0002row9_col8\" class=\"data row9 col8\" >0</td>\n",
              "                        <td id=\"T_d12238d4_3856_11ec_baf8_0242ac1c0002row9_col9\" class=\"data row9 col9\" >0</td>\n",
              "                        <td id=\"T_d12238d4_3856_11ec_baf8_0242ac1c0002row9_col10\" class=\"data row9 col10\" >0</td>\n",
              "                        <td id=\"T_d12238d4_3856_11ec_baf8_0242ac1c0002row9_col11\" class=\"data row9 col11\" >0</td>\n",
              "            </tr>\n",
              "            <tr>\n",
              "                        <th id=\"T_d12238d4_3856_11ec_baf8_0242ac1c0002level0_row10\" class=\"row_heading level0 row10\" >Actual F33-42</th>\n",
              "                        <td id=\"T_d12238d4_3856_11ec_baf8_0242ac1c0002row10_col0\" class=\"data row10 col0\" >0</td>\n",
              "                        <td id=\"T_d12238d4_3856_11ec_baf8_0242ac1c0002row10_col1\" class=\"data row10 col1\" >0</td>\n",
              "                        <td id=\"T_d12238d4_3856_11ec_baf8_0242ac1c0002row10_col2\" class=\"data row10 col2\" >0</td>\n",
              "                        <td id=\"T_d12238d4_3856_11ec_baf8_0242ac1c0002row10_col3\" class=\"data row10 col3\" >0</td>\n",
              "                        <td id=\"T_d12238d4_3856_11ec_baf8_0242ac1c0002row10_col4\" class=\"data row10 col4\" >0</td>\n",
              "                        <td id=\"T_d12238d4_3856_11ec_baf8_0242ac1c0002row10_col5\" class=\"data row10 col5\" >137</td>\n",
              "                        <td id=\"T_d12238d4_3856_11ec_baf8_0242ac1c0002row10_col6\" class=\"data row10 col6\" >0</td>\n",
              "                        <td id=\"T_d12238d4_3856_11ec_baf8_0242ac1c0002row10_col7\" class=\"data row10 col7\" >0</td>\n",
              "                        <td id=\"T_d12238d4_3856_11ec_baf8_0242ac1c0002row10_col8\" class=\"data row10 col8\" >0</td>\n",
              "                        <td id=\"T_d12238d4_3856_11ec_baf8_0242ac1c0002row10_col9\" class=\"data row10 col9\" >0</td>\n",
              "                        <td id=\"T_d12238d4_3856_11ec_baf8_0242ac1c0002row10_col10\" class=\"data row10 col10\" >0</td>\n",
              "                        <td id=\"T_d12238d4_3856_11ec_baf8_0242ac1c0002row10_col11\" class=\"data row10 col11\" >0</td>\n",
              "            </tr>\n",
              "            <tr>\n",
              "                        <th id=\"T_d12238d4_3856_11ec_baf8_0242ac1c0002level0_row11\" class=\"row_heading level0 row11\" >Actual F43+</th>\n",
              "                        <td id=\"T_d12238d4_3856_11ec_baf8_0242ac1c0002row11_col0\" class=\"data row11 col0\" >0</td>\n",
              "                        <td id=\"T_d12238d4_3856_11ec_baf8_0242ac1c0002row11_col1\" class=\"data row11 col1\" >0</td>\n",
              "                        <td id=\"T_d12238d4_3856_11ec_baf8_0242ac1c0002row11_col2\" class=\"data row11 col2\" >0</td>\n",
              "                        <td id=\"T_d12238d4_3856_11ec_baf8_0242ac1c0002row11_col3\" class=\"data row11 col3\" >0</td>\n",
              "                        <td id=\"T_d12238d4_3856_11ec_baf8_0242ac1c0002row11_col4\" class=\"data row11 col4\" >0</td>\n",
              "                        <td id=\"T_d12238d4_3856_11ec_baf8_0242ac1c0002row11_col5\" class=\"data row11 col5\" >172</td>\n",
              "                        <td id=\"T_d12238d4_3856_11ec_baf8_0242ac1c0002row11_col6\" class=\"data row11 col6\" >0</td>\n",
              "                        <td id=\"T_d12238d4_3856_11ec_baf8_0242ac1c0002row11_col7\" class=\"data row11 col7\" >0</td>\n",
              "                        <td id=\"T_d12238d4_3856_11ec_baf8_0242ac1c0002row11_col8\" class=\"data row11 col8\" >0</td>\n",
              "                        <td id=\"T_d12238d4_3856_11ec_baf8_0242ac1c0002row11_col9\" class=\"data row11 col9\" >0</td>\n",
              "                        <td id=\"T_d12238d4_3856_11ec_baf8_0242ac1c0002row11_col10\" class=\"data row11 col10\" >0</td>\n",
              "                        <td id=\"T_d12238d4_3856_11ec_baf8_0242ac1c0002row11_col11\" class=\"data row11 col11\" >0</td>\n",
              "            </tr>\n",
              "    </tbody></table>"
            ],
            "text/plain": [
              "<pandas.io.formats.style.Styler at 0x7f62a9c51d50>"
            ]
          },
          "metadata": {},
          "execution_count": 31
        }
      ]
    },
    {
      "cell_type": "code",
      "metadata": {
        "colab": {
          "base_uri": "https://localhost:8080/"
        },
        "id": "X3cE78tBniOg",
        "outputId": "f8634662-a046-4c3b-d981-8fc6ba3a1731"
      },
      "source": [
        "# Model still appears to be extremely overfitting\n",
        "train_score = model.score(X_train, y_train)\n",
        "test_score = model.score(X_test, y_test)\n",
        "\n",
        "print(f\"Train score: {train_score}\")\n",
        "print(f\"Test score: {test_score}\")\n"
      ],
      "execution_count": 32,
      "outputs": [
        {
          "output_type": "stream",
          "name": "stdout",
          "text": [
            "Train score: 0.990290269828291\n",
            "Test score: 0.23252962811606048\n"
          ]
        }
      ]
    },
    {
      "cell_type": "code",
      "metadata": {
        "colab": {
          "base_uri": "https://localhost:8080/"
        },
        "id": "p78wjBydS-8d",
        "outputId": "c0c331e8-365c-4ff8-8b01-d2e8c942c16d"
      },
      "source": [
        "print(\"Classification Report:\")\n",
        "print()\n",
        "print(classification_report(y_test, y_pred))\n"
      ],
      "execution_count": 33,
      "outputs": [
        {
          "output_type": "stream",
          "name": "stdout",
          "text": [
            "Classification Report:\n",
            "\n",
            "              precision    recall  f1-score   support\n",
            "\n",
            "           0       0.00      0.00      0.00       127\n",
            "           1       0.00      0.00      0.00       250\n",
            "           2       0.00      0.00      0.00       177\n",
            "           3       0.00      0.00      0.00       273\n",
            "           4       0.00      0.00      0.00       538\n",
            "           5       0.23      1.00      0.38       569\n",
            "           6       0.00      0.00      0.00        39\n",
            "           7       0.00      0.00      0.00        28\n",
            "           8       0.00      0.00      0.00        56\n",
            "           9       0.00      0.00      0.00        81\n",
            "          10       0.00      0.00      0.00       137\n",
            "          11       0.00      0.00      0.00       172\n",
            "\n",
            "    accuracy                           0.23      2447\n",
            "   macro avg       0.02      0.08      0.03      2447\n",
            "weighted avg       0.05      0.23      0.09      2447\n",
            "\n"
          ]
        }
      ]
    },
    {
      "cell_type": "markdown",
      "metadata": {
        "id": "2KZ00D2iImg0"
      },
      "source": [
        "# Gradient Boosting Classifier"
      ]
    },
    {
      "cell_type": "code",
      "metadata": {
        "colab": {
          "base_uri": "https://localhost:8080/"
        },
        "id": "EkO_P2hZ6G1N",
        "outputId": "43b77e3d-b420-4d1e-d008-41985c5a0f67"
      },
      "source": [
        "pipeline = Pipeline(\n",
        "    [(\"preprocessing\", preprocessing), (\"gb\", GradientBoostingClassifier())], verbose=True\n",
        ")\n",
        "\n",
        "pipeline.fit(X_train, y_train)\n"
      ],
      "execution_count": 34,
      "outputs": [
        {
          "output_type": "stream",
          "name": "stdout",
          "text": [
            "[Pipeline] ..... (step 1 of 2) Processing preprocessing, total=   0.0s\n",
            "[Pipeline] ................ (step 2 of 2) Processing gb, total=  30.4s\n"
          ]
        },
        {
          "output_type": "execute_result",
          "data": {
            "text/plain": [
              "Pipeline(memory=None,\n",
              "         steps=[('preprocessing',\n",
              "                 ColumnTransformer(n_jobs=None, remainder='passthrough',\n",
              "                                   sparse_threshold=0.3,\n",
              "                                   transformer_weights=None,\n",
              "                                   transformers=[('scale',\n",
              "                                                  StandardScaler(copy=True,\n",
              "                                                                 with_mean=True,\n",
              "                                                                 with_std=True),\n",
              "                                                  ['device_id', 'event_id'])],\n",
              "                                   verbose=False)),\n",
              "                ('gb',\n",
              "                 GradientBoostingClassifier(ccp_alpha=0.0,\n",
              "                                            criterion='friedman_mse', init=None,\n",
              "                                            le...='deviance',\n",
              "                                            max_depth=3, max_features=None,\n",
              "                                            max_leaf_nodes=None,\n",
              "                                            min_impurity_decrease=0.0,\n",
              "                                            min_impurity_split=None,\n",
              "                                            min_samples_leaf=1,\n",
              "                                            min_samples_split=2,\n",
              "                                            min_weight_fraction_leaf=0.0,\n",
              "                                            n_estimators=100,\n",
              "                                            n_iter_no_change=None,\n",
              "                                            presort='deprecated',\n",
              "                                            random_state=None, subsample=1.0,\n",
              "                                            tol=0.0001, validation_fraction=0.1,\n",
              "                                            verbose=0, warm_start=False))],\n",
              "         verbose=True)"
            ]
          },
          "metadata": {},
          "execution_count": 34
        }
      ]
    },
    {
      "cell_type": "code",
      "metadata": {
        "colab": {
          "base_uri": "https://localhost:8080/"
        },
        "id": "0QqEUvUJ6G3Q",
        "outputId": "832a7bc9-6b47-48f9-b886-bfae94176af4"
      },
      "source": [
        "grid = {'gb__n_estimators': [100], \n",
        "          'gb__max_depth': [5],\n",
        "          'gb__loss': ['deviance']}\n",
        "\n",
        "model = GridSearchCV(pipeline, grid, verbose=1, cv=3)\n",
        "model.fit(X_train, y_train)\n"
      ],
      "execution_count": 35,
      "outputs": [
        {
          "output_type": "stream",
          "name": "stdout",
          "text": [
            "Fitting 3 folds for each of 1 candidates, totalling 3 fits\n",
            "[Pipeline] ..... (step 1 of 2) Processing preprocessing, total=   0.0s\n"
          ]
        },
        {
          "output_type": "stream",
          "name": "stderr",
          "text": [
            "[Parallel(n_jobs=1)]: Using backend SequentialBackend with 1 concurrent workers.\n"
          ]
        },
        {
          "output_type": "stream",
          "name": "stdout",
          "text": [
            "[Pipeline] ................ (step 2 of 2) Processing gb, total=  27.2s\n",
            "[Pipeline] ..... (step 1 of 2) Processing preprocessing, total=   0.0s\n",
            "[Pipeline] ................ (step 2 of 2) Processing gb, total=  27.0s\n",
            "[Pipeline] ..... (step 1 of 2) Processing preprocessing, total=   0.0s\n",
            "[Pipeline] ................ (step 2 of 2) Processing gb, total=  26.9s\n",
            "[Pipeline] ..... (step 1 of 2) Processing preprocessing, total=   0.0s\n"
          ]
        },
        {
          "output_type": "stream",
          "name": "stderr",
          "text": [
            "[Parallel(n_jobs=1)]: Done   3 out of   3 | elapsed:  1.4min finished\n"
          ]
        },
        {
          "output_type": "stream",
          "name": "stdout",
          "text": [
            "[Pipeline] ................ (step 2 of 2) Processing gb, total=  40.6s\n"
          ]
        },
        {
          "output_type": "execute_result",
          "data": {
            "text/plain": [
              "GridSearchCV(cv=3, error_score=nan,\n",
              "             estimator=Pipeline(memory=None,\n",
              "                                steps=[('preprocessing',\n",
              "                                        ColumnTransformer(n_jobs=None,\n",
              "                                                          remainder='passthrough',\n",
              "                                                          sparse_threshold=0.3,\n",
              "                                                          transformer_weights=None,\n",
              "                                                          transformers=[('scale',\n",
              "                                                                         StandardScaler(copy=True,\n",
              "                                                                                        with_mean=True,\n",
              "                                                                                        with_std=True),\n",
              "                                                                         ['device_id',\n",
              "                                                                          'event_id'])],\n",
              "                                                          verbose=False)),\n",
              "                                       ('gb',\n",
              "                                        GradientBoostingClassifier(ccp_alp...\n",
              "                                                                   n_estimators=100,\n",
              "                                                                   n_iter_no_change=None,\n",
              "                                                                   presort='deprecated',\n",
              "                                                                   random_state=None,\n",
              "                                                                   subsample=1.0,\n",
              "                                                                   tol=0.0001,\n",
              "                                                                   validation_fraction=0.1,\n",
              "                                                                   verbose=0,\n",
              "                                                                   warm_start=False))],\n",
              "                                verbose=True),\n",
              "             iid='deprecated', n_jobs=None,\n",
              "             param_grid={'gb__loss': ['deviance'], 'gb__max_depth': [5],\n",
              "                         'gb__n_estimators': [100]},\n",
              "             pre_dispatch='2*n_jobs', refit=True, return_train_score=False,\n",
              "             scoring=None, verbose=1)"
            ]
          },
          "metadata": {},
          "execution_count": 35
        }
      ]
    },
    {
      "cell_type": "code",
      "metadata": {
        "colab": {
          "base_uri": "https://localhost:8080/"
        },
        "id": "PVFFN2k6ifb8",
        "outputId": "c4d57a3d-5eed-4537-c79c-c497470c197f"
      },
      "source": [
        "model.best_params_"
      ],
      "execution_count": 36,
      "outputs": [
        {
          "output_type": "execute_result",
          "data": {
            "text/plain": [
              "{'gb__loss': 'deviance', 'gb__max_depth': 5, 'gb__n_estimators': 100}"
            ]
          },
          "metadata": {},
          "execution_count": 36
        }
      ]
    },
    {
      "cell_type": "code",
      "metadata": {
        "colab": {
          "base_uri": "https://localhost:8080/"
        },
        "id": "BqWTbreznkYp",
        "outputId": "c432b047-ca1a-4cf1-f5b0-ae0ba2105e6b"
      },
      "source": [
        "# Model still appears to be extremely overfitting\n",
        "train_score = model.score(X_train, y_train)\n",
        "test_score = model.score(X_test, y_test)\n",
        "\n",
        "print(f\"Train score: {train_score}\")\n",
        "print(f\"Test score: {test_score}\")\n"
      ],
      "execution_count": 37,
      "outputs": [
        {
          "output_type": "stream",
          "name": "stdout",
          "text": [
            "Train score: 1.0\n",
            "Test score: 1.0\n"
          ]
        }
      ]
    },
    {
      "cell_type": "code",
      "metadata": {
        "colab": {
          "base_uri": "https://localhost:8080/",
          "height": 414
        },
        "id": "29CCYBDx6G5z",
        "outputId": "6d727a49-ab58-4ac4-9978-73750c703dd4"
      },
      "source": [
        "y_pred = model.predict(X_test)\n",
        "\n",
        "con_mat = pd.DataFrame(\n",
        "    confusion_matrix(y_test, y_pred),\n",
        "    index=[\n",
        "        \"Actual M22-\",\n",
        "        \"Actual M23-26\",\n",
        "        \"Actual M27-28\",\n",
        "        \"Actual M29-31\",\n",
        "        \"Actual M32-38\",\n",
        "        \"Actual M39+\",\n",
        "        \"Actual F23-\",\n",
        "        \"Actual F24-26\",\n",
        "        \"Actual F27-28\",\n",
        "        \"Actual F29-32\",\n",
        "        \"Actual F33-42\",\n",
        "        \"Actual F43+\",\n",
        "    ],\n",
        "    columns=[\n",
        "        \"Predicted M22-\",\n",
        "        \"Predicted M23-26\",\n",
        "        \"Predicted M27-28\",\n",
        "        \"Predicted M29-31\",\n",
        "        \"Predicted M32-38\",\n",
        "        \"Predicted M39+\",\n",
        "        \"Predicted F23-\",\n",
        "        \"Predicted F24-26\",\n",
        "        \"Predicted F27-28\",\n",
        "        \"Predicted F29-32\",\n",
        "        \"Predicted F33-42\",\n",
        "        \"Predicted F43+\",\n",
        "    ],\n",
        ")\n",
        "con_mat.style.background_gradient(axis=None)\n"
      ],
      "execution_count": 38,
      "outputs": [
        {
          "output_type": "execute_result",
          "data": {
            "text/html": [
              "<style  type=\"text/css\" >\n",
              "#T_36717f7e_3857_11ec_baf8_0242ac1c0002row0_col0{\n",
              "            background-color:  #d6d6e9;\n",
              "            color:  #000000;\n",
              "        }#T_36717f7e_3857_11ec_baf8_0242ac1c0002row0_col1,#T_36717f7e_3857_11ec_baf8_0242ac1c0002row0_col2,#T_36717f7e_3857_11ec_baf8_0242ac1c0002row0_col3,#T_36717f7e_3857_11ec_baf8_0242ac1c0002row0_col4,#T_36717f7e_3857_11ec_baf8_0242ac1c0002row0_col5,#T_36717f7e_3857_11ec_baf8_0242ac1c0002row0_col6,#T_36717f7e_3857_11ec_baf8_0242ac1c0002row0_col7,#T_36717f7e_3857_11ec_baf8_0242ac1c0002row0_col8,#T_36717f7e_3857_11ec_baf8_0242ac1c0002row0_col9,#T_36717f7e_3857_11ec_baf8_0242ac1c0002row0_col10,#T_36717f7e_3857_11ec_baf8_0242ac1c0002row0_col11,#T_36717f7e_3857_11ec_baf8_0242ac1c0002row1_col0,#T_36717f7e_3857_11ec_baf8_0242ac1c0002row1_col2,#T_36717f7e_3857_11ec_baf8_0242ac1c0002row1_col3,#T_36717f7e_3857_11ec_baf8_0242ac1c0002row1_col4,#T_36717f7e_3857_11ec_baf8_0242ac1c0002row1_col5,#T_36717f7e_3857_11ec_baf8_0242ac1c0002row1_col6,#T_36717f7e_3857_11ec_baf8_0242ac1c0002row1_col7,#T_36717f7e_3857_11ec_baf8_0242ac1c0002row1_col8,#T_36717f7e_3857_11ec_baf8_0242ac1c0002row1_col9,#T_36717f7e_3857_11ec_baf8_0242ac1c0002row1_col10,#T_36717f7e_3857_11ec_baf8_0242ac1c0002row1_col11,#T_36717f7e_3857_11ec_baf8_0242ac1c0002row2_col0,#T_36717f7e_3857_11ec_baf8_0242ac1c0002row2_col1,#T_36717f7e_3857_11ec_baf8_0242ac1c0002row2_col3,#T_36717f7e_3857_11ec_baf8_0242ac1c0002row2_col4,#T_36717f7e_3857_11ec_baf8_0242ac1c0002row2_col5,#T_36717f7e_3857_11ec_baf8_0242ac1c0002row2_col6,#T_36717f7e_3857_11ec_baf8_0242ac1c0002row2_col7,#T_36717f7e_3857_11ec_baf8_0242ac1c0002row2_col8,#T_36717f7e_3857_11ec_baf8_0242ac1c0002row2_col9,#T_36717f7e_3857_11ec_baf8_0242ac1c0002row2_col10,#T_36717f7e_3857_11ec_baf8_0242ac1c0002row2_col11,#T_36717f7e_3857_11ec_baf8_0242ac1c0002row3_col0,#T_36717f7e_3857_11ec_baf8_0242ac1c0002row3_col1,#T_36717f7e_3857_11ec_baf8_0242ac1c0002row3_col2,#T_36717f7e_3857_11ec_baf8_0242ac1c0002row3_col4,#T_36717f7e_3857_11ec_baf8_0242ac1c0002row3_col5,#T_36717f7e_3857_11ec_baf8_0242ac1c0002row3_col6,#T_36717f7e_3857_11ec_baf8_0242ac1c0002row3_col7,#T_36717f7e_3857_11ec_baf8_0242ac1c0002row3_col8,#T_36717f7e_3857_11ec_baf8_0242ac1c0002row3_col9,#T_36717f7e_3857_11ec_baf8_0242ac1c0002row3_col10,#T_36717f7e_3857_11ec_baf8_0242ac1c0002row3_col11,#T_36717f7e_3857_11ec_baf8_0242ac1c0002row4_col0,#T_36717f7e_3857_11ec_baf8_0242ac1c0002row4_col1,#T_36717f7e_3857_11ec_baf8_0242ac1c0002row4_col2,#T_36717f7e_3857_11ec_baf8_0242ac1c0002row4_col3,#T_36717f7e_3857_11ec_baf8_0242ac1c0002row4_col5,#T_36717f7e_3857_11ec_baf8_0242ac1c0002row4_col6,#T_36717f7e_3857_11ec_baf8_0242ac1c0002row4_col7,#T_36717f7e_3857_11ec_baf8_0242ac1c0002row4_col8,#T_36717f7e_3857_11ec_baf8_0242ac1c0002row4_col9,#T_36717f7e_3857_11ec_baf8_0242ac1c0002row4_col10,#T_36717f7e_3857_11ec_baf8_0242ac1c0002row4_col11,#T_36717f7e_3857_11ec_baf8_0242ac1c0002row5_col0,#T_36717f7e_3857_11ec_baf8_0242ac1c0002row5_col1,#T_36717f7e_3857_11ec_baf8_0242ac1c0002row5_col2,#T_36717f7e_3857_11ec_baf8_0242ac1c0002row5_col3,#T_36717f7e_3857_11ec_baf8_0242ac1c0002row5_col4,#T_36717f7e_3857_11ec_baf8_0242ac1c0002row5_col6,#T_36717f7e_3857_11ec_baf8_0242ac1c0002row5_col7,#T_36717f7e_3857_11ec_baf8_0242ac1c0002row5_col8,#T_36717f7e_3857_11ec_baf8_0242ac1c0002row5_col9,#T_36717f7e_3857_11ec_baf8_0242ac1c0002row5_col10,#T_36717f7e_3857_11ec_baf8_0242ac1c0002row5_col11,#T_36717f7e_3857_11ec_baf8_0242ac1c0002row6_col0,#T_36717f7e_3857_11ec_baf8_0242ac1c0002row6_col1,#T_36717f7e_3857_11ec_baf8_0242ac1c0002row6_col2,#T_36717f7e_3857_11ec_baf8_0242ac1c0002row6_col3,#T_36717f7e_3857_11ec_baf8_0242ac1c0002row6_col4,#T_36717f7e_3857_11ec_baf8_0242ac1c0002row6_col5,#T_36717f7e_3857_11ec_baf8_0242ac1c0002row6_col7,#T_36717f7e_3857_11ec_baf8_0242ac1c0002row6_col8,#T_36717f7e_3857_11ec_baf8_0242ac1c0002row6_col9,#T_36717f7e_3857_11ec_baf8_0242ac1c0002row6_col10,#T_36717f7e_3857_11ec_baf8_0242ac1c0002row6_col11,#T_36717f7e_3857_11ec_baf8_0242ac1c0002row7_col0,#T_36717f7e_3857_11ec_baf8_0242ac1c0002row7_col1,#T_36717f7e_3857_11ec_baf8_0242ac1c0002row7_col2,#T_36717f7e_3857_11ec_baf8_0242ac1c0002row7_col3,#T_36717f7e_3857_11ec_baf8_0242ac1c0002row7_col4,#T_36717f7e_3857_11ec_baf8_0242ac1c0002row7_col5,#T_36717f7e_3857_11ec_baf8_0242ac1c0002row7_col6,#T_36717f7e_3857_11ec_baf8_0242ac1c0002row7_col8,#T_36717f7e_3857_11ec_baf8_0242ac1c0002row7_col9,#T_36717f7e_3857_11ec_baf8_0242ac1c0002row7_col10,#T_36717f7e_3857_11ec_baf8_0242ac1c0002row7_col11,#T_36717f7e_3857_11ec_baf8_0242ac1c0002row8_col0,#T_36717f7e_3857_11ec_baf8_0242ac1c0002row8_col1,#T_36717f7e_3857_11ec_baf8_0242ac1c0002row8_col2,#T_36717f7e_3857_11ec_baf8_0242ac1c0002row8_col3,#T_36717f7e_3857_11ec_baf8_0242ac1c0002row8_col4,#T_36717f7e_3857_11ec_baf8_0242ac1c0002row8_col5,#T_36717f7e_3857_11ec_baf8_0242ac1c0002row8_col6,#T_36717f7e_3857_11ec_baf8_0242ac1c0002row8_col7,#T_36717f7e_3857_11ec_baf8_0242ac1c0002row8_col9,#T_36717f7e_3857_11ec_baf8_0242ac1c0002row8_col10,#T_36717f7e_3857_11ec_baf8_0242ac1c0002row8_col11,#T_36717f7e_3857_11ec_baf8_0242ac1c0002row9_col0,#T_36717f7e_3857_11ec_baf8_0242ac1c0002row9_col1,#T_36717f7e_3857_11ec_baf8_0242ac1c0002row9_col2,#T_36717f7e_3857_11ec_baf8_0242ac1c0002row9_col3,#T_36717f7e_3857_11ec_baf8_0242ac1c0002row9_col4,#T_36717f7e_3857_11ec_baf8_0242ac1c0002row9_col5,#T_36717f7e_3857_11ec_baf8_0242ac1c0002row9_col6,#T_36717f7e_3857_11ec_baf8_0242ac1c0002row9_col7,#T_36717f7e_3857_11ec_baf8_0242ac1c0002row9_col8,#T_36717f7e_3857_11ec_baf8_0242ac1c0002row9_col10,#T_36717f7e_3857_11ec_baf8_0242ac1c0002row9_col11,#T_36717f7e_3857_11ec_baf8_0242ac1c0002row10_col0,#T_36717f7e_3857_11ec_baf8_0242ac1c0002row10_col1,#T_36717f7e_3857_11ec_baf8_0242ac1c0002row10_col2,#T_36717f7e_3857_11ec_baf8_0242ac1c0002row10_col3,#T_36717f7e_3857_11ec_baf8_0242ac1c0002row10_col4,#T_36717f7e_3857_11ec_baf8_0242ac1c0002row10_col5,#T_36717f7e_3857_11ec_baf8_0242ac1c0002row10_col6,#T_36717f7e_3857_11ec_baf8_0242ac1c0002row10_col7,#T_36717f7e_3857_11ec_baf8_0242ac1c0002row10_col8,#T_36717f7e_3857_11ec_baf8_0242ac1c0002row10_col9,#T_36717f7e_3857_11ec_baf8_0242ac1c0002row10_col11,#T_36717f7e_3857_11ec_baf8_0242ac1c0002row11_col0,#T_36717f7e_3857_11ec_baf8_0242ac1c0002row11_col1,#T_36717f7e_3857_11ec_baf8_0242ac1c0002row11_col2,#T_36717f7e_3857_11ec_baf8_0242ac1c0002row11_col3,#T_36717f7e_3857_11ec_baf8_0242ac1c0002row11_col4,#T_36717f7e_3857_11ec_baf8_0242ac1c0002row11_col5,#T_36717f7e_3857_11ec_baf8_0242ac1c0002row11_col6,#T_36717f7e_3857_11ec_baf8_0242ac1c0002row11_col7,#T_36717f7e_3857_11ec_baf8_0242ac1c0002row11_col8,#T_36717f7e_3857_11ec_baf8_0242ac1c0002row11_col9,#T_36717f7e_3857_11ec_baf8_0242ac1c0002row11_col10{\n",
              "            background-color:  #fff7fb;\n",
              "            color:  #000000;\n",
              "        }#T_36717f7e_3857_11ec_baf8_0242ac1c0002row1_col1{\n",
              "            background-color:  #8cb3d5;\n",
              "            color:  #000000;\n",
              "        }#T_36717f7e_3857_11ec_baf8_0242ac1c0002row2_col2{\n",
              "            background-color:  #bcc7e1;\n",
              "            color:  #000000;\n",
              "        }#T_36717f7e_3857_11ec_baf8_0242ac1c0002row3_col3{\n",
              "            background-color:  #7dacd1;\n",
              "            color:  #000000;\n",
              "        }#T_36717f7e_3857_11ec_baf8_0242ac1c0002row4_col4{\n",
              "            background-color:  #03466e;\n",
              "            color:  #f1f1f1;\n",
              "        }#T_36717f7e_3857_11ec_baf8_0242ac1c0002row5_col5{\n",
              "            background-color:  #023858;\n",
              "            color:  #f1f1f1;\n",
              "        }#T_36717f7e_3857_11ec_baf8_0242ac1c0002row6_col6{\n",
              "            background-color:  #f5eef6;\n",
              "            color:  #000000;\n",
              "        }#T_36717f7e_3857_11ec_baf8_0242ac1c0002row7_col7{\n",
              "            background-color:  #f8f1f8;\n",
              "            color:  #000000;\n",
              "        }#T_36717f7e_3857_11ec_baf8_0242ac1c0002row8_col8{\n",
              "            background-color:  #f0eaf4;\n",
              "            color:  #000000;\n",
              "        }#T_36717f7e_3857_11ec_baf8_0242ac1c0002row9_col9{\n",
              "            background-color:  #e8e4f0;\n",
              "            color:  #000000;\n",
              "        }#T_36717f7e_3857_11ec_baf8_0242ac1c0002row10_col10{\n",
              "            background-color:  #d2d3e7;\n",
              "            color:  #000000;\n",
              "        }#T_36717f7e_3857_11ec_baf8_0242ac1c0002row11_col11{\n",
              "            background-color:  #bfc9e1;\n",
              "            color:  #000000;\n",
              "        }</style><table id=\"T_36717f7e_3857_11ec_baf8_0242ac1c0002\" class=\"dataframe\"><thead>    <tr>        <th class=\"blank level0\" ></th>        <th class=\"col_heading level0 col0\" >Predicted M22-</th>        <th class=\"col_heading level0 col1\" >Predicted M23-26</th>        <th class=\"col_heading level0 col2\" >Predicted M27-28</th>        <th class=\"col_heading level0 col3\" >Predicted M29-31</th>        <th class=\"col_heading level0 col4\" >Predicted M32-38</th>        <th class=\"col_heading level0 col5\" >Predicted M39+</th>        <th class=\"col_heading level0 col6\" >Predicted F23-</th>        <th class=\"col_heading level0 col7\" >Predicted F24-26</th>        <th class=\"col_heading level0 col8\" >Predicted F27-28</th>        <th class=\"col_heading level0 col9\" >Predicted F29-32</th>        <th class=\"col_heading level0 col10\" >Predicted F33-42</th>        <th class=\"col_heading level0 col11\" >Predicted F43+</th>    </tr></thead><tbody>\n",
              "                <tr>\n",
              "                        <th id=\"T_36717f7e_3857_11ec_baf8_0242ac1c0002level0_row0\" class=\"row_heading level0 row0\" >Actual M22-</th>\n",
              "                        <td id=\"T_36717f7e_3857_11ec_baf8_0242ac1c0002row0_col0\" class=\"data row0 col0\" >127</td>\n",
              "                        <td id=\"T_36717f7e_3857_11ec_baf8_0242ac1c0002row0_col1\" class=\"data row0 col1\" >0</td>\n",
              "                        <td id=\"T_36717f7e_3857_11ec_baf8_0242ac1c0002row0_col2\" class=\"data row0 col2\" >0</td>\n",
              "                        <td id=\"T_36717f7e_3857_11ec_baf8_0242ac1c0002row0_col3\" class=\"data row0 col3\" >0</td>\n",
              "                        <td id=\"T_36717f7e_3857_11ec_baf8_0242ac1c0002row0_col4\" class=\"data row0 col4\" >0</td>\n",
              "                        <td id=\"T_36717f7e_3857_11ec_baf8_0242ac1c0002row0_col5\" class=\"data row0 col5\" >0</td>\n",
              "                        <td id=\"T_36717f7e_3857_11ec_baf8_0242ac1c0002row0_col6\" class=\"data row0 col6\" >0</td>\n",
              "                        <td id=\"T_36717f7e_3857_11ec_baf8_0242ac1c0002row0_col7\" class=\"data row0 col7\" >0</td>\n",
              "                        <td id=\"T_36717f7e_3857_11ec_baf8_0242ac1c0002row0_col8\" class=\"data row0 col8\" >0</td>\n",
              "                        <td id=\"T_36717f7e_3857_11ec_baf8_0242ac1c0002row0_col9\" class=\"data row0 col9\" >0</td>\n",
              "                        <td id=\"T_36717f7e_3857_11ec_baf8_0242ac1c0002row0_col10\" class=\"data row0 col10\" >0</td>\n",
              "                        <td id=\"T_36717f7e_3857_11ec_baf8_0242ac1c0002row0_col11\" class=\"data row0 col11\" >0</td>\n",
              "            </tr>\n",
              "            <tr>\n",
              "                        <th id=\"T_36717f7e_3857_11ec_baf8_0242ac1c0002level0_row1\" class=\"row_heading level0 row1\" >Actual M23-26</th>\n",
              "                        <td id=\"T_36717f7e_3857_11ec_baf8_0242ac1c0002row1_col0\" class=\"data row1 col0\" >0</td>\n",
              "                        <td id=\"T_36717f7e_3857_11ec_baf8_0242ac1c0002row1_col1\" class=\"data row1 col1\" >250</td>\n",
              "                        <td id=\"T_36717f7e_3857_11ec_baf8_0242ac1c0002row1_col2\" class=\"data row1 col2\" >0</td>\n",
              "                        <td id=\"T_36717f7e_3857_11ec_baf8_0242ac1c0002row1_col3\" class=\"data row1 col3\" >0</td>\n",
              "                        <td id=\"T_36717f7e_3857_11ec_baf8_0242ac1c0002row1_col4\" class=\"data row1 col4\" >0</td>\n",
              "                        <td id=\"T_36717f7e_3857_11ec_baf8_0242ac1c0002row1_col5\" class=\"data row1 col5\" >0</td>\n",
              "                        <td id=\"T_36717f7e_3857_11ec_baf8_0242ac1c0002row1_col6\" class=\"data row1 col6\" >0</td>\n",
              "                        <td id=\"T_36717f7e_3857_11ec_baf8_0242ac1c0002row1_col7\" class=\"data row1 col7\" >0</td>\n",
              "                        <td id=\"T_36717f7e_3857_11ec_baf8_0242ac1c0002row1_col8\" class=\"data row1 col8\" >0</td>\n",
              "                        <td id=\"T_36717f7e_3857_11ec_baf8_0242ac1c0002row1_col9\" class=\"data row1 col9\" >0</td>\n",
              "                        <td id=\"T_36717f7e_3857_11ec_baf8_0242ac1c0002row1_col10\" class=\"data row1 col10\" >0</td>\n",
              "                        <td id=\"T_36717f7e_3857_11ec_baf8_0242ac1c0002row1_col11\" class=\"data row1 col11\" >0</td>\n",
              "            </tr>\n",
              "            <tr>\n",
              "                        <th id=\"T_36717f7e_3857_11ec_baf8_0242ac1c0002level0_row2\" class=\"row_heading level0 row2\" >Actual M27-28</th>\n",
              "                        <td id=\"T_36717f7e_3857_11ec_baf8_0242ac1c0002row2_col0\" class=\"data row2 col0\" >0</td>\n",
              "                        <td id=\"T_36717f7e_3857_11ec_baf8_0242ac1c0002row2_col1\" class=\"data row2 col1\" >0</td>\n",
              "                        <td id=\"T_36717f7e_3857_11ec_baf8_0242ac1c0002row2_col2\" class=\"data row2 col2\" >177</td>\n",
              "                        <td id=\"T_36717f7e_3857_11ec_baf8_0242ac1c0002row2_col3\" class=\"data row2 col3\" >0</td>\n",
              "                        <td id=\"T_36717f7e_3857_11ec_baf8_0242ac1c0002row2_col4\" class=\"data row2 col4\" >0</td>\n",
              "                        <td id=\"T_36717f7e_3857_11ec_baf8_0242ac1c0002row2_col5\" class=\"data row2 col5\" >0</td>\n",
              "                        <td id=\"T_36717f7e_3857_11ec_baf8_0242ac1c0002row2_col6\" class=\"data row2 col6\" >0</td>\n",
              "                        <td id=\"T_36717f7e_3857_11ec_baf8_0242ac1c0002row2_col7\" class=\"data row2 col7\" >0</td>\n",
              "                        <td id=\"T_36717f7e_3857_11ec_baf8_0242ac1c0002row2_col8\" class=\"data row2 col8\" >0</td>\n",
              "                        <td id=\"T_36717f7e_3857_11ec_baf8_0242ac1c0002row2_col9\" class=\"data row2 col9\" >0</td>\n",
              "                        <td id=\"T_36717f7e_3857_11ec_baf8_0242ac1c0002row2_col10\" class=\"data row2 col10\" >0</td>\n",
              "                        <td id=\"T_36717f7e_3857_11ec_baf8_0242ac1c0002row2_col11\" class=\"data row2 col11\" >0</td>\n",
              "            </tr>\n",
              "            <tr>\n",
              "                        <th id=\"T_36717f7e_3857_11ec_baf8_0242ac1c0002level0_row3\" class=\"row_heading level0 row3\" >Actual M29-31</th>\n",
              "                        <td id=\"T_36717f7e_3857_11ec_baf8_0242ac1c0002row3_col0\" class=\"data row3 col0\" >0</td>\n",
              "                        <td id=\"T_36717f7e_3857_11ec_baf8_0242ac1c0002row3_col1\" class=\"data row3 col1\" >0</td>\n",
              "                        <td id=\"T_36717f7e_3857_11ec_baf8_0242ac1c0002row3_col2\" class=\"data row3 col2\" >0</td>\n",
              "                        <td id=\"T_36717f7e_3857_11ec_baf8_0242ac1c0002row3_col3\" class=\"data row3 col3\" >273</td>\n",
              "                        <td id=\"T_36717f7e_3857_11ec_baf8_0242ac1c0002row3_col4\" class=\"data row3 col4\" >0</td>\n",
              "                        <td id=\"T_36717f7e_3857_11ec_baf8_0242ac1c0002row3_col5\" class=\"data row3 col5\" >0</td>\n",
              "                        <td id=\"T_36717f7e_3857_11ec_baf8_0242ac1c0002row3_col6\" class=\"data row3 col6\" >0</td>\n",
              "                        <td id=\"T_36717f7e_3857_11ec_baf8_0242ac1c0002row3_col7\" class=\"data row3 col7\" >0</td>\n",
              "                        <td id=\"T_36717f7e_3857_11ec_baf8_0242ac1c0002row3_col8\" class=\"data row3 col8\" >0</td>\n",
              "                        <td id=\"T_36717f7e_3857_11ec_baf8_0242ac1c0002row3_col9\" class=\"data row3 col9\" >0</td>\n",
              "                        <td id=\"T_36717f7e_3857_11ec_baf8_0242ac1c0002row3_col10\" class=\"data row3 col10\" >0</td>\n",
              "                        <td id=\"T_36717f7e_3857_11ec_baf8_0242ac1c0002row3_col11\" class=\"data row3 col11\" >0</td>\n",
              "            </tr>\n",
              "            <tr>\n",
              "                        <th id=\"T_36717f7e_3857_11ec_baf8_0242ac1c0002level0_row4\" class=\"row_heading level0 row4\" >Actual M32-38</th>\n",
              "                        <td id=\"T_36717f7e_3857_11ec_baf8_0242ac1c0002row4_col0\" class=\"data row4 col0\" >0</td>\n",
              "                        <td id=\"T_36717f7e_3857_11ec_baf8_0242ac1c0002row4_col1\" class=\"data row4 col1\" >0</td>\n",
              "                        <td id=\"T_36717f7e_3857_11ec_baf8_0242ac1c0002row4_col2\" class=\"data row4 col2\" >0</td>\n",
              "                        <td id=\"T_36717f7e_3857_11ec_baf8_0242ac1c0002row4_col3\" class=\"data row4 col3\" >0</td>\n",
              "                        <td id=\"T_36717f7e_3857_11ec_baf8_0242ac1c0002row4_col4\" class=\"data row4 col4\" >538</td>\n",
              "                        <td id=\"T_36717f7e_3857_11ec_baf8_0242ac1c0002row4_col5\" class=\"data row4 col5\" >0</td>\n",
              "                        <td id=\"T_36717f7e_3857_11ec_baf8_0242ac1c0002row4_col6\" class=\"data row4 col6\" >0</td>\n",
              "                        <td id=\"T_36717f7e_3857_11ec_baf8_0242ac1c0002row4_col7\" class=\"data row4 col7\" >0</td>\n",
              "                        <td id=\"T_36717f7e_3857_11ec_baf8_0242ac1c0002row4_col8\" class=\"data row4 col8\" >0</td>\n",
              "                        <td id=\"T_36717f7e_3857_11ec_baf8_0242ac1c0002row4_col9\" class=\"data row4 col9\" >0</td>\n",
              "                        <td id=\"T_36717f7e_3857_11ec_baf8_0242ac1c0002row4_col10\" class=\"data row4 col10\" >0</td>\n",
              "                        <td id=\"T_36717f7e_3857_11ec_baf8_0242ac1c0002row4_col11\" class=\"data row4 col11\" >0</td>\n",
              "            </tr>\n",
              "            <tr>\n",
              "                        <th id=\"T_36717f7e_3857_11ec_baf8_0242ac1c0002level0_row5\" class=\"row_heading level0 row5\" >Actual M39+</th>\n",
              "                        <td id=\"T_36717f7e_3857_11ec_baf8_0242ac1c0002row5_col0\" class=\"data row5 col0\" >0</td>\n",
              "                        <td id=\"T_36717f7e_3857_11ec_baf8_0242ac1c0002row5_col1\" class=\"data row5 col1\" >0</td>\n",
              "                        <td id=\"T_36717f7e_3857_11ec_baf8_0242ac1c0002row5_col2\" class=\"data row5 col2\" >0</td>\n",
              "                        <td id=\"T_36717f7e_3857_11ec_baf8_0242ac1c0002row5_col3\" class=\"data row5 col3\" >0</td>\n",
              "                        <td id=\"T_36717f7e_3857_11ec_baf8_0242ac1c0002row5_col4\" class=\"data row5 col4\" >0</td>\n",
              "                        <td id=\"T_36717f7e_3857_11ec_baf8_0242ac1c0002row5_col5\" class=\"data row5 col5\" >569</td>\n",
              "                        <td id=\"T_36717f7e_3857_11ec_baf8_0242ac1c0002row5_col6\" class=\"data row5 col6\" >0</td>\n",
              "                        <td id=\"T_36717f7e_3857_11ec_baf8_0242ac1c0002row5_col7\" class=\"data row5 col7\" >0</td>\n",
              "                        <td id=\"T_36717f7e_3857_11ec_baf8_0242ac1c0002row5_col8\" class=\"data row5 col8\" >0</td>\n",
              "                        <td id=\"T_36717f7e_3857_11ec_baf8_0242ac1c0002row5_col9\" class=\"data row5 col9\" >0</td>\n",
              "                        <td id=\"T_36717f7e_3857_11ec_baf8_0242ac1c0002row5_col10\" class=\"data row5 col10\" >0</td>\n",
              "                        <td id=\"T_36717f7e_3857_11ec_baf8_0242ac1c0002row5_col11\" class=\"data row5 col11\" >0</td>\n",
              "            </tr>\n",
              "            <tr>\n",
              "                        <th id=\"T_36717f7e_3857_11ec_baf8_0242ac1c0002level0_row6\" class=\"row_heading level0 row6\" >Actual F23-</th>\n",
              "                        <td id=\"T_36717f7e_3857_11ec_baf8_0242ac1c0002row6_col0\" class=\"data row6 col0\" >0</td>\n",
              "                        <td id=\"T_36717f7e_3857_11ec_baf8_0242ac1c0002row6_col1\" class=\"data row6 col1\" >0</td>\n",
              "                        <td id=\"T_36717f7e_3857_11ec_baf8_0242ac1c0002row6_col2\" class=\"data row6 col2\" >0</td>\n",
              "                        <td id=\"T_36717f7e_3857_11ec_baf8_0242ac1c0002row6_col3\" class=\"data row6 col3\" >0</td>\n",
              "                        <td id=\"T_36717f7e_3857_11ec_baf8_0242ac1c0002row6_col4\" class=\"data row6 col4\" >0</td>\n",
              "                        <td id=\"T_36717f7e_3857_11ec_baf8_0242ac1c0002row6_col5\" class=\"data row6 col5\" >0</td>\n",
              "                        <td id=\"T_36717f7e_3857_11ec_baf8_0242ac1c0002row6_col6\" class=\"data row6 col6\" >39</td>\n",
              "                        <td id=\"T_36717f7e_3857_11ec_baf8_0242ac1c0002row6_col7\" class=\"data row6 col7\" >0</td>\n",
              "                        <td id=\"T_36717f7e_3857_11ec_baf8_0242ac1c0002row6_col8\" class=\"data row6 col8\" >0</td>\n",
              "                        <td id=\"T_36717f7e_3857_11ec_baf8_0242ac1c0002row6_col9\" class=\"data row6 col9\" >0</td>\n",
              "                        <td id=\"T_36717f7e_3857_11ec_baf8_0242ac1c0002row6_col10\" class=\"data row6 col10\" >0</td>\n",
              "                        <td id=\"T_36717f7e_3857_11ec_baf8_0242ac1c0002row6_col11\" class=\"data row6 col11\" >0</td>\n",
              "            </tr>\n",
              "            <tr>\n",
              "                        <th id=\"T_36717f7e_3857_11ec_baf8_0242ac1c0002level0_row7\" class=\"row_heading level0 row7\" >Actual F24-26</th>\n",
              "                        <td id=\"T_36717f7e_3857_11ec_baf8_0242ac1c0002row7_col0\" class=\"data row7 col0\" >0</td>\n",
              "                        <td id=\"T_36717f7e_3857_11ec_baf8_0242ac1c0002row7_col1\" class=\"data row7 col1\" >0</td>\n",
              "                        <td id=\"T_36717f7e_3857_11ec_baf8_0242ac1c0002row7_col2\" class=\"data row7 col2\" >0</td>\n",
              "                        <td id=\"T_36717f7e_3857_11ec_baf8_0242ac1c0002row7_col3\" class=\"data row7 col3\" >0</td>\n",
              "                        <td id=\"T_36717f7e_3857_11ec_baf8_0242ac1c0002row7_col4\" class=\"data row7 col4\" >0</td>\n",
              "                        <td id=\"T_36717f7e_3857_11ec_baf8_0242ac1c0002row7_col5\" class=\"data row7 col5\" >0</td>\n",
              "                        <td id=\"T_36717f7e_3857_11ec_baf8_0242ac1c0002row7_col6\" class=\"data row7 col6\" >0</td>\n",
              "                        <td id=\"T_36717f7e_3857_11ec_baf8_0242ac1c0002row7_col7\" class=\"data row7 col7\" >28</td>\n",
              "                        <td id=\"T_36717f7e_3857_11ec_baf8_0242ac1c0002row7_col8\" class=\"data row7 col8\" >0</td>\n",
              "                        <td id=\"T_36717f7e_3857_11ec_baf8_0242ac1c0002row7_col9\" class=\"data row7 col9\" >0</td>\n",
              "                        <td id=\"T_36717f7e_3857_11ec_baf8_0242ac1c0002row7_col10\" class=\"data row7 col10\" >0</td>\n",
              "                        <td id=\"T_36717f7e_3857_11ec_baf8_0242ac1c0002row7_col11\" class=\"data row7 col11\" >0</td>\n",
              "            </tr>\n",
              "            <tr>\n",
              "                        <th id=\"T_36717f7e_3857_11ec_baf8_0242ac1c0002level0_row8\" class=\"row_heading level0 row8\" >Actual F27-28</th>\n",
              "                        <td id=\"T_36717f7e_3857_11ec_baf8_0242ac1c0002row8_col0\" class=\"data row8 col0\" >0</td>\n",
              "                        <td id=\"T_36717f7e_3857_11ec_baf8_0242ac1c0002row8_col1\" class=\"data row8 col1\" >0</td>\n",
              "                        <td id=\"T_36717f7e_3857_11ec_baf8_0242ac1c0002row8_col2\" class=\"data row8 col2\" >0</td>\n",
              "                        <td id=\"T_36717f7e_3857_11ec_baf8_0242ac1c0002row8_col3\" class=\"data row8 col3\" >0</td>\n",
              "                        <td id=\"T_36717f7e_3857_11ec_baf8_0242ac1c0002row8_col4\" class=\"data row8 col4\" >0</td>\n",
              "                        <td id=\"T_36717f7e_3857_11ec_baf8_0242ac1c0002row8_col5\" class=\"data row8 col5\" >0</td>\n",
              "                        <td id=\"T_36717f7e_3857_11ec_baf8_0242ac1c0002row8_col6\" class=\"data row8 col6\" >0</td>\n",
              "                        <td id=\"T_36717f7e_3857_11ec_baf8_0242ac1c0002row8_col7\" class=\"data row8 col7\" >0</td>\n",
              "                        <td id=\"T_36717f7e_3857_11ec_baf8_0242ac1c0002row8_col8\" class=\"data row8 col8\" >56</td>\n",
              "                        <td id=\"T_36717f7e_3857_11ec_baf8_0242ac1c0002row8_col9\" class=\"data row8 col9\" >0</td>\n",
              "                        <td id=\"T_36717f7e_3857_11ec_baf8_0242ac1c0002row8_col10\" class=\"data row8 col10\" >0</td>\n",
              "                        <td id=\"T_36717f7e_3857_11ec_baf8_0242ac1c0002row8_col11\" class=\"data row8 col11\" >0</td>\n",
              "            </tr>\n",
              "            <tr>\n",
              "                        <th id=\"T_36717f7e_3857_11ec_baf8_0242ac1c0002level0_row9\" class=\"row_heading level0 row9\" >Actual F29-32</th>\n",
              "                        <td id=\"T_36717f7e_3857_11ec_baf8_0242ac1c0002row9_col0\" class=\"data row9 col0\" >0</td>\n",
              "                        <td id=\"T_36717f7e_3857_11ec_baf8_0242ac1c0002row9_col1\" class=\"data row9 col1\" >0</td>\n",
              "                        <td id=\"T_36717f7e_3857_11ec_baf8_0242ac1c0002row9_col2\" class=\"data row9 col2\" >0</td>\n",
              "                        <td id=\"T_36717f7e_3857_11ec_baf8_0242ac1c0002row9_col3\" class=\"data row9 col3\" >0</td>\n",
              "                        <td id=\"T_36717f7e_3857_11ec_baf8_0242ac1c0002row9_col4\" class=\"data row9 col4\" >0</td>\n",
              "                        <td id=\"T_36717f7e_3857_11ec_baf8_0242ac1c0002row9_col5\" class=\"data row9 col5\" >0</td>\n",
              "                        <td id=\"T_36717f7e_3857_11ec_baf8_0242ac1c0002row9_col6\" class=\"data row9 col6\" >0</td>\n",
              "                        <td id=\"T_36717f7e_3857_11ec_baf8_0242ac1c0002row9_col7\" class=\"data row9 col7\" >0</td>\n",
              "                        <td id=\"T_36717f7e_3857_11ec_baf8_0242ac1c0002row9_col8\" class=\"data row9 col8\" >0</td>\n",
              "                        <td id=\"T_36717f7e_3857_11ec_baf8_0242ac1c0002row9_col9\" class=\"data row9 col9\" >81</td>\n",
              "                        <td id=\"T_36717f7e_3857_11ec_baf8_0242ac1c0002row9_col10\" class=\"data row9 col10\" >0</td>\n",
              "                        <td id=\"T_36717f7e_3857_11ec_baf8_0242ac1c0002row9_col11\" class=\"data row9 col11\" >0</td>\n",
              "            </tr>\n",
              "            <tr>\n",
              "                        <th id=\"T_36717f7e_3857_11ec_baf8_0242ac1c0002level0_row10\" class=\"row_heading level0 row10\" >Actual F33-42</th>\n",
              "                        <td id=\"T_36717f7e_3857_11ec_baf8_0242ac1c0002row10_col0\" class=\"data row10 col0\" >0</td>\n",
              "                        <td id=\"T_36717f7e_3857_11ec_baf8_0242ac1c0002row10_col1\" class=\"data row10 col1\" >0</td>\n",
              "                        <td id=\"T_36717f7e_3857_11ec_baf8_0242ac1c0002row10_col2\" class=\"data row10 col2\" >0</td>\n",
              "                        <td id=\"T_36717f7e_3857_11ec_baf8_0242ac1c0002row10_col3\" class=\"data row10 col3\" >0</td>\n",
              "                        <td id=\"T_36717f7e_3857_11ec_baf8_0242ac1c0002row10_col4\" class=\"data row10 col4\" >0</td>\n",
              "                        <td id=\"T_36717f7e_3857_11ec_baf8_0242ac1c0002row10_col5\" class=\"data row10 col5\" >0</td>\n",
              "                        <td id=\"T_36717f7e_3857_11ec_baf8_0242ac1c0002row10_col6\" class=\"data row10 col6\" >0</td>\n",
              "                        <td id=\"T_36717f7e_3857_11ec_baf8_0242ac1c0002row10_col7\" class=\"data row10 col7\" >0</td>\n",
              "                        <td id=\"T_36717f7e_3857_11ec_baf8_0242ac1c0002row10_col8\" class=\"data row10 col8\" >0</td>\n",
              "                        <td id=\"T_36717f7e_3857_11ec_baf8_0242ac1c0002row10_col9\" class=\"data row10 col9\" >0</td>\n",
              "                        <td id=\"T_36717f7e_3857_11ec_baf8_0242ac1c0002row10_col10\" class=\"data row10 col10\" >137</td>\n",
              "                        <td id=\"T_36717f7e_3857_11ec_baf8_0242ac1c0002row10_col11\" class=\"data row10 col11\" >0</td>\n",
              "            </tr>\n",
              "            <tr>\n",
              "                        <th id=\"T_36717f7e_3857_11ec_baf8_0242ac1c0002level0_row11\" class=\"row_heading level0 row11\" >Actual F43+</th>\n",
              "                        <td id=\"T_36717f7e_3857_11ec_baf8_0242ac1c0002row11_col0\" class=\"data row11 col0\" >0</td>\n",
              "                        <td id=\"T_36717f7e_3857_11ec_baf8_0242ac1c0002row11_col1\" class=\"data row11 col1\" >0</td>\n",
              "                        <td id=\"T_36717f7e_3857_11ec_baf8_0242ac1c0002row11_col2\" class=\"data row11 col2\" >0</td>\n",
              "                        <td id=\"T_36717f7e_3857_11ec_baf8_0242ac1c0002row11_col3\" class=\"data row11 col3\" >0</td>\n",
              "                        <td id=\"T_36717f7e_3857_11ec_baf8_0242ac1c0002row11_col4\" class=\"data row11 col4\" >0</td>\n",
              "                        <td id=\"T_36717f7e_3857_11ec_baf8_0242ac1c0002row11_col5\" class=\"data row11 col5\" >0</td>\n",
              "                        <td id=\"T_36717f7e_3857_11ec_baf8_0242ac1c0002row11_col6\" class=\"data row11 col6\" >0</td>\n",
              "                        <td id=\"T_36717f7e_3857_11ec_baf8_0242ac1c0002row11_col7\" class=\"data row11 col7\" >0</td>\n",
              "                        <td id=\"T_36717f7e_3857_11ec_baf8_0242ac1c0002row11_col8\" class=\"data row11 col8\" >0</td>\n",
              "                        <td id=\"T_36717f7e_3857_11ec_baf8_0242ac1c0002row11_col9\" class=\"data row11 col9\" >0</td>\n",
              "                        <td id=\"T_36717f7e_3857_11ec_baf8_0242ac1c0002row11_col10\" class=\"data row11 col10\" >0</td>\n",
              "                        <td id=\"T_36717f7e_3857_11ec_baf8_0242ac1c0002row11_col11\" class=\"data row11 col11\" >172</td>\n",
              "            </tr>\n",
              "    </tbody></table>"
            ],
            "text/plain": [
              "<pandas.io.formats.style.Styler at 0x7f62a9857e50>"
            ]
          },
          "metadata": {},
          "execution_count": 38
        }
      ]
    },
    {
      "cell_type": "code",
      "metadata": {
        "colab": {
          "base_uri": "https://localhost:8080/"
        },
        "id": "iWPqT4Eh6G8X",
        "outputId": "c10bfb95-8ae3-4efe-d2bf-78b4c74e181a"
      },
      "source": [
        "print(\"Classification Report:\")\n",
        "print()\n",
        "print(classification_report(y_test, y_pred))\n"
      ],
      "execution_count": 39,
      "outputs": [
        {
          "output_type": "stream",
          "name": "stdout",
          "text": [
            "Classification Report:\n",
            "\n",
            "              precision    recall  f1-score   support\n",
            "\n",
            "           0       1.00      1.00      1.00       127\n",
            "           1       1.00      1.00      1.00       250\n",
            "           2       1.00      1.00      1.00       177\n",
            "           3       1.00      1.00      1.00       273\n",
            "           4       1.00      1.00      1.00       538\n",
            "           5       1.00      1.00      1.00       569\n",
            "           6       1.00      1.00      1.00        39\n",
            "           7       1.00      1.00      1.00        28\n",
            "           8       1.00      1.00      1.00        56\n",
            "           9       1.00      1.00      1.00        81\n",
            "          10       1.00      1.00      1.00       137\n",
            "          11       1.00      1.00      1.00       172\n",
            "\n",
            "    accuracy                           1.00      2447\n",
            "   macro avg       1.00      1.00      1.00      2447\n",
            "weighted avg       1.00      1.00      1.00      2447\n",
            "\n"
          ]
        }
      ]
    },
    {
      "cell_type": "markdown",
      "metadata": {
        "id": "qeqFuDfmr-DP"
      },
      "source": [
        "# PCA Models"
      ]
    },
    {
      "cell_type": "code",
      "metadata": {
        "id": "Uqre0UVGr_fJ"
      },
      "source": [
        "# Since I am performing pca its necessary to standardize data and fit it to data frame.\n",
        "scaler = StandardScaler()\n",
        "X_train_std = scaler.fit_transform(X_train)\n",
        "\n",
        "# Computing the principal components\n",
        "pca = PCA()\n",
        "X_pca = pca.fit_transform(X_train_std)\n"
      ],
      "execution_count": 40,
      "outputs": []
    },
    {
      "cell_type": "code",
      "metadata": {
        "id": "Jo-l5GYosKgs"
      },
      "source": [
        "# I plan to use the amount of components that add up to 90% variance.\n",
        "n_components = np.sum(np.cumsum(pca.explained_variance_ratio_) < 0.90)\n",
        "X_pca = X_pca[:, :n_components]\n"
      ],
      "execution_count": 41,
      "outputs": []
    },
    {
      "cell_type": "code",
      "metadata": {
        "colab": {
          "base_uri": "https://localhost:8080/"
        },
        "id": "9UyVl_rWsOxR",
        "outputId": "4f353ce4-b269-4cdd-9248-786be37872fb"
      },
      "source": [
        "# check to see the amount of components being used\n",
        "n_components\n"
      ],
      "execution_count": 42,
      "outputs": [
        {
          "output_type": "execute_result",
          "data": {
            "text/plain": [
              "47"
            ]
          },
          "metadata": {},
          "execution_count": 42
        }
      ]
    },
    {
      "cell_type": "markdown",
      "metadata": {
        "id": "QE9jb2r1sQtx"
      },
      "source": [
        "# Random Forest Classifier"
      ]
    },
    {
      "cell_type": "code",
      "metadata": {
        "id": "O9CHYcI3sSvK"
      },
      "source": [
        "pipeline = Pipeline(\n",
        "    [\n",
        "        (\"scaler\", StandardScaler()),\n",
        "        (\"pca\", PCA(n_components=n_components)),\n",
        "        (\"rf\", RandomForestClassifier()),\n",
        "    ]\n",
        ")\n",
        "pipeline = pipeline.fit(X_train, y_train)\n"
      ],
      "execution_count": 43,
      "outputs": []
    },
    {
      "cell_type": "markdown",
      "metadata": {
        "id": "ah-_0S8jsb7p"
      },
      "source": [
        "GridSearch"
      ]
    },
    {
      "cell_type": "code",
      "metadata": {
        "colab": {
          "base_uri": "https://localhost:8080/"
        },
        "id": "8rlQN2IvsaMj",
        "outputId": "e27b2953-0907-4450-b9be-c467ccdc1e5f"
      },
      "source": [
        "grid = {\n",
        "    \"rf__max_depth\": [90, 110, 130],\n",
        "    \"rf__n_estimators\": [1, 10, 100],\n",
        "    \"rf__min_samples_leaf\": [1, 3, 5, 7],\n",
        "    \"rf__criterion\": [\"gini\"],\n",
        "}\n",
        "\n",
        "model = GridSearchCV(pipeline, grid, n_jobs=-1, cv=2, verbose=2)\n",
        "model.fit(X_train, y_train)\n"
      ],
      "execution_count": 44,
      "outputs": [
        {
          "output_type": "stream",
          "name": "stdout",
          "text": [
            "Fitting 2 folds for each of 36 candidates, totalling 72 fits\n"
          ]
        },
        {
          "output_type": "stream",
          "name": "stderr",
          "text": [
            "[Parallel(n_jobs=-1)]: Using backend LokyBackend with 2 concurrent workers.\n",
            "[Parallel(n_jobs=-1)]: Done  37 tasks      | elapsed:   39.9s\n",
            "[Parallel(n_jobs=-1)]: Done  72 out of  72 | elapsed:  1.3min finished\n"
          ]
        },
        {
          "output_type": "execute_result",
          "data": {
            "text/plain": [
              "GridSearchCV(cv=2, error_score=nan,\n",
              "             estimator=Pipeline(memory=None,\n",
              "                                steps=[('scaler',\n",
              "                                        StandardScaler(copy=True,\n",
              "                                                       with_mean=True,\n",
              "                                                       with_std=True)),\n",
              "                                       ('pca',\n",
              "                                        PCA(copy=True, iterated_power='auto',\n",
              "                                            n_components=47, random_state=None,\n",
              "                                            svd_solver='auto', tol=0.0,\n",
              "                                            whiten=False)),\n",
              "                                       ('rf',\n",
              "                                        RandomForestClassifier(bootstrap=True,\n",
              "                                                               ccp_alpha=0.0,\n",
              "                                                               class_weight=None,\n",
              "                                                               criterion='gini',\n",
              "                                                               m...\n",
              "                                                               min_weight_fraction_leaf=0.0,\n",
              "                                                               n_estimators=100,\n",
              "                                                               n_jobs=None,\n",
              "                                                               oob_score=False,\n",
              "                                                               random_state=None,\n",
              "                                                               verbose=0,\n",
              "                                                               warm_start=False))],\n",
              "                                verbose=False),\n",
              "             iid='deprecated', n_jobs=-1,\n",
              "             param_grid={'rf__criterion': ['gini'],\n",
              "                         'rf__max_depth': [90, 110, 130],\n",
              "                         'rf__min_samples_leaf': [1, 3, 5, 7],\n",
              "                         'rf__n_estimators': [1, 10, 100]},\n",
              "             pre_dispatch='2*n_jobs', refit=True, return_train_score=False,\n",
              "             scoring=None, verbose=2)"
            ]
          },
          "metadata": {},
          "execution_count": 44
        }
      ]
    },
    {
      "cell_type": "code",
      "metadata": {
        "colab": {
          "base_uri": "https://localhost:8080/"
        },
        "id": "DO3iW0UysdgC",
        "outputId": "2f532e63-90f3-4fbb-a3ac-38fbb2b31a3d"
      },
      "source": [
        "model.best_params_\n"
      ],
      "execution_count": 45,
      "outputs": [
        {
          "output_type": "execute_result",
          "data": {
            "text/plain": [
              "{'rf__criterion': 'gini',\n",
              " 'rf__max_depth': 130,\n",
              " 'rf__min_samples_leaf': 3,\n",
              " 'rf__n_estimators': 100}"
            ]
          },
          "metadata": {},
          "execution_count": 45
        }
      ]
    },
    {
      "cell_type": "code",
      "metadata": {
        "colab": {
          "base_uri": "https://localhost:8080/"
        },
        "id": "WNJHfmYZswuB",
        "outputId": "55f40017-29c1-412b-dbdd-a6524696836b"
      },
      "source": [
        "# Model still appears to be extremely overfitting\n",
        "train_score = model.score(X_train, y_train)\n",
        "test_score = model.score(X_test, y_test)\n",
        "\n",
        "print(f\"Train score: {train_score}\")\n",
        "print(f\"Test score: {test_score}\")\n"
      ],
      "execution_count": 46,
      "outputs": [
        {
          "output_type": "stream",
          "name": "stdout",
          "text": [
            "Train score: 0.9648405560098119\n",
            "Test score: 0.723334695545566\n"
          ]
        }
      ]
    },
    {
      "cell_type": "code",
      "metadata": {
        "colab": {
          "base_uri": "https://localhost:8080/",
          "height": 414
        },
        "id": "Gj5cOkHcterr",
        "outputId": "b207dfdf-9757-4127-9192-ca562f2cf041"
      },
      "source": [
        "y_pred = model.predict(X_test)\n",
        "\n",
        "con_mat = pd.DataFrame(\n",
        "    confusion_matrix(y_test, y_pred),\n",
        "    index=[\n",
        "        \"Actual M22-\",\n",
        "        \"Actual M23-26\",\n",
        "        \"Actual M27-28\",\n",
        "        \"Actual M29-31\",\n",
        "        \"Actual M32-38\",\n",
        "        \"Actual M39+\",\n",
        "        \"Actual F23-\",\n",
        "        \"Actual F24-26\",\n",
        "        \"Actual F27-28\",\n",
        "        \"Actual F29-32\",\n",
        "        \"Actual F33-42\",\n",
        "        \"Actual F43+\",\n",
        "    ],\n",
        "    columns=[\n",
        "        \"Predicted M22-\",\n",
        "        \"Predicted M23-26\",\n",
        "        \"Predicted M27-28\",\n",
        "        \"Predicted M29-31\",\n",
        "        \"Predicted M32-38\",\n",
        "        \"Predicted M39+\",\n",
        "        \"Predicted F23-\",\n",
        "        \"Predicted F24-26\",\n",
        "        \"Predicted F27-28\",\n",
        "        \"Predicted F29-32\",\n",
        "        \"Predicted F33-42\",\n",
        "        \"Predicted F43+\",\n",
        "    ],\n",
        ")\n",
        "con_mat.style.background_gradient(axis=None)\n"
      ],
      "execution_count": 47,
      "outputs": [
        {
          "output_type": "execute_result",
          "data": {
            "text/html": [
              "<style  type=\"text/css\" >\n",
              "#T_6e9efb56_3857_11ec_baf8_0242ac1c0002row0_col0{\n",
              "            background-color:  #dfddec;\n",
              "            color:  #000000;\n",
              "        }#T_6e9efb56_3857_11ec_baf8_0242ac1c0002row0_col1,#T_6e9efb56_3857_11ec_baf8_0242ac1c0002row0_col3,#T_6e9efb56_3857_11ec_baf8_0242ac1c0002row1_col2,#T_6e9efb56_3857_11ec_baf8_0242ac1c0002row1_col3,#T_6e9efb56_3857_11ec_baf8_0242ac1c0002row2_col4,#T_6e9efb56_3857_11ec_baf8_0242ac1c0002row3_col0,#T_6e9efb56_3857_11ec_baf8_0242ac1c0002row3_col1,#T_6e9efb56_3857_11ec_baf8_0242ac1c0002row5_col9,#T_6e9efb56_3857_11ec_baf8_0242ac1c0002row7_col5,#T_6e9efb56_3857_11ec_baf8_0242ac1c0002row8_col1,#T_6e9efb56_3857_11ec_baf8_0242ac1c0002row8_col3,#T_6e9efb56_3857_11ec_baf8_0242ac1c0002row8_col5,#T_6e9efb56_3857_11ec_baf8_0242ac1c0002row10_col4,#T_6e9efb56_3857_11ec_baf8_0242ac1c0002row11_col1,#T_6e9efb56_3857_11ec_baf8_0242ac1c0002row11_col2{\n",
              "            background-color:  #fdf5fa;\n",
              "            color:  #000000;\n",
              "        }#T_6e9efb56_3857_11ec_baf8_0242ac1c0002row0_col2,#T_6e9efb56_3857_11ec_baf8_0242ac1c0002row0_col6,#T_6e9efb56_3857_11ec_baf8_0242ac1c0002row0_col7,#T_6e9efb56_3857_11ec_baf8_0242ac1c0002row0_col8,#T_6e9efb56_3857_11ec_baf8_0242ac1c0002row0_col9,#T_6e9efb56_3857_11ec_baf8_0242ac1c0002row0_col10,#T_6e9efb56_3857_11ec_baf8_0242ac1c0002row0_col11,#T_6e9efb56_3857_11ec_baf8_0242ac1c0002row1_col6,#T_6e9efb56_3857_11ec_baf8_0242ac1c0002row1_col7,#T_6e9efb56_3857_11ec_baf8_0242ac1c0002row1_col8,#T_6e9efb56_3857_11ec_baf8_0242ac1c0002row1_col10,#T_6e9efb56_3857_11ec_baf8_0242ac1c0002row2_col3,#T_6e9efb56_3857_11ec_baf8_0242ac1c0002row2_col6,#T_6e9efb56_3857_11ec_baf8_0242ac1c0002row2_col7,#T_6e9efb56_3857_11ec_baf8_0242ac1c0002row2_col8,#T_6e9efb56_3857_11ec_baf8_0242ac1c0002row2_col9,#T_6e9efb56_3857_11ec_baf8_0242ac1c0002row3_col6,#T_6e9efb56_3857_11ec_baf8_0242ac1c0002row3_col7,#T_6e9efb56_3857_11ec_baf8_0242ac1c0002row3_col8,#T_6e9efb56_3857_11ec_baf8_0242ac1c0002row3_col9,#T_6e9efb56_3857_11ec_baf8_0242ac1c0002row4_col1,#T_6e9efb56_3857_11ec_baf8_0242ac1c0002row4_col6,#T_6e9efb56_3857_11ec_baf8_0242ac1c0002row4_col8,#T_6e9efb56_3857_11ec_baf8_0242ac1c0002row5_col6,#T_6e9efb56_3857_11ec_baf8_0242ac1c0002row5_col8,#T_6e9efb56_3857_11ec_baf8_0242ac1c0002row5_col11,#T_6e9efb56_3857_11ec_baf8_0242ac1c0002row6_col0,#T_6e9efb56_3857_11ec_baf8_0242ac1c0002row6_col1,#T_6e9efb56_3857_11ec_baf8_0242ac1c0002row6_col2,#T_6e9efb56_3857_11ec_baf8_0242ac1c0002row6_col7,#T_6e9efb56_3857_11ec_baf8_0242ac1c0002row6_col8,#T_6e9efb56_3857_11ec_baf8_0242ac1c0002row6_col9,#T_6e9efb56_3857_11ec_baf8_0242ac1c0002row6_col11,#T_6e9efb56_3857_11ec_baf8_0242ac1c0002row7_col1,#T_6e9efb56_3857_11ec_baf8_0242ac1c0002row7_col2,#T_6e9efb56_3857_11ec_baf8_0242ac1c0002row7_col3,#T_6e9efb56_3857_11ec_baf8_0242ac1c0002row7_col6,#T_6e9efb56_3857_11ec_baf8_0242ac1c0002row7_col8,#T_6e9efb56_3857_11ec_baf8_0242ac1c0002row7_col9,#T_6e9efb56_3857_11ec_baf8_0242ac1c0002row7_col11,#T_6e9efb56_3857_11ec_baf8_0242ac1c0002row8_col0,#T_6e9efb56_3857_11ec_baf8_0242ac1c0002row8_col2,#T_6e9efb56_3857_11ec_baf8_0242ac1c0002row8_col6,#T_6e9efb56_3857_11ec_baf8_0242ac1c0002row8_col7,#T_6e9efb56_3857_11ec_baf8_0242ac1c0002row8_col9,#T_6e9efb56_3857_11ec_baf8_0242ac1c0002row8_col10,#T_6e9efb56_3857_11ec_baf8_0242ac1c0002row8_col11,#T_6e9efb56_3857_11ec_baf8_0242ac1c0002row9_col1,#T_6e9efb56_3857_11ec_baf8_0242ac1c0002row9_col2,#T_6e9efb56_3857_11ec_baf8_0242ac1c0002row9_col3,#T_6e9efb56_3857_11ec_baf8_0242ac1c0002row9_col6,#T_6e9efb56_3857_11ec_baf8_0242ac1c0002row9_col7,#T_6e9efb56_3857_11ec_baf8_0242ac1c0002row9_col8,#T_6e9efb56_3857_11ec_baf8_0242ac1c0002row9_col11,#T_6e9efb56_3857_11ec_baf8_0242ac1c0002row10_col2,#T_6e9efb56_3857_11ec_baf8_0242ac1c0002row10_col7,#T_6e9efb56_3857_11ec_baf8_0242ac1c0002row10_col8,#T_6e9efb56_3857_11ec_baf8_0242ac1c0002row10_col9,#T_6e9efb56_3857_11ec_baf8_0242ac1c0002row11_col0,#T_6e9efb56_3857_11ec_baf8_0242ac1c0002row11_col6,#T_6e9efb56_3857_11ec_baf8_0242ac1c0002row11_col7,#T_6e9efb56_3857_11ec_baf8_0242ac1c0002row11_col8,#T_6e9efb56_3857_11ec_baf8_0242ac1c0002row11_col9{\n",
              "            background-color:  #fff7fb;\n",
              "            color:  #000000;\n",
              "        }#T_6e9efb56_3857_11ec_baf8_0242ac1c0002row0_col4,#T_6e9efb56_3857_11ec_baf8_0242ac1c0002row1_col4,#T_6e9efb56_3857_11ec_baf8_0242ac1c0002row9_col5{\n",
              "            background-color:  #fbf4f9;\n",
              "            color:  #000000;\n",
              "        }#T_6e9efb56_3857_11ec_baf8_0242ac1c0002row0_col5,#T_6e9efb56_3857_11ec_baf8_0242ac1c0002row4_col11,#T_6e9efb56_3857_11ec_baf8_0242ac1c0002row11_col5{\n",
              "            background-color:  #f9f2f8;\n",
              "            color:  #000000;\n",
              "        }#T_6e9efb56_3857_11ec_baf8_0242ac1c0002row1_col0,#T_6e9efb56_3857_11ec_baf8_0242ac1c0002row1_col9,#T_6e9efb56_3857_11ec_baf8_0242ac1c0002row1_col11,#T_6e9efb56_3857_11ec_baf8_0242ac1c0002row2_col0,#T_6e9efb56_3857_11ec_baf8_0242ac1c0002row2_col10,#T_6e9efb56_3857_11ec_baf8_0242ac1c0002row2_col11,#T_6e9efb56_3857_11ec_baf8_0242ac1c0002row4_col2,#T_6e9efb56_3857_11ec_baf8_0242ac1c0002row5_col2,#T_6e9efb56_3857_11ec_baf8_0242ac1c0002row5_col7,#T_6e9efb56_3857_11ec_baf8_0242ac1c0002row6_col10,#T_6e9efb56_3857_11ec_baf8_0242ac1c0002row7_col0,#T_6e9efb56_3857_11ec_baf8_0242ac1c0002row7_col4,#T_6e9efb56_3857_11ec_baf8_0242ac1c0002row7_col10,#T_6e9efb56_3857_11ec_baf8_0242ac1c0002row9_col0,#T_6e9efb56_3857_11ec_baf8_0242ac1c0002row9_col10,#T_6e9efb56_3857_11ec_baf8_0242ac1c0002row10_col0,#T_6e9efb56_3857_11ec_baf8_0242ac1c0002row10_col1,#T_6e9efb56_3857_11ec_baf8_0242ac1c0002row10_col3,#T_6e9efb56_3857_11ec_baf8_0242ac1c0002row10_col6,#T_6e9efb56_3857_11ec_baf8_0242ac1c0002row11_col10{\n",
              "            background-color:  #fef6fb;\n",
              "            color:  #000000;\n",
              "        }#T_6e9efb56_3857_11ec_baf8_0242ac1c0002row1_col1{\n",
              "            background-color:  #91b5d6;\n",
              "            color:  #000000;\n",
              "        }#T_6e9efb56_3857_11ec_baf8_0242ac1c0002row1_col5,#T_6e9efb56_3857_11ec_baf8_0242ac1c0002row4_col3,#T_6e9efb56_3857_11ec_baf8_0242ac1c0002row6_col6{\n",
              "            background-color:  #f8f1f8;\n",
              "            color:  #000000;\n",
              "        }#T_6e9efb56_3857_11ec_baf8_0242ac1c0002row2_col1,#T_6e9efb56_3857_11ec_baf8_0242ac1c0002row5_col3{\n",
              "            background-color:  #faf2f8;\n",
              "            color:  #000000;\n",
              "        }#T_6e9efb56_3857_11ec_baf8_0242ac1c0002row2_col2{\n",
              "            background-color:  #bdc8e1;\n",
              "            color:  #000000;\n",
              "        }#T_6e9efb56_3857_11ec_baf8_0242ac1c0002row2_col5,#T_6e9efb56_3857_11ec_baf8_0242ac1c0002row5_col0,#T_6e9efb56_3857_11ec_baf8_0242ac1c0002row6_col5{\n",
              "            background-color:  #fcf4fa;\n",
              "            color:  #000000;\n",
              "        }#T_6e9efb56_3857_11ec_baf8_0242ac1c0002row3_col2,#T_6e9efb56_3857_11ec_baf8_0242ac1c0002row3_col10,#T_6e9efb56_3857_11ec_baf8_0242ac1c0002row3_col11,#T_6e9efb56_3857_11ec_baf8_0242ac1c0002row4_col0,#T_6e9efb56_3857_11ec_baf8_0242ac1c0002row4_col7,#T_6e9efb56_3857_11ec_baf8_0242ac1c0002row4_col9,#T_6e9efb56_3857_11ec_baf8_0242ac1c0002row4_col10,#T_6e9efb56_3857_11ec_baf8_0242ac1c0002row6_col3,#T_6e9efb56_3857_11ec_baf8_0242ac1c0002row6_col4,#T_6e9efb56_3857_11ec_baf8_0242ac1c0002row8_col4,#T_6e9efb56_3857_11ec_baf8_0242ac1c0002row9_col4,#T_6e9efb56_3857_11ec_baf8_0242ac1c0002row10_col11{\n",
              "            background-color:  #fef6fa;\n",
              "            color:  #000000;\n",
              "        }#T_6e9efb56_3857_11ec_baf8_0242ac1c0002row3_col3{\n",
              "            background-color:  #a2bcda;\n",
              "            color:  #000000;\n",
              "        }#T_6e9efb56_3857_11ec_baf8_0242ac1c0002row3_col4{\n",
              "            background-color:  #f4eef6;\n",
              "            color:  #000000;\n",
              "        }#T_6e9efb56_3857_11ec_baf8_0242ac1c0002row3_col5{\n",
              "            background-color:  #f4edf6;\n",
              "            color:  #000000;\n",
              "        }#T_6e9efb56_3857_11ec_baf8_0242ac1c0002row4_col4{\n",
              "            background-color:  #034c78;\n",
              "            color:  #f1f1f1;\n",
              "        }#T_6e9efb56_3857_11ec_baf8_0242ac1c0002row4_col5{\n",
              "            background-color:  #ece7f2;\n",
              "            color:  #000000;\n",
              "        }#T_6e9efb56_3857_11ec_baf8_0242ac1c0002row5_col1,#T_6e9efb56_3857_11ec_baf8_0242ac1c0002row5_col10,#T_6e9efb56_3857_11ec_baf8_0242ac1c0002row7_col7,#T_6e9efb56_3857_11ec_baf8_0242ac1c0002row11_col3{\n",
              "            background-color:  #fbf3f9;\n",
              "            color:  #000000;\n",
              "        }#T_6e9efb56_3857_11ec_baf8_0242ac1c0002row5_col4{\n",
              "            background-color:  #f1ebf4;\n",
              "            color:  #000000;\n",
              "        }#T_6e9efb56_3857_11ec_baf8_0242ac1c0002row5_col5{\n",
              "            background-color:  #023858;\n",
              "            color:  #f1f1f1;\n",
              "        }#T_6e9efb56_3857_11ec_baf8_0242ac1c0002row8_col8{\n",
              "            background-color:  #f5eff6;\n",
              "            color:  #000000;\n",
              "        }#T_6e9efb56_3857_11ec_baf8_0242ac1c0002row9_col9{\n",
              "            background-color:  #ebe6f2;\n",
              "            color:  #000000;\n",
              "        }#T_6e9efb56_3857_11ec_baf8_0242ac1c0002row10_col5{\n",
              "            background-color:  #f7f0f7;\n",
              "            color:  #000000;\n",
              "        }#T_6e9efb56_3857_11ec_baf8_0242ac1c0002row10_col10{\n",
              "            background-color:  #dddbec;\n",
              "            color:  #000000;\n",
              "        }#T_6e9efb56_3857_11ec_baf8_0242ac1c0002row11_col4{\n",
              "            background-color:  #f5eef6;\n",
              "            color:  #000000;\n",
              "        }#T_6e9efb56_3857_11ec_baf8_0242ac1c0002row11_col11{\n",
              "            background-color:  #dad9ea;\n",
              "            color:  #000000;\n",
              "        }</style><table id=\"T_6e9efb56_3857_11ec_baf8_0242ac1c0002\" class=\"dataframe\"><thead>    <tr>        <th class=\"blank level0\" ></th>        <th class=\"col_heading level0 col0\" >Predicted M22-</th>        <th class=\"col_heading level0 col1\" >Predicted M23-26</th>        <th class=\"col_heading level0 col2\" >Predicted M27-28</th>        <th class=\"col_heading level0 col3\" >Predicted M29-31</th>        <th class=\"col_heading level0 col4\" >Predicted M32-38</th>        <th class=\"col_heading level0 col5\" >Predicted M39+</th>        <th class=\"col_heading level0 col6\" >Predicted F23-</th>        <th class=\"col_heading level0 col7\" >Predicted F24-26</th>        <th class=\"col_heading level0 col8\" >Predicted F27-28</th>        <th class=\"col_heading level0 col9\" >Predicted F29-32</th>        <th class=\"col_heading level0 col10\" >Predicted F33-42</th>        <th class=\"col_heading level0 col11\" >Predicted F43+</th>    </tr></thead><tbody>\n",
              "                <tr>\n",
              "                        <th id=\"T_6e9efb56_3857_11ec_baf8_0242ac1c0002level0_row0\" class=\"row_heading level0 row0\" >Actual M22-</th>\n",
              "                        <td id=\"T_6e9efb56_3857_11ec_baf8_0242ac1c0002row0_col0\" class=\"data row0 col0\" >85</td>\n",
              "                        <td id=\"T_6e9efb56_3857_11ec_baf8_0242ac1c0002row0_col1\" class=\"data row0 col1\" >6</td>\n",
              "                        <td id=\"T_6e9efb56_3857_11ec_baf8_0242ac1c0002row0_col2\" class=\"data row0 col2\" >1</td>\n",
              "                        <td id=\"T_6e9efb56_3857_11ec_baf8_0242ac1c0002row0_col3\" class=\"data row0 col3\" >6</td>\n",
              "                        <td id=\"T_6e9efb56_3857_11ec_baf8_0242ac1c0002row0_col4\" class=\"data row0 col4\" >11</td>\n",
              "                        <td id=\"T_6e9efb56_3857_11ec_baf8_0242ac1c0002row0_col5\" class=\"data row0 col5\" >18</td>\n",
              "                        <td id=\"T_6e9efb56_3857_11ec_baf8_0242ac1c0002row0_col6\" class=\"data row0 col6\" >0</td>\n",
              "                        <td id=\"T_6e9efb56_3857_11ec_baf8_0242ac1c0002row0_col7\" class=\"data row0 col7\" >0</td>\n",
              "                        <td id=\"T_6e9efb56_3857_11ec_baf8_0242ac1c0002row0_col8\" class=\"data row0 col8\" >0</td>\n",
              "                        <td id=\"T_6e9efb56_3857_11ec_baf8_0242ac1c0002row0_col9\" class=\"data row0 col9\" >0</td>\n",
              "                        <td id=\"T_6e9efb56_3857_11ec_baf8_0242ac1c0002row0_col10\" class=\"data row0 col10\" >0</td>\n",
              "                        <td id=\"T_6e9efb56_3857_11ec_baf8_0242ac1c0002row0_col11\" class=\"data row0 col11\" >0</td>\n",
              "            </tr>\n",
              "            <tr>\n",
              "                        <th id=\"T_6e9efb56_3857_11ec_baf8_0242ac1c0002level0_row1\" class=\"row_heading level0 row1\" >Actual M23-26</th>\n",
              "                        <td id=\"T_6e9efb56_3857_11ec_baf8_0242ac1c0002row1_col0\" class=\"data row1 col0\" >3</td>\n",
              "                        <td id=\"T_6e9efb56_3857_11ec_baf8_0242ac1c0002row1_col1\" class=\"data row1 col1\" >194</td>\n",
              "                        <td id=\"T_6e9efb56_3857_11ec_baf8_0242ac1c0002row1_col2\" class=\"data row1 col2\" >7</td>\n",
              "                        <td id=\"T_6e9efb56_3857_11ec_baf8_0242ac1c0002row1_col3\" class=\"data row1 col3\" >8</td>\n",
              "                        <td id=\"T_6e9efb56_3857_11ec_baf8_0242ac1c0002row1_col4\" class=\"data row1 col4\" >11</td>\n",
              "                        <td id=\"T_6e9efb56_3857_11ec_baf8_0242ac1c0002row1_col5\" class=\"data row1 col5\" >21</td>\n",
              "                        <td id=\"T_6e9efb56_3857_11ec_baf8_0242ac1c0002row1_col6\" class=\"data row1 col6\" >0</td>\n",
              "                        <td id=\"T_6e9efb56_3857_11ec_baf8_0242ac1c0002row1_col7\" class=\"data row1 col7\" >0</td>\n",
              "                        <td id=\"T_6e9efb56_3857_11ec_baf8_0242ac1c0002row1_col8\" class=\"data row1 col8\" >0</td>\n",
              "                        <td id=\"T_6e9efb56_3857_11ec_baf8_0242ac1c0002row1_col9\" class=\"data row1 col9\" >2</td>\n",
              "                        <td id=\"T_6e9efb56_3857_11ec_baf8_0242ac1c0002row1_col10\" class=\"data row1 col10\" >1</td>\n",
              "                        <td id=\"T_6e9efb56_3857_11ec_baf8_0242ac1c0002row1_col11\" class=\"data row1 col11\" >3</td>\n",
              "            </tr>\n",
              "            <tr>\n",
              "                        <th id=\"T_6e9efb56_3857_11ec_baf8_0242ac1c0002level0_row2\" class=\"row_heading level0 row2\" >Actual M27-28</th>\n",
              "                        <td id=\"T_6e9efb56_3857_11ec_baf8_0242ac1c0002row2_col0\" class=\"data row2 col0\" >3</td>\n",
              "                        <td id=\"T_6e9efb56_3857_11ec_baf8_0242ac1c0002row2_col1\" class=\"data row2 col1\" >16</td>\n",
              "                        <td id=\"T_6e9efb56_3857_11ec_baf8_0242ac1c0002row2_col2\" class=\"data row2 col2\" >139</td>\n",
              "                        <td id=\"T_6e9efb56_3857_11ec_baf8_0242ac1c0002row2_col3\" class=\"data row2 col3\" >0</td>\n",
              "                        <td id=\"T_6e9efb56_3857_11ec_baf8_0242ac1c0002row2_col4\" class=\"data row2 col4\" >6</td>\n",
              "                        <td id=\"T_6e9efb56_3857_11ec_baf8_0242ac1c0002row2_col5\" class=\"data row2 col5\" >9</td>\n",
              "                        <td id=\"T_6e9efb56_3857_11ec_baf8_0242ac1c0002row2_col6\" class=\"data row2 col6\" >0</td>\n",
              "                        <td id=\"T_6e9efb56_3857_11ec_baf8_0242ac1c0002row2_col7\" class=\"data row2 col7\" >0</td>\n",
              "                        <td id=\"T_6e9efb56_3857_11ec_baf8_0242ac1c0002row2_col8\" class=\"data row2 col8\" >0</td>\n",
              "                        <td id=\"T_6e9efb56_3857_11ec_baf8_0242ac1c0002row2_col9\" class=\"data row2 col9\" >0</td>\n",
              "                        <td id=\"T_6e9efb56_3857_11ec_baf8_0242ac1c0002row2_col10\" class=\"data row2 col10\" >2</td>\n",
              "                        <td id=\"T_6e9efb56_3857_11ec_baf8_0242ac1c0002row2_col11\" class=\"data row2 col11\" >2</td>\n",
              "            </tr>\n",
              "            <tr>\n",
              "                        <th id=\"T_6e9efb56_3857_11ec_baf8_0242ac1c0002level0_row3\" class=\"row_heading level0 row3\" >Actual M29-31</th>\n",
              "                        <td id=\"T_6e9efb56_3857_11ec_baf8_0242ac1c0002row3_col0\" class=\"data row3 col0\" >8</td>\n",
              "                        <td id=\"T_6e9efb56_3857_11ec_baf8_0242ac1c0002row3_col1\" class=\"data row3 col1\" >7</td>\n",
              "                        <td id=\"T_6e9efb56_3857_11ec_baf8_0242ac1c0002row3_col2\" class=\"data row3 col2\" >5</td>\n",
              "                        <td id=\"T_6e9efb56_3857_11ec_baf8_0242ac1c0002row3_col3\" class=\"data row3 col3\" >175</td>\n",
              "                        <td id=\"T_6e9efb56_3857_11ec_baf8_0242ac1c0002row3_col4\" class=\"data row3 col4\" >33</td>\n",
              "                        <td id=\"T_6e9efb56_3857_11ec_baf8_0242ac1c0002row3_col5\" class=\"data row3 col5\" >35</td>\n",
              "                        <td id=\"T_6e9efb56_3857_11ec_baf8_0242ac1c0002row3_col6\" class=\"data row3 col6\" >0</td>\n",
              "                        <td id=\"T_6e9efb56_3857_11ec_baf8_0242ac1c0002row3_col7\" class=\"data row3 col7\" >0</td>\n",
              "                        <td id=\"T_6e9efb56_3857_11ec_baf8_0242ac1c0002row3_col8\" class=\"data row3 col8\" >1</td>\n",
              "                        <td id=\"T_6e9efb56_3857_11ec_baf8_0242ac1c0002row3_col9\" class=\"data row3 col9\" >0</td>\n",
              "                        <td id=\"T_6e9efb56_3857_11ec_baf8_0242ac1c0002row3_col10\" class=\"data row3 col10\" >4</td>\n",
              "                        <td id=\"T_6e9efb56_3857_11ec_baf8_0242ac1c0002row3_col11\" class=\"data row3 col11\" >5</td>\n",
              "            </tr>\n",
              "            <tr>\n",
              "                        <th id=\"T_6e9efb56_3857_11ec_baf8_0242ac1c0002level0_row4\" class=\"row_heading level0 row4\" >Actual M32-38</th>\n",
              "                        <td id=\"T_6e9efb56_3857_11ec_baf8_0242ac1c0002row4_col0\" class=\"data row4 col0\" >5</td>\n",
              "                        <td id=\"T_6e9efb56_3857_11ec_baf8_0242ac1c0002row4_col1\" class=\"data row4 col1\" >1</td>\n",
              "                        <td id=\"T_6e9efb56_3857_11ec_baf8_0242ac1c0002row4_col2\" class=\"data row4 col2\" >2</td>\n",
              "                        <td id=\"T_6e9efb56_3857_11ec_baf8_0242ac1c0002row4_col3\" class=\"data row4 col3\" >21</td>\n",
              "                        <td id=\"T_6e9efb56_3857_11ec_baf8_0242ac1c0002row4_col4\" class=\"data row4 col4\" >419</td>\n",
              "                        <td id=\"T_6e9efb56_3857_11ec_baf8_0242ac1c0002row4_col5\" class=\"data row4 col5\" >58</td>\n",
              "                        <td id=\"T_6e9efb56_3857_11ec_baf8_0242ac1c0002row4_col6\" class=\"data row4 col6\" >0</td>\n",
              "                        <td id=\"T_6e9efb56_3857_11ec_baf8_0242ac1c0002row4_col7\" class=\"data row4 col7\" >4</td>\n",
              "                        <td id=\"T_6e9efb56_3857_11ec_baf8_0242ac1c0002row4_col8\" class=\"data row4 col8\" >0</td>\n",
              "                        <td id=\"T_6e9efb56_3857_11ec_baf8_0242ac1c0002row4_col9\" class=\"data row4 col9\" >5</td>\n",
              "                        <td id=\"T_6e9efb56_3857_11ec_baf8_0242ac1c0002row4_col10\" class=\"data row4 col10\" >5</td>\n",
              "                        <td id=\"T_6e9efb56_3857_11ec_baf8_0242ac1c0002row4_col11\" class=\"data row4 col11\" >18</td>\n",
              "            </tr>\n",
              "            <tr>\n",
              "                        <th id=\"T_6e9efb56_3857_11ec_baf8_0242ac1c0002level0_row5\" class=\"row_heading level0 row5\" >Actual M39+</th>\n",
              "                        <td id=\"T_6e9efb56_3857_11ec_baf8_0242ac1c0002row5_col0\" class=\"data row5 col0\" >10</td>\n",
              "                        <td id=\"T_6e9efb56_3857_11ec_baf8_0242ac1c0002row5_col1\" class=\"data row5 col1\" >14</td>\n",
              "                        <td id=\"T_6e9efb56_3857_11ec_baf8_0242ac1c0002row5_col2\" class=\"data row5 col2\" >3</td>\n",
              "                        <td id=\"T_6e9efb56_3857_11ec_baf8_0242ac1c0002row5_col3\" class=\"data row5 col3\" >17</td>\n",
              "                        <td id=\"T_6e9efb56_3857_11ec_baf8_0242ac1c0002row5_col4\" class=\"data row5 col4\" >44</td>\n",
              "                        <td id=\"T_6e9efb56_3857_11ec_baf8_0242ac1c0002row5_col5\" class=\"data row5 col5\" >454</td>\n",
              "                        <td id=\"T_6e9efb56_3857_11ec_baf8_0242ac1c0002row5_col6\" class=\"data row5 col6\" >1</td>\n",
              "                        <td id=\"T_6e9efb56_3857_11ec_baf8_0242ac1c0002row5_col7\" class=\"data row5 col7\" >3</td>\n",
              "                        <td id=\"T_6e9efb56_3857_11ec_baf8_0242ac1c0002row5_col8\" class=\"data row5 col8\" >1</td>\n",
              "                        <td id=\"T_6e9efb56_3857_11ec_baf8_0242ac1c0002row5_col9\" class=\"data row5 col9\" >7</td>\n",
              "                        <td id=\"T_6e9efb56_3857_11ec_baf8_0242ac1c0002row5_col10\" class=\"data row5 col10\" >14</td>\n",
              "                        <td id=\"T_6e9efb56_3857_11ec_baf8_0242ac1c0002row5_col11\" class=\"data row5 col11\" >1</td>\n",
              "            </tr>\n",
              "            <tr>\n",
              "                        <th id=\"T_6e9efb56_3857_11ec_baf8_0242ac1c0002level0_row6\" class=\"row_heading level0 row6\" >Actual F23-</th>\n",
              "                        <td id=\"T_6e9efb56_3857_11ec_baf8_0242ac1c0002row6_col0\" class=\"data row6 col0\" >0</td>\n",
              "                        <td id=\"T_6e9efb56_3857_11ec_baf8_0242ac1c0002row6_col1\" class=\"data row6 col1\" >0</td>\n",
              "                        <td id=\"T_6e9efb56_3857_11ec_baf8_0242ac1c0002row6_col2\" class=\"data row6 col2\" >0</td>\n",
              "                        <td id=\"T_6e9efb56_3857_11ec_baf8_0242ac1c0002row6_col3\" class=\"data row6 col3\" >4</td>\n",
              "                        <td id=\"T_6e9efb56_3857_11ec_baf8_0242ac1c0002row6_col4\" class=\"data row6 col4\" >4</td>\n",
              "                        <td id=\"T_6e9efb56_3857_11ec_baf8_0242ac1c0002row6_col5\" class=\"data row6 col5\" >9</td>\n",
              "                        <td id=\"T_6e9efb56_3857_11ec_baf8_0242ac1c0002row6_col6\" class=\"data row6 col6\" >20</td>\n",
              "                        <td id=\"T_6e9efb56_3857_11ec_baf8_0242ac1c0002row6_col7\" class=\"data row6 col7\" >0</td>\n",
              "                        <td id=\"T_6e9efb56_3857_11ec_baf8_0242ac1c0002row6_col8\" class=\"data row6 col8\" >0</td>\n",
              "                        <td id=\"T_6e9efb56_3857_11ec_baf8_0242ac1c0002row6_col9\" class=\"data row6 col9\" >0</td>\n",
              "                        <td id=\"T_6e9efb56_3857_11ec_baf8_0242ac1c0002row6_col10\" class=\"data row6 col10\" >2</td>\n",
              "                        <td id=\"T_6e9efb56_3857_11ec_baf8_0242ac1c0002row6_col11\" class=\"data row6 col11\" >0</td>\n",
              "            </tr>\n",
              "            <tr>\n",
              "                        <th id=\"T_6e9efb56_3857_11ec_baf8_0242ac1c0002level0_row7\" class=\"row_heading level0 row7\" >Actual F24-26</th>\n",
              "                        <td id=\"T_6e9efb56_3857_11ec_baf8_0242ac1c0002row7_col0\" class=\"data row7 col0\" >2</td>\n",
              "                        <td id=\"T_6e9efb56_3857_11ec_baf8_0242ac1c0002row7_col1\" class=\"data row7 col1\" >0</td>\n",
              "                        <td id=\"T_6e9efb56_3857_11ec_baf8_0242ac1c0002row7_col2\" class=\"data row7 col2\" >0</td>\n",
              "                        <td id=\"T_6e9efb56_3857_11ec_baf8_0242ac1c0002row7_col3\" class=\"data row7 col3\" >1</td>\n",
              "                        <td id=\"T_6e9efb56_3857_11ec_baf8_0242ac1c0002row7_col4\" class=\"data row7 col4\" >3</td>\n",
              "                        <td id=\"T_6e9efb56_3857_11ec_baf8_0242ac1c0002row7_col5\" class=\"data row7 col5\" >6</td>\n",
              "                        <td id=\"T_6e9efb56_3857_11ec_baf8_0242ac1c0002row7_col6\" class=\"data row7 col6\" >0</td>\n",
              "                        <td id=\"T_6e9efb56_3857_11ec_baf8_0242ac1c0002row7_col7\" class=\"data row7 col7\" >14</td>\n",
              "                        <td id=\"T_6e9efb56_3857_11ec_baf8_0242ac1c0002row7_col8\" class=\"data row7 col8\" >0</td>\n",
              "                        <td id=\"T_6e9efb56_3857_11ec_baf8_0242ac1c0002row7_col9\" class=\"data row7 col9\" >0</td>\n",
              "                        <td id=\"T_6e9efb56_3857_11ec_baf8_0242ac1c0002row7_col10\" class=\"data row7 col10\" >2</td>\n",
              "                        <td id=\"T_6e9efb56_3857_11ec_baf8_0242ac1c0002row7_col11\" class=\"data row7 col11\" >0</td>\n",
              "            </tr>\n",
              "            <tr>\n",
              "                        <th id=\"T_6e9efb56_3857_11ec_baf8_0242ac1c0002level0_row8\" class=\"row_heading level0 row8\" >Actual F27-28</th>\n",
              "                        <td id=\"T_6e9efb56_3857_11ec_baf8_0242ac1c0002row8_col0\" class=\"data row8 col0\" >0</td>\n",
              "                        <td id=\"T_6e9efb56_3857_11ec_baf8_0242ac1c0002row8_col1\" class=\"data row8 col1\" >6</td>\n",
              "                        <td id=\"T_6e9efb56_3857_11ec_baf8_0242ac1c0002row8_col2\" class=\"data row8 col2\" >0</td>\n",
              "                        <td id=\"T_6e9efb56_3857_11ec_baf8_0242ac1c0002row8_col3\" class=\"data row8 col3\" >7</td>\n",
              "                        <td id=\"T_6e9efb56_3857_11ec_baf8_0242ac1c0002row8_col4\" class=\"data row8 col4\" >5</td>\n",
              "                        <td id=\"T_6e9efb56_3857_11ec_baf8_0242ac1c0002row8_col5\" class=\"data row8 col5\" >7</td>\n",
              "                        <td id=\"T_6e9efb56_3857_11ec_baf8_0242ac1c0002row8_col6\" class=\"data row8 col6\" >0</td>\n",
              "                        <td id=\"T_6e9efb56_3857_11ec_baf8_0242ac1c0002row8_col7\" class=\"data row8 col7\" >0</td>\n",
              "                        <td id=\"T_6e9efb56_3857_11ec_baf8_0242ac1c0002row8_col8\" class=\"data row8 col8\" >30</td>\n",
              "                        <td id=\"T_6e9efb56_3857_11ec_baf8_0242ac1c0002row8_col9\" class=\"data row8 col9\" >1</td>\n",
              "                        <td id=\"T_6e9efb56_3857_11ec_baf8_0242ac1c0002row8_col10\" class=\"data row8 col10\" >0</td>\n",
              "                        <td id=\"T_6e9efb56_3857_11ec_baf8_0242ac1c0002row8_col11\" class=\"data row8 col11\" >0</td>\n",
              "            </tr>\n",
              "            <tr>\n",
              "                        <th id=\"T_6e9efb56_3857_11ec_baf8_0242ac1c0002level0_row9\" class=\"row_heading level0 row9\" >Actual F29-32</th>\n",
              "                        <td id=\"T_6e9efb56_3857_11ec_baf8_0242ac1c0002row9_col0\" class=\"data row9 col0\" >2</td>\n",
              "                        <td id=\"T_6e9efb56_3857_11ec_baf8_0242ac1c0002row9_col1\" class=\"data row9 col1\" >0</td>\n",
              "                        <td id=\"T_6e9efb56_3857_11ec_baf8_0242ac1c0002row9_col2\" class=\"data row9 col2\" >0</td>\n",
              "                        <td id=\"T_6e9efb56_3857_11ec_baf8_0242ac1c0002row9_col3\" class=\"data row9 col3\" >0</td>\n",
              "                        <td id=\"T_6e9efb56_3857_11ec_baf8_0242ac1c0002row9_col4\" class=\"data row9 col4\" >5</td>\n",
              "                        <td id=\"T_6e9efb56_3857_11ec_baf8_0242ac1c0002row9_col5\" class=\"data row9 col5\" >12</td>\n",
              "                        <td id=\"T_6e9efb56_3857_11ec_baf8_0242ac1c0002row9_col6\" class=\"data row9 col6\" >0</td>\n",
              "                        <td id=\"T_6e9efb56_3857_11ec_baf8_0242ac1c0002row9_col7\" class=\"data row9 col7\" >0</td>\n",
              "                        <td id=\"T_6e9efb56_3857_11ec_baf8_0242ac1c0002row9_col8\" class=\"data row9 col8\" >0</td>\n",
              "                        <td id=\"T_6e9efb56_3857_11ec_baf8_0242ac1c0002row9_col9\" class=\"data row9 col9\" >59</td>\n",
              "                        <td id=\"T_6e9efb56_3857_11ec_baf8_0242ac1c0002row9_col10\" class=\"data row9 col10\" >3</td>\n",
              "                        <td id=\"T_6e9efb56_3857_11ec_baf8_0242ac1c0002row9_col11\" class=\"data row9 col11\" >0</td>\n",
              "            </tr>\n",
              "            <tr>\n",
              "                        <th id=\"T_6e9efb56_3857_11ec_baf8_0242ac1c0002level0_row10\" class=\"row_heading level0 row10\" >Actual F33-42</th>\n",
              "                        <td id=\"T_6e9efb56_3857_11ec_baf8_0242ac1c0002row10_col0\" class=\"data row10 col0\" >2</td>\n",
              "                        <td id=\"T_6e9efb56_3857_11ec_baf8_0242ac1c0002row10_col1\" class=\"data row10 col1\" >2</td>\n",
              "                        <td id=\"T_6e9efb56_3857_11ec_baf8_0242ac1c0002row10_col2\" class=\"data row10 col2\" >1</td>\n",
              "                        <td id=\"T_6e9efb56_3857_11ec_baf8_0242ac1c0002row10_col3\" class=\"data row10 col3\" >3</td>\n",
              "                        <td id=\"T_6e9efb56_3857_11ec_baf8_0242ac1c0002row10_col4\" class=\"data row10 col4\" >8</td>\n",
              "                        <td id=\"T_6e9efb56_3857_11ec_baf8_0242ac1c0002row10_col5\" class=\"data row10 col5\" >26</td>\n",
              "                        <td id=\"T_6e9efb56_3857_11ec_baf8_0242ac1c0002row10_col6\" class=\"data row10 col6\" >2</td>\n",
              "                        <td id=\"T_6e9efb56_3857_11ec_baf8_0242ac1c0002row10_col7\" class=\"data row10 col7\" >0</td>\n",
              "                        <td id=\"T_6e9efb56_3857_11ec_baf8_0242ac1c0002row10_col8\" class=\"data row10 col8\" >0</td>\n",
              "                        <td id=\"T_6e9efb56_3857_11ec_baf8_0242ac1c0002row10_col9\" class=\"data row10 col9\" >1</td>\n",
              "                        <td id=\"T_6e9efb56_3857_11ec_baf8_0242ac1c0002row10_col10\" class=\"data row10 col10\" >88</td>\n",
              "                        <td id=\"T_6e9efb56_3857_11ec_baf8_0242ac1c0002row10_col11\" class=\"data row10 col11\" >4</td>\n",
              "            </tr>\n",
              "            <tr>\n",
              "                        <th id=\"T_6e9efb56_3857_11ec_baf8_0242ac1c0002level0_row11\" class=\"row_heading level0 row11\" >Actual F43+</th>\n",
              "                        <td id=\"T_6e9efb56_3857_11ec_baf8_0242ac1c0002row11_col0\" class=\"data row11 col0\" >0</td>\n",
              "                        <td id=\"T_6e9efb56_3857_11ec_baf8_0242ac1c0002row11_col1\" class=\"data row11 col1\" >6</td>\n",
              "                        <td id=\"T_6e9efb56_3857_11ec_baf8_0242ac1c0002row11_col2\" class=\"data row11 col2\" >6</td>\n",
              "                        <td id=\"T_6e9efb56_3857_11ec_baf8_0242ac1c0002row11_col3\" class=\"data row11 col3\" >14</td>\n",
              "                        <td id=\"T_6e9efb56_3857_11ec_baf8_0242ac1c0002row11_col4\" class=\"data row11 col4\" >31</td>\n",
              "                        <td id=\"T_6e9efb56_3857_11ec_baf8_0242ac1c0002row11_col5\" class=\"data row11 col5\" >19</td>\n",
              "                        <td id=\"T_6e9efb56_3857_11ec_baf8_0242ac1c0002row11_col6\" class=\"data row11 col6\" >0</td>\n",
              "                        <td id=\"T_6e9efb56_3857_11ec_baf8_0242ac1c0002row11_col7\" class=\"data row11 col7\" >0</td>\n",
              "                        <td id=\"T_6e9efb56_3857_11ec_baf8_0242ac1c0002row11_col8\" class=\"data row11 col8\" >0</td>\n",
              "                        <td id=\"T_6e9efb56_3857_11ec_baf8_0242ac1c0002row11_col9\" class=\"data row11 col9\" >0</td>\n",
              "                        <td id=\"T_6e9efb56_3857_11ec_baf8_0242ac1c0002row11_col10\" class=\"data row11 col10\" >3</td>\n",
              "                        <td id=\"T_6e9efb56_3857_11ec_baf8_0242ac1c0002row11_col11\" class=\"data row11 col11\" >93</td>\n",
              "            </tr>\n",
              "    </tbody></table>"
            ],
            "text/plain": [
              "<pandas.io.formats.style.Styler at 0x7f62a9c78410>"
            ]
          },
          "metadata": {},
          "execution_count": 47
        }
      ]
    },
    {
      "cell_type": "code",
      "metadata": {
        "colab": {
          "base_uri": "https://localhost:8080/"
        },
        "id": "N_Y2t54ntl54",
        "outputId": "0e936373-9d19-4414-d3f6-c9d35773574c"
      },
      "source": [
        "print(\"Classification Report:\")\n",
        "print()\n",
        "print(classification_report(y_test, y_pred))"
      ],
      "execution_count": 48,
      "outputs": [
        {
          "output_type": "stream",
          "name": "stdout",
          "text": [
            "Classification Report:\n",
            "\n",
            "              precision    recall  f1-score   support\n",
            "\n",
            "           0       0.71      0.67      0.69       127\n",
            "           1       0.77      0.78      0.77       250\n",
            "           2       0.85      0.79      0.82       177\n",
            "           3       0.68      0.64      0.66       273\n",
            "           4       0.72      0.78      0.75       538\n",
            "           5       0.67      0.80      0.73       569\n",
            "           6       0.87      0.51      0.65        39\n",
            "           7       0.67      0.50      0.57        28\n",
            "           8       0.94      0.54      0.68        56\n",
            "           9       0.79      0.73      0.76        81\n",
            "          10       0.71      0.64      0.67       137\n",
            "          11       0.74      0.54      0.62       172\n",
            "\n",
            "    accuracy                           0.72      2447\n",
            "   macro avg       0.76      0.66      0.70      2447\n",
            "weighted avg       0.73      0.72      0.72      2447\n",
            "\n"
          ]
        }
      ]
    },
    {
      "cell_type": "markdown",
      "metadata": {
        "id": "zb7uUP5lHWAZ"
      },
      "source": [
        "#K Nearest Neighbor Classifier"
      ]
    },
    {
      "cell_type": "code",
      "metadata": {
        "id": "oWV_BMcnHe8p"
      },
      "source": [
        "pipeline = Pipeline(\n",
        "    [\n",
        "        (\"scaler\", StandardScaler()),\n",
        "        (\"pca\", PCA(n_components=n_components)),\n",
        "        (\"knn\", KNeighborsClassifier()),\n",
        "    ]\n",
        ")\n",
        "pipeline = pipeline.fit(X_train, y_train)\n"
      ],
      "execution_count": 49,
      "outputs": []
    },
    {
      "cell_type": "markdown",
      "metadata": {
        "id": "75mWE8TKHZl5"
      },
      "source": [
        "Grid Search"
      ]
    },
    {
      "cell_type": "code",
      "metadata": {
        "colab": {
          "base_uri": "https://localhost:8080/"
        },
        "id": "WneYV5VoHpbq",
        "outputId": "87889e5f-69fc-45e4-f228-7b60deaedf51"
      },
      "source": [
        "grid = {\n",
        "    \"knn__n_neighbors\": [50, 100, 150],\n",
        "    \"knn__weights\": [\"distance\"],\n",
        "    \"knn__leaf_size\": [1, 10, 20],\n",
        "}\n",
        "\n",
        "model = GridSearchCV(pipeline, grid, n_jobs=-1, cv=2, verbose=2)\n",
        "model.fit(X_train, y_train)\n"
      ],
      "execution_count": 50,
      "outputs": [
        {
          "output_type": "stream",
          "name": "stdout",
          "text": [
            "Fitting 2 folds for each of 9 candidates, totalling 18 fits\n"
          ]
        },
        {
          "output_type": "stream",
          "name": "stderr",
          "text": [
            "[Parallel(n_jobs=-1)]: Using backend LokyBackend with 2 concurrent workers.\n",
            "[Parallel(n_jobs=-1)]: Done  18 out of  18 | elapsed:  1.7min finished\n"
          ]
        },
        {
          "output_type": "execute_result",
          "data": {
            "text/plain": [
              "GridSearchCV(cv=2, error_score=nan,\n",
              "             estimator=Pipeline(memory=None,\n",
              "                                steps=[('scaler',\n",
              "                                        StandardScaler(copy=True,\n",
              "                                                       with_mean=True,\n",
              "                                                       with_std=True)),\n",
              "                                       ('pca',\n",
              "                                        PCA(copy=True, iterated_power='auto',\n",
              "                                            n_components=47, random_state=None,\n",
              "                                            svd_solver='auto', tol=0.0,\n",
              "                                            whiten=False)),\n",
              "                                       ('knn',\n",
              "                                        KNeighborsClassifier(algorithm='auto',\n",
              "                                                             leaf_size=30,\n",
              "                                                             metric='minkowski',\n",
              "                                                             metric_params=None,\n",
              "                                                             n_jobs=None,\n",
              "                                                             n_neighbors=5, p=2,\n",
              "                                                             weights='uniform'))],\n",
              "                                verbose=False),\n",
              "             iid='deprecated', n_jobs=-1,\n",
              "             param_grid={'knn__leaf_size': [1, 10, 20],\n",
              "                         'knn__n_neighbors': [50, 100, 150],\n",
              "                         'knn__weights': ['distance']},\n",
              "             pre_dispatch='2*n_jobs', refit=True, return_train_score=False,\n",
              "             scoring=None, verbose=2)"
            ]
          },
          "metadata": {},
          "execution_count": 50
        }
      ]
    },
    {
      "cell_type": "code",
      "metadata": {
        "colab": {
          "base_uri": "https://localhost:8080/"
        },
        "id": "tJQXrzWfHsx4",
        "outputId": "b9c4a149-c568-495e-d6a7-f176a60e6683"
      },
      "source": [
        "model.best_params_\n"
      ],
      "execution_count": 51,
      "outputs": [
        {
          "output_type": "execute_result",
          "data": {
            "text/plain": [
              "{'knn__leaf_size': 1, 'knn__n_neighbors': 50, 'knn__weights': 'distance'}"
            ]
          },
          "metadata": {},
          "execution_count": 51
        }
      ]
    },
    {
      "cell_type": "code",
      "metadata": {
        "colab": {
          "base_uri": "https://localhost:8080/"
        },
        "id": "lgL1XZZEnqkd",
        "outputId": "b1e15c11-5aea-4f1e-ac20-edf93ecff3f5"
      },
      "source": [
        "# Model still appears to be extremely overfitting\n",
        "train_score = model.score(X_train, y_train)\n",
        "test_score = model.score(X_test, y_test)\n",
        "\n",
        "print(f\"Train score: {train_score}\")\n",
        "print(f\"Test score: {test_score}\")\n"
      ],
      "execution_count": 52,
      "outputs": [
        {
          "output_type": "stream",
          "name": "stdout",
          "text": [
            "Train score: 0.9986713000817662\n",
            "Test score: 0.5725378013894564\n"
          ]
        }
      ]
    },
    {
      "cell_type": "code",
      "metadata": {
        "colab": {
          "base_uri": "https://localhost:8080/",
          "height": 414
        },
        "id": "GEV12msUHvbi",
        "outputId": "9287de85-5ca0-4abd-94e8-c038b002d232"
      },
      "source": [
        "y_pred = model.predict(X_test)\n",
        "\n",
        "con_mat = pd.DataFrame(\n",
        "    confusion_matrix(y_test, y_pred),\n",
        "    index=[\n",
        "        \"Actually M22-\",\n",
        "        \"Actually M23-26\",\n",
        "        \"Actually M27-28\",\n",
        "        \"Actually M29-31\",\n",
        "        \"Actually M32-38\",\n",
        "        \"Actually M39+\",\n",
        "        \"Actually F23-\",\n",
        "        \"Actually F24-26\",\n",
        "        \"Actually F27-28\",\n",
        "        \"Actually F29-32\",\n",
        "        \"Actually F33-42\",\n",
        "        \"Actually F43+\",\n",
        "    ],\n",
        "    columns=[\n",
        "        \"Predicted M22-\",\n",
        "        \"Predicted M23-26\",\n",
        "        \"Predicted M27-28\",\n",
        "        \"Predicted M29-31\",\n",
        "        \"Predicted M32-38\",\n",
        "        \"Predicted M39+\",\n",
        "        \"Predicted F23-\",\n",
        "        \"Predicted F24-26\",\n",
        "        \"Predicted F27-28\",\n",
        "        \"Predicted F29-32\",\n",
        "        \"Predicted F33-42\",\n",
        "        \"Predicted F43+\",\n",
        "    ],\n",
        ")\n",
        "con_mat.style.background_gradient(axis=None)\n"
      ],
      "execution_count": 53,
      "outputs": [
        {
          "output_type": "execute_result",
          "data": {
            "text/html": [
              "<style  type=\"text/css\" >\n",
              "#T_bc793e90_3857_11ec_baf8_0242ac1c0002row0_col0{\n",
              "            background-color:  #e6e2ef;\n",
              "            color:  #000000;\n",
              "        }#T_bc793e90_3857_11ec_baf8_0242ac1c0002row0_col1,#T_bc793e90_3857_11ec_baf8_0242ac1c0002row0_col3,#T_bc793e90_3857_11ec_baf8_0242ac1c0002row1_col0,#T_bc793e90_3857_11ec_baf8_0242ac1c0002row1_col10,#T_bc793e90_3857_11ec_baf8_0242ac1c0002row2_col3,#T_bc793e90_3857_11ec_baf8_0242ac1c0002row2_col10,#T_bc793e90_3857_11ec_baf8_0242ac1c0002row3_col11,#T_bc793e90_3857_11ec_baf8_0242ac1c0002row4_col10,#T_bc793e90_3857_11ec_baf8_0242ac1c0002row6_col4,#T_bc793e90_3857_11ec_baf8_0242ac1c0002row8_col5,#T_bc793e90_3857_11ec_baf8_0242ac1c0002row9_col2,#T_bc793e90_3857_11ec_baf8_0242ac1c0002row10_col3,#T_bc793e90_3857_11ec_baf8_0242ac1c0002row10_col6,#T_bc793e90_3857_11ec_baf8_0242ac1c0002row11_col1,#T_bc793e90_3857_11ec_baf8_0242ac1c0002row11_col2{\n",
              "            background-color:  #fdf5fa;\n",
              "            color:  #000000;\n",
              "        }#T_bc793e90_3857_11ec_baf8_0242ac1c0002row0_col2,#T_bc793e90_3857_11ec_baf8_0242ac1c0002row0_col6,#T_bc793e90_3857_11ec_baf8_0242ac1c0002row0_col8,#T_bc793e90_3857_11ec_baf8_0242ac1c0002row0_col10,#T_bc793e90_3857_11ec_baf8_0242ac1c0002row0_col11,#T_bc793e90_3857_11ec_baf8_0242ac1c0002row1_col6,#T_bc793e90_3857_11ec_baf8_0242ac1c0002row1_col7,#T_bc793e90_3857_11ec_baf8_0242ac1c0002row1_col8,#T_bc793e90_3857_11ec_baf8_0242ac1c0002row1_col11,#T_bc793e90_3857_11ec_baf8_0242ac1c0002row2_col6,#T_bc793e90_3857_11ec_baf8_0242ac1c0002row2_col7,#T_bc793e90_3857_11ec_baf8_0242ac1c0002row2_col8,#T_bc793e90_3857_11ec_baf8_0242ac1c0002row2_col9,#T_bc793e90_3857_11ec_baf8_0242ac1c0002row3_col6,#T_bc793e90_3857_11ec_baf8_0242ac1c0002row3_col7,#T_bc793e90_3857_11ec_baf8_0242ac1c0002row3_col9,#T_bc793e90_3857_11ec_baf8_0242ac1c0002row4_col6,#T_bc793e90_3857_11ec_baf8_0242ac1c0002row4_col8,#T_bc793e90_3857_11ec_baf8_0242ac1c0002row5_col2,#T_bc793e90_3857_11ec_baf8_0242ac1c0002row5_col7,#T_bc793e90_3857_11ec_baf8_0242ac1c0002row5_col8,#T_bc793e90_3857_11ec_baf8_0242ac1c0002row6_col0,#T_bc793e90_3857_11ec_baf8_0242ac1c0002row6_col1,#T_bc793e90_3857_11ec_baf8_0242ac1c0002row6_col2,#T_bc793e90_3857_11ec_baf8_0242ac1c0002row6_col7,#T_bc793e90_3857_11ec_baf8_0242ac1c0002row6_col8,#T_bc793e90_3857_11ec_baf8_0242ac1c0002row6_col9,#T_bc793e90_3857_11ec_baf8_0242ac1c0002row6_col10,#T_bc793e90_3857_11ec_baf8_0242ac1c0002row6_col11,#T_bc793e90_3857_11ec_baf8_0242ac1c0002row7_col1,#T_bc793e90_3857_11ec_baf8_0242ac1c0002row7_col2,#T_bc793e90_3857_11ec_baf8_0242ac1c0002row7_col6,#T_bc793e90_3857_11ec_baf8_0242ac1c0002row7_col8,#T_bc793e90_3857_11ec_baf8_0242ac1c0002row7_col9,#T_bc793e90_3857_11ec_baf8_0242ac1c0002row7_col10,#T_bc793e90_3857_11ec_baf8_0242ac1c0002row7_col11,#T_bc793e90_3857_11ec_baf8_0242ac1c0002row8_col0,#T_bc793e90_3857_11ec_baf8_0242ac1c0002row8_col2,#T_bc793e90_3857_11ec_baf8_0242ac1c0002row8_col6,#T_bc793e90_3857_11ec_baf8_0242ac1c0002row8_col7,#T_bc793e90_3857_11ec_baf8_0242ac1c0002row8_col9,#T_bc793e90_3857_11ec_baf8_0242ac1c0002row8_col10,#T_bc793e90_3857_11ec_baf8_0242ac1c0002row9_col1,#T_bc793e90_3857_11ec_baf8_0242ac1c0002row9_col6,#T_bc793e90_3857_11ec_baf8_0242ac1c0002row9_col7,#T_bc793e90_3857_11ec_baf8_0242ac1c0002row9_col8,#T_bc793e90_3857_11ec_baf8_0242ac1c0002row9_col11,#T_bc793e90_3857_11ec_baf8_0242ac1c0002row10_col1,#T_bc793e90_3857_11ec_baf8_0242ac1c0002row10_col2,#T_bc793e90_3857_11ec_baf8_0242ac1c0002row10_col7,#T_bc793e90_3857_11ec_baf8_0242ac1c0002row10_col8,#T_bc793e90_3857_11ec_baf8_0242ac1c0002row10_col9,#T_bc793e90_3857_11ec_baf8_0242ac1c0002row11_col0,#T_bc793e90_3857_11ec_baf8_0242ac1c0002row11_col6,#T_bc793e90_3857_11ec_baf8_0242ac1c0002row11_col7,#T_bc793e90_3857_11ec_baf8_0242ac1c0002row11_col8,#T_bc793e90_3857_11ec_baf8_0242ac1c0002row11_col9{\n",
              "            background-color:  #fff7fb;\n",
              "            color:  #000000;\n",
              "        }#T_bc793e90_3857_11ec_baf8_0242ac1c0002row0_col4,#T_bc793e90_3857_11ec_baf8_0242ac1c0002row5_col1,#T_bc793e90_3857_11ec_baf8_0242ac1c0002row9_col5{\n",
              "            background-color:  #f7f0f7;\n",
              "            color:  #000000;\n",
              "        }#T_bc793e90_3857_11ec_baf8_0242ac1c0002row0_col5,#T_bc793e90_3857_11ec_baf8_0242ac1c0002row2_col1{\n",
              "            background-color:  #f5eff6;\n",
              "            color:  #000000;\n",
              "        }#T_bc793e90_3857_11ec_baf8_0242ac1c0002row0_col7,#T_bc793e90_3857_11ec_baf8_0242ac1c0002row0_col9,#T_bc793e90_3857_11ec_baf8_0242ac1c0002row1_col3,#T_bc793e90_3857_11ec_baf8_0242ac1c0002row3_col8,#T_bc793e90_3857_11ec_baf8_0242ac1c0002row4_col2,#T_bc793e90_3857_11ec_baf8_0242ac1c0002row5_col6,#T_bc793e90_3857_11ec_baf8_0242ac1c0002row6_col3,#T_bc793e90_3857_11ec_baf8_0242ac1c0002row7_col0,#T_bc793e90_3857_11ec_baf8_0242ac1c0002row7_col3,#T_bc793e90_3857_11ec_baf8_0242ac1c0002row7_col4,#T_bc793e90_3857_11ec_baf8_0242ac1c0002row8_col11,#T_bc793e90_3857_11ec_baf8_0242ac1c0002row9_col0,#T_bc793e90_3857_11ec_baf8_0242ac1c0002row9_col10,#T_bc793e90_3857_11ec_baf8_0242ac1c0002row10_col0,#T_bc793e90_3857_11ec_baf8_0242ac1c0002row10_col11,#T_bc793e90_3857_11ec_baf8_0242ac1c0002row11_col10{\n",
              "            background-color:  #fef6fb;\n",
              "            color:  #000000;\n",
              "        }#T_bc793e90_3857_11ec_baf8_0242ac1c0002row1_col1{\n",
              "            background-color:  #9fbad9;\n",
              "            color:  #000000;\n",
              "        }#T_bc793e90_3857_11ec_baf8_0242ac1c0002row1_col2,#T_bc793e90_3857_11ec_baf8_0242ac1c0002row1_col9,#T_bc793e90_3857_11ec_baf8_0242ac1c0002row2_col0,#T_bc793e90_3857_11ec_baf8_0242ac1c0002row3_col2,#T_bc793e90_3857_11ec_baf8_0242ac1c0002row3_col10,#T_bc793e90_3857_11ec_baf8_0242ac1c0002row4_col0,#T_bc793e90_3857_11ec_baf8_0242ac1c0002row4_col1,#T_bc793e90_3857_11ec_baf8_0242ac1c0002row4_col7,#T_bc793e90_3857_11ec_baf8_0242ac1c0002row5_col11,#T_bc793e90_3857_11ec_baf8_0242ac1c0002row9_col3{\n",
              "            background-color:  #fef6fa;\n",
              "            color:  #000000;\n",
              "        }#T_bc793e90_3857_11ec_baf8_0242ac1c0002row1_col4{\n",
              "            background-color:  #f4edf6;\n",
              "            color:  #000000;\n",
              "        }#T_bc793e90_3857_11ec_baf8_0242ac1c0002row1_col5{\n",
              "            background-color:  #f1ebf4;\n",
              "            color:  #000000;\n",
              "        }#T_bc793e90_3857_11ec_baf8_0242ac1c0002row2_col2{\n",
              "            background-color:  #d5d5e8;\n",
              "            color:  #000000;\n",
              "        }#T_bc793e90_3857_11ec_baf8_0242ac1c0002row2_col4{\n",
              "            background-color:  #f9f2f8;\n",
              "            color:  #000000;\n",
              "        }#T_bc793e90_3857_11ec_baf8_0242ac1c0002row2_col5,#T_bc793e90_3857_11ec_baf8_0242ac1c0002row3_col1,#T_bc793e90_3857_11ec_baf8_0242ac1c0002row5_col0,#T_bc793e90_3857_11ec_baf8_0242ac1c0002row5_col3,#T_bc793e90_3857_11ec_baf8_0242ac1c0002row6_col6,#T_bc793e90_3857_11ec_baf8_0242ac1c0002row8_col8,#T_bc793e90_3857_11ec_baf8_0242ac1c0002row10_col4{\n",
              "            background-color:  #f8f1f8;\n",
              "            color:  #000000;\n",
              "        }#T_bc793e90_3857_11ec_baf8_0242ac1c0002row2_col11,#T_bc793e90_3857_11ec_baf8_0242ac1c0002row4_col9,#T_bc793e90_3857_11ec_baf8_0242ac1c0002row5_col9,#T_bc793e90_3857_11ec_baf8_0242ac1c0002row6_col5,#T_bc793e90_3857_11ec_baf8_0242ac1c0002row8_col3,#T_bc793e90_3857_11ec_baf8_0242ac1c0002row8_col4,#T_bc793e90_3857_11ec_baf8_0242ac1c0002row9_col4,#T_bc793e90_3857_11ec_baf8_0242ac1c0002row11_col3{\n",
              "            background-color:  #fcf4fa;\n",
              "            color:  #000000;\n",
              "        }#T_bc793e90_3857_11ec_baf8_0242ac1c0002row3_col0,#T_bc793e90_3857_11ec_baf8_0242ac1c0002row5_col10{\n",
              "            background-color:  #faf2f8;\n",
              "            color:  #000000;\n",
              "        }#T_bc793e90_3857_11ec_baf8_0242ac1c0002row3_col3{\n",
              "            background-color:  #c8cde4;\n",
              "            color:  #000000;\n",
              "        }#T_bc793e90_3857_11ec_baf8_0242ac1c0002row3_col4{\n",
              "            background-color:  #eae6f1;\n",
              "            color:  #000000;\n",
              "        }#T_bc793e90_3857_11ec_baf8_0242ac1c0002row3_col5{\n",
              "            background-color:  #e7e3f0;\n",
              "            color:  #000000;\n",
              "        }#T_bc793e90_3857_11ec_baf8_0242ac1c0002row4_col3{\n",
              "            background-color:  #f4eef6;\n",
              "            color:  #000000;\n",
              "        }#T_bc793e90_3857_11ec_baf8_0242ac1c0002row4_col4{\n",
              "            background-color:  #03466e;\n",
              "            color:  #f1f1f1;\n",
              "        }#T_bc793e90_3857_11ec_baf8_0242ac1c0002row4_col5,#T_bc793e90_3857_11ec_baf8_0242ac1c0002row5_col4{\n",
              "            background-color:  #dcdaeb;\n",
              "            color:  #000000;\n",
              "        }#T_bc793e90_3857_11ec_baf8_0242ac1c0002row4_col11{\n",
              "            background-color:  #f6eff7;\n",
              "            color:  #000000;\n",
              "        }#T_bc793e90_3857_11ec_baf8_0242ac1c0002row5_col5{\n",
              "            background-color:  #023858;\n",
              "            color:  #f1f1f1;\n",
              "        }#T_bc793e90_3857_11ec_baf8_0242ac1c0002row7_col5,#T_bc793e90_3857_11ec_baf8_0242ac1c0002row7_col7,#T_bc793e90_3857_11ec_baf8_0242ac1c0002row8_col1{\n",
              "            background-color:  #fbf4f9;\n",
              "            color:  #000000;\n",
              "        }#T_bc793e90_3857_11ec_baf8_0242ac1c0002row9_col9{\n",
              "            background-color:  #f2ecf5;\n",
              "            color:  #000000;\n",
              "        }#T_bc793e90_3857_11ec_baf8_0242ac1c0002row10_col5,#T_bc793e90_3857_11ec_baf8_0242ac1c0002row11_col5{\n",
              "            background-color:  #f0eaf4;\n",
              "            color:  #000000;\n",
              "        }#T_bc793e90_3857_11ec_baf8_0242ac1c0002row10_col10{\n",
              "            background-color:  #e8e4f0;\n",
              "            color:  #000000;\n",
              "        }#T_bc793e90_3857_11ec_baf8_0242ac1c0002row11_col4{\n",
              "            background-color:  #eee9f3;\n",
              "            color:  #000000;\n",
              "        }#T_bc793e90_3857_11ec_baf8_0242ac1c0002row11_col11{\n",
              "            background-color:  #e3e0ee;\n",
              "            color:  #000000;\n",
              "        }</style><table id=\"T_bc793e90_3857_11ec_baf8_0242ac1c0002\" class=\"dataframe\"><thead>    <tr>        <th class=\"blank level0\" ></th>        <th class=\"col_heading level0 col0\" >Predicted M22-</th>        <th class=\"col_heading level0 col1\" >Predicted M23-26</th>        <th class=\"col_heading level0 col2\" >Predicted M27-28</th>        <th class=\"col_heading level0 col3\" >Predicted M29-31</th>        <th class=\"col_heading level0 col4\" >Predicted M32-38</th>        <th class=\"col_heading level0 col5\" >Predicted M39+</th>        <th class=\"col_heading level0 col6\" >Predicted F23-</th>        <th class=\"col_heading level0 col7\" >Predicted F24-26</th>        <th class=\"col_heading level0 col8\" >Predicted F27-28</th>        <th class=\"col_heading level0 col9\" >Predicted F29-32</th>        <th class=\"col_heading level0 col10\" >Predicted F33-42</th>        <th class=\"col_heading level0 col11\" >Predicted F43+</th>    </tr></thead><tbody>\n",
              "                <tr>\n",
              "                        <th id=\"T_bc793e90_3857_11ec_baf8_0242ac1c0002level0_row0\" class=\"row_heading level0 row0\" >Actually M22-</th>\n",
              "                        <td id=\"T_bc793e90_3857_11ec_baf8_0242ac1c0002row0_col0\" class=\"data row0 col0\" >62</td>\n",
              "                        <td id=\"T_bc793e90_3857_11ec_baf8_0242ac1c0002row0_col1\" class=\"data row0 col1\" >7</td>\n",
              "                        <td id=\"T_bc793e90_3857_11ec_baf8_0242ac1c0002row0_col2\" class=\"data row0 col2\" >1</td>\n",
              "                        <td id=\"T_bc793e90_3857_11ec_baf8_0242ac1c0002row0_col3\" class=\"data row0 col3\" >6</td>\n",
              "                        <td id=\"T_bc793e90_3857_11ec_baf8_0242ac1c0002row0_col4\" class=\"data row0 col4\" >21</td>\n",
              "                        <td id=\"T_bc793e90_3857_11ec_baf8_0242ac1c0002row0_col5\" class=\"data row0 col5\" >25</td>\n",
              "                        <td id=\"T_bc793e90_3857_11ec_baf8_0242ac1c0002row0_col6\" class=\"data row0 col6\" >0</td>\n",
              "                        <td id=\"T_bc793e90_3857_11ec_baf8_0242ac1c0002row0_col7\" class=\"data row0 col7\" >3</td>\n",
              "                        <td id=\"T_bc793e90_3857_11ec_baf8_0242ac1c0002row0_col8\" class=\"data row0 col8\" >0</td>\n",
              "                        <td id=\"T_bc793e90_3857_11ec_baf8_0242ac1c0002row0_col9\" class=\"data row0 col9\" >2</td>\n",
              "                        <td id=\"T_bc793e90_3857_11ec_baf8_0242ac1c0002row0_col10\" class=\"data row0 col10\" >0</td>\n",
              "                        <td id=\"T_bc793e90_3857_11ec_baf8_0242ac1c0002row0_col11\" class=\"data row0 col11\" >0</td>\n",
              "            </tr>\n",
              "            <tr>\n",
              "                        <th id=\"T_bc793e90_3857_11ec_baf8_0242ac1c0002level0_row1\" class=\"row_heading level0 row1\" >Actually M23-26</th>\n",
              "                        <td id=\"T_bc793e90_3857_11ec_baf8_0242ac1c0002row1_col0\" class=\"data row1 col0\" >7</td>\n",
              "                        <td id=\"T_bc793e90_3857_11ec_baf8_0242ac1c0002row1_col1\" class=\"data row1 col1\" >157</td>\n",
              "                        <td id=\"T_bc793e90_3857_11ec_baf8_0242ac1c0002row1_col2\" class=\"data row1 col2\" >4</td>\n",
              "                        <td id=\"T_bc793e90_3857_11ec_baf8_0242ac1c0002row1_col3\" class=\"data row1 col3\" >2</td>\n",
              "                        <td id=\"T_bc793e90_3857_11ec_baf8_0242ac1c0002row1_col4\" class=\"data row1 col4\" >31</td>\n",
              "                        <td id=\"T_bc793e90_3857_11ec_baf8_0242ac1c0002row1_col5\" class=\"data row1 col5\" >38</td>\n",
              "                        <td id=\"T_bc793e90_3857_11ec_baf8_0242ac1c0002row1_col6\" class=\"data row1 col6\" >0</td>\n",
              "                        <td id=\"T_bc793e90_3857_11ec_baf8_0242ac1c0002row1_col7\" class=\"data row1 col7\" >0</td>\n",
              "                        <td id=\"T_bc793e90_3857_11ec_baf8_0242ac1c0002row1_col8\" class=\"data row1 col8\" >0</td>\n",
              "                        <td id=\"T_bc793e90_3857_11ec_baf8_0242ac1c0002row1_col9\" class=\"data row1 col9\" >4</td>\n",
              "                        <td id=\"T_bc793e90_3857_11ec_baf8_0242ac1c0002row1_col10\" class=\"data row1 col10\" >7</td>\n",
              "                        <td id=\"T_bc793e90_3857_11ec_baf8_0242ac1c0002row1_col11\" class=\"data row1 col11\" >0</td>\n",
              "            </tr>\n",
              "            <tr>\n",
              "                        <th id=\"T_bc793e90_3857_11ec_baf8_0242ac1c0002level0_row2\" class=\"row_heading level0 row2\" >Actually M27-28</th>\n",
              "                        <td id=\"T_bc793e90_3857_11ec_baf8_0242ac1c0002row2_col0\" class=\"data row2 col0\" >4</td>\n",
              "                        <td id=\"T_bc793e90_3857_11ec_baf8_0242ac1c0002row2_col1\" class=\"data row2 col1\" >26</td>\n",
              "                        <td id=\"T_bc793e90_3857_11ec_baf8_0242ac1c0002row2_col2\" class=\"data row2 col2\" >91</td>\n",
              "                        <td id=\"T_bc793e90_3857_11ec_baf8_0242ac1c0002row2_col3\" class=\"data row2 col3\" >7</td>\n",
              "                        <td id=\"T_bc793e90_3857_11ec_baf8_0242ac1c0002row2_col4\" class=\"data row2 col4\" >16</td>\n",
              "                        <td id=\"T_bc793e90_3857_11ec_baf8_0242ac1c0002row2_col5\" class=\"data row2 col5\" >19</td>\n",
              "                        <td id=\"T_bc793e90_3857_11ec_baf8_0242ac1c0002row2_col6\" class=\"data row2 col6\" >0</td>\n",
              "                        <td id=\"T_bc793e90_3857_11ec_baf8_0242ac1c0002row2_col7\" class=\"data row2 col7\" >0</td>\n",
              "                        <td id=\"T_bc793e90_3857_11ec_baf8_0242ac1c0002row2_col8\" class=\"data row2 col8\" >0</td>\n",
              "                        <td id=\"T_bc793e90_3857_11ec_baf8_0242ac1c0002row2_col9\" class=\"data row2 col9\" >0</td>\n",
              "                        <td id=\"T_bc793e90_3857_11ec_baf8_0242ac1c0002row2_col10\" class=\"data row2 col10\" >6</td>\n",
              "                        <td id=\"T_bc793e90_3857_11ec_baf8_0242ac1c0002row2_col11\" class=\"data row2 col11\" >8</td>\n",
              "            </tr>\n",
              "            <tr>\n",
              "                        <th id=\"T_bc793e90_3857_11ec_baf8_0242ac1c0002level0_row3\" class=\"row_heading level0 row3\" >Actually M29-31</th>\n",
              "                        <td id=\"T_bc793e90_3857_11ec_baf8_0242ac1c0002row3_col0\" class=\"data row3 col0\" >15</td>\n",
              "                        <td id=\"T_bc793e90_3857_11ec_baf8_0242ac1c0002row3_col1\" class=\"data row3 col1\" >18</td>\n",
              "                        <td id=\"T_bc793e90_3857_11ec_baf8_0242ac1c0002row3_col2\" class=\"data row3 col2\" >4</td>\n",
              "                        <td id=\"T_bc793e90_3857_11ec_baf8_0242ac1c0002row3_col3\" class=\"data row3 col3\" >109</td>\n",
              "                        <td id=\"T_bc793e90_3857_11ec_baf8_0242ac1c0002row3_col4\" class=\"data row3 col4\" >53</td>\n",
              "                        <td id=\"T_bc793e90_3857_11ec_baf8_0242ac1c0002row3_col5\" class=\"data row3 col5\" >60</td>\n",
              "                        <td id=\"T_bc793e90_3857_11ec_baf8_0242ac1c0002row3_col6\" class=\"data row3 col6\" >1</td>\n",
              "                        <td id=\"T_bc793e90_3857_11ec_baf8_0242ac1c0002row3_col7\" class=\"data row3 col7\" >0</td>\n",
              "                        <td id=\"T_bc793e90_3857_11ec_baf8_0242ac1c0002row3_col8\" class=\"data row3 col8\" >3</td>\n",
              "                        <td id=\"T_bc793e90_3857_11ec_baf8_0242ac1c0002row3_col9\" class=\"data row3 col9\" >0</td>\n",
              "                        <td id=\"T_bc793e90_3857_11ec_baf8_0242ac1c0002row3_col10\" class=\"data row3 col10\" >4</td>\n",
              "                        <td id=\"T_bc793e90_3857_11ec_baf8_0242ac1c0002row3_col11\" class=\"data row3 col11\" >6</td>\n",
              "            </tr>\n",
              "            <tr>\n",
              "                        <th id=\"T_bc793e90_3857_11ec_baf8_0242ac1c0002level0_row4\" class=\"row_heading level0 row4\" >Actually M32-38</th>\n",
              "                        <td id=\"T_bc793e90_3857_11ec_baf8_0242ac1c0002row4_col0\" class=\"data row4 col0\" >4</td>\n",
              "                        <td id=\"T_bc793e90_3857_11ec_baf8_0242ac1c0002row4_col1\" class=\"data row4 col1\" >4</td>\n",
              "                        <td id=\"T_bc793e90_3857_11ec_baf8_0242ac1c0002row4_col2\" class=\"data row4 col2\" >3</td>\n",
              "                        <td id=\"T_bc793e90_3857_11ec_baf8_0242ac1c0002row4_col3\" class=\"data row4 col3\" >28</td>\n",
              "                        <td id=\"T_bc793e90_3857_11ec_baf8_0242ac1c0002row4_col4\" class=\"data row4 col4\" >377</td>\n",
              "                        <td id=\"T_bc793e90_3857_11ec_baf8_0242ac1c0002row4_col5\" class=\"data row4 col5\" >79</td>\n",
              "                        <td id=\"T_bc793e90_3857_11ec_baf8_0242ac1c0002row4_col6\" class=\"data row4 col6\" >0</td>\n",
              "                        <td id=\"T_bc793e90_3857_11ec_baf8_0242ac1c0002row4_col7\" class=\"data row4 col7\" >4</td>\n",
              "                        <td id=\"T_bc793e90_3857_11ec_baf8_0242ac1c0002row4_col8\" class=\"data row4 col8\" >1</td>\n",
              "                        <td id=\"T_bc793e90_3857_11ec_baf8_0242ac1c0002row4_col9\" class=\"data row4 col9\" >9</td>\n",
              "                        <td id=\"T_bc793e90_3857_11ec_baf8_0242ac1c0002row4_col10\" class=\"data row4 col10\" >5</td>\n",
              "                        <td id=\"T_bc793e90_3857_11ec_baf8_0242ac1c0002row4_col11\" class=\"data row4 col11\" >24</td>\n",
              "            </tr>\n",
              "            <tr>\n",
              "                        <th id=\"T_bc793e90_3857_11ec_baf8_0242ac1c0002level0_row5\" class=\"row_heading level0 row5\" >Actually M39+</th>\n",
              "                        <td id=\"T_bc793e90_3857_11ec_baf8_0242ac1c0002row5_col0\" class=\"data row5 col0\" >20</td>\n",
              "                        <td id=\"T_bc793e90_3857_11ec_baf8_0242ac1c0002row5_col1\" class=\"data row5 col1\" >23</td>\n",
              "                        <td id=\"T_bc793e90_3857_11ec_baf8_0242ac1c0002row5_col2\" class=\"data row5 col2\" >1</td>\n",
              "                        <td id=\"T_bc793e90_3857_11ec_baf8_0242ac1c0002row5_col3\" class=\"data row5 col3\" >19</td>\n",
              "                        <td id=\"T_bc793e90_3857_11ec_baf8_0242ac1c0002row5_col4\" class=\"data row5 col4\" >79</td>\n",
              "                        <td id=\"T_bc793e90_3857_11ec_baf8_0242ac1c0002row5_col5\" class=\"data row5 col5\" >398</td>\n",
              "                        <td id=\"T_bc793e90_3857_11ec_baf8_0242ac1c0002row5_col6\" class=\"data row5 col6\" >2</td>\n",
              "                        <td id=\"T_bc793e90_3857_11ec_baf8_0242ac1c0002row5_col7\" class=\"data row5 col7\" >1</td>\n",
              "                        <td id=\"T_bc793e90_3857_11ec_baf8_0242ac1c0002row5_col8\" class=\"data row5 col8\" >0</td>\n",
              "                        <td id=\"T_bc793e90_3857_11ec_baf8_0242ac1c0002row5_col9\" class=\"data row5 col9\" >8</td>\n",
              "                        <td id=\"T_bc793e90_3857_11ec_baf8_0242ac1c0002row5_col10\" class=\"data row5 col10\" >14</td>\n",
              "                        <td id=\"T_bc793e90_3857_11ec_baf8_0242ac1c0002row5_col11\" class=\"data row5 col11\" >4</td>\n",
              "            </tr>\n",
              "            <tr>\n",
              "                        <th id=\"T_bc793e90_3857_11ec_baf8_0242ac1c0002level0_row6\" class=\"row_heading level0 row6\" >Actually F23-</th>\n",
              "                        <td id=\"T_bc793e90_3857_11ec_baf8_0242ac1c0002row6_col0\" class=\"data row6 col0\" >0</td>\n",
              "                        <td id=\"T_bc793e90_3857_11ec_baf8_0242ac1c0002row6_col1\" class=\"data row6 col1\" >1</td>\n",
              "                        <td id=\"T_bc793e90_3857_11ec_baf8_0242ac1c0002row6_col2\" class=\"data row6 col2\" >0</td>\n",
              "                        <td id=\"T_bc793e90_3857_11ec_baf8_0242ac1c0002row6_col3\" class=\"data row6 col3\" >2</td>\n",
              "                        <td id=\"T_bc793e90_3857_11ec_baf8_0242ac1c0002row6_col4\" class=\"data row6 col4\" >6</td>\n",
              "                        <td id=\"T_bc793e90_3857_11ec_baf8_0242ac1c0002row6_col5\" class=\"data row6 col5\" >9</td>\n",
              "                        <td id=\"T_bc793e90_3857_11ec_baf8_0242ac1c0002row6_col6\" class=\"data row6 col6\" >20</td>\n",
              "                        <td id=\"T_bc793e90_3857_11ec_baf8_0242ac1c0002row6_col7\" class=\"data row6 col7\" >0</td>\n",
              "                        <td id=\"T_bc793e90_3857_11ec_baf8_0242ac1c0002row6_col8\" class=\"data row6 col8\" >0</td>\n",
              "                        <td id=\"T_bc793e90_3857_11ec_baf8_0242ac1c0002row6_col9\" class=\"data row6 col9\" >0</td>\n",
              "                        <td id=\"T_bc793e90_3857_11ec_baf8_0242ac1c0002row6_col10\" class=\"data row6 col10\" >1</td>\n",
              "                        <td id=\"T_bc793e90_3857_11ec_baf8_0242ac1c0002row6_col11\" class=\"data row6 col11\" >0</td>\n",
              "            </tr>\n",
              "            <tr>\n",
              "                        <th id=\"T_bc793e90_3857_11ec_baf8_0242ac1c0002level0_row7\" class=\"row_heading level0 row7\" >Actually F24-26</th>\n",
              "                        <td id=\"T_bc793e90_3857_11ec_baf8_0242ac1c0002row7_col0\" class=\"data row7 col0\" >2</td>\n",
              "                        <td id=\"T_bc793e90_3857_11ec_baf8_0242ac1c0002row7_col1\" class=\"data row7 col1\" >0</td>\n",
              "                        <td id=\"T_bc793e90_3857_11ec_baf8_0242ac1c0002row7_col2\" class=\"data row7 col2\" >0</td>\n",
              "                        <td id=\"T_bc793e90_3857_11ec_baf8_0242ac1c0002row7_col3\" class=\"data row7 col3\" >3</td>\n",
              "                        <td id=\"T_bc793e90_3857_11ec_baf8_0242ac1c0002row7_col4\" class=\"data row7 col4\" >2</td>\n",
              "                        <td id=\"T_bc793e90_3857_11ec_baf8_0242ac1c0002row7_col5\" class=\"data row7 col5\" >10</td>\n",
              "                        <td id=\"T_bc793e90_3857_11ec_baf8_0242ac1c0002row7_col6\" class=\"data row7 col6\" >0</td>\n",
              "                        <td id=\"T_bc793e90_3857_11ec_baf8_0242ac1c0002row7_col7\" class=\"data row7 col7\" >10</td>\n",
              "                        <td id=\"T_bc793e90_3857_11ec_baf8_0242ac1c0002row7_col8\" class=\"data row7 col8\" >0</td>\n",
              "                        <td id=\"T_bc793e90_3857_11ec_baf8_0242ac1c0002row7_col9\" class=\"data row7 col9\" >0</td>\n",
              "                        <td id=\"T_bc793e90_3857_11ec_baf8_0242ac1c0002row7_col10\" class=\"data row7 col10\" >1</td>\n",
              "                        <td id=\"T_bc793e90_3857_11ec_baf8_0242ac1c0002row7_col11\" class=\"data row7 col11\" >0</td>\n",
              "            </tr>\n",
              "            <tr>\n",
              "                        <th id=\"T_bc793e90_3857_11ec_baf8_0242ac1c0002level0_row8\" class=\"row_heading level0 row8\" >Actually F27-28</th>\n",
              "                        <td id=\"T_bc793e90_3857_11ec_baf8_0242ac1c0002row8_col0\" class=\"data row8 col0\" >0</td>\n",
              "                        <td id=\"T_bc793e90_3857_11ec_baf8_0242ac1c0002row8_col1\" class=\"data row8 col1\" >10</td>\n",
              "                        <td id=\"T_bc793e90_3857_11ec_baf8_0242ac1c0002row8_col2\" class=\"data row8 col2\" >0</td>\n",
              "                        <td id=\"T_bc793e90_3857_11ec_baf8_0242ac1c0002row8_col3\" class=\"data row8 col3\" >8</td>\n",
              "                        <td id=\"T_bc793e90_3857_11ec_baf8_0242ac1c0002row8_col4\" class=\"data row8 col4\" >8</td>\n",
              "                        <td id=\"T_bc793e90_3857_11ec_baf8_0242ac1c0002row8_col5\" class=\"data row8 col5\" >7</td>\n",
              "                        <td id=\"T_bc793e90_3857_11ec_baf8_0242ac1c0002row8_col6\" class=\"data row8 col6\" >0</td>\n",
              "                        <td id=\"T_bc793e90_3857_11ec_baf8_0242ac1c0002row8_col7\" class=\"data row8 col7\" >0</td>\n",
              "                        <td id=\"T_bc793e90_3857_11ec_baf8_0242ac1c0002row8_col8\" class=\"data row8 col8\" >19</td>\n",
              "                        <td id=\"T_bc793e90_3857_11ec_baf8_0242ac1c0002row8_col9\" class=\"data row8 col9\" >0</td>\n",
              "                        <td id=\"T_bc793e90_3857_11ec_baf8_0242ac1c0002row8_col10\" class=\"data row8 col10\" >1</td>\n",
              "                        <td id=\"T_bc793e90_3857_11ec_baf8_0242ac1c0002row8_col11\" class=\"data row8 col11\" >3</td>\n",
              "            </tr>\n",
              "            <tr>\n",
              "                        <th id=\"T_bc793e90_3857_11ec_baf8_0242ac1c0002level0_row9\" class=\"row_heading level0 row9\" >Actually F29-32</th>\n",
              "                        <td id=\"T_bc793e90_3857_11ec_baf8_0242ac1c0002row9_col0\" class=\"data row9 col0\" >2</td>\n",
              "                        <td id=\"T_bc793e90_3857_11ec_baf8_0242ac1c0002row9_col1\" class=\"data row9 col1\" >1</td>\n",
              "                        <td id=\"T_bc793e90_3857_11ec_baf8_0242ac1c0002row9_col2\" class=\"data row9 col2\" >5</td>\n",
              "                        <td id=\"T_bc793e90_3857_11ec_baf8_0242ac1c0002row9_col3\" class=\"data row9 col3\" >4</td>\n",
              "                        <td id=\"T_bc793e90_3857_11ec_baf8_0242ac1c0002row9_col4\" class=\"data row9 col4\" >9</td>\n",
              "                        <td id=\"T_bc793e90_3857_11ec_baf8_0242ac1c0002row9_col5\" class=\"data row9 col5\" >23</td>\n",
              "                        <td id=\"T_bc793e90_3857_11ec_baf8_0242ac1c0002row9_col6\" class=\"data row9 col6\" >0</td>\n",
              "                        <td id=\"T_bc793e90_3857_11ec_baf8_0242ac1c0002row9_col7\" class=\"data row9 col7\" >0</td>\n",
              "                        <td id=\"T_bc793e90_3857_11ec_baf8_0242ac1c0002row9_col8\" class=\"data row9 col8\" >0</td>\n",
              "                        <td id=\"T_bc793e90_3857_11ec_baf8_0242ac1c0002row9_col9\" class=\"data row9 col9\" >35</td>\n",
              "                        <td id=\"T_bc793e90_3857_11ec_baf8_0242ac1c0002row9_col10\" class=\"data row9 col10\" >2</td>\n",
              "                        <td id=\"T_bc793e90_3857_11ec_baf8_0242ac1c0002row9_col11\" class=\"data row9 col11\" >0</td>\n",
              "            </tr>\n",
              "            <tr>\n",
              "                        <th id=\"T_bc793e90_3857_11ec_baf8_0242ac1c0002level0_row10\" class=\"row_heading level0 row10\" >Actually F33-42</th>\n",
              "                        <td id=\"T_bc793e90_3857_11ec_baf8_0242ac1c0002row10_col0\" class=\"data row10 col0\" >3</td>\n",
              "                        <td id=\"T_bc793e90_3857_11ec_baf8_0242ac1c0002row10_col1\" class=\"data row10 col1\" >0</td>\n",
              "                        <td id=\"T_bc793e90_3857_11ec_baf8_0242ac1c0002row10_col2\" class=\"data row10 col2\" >1</td>\n",
              "                        <td id=\"T_bc793e90_3857_11ec_baf8_0242ac1c0002row10_col3\" class=\"data row10 col3\" >7</td>\n",
              "                        <td id=\"T_bc793e90_3857_11ec_baf8_0242ac1c0002row10_col4\" class=\"data row10 col4\" >18</td>\n",
              "                        <td id=\"T_bc793e90_3857_11ec_baf8_0242ac1c0002row10_col5\" class=\"data row10 col5\" >41</td>\n",
              "                        <td id=\"T_bc793e90_3857_11ec_baf8_0242ac1c0002row10_col6\" class=\"data row10 col6\" >6</td>\n",
              "                        <td id=\"T_bc793e90_3857_11ec_baf8_0242ac1c0002row10_col7\" class=\"data row10 col7\" >0</td>\n",
              "                        <td id=\"T_bc793e90_3857_11ec_baf8_0242ac1c0002row10_col8\" class=\"data row10 col8\" >0</td>\n",
              "                        <td id=\"T_bc793e90_3857_11ec_baf8_0242ac1c0002row10_col9\" class=\"data row10 col9\" >1</td>\n",
              "                        <td id=\"T_bc793e90_3857_11ec_baf8_0242ac1c0002row10_col10\" class=\"data row10 col10\" >57</td>\n",
              "                        <td id=\"T_bc793e90_3857_11ec_baf8_0242ac1c0002row10_col11\" class=\"data row10 col11\" >3</td>\n",
              "            </tr>\n",
              "            <tr>\n",
              "                        <th id=\"T_bc793e90_3857_11ec_baf8_0242ac1c0002level0_row11\" class=\"row_heading level0 row11\" >Actually F43+</th>\n",
              "                        <td id=\"T_bc793e90_3857_11ec_baf8_0242ac1c0002row11_col0\" class=\"data row11 col0\" >0</td>\n",
              "                        <td id=\"T_bc793e90_3857_11ec_baf8_0242ac1c0002row11_col1\" class=\"data row11 col1\" >5</td>\n",
              "                        <td id=\"T_bc793e90_3857_11ec_baf8_0242ac1c0002row11_col2\" class=\"data row11 col2\" >6</td>\n",
              "                        <td id=\"T_bc793e90_3857_11ec_baf8_0242ac1c0002row11_col3\" class=\"data row11 col3\" >8</td>\n",
              "                        <td id=\"T_bc793e90_3857_11ec_baf8_0242ac1c0002row11_col4\" class=\"data row11 col4\" >44</td>\n",
              "                        <td id=\"T_bc793e90_3857_11ec_baf8_0242ac1c0002row11_col5\" class=\"data row11 col5\" >40</td>\n",
              "                        <td id=\"T_bc793e90_3857_11ec_baf8_0242ac1c0002row11_col6\" class=\"data row11 col6\" >0</td>\n",
              "                        <td id=\"T_bc793e90_3857_11ec_baf8_0242ac1c0002row11_col7\" class=\"data row11 col7\" >0</td>\n",
              "                        <td id=\"T_bc793e90_3857_11ec_baf8_0242ac1c0002row11_col8\" class=\"data row11 col8\" >1</td>\n",
              "                        <td id=\"T_bc793e90_3857_11ec_baf8_0242ac1c0002row11_col9\" class=\"data row11 col9\" >0</td>\n",
              "                        <td id=\"T_bc793e90_3857_11ec_baf8_0242ac1c0002row11_col10\" class=\"data row11 col10\" >2</td>\n",
              "                        <td id=\"T_bc793e90_3857_11ec_baf8_0242ac1c0002row11_col11\" class=\"data row11 col11\" >66</td>\n",
              "            </tr>\n",
              "    </tbody></table>"
            ],
            "text/plain": [
              "<pandas.io.formats.style.Styler at 0x7f629f821710>"
            ]
          },
          "metadata": {},
          "execution_count": 53
        }
      ]
    },
    {
      "cell_type": "code",
      "metadata": {
        "colab": {
          "base_uri": "https://localhost:8080/"
        },
        "id": "yyPzpeb-HyMZ",
        "outputId": "f70bbf83-9604-482e-99f5-2958fab549b5"
      },
      "source": [
        "print(\"Classification Report:\")\n",
        "print()\n",
        "print(classification_report(y_test, y_pred))"
      ],
      "execution_count": 54,
      "outputs": [
        {
          "output_type": "stream",
          "name": "stdout",
          "text": [
            "Classification Report:\n",
            "\n",
            "              precision    recall  f1-score   support\n",
            "\n",
            "           0       0.52      0.49      0.50       127\n",
            "           1       0.62      0.63      0.63       250\n",
            "           2       0.78      0.51      0.62       177\n",
            "           3       0.54      0.40      0.46       273\n",
            "           4       0.57      0.70      0.63       538\n",
            "           5       0.53      0.70      0.60       569\n",
            "           6       0.69      0.51      0.59        39\n",
            "           7       0.56      0.36      0.43        28\n",
            "           8       0.79      0.34      0.47        56\n",
            "           9       0.59      0.43      0.50        81\n",
            "          10       0.57      0.42      0.48       137\n",
            "          11       0.58      0.38      0.46       172\n",
            "\n",
            "    accuracy                           0.57      2447\n",
            "   macro avg       0.61      0.49      0.53      2447\n",
            "weighted avg       0.58      0.57      0.57      2447\n",
            "\n"
          ]
        }
      ]
    },
    {
      "cell_type": "markdown",
      "metadata": {
        "id": "5t3uFGNWHsMR"
      },
      "source": [
        "# Decision Tree Classifier "
      ]
    },
    {
      "cell_type": "code",
      "metadata": {
        "colab": {
          "base_uri": "https://localhost:8080/"
        },
        "id": "jBmcgTjXjOP3",
        "outputId": "7a0d6396-b3ce-4987-9406-9cf4412738a8"
      },
      "source": [
        "pipeline = Pipeline(\n",
        "    [(\"preprocessing\", preprocessing), (\"dtc\", DecisionTreeClassifier())], verbose=True\n",
        ")\n",
        "\n",
        "pipeline.fit(X_train, y_train)\n"
      ],
      "execution_count": 55,
      "outputs": [
        {
          "output_type": "stream",
          "name": "stdout",
          "text": [
            "[Pipeline] ..... (step 1 of 2) Processing preprocessing, total=   0.0s\n",
            "[Pipeline] ............... (step 2 of 2) Processing dtc, total=   0.1s\n"
          ]
        },
        {
          "output_type": "execute_result",
          "data": {
            "text/plain": [
              "Pipeline(memory=None,\n",
              "         steps=[('preprocessing',\n",
              "                 ColumnTransformer(n_jobs=None, remainder='passthrough',\n",
              "                                   sparse_threshold=0.3,\n",
              "                                   transformer_weights=None,\n",
              "                                   transformers=[('scale',\n",
              "                                                  StandardScaler(copy=True,\n",
              "                                                                 with_mean=True,\n",
              "                                                                 with_std=True),\n",
              "                                                  ['device_id', 'event_id'])],\n",
              "                                   verbose=False)),\n",
              "                ('dtc',\n",
              "                 DecisionTreeClassifier(ccp_alpha=0.0, class_weight=None,\n",
              "                                        criterion='gini', max_depth=None,\n",
              "                                        max_features=None, max_leaf_nodes=None,\n",
              "                                        min_impurity_decrease=0.0,\n",
              "                                        min_impurity_split=None,\n",
              "                                        min_samples_leaf=1, min_samples_split=2,\n",
              "                                        min_weight_fraction_leaf=0.0,\n",
              "                                        presort='deprecated', random_state=None,\n",
              "                                        splitter='best'))],\n",
              "         verbose=True)"
            ]
          },
          "metadata": {},
          "execution_count": 55
        }
      ]
    },
    {
      "cell_type": "code",
      "metadata": {
        "id": "u1z8JHPPjOSU"
      },
      "source": [
        "# Max depth of 50 provides a better score, this is much better than the previous score of around 0.2.\n",
        "# To improve score suggest increasing max depth even more\n",
        "grid = {'max_leaf_nodes': list(range(2, 100)), 'min_samples_split': [2, 3, 4]}\n",
        "\n",
        "\n",
        "model = GridSearchCV(DecisionTreeClassifier(random_state=42), grid, verbose=1, cv=3)\n"
      ],
      "execution_count": 56,
      "outputs": []
    },
    {
      "cell_type": "code",
      "metadata": {
        "colab": {
          "base_uri": "https://localhost:8080/"
        },
        "id": "mVjhBfwkjfhc",
        "outputId": "e41a4130-d37d-4831-a53a-a0dbc9b4e418"
      },
      "source": [
        "model.fit(X_train, y_train)\n"
      ],
      "execution_count": 57,
      "outputs": [
        {
          "output_type": "stream",
          "name": "stdout",
          "text": [
            "Fitting 3 folds for each of 294 candidates, totalling 882 fits\n"
          ]
        },
        {
          "output_type": "stream",
          "name": "stderr",
          "text": [
            "[Parallel(n_jobs=1)]: Using backend SequentialBackend with 1 concurrent workers.\n",
            "[Parallel(n_jobs=1)]: Done 882 out of 882 | elapsed:   45.8s finished\n"
          ]
        },
        {
          "output_type": "execute_result",
          "data": {
            "text/plain": [
              "GridSearchCV(cv=3, error_score=nan,\n",
              "             estimator=DecisionTreeClassifier(ccp_alpha=0.0, class_weight=None,\n",
              "                                              criterion='gini', max_depth=None,\n",
              "                                              max_features=None,\n",
              "                                              max_leaf_nodes=None,\n",
              "                                              min_impurity_decrease=0.0,\n",
              "                                              min_impurity_split=None,\n",
              "                                              min_samples_leaf=1,\n",
              "                                              min_samples_split=2,\n",
              "                                              min_weight_fraction_leaf=0.0,\n",
              "                                              presort='deprecated',\n",
              "                                              random_state=42,\n",
              "                                              splitter='best'),\n",
              "             iid='deprecated', n_jobs=None,\n",
              "             param_grid={'max_leaf_nodes': [2, 3, 4, 5, 6, 7, 8, 9, 10, 11, 12,\n",
              "                                            13, 14, 15, 16, 17, 18, 19, 20, 21,\n",
              "                                            22, 23, 24, 25, 26, 27, 28, 29, 30,\n",
              "                                            31, ...],\n",
              "                         'min_samples_split': [2, 3, 4]},\n",
              "             pre_dispatch='2*n_jobs', refit=True, return_train_score=False,\n",
              "             scoring=None, verbose=1)"
            ]
          },
          "metadata": {},
          "execution_count": 57
        }
      ]
    },
    {
      "cell_type": "code",
      "metadata": {
        "colab": {
          "base_uri": "https://localhost:8080/"
        },
        "id": "pB2XjHZNjkYV",
        "outputId": "ecb300ce-183a-43f2-ba22-0c8fe1a5b739"
      },
      "source": [
        "model.best_params_"
      ],
      "execution_count": 58,
      "outputs": [
        {
          "output_type": "execute_result",
          "data": {
            "text/plain": [
              "{'max_leaf_nodes': 99, 'min_samples_split': 2}"
            ]
          },
          "metadata": {},
          "execution_count": 58
        }
      ]
    },
    {
      "cell_type": "code",
      "metadata": {
        "colab": {
          "base_uri": "https://localhost:8080/"
        },
        "id": "pr785ifinrvY",
        "outputId": "1e229c10-2e24-4db8-aa61-7c85104ddc1d"
      },
      "source": [
        "# Model still appears to be extremely overfitting\n",
        "train_score = model.score(X_train, y_train)\n",
        "test_score = model.score(X_test, y_test)\n",
        "\n",
        "print(f\"Train score: {train_score}\")\n",
        "print(f\"Test score: {test_score}\")\n"
      ],
      "execution_count": 59,
      "outputs": [
        {
          "output_type": "stream",
          "name": "stdout",
          "text": [
            "Train score: 0.8423957481602616\n",
            "Test score: 0.8406211687780957\n"
          ]
        }
      ]
    },
    {
      "cell_type": "code",
      "metadata": {
        "colab": {
          "base_uri": "https://localhost:8080/",
          "height": 414
        },
        "id": "Aq7dUY_6jpj_",
        "outputId": "588460b9-a305-434a-9ca7-3552d7e72512"
      },
      "source": [
        "y_pred = model.predict(X_test)\n",
        "\n",
        "con_mat = pd.DataFrame(\n",
        "    confusion_matrix(y_test, y_pred),\n",
        "    index=[\n",
        "        \"Actually M22-\",\n",
        "        \"Actually M23-26\",\n",
        "        \"Actually M27-28\",\n",
        "        \"Actually M29-31\",\n",
        "        \"Actually M32-38\",\n",
        "        \"Actually M39+\",\n",
        "        \"Actually F23-\",\n",
        "        \"Actually F24-26\",\n",
        "        \"Actually F27-28\",\n",
        "        \"Actually F29-32\",\n",
        "        \"Actually F33-42\",\n",
        "        \"Actually F43+\",\n",
        "    ],\n",
        "    columns=[\n",
        "        \"Predicted M22-\",\n",
        "        \"Predicted M23-26\",\n",
        "        \"Predicted M27-28\",\n",
        "        \"Predicted M29-31\",\n",
        "        \"Predicted M32-38\",\n",
        "        \"Predicted M39+\",\n",
        "        \"Predicted F23-\",\n",
        "        \"Predicted F24-26\",\n",
        "        \"Predicted F27-28\",\n",
        "        \"Predicted F29-32\",\n",
        "        \"Predicted F33-42\",\n",
        "        \"Predicted F43+\",\n",
        "    ],\n",
        ")\n",
        "con_mat.style.background_gradient(axis=None)\n"
      ],
      "execution_count": 60,
      "outputs": [
        {
          "output_type": "execute_result",
          "data": {
            "text/html": [
              "<style  type=\"text/css\" >\n",
              "#T_d7f5f14a_3857_11ec_baf8_0242ac1c0002row0_col0{\n",
              "            background-color:  #e1dfed;\n",
              "            color:  #000000;\n",
              "        }#T_d7f5f14a_3857_11ec_baf8_0242ac1c0002row0_col1,#T_d7f5f14a_3857_11ec_baf8_0242ac1c0002row0_col3,#T_d7f5f14a_3857_11ec_baf8_0242ac1c0002row0_col5,#T_d7f5f14a_3857_11ec_baf8_0242ac1c0002row0_col6,#T_d7f5f14a_3857_11ec_baf8_0242ac1c0002row0_col7,#T_d7f5f14a_3857_11ec_baf8_0242ac1c0002row0_col8,#T_d7f5f14a_3857_11ec_baf8_0242ac1c0002row0_col9,#T_d7f5f14a_3857_11ec_baf8_0242ac1c0002row1_col0,#T_d7f5f14a_3857_11ec_baf8_0242ac1c0002row1_col2,#T_d7f5f14a_3857_11ec_baf8_0242ac1c0002row1_col3,#T_d7f5f14a_3857_11ec_baf8_0242ac1c0002row1_col6,#T_d7f5f14a_3857_11ec_baf8_0242ac1c0002row1_col7,#T_d7f5f14a_3857_11ec_baf8_0242ac1c0002row1_col8,#T_d7f5f14a_3857_11ec_baf8_0242ac1c0002row1_col9,#T_d7f5f14a_3857_11ec_baf8_0242ac1c0002row1_col10,#T_d7f5f14a_3857_11ec_baf8_0242ac1c0002row2_col0,#T_d7f5f14a_3857_11ec_baf8_0242ac1c0002row2_col6,#T_d7f5f14a_3857_11ec_baf8_0242ac1c0002row2_col7,#T_d7f5f14a_3857_11ec_baf8_0242ac1c0002row2_col8,#T_d7f5f14a_3857_11ec_baf8_0242ac1c0002row2_col9,#T_d7f5f14a_3857_11ec_baf8_0242ac1c0002row2_col10,#T_d7f5f14a_3857_11ec_baf8_0242ac1c0002row2_col11,#T_d7f5f14a_3857_11ec_baf8_0242ac1c0002row3_col0,#T_d7f5f14a_3857_11ec_baf8_0242ac1c0002row3_col1,#T_d7f5f14a_3857_11ec_baf8_0242ac1c0002row3_col6,#T_d7f5f14a_3857_11ec_baf8_0242ac1c0002row3_col7,#T_d7f5f14a_3857_11ec_baf8_0242ac1c0002row3_col8,#T_d7f5f14a_3857_11ec_baf8_0242ac1c0002row3_col9,#T_d7f5f14a_3857_11ec_baf8_0242ac1c0002row3_col10,#T_d7f5f14a_3857_11ec_baf8_0242ac1c0002row3_col11,#T_d7f5f14a_3857_11ec_baf8_0242ac1c0002row4_col0,#T_d7f5f14a_3857_11ec_baf8_0242ac1c0002row4_col1,#T_d7f5f14a_3857_11ec_baf8_0242ac1c0002row4_col2,#T_d7f5f14a_3857_11ec_baf8_0242ac1c0002row4_col6,#T_d7f5f14a_3857_11ec_baf8_0242ac1c0002row4_col7,#T_d7f5f14a_3857_11ec_baf8_0242ac1c0002row4_col9,#T_d7f5f14a_3857_11ec_baf8_0242ac1c0002row4_col10,#T_d7f5f14a_3857_11ec_baf8_0242ac1c0002row4_col11,#T_d7f5f14a_3857_11ec_baf8_0242ac1c0002row5_col1,#T_d7f5f14a_3857_11ec_baf8_0242ac1c0002row5_col2,#T_d7f5f14a_3857_11ec_baf8_0242ac1c0002row5_col3,#T_d7f5f14a_3857_11ec_baf8_0242ac1c0002row5_col6,#T_d7f5f14a_3857_11ec_baf8_0242ac1c0002row5_col7,#T_d7f5f14a_3857_11ec_baf8_0242ac1c0002row5_col8,#T_d7f5f14a_3857_11ec_baf8_0242ac1c0002row5_col9,#T_d7f5f14a_3857_11ec_baf8_0242ac1c0002row5_col10,#T_d7f5f14a_3857_11ec_baf8_0242ac1c0002row6_col0,#T_d7f5f14a_3857_11ec_baf8_0242ac1c0002row6_col1,#T_d7f5f14a_3857_11ec_baf8_0242ac1c0002row6_col2,#T_d7f5f14a_3857_11ec_baf8_0242ac1c0002row6_col3,#T_d7f5f14a_3857_11ec_baf8_0242ac1c0002row6_col5,#T_d7f5f14a_3857_11ec_baf8_0242ac1c0002row6_col7,#T_d7f5f14a_3857_11ec_baf8_0242ac1c0002row6_col8,#T_d7f5f14a_3857_11ec_baf8_0242ac1c0002row6_col9,#T_d7f5f14a_3857_11ec_baf8_0242ac1c0002row6_col10,#T_d7f5f14a_3857_11ec_baf8_0242ac1c0002row6_col11,#T_d7f5f14a_3857_11ec_baf8_0242ac1c0002row7_col0,#T_d7f5f14a_3857_11ec_baf8_0242ac1c0002row7_col1,#T_d7f5f14a_3857_11ec_baf8_0242ac1c0002row7_col2,#T_d7f5f14a_3857_11ec_baf8_0242ac1c0002row7_col3,#T_d7f5f14a_3857_11ec_baf8_0242ac1c0002row7_col5,#T_d7f5f14a_3857_11ec_baf8_0242ac1c0002row7_col6,#T_d7f5f14a_3857_11ec_baf8_0242ac1c0002row7_col8,#T_d7f5f14a_3857_11ec_baf8_0242ac1c0002row7_col9,#T_d7f5f14a_3857_11ec_baf8_0242ac1c0002row7_col10,#T_d7f5f14a_3857_11ec_baf8_0242ac1c0002row7_col11,#T_d7f5f14a_3857_11ec_baf8_0242ac1c0002row8_col0,#T_d7f5f14a_3857_11ec_baf8_0242ac1c0002row8_col2,#T_d7f5f14a_3857_11ec_baf8_0242ac1c0002row8_col5,#T_d7f5f14a_3857_11ec_baf8_0242ac1c0002row8_col6,#T_d7f5f14a_3857_11ec_baf8_0242ac1c0002row8_col7,#T_d7f5f14a_3857_11ec_baf8_0242ac1c0002row8_col9,#T_d7f5f14a_3857_11ec_baf8_0242ac1c0002row8_col10,#T_d7f5f14a_3857_11ec_baf8_0242ac1c0002row8_col11,#T_d7f5f14a_3857_11ec_baf8_0242ac1c0002row9_col0,#T_d7f5f14a_3857_11ec_baf8_0242ac1c0002row9_col1,#T_d7f5f14a_3857_11ec_baf8_0242ac1c0002row9_col2,#T_d7f5f14a_3857_11ec_baf8_0242ac1c0002row9_col4,#T_d7f5f14a_3857_11ec_baf8_0242ac1c0002row9_col5,#T_d7f5f14a_3857_11ec_baf8_0242ac1c0002row9_col6,#T_d7f5f14a_3857_11ec_baf8_0242ac1c0002row9_col7,#T_d7f5f14a_3857_11ec_baf8_0242ac1c0002row9_col8,#T_d7f5f14a_3857_11ec_baf8_0242ac1c0002row9_col10,#T_d7f5f14a_3857_11ec_baf8_0242ac1c0002row9_col11,#T_d7f5f14a_3857_11ec_baf8_0242ac1c0002row10_col0,#T_d7f5f14a_3857_11ec_baf8_0242ac1c0002row10_col1,#T_d7f5f14a_3857_11ec_baf8_0242ac1c0002row10_col2,#T_d7f5f14a_3857_11ec_baf8_0242ac1c0002row10_col4,#T_d7f5f14a_3857_11ec_baf8_0242ac1c0002row10_col6,#T_d7f5f14a_3857_11ec_baf8_0242ac1c0002row10_col7,#T_d7f5f14a_3857_11ec_baf8_0242ac1c0002row10_col8,#T_d7f5f14a_3857_11ec_baf8_0242ac1c0002row10_col9,#T_d7f5f14a_3857_11ec_baf8_0242ac1c0002row10_col11,#T_d7f5f14a_3857_11ec_baf8_0242ac1c0002row11_col0,#T_d7f5f14a_3857_11ec_baf8_0242ac1c0002row11_col3,#T_d7f5f14a_3857_11ec_baf8_0242ac1c0002row11_col6,#T_d7f5f14a_3857_11ec_baf8_0242ac1c0002row11_col7,#T_d7f5f14a_3857_11ec_baf8_0242ac1c0002row11_col8,#T_d7f5f14a_3857_11ec_baf8_0242ac1c0002row11_col9,#T_d7f5f14a_3857_11ec_baf8_0242ac1c0002row11_col10{\n",
              "            background-color:  #fff7fb;\n",
              "            color:  #000000;\n",
              "        }#T_d7f5f14a_3857_11ec_baf8_0242ac1c0002row0_col2,#T_d7f5f14a_3857_11ec_baf8_0242ac1c0002row2_col1,#T_d7f5f14a_3857_11ec_baf8_0242ac1c0002row2_col3,#T_d7f5f14a_3857_11ec_baf8_0242ac1c0002row2_col5{\n",
              "            background-color:  #fef6fa;\n",
              "            color:  #000000;\n",
              "        }#T_d7f5f14a_3857_11ec_baf8_0242ac1c0002row0_col4,#T_d7f5f14a_3857_11ec_baf8_0242ac1c0002row3_col4,#T_d7f5f14a_3857_11ec_baf8_0242ac1c0002row4_col3{\n",
              "            background-color:  #faf3f9;\n",
              "            color:  #000000;\n",
              "        }#T_d7f5f14a_3857_11ec_baf8_0242ac1c0002row0_col10,#T_d7f5f14a_3857_11ec_baf8_0242ac1c0002row3_col2,#T_d7f5f14a_3857_11ec_baf8_0242ac1c0002row4_col8,#T_d7f5f14a_3857_11ec_baf8_0242ac1c0002row5_col0,#T_d7f5f14a_3857_11ec_baf8_0242ac1c0002row6_col4,#T_d7f5f14a_3857_11ec_baf8_0242ac1c0002row7_col4,#T_d7f5f14a_3857_11ec_baf8_0242ac1c0002row8_col3,#T_d7f5f14a_3857_11ec_baf8_0242ac1c0002row9_col3,#T_d7f5f14a_3857_11ec_baf8_0242ac1c0002row11_col2,#T_d7f5f14a_3857_11ec_baf8_0242ac1c0002row11_col4{\n",
              "            background-color:  #fdf5fa;\n",
              "            color:  #000000;\n",
              "        }#T_d7f5f14a_3857_11ec_baf8_0242ac1c0002row0_col11,#T_d7f5f14a_3857_11ec_baf8_0242ac1c0002row1_col11,#T_d7f5f14a_3857_11ec_baf8_0242ac1c0002row5_col4,#T_d7f5f14a_3857_11ec_baf8_0242ac1c0002row10_col3,#T_d7f5f14a_3857_11ec_baf8_0242ac1c0002row11_col1{\n",
              "            background-color:  #fef6fb;\n",
              "            color:  #000000;\n",
              "        }#T_d7f5f14a_3857_11ec_baf8_0242ac1c0002row1_col1{\n",
              "            background-color:  #9ab8d8;\n",
              "            color:  #000000;\n",
              "        }#T_d7f5f14a_3857_11ec_baf8_0242ac1c0002row1_col4,#T_d7f5f14a_3857_11ec_baf8_0242ac1c0002row5_col11{\n",
              "            background-color:  #fbf3f9;\n",
              "            color:  #000000;\n",
              "        }#T_d7f5f14a_3857_11ec_baf8_0242ac1c0002row1_col5,#T_d7f5f14a_3857_11ec_baf8_0242ac1c0002row4_col5,#T_d7f5f14a_3857_11ec_baf8_0242ac1c0002row8_col1{\n",
              "            background-color:  #fcf4fa;\n",
              "            color:  #000000;\n",
              "        }#T_d7f5f14a_3857_11ec_baf8_0242ac1c0002row2_col2{\n",
              "            background-color:  #ced0e6;\n",
              "            color:  #000000;\n",
              "        }#T_d7f5f14a_3857_11ec_baf8_0242ac1c0002row2_col4,#T_d7f5f14a_3857_11ec_baf8_0242ac1c0002row7_col7{\n",
              "            background-color:  #faf2f8;\n",
              "            color:  #000000;\n",
              "        }#T_d7f5f14a_3857_11ec_baf8_0242ac1c0002row3_col3{\n",
              "            background-color:  #b1c2de;\n",
              "            color:  #000000;\n",
              "        }#T_d7f5f14a_3857_11ec_baf8_0242ac1c0002row3_col5{\n",
              "            background-color:  #eee8f3;\n",
              "            color:  #000000;\n",
              "        }#T_d7f5f14a_3857_11ec_baf8_0242ac1c0002row4_col4{\n",
              "            background-color:  #034b76;\n",
              "            color:  #f1f1f1;\n",
              "        }#T_d7f5f14a_3857_11ec_baf8_0242ac1c0002row5_col5{\n",
              "            background-color:  #023858;\n",
              "            color:  #f1f1f1;\n",
              "        }#T_d7f5f14a_3857_11ec_baf8_0242ac1c0002row6_col6{\n",
              "            background-color:  #f7f0f7;\n",
              "            color:  #000000;\n",
              "        }#T_d7f5f14a_3857_11ec_baf8_0242ac1c0002row8_col4{\n",
              "            background-color:  #fbf4f9;\n",
              "            color:  #000000;\n",
              "        }#T_d7f5f14a_3857_11ec_baf8_0242ac1c0002row8_col8,#T_d7f5f14a_3857_11ec_baf8_0242ac1c0002row11_col5{\n",
              "            background-color:  #f9f2f8;\n",
              "            color:  #000000;\n",
              "        }#T_d7f5f14a_3857_11ec_baf8_0242ac1c0002row9_col9{\n",
              "            background-color:  #eae6f1;\n",
              "            color:  #000000;\n",
              "        }#T_d7f5f14a_3857_11ec_baf8_0242ac1c0002row10_col5{\n",
              "            background-color:  #f8f1f8;\n",
              "            color:  #000000;\n",
              "        }#T_d7f5f14a_3857_11ec_baf8_0242ac1c0002row10_col10{\n",
              "            background-color:  #dcdaeb;\n",
              "            color:  #000000;\n",
              "        }#T_d7f5f14a_3857_11ec_baf8_0242ac1c0002row11_col11{\n",
              "            background-color:  #d3d4e7;\n",
              "            color:  #000000;\n",
              "        }</style><table id=\"T_d7f5f14a_3857_11ec_baf8_0242ac1c0002\" class=\"dataframe\"><thead>    <tr>        <th class=\"blank level0\" ></th>        <th class=\"col_heading level0 col0\" >Predicted M22-</th>        <th class=\"col_heading level0 col1\" >Predicted M23-26</th>        <th class=\"col_heading level0 col2\" >Predicted M27-28</th>        <th class=\"col_heading level0 col3\" >Predicted M29-31</th>        <th class=\"col_heading level0 col4\" >Predicted M32-38</th>        <th class=\"col_heading level0 col5\" >Predicted M39+</th>        <th class=\"col_heading level0 col6\" >Predicted F23-</th>        <th class=\"col_heading level0 col7\" >Predicted F24-26</th>        <th class=\"col_heading level0 col8\" >Predicted F27-28</th>        <th class=\"col_heading level0 col9\" >Predicted F29-32</th>        <th class=\"col_heading level0 col10\" >Predicted F33-42</th>        <th class=\"col_heading level0 col11\" >Predicted F43+</th>    </tr></thead><tbody>\n",
              "                <tr>\n",
              "                        <th id=\"T_d7f5f14a_3857_11ec_baf8_0242ac1c0002level0_row0\" class=\"row_heading level0 row0\" >Actually M22-</th>\n",
              "                        <td id=\"T_d7f5f14a_3857_11ec_baf8_0242ac1c0002row0_col0\" class=\"data row0 col0\" >93</td>\n",
              "                        <td id=\"T_d7f5f14a_3857_11ec_baf8_0242ac1c0002row0_col1\" class=\"data row0 col1\" >0</td>\n",
              "                        <td id=\"T_d7f5f14a_3857_11ec_baf8_0242ac1c0002row0_col2\" class=\"data row0 col2\" >5</td>\n",
              "                        <td id=\"T_d7f5f14a_3857_11ec_baf8_0242ac1c0002row0_col3\" class=\"data row0 col3\" >0</td>\n",
              "                        <td id=\"T_d7f5f14a_3857_11ec_baf8_0242ac1c0002row0_col4\" class=\"data row0 col4\" >18</td>\n",
              "                        <td id=\"T_d7f5f14a_3857_11ec_baf8_0242ac1c0002row0_col5\" class=\"data row0 col5\" >0</td>\n",
              "                        <td id=\"T_d7f5f14a_3857_11ec_baf8_0242ac1c0002row0_col6\" class=\"data row0 col6\" >0</td>\n",
              "                        <td id=\"T_d7f5f14a_3857_11ec_baf8_0242ac1c0002row0_col7\" class=\"data row0 col7\" >0</td>\n",
              "                        <td id=\"T_d7f5f14a_3857_11ec_baf8_0242ac1c0002row0_col8\" class=\"data row0 col8\" >0</td>\n",
              "                        <td id=\"T_d7f5f14a_3857_11ec_baf8_0242ac1c0002row0_col9\" class=\"data row0 col9\" >0</td>\n",
              "                        <td id=\"T_d7f5f14a_3857_11ec_baf8_0242ac1c0002row0_col10\" class=\"data row0 col10\" >7</td>\n",
              "                        <td id=\"T_d7f5f14a_3857_11ec_baf8_0242ac1c0002row0_col11\" class=\"data row0 col11\" >4</td>\n",
              "            </tr>\n",
              "            <tr>\n",
              "                        <th id=\"T_d7f5f14a_3857_11ec_baf8_0242ac1c0002level0_row1\" class=\"row_heading level0 row1\" >Actually M23-26</th>\n",
              "                        <td id=\"T_d7f5f14a_3857_11ec_baf8_0242ac1c0002row1_col0\" class=\"data row1 col0\" >0</td>\n",
              "                        <td id=\"T_d7f5f14a_3857_11ec_baf8_0242ac1c0002row1_col1\" class=\"data row1 col1\" >219</td>\n",
              "                        <td id=\"T_d7f5f14a_3857_11ec_baf8_0242ac1c0002row1_col2\" class=\"data row1 col2\" >0</td>\n",
              "                        <td id=\"T_d7f5f14a_3857_11ec_baf8_0242ac1c0002row1_col3\" class=\"data row1 col3\" >0</td>\n",
              "                        <td id=\"T_d7f5f14a_3857_11ec_baf8_0242ac1c0002row1_col4\" class=\"data row1 col4\" >16</td>\n",
              "                        <td id=\"T_d7f5f14a_3857_11ec_baf8_0242ac1c0002row1_col5\" class=\"data row1 col5\" >11</td>\n",
              "                        <td id=\"T_d7f5f14a_3857_11ec_baf8_0242ac1c0002row1_col6\" class=\"data row1 col6\" >0</td>\n",
              "                        <td id=\"T_d7f5f14a_3857_11ec_baf8_0242ac1c0002row1_col7\" class=\"data row1 col7\" >0</td>\n",
              "                        <td id=\"T_d7f5f14a_3857_11ec_baf8_0242ac1c0002row1_col8\" class=\"data row1 col8\" >0</td>\n",
              "                        <td id=\"T_d7f5f14a_3857_11ec_baf8_0242ac1c0002row1_col9\" class=\"data row1 col9\" >0</td>\n",
              "                        <td id=\"T_d7f5f14a_3857_11ec_baf8_0242ac1c0002row1_col10\" class=\"data row1 col10\" >0</td>\n",
              "                        <td id=\"T_d7f5f14a_3857_11ec_baf8_0242ac1c0002row1_col11\" class=\"data row1 col11\" >4</td>\n",
              "            </tr>\n",
              "            <tr>\n",
              "                        <th id=\"T_d7f5f14a_3857_11ec_baf8_0242ac1c0002level0_row2\" class=\"row_heading level0 row2\" >Actually M27-28</th>\n",
              "                        <td id=\"T_d7f5f14a_3857_11ec_baf8_0242ac1c0002row2_col0\" class=\"data row2 col0\" >0</td>\n",
              "                        <td id=\"T_d7f5f14a_3857_11ec_baf8_0242ac1c0002row2_col1\" class=\"data row2 col1\" >5</td>\n",
              "                        <td id=\"T_d7f5f14a_3857_11ec_baf8_0242ac1c0002row2_col2\" class=\"data row2 col2\" >139</td>\n",
              "                        <td id=\"T_d7f5f14a_3857_11ec_baf8_0242ac1c0002row2_col3\" class=\"data row2 col3\" >6</td>\n",
              "                        <td id=\"T_d7f5f14a_3857_11ec_baf8_0242ac1c0002row2_col4\" class=\"data row2 col4\" >21</td>\n",
              "                        <td id=\"T_d7f5f14a_3857_11ec_baf8_0242ac1c0002row2_col5\" class=\"data row2 col5\" >6</td>\n",
              "                        <td id=\"T_d7f5f14a_3857_11ec_baf8_0242ac1c0002row2_col6\" class=\"data row2 col6\" >0</td>\n",
              "                        <td id=\"T_d7f5f14a_3857_11ec_baf8_0242ac1c0002row2_col7\" class=\"data row2 col7\" >0</td>\n",
              "                        <td id=\"T_d7f5f14a_3857_11ec_baf8_0242ac1c0002row2_col8\" class=\"data row2 col8\" >0</td>\n",
              "                        <td id=\"T_d7f5f14a_3857_11ec_baf8_0242ac1c0002row2_col9\" class=\"data row2 col9\" >0</td>\n",
              "                        <td id=\"T_d7f5f14a_3857_11ec_baf8_0242ac1c0002row2_col10\" class=\"data row2 col10\" >0</td>\n",
              "                        <td id=\"T_d7f5f14a_3857_11ec_baf8_0242ac1c0002row2_col11\" class=\"data row2 col11\" >0</td>\n",
              "            </tr>\n",
              "            <tr>\n",
              "                        <th id=\"T_d7f5f14a_3857_11ec_baf8_0242ac1c0002level0_row3\" class=\"row_heading level0 row3\" >Actually M29-31</th>\n",
              "                        <td id=\"T_d7f5f14a_3857_11ec_baf8_0242ac1c0002row3_col0\" class=\"data row3 col0\" >0</td>\n",
              "                        <td id=\"T_d7f5f14a_3857_11ec_baf8_0242ac1c0002row3_col1\" class=\"data row3 col1\" >0</td>\n",
              "                        <td id=\"T_d7f5f14a_3857_11ec_baf8_0242ac1c0002row3_col2\" class=\"data row3 col2\" >8</td>\n",
              "                        <td id=\"T_d7f5f14a_3857_11ec_baf8_0242ac1c0002row3_col3\" class=\"data row3 col3\" >184</td>\n",
              "                        <td id=\"T_d7f5f14a_3857_11ec_baf8_0242ac1c0002row3_col4\" class=\"data row3 col4\" >18</td>\n",
              "                        <td id=\"T_d7f5f14a_3857_11ec_baf8_0242ac1c0002row3_col5\" class=\"data row3 col5\" >63</td>\n",
              "                        <td id=\"T_d7f5f14a_3857_11ec_baf8_0242ac1c0002row3_col6\" class=\"data row3 col6\" >0</td>\n",
              "                        <td id=\"T_d7f5f14a_3857_11ec_baf8_0242ac1c0002row3_col7\" class=\"data row3 col7\" >0</td>\n",
              "                        <td id=\"T_d7f5f14a_3857_11ec_baf8_0242ac1c0002row3_col8\" class=\"data row3 col8\" >0</td>\n",
              "                        <td id=\"T_d7f5f14a_3857_11ec_baf8_0242ac1c0002row3_col9\" class=\"data row3 col9\" >0</td>\n",
              "                        <td id=\"T_d7f5f14a_3857_11ec_baf8_0242ac1c0002row3_col10\" class=\"data row3 col10\" >0</td>\n",
              "                        <td id=\"T_d7f5f14a_3857_11ec_baf8_0242ac1c0002row3_col11\" class=\"data row3 col11\" >0</td>\n",
              "            </tr>\n",
              "            <tr>\n",
              "                        <th id=\"T_d7f5f14a_3857_11ec_baf8_0242ac1c0002level0_row4\" class=\"row_heading level0 row4\" >Actually M32-38</th>\n",
              "                        <td id=\"T_d7f5f14a_3857_11ec_baf8_0242ac1c0002row4_col0\" class=\"data row4 col0\" >0</td>\n",
              "                        <td id=\"T_d7f5f14a_3857_11ec_baf8_0242ac1c0002row4_col1\" class=\"data row4 col1\" >0</td>\n",
              "                        <td id=\"T_d7f5f14a_3857_11ec_baf8_0242ac1c0002row4_col2\" class=\"data row4 col2\" >0</td>\n",
              "                        <td id=\"T_d7f5f14a_3857_11ec_baf8_0242ac1c0002row4_col3\" class=\"data row4 col3\" >17</td>\n",
              "                        <td id=\"T_d7f5f14a_3857_11ec_baf8_0242ac1c0002row4_col4\" class=\"data row4 col4\" >502</td>\n",
              "                        <td id=\"T_d7f5f14a_3857_11ec_baf8_0242ac1c0002row4_col5\" class=\"data row4 col5\" >12</td>\n",
              "                        <td id=\"T_d7f5f14a_3857_11ec_baf8_0242ac1c0002row4_col6\" class=\"data row4 col6\" >0</td>\n",
              "                        <td id=\"T_d7f5f14a_3857_11ec_baf8_0242ac1c0002row4_col7\" class=\"data row4 col7\" >0</td>\n",
              "                        <td id=\"T_d7f5f14a_3857_11ec_baf8_0242ac1c0002row4_col8\" class=\"data row4 col8\" >7</td>\n",
              "                        <td id=\"T_d7f5f14a_3857_11ec_baf8_0242ac1c0002row4_col9\" class=\"data row4 col9\" >0</td>\n",
              "                        <td id=\"T_d7f5f14a_3857_11ec_baf8_0242ac1c0002row4_col10\" class=\"data row4 col10\" >0</td>\n",
              "                        <td id=\"T_d7f5f14a_3857_11ec_baf8_0242ac1c0002row4_col11\" class=\"data row4 col11\" >0</td>\n",
              "            </tr>\n",
              "            <tr>\n",
              "                        <th id=\"T_d7f5f14a_3857_11ec_baf8_0242ac1c0002level0_row5\" class=\"row_heading level0 row5\" >Actually M39+</th>\n",
              "                        <td id=\"T_d7f5f14a_3857_11ec_baf8_0242ac1c0002row5_col0\" class=\"data row5 col0\" >9</td>\n",
              "                        <td id=\"T_d7f5f14a_3857_11ec_baf8_0242ac1c0002row5_col1\" class=\"data row5 col1\" >0</td>\n",
              "                        <td id=\"T_d7f5f14a_3857_11ec_baf8_0242ac1c0002row5_col2\" class=\"data row5 col2\" >2</td>\n",
              "                        <td id=\"T_d7f5f14a_3857_11ec_baf8_0242ac1c0002row5_col3\" class=\"data row5 col3\" >0</td>\n",
              "                        <td id=\"T_d7f5f14a_3857_11ec_baf8_0242ac1c0002row5_col4\" class=\"data row5 col4\" >3</td>\n",
              "                        <td id=\"T_d7f5f14a_3857_11ec_baf8_0242ac1c0002row5_col5\" class=\"data row5 col5\" >540</td>\n",
              "                        <td id=\"T_d7f5f14a_3857_11ec_baf8_0242ac1c0002row5_col6\" class=\"data row5 col6\" >0</td>\n",
              "                        <td id=\"T_d7f5f14a_3857_11ec_baf8_0242ac1c0002row5_col7\" class=\"data row5 col7\" >0</td>\n",
              "                        <td id=\"T_d7f5f14a_3857_11ec_baf8_0242ac1c0002row5_col8\" class=\"data row5 col8\" >0</td>\n",
              "                        <td id=\"T_d7f5f14a_3857_11ec_baf8_0242ac1c0002row5_col9\" class=\"data row5 col9\" >0</td>\n",
              "                        <td id=\"T_d7f5f14a_3857_11ec_baf8_0242ac1c0002row5_col10\" class=\"data row5 col10\" >0</td>\n",
              "                        <td id=\"T_d7f5f14a_3857_11ec_baf8_0242ac1c0002row5_col11\" class=\"data row5 col11\" >15</td>\n",
              "            </tr>\n",
              "            <tr>\n",
              "                        <th id=\"T_d7f5f14a_3857_11ec_baf8_0242ac1c0002level0_row6\" class=\"row_heading level0 row6\" >Actually F23-</th>\n",
              "                        <td id=\"T_d7f5f14a_3857_11ec_baf8_0242ac1c0002row6_col0\" class=\"data row6 col0\" >0</td>\n",
              "                        <td id=\"T_d7f5f14a_3857_11ec_baf8_0242ac1c0002row6_col1\" class=\"data row6 col1\" >0</td>\n",
              "                        <td id=\"T_d7f5f14a_3857_11ec_baf8_0242ac1c0002row6_col2\" class=\"data row6 col2\" >0</td>\n",
              "                        <td id=\"T_d7f5f14a_3857_11ec_baf8_0242ac1c0002row6_col3\" class=\"data row6 col3\" >0</td>\n",
              "                        <td id=\"T_d7f5f14a_3857_11ec_baf8_0242ac1c0002row6_col4\" class=\"data row6 col4\" >10</td>\n",
              "                        <td id=\"T_d7f5f14a_3857_11ec_baf8_0242ac1c0002row6_col5\" class=\"data row6 col5\" >0</td>\n",
              "                        <td id=\"T_d7f5f14a_3857_11ec_baf8_0242ac1c0002row6_col6\" class=\"data row6 col6\" >29</td>\n",
              "                        <td id=\"T_d7f5f14a_3857_11ec_baf8_0242ac1c0002row6_col7\" class=\"data row6 col7\" >0</td>\n",
              "                        <td id=\"T_d7f5f14a_3857_11ec_baf8_0242ac1c0002row6_col8\" class=\"data row6 col8\" >0</td>\n",
              "                        <td id=\"T_d7f5f14a_3857_11ec_baf8_0242ac1c0002row6_col9\" class=\"data row6 col9\" >0</td>\n",
              "                        <td id=\"T_d7f5f14a_3857_11ec_baf8_0242ac1c0002row6_col10\" class=\"data row6 col10\" >0</td>\n",
              "                        <td id=\"T_d7f5f14a_3857_11ec_baf8_0242ac1c0002row6_col11\" class=\"data row6 col11\" >0</td>\n",
              "            </tr>\n",
              "            <tr>\n",
              "                        <th id=\"T_d7f5f14a_3857_11ec_baf8_0242ac1c0002level0_row7\" class=\"row_heading level0 row7\" >Actually F24-26</th>\n",
              "                        <td id=\"T_d7f5f14a_3857_11ec_baf8_0242ac1c0002row7_col0\" class=\"data row7 col0\" >0</td>\n",
              "                        <td id=\"T_d7f5f14a_3857_11ec_baf8_0242ac1c0002row7_col1\" class=\"data row7 col1\" >0</td>\n",
              "                        <td id=\"T_d7f5f14a_3857_11ec_baf8_0242ac1c0002row7_col2\" class=\"data row7 col2\" >0</td>\n",
              "                        <td id=\"T_d7f5f14a_3857_11ec_baf8_0242ac1c0002row7_col3\" class=\"data row7 col3\" >0</td>\n",
              "                        <td id=\"T_d7f5f14a_3857_11ec_baf8_0242ac1c0002row7_col4\" class=\"data row7 col4\" >8</td>\n",
              "                        <td id=\"T_d7f5f14a_3857_11ec_baf8_0242ac1c0002row7_col5\" class=\"data row7 col5\" >0</td>\n",
              "                        <td id=\"T_d7f5f14a_3857_11ec_baf8_0242ac1c0002row7_col6\" class=\"data row7 col6\" >0</td>\n",
              "                        <td id=\"T_d7f5f14a_3857_11ec_baf8_0242ac1c0002row7_col7\" class=\"data row7 col7\" >20</td>\n",
              "                        <td id=\"T_d7f5f14a_3857_11ec_baf8_0242ac1c0002row7_col8\" class=\"data row7 col8\" >0</td>\n",
              "                        <td id=\"T_d7f5f14a_3857_11ec_baf8_0242ac1c0002row7_col9\" class=\"data row7 col9\" >0</td>\n",
              "                        <td id=\"T_d7f5f14a_3857_11ec_baf8_0242ac1c0002row7_col10\" class=\"data row7 col10\" >0</td>\n",
              "                        <td id=\"T_d7f5f14a_3857_11ec_baf8_0242ac1c0002row7_col11\" class=\"data row7 col11\" >0</td>\n",
              "            </tr>\n",
              "            <tr>\n",
              "                        <th id=\"T_d7f5f14a_3857_11ec_baf8_0242ac1c0002level0_row8\" class=\"row_heading level0 row8\" >Actually F27-28</th>\n",
              "                        <td id=\"T_d7f5f14a_3857_11ec_baf8_0242ac1c0002row8_col0\" class=\"data row8 col0\" >0</td>\n",
              "                        <td id=\"T_d7f5f14a_3857_11ec_baf8_0242ac1c0002row8_col1\" class=\"data row8 col1\" >11</td>\n",
              "                        <td id=\"T_d7f5f14a_3857_11ec_baf8_0242ac1c0002row8_col2\" class=\"data row8 col2\" >0</td>\n",
              "                        <td id=\"T_d7f5f14a_3857_11ec_baf8_0242ac1c0002row8_col3\" class=\"data row8 col3\" >8</td>\n",
              "                        <td id=\"T_d7f5f14a_3857_11ec_baf8_0242ac1c0002row8_col4\" class=\"data row8 col4\" >14</td>\n",
              "                        <td id=\"T_d7f5f14a_3857_11ec_baf8_0242ac1c0002row8_col5\" class=\"data row8 col5\" >0</td>\n",
              "                        <td id=\"T_d7f5f14a_3857_11ec_baf8_0242ac1c0002row8_col6\" class=\"data row8 col6\" >0</td>\n",
              "                        <td id=\"T_d7f5f14a_3857_11ec_baf8_0242ac1c0002row8_col7\" class=\"data row8 col7\" >0</td>\n",
              "                        <td id=\"T_d7f5f14a_3857_11ec_baf8_0242ac1c0002row8_col8\" class=\"data row8 col8\" >23</td>\n",
              "                        <td id=\"T_d7f5f14a_3857_11ec_baf8_0242ac1c0002row8_col9\" class=\"data row8 col9\" >0</td>\n",
              "                        <td id=\"T_d7f5f14a_3857_11ec_baf8_0242ac1c0002row8_col10\" class=\"data row8 col10\" >0</td>\n",
              "                        <td id=\"T_d7f5f14a_3857_11ec_baf8_0242ac1c0002row8_col11\" class=\"data row8 col11\" >0</td>\n",
              "            </tr>\n",
              "            <tr>\n",
              "                        <th id=\"T_d7f5f14a_3857_11ec_baf8_0242ac1c0002level0_row9\" class=\"row_heading level0 row9\" >Actually F29-32</th>\n",
              "                        <td id=\"T_d7f5f14a_3857_11ec_baf8_0242ac1c0002row9_col0\" class=\"data row9 col0\" >0</td>\n",
              "                        <td id=\"T_d7f5f14a_3857_11ec_baf8_0242ac1c0002row9_col1\" class=\"data row9 col1\" >0</td>\n",
              "                        <td id=\"T_d7f5f14a_3857_11ec_baf8_0242ac1c0002row9_col2\" class=\"data row9 col2\" >0</td>\n",
              "                        <td id=\"T_d7f5f14a_3857_11ec_baf8_0242ac1c0002row9_col3\" class=\"data row9 col3\" >8</td>\n",
              "                        <td id=\"T_d7f5f14a_3857_11ec_baf8_0242ac1c0002row9_col4\" class=\"data row9 col4\" >0</td>\n",
              "                        <td id=\"T_d7f5f14a_3857_11ec_baf8_0242ac1c0002row9_col5\" class=\"data row9 col5\" >0</td>\n",
              "                        <td id=\"T_d7f5f14a_3857_11ec_baf8_0242ac1c0002row9_col6\" class=\"data row9 col6\" >0</td>\n",
              "                        <td id=\"T_d7f5f14a_3857_11ec_baf8_0242ac1c0002row9_col7\" class=\"data row9 col7\" >0</td>\n",
              "                        <td id=\"T_d7f5f14a_3857_11ec_baf8_0242ac1c0002row9_col8\" class=\"data row9 col8\" >0</td>\n",
              "                        <td id=\"T_d7f5f14a_3857_11ec_baf8_0242ac1c0002row9_col9\" class=\"data row9 col9\" >73</td>\n",
              "                        <td id=\"T_d7f5f14a_3857_11ec_baf8_0242ac1c0002row9_col10\" class=\"data row9 col10\" >0</td>\n",
              "                        <td id=\"T_d7f5f14a_3857_11ec_baf8_0242ac1c0002row9_col11\" class=\"data row9 col11\" >0</td>\n",
              "            </tr>\n",
              "            <tr>\n",
              "                        <th id=\"T_d7f5f14a_3857_11ec_baf8_0242ac1c0002level0_row10\" class=\"row_heading level0 row10\" >Actually F33-42</th>\n",
              "                        <td id=\"T_d7f5f14a_3857_11ec_baf8_0242ac1c0002row10_col0\" class=\"data row10 col0\" >0</td>\n",
              "                        <td id=\"T_d7f5f14a_3857_11ec_baf8_0242ac1c0002row10_col1\" class=\"data row10 col1\" >0</td>\n",
              "                        <td id=\"T_d7f5f14a_3857_11ec_baf8_0242ac1c0002row10_col2\" class=\"data row10 col2\" >0</td>\n",
              "                        <td id=\"T_d7f5f14a_3857_11ec_baf8_0242ac1c0002row10_col3\" class=\"data row10 col3\" >3</td>\n",
              "                        <td id=\"T_d7f5f14a_3857_11ec_baf8_0242ac1c0002row10_col4\" class=\"data row10 col4\" >0</td>\n",
              "                        <td id=\"T_d7f5f14a_3857_11ec_baf8_0242ac1c0002row10_col5\" class=\"data row10 col5\" >27</td>\n",
              "                        <td id=\"T_d7f5f14a_3857_11ec_baf8_0242ac1c0002row10_col6\" class=\"data row10 col6\" >0</td>\n",
              "                        <td id=\"T_d7f5f14a_3857_11ec_baf8_0242ac1c0002row10_col7\" class=\"data row10 col7\" >0</td>\n",
              "                        <td id=\"T_d7f5f14a_3857_11ec_baf8_0242ac1c0002row10_col8\" class=\"data row10 col8\" >0</td>\n",
              "                        <td id=\"T_d7f5f14a_3857_11ec_baf8_0242ac1c0002row10_col9\" class=\"data row10 col9\" >0</td>\n",
              "                        <td id=\"T_d7f5f14a_3857_11ec_baf8_0242ac1c0002row10_col10\" class=\"data row10 col10\" >107</td>\n",
              "                        <td id=\"T_d7f5f14a_3857_11ec_baf8_0242ac1c0002row10_col11\" class=\"data row10 col11\" >0</td>\n",
              "            </tr>\n",
              "            <tr>\n",
              "                        <th id=\"T_d7f5f14a_3857_11ec_baf8_0242ac1c0002level0_row11\" class=\"row_heading level0 row11\" >Actually F43+</th>\n",
              "                        <td id=\"T_d7f5f14a_3857_11ec_baf8_0242ac1c0002row11_col0\" class=\"data row11 col0\" >0</td>\n",
              "                        <td id=\"T_d7f5f14a_3857_11ec_baf8_0242ac1c0002row11_col1\" class=\"data row11 col1\" >4</td>\n",
              "                        <td id=\"T_d7f5f14a_3857_11ec_baf8_0242ac1c0002row11_col2\" class=\"data row11 col2\" >8</td>\n",
              "                        <td id=\"T_d7f5f14a_3857_11ec_baf8_0242ac1c0002row11_col3\" class=\"data row11 col3\" >0</td>\n",
              "                        <td id=\"T_d7f5f14a_3857_11ec_baf8_0242ac1c0002row11_col4\" class=\"data row11 col4\" >9</td>\n",
              "                        <td id=\"T_d7f5f14a_3857_11ec_baf8_0242ac1c0002row11_col5\" class=\"data row11 col5\" >23</td>\n",
              "                        <td id=\"T_d7f5f14a_3857_11ec_baf8_0242ac1c0002row11_col6\" class=\"data row11 col6\" >0</td>\n",
              "                        <td id=\"T_d7f5f14a_3857_11ec_baf8_0242ac1c0002row11_col7\" class=\"data row11 col7\" >0</td>\n",
              "                        <td id=\"T_d7f5f14a_3857_11ec_baf8_0242ac1c0002row11_col8\" class=\"data row11 col8\" >0</td>\n",
              "                        <td id=\"T_d7f5f14a_3857_11ec_baf8_0242ac1c0002row11_col9\" class=\"data row11 col9\" >0</td>\n",
              "                        <td id=\"T_d7f5f14a_3857_11ec_baf8_0242ac1c0002row11_col10\" class=\"data row11 col10\" >0</td>\n",
              "                        <td id=\"T_d7f5f14a_3857_11ec_baf8_0242ac1c0002row11_col11\" class=\"data row11 col11\" >128</td>\n",
              "            </tr>\n",
              "    </tbody></table>"
            ],
            "text/plain": [
              "<pandas.io.formats.style.Styler at 0x7f629f835e90>"
            ]
          },
          "metadata": {},
          "execution_count": 60
        }
      ]
    },
    {
      "cell_type": "code",
      "metadata": {
        "colab": {
          "base_uri": "https://localhost:8080/"
        },
        "id": "DIawF3dtjs7v",
        "outputId": "3e6eec78-2ce9-42b5-e6be-3619319135e9"
      },
      "source": [
        "print(\"Classification Report:\")\n",
        "print()\n",
        "print(classification_report(y_test, y_pred))"
      ],
      "execution_count": 61,
      "outputs": [
        {
          "output_type": "stream",
          "name": "stdout",
          "text": [
            "Classification Report:\n",
            "\n",
            "              precision    recall  f1-score   support\n",
            "\n",
            "           0       0.91      0.73      0.81       127\n",
            "           1       0.92      0.88      0.90       250\n",
            "           2       0.86      0.79      0.82       177\n",
            "           3       0.81      0.67      0.74       273\n",
            "           4       0.81      0.93      0.87       538\n",
            "           5       0.79      0.95      0.86       569\n",
            "           6       1.00      0.74      0.85        39\n",
            "           7       1.00      0.71      0.83        28\n",
            "           8       0.77      0.41      0.53        56\n",
            "           9       1.00      0.90      0.95        81\n",
            "          10       0.94      0.78      0.85       137\n",
            "          11       0.85      0.74      0.79       172\n",
            "\n",
            "    accuracy                           0.84      2447\n",
            "   macro avg       0.89      0.77      0.82      2447\n",
            "weighted avg       0.85      0.84      0.84      2447\n",
            "\n"
          ]
        }
      ]
    },
    {
      "cell_type": "markdown",
      "metadata": {
        "id": "CV4kfrWyjD8V"
      },
      "source": [
        "# Support Vector Classifier"
      ]
    },
    {
      "cell_type": "code",
      "metadata": {
        "colab": {
          "base_uri": "https://localhost:8080/"
        },
        "id": "k3exeTmXkBAa",
        "outputId": "05ecdf03-e007-419b-bcfd-abf3f000a0f8"
      },
      "source": [
        "pipeline = Pipeline(\n",
        "    [(\"preprocessing\", preprocessing), (\"svcc\", SVC())], verbose=True\n",
        ")\n",
        "\n",
        "pipeline.fit(X_train, y_train)\n"
      ],
      "execution_count": 62,
      "outputs": [
        {
          "output_type": "stream",
          "name": "stdout",
          "text": [
            "[Pipeline] ..... (step 1 of 2) Processing preprocessing, total=   0.0s\n",
            "[Pipeline] .............. (step 2 of 2) Processing svcc, total=  22.1s\n"
          ]
        },
        {
          "output_type": "execute_result",
          "data": {
            "text/plain": [
              "Pipeline(memory=None,\n",
              "         steps=[('preprocessing',\n",
              "                 ColumnTransformer(n_jobs=None, remainder='passthrough',\n",
              "                                   sparse_threshold=0.3,\n",
              "                                   transformer_weights=None,\n",
              "                                   transformers=[('scale',\n",
              "                                                  StandardScaler(copy=True,\n",
              "                                                                 with_mean=True,\n",
              "                                                                 with_std=True),\n",
              "                                                  ['device_id', 'event_id'])],\n",
              "                                   verbose=False)),\n",
              "                ('svcc',\n",
              "                 SVC(C=1.0, break_ties=False, cache_size=200, class_weight=None,\n",
              "                     coef0=0.0, decision_function_shape='ovr', degree=3,\n",
              "                     gamma='scale', kernel='rbf', max_iter=-1,\n",
              "                     probability=False, random_state=None, shrinking=True,\n",
              "                     tol=0.001, verbose=False))],\n",
              "         verbose=True)"
            ]
          },
          "metadata": {},
          "execution_count": 62
        }
      ]
    },
    {
      "cell_type": "code",
      "metadata": {
        "id": "VFlBp1JtkBDQ"
      },
      "source": [
        "grid = { \"svcc__gamma\": [1.0, 5.0, 10.0], 'svcc__kernel': ['rbf']}\n",
        "\n",
        "\n",
        "model = GridSearchCV(pipeline, grid, verbose=1, cv=3)"
      ],
      "execution_count": 63,
      "outputs": []
    },
    {
      "cell_type": "code",
      "metadata": {
        "colab": {
          "base_uri": "https://localhost:8080/"
        },
        "id": "G3MyLJkLkBHB",
        "outputId": "7916d903-b3ce-47ed-a43f-7d3b62070a9b"
      },
      "source": [
        "model.fit(X_train, y_train)\n"
      ],
      "execution_count": 64,
      "outputs": [
        {
          "output_type": "stream",
          "name": "stdout",
          "text": [
            "Fitting 3 folds for each of 3 candidates, totalling 9 fits\n",
            "[Pipeline] ..... (step 1 of 2) Processing preprocessing, total=   0.0s\n"
          ]
        },
        {
          "output_type": "stream",
          "name": "stderr",
          "text": [
            "[Parallel(n_jobs=1)]: Using backend SequentialBackend with 1 concurrent workers.\n"
          ]
        },
        {
          "output_type": "stream",
          "name": "stdout",
          "text": [
            "[Pipeline] .............. (step 2 of 2) Processing svcc, total=  15.7s\n",
            "[Pipeline] ..... (step 1 of 2) Processing preprocessing, total=   0.0s\n",
            "[Pipeline] .............. (step 2 of 2) Processing svcc, total=  15.7s\n",
            "[Pipeline] ..... (step 1 of 2) Processing preprocessing, total=   0.0s\n",
            "[Pipeline] .............. (step 2 of 2) Processing svcc, total=  15.6s\n",
            "[Pipeline] ..... (step 1 of 2) Processing preprocessing, total=   0.0s\n",
            "[Pipeline] .............. (step 2 of 2) Processing svcc, total=  15.5s\n",
            "[Pipeline] ..... (step 1 of 2) Processing preprocessing, total=   0.0s\n",
            "[Pipeline] .............. (step 2 of 2) Processing svcc, total=  15.6s\n",
            "[Pipeline] ..... (step 1 of 2) Processing preprocessing, total=   0.0s\n",
            "[Pipeline] .............. (step 2 of 2) Processing svcc, total=  15.7s\n",
            "[Pipeline] ..... (step 1 of 2) Processing preprocessing, total=   0.0s\n",
            "[Pipeline] .............. (step 2 of 2) Processing svcc, total=  15.5s\n",
            "[Pipeline] ..... (step 1 of 2) Processing preprocessing, total=   0.0s\n",
            "[Pipeline] .............. (step 2 of 2) Processing svcc, total=  15.5s\n",
            "[Pipeline] ..... (step 1 of 2) Processing preprocessing, total=   0.0s\n",
            "[Pipeline] .............. (step 2 of 2) Processing svcc, total=  15.8s\n"
          ]
        },
        {
          "output_type": "stream",
          "name": "stderr",
          "text": [
            "[Parallel(n_jobs=1)]: Done   9 out of   9 | elapsed:  2.8min finished\n"
          ]
        },
        {
          "output_type": "stream",
          "name": "stdout",
          "text": [
            "[Pipeline] ..... (step 1 of 2) Processing preprocessing, total=   0.0s\n",
            "[Pipeline] .............. (step 2 of 2) Processing svcc, total=  37.4s\n"
          ]
        },
        {
          "output_type": "execute_result",
          "data": {
            "text/plain": [
              "GridSearchCV(cv=3, error_score=nan,\n",
              "             estimator=Pipeline(memory=None,\n",
              "                                steps=[('preprocessing',\n",
              "                                        ColumnTransformer(n_jobs=None,\n",
              "                                                          remainder='passthrough',\n",
              "                                                          sparse_threshold=0.3,\n",
              "                                                          transformer_weights=None,\n",
              "                                                          transformers=[('scale',\n",
              "                                                                         StandardScaler(copy=True,\n",
              "                                                                                        with_mean=True,\n",
              "                                                                                        with_std=True),\n",
              "                                                                         ['device_id',\n",
              "                                                                          'event_id'])],\n",
              "                                                          verbose=False)),\n",
              "                                       ('svcc',\n",
              "                                        SVC(C=1.0, break_ties=False,\n",
              "                                            cache...\n",
              "                                            coef0=0.0,\n",
              "                                            decision_function_shape='ovr',\n",
              "                                            degree=3, gamma='scale',\n",
              "                                            kernel='rbf', max_iter=-1,\n",
              "                                            probability=False,\n",
              "                                            random_state=None, shrinking=True,\n",
              "                                            tol=0.001, verbose=False))],\n",
              "                                verbose=True),\n",
              "             iid='deprecated', n_jobs=None,\n",
              "             param_grid={'svcc__gamma': [1.0, 5.0, 10.0],\n",
              "                         'svcc__kernel': ['rbf']},\n",
              "             pre_dispatch='2*n_jobs', refit=True, return_train_score=False,\n",
              "             scoring=None, verbose=1)"
            ]
          },
          "metadata": {},
          "execution_count": 64
        }
      ]
    },
    {
      "cell_type": "code",
      "metadata": {
        "colab": {
          "base_uri": "https://localhost:8080/"
        },
        "id": "wi8_LlC8kBI-",
        "outputId": "455b9865-5074-42ee-d041-f1f0cd2b0db5"
      },
      "source": [
        "model.best_params_"
      ],
      "execution_count": 65,
      "outputs": [
        {
          "output_type": "execute_result",
          "data": {
            "text/plain": [
              "{'svcc__gamma': 1.0, 'svcc__kernel': 'rbf'}"
            ]
          },
          "metadata": {},
          "execution_count": 65
        }
      ]
    },
    {
      "cell_type": "code",
      "metadata": {
        "colab": {
          "base_uri": "https://localhost:8080/"
        },
        "id": "tXC3IVYsntGv",
        "outputId": "8268c4e3-1a84-49a2-a302-6641a0de9b06"
      },
      "source": [
        "# Model still appears to be extremely overfitting\n",
        "train_score = model.score(X_train, y_train)\n",
        "test_score = model.score(X_test, y_test)\n",
        "\n",
        "print(f\"Train score: {train_score}\")\n",
        "print(f\"Test score: {test_score}\")\n"
      ],
      "execution_count": 66,
      "outputs": [
        {
          "output_type": "stream",
          "name": "stdout",
          "text": [
            "Train score: 0.990290269828291\n",
            "Test score: 0.23252962811606048\n"
          ]
        }
      ]
    },
    {
      "cell_type": "code",
      "metadata": {
        "colab": {
          "base_uri": "https://localhost:8080/",
          "height": 414
        },
        "id": "qAHiD8hXkBLG",
        "outputId": "8aece6ac-4392-4caf-cb8d-0967cabba2d7"
      },
      "source": [
        "y_pred = model.predict(X_test)\n",
        "\n",
        "con_mat = pd.DataFrame(\n",
        "    confusion_matrix(y_test, y_pred),\n",
        "    index=[\n",
        "        \"Actually M22-\",\n",
        "        \"Actually M23-26\",\n",
        "        \"Actually M27-28\",\n",
        "        \"Actually M29-31\",\n",
        "        \"Actually M32-38\",\n",
        "        \"Actually M39+\",\n",
        "        \"Actually F23-\",\n",
        "        \"Actually F24-26\",\n",
        "        \"Actually F27-28\",\n",
        "        \"Actually F29-32\",\n",
        "        \"Actually F33-42\",\n",
        "        \"Actually F43+\",\n",
        "    ],\n",
        "    columns=[\n",
        "        \"Predicted M22-\",\n",
        "        \"Predicted M23-26\",\n",
        "        \"Predicted M27-28\",\n",
        "        \"Predicted M29-31\",\n",
        "        \"Predicted M32-38\",\n",
        "        \"Predicted M39+\",\n",
        "        \"Predicted F23-\",\n",
        "        \"Predicted F24-26\",\n",
        "        \"Predicted F27-28\",\n",
        "        \"Predicted F29-32\",\n",
        "        \"Predicted F33-42\",\n",
        "        \"Predicted F43+\",\n",
        "    ],\n",
        ")\n",
        "con_mat.style.background_gradient(axis=None)\n"
      ],
      "execution_count": 67,
      "outputs": [
        {
          "output_type": "execute_result",
          "data": {
            "text/html": [
              "<style  type=\"text/css\" >\n",
              "#T_6b71da1a_3858_11ec_baf8_0242ac1c0002row0_col0,#T_6b71da1a_3858_11ec_baf8_0242ac1c0002row0_col1,#T_6b71da1a_3858_11ec_baf8_0242ac1c0002row0_col2,#T_6b71da1a_3858_11ec_baf8_0242ac1c0002row0_col3,#T_6b71da1a_3858_11ec_baf8_0242ac1c0002row0_col4,#T_6b71da1a_3858_11ec_baf8_0242ac1c0002row0_col6,#T_6b71da1a_3858_11ec_baf8_0242ac1c0002row0_col7,#T_6b71da1a_3858_11ec_baf8_0242ac1c0002row0_col8,#T_6b71da1a_3858_11ec_baf8_0242ac1c0002row0_col9,#T_6b71da1a_3858_11ec_baf8_0242ac1c0002row0_col10,#T_6b71da1a_3858_11ec_baf8_0242ac1c0002row0_col11,#T_6b71da1a_3858_11ec_baf8_0242ac1c0002row1_col0,#T_6b71da1a_3858_11ec_baf8_0242ac1c0002row1_col1,#T_6b71da1a_3858_11ec_baf8_0242ac1c0002row1_col2,#T_6b71da1a_3858_11ec_baf8_0242ac1c0002row1_col3,#T_6b71da1a_3858_11ec_baf8_0242ac1c0002row1_col4,#T_6b71da1a_3858_11ec_baf8_0242ac1c0002row1_col6,#T_6b71da1a_3858_11ec_baf8_0242ac1c0002row1_col7,#T_6b71da1a_3858_11ec_baf8_0242ac1c0002row1_col8,#T_6b71da1a_3858_11ec_baf8_0242ac1c0002row1_col9,#T_6b71da1a_3858_11ec_baf8_0242ac1c0002row1_col10,#T_6b71da1a_3858_11ec_baf8_0242ac1c0002row1_col11,#T_6b71da1a_3858_11ec_baf8_0242ac1c0002row2_col0,#T_6b71da1a_3858_11ec_baf8_0242ac1c0002row2_col1,#T_6b71da1a_3858_11ec_baf8_0242ac1c0002row2_col2,#T_6b71da1a_3858_11ec_baf8_0242ac1c0002row2_col3,#T_6b71da1a_3858_11ec_baf8_0242ac1c0002row2_col4,#T_6b71da1a_3858_11ec_baf8_0242ac1c0002row2_col6,#T_6b71da1a_3858_11ec_baf8_0242ac1c0002row2_col7,#T_6b71da1a_3858_11ec_baf8_0242ac1c0002row2_col8,#T_6b71da1a_3858_11ec_baf8_0242ac1c0002row2_col9,#T_6b71da1a_3858_11ec_baf8_0242ac1c0002row2_col10,#T_6b71da1a_3858_11ec_baf8_0242ac1c0002row2_col11,#T_6b71da1a_3858_11ec_baf8_0242ac1c0002row3_col0,#T_6b71da1a_3858_11ec_baf8_0242ac1c0002row3_col1,#T_6b71da1a_3858_11ec_baf8_0242ac1c0002row3_col2,#T_6b71da1a_3858_11ec_baf8_0242ac1c0002row3_col3,#T_6b71da1a_3858_11ec_baf8_0242ac1c0002row3_col4,#T_6b71da1a_3858_11ec_baf8_0242ac1c0002row3_col6,#T_6b71da1a_3858_11ec_baf8_0242ac1c0002row3_col7,#T_6b71da1a_3858_11ec_baf8_0242ac1c0002row3_col8,#T_6b71da1a_3858_11ec_baf8_0242ac1c0002row3_col9,#T_6b71da1a_3858_11ec_baf8_0242ac1c0002row3_col10,#T_6b71da1a_3858_11ec_baf8_0242ac1c0002row3_col11,#T_6b71da1a_3858_11ec_baf8_0242ac1c0002row4_col0,#T_6b71da1a_3858_11ec_baf8_0242ac1c0002row4_col1,#T_6b71da1a_3858_11ec_baf8_0242ac1c0002row4_col2,#T_6b71da1a_3858_11ec_baf8_0242ac1c0002row4_col3,#T_6b71da1a_3858_11ec_baf8_0242ac1c0002row4_col4,#T_6b71da1a_3858_11ec_baf8_0242ac1c0002row4_col6,#T_6b71da1a_3858_11ec_baf8_0242ac1c0002row4_col7,#T_6b71da1a_3858_11ec_baf8_0242ac1c0002row4_col8,#T_6b71da1a_3858_11ec_baf8_0242ac1c0002row4_col9,#T_6b71da1a_3858_11ec_baf8_0242ac1c0002row4_col10,#T_6b71da1a_3858_11ec_baf8_0242ac1c0002row4_col11,#T_6b71da1a_3858_11ec_baf8_0242ac1c0002row5_col0,#T_6b71da1a_3858_11ec_baf8_0242ac1c0002row5_col1,#T_6b71da1a_3858_11ec_baf8_0242ac1c0002row5_col2,#T_6b71da1a_3858_11ec_baf8_0242ac1c0002row5_col3,#T_6b71da1a_3858_11ec_baf8_0242ac1c0002row5_col4,#T_6b71da1a_3858_11ec_baf8_0242ac1c0002row5_col6,#T_6b71da1a_3858_11ec_baf8_0242ac1c0002row5_col7,#T_6b71da1a_3858_11ec_baf8_0242ac1c0002row5_col8,#T_6b71da1a_3858_11ec_baf8_0242ac1c0002row5_col9,#T_6b71da1a_3858_11ec_baf8_0242ac1c0002row5_col10,#T_6b71da1a_3858_11ec_baf8_0242ac1c0002row5_col11,#T_6b71da1a_3858_11ec_baf8_0242ac1c0002row6_col0,#T_6b71da1a_3858_11ec_baf8_0242ac1c0002row6_col1,#T_6b71da1a_3858_11ec_baf8_0242ac1c0002row6_col2,#T_6b71da1a_3858_11ec_baf8_0242ac1c0002row6_col3,#T_6b71da1a_3858_11ec_baf8_0242ac1c0002row6_col4,#T_6b71da1a_3858_11ec_baf8_0242ac1c0002row6_col6,#T_6b71da1a_3858_11ec_baf8_0242ac1c0002row6_col7,#T_6b71da1a_3858_11ec_baf8_0242ac1c0002row6_col8,#T_6b71da1a_3858_11ec_baf8_0242ac1c0002row6_col9,#T_6b71da1a_3858_11ec_baf8_0242ac1c0002row6_col10,#T_6b71da1a_3858_11ec_baf8_0242ac1c0002row6_col11,#T_6b71da1a_3858_11ec_baf8_0242ac1c0002row7_col0,#T_6b71da1a_3858_11ec_baf8_0242ac1c0002row7_col1,#T_6b71da1a_3858_11ec_baf8_0242ac1c0002row7_col2,#T_6b71da1a_3858_11ec_baf8_0242ac1c0002row7_col3,#T_6b71da1a_3858_11ec_baf8_0242ac1c0002row7_col4,#T_6b71da1a_3858_11ec_baf8_0242ac1c0002row7_col6,#T_6b71da1a_3858_11ec_baf8_0242ac1c0002row7_col7,#T_6b71da1a_3858_11ec_baf8_0242ac1c0002row7_col8,#T_6b71da1a_3858_11ec_baf8_0242ac1c0002row7_col9,#T_6b71da1a_3858_11ec_baf8_0242ac1c0002row7_col10,#T_6b71da1a_3858_11ec_baf8_0242ac1c0002row7_col11,#T_6b71da1a_3858_11ec_baf8_0242ac1c0002row8_col0,#T_6b71da1a_3858_11ec_baf8_0242ac1c0002row8_col1,#T_6b71da1a_3858_11ec_baf8_0242ac1c0002row8_col2,#T_6b71da1a_3858_11ec_baf8_0242ac1c0002row8_col3,#T_6b71da1a_3858_11ec_baf8_0242ac1c0002row8_col4,#T_6b71da1a_3858_11ec_baf8_0242ac1c0002row8_col6,#T_6b71da1a_3858_11ec_baf8_0242ac1c0002row8_col7,#T_6b71da1a_3858_11ec_baf8_0242ac1c0002row8_col8,#T_6b71da1a_3858_11ec_baf8_0242ac1c0002row8_col9,#T_6b71da1a_3858_11ec_baf8_0242ac1c0002row8_col10,#T_6b71da1a_3858_11ec_baf8_0242ac1c0002row8_col11,#T_6b71da1a_3858_11ec_baf8_0242ac1c0002row9_col0,#T_6b71da1a_3858_11ec_baf8_0242ac1c0002row9_col1,#T_6b71da1a_3858_11ec_baf8_0242ac1c0002row9_col2,#T_6b71da1a_3858_11ec_baf8_0242ac1c0002row9_col3,#T_6b71da1a_3858_11ec_baf8_0242ac1c0002row9_col4,#T_6b71da1a_3858_11ec_baf8_0242ac1c0002row9_col6,#T_6b71da1a_3858_11ec_baf8_0242ac1c0002row9_col7,#T_6b71da1a_3858_11ec_baf8_0242ac1c0002row9_col8,#T_6b71da1a_3858_11ec_baf8_0242ac1c0002row9_col9,#T_6b71da1a_3858_11ec_baf8_0242ac1c0002row9_col10,#T_6b71da1a_3858_11ec_baf8_0242ac1c0002row9_col11,#T_6b71da1a_3858_11ec_baf8_0242ac1c0002row10_col0,#T_6b71da1a_3858_11ec_baf8_0242ac1c0002row10_col1,#T_6b71da1a_3858_11ec_baf8_0242ac1c0002row10_col2,#T_6b71da1a_3858_11ec_baf8_0242ac1c0002row10_col3,#T_6b71da1a_3858_11ec_baf8_0242ac1c0002row10_col4,#T_6b71da1a_3858_11ec_baf8_0242ac1c0002row10_col6,#T_6b71da1a_3858_11ec_baf8_0242ac1c0002row10_col7,#T_6b71da1a_3858_11ec_baf8_0242ac1c0002row10_col8,#T_6b71da1a_3858_11ec_baf8_0242ac1c0002row10_col9,#T_6b71da1a_3858_11ec_baf8_0242ac1c0002row10_col10,#T_6b71da1a_3858_11ec_baf8_0242ac1c0002row10_col11,#T_6b71da1a_3858_11ec_baf8_0242ac1c0002row11_col0,#T_6b71da1a_3858_11ec_baf8_0242ac1c0002row11_col1,#T_6b71da1a_3858_11ec_baf8_0242ac1c0002row11_col2,#T_6b71da1a_3858_11ec_baf8_0242ac1c0002row11_col3,#T_6b71da1a_3858_11ec_baf8_0242ac1c0002row11_col4,#T_6b71da1a_3858_11ec_baf8_0242ac1c0002row11_col6,#T_6b71da1a_3858_11ec_baf8_0242ac1c0002row11_col7,#T_6b71da1a_3858_11ec_baf8_0242ac1c0002row11_col8,#T_6b71da1a_3858_11ec_baf8_0242ac1c0002row11_col9,#T_6b71da1a_3858_11ec_baf8_0242ac1c0002row11_col10,#T_6b71da1a_3858_11ec_baf8_0242ac1c0002row11_col11{\n",
              "            background-color:  #fff7fb;\n",
              "            color:  #000000;\n",
              "        }#T_6b71da1a_3858_11ec_baf8_0242ac1c0002row0_col5{\n",
              "            background-color:  #d6d6e9;\n",
              "            color:  #000000;\n",
              "        }#T_6b71da1a_3858_11ec_baf8_0242ac1c0002row1_col5{\n",
              "            background-color:  #8cb3d5;\n",
              "            color:  #000000;\n",
              "        }#T_6b71da1a_3858_11ec_baf8_0242ac1c0002row2_col5{\n",
              "            background-color:  #bcc7e1;\n",
              "            color:  #000000;\n",
              "        }#T_6b71da1a_3858_11ec_baf8_0242ac1c0002row3_col5{\n",
              "            background-color:  #7dacd1;\n",
              "            color:  #000000;\n",
              "        }#T_6b71da1a_3858_11ec_baf8_0242ac1c0002row4_col5{\n",
              "            background-color:  #03466e;\n",
              "            color:  #f1f1f1;\n",
              "        }#T_6b71da1a_3858_11ec_baf8_0242ac1c0002row5_col5{\n",
              "            background-color:  #023858;\n",
              "            color:  #f1f1f1;\n",
              "        }#T_6b71da1a_3858_11ec_baf8_0242ac1c0002row6_col5{\n",
              "            background-color:  #f5eef6;\n",
              "            color:  #000000;\n",
              "        }#T_6b71da1a_3858_11ec_baf8_0242ac1c0002row7_col5{\n",
              "            background-color:  #f8f1f8;\n",
              "            color:  #000000;\n",
              "        }#T_6b71da1a_3858_11ec_baf8_0242ac1c0002row8_col5{\n",
              "            background-color:  #f0eaf4;\n",
              "            color:  #000000;\n",
              "        }#T_6b71da1a_3858_11ec_baf8_0242ac1c0002row9_col5{\n",
              "            background-color:  #e8e4f0;\n",
              "            color:  #000000;\n",
              "        }#T_6b71da1a_3858_11ec_baf8_0242ac1c0002row10_col5{\n",
              "            background-color:  #d2d3e7;\n",
              "            color:  #000000;\n",
              "        }#T_6b71da1a_3858_11ec_baf8_0242ac1c0002row11_col5{\n",
              "            background-color:  #bfc9e1;\n",
              "            color:  #000000;\n",
              "        }</style><table id=\"T_6b71da1a_3858_11ec_baf8_0242ac1c0002\" class=\"dataframe\"><thead>    <tr>        <th class=\"blank level0\" ></th>        <th class=\"col_heading level0 col0\" >Predicted M22-</th>        <th class=\"col_heading level0 col1\" >Predicted M23-26</th>        <th class=\"col_heading level0 col2\" >Predicted M27-28</th>        <th class=\"col_heading level0 col3\" >Predicted M29-31</th>        <th class=\"col_heading level0 col4\" >Predicted M32-38</th>        <th class=\"col_heading level0 col5\" >Predicted M39+</th>        <th class=\"col_heading level0 col6\" >Predicted F23-</th>        <th class=\"col_heading level0 col7\" >Predicted F24-26</th>        <th class=\"col_heading level0 col8\" >Predicted F27-28</th>        <th class=\"col_heading level0 col9\" >Predicted F29-32</th>        <th class=\"col_heading level0 col10\" >Predicted F33-42</th>        <th class=\"col_heading level0 col11\" >Predicted F43+</th>    </tr></thead><tbody>\n",
              "                <tr>\n",
              "                        <th id=\"T_6b71da1a_3858_11ec_baf8_0242ac1c0002level0_row0\" class=\"row_heading level0 row0\" >Actually M22-</th>\n",
              "                        <td id=\"T_6b71da1a_3858_11ec_baf8_0242ac1c0002row0_col0\" class=\"data row0 col0\" >0</td>\n",
              "                        <td id=\"T_6b71da1a_3858_11ec_baf8_0242ac1c0002row0_col1\" class=\"data row0 col1\" >0</td>\n",
              "                        <td id=\"T_6b71da1a_3858_11ec_baf8_0242ac1c0002row0_col2\" class=\"data row0 col2\" >0</td>\n",
              "                        <td id=\"T_6b71da1a_3858_11ec_baf8_0242ac1c0002row0_col3\" class=\"data row0 col3\" >0</td>\n",
              "                        <td id=\"T_6b71da1a_3858_11ec_baf8_0242ac1c0002row0_col4\" class=\"data row0 col4\" >0</td>\n",
              "                        <td id=\"T_6b71da1a_3858_11ec_baf8_0242ac1c0002row0_col5\" class=\"data row0 col5\" >127</td>\n",
              "                        <td id=\"T_6b71da1a_3858_11ec_baf8_0242ac1c0002row0_col6\" class=\"data row0 col6\" >0</td>\n",
              "                        <td id=\"T_6b71da1a_3858_11ec_baf8_0242ac1c0002row0_col7\" class=\"data row0 col7\" >0</td>\n",
              "                        <td id=\"T_6b71da1a_3858_11ec_baf8_0242ac1c0002row0_col8\" class=\"data row0 col8\" >0</td>\n",
              "                        <td id=\"T_6b71da1a_3858_11ec_baf8_0242ac1c0002row0_col9\" class=\"data row0 col9\" >0</td>\n",
              "                        <td id=\"T_6b71da1a_3858_11ec_baf8_0242ac1c0002row0_col10\" class=\"data row0 col10\" >0</td>\n",
              "                        <td id=\"T_6b71da1a_3858_11ec_baf8_0242ac1c0002row0_col11\" class=\"data row0 col11\" >0</td>\n",
              "            </tr>\n",
              "            <tr>\n",
              "                        <th id=\"T_6b71da1a_3858_11ec_baf8_0242ac1c0002level0_row1\" class=\"row_heading level0 row1\" >Actually M23-26</th>\n",
              "                        <td id=\"T_6b71da1a_3858_11ec_baf8_0242ac1c0002row1_col0\" class=\"data row1 col0\" >0</td>\n",
              "                        <td id=\"T_6b71da1a_3858_11ec_baf8_0242ac1c0002row1_col1\" class=\"data row1 col1\" >0</td>\n",
              "                        <td id=\"T_6b71da1a_3858_11ec_baf8_0242ac1c0002row1_col2\" class=\"data row1 col2\" >0</td>\n",
              "                        <td id=\"T_6b71da1a_3858_11ec_baf8_0242ac1c0002row1_col3\" class=\"data row1 col3\" >0</td>\n",
              "                        <td id=\"T_6b71da1a_3858_11ec_baf8_0242ac1c0002row1_col4\" class=\"data row1 col4\" >0</td>\n",
              "                        <td id=\"T_6b71da1a_3858_11ec_baf8_0242ac1c0002row1_col5\" class=\"data row1 col5\" >250</td>\n",
              "                        <td id=\"T_6b71da1a_3858_11ec_baf8_0242ac1c0002row1_col6\" class=\"data row1 col6\" >0</td>\n",
              "                        <td id=\"T_6b71da1a_3858_11ec_baf8_0242ac1c0002row1_col7\" class=\"data row1 col7\" >0</td>\n",
              "                        <td id=\"T_6b71da1a_3858_11ec_baf8_0242ac1c0002row1_col8\" class=\"data row1 col8\" >0</td>\n",
              "                        <td id=\"T_6b71da1a_3858_11ec_baf8_0242ac1c0002row1_col9\" class=\"data row1 col9\" >0</td>\n",
              "                        <td id=\"T_6b71da1a_3858_11ec_baf8_0242ac1c0002row1_col10\" class=\"data row1 col10\" >0</td>\n",
              "                        <td id=\"T_6b71da1a_3858_11ec_baf8_0242ac1c0002row1_col11\" class=\"data row1 col11\" >0</td>\n",
              "            </tr>\n",
              "            <tr>\n",
              "                        <th id=\"T_6b71da1a_3858_11ec_baf8_0242ac1c0002level0_row2\" class=\"row_heading level0 row2\" >Actually M27-28</th>\n",
              "                        <td id=\"T_6b71da1a_3858_11ec_baf8_0242ac1c0002row2_col0\" class=\"data row2 col0\" >0</td>\n",
              "                        <td id=\"T_6b71da1a_3858_11ec_baf8_0242ac1c0002row2_col1\" class=\"data row2 col1\" >0</td>\n",
              "                        <td id=\"T_6b71da1a_3858_11ec_baf8_0242ac1c0002row2_col2\" class=\"data row2 col2\" >0</td>\n",
              "                        <td id=\"T_6b71da1a_3858_11ec_baf8_0242ac1c0002row2_col3\" class=\"data row2 col3\" >0</td>\n",
              "                        <td id=\"T_6b71da1a_3858_11ec_baf8_0242ac1c0002row2_col4\" class=\"data row2 col4\" >0</td>\n",
              "                        <td id=\"T_6b71da1a_3858_11ec_baf8_0242ac1c0002row2_col5\" class=\"data row2 col5\" >177</td>\n",
              "                        <td id=\"T_6b71da1a_3858_11ec_baf8_0242ac1c0002row2_col6\" class=\"data row2 col6\" >0</td>\n",
              "                        <td id=\"T_6b71da1a_3858_11ec_baf8_0242ac1c0002row2_col7\" class=\"data row2 col7\" >0</td>\n",
              "                        <td id=\"T_6b71da1a_3858_11ec_baf8_0242ac1c0002row2_col8\" class=\"data row2 col8\" >0</td>\n",
              "                        <td id=\"T_6b71da1a_3858_11ec_baf8_0242ac1c0002row2_col9\" class=\"data row2 col9\" >0</td>\n",
              "                        <td id=\"T_6b71da1a_3858_11ec_baf8_0242ac1c0002row2_col10\" class=\"data row2 col10\" >0</td>\n",
              "                        <td id=\"T_6b71da1a_3858_11ec_baf8_0242ac1c0002row2_col11\" class=\"data row2 col11\" >0</td>\n",
              "            </tr>\n",
              "            <tr>\n",
              "                        <th id=\"T_6b71da1a_3858_11ec_baf8_0242ac1c0002level0_row3\" class=\"row_heading level0 row3\" >Actually M29-31</th>\n",
              "                        <td id=\"T_6b71da1a_3858_11ec_baf8_0242ac1c0002row3_col0\" class=\"data row3 col0\" >0</td>\n",
              "                        <td id=\"T_6b71da1a_3858_11ec_baf8_0242ac1c0002row3_col1\" class=\"data row3 col1\" >0</td>\n",
              "                        <td id=\"T_6b71da1a_3858_11ec_baf8_0242ac1c0002row3_col2\" class=\"data row3 col2\" >0</td>\n",
              "                        <td id=\"T_6b71da1a_3858_11ec_baf8_0242ac1c0002row3_col3\" class=\"data row3 col3\" >0</td>\n",
              "                        <td id=\"T_6b71da1a_3858_11ec_baf8_0242ac1c0002row3_col4\" class=\"data row3 col4\" >0</td>\n",
              "                        <td id=\"T_6b71da1a_3858_11ec_baf8_0242ac1c0002row3_col5\" class=\"data row3 col5\" >273</td>\n",
              "                        <td id=\"T_6b71da1a_3858_11ec_baf8_0242ac1c0002row3_col6\" class=\"data row3 col6\" >0</td>\n",
              "                        <td id=\"T_6b71da1a_3858_11ec_baf8_0242ac1c0002row3_col7\" class=\"data row3 col7\" >0</td>\n",
              "                        <td id=\"T_6b71da1a_3858_11ec_baf8_0242ac1c0002row3_col8\" class=\"data row3 col8\" >0</td>\n",
              "                        <td id=\"T_6b71da1a_3858_11ec_baf8_0242ac1c0002row3_col9\" class=\"data row3 col9\" >0</td>\n",
              "                        <td id=\"T_6b71da1a_3858_11ec_baf8_0242ac1c0002row3_col10\" class=\"data row3 col10\" >0</td>\n",
              "                        <td id=\"T_6b71da1a_3858_11ec_baf8_0242ac1c0002row3_col11\" class=\"data row3 col11\" >0</td>\n",
              "            </tr>\n",
              "            <tr>\n",
              "                        <th id=\"T_6b71da1a_3858_11ec_baf8_0242ac1c0002level0_row4\" class=\"row_heading level0 row4\" >Actually M32-38</th>\n",
              "                        <td id=\"T_6b71da1a_3858_11ec_baf8_0242ac1c0002row4_col0\" class=\"data row4 col0\" >0</td>\n",
              "                        <td id=\"T_6b71da1a_3858_11ec_baf8_0242ac1c0002row4_col1\" class=\"data row4 col1\" >0</td>\n",
              "                        <td id=\"T_6b71da1a_3858_11ec_baf8_0242ac1c0002row4_col2\" class=\"data row4 col2\" >0</td>\n",
              "                        <td id=\"T_6b71da1a_3858_11ec_baf8_0242ac1c0002row4_col3\" class=\"data row4 col3\" >0</td>\n",
              "                        <td id=\"T_6b71da1a_3858_11ec_baf8_0242ac1c0002row4_col4\" class=\"data row4 col4\" >0</td>\n",
              "                        <td id=\"T_6b71da1a_3858_11ec_baf8_0242ac1c0002row4_col5\" class=\"data row4 col5\" >538</td>\n",
              "                        <td id=\"T_6b71da1a_3858_11ec_baf8_0242ac1c0002row4_col6\" class=\"data row4 col6\" >0</td>\n",
              "                        <td id=\"T_6b71da1a_3858_11ec_baf8_0242ac1c0002row4_col7\" class=\"data row4 col7\" >0</td>\n",
              "                        <td id=\"T_6b71da1a_3858_11ec_baf8_0242ac1c0002row4_col8\" class=\"data row4 col8\" >0</td>\n",
              "                        <td id=\"T_6b71da1a_3858_11ec_baf8_0242ac1c0002row4_col9\" class=\"data row4 col9\" >0</td>\n",
              "                        <td id=\"T_6b71da1a_3858_11ec_baf8_0242ac1c0002row4_col10\" class=\"data row4 col10\" >0</td>\n",
              "                        <td id=\"T_6b71da1a_3858_11ec_baf8_0242ac1c0002row4_col11\" class=\"data row4 col11\" >0</td>\n",
              "            </tr>\n",
              "            <tr>\n",
              "                        <th id=\"T_6b71da1a_3858_11ec_baf8_0242ac1c0002level0_row5\" class=\"row_heading level0 row5\" >Actually M39+</th>\n",
              "                        <td id=\"T_6b71da1a_3858_11ec_baf8_0242ac1c0002row5_col0\" class=\"data row5 col0\" >0</td>\n",
              "                        <td id=\"T_6b71da1a_3858_11ec_baf8_0242ac1c0002row5_col1\" class=\"data row5 col1\" >0</td>\n",
              "                        <td id=\"T_6b71da1a_3858_11ec_baf8_0242ac1c0002row5_col2\" class=\"data row5 col2\" >0</td>\n",
              "                        <td id=\"T_6b71da1a_3858_11ec_baf8_0242ac1c0002row5_col3\" class=\"data row5 col3\" >0</td>\n",
              "                        <td id=\"T_6b71da1a_3858_11ec_baf8_0242ac1c0002row5_col4\" class=\"data row5 col4\" >0</td>\n",
              "                        <td id=\"T_6b71da1a_3858_11ec_baf8_0242ac1c0002row5_col5\" class=\"data row5 col5\" >569</td>\n",
              "                        <td id=\"T_6b71da1a_3858_11ec_baf8_0242ac1c0002row5_col6\" class=\"data row5 col6\" >0</td>\n",
              "                        <td id=\"T_6b71da1a_3858_11ec_baf8_0242ac1c0002row5_col7\" class=\"data row5 col7\" >0</td>\n",
              "                        <td id=\"T_6b71da1a_3858_11ec_baf8_0242ac1c0002row5_col8\" class=\"data row5 col8\" >0</td>\n",
              "                        <td id=\"T_6b71da1a_3858_11ec_baf8_0242ac1c0002row5_col9\" class=\"data row5 col9\" >0</td>\n",
              "                        <td id=\"T_6b71da1a_3858_11ec_baf8_0242ac1c0002row5_col10\" class=\"data row5 col10\" >0</td>\n",
              "                        <td id=\"T_6b71da1a_3858_11ec_baf8_0242ac1c0002row5_col11\" class=\"data row5 col11\" >0</td>\n",
              "            </tr>\n",
              "            <tr>\n",
              "                        <th id=\"T_6b71da1a_3858_11ec_baf8_0242ac1c0002level0_row6\" class=\"row_heading level0 row6\" >Actually F23-</th>\n",
              "                        <td id=\"T_6b71da1a_3858_11ec_baf8_0242ac1c0002row6_col0\" class=\"data row6 col0\" >0</td>\n",
              "                        <td id=\"T_6b71da1a_3858_11ec_baf8_0242ac1c0002row6_col1\" class=\"data row6 col1\" >0</td>\n",
              "                        <td id=\"T_6b71da1a_3858_11ec_baf8_0242ac1c0002row6_col2\" class=\"data row6 col2\" >0</td>\n",
              "                        <td id=\"T_6b71da1a_3858_11ec_baf8_0242ac1c0002row6_col3\" class=\"data row6 col3\" >0</td>\n",
              "                        <td id=\"T_6b71da1a_3858_11ec_baf8_0242ac1c0002row6_col4\" class=\"data row6 col4\" >0</td>\n",
              "                        <td id=\"T_6b71da1a_3858_11ec_baf8_0242ac1c0002row6_col5\" class=\"data row6 col5\" >39</td>\n",
              "                        <td id=\"T_6b71da1a_3858_11ec_baf8_0242ac1c0002row6_col6\" class=\"data row6 col6\" >0</td>\n",
              "                        <td id=\"T_6b71da1a_3858_11ec_baf8_0242ac1c0002row6_col7\" class=\"data row6 col7\" >0</td>\n",
              "                        <td id=\"T_6b71da1a_3858_11ec_baf8_0242ac1c0002row6_col8\" class=\"data row6 col8\" >0</td>\n",
              "                        <td id=\"T_6b71da1a_3858_11ec_baf8_0242ac1c0002row6_col9\" class=\"data row6 col9\" >0</td>\n",
              "                        <td id=\"T_6b71da1a_3858_11ec_baf8_0242ac1c0002row6_col10\" class=\"data row6 col10\" >0</td>\n",
              "                        <td id=\"T_6b71da1a_3858_11ec_baf8_0242ac1c0002row6_col11\" class=\"data row6 col11\" >0</td>\n",
              "            </tr>\n",
              "            <tr>\n",
              "                        <th id=\"T_6b71da1a_3858_11ec_baf8_0242ac1c0002level0_row7\" class=\"row_heading level0 row7\" >Actually F24-26</th>\n",
              "                        <td id=\"T_6b71da1a_3858_11ec_baf8_0242ac1c0002row7_col0\" class=\"data row7 col0\" >0</td>\n",
              "                        <td id=\"T_6b71da1a_3858_11ec_baf8_0242ac1c0002row7_col1\" class=\"data row7 col1\" >0</td>\n",
              "                        <td id=\"T_6b71da1a_3858_11ec_baf8_0242ac1c0002row7_col2\" class=\"data row7 col2\" >0</td>\n",
              "                        <td id=\"T_6b71da1a_3858_11ec_baf8_0242ac1c0002row7_col3\" class=\"data row7 col3\" >0</td>\n",
              "                        <td id=\"T_6b71da1a_3858_11ec_baf8_0242ac1c0002row7_col4\" class=\"data row7 col4\" >0</td>\n",
              "                        <td id=\"T_6b71da1a_3858_11ec_baf8_0242ac1c0002row7_col5\" class=\"data row7 col5\" >28</td>\n",
              "                        <td id=\"T_6b71da1a_3858_11ec_baf8_0242ac1c0002row7_col6\" class=\"data row7 col6\" >0</td>\n",
              "                        <td id=\"T_6b71da1a_3858_11ec_baf8_0242ac1c0002row7_col7\" class=\"data row7 col7\" >0</td>\n",
              "                        <td id=\"T_6b71da1a_3858_11ec_baf8_0242ac1c0002row7_col8\" class=\"data row7 col8\" >0</td>\n",
              "                        <td id=\"T_6b71da1a_3858_11ec_baf8_0242ac1c0002row7_col9\" class=\"data row7 col9\" >0</td>\n",
              "                        <td id=\"T_6b71da1a_3858_11ec_baf8_0242ac1c0002row7_col10\" class=\"data row7 col10\" >0</td>\n",
              "                        <td id=\"T_6b71da1a_3858_11ec_baf8_0242ac1c0002row7_col11\" class=\"data row7 col11\" >0</td>\n",
              "            </tr>\n",
              "            <tr>\n",
              "                        <th id=\"T_6b71da1a_3858_11ec_baf8_0242ac1c0002level0_row8\" class=\"row_heading level0 row8\" >Actually F27-28</th>\n",
              "                        <td id=\"T_6b71da1a_3858_11ec_baf8_0242ac1c0002row8_col0\" class=\"data row8 col0\" >0</td>\n",
              "                        <td id=\"T_6b71da1a_3858_11ec_baf8_0242ac1c0002row8_col1\" class=\"data row8 col1\" >0</td>\n",
              "                        <td id=\"T_6b71da1a_3858_11ec_baf8_0242ac1c0002row8_col2\" class=\"data row8 col2\" >0</td>\n",
              "                        <td id=\"T_6b71da1a_3858_11ec_baf8_0242ac1c0002row8_col3\" class=\"data row8 col3\" >0</td>\n",
              "                        <td id=\"T_6b71da1a_3858_11ec_baf8_0242ac1c0002row8_col4\" class=\"data row8 col4\" >0</td>\n",
              "                        <td id=\"T_6b71da1a_3858_11ec_baf8_0242ac1c0002row8_col5\" class=\"data row8 col5\" >56</td>\n",
              "                        <td id=\"T_6b71da1a_3858_11ec_baf8_0242ac1c0002row8_col6\" class=\"data row8 col6\" >0</td>\n",
              "                        <td id=\"T_6b71da1a_3858_11ec_baf8_0242ac1c0002row8_col7\" class=\"data row8 col7\" >0</td>\n",
              "                        <td id=\"T_6b71da1a_3858_11ec_baf8_0242ac1c0002row8_col8\" class=\"data row8 col8\" >0</td>\n",
              "                        <td id=\"T_6b71da1a_3858_11ec_baf8_0242ac1c0002row8_col9\" class=\"data row8 col9\" >0</td>\n",
              "                        <td id=\"T_6b71da1a_3858_11ec_baf8_0242ac1c0002row8_col10\" class=\"data row8 col10\" >0</td>\n",
              "                        <td id=\"T_6b71da1a_3858_11ec_baf8_0242ac1c0002row8_col11\" class=\"data row8 col11\" >0</td>\n",
              "            </tr>\n",
              "            <tr>\n",
              "                        <th id=\"T_6b71da1a_3858_11ec_baf8_0242ac1c0002level0_row9\" class=\"row_heading level0 row9\" >Actually F29-32</th>\n",
              "                        <td id=\"T_6b71da1a_3858_11ec_baf8_0242ac1c0002row9_col0\" class=\"data row9 col0\" >0</td>\n",
              "                        <td id=\"T_6b71da1a_3858_11ec_baf8_0242ac1c0002row9_col1\" class=\"data row9 col1\" >0</td>\n",
              "                        <td id=\"T_6b71da1a_3858_11ec_baf8_0242ac1c0002row9_col2\" class=\"data row9 col2\" >0</td>\n",
              "                        <td id=\"T_6b71da1a_3858_11ec_baf8_0242ac1c0002row9_col3\" class=\"data row9 col3\" >0</td>\n",
              "                        <td id=\"T_6b71da1a_3858_11ec_baf8_0242ac1c0002row9_col4\" class=\"data row9 col4\" >0</td>\n",
              "                        <td id=\"T_6b71da1a_3858_11ec_baf8_0242ac1c0002row9_col5\" class=\"data row9 col5\" >81</td>\n",
              "                        <td id=\"T_6b71da1a_3858_11ec_baf8_0242ac1c0002row9_col6\" class=\"data row9 col6\" >0</td>\n",
              "                        <td id=\"T_6b71da1a_3858_11ec_baf8_0242ac1c0002row9_col7\" class=\"data row9 col7\" >0</td>\n",
              "                        <td id=\"T_6b71da1a_3858_11ec_baf8_0242ac1c0002row9_col8\" class=\"data row9 col8\" >0</td>\n",
              "                        <td id=\"T_6b71da1a_3858_11ec_baf8_0242ac1c0002row9_col9\" class=\"data row9 col9\" >0</td>\n",
              "                        <td id=\"T_6b71da1a_3858_11ec_baf8_0242ac1c0002row9_col10\" class=\"data row9 col10\" >0</td>\n",
              "                        <td id=\"T_6b71da1a_3858_11ec_baf8_0242ac1c0002row9_col11\" class=\"data row9 col11\" >0</td>\n",
              "            </tr>\n",
              "            <tr>\n",
              "                        <th id=\"T_6b71da1a_3858_11ec_baf8_0242ac1c0002level0_row10\" class=\"row_heading level0 row10\" >Actually F33-42</th>\n",
              "                        <td id=\"T_6b71da1a_3858_11ec_baf8_0242ac1c0002row10_col0\" class=\"data row10 col0\" >0</td>\n",
              "                        <td id=\"T_6b71da1a_3858_11ec_baf8_0242ac1c0002row10_col1\" class=\"data row10 col1\" >0</td>\n",
              "                        <td id=\"T_6b71da1a_3858_11ec_baf8_0242ac1c0002row10_col2\" class=\"data row10 col2\" >0</td>\n",
              "                        <td id=\"T_6b71da1a_3858_11ec_baf8_0242ac1c0002row10_col3\" class=\"data row10 col3\" >0</td>\n",
              "                        <td id=\"T_6b71da1a_3858_11ec_baf8_0242ac1c0002row10_col4\" class=\"data row10 col4\" >0</td>\n",
              "                        <td id=\"T_6b71da1a_3858_11ec_baf8_0242ac1c0002row10_col5\" class=\"data row10 col5\" >137</td>\n",
              "                        <td id=\"T_6b71da1a_3858_11ec_baf8_0242ac1c0002row10_col6\" class=\"data row10 col6\" >0</td>\n",
              "                        <td id=\"T_6b71da1a_3858_11ec_baf8_0242ac1c0002row10_col7\" class=\"data row10 col7\" >0</td>\n",
              "                        <td id=\"T_6b71da1a_3858_11ec_baf8_0242ac1c0002row10_col8\" class=\"data row10 col8\" >0</td>\n",
              "                        <td id=\"T_6b71da1a_3858_11ec_baf8_0242ac1c0002row10_col9\" class=\"data row10 col9\" >0</td>\n",
              "                        <td id=\"T_6b71da1a_3858_11ec_baf8_0242ac1c0002row10_col10\" class=\"data row10 col10\" >0</td>\n",
              "                        <td id=\"T_6b71da1a_3858_11ec_baf8_0242ac1c0002row10_col11\" class=\"data row10 col11\" >0</td>\n",
              "            </tr>\n",
              "            <tr>\n",
              "                        <th id=\"T_6b71da1a_3858_11ec_baf8_0242ac1c0002level0_row11\" class=\"row_heading level0 row11\" >Actually F43+</th>\n",
              "                        <td id=\"T_6b71da1a_3858_11ec_baf8_0242ac1c0002row11_col0\" class=\"data row11 col0\" >0</td>\n",
              "                        <td id=\"T_6b71da1a_3858_11ec_baf8_0242ac1c0002row11_col1\" class=\"data row11 col1\" >0</td>\n",
              "                        <td id=\"T_6b71da1a_3858_11ec_baf8_0242ac1c0002row11_col2\" class=\"data row11 col2\" >0</td>\n",
              "                        <td id=\"T_6b71da1a_3858_11ec_baf8_0242ac1c0002row11_col3\" class=\"data row11 col3\" >0</td>\n",
              "                        <td id=\"T_6b71da1a_3858_11ec_baf8_0242ac1c0002row11_col4\" class=\"data row11 col4\" >0</td>\n",
              "                        <td id=\"T_6b71da1a_3858_11ec_baf8_0242ac1c0002row11_col5\" class=\"data row11 col5\" >172</td>\n",
              "                        <td id=\"T_6b71da1a_3858_11ec_baf8_0242ac1c0002row11_col6\" class=\"data row11 col6\" >0</td>\n",
              "                        <td id=\"T_6b71da1a_3858_11ec_baf8_0242ac1c0002row11_col7\" class=\"data row11 col7\" >0</td>\n",
              "                        <td id=\"T_6b71da1a_3858_11ec_baf8_0242ac1c0002row11_col8\" class=\"data row11 col8\" >0</td>\n",
              "                        <td id=\"T_6b71da1a_3858_11ec_baf8_0242ac1c0002row11_col9\" class=\"data row11 col9\" >0</td>\n",
              "                        <td id=\"T_6b71da1a_3858_11ec_baf8_0242ac1c0002row11_col10\" class=\"data row11 col10\" >0</td>\n",
              "                        <td id=\"T_6b71da1a_3858_11ec_baf8_0242ac1c0002row11_col11\" class=\"data row11 col11\" >0</td>\n",
              "            </tr>\n",
              "    </tbody></table>"
            ],
            "text/plain": [
              "<pandas.io.formats.style.Styler at 0x7f629f8301d0>"
            ]
          },
          "metadata": {},
          "execution_count": 67
        }
      ]
    },
    {
      "cell_type": "code",
      "metadata": {
        "colab": {
          "base_uri": "https://localhost:8080/"
        },
        "id": "OFASU9ankSAg",
        "outputId": "11a68b3b-03b8-492f-d8d5-ad711118a6e2"
      },
      "source": [
        "print(\"Classification Report:\")\n",
        "print()\n",
        "print(classification_report(y_test, y_pred))"
      ],
      "execution_count": 68,
      "outputs": [
        {
          "output_type": "stream",
          "name": "stdout",
          "text": [
            "Classification Report:\n",
            "\n",
            "              precision    recall  f1-score   support\n",
            "\n",
            "           0       0.00      0.00      0.00       127\n",
            "           1       0.00      0.00      0.00       250\n",
            "           2       0.00      0.00      0.00       177\n",
            "           3       0.00      0.00      0.00       273\n",
            "           4       0.00      0.00      0.00       538\n",
            "           5       0.23      1.00      0.38       569\n",
            "           6       0.00      0.00      0.00        39\n",
            "           7       0.00      0.00      0.00        28\n",
            "           8       0.00      0.00      0.00        56\n",
            "           9       0.00      0.00      0.00        81\n",
            "          10       0.00      0.00      0.00       137\n",
            "          11       0.00      0.00      0.00       172\n",
            "\n",
            "    accuracy                           0.23      2447\n",
            "   macro avg       0.02      0.08      0.03      2447\n",
            "weighted avg       0.05      0.23      0.09      2447\n",
            "\n"
          ]
        }
      ]
    },
    {
      "cell_type": "markdown",
      "metadata": {
        "id": "o_IkLlnPjD-_"
      },
      "source": [
        "# Gradient Boosting Classifier"
      ]
    },
    {
      "cell_type": "code",
      "metadata": {
        "colab": {
          "base_uri": "https://localhost:8080/"
        },
        "id": "I53CDjWukUpx",
        "outputId": "4b041a7f-3b3b-4241-dfc5-cdde85f9d3d9"
      },
      "source": [
        "pipeline = Pipeline(\n",
        "    [(\"preprocessing\", preprocessing), (\"gb\", GradientBoostingClassifier())], verbose=True\n",
        ")\n",
        "\n",
        "pipeline.fit(X_train, y_train)\n"
      ],
      "execution_count": 69,
      "outputs": [
        {
          "output_type": "stream",
          "name": "stdout",
          "text": [
            "[Pipeline] ..... (step 1 of 2) Processing preprocessing, total=   0.0s\n",
            "[Pipeline] ................ (step 2 of 2) Processing gb, total=  30.3s\n"
          ]
        },
        {
          "output_type": "execute_result",
          "data": {
            "text/plain": [
              "Pipeline(memory=None,\n",
              "         steps=[('preprocessing',\n",
              "                 ColumnTransformer(n_jobs=None, remainder='passthrough',\n",
              "                                   sparse_threshold=0.3,\n",
              "                                   transformer_weights=None,\n",
              "                                   transformers=[('scale',\n",
              "                                                  StandardScaler(copy=True,\n",
              "                                                                 with_mean=True,\n",
              "                                                                 with_std=True),\n",
              "                                                  ['device_id', 'event_id'])],\n",
              "                                   verbose=False)),\n",
              "                ('gb',\n",
              "                 GradientBoostingClassifier(ccp_alpha=0.0,\n",
              "                                            criterion='friedman_mse', init=None,\n",
              "                                            le...='deviance',\n",
              "                                            max_depth=3, max_features=None,\n",
              "                                            max_leaf_nodes=None,\n",
              "                                            min_impurity_decrease=0.0,\n",
              "                                            min_impurity_split=None,\n",
              "                                            min_samples_leaf=1,\n",
              "                                            min_samples_split=2,\n",
              "                                            min_weight_fraction_leaf=0.0,\n",
              "                                            n_estimators=100,\n",
              "                                            n_iter_no_change=None,\n",
              "                                            presort='deprecated',\n",
              "                                            random_state=None, subsample=1.0,\n",
              "                                            tol=0.0001, validation_fraction=0.1,\n",
              "                                            verbose=0, warm_start=False))],\n",
              "         verbose=True)"
            ]
          },
          "metadata": {},
          "execution_count": 69
        }
      ]
    },
    {
      "cell_type": "code",
      "metadata": {
        "colab": {
          "base_uri": "https://localhost:8080/"
        },
        "id": "p0Yu_fE5kUsh",
        "outputId": "24158e80-f918-41f6-8487-b70490be859a"
      },
      "source": [
        "grid = {'gb__n_estimators': [100], \n",
        "          'gb__max_depth': [5],\n",
        "          'gb__loss': ['deviance']}\n",
        "\n",
        "model = GridSearchCV(pipeline, grid, verbose=1, cv=3)\n",
        "model.fit(X_train, y_train)\n"
      ],
      "execution_count": 70,
      "outputs": [
        {
          "output_type": "stream",
          "name": "stdout",
          "text": [
            "Fitting 3 folds for each of 1 candidates, totalling 3 fits\n",
            "[Pipeline] ..... (step 1 of 2) Processing preprocessing, total=   0.0s\n"
          ]
        },
        {
          "output_type": "stream",
          "name": "stderr",
          "text": [
            "[Parallel(n_jobs=1)]: Using backend SequentialBackend with 1 concurrent workers.\n"
          ]
        },
        {
          "output_type": "stream",
          "name": "stdout",
          "text": [
            "[Pipeline] ................ (step 2 of 2) Processing gb, total=  27.3s\n",
            "[Pipeline] ..... (step 1 of 2) Processing preprocessing, total=   0.0s\n",
            "[Pipeline] ................ (step 2 of 2) Processing gb, total=  27.3s\n",
            "[Pipeline] ..... (step 1 of 2) Processing preprocessing, total=   0.0s\n",
            "[Pipeline] ................ (step 2 of 2) Processing gb, total=  27.1s\n",
            "[Pipeline] ..... (step 1 of 2) Processing preprocessing, total=   0.0s\n"
          ]
        },
        {
          "output_type": "stream",
          "name": "stderr",
          "text": [
            "[Parallel(n_jobs=1)]: Done   3 out of   3 | elapsed:  1.4min finished\n"
          ]
        },
        {
          "output_type": "stream",
          "name": "stdout",
          "text": [
            "[Pipeline] ................ (step 2 of 2) Processing gb, total=  40.9s\n"
          ]
        },
        {
          "output_type": "execute_result",
          "data": {
            "text/plain": [
              "GridSearchCV(cv=3, error_score=nan,\n",
              "             estimator=Pipeline(memory=None,\n",
              "                                steps=[('preprocessing',\n",
              "                                        ColumnTransformer(n_jobs=None,\n",
              "                                                          remainder='passthrough',\n",
              "                                                          sparse_threshold=0.3,\n",
              "                                                          transformer_weights=None,\n",
              "                                                          transformers=[('scale',\n",
              "                                                                         StandardScaler(copy=True,\n",
              "                                                                                        with_mean=True,\n",
              "                                                                                        with_std=True),\n",
              "                                                                         ['device_id',\n",
              "                                                                          'event_id'])],\n",
              "                                                          verbose=False)),\n",
              "                                       ('gb',\n",
              "                                        GradientBoostingClassifier(ccp_alp...\n",
              "                                                                   n_estimators=100,\n",
              "                                                                   n_iter_no_change=None,\n",
              "                                                                   presort='deprecated',\n",
              "                                                                   random_state=None,\n",
              "                                                                   subsample=1.0,\n",
              "                                                                   tol=0.0001,\n",
              "                                                                   validation_fraction=0.1,\n",
              "                                                                   verbose=0,\n",
              "                                                                   warm_start=False))],\n",
              "                                verbose=True),\n",
              "             iid='deprecated', n_jobs=None,\n",
              "             param_grid={'gb__loss': ['deviance'], 'gb__max_depth': [5],\n",
              "                         'gb__n_estimators': [100]},\n",
              "             pre_dispatch='2*n_jobs', refit=True, return_train_score=False,\n",
              "             scoring=None, verbose=1)"
            ]
          },
          "metadata": {},
          "execution_count": 70
        }
      ]
    },
    {
      "cell_type": "code",
      "metadata": {
        "colab": {
          "base_uri": "https://localhost:8080/"
        },
        "id": "wvPaWiMvkUu-",
        "outputId": "09ba0b98-081f-432b-e325-7ead0bcc9bca"
      },
      "source": [
        "model.best_params_  "
      ],
      "execution_count": 71,
      "outputs": [
        {
          "output_type": "execute_result",
          "data": {
            "text/plain": [
              "{'gb__loss': 'deviance', 'gb__max_depth': 5, 'gb__n_estimators': 100}"
            ]
          },
          "metadata": {},
          "execution_count": 71
        }
      ]
    },
    {
      "cell_type": "code",
      "metadata": {
        "colab": {
          "base_uri": "https://localhost:8080/"
        },
        "id": "4Bp4iDxtnubH",
        "outputId": "63495380-409b-4e67-efdd-bb2b9dabc001"
      },
      "source": [
        "# Model still appears to be extremely overfitting\n",
        "train_score = model.score(X_train, y_train)\n",
        "test_score = model.score(X_test, y_test)\n",
        "\n",
        "print(f\"Train score: {train_score}\")\n",
        "print(f\"Test score: {test_score}\")\n"
      ],
      "execution_count": 72,
      "outputs": [
        {
          "output_type": "stream",
          "name": "stdout",
          "text": [
            "Train score: 1.0\n",
            "Test score: 1.0\n"
          ]
        }
      ]
    },
    {
      "cell_type": "code",
      "metadata": {
        "colab": {
          "base_uri": "https://localhost:8080/",
          "height": 414
        },
        "id": "VlW05Xj2kUxM",
        "outputId": "a4704ce9-1f0c-44ed-fd6b-59e2c1df9368"
      },
      "source": [
        "y_pred = model.predict(X_test)\n",
        "\n",
        "con_mat = pd.DataFrame(\n",
        "    confusion_matrix(y_test, y_pred),\n",
        "    index=[\n",
        "        \"Actual M22-\",\n",
        "        \"Actual M23-26\",\n",
        "        \"Actual M27-28\",\n",
        "        \"Actual M29-31\",\n",
        "        \"Actual M32-38\",\n",
        "        \"Actual M39+\",\n",
        "        \"Actual F23-\",\n",
        "        \"Actual F24-26\",\n",
        "        \"Actual F27-28\",\n",
        "        \"Actual F29-32\",\n",
        "        \"Actual F33-42\",\n",
        "        \"Actual F43+\",\n",
        "    ],\n",
        "    columns=[\n",
        "        \"Predicted M22-\",\n",
        "        \"Predicted M23-26\",\n",
        "        \"Predicted M27-28\",\n",
        "        \"Predicted M29-31\",\n",
        "        \"Predicted M32-38\",\n",
        "        \"Predicted M39+\",\n",
        "        \"Predicted F23-\",\n",
        "        \"Predicted F24-26\",\n",
        "        \"Predicted F27-28\",\n",
        "        \"Predicted F29-32\",\n",
        "        \"Predicted F33-42\",\n",
        "        \"Predicted F43+\",\n",
        "    ],\n",
        ")\n",
        "con_mat.style.background_gradient(axis=None)\n"
      ],
      "execution_count": 73,
      "outputs": [
        {
          "output_type": "execute_result",
          "data": {
            "text/html": [
              "<style  type=\"text/css\" >\n",
              "#T_c71b1ebc_3858_11ec_baf8_0242ac1c0002row0_col0{\n",
              "            background-color:  #d6d6e9;\n",
              "            color:  #000000;\n",
              "        }#T_c71b1ebc_3858_11ec_baf8_0242ac1c0002row0_col1,#T_c71b1ebc_3858_11ec_baf8_0242ac1c0002row0_col2,#T_c71b1ebc_3858_11ec_baf8_0242ac1c0002row0_col3,#T_c71b1ebc_3858_11ec_baf8_0242ac1c0002row0_col4,#T_c71b1ebc_3858_11ec_baf8_0242ac1c0002row0_col5,#T_c71b1ebc_3858_11ec_baf8_0242ac1c0002row0_col6,#T_c71b1ebc_3858_11ec_baf8_0242ac1c0002row0_col7,#T_c71b1ebc_3858_11ec_baf8_0242ac1c0002row0_col8,#T_c71b1ebc_3858_11ec_baf8_0242ac1c0002row0_col9,#T_c71b1ebc_3858_11ec_baf8_0242ac1c0002row0_col10,#T_c71b1ebc_3858_11ec_baf8_0242ac1c0002row0_col11,#T_c71b1ebc_3858_11ec_baf8_0242ac1c0002row1_col0,#T_c71b1ebc_3858_11ec_baf8_0242ac1c0002row1_col2,#T_c71b1ebc_3858_11ec_baf8_0242ac1c0002row1_col3,#T_c71b1ebc_3858_11ec_baf8_0242ac1c0002row1_col4,#T_c71b1ebc_3858_11ec_baf8_0242ac1c0002row1_col5,#T_c71b1ebc_3858_11ec_baf8_0242ac1c0002row1_col6,#T_c71b1ebc_3858_11ec_baf8_0242ac1c0002row1_col7,#T_c71b1ebc_3858_11ec_baf8_0242ac1c0002row1_col8,#T_c71b1ebc_3858_11ec_baf8_0242ac1c0002row1_col9,#T_c71b1ebc_3858_11ec_baf8_0242ac1c0002row1_col10,#T_c71b1ebc_3858_11ec_baf8_0242ac1c0002row1_col11,#T_c71b1ebc_3858_11ec_baf8_0242ac1c0002row2_col0,#T_c71b1ebc_3858_11ec_baf8_0242ac1c0002row2_col1,#T_c71b1ebc_3858_11ec_baf8_0242ac1c0002row2_col3,#T_c71b1ebc_3858_11ec_baf8_0242ac1c0002row2_col4,#T_c71b1ebc_3858_11ec_baf8_0242ac1c0002row2_col5,#T_c71b1ebc_3858_11ec_baf8_0242ac1c0002row2_col6,#T_c71b1ebc_3858_11ec_baf8_0242ac1c0002row2_col7,#T_c71b1ebc_3858_11ec_baf8_0242ac1c0002row2_col8,#T_c71b1ebc_3858_11ec_baf8_0242ac1c0002row2_col9,#T_c71b1ebc_3858_11ec_baf8_0242ac1c0002row2_col10,#T_c71b1ebc_3858_11ec_baf8_0242ac1c0002row2_col11,#T_c71b1ebc_3858_11ec_baf8_0242ac1c0002row3_col0,#T_c71b1ebc_3858_11ec_baf8_0242ac1c0002row3_col1,#T_c71b1ebc_3858_11ec_baf8_0242ac1c0002row3_col2,#T_c71b1ebc_3858_11ec_baf8_0242ac1c0002row3_col4,#T_c71b1ebc_3858_11ec_baf8_0242ac1c0002row3_col5,#T_c71b1ebc_3858_11ec_baf8_0242ac1c0002row3_col6,#T_c71b1ebc_3858_11ec_baf8_0242ac1c0002row3_col7,#T_c71b1ebc_3858_11ec_baf8_0242ac1c0002row3_col8,#T_c71b1ebc_3858_11ec_baf8_0242ac1c0002row3_col9,#T_c71b1ebc_3858_11ec_baf8_0242ac1c0002row3_col10,#T_c71b1ebc_3858_11ec_baf8_0242ac1c0002row3_col11,#T_c71b1ebc_3858_11ec_baf8_0242ac1c0002row4_col0,#T_c71b1ebc_3858_11ec_baf8_0242ac1c0002row4_col1,#T_c71b1ebc_3858_11ec_baf8_0242ac1c0002row4_col2,#T_c71b1ebc_3858_11ec_baf8_0242ac1c0002row4_col3,#T_c71b1ebc_3858_11ec_baf8_0242ac1c0002row4_col5,#T_c71b1ebc_3858_11ec_baf8_0242ac1c0002row4_col6,#T_c71b1ebc_3858_11ec_baf8_0242ac1c0002row4_col7,#T_c71b1ebc_3858_11ec_baf8_0242ac1c0002row4_col8,#T_c71b1ebc_3858_11ec_baf8_0242ac1c0002row4_col9,#T_c71b1ebc_3858_11ec_baf8_0242ac1c0002row4_col10,#T_c71b1ebc_3858_11ec_baf8_0242ac1c0002row4_col11,#T_c71b1ebc_3858_11ec_baf8_0242ac1c0002row5_col0,#T_c71b1ebc_3858_11ec_baf8_0242ac1c0002row5_col1,#T_c71b1ebc_3858_11ec_baf8_0242ac1c0002row5_col2,#T_c71b1ebc_3858_11ec_baf8_0242ac1c0002row5_col3,#T_c71b1ebc_3858_11ec_baf8_0242ac1c0002row5_col4,#T_c71b1ebc_3858_11ec_baf8_0242ac1c0002row5_col6,#T_c71b1ebc_3858_11ec_baf8_0242ac1c0002row5_col7,#T_c71b1ebc_3858_11ec_baf8_0242ac1c0002row5_col8,#T_c71b1ebc_3858_11ec_baf8_0242ac1c0002row5_col9,#T_c71b1ebc_3858_11ec_baf8_0242ac1c0002row5_col10,#T_c71b1ebc_3858_11ec_baf8_0242ac1c0002row5_col11,#T_c71b1ebc_3858_11ec_baf8_0242ac1c0002row6_col0,#T_c71b1ebc_3858_11ec_baf8_0242ac1c0002row6_col1,#T_c71b1ebc_3858_11ec_baf8_0242ac1c0002row6_col2,#T_c71b1ebc_3858_11ec_baf8_0242ac1c0002row6_col3,#T_c71b1ebc_3858_11ec_baf8_0242ac1c0002row6_col4,#T_c71b1ebc_3858_11ec_baf8_0242ac1c0002row6_col5,#T_c71b1ebc_3858_11ec_baf8_0242ac1c0002row6_col7,#T_c71b1ebc_3858_11ec_baf8_0242ac1c0002row6_col8,#T_c71b1ebc_3858_11ec_baf8_0242ac1c0002row6_col9,#T_c71b1ebc_3858_11ec_baf8_0242ac1c0002row6_col10,#T_c71b1ebc_3858_11ec_baf8_0242ac1c0002row6_col11,#T_c71b1ebc_3858_11ec_baf8_0242ac1c0002row7_col0,#T_c71b1ebc_3858_11ec_baf8_0242ac1c0002row7_col1,#T_c71b1ebc_3858_11ec_baf8_0242ac1c0002row7_col2,#T_c71b1ebc_3858_11ec_baf8_0242ac1c0002row7_col3,#T_c71b1ebc_3858_11ec_baf8_0242ac1c0002row7_col4,#T_c71b1ebc_3858_11ec_baf8_0242ac1c0002row7_col5,#T_c71b1ebc_3858_11ec_baf8_0242ac1c0002row7_col6,#T_c71b1ebc_3858_11ec_baf8_0242ac1c0002row7_col8,#T_c71b1ebc_3858_11ec_baf8_0242ac1c0002row7_col9,#T_c71b1ebc_3858_11ec_baf8_0242ac1c0002row7_col10,#T_c71b1ebc_3858_11ec_baf8_0242ac1c0002row7_col11,#T_c71b1ebc_3858_11ec_baf8_0242ac1c0002row8_col0,#T_c71b1ebc_3858_11ec_baf8_0242ac1c0002row8_col1,#T_c71b1ebc_3858_11ec_baf8_0242ac1c0002row8_col2,#T_c71b1ebc_3858_11ec_baf8_0242ac1c0002row8_col3,#T_c71b1ebc_3858_11ec_baf8_0242ac1c0002row8_col4,#T_c71b1ebc_3858_11ec_baf8_0242ac1c0002row8_col5,#T_c71b1ebc_3858_11ec_baf8_0242ac1c0002row8_col6,#T_c71b1ebc_3858_11ec_baf8_0242ac1c0002row8_col7,#T_c71b1ebc_3858_11ec_baf8_0242ac1c0002row8_col9,#T_c71b1ebc_3858_11ec_baf8_0242ac1c0002row8_col10,#T_c71b1ebc_3858_11ec_baf8_0242ac1c0002row8_col11,#T_c71b1ebc_3858_11ec_baf8_0242ac1c0002row9_col0,#T_c71b1ebc_3858_11ec_baf8_0242ac1c0002row9_col1,#T_c71b1ebc_3858_11ec_baf8_0242ac1c0002row9_col2,#T_c71b1ebc_3858_11ec_baf8_0242ac1c0002row9_col3,#T_c71b1ebc_3858_11ec_baf8_0242ac1c0002row9_col4,#T_c71b1ebc_3858_11ec_baf8_0242ac1c0002row9_col5,#T_c71b1ebc_3858_11ec_baf8_0242ac1c0002row9_col6,#T_c71b1ebc_3858_11ec_baf8_0242ac1c0002row9_col7,#T_c71b1ebc_3858_11ec_baf8_0242ac1c0002row9_col8,#T_c71b1ebc_3858_11ec_baf8_0242ac1c0002row9_col10,#T_c71b1ebc_3858_11ec_baf8_0242ac1c0002row9_col11,#T_c71b1ebc_3858_11ec_baf8_0242ac1c0002row10_col0,#T_c71b1ebc_3858_11ec_baf8_0242ac1c0002row10_col1,#T_c71b1ebc_3858_11ec_baf8_0242ac1c0002row10_col2,#T_c71b1ebc_3858_11ec_baf8_0242ac1c0002row10_col3,#T_c71b1ebc_3858_11ec_baf8_0242ac1c0002row10_col4,#T_c71b1ebc_3858_11ec_baf8_0242ac1c0002row10_col5,#T_c71b1ebc_3858_11ec_baf8_0242ac1c0002row10_col6,#T_c71b1ebc_3858_11ec_baf8_0242ac1c0002row10_col7,#T_c71b1ebc_3858_11ec_baf8_0242ac1c0002row10_col8,#T_c71b1ebc_3858_11ec_baf8_0242ac1c0002row10_col9,#T_c71b1ebc_3858_11ec_baf8_0242ac1c0002row10_col11,#T_c71b1ebc_3858_11ec_baf8_0242ac1c0002row11_col0,#T_c71b1ebc_3858_11ec_baf8_0242ac1c0002row11_col1,#T_c71b1ebc_3858_11ec_baf8_0242ac1c0002row11_col2,#T_c71b1ebc_3858_11ec_baf8_0242ac1c0002row11_col3,#T_c71b1ebc_3858_11ec_baf8_0242ac1c0002row11_col4,#T_c71b1ebc_3858_11ec_baf8_0242ac1c0002row11_col5,#T_c71b1ebc_3858_11ec_baf8_0242ac1c0002row11_col6,#T_c71b1ebc_3858_11ec_baf8_0242ac1c0002row11_col7,#T_c71b1ebc_3858_11ec_baf8_0242ac1c0002row11_col8,#T_c71b1ebc_3858_11ec_baf8_0242ac1c0002row11_col9,#T_c71b1ebc_3858_11ec_baf8_0242ac1c0002row11_col10{\n",
              "            background-color:  #fff7fb;\n",
              "            color:  #000000;\n",
              "        }#T_c71b1ebc_3858_11ec_baf8_0242ac1c0002row1_col1{\n",
              "            background-color:  #8cb3d5;\n",
              "            color:  #000000;\n",
              "        }#T_c71b1ebc_3858_11ec_baf8_0242ac1c0002row2_col2{\n",
              "            background-color:  #bcc7e1;\n",
              "            color:  #000000;\n",
              "        }#T_c71b1ebc_3858_11ec_baf8_0242ac1c0002row3_col3{\n",
              "            background-color:  #7dacd1;\n",
              "            color:  #000000;\n",
              "        }#T_c71b1ebc_3858_11ec_baf8_0242ac1c0002row4_col4{\n",
              "            background-color:  #03466e;\n",
              "            color:  #f1f1f1;\n",
              "        }#T_c71b1ebc_3858_11ec_baf8_0242ac1c0002row5_col5{\n",
              "            background-color:  #023858;\n",
              "            color:  #f1f1f1;\n",
              "        }#T_c71b1ebc_3858_11ec_baf8_0242ac1c0002row6_col6{\n",
              "            background-color:  #f5eef6;\n",
              "            color:  #000000;\n",
              "        }#T_c71b1ebc_3858_11ec_baf8_0242ac1c0002row7_col7{\n",
              "            background-color:  #f8f1f8;\n",
              "            color:  #000000;\n",
              "        }#T_c71b1ebc_3858_11ec_baf8_0242ac1c0002row8_col8{\n",
              "            background-color:  #f0eaf4;\n",
              "            color:  #000000;\n",
              "        }#T_c71b1ebc_3858_11ec_baf8_0242ac1c0002row9_col9{\n",
              "            background-color:  #e8e4f0;\n",
              "            color:  #000000;\n",
              "        }#T_c71b1ebc_3858_11ec_baf8_0242ac1c0002row10_col10{\n",
              "            background-color:  #d2d3e7;\n",
              "            color:  #000000;\n",
              "        }#T_c71b1ebc_3858_11ec_baf8_0242ac1c0002row11_col11{\n",
              "            background-color:  #bfc9e1;\n",
              "            color:  #000000;\n",
              "        }</style><table id=\"T_c71b1ebc_3858_11ec_baf8_0242ac1c0002\" class=\"dataframe\"><thead>    <tr>        <th class=\"blank level0\" ></th>        <th class=\"col_heading level0 col0\" >Predicted M22-</th>        <th class=\"col_heading level0 col1\" >Predicted M23-26</th>        <th class=\"col_heading level0 col2\" >Predicted M27-28</th>        <th class=\"col_heading level0 col3\" >Predicted M29-31</th>        <th class=\"col_heading level0 col4\" >Predicted M32-38</th>        <th class=\"col_heading level0 col5\" >Predicted M39+</th>        <th class=\"col_heading level0 col6\" >Predicted F23-</th>        <th class=\"col_heading level0 col7\" >Predicted F24-26</th>        <th class=\"col_heading level0 col8\" >Predicted F27-28</th>        <th class=\"col_heading level0 col9\" >Predicted F29-32</th>        <th class=\"col_heading level0 col10\" >Predicted F33-42</th>        <th class=\"col_heading level0 col11\" >Predicted F43+</th>    </tr></thead><tbody>\n",
              "                <tr>\n",
              "                        <th id=\"T_c71b1ebc_3858_11ec_baf8_0242ac1c0002level0_row0\" class=\"row_heading level0 row0\" >Actual M22-</th>\n",
              "                        <td id=\"T_c71b1ebc_3858_11ec_baf8_0242ac1c0002row0_col0\" class=\"data row0 col0\" >127</td>\n",
              "                        <td id=\"T_c71b1ebc_3858_11ec_baf8_0242ac1c0002row0_col1\" class=\"data row0 col1\" >0</td>\n",
              "                        <td id=\"T_c71b1ebc_3858_11ec_baf8_0242ac1c0002row0_col2\" class=\"data row0 col2\" >0</td>\n",
              "                        <td id=\"T_c71b1ebc_3858_11ec_baf8_0242ac1c0002row0_col3\" class=\"data row0 col3\" >0</td>\n",
              "                        <td id=\"T_c71b1ebc_3858_11ec_baf8_0242ac1c0002row0_col4\" class=\"data row0 col4\" >0</td>\n",
              "                        <td id=\"T_c71b1ebc_3858_11ec_baf8_0242ac1c0002row0_col5\" class=\"data row0 col5\" >0</td>\n",
              "                        <td id=\"T_c71b1ebc_3858_11ec_baf8_0242ac1c0002row0_col6\" class=\"data row0 col6\" >0</td>\n",
              "                        <td id=\"T_c71b1ebc_3858_11ec_baf8_0242ac1c0002row0_col7\" class=\"data row0 col7\" >0</td>\n",
              "                        <td id=\"T_c71b1ebc_3858_11ec_baf8_0242ac1c0002row0_col8\" class=\"data row0 col8\" >0</td>\n",
              "                        <td id=\"T_c71b1ebc_3858_11ec_baf8_0242ac1c0002row0_col9\" class=\"data row0 col9\" >0</td>\n",
              "                        <td id=\"T_c71b1ebc_3858_11ec_baf8_0242ac1c0002row0_col10\" class=\"data row0 col10\" >0</td>\n",
              "                        <td id=\"T_c71b1ebc_3858_11ec_baf8_0242ac1c0002row0_col11\" class=\"data row0 col11\" >0</td>\n",
              "            </tr>\n",
              "            <tr>\n",
              "                        <th id=\"T_c71b1ebc_3858_11ec_baf8_0242ac1c0002level0_row1\" class=\"row_heading level0 row1\" >Actual M23-26</th>\n",
              "                        <td id=\"T_c71b1ebc_3858_11ec_baf8_0242ac1c0002row1_col0\" class=\"data row1 col0\" >0</td>\n",
              "                        <td id=\"T_c71b1ebc_3858_11ec_baf8_0242ac1c0002row1_col1\" class=\"data row1 col1\" >250</td>\n",
              "                        <td id=\"T_c71b1ebc_3858_11ec_baf8_0242ac1c0002row1_col2\" class=\"data row1 col2\" >0</td>\n",
              "                        <td id=\"T_c71b1ebc_3858_11ec_baf8_0242ac1c0002row1_col3\" class=\"data row1 col3\" >0</td>\n",
              "                        <td id=\"T_c71b1ebc_3858_11ec_baf8_0242ac1c0002row1_col4\" class=\"data row1 col4\" >0</td>\n",
              "                        <td id=\"T_c71b1ebc_3858_11ec_baf8_0242ac1c0002row1_col5\" class=\"data row1 col5\" >0</td>\n",
              "                        <td id=\"T_c71b1ebc_3858_11ec_baf8_0242ac1c0002row1_col6\" class=\"data row1 col6\" >0</td>\n",
              "                        <td id=\"T_c71b1ebc_3858_11ec_baf8_0242ac1c0002row1_col7\" class=\"data row1 col7\" >0</td>\n",
              "                        <td id=\"T_c71b1ebc_3858_11ec_baf8_0242ac1c0002row1_col8\" class=\"data row1 col8\" >0</td>\n",
              "                        <td id=\"T_c71b1ebc_3858_11ec_baf8_0242ac1c0002row1_col9\" class=\"data row1 col9\" >0</td>\n",
              "                        <td id=\"T_c71b1ebc_3858_11ec_baf8_0242ac1c0002row1_col10\" class=\"data row1 col10\" >0</td>\n",
              "                        <td id=\"T_c71b1ebc_3858_11ec_baf8_0242ac1c0002row1_col11\" class=\"data row1 col11\" >0</td>\n",
              "            </tr>\n",
              "            <tr>\n",
              "                        <th id=\"T_c71b1ebc_3858_11ec_baf8_0242ac1c0002level0_row2\" class=\"row_heading level0 row2\" >Actual M27-28</th>\n",
              "                        <td id=\"T_c71b1ebc_3858_11ec_baf8_0242ac1c0002row2_col0\" class=\"data row2 col0\" >0</td>\n",
              "                        <td id=\"T_c71b1ebc_3858_11ec_baf8_0242ac1c0002row2_col1\" class=\"data row2 col1\" >0</td>\n",
              "                        <td id=\"T_c71b1ebc_3858_11ec_baf8_0242ac1c0002row2_col2\" class=\"data row2 col2\" >177</td>\n",
              "                        <td id=\"T_c71b1ebc_3858_11ec_baf8_0242ac1c0002row2_col3\" class=\"data row2 col3\" >0</td>\n",
              "                        <td id=\"T_c71b1ebc_3858_11ec_baf8_0242ac1c0002row2_col4\" class=\"data row2 col4\" >0</td>\n",
              "                        <td id=\"T_c71b1ebc_3858_11ec_baf8_0242ac1c0002row2_col5\" class=\"data row2 col5\" >0</td>\n",
              "                        <td id=\"T_c71b1ebc_3858_11ec_baf8_0242ac1c0002row2_col6\" class=\"data row2 col6\" >0</td>\n",
              "                        <td id=\"T_c71b1ebc_3858_11ec_baf8_0242ac1c0002row2_col7\" class=\"data row2 col7\" >0</td>\n",
              "                        <td id=\"T_c71b1ebc_3858_11ec_baf8_0242ac1c0002row2_col8\" class=\"data row2 col8\" >0</td>\n",
              "                        <td id=\"T_c71b1ebc_3858_11ec_baf8_0242ac1c0002row2_col9\" class=\"data row2 col9\" >0</td>\n",
              "                        <td id=\"T_c71b1ebc_3858_11ec_baf8_0242ac1c0002row2_col10\" class=\"data row2 col10\" >0</td>\n",
              "                        <td id=\"T_c71b1ebc_3858_11ec_baf8_0242ac1c0002row2_col11\" class=\"data row2 col11\" >0</td>\n",
              "            </tr>\n",
              "            <tr>\n",
              "                        <th id=\"T_c71b1ebc_3858_11ec_baf8_0242ac1c0002level0_row3\" class=\"row_heading level0 row3\" >Actual M29-31</th>\n",
              "                        <td id=\"T_c71b1ebc_3858_11ec_baf8_0242ac1c0002row3_col0\" class=\"data row3 col0\" >0</td>\n",
              "                        <td id=\"T_c71b1ebc_3858_11ec_baf8_0242ac1c0002row3_col1\" class=\"data row3 col1\" >0</td>\n",
              "                        <td id=\"T_c71b1ebc_3858_11ec_baf8_0242ac1c0002row3_col2\" class=\"data row3 col2\" >0</td>\n",
              "                        <td id=\"T_c71b1ebc_3858_11ec_baf8_0242ac1c0002row3_col3\" class=\"data row3 col3\" >273</td>\n",
              "                        <td id=\"T_c71b1ebc_3858_11ec_baf8_0242ac1c0002row3_col4\" class=\"data row3 col4\" >0</td>\n",
              "                        <td id=\"T_c71b1ebc_3858_11ec_baf8_0242ac1c0002row3_col5\" class=\"data row3 col5\" >0</td>\n",
              "                        <td id=\"T_c71b1ebc_3858_11ec_baf8_0242ac1c0002row3_col6\" class=\"data row3 col6\" >0</td>\n",
              "                        <td id=\"T_c71b1ebc_3858_11ec_baf8_0242ac1c0002row3_col7\" class=\"data row3 col7\" >0</td>\n",
              "                        <td id=\"T_c71b1ebc_3858_11ec_baf8_0242ac1c0002row3_col8\" class=\"data row3 col8\" >0</td>\n",
              "                        <td id=\"T_c71b1ebc_3858_11ec_baf8_0242ac1c0002row3_col9\" class=\"data row3 col9\" >0</td>\n",
              "                        <td id=\"T_c71b1ebc_3858_11ec_baf8_0242ac1c0002row3_col10\" class=\"data row3 col10\" >0</td>\n",
              "                        <td id=\"T_c71b1ebc_3858_11ec_baf8_0242ac1c0002row3_col11\" class=\"data row3 col11\" >0</td>\n",
              "            </tr>\n",
              "            <tr>\n",
              "                        <th id=\"T_c71b1ebc_3858_11ec_baf8_0242ac1c0002level0_row4\" class=\"row_heading level0 row4\" >Actual M32-38</th>\n",
              "                        <td id=\"T_c71b1ebc_3858_11ec_baf8_0242ac1c0002row4_col0\" class=\"data row4 col0\" >0</td>\n",
              "                        <td id=\"T_c71b1ebc_3858_11ec_baf8_0242ac1c0002row4_col1\" class=\"data row4 col1\" >0</td>\n",
              "                        <td id=\"T_c71b1ebc_3858_11ec_baf8_0242ac1c0002row4_col2\" class=\"data row4 col2\" >0</td>\n",
              "                        <td id=\"T_c71b1ebc_3858_11ec_baf8_0242ac1c0002row4_col3\" class=\"data row4 col3\" >0</td>\n",
              "                        <td id=\"T_c71b1ebc_3858_11ec_baf8_0242ac1c0002row4_col4\" class=\"data row4 col4\" >538</td>\n",
              "                        <td id=\"T_c71b1ebc_3858_11ec_baf8_0242ac1c0002row4_col5\" class=\"data row4 col5\" >0</td>\n",
              "                        <td id=\"T_c71b1ebc_3858_11ec_baf8_0242ac1c0002row4_col6\" class=\"data row4 col6\" >0</td>\n",
              "                        <td id=\"T_c71b1ebc_3858_11ec_baf8_0242ac1c0002row4_col7\" class=\"data row4 col7\" >0</td>\n",
              "                        <td id=\"T_c71b1ebc_3858_11ec_baf8_0242ac1c0002row4_col8\" class=\"data row4 col8\" >0</td>\n",
              "                        <td id=\"T_c71b1ebc_3858_11ec_baf8_0242ac1c0002row4_col9\" class=\"data row4 col9\" >0</td>\n",
              "                        <td id=\"T_c71b1ebc_3858_11ec_baf8_0242ac1c0002row4_col10\" class=\"data row4 col10\" >0</td>\n",
              "                        <td id=\"T_c71b1ebc_3858_11ec_baf8_0242ac1c0002row4_col11\" class=\"data row4 col11\" >0</td>\n",
              "            </tr>\n",
              "            <tr>\n",
              "                        <th id=\"T_c71b1ebc_3858_11ec_baf8_0242ac1c0002level0_row5\" class=\"row_heading level0 row5\" >Actual M39+</th>\n",
              "                        <td id=\"T_c71b1ebc_3858_11ec_baf8_0242ac1c0002row5_col0\" class=\"data row5 col0\" >0</td>\n",
              "                        <td id=\"T_c71b1ebc_3858_11ec_baf8_0242ac1c0002row5_col1\" class=\"data row5 col1\" >0</td>\n",
              "                        <td id=\"T_c71b1ebc_3858_11ec_baf8_0242ac1c0002row5_col2\" class=\"data row5 col2\" >0</td>\n",
              "                        <td id=\"T_c71b1ebc_3858_11ec_baf8_0242ac1c0002row5_col3\" class=\"data row5 col3\" >0</td>\n",
              "                        <td id=\"T_c71b1ebc_3858_11ec_baf8_0242ac1c0002row5_col4\" class=\"data row5 col4\" >0</td>\n",
              "                        <td id=\"T_c71b1ebc_3858_11ec_baf8_0242ac1c0002row5_col5\" class=\"data row5 col5\" >569</td>\n",
              "                        <td id=\"T_c71b1ebc_3858_11ec_baf8_0242ac1c0002row5_col6\" class=\"data row5 col6\" >0</td>\n",
              "                        <td id=\"T_c71b1ebc_3858_11ec_baf8_0242ac1c0002row5_col7\" class=\"data row5 col7\" >0</td>\n",
              "                        <td id=\"T_c71b1ebc_3858_11ec_baf8_0242ac1c0002row5_col8\" class=\"data row5 col8\" >0</td>\n",
              "                        <td id=\"T_c71b1ebc_3858_11ec_baf8_0242ac1c0002row5_col9\" class=\"data row5 col9\" >0</td>\n",
              "                        <td id=\"T_c71b1ebc_3858_11ec_baf8_0242ac1c0002row5_col10\" class=\"data row5 col10\" >0</td>\n",
              "                        <td id=\"T_c71b1ebc_3858_11ec_baf8_0242ac1c0002row5_col11\" class=\"data row5 col11\" >0</td>\n",
              "            </tr>\n",
              "            <tr>\n",
              "                        <th id=\"T_c71b1ebc_3858_11ec_baf8_0242ac1c0002level0_row6\" class=\"row_heading level0 row6\" >Actual F23-</th>\n",
              "                        <td id=\"T_c71b1ebc_3858_11ec_baf8_0242ac1c0002row6_col0\" class=\"data row6 col0\" >0</td>\n",
              "                        <td id=\"T_c71b1ebc_3858_11ec_baf8_0242ac1c0002row6_col1\" class=\"data row6 col1\" >0</td>\n",
              "                        <td id=\"T_c71b1ebc_3858_11ec_baf8_0242ac1c0002row6_col2\" class=\"data row6 col2\" >0</td>\n",
              "                        <td id=\"T_c71b1ebc_3858_11ec_baf8_0242ac1c0002row6_col3\" class=\"data row6 col3\" >0</td>\n",
              "                        <td id=\"T_c71b1ebc_3858_11ec_baf8_0242ac1c0002row6_col4\" class=\"data row6 col4\" >0</td>\n",
              "                        <td id=\"T_c71b1ebc_3858_11ec_baf8_0242ac1c0002row6_col5\" class=\"data row6 col5\" >0</td>\n",
              "                        <td id=\"T_c71b1ebc_3858_11ec_baf8_0242ac1c0002row6_col6\" class=\"data row6 col6\" >39</td>\n",
              "                        <td id=\"T_c71b1ebc_3858_11ec_baf8_0242ac1c0002row6_col7\" class=\"data row6 col7\" >0</td>\n",
              "                        <td id=\"T_c71b1ebc_3858_11ec_baf8_0242ac1c0002row6_col8\" class=\"data row6 col8\" >0</td>\n",
              "                        <td id=\"T_c71b1ebc_3858_11ec_baf8_0242ac1c0002row6_col9\" class=\"data row6 col9\" >0</td>\n",
              "                        <td id=\"T_c71b1ebc_3858_11ec_baf8_0242ac1c0002row6_col10\" class=\"data row6 col10\" >0</td>\n",
              "                        <td id=\"T_c71b1ebc_3858_11ec_baf8_0242ac1c0002row6_col11\" class=\"data row6 col11\" >0</td>\n",
              "            </tr>\n",
              "            <tr>\n",
              "                        <th id=\"T_c71b1ebc_3858_11ec_baf8_0242ac1c0002level0_row7\" class=\"row_heading level0 row7\" >Actual F24-26</th>\n",
              "                        <td id=\"T_c71b1ebc_3858_11ec_baf8_0242ac1c0002row7_col0\" class=\"data row7 col0\" >0</td>\n",
              "                        <td id=\"T_c71b1ebc_3858_11ec_baf8_0242ac1c0002row7_col1\" class=\"data row7 col1\" >0</td>\n",
              "                        <td id=\"T_c71b1ebc_3858_11ec_baf8_0242ac1c0002row7_col2\" class=\"data row7 col2\" >0</td>\n",
              "                        <td id=\"T_c71b1ebc_3858_11ec_baf8_0242ac1c0002row7_col3\" class=\"data row7 col3\" >0</td>\n",
              "                        <td id=\"T_c71b1ebc_3858_11ec_baf8_0242ac1c0002row7_col4\" class=\"data row7 col4\" >0</td>\n",
              "                        <td id=\"T_c71b1ebc_3858_11ec_baf8_0242ac1c0002row7_col5\" class=\"data row7 col5\" >0</td>\n",
              "                        <td id=\"T_c71b1ebc_3858_11ec_baf8_0242ac1c0002row7_col6\" class=\"data row7 col6\" >0</td>\n",
              "                        <td id=\"T_c71b1ebc_3858_11ec_baf8_0242ac1c0002row7_col7\" class=\"data row7 col7\" >28</td>\n",
              "                        <td id=\"T_c71b1ebc_3858_11ec_baf8_0242ac1c0002row7_col8\" class=\"data row7 col8\" >0</td>\n",
              "                        <td id=\"T_c71b1ebc_3858_11ec_baf8_0242ac1c0002row7_col9\" class=\"data row7 col9\" >0</td>\n",
              "                        <td id=\"T_c71b1ebc_3858_11ec_baf8_0242ac1c0002row7_col10\" class=\"data row7 col10\" >0</td>\n",
              "                        <td id=\"T_c71b1ebc_3858_11ec_baf8_0242ac1c0002row7_col11\" class=\"data row7 col11\" >0</td>\n",
              "            </tr>\n",
              "            <tr>\n",
              "                        <th id=\"T_c71b1ebc_3858_11ec_baf8_0242ac1c0002level0_row8\" class=\"row_heading level0 row8\" >Actual F27-28</th>\n",
              "                        <td id=\"T_c71b1ebc_3858_11ec_baf8_0242ac1c0002row8_col0\" class=\"data row8 col0\" >0</td>\n",
              "                        <td id=\"T_c71b1ebc_3858_11ec_baf8_0242ac1c0002row8_col1\" class=\"data row8 col1\" >0</td>\n",
              "                        <td id=\"T_c71b1ebc_3858_11ec_baf8_0242ac1c0002row8_col2\" class=\"data row8 col2\" >0</td>\n",
              "                        <td id=\"T_c71b1ebc_3858_11ec_baf8_0242ac1c0002row8_col3\" class=\"data row8 col3\" >0</td>\n",
              "                        <td id=\"T_c71b1ebc_3858_11ec_baf8_0242ac1c0002row8_col4\" class=\"data row8 col4\" >0</td>\n",
              "                        <td id=\"T_c71b1ebc_3858_11ec_baf8_0242ac1c0002row8_col5\" class=\"data row8 col5\" >0</td>\n",
              "                        <td id=\"T_c71b1ebc_3858_11ec_baf8_0242ac1c0002row8_col6\" class=\"data row8 col6\" >0</td>\n",
              "                        <td id=\"T_c71b1ebc_3858_11ec_baf8_0242ac1c0002row8_col7\" class=\"data row8 col7\" >0</td>\n",
              "                        <td id=\"T_c71b1ebc_3858_11ec_baf8_0242ac1c0002row8_col8\" class=\"data row8 col8\" >56</td>\n",
              "                        <td id=\"T_c71b1ebc_3858_11ec_baf8_0242ac1c0002row8_col9\" class=\"data row8 col9\" >0</td>\n",
              "                        <td id=\"T_c71b1ebc_3858_11ec_baf8_0242ac1c0002row8_col10\" class=\"data row8 col10\" >0</td>\n",
              "                        <td id=\"T_c71b1ebc_3858_11ec_baf8_0242ac1c0002row8_col11\" class=\"data row8 col11\" >0</td>\n",
              "            </tr>\n",
              "            <tr>\n",
              "                        <th id=\"T_c71b1ebc_3858_11ec_baf8_0242ac1c0002level0_row9\" class=\"row_heading level0 row9\" >Actual F29-32</th>\n",
              "                        <td id=\"T_c71b1ebc_3858_11ec_baf8_0242ac1c0002row9_col0\" class=\"data row9 col0\" >0</td>\n",
              "                        <td id=\"T_c71b1ebc_3858_11ec_baf8_0242ac1c0002row9_col1\" class=\"data row9 col1\" >0</td>\n",
              "                        <td id=\"T_c71b1ebc_3858_11ec_baf8_0242ac1c0002row9_col2\" class=\"data row9 col2\" >0</td>\n",
              "                        <td id=\"T_c71b1ebc_3858_11ec_baf8_0242ac1c0002row9_col3\" class=\"data row9 col3\" >0</td>\n",
              "                        <td id=\"T_c71b1ebc_3858_11ec_baf8_0242ac1c0002row9_col4\" class=\"data row9 col4\" >0</td>\n",
              "                        <td id=\"T_c71b1ebc_3858_11ec_baf8_0242ac1c0002row9_col5\" class=\"data row9 col5\" >0</td>\n",
              "                        <td id=\"T_c71b1ebc_3858_11ec_baf8_0242ac1c0002row9_col6\" class=\"data row9 col6\" >0</td>\n",
              "                        <td id=\"T_c71b1ebc_3858_11ec_baf8_0242ac1c0002row9_col7\" class=\"data row9 col7\" >0</td>\n",
              "                        <td id=\"T_c71b1ebc_3858_11ec_baf8_0242ac1c0002row9_col8\" class=\"data row9 col8\" >0</td>\n",
              "                        <td id=\"T_c71b1ebc_3858_11ec_baf8_0242ac1c0002row9_col9\" class=\"data row9 col9\" >81</td>\n",
              "                        <td id=\"T_c71b1ebc_3858_11ec_baf8_0242ac1c0002row9_col10\" class=\"data row9 col10\" >0</td>\n",
              "                        <td id=\"T_c71b1ebc_3858_11ec_baf8_0242ac1c0002row9_col11\" class=\"data row9 col11\" >0</td>\n",
              "            </tr>\n",
              "            <tr>\n",
              "                        <th id=\"T_c71b1ebc_3858_11ec_baf8_0242ac1c0002level0_row10\" class=\"row_heading level0 row10\" >Actual F33-42</th>\n",
              "                        <td id=\"T_c71b1ebc_3858_11ec_baf8_0242ac1c0002row10_col0\" class=\"data row10 col0\" >0</td>\n",
              "                        <td id=\"T_c71b1ebc_3858_11ec_baf8_0242ac1c0002row10_col1\" class=\"data row10 col1\" >0</td>\n",
              "                        <td id=\"T_c71b1ebc_3858_11ec_baf8_0242ac1c0002row10_col2\" class=\"data row10 col2\" >0</td>\n",
              "                        <td id=\"T_c71b1ebc_3858_11ec_baf8_0242ac1c0002row10_col3\" class=\"data row10 col3\" >0</td>\n",
              "                        <td id=\"T_c71b1ebc_3858_11ec_baf8_0242ac1c0002row10_col4\" class=\"data row10 col4\" >0</td>\n",
              "                        <td id=\"T_c71b1ebc_3858_11ec_baf8_0242ac1c0002row10_col5\" class=\"data row10 col5\" >0</td>\n",
              "                        <td id=\"T_c71b1ebc_3858_11ec_baf8_0242ac1c0002row10_col6\" class=\"data row10 col6\" >0</td>\n",
              "                        <td id=\"T_c71b1ebc_3858_11ec_baf8_0242ac1c0002row10_col7\" class=\"data row10 col7\" >0</td>\n",
              "                        <td id=\"T_c71b1ebc_3858_11ec_baf8_0242ac1c0002row10_col8\" class=\"data row10 col8\" >0</td>\n",
              "                        <td id=\"T_c71b1ebc_3858_11ec_baf8_0242ac1c0002row10_col9\" class=\"data row10 col9\" >0</td>\n",
              "                        <td id=\"T_c71b1ebc_3858_11ec_baf8_0242ac1c0002row10_col10\" class=\"data row10 col10\" >137</td>\n",
              "                        <td id=\"T_c71b1ebc_3858_11ec_baf8_0242ac1c0002row10_col11\" class=\"data row10 col11\" >0</td>\n",
              "            </tr>\n",
              "            <tr>\n",
              "                        <th id=\"T_c71b1ebc_3858_11ec_baf8_0242ac1c0002level0_row11\" class=\"row_heading level0 row11\" >Actual F43+</th>\n",
              "                        <td id=\"T_c71b1ebc_3858_11ec_baf8_0242ac1c0002row11_col0\" class=\"data row11 col0\" >0</td>\n",
              "                        <td id=\"T_c71b1ebc_3858_11ec_baf8_0242ac1c0002row11_col1\" class=\"data row11 col1\" >0</td>\n",
              "                        <td id=\"T_c71b1ebc_3858_11ec_baf8_0242ac1c0002row11_col2\" class=\"data row11 col2\" >0</td>\n",
              "                        <td id=\"T_c71b1ebc_3858_11ec_baf8_0242ac1c0002row11_col3\" class=\"data row11 col3\" >0</td>\n",
              "                        <td id=\"T_c71b1ebc_3858_11ec_baf8_0242ac1c0002row11_col4\" class=\"data row11 col4\" >0</td>\n",
              "                        <td id=\"T_c71b1ebc_3858_11ec_baf8_0242ac1c0002row11_col5\" class=\"data row11 col5\" >0</td>\n",
              "                        <td id=\"T_c71b1ebc_3858_11ec_baf8_0242ac1c0002row11_col6\" class=\"data row11 col6\" >0</td>\n",
              "                        <td id=\"T_c71b1ebc_3858_11ec_baf8_0242ac1c0002row11_col7\" class=\"data row11 col7\" >0</td>\n",
              "                        <td id=\"T_c71b1ebc_3858_11ec_baf8_0242ac1c0002row11_col8\" class=\"data row11 col8\" >0</td>\n",
              "                        <td id=\"T_c71b1ebc_3858_11ec_baf8_0242ac1c0002row11_col9\" class=\"data row11 col9\" >0</td>\n",
              "                        <td id=\"T_c71b1ebc_3858_11ec_baf8_0242ac1c0002row11_col10\" class=\"data row11 col10\" >0</td>\n",
              "                        <td id=\"T_c71b1ebc_3858_11ec_baf8_0242ac1c0002row11_col11\" class=\"data row11 col11\" >172</td>\n",
              "            </tr>\n",
              "    </tbody></table>"
            ],
            "text/plain": [
              "<pandas.io.formats.style.Styler at 0x7f629f6f62d0>"
            ]
          },
          "metadata": {},
          "execution_count": 73
        }
      ]
    },
    {
      "cell_type": "code",
      "metadata": {
        "colab": {
          "base_uri": "https://localhost:8080/"
        },
        "id": "Z-ZdcB_dkUzx",
        "outputId": "14c31238-5ef5-48ff-cce4-7a560f8055c6"
      },
      "source": [
        "print(\"Classification Report:\")\n",
        "print()\n",
        "print(classification_report(y_test, y_pred))"
      ],
      "execution_count": 74,
      "outputs": [
        {
          "output_type": "stream",
          "name": "stdout",
          "text": [
            "Classification Report:\n",
            "\n",
            "              precision    recall  f1-score   support\n",
            "\n",
            "           0       1.00      1.00      1.00       127\n",
            "           1       1.00      1.00      1.00       250\n",
            "           2       1.00      1.00      1.00       177\n",
            "           3       1.00      1.00      1.00       273\n",
            "           4       1.00      1.00      1.00       538\n",
            "           5       1.00      1.00      1.00       569\n",
            "           6       1.00      1.00      1.00        39\n",
            "           7       1.00      1.00      1.00        28\n",
            "           8       1.00      1.00      1.00        56\n",
            "           9       1.00      1.00      1.00        81\n",
            "          10       1.00      1.00      1.00       137\n",
            "          11       1.00      1.00      1.00       172\n",
            "\n",
            "    accuracy                           1.00      2447\n",
            "   macro avg       1.00      1.00      1.00      2447\n",
            "weighted avg       1.00      1.00      1.00      2447\n",
            "\n"
          ]
        }
      ]
    }
  ]
}