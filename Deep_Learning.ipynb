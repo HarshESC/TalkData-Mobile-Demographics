{
  "nbformat": 4,
  "nbformat_minor": 0,
  "metadata": {
    "colab": {
      "name": "Deep Learning.ipynb",
      "provenance": [],
      "collapsed_sections": [],
      "authorship_tag": "ABX9TyPBLXij+Lw+Jftqu6PWMYEs",
      "include_colab_link": true
    },
    "kernelspec": {
      "name": "python3",
      "display_name": "Python 3"
    },
    "language_info": {
      "name": "python"
    }
  },
  "cells": [
    {
      "cell_type": "markdown",
      "metadata": {
        "id": "view-in-github",
        "colab_type": "text"
      },
      "source": [
        "<a href=\"https://colab.research.google.com/github/HarshESC/TalkData-Mobile-Demographics/blob/main/Deep_Learning.ipynb\" target=\"_parent\"><img src=\"https://colab.research.google.com/assets/colab-badge.svg\" alt=\"Open In Colab\"/></a>"
      ]
    },
    {
      "cell_type": "code",
      "metadata": {
        "colab": {
          "base_uri": "https://localhost:8080/"
        },
        "id": "00cXoM1C7SZM",
        "outputId": "67085e96-1078-4ba1-cb75-a4356bfab91a"
      },
      "source": [
        "import warnings\n",
        "warnings.filterwarnings('ignore')\n",
        "from google.colab import drive \n",
        "drive.mount('/content/gdrive')\n",
        "import os\n",
        "os.environ['KAGGLE_CONFIG_DIR'] = \"/content/gdrive/\"\n",
        "%cd \"/content/gdrive/My Drive/Final Capstone\"\n",
        "\n",
        "import numpy as np\n",
        "import pandas as pd\n",
        "\n",
        "from sklearn.model_selection import train_test_split\n",
        "\n",
        "import tensorflow as tf\n",
        "from tensorflow.keras.optimizers import SGD\n",
        "from tensorflow.keras.utils import to_categorical\n",
        "from tensorflow.keras.models import Sequential\n",
        "from tensorflow.keras.layers import Conv2D, MaxPooling2D\n",
        "from tensorflow.keras.layers import (\n",
        "    Activation,\n",
        "    Dropout,\n",
        "    Flatten,\n",
        "    Dense,\n",
        "    BatchNormalization,\n",
        ")\n",
        "from tensorflow.keras import backend as K\n"
      ],
      "execution_count": 1,
      "outputs": [
        {
          "output_type": "stream",
          "name": "stdout",
          "text": [
            "Drive already mounted at /content/gdrive; to attempt to forcibly remount, call drive.mount(\"/content/gdrive\", force_remount=True).\n",
            "/content/gdrive/My Drive/Final Capstone\n"
          ]
        }
      ]
    },
    {
      "cell_type": "code",
      "metadata": {
        "id": "32-v5hZv8Ujo"
      },
      "source": [
        "master_df = pd.read_csv(\"master_clean.csv\")\n",
        "X = master_df.drop(columns=[\"num_group\"])\n",
        "y = master_df[\"num_group\"]\n",
        "\n",
        "X_train, X_test, y_train, y_test = train_test_split(\n",
        "    X, y, test_size=0.20, random_state=13, stratify=y\n",
        ")\n"
      ],
      "execution_count": 2,
      "outputs": []
    },
    {
      "cell_type": "code",
      "metadata": {
        "colab": {
          "base_uri": "https://localhost:8080/",
          "height": 449
        },
        "id": "C8cQacRX8tkQ",
        "outputId": "f851ab1f-362e-4fcc-80e3-7032900246cd"
      },
      "source": [
        "X_test\n"
      ],
      "execution_count": 3,
      "outputs": [
        {
          "output_type": "execute_result",
          "data": {
            "text/html": [
              "<div>\n",
              "<style scoped>\n",
              "    .dataframe tbody tr th:only-of-type {\n",
              "        vertical-align: middle;\n",
              "    }\n",
              "\n",
              "    .dataframe tbody tr th {\n",
              "        vertical-align: top;\n",
              "    }\n",
              "\n",
              "    .dataframe thead th {\n",
              "        text-align: right;\n",
              "    }\n",
              "</style>\n",
              "<table border=\"1\" class=\"dataframe\">\n",
              "  <thead>\n",
              "    <tr style=\"text-align: right;\">\n",
              "      <th></th>\n",
              "      <th>event_id</th>\n",
              "      <th>app_id</th>\n",
              "      <th>is_active</th>\n",
              "      <th>device_id</th>\n",
              "      <th>label_id_x</th>\n",
              "      <th>download_id</th>\n",
              "      <th>251</th>\n",
              "      <th>252</th>\n",
              "      <th>253</th>\n",
              "      <th>254</th>\n",
              "      <th>256</th>\n",
              "      <th>262</th>\n",
              "      <th>263</th>\n",
              "      <th>302</th>\n",
              "      <th>303</th>\n",
              "      <th>306</th>\n",
              "      <th>326</th>\n",
              "      <th>405</th>\n",
              "      <th>406</th>\n",
              "      <th>407</th>\n",
              "      <th>548</th>\n",
              "      <th>549</th>\n",
              "      <th>551</th>\n",
              "      <th>558</th>\n",
              "      <th>562</th>\n",
              "      <th>564</th>\n",
              "      <th>565</th>\n",
              "      <th>566</th>\n",
              "      <th>english_phone_brand_asus</th>\n",
              "      <th>english_phone_brand_coolpad</th>\n",
              "      <th>english_phone_brand_hammer</th>\n",
              "      <th>english_phone_brand_huawei</th>\n",
              "      <th>english_phone_brand_lshi</th>\n",
              "      <th>english_phone_brand_meizu</th>\n",
              "      <th>english_phone_brand_oppo</th>\n",
              "      <th>english_phone_brand_qiku</th>\n",
              "      <th>english_phone_brand_samsung</th>\n",
              "      <th>english_phone_brand_vivo</th>\n",
              "      <th>english_phone_brand_xiaomi</th>\n",
              "      <th>device_model_Galaxy Note 3</th>\n",
              "      <th>device_model_Galaxy Note 4</th>\n",
              "      <th>device_model_Galaxy S5</th>\n",
              "      <th>device_model_Galaxy S6</th>\n",
              "      <th>device_model_MI 3</th>\n",
              "      <th>device_model_MI 4</th>\n",
              "      <th>device_model_MX4</th>\n",
              "      <th>device_model_MX4 Pro</th>\n",
              "      <th>device_model_MX5</th>\n",
              "      <th>device_model_Mate 7</th>\n",
              "      <th>device_model_P8 Lite</th>\n",
              "      <th>device_model_P8max</th>\n",
              "      <th>device_model_R7 Plus</th>\n",
              "      <th>device_model_U3</th>\n",
              "      <th>device_model_X5SL</th>\n",
              "      <th>device_model_ZenFone 2</th>\n",
              "      <th>device_model_note顶配版</th>\n",
              "      <th>device_model_坚果手机</th>\n",
              "      <th>device_model_大神Note3</th>\n",
              "      <th>device_model_小米4C</th>\n",
              "      <th>device_model_小米note</th>\n",
              "      <th>device_model_红米2</th>\n",
              "      <th>device_model_红米2A</th>\n",
              "      <th>device_model_红米Note2</th>\n",
              "      <th>device_model_红米Note3</th>\n",
              "      <th>device_model_红米note</th>\n",
              "      <th>device_model_荣耀3C</th>\n",
              "      <th>device_model_荣耀6</th>\n",
              "      <th>device_model_荣耀6 Plus</th>\n",
              "      <th>device_model_荣耀7</th>\n",
              "      <th>device_model_荣耀7i</th>\n",
              "      <th>device_model_荣耀X2</th>\n",
              "      <th>device_model_荣耀畅玩4C</th>\n",
              "      <th>device_model_荣耀畅玩5X</th>\n",
              "      <th>device_model_超级手机1</th>\n",
              "      <th>device_model_超级手机1 Pro</th>\n",
              "      <th>device_model_超级手机1s</th>\n",
              "      <th>device_model_青春版</th>\n",
              "      <th>device_model_魅蓝NOTE</th>\n",
              "      <th>device_model_魅蓝metal</th>\n",
              "    </tr>\n",
              "  </thead>\n",
              "  <tbody>\n",
              "    <tr>\n",
              "      <th>8010</th>\n",
              "      <td>241035</td>\n",
              "      <td>-329259848532828564</td>\n",
              "      <td>0</td>\n",
              "      <td>9200003785071800248</td>\n",
              "      <td>302</td>\n",
              "      <td>8870743936538971684</td>\n",
              "      <td>0</td>\n",
              "      <td>0</td>\n",
              "      <td>0</td>\n",
              "      <td>0</td>\n",
              "      <td>0</td>\n",
              "      <td>0</td>\n",
              "      <td>0</td>\n",
              "      <td>1</td>\n",
              "      <td>0</td>\n",
              "      <td>1</td>\n",
              "      <td>0</td>\n",
              "      <td>0</td>\n",
              "      <td>0</td>\n",
              "      <td>0</td>\n",
              "      <td>0</td>\n",
              "      <td>1</td>\n",
              "      <td>0</td>\n",
              "      <td>0</td>\n",
              "      <td>0</td>\n",
              "      <td>0</td>\n",
              "      <td>0</td>\n",
              "      <td>0</td>\n",
              "      <td>0</td>\n",
              "      <td>0</td>\n",
              "      <td>0</td>\n",
              "      <td>0</td>\n",
              "      <td>0</td>\n",
              "      <td>1</td>\n",
              "      <td>0</td>\n",
              "      <td>0</td>\n",
              "      <td>0</td>\n",
              "      <td>0</td>\n",
              "      <td>0</td>\n",
              "      <td>0</td>\n",
              "      <td>0</td>\n",
              "      <td>0</td>\n",
              "      <td>0</td>\n",
              "      <td>0</td>\n",
              "      <td>0</td>\n",
              "      <td>0</td>\n",
              "      <td>0</td>\n",
              "      <td>1</td>\n",
              "      <td>0</td>\n",
              "      <td>0</td>\n",
              "      <td>0</td>\n",
              "      <td>0</td>\n",
              "      <td>0</td>\n",
              "      <td>0</td>\n",
              "      <td>0</td>\n",
              "      <td>0</td>\n",
              "      <td>0</td>\n",
              "      <td>0</td>\n",
              "      <td>0</td>\n",
              "      <td>0</td>\n",
              "      <td>0</td>\n",
              "      <td>0</td>\n",
              "      <td>0</td>\n",
              "      <td>0</td>\n",
              "      <td>0</td>\n",
              "      <td>0</td>\n",
              "      <td>0</td>\n",
              "      <td>0</td>\n",
              "      <td>0</td>\n",
              "      <td>0</td>\n",
              "      <td>0</td>\n",
              "      <td>0</td>\n",
              "      <td>0</td>\n",
              "      <td>0</td>\n",
              "      <td>0</td>\n",
              "      <td>0</td>\n",
              "      <td>0</td>\n",
              "      <td>0</td>\n",
              "      <td>0</td>\n",
              "    </tr>\n",
              "    <tr>\n",
              "      <th>8000</th>\n",
              "      <td>241035</td>\n",
              "      <td>-5305696816021977482</td>\n",
              "      <td>0</td>\n",
              "      <td>9200003785071800248</td>\n",
              "      <td>548</td>\n",
              "      <td>3894306969049822766</td>\n",
              "      <td>0</td>\n",
              "      <td>0</td>\n",
              "      <td>0</td>\n",
              "      <td>0</td>\n",
              "      <td>0</td>\n",
              "      <td>0</td>\n",
              "      <td>0</td>\n",
              "      <td>0</td>\n",
              "      <td>0</td>\n",
              "      <td>0</td>\n",
              "      <td>0</td>\n",
              "      <td>0</td>\n",
              "      <td>0</td>\n",
              "      <td>0</td>\n",
              "      <td>1</td>\n",
              "      <td>0</td>\n",
              "      <td>0</td>\n",
              "      <td>0</td>\n",
              "      <td>0</td>\n",
              "      <td>0</td>\n",
              "      <td>0</td>\n",
              "      <td>0</td>\n",
              "      <td>0</td>\n",
              "      <td>0</td>\n",
              "      <td>0</td>\n",
              "      <td>0</td>\n",
              "      <td>0</td>\n",
              "      <td>1</td>\n",
              "      <td>0</td>\n",
              "      <td>0</td>\n",
              "      <td>0</td>\n",
              "      <td>0</td>\n",
              "      <td>0</td>\n",
              "      <td>0</td>\n",
              "      <td>0</td>\n",
              "      <td>0</td>\n",
              "      <td>0</td>\n",
              "      <td>0</td>\n",
              "      <td>0</td>\n",
              "      <td>0</td>\n",
              "      <td>0</td>\n",
              "      <td>1</td>\n",
              "      <td>0</td>\n",
              "      <td>0</td>\n",
              "      <td>0</td>\n",
              "      <td>0</td>\n",
              "      <td>0</td>\n",
              "      <td>0</td>\n",
              "      <td>0</td>\n",
              "      <td>0</td>\n",
              "      <td>0</td>\n",
              "      <td>0</td>\n",
              "      <td>0</td>\n",
              "      <td>0</td>\n",
              "      <td>0</td>\n",
              "      <td>0</td>\n",
              "      <td>0</td>\n",
              "      <td>0</td>\n",
              "      <td>0</td>\n",
              "      <td>0</td>\n",
              "      <td>0</td>\n",
              "      <td>0</td>\n",
              "      <td>0</td>\n",
              "      <td>0</td>\n",
              "      <td>0</td>\n",
              "      <td>0</td>\n",
              "      <td>0</td>\n",
              "      <td>0</td>\n",
              "      <td>0</td>\n",
              "      <td>0</td>\n",
              "      <td>0</td>\n",
              "      <td>0</td>\n",
              "      <td>0</td>\n",
              "    </tr>\n",
              "    <tr>\n",
              "      <th>5534</th>\n",
              "      <td>119250</td>\n",
              "      <td>7324914609217160422</td>\n",
              "      <td>0</td>\n",
              "      <td>-1540573801328129375</td>\n",
              "      <td>302</td>\n",
              "      <td>5784340807889031047</td>\n",
              "      <td>0</td>\n",
              "      <td>0</td>\n",
              "      <td>0</td>\n",
              "      <td>0</td>\n",
              "      <td>0</td>\n",
              "      <td>0</td>\n",
              "      <td>0</td>\n",
              "      <td>1</td>\n",
              "      <td>1</td>\n",
              "      <td>0</td>\n",
              "      <td>0</td>\n",
              "      <td>0</td>\n",
              "      <td>0</td>\n",
              "      <td>0</td>\n",
              "      <td>1</td>\n",
              "      <td>0</td>\n",
              "      <td>0</td>\n",
              "      <td>0</td>\n",
              "      <td>0</td>\n",
              "      <td>0</td>\n",
              "      <td>0</td>\n",
              "      <td>0</td>\n",
              "      <td>0</td>\n",
              "      <td>1</td>\n",
              "      <td>0</td>\n",
              "      <td>0</td>\n",
              "      <td>0</td>\n",
              "      <td>0</td>\n",
              "      <td>0</td>\n",
              "      <td>0</td>\n",
              "      <td>0</td>\n",
              "      <td>0</td>\n",
              "      <td>0</td>\n",
              "      <td>0</td>\n",
              "      <td>0</td>\n",
              "      <td>0</td>\n",
              "      <td>0</td>\n",
              "      <td>0</td>\n",
              "      <td>0</td>\n",
              "      <td>0</td>\n",
              "      <td>0</td>\n",
              "      <td>0</td>\n",
              "      <td>0</td>\n",
              "      <td>0</td>\n",
              "      <td>0</td>\n",
              "      <td>0</td>\n",
              "      <td>0</td>\n",
              "      <td>0</td>\n",
              "      <td>0</td>\n",
              "      <td>0</td>\n",
              "      <td>0</td>\n",
              "      <td>0</td>\n",
              "      <td>0</td>\n",
              "      <td>0</td>\n",
              "      <td>0</td>\n",
              "      <td>0</td>\n",
              "      <td>0</td>\n",
              "      <td>0</td>\n",
              "      <td>0</td>\n",
              "      <td>0</td>\n",
              "      <td>0</td>\n",
              "      <td>0</td>\n",
              "      <td>0</td>\n",
              "      <td>0</td>\n",
              "      <td>0</td>\n",
              "      <td>0</td>\n",
              "      <td>0</td>\n",
              "      <td>0</td>\n",
              "      <td>0</td>\n",
              "      <td>0</td>\n",
              "      <td>0</td>\n",
              "      <td>0</td>\n",
              "      <td>0</td>\n",
              "    </tr>\n",
              "    <tr>\n",
              "      <th>1252</th>\n",
              "      <td>9494</td>\n",
              "      <td>-2601201025890389322</td>\n",
              "      <td>0</td>\n",
              "      <td>-2922663263004220160</td>\n",
              "      <td>405</td>\n",
              "      <td>-5523864288894609482</td>\n",
              "      <td>0</td>\n",
              "      <td>0</td>\n",
              "      <td>0</td>\n",
              "      <td>0</td>\n",
              "      <td>0</td>\n",
              "      <td>0</td>\n",
              "      <td>0</td>\n",
              "      <td>0</td>\n",
              "      <td>0</td>\n",
              "      <td>0</td>\n",
              "      <td>0</td>\n",
              "      <td>1</td>\n",
              "      <td>0</td>\n",
              "      <td>0</td>\n",
              "      <td>1</td>\n",
              "      <td>1</td>\n",
              "      <td>0</td>\n",
              "      <td>0</td>\n",
              "      <td>0</td>\n",
              "      <td>0</td>\n",
              "      <td>0</td>\n",
              "      <td>0</td>\n",
              "      <td>0</td>\n",
              "      <td>0</td>\n",
              "      <td>0</td>\n",
              "      <td>1</td>\n",
              "      <td>0</td>\n",
              "      <td>0</td>\n",
              "      <td>0</td>\n",
              "      <td>0</td>\n",
              "      <td>0</td>\n",
              "      <td>0</td>\n",
              "      <td>0</td>\n",
              "      <td>0</td>\n",
              "      <td>0</td>\n",
              "      <td>0</td>\n",
              "      <td>0</td>\n",
              "      <td>0</td>\n",
              "      <td>0</td>\n",
              "      <td>0</td>\n",
              "      <td>0</td>\n",
              "      <td>0</td>\n",
              "      <td>0</td>\n",
              "      <td>0</td>\n",
              "      <td>0</td>\n",
              "      <td>0</td>\n",
              "      <td>0</td>\n",
              "      <td>0</td>\n",
              "      <td>0</td>\n",
              "      <td>0</td>\n",
              "      <td>0</td>\n",
              "      <td>0</td>\n",
              "      <td>0</td>\n",
              "      <td>0</td>\n",
              "      <td>0</td>\n",
              "      <td>0</td>\n",
              "      <td>0</td>\n",
              "      <td>0</td>\n",
              "      <td>0</td>\n",
              "      <td>0</td>\n",
              "      <td>1</td>\n",
              "      <td>0</td>\n",
              "      <td>0</td>\n",
              "      <td>0</td>\n",
              "      <td>0</td>\n",
              "      <td>0</td>\n",
              "      <td>0</td>\n",
              "      <td>0</td>\n",
              "      <td>0</td>\n",
              "      <td>0</td>\n",
              "      <td>0</td>\n",
              "      <td>0</td>\n",
              "      <td>0</td>\n",
              "    </tr>\n",
              "    <tr>\n",
              "      <th>4503</th>\n",
              "      <td>73440</td>\n",
              "      <td>7316250158002095415</td>\n",
              "      <td>0</td>\n",
              "      <td>2407726915124545999</td>\n",
              "      <td>251</td>\n",
              "      <td>-8722767000582910202</td>\n",
              "      <td>1</td>\n",
              "      <td>1</td>\n",
              "      <td>0</td>\n",
              "      <td>0</td>\n",
              "      <td>0</td>\n",
              "      <td>0</td>\n",
              "      <td>0</td>\n",
              "      <td>0</td>\n",
              "      <td>0</td>\n",
              "      <td>0</td>\n",
              "      <td>0</td>\n",
              "      <td>0</td>\n",
              "      <td>1</td>\n",
              "      <td>1</td>\n",
              "      <td>1</td>\n",
              "      <td>1</td>\n",
              "      <td>0</td>\n",
              "      <td>0</td>\n",
              "      <td>0</td>\n",
              "      <td>0</td>\n",
              "      <td>0</td>\n",
              "      <td>0</td>\n",
              "      <td>0</td>\n",
              "      <td>0</td>\n",
              "      <td>0</td>\n",
              "      <td>0</td>\n",
              "      <td>0</td>\n",
              "      <td>0</td>\n",
              "      <td>0</td>\n",
              "      <td>0</td>\n",
              "      <td>0</td>\n",
              "      <td>0</td>\n",
              "      <td>1</td>\n",
              "      <td>0</td>\n",
              "      <td>0</td>\n",
              "      <td>0</td>\n",
              "      <td>0</td>\n",
              "      <td>0</td>\n",
              "      <td>0</td>\n",
              "      <td>0</td>\n",
              "      <td>0</td>\n",
              "      <td>0</td>\n",
              "      <td>0</td>\n",
              "      <td>0</td>\n",
              "      <td>0</td>\n",
              "      <td>0</td>\n",
              "      <td>0</td>\n",
              "      <td>0</td>\n",
              "      <td>0</td>\n",
              "      <td>0</td>\n",
              "      <td>0</td>\n",
              "      <td>0</td>\n",
              "      <td>0</td>\n",
              "      <td>0</td>\n",
              "      <td>0</td>\n",
              "      <td>0</td>\n",
              "      <td>1</td>\n",
              "      <td>0</td>\n",
              "      <td>0</td>\n",
              "      <td>0</td>\n",
              "      <td>0</td>\n",
              "      <td>0</td>\n",
              "      <td>0</td>\n",
              "      <td>0</td>\n",
              "      <td>0</td>\n",
              "      <td>0</td>\n",
              "      <td>0</td>\n",
              "      <td>0</td>\n",
              "      <td>0</td>\n",
              "      <td>0</td>\n",
              "      <td>0</td>\n",
              "      <td>0</td>\n",
              "      <td>0</td>\n",
              "    </tr>\n",
              "    <tr>\n",
              "      <th>...</th>\n",
              "      <td>...</td>\n",
              "      <td>...</td>\n",
              "      <td>...</td>\n",
              "      <td>...</td>\n",
              "      <td>...</td>\n",
              "      <td>...</td>\n",
              "      <td>...</td>\n",
              "      <td>...</td>\n",
              "      <td>...</td>\n",
              "      <td>...</td>\n",
              "      <td>...</td>\n",
              "      <td>...</td>\n",
              "      <td>...</td>\n",
              "      <td>...</td>\n",
              "      <td>...</td>\n",
              "      <td>...</td>\n",
              "      <td>...</td>\n",
              "      <td>...</td>\n",
              "      <td>...</td>\n",
              "      <td>...</td>\n",
              "      <td>...</td>\n",
              "      <td>...</td>\n",
              "      <td>...</td>\n",
              "      <td>...</td>\n",
              "      <td>...</td>\n",
              "      <td>...</td>\n",
              "      <td>...</td>\n",
              "      <td>...</td>\n",
              "      <td>...</td>\n",
              "      <td>...</td>\n",
              "      <td>...</td>\n",
              "      <td>...</td>\n",
              "      <td>...</td>\n",
              "      <td>...</td>\n",
              "      <td>...</td>\n",
              "      <td>...</td>\n",
              "      <td>...</td>\n",
              "      <td>...</td>\n",
              "      <td>...</td>\n",
              "      <td>...</td>\n",
              "      <td>...</td>\n",
              "      <td>...</td>\n",
              "      <td>...</td>\n",
              "      <td>...</td>\n",
              "      <td>...</td>\n",
              "      <td>...</td>\n",
              "      <td>...</td>\n",
              "      <td>...</td>\n",
              "      <td>...</td>\n",
              "      <td>...</td>\n",
              "      <td>...</td>\n",
              "      <td>...</td>\n",
              "      <td>...</td>\n",
              "      <td>...</td>\n",
              "      <td>...</td>\n",
              "      <td>...</td>\n",
              "      <td>...</td>\n",
              "      <td>...</td>\n",
              "      <td>...</td>\n",
              "      <td>...</td>\n",
              "      <td>...</td>\n",
              "      <td>...</td>\n",
              "      <td>...</td>\n",
              "      <td>...</td>\n",
              "      <td>...</td>\n",
              "      <td>...</td>\n",
              "      <td>...</td>\n",
              "      <td>...</td>\n",
              "      <td>...</td>\n",
              "      <td>...</td>\n",
              "      <td>...</td>\n",
              "      <td>...</td>\n",
              "      <td>...</td>\n",
              "      <td>...</td>\n",
              "      <td>...</td>\n",
              "      <td>...</td>\n",
              "      <td>...</td>\n",
              "      <td>...</td>\n",
              "      <td>...</td>\n",
              "    </tr>\n",
              "    <tr>\n",
              "      <th>3177</th>\n",
              "      <td>41529</td>\n",
              "      <td>-5720078949152207372</td>\n",
              "      <td>0</td>\n",
              "      <td>-1373869470418546394</td>\n",
              "      <td>302</td>\n",
              "      <td>-7093948419570753766</td>\n",
              "      <td>0</td>\n",
              "      <td>0</td>\n",
              "      <td>0</td>\n",
              "      <td>0</td>\n",
              "      <td>0</td>\n",
              "      <td>0</td>\n",
              "      <td>0</td>\n",
              "      <td>1</td>\n",
              "      <td>1</td>\n",
              "      <td>0</td>\n",
              "      <td>0</td>\n",
              "      <td>0</td>\n",
              "      <td>0</td>\n",
              "      <td>0</td>\n",
              "      <td>1</td>\n",
              "      <td>0</td>\n",
              "      <td>0</td>\n",
              "      <td>0</td>\n",
              "      <td>0</td>\n",
              "      <td>0</td>\n",
              "      <td>0</td>\n",
              "      <td>0</td>\n",
              "      <td>0</td>\n",
              "      <td>0</td>\n",
              "      <td>0</td>\n",
              "      <td>1</td>\n",
              "      <td>0</td>\n",
              "      <td>0</td>\n",
              "      <td>0</td>\n",
              "      <td>0</td>\n",
              "      <td>0</td>\n",
              "      <td>0</td>\n",
              "      <td>0</td>\n",
              "      <td>0</td>\n",
              "      <td>0</td>\n",
              "      <td>0</td>\n",
              "      <td>0</td>\n",
              "      <td>0</td>\n",
              "      <td>0</td>\n",
              "      <td>0</td>\n",
              "      <td>0</td>\n",
              "      <td>0</td>\n",
              "      <td>0</td>\n",
              "      <td>0</td>\n",
              "      <td>0</td>\n",
              "      <td>0</td>\n",
              "      <td>0</td>\n",
              "      <td>0</td>\n",
              "      <td>0</td>\n",
              "      <td>0</td>\n",
              "      <td>0</td>\n",
              "      <td>0</td>\n",
              "      <td>0</td>\n",
              "      <td>0</td>\n",
              "      <td>0</td>\n",
              "      <td>0</td>\n",
              "      <td>0</td>\n",
              "      <td>0</td>\n",
              "      <td>0</td>\n",
              "      <td>0</td>\n",
              "      <td>0</td>\n",
              "      <td>0</td>\n",
              "      <td>0</td>\n",
              "      <td>0</td>\n",
              "      <td>1</td>\n",
              "      <td>0</td>\n",
              "      <td>0</td>\n",
              "      <td>0</td>\n",
              "      <td>0</td>\n",
              "      <td>0</td>\n",
              "      <td>0</td>\n",
              "      <td>0</td>\n",
              "      <td>0</td>\n",
              "    </tr>\n",
              "    <tr>\n",
              "      <th>6750</th>\n",
              "      <td>166584</td>\n",
              "      <td>-6098437695588462435</td>\n",
              "      <td>0</td>\n",
              "      <td>5907292383047496113</td>\n",
              "      <td>302</td>\n",
              "      <td>-191145312540966322</td>\n",
              "      <td>0</td>\n",
              "      <td>0</td>\n",
              "      <td>0</td>\n",
              "      <td>0</td>\n",
              "      <td>0</td>\n",
              "      <td>0</td>\n",
              "      <td>0</td>\n",
              "      <td>1</td>\n",
              "      <td>0</td>\n",
              "      <td>0</td>\n",
              "      <td>1</td>\n",
              "      <td>0</td>\n",
              "      <td>0</td>\n",
              "      <td>0</td>\n",
              "      <td>1</td>\n",
              "      <td>1</td>\n",
              "      <td>0</td>\n",
              "      <td>0</td>\n",
              "      <td>0</td>\n",
              "      <td>0</td>\n",
              "      <td>0</td>\n",
              "      <td>0</td>\n",
              "      <td>0</td>\n",
              "      <td>0</td>\n",
              "      <td>0</td>\n",
              "      <td>0</td>\n",
              "      <td>0</td>\n",
              "      <td>0</td>\n",
              "      <td>0</td>\n",
              "      <td>0</td>\n",
              "      <td>0</td>\n",
              "      <td>0</td>\n",
              "      <td>1</td>\n",
              "      <td>0</td>\n",
              "      <td>0</td>\n",
              "      <td>0</td>\n",
              "      <td>0</td>\n",
              "      <td>1</td>\n",
              "      <td>0</td>\n",
              "      <td>0</td>\n",
              "      <td>0</td>\n",
              "      <td>0</td>\n",
              "      <td>0</td>\n",
              "      <td>0</td>\n",
              "      <td>0</td>\n",
              "      <td>0</td>\n",
              "      <td>0</td>\n",
              "      <td>0</td>\n",
              "      <td>0</td>\n",
              "      <td>0</td>\n",
              "      <td>0</td>\n",
              "      <td>0</td>\n",
              "      <td>0</td>\n",
              "      <td>0</td>\n",
              "      <td>0</td>\n",
              "      <td>0</td>\n",
              "      <td>0</td>\n",
              "      <td>0</td>\n",
              "      <td>0</td>\n",
              "      <td>0</td>\n",
              "      <td>0</td>\n",
              "      <td>0</td>\n",
              "      <td>0</td>\n",
              "      <td>0</td>\n",
              "      <td>0</td>\n",
              "      <td>0</td>\n",
              "      <td>0</td>\n",
              "      <td>0</td>\n",
              "      <td>0</td>\n",
              "      <td>0</td>\n",
              "      <td>0</td>\n",
              "      <td>0</td>\n",
              "      <td>0</td>\n",
              "    </tr>\n",
              "    <tr>\n",
              "      <th>5510</th>\n",
              "      <td>119250</td>\n",
              "      <td>-5720078949152207372</td>\n",
              "      <td>0</td>\n",
              "      <td>-1540573801328129375</td>\n",
              "      <td>302</td>\n",
              "      <td>-7260652750480336747</td>\n",
              "      <td>0</td>\n",
              "      <td>0</td>\n",
              "      <td>0</td>\n",
              "      <td>0</td>\n",
              "      <td>0</td>\n",
              "      <td>0</td>\n",
              "      <td>0</td>\n",
              "      <td>1</td>\n",
              "      <td>1</td>\n",
              "      <td>0</td>\n",
              "      <td>0</td>\n",
              "      <td>0</td>\n",
              "      <td>0</td>\n",
              "      <td>0</td>\n",
              "      <td>1</td>\n",
              "      <td>0</td>\n",
              "      <td>0</td>\n",
              "      <td>0</td>\n",
              "      <td>0</td>\n",
              "      <td>0</td>\n",
              "      <td>0</td>\n",
              "      <td>0</td>\n",
              "      <td>0</td>\n",
              "      <td>1</td>\n",
              "      <td>0</td>\n",
              "      <td>0</td>\n",
              "      <td>0</td>\n",
              "      <td>0</td>\n",
              "      <td>0</td>\n",
              "      <td>0</td>\n",
              "      <td>0</td>\n",
              "      <td>0</td>\n",
              "      <td>0</td>\n",
              "      <td>0</td>\n",
              "      <td>0</td>\n",
              "      <td>0</td>\n",
              "      <td>0</td>\n",
              "      <td>0</td>\n",
              "      <td>0</td>\n",
              "      <td>0</td>\n",
              "      <td>0</td>\n",
              "      <td>0</td>\n",
              "      <td>0</td>\n",
              "      <td>0</td>\n",
              "      <td>0</td>\n",
              "      <td>0</td>\n",
              "      <td>0</td>\n",
              "      <td>0</td>\n",
              "      <td>0</td>\n",
              "      <td>0</td>\n",
              "      <td>0</td>\n",
              "      <td>0</td>\n",
              "      <td>0</td>\n",
              "      <td>0</td>\n",
              "      <td>0</td>\n",
              "      <td>0</td>\n",
              "      <td>0</td>\n",
              "      <td>0</td>\n",
              "      <td>0</td>\n",
              "      <td>0</td>\n",
              "      <td>0</td>\n",
              "      <td>0</td>\n",
              "      <td>0</td>\n",
              "      <td>0</td>\n",
              "      <td>0</td>\n",
              "      <td>0</td>\n",
              "      <td>0</td>\n",
              "      <td>0</td>\n",
              "      <td>0</td>\n",
              "      <td>0</td>\n",
              "      <td>0</td>\n",
              "      <td>0</td>\n",
              "      <td>0</td>\n",
              "    </tr>\n",
              "    <tr>\n",
              "      <th>8973</th>\n",
              "      <td>293941</td>\n",
              "      <td>7324843852388795447</td>\n",
              "      <td>0</td>\n",
              "      <td>-2845809539101591108</td>\n",
              "      <td>405</td>\n",
              "      <td>4479034313287204339</td>\n",
              "      <td>0</td>\n",
              "      <td>0</td>\n",
              "      <td>0</td>\n",
              "      <td>0</td>\n",
              "      <td>0</td>\n",
              "      <td>0</td>\n",
              "      <td>0</td>\n",
              "      <td>0</td>\n",
              "      <td>0</td>\n",
              "      <td>0</td>\n",
              "      <td>0</td>\n",
              "      <td>1</td>\n",
              "      <td>0</td>\n",
              "      <td>0</td>\n",
              "      <td>1</td>\n",
              "      <td>1</td>\n",
              "      <td>0</td>\n",
              "      <td>0</td>\n",
              "      <td>0</td>\n",
              "      <td>0</td>\n",
              "      <td>0</td>\n",
              "      <td>0</td>\n",
              "      <td>0</td>\n",
              "      <td>0</td>\n",
              "      <td>0</td>\n",
              "      <td>0</td>\n",
              "      <td>0</td>\n",
              "      <td>0</td>\n",
              "      <td>0</td>\n",
              "      <td>0</td>\n",
              "      <td>0</td>\n",
              "      <td>0</td>\n",
              "      <td>1</td>\n",
              "      <td>0</td>\n",
              "      <td>0</td>\n",
              "      <td>0</td>\n",
              "      <td>0</td>\n",
              "      <td>0</td>\n",
              "      <td>0</td>\n",
              "      <td>0</td>\n",
              "      <td>0</td>\n",
              "      <td>0</td>\n",
              "      <td>0</td>\n",
              "      <td>0</td>\n",
              "      <td>0</td>\n",
              "      <td>0</td>\n",
              "      <td>0</td>\n",
              "      <td>0</td>\n",
              "      <td>0</td>\n",
              "      <td>0</td>\n",
              "      <td>0</td>\n",
              "      <td>0</td>\n",
              "      <td>0</td>\n",
              "      <td>0</td>\n",
              "      <td>0</td>\n",
              "      <td>0</td>\n",
              "      <td>1</td>\n",
              "      <td>0</td>\n",
              "      <td>0</td>\n",
              "      <td>0</td>\n",
              "      <td>0</td>\n",
              "      <td>0</td>\n",
              "      <td>0</td>\n",
              "      <td>0</td>\n",
              "      <td>0</td>\n",
              "      <td>0</td>\n",
              "      <td>0</td>\n",
              "      <td>0</td>\n",
              "      <td>0</td>\n",
              "      <td>0</td>\n",
              "      <td>0</td>\n",
              "      <td>0</td>\n",
              "      <td>0</td>\n",
              "    </tr>\n",
              "    <tr>\n",
              "      <th>3784</th>\n",
              "      <td>58455</td>\n",
              "      <td>-9050100410106163077</td>\n",
              "      <td>0</td>\n",
              "      <td>-8676244203426339853</td>\n",
              "      <td>251</td>\n",
              "      <td>720399460177048686</td>\n",
              "      <td>1</td>\n",
              "      <td>0</td>\n",
              "      <td>1</td>\n",
              "      <td>0</td>\n",
              "      <td>0</td>\n",
              "      <td>0</td>\n",
              "      <td>0</td>\n",
              "      <td>0</td>\n",
              "      <td>0</td>\n",
              "      <td>0</td>\n",
              "      <td>0</td>\n",
              "      <td>0</td>\n",
              "      <td>0</td>\n",
              "      <td>0</td>\n",
              "      <td>1</td>\n",
              "      <td>1</td>\n",
              "      <td>0</td>\n",
              "      <td>0</td>\n",
              "      <td>0</td>\n",
              "      <td>0</td>\n",
              "      <td>0</td>\n",
              "      <td>0</td>\n",
              "      <td>0</td>\n",
              "      <td>0</td>\n",
              "      <td>0</td>\n",
              "      <td>0</td>\n",
              "      <td>0</td>\n",
              "      <td>0</td>\n",
              "      <td>0</td>\n",
              "      <td>0</td>\n",
              "      <td>0</td>\n",
              "      <td>0</td>\n",
              "      <td>1</td>\n",
              "      <td>0</td>\n",
              "      <td>0</td>\n",
              "      <td>0</td>\n",
              "      <td>0</td>\n",
              "      <td>0</td>\n",
              "      <td>0</td>\n",
              "      <td>0</td>\n",
              "      <td>0</td>\n",
              "      <td>0</td>\n",
              "      <td>0</td>\n",
              "      <td>0</td>\n",
              "      <td>0</td>\n",
              "      <td>0</td>\n",
              "      <td>0</td>\n",
              "      <td>0</td>\n",
              "      <td>0</td>\n",
              "      <td>0</td>\n",
              "      <td>0</td>\n",
              "      <td>0</td>\n",
              "      <td>0</td>\n",
              "      <td>0</td>\n",
              "      <td>0</td>\n",
              "      <td>0</td>\n",
              "      <td>0</td>\n",
              "      <td>1</td>\n",
              "      <td>0</td>\n",
              "      <td>0</td>\n",
              "      <td>0</td>\n",
              "      <td>0</td>\n",
              "      <td>0</td>\n",
              "      <td>0</td>\n",
              "      <td>0</td>\n",
              "      <td>0</td>\n",
              "      <td>0</td>\n",
              "      <td>0</td>\n",
              "      <td>0</td>\n",
              "      <td>0</td>\n",
              "      <td>0</td>\n",
              "      <td>0</td>\n",
              "      <td>0</td>\n",
              "    </tr>\n",
              "  </tbody>\n",
              "</table>\n",
              "<p>2447 rows × 79 columns</p>\n",
              "</div>"
            ],
            "text/plain": [
              "      event_id               app_id  ...  device_model_魅蓝NOTE  device_model_魅蓝metal\n",
              "8010    241035  -329259848532828564  ...                    0                     0\n",
              "8000    241035 -5305696816021977482  ...                    0                     0\n",
              "5534    119250  7324914609217160422  ...                    0                     0\n",
              "1252      9494 -2601201025890389322  ...                    0                     0\n",
              "4503     73440  7316250158002095415  ...                    0                     0\n",
              "...        ...                  ...  ...                  ...                   ...\n",
              "3177     41529 -5720078949152207372  ...                    0                     0\n",
              "6750    166584 -6098437695588462435  ...                    0                     0\n",
              "5510    119250 -5720078949152207372  ...                    0                     0\n",
              "8973    293941  7324843852388795447  ...                    0                     0\n",
              "3784     58455 -9050100410106163077  ...                    0                     0\n",
              "\n",
              "[2447 rows x 79 columns]"
            ]
          },
          "metadata": {},
          "execution_count": 3
        }
      ]
    },
    {
      "cell_type": "code",
      "metadata": {
        "colab": {
          "base_uri": "https://localhost:8080/"
        },
        "id": "uy29E6s58qFw",
        "outputId": "4eac2f55-d2cb-40d7-bf28-5a0a4a7a00c7"
      },
      "source": [
        "y_test\n"
      ],
      "execution_count": 4,
      "outputs": [
        {
          "output_type": "execute_result",
          "data": {
            "text/plain": [
              "8010    1\n",
              "8000    1\n",
              "5534    0\n",
              "1252    0\n",
              "4503    1\n",
              "       ..\n",
              "3177    8\n",
              "6750    0\n",
              "5510    0\n",
              "8973    4\n",
              "3784    1\n",
              "Name: num_group, Length: 2447, dtype: int64"
            ]
          },
          "metadata": {},
          "execution_count": 4
        }
      ]
    },
    {
      "cell_type": "code",
      "metadata": {
        "colab": {
          "base_uri": "https://localhost:8080/"
        },
        "id": "4JmSf11G8tOw",
        "outputId": "a8ecbe66-0792-4be1-c6f0-3aaa23a16827"
      },
      "source": [
        "master_df[\"num_group\"].value_counts()\n"
      ],
      "execution_count": 5,
      "outputs": [
        {
          "output_type": "execute_result",
          "data": {
            "text/plain": [
              "5     2842\n",
              "4     2690\n",
              "3     1366\n",
              "1     1250\n",
              "2      885\n",
              "11     857\n",
              "10     683\n",
              "0      637\n",
              "9      403\n",
              "8      282\n",
              "6      194\n",
              "7      142\n",
              "Name: num_group, dtype: int64"
            ]
          },
          "metadata": {},
          "execution_count": 5
        }
      ]
    },
    {
      "cell_type": "code",
      "metadata": {
        "id": "GqxmmCTf9FMp"
      },
      "source": [
        "# Output_dim = 12 because there are 12 different age/gender groups\n",
        "output_dim = 12\n"
      ],
      "execution_count": 6,
      "outputs": []
    },
    {
      "cell_type": "code",
      "metadata": {
        "id": "WNKISkde9JS4"
      },
      "source": [
        "X_train_np = X_train.to_numpy()\n",
        "X_test_np = X_test.to_numpy()\n",
        "y_train = to_categorical(y_train, output_dim)\n",
        "y_test = to_categorical(y_test, output_dim)\n"
      ],
      "execution_count": 7,
      "outputs": []
    },
    {
      "cell_type": "markdown",
      "metadata": {
        "id": "O5WNq59h9QcI"
      },
      "source": [
        "# 3 Layer RELU Model with ADAM Optimizer\n"
      ]
    },
    {
      "cell_type": "code",
      "metadata": {
        "id": "fY_ZKoNq9Nnx"
      },
      "source": [
        "model = Sequential()\n",
        "model.add(Dense(128, input_dim=X_train_np.shape[1], activation=\"relu\"))\n",
        "model.add(Dense(64, activation=\"relu\"))\n",
        "model.add(Dense(12, activation=\"softmax\"))\n"
      ],
      "execution_count": 8,
      "outputs": []
    },
    {
      "cell_type": "code",
      "metadata": {
        "id": "CUmZQDJ49VGY"
      },
      "source": [
        "model.compile(loss=\"categorical_crossentropy\", optimizer=\"adam\", metrics=[\"accuracy\"])\n"
      ],
      "execution_count": 9,
      "outputs": []
    },
    {
      "cell_type": "code",
      "metadata": {
        "colab": {
          "base_uri": "https://localhost:8080/"
        },
        "id": "ATVPSjH09VI4",
        "outputId": "75c7f458-f514-4908-a4f1-a604f23277d7"
      },
      "source": [
        "model.fit(X_train, y_train, batch_size=128, epochs=20, verbose=1)\n"
      ],
      "execution_count": 10,
      "outputs": [
        {
          "output_type": "stream",
          "name": "stdout",
          "text": [
            "Epoch 1/20\n",
            "77/77 [==============================] - 1s 2ms/step - loss: 144428256831995904.0000 - accuracy: 0.1612\n",
            "Epoch 2/20\n",
            "77/77 [==============================] - 0s 2ms/step - loss: 25122343898578944.0000 - accuracy: 0.1709\n",
            "Epoch 3/20\n",
            "77/77 [==============================] - 0s 2ms/step - loss: 20149549158891520.0000 - accuracy: 0.1740\n",
            "Epoch 4/20\n",
            "77/77 [==============================] - 0s 2ms/step - loss: 16967618342682624.0000 - accuracy: 0.1692\n",
            "Epoch 5/20\n",
            "77/77 [==============================] - 0s 2ms/step - loss: 14389785414074368.0000 - accuracy: 0.1702\n",
            "Epoch 6/20\n",
            "77/77 [==============================] - 0s 2ms/step - loss: 12388376825036800.0000 - accuracy: 0.1705\n",
            "Epoch 7/20\n",
            "77/77 [==============================] - 0s 2ms/step - loss: 12513431240310784.0000 - accuracy: 0.1792\n",
            "Epoch 8/20\n",
            "77/77 [==============================] - 0s 2ms/step - loss: 10716036819058688.0000 - accuracy: 0.1664\n",
            "Epoch 9/20\n",
            "77/77 [==============================] - 0s 2ms/step - loss: 10049222745260032.0000 - accuracy: 0.1531\n",
            "Epoch 10/20\n",
            "77/77 [==============================] - 0s 2ms/step - loss: 9462012669067264.0000 - accuracy: 0.1742\n",
            "Epoch 11/20\n",
            "77/77 [==============================] - 0s 2ms/step - loss: 8157918864080896.0000 - accuracy: 0.1688\n",
            "Epoch 12/20\n",
            "77/77 [==============================] - 0s 2ms/step - loss: 7273488997941248.0000 - accuracy: 0.1548\n",
            "Epoch 13/20\n",
            "77/77 [==============================] - 0s 2ms/step - loss: 7078407825260544.0000 - accuracy: 0.1667\n",
            "Epoch 14/20\n",
            "77/77 [==============================] - 0s 2ms/step - loss: 6196948465876992.0000 - accuracy: 0.2000\n",
            "Epoch 15/20\n",
            "77/77 [==============================] - 0s 2ms/step - loss: 5761891364241408.0000 - accuracy: 0.2036\n",
            "Epoch 16/20\n",
            "77/77 [==============================] - 0s 2ms/step - loss: 6048489163194368.0000 - accuracy: 0.2059\n",
            "Epoch 17/20\n",
            "77/77 [==============================] - 0s 2ms/step - loss: 4307639865442304.0000 - accuracy: 0.2146\n",
            "Epoch 18/20\n",
            "77/77 [==============================] - 0s 2ms/step - loss: 5018128119496704.0000 - accuracy: 0.2059\n",
            "Epoch 19/20\n",
            "77/77 [==============================] - 0s 2ms/step - loss: 3636899386228736.0000 - accuracy: 0.2278\n",
            "Epoch 20/20\n",
            "77/77 [==============================] - 0s 2ms/step - loss: 3147263182372864.0000 - accuracy: 0.2291\n"
          ]
        },
        {
          "output_type": "execute_result",
          "data": {
            "text/plain": [
              "<keras.callbacks.History at 0x7f959da4b650>"
            ]
          },
          "metadata": {},
          "execution_count": 10
        }
      ]
    },
    {
      "cell_type": "code",
      "metadata": {
        "colab": {
          "base_uri": "https://localhost:8080/"
        },
        "id": "ZG8zJoA59VLa",
        "outputId": "b21a2801-2b87-428a-f920-1fc9192b6ce9"
      },
      "source": [
        "score = model.evaluate(X_test, y_test, verbose=0)\n",
        "print(\"Test accuracy:\", score[1])\n"
      ],
      "execution_count": 11,
      "outputs": [
        {
          "output_type": "stream",
          "name": "stdout",
          "text": [
            "Test accuracy: 0.2149570882320404\n"
          ]
        }
      ]
    },
    {
      "cell_type": "code",
      "metadata": {
        "id": "5jvvgPr_9VNj"
      },
      "source": [
        "y_pred = model.predict(X_test)\n",
        "y_test_arg = tf.argmax(y_test, 1)\n",
        "y_pred_arg = tf.argmax(y_pred, 1)\n"
      ],
      "execution_count": 12,
      "outputs": []
    },
    {
      "cell_type": "code",
      "metadata": {
        "colab": {
          "base_uri": "https://localhost:8080/"
        },
        "id": "4mDNf2yb9VQK",
        "outputId": "adf562ee-00db-4a2a-f4de-506e39568f2d"
      },
      "source": [
        "res = tf.math.confusion_matrix(y_test_arg, y_pred_arg)\n",
        "print(res)\n"
      ],
      "execution_count": 13,
      "outputs": [
        {
          "output_type": "stream",
          "name": "stdout",
          "text": [
            "tf.Tensor(\n",
            "[[  0   0   0  11   0  90   0   0   0   5  18   3]\n",
            " [  0   0   0  10   2 207   0   0   0   4  17  10]\n",
            " [  0   0   0  14   0 142   0   0   0   5  12   4]\n",
            " [  0   0   1  18   0 229   3   0   0   7  11   4]\n",
            " [  0   0   1  51  12 426   0   0   0  13  19  16]\n",
            " [  0   1   0  35   7 475   4   0   0   8  24  15]\n",
            " [  0   0   0   3   0  34   0   0   0   0   1   1]\n",
            " [  0   0   0   0   0  28   0   0   0   0   0   0]\n",
            " [  0   0   0   0   1  50   0   0   0   1   2   2]\n",
            " [  0   1   0   8   0  65   0   0   0   2   4   1]\n",
            " [  0   0   0  12   0 103   0   0   0   4  14   4]\n",
            " [  0   1   0  12   2 148   0   0   0   1   3   5]], shape=(12, 12), dtype=int32)\n"
          ]
        }
      ]
    },
    {
      "cell_type": "markdown",
      "metadata": {
        "id": "RUJgNy_h9ulh"
      },
      "source": [
        "# 3 Layer RELU Model with SGD Optimizer\n"
      ]
    },
    {
      "cell_type": "code",
      "metadata": {
        "id": "OiRh6iR89VSk"
      },
      "source": [
        "model = Sequential()\n",
        "model.add(Dense(128, input_dim=X_train_np.shape[1], activation=\"relu\"))\n",
        "model.add(Dense(64, activation=\"relu\"))\n",
        "model.add(Dense(12, activation=\"softmax\"))\n"
      ],
      "execution_count": 14,
      "outputs": []
    },
    {
      "cell_type": "code",
      "metadata": {
        "id": "svwol4pQ9zDh"
      },
      "source": [
        "model.compile(loss=\"categorical_crossentropy\", optimizer=\"sgd\", metrics=[\"accuracy\"])\n"
      ],
      "execution_count": 15,
      "outputs": []
    },
    {
      "cell_type": "code",
      "metadata": {
        "colab": {
          "base_uri": "https://localhost:8080/"
        },
        "id": "UE5UoRaH95jR",
        "outputId": "30fdbbc2-6977-49f7-c066-a981b5fcb1c6"
      },
      "source": [
        "model.fit(X_train, y_train, batch_size=128, epochs=20, verbose=1)\n"
      ],
      "execution_count": 16,
      "outputs": [
        {
          "output_type": "stream",
          "name": "stdout",
          "text": [
            "Epoch 1/20\n",
            "77/77 [==============================] - 0s 2ms/step - loss: nan - accuracy: 0.0529\n",
            "Epoch 2/20\n",
            "77/77 [==============================] - 0s 2ms/step - loss: nan - accuracy: 0.0521\n",
            "Epoch 3/20\n",
            "77/77 [==============================] - 0s 2ms/step - loss: nan - accuracy: 0.0521\n",
            "Epoch 4/20\n",
            "77/77 [==============================] - 0s 2ms/step - loss: nan - accuracy: 0.0521\n",
            "Epoch 5/20\n",
            "77/77 [==============================] - 0s 2ms/step - loss: nan - accuracy: 0.0521\n",
            "Epoch 6/20\n",
            "77/77 [==============================] - 0s 2ms/step - loss: nan - accuracy: 0.0521\n",
            "Epoch 7/20\n",
            "77/77 [==============================] - 0s 2ms/step - loss: nan - accuracy: 0.0521\n",
            "Epoch 8/20\n",
            "77/77 [==============================] - 0s 2ms/step - loss: nan - accuracy: 0.0521\n",
            "Epoch 9/20\n",
            "77/77 [==============================] - 0s 2ms/step - loss: nan - accuracy: 0.0521\n",
            "Epoch 10/20\n",
            "77/77 [==============================] - 0s 2ms/step - loss: nan - accuracy: 0.0521\n",
            "Epoch 11/20\n",
            "77/77 [==============================] - 0s 2ms/step - loss: nan - accuracy: 0.0521\n",
            "Epoch 12/20\n",
            "77/77 [==============================] - 0s 2ms/step - loss: nan - accuracy: 0.0521\n",
            "Epoch 13/20\n",
            "77/77 [==============================] - 0s 2ms/step - loss: nan - accuracy: 0.0521\n",
            "Epoch 14/20\n",
            "77/77 [==============================] - 0s 2ms/step - loss: nan - accuracy: 0.0521\n",
            "Epoch 15/20\n",
            "77/77 [==============================] - 0s 2ms/step - loss: nan - accuracy: 0.0521\n",
            "Epoch 16/20\n",
            "77/77 [==============================] - 0s 2ms/step - loss: nan - accuracy: 0.0521\n",
            "Epoch 17/20\n",
            "77/77 [==============================] - 0s 2ms/step - loss: nan - accuracy: 0.0521\n",
            "Epoch 18/20\n",
            "77/77 [==============================] - 0s 2ms/step - loss: nan - accuracy: 0.0521\n",
            "Epoch 19/20\n",
            "77/77 [==============================] - 0s 2ms/step - loss: nan - accuracy: 0.0521\n",
            "Epoch 20/20\n",
            "77/77 [==============================] - 0s 2ms/step - loss: nan - accuracy: 0.0521\n"
          ]
        },
        {
          "output_type": "execute_result",
          "data": {
            "text/plain": [
              "<keras.callbacks.History at 0x7f95977f5350>"
            ]
          },
          "metadata": {},
          "execution_count": 16
        }
      ]
    },
    {
      "cell_type": "code",
      "metadata": {
        "colab": {
          "base_uri": "https://localhost:8080/"
        },
        "id": "EOjLLPx099cJ",
        "outputId": "7742ee73-e254-4d6d-8a8a-42b83ff5fbac"
      },
      "source": [
        "score = model.evaluate(X_test, y_test, verbose=0)\n",
        "print(\"Test accuracy:\", score[1])\n"
      ],
      "execution_count": 17,
      "outputs": [
        {
          "output_type": "stream",
          "name": "stdout",
          "text": [
            "Test accuracy: 0.051900286227464676\n"
          ]
        }
      ]
    },
    {
      "cell_type": "code",
      "metadata": {
        "id": "Jz8WlqH09_2g"
      },
      "source": [
        "y_pred = model.predict(X_test)\n",
        "y_test_arg = tf.argmax(y_test, 1)\n",
        "y_pred_arg = tf.argmax(y_pred, 1)\n"
      ],
      "execution_count": 18,
      "outputs": []
    },
    {
      "cell_type": "code",
      "metadata": {
        "colab": {
          "base_uri": "https://localhost:8080/"
        },
        "id": "evF6PnRq-B73",
        "outputId": "62279c82-e95f-45c1-bb10-e079fa766d43"
      },
      "source": [
        "res = tf.math.confusion_matrix(y_test_arg, y_pred_arg)\n",
        "print(res)\n"
      ],
      "execution_count": 19,
      "outputs": [
        {
          "output_type": "stream",
          "name": "stdout",
          "text": [
            "tf.Tensor(\n",
            "[[127   0   0   0   0   0   0   0   0   0   0   0]\n",
            " [250   0   0   0   0   0   0   0   0   0   0   0]\n",
            " [177   0   0   0   0   0   0   0   0   0   0   0]\n",
            " [273   0   0   0   0   0   0   0   0   0   0   0]\n",
            " [538   0   0   0   0   0   0   0   0   0   0   0]\n",
            " [569   0   0   0   0   0   0   0   0   0   0   0]\n",
            " [ 39   0   0   0   0   0   0   0   0   0   0   0]\n",
            " [ 28   0   0   0   0   0   0   0   0   0   0   0]\n",
            " [ 56   0   0   0   0   0   0   0   0   0   0   0]\n",
            " [ 81   0   0   0   0   0   0   0   0   0   0   0]\n",
            " [137   0   0   0   0   0   0   0   0   0   0   0]\n",
            " [172   0   0   0   0   0   0   0   0   0   0   0]], shape=(12, 12), dtype=int32)\n"
          ]
        }
      ]
    },
    {
      "cell_type": "markdown",
      "metadata": {
        "id": "yQ3F-Ysf-F6b"
      },
      "source": [
        "# 3 Layer TANH Model with ADAM Optimizer"
      ]
    },
    {
      "cell_type": "code",
      "metadata": {
        "id": "-yjnFwN9-FQJ"
      },
      "source": [
        "model = Sequential()\n",
        "model.add(Dense(128, input_dim=X_train_np.shape[1], activation=\"tanh\"))\n",
        "model.add(Dense(64, activation=\"tanh\"))\n",
        "model.add(Dense(12, activation=\"softmax\"))\n"
      ],
      "execution_count": 20,
      "outputs": []
    },
    {
      "cell_type": "code",
      "metadata": {
        "id": "ynK-BDPG-Q3g"
      },
      "source": [
        "model.compile(loss=\"categorical_crossentropy\", optimizer=\"adam\", metrics=[\"accuracy\"])\n"
      ],
      "execution_count": 21,
      "outputs": []
    },
    {
      "cell_type": "code",
      "metadata": {
        "colab": {
          "base_uri": "https://localhost:8080/"
        },
        "id": "C5SCifEj-S5v",
        "outputId": "68fb4c17-f375-4a78-8bcc-901d04219cd7"
      },
      "source": [
        "model.fit(X_train, y_train, batch_size=128, epochs=20, verbose=1)\n"
      ],
      "execution_count": 22,
      "outputs": [
        {
          "output_type": "stream",
          "name": "stdout",
          "text": [
            "Epoch 1/20\n",
            "77/77 [==============================] - 1s 2ms/step - loss: 2.4352 - accuracy: 0.1678\n",
            "Epoch 2/20\n",
            "77/77 [==============================] - 0s 2ms/step - loss: 2.2797 - accuracy: 0.2342\n",
            "Epoch 3/20\n",
            "77/77 [==============================] - 0s 2ms/step - loss: 2.1743 - accuracy: 0.2529\n",
            "Epoch 4/20\n",
            "77/77 [==============================] - 0s 2ms/step - loss: 2.1176 - accuracy: 0.2602\n",
            "Epoch 5/20\n",
            "77/77 [==============================] - 0s 2ms/step - loss: 2.0921 - accuracy: 0.2673\n",
            "Epoch 6/20\n",
            "77/77 [==============================] - 0s 2ms/step - loss: 2.0830 - accuracy: 0.2661\n",
            "Epoch 7/20\n",
            "77/77 [==============================] - 0s 2ms/step - loss: 2.0687 - accuracy: 0.2713\n",
            "Epoch 8/20\n",
            "77/77 [==============================] - 0s 2ms/step - loss: 2.0655 - accuracy: 0.2744\n",
            "Epoch 9/20\n",
            "77/77 [==============================] - 0s 2ms/step - loss: 2.0566 - accuracy: 0.2722\n",
            "Epoch 10/20\n",
            "77/77 [==============================] - 0s 2ms/step - loss: 2.0509 - accuracy: 0.2775\n",
            "Epoch 11/20\n",
            "77/77 [==============================] - 0s 2ms/step - loss: 2.0478 - accuracy: 0.2735\n",
            "Epoch 12/20\n",
            "77/77 [==============================] - 0s 2ms/step - loss: 2.0415 - accuracy: 0.2767\n",
            "Epoch 13/20\n",
            "77/77 [==============================] - 0s 2ms/step - loss: 2.0386 - accuracy: 0.2744\n",
            "Epoch 14/20\n",
            "77/77 [==============================] - 0s 2ms/step - loss: 2.0325 - accuracy: 0.2791\n",
            "Epoch 15/20\n",
            "77/77 [==============================] - 0s 2ms/step - loss: 2.0314 - accuracy: 0.2817\n",
            "Epoch 16/20\n",
            "77/77 [==============================] - 0s 2ms/step - loss: 2.0252 - accuracy: 0.2830\n",
            "Epoch 17/20\n",
            "77/77 [==============================] - 0s 2ms/step - loss: 2.0214 - accuracy: 0.2790\n",
            "Epoch 18/20\n",
            "77/77 [==============================] - 0s 2ms/step - loss: 2.0162 - accuracy: 0.2851\n",
            "Epoch 19/20\n",
            "77/77 [==============================] - 0s 2ms/step - loss: 2.0169 - accuracy: 0.2860\n",
            "Epoch 20/20\n",
            "77/77 [==============================] - 0s 2ms/step - loss: 2.0105 - accuracy: 0.2845\n"
          ]
        },
        {
          "output_type": "execute_result",
          "data": {
            "text/plain": [
              "<keras.callbacks.History at 0x7f9598d6b8d0>"
            ]
          },
          "metadata": {},
          "execution_count": 22
        }
      ]
    },
    {
      "cell_type": "code",
      "metadata": {
        "colab": {
          "base_uri": "https://localhost:8080/"
        },
        "id": "YvrRmaL--VOo",
        "outputId": "92a76fb7-9c4f-4bb6-ae7c-0f37ed655691"
      },
      "source": [
        "score = model.evaluate(X_test, y_test, verbose=0)\n",
        "print(\"Test accuracy:\", score[1])\n"
      ],
      "execution_count": 23,
      "outputs": [
        {
          "output_type": "stream",
          "name": "stdout",
          "text": [
            "Test accuracy: 0.2738046646118164\n"
          ]
        }
      ]
    },
    {
      "cell_type": "code",
      "metadata": {
        "id": "m1BNYJQT-X24"
      },
      "source": [
        "y_pred = model.predict(X_test)\n",
        "y_test_arg = tf.argmax(y_test, 1)\n",
        "y_pred_arg = tf.argmax(y_pred, 1)\n"
      ],
      "execution_count": 24,
      "outputs": []
    },
    {
      "cell_type": "code",
      "metadata": {
        "colab": {
          "base_uri": "https://localhost:8080/"
        },
        "id": "t9uYh46g-ZoI",
        "outputId": "02ebf8ac-20f8-43bd-f5e4-fdf8019c2f31"
      },
      "source": [
        "res = tf.math.confusion_matrix(y_test_arg, y_pred_arg)\n",
        "print(res)\n"
      ],
      "execution_count": 25,
      "outputs": [
        {
          "output_type": "stream",
          "name": "stdout",
          "text": [
            "tf.Tensor(\n",
            "[[  2  12   2  11  75  22   0   0   0   0   3   0]\n",
            " [  0  42   1  36 106  65   0   0   0   0   0   0]\n",
            " [  0  16   0  20  88  53   0   0   0   0   0   0]\n",
            " [  0  22   1  86 114  47   0   0   0   3   0   0]\n",
            " [  3  18   1  41 299 175   0   0   0   0   1   0]\n",
            " [  0  18   1  71 238 239   0   0   0   0   2   0]\n",
            " [  0   6   0  18  10   5   0   0   0   0   0   0]\n",
            " [  0   2   0  15   5   3   0   0   0   3   0   0]\n",
            " [  0   4   0   6  23  23   0   0   0   0   0   0]\n",
            " [  1   8   1   9  35  27   0   0   0   0   0   0]\n",
            " [  3  11   0  29  63  29   0   0   0   0   2   0]\n",
            " [  0   7   3  24  85  53   0   0   0   0   0   0]], shape=(12, 12), dtype=int32)\n"
          ]
        }
      ]
    },
    {
      "cell_type": "markdown",
      "metadata": {
        "id": "zXtWVpA5-c6w"
      },
      "source": [
        "# 3 Layer TANH Model with SGD Optimizer"
      ]
    },
    {
      "cell_type": "code",
      "metadata": {
        "id": "RL4BMILD-akj"
      },
      "source": [
        "model = Sequential()\n",
        "model.add(Dense(128, input_dim=X_train_np.shape[1], activation=\"tanh\"))\n",
        "model.add(Dense(64, activation=\"tanh\"))\n",
        "model.add(Dense(12, activation=\"softmax\"))\n"
      ],
      "execution_count": 26,
      "outputs": []
    },
    {
      "cell_type": "code",
      "metadata": {
        "id": "LahZxKmm-pyJ"
      },
      "source": [
        "model.compile(loss=\"categorical_crossentropy\", optimizer=\"sgd\", metrics=[\"accuracy\"])\n"
      ],
      "execution_count": 27,
      "outputs": []
    },
    {
      "cell_type": "code",
      "metadata": {
        "colab": {
          "base_uri": "https://localhost:8080/"
        },
        "id": "UyKfA6Ss-tYh",
        "outputId": "0b92294d-7984-4ebf-b521-3098c433b9b7"
      },
      "source": [
        "model.fit(X_train, y_train, batch_size=128, epochs=20, verbose=1)\n"
      ],
      "execution_count": 28,
      "outputs": [
        {
          "output_type": "stream",
          "name": "stdout",
          "text": [
            "Epoch 1/20\n",
            "77/77 [==============================] - 1s 2ms/step - loss: 2.5571 - accuracy: 0.1143\n",
            "Epoch 2/20\n",
            "77/77 [==============================] - 0s 2ms/step - loss: 2.4017 - accuracy: 0.1705\n",
            "Epoch 3/20\n",
            "77/77 [==============================] - 0s 2ms/step - loss: 2.3347 - accuracy: 0.2065\n",
            "Epoch 4/20\n",
            "77/77 [==============================] - 0s 2ms/step - loss: 2.2853 - accuracy: 0.2212\n",
            "Epoch 5/20\n",
            "77/77 [==============================] - 0s 2ms/step - loss: 2.2469 - accuracy: 0.2322\n",
            "Epoch 6/20\n",
            "77/77 [==============================] - 0s 2ms/step - loss: 2.2171 - accuracy: 0.2417\n",
            "Epoch 7/20\n",
            "77/77 [==============================] - 0s 2ms/step - loss: 2.1934 - accuracy: 0.2443\n",
            "Epoch 8/20\n",
            "77/77 [==============================] - 0s 2ms/step - loss: 2.1744 - accuracy: 0.2472\n",
            "Epoch 9/20\n",
            "77/77 [==============================] - 0s 2ms/step - loss: 2.1600 - accuracy: 0.2532\n",
            "Epoch 10/20\n",
            "77/77 [==============================] - 0s 2ms/step - loss: 2.1484 - accuracy: 0.2538\n",
            "Epoch 11/20\n",
            "77/77 [==============================] - 0s 2ms/step - loss: 2.1386 - accuracy: 0.2551\n",
            "Epoch 12/20\n",
            "77/77 [==============================] - 0s 2ms/step - loss: 2.1311 - accuracy: 0.2549\n",
            "Epoch 13/20\n",
            "77/77 [==============================] - 0s 2ms/step - loss: 2.1244 - accuracy: 0.2577\n",
            "Epoch 14/20\n",
            "77/77 [==============================] - 0s 2ms/step - loss: 2.1188 - accuracy: 0.2565\n",
            "Epoch 15/20\n",
            "77/77 [==============================] - 0s 2ms/step - loss: 2.1139 - accuracy: 0.2605\n",
            "Epoch 16/20\n",
            "77/77 [==============================] - 0s 2ms/step - loss: 2.1097 - accuracy: 0.2594\n",
            "Epoch 17/20\n",
            "77/77 [==============================] - 0s 2ms/step - loss: 2.1054 - accuracy: 0.2611\n",
            "Epoch 18/20\n",
            "77/77 [==============================] - 0s 2ms/step - loss: 2.1026 - accuracy: 0.2611\n",
            "Epoch 19/20\n",
            "77/77 [==============================] - 0s 2ms/step - loss: 2.0993 - accuracy: 0.2597\n",
            "Epoch 20/20\n",
            "77/77 [==============================] - 0s 2ms/step - loss: 2.0963 - accuracy: 0.2607\n"
          ]
        },
        {
          "output_type": "execute_result",
          "data": {
            "text/plain": [
              "<keras.callbacks.History at 0x7f9598c26cd0>"
            ]
          },
          "metadata": {},
          "execution_count": 28
        }
      ]
    },
    {
      "cell_type": "code",
      "metadata": {
        "colab": {
          "base_uri": "https://localhost:8080/"
        },
        "id": "A1SUZGBN-vCq",
        "outputId": "8b7928e2-ac8e-4de3-dd63-e450f6a5b79b"
      },
      "source": [
        "score = model.evaluate(X_test, y_test, verbose=0)\n",
        "print(\"Test accuracy:\", score[1])\n"
      ],
      "execution_count": 29,
      "outputs": [
        {
          "output_type": "stream",
          "name": "stdout",
          "text": [
            "Test accuracy: 0.2664487063884735\n"
          ]
        }
      ]
    },
    {
      "cell_type": "code",
      "metadata": {
        "id": "du55d1Rf-y9q"
      },
      "source": [
        "y_pred = model.predict(X_test)\n",
        "y_test_arg = tf.argmax(y_test, 1)\n",
        "y_pred_arg = tf.argmax(y_pred, 1)\n"
      ],
      "execution_count": 30,
      "outputs": []
    },
    {
      "cell_type": "code",
      "metadata": {
        "colab": {
          "base_uri": "https://localhost:8080/"
        },
        "id": "97NxMK4m-3C6",
        "outputId": "1a0a972b-62ea-460f-c92e-e934cf06a1fe"
      },
      "source": [
        "res = tf.math.confusion_matrix(y_test_arg, y_pred_arg)\n",
        "print(res)\n"
      ],
      "execution_count": 31,
      "outputs": [
        {
          "output_type": "stream",
          "name": "stdout",
          "text": [
            "tf.Tensor(\n",
            "[[  0  12   0  13  65  37   0   0   0   0   0   0]\n",
            " [  0  31   0  30  80 108   0   0   0   0   1   0]\n",
            " [  0  14   0  13  67  83   0   0   0   0   0   0]\n",
            " [  0  23   0  78  74  98   0   0   0   0   0   0]\n",
            " [  0  21   0  34 251 231   0   0   0   0   1   0]\n",
            " [  0  24   0  74 179 292   0   0   0   0   0   0]\n",
            " [  0   7   0  18   5   9   0   0   0   0   0   0]\n",
            " [  0   2   0  15   6   5   0   0   0   0   0   0]\n",
            " [  0   1   0   6  12  37   0   0   0   0   0   0]\n",
            " [  0   4   0  10  30  37   0   0   0   0   0   0]\n",
            " [  0   8   0  27  50  52   0   0   0   0   0   0]\n",
            " [  0   6   0  22  59  85   0   0   0   0   0   0]], shape=(12, 12), dtype=int32)\n"
          ]
        }
      ]
    },
    {
      "cell_type": "markdown",
      "metadata": {
        "id": "KeOp21qS-7Uz"
      },
      "source": [
        "# 3 Layer Sigmoid with ADAM Optimizer"
      ]
    },
    {
      "cell_type": "code",
      "metadata": {
        "id": "7PybGPLk-8Yh"
      },
      "source": [
        "model = Sequential()\n",
        "model.add(Dense(128, input_dim=X_train_np.shape[1], activation=\"sigmoid\"))\n",
        "model.add(Dense(64, activation=\"sigmoid\"))\n",
        "model.add(Dense(12, activation=\"softmax\"))\n"
      ],
      "execution_count": 36,
      "outputs": []
    },
    {
      "cell_type": "code",
      "metadata": {
        "id": "4qCt6K8I-_qr"
      },
      "source": [
        "model.compile(loss=\"categorical_crossentropy\", optimizer=\"adam\", metrics=[\"accuracy\"])\n"
      ],
      "execution_count": 33,
      "outputs": []
    },
    {
      "cell_type": "code",
      "metadata": {
        "colab": {
          "base_uri": "https://localhost:8080/"
        },
        "id": "8BVCCa74_BZx",
        "outputId": "b1f1eb0e-c437-48c6-cbd8-330162c0d9a5"
      },
      "source": [
        "model.fit(X_train, y_train, batch_size=128, epochs=20, verbose=1)\n"
      ],
      "execution_count": 34,
      "outputs": [
        {
          "output_type": "stream",
          "name": "stdout",
          "text": [
            "Epoch 1/20\n",
            "77/77 [==============================] - 1s 2ms/step - loss: 2.2403 - accuracy: 0.2069\n",
            "Epoch 2/20\n",
            "77/77 [==============================] - 0s 2ms/step - loss: 2.1431 - accuracy: 0.2392\n",
            "Epoch 3/20\n",
            "77/77 [==============================] - 0s 2ms/step - loss: 2.1311 - accuracy: 0.2444\n",
            "Epoch 4/20\n",
            "77/77 [==============================] - 0s 2ms/step - loss: 2.1218 - accuracy: 0.2522\n",
            "Epoch 5/20\n",
            "77/77 [==============================] - 0s 2ms/step - loss: 2.1148 - accuracy: 0.2533\n",
            "Epoch 6/20\n",
            "77/77 [==============================] - 0s 2ms/step - loss: 2.1090 - accuracy: 0.2558\n",
            "Epoch 7/20\n",
            "77/77 [==============================] - 0s 2ms/step - loss: 2.1055 - accuracy: 0.2524\n",
            "Epoch 8/20\n",
            "77/77 [==============================] - 0s 2ms/step - loss: 2.0998 - accuracy: 0.2567\n",
            "Epoch 9/20\n",
            "77/77 [==============================] - 0s 2ms/step - loss: 2.0949 - accuracy: 0.2595\n",
            "Epoch 10/20\n",
            "77/77 [==============================] - 0s 2ms/step - loss: 2.0919 - accuracy: 0.2576\n",
            "Epoch 11/20\n",
            "77/77 [==============================] - 0s 2ms/step - loss: 2.0879 - accuracy: 0.2576\n",
            "Epoch 12/20\n",
            "77/77 [==============================] - 0s 2ms/step - loss: 2.0855 - accuracy: 0.2585\n",
            "Epoch 13/20\n",
            "77/77 [==============================] - 0s 2ms/step - loss: 2.0805 - accuracy: 0.2626\n",
            "Epoch 14/20\n",
            "77/77 [==============================] - 0s 2ms/step - loss: 2.0783 - accuracy: 0.2619\n",
            "Epoch 15/20\n",
            "77/77 [==============================] - 0s 2ms/step - loss: 2.0761 - accuracy: 0.2620\n",
            "Epoch 16/20\n",
            "77/77 [==============================] - 0s 2ms/step - loss: 2.0724 - accuracy: 0.2677\n",
            "Epoch 17/20\n",
            "77/77 [==============================] - 0s 2ms/step - loss: 2.0689 - accuracy: 0.2607\n",
            "Epoch 18/20\n",
            "77/77 [==============================] - 0s 2ms/step - loss: 2.0674 - accuracy: 0.2661\n",
            "Epoch 19/20\n",
            "77/77 [==============================] - 0s 2ms/step - loss: 2.0651 - accuracy: 0.2693\n",
            "Epoch 20/20\n",
            "77/77 [==============================] - 0s 2ms/step - loss: 2.0616 - accuracy: 0.2692\n"
          ]
        },
        {
          "output_type": "execute_result",
          "data": {
            "text/plain": [
              "<keras.callbacks.History at 0x7f9598a90050>"
            ]
          },
          "metadata": {},
          "execution_count": 34
        }
      ]
    },
    {
      "cell_type": "code",
      "metadata": {
        "colab": {
          "base_uri": "https://localhost:8080/"
        },
        "id": "x93Yg33y_EZj",
        "outputId": "a844b934-785c-4a93-98a3-ea3357d76388"
      },
      "source": [
        "score = model.evaluate(X_test, y_test, verbose=0)\n",
        "print(\"Test accuracy:\", score[1])\n"
      ],
      "execution_count": 35,
      "outputs": [
        {
          "output_type": "stream",
          "name": "stdout",
          "text": [
            "Test accuracy: 0.2664487063884735\n"
          ]
        }
      ]
    },
    {
      "cell_type": "code",
      "metadata": {
        "id": "yrNmOqua_HAz"
      },
      "source": [
        "y_pred = model.predict(X_test)\n",
        "y_test_arg = tf.argmax(y_test, 1)\n",
        "y_pred_arg = tf.argmax(y_pred, 1)\n"
      ],
      "execution_count": 37,
      "outputs": []
    },
    {
      "cell_type": "code",
      "metadata": {
        "colab": {
          "base_uri": "https://localhost:8080/"
        },
        "id": "nHoETGmh_If5",
        "outputId": "590d081a-679c-41ad-d5cf-32b5437e4c7f"
      },
      "source": [
        "res = tf.math.confusion_matrix(y_test_arg, y_pred_arg)\n",
        "print(res)\n"
      ],
      "execution_count": 38,
      "outputs": [
        {
          "output_type": "stream",
          "name": "stdout",
          "text": [
            "tf.Tensor(\n",
            "[[  0   0   0 127   0   0   0   0   0   0   0   0]\n",
            " [  0   0   0 247   3   0   0   0   0   0   0   0]\n",
            " [  0   0   0 177   0   0   0   0   0   0   0   0]\n",
            " [  0   0   0 273   0   0   0   0   0   0   0   0]\n",
            " [  0   0   0 536   2   0   0   0   0   0   0   0]\n",
            " [  0   0   0 567   2   0   0   0   0   0   0   0]\n",
            " [  0   0   0  39   0   0   0   0   0   0   0   0]\n",
            " [  0   0   0  28   0   0   0   0   0   0   0   0]\n",
            " [  0   0   0  56   0   0   0   0   0   0   0   0]\n",
            " [  0   0   0  81   0   0   0   0   0   0   0   0]\n",
            " [  0   0   0 137   0   0   0   0   0   0   0   0]\n",
            " [  0   0   0 172   0   0   0   0   0   0   0   0]], shape=(12, 12), dtype=int32)\n"
          ]
        }
      ]
    },
    {
      "cell_type": "markdown",
      "metadata": {
        "id": "QIKH6JMi_NZ7"
      },
      "source": [
        "# 3 Layer Sigmoid with SGD Optimizer"
      ]
    },
    {
      "cell_type": "code",
      "metadata": {
        "id": "BG4J0Qul_O4J"
      },
      "source": [
        "model = Sequential()\n",
        "model.add(Dense(128, input_dim=X_train_np.shape[1], activation=\"sigmoid\"))\n",
        "model.add(Dense(64, activation=\"sigmoid\"))\n",
        "model.add(Dense(12, activation=\"softmax\"))\n"
      ],
      "execution_count": 39,
      "outputs": []
    },
    {
      "cell_type": "code",
      "metadata": {
        "id": "e6eNYe7W_Q8K"
      },
      "source": [
        "model.compile(loss=\"categorical_crossentropy\", optimizer=\"sgd\", metrics=[\"accuracy\"])\n"
      ],
      "execution_count": 40,
      "outputs": []
    },
    {
      "cell_type": "code",
      "metadata": {
        "colab": {
          "base_uri": "https://localhost:8080/"
        },
        "id": "T653Orjs_RDy",
        "outputId": "48d204f3-3ae1-4436-cbc9-1785d21ca310"
      },
      "source": [
        "model.fit(X_train, y_train, batch_size=128, epochs=20, verbose=1)\n"
      ],
      "execution_count": 41,
      "outputs": [
        {
          "output_type": "stream",
          "name": "stdout",
          "text": [
            "Epoch 1/20\n",
            "77/77 [==============================] - 0s 2ms/step - loss: 2.3280 - accuracy: 0.1794\n",
            "Epoch 2/20\n",
            "77/77 [==============================] - 0s 2ms/step - loss: 2.1784 - accuracy: 0.2241\n",
            "Epoch 3/20\n",
            "77/77 [==============================] - 0s 2ms/step - loss: 2.1659 - accuracy: 0.2299\n",
            "Epoch 4/20\n",
            "77/77 [==============================] - 0s 2ms/step - loss: 2.1618 - accuracy: 0.2326\n",
            "Epoch 5/20\n",
            "77/77 [==============================] - 0s 2ms/step - loss: 2.1593 - accuracy: 0.2387\n",
            "Epoch 6/20\n",
            "77/77 [==============================] - 0s 2ms/step - loss: 2.1576 - accuracy: 0.2371\n",
            "Epoch 7/20\n",
            "77/77 [==============================] - 0s 2ms/step - loss: 2.1559 - accuracy: 0.2399\n",
            "Epoch 8/20\n",
            "77/77 [==============================] - 0s 2ms/step - loss: 2.1549 - accuracy: 0.2380\n",
            "Epoch 9/20\n",
            "77/77 [==============================] - 0s 2ms/step - loss: 2.1537 - accuracy: 0.2395\n",
            "Epoch 10/20\n",
            "77/77 [==============================] - 0s 2ms/step - loss: 2.1526 - accuracy: 0.2378\n",
            "Epoch 11/20\n",
            "77/77 [==============================] - 0s 2ms/step - loss: 2.1517 - accuracy: 0.2395\n",
            "Epoch 12/20\n",
            "77/77 [==============================] - 0s 2ms/step - loss: 2.1508 - accuracy: 0.2372\n",
            "Epoch 13/20\n",
            "77/77 [==============================] - 0s 2ms/step - loss: 2.1499 - accuracy: 0.2382\n",
            "Epoch 14/20\n",
            "77/77 [==============================] - 0s 2ms/step - loss: 2.1491 - accuracy: 0.2373\n",
            "Epoch 15/20\n",
            "77/77 [==============================] - 0s 2ms/step - loss: 2.1482 - accuracy: 0.2385\n",
            "Epoch 16/20\n",
            "77/77 [==============================] - 0s 2ms/step - loss: 2.1474 - accuracy: 0.2372\n",
            "Epoch 17/20\n",
            "77/77 [==============================] - 0s 2ms/step - loss: 2.1468 - accuracy: 0.2387\n",
            "Epoch 18/20\n",
            "77/77 [==============================] - 0s 2ms/step - loss: 2.1461 - accuracy: 0.2389\n",
            "Epoch 19/20\n",
            "77/77 [==============================] - 0s 2ms/step - loss: 2.1453 - accuracy: 0.2368\n",
            "Epoch 20/20\n",
            "77/77 [==============================] - 0s 2ms/step - loss: 2.1446 - accuracy: 0.2417\n"
          ]
        },
        {
          "output_type": "execute_result",
          "data": {
            "text/plain": [
              "<keras.callbacks.History at 0x7f9598918690>"
            ]
          },
          "metadata": {},
          "execution_count": 41
        }
      ]
    },
    {
      "cell_type": "code",
      "metadata": {
        "colab": {
          "base_uri": "https://localhost:8080/"
        },
        "id": "0ycBVcqp_RGj",
        "outputId": "7bfc9aa8-6d7a-4668-de55-a1f07323c2a0"
      },
      "source": [
        "score = model.evaluate(X_test, y_test, verbose=0)\n",
        "print(\"Test accuracy:\", score[1])\n"
      ],
      "execution_count": 42,
      "outputs": [
        {
          "output_type": "stream",
          "name": "stdout",
          "text": [
            "Test accuracy: 0.2341642826795578\n"
          ]
        }
      ]
    },
    {
      "cell_type": "code",
      "metadata": {
        "id": "nR1qieEt_RJP"
      },
      "source": [
        "y_pred = model.predict(X_test)\n",
        "y_test_arg = tf.argmax(y_test, 1)\n",
        "y_pred_arg = tf.argmax(y_pred, 1)\n"
      ],
      "execution_count": 43,
      "outputs": []
    },
    {
      "cell_type": "code",
      "metadata": {
        "colab": {
          "base_uri": "https://localhost:8080/"
        },
        "id": "UY6f0gTr_cJZ",
        "outputId": "ce255e12-088a-4cc1-d871-79993105a196"
      },
      "source": [
        "res = tf.math.confusion_matrix(y_test_arg, y_pred_arg)\n",
        "print(res)\n"
      ],
      "execution_count": 44,
      "outputs": [
        {
          "output_type": "stream",
          "name": "stdout",
          "text": [
            "tf.Tensor(\n",
            "[[  0   0   0   0  63  64   0   0   0   0   0   0]\n",
            " [  0   0   0   0  88 162   0   0   0   0   0   0]\n",
            " [  0   0   0   0  68 109   0   0   0   0   0   0]\n",
            " [  0   0   0   0  81 192   0   0   0   0   0   0]\n",
            " [  0   0   0   0 212 326   0   0   0   0   0   0]\n",
            " [  0   0   0   0 208 361   0   0   0   0   0   0]\n",
            " [  0   0   0   0  15  24   0   0   0   0   0   0]\n",
            " [  0   0   0   0   6  22   0   0   0   0   0   0]\n",
            " [  0   0   0   0  18  38   0   0   0   0   0   0]\n",
            " [  0   0   0   0  34  47   0   0   0   0   0   0]\n",
            " [  0   0   0   0  53  84   0   0   0   0   0   0]\n",
            " [  0   0   0   0  49 123   0   0   0   0   0   0]], shape=(12, 12), dtype=int32)\n"
          ]
        }
      ]
    },
    {
      "cell_type": "markdown",
      "metadata": {
        "id": "12UDqTc1_f8j"
      },
      "source": [
        "# 3 Layer RELU with ADAM Optimizer Smaller Batch Size and More Epochs"
      ]
    },
    {
      "cell_type": "code",
      "metadata": {
        "id": "zVQP5QSB_fbp"
      },
      "source": [
        "model = Sequential()\n",
        "model.add(Dense(128, input_dim=X_train_np.shape[1], activation=\"relu\"))\n",
        "model.add(Dense(64, activation=\"relu\"))\n",
        "model.add(Dense(12, activation=\"softmax\"))\n"
      ],
      "execution_count": 45,
      "outputs": []
    },
    {
      "cell_type": "code",
      "metadata": {
        "id": "7ZbYXM0gAN3F"
      },
      "source": [
        "model.compile(loss=\"categorical_crossentropy\", optimizer=\"adam\", metrics=[\"accuracy\"])\n"
      ],
      "execution_count": 46,
      "outputs": []
    },
    {
      "cell_type": "code",
      "metadata": {
        "colab": {
          "base_uri": "https://localhost:8080/"
        },
        "id": "leon-mqNAN5e",
        "outputId": "85d5c19e-83dc-403d-a915-a711c03ec716"
      },
      "source": [
        "model.fit(X_train, y_train, batch_size=64, epochs=100, verbose=1)\n"
      ],
      "execution_count": 47,
      "outputs": [
        {
          "output_type": "stream",
          "name": "stdout",
          "text": [
            "Epoch 1/100\n",
            "153/153 [==============================] - 1s 2ms/step - loss: 143296292431331328.0000 - accuracy: 0.1557\n",
            "Epoch 2/100\n",
            "153/153 [==============================] - 0s 2ms/step - loss: 36241286230966272.0000 - accuracy: 0.1660\n",
            "Epoch 3/100\n",
            "153/153 [==============================] - 0s 2ms/step - loss: 32013354784522240.0000 - accuracy: 0.1642\n",
            "Epoch 4/100\n",
            "153/153 [==============================] - 0s 2ms/step - loss: 27367321156714496.0000 - accuracy: 0.1660\n",
            "Epoch 5/100\n",
            "153/153 [==============================] - 0s 2ms/step - loss: 26301417648029696.0000 - accuracy: 0.1754\n",
            "Epoch 6/100\n",
            "153/153 [==============================] - 0s 2ms/step - loss: 23619483302100992.0000 - accuracy: 0.1732\n",
            "Epoch 7/100\n",
            "153/153 [==============================] - 0s 2ms/step - loss: 21760267121590272.0000 - accuracy: 0.1717\n",
            "Epoch 8/100\n",
            "153/153 [==============================] - 0s 2ms/step - loss: 22288477232037888.0000 - accuracy: 0.1716\n",
            "Epoch 9/100\n",
            "153/153 [==============================] - 0s 2ms/step - loss: 20772265729720320.0000 - accuracy: 0.1739\n",
            "Epoch 10/100\n",
            "153/153 [==============================] - 0s 2ms/step - loss: 17679960143560704.0000 - accuracy: 0.1759\n",
            "Epoch 11/100\n",
            "153/153 [==============================] - 0s 2ms/step - loss: 18516183833640960.0000 - accuracy: 0.1804\n",
            "Epoch 12/100\n",
            "153/153 [==============================] - 0s 2ms/step - loss: 17188872509194240.0000 - accuracy: 0.1773\n",
            "Epoch 13/100\n",
            "153/153 [==============================] - 0s 2ms/step - loss: 18187769159352320.0000 - accuracy: 0.1711\n",
            "Epoch 14/100\n",
            "153/153 [==============================] - 0s 2ms/step - loss: 16248816910991360.0000 - accuracy: 0.1750\n",
            "Epoch 15/100\n",
            "153/153 [==============================] - 0s 2ms/step - loss: 15033990780026880.0000 - accuracy: 0.1740\n",
            "Epoch 16/100\n",
            "153/153 [==============================] - 0s 2ms/step - loss: 14001042555404288.0000 - accuracy: 0.1755\n",
            "Epoch 17/100\n",
            "153/153 [==============================] - 0s 2ms/step - loss: 13417729088290816.0000 - accuracy: 0.1747\n",
            "Epoch 18/100\n",
            "153/153 [==============================] - 0s 2ms/step - loss: 12922951003275264.0000 - accuracy: 0.1717\n",
            "Epoch 19/100\n",
            "153/153 [==============================] - 0s 2ms/step - loss: 12400368373727232.0000 - accuracy: 0.1703\n",
            "Epoch 20/100\n",
            "153/153 [==============================] - 0s 2ms/step - loss: 11622375850246144.0000 - accuracy: 0.1723\n",
            "Epoch 21/100\n",
            "153/153 [==============================] - 0s 2ms/step - loss: 11989704001978368.0000 - accuracy: 0.1733\n",
            "Epoch 22/100\n",
            "153/153 [==============================] - 0s 2ms/step - loss: 10197917734273024.0000 - accuracy: 0.1594\n",
            "Epoch 23/100\n",
            "153/153 [==============================] - 0s 2ms/step - loss: 8643162121699328.0000 - accuracy: 0.1512\n",
            "Epoch 24/100\n",
            "153/153 [==============================] - 0s 2ms/step - loss: 7534707835142144.0000 - accuracy: 0.1464\n",
            "Epoch 25/100\n",
            "153/153 [==============================] - 0s 2ms/step - loss: 7041517277413376.0000 - accuracy: 0.1467\n",
            "Epoch 26/100\n",
            "153/153 [==============================] - 0s 2ms/step - loss: 5502167712530432.0000 - accuracy: 0.1545\n",
            "Epoch 27/100\n",
            "153/153 [==============================] - 0s 2ms/step - loss: 3508435303792640.0000 - accuracy: 0.1935\n",
            "Epoch 28/100\n",
            "153/153 [==============================] - 0s 2ms/step - loss: 2550822684590080.0000 - accuracy: 0.2068\n",
            "Epoch 29/100\n",
            "153/153 [==============================] - 0s 2ms/step - loss: 1935878393954304.0000 - accuracy: 0.2176\n",
            "Epoch 30/100\n",
            "153/153 [==============================] - 0s 2ms/step - loss: 1285391638331392.0000 - accuracy: 0.2284\n",
            "Epoch 31/100\n",
            "153/153 [==============================] - 0s 2ms/step - loss: 1292202114285568.0000 - accuracy: 0.2277\n",
            "Epoch 32/100\n",
            "153/153 [==============================] - 0s 2ms/step - loss: 1315061540847616.0000 - accuracy: 0.2279\n",
            "Epoch 33/100\n",
            "153/153 [==============================] - 0s 2ms/step - loss: 945854743576576.0000 - accuracy: 0.2298\n",
            "Epoch 34/100\n",
            "153/153 [==============================] - 0s 2ms/step - loss: 897590853894144.0000 - accuracy: 0.2320\n",
            "Epoch 35/100\n",
            "153/153 [==============================] - 0s 2ms/step - loss: 959522000601088.0000 - accuracy: 0.2289\n",
            "Epoch 36/100\n",
            "153/153 [==============================] - 0s 2ms/step - loss: 1045178949304320.0000 - accuracy: 0.2297\n",
            "Epoch 37/100\n",
            "153/153 [==============================] - 0s 2ms/step - loss: 842741638496256.0000 - accuracy: 0.2267\n",
            "Epoch 38/100\n",
            "153/153 [==============================] - 0s 2ms/step - loss: 122140875554816.0000 - accuracy: 0.2280\n",
            "Epoch 39/100\n",
            "153/153 [==============================] - 0s 2ms/step - loss: 331365318656.0000 - accuracy: 0.2323\n",
            "Epoch 40/100\n",
            "153/153 [==============================] - 0s 2ms/step - loss: 4018668032.0000 - accuracy: 0.2323\n",
            "Epoch 41/100\n",
            "153/153 [==============================] - 0s 2ms/step - loss: 2.1613 - accuracy: 0.2323\n",
            "Epoch 42/100\n",
            "153/153 [==============================] - 0s 2ms/step - loss: 2.1605 - accuracy: 0.2323\n",
            "Epoch 43/100\n",
            "153/153 [==============================] - 0s 2ms/step - loss: 2.1599 - accuracy: 0.2323\n",
            "Epoch 44/100\n",
            "153/153 [==============================] - 0s 2ms/step - loss: 2.1595 - accuracy: 0.2323\n",
            "Epoch 45/100\n",
            "153/153 [==============================] - 0s 2ms/step - loss: 2.1593 - accuracy: 0.2323\n",
            "Epoch 46/100\n",
            "153/153 [==============================] - 0s 2ms/step - loss: 2.1590 - accuracy: 0.2323\n",
            "Epoch 47/100\n",
            "153/153 [==============================] - 0s 2ms/step - loss: 2.1589 - accuracy: 0.2323\n",
            "Epoch 48/100\n",
            "153/153 [==============================] - 0s 2ms/step - loss: 2.1588 - accuracy: 0.2323\n",
            "Epoch 49/100\n",
            "153/153 [==============================] - 0s 2ms/step - loss: 2.1587 - accuracy: 0.2323\n",
            "Epoch 50/100\n",
            "153/153 [==============================] - 0s 2ms/step - loss: 2.1586 - accuracy: 0.2323\n",
            "Epoch 51/100\n",
            "153/153 [==============================] - 0s 2ms/step - loss: 2.1586 - accuracy: 0.2323\n",
            "Epoch 52/100\n",
            "153/153 [==============================] - 0s 2ms/step - loss: 2.1585 - accuracy: 0.2323\n",
            "Epoch 53/100\n",
            "153/153 [==============================] - 0s 2ms/step - loss: 2.1586 - accuracy: 0.2323\n",
            "Epoch 54/100\n",
            "153/153 [==============================] - 0s 2ms/step - loss: 2.1585 - accuracy: 0.2323\n",
            "Epoch 55/100\n",
            "153/153 [==============================] - 0s 2ms/step - loss: 2.1585 - accuracy: 0.2323\n",
            "Epoch 56/100\n",
            "153/153 [==============================] - 0s 2ms/step - loss: 2.1585 - accuracy: 0.2323\n",
            "Epoch 57/100\n",
            "153/153 [==============================] - 0s 2ms/step - loss: 2.1585 - accuracy: 0.2323\n",
            "Epoch 58/100\n",
            "153/153 [==============================] - 0s 2ms/step - loss: 2.1585 - accuracy: 0.2323\n",
            "Epoch 59/100\n",
            "153/153 [==============================] - 0s 2ms/step - loss: 2.1585 - accuracy: 0.2323\n",
            "Epoch 60/100\n",
            "153/153 [==============================] - 0s 2ms/step - loss: 2.1585 - accuracy: 0.2323\n",
            "Epoch 61/100\n",
            "153/153 [==============================] - 0s 2ms/step - loss: 2.1585 - accuracy: 0.2323\n",
            "Epoch 62/100\n",
            "153/153 [==============================] - 0s 2ms/step - loss: 2.1585 - accuracy: 0.2323\n",
            "Epoch 63/100\n",
            "153/153 [==============================] - 0s 2ms/step - loss: 2.1585 - accuracy: 0.2323\n",
            "Epoch 64/100\n",
            "153/153 [==============================] - 0s 2ms/step - loss: 2.1585 - accuracy: 0.2323\n",
            "Epoch 65/100\n",
            "153/153 [==============================] - 0s 2ms/step - loss: 2.1585 - accuracy: 0.2323\n",
            "Epoch 66/100\n",
            "153/153 [==============================] - 0s 2ms/step - loss: 2.1585 - accuracy: 0.2323\n",
            "Epoch 67/100\n",
            "153/153 [==============================] - 0s 2ms/step - loss: 2.1585 - accuracy: 0.2323\n",
            "Epoch 68/100\n",
            "153/153 [==============================] - 0s 2ms/step - loss: 2.1585 - accuracy: 0.2323\n",
            "Epoch 69/100\n",
            "153/153 [==============================] - 0s 2ms/step - loss: 2.1585 - accuracy: 0.2323\n",
            "Epoch 70/100\n",
            "153/153 [==============================] - 0s 2ms/step - loss: 2.1585 - accuracy: 0.2323\n",
            "Epoch 71/100\n",
            "153/153 [==============================] - 0s 2ms/step - loss: 2.1585 - accuracy: 0.2323\n",
            "Epoch 72/100\n",
            "153/153 [==============================] - 0s 2ms/step - loss: 2.1585 - accuracy: 0.2323\n",
            "Epoch 73/100\n",
            "153/153 [==============================] - 0s 2ms/step - loss: 2.1585 - accuracy: 0.2323\n",
            "Epoch 74/100\n",
            "153/153 [==============================] - 0s 2ms/step - loss: 2.1585 - accuracy: 0.2323\n",
            "Epoch 75/100\n",
            "153/153 [==============================] - 0s 2ms/step - loss: 2.1584 - accuracy: 0.2323\n",
            "Epoch 76/100\n",
            "153/153 [==============================] - 0s 2ms/step - loss: 2.1584 - accuracy: 0.2323\n",
            "Epoch 77/100\n",
            "153/153 [==============================] - 0s 2ms/step - loss: 2.1585 - accuracy: 0.2323\n",
            "Epoch 78/100\n",
            "153/153 [==============================] - 0s 2ms/step - loss: 2.1585 - accuracy: 0.2323\n",
            "Epoch 79/100\n",
            "153/153 [==============================] - 0s 2ms/step - loss: 2.1585 - accuracy: 0.2323\n",
            "Epoch 80/100\n",
            "153/153 [==============================] - 0s 2ms/step - loss: 2.1585 - accuracy: 0.2323\n",
            "Epoch 81/100\n",
            "153/153 [==============================] - 0s 2ms/step - loss: 2.1585 - accuracy: 0.2323\n",
            "Epoch 82/100\n",
            "153/153 [==============================] - 0s 2ms/step - loss: 2.1585 - accuracy: 0.2323\n",
            "Epoch 83/100\n",
            "153/153 [==============================] - 0s 2ms/step - loss: 2.1585 - accuracy: 0.2323\n",
            "Epoch 84/100\n",
            "153/153 [==============================] - 0s 2ms/step - loss: 2.1585 - accuracy: 0.2323\n",
            "Epoch 85/100\n",
            "153/153 [==============================] - 0s 2ms/step - loss: 2.1585 - accuracy: 0.2323\n",
            "Epoch 86/100\n",
            "153/153 [==============================] - 0s 2ms/step - loss: 2.1585 - accuracy: 0.2323\n",
            "Epoch 87/100\n",
            "153/153 [==============================] - 0s 2ms/step - loss: 2.1585 - accuracy: 0.2323\n",
            "Epoch 88/100\n",
            "153/153 [==============================] - 0s 2ms/step - loss: 2.1585 - accuracy: 0.2323\n",
            "Epoch 89/100\n",
            "153/153 [==============================] - 0s 2ms/step - loss: 2.1585 - accuracy: 0.2323\n",
            "Epoch 90/100\n",
            "153/153 [==============================] - 0s 2ms/step - loss: 2.1585 - accuracy: 0.2323\n",
            "Epoch 91/100\n",
            "153/153 [==============================] - 0s 2ms/step - loss: 2.1585 - accuracy: 0.2323\n",
            "Epoch 92/100\n",
            "153/153 [==============================] - 0s 2ms/step - loss: 2.1585 - accuracy: 0.2323\n",
            "Epoch 93/100\n",
            "153/153 [==============================] - 0s 2ms/step - loss: 2.1585 - accuracy: 0.2323\n",
            "Epoch 94/100\n",
            "153/153 [==============================] - 0s 2ms/step - loss: 2.1585 - accuracy: 0.2323\n",
            "Epoch 95/100\n",
            "153/153 [==============================] - 0s 2ms/step - loss: 2.1585 - accuracy: 0.2323\n",
            "Epoch 96/100\n",
            "153/153 [==============================] - 0s 2ms/step - loss: 2.1585 - accuracy: 0.2323\n",
            "Epoch 97/100\n",
            "153/153 [==============================] - 0s 2ms/step - loss: 2.1585 - accuracy: 0.2323\n",
            "Epoch 98/100\n",
            "153/153 [==============================] - 0s 2ms/step - loss: 2.1585 - accuracy: 0.2323\n",
            "Epoch 99/100\n",
            "153/153 [==============================] - 0s 2ms/step - loss: 2.1585 - accuracy: 0.2323\n",
            "Epoch 100/100\n",
            "153/153 [==============================] - 0s 2ms/step - loss: 2.1585 - accuracy: 0.2323\n"
          ]
        },
        {
          "output_type": "execute_result",
          "data": {
            "text/plain": [
              "<keras.callbacks.History at 0x7f958f08a690>"
            ]
          },
          "metadata": {},
          "execution_count": 47
        }
      ]
    },
    {
      "cell_type": "code",
      "metadata": {
        "colab": {
          "base_uri": "https://localhost:8080/"
        },
        "id": "KWrgg1Z_AN73",
        "outputId": "446b9dad-8714-440e-e088-106b40bd3cb5"
      },
      "source": [
        "score = model.evaluate(X_test, y_test, verbose=0)\n",
        "print(\"Test accuracy:\", score[1])\n"
      ],
      "execution_count": 48,
      "outputs": [
        {
          "output_type": "stream",
          "name": "stdout",
          "text": [
            "Test accuracy: 0.2325296252965927\n"
          ]
        }
      ]
    },
    {
      "cell_type": "code",
      "metadata": {
        "id": "57yD_vMjAN-I"
      },
      "source": [
        "y_pred = model.predict(X_test)\n",
        "y_test_arg = tf.argmax(y_test, 1)\n",
        "y_pred_arg = tf.argmax(y_pred, 1)\n"
      ],
      "execution_count": 49,
      "outputs": []
    },
    {
      "cell_type": "code",
      "metadata": {
        "colab": {
          "base_uri": "https://localhost:8080/"
        },
        "id": "boOIUnGoAOAf",
        "outputId": "c63a93e2-9e30-439e-f151-d05b9691e864"
      },
      "source": [
        "res = tf.math.confusion_matrix(y_test_arg, y_pred_arg)\n",
        "print(res)\n"
      ],
      "execution_count": 50,
      "outputs": [
        {
          "output_type": "stream",
          "name": "stdout",
          "text": [
            "tf.Tensor(\n",
            "[[  0   0   0   0   0 127   0   0   0   0   0   0]\n",
            " [  0   0   0   0   0 250   0   0   0   0   0   0]\n",
            " [  0   0   0   0   0 177   0   0   0   0   0   0]\n",
            " [  0   0   0   0   0 273   0   0   0   0   0   0]\n",
            " [  0   0   0   0   0 538   0   0   0   0   0   0]\n",
            " [  0   0   0   0   0 569   0   0   0   0   0   0]\n",
            " [  0   0   0   0   0  39   0   0   0   0   0   0]\n",
            " [  0   0   0   0   0  28   0   0   0   0   0   0]\n",
            " [  0   0   0   0   0  56   0   0   0   0   0   0]\n",
            " [  0   0   0   0   0  81   0   0   0   0   0   0]\n",
            " [  0   0   0   0   0 137   0   0   0   0   0   0]\n",
            " [  0   0   0   0   0 172   0   0   0   0   0   0]], shape=(12, 12), dtype=int32)\n"
          ]
        }
      ]
    }
  ]
}