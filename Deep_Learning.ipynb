{
  "nbformat": 4,
  "nbformat_minor": 0,
  "metadata": {
    "colab": {
      "name": "Deep Learning.ipynb",
      "provenance": [],
      "collapsed_sections": [],
      "authorship_tag": "ABX9TyNwFvPWPX8LXQ83IHKJ5tK2",
      "include_colab_link": true
    },
    "kernelspec": {
      "name": "python3",
      "display_name": "Python 3"
    },
    "language_info": {
      "name": "python"
    }
  },
  "cells": [
    {
      "cell_type": "markdown",
      "metadata": {
        "id": "view-in-github",
        "colab_type": "text"
      },
      "source": [
        "<a href=\"https://colab.research.google.com/github/HarshESC/TalkData-Mobile-Demographics/blob/main/Deep_Learning.ipynb\" target=\"_parent\"><img src=\"https://colab.research.google.com/assets/colab-badge.svg\" alt=\"Open In Colab\"/></a>"
      ]
    },
    {
      "cell_type": "code",
      "metadata": {
        "colab": {
          "base_uri": "https://localhost:8080/"
        },
        "id": "00cXoM1C7SZM",
        "outputId": "d9cb47e0-4454-4290-8920-5d0d16d4c076"
      },
      "source": [
        "import warnings\n",
        "warnings.filterwarnings('ignore')\n",
        "from google.colab import drive \n",
        "drive.mount('/content/gdrive')\n",
        "import os\n",
        "os.environ['KAGGLE_CONFIG_DIR'] = \"/content/gdrive/\"\n",
        "%cd \"/content/gdrive/My Drive/Final Capstone\"\n",
        "\n",
        "import numpy as np\n",
        "import pandas as pd\n",
        "\n",
        "from sklearn.model_selection import train_test_split\n",
        "\n",
        "import tensorflow as tf\n",
        "from tensorflow.keras.optimizers import SGD\n",
        "from tensorflow.keras.utils import to_categorical\n",
        "from tensorflow.keras.models import Sequential\n",
        "from tensorflow.keras.layers import Conv2D, MaxPooling2D\n",
        "from tensorflow.keras.layers import (\n",
        "    Activation,\n",
        "    Dropout,\n",
        "    Flatten,\n",
        "    Dense,\n",
        "    BatchNormalization,\n",
        ")\n",
        "from tensorflow.keras import backend as K\n",
        "from sklearn.metrics import classification_report\n"
      ],
      "execution_count": 1,
      "outputs": [
        {
          "output_type": "stream",
          "name": "stdout",
          "text": [
            "Mounted at /content/gdrive\n",
            "/content/gdrive/My Drive/Final Capstone\n"
          ]
        }
      ]
    },
    {
      "cell_type": "code",
      "metadata": {
        "id": "32-v5hZv8Ujo"
      },
      "source": [
        "master_df = pd.read_csv(\"master_clean_2.csv\")\n",
        "X = master_df.drop(columns=[\"num_group\"])\n",
        "y = master_df[\"num_group\"]\n",
        "\n",
        "X_train, X_test, y_train, y_test = train_test_split(\n",
        "    X, y, test_size=0.20, random_state=13, stratify=y\n",
        ")\n"
      ],
      "execution_count": 2,
      "outputs": []
    },
    {
      "cell_type": "code",
      "metadata": {
        "colab": {
          "base_uri": "https://localhost:8080/",
          "height": 445
        },
        "id": "C8cQacRX8tkQ",
        "outputId": "578b34ad-6436-4c6c-c368-a017df1f3736"
      },
      "source": [
        "X_test\n"
      ],
      "execution_count": 3,
      "outputs": [
        {
          "output_type": "execute_result",
          "data": {
            "text/html": [
              "<div>\n",
              "<style scoped>\n",
              "    .dataframe tbody tr th:only-of-type {\n",
              "        vertical-align: middle;\n",
              "    }\n",
              "\n",
              "    .dataframe tbody tr th {\n",
              "        vertical-align: top;\n",
              "    }\n",
              "\n",
              "    .dataframe thead th {\n",
              "        text-align: right;\n",
              "    }\n",
              "</style>\n",
              "<table border=\"1\" class=\"dataframe\">\n",
              "  <thead>\n",
              "    <tr style=\"text-align: right;\">\n",
              "      <th></th>\n",
              "      <th>event_id</th>\n",
              "      <th>app_id</th>\n",
              "      <th>is_active</th>\n",
              "      <th>device_id</th>\n",
              "      <th>label_id_x</th>\n",
              "      <th>download_id</th>\n",
              "      <th>251</th>\n",
              "      <th>252</th>\n",
              "      <th>405</th>\n",
              "      <th>548</th>\n",
              "      <th>549</th>\n",
              "      <th>704</th>\n",
              "      <th>713</th>\n",
              "      <th>730</th>\n",
              "      <th>756</th>\n",
              "      <th>757</th>\n",
              "      <th>761</th>\n",
              "      <th>775</th>\n",
              "      <th>777</th>\n",
              "      <th>779</th>\n",
              "      <th>782</th>\n",
              "      <th>783</th>\n",
              "      <th>787</th>\n",
              "      <th>959</th>\n",
              "      <th>960</th>\n",
              "      <th>1007</th>\n",
              "      <th>english_phone_brand_coolpad</th>\n",
              "      <th>english_phone_brand_huawei</th>\n",
              "      <th>english_phone_brand_lshi</th>\n",
              "      <th>english_phone_brand_meizu</th>\n",
              "      <th>english_phone_brand_oppo</th>\n",
              "      <th>english_phone_brand_samsung</th>\n",
              "      <th>english_phone_brand_xiaomi</th>\n",
              "      <th>device_model_Galaxy Note 3</th>\n",
              "      <th>device_model_MI 4</th>\n",
              "      <th>device_model_MX4</th>\n",
              "      <th>device_model_MX5</th>\n",
              "      <th>device_model_Mate 7</th>\n",
              "      <th>device_model_R7s</th>\n",
              "      <th>device_model_U3</th>\n",
              "      <th>device_model_note顶配版</th>\n",
              "      <th>device_model_小米note</th>\n",
              "      <th>device_model_荣耀6</th>\n",
              "      <th>device_model_荣耀6 Plus</th>\n",
              "      <th>device_model_超级手机1 Pro</th>\n",
              "      <th>device_model_魅蓝metal</th>\n",
              "      <th>device_model_麦芒4</th>\n",
              "    </tr>\n",
              "  </thead>\n",
              "  <tbody>\n",
              "    <tr>\n",
              "      <th>3972</th>\n",
              "      <td>331345</td>\n",
              "      <td>-1633912816187681087</td>\n",
              "      <td>1</td>\n",
              "      <td>-9170266620213363189</td>\n",
              "      <td>787</td>\n",
              "      <td>7642564637308507340</td>\n",
              "      <td>1</td>\n",
              "      <td>1</td>\n",
              "      <td>1</td>\n",
              "      <td>0</td>\n",
              "      <td>0</td>\n",
              "      <td>0</td>\n",
              "      <td>0</td>\n",
              "      <td>1</td>\n",
              "      <td>1</td>\n",
              "      <td>0</td>\n",
              "      <td>1</td>\n",
              "      <td>0</td>\n",
              "      <td>1</td>\n",
              "      <td>0</td>\n",
              "      <td>1</td>\n",
              "      <td>0</td>\n",
              "      <td>1</td>\n",
              "      <td>0</td>\n",
              "      <td>0</td>\n",
              "      <td>0</td>\n",
              "      <td>0</td>\n",
              "      <td>1</td>\n",
              "      <td>0</td>\n",
              "      <td>0</td>\n",
              "      <td>0</td>\n",
              "      <td>0</td>\n",
              "      <td>0</td>\n",
              "      <td>0</td>\n",
              "      <td>0</td>\n",
              "      <td>0</td>\n",
              "      <td>0</td>\n",
              "      <td>1</td>\n",
              "      <td>0</td>\n",
              "      <td>0</td>\n",
              "      <td>0</td>\n",
              "      <td>0</td>\n",
              "      <td>0</td>\n",
              "      <td>0</td>\n",
              "      <td>0</td>\n",
              "      <td>0</td>\n",
              "      <td>0</td>\n",
              "    </tr>\n",
              "    <tr>\n",
              "      <th>34708</th>\n",
              "      <td>3137225</td>\n",
              "      <td>4348659952760821294</td>\n",
              "      <td>1</td>\n",
              "      <td>-1665198983206396063</td>\n",
              "      <td>548</td>\n",
              "      <td>2683460969554425231</td>\n",
              "      <td>1</td>\n",
              "      <td>0</td>\n",
              "      <td>1</td>\n",
              "      <td>1</td>\n",
              "      <td>1</td>\n",
              "      <td>0</td>\n",
              "      <td>0</td>\n",
              "      <td>1</td>\n",
              "      <td>1</td>\n",
              "      <td>0</td>\n",
              "      <td>0</td>\n",
              "      <td>0</td>\n",
              "      <td>0</td>\n",
              "      <td>0</td>\n",
              "      <td>0</td>\n",
              "      <td>0</td>\n",
              "      <td>0</td>\n",
              "      <td>0</td>\n",
              "      <td>0</td>\n",
              "      <td>0</td>\n",
              "      <td>0</td>\n",
              "      <td>1</td>\n",
              "      <td>0</td>\n",
              "      <td>0</td>\n",
              "      <td>0</td>\n",
              "      <td>0</td>\n",
              "      <td>0</td>\n",
              "      <td>0</td>\n",
              "      <td>0</td>\n",
              "      <td>0</td>\n",
              "      <td>0</td>\n",
              "      <td>1</td>\n",
              "      <td>0</td>\n",
              "      <td>0</td>\n",
              "      <td>0</td>\n",
              "      <td>0</td>\n",
              "      <td>0</td>\n",
              "      <td>0</td>\n",
              "      <td>0</td>\n",
              "      <td>0</td>\n",
              "      <td>0</td>\n",
              "    </tr>\n",
              "    <tr>\n",
              "      <th>1279</th>\n",
              "      <td>144053</td>\n",
              "      <td>-8103714741965524240</td>\n",
              "      <td>0</td>\n",
              "      <td>2596032420261205364</td>\n",
              "      <td>787</td>\n",
              "      <td>-5507682321704318876</td>\n",
              "      <td>0</td>\n",
              "      <td>0</td>\n",
              "      <td>1</td>\n",
              "      <td>0</td>\n",
              "      <td>0</td>\n",
              "      <td>0</td>\n",
              "      <td>0</td>\n",
              "      <td>1</td>\n",
              "      <td>0</td>\n",
              "      <td>0</td>\n",
              "      <td>0</td>\n",
              "      <td>0</td>\n",
              "      <td>1</td>\n",
              "      <td>0</td>\n",
              "      <td>1</td>\n",
              "      <td>0</td>\n",
              "      <td>1</td>\n",
              "      <td>0</td>\n",
              "      <td>0</td>\n",
              "      <td>0</td>\n",
              "      <td>0</td>\n",
              "      <td>0</td>\n",
              "      <td>0</td>\n",
              "      <td>0</td>\n",
              "      <td>0</td>\n",
              "      <td>1</td>\n",
              "      <td>0</td>\n",
              "      <td>1</td>\n",
              "      <td>0</td>\n",
              "      <td>0</td>\n",
              "      <td>0</td>\n",
              "      <td>0</td>\n",
              "      <td>0</td>\n",
              "      <td>0</td>\n",
              "      <td>0</td>\n",
              "      <td>0</td>\n",
              "      <td>0</td>\n",
              "      <td>0</td>\n",
              "      <td>0</td>\n",
              "      <td>0</td>\n",
              "      <td>0</td>\n",
              "    </tr>\n",
              "    <tr>\n",
              "      <th>8021</th>\n",
              "      <td>663472</td>\n",
              "      <td>-1200607960388315089</td>\n",
              "      <td>0</td>\n",
              "      <td>5499466531572133131</td>\n",
              "      <td>713</td>\n",
              "      <td>4298858571183818042</td>\n",
              "      <td>1</td>\n",
              "      <td>1</td>\n",
              "      <td>1</td>\n",
              "      <td>1</td>\n",
              "      <td>0</td>\n",
              "      <td>1</td>\n",
              "      <td>1</td>\n",
              "      <td>1</td>\n",
              "      <td>0</td>\n",
              "      <td>0</td>\n",
              "      <td>0</td>\n",
              "      <td>0</td>\n",
              "      <td>0</td>\n",
              "      <td>0</td>\n",
              "      <td>0</td>\n",
              "      <td>0</td>\n",
              "      <td>0</td>\n",
              "      <td>1</td>\n",
              "      <td>1</td>\n",
              "      <td>1</td>\n",
              "      <td>0</td>\n",
              "      <td>1</td>\n",
              "      <td>0</td>\n",
              "      <td>0</td>\n",
              "      <td>0</td>\n",
              "      <td>0</td>\n",
              "      <td>0</td>\n",
              "      <td>0</td>\n",
              "      <td>0</td>\n",
              "      <td>0</td>\n",
              "      <td>0</td>\n",
              "      <td>1</td>\n",
              "      <td>0</td>\n",
              "      <td>0</td>\n",
              "      <td>0</td>\n",
              "      <td>0</td>\n",
              "      <td>0</td>\n",
              "      <td>0</td>\n",
              "      <td>0</td>\n",
              "      <td>0</td>\n",
              "      <td>0</td>\n",
              "    </tr>\n",
              "    <tr>\n",
              "      <th>10225</th>\n",
              "      <td>913759</td>\n",
              "      <td>33792862810792679</td>\n",
              "      <td>0</td>\n",
              "      <td>1734050676638523012</td>\n",
              "      <td>713</td>\n",
              "      <td>1767843539449315691</td>\n",
              "      <td>1</td>\n",
              "      <td>1</td>\n",
              "      <td>1</td>\n",
              "      <td>1</td>\n",
              "      <td>0</td>\n",
              "      <td>1</td>\n",
              "      <td>1</td>\n",
              "      <td>1</td>\n",
              "      <td>1</td>\n",
              "      <td>1</td>\n",
              "      <td>0</td>\n",
              "      <td>1</td>\n",
              "      <td>0</td>\n",
              "      <td>1</td>\n",
              "      <td>0</td>\n",
              "      <td>1</td>\n",
              "      <td>0</td>\n",
              "      <td>1</td>\n",
              "      <td>1</td>\n",
              "      <td>1</td>\n",
              "      <td>0</td>\n",
              "      <td>1</td>\n",
              "      <td>0</td>\n",
              "      <td>0</td>\n",
              "      <td>0</td>\n",
              "      <td>0</td>\n",
              "      <td>0</td>\n",
              "      <td>0</td>\n",
              "      <td>0</td>\n",
              "      <td>0</td>\n",
              "      <td>0</td>\n",
              "      <td>0</td>\n",
              "      <td>0</td>\n",
              "      <td>0</td>\n",
              "      <td>0</td>\n",
              "      <td>0</td>\n",
              "      <td>0</td>\n",
              "      <td>0</td>\n",
              "      <td>0</td>\n",
              "      <td>0</td>\n",
              "      <td>1</td>\n",
              "    </tr>\n",
              "    <tr>\n",
              "      <th>...</th>\n",
              "      <td>...</td>\n",
              "      <td>...</td>\n",
              "      <td>...</td>\n",
              "      <td>...</td>\n",
              "      <td>...</td>\n",
              "      <td>...</td>\n",
              "      <td>...</td>\n",
              "      <td>...</td>\n",
              "      <td>...</td>\n",
              "      <td>...</td>\n",
              "      <td>...</td>\n",
              "      <td>...</td>\n",
              "      <td>...</td>\n",
              "      <td>...</td>\n",
              "      <td>...</td>\n",
              "      <td>...</td>\n",
              "      <td>...</td>\n",
              "      <td>...</td>\n",
              "      <td>...</td>\n",
              "      <td>...</td>\n",
              "      <td>...</td>\n",
              "      <td>...</td>\n",
              "      <td>...</td>\n",
              "      <td>...</td>\n",
              "      <td>...</td>\n",
              "      <td>...</td>\n",
              "      <td>...</td>\n",
              "      <td>...</td>\n",
              "      <td>...</td>\n",
              "      <td>...</td>\n",
              "      <td>...</td>\n",
              "      <td>...</td>\n",
              "      <td>...</td>\n",
              "      <td>...</td>\n",
              "      <td>...</td>\n",
              "      <td>...</td>\n",
              "      <td>...</td>\n",
              "      <td>...</td>\n",
              "      <td>...</td>\n",
              "      <td>...</td>\n",
              "      <td>...</td>\n",
              "      <td>...</td>\n",
              "      <td>...</td>\n",
              "      <td>...</td>\n",
              "      <td>...</td>\n",
              "      <td>...</td>\n",
              "      <td>...</td>\n",
              "    </tr>\n",
              "    <tr>\n",
              "      <th>34832</th>\n",
              "      <td>3148380</td>\n",
              "      <td>-9050100410106163077</td>\n",
              "      <td>0</td>\n",
              "      <td>-1544445963999571951</td>\n",
              "      <td>787</td>\n",
              "      <td>7852197699603816588</td>\n",
              "      <td>1</td>\n",
              "      <td>0</td>\n",
              "      <td>1</td>\n",
              "      <td>1</td>\n",
              "      <td>1</td>\n",
              "      <td>1</td>\n",
              "      <td>1</td>\n",
              "      <td>1</td>\n",
              "      <td>1</td>\n",
              "      <td>0</td>\n",
              "      <td>0</td>\n",
              "      <td>0</td>\n",
              "      <td>1</td>\n",
              "      <td>0</td>\n",
              "      <td>1</td>\n",
              "      <td>0</td>\n",
              "      <td>1</td>\n",
              "      <td>0</td>\n",
              "      <td>0</td>\n",
              "      <td>0</td>\n",
              "      <td>1</td>\n",
              "      <td>0</td>\n",
              "      <td>0</td>\n",
              "      <td>0</td>\n",
              "      <td>0</td>\n",
              "      <td>0</td>\n",
              "      <td>0</td>\n",
              "      <td>0</td>\n",
              "      <td>0</td>\n",
              "      <td>0</td>\n",
              "      <td>0</td>\n",
              "      <td>0</td>\n",
              "      <td>0</td>\n",
              "      <td>0</td>\n",
              "      <td>0</td>\n",
              "      <td>0</td>\n",
              "      <td>0</td>\n",
              "      <td>0</td>\n",
              "      <td>0</td>\n",
              "      <td>0</td>\n",
              "      <td>0</td>\n",
              "    </tr>\n",
              "    <tr>\n",
              "      <th>471</th>\n",
              "      <td>45155</td>\n",
              "      <td>7316250158002095415</td>\n",
              "      <td>0</td>\n",
              "      <td>-4483258470894206861</td>\n",
              "      <td>757</td>\n",
              "      <td>2832991687107888554</td>\n",
              "      <td>1</td>\n",
              "      <td>1</td>\n",
              "      <td>1</td>\n",
              "      <td>1</td>\n",
              "      <td>1</td>\n",
              "      <td>1</td>\n",
              "      <td>1</td>\n",
              "      <td>1</td>\n",
              "      <td>1</td>\n",
              "      <td>1</td>\n",
              "      <td>0</td>\n",
              "      <td>1</td>\n",
              "      <td>0</td>\n",
              "      <td>1</td>\n",
              "      <td>0</td>\n",
              "      <td>1</td>\n",
              "      <td>0</td>\n",
              "      <td>0</td>\n",
              "      <td>0</td>\n",
              "      <td>0</td>\n",
              "      <td>0</td>\n",
              "      <td>0</td>\n",
              "      <td>0</td>\n",
              "      <td>0</td>\n",
              "      <td>0</td>\n",
              "      <td>0</td>\n",
              "      <td>1</td>\n",
              "      <td>0</td>\n",
              "      <td>1</td>\n",
              "      <td>0</td>\n",
              "      <td>0</td>\n",
              "      <td>0</td>\n",
              "      <td>0</td>\n",
              "      <td>0</td>\n",
              "      <td>0</td>\n",
              "      <td>0</td>\n",
              "      <td>0</td>\n",
              "      <td>0</td>\n",
              "      <td>0</td>\n",
              "      <td>0</td>\n",
              "      <td>0</td>\n",
              "    </tr>\n",
              "    <tr>\n",
              "      <th>14095</th>\n",
              "      <td>1165984</td>\n",
              "      <td>-1073344577746533072</td>\n",
              "      <td>0</td>\n",
              "      <td>5499466531572133131</td>\n",
              "      <td>730</td>\n",
              "      <td>4426121953825600059</td>\n",
              "      <td>1</td>\n",
              "      <td>0</td>\n",
              "      <td>1</td>\n",
              "      <td>1</td>\n",
              "      <td>1</td>\n",
              "      <td>0</td>\n",
              "      <td>0</td>\n",
              "      <td>1</td>\n",
              "      <td>1</td>\n",
              "      <td>1</td>\n",
              "      <td>0</td>\n",
              "      <td>1</td>\n",
              "      <td>0</td>\n",
              "      <td>1</td>\n",
              "      <td>0</td>\n",
              "      <td>1</td>\n",
              "      <td>0</td>\n",
              "      <td>1</td>\n",
              "      <td>1</td>\n",
              "      <td>1</td>\n",
              "      <td>0</td>\n",
              "      <td>1</td>\n",
              "      <td>0</td>\n",
              "      <td>0</td>\n",
              "      <td>0</td>\n",
              "      <td>0</td>\n",
              "      <td>0</td>\n",
              "      <td>0</td>\n",
              "      <td>0</td>\n",
              "      <td>0</td>\n",
              "      <td>0</td>\n",
              "      <td>1</td>\n",
              "      <td>0</td>\n",
              "      <td>0</td>\n",
              "      <td>0</td>\n",
              "      <td>0</td>\n",
              "      <td>0</td>\n",
              "      <td>0</td>\n",
              "      <td>0</td>\n",
              "      <td>0</td>\n",
              "      <td>0</td>\n",
              "    </tr>\n",
              "    <tr>\n",
              "      <th>23610</th>\n",
              "      <td>2117736</td>\n",
              "      <td>-974457023668610292</td>\n",
              "      <td>0</td>\n",
              "      <td>-6335083146238767307</td>\n",
              "      <td>761</td>\n",
              "      <td>-7309540169907377599</td>\n",
              "      <td>0</td>\n",
              "      <td>1</td>\n",
              "      <td>1</td>\n",
              "      <td>0</td>\n",
              "      <td>0</td>\n",
              "      <td>0</td>\n",
              "      <td>0</td>\n",
              "      <td>1</td>\n",
              "      <td>1</td>\n",
              "      <td>1</td>\n",
              "      <td>1</td>\n",
              "      <td>1</td>\n",
              "      <td>1</td>\n",
              "      <td>1</td>\n",
              "      <td>1</td>\n",
              "      <td>1</td>\n",
              "      <td>1</td>\n",
              "      <td>0</td>\n",
              "      <td>0</td>\n",
              "      <td>1</td>\n",
              "      <td>0</td>\n",
              "      <td>1</td>\n",
              "      <td>0</td>\n",
              "      <td>0</td>\n",
              "      <td>0</td>\n",
              "      <td>0</td>\n",
              "      <td>0</td>\n",
              "      <td>0</td>\n",
              "      <td>0</td>\n",
              "      <td>0</td>\n",
              "      <td>0</td>\n",
              "      <td>0</td>\n",
              "      <td>0</td>\n",
              "      <td>0</td>\n",
              "      <td>0</td>\n",
              "      <td>0</td>\n",
              "      <td>0</td>\n",
              "      <td>1</td>\n",
              "      <td>0</td>\n",
              "      <td>0</td>\n",
              "      <td>0</td>\n",
              "    </tr>\n",
              "    <tr>\n",
              "      <th>12927</th>\n",
              "      <td>1077613</td>\n",
              "      <td>-7509752927626140732</td>\n",
              "      <td>0</td>\n",
              "      <td>5499466531572133131</td>\n",
              "      <td>1007</td>\n",
              "      <td>-2010286396054007601</td>\n",
              "      <td>0</td>\n",
              "      <td>0</td>\n",
              "      <td>1</td>\n",
              "      <td>1</td>\n",
              "      <td>0</td>\n",
              "      <td>0</td>\n",
              "      <td>0</td>\n",
              "      <td>1</td>\n",
              "      <td>1</td>\n",
              "      <td>0</td>\n",
              "      <td>1</td>\n",
              "      <td>0</td>\n",
              "      <td>1</td>\n",
              "      <td>0</td>\n",
              "      <td>1</td>\n",
              "      <td>0</td>\n",
              "      <td>1</td>\n",
              "      <td>1</td>\n",
              "      <td>1</td>\n",
              "      <td>1</td>\n",
              "      <td>0</td>\n",
              "      <td>1</td>\n",
              "      <td>0</td>\n",
              "      <td>0</td>\n",
              "      <td>0</td>\n",
              "      <td>0</td>\n",
              "      <td>0</td>\n",
              "      <td>0</td>\n",
              "      <td>0</td>\n",
              "      <td>0</td>\n",
              "      <td>0</td>\n",
              "      <td>1</td>\n",
              "      <td>0</td>\n",
              "      <td>0</td>\n",
              "      <td>0</td>\n",
              "      <td>0</td>\n",
              "      <td>0</td>\n",
              "      <td>0</td>\n",
              "      <td>0</td>\n",
              "      <td>0</td>\n",
              "      <td>0</td>\n",
              "    </tr>\n",
              "  </tbody>\n",
              "</table>\n",
              "<p>7208 rows × 47 columns</p>\n",
              "</div>"
            ],
            "text/plain": [
              "       event_id               app_id  ...  device_model_魅蓝metal  device_model_麦芒4\n",
              "3972     331345 -1633912816187681087  ...                     0                 0\n",
              "34708   3137225  4348659952760821294  ...                     0                 0\n",
              "1279     144053 -8103714741965524240  ...                     0                 0\n",
              "8021     663472 -1200607960388315089  ...                     0                 0\n",
              "10225    913759    33792862810792679  ...                     0                 1\n",
              "...         ...                  ...  ...                   ...               ...\n",
              "34832   3148380 -9050100410106163077  ...                     0                 0\n",
              "471       45155  7316250158002095415  ...                     0                 0\n",
              "14095   1165984 -1073344577746533072  ...                     0                 0\n",
              "23610   2117736  -974457023668610292  ...                     0                 0\n",
              "12927   1077613 -7509752927626140732  ...                     0                 0\n",
              "\n",
              "[7208 rows x 47 columns]"
            ]
          },
          "metadata": {},
          "execution_count": 3
        }
      ]
    },
    {
      "cell_type": "code",
      "metadata": {
        "colab": {
          "base_uri": "https://localhost:8080/"
        },
        "id": "uy29E6s58qFw",
        "outputId": "7e8ad04c-a94b-4a88-a6ef-40f724ee079b"
      },
      "source": [
        "y_test\n"
      ],
      "execution_count": 4,
      "outputs": [
        {
          "output_type": "execute_result",
          "data": {
            "text/plain": [
              "3972      5\n",
              "34708     5\n",
              "1279     10\n",
              "8021      5\n",
              "10225     5\n",
              "         ..\n",
              "34832     4\n",
              "471       1\n",
              "14095     5\n",
              "23610     3\n",
              "12927     5\n",
              "Name: num_group, Length: 7208, dtype: int64"
            ]
          },
          "metadata": {},
          "execution_count": 4
        }
      ]
    },
    {
      "cell_type": "code",
      "metadata": {
        "colab": {
          "base_uri": "https://localhost:8080/"
        },
        "id": "4JmSf11G8tOw",
        "outputId": "5fe2e112-12f7-45a5-8f36-af671451b120"
      },
      "source": [
        "master_df[\"num_group\"].value_counts()\n"
      ],
      "execution_count": 5,
      "outputs": [
        {
          "output_type": "execute_result",
          "data": {
            "text/plain": [
              "5     11416\n",
              "4      9521\n",
              "3      5955\n",
              "10     2862\n",
              "9      2060\n",
              "11     1697\n",
              "1      1596\n",
              "2       585\n",
              "0       345\n",
              "Name: num_group, dtype: int64"
            ]
          },
          "metadata": {},
          "execution_count": 5
        }
      ]
    },
    {
      "cell_type": "code",
      "metadata": {
        "id": "GqxmmCTf9FMp"
      },
      "source": [
        "# Output_dim = 12 because there are 12 different age/gender groups\n",
        "output_dim = 12\n"
      ],
      "execution_count": 6,
      "outputs": []
    },
    {
      "cell_type": "code",
      "metadata": {
        "id": "WNKISkde9JS4"
      },
      "source": [
        "X_train_np = X_train.to_numpy()\n",
        "X_test_np = X_test.to_numpy()\n",
        "y_train = to_categorical(y_train, output_dim)\n",
        "y_test = to_categorical(y_test, output_dim)\n"
      ],
      "execution_count": 7,
      "outputs": []
    },
    {
      "cell_type": "markdown",
      "metadata": {
        "id": "O5WNq59h9QcI"
      },
      "source": [
        "# 3 Layer RELU Model with ADAM Optimizer\n"
      ]
    },
    {
      "cell_type": "code",
      "metadata": {
        "id": "fY_ZKoNq9Nnx"
      },
      "source": [
        "model = Sequential()\n",
        "model.add(Dense(128, input_dim=X_train_np.shape[1], activation=\"relu\"))\n",
        "model.add(Dense(64, activation=\"relu\"))\n",
        "model.add(Dense(12, activation=\"softmax\"))\n"
      ],
      "execution_count": 8,
      "outputs": []
    },
    {
      "cell_type": "code",
      "metadata": {
        "id": "CUmZQDJ49VGY"
      },
      "source": [
        "model.compile(loss=\"categorical_crossentropy\", optimizer=\"adam\", metrics=[\"accuracy\"])\n"
      ],
      "execution_count": 9,
      "outputs": []
    },
    {
      "cell_type": "code",
      "metadata": {
        "colab": {
          "base_uri": "https://localhost:8080/"
        },
        "id": "ATVPSjH09VI4",
        "outputId": "d2060d32-30a6-43eb-f7ec-7e757be09c74"
      },
      "source": [
        "model.fit(X_train, y_train, batch_size=128, epochs=20, verbose=1)\n"
      ],
      "execution_count": 10,
      "outputs": [
        {
          "output_type": "stream",
          "name": "stdout",
          "text": [
            "Epoch 1/20\n",
            "226/226 [==============================] - 1s 2ms/step - loss: 48577789514743808.0000 - accuracy: 0.2977\n",
            "Epoch 2/20\n",
            "226/226 [==============================] - 1s 2ms/step - loss: 16006550690725888.0000 - accuracy: 0.3256\n",
            "Epoch 3/20\n",
            "226/226 [==============================] - 0s 2ms/step - loss: 14281255885471744.0000 - accuracy: 0.3309\n",
            "Epoch 4/20\n",
            "226/226 [==============================] - 1s 2ms/step - loss: 12010318771257344.0000 - accuracy: 0.3431\n",
            "Epoch 5/20\n",
            "226/226 [==============================] - 1s 2ms/step - loss: 11933172568686592.0000 - accuracy: 0.3414\n",
            "Epoch 6/20\n",
            "226/226 [==============================] - 1s 2ms/step - loss: 11963560536047616.0000 - accuracy: 0.3421\n",
            "Epoch 7/20\n",
            "226/226 [==============================] - 1s 2ms/step - loss: 10184119078092800.0000 - accuracy: 0.3468\n",
            "Epoch 8/20\n",
            "226/226 [==============================] - 0s 2ms/step - loss: 9654902871556096.0000 - accuracy: 0.3465\n",
            "Epoch 9/20\n",
            "226/226 [==============================] - 1s 2ms/step - loss: 8630643365773312.0000 - accuracy: 0.3513\n",
            "Epoch 10/20\n",
            "226/226 [==============================] - 0s 2ms/step - loss: 8834379971297280.0000 - accuracy: 0.3536\n",
            "Epoch 11/20\n",
            "226/226 [==============================] - 0s 2ms/step - loss: 8622167247814656.0000 - accuracy: 0.3497\n",
            "Epoch 12/20\n",
            "226/226 [==============================] - 1s 2ms/step - loss: 7778568025145344.0000 - accuracy: 0.3555\n",
            "Epoch 13/20\n",
            "226/226 [==============================] - 1s 2ms/step - loss: 7742731354898432.0000 - accuracy: 0.3554\n",
            "Epoch 14/20\n",
            "226/226 [==============================] - 1s 2ms/step - loss: 6738696313241600.0000 - accuracy: 0.3607\n",
            "Epoch 15/20\n",
            "226/226 [==============================] - 1s 2ms/step - loss: 6820961579958272.0000 - accuracy: 0.3562\n",
            "Epoch 16/20\n",
            "226/226 [==============================] - 1s 2ms/step - loss: 6440484922720256.0000 - accuracy: 0.3601\n",
            "Epoch 17/20\n",
            "226/226 [==============================] - 0s 2ms/step - loss: 6465580416630784.0000 - accuracy: 0.3508\n",
            "Epoch 18/20\n",
            "226/226 [==============================] - 1s 2ms/step - loss: 5997572862771200.0000 - accuracy: 0.3545\n",
            "Epoch 19/20\n",
            "226/226 [==============================] - 0s 2ms/step - loss: 5639770948501504.0000 - accuracy: 0.3584\n",
            "Epoch 20/20\n",
            "226/226 [==============================] - 0s 2ms/step - loss: 5071038358487040.0000 - accuracy: 0.3643\n"
          ]
        },
        {
          "output_type": "execute_result",
          "data": {
            "text/plain": [
              "<keras.callbacks.History at 0x7f84df0a7210>"
            ]
          },
          "metadata": {},
          "execution_count": 10
        }
      ]
    },
    {
      "cell_type": "code",
      "metadata": {
        "colab": {
          "base_uri": "https://localhost:8080/"
        },
        "id": "ZG8zJoA59VLa",
        "outputId": "8134b52e-f4d4-42c7-efa5-644e33928167"
      },
      "source": [
        "score = model.evaluate(X_test, y_test, verbose=0)\n",
        "print(\"Test accuracy:\", score[1])\n"
      ],
      "execution_count": 11,
      "outputs": [
        {
          "output_type": "stream",
          "name": "stdout",
          "text": [
            "Test accuracy: 0.2866259813308716\n"
          ]
        }
      ]
    },
    {
      "cell_type": "code",
      "metadata": {
        "id": "5jvvgPr_9VNj"
      },
      "source": [
        "y_pred = model.predict(X_test)\n",
        "y_test_arg = tf.argmax(y_test, 1)\n",
        "y_pred_arg = tf.argmax(y_pred, 1)\n"
      ],
      "execution_count": 12,
      "outputs": []
    },
    {
      "cell_type": "code",
      "metadata": {
        "colab": {
          "base_uri": "https://localhost:8080/"
        },
        "id": "UnUQe85l4A03",
        "outputId": "c600be64-7489-4bc3-9b09-d319ad9a55c1"
      },
      "source": [
        "print(\"Classification Report:\")\n",
        "print()\n",
        "print(classification_report(y_test_arg, y_pred_arg))"
      ],
      "execution_count": 13,
      "outputs": [
        {
          "output_type": "stream",
          "name": "stdout",
          "text": [
            "Classification Report:\n",
            "\n",
            "              precision    recall  f1-score   support\n",
            "\n",
            "           0       0.11      0.04      0.06        69\n",
            "           1       0.40      0.35      0.37       319\n",
            "           2       0.23      0.11      0.15       117\n",
            "           3       0.26      0.20      0.22      1191\n",
            "           4       0.34      0.35      0.35      1904\n",
            "           5       0.44      0.36      0.39      2283\n",
            "           9       0.25      0.11      0.15       412\n",
            "          10       0.22      0.18      0.20       573\n",
            "          11       0.05      0.23      0.09       340\n",
            "\n",
            "    accuracy                           0.29      7208\n",
            "   macro avg       0.26      0.21      0.22      7208\n",
            "weighted avg       0.33      0.29      0.30      7208\n",
            "\n"
          ]
        }
      ]
    },
    {
      "cell_type": "markdown",
      "metadata": {
        "id": "RUJgNy_h9ulh"
      },
      "source": [
        "# 3 Layer RELU Model with SGD Optimizer\n"
      ]
    },
    {
      "cell_type": "code",
      "metadata": {
        "id": "OiRh6iR89VSk"
      },
      "source": [
        "model = Sequential()\n",
        "model.add(Dense(128, input_dim=X_train_np.shape[1], activation=\"relu\"))\n",
        "model.add(Dense(64, activation=\"relu\"))\n",
        "model.add(Dense(12, activation=\"softmax\"))\n"
      ],
      "execution_count": 14,
      "outputs": []
    },
    {
      "cell_type": "code",
      "metadata": {
        "id": "svwol4pQ9zDh"
      },
      "source": [
        "model.compile(loss=\"categorical_crossentropy\", optimizer=\"sgd\", metrics=[\"accuracy\"])\n"
      ],
      "execution_count": 15,
      "outputs": []
    },
    {
      "cell_type": "code",
      "metadata": {
        "colab": {
          "base_uri": "https://localhost:8080/"
        },
        "id": "UE5UoRaH95jR",
        "outputId": "a7f7533d-590c-42ca-eea6-0f9b134bd588"
      },
      "source": [
        "model.fit(X_train, y_train, batch_size=128, epochs=20, verbose=1)\n"
      ],
      "execution_count": 16,
      "outputs": [
        {
          "output_type": "stream",
          "name": "stdout",
          "text": [
            "Epoch 1/20\n",
            "226/226 [==============================] - 1s 2ms/step - loss: nan - accuracy: 0.0096\n",
            "Epoch 2/20\n",
            "226/226 [==============================] - 0s 2ms/step - loss: nan - accuracy: 0.0096\n",
            "Epoch 3/20\n",
            "226/226 [==============================] - 0s 2ms/step - loss: nan - accuracy: 0.0096\n",
            "Epoch 4/20\n",
            "226/226 [==============================] - 0s 2ms/step - loss: nan - accuracy: 0.0096\n",
            "Epoch 5/20\n",
            "226/226 [==============================] - 0s 2ms/step - loss: nan - accuracy: 0.0096\n",
            "Epoch 6/20\n",
            "226/226 [==============================] - 0s 2ms/step - loss: nan - accuracy: 0.0096\n",
            "Epoch 7/20\n",
            "226/226 [==============================] - 0s 2ms/step - loss: nan - accuracy: 0.0096\n",
            "Epoch 8/20\n",
            "226/226 [==============================] - 0s 2ms/step - loss: nan - accuracy: 0.0096\n",
            "Epoch 9/20\n",
            "226/226 [==============================] - 0s 2ms/step - loss: nan - accuracy: 0.0096\n",
            "Epoch 10/20\n",
            "226/226 [==============================] - 0s 2ms/step - loss: nan - accuracy: 0.0096\n",
            "Epoch 11/20\n",
            "226/226 [==============================] - 0s 2ms/step - loss: nan - accuracy: 0.0096\n",
            "Epoch 12/20\n",
            "226/226 [==============================] - 0s 2ms/step - loss: nan - accuracy: 0.0096\n",
            "Epoch 13/20\n",
            "226/226 [==============================] - 0s 2ms/step - loss: nan - accuracy: 0.0096\n",
            "Epoch 14/20\n",
            "226/226 [==============================] - 0s 2ms/step - loss: nan - accuracy: 0.0096\n",
            "Epoch 15/20\n",
            "226/226 [==============================] - 0s 2ms/step - loss: nan - accuracy: 0.0096\n",
            "Epoch 16/20\n",
            "226/226 [==============================] - 0s 2ms/step - loss: nan - accuracy: 0.0096\n",
            "Epoch 17/20\n",
            "226/226 [==============================] - 0s 2ms/step - loss: nan - accuracy: 0.0096\n",
            "Epoch 18/20\n",
            "226/226 [==============================] - 0s 2ms/step - loss: nan - accuracy: 0.0096\n",
            "Epoch 19/20\n",
            "226/226 [==============================] - 0s 2ms/step - loss: nan - accuracy: 0.0096\n",
            "Epoch 20/20\n",
            "226/226 [==============================] - 0s 2ms/step - loss: nan - accuracy: 0.0096\n"
          ]
        },
        {
          "output_type": "execute_result",
          "data": {
            "text/plain": [
              "<keras.callbacks.History at 0x7f84def73a90>"
            ]
          },
          "metadata": {},
          "execution_count": 16
        }
      ]
    },
    {
      "cell_type": "code",
      "metadata": {
        "colab": {
          "base_uri": "https://localhost:8080/"
        },
        "id": "EOjLLPx099cJ",
        "outputId": "76a0e1c4-5f6d-4af5-cb37-7e68f9c4174a"
      },
      "source": [
        "score = model.evaluate(X_test, y_test, verbose=0)\n",
        "print(\"Test accuracy:\", score[1])\n"
      ],
      "execution_count": 17,
      "outputs": [
        {
          "output_type": "stream",
          "name": "stdout",
          "text": [
            "Test accuracy: 0.00957269687205553\n"
          ]
        }
      ]
    },
    {
      "cell_type": "code",
      "metadata": {
        "id": "Jz8WlqH09_2g"
      },
      "source": [
        "y_pred = model.predict(X_test)\n",
        "y_test_arg = tf.argmax(y_test, 1)\n",
        "y_pred_arg = tf.argmax(y_pred, 1)\n"
      ],
      "execution_count": 18,
      "outputs": []
    },
    {
      "cell_type": "code",
      "metadata": {
        "colab": {
          "base_uri": "https://localhost:8080/"
        },
        "id": "N2JkuNDD4GRW",
        "outputId": "cb5c3e14-169e-44f7-d3c3-231846345281"
      },
      "source": [
        "print(\"Classification Report:\")\n",
        "print()\n",
        "print(classification_report(y_test_arg, y_pred_arg))"
      ],
      "execution_count": 19,
      "outputs": [
        {
          "output_type": "stream",
          "name": "stdout",
          "text": [
            "Classification Report:\n",
            "\n",
            "              precision    recall  f1-score   support\n",
            "\n",
            "           0       0.01      1.00      0.02        69\n",
            "           1       0.00      0.00      0.00       319\n",
            "           2       0.00      0.00      0.00       117\n",
            "           3       0.00      0.00      0.00      1191\n",
            "           4       0.00      0.00      0.00      1904\n",
            "           5       0.00      0.00      0.00      2283\n",
            "           9       0.00      0.00      0.00       412\n",
            "          10       0.00      0.00      0.00       573\n",
            "          11       0.00      0.00      0.00       340\n",
            "\n",
            "    accuracy                           0.01      7208\n",
            "   macro avg       0.00      0.11      0.00      7208\n",
            "weighted avg       0.00      0.01      0.00      7208\n",
            "\n"
          ]
        }
      ]
    },
    {
      "cell_type": "markdown",
      "metadata": {
        "id": "yQ3F-Ysf-F6b"
      },
      "source": [
        "# 3 Layer TANH Model with ADAM Optimizer"
      ]
    },
    {
      "cell_type": "code",
      "metadata": {
        "id": "-yjnFwN9-FQJ"
      },
      "source": [
        "model = Sequential()\n",
        "model.add(Dense(128, input_dim=X_train_np.shape[1], activation=\"tanh\"))\n",
        "model.add(Dense(64, activation=\"tanh\"))\n",
        "model.add(Dense(12, activation=\"softmax\"))\n"
      ],
      "execution_count": 20,
      "outputs": []
    },
    {
      "cell_type": "code",
      "metadata": {
        "id": "ynK-BDPG-Q3g"
      },
      "source": [
        "model.compile(loss=\"categorical_crossentropy\", optimizer=\"adam\", metrics=[\"accuracy\"])\n"
      ],
      "execution_count": 21,
      "outputs": []
    },
    {
      "cell_type": "code",
      "metadata": {
        "colab": {
          "base_uri": "https://localhost:8080/"
        },
        "id": "C5SCifEj-S5v",
        "outputId": "900465fc-9dfd-4c91-c16f-9515d6b2ed44"
      },
      "source": [
        "model.fit(X_train, y_train, batch_size=128, epochs=20, verbose=1)\n"
      ],
      "execution_count": 22,
      "outputs": [
        {
          "output_type": "stream",
          "name": "stdout",
          "text": [
            "Epoch 1/20\n",
            "226/226 [==============================] - 1s 2ms/step - loss: 1.9270 - accuracy: 0.3696\n",
            "Epoch 2/20\n",
            "226/226 [==============================] - 1s 2ms/step - loss: 1.4848 - accuracy: 0.4487\n",
            "Epoch 3/20\n",
            "226/226 [==============================] - 0s 2ms/step - loss: 1.3992 - accuracy: 0.4680\n",
            "Epoch 4/20\n",
            "226/226 [==============================] - 0s 2ms/step - loss: 1.3528 - accuracy: 0.4857\n",
            "Epoch 5/20\n",
            "226/226 [==============================] - 1s 2ms/step - loss: 1.3177 - accuracy: 0.5020\n",
            "Epoch 6/20\n",
            "226/226 [==============================] - 1s 2ms/step - loss: 1.2878 - accuracy: 0.5104\n",
            "Epoch 7/20\n",
            "226/226 [==============================] - 0s 2ms/step - loss: 1.2620 - accuracy: 0.5208\n",
            "Epoch 8/20\n",
            "226/226 [==============================] - 0s 2ms/step - loss: 1.2443 - accuracy: 0.5256\n",
            "Epoch 9/20\n",
            "226/226 [==============================] - 1s 2ms/step - loss: 1.2224 - accuracy: 0.5339\n",
            "Epoch 10/20\n",
            "226/226 [==============================] - 0s 2ms/step - loss: 1.2080 - accuracy: 0.5358\n",
            "Epoch 11/20\n",
            "226/226 [==============================] - 0s 2ms/step - loss: 1.1982 - accuracy: 0.5408\n",
            "Epoch 12/20\n",
            "226/226 [==============================] - 0s 2ms/step - loss: 1.1856 - accuracy: 0.5451\n",
            "Epoch 13/20\n",
            "226/226 [==============================] - 0s 2ms/step - loss: 1.1705 - accuracy: 0.5508\n",
            "Epoch 14/20\n",
            "226/226 [==============================] - 0s 2ms/step - loss: 1.1582 - accuracy: 0.5544\n",
            "Epoch 15/20\n",
            "226/226 [==============================] - 0s 2ms/step - loss: 1.1512 - accuracy: 0.5551\n",
            "Epoch 16/20\n",
            "226/226 [==============================] - 0s 2ms/step - loss: 1.1431 - accuracy: 0.5600\n",
            "Epoch 17/20\n",
            "226/226 [==============================] - 0s 2ms/step - loss: 1.1352 - accuracy: 0.5608\n",
            "Epoch 18/20\n",
            "226/226 [==============================] - 1s 2ms/step - loss: 1.1283 - accuracy: 0.5643\n",
            "Epoch 19/20\n",
            "226/226 [==============================] - 1s 2ms/step - loss: 1.1239 - accuracy: 0.5603\n",
            "Epoch 20/20\n",
            "226/226 [==============================] - 1s 2ms/step - loss: 1.1170 - accuracy: 0.5633\n"
          ]
        },
        {
          "output_type": "execute_result",
          "data": {
            "text/plain": [
              "<keras.callbacks.History at 0x7f84dee27750>"
            ]
          },
          "metadata": {},
          "execution_count": 22
        }
      ]
    },
    {
      "cell_type": "code",
      "metadata": {
        "colab": {
          "base_uri": "https://localhost:8080/"
        },
        "id": "YvrRmaL--VOo",
        "outputId": "6b32899f-88b6-4882-d1fa-53084a65946e"
      },
      "source": [
        "score = model.evaluate(X_test, y_test, verbose=0)\n",
        "print(\"Test accuracy:\", score[1])\n"
      ],
      "execution_count": 23,
      "outputs": [
        {
          "output_type": "stream",
          "name": "stdout",
          "text": [
            "Test accuracy: 0.5529966950416565\n"
          ]
        }
      ]
    },
    {
      "cell_type": "code",
      "metadata": {
        "id": "m1BNYJQT-X24"
      },
      "source": [
        "y_pred = model.predict(X_test)\n",
        "y_test_arg = tf.argmax(y_test, 1)\n",
        "y_pred_arg = tf.argmax(y_pred, 1)\n"
      ],
      "execution_count": 24,
      "outputs": []
    },
    {
      "cell_type": "code",
      "metadata": {
        "colab": {
          "base_uri": "https://localhost:8080/"
        },
        "id": "YD8J5aOI4pWf",
        "outputId": "f4d3a71c-85dd-4fa4-f599-d65ce99fda6b"
      },
      "source": [
        "print(\"Classification Report:\")\n",
        "print()\n",
        "print(classification_report(y_test_arg , y_pred_arg))"
      ],
      "execution_count": 26,
      "outputs": [
        {
          "output_type": "stream",
          "name": "stdout",
          "text": [
            "Classification Report:\n",
            "\n",
            "              precision    recall  f1-score   support\n",
            "\n",
            "           0       0.50      0.04      0.08        69\n",
            "           1       0.88      0.28      0.42       319\n",
            "           2       0.52      0.15      0.23       117\n",
            "           3       0.56      0.57      0.56      1191\n",
            "           4       0.53      0.58      0.55      1904\n",
            "           5       0.53      0.72      0.61      2283\n",
            "           9       0.53      0.33      0.41       412\n",
            "          10       0.81      0.41      0.54       573\n",
            "          11       0.51      0.24      0.32       340\n",
            "\n",
            "    accuracy                           0.55      7208\n",
            "   macro avg       0.60      0.37      0.41      7208\n",
            "weighted avg       0.57      0.55      0.54      7208\n",
            "\n"
          ]
        }
      ]
    },
    {
      "cell_type": "markdown",
      "metadata": {
        "id": "zXtWVpA5-c6w"
      },
      "source": [
        "# 3 Layer TANH Model with SGD Optimizer"
      ]
    },
    {
      "cell_type": "code",
      "metadata": {
        "id": "RL4BMILD-akj"
      },
      "source": [
        "model = Sequential()\n",
        "model.add(Dense(128, input_dim=X_train_np.shape[1], activation=\"tanh\"))\n",
        "model.add(Dense(64, activation=\"tanh\"))\n",
        "model.add(Dense(12, activation=\"softmax\"))\n"
      ],
      "execution_count": 27,
      "outputs": []
    },
    {
      "cell_type": "code",
      "metadata": {
        "id": "LahZxKmm-pyJ"
      },
      "source": [
        "model.compile(loss=\"categorical_crossentropy\", optimizer=\"sgd\", metrics=[\"accuracy\"])\n"
      ],
      "execution_count": 28,
      "outputs": []
    },
    {
      "cell_type": "code",
      "metadata": {
        "id": "UyKfA6Ss-tYh",
        "colab": {
          "base_uri": "https://localhost:8080/"
        },
        "outputId": "4e47d8fd-342d-4326-d70c-6331f27dad23"
      },
      "source": [
        "model.fit(X_train, y_train, batch_size=128, epochs=20, verbose=1)\n"
      ],
      "execution_count": 29,
      "outputs": [
        {
          "output_type": "stream",
          "name": "stdout",
          "text": [
            "Epoch 1/20\n",
            "226/226 [==============================] - 1s 2ms/step - loss: 2.2060 - accuracy: 0.2774\n",
            "Epoch 2/20\n",
            "226/226 [==============================] - 0s 2ms/step - loss: 1.8249 - accuracy: 0.3790\n",
            "Epoch 3/20\n",
            "226/226 [==============================] - 0s 2ms/step - loss: 1.6737 - accuracy: 0.3983\n",
            "Epoch 4/20\n",
            "226/226 [==============================] - 0s 2ms/step - loss: 1.6055 - accuracy: 0.4119\n",
            "Epoch 5/20\n",
            "226/226 [==============================] - 0s 2ms/step - loss: 1.5665 - accuracy: 0.4267\n",
            "Epoch 6/20\n",
            "226/226 [==============================] - 0s 2ms/step - loss: 1.5384 - accuracy: 0.4336\n",
            "Epoch 7/20\n",
            "226/226 [==============================] - 0s 2ms/step - loss: 1.5154 - accuracy: 0.4429\n",
            "Epoch 8/20\n",
            "226/226 [==============================] - 0s 2ms/step - loss: 1.4967 - accuracy: 0.4499\n",
            "Epoch 9/20\n",
            "226/226 [==============================] - 0s 2ms/step - loss: 1.4799 - accuracy: 0.4551\n",
            "Epoch 10/20\n",
            "226/226 [==============================] - 0s 2ms/step - loss: 1.4651 - accuracy: 0.4590\n",
            "Epoch 11/20\n",
            "226/226 [==============================] - 0s 2ms/step - loss: 1.4513 - accuracy: 0.4625\n",
            "Epoch 12/20\n",
            "226/226 [==============================] - 0s 2ms/step - loss: 1.4391 - accuracy: 0.4662\n",
            "Epoch 13/20\n",
            "226/226 [==============================] - 0s 2ms/step - loss: 1.4277 - accuracy: 0.4703\n",
            "Epoch 14/20\n",
            "226/226 [==============================] - 0s 2ms/step - loss: 1.4171 - accuracy: 0.4716\n",
            "Epoch 15/20\n",
            "226/226 [==============================] - 0s 2ms/step - loss: 1.4071 - accuracy: 0.4748\n",
            "Epoch 16/20\n",
            "226/226 [==============================] - 0s 2ms/step - loss: 1.3973 - accuracy: 0.4793\n",
            "Epoch 17/20\n",
            "226/226 [==============================] - 0s 2ms/step - loss: 1.3887 - accuracy: 0.4828\n",
            "Epoch 18/20\n",
            "226/226 [==============================] - 0s 2ms/step - loss: 1.3801 - accuracy: 0.4854\n",
            "Epoch 19/20\n",
            "226/226 [==============================] - 0s 2ms/step - loss: 1.3722 - accuracy: 0.4874\n",
            "Epoch 20/20\n",
            "226/226 [==============================] - 0s 2ms/step - loss: 1.3641 - accuracy: 0.4897\n"
          ]
        },
        {
          "output_type": "execute_result",
          "data": {
            "text/plain": [
              "<keras.callbacks.History at 0x7f84ded22150>"
            ]
          },
          "metadata": {},
          "execution_count": 29
        }
      ]
    },
    {
      "cell_type": "code",
      "metadata": {
        "id": "A1SUZGBN-vCq",
        "colab": {
          "base_uri": "https://localhost:8080/"
        },
        "outputId": "b3b0f76e-a90f-4f3a-ee26-fb192b8e5ddd"
      },
      "source": [
        "score = model.evaluate(X_test, y_test, verbose=0)\n",
        "print(\"Test accuracy:\", score[1])\n"
      ],
      "execution_count": 30,
      "outputs": [
        {
          "output_type": "stream",
          "name": "stdout",
          "text": [
            "Test accuracy: 0.4816870093345642\n"
          ]
        }
      ]
    },
    {
      "cell_type": "code",
      "metadata": {
        "id": "du55d1Rf-y9q"
      },
      "source": [
        "y_pred = model.predict(X_test)\n",
        "y_test_arg = tf.argmax(y_test, 1)\n",
        "y_pred_arg = tf.argmax(y_pred, 1)\n"
      ],
      "execution_count": 31,
      "outputs": []
    },
    {
      "cell_type": "code",
      "metadata": {
        "id": "97NxMK4m-3C6",
        "colab": {
          "base_uri": "https://localhost:8080/"
        },
        "outputId": "fe931bc3-6e3b-4796-9e3a-cf567bbe817a"
      },
      "source": [
        "res = tf.math.confusion_matrix(y_test_arg, y_pred_arg)\n",
        "print(res)\n"
      ],
      "execution_count": 32,
      "outputs": [
        {
          "output_type": "stream",
          "name": "stdout",
          "text": [
            "tf.Tensor(\n",
            "[[   0    0    0   33    3   33    0    0    0    0    0    0]\n",
            " [   0   64    0   63   65  122    0    0    0    0    5    0]\n",
            " [   0    0    0   80    8   29    0    0    0    0    0    0]\n",
            " [   0    0    0  881   94  201    0    0    0    6    9    0]\n",
            " [   0    0    0  402  922  542    0    0    0    4   33    1]\n",
            " [   0   44    0  355  510 1275    0    0    0    6   93    0]\n",
            " [   0    0    0    0    0    0    0    0    0    0    0    0]\n",
            " [   0    0    0    0    0    0    0    0    0    0    0    0]\n",
            " [   0    0    0    0    0    0    0    0    0    0    0    0]\n",
            " [   0    0    0   48  214   66    0    0    0   69   15    0]\n",
            " [   0    0    0   28  195   89    0    0    0    0  261    0]\n",
            " [   0    0    0   70  118  146    0    0    0    5    1    0]], shape=(12, 12), dtype=int32)\n"
          ]
        }
      ]
    },
    {
      "cell_type": "code",
      "metadata": {
        "id": "CL3GgSzf9S2j",
        "colab": {
          "base_uri": "https://localhost:8080/"
        },
        "outputId": "b36631fb-8d88-40e7-b49a-1fce90d446c4"
      },
      "source": [
        "print(\"Classification Report:\")\n",
        "print()\n",
        "print(classification_report(y_test_arg, y_pred_arg))"
      ],
      "execution_count": 33,
      "outputs": [
        {
          "output_type": "stream",
          "name": "stdout",
          "text": [
            "Classification Report:\n",
            "\n",
            "              precision    recall  f1-score   support\n",
            "\n",
            "           0       0.00      0.00      0.00        69\n",
            "           1       0.59      0.20      0.30       319\n",
            "           2       0.00      0.00      0.00       117\n",
            "           3       0.45      0.74      0.56      1191\n",
            "           4       0.43      0.48      0.46      1904\n",
            "           5       0.51      0.56      0.53      2283\n",
            "           9       0.77      0.17      0.27       412\n",
            "          10       0.63      0.46      0.53       573\n",
            "          11       0.00      0.00      0.00       340\n",
            "\n",
            "    accuracy                           0.48      7208\n",
            "   macro avg       0.38      0.29      0.29      7208\n",
            "weighted avg       0.47      0.48      0.45      7208\n",
            "\n"
          ]
        }
      ]
    },
    {
      "cell_type": "markdown",
      "metadata": {
        "id": "KeOp21qS-7Uz"
      },
      "source": [
        "# 3 Layer Sigmoid with ADAM Optimizer"
      ]
    },
    {
      "cell_type": "code",
      "metadata": {
        "id": "7PybGPLk-8Yh"
      },
      "source": [
        "model = Sequential()\n",
        "model.add(Dense(128, input_dim=X_train_np.shape[1], activation=\"sigmoid\"))\n",
        "model.add(Dense(64, activation=\"sigmoid\"))\n",
        "model.add(Dense(12, activation=\"softmax\"))\n"
      ],
      "execution_count": 34,
      "outputs": []
    },
    {
      "cell_type": "code",
      "metadata": {
        "id": "4qCt6K8I-_qr"
      },
      "source": [
        "model.compile(loss=\"categorical_crossentropy\", optimizer=\"adam\", metrics=[\"accuracy\"])\n"
      ],
      "execution_count": 35,
      "outputs": []
    },
    {
      "cell_type": "code",
      "metadata": {
        "id": "8BVCCa74_BZx",
        "colab": {
          "base_uri": "https://localhost:8080/"
        },
        "outputId": "b2433251-42e2-4c0f-ffbe-2e2eb1abff67"
      },
      "source": [
        "model.fit(X_train, y_train, batch_size=128, epochs=20, verbose=1)\n"
      ],
      "execution_count": 36,
      "outputs": [
        {
          "output_type": "stream",
          "name": "stdout",
          "text": [
            "Epoch 1/20\n",
            "226/226 [==============================] - 1s 2ms/step - loss: 1.6871 - accuracy: 0.3576\n",
            "Epoch 2/20\n",
            "226/226 [==============================] - 1s 2ms/step - loss: 1.5856 - accuracy: 0.3815\n",
            "Epoch 3/20\n",
            "226/226 [==============================] - 1s 2ms/step - loss: 1.5450 - accuracy: 0.3957\n",
            "Epoch 4/20\n",
            "226/226 [==============================] - 0s 2ms/step - loss: 1.5149 - accuracy: 0.4039\n",
            "Epoch 5/20\n",
            "226/226 [==============================] - 0s 2ms/step - loss: 1.4931 - accuracy: 0.4169\n",
            "Epoch 6/20\n",
            "226/226 [==============================] - 1s 2ms/step - loss: 1.4732 - accuracy: 0.4239\n",
            "Epoch 7/20\n",
            "226/226 [==============================] - 0s 2ms/step - loss: 1.4567 - accuracy: 0.4369\n",
            "Epoch 8/20\n",
            "226/226 [==============================] - 0s 2ms/step - loss: 1.4411 - accuracy: 0.4425\n",
            "Epoch 9/20\n",
            "226/226 [==============================] - 1s 2ms/step - loss: 1.4272 - accuracy: 0.4485\n",
            "Epoch 10/20\n",
            "226/226 [==============================] - 0s 2ms/step - loss: 1.4156 - accuracy: 0.4535\n",
            "Epoch 11/20\n",
            "226/226 [==============================] - 0s 2ms/step - loss: 1.4018 - accuracy: 0.4608\n",
            "Epoch 12/20\n",
            "226/226 [==============================] - 0s 2ms/step - loss: 1.3912 - accuracy: 0.4645\n",
            "Epoch 13/20\n",
            "226/226 [==============================] - 0s 2ms/step - loss: 1.3814 - accuracy: 0.4715\n",
            "Epoch 14/20\n",
            "226/226 [==============================] - 0s 2ms/step - loss: 1.3717 - accuracy: 0.4747\n",
            "Epoch 15/20\n",
            "226/226 [==============================] - 0s 2ms/step - loss: 1.3605 - accuracy: 0.4794\n",
            "Epoch 16/20\n",
            "226/226 [==============================] - 0s 2ms/step - loss: 1.3521 - accuracy: 0.4851\n",
            "Epoch 17/20\n",
            "226/226 [==============================] - 0s 2ms/step - loss: 1.3443 - accuracy: 0.4880\n",
            "Epoch 18/20\n",
            "226/226 [==============================] - 0s 2ms/step - loss: 1.3363 - accuracy: 0.4878\n",
            "Epoch 19/20\n",
            "226/226 [==============================] - 0s 2ms/step - loss: 1.3271 - accuracy: 0.4967\n",
            "Epoch 20/20\n",
            "226/226 [==============================] - 0s 2ms/step - loss: 1.3200 - accuracy: 0.4967\n"
          ]
        },
        {
          "output_type": "execute_result",
          "data": {
            "text/plain": [
              "<keras.callbacks.History at 0x7f84dea71a90>"
            ]
          },
          "metadata": {},
          "execution_count": 36
        }
      ]
    },
    {
      "cell_type": "code",
      "metadata": {
        "id": "x93Yg33y_EZj",
        "colab": {
          "base_uri": "https://localhost:8080/"
        },
        "outputId": "10cc6448-8efe-46be-f456-f190c657cf3c"
      },
      "source": [
        "score = model.evaluate(X_test, y_test, verbose=0)\n",
        "print(\"Test accuracy:\", score[1])\n"
      ],
      "execution_count": 37,
      "outputs": [
        {
          "output_type": "stream",
          "name": "stdout",
          "text": [
            "Test accuracy: 0.4944505989551544\n"
          ]
        }
      ]
    },
    {
      "cell_type": "code",
      "metadata": {
        "id": "yrNmOqua_HAz"
      },
      "source": [
        "y_pred = model.predict(X_test)\n",
        "y_test_arg = tf.argmax(y_test, 1)\n",
        "y_pred_arg = tf.argmax(y_pred, 1)\n"
      ],
      "execution_count": 38,
      "outputs": []
    },
    {
      "cell_type": "code",
      "metadata": {
        "id": "LBIemFtG9USZ",
        "colab": {
          "base_uri": "https://localhost:8080/"
        },
        "outputId": "2a0f1069-2c55-4dce-bd01-d793d10e0949"
      },
      "source": [
        "print(\"Classification Report:\")\n",
        "print()\n",
        "print(classification_report(y_test_arg, y_pred_arg))"
      ],
      "execution_count": 39,
      "outputs": [
        {
          "output_type": "stream",
          "name": "stdout",
          "text": [
            "Classification Report:\n",
            "\n",
            "              precision    recall  f1-score   support\n",
            "\n",
            "           0       0.00      0.00      0.00        69\n",
            "           1       0.53      0.16      0.24       319\n",
            "           2       0.00      0.00      0.00       117\n",
            "           3       0.42      0.77      0.54      1191\n",
            "           4       0.47      0.43      0.45      1904\n",
            "           5       0.53      0.63      0.58      2283\n",
            "           9       0.70      0.22      0.33       412\n",
            "          10       0.65      0.38      0.48       573\n",
            "          11       0.84      0.08      0.15       340\n",
            "\n",
            "    accuracy                           0.49      7208\n",
            "   macro avg       0.46      0.30      0.31      7208\n",
            "weighted avg       0.52      0.49      0.47      7208\n",
            "\n"
          ]
        }
      ]
    },
    {
      "cell_type": "markdown",
      "metadata": {
        "id": "QIKH6JMi_NZ7"
      },
      "source": [
        "# 3 Layer Sigmoid with SGD Optimizer"
      ]
    },
    {
      "cell_type": "code",
      "metadata": {
        "id": "BG4J0Qul_O4J"
      },
      "source": [
        "model = Sequential()\n",
        "model.add(Dense(128, input_dim=X_train_np.shape[1], activation=\"sigmoid\"))\n",
        "model.add(Dense(64, activation=\"sigmoid\"))\n",
        "model.add(Dense(12, activation=\"softmax\"))\n"
      ],
      "execution_count": 40,
      "outputs": []
    },
    {
      "cell_type": "code",
      "metadata": {
        "id": "e6eNYe7W_Q8K"
      },
      "source": [
        "model.compile(loss=\"categorical_crossentropy\", optimizer=\"sgd\", metrics=[\"accuracy\"])\n"
      ],
      "execution_count": 41,
      "outputs": []
    },
    {
      "cell_type": "code",
      "metadata": {
        "id": "T653Orjs_RDy",
        "colab": {
          "base_uri": "https://localhost:8080/"
        },
        "outputId": "ce2fdcf4-735c-4b1c-e9be-ab5f58d7332b"
      },
      "source": [
        "model.fit(X_train, y_train, batch_size=128, epochs=20, verbose=1)\n"
      ],
      "execution_count": 42,
      "outputs": [
        {
          "output_type": "stream",
          "name": "stdout",
          "text": [
            "Epoch 1/20\n",
            "226/226 [==============================] - 1s 2ms/step - loss: 1.8837 - accuracy: 0.2963\n",
            "Epoch 2/20\n",
            "226/226 [==============================] - 0s 2ms/step - loss: 1.7262 - accuracy: 0.3355\n",
            "Epoch 3/20\n",
            "226/226 [==============================] - 0s 2ms/step - loss: 1.6952 - accuracy: 0.3496\n",
            "Epoch 4/20\n",
            "226/226 [==============================] - 0s 2ms/step - loss: 1.6771 - accuracy: 0.3538\n",
            "Epoch 5/20\n",
            "226/226 [==============================] - 0s 2ms/step - loss: 1.6653 - accuracy: 0.3550\n",
            "Epoch 6/20\n",
            "226/226 [==============================] - 0s 2ms/step - loss: 1.6566 - accuracy: 0.3581\n",
            "Epoch 7/20\n",
            "226/226 [==============================] - 0s 2ms/step - loss: 1.6501 - accuracy: 0.3579\n",
            "Epoch 8/20\n",
            "226/226 [==============================] - 0s 2ms/step - loss: 1.6447 - accuracy: 0.3585\n",
            "Epoch 9/20\n",
            "226/226 [==============================] - 0s 2ms/step - loss: 1.6401 - accuracy: 0.3585\n",
            "Epoch 10/20\n",
            "226/226 [==============================] - 0s 2ms/step - loss: 1.6361 - accuracy: 0.3604\n",
            "Epoch 11/20\n",
            "226/226 [==============================] - 0s 2ms/step - loss: 1.6325 - accuracy: 0.3614\n",
            "Epoch 12/20\n",
            "226/226 [==============================] - 0s 2ms/step - loss: 1.6292 - accuracy: 0.3627\n",
            "Epoch 13/20\n",
            "226/226 [==============================] - 0s 2ms/step - loss: 1.6263 - accuracy: 0.3638\n",
            "Epoch 14/20\n",
            "226/226 [==============================] - 0s 2ms/step - loss: 1.6234 - accuracy: 0.3652\n",
            "Epoch 15/20\n",
            "226/226 [==============================] - 0s 2ms/step - loss: 1.6204 - accuracy: 0.3670\n",
            "Epoch 16/20\n",
            "226/226 [==============================] - 0s 2ms/step - loss: 1.6178 - accuracy: 0.3679\n",
            "Epoch 17/20\n",
            "226/226 [==============================] - 0s 2ms/step - loss: 1.6152 - accuracy: 0.3689\n",
            "Epoch 18/20\n",
            "226/226 [==============================] - 0s 2ms/step - loss: 1.6127 - accuracy: 0.3694\n",
            "Epoch 19/20\n",
            "226/226 [==============================] - 0s 2ms/step - loss: 1.6104 - accuracy: 0.3707\n",
            "Epoch 20/20\n",
            "226/226 [==============================] - 0s 2ms/step - loss: 1.6079 - accuracy: 0.3742\n"
          ]
        },
        {
          "output_type": "execute_result",
          "data": {
            "text/plain": [
              "<keras.callbacks.History at 0x7f84de8ce310>"
            ]
          },
          "metadata": {},
          "execution_count": 42
        }
      ]
    },
    {
      "cell_type": "code",
      "metadata": {
        "id": "0ycBVcqp_RGj",
        "colab": {
          "base_uri": "https://localhost:8080/"
        },
        "outputId": "dcae72a7-f851-4b6a-c26b-e8e93c602aed"
      },
      "source": [
        "score = model.evaluate(X_test, y_test, verbose=0)\n",
        "print(\"Test accuracy:\", score[1])\n"
      ],
      "execution_count": 43,
      "outputs": [
        {
          "output_type": "stream",
          "name": "stdout",
          "text": [
            "Test accuracy: 0.36750832200050354\n"
          ]
        }
      ]
    },
    {
      "cell_type": "code",
      "metadata": {
        "id": "nR1qieEt_RJP"
      },
      "source": [
        "y_pred = model.predict(X_test)\n",
        "y_test_arg = tf.argmax(y_test, 1)\n",
        "y_pred_arg = tf.argmax(y_pred, 1)\n"
      ],
      "execution_count": 44,
      "outputs": []
    },
    {
      "cell_type": "code",
      "metadata": {
        "id": "5d9Dky7Z9U9p",
        "colab": {
          "base_uri": "https://localhost:8080/"
        },
        "outputId": "5bff950f-aa23-4838-e3f3-331cf031ac74"
      },
      "source": [
        "print(\"Classification Report:\")\n",
        "print()\n",
        "print(classification_report(y_test_arg, y_pred_arg))"
      ],
      "execution_count": 45,
      "outputs": [
        {
          "output_type": "stream",
          "name": "stdout",
          "text": [
            "Classification Report:\n",
            "\n",
            "              precision    recall  f1-score   support\n",
            "\n",
            "           0       0.00      0.00      0.00        69\n",
            "           1       0.00      0.00      0.00       319\n",
            "           2       0.00      0.00      0.00       117\n",
            "           3       0.38      0.79      0.51      1191\n",
            "           4       0.32      0.08      0.13      1904\n",
            "           5       0.37      0.68      0.48      2283\n",
            "           9       0.00      0.00      0.00       412\n",
            "          10       0.00      0.00      0.00       573\n",
            "          11       0.00      0.00      0.00       340\n",
            "\n",
            "    accuracy                           0.37      7208\n",
            "   macro avg       0.12      0.17      0.12      7208\n",
            "weighted avg       0.26      0.37      0.27      7208\n",
            "\n"
          ]
        }
      ]
    },
    {
      "cell_type": "markdown",
      "metadata": {
        "id": "12UDqTc1_f8j"
      },
      "source": [
        "# 3 Layer RELU with ADAM Optimizer Smaller Batch Size and More Epochs"
      ]
    },
    {
      "cell_type": "code",
      "metadata": {
        "id": "zVQP5QSB_fbp"
      },
      "source": [
        "model = Sequential()\n",
        "model.add(Dense(128, input_dim=X_train_np.shape[1], activation=\"relu\"))\n",
        "model.add(Dense(64, activation=\"relu\"))\n",
        "model.add(Dense(12, activation=\"softmax\"))\n"
      ],
      "execution_count": 46,
      "outputs": []
    },
    {
      "cell_type": "code",
      "metadata": {
        "id": "7ZbYXM0gAN3F"
      },
      "source": [
        "model.compile(loss=\"categorical_crossentropy\", optimizer=\"adam\", metrics=[\"accuracy\"])\n"
      ],
      "execution_count": 47,
      "outputs": []
    },
    {
      "cell_type": "code",
      "metadata": {
        "id": "leon-mqNAN5e",
        "colab": {
          "base_uri": "https://localhost:8080/"
        },
        "outputId": "2df48e03-c939-4d8f-a76f-7f893473c1f5"
      },
      "source": [
        "model.fit(X_train, y_train, batch_size=64, epochs=100, verbose=1)\n"
      ],
      "execution_count": 48,
      "outputs": [
        {
          "output_type": "stream",
          "name": "stdout",
          "text": [
            "Epoch 1/100\n",
            "451/451 [==============================] - 1s 2ms/step - loss: 53313832772173824.0000 - accuracy: 0.2986\n",
            "Epoch 2/100\n",
            "451/451 [==============================] - 1s 2ms/step - loss: 18097467471953920.0000 - accuracy: 0.3289\n",
            "Epoch 3/100\n",
            "451/451 [==============================] - 1s 2ms/step - loss: 16219831250452480.0000 - accuracy: 0.3342\n",
            "Epoch 4/100\n",
            "451/451 [==============================] - 1s 2ms/step - loss: 13094014181965824.0000 - accuracy: 0.3390\n",
            "Epoch 5/100\n",
            "451/451 [==============================] - 1s 2ms/step - loss: 11609833472000000.0000 - accuracy: 0.3435\n",
            "Epoch 6/100\n",
            "451/451 [==============================] - 1s 2ms/step - loss: 9591701354053632.0000 - accuracy: 0.3415\n",
            "Epoch 7/100\n",
            "451/451 [==============================] - 1s 2ms/step - loss: 8190737782931456.0000 - accuracy: 0.3112\n",
            "Epoch 8/100\n",
            "451/451 [==============================] - 1s 2ms/step - loss: 6315950735360000.0000 - accuracy: 0.3313\n",
            "Epoch 9/100\n",
            "451/451 [==============================] - 1s 2ms/step - loss: 4670115509436416.0000 - accuracy: 0.3651\n",
            "Epoch 10/100\n",
            "451/451 [==============================] - 1s 2ms/step - loss: 3945971138428928.0000 - accuracy: 0.3603\n",
            "Epoch 11/100\n",
            "451/451 [==============================] - 1s 2ms/step - loss: 3019222154215424.0000 - accuracy: 0.3435\n",
            "Epoch 12/100\n",
            "451/451 [==============================] - 1s 2ms/step - loss: 2290762951688192.0000 - accuracy: 0.2988\n",
            "Epoch 13/100\n",
            "451/451 [==============================] - 1s 2ms/step - loss: 1670372239867904.0000 - accuracy: 0.3406\n",
            "Epoch 14/100\n",
            "451/451 [==============================] - 1s 2ms/step - loss: 820940585828352.0000 - accuracy: 0.3604\n",
            "Epoch 15/100\n",
            "451/451 [==============================] - 1s 2ms/step - loss: 594620639608832.0000 - accuracy: 0.3556\n",
            "Epoch 16/100\n",
            "451/451 [==============================] - 1s 2ms/step - loss: 675803977220096.0000 - accuracy: 0.3550\n",
            "Epoch 17/100\n",
            "451/451 [==============================] - 1s 2ms/step - loss: 476858474823680.0000 - accuracy: 0.3602\n",
            "Epoch 18/100\n",
            "451/451 [==============================] - 1s 2ms/step - loss: 370511695577088.0000 - accuracy: 0.3635\n",
            "Epoch 19/100\n",
            "451/451 [==============================] - 1s 2ms/step - loss: 425925330075648.0000 - accuracy: 0.3591\n",
            "Epoch 20/100\n",
            "451/451 [==============================] - 1s 2ms/step - loss: 430704051617792.0000 - accuracy: 0.3535\n",
            "Epoch 21/100\n",
            "451/451 [==============================] - 1s 2ms/step - loss: 230964198375424.0000 - accuracy: 0.3635\n",
            "Epoch 22/100\n",
            "451/451 [==============================] - 1s 2ms/step - loss: 158682281148416.0000 - accuracy: 0.3635\n",
            "Epoch 23/100\n",
            "451/451 [==============================] - 1s 2ms/step - loss: 138181219450880.0000 - accuracy: 0.3607\n",
            "Epoch 24/100\n",
            "451/451 [==============================] - 1s 2ms/step - loss: 90010569146368.0000 - accuracy: 0.3684\n",
            "Epoch 25/100\n",
            "451/451 [==============================] - 1s 2ms/step - loss: 87354886848512.0000 - accuracy: 0.3588\n",
            "Epoch 26/100\n",
            "451/451 [==============================] - 1s 2ms/step - loss: 11369990586368.0000 - accuracy: 0.3265\n",
            "Epoch 27/100\n",
            "451/451 [==============================] - 1s 2ms/step - loss: 39658332160.0000 - accuracy: 0.3164\n",
            "Epoch 28/100\n",
            "451/451 [==============================] - 1s 2ms/step - loss: 13427087360.0000 - accuracy: 0.3166\n",
            "Epoch 29/100\n",
            "451/451 [==============================] - 1s 2ms/step - loss: 1647897344.0000 - accuracy: 0.3172\n",
            "Epoch 30/100\n",
            "451/451 [==============================] - 1s 2ms/step - loss: 1810549632.0000 - accuracy: 0.3172\n",
            "Epoch 31/100\n",
            "451/451 [==============================] - 1s 2ms/step - loss: 425188864.0000 - accuracy: 0.3173\n",
            "Epoch 32/100\n",
            "451/451 [==============================] - 1s 2ms/step - loss: 292723968.0000 - accuracy: 0.3174\n",
            "Epoch 33/100\n",
            "451/451 [==============================] - 1s 2ms/step - loss: 1.7706 - accuracy: 0.3174\n",
            "Epoch 34/100\n",
            "451/451 [==============================] - 1s 2ms/step - loss: 1.7706 - accuracy: 0.3174\n",
            "Epoch 35/100\n",
            "451/451 [==============================] - 1s 2ms/step - loss: 1.7706 - accuracy: 0.3174\n",
            "Epoch 36/100\n",
            "451/451 [==============================] - 1s 2ms/step - loss: 1.7705 - accuracy: 0.3174\n",
            "Epoch 37/100\n",
            "451/451 [==============================] - 1s 2ms/step - loss: 1.7705 - accuracy: 0.3174\n",
            "Epoch 38/100\n",
            "451/451 [==============================] - 1s 2ms/step - loss: 1.7705 - accuracy: 0.3174\n",
            "Epoch 39/100\n",
            "451/451 [==============================] - 1s 2ms/step - loss: 1.7705 - accuracy: 0.3174\n",
            "Epoch 40/100\n",
            "451/451 [==============================] - 1s 2ms/step - loss: 1.7705 - accuracy: 0.3174\n",
            "Epoch 41/100\n",
            "451/451 [==============================] - 1s 2ms/step - loss: 1.7705 - accuracy: 0.3174\n",
            "Epoch 42/100\n",
            "451/451 [==============================] - 1s 2ms/step - loss: 1.7704 - accuracy: 0.3174\n",
            "Epoch 43/100\n",
            "451/451 [==============================] - 1s 2ms/step - loss: 1.7704 - accuracy: 0.3174\n",
            "Epoch 44/100\n",
            "451/451 [==============================] - 1s 2ms/step - loss: 1.7704 - accuracy: 0.3174\n",
            "Epoch 45/100\n",
            "451/451 [==============================] - 1s 2ms/step - loss: 1.7704 - accuracy: 0.3174\n",
            "Epoch 46/100\n",
            "451/451 [==============================] - 1s 2ms/step - loss: 1.7704 - accuracy: 0.3174\n",
            "Epoch 47/100\n",
            "451/451 [==============================] - 1s 2ms/step - loss: 1.7704 - accuracy: 0.3174\n",
            "Epoch 48/100\n",
            "451/451 [==============================] - 1s 2ms/step - loss: 1.7704 - accuracy: 0.3174\n",
            "Epoch 49/100\n",
            "451/451 [==============================] - 1s 2ms/step - loss: 1.7704 - accuracy: 0.3174\n",
            "Epoch 50/100\n",
            "451/451 [==============================] - 1s 2ms/step - loss: 1.7704 - accuracy: 0.3174\n",
            "Epoch 51/100\n",
            "451/451 [==============================] - 1s 2ms/step - loss: 1.7704 - accuracy: 0.3174\n",
            "Epoch 52/100\n",
            "451/451 [==============================] - 1s 2ms/step - loss: 1.7704 - accuracy: 0.3174\n",
            "Epoch 53/100\n",
            "451/451 [==============================] - 1s 2ms/step - loss: 1.7704 - accuracy: 0.3174\n",
            "Epoch 54/100\n",
            "451/451 [==============================] - 1s 2ms/step - loss: 1.7704 - accuracy: 0.3174\n",
            "Epoch 55/100\n",
            "451/451 [==============================] - 1s 2ms/step - loss: 1.7704 - accuracy: 0.3174\n",
            "Epoch 56/100\n",
            "451/451 [==============================] - 1s 2ms/step - loss: 1.7704 - accuracy: 0.3174\n",
            "Epoch 57/100\n",
            "451/451 [==============================] - 1s 2ms/step - loss: 1.7704 - accuracy: 0.3174\n",
            "Epoch 58/100\n",
            "451/451 [==============================] - 1s 2ms/step - loss: 1.7704 - accuracy: 0.3174\n",
            "Epoch 59/100\n",
            "451/451 [==============================] - 1s 2ms/step - loss: 1.7704 - accuracy: 0.3174\n",
            "Epoch 60/100\n",
            "451/451 [==============================] - 1s 2ms/step - loss: 1.7704 - accuracy: 0.3174\n",
            "Epoch 61/100\n",
            "451/451 [==============================] - 1s 2ms/step - loss: 1.7704 - accuracy: 0.3174\n",
            "Epoch 62/100\n",
            "451/451 [==============================] - 1s 2ms/step - loss: 1.7704 - accuracy: 0.3174\n",
            "Epoch 63/100\n",
            "451/451 [==============================] - 1s 2ms/step - loss: 1.7704 - accuracy: 0.3174\n",
            "Epoch 64/100\n",
            "451/451 [==============================] - 1s 2ms/step - loss: 1.7704 - accuracy: 0.3174\n",
            "Epoch 65/100\n",
            "451/451 [==============================] - 1s 2ms/step - loss: 1.7704 - accuracy: 0.3174\n",
            "Epoch 66/100\n",
            "451/451 [==============================] - 1s 2ms/step - loss: 1.7704 - accuracy: 0.3174\n",
            "Epoch 67/100\n",
            "451/451 [==============================] - 1s 2ms/step - loss: 1.7704 - accuracy: 0.3174\n",
            "Epoch 68/100\n",
            "451/451 [==============================] - 1s 2ms/step - loss: 1.7704 - accuracy: 0.3174\n",
            "Epoch 69/100\n",
            "451/451 [==============================] - 1s 2ms/step - loss: 1.7704 - accuracy: 0.3174\n",
            "Epoch 70/100\n",
            "451/451 [==============================] - 1s 2ms/step - loss: 1.7704 - accuracy: 0.3174\n",
            "Epoch 71/100\n",
            "451/451 [==============================] - 1s 2ms/step - loss: 1.7704 - accuracy: 0.3174\n",
            "Epoch 72/100\n",
            "451/451 [==============================] - 1s 2ms/step - loss: 1.7704 - accuracy: 0.3174\n",
            "Epoch 73/100\n",
            "451/451 [==============================] - 1s 2ms/step - loss: 1.7704 - accuracy: 0.3174\n",
            "Epoch 74/100\n",
            "451/451 [==============================] - 1s 2ms/step - loss: 1.7704 - accuracy: 0.3174\n",
            "Epoch 75/100\n",
            "451/451 [==============================] - 1s 2ms/step - loss: 1.7704 - accuracy: 0.3174\n",
            "Epoch 76/100\n",
            "451/451 [==============================] - 1s 2ms/step - loss: 1.7703 - accuracy: 0.3174\n",
            "Epoch 77/100\n",
            "451/451 [==============================] - 1s 2ms/step - loss: 1.7704 - accuracy: 0.3174\n",
            "Epoch 78/100\n",
            "451/451 [==============================] - 1s 2ms/step - loss: 1.7704 - accuracy: 0.3174\n",
            "Epoch 79/100\n",
            "451/451 [==============================] - 1s 2ms/step - loss: 1.7704 - accuracy: 0.3174\n",
            "Epoch 80/100\n",
            "451/451 [==============================] - 1s 2ms/step - loss: 1.7703 - accuracy: 0.3174\n",
            "Epoch 81/100\n",
            "451/451 [==============================] - 1s 2ms/step - loss: 1.7704 - accuracy: 0.3174\n",
            "Epoch 82/100\n",
            "451/451 [==============================] - 1s 2ms/step - loss: 1.7703 - accuracy: 0.3174\n",
            "Epoch 83/100\n",
            "451/451 [==============================] - 1s 2ms/step - loss: 1.7704 - accuracy: 0.3174\n",
            "Epoch 84/100\n",
            "451/451 [==============================] - 1s 2ms/step - loss: 1.7704 - accuracy: 0.3174\n",
            "Epoch 85/100\n",
            "451/451 [==============================] - 1s 2ms/step - loss: 1.7704 - accuracy: 0.3174\n",
            "Epoch 86/100\n",
            "451/451 [==============================] - 1s 2ms/step - loss: 1.7704 - accuracy: 0.3174\n",
            "Epoch 87/100\n",
            "451/451 [==============================] - 1s 2ms/step - loss: 1.7704 - accuracy: 0.3174\n",
            "Epoch 88/100\n",
            "451/451 [==============================] - 1s 2ms/step - loss: 1.7704 - accuracy: 0.3174\n",
            "Epoch 89/100\n",
            "451/451 [==============================] - 1s 2ms/step - loss: 1.7704 - accuracy: 0.3174\n",
            "Epoch 90/100\n",
            "451/451 [==============================] - 1s 2ms/step - loss: 1.7704 - accuracy: 0.3174\n",
            "Epoch 91/100\n",
            "451/451 [==============================] - 1s 2ms/step - loss: 1.7704 - accuracy: 0.3174\n",
            "Epoch 92/100\n",
            "451/451 [==============================] - 1s 2ms/step - loss: 1.7704 - accuracy: 0.3174\n",
            "Epoch 93/100\n",
            "451/451 [==============================] - 1s 2ms/step - loss: 1.7704 - accuracy: 0.3174\n",
            "Epoch 94/100\n",
            "451/451 [==============================] - 1s 2ms/step - loss: 1.7704 - accuracy: 0.3174\n",
            "Epoch 95/100\n",
            "451/451 [==============================] - 1s 2ms/step - loss: 1.7704 - accuracy: 0.3174\n",
            "Epoch 96/100\n",
            "451/451 [==============================] - 1s 2ms/step - loss: 1.7704 - accuracy: 0.3174\n",
            "Epoch 97/100\n",
            "451/451 [==============================] - 1s 2ms/step - loss: 1.7704 - accuracy: 0.3174\n",
            "Epoch 98/100\n",
            "451/451 [==============================] - 1s 2ms/step - loss: 1.7704 - accuracy: 0.3174\n",
            "Epoch 99/100\n",
            "451/451 [==============================] - 1s 2ms/step - loss: 1.7704 - accuracy: 0.3174\n",
            "Epoch 100/100\n",
            "451/451 [==============================] - 1s 2ms/step - loss: 1.7704 - accuracy: 0.3174\n"
          ]
        },
        {
          "output_type": "execute_result",
          "data": {
            "text/plain": [
              "<keras.callbacks.History at 0x7f84de91f050>"
            ]
          },
          "metadata": {},
          "execution_count": 48
        }
      ]
    },
    {
      "cell_type": "code",
      "metadata": {
        "id": "KWrgg1Z_AN73",
        "colab": {
          "base_uri": "https://localhost:8080/"
        },
        "outputId": "ee9f37da-45f7-46c0-824f-0fdc0372c2ee"
      },
      "source": [
        "score = model.evaluate(X_test, y_test, verbose=0)\n",
        "print(\"Test accuracy:\", score[1])\n"
      ],
      "execution_count": 49,
      "outputs": [
        {
          "output_type": "stream",
          "name": "stdout",
          "text": [
            "Test accuracy: 0.3171476125717163\n"
          ]
        }
      ]
    },
    {
      "cell_type": "code",
      "metadata": {
        "id": "57yD_vMjAN-I"
      },
      "source": [
        "y_pred = model.predict(X_test)\n",
        "y_test_arg = tf.argmax(y_test, 1)\n",
        "y_pred_arg = tf.argmax(y_pred, 1)\n"
      ],
      "execution_count": 50,
      "outputs": []
    },
    {
      "cell_type": "code",
      "metadata": {
        "id": "wn3zRGMB9Vfx",
        "colab": {
          "base_uri": "https://localhost:8080/"
        },
        "outputId": "bf65cb7a-0641-44ff-bbde-d86e73c1dbeb"
      },
      "source": [
        "print(\"Classification Report:\")\n",
        "print()\n",
        "print(classification_report(y_test_arg, y_pred_arg))"
      ],
      "execution_count": 51,
      "outputs": [
        {
          "output_type": "stream",
          "name": "stdout",
          "text": [
            "Classification Report:\n",
            "\n",
            "              precision    recall  f1-score   support\n",
            "\n",
            "           0       0.00      0.00      0.00        69\n",
            "           1       0.00      0.00      0.00       319\n",
            "           2       0.00      0.00      0.00       117\n",
            "           3       1.00      0.00      0.01      1191\n",
            "           4       0.00      0.00      0.00      1904\n",
            "           5       0.32      1.00      0.48      2283\n",
            "           9       0.00      0.00      0.00       412\n",
            "          10       0.00      0.00      0.00       573\n",
            "          11       0.00      0.00      0.00       340\n",
            "\n",
            "    accuracy                           0.32      7208\n",
            "   macro avg       0.15      0.11      0.05      7208\n",
            "weighted avg       0.27      0.32      0.15      7208\n",
            "\n"
          ]
        }
      ]
    }
  ]
}