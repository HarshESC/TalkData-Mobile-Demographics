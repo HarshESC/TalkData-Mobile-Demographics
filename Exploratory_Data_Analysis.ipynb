{
  "nbformat": 4,
  "nbformat_minor": 0,
  "metadata": {
    "colab": {
      "name": "Exploratory Data Analysis.ipynb",
      "provenance": [],
      "collapsed_sections": [],
      "authorship_tag": "ABX9TyMjZbrw2psxQQw3Dy4BUxE8",
      "include_colab_link": true
    },
    "kernelspec": {
      "name": "python3",
      "display_name": "Python 3"
    },
    "language_info": {
      "name": "python"
    },
    "accelerator": "TPU"
  },
  "cells": [
    {
      "cell_type": "markdown",
      "metadata": {
        "id": "view-in-github",
        "colab_type": "text"
      },
      "source": [
        "<a href=\"https://colab.research.google.com/github/HarshESC/TalkData-Mobile-Demographics/blob/main/Exploratory_Data_Analysis.ipynb\" target=\"_parent\"><img src=\"https://colab.research.google.com/assets/colab-badge.svg\" alt=\"Open In Colab\"/></a>"
      ]
    },
    {
      "cell_type": "code",
      "metadata": {
        "id": "aOIH0Lswaq7r",
        "colab": {
          "base_uri": "https://localhost:8080/"
        },
        "outputId": "726f68ad-bb44-4836-aecc-185f81ca5916"
      },
      "source": [
        "#EDA Imports\n",
        "from google.colab import drive \n",
        "drive.mount('/content/gdrive')\n",
        "import os\n",
        "os.environ['KAGGLE_CONFIG_DIR'] = \"/content/gdrive/\"\n",
        "%cd \"/content/gdrive/My Drive/Final Capstone\"\n",
        "import pandas as pd\n",
        "import seaborn as sns\n",
        "import matplotlib.pyplot as plt\n",
        "from sklearn.preprocessing import MultiLabelBinarizer"
      ],
      "execution_count": 1,
      "outputs": [
        {
          "output_type": "stream",
          "name": "stdout",
          "text": [
            "Drive already mounted at /content/gdrive; to attempt to forcibly remount, call drive.mount(\"/content/gdrive\", force_remount=True).\n",
            "/content/gdrive/My Drive/Final Capstone\n"
          ]
        }
      ]
    },
    {
      "cell_type": "code",
      "metadata": {
        "id": "LC8qvkphY-_F"
      },
      "source": [
        "# Reading each data file\n",
        "# Reducing the file data size by 40% for memory\n",
        "app_events = pd.read_csv(\"app_events.csv\", nrows=19483840)\n",
        "app_labels = pd.read_csv(\"app_labels.csv\", nrows=275966)\n",
        "events = pd.read_csv(\"events.csv\", nrows=1951770)\n",
        "gender_age_train = pd.read_csv(\"gender_age_train.csv\", nrows=44787)\n",
        "gender_age_test = pd.read_csv(\"gender_age_test.csv\", nrows=67243)\n",
        "category_labels = pd.read_csv(\"label_categories.csv\", nrows=558)\n",
        "phone_brand = pd.read_csv(\"phone_brand_device_model.csv\", nrows=112347)\n"
      ],
      "execution_count": 2,
      "outputs": []
    },
    {
      "cell_type": "markdown",
      "metadata": {
        "id": "fWIBovmRaI2w"
      },
      "source": [
        "## Let's Take a look at the Datasets"
      ]
    },
    {
      "cell_type": "code",
      "metadata": {
        "colab": {
          "base_uri": "https://localhost:8080/",
          "height": 205
        },
        "id": "kt6cp0T0Zxf1",
        "outputId": "cbaeec3c-b57c-4f68-f822-f558c102de60"
      },
      "source": [
        "app_events.head()"
      ],
      "execution_count": 3,
      "outputs": [
        {
          "output_type": "execute_result",
          "data": {
            "text/html": [
              "<div>\n",
              "<style scoped>\n",
              "    .dataframe tbody tr th:only-of-type {\n",
              "        vertical-align: middle;\n",
              "    }\n",
              "\n",
              "    .dataframe tbody tr th {\n",
              "        vertical-align: top;\n",
              "    }\n",
              "\n",
              "    .dataframe thead th {\n",
              "        text-align: right;\n",
              "    }\n",
              "</style>\n",
              "<table border=\"1\" class=\"dataframe\">\n",
              "  <thead>\n",
              "    <tr style=\"text-align: right;\">\n",
              "      <th></th>\n",
              "      <th>event_id</th>\n",
              "      <th>app_id</th>\n",
              "      <th>is_installed</th>\n",
              "      <th>is_active</th>\n",
              "    </tr>\n",
              "  </thead>\n",
              "  <tbody>\n",
              "    <tr>\n",
              "      <th>0</th>\n",
              "      <td>2</td>\n",
              "      <td>5927333115845830913</td>\n",
              "      <td>1</td>\n",
              "      <td>1</td>\n",
              "    </tr>\n",
              "    <tr>\n",
              "      <th>1</th>\n",
              "      <td>2</td>\n",
              "      <td>-5720078949152207372</td>\n",
              "      <td>1</td>\n",
              "      <td>0</td>\n",
              "    </tr>\n",
              "    <tr>\n",
              "      <th>2</th>\n",
              "      <td>2</td>\n",
              "      <td>-1633887856876571208</td>\n",
              "      <td>1</td>\n",
              "      <td>0</td>\n",
              "    </tr>\n",
              "    <tr>\n",
              "      <th>3</th>\n",
              "      <td>2</td>\n",
              "      <td>-653184325010919369</td>\n",
              "      <td>1</td>\n",
              "      <td>1</td>\n",
              "    </tr>\n",
              "    <tr>\n",
              "      <th>4</th>\n",
              "      <td>2</td>\n",
              "      <td>8693964245073640147</td>\n",
              "      <td>1</td>\n",
              "      <td>1</td>\n",
              "    </tr>\n",
              "  </tbody>\n",
              "</table>\n",
              "</div>"
            ],
            "text/plain": [
              "   event_id               app_id  is_installed  is_active\n",
              "0         2  5927333115845830913             1          1\n",
              "1         2 -5720078949152207372             1          0\n",
              "2         2 -1633887856876571208             1          0\n",
              "3         2  -653184325010919369             1          1\n",
              "4         2  8693964245073640147             1          1"
            ]
          },
          "metadata": {},
          "execution_count": 3
        }
      ]
    },
    {
      "cell_type": "code",
      "metadata": {
        "colab": {
          "base_uri": "https://localhost:8080/",
          "height": 205
        },
        "id": "EkvIS_m671OT",
        "outputId": "d5c15ab3-f015-406f-8eef-1f029d355331"
      },
      "source": [
        "events.head()"
      ],
      "execution_count": 4,
      "outputs": [
        {
          "output_type": "execute_result",
          "data": {
            "text/html": [
              "<div>\n",
              "<style scoped>\n",
              "    .dataframe tbody tr th:only-of-type {\n",
              "        vertical-align: middle;\n",
              "    }\n",
              "\n",
              "    .dataframe tbody tr th {\n",
              "        vertical-align: top;\n",
              "    }\n",
              "\n",
              "    .dataframe thead th {\n",
              "        text-align: right;\n",
              "    }\n",
              "</style>\n",
              "<table border=\"1\" class=\"dataframe\">\n",
              "  <thead>\n",
              "    <tr style=\"text-align: right;\">\n",
              "      <th></th>\n",
              "      <th>event_id</th>\n",
              "      <th>device_id</th>\n",
              "      <th>timestamp</th>\n",
              "      <th>longitude</th>\n",
              "      <th>latitude</th>\n",
              "    </tr>\n",
              "  </thead>\n",
              "  <tbody>\n",
              "    <tr>\n",
              "      <th>0</th>\n",
              "      <td>1</td>\n",
              "      <td>29182687948017175</td>\n",
              "      <td>2016-05-01 00:55:25</td>\n",
              "      <td>121.38</td>\n",
              "      <td>31.24</td>\n",
              "    </tr>\n",
              "    <tr>\n",
              "      <th>1</th>\n",
              "      <td>2</td>\n",
              "      <td>-6401643145415154744</td>\n",
              "      <td>2016-05-01 00:54:12</td>\n",
              "      <td>103.65</td>\n",
              "      <td>30.97</td>\n",
              "    </tr>\n",
              "    <tr>\n",
              "      <th>2</th>\n",
              "      <td>3</td>\n",
              "      <td>-4833982096941402721</td>\n",
              "      <td>2016-05-01 00:08:05</td>\n",
              "      <td>106.60</td>\n",
              "      <td>29.70</td>\n",
              "    </tr>\n",
              "    <tr>\n",
              "      <th>3</th>\n",
              "      <td>4</td>\n",
              "      <td>-6815121365017318426</td>\n",
              "      <td>2016-05-01 00:06:40</td>\n",
              "      <td>104.27</td>\n",
              "      <td>23.28</td>\n",
              "    </tr>\n",
              "    <tr>\n",
              "      <th>4</th>\n",
              "      <td>5</td>\n",
              "      <td>-5373797595892518570</td>\n",
              "      <td>2016-05-01 00:07:18</td>\n",
              "      <td>115.88</td>\n",
              "      <td>28.66</td>\n",
              "    </tr>\n",
              "  </tbody>\n",
              "</table>\n",
              "</div>"
            ],
            "text/plain": [
              "   event_id            device_id            timestamp  longitude  latitude\n",
              "0         1    29182687948017175  2016-05-01 00:55:25     121.38     31.24\n",
              "1         2 -6401643145415154744  2016-05-01 00:54:12     103.65     30.97\n",
              "2         3 -4833982096941402721  2016-05-01 00:08:05     106.60     29.70\n",
              "3         4 -6815121365017318426  2016-05-01 00:06:40     104.27     23.28\n",
              "4         5 -5373797595892518570  2016-05-01 00:07:18     115.88     28.66"
            ]
          },
          "metadata": {},
          "execution_count": 4
        }
      ]
    },
    {
      "cell_type": "code",
      "metadata": {
        "colab": {
          "base_uri": "https://localhost:8080/",
          "height": 205
        },
        "id": "x9N_c2sUZxnS",
        "outputId": "fe7c7379-2ed6-4a46-d99a-baeab0f14b21"
      },
      "source": [
        "app_labels.head()\n"
      ],
      "execution_count": 5,
      "outputs": [
        {
          "output_type": "execute_result",
          "data": {
            "text/html": [
              "<div>\n",
              "<style scoped>\n",
              "    .dataframe tbody tr th:only-of-type {\n",
              "        vertical-align: middle;\n",
              "    }\n",
              "\n",
              "    .dataframe tbody tr th {\n",
              "        vertical-align: top;\n",
              "    }\n",
              "\n",
              "    .dataframe thead th {\n",
              "        text-align: right;\n",
              "    }\n",
              "</style>\n",
              "<table border=\"1\" class=\"dataframe\">\n",
              "  <thead>\n",
              "    <tr style=\"text-align: right;\">\n",
              "      <th></th>\n",
              "      <th>app_id</th>\n",
              "      <th>label_id</th>\n",
              "    </tr>\n",
              "  </thead>\n",
              "  <tbody>\n",
              "    <tr>\n",
              "      <th>0</th>\n",
              "      <td>7324884708820027918</td>\n",
              "      <td>251</td>\n",
              "    </tr>\n",
              "    <tr>\n",
              "      <th>1</th>\n",
              "      <td>-4494216993218550286</td>\n",
              "      <td>251</td>\n",
              "    </tr>\n",
              "    <tr>\n",
              "      <th>2</th>\n",
              "      <td>6058196446775239644</td>\n",
              "      <td>406</td>\n",
              "    </tr>\n",
              "    <tr>\n",
              "      <th>3</th>\n",
              "      <td>6058196446775239644</td>\n",
              "      <td>407</td>\n",
              "    </tr>\n",
              "    <tr>\n",
              "      <th>4</th>\n",
              "      <td>8694625920731541625</td>\n",
              "      <td>406</td>\n",
              "    </tr>\n",
              "  </tbody>\n",
              "</table>\n",
              "</div>"
            ],
            "text/plain": [
              "                app_id  label_id\n",
              "0  7324884708820027918       251\n",
              "1 -4494216993218550286       251\n",
              "2  6058196446775239644       406\n",
              "3  6058196446775239644       407\n",
              "4  8694625920731541625       406"
            ]
          },
          "metadata": {},
          "execution_count": 5
        }
      ]
    },
    {
      "cell_type": "code",
      "metadata": {
        "colab": {
          "base_uri": "https://localhost:8080/",
          "height": 205
        },
        "id": "DF3zYdueZxqt",
        "outputId": "b1b9c1f3-97f4-4bb5-c571-0916f7b3f812"
      },
      "source": [
        "category_labels.head()\n"
      ],
      "execution_count": 6,
      "outputs": [
        {
          "output_type": "execute_result",
          "data": {
            "text/html": [
              "<div>\n",
              "<style scoped>\n",
              "    .dataframe tbody tr th:only-of-type {\n",
              "        vertical-align: middle;\n",
              "    }\n",
              "\n",
              "    .dataframe tbody tr th {\n",
              "        vertical-align: top;\n",
              "    }\n",
              "\n",
              "    .dataframe thead th {\n",
              "        text-align: right;\n",
              "    }\n",
              "</style>\n",
              "<table border=\"1\" class=\"dataframe\">\n",
              "  <thead>\n",
              "    <tr style=\"text-align: right;\">\n",
              "      <th></th>\n",
              "      <th>label_id</th>\n",
              "      <th>category</th>\n",
              "    </tr>\n",
              "  </thead>\n",
              "  <tbody>\n",
              "    <tr>\n",
              "      <th>0</th>\n",
              "      <td>1</td>\n",
              "      <td>NaN</td>\n",
              "    </tr>\n",
              "    <tr>\n",
              "      <th>1</th>\n",
              "      <td>2</td>\n",
              "      <td>game-game type</td>\n",
              "    </tr>\n",
              "    <tr>\n",
              "      <th>2</th>\n",
              "      <td>3</td>\n",
              "      <td>game-Game themes</td>\n",
              "    </tr>\n",
              "    <tr>\n",
              "      <th>3</th>\n",
              "      <td>4</td>\n",
              "      <td>game-Art Style</td>\n",
              "    </tr>\n",
              "    <tr>\n",
              "      <th>4</th>\n",
              "      <td>5</td>\n",
              "      <td>game-Leisure time</td>\n",
              "    </tr>\n",
              "  </tbody>\n",
              "</table>\n",
              "</div>"
            ],
            "text/plain": [
              "   label_id           category\n",
              "0         1                NaN\n",
              "1         2     game-game type\n",
              "2         3   game-Game themes\n",
              "3         4     game-Art Style\n",
              "4         5  game-Leisure time"
            ]
          },
          "metadata": {},
          "execution_count": 6
        }
      ]
    },
    {
      "cell_type": "code",
      "metadata": {
        "colab": {
          "base_uri": "https://localhost:8080/",
          "height": 205
        },
        "id": "do3sI6xhZxsE",
        "outputId": "51432c33-830a-4307-c31d-11d8f132f324"
      },
      "source": [
        "phone_brand.head()\n"
      ],
      "execution_count": 7,
      "outputs": [
        {
          "output_type": "execute_result",
          "data": {
            "text/html": [
              "<div>\n",
              "<style scoped>\n",
              "    .dataframe tbody tr th:only-of-type {\n",
              "        vertical-align: middle;\n",
              "    }\n",
              "\n",
              "    .dataframe tbody tr th {\n",
              "        vertical-align: top;\n",
              "    }\n",
              "\n",
              "    .dataframe thead th {\n",
              "        text-align: right;\n",
              "    }\n",
              "</style>\n",
              "<table border=\"1\" class=\"dataframe\">\n",
              "  <thead>\n",
              "    <tr style=\"text-align: right;\">\n",
              "      <th></th>\n",
              "      <th>device_id</th>\n",
              "      <th>phone_brand</th>\n",
              "      <th>device_model</th>\n",
              "    </tr>\n",
              "  </thead>\n",
              "  <tbody>\n",
              "    <tr>\n",
              "      <th>0</th>\n",
              "      <td>-8890648629457979026</td>\n",
              "      <td>小米</td>\n",
              "      <td>红米</td>\n",
              "    </tr>\n",
              "    <tr>\n",
              "      <th>1</th>\n",
              "      <td>1277779817574759137</td>\n",
              "      <td>小米</td>\n",
              "      <td>MI 2</td>\n",
              "    </tr>\n",
              "    <tr>\n",
              "      <th>2</th>\n",
              "      <td>5137427614288105724</td>\n",
              "      <td>三星</td>\n",
              "      <td>Galaxy S4</td>\n",
              "    </tr>\n",
              "    <tr>\n",
              "      <th>3</th>\n",
              "      <td>3669464369358936369</td>\n",
              "      <td>SUGAR</td>\n",
              "      <td>时尚手机</td>\n",
              "    </tr>\n",
              "    <tr>\n",
              "      <th>4</th>\n",
              "      <td>-5019277647504317457</td>\n",
              "      <td>三星</td>\n",
              "      <td>Galaxy Note 2</td>\n",
              "    </tr>\n",
              "  </tbody>\n",
              "</table>\n",
              "</div>"
            ],
            "text/plain": [
              "             device_id phone_brand   device_model\n",
              "0 -8890648629457979026          小米             红米\n",
              "1  1277779817574759137          小米           MI 2\n",
              "2  5137427614288105724          三星      Galaxy S4\n",
              "3  3669464369358936369       SUGAR           时尚手机\n",
              "4 -5019277647504317457          三星  Galaxy Note 2"
            ]
          },
          "metadata": {},
          "execution_count": 7
        }
      ]
    },
    {
      "cell_type": "markdown",
      "metadata": {
        "id": "jeVohk7T8LU4"
      },
      "source": [
        "A lot of these phone brands contain chinese characters.  We will translate them as part of the merging."
      ]
    },
    {
      "cell_type": "markdown",
      "metadata": {
        "id": "jQi9jwkqZ7zI"
      },
      "source": [
        "# Exploratory Data Analysis\n",
        "\n",
        "##Merging Datasets together"
      ]
    },
    {
      "cell_type": "code",
      "metadata": {
        "id": "Q-68c514ZxvC"
      },
      "source": [
        "# Merging app_events and event_id through event_id column\n",
        "merged_events = pd.merge(app_events, events, on=\"event_id\")\n"
      ],
      "execution_count": 8,
      "outputs": []
    },
    {
      "cell_type": "code",
      "metadata": {
        "id": "TYpR-f74aOeu"
      },
      "source": [
        "# Merging app_labels and category_labels through label_id\n",
        "merged_apps = pd.merge(app_labels, category_labels, on=\"label_id\")\n"
      ],
      "execution_count": 9,
      "outputs": []
    },
    {
      "cell_type": "code",
      "metadata": {
        "colab": {
          "base_uri": "https://localhost:8080/"
        },
        "id": "18E_Cs-HaDHA",
        "outputId": "13638279-9bd8-43d1-d969-ed7d2dae6e24"
      },
      "source": [
        "merged_events.shape"
      ],
      "execution_count": 10,
      "outputs": [
        {
          "output_type": "execute_result",
          "data": {
            "text/plain": [
              "(19478586, 8)"
            ]
          },
          "metadata": {},
          "execution_count": 10
        }
      ]
    },
    {
      "cell_type": "code",
      "metadata": {
        "colab": {
          "base_uri": "https://localhost:8080/"
        },
        "id": "exwKITxogPos",
        "outputId": "f637ef2d-07e7-40cb-ba5f-a2fb02c41925"
      },
      "source": [
        "merged_apps.shape"
      ],
      "execution_count": 11,
      "outputs": [
        {
          "output_type": "execute_result",
          "data": {
            "text/plain": [
              "(60542, 3)"
            ]
          },
          "metadata": {},
          "execution_count": 11
        }
      ]
    },
    {
      "cell_type": "code",
      "metadata": {
        "id": "lwGVFETdaOoc"
      },
      "source": [
        "# Merging previous merged data tables together to make larger data frame\n",
        "merged_events_apps = pd.merge(merged_events, merged_apps, on=\"app_id\")\n"
      ],
      "execution_count": 12,
      "outputs": []
    },
    {
      "cell_type": "code",
      "metadata": {
        "id": "WwHSvzEKaOu7"
      },
      "source": [
        "# Adding phone brand to merged_events_apps through device_id merge\n",
        "merged_events_apps_brands = pd.merge(merged_events_apps, phone_brand, on=\"device_id\")\n"
      ],
      "execution_count": 13,
      "outputs": []
    },
    {
      "cell_type": "code",
      "metadata": {
        "id": "ACiolV1FaO13",
        "colab": {
          "base_uri": "https://localhost:8080/",
          "height": 205
        },
        "outputId": "aae93cce-ba8b-43a9-f093-e782a88e437c"
      },
      "source": [
        "# Creating final data frame by merging gender and age with previous dataframe\n",
        "master_df = pd.merge(merged_events_apps_brands, gender_age_train, on=\"device_id\")\n",
        "master_df.tail()\n"
      ],
      "execution_count": 14,
      "outputs": [
        {
          "output_type": "execute_result",
          "data": {
            "text/html": [
              "<div>\n",
              "<style scoped>\n",
              "    .dataframe tbody tr th:only-of-type {\n",
              "        vertical-align: middle;\n",
              "    }\n",
              "\n",
              "    .dataframe tbody tr th {\n",
              "        vertical-align: top;\n",
              "    }\n",
              "\n",
              "    .dataframe thead th {\n",
              "        text-align: right;\n",
              "    }\n",
              "</style>\n",
              "<table border=\"1\" class=\"dataframe\">\n",
              "  <thead>\n",
              "    <tr style=\"text-align: right;\">\n",
              "      <th></th>\n",
              "      <th>event_id</th>\n",
              "      <th>app_id</th>\n",
              "      <th>is_installed</th>\n",
              "      <th>is_active</th>\n",
              "      <th>device_id</th>\n",
              "      <th>timestamp</th>\n",
              "      <th>longitude</th>\n",
              "      <th>latitude</th>\n",
              "      <th>label_id</th>\n",
              "      <th>category</th>\n",
              "      <th>phone_brand</th>\n",
              "      <th>device_model</th>\n",
              "      <th>gender</th>\n",
              "      <th>age</th>\n",
              "      <th>group</th>\n",
              "    </tr>\n",
              "  </thead>\n",
              "  <tbody>\n",
              "    <tr>\n",
              "      <th>4516274</th>\n",
              "      <td>1644253</td>\n",
              "      <td>34559227754570733</td>\n",
              "      <td>1</td>\n",
              "      <td>1</td>\n",
              "      <td>-5611908785796903499</td>\n",
              "      <td>2016-05-02 11:52:09</td>\n",
              "      <td>0.0</td>\n",
              "      <td>0.0</td>\n",
              "      <td>302</td>\n",
              "      <td>unknown</td>\n",
              "      <td>金立</td>\n",
              "      <td>F103S</td>\n",
              "      <td>M</td>\n",
              "      <td>26</td>\n",
              "      <td>M23-26</td>\n",
              "    </tr>\n",
              "    <tr>\n",
              "      <th>4516275</th>\n",
              "      <td>1644253</td>\n",
              "      <td>34559227754570733</td>\n",
              "      <td>1</td>\n",
              "      <td>1</td>\n",
              "      <td>-5611908785796903499</td>\n",
              "      <td>2016-05-02 11:52:09</td>\n",
              "      <td>0.0</td>\n",
              "      <td>0.0</td>\n",
              "      <td>306</td>\n",
              "      <td>unknown</td>\n",
              "      <td>金立</td>\n",
              "      <td>F103S</td>\n",
              "      <td>M</td>\n",
              "      <td>26</td>\n",
              "      <td>M23-26</td>\n",
              "    </tr>\n",
              "    <tr>\n",
              "      <th>4516276</th>\n",
              "      <td>1874484</td>\n",
              "      <td>34559227754570733</td>\n",
              "      <td>1</td>\n",
              "      <td>1</td>\n",
              "      <td>-5611908785796903499</td>\n",
              "      <td>2016-05-02 09:07:01</td>\n",
              "      <td>0.0</td>\n",
              "      <td>0.0</td>\n",
              "      <td>302</td>\n",
              "      <td>unknown</td>\n",
              "      <td>金立</td>\n",
              "      <td>F103S</td>\n",
              "      <td>M</td>\n",
              "      <td>26</td>\n",
              "      <td>M23-26</td>\n",
              "    </tr>\n",
              "    <tr>\n",
              "      <th>4516277</th>\n",
              "      <td>1874484</td>\n",
              "      <td>34559227754570733</td>\n",
              "      <td>1</td>\n",
              "      <td>1</td>\n",
              "      <td>-5611908785796903499</td>\n",
              "      <td>2016-05-02 09:07:01</td>\n",
              "      <td>0.0</td>\n",
              "      <td>0.0</td>\n",
              "      <td>306</td>\n",
              "      <td>unknown</td>\n",
              "      <td>金立</td>\n",
              "      <td>F103S</td>\n",
              "      <td>M</td>\n",
              "      <td>26</td>\n",
              "      <td>M23-26</td>\n",
              "    </tr>\n",
              "    <tr>\n",
              "      <th>4516278</th>\n",
              "      <td>1313077</td>\n",
              "      <td>-626198893166693462</td>\n",
              "      <td>1</td>\n",
              "      <td>1</td>\n",
              "      <td>8160655655365676139</td>\n",
              "      <td>2016-05-04 13:37:09</td>\n",
              "      <td>0.0</td>\n",
              "      <td>0.0</td>\n",
              "      <td>548</td>\n",
              "      <td>Industry tag</td>\n",
              "      <td>LG</td>\n",
              "      <td>P880</td>\n",
              "      <td>M</td>\n",
              "      <td>29</td>\n",
              "      <td>M29-31</td>\n",
              "    </tr>\n",
              "  </tbody>\n",
              "</table>\n",
              "</div>"
            ],
            "text/plain": [
              "         event_id              app_id  is_installed  ...  gender  age   group\n",
              "4516274   1644253   34559227754570733             1  ...       M   26  M23-26\n",
              "4516275   1644253   34559227754570733             1  ...       M   26  M23-26\n",
              "4516276   1874484   34559227754570733             1  ...       M   26  M23-26\n",
              "4516277   1874484   34559227754570733             1  ...       M   26  M23-26\n",
              "4516278   1313077 -626198893166693462             1  ...       M   29  M29-31\n",
              "\n",
              "[5 rows x 15 columns]"
            ]
          },
          "metadata": {},
          "execution_count": 14
        }
      ]
    },
    {
      "cell_type": "code",
      "metadata": {
        "colab": {
          "base_uri": "https://localhost:8080/"
        },
        "id": "8garlkdKiBrD",
        "outputId": "dfd44539-7627-4c75-9931-6ac53cfd884a"
      },
      "source": [
        "master_df.shape"
      ],
      "execution_count": 15,
      "outputs": [
        {
          "output_type": "execute_result",
          "data": {
            "text/plain": [
              "(4516279, 15)"
            ]
          },
          "metadata": {},
          "execution_count": 15
        }
      ]
    },
    {
      "cell_type": "markdown",
      "metadata": {
        "id": "PYXJimzMAMeT"
      },
      "source": [
        "# Translate Chinese Phone Brands into English"
      ]
    },
    {
      "cell_type": "code",
      "metadata": {
        "id": "PLpIJrNCsu0M"
      },
      "source": [
        "# Most of these were manually entered to get proper translation\n",
        "to_english = {\n",
        "    \"华为\": \"huawei\", \n",
        "    \"小米\": \"xiaomi\",  \n",
        "    \"魅族\": \"meizu\", \n",
        "    \"vivo\": \"vivo\", \n",
        "    \"酷派\": \"coolpad\",  \n",
        "    \"索尼\": \"sony\",  \n",
        "    \"OPPO\": \"oppo\",  \n",
        "    \"LG\": \"lg\",\n",
        "    \"HTC\": \"htc\",  \n",
        "    \"金立\": \"gionee\",  \n",
        "    \"中兴\": \"zte\",  \n",
        "    \"奇酷\": \"qiku\",  \n",
        "    \"TCL\": \"tcl\", \n",
        "    \"三星\": \"samsung\",\n",
        "    \"天语\": \"Ktouch\",\n",
        "    \"海信\": \"hisense\",\n",
        "    \"联想\": \"lenovo\",\n",
        "    \"欧比\": \"obi\",\n",
        "    \"爱派尔\": \"ipair\",\n",
        "    \"努比亚\": \"nubia\",\n",
        "    \"优米\": \"youmi\",\n",
        "    \"朵唯\": \"dowe\",\n",
        "    \"黑米\": \"heymi\",\n",
        "    \"锤子\": \"hammer\",\n",
        "    \"酷比魔方\": \"koobee\",\n",
        "    \"美图\": \"meitu\",\n",
        "    \"尼比鲁\": \"nibilu\",\n",
        "    \"一加\": \"oneplus\",\n",
        "    \"优购\": \"yougo\",\n",
        "    \"诺基亚\": \"nokia\",\n",
        "    \"糖葫芦\": \"candy\",\n",
        "    \"中国移动\": \"ccmc\",\n",
        "    \"语信\": \"yuxin\",\n",
        "    \"基伍\": \"kiwu\",\n",
        "    \"青橙\": \"greeno\",\n",
        "    \"华硕\": \"asus\",\n",
        "    \"夏新\": \"panosonic\",\n",
        "    \"维图\": \"weitu\",\n",
        "    \"艾优尼\": \"aiyouni\",\n",
        "    \"摩托罗拉\": \"moto\",\n",
        "    \"乡米\": \"xiangmi\",\n",
        "    \"米奇\": \"micky\",\n",
        "    \"大可乐\": \"bigcola\",\n",
        "    \"沃普丰\": \"wpf\",\n",
        "    \"神舟\": \"hasse\",\n",
        "    \"摩乐\": \"mole\",\n",
        "    \"飞秒\": \"fs\",\n",
        "    \"米歌\": \"mige\",\n",
        "    \"富可视\": \"fks\",\n",
        "    \"德赛\": \"desci\",\n",
        "    \"梦米\": \"mengmi\",\n",
        "    \"乐视\": \"lshi\",\n",
        "    \"小杨树\": \"smallt\",\n",
        "    \"纽曼\": \"newman\",\n",
        "    \"邦华\": \"banghua\",\n",
        "    \"E派\": \"epai\",\n",
        "    \"易派\": \"epai\",\n",
        "    \"普耐尔\": \"pner\",\n",
        "    \"欧新\": \"ouxin\",\n",
        "    \"西米\": \"ximi\",\n",
        "    \"海尔\": \"haier\",\n",
        "    \"波导\": \"bodao\",\n",
        "    \"糯米\": \"nuomi\",\n",
        "    \"唯米\": \"weimi\",\n",
        "    \"酷珀\": \"kupo\",\n",
        "    \"谷歌\": \"google\",\n",
        "    \"昂达\": \"ada\",\n",
        "    \"聆韵\": \"lingyun\",\n",
        "}\n"
      ],
      "execution_count": 16,
      "outputs": []
    },
    {
      "cell_type": "code",
      "metadata": {
        "id": "f91lWYsMAjuZ"
      },
      "source": [
        "# Created new column for phone brand, can now drop old phone_brand column\n",
        "master_df[\"english_phone_brand\"] = master_df[\"phone_brand\"].map(to_english)\n",
        "master_df = master_df.drop(columns=[\"phone_brand\"])\n"
      ],
      "execution_count": 17,
      "outputs": []
    },
    {
      "cell_type": "markdown",
      "metadata": {
        "id": "mUTBGsqXOd4K"
      },
      "source": [
        "# Exploratory Charts"
      ]
    },
    {
      "cell_type": "code",
      "metadata": {
        "colab": {
          "base_uri": "https://localhost:8080/",
          "height": 299
        },
        "id": "er_ykUToNSFr",
        "outputId": "d9e270a8-5916-4389-e303-64c6fd583fa5"
      },
      "source": [
        "# Descriptive statistics.\n",
        "master_df.describe()"
      ],
      "execution_count": 18,
      "outputs": [
        {
          "output_type": "execute_result",
          "data": {
            "text/html": [
              "<div>\n",
              "<style scoped>\n",
              "    .dataframe tbody tr th:only-of-type {\n",
              "        vertical-align: middle;\n",
              "    }\n",
              "\n",
              "    .dataframe tbody tr th {\n",
              "        vertical-align: top;\n",
              "    }\n",
              "\n",
              "    .dataframe thead th {\n",
              "        text-align: right;\n",
              "    }\n",
              "</style>\n",
              "<table border=\"1\" class=\"dataframe\">\n",
              "  <thead>\n",
              "    <tr style=\"text-align: right;\">\n",
              "      <th></th>\n",
              "      <th>event_id</th>\n",
              "      <th>app_id</th>\n",
              "      <th>is_installed</th>\n",
              "      <th>is_active</th>\n",
              "      <th>device_id</th>\n",
              "      <th>longitude</th>\n",
              "      <th>latitude</th>\n",
              "      <th>label_id</th>\n",
              "      <th>age</th>\n",
              "    </tr>\n",
              "  </thead>\n",
              "  <tbody>\n",
              "    <tr>\n",
              "      <th>count</th>\n",
              "      <td>4.516279e+06</td>\n",
              "      <td>4.516279e+06</td>\n",
              "      <td>4516279.0</td>\n",
              "      <td>4.516279e+06</td>\n",
              "      <td>4.516279e+06</td>\n",
              "      <td>4.516279e+06</td>\n",
              "      <td>4.516279e+06</td>\n",
              "      <td>4.516279e+06</td>\n",
              "      <td>4.516279e+06</td>\n",
              "    </tr>\n",
              "    <tr>\n",
              "      <th>mean</th>\n",
              "      <td>9.716941e+05</td>\n",
              "      <td>1.321011e+18</td>\n",
              "      <td>1.0</td>\n",
              "      <td>3.780373e-01</td>\n",
              "      <td>1.483745e+17</td>\n",
              "      <td>4.541422e+01</td>\n",
              "      <td>1.267923e+01</td>\n",
              "      <td>4.546896e+02</td>\n",
              "      <td>3.414907e+01</td>\n",
              "    </tr>\n",
              "    <tr>\n",
              "      <th>std</th>\n",
              "      <td>5.635599e+05</td>\n",
              "      <td>5.200231e+18</td>\n",
              "      <td>0.0</td>\n",
              "      <td>4.848971e-01</td>\n",
              "      <td>5.326803e+18</td>\n",
              "      <td>5.652630e+01</td>\n",
              "      <td>1.610578e+01</td>\n",
              "      <td>1.202579e+02</td>\n",
              "      <td>9.694198e+00</td>\n",
              "    </tr>\n",
              "    <tr>\n",
              "      <th>min</th>\n",
              "      <td>3.500000e+01</td>\n",
              "      <td>-9.216716e+18</td>\n",
              "      <td>1.0</td>\n",
              "      <td>0.000000e+00</td>\n",
              "      <td>-9.222957e+18</td>\n",
              "      <td>-1.800000e+02</td>\n",
              "      <td>-2.031000e+01</td>\n",
              "      <td>2.510000e+02</td>\n",
              "      <td>1.300000e+01</td>\n",
              "    </tr>\n",
              "    <tr>\n",
              "      <th>25%</th>\n",
              "      <td>4.845450e+05</td>\n",
              "      <td>-2.735762e+18</td>\n",
              "      <td>1.0</td>\n",
              "      <td>0.000000e+00</td>\n",
              "      <td>-4.467339e+18</td>\n",
              "      <td>0.000000e+00</td>\n",
              "      <td>0.000000e+00</td>\n",
              "      <td>3.030000e+02</td>\n",
              "      <td>2.700000e+01</td>\n",
              "    </tr>\n",
              "    <tr>\n",
              "      <th>50%</th>\n",
              "      <td>9.696500e+05</td>\n",
              "      <td>1.665047e+18</td>\n",
              "      <td>1.0</td>\n",
              "      <td>0.000000e+00</td>\n",
              "      <td>8.453126e+16</td>\n",
              "      <td>0.000000e+00</td>\n",
              "      <td>0.000000e+00</td>\n",
              "      <td>5.480000e+02</td>\n",
              "      <td>3.200000e+01</td>\n",
              "    </tr>\n",
              "    <tr>\n",
              "      <th>75%</th>\n",
              "      <td>1.461402e+06</td>\n",
              "      <td>5.927333e+18</td>\n",
              "      <td>1.0</td>\n",
              "      <td>1.000000e+00</td>\n",
              "      <td>4.881523e+18</td>\n",
              "      <td>1.143500e+02</td>\n",
              "      <td>3.058000e+01</td>\n",
              "      <td>5.490000e+02</td>\n",
              "      <td>4.000000e+01</td>\n",
              "    </tr>\n",
              "    <tr>\n",
              "      <th>max</th>\n",
              "      <td>1.951730e+06</td>\n",
              "      <td>9.222073e+18</td>\n",
              "      <td>1.0</td>\n",
              "      <td>1.000000e+00</td>\n",
              "      <td>9.220915e+18</td>\n",
              "      <td>1.343000e+02</td>\n",
              "      <td>5.232000e+01</td>\n",
              "      <td>5.680000e+02</td>\n",
              "      <td>8.800000e+01</td>\n",
              "    </tr>\n",
              "  </tbody>\n",
              "</table>\n",
              "</div>"
            ],
            "text/plain": [
              "           event_id        app_id  ...      label_id           age\n",
              "count  4.516279e+06  4.516279e+06  ...  4.516279e+06  4.516279e+06\n",
              "mean   9.716941e+05  1.321011e+18  ...  4.546896e+02  3.414907e+01\n",
              "std    5.635599e+05  5.200231e+18  ...  1.202579e+02  9.694198e+00\n",
              "min    3.500000e+01 -9.216716e+18  ...  2.510000e+02  1.300000e+01\n",
              "25%    4.845450e+05 -2.735762e+18  ...  3.030000e+02  2.700000e+01\n",
              "50%    9.696500e+05  1.665047e+18  ...  5.480000e+02  3.200000e+01\n",
              "75%    1.461402e+06  5.927333e+18  ...  5.490000e+02  4.000000e+01\n",
              "max    1.951730e+06  9.222073e+18  ...  5.680000e+02  8.800000e+01\n",
              "\n",
              "[8 rows x 9 columns]"
            ]
          },
          "metadata": {},
          "execution_count": 18
        }
      ]
    },
    {
      "cell_type": "code",
      "metadata": {
        "colab": {
          "base_uri": "https://localhost:8080/",
          "height": 1000
        },
        "id": "4FqWINnTNSln",
        "outputId": "93c75b92-587c-4dde-8217-8679e78366b9"
      },
      "source": [
        "# Histogram\n",
        "master_df.hist(figsize=(30,20))\n"
      ],
      "execution_count": 19,
      "outputs": [
        {
          "output_type": "execute_result",
          "data": {
            "text/plain": [
              "array([[<matplotlib.axes._subplots.AxesSubplot object at 0x7fad6d61ee10>,\n",
              "        <matplotlib.axes._subplots.AxesSubplot object at 0x7fad6d5fb590>,\n",
              "        <matplotlib.axes._subplots.AxesSubplot object at 0x7fad6d5b0c10>],\n",
              "       [<matplotlib.axes._subplots.AxesSubplot object at 0x7fad6d56f2d0>,\n",
              "        <matplotlib.axes._subplots.AxesSubplot object at 0x7fad6d524950>,\n",
              "        <matplotlib.axes._subplots.AxesSubplot object at 0x7fad6d4ceb50>],\n",
              "       [<matplotlib.axes._subplots.AxesSubplot object at 0x7fad6d49a710>,\n",
              "        <matplotlib.axes._subplots.AxesSubplot object at 0x7fad6d450cd0>,\n",
              "        <matplotlib.axes._subplots.AxesSubplot object at 0x7fad6d450d10>]],\n",
              "      dtype=object)"
            ]
          },
          "metadata": {},
          "execution_count": 19
        },
        {
          "output_type": "display_data",
          "data": {
            "image/png": "[encoded data removed]",
            "text/plain": [
              "<Figure size 2160x1440 with 9 Axes>"
            ]
          },
          "metadata": {
            "needs_background": "light"
          }
        }
      ]
    },
    {
      "cell_type": "markdown",
      "metadata": {
        "id": "MDR0ut08O3gK"
      },
      "source": [
        "Hmm, seems like none of these featuers are very normalized in form.  EventID, Age, and Device ID seem to be the only ones with some level of consistent.  \n",
        "\n",
        "We will have to perform some cleaning to get them more alligned.  "
      ]
    },
    {
      "cell_type": "code",
      "metadata": {
        "colab": {
          "base_uri": "https://localhost:8080/",
          "height": 1000
        },
        "id": "wQJSWjkUNgTz",
        "outputId": "698f6478-79c2-4ba6-f119-9d4fd53bac0f"
      },
      "source": [
        "# Visualize correlation between independant variables and the target variable. Here, the target variable is 'Chance_of_Admit'\n",
        "plt.figure(figsize=(20,16))\n",
        "sns.heatmap(master_df.corr(),annot = True)\n",
        "plt.show()\n",
        "\n",
        "print()\n",
        "print(\"Correlation Table\")\n",
        "# Correlation factors for 'delay time'.\n",
        "master_df.corr()"
      ],
      "execution_count": 20,
      "outputs": [
        {
          "output_type": "display_data",
          "data": {
            "image/png": "[encoded data removed]",
            "text/plain": [
              "<Figure size 1440x1152 with 2 Axes>"
            ]
          },
          "metadata": {
            "needs_background": "light"
          }
        },
        {
          "output_type": "stream",
          "name": "stdout",
          "text": [
            "\n",
            "Correlation Table\n"
          ]
        },
        {
          "output_type": "execute_result",
          "data": {
            "text/html": [
              "<div>\n",
              "<style scoped>\n",
              "    .dataframe tbody tr th:only-of-type {\n",
              "        vertical-align: middle;\n",
              "    }\n",
              "\n",
              "    .dataframe tbody tr th {\n",
              "        vertical-align: top;\n",
              "    }\n",
              "\n",
              "    .dataframe thead th {\n",
              "        text-align: right;\n",
              "    }\n",
              "</style>\n",
              "<table border=\"1\" class=\"dataframe\">\n",
              "  <thead>\n",
              "    <tr style=\"text-align: right;\">\n",
              "      <th></th>\n",
              "      <th>event_id</th>\n",
              "      <th>app_id</th>\n",
              "      <th>is_installed</th>\n",
              "      <th>is_active</th>\n",
              "      <th>device_id</th>\n",
              "      <th>longitude</th>\n",
              "      <th>latitude</th>\n",
              "      <th>label_id</th>\n",
              "      <th>age</th>\n",
              "    </tr>\n",
              "  </thead>\n",
              "  <tbody>\n",
              "    <tr>\n",
              "      <th>event_id</th>\n",
              "      <td>1.000000</td>\n",
              "      <td>-0.000282</td>\n",
              "      <td>NaN</td>\n",
              "      <td>0.007581</td>\n",
              "      <td>-0.001846</td>\n",
              "      <td>-0.001075</td>\n",
              "      <td>-0.001710</td>\n",
              "      <td>0.000983</td>\n",
              "      <td>-0.000871</td>\n",
              "    </tr>\n",
              "    <tr>\n",
              "      <th>app_id</th>\n",
              "      <td>-0.000282</td>\n",
              "      <td>1.000000</td>\n",
              "      <td>NaN</td>\n",
              "      <td>0.085340</td>\n",
              "      <td>-0.000423</td>\n",
              "      <td>-0.011938</td>\n",
              "      <td>-0.012176</td>\n",
              "      <td>0.136246</td>\n",
              "      <td>0.004245</td>\n",
              "    </tr>\n",
              "    <tr>\n",
              "      <th>is_installed</th>\n",
              "      <td>NaN</td>\n",
              "      <td>NaN</td>\n",
              "      <td>NaN</td>\n",
              "      <td>NaN</td>\n",
              "      <td>NaN</td>\n",
              "      <td>NaN</td>\n",
              "      <td>NaN</td>\n",
              "      <td>NaN</td>\n",
              "      <td>NaN</td>\n",
              "    </tr>\n",
              "    <tr>\n",
              "      <th>is_active</th>\n",
              "      <td>0.007581</td>\n",
              "      <td>0.085340</td>\n",
              "      <td>NaN</td>\n",
              "      <td>1.000000</td>\n",
              "      <td>0.018470</td>\n",
              "      <td>-0.061041</td>\n",
              "      <td>-0.059927</td>\n",
              "      <td>0.087450</td>\n",
              "      <td>0.011154</td>\n",
              "    </tr>\n",
              "    <tr>\n",
              "      <th>device_id</th>\n",
              "      <td>-0.001846</td>\n",
              "      <td>-0.000423</td>\n",
              "      <td>NaN</td>\n",
              "      <td>0.018470</td>\n",
              "      <td>1.000000</td>\n",
              "      <td>0.006518</td>\n",
              "      <td>0.001704</td>\n",
              "      <td>0.004925</td>\n",
              "      <td>-0.014762</td>\n",
              "    </tr>\n",
              "    <tr>\n",
              "      <th>longitude</th>\n",
              "      <td>-0.001075</td>\n",
              "      <td>-0.011938</td>\n",
              "      <td>NaN</td>\n",
              "      <td>-0.061041</td>\n",
              "      <td>0.006518</td>\n",
              "      <td>1.000000</td>\n",
              "      <td>0.971134</td>\n",
              "      <td>0.000523</td>\n",
              "      <td>-0.037694</td>\n",
              "    </tr>\n",
              "    <tr>\n",
              "      <th>latitude</th>\n",
              "      <td>-0.001710</td>\n",
              "      <td>-0.012176</td>\n",
              "      <td>NaN</td>\n",
              "      <td>-0.059927</td>\n",
              "      <td>0.001704</td>\n",
              "      <td>0.971134</td>\n",
              "      <td>1.000000</td>\n",
              "      <td>0.002789</td>\n",
              "      <td>-0.040531</td>\n",
              "    </tr>\n",
              "    <tr>\n",
              "      <th>label_id</th>\n",
              "      <td>0.000983</td>\n",
              "      <td>0.136246</td>\n",
              "      <td>NaN</td>\n",
              "      <td>0.087450</td>\n",
              "      <td>0.004925</td>\n",
              "      <td>0.000523</td>\n",
              "      <td>0.002789</td>\n",
              "      <td>1.000000</td>\n",
              "      <td>-0.032825</td>\n",
              "    </tr>\n",
              "    <tr>\n",
              "      <th>age</th>\n",
              "      <td>-0.000871</td>\n",
              "      <td>0.004245</td>\n",
              "      <td>NaN</td>\n",
              "      <td>0.011154</td>\n",
              "      <td>-0.014762</td>\n",
              "      <td>-0.037694</td>\n",
              "      <td>-0.040531</td>\n",
              "      <td>-0.032825</td>\n",
              "      <td>1.000000</td>\n",
              "    </tr>\n",
              "  </tbody>\n",
              "</table>\n",
              "</div>"
            ],
            "text/plain": [
              "              event_id    app_id  is_installed  ...  latitude  label_id       age\n",
              "event_id      1.000000 -0.000282           NaN  ... -0.001710  0.000983 -0.000871\n",
              "app_id       -0.000282  1.000000           NaN  ... -0.012176  0.136246  0.004245\n",
              "is_installed       NaN       NaN           NaN  ...       NaN       NaN       NaN\n",
              "is_active     0.007581  0.085340           NaN  ... -0.059927  0.087450  0.011154\n",
              "device_id    -0.001846 -0.000423           NaN  ...  0.001704  0.004925 -0.014762\n",
              "longitude    -0.001075 -0.011938           NaN  ...  0.971134  0.000523 -0.037694\n",
              "latitude     -0.001710 -0.012176           NaN  ...  1.000000  0.002789 -0.040531\n",
              "label_id      0.000983  0.136246           NaN  ...  0.002789  1.000000 -0.032825\n",
              "age          -0.000871  0.004245           NaN  ... -0.040531 -0.032825  1.000000\n",
              "\n",
              "[9 rows x 9 columns]"
            ]
          },
          "metadata": {},
          "execution_count": 20
        }
      ]
    },
    {
      "cell_type": "markdown",
      "metadata": {
        "id": "YDDNdvHIPLB5"
      },
      "source": [
        "Quite a lot of these do not correlate very well with each other.  Could be due to the overflow of data and the large amount of nulls and other facts.  We will have to drop some of these features and reduce our dataset a bit.  "
      ]
    },
    {
      "cell_type": "markdown",
      "metadata": {
        "id": "ePbaNt_eBRaa"
      },
      "source": [
        "# Let's finally take a look at the combined final DF"
      ]
    },
    {
      "cell_type": "markdown",
      "metadata": {
        "id": "7cHaaft_BVZB"
      },
      "source": [
        "### Check for Nulls"
      ]
    },
    {
      "cell_type": "markdown",
      "metadata": {
        "id": "k6tRSCu5x_IZ"
      },
      "source": [
        "- Checking for missing values\n",
        "- For the english_phone_brand column it appears less than 1% of data is missing, so drop the missing data\n"
      ]
    },
    {
      "cell_type": "code",
      "metadata": {
        "colab": {
          "base_uri": "https://localhost:8080/"
        },
        "id": "JdN3emimA-ZM",
        "outputId": "b57fbeb5-8526-4ae0-ecae-7b1aed2397eb"
      },
      "source": [
        "master_df.isna().mean()\n"
      ],
      "execution_count": 21,
      "outputs": [
        {
          "output_type": "execute_result",
          "data": {
            "text/plain": [
              "event_id               0.00000\n",
              "app_id                 0.00000\n",
              "is_installed           0.00000\n",
              "is_active              0.00000\n",
              "device_id              0.00000\n",
              "timestamp              0.00000\n",
              "longitude              0.00000\n",
              "latitude               0.00000\n",
              "label_id               0.00000\n",
              "category               0.00000\n",
              "device_model           0.00000\n",
              "gender                 0.00000\n",
              "age                    0.00000\n",
              "group                  0.00000\n",
              "english_phone_brand    0.00656\n",
              "dtype: float64"
            ]
          },
          "metadata": {},
          "execution_count": 21
        }
      ]
    },
    {
      "cell_type": "markdown",
      "metadata": {
        "id": "GjecrwEwyEEW"
      },
      "source": [
        "- drop nulls\n"
      ]
    },
    {
      "cell_type": "code",
      "metadata": {
        "id": "_ppXofndBY1Z"
      },
      "source": [
        "master_df = master_df.dropna()\n"
      ],
      "execution_count": 22,
      "outputs": []
    },
    {
      "cell_type": "code",
      "metadata": {
        "colab": {
          "base_uri": "https://localhost:8080/"
        },
        "id": "WdRMpitFD9mF",
        "outputId": "dda9d9c7-7f35-44f3-c7b0-3b173b075a70"
      },
      "source": [
        "# Check the shape\n",
        "master_df.shape\n"
      ],
      "execution_count": 23,
      "outputs": [
        {
          "output_type": "execute_result",
          "data": {
            "text/plain": [
              "(4486652, 15)"
            ]
          },
          "metadata": {},
          "execution_count": 23
        }
      ]
    },
    {
      "cell_type": "code",
      "metadata": {
        "colab": {
          "base_uri": "https://localhost:8080/"
        },
        "id": "p4IReRV7Gyxq",
        "outputId": "52a17135-9aef-4e96-e69d-8f214a193fe2"
      },
      "source": [
        "# Checking data types of each column\n",
        "# timestamp is an object type,\n",
        "# convert timestamp to datetime type\n",
        "master_df.dtypes\n"
      ],
      "execution_count": 24,
      "outputs": [
        {
          "output_type": "execute_result",
          "data": {
            "text/plain": [
              "event_id                 int64\n",
              "app_id                   int64\n",
              "is_installed             int64\n",
              "is_active                int64\n",
              "device_id                int64\n",
              "timestamp               object\n",
              "longitude              float64\n",
              "latitude               float64\n",
              "label_id                 int64\n",
              "category                object\n",
              "device_model            object\n",
              "gender                  object\n",
              "age                      int64\n",
              "group                   object\n",
              "english_phone_brand     object\n",
              "dtype: object"
            ]
          },
          "metadata": {},
          "execution_count": 24
        }
      ]
    },
    {
      "cell_type": "code",
      "metadata": {
        "id": "hsfRDH87G1FK"
      },
      "source": [
        "master_df[\"timestamp\"] = pd.to_datetime(master_df[\"timestamp\"])\n"
      ],
      "execution_count": 25,
      "outputs": []
    },
    {
      "cell_type": "markdown",
      "metadata": {
        "id": "TQw-tOcsHzbK"
      },
      "source": [
        "## Checking for Sufficient Amount of Values\n"
      ]
    },
    {
      "cell_type": "code",
      "metadata": {
        "id": "sOmPB7i-HY5i"
      },
      "source": [
        "#pd.set_option(\"display.max_rows\", None)\n"
      ],
      "execution_count": 26,
      "outputs": []
    },
    {
      "cell_type": "markdown",
      "metadata": {
        "id": "z3FpXLNgyIp_"
      },
      "source": [
        "- Only want to keep event_id with enough data,\n",
        "- Drop event_id rows with < 100 values\n"
      ]
    },
    {
      "cell_type": "code",
      "metadata": {
        "id": "CSVWfeTIH-wy",
        "colab": {
          "base_uri": "https://localhost:8080/"
        },
        "outputId": "cf05cd43-d2f7-4ec4-ec2b-f3967a0764ba"
      },
      "source": [
        "master_df[\"event_id\"].value_counts()\n"
      ],
      "execution_count": 27,
      "outputs": [
        {
          "output_type": "execute_result",
          "data": {
            "text/plain": [
              "1358689    482\n",
              "1691682    482\n",
              "28574      482\n",
              "1274697    482\n",
              "1495937    482\n",
              "          ... \n",
              "582140       1\n",
              "212388       1\n",
              "1056705      1\n",
              "1782967      1\n",
              "770378       1\n",
              "Name: event_id, Length: 96857, dtype: int64"
            ]
          },
          "metadata": {},
          "execution_count": 27
        }
      ]
    },
    {
      "cell_type": "code",
      "metadata": {
        "id": "WjPlOrvUJu_L"
      },
      "source": [
        "count = master_df[\"event_id\"].value_counts()\n",
        "keep = count[count >= 100].index\n",
        "master_df = master_df[master_df[\"event_id\"].isin(keep)]\n"
      ],
      "execution_count": 28,
      "outputs": []
    },
    {
      "cell_type": "markdown",
      "metadata": {
        "id": "SWu3OQtJyMxH"
      },
      "source": [
        "- Only want to keep app_id values with enough data,\n",
        "- Drop app_id rows with < 1000 values\n"
      ]
    },
    {
      "cell_type": "code",
      "metadata": {
        "id": "SgTuTWjMJ1zC",
        "colab": {
          "base_uri": "https://localhost:8080/"
        },
        "outputId": "55bf9da0-da4c-4993-8d64-02bf7044e6c9"
      },
      "source": [
        "master_df[\"app_id\"].value_counts()\n"
      ],
      "execution_count": 29,
      "outputs": [
        {
          "output_type": "execute_result",
          "data": {
            "text/plain": [
              " 628020936226491308     40760\n",
              " 33792862810792679      38640\n",
              " 4348659952760821294    34863\n",
              " 7316250158002095415    34446\n",
              " 4244331088397413857    29248\n",
              "                        ...  \n",
              "-6530064539810173493        1\n",
              "-6248776539568402231        1\n",
              " 3077763483809706787        1\n",
              "-3640924485131277903        1\n",
              "-7628231288117243753        1\n",
              "Name: app_id, Length: 3128, dtype: int64"
            ]
          },
          "metadata": {},
          "execution_count": 29
        }
      ]
    },
    {
      "cell_type": "code",
      "metadata": {
        "id": "T8PioHP2KAWS"
      },
      "source": [
        "count = master_df[\"app_id\"].value_counts()\n",
        "keep = count[count >= 1000].index\n",
        "master_df = master_df[master_df[\"app_id\"].isin(keep)]\n"
      ],
      "execution_count": 30,
      "outputs": []
    },
    {
      "cell_type": "markdown",
      "metadata": {
        "id": "XkjkQteKyPaA"
      },
      "source": [
        "- Appears to be enough information for each value\n",
        "- Will leave this column alone.\n"
      ]
    },
    {
      "cell_type": "code",
      "metadata": {
        "colab": {
          "base_uri": "https://localhost:8080/"
        },
        "id": "f5MFbeukOCvd",
        "outputId": "749b1580-4f70-47f1-a8dd-aa080ffcd8e8"
      },
      "source": [
        "master_df[\"is_active\"].value_counts()\n"
      ],
      "execution_count": 31,
      "outputs": [
        {
          "output_type": "execute_result",
          "data": {
            "text/plain": [
              "0    1233026\n",
              "1     211574\n",
              "Name: is_active, dtype: int64"
            ]
          },
          "metadata": {},
          "execution_count": 31
        }
      ]
    },
    {
      "cell_type": "markdown",
      "metadata": {
        "id": "v2OrbFAbySYH"
      },
      "source": [
        "- Only want to keep device_id values with enough data,\n",
        "- Drop device_id rows with < 1000 values\n"
      ]
    },
    {
      "cell_type": "code",
      "metadata": {
        "id": "mDlSopu8OlN0",
        "colab": {
          "base_uri": "https://localhost:8080/"
        },
        "outputId": "9afb5646-926f-4016-a873-963c4116dd21"
      },
      "source": [
        "master_df[\"device_id\"].value_counts()\n"
      ],
      "execution_count": 32,
      "outputs": [
        {
          "output_type": "execute_result",
          "data": {
            "text/plain": [
              "-4814793614000680392    46493\n",
              "-806096877239654999     35793\n",
              "-669426881946113309     23605\n",
              " 5266220763241423819    22784\n",
              " 4810860241711208118    19245\n",
              "                        ...  \n",
              " 367173766040888135        32\n",
              " 5094521126196895843       32\n",
              "-2245813893089105816       31\n",
              "-3001338772070455674       30\n",
              " 4648493134635137430       21\n",
              "Name: device_id, Length: 1464, dtype: int64"
            ]
          },
          "metadata": {},
          "execution_count": 32
        }
      ]
    },
    {
      "cell_type": "code",
      "metadata": {
        "id": "yBKmJ5SMOqSj"
      },
      "source": [
        "count = master_df[\"device_id\"].value_counts()\n",
        "keep = count[count >= 1000].index\n",
        "master_df = master_df[master_df[\"device_id\"].isin(keep)]\n"
      ],
      "execution_count": 33,
      "outputs": []
    },
    {
      "cell_type": "markdown",
      "metadata": {
        "id": "VegD2EvDyU3g"
      },
      "source": [
        "- Only want to keep timestamp values with enough data,\n",
        "- Drop timestamp rows with < 100 values\n"
      ]
    },
    {
      "cell_type": "code",
      "metadata": {
        "id": "j94bDZGmOw2E",
        "colab": {
          "base_uri": "https://localhost:8080/"
        },
        "outputId": "69f6f788-d1e4-480b-c5c8-57c6d32be27e"
      },
      "source": [
        "master_df[\"timestamp\"].value_counts()\n"
      ],
      "execution_count": 34,
      "outputs": [
        {
          "output_type": "execute_result",
          "data": {
            "text/plain": [
              "2016-05-02 14:20:11    436\n",
              "2016-05-02 10:52:19    414\n",
              "2016-05-02 12:55:20    413\n",
              "2016-05-01 11:03:30    406\n",
              "2016-05-01 21:27:12    391\n",
              "                      ... \n",
              "2016-05-01 09:32:01     69\n",
              "2016-05-06 08:29:32     69\n",
              "2016-05-01 18:07:22     69\n",
              "2016-05-07 03:57:16     36\n",
              "2016-05-01 18:54:05     35\n",
              "Name: timestamp, Length: 8206, dtype: int64"
            ]
          },
          "metadata": {},
          "execution_count": 34
        }
      ]
    },
    {
      "cell_type": "code",
      "metadata": {
        "id": "6BDCYUnfO3Ur"
      },
      "source": [
        "count = master_df[\"timestamp\"].value_counts()\n",
        "keep = count[count >= 100].index\n",
        "master_df = master_df[master_df[\"timestamp\"].isin(keep)]\n"
      ],
      "execution_count": 35,
      "outputs": []
    },
    {
      "cell_type": "markdown",
      "metadata": {
        "id": "d4wqun0kyXR9"
      },
      "source": [
        "- Only want to keep longitude values with enough data,\n",
        "- Drop longitude rows with < 10000 values\n"
      ]
    },
    {
      "cell_type": "code",
      "metadata": {
        "id": "v3All8N6O9za",
        "colab": {
          "base_uri": "https://localhost:8080/"
        },
        "outputId": "782ca470-c73c-42a5-9e22-f323d4189351"
      },
      "source": [
        "master_df[\"longitude\"].value_counts()\n"
      ],
      "execution_count": 36,
      "outputs": [
        {
          "output_type": "execute_result",
          "data": {
            "text/plain": [
              "0.00      429999\n",
              "116.63     20223\n",
              "116.65     19242\n",
              "119.45     16652\n",
              "119.50     15588\n",
              "           ...  \n",
              "114.34       100\n",
              "103.93        97\n",
              "114.33        93\n",
              "103.39        90\n",
              "123.47        83\n",
              "Name: longitude, Length: 435, dtype: int64"
            ]
          },
          "metadata": {},
          "execution_count": 36
        }
      ]
    },
    {
      "cell_type": "code",
      "metadata": {
        "id": "pGdf5PnRQe-L"
      },
      "source": [
        "count = master_df[\"longitude\"].value_counts()\n",
        "keep = count[count >= 10000].index\n",
        "master_df = master_df[master_df[\"longitude\"].isin(keep)]\n"
      ],
      "execution_count": 37,
      "outputs": []
    },
    {
      "cell_type": "markdown",
      "metadata": {
        "id": "_WZu4m0AyZy-"
      },
      "source": [
        "- Only want to keep latitude values with enough data,\n",
        "- Drop latitude rows with < 10000 values\n"
      ]
    },
    {
      "cell_type": "code",
      "metadata": {
        "id": "oMzJKhS2Qicb",
        "colab": {
          "base_uri": "https://localhost:8080/"
        },
        "outputId": "28947102-6b77-4725-f3af-3ed16f891921"
      },
      "source": [
        "master_df[\"latitude\"].value_counts()\n"
      ],
      "execution_count": 38,
      "outputs": [
        {
          "output_type": "execute_result",
          "data": {
            "text/plain": [
              "0.00     429999\n",
              "40.10     19430\n",
              "31.37     15694\n",
              "31.36     15588\n",
              "40.12     15147\n",
              "34.24     14511\n",
              "39.82     10504\n",
              "40.13      2766\n",
              "40.11      1049\n",
              "31.38       958\n",
              "40.09       692\n",
              "34.70       398\n",
              "34.22       353\n",
              "34.23       118\n",
              "39.90       111\n",
              "39.91       107\n",
              "Name: latitude, dtype: int64"
            ]
          },
          "metadata": {},
          "execution_count": 38
        }
      ]
    },
    {
      "cell_type": "code",
      "metadata": {
        "id": "3FIdKB1uQmZL"
      },
      "source": [
        "count = master_df[\"latitude\"].value_counts()\n",
        "keep = count[count >= 10000].index\n",
        "master_df = master_df[master_df[\"latitude\"].isin(keep)]\n"
      ],
      "execution_count": 39,
      "outputs": []
    },
    {
      "cell_type": "markdown",
      "metadata": {
        "id": "DYkbKaIWycFv"
      },
      "source": [
        "- Only want to keep label_id values with enough data,\n",
        "- Drop label_id rows with < 1000 values\n"
      ]
    },
    {
      "cell_type": "code",
      "metadata": {
        "id": "6qAO37kJQ1tj",
        "colab": {
          "base_uri": "https://localhost:8080/"
        },
        "outputId": "b412f715-9d10-4d54-bfe8-e73a9e215763"
      },
      "source": [
        "master_df[\"label_id\"].value_counts()\n"
      ],
      "execution_count": 40,
      "outputs": [
        {
          "output_type": "execute_result",
          "data": {
            "text/plain": [
              "548    135084\n",
              "549     99088\n",
              "405     51351\n",
              "302     41703\n",
              "251     30249\n",
              "303     28243\n",
              "252     16648\n",
              "306     15403\n",
              "564     15377\n",
              "254     11482\n",
              "562     10907\n",
              "407     10641\n",
              "406     10641\n",
              "263      8547\n",
              "253      7530\n",
              "262      6137\n",
              "256      5019\n",
              "551      3278\n",
              "566      2631\n",
              "558      2539\n",
              "565      1950\n",
              "326      1303\n",
              "318       973\n",
              "261       842\n",
              "255       740\n",
              "559       739\n",
              "555       739\n",
              "552       739\n",
              "568       278\n",
              "259        72\n",
              "Name: label_id, dtype: int64"
            ]
          },
          "metadata": {},
          "execution_count": 40
        }
      ]
    },
    {
      "cell_type": "code",
      "metadata": {
        "id": "SiNhn3SGQ6XU"
      },
      "source": [
        "count = master_df[\"label_id\"].value_counts()\n",
        "keep = count[count >= 1000].index\n",
        "master_df = master_df[master_df[\"label_id\"].isin(keep)]\n"
      ],
      "execution_count": 41,
      "outputs": []
    },
    {
      "cell_type": "markdown",
      "metadata": {
        "id": "MbpujlVnyfsX"
      },
      "source": [
        "- There seems to be sufficient data for each of the values,\n",
        "- Will leave this column alone\n"
      ]
    },
    {
      "cell_type": "code",
      "metadata": {
        "id": "I6-8ow_LQ_Rd",
        "colab": {
          "base_uri": "https://localhost:8080/"
        },
        "outputId": "f40d4361-ac36-44ca-e239-fee3c5a22244"
      },
      "source": [
        "master_df[\"category\"].value_counts()\n"
      ],
      "execution_count": 42,
      "outputs": [
        {
          "output_type": "execute_result",
          "data": {
            "text/plain": [
              "Industry tag                 135084\n",
              "Property Industry 1.0         99088\n",
              "unknown                       95990\n",
              "Custom label                  51351\n",
              "Finance                       30249\n",
              "Wealth Management             16648\n",
              "pursue                        15377\n",
              "Direct Bank                   11482\n",
              "Science and Technology        10907\n",
              "DS_P2P net loan               10641\n",
              "Debit and credit               8547\n",
              "IMF                            7530\n",
              "Pay                            6137\n",
              "Securities                     5019\n",
              "Customization                  3278\n",
              "Personal Effectiveness         2631\n",
              "service                        2539\n",
              "Smart Shopping                 1950\n",
              "Condition of the vehicles      1303\n",
              "Name: category, dtype: int64"
            ]
          },
          "metadata": {},
          "execution_count": 42
        }
      ]
    },
    {
      "cell_type": "markdown",
      "metadata": {
        "id": "P8T1K6KHyhpX"
      },
      "source": [
        "- Only want to keep device_model values with enough data,\n",
        "- Drop device_model rows with < 1000 values\n"
      ]
    },
    {
      "cell_type": "code",
      "metadata": {
        "id": "rB4AjF4DREP9",
        "colab": {
          "base_uri": "https://localhost:8080/"
        },
        "outputId": "f820a2ca-22d5-454e-dd62-4c5c2ece077d"
      },
      "source": [
        "master_df[\"device_model\"].value_counts()\n"
      ],
      "execution_count": 43,
      "outputs": [
        {
          "output_type": "execute_result",
          "data": {
            "text/plain": [
              "荣耀3X               34924\n",
              "Ascend G7          31493\n",
              "Mate 7             29952\n",
              "荣耀6 Plus           29426\n",
              "荣耀6                26605\n",
              "                   ...  \n",
              "S5.1Pro               96\n",
              "Galaxy Core Max       88\n",
              "9190l                 86\n",
              "R1C                   71\n",
              "One E8                71\n",
              "Name: device_model, Length: 105, dtype: int64"
            ]
          },
          "metadata": {},
          "execution_count": 43
        }
      ]
    },
    {
      "cell_type": "code",
      "metadata": {
        "id": "d1dsNxuxRLaD"
      },
      "source": [
        "count = master_df[\"device_model\"].value_counts()\n",
        "keep = count[count >= 1000].index\n",
        "master_df = master_df[master_df[\"device_model\"].isin(keep)]\n"
      ],
      "execution_count": 44,
      "outputs": []
    },
    {
      "cell_type": "markdown",
      "metadata": {
        "id": "5pHU-nq9yp5f"
      },
      "source": [
        "- There seems to be sufficient data for each of the values,\n",
        "- Will leave this column alone\n"
      ]
    },
    {
      "cell_type": "code",
      "metadata": {
        "colab": {
          "base_uri": "https://localhost:8080/"
        },
        "id": "bmBqt4U-RPGT",
        "outputId": "c3f0fd58-eed7-4ecf-a2dd-e759ab3be2c7"
      },
      "source": [
        "master_df[\"gender\"].value_counts()\n"
      ],
      "execution_count": 45,
      "outputs": [
        {
          "output_type": "execute_result",
          "data": {
            "text/plain": [
              "M    409565\n",
              "F     93542\n",
              "Name: gender, dtype: int64"
            ]
          },
          "metadata": {},
          "execution_count": 45
        }
      ]
    },
    {
      "cell_type": "markdown",
      "metadata": {
        "id": "-KZFS1btyr4X"
      },
      "source": [
        "- There seems to be sufficient data for each of the values,\n",
        "- Will leave this column alone\n"
      ]
    },
    {
      "cell_type": "code",
      "metadata": {
        "id": "b15uIL4sRTJ2",
        "colab": {
          "base_uri": "https://localhost:8080/"
        },
        "outputId": "aca734ce-cd94-42a0-f4e0-0bd7e88f2207"
      },
      "source": [
        "master_df[\"age\"].value_counts()\n"
      ],
      "execution_count": 46,
      "outputs": [
        {
          "output_type": "execute_result",
          "data": {
            "text/plain": [
              "26    41395\n",
              "24    40185\n",
              "42    31850\n",
              "28    31653\n",
              "32    27596\n",
              "36    22843\n",
              "30    21578\n",
              "38    21169\n",
              "29    18111\n",
              "39    15666\n",
              "41    15204\n",
              "34    14905\n",
              "27    14386\n",
              "48    12625\n",
              "31    12181\n",
              "33    11349\n",
              "35    11303\n",
              "44    10494\n",
              "49    10065\n",
              "40    10038\n",
              "43     9862\n",
              "22     9355\n",
              "23     9055\n",
              "45     8452\n",
              "20     7808\n",
              "56     7764\n",
              "25     6931\n",
              "21     6702\n",
              "47     6509\n",
              "37     6498\n",
              "46     6338\n",
              "50     5764\n",
              "52     3123\n",
              "19     2845\n",
              "54     2406\n",
              "61     2146\n",
              "68     1363\n",
              "53     1268\n",
              "67     1251\n",
              "57     1158\n",
              "70     1089\n",
              "88      737\n",
              "64       87\n",
              "Name: age, dtype: int64"
            ]
          },
          "metadata": {},
          "execution_count": 46
        }
      ]
    },
    {
      "cell_type": "markdown",
      "metadata": {
        "id": "l3A4BgtEyt1X"
      },
      "source": [
        "- There seems to be sufficient data for each of the values,\n",
        "- Will leave this column alone\n"
      ]
    },
    {
      "cell_type": "code",
      "metadata": {
        "colab": {
          "base_uri": "https://localhost:8080/"
        },
        "id": "4-l7SvsORTV4",
        "outputId": "8e73df52-0a1a-4de7-e6ed-8079edd08d19"
      },
      "source": [
        "master_df[\"group\"].value_counts()\n"
      ],
      "execution_count": 47,
      "outputs": [
        {
          "output_type": "execute_result",
          "data": {
            "text/plain": [
              "M39+      111331\n",
              "M32-38    104804\n",
              "M23-26     91564\n",
              "M29-31     43598\n",
              "F33-42     38566\n",
              "M27-28     36260\n",
              "F43+       23902\n",
              "M22-       22008\n",
              "F29-32     10591\n",
              "F27-28      9779\n",
              "F24-26      5812\n",
              "F23-        4892\n",
              "Name: group, dtype: int64"
            ]
          },
          "metadata": {},
          "execution_count": 47
        }
      ]
    },
    {
      "cell_type": "markdown",
      "metadata": {
        "id": "s8vsWJ24ywKp"
      },
      "source": [
        "- There seems to be sufficient data for each of the values,\n",
        "- Will leave this column alone\n"
      ]
    },
    {
      "cell_type": "code",
      "metadata": {
        "colab": {
          "base_uri": "https://localhost:8080/"
        },
        "id": "A2bJEvJ4RTaB",
        "outputId": "12e4fda2-342e-47ef-968e-3f69eb010691"
      },
      "source": [
        "master_df[\"english_phone_brand\"].value_counts()\n"
      ],
      "execution_count": 48,
      "outputs": [
        {
          "output_type": "execute_result",
          "data": {
            "text/plain": [
              "huawei     244704\n",
              "xiaomi      79717\n",
              "samsung     50559\n",
              "meizu       45842\n",
              "coolpad     18045\n",
              "oppo        16736\n",
              "lshi         8070\n",
              "lenovo       5783\n",
              "nubia        4886\n",
              "vivo         4404\n",
              "hammer       4242\n",
              "oneplus      4194\n",
              "asus         3200\n",
              "htc          3170\n",
              "aiyouni      3164\n",
              "qiku         2526\n",
              "lg           2190\n",
              "zte          1675\n",
              "Name: english_phone_brand, dtype: int64"
            ]
          },
          "metadata": {},
          "execution_count": 48
        }
      ]
    },
    {
      "cell_type": "markdown",
      "metadata": {
        "id": "iXvvm8axKNei"
      },
      "source": [
        "# Removing Unnecessary Columns "
      ]
    },
    {
      "cell_type": "code",
      "metadata": {
        "colab": {
          "base_uri": "https://localhost:8080/",
          "height": 205
        },
        "id": "Y_t1GtetRTdL",
        "outputId": "436427c0-63aa-44c9-f554-1cc480234b7b"
      },
      "source": [
        "master_df.head()\n"
      ],
      "execution_count": 49,
      "outputs": [
        {
          "output_type": "execute_result",
          "data": {
            "text/html": [
              "<div>\n",
              "<style scoped>\n",
              "    .dataframe tbody tr th:only-of-type {\n",
              "        vertical-align: middle;\n",
              "    }\n",
              "\n",
              "    .dataframe tbody tr th {\n",
              "        vertical-align: top;\n",
              "    }\n",
              "\n",
              "    .dataframe thead th {\n",
              "        text-align: right;\n",
              "    }\n",
              "</style>\n",
              "<table border=\"1\" class=\"dataframe\">\n",
              "  <thead>\n",
              "    <tr style=\"text-align: right;\">\n",
              "      <th></th>\n",
              "      <th>event_id</th>\n",
              "      <th>app_id</th>\n",
              "      <th>is_installed</th>\n",
              "      <th>is_active</th>\n",
              "      <th>device_id</th>\n",
              "      <th>timestamp</th>\n",
              "      <th>longitude</th>\n",
              "      <th>latitude</th>\n",
              "      <th>label_id</th>\n",
              "      <th>category</th>\n",
              "      <th>device_model</th>\n",
              "      <th>gender</th>\n",
              "      <th>age</th>\n",
              "      <th>group</th>\n",
              "      <th>english_phone_brand</th>\n",
              "    </tr>\n",
              "  </thead>\n",
              "  <tbody>\n",
              "    <tr>\n",
              "      <th>3211</th>\n",
              "      <td>198</td>\n",
              "      <td>5927333115845830913</td>\n",
              "      <td>1</td>\n",
              "      <td>0</td>\n",
              "      <td>6984152891252102027</td>\n",
              "      <td>2016-05-02 00:17:01</td>\n",
              "      <td>0.0</td>\n",
              "      <td>0.0</td>\n",
              "      <td>549</td>\n",
              "      <td>Property Industry 1.0</td>\n",
              "      <td>MI 4</td>\n",
              "      <td>M</td>\n",
              "      <td>36</td>\n",
              "      <td>M32-38</td>\n",
              "      <td>xiaomi</td>\n",
              "    </tr>\n",
              "    <tr>\n",
              "      <th>3212</th>\n",
              "      <td>198</td>\n",
              "      <td>5927333115845830913</td>\n",
              "      <td>1</td>\n",
              "      <td>0</td>\n",
              "      <td>6984152891252102027</td>\n",
              "      <td>2016-05-02 00:17:01</td>\n",
              "      <td>0.0</td>\n",
              "      <td>0.0</td>\n",
              "      <td>548</td>\n",
              "      <td>Industry tag</td>\n",
              "      <td>MI 4</td>\n",
              "      <td>M</td>\n",
              "      <td>36</td>\n",
              "      <td>M32-38</td>\n",
              "      <td>xiaomi</td>\n",
              "    </tr>\n",
              "    <tr>\n",
              "      <th>3213</th>\n",
              "      <td>59288</td>\n",
              "      <td>5927333115845830913</td>\n",
              "      <td>1</td>\n",
              "      <td>1</td>\n",
              "      <td>6984152891252102027</td>\n",
              "      <td>2016-05-04 21:19:31</td>\n",
              "      <td>0.0</td>\n",
              "      <td>0.0</td>\n",
              "      <td>549</td>\n",
              "      <td>Property Industry 1.0</td>\n",
              "      <td>MI 4</td>\n",
              "      <td>M</td>\n",
              "      <td>36</td>\n",
              "      <td>M32-38</td>\n",
              "      <td>xiaomi</td>\n",
              "    </tr>\n",
              "    <tr>\n",
              "      <th>3214</th>\n",
              "      <td>59288</td>\n",
              "      <td>5927333115845830913</td>\n",
              "      <td>1</td>\n",
              "      <td>1</td>\n",
              "      <td>6984152891252102027</td>\n",
              "      <td>2016-05-04 21:19:31</td>\n",
              "      <td>0.0</td>\n",
              "      <td>0.0</td>\n",
              "      <td>548</td>\n",
              "      <td>Industry tag</td>\n",
              "      <td>MI 4</td>\n",
              "      <td>M</td>\n",
              "      <td>36</td>\n",
              "      <td>M32-38</td>\n",
              "      <td>xiaomi</td>\n",
              "    </tr>\n",
              "    <tr>\n",
              "      <th>3215</th>\n",
              "      <td>214667</td>\n",
              "      <td>5927333115845830913</td>\n",
              "      <td>1</td>\n",
              "      <td>1</td>\n",
              "      <td>6984152891252102027</td>\n",
              "      <td>2016-05-01 01:19:10</td>\n",
              "      <td>0.0</td>\n",
              "      <td>0.0</td>\n",
              "      <td>549</td>\n",
              "      <td>Property Industry 1.0</td>\n",
              "      <td>MI 4</td>\n",
              "      <td>M</td>\n",
              "      <td>36</td>\n",
              "      <td>M32-38</td>\n",
              "      <td>xiaomi</td>\n",
              "    </tr>\n",
              "  </tbody>\n",
              "</table>\n",
              "</div>"
            ],
            "text/plain": [
              "      event_id               app_id  ...   group  english_phone_brand\n",
              "3211       198  5927333115845830913  ...  M32-38               xiaomi\n",
              "3212       198  5927333115845830913  ...  M32-38               xiaomi\n",
              "3213     59288  5927333115845830913  ...  M32-38               xiaomi\n",
              "3214     59288  5927333115845830913  ...  M32-38               xiaomi\n",
              "3215    214667  5927333115845830913  ...  M32-38               xiaomi\n",
              "\n",
              "[5 rows x 15 columns]"
            ]
          },
          "metadata": {},
          "execution_count": 49
        }
      ]
    },
    {
      "cell_type": "markdown",
      "metadata": {
        "id": "7ypuOWpHyyxP"
      },
      "source": [
        "- Since is_installed only have one unique value this column will be dropped.\n",
        "- Getting rid of category column and using label_id to identify category\n"
      ]
    },
    {
      "cell_type": "code",
      "metadata": {
        "colab": {
          "base_uri": "https://localhost:8080/",
          "height": 205
        },
        "id": "HQtn3viwT3UV",
        "outputId": "07410a7b-fb20-47db-b3b9-73ec2947dff7"
      },
      "source": [
        "master_df = master_df.drop(\n",
        "    columns=[\"is_installed\", \"timestamp\", \"latitude\", \"longitude\", \"category\"]\n",
        ")\n",
        "master_df.head()\n"
      ],
      "execution_count": 50,
      "outputs": [
        {
          "output_type": "execute_result",
          "data": {
            "text/html": [
              "<div>\n",
              "<style scoped>\n",
              "    .dataframe tbody tr th:only-of-type {\n",
              "        vertical-align: middle;\n",
              "    }\n",
              "\n",
              "    .dataframe tbody tr th {\n",
              "        vertical-align: top;\n",
              "    }\n",
              "\n",
              "    .dataframe thead th {\n",
              "        text-align: right;\n",
              "    }\n",
              "</style>\n",
              "<table border=\"1\" class=\"dataframe\">\n",
              "  <thead>\n",
              "    <tr style=\"text-align: right;\">\n",
              "      <th></th>\n",
              "      <th>event_id</th>\n",
              "      <th>app_id</th>\n",
              "      <th>is_active</th>\n",
              "      <th>device_id</th>\n",
              "      <th>label_id</th>\n",
              "      <th>device_model</th>\n",
              "      <th>gender</th>\n",
              "      <th>age</th>\n",
              "      <th>group</th>\n",
              "      <th>english_phone_brand</th>\n",
              "    </tr>\n",
              "  </thead>\n",
              "  <tbody>\n",
              "    <tr>\n",
              "      <th>3211</th>\n",
              "      <td>198</td>\n",
              "      <td>5927333115845830913</td>\n",
              "      <td>0</td>\n",
              "      <td>6984152891252102027</td>\n",
              "      <td>549</td>\n",
              "      <td>MI 4</td>\n",
              "      <td>M</td>\n",
              "      <td>36</td>\n",
              "      <td>M32-38</td>\n",
              "      <td>xiaomi</td>\n",
              "    </tr>\n",
              "    <tr>\n",
              "      <th>3212</th>\n",
              "      <td>198</td>\n",
              "      <td>5927333115845830913</td>\n",
              "      <td>0</td>\n",
              "      <td>6984152891252102027</td>\n",
              "      <td>548</td>\n",
              "      <td>MI 4</td>\n",
              "      <td>M</td>\n",
              "      <td>36</td>\n",
              "      <td>M32-38</td>\n",
              "      <td>xiaomi</td>\n",
              "    </tr>\n",
              "    <tr>\n",
              "      <th>3213</th>\n",
              "      <td>59288</td>\n",
              "      <td>5927333115845830913</td>\n",
              "      <td>1</td>\n",
              "      <td>6984152891252102027</td>\n",
              "      <td>549</td>\n",
              "      <td>MI 4</td>\n",
              "      <td>M</td>\n",
              "      <td>36</td>\n",
              "      <td>M32-38</td>\n",
              "      <td>xiaomi</td>\n",
              "    </tr>\n",
              "    <tr>\n",
              "      <th>3214</th>\n",
              "      <td>59288</td>\n",
              "      <td>5927333115845830913</td>\n",
              "      <td>1</td>\n",
              "      <td>6984152891252102027</td>\n",
              "      <td>548</td>\n",
              "      <td>MI 4</td>\n",
              "      <td>M</td>\n",
              "      <td>36</td>\n",
              "      <td>M32-38</td>\n",
              "      <td>xiaomi</td>\n",
              "    </tr>\n",
              "    <tr>\n",
              "      <th>3215</th>\n",
              "      <td>214667</td>\n",
              "      <td>5927333115845830913</td>\n",
              "      <td>1</td>\n",
              "      <td>6984152891252102027</td>\n",
              "      <td>549</td>\n",
              "      <td>MI 4</td>\n",
              "      <td>M</td>\n",
              "      <td>36</td>\n",
              "      <td>M32-38</td>\n",
              "      <td>xiaomi</td>\n",
              "    </tr>\n",
              "  </tbody>\n",
              "</table>\n",
              "</div>"
            ],
            "text/plain": [
              "      event_id               app_id  is_active  ...  age   group english_phone_brand\n",
              "3211       198  5927333115845830913          0  ...   36  M32-38              xiaomi\n",
              "3212       198  5927333115845830913          0  ...   36  M32-38              xiaomi\n",
              "3213     59288  5927333115845830913          1  ...   36  M32-38              xiaomi\n",
              "3214     59288  5927333115845830913          1  ...   36  M32-38              xiaomi\n",
              "3215    214667  5927333115845830913          1  ...   36  M32-38              xiaomi\n",
              "\n",
              "[5 rows x 10 columns]"
            ]
          },
          "metadata": {},
          "execution_count": 50
        }
      ]
    },
    {
      "cell_type": "markdown",
      "metadata": {
        "id": "_qd7Lf3Wy2kf"
      },
      "source": [
        "- Gets rid of duplicate rows and adds count as size\n",
        "\n",
        "\n"
      ]
    },
    {
      "cell_type": "code",
      "metadata": {
        "id": "kNiUmjLyT3dL",
        "colab": {
          "base_uri": "https://localhost:8080/",
          "height": 205
        },
        "outputId": "3db0101e-06b0-43f3-d518-395dc9f241de"
      },
      "source": [
        "master_df = master_df.groupby(master_df.columns.tolist(), as_index=False).size()\n",
        "master_df.head()\n"
      ],
      "execution_count": 51,
      "outputs": [
        {
          "output_type": "execute_result",
          "data": {
            "text/html": [
              "<div>\n",
              "<style scoped>\n",
              "    .dataframe tbody tr th:only-of-type {\n",
              "        vertical-align: middle;\n",
              "    }\n",
              "\n",
              "    .dataframe tbody tr th {\n",
              "        vertical-align: top;\n",
              "    }\n",
              "\n",
              "    .dataframe thead th {\n",
              "        text-align: right;\n",
              "    }\n",
              "</style>\n",
              "<table border=\"1\" class=\"dataframe\">\n",
              "  <thead>\n",
              "    <tr style=\"text-align: right;\">\n",
              "      <th></th>\n",
              "      <th>event_id</th>\n",
              "      <th>app_id</th>\n",
              "      <th>is_active</th>\n",
              "      <th>device_id</th>\n",
              "      <th>label_id</th>\n",
              "      <th>device_model</th>\n",
              "      <th>gender</th>\n",
              "      <th>age</th>\n",
              "      <th>group</th>\n",
              "      <th>english_phone_brand</th>\n",
              "      <th>size</th>\n",
              "    </tr>\n",
              "  </thead>\n",
              "  <tbody>\n",
              "    <tr>\n",
              "      <th>0</th>\n",
              "      <td>198</td>\n",
              "      <td>-8807740666788515175</td>\n",
              "      <td>0</td>\n",
              "      <td>6984152891252102027</td>\n",
              "      <td>548</td>\n",
              "      <td>MI 4</td>\n",
              "      <td>M</td>\n",
              "      <td>36</td>\n",
              "      <td>M32-38</td>\n",
              "      <td>xiaomi</td>\n",
              "      <td>1</td>\n",
              "    </tr>\n",
              "    <tr>\n",
              "      <th>1</th>\n",
              "      <td>198</td>\n",
              "      <td>-8807740666788515175</td>\n",
              "      <td>0</td>\n",
              "      <td>6984152891252102027</td>\n",
              "      <td>549</td>\n",
              "      <td>MI 4</td>\n",
              "      <td>M</td>\n",
              "      <td>36</td>\n",
              "      <td>M32-38</td>\n",
              "      <td>xiaomi</td>\n",
              "      <td>1</td>\n",
              "    </tr>\n",
              "    <tr>\n",
              "      <th>2</th>\n",
              "      <td>198</td>\n",
              "      <td>-7415261454408512527</td>\n",
              "      <td>0</td>\n",
              "      <td>6984152891252102027</td>\n",
              "      <td>254</td>\n",
              "      <td>MI 4</td>\n",
              "      <td>M</td>\n",
              "      <td>36</td>\n",
              "      <td>M32-38</td>\n",
              "      <td>xiaomi</td>\n",
              "      <td>1</td>\n",
              "    </tr>\n",
              "    <tr>\n",
              "      <th>3</th>\n",
              "      <td>198</td>\n",
              "      <td>-7415261454408512527</td>\n",
              "      <td>0</td>\n",
              "      <td>6984152891252102027</td>\n",
              "      <td>548</td>\n",
              "      <td>MI 4</td>\n",
              "      <td>M</td>\n",
              "      <td>36</td>\n",
              "      <td>M32-38</td>\n",
              "      <td>xiaomi</td>\n",
              "      <td>1</td>\n",
              "    </tr>\n",
              "    <tr>\n",
              "      <th>4</th>\n",
              "      <td>198</td>\n",
              "      <td>-7415261454408512527</td>\n",
              "      <td>0</td>\n",
              "      <td>6984152891252102027</td>\n",
              "      <td>562</td>\n",
              "      <td>MI 4</td>\n",
              "      <td>M</td>\n",
              "      <td>36</td>\n",
              "      <td>M32-38</td>\n",
              "      <td>xiaomi</td>\n",
              "      <td>1</td>\n",
              "    </tr>\n",
              "  </tbody>\n",
              "</table>\n",
              "</div>"
            ],
            "text/plain": [
              "   event_id               app_id  is_active  ...   group  english_phone_brand size\n",
              "0       198 -8807740666788515175          0  ...  M32-38               xiaomi    1\n",
              "1       198 -8807740666788515175          0  ...  M32-38               xiaomi    1\n",
              "2       198 -7415261454408512527          0  ...  M32-38               xiaomi    1\n",
              "3       198 -7415261454408512527          0  ...  M32-38               xiaomi    1\n",
              "4       198 -7415261454408512527          0  ...  M32-38               xiaomi    1\n",
              "\n",
              "[5 rows x 11 columns]"
            ]
          },
          "metadata": {},
          "execution_count": 51
        }
      ]
    },
    {
      "cell_type": "markdown",
      "metadata": {
        "id": "FE7ry_Z5y4_P"
      },
      "source": [
        "- Creating unique column for device and app ids\n"
      ]
    },
    {
      "cell_type": "code",
      "metadata": {
        "id": "MdG350itT3gs"
      },
      "source": [
        "master_df[\"download_id\"] = master_df[\"app_id\"] + master_df[\"device_id\"]\n"
      ],
      "execution_count": 52,
      "outputs": []
    },
    {
      "cell_type": "code",
      "metadata": {
        "id": "rezhpj5FT3le",
        "colab": {
          "base_uri": "https://localhost:8080/",
          "height": 205
        },
        "outputId": "7b55adb3-98b5-42a8-9426-a8b2aeec2a16"
      },
      "source": [
        "master_df.head()\n"
      ],
      "execution_count": 53,
      "outputs": [
        {
          "output_type": "execute_result",
          "data": {
            "text/html": [
              "<div>\n",
              "<style scoped>\n",
              "    .dataframe tbody tr th:only-of-type {\n",
              "        vertical-align: middle;\n",
              "    }\n",
              "\n",
              "    .dataframe tbody tr th {\n",
              "        vertical-align: top;\n",
              "    }\n",
              "\n",
              "    .dataframe thead th {\n",
              "        text-align: right;\n",
              "    }\n",
              "</style>\n",
              "<table border=\"1\" class=\"dataframe\">\n",
              "  <thead>\n",
              "    <tr style=\"text-align: right;\">\n",
              "      <th></th>\n",
              "      <th>event_id</th>\n",
              "      <th>app_id</th>\n",
              "      <th>is_active</th>\n",
              "      <th>device_id</th>\n",
              "      <th>label_id</th>\n",
              "      <th>device_model</th>\n",
              "      <th>gender</th>\n",
              "      <th>age</th>\n",
              "      <th>group</th>\n",
              "      <th>english_phone_brand</th>\n",
              "      <th>size</th>\n",
              "      <th>download_id</th>\n",
              "    </tr>\n",
              "  </thead>\n",
              "  <tbody>\n",
              "    <tr>\n",
              "      <th>0</th>\n",
              "      <td>198</td>\n",
              "      <td>-8807740666788515175</td>\n",
              "      <td>0</td>\n",
              "      <td>6984152891252102027</td>\n",
              "      <td>548</td>\n",
              "      <td>MI 4</td>\n",
              "      <td>M</td>\n",
              "      <td>36</td>\n",
              "      <td>M32-38</td>\n",
              "      <td>xiaomi</td>\n",
              "      <td>1</td>\n",
              "      <td>-1823587775536413148</td>\n",
              "    </tr>\n",
              "    <tr>\n",
              "      <th>1</th>\n",
              "      <td>198</td>\n",
              "      <td>-8807740666788515175</td>\n",
              "      <td>0</td>\n",
              "      <td>6984152891252102027</td>\n",
              "      <td>549</td>\n",
              "      <td>MI 4</td>\n",
              "      <td>M</td>\n",
              "      <td>36</td>\n",
              "      <td>M32-38</td>\n",
              "      <td>xiaomi</td>\n",
              "      <td>1</td>\n",
              "      <td>-1823587775536413148</td>\n",
              "    </tr>\n",
              "    <tr>\n",
              "      <th>2</th>\n",
              "      <td>198</td>\n",
              "      <td>-7415261454408512527</td>\n",
              "      <td>0</td>\n",
              "      <td>6984152891252102027</td>\n",
              "      <td>254</td>\n",
              "      <td>MI 4</td>\n",
              "      <td>M</td>\n",
              "      <td>36</td>\n",
              "      <td>M32-38</td>\n",
              "      <td>xiaomi</td>\n",
              "      <td>1</td>\n",
              "      <td>-431108563156410500</td>\n",
              "    </tr>\n",
              "    <tr>\n",
              "      <th>3</th>\n",
              "      <td>198</td>\n",
              "      <td>-7415261454408512527</td>\n",
              "      <td>0</td>\n",
              "      <td>6984152891252102027</td>\n",
              "      <td>548</td>\n",
              "      <td>MI 4</td>\n",
              "      <td>M</td>\n",
              "      <td>36</td>\n",
              "      <td>M32-38</td>\n",
              "      <td>xiaomi</td>\n",
              "      <td>1</td>\n",
              "      <td>-431108563156410500</td>\n",
              "    </tr>\n",
              "    <tr>\n",
              "      <th>4</th>\n",
              "      <td>198</td>\n",
              "      <td>-7415261454408512527</td>\n",
              "      <td>0</td>\n",
              "      <td>6984152891252102027</td>\n",
              "      <td>562</td>\n",
              "      <td>MI 4</td>\n",
              "      <td>M</td>\n",
              "      <td>36</td>\n",
              "      <td>M32-38</td>\n",
              "      <td>xiaomi</td>\n",
              "      <td>1</td>\n",
              "      <td>-431108563156410500</td>\n",
              "    </tr>\n",
              "  </tbody>\n",
              "</table>\n",
              "</div>"
            ],
            "text/plain": [
              "   event_id               app_id  ...  size          download_id\n",
              "0       198 -8807740666788515175  ...     1 -1823587775536413148\n",
              "1       198 -8807740666788515175  ...     1 -1823587775536413148\n",
              "2       198 -7415261454408512527  ...     1  -431108563156410500\n",
              "3       198 -7415261454408512527  ...     1  -431108563156410500\n",
              "4       198 -7415261454408512527  ...     1  -431108563156410500\n",
              "\n",
              "[5 rows x 12 columns]"
            ]
          },
          "metadata": {},
          "execution_count": 53
        }
      ]
    },
    {
      "cell_type": "markdown",
      "metadata": {
        "id": "yQI7yhGWy7C3"
      },
      "source": [
        "- Creating new dataframe grouping download ids to create list of label ids\n"
      ]
    },
    {
      "cell_type": "code",
      "metadata": {
        "id": "aZfeGlK0VgQM",
        "colab": {
          "base_uri": "https://localhost:8080/",
          "height": 205
        },
        "outputId": "40b2094b-eac4-46fc-b940-e8e57db915d1"
      },
      "source": [
        "label_ids = (\n",
        "    master_df.groupby([\"download_id\"])\n",
        "    .agg(lambda x: tuple(x))\n",
        "    .applymap(list)\n",
        "    .reset_index()[[\"label_id\", \"download_id\"]]\n",
        ")\n",
        "label_ids.head()\n"
      ],
      "execution_count": 54,
      "outputs": [
        {
          "output_type": "execute_result",
          "data": {
            "text/html": [
              "<div>\n",
              "<style scoped>\n",
              "    .dataframe tbody tr th:only-of-type {\n",
              "        vertical-align: middle;\n",
              "    }\n",
              "\n",
              "    .dataframe tbody tr th {\n",
              "        vertical-align: top;\n",
              "    }\n",
              "\n",
              "    .dataframe thead th {\n",
              "        text-align: right;\n",
              "    }\n",
              "</style>\n",
              "<table border=\"1\" class=\"dataframe\">\n",
              "  <thead>\n",
              "    <tr style=\"text-align: right;\">\n",
              "      <th></th>\n",
              "      <th>label_id</th>\n",
              "      <th>download_id</th>\n",
              "    </tr>\n",
              "  </thead>\n",
              "  <tbody>\n",
              "    <tr>\n",
              "      <th>0</th>\n",
              "      <td>[302, 303, 548, 549, 302, 303, 548, 549, 302, ...</td>\n",
              "      <td>-9221783136362726203</td>\n",
              "    </tr>\n",
              "    <tr>\n",
              "      <th>1</th>\n",
              "      <td>[548, 549, 548, 549, 548, 549, 548, 549, 548, ...</td>\n",
              "      <td>-9220737745617207094</td>\n",
              "    </tr>\n",
              "    <tr>\n",
              "      <th>2</th>\n",
              "      <td>[251, 252, 405, 548, 549]</td>\n",
              "      <td>-9219175122489247902</td>\n",
              "    </tr>\n",
              "    <tr>\n",
              "      <th>3</th>\n",
              "      <td>[548, 548, 548, 548, 548, 548, 548, 548, 548, ...</td>\n",
              "      <td>-9218860957967398438</td>\n",
              "    </tr>\n",
              "    <tr>\n",
              "      <th>4</th>\n",
              "      <td>[251, 252, 262, 405, 548, 549, 251, 252, 262, ...</td>\n",
              "      <td>-9218492630374017435</td>\n",
              "    </tr>\n",
              "  </tbody>\n",
              "</table>\n",
              "</div>"
            ],
            "text/plain": [
              "                                            label_id          download_id\n",
              "0  [302, 303, 548, 549, 302, 303, 548, 549, 302, ... -9221783136362726203\n",
              "1  [548, 549, 548, 549, 548, 549, 548, 549, 548, ... -9220737745617207094\n",
              "2                          [251, 252, 405, 548, 549] -9219175122489247902\n",
              "3  [548, 548, 548, 548, 548, 548, 548, 548, 548, ... -9218860957967398438\n",
              "4  [251, 252, 262, 405, 548, 549, 251, 252, 262, ... -9218492630374017435"
            ]
          },
          "metadata": {},
          "execution_count": 54
        }
      ]
    },
    {
      "cell_type": "code",
      "metadata": {
        "id": "P2wOEq8PVgY-",
        "colab": {
          "base_uri": "https://localhost:8080/"
        },
        "outputId": "edc8864d-e042-4045-beb0-2c8b124b99d6"
      },
      "source": [
        "len(label_ids)\n"
      ],
      "execution_count": 55,
      "outputs": [
        {
          "output_type": "execute_result",
          "data": {
            "text/plain": [
              "15123"
            ]
          },
          "metadata": {},
          "execution_count": 55
        }
      ]
    },
    {
      "cell_type": "markdown",
      "metadata": {
        "id": "E-kxnmk3y-Kv"
      },
      "source": [
        "- Adding the download_id column to original dataframe\n"
      ]
    },
    {
      "cell_type": "code",
      "metadata": {
        "id": "1DWCg46zVgb7"
      },
      "source": [
        "master_df = master_df.merge(label_ids, how=\"left\", on=\"download_id\")\n"
      ],
      "execution_count": 56,
      "outputs": []
    },
    {
      "cell_type": "code",
      "metadata": {
        "id": "qecEgQ7oVgeO",
        "colab": {
          "base_uri": "https://localhost:8080/",
          "height": 205
        },
        "outputId": "9e343bbc-6e61-4d29-9bb9-984da61d5a55"
      },
      "source": [
        "master_df.head()\n"
      ],
      "execution_count": 57,
      "outputs": [
        {
          "output_type": "execute_result",
          "data": {
            "text/html": [
              "<div>\n",
              "<style scoped>\n",
              "    .dataframe tbody tr th:only-of-type {\n",
              "        vertical-align: middle;\n",
              "    }\n",
              "\n",
              "    .dataframe tbody tr th {\n",
              "        vertical-align: top;\n",
              "    }\n",
              "\n",
              "    .dataframe thead th {\n",
              "        text-align: right;\n",
              "    }\n",
              "</style>\n",
              "<table border=\"1\" class=\"dataframe\">\n",
              "  <thead>\n",
              "    <tr style=\"text-align: right;\">\n",
              "      <th></th>\n",
              "      <th>event_id</th>\n",
              "      <th>app_id</th>\n",
              "      <th>is_active</th>\n",
              "      <th>device_id</th>\n",
              "      <th>label_id_x</th>\n",
              "      <th>device_model</th>\n",
              "      <th>gender</th>\n",
              "      <th>age</th>\n",
              "      <th>group</th>\n",
              "      <th>english_phone_brand</th>\n",
              "      <th>size</th>\n",
              "      <th>download_id</th>\n",
              "      <th>label_id_y</th>\n",
              "    </tr>\n",
              "  </thead>\n",
              "  <tbody>\n",
              "    <tr>\n",
              "      <th>0</th>\n",
              "      <td>198</td>\n",
              "      <td>-8807740666788515175</td>\n",
              "      <td>0</td>\n",
              "      <td>6984152891252102027</td>\n",
              "      <td>548</td>\n",
              "      <td>MI 4</td>\n",
              "      <td>M</td>\n",
              "      <td>36</td>\n",
              "      <td>M32-38</td>\n",
              "      <td>xiaomi</td>\n",
              "      <td>1</td>\n",
              "      <td>-1823587775536413148</td>\n",
              "      <td>[548, 549, 548, 549, 548, 549, 548, 549, 548, ...</td>\n",
              "    </tr>\n",
              "    <tr>\n",
              "      <th>1</th>\n",
              "      <td>198</td>\n",
              "      <td>-8807740666788515175</td>\n",
              "      <td>0</td>\n",
              "      <td>6984152891252102027</td>\n",
              "      <td>549</td>\n",
              "      <td>MI 4</td>\n",
              "      <td>M</td>\n",
              "      <td>36</td>\n",
              "      <td>M32-38</td>\n",
              "      <td>xiaomi</td>\n",
              "      <td>1</td>\n",
              "      <td>-1823587775536413148</td>\n",
              "      <td>[548, 549, 548, 549, 548, 549, 548, 549, 548, ...</td>\n",
              "    </tr>\n",
              "    <tr>\n",
              "      <th>2</th>\n",
              "      <td>198</td>\n",
              "      <td>-7415261454408512527</td>\n",
              "      <td>0</td>\n",
              "      <td>6984152891252102027</td>\n",
              "      <td>254</td>\n",
              "      <td>MI 4</td>\n",
              "      <td>M</td>\n",
              "      <td>36</td>\n",
              "      <td>M32-38</td>\n",
              "      <td>xiaomi</td>\n",
              "      <td>1</td>\n",
              "      <td>-431108563156410500</td>\n",
              "      <td>[254, 548, 562, 564, 254, 548, 562, 564, 254, ...</td>\n",
              "    </tr>\n",
              "    <tr>\n",
              "      <th>3</th>\n",
              "      <td>198</td>\n",
              "      <td>-7415261454408512527</td>\n",
              "      <td>0</td>\n",
              "      <td>6984152891252102027</td>\n",
              "      <td>548</td>\n",
              "      <td>MI 4</td>\n",
              "      <td>M</td>\n",
              "      <td>36</td>\n",
              "      <td>M32-38</td>\n",
              "      <td>xiaomi</td>\n",
              "      <td>1</td>\n",
              "      <td>-431108563156410500</td>\n",
              "      <td>[254, 548, 562, 564, 254, 548, 562, 564, 254, ...</td>\n",
              "    </tr>\n",
              "    <tr>\n",
              "      <th>4</th>\n",
              "      <td>198</td>\n",
              "      <td>-7415261454408512527</td>\n",
              "      <td>0</td>\n",
              "      <td>6984152891252102027</td>\n",
              "      <td>562</td>\n",
              "      <td>MI 4</td>\n",
              "      <td>M</td>\n",
              "      <td>36</td>\n",
              "      <td>M32-38</td>\n",
              "      <td>xiaomi</td>\n",
              "      <td>1</td>\n",
              "      <td>-431108563156410500</td>\n",
              "      <td>[254, 548, 562, 564, 254, 548, 562, 564, 254, ...</td>\n",
              "    </tr>\n",
              "  </tbody>\n",
              "</table>\n",
              "</div>"
            ],
            "text/plain": [
              "   event_id  ...                                         label_id_y\n",
              "0       198  ...  [548, 549, 548, 549, 548, 549, 548, 549, 548, ...\n",
              "1       198  ...  [548, 549, 548, 549, 548, 549, 548, 549, 548, ...\n",
              "2       198  ...  [254, 548, 562, 564, 254, 548, 562, 564, 254, ...\n",
              "3       198  ...  [254, 548, 562, 564, 254, 548, 562, 564, 254, ...\n",
              "4       198  ...  [254, 548, 562, 564, 254, 548, 562, 564, 254, ...\n",
              "\n",
              "[5 rows x 13 columns]"
            ]
          },
          "metadata": {},
          "execution_count": 57
        }
      ]
    },
    {
      "cell_type": "code",
      "metadata": {
        "id": "X8zI1qScWLvO",
        "colab": {
          "base_uri": "https://localhost:8080/"
        },
        "outputId": "2d603c97-a789-4ef4-b8bd-488ca02cf227"
      },
      "source": [
        "master_df.shape\n"
      ],
      "execution_count": 58,
      "outputs": [
        {
          "output_type": "execute_result",
          "data": {
            "text/plain": [
              "(502101, 13)"
            ]
          },
          "metadata": {},
          "execution_count": 58
        }
      ]
    },
    {
      "cell_type": "markdown",
      "metadata": {
        "id": "YIFpMTgUzBMf"
      },
      "source": [
        "- Dropping duplicate rows\n"
      ]
    },
    {
      "cell_type": "code",
      "metadata": {
        "id": "HfaIGMX0WNjs"
      },
      "source": [
        "master_df = master_df.drop_duplicates([\"download_id\"], keep=\"first\")\n"
      ],
      "execution_count": 59,
      "outputs": []
    },
    {
      "cell_type": "markdown",
      "metadata": {
        "id": "keBSRCxgzDgY"
      },
      "source": [
        "- Need to reduce to around 2 million rows\n"
      ]
    },
    {
      "cell_type": "code",
      "metadata": {
        "id": "lP0WnPGZWNml",
        "colab": {
          "base_uri": "https://localhost:8080/"
        },
        "outputId": "549a8837-d956-4e4b-c564-beff747408fc"
      },
      "source": [
        "master_df.shape\n"
      ],
      "execution_count": 60,
      "outputs": [
        {
          "output_type": "execute_result",
          "data": {
            "text/plain": [
              "(15123, 13)"
            ]
          },
          "metadata": {},
          "execution_count": 60
        }
      ]
    },
    {
      "cell_type": "code",
      "metadata": {
        "id": "X41_AQrjWNoq",
        "colab": {
          "base_uri": "https://localhost:8080/"
        },
        "outputId": "1d88a3c9-6dcb-4411-a0d3-e94370ff3b08"
      },
      "source": [
        "master_df.isna().mean()\n"
      ],
      "execution_count": 61,
      "outputs": [
        {
          "output_type": "execute_result",
          "data": {
            "text/plain": [
              "event_id               0.0\n",
              "app_id                 0.0\n",
              "is_active              0.0\n",
              "device_id              0.0\n",
              "label_id_x             0.0\n",
              "device_model           0.0\n",
              "gender                 0.0\n",
              "age                    0.0\n",
              "group                  0.0\n",
              "english_phone_brand    0.0\n",
              "size                   0.0\n",
              "download_id            0.0\n",
              "label_id_y             0.0\n",
              "dtype: float64"
            ]
          },
          "metadata": {},
          "execution_count": 61
        }
      ]
    },
    {
      "cell_type": "code",
      "metadata": {
        "id": "nTr9zqUwWNtj",
        "colab": {
          "base_uri": "https://localhost:8080/",
          "height": 518
        },
        "outputId": "d2cf82cf-26a2-4a2d-e30b-68669be8afaa"
      },
      "source": [
        "master_df.tail(15)\n"
      ],
      "execution_count": 62,
      "outputs": [
        {
          "output_type": "execute_result",
          "data": {
            "text/html": [
              "<div>\n",
              "<style scoped>\n",
              "    .dataframe tbody tr th:only-of-type {\n",
              "        vertical-align: middle;\n",
              "    }\n",
              "\n",
              "    .dataframe tbody tr th {\n",
              "        vertical-align: top;\n",
              "    }\n",
              "\n",
              "    .dataframe thead th {\n",
              "        text-align: right;\n",
              "    }\n",
              "</style>\n",
              "<table border=\"1\" class=\"dataframe\">\n",
              "  <thead>\n",
              "    <tr style=\"text-align: right;\">\n",
              "      <th></th>\n",
              "      <th>event_id</th>\n",
              "      <th>app_id</th>\n",
              "      <th>is_active</th>\n",
              "      <th>device_id</th>\n",
              "      <th>label_id_x</th>\n",
              "      <th>device_model</th>\n",
              "      <th>gender</th>\n",
              "      <th>age</th>\n",
              "      <th>group</th>\n",
              "      <th>english_phone_brand</th>\n",
              "      <th>size</th>\n",
              "      <th>download_id</th>\n",
              "      <th>label_id_y</th>\n",
              "    </tr>\n",
              "  </thead>\n",
              "  <tbody>\n",
              "    <tr>\n",
              "      <th>480818</th>\n",
              "      <td>1866283</td>\n",
              "      <td>-8022267440849930066</td>\n",
              "      <td>0</td>\n",
              "      <td>-1196907681639317836</td>\n",
              "      <td>251</td>\n",
              "      <td>Galaxy Note 3</td>\n",
              "      <td>M</td>\n",
              "      <td>29</td>\n",
              "      <td>M29-31</td>\n",
              "      <td>samsung</td>\n",
              "      <td>1</td>\n",
              "      <td>-9219175122489247902</td>\n",
              "      <td>[251, 252, 405, 548, 549]</td>\n",
              "    </tr>\n",
              "    <tr>\n",
              "      <th>480842</th>\n",
              "      <td>1866283</td>\n",
              "      <td>-1633887856876571208</td>\n",
              "      <td>0</td>\n",
              "      <td>-1196907681639317836</td>\n",
              "      <td>251</td>\n",
              "      <td>Galaxy Note 3</td>\n",
              "      <td>M</td>\n",
              "      <td>29</td>\n",
              "      <td>M29-31</td>\n",
              "      <td>samsung</td>\n",
              "      <td>1</td>\n",
              "      <td>-2830795538515889044</td>\n",
              "      <td>[251, 263, 302, 306, 405]</td>\n",
              "    </tr>\n",
              "    <tr>\n",
              "      <th>480865</th>\n",
              "      <td>1866283</td>\n",
              "      <td>487766649788038994</td>\n",
              "      <td>0</td>\n",
              "      <td>-1196907681639317836</td>\n",
              "      <td>405</td>\n",
              "      <td>Galaxy Note 3</td>\n",
              "      <td>M</td>\n",
              "      <td>29</td>\n",
              "      <td>M29-31</td>\n",
              "      <td>samsung</td>\n",
              "      <td>1</td>\n",
              "      <td>-709141031851278842</td>\n",
              "      <td>[405, 548, 549]</td>\n",
              "    </tr>\n",
              "    <tr>\n",
              "      <th>484801</th>\n",
              "      <td>1878102</td>\n",
              "      <td>-7685129465082408908</td>\n",
              "      <td>1</td>\n",
              "      <td>-1548669842713562951</td>\n",
              "      <td>548</td>\n",
              "      <td>P8 Lite</td>\n",
              "      <td>F</td>\n",
              "      <td>53</td>\n",
              "      <td>F43+</td>\n",
              "      <td>huawei</td>\n",
              "      <td>1</td>\n",
              "      <td>9212944765913579757</td>\n",
              "      <td>[548, 549]</td>\n",
              "    </tr>\n",
              "    <tr>\n",
              "      <th>484870</th>\n",
              "      <td>1878102</td>\n",
              "      <td>2784255869128134945</td>\n",
              "      <td>0</td>\n",
              "      <td>-1548669842713562951</td>\n",
              "      <td>548</td>\n",
              "      <td>P8 Lite</td>\n",
              "      <td>F</td>\n",
              "      <td>53</td>\n",
              "      <td>F43+</td>\n",
              "      <td>huawei</td>\n",
              "      <td>1</td>\n",
              "      <td>1235586026414571994</td>\n",
              "      <td>[548, 549]</td>\n",
              "    </tr>\n",
              "    <tr>\n",
              "      <th>484899</th>\n",
              "      <td>1878102</td>\n",
              "      <td>5070413844955847732</td>\n",
              "      <td>0</td>\n",
              "      <td>-1548669842713562951</td>\n",
              "      <td>405</td>\n",
              "      <td>P8 Lite</td>\n",
              "      <td>F</td>\n",
              "      <td>53</td>\n",
              "      <td>F43+</td>\n",
              "      <td>huawei</td>\n",
              "      <td>1</td>\n",
              "      <td>3521744002242284781</td>\n",
              "      <td>[405, 548, 549]</td>\n",
              "    </tr>\n",
              "    <tr>\n",
              "      <th>484923</th>\n",
              "      <td>1878102</td>\n",
              "      <td>7167114343576723123</td>\n",
              "      <td>0</td>\n",
              "      <td>-1548669842713562951</td>\n",
              "      <td>251</td>\n",
              "      <td>P8 Lite</td>\n",
              "      <td>F</td>\n",
              "      <td>53</td>\n",
              "      <td>F43+</td>\n",
              "      <td>huawei</td>\n",
              "      <td>1</td>\n",
              "      <td>5618444500863160172</td>\n",
              "      <td>[251, 263, 405, 548, 549]</td>\n",
              "    </tr>\n",
              "    <tr>\n",
              "      <th>491038</th>\n",
              "      <td>1901035</td>\n",
              "      <td>-3537151735276037866</td>\n",
              "      <td>0</td>\n",
              "      <td>-6926347091752945591</td>\n",
              "      <td>251</td>\n",
              "      <td>红米note</td>\n",
              "      <td>M</td>\n",
              "      <td>28</td>\n",
              "      <td>M27-28</td>\n",
              "      <td>xiaomi</td>\n",
              "      <td>1</td>\n",
              "      <td>7983245246680568159</td>\n",
              "      <td>[251, 263, 302, 303, 405, 548, 549]</td>\n",
              "    </tr>\n",
              "    <tr>\n",
              "      <th>491045</th>\n",
              "      <td>1901035</td>\n",
              "      <td>-1633933922436094199</td>\n",
              "      <td>0</td>\n",
              "      <td>-6926347091752945591</td>\n",
              "      <td>548</td>\n",
              "      <td>红米note</td>\n",
              "      <td>M</td>\n",
              "      <td>28</td>\n",
              "      <td>M27-28</td>\n",
              "      <td>xiaomi</td>\n",
              "      <td>1</td>\n",
              "      <td>-8560281014189039790</td>\n",
              "      <td>[548, 549]</td>\n",
              "    </tr>\n",
              "    <tr>\n",
              "      <th>496946</th>\n",
              "      <td>1924878</td>\n",
              "      <td>-3537151735276037866</td>\n",
              "      <td>0</td>\n",
              "      <td>-3818654833559084603</td>\n",
              "      <td>251</td>\n",
              "      <td>note顶配版</td>\n",
              "      <td>M</td>\n",
              "      <td>26</td>\n",
              "      <td>M23-26</td>\n",
              "      <td>xiaomi</td>\n",
              "      <td>1</td>\n",
              "      <td>-7355806568835122469</td>\n",
              "      <td>[251, 263, 302, 303, 405, 548, 549]</td>\n",
              "    </tr>\n",
              "    <tr>\n",
              "      <th>496962</th>\n",
              "      <td>1924878</td>\n",
              "      <td>-1795740157468032841</td>\n",
              "      <td>0</td>\n",
              "      <td>-3818654833559084603</td>\n",
              "      <td>302</td>\n",
              "      <td>note顶配版</td>\n",
              "      <td>M</td>\n",
              "      <td>26</td>\n",
              "      <td>M23-26</td>\n",
              "      <td>xiaomi</td>\n",
              "      <td>1</td>\n",
              "      <td>-5614394991027117444</td>\n",
              "      <td>[302, 306, 548]</td>\n",
              "    </tr>\n",
              "    <tr>\n",
              "      <th>496971</th>\n",
              "      <td>1924878</td>\n",
              "      <td>-653184324994839917</td>\n",
              "      <td>0</td>\n",
              "      <td>-3818654833559084603</td>\n",
              "      <td>548</td>\n",
              "      <td>note顶配版</td>\n",
              "      <td>M</td>\n",
              "      <td>26</td>\n",
              "      <td>M23-26</td>\n",
              "      <td>xiaomi</td>\n",
              "      <td>1</td>\n",
              "      <td>-4471839158553924520</td>\n",
              "      <td>[548, 551, 558, 564, 566]</td>\n",
              "    </tr>\n",
              "    <tr>\n",
              "      <th>496999</th>\n",
              "      <td>1924878</td>\n",
              "      <td>3879845647105392250</td>\n",
              "      <td>0</td>\n",
              "      <td>-3818654833559084603</td>\n",
              "      <td>548</td>\n",
              "      <td>note顶配版</td>\n",
              "      <td>M</td>\n",
              "      <td>26</td>\n",
              "      <td>M23-26</td>\n",
              "      <td>xiaomi</td>\n",
              "      <td>1</td>\n",
              "      <td>61190813546307647</td>\n",
              "      <td>[548, 549]</td>\n",
              "    </tr>\n",
              "    <tr>\n",
              "      <th>497032</th>\n",
              "      <td>1924878</td>\n",
              "      <td>7370144952606940864</td>\n",
              "      <td>0</td>\n",
              "      <td>-3818654833559084603</td>\n",
              "      <td>251</td>\n",
              "      <td>note顶配版</td>\n",
              "      <td>M</td>\n",
              "      <td>26</td>\n",
              "      <td>M23-26</td>\n",
              "      <td>xiaomi</td>\n",
              "      <td>1</td>\n",
              "      <td>3551490119047856261</td>\n",
              "      <td>[251, 252, 253, 254, 262]</td>\n",
              "    </tr>\n",
              "    <tr>\n",
              "      <th>498991</th>\n",
              "      <td>1935168</td>\n",
              "      <td>5927333115845830913</td>\n",
              "      <td>1</td>\n",
              "      <td>6201851326375590778</td>\n",
              "      <td>548</td>\n",
              "      <td>荣耀6 Plus</td>\n",
              "      <td>F</td>\n",
              "      <td>67</td>\n",
              "      <td>F43+</td>\n",
              "      <td>huawei</td>\n",
              "      <td>1</td>\n",
              "      <td>-6317559631488129925</td>\n",
              "      <td>[548, 549]</td>\n",
              "    </tr>\n",
              "  </tbody>\n",
              "</table>\n",
              "</div>"
            ],
            "text/plain": [
              "        event_id  ...                           label_id_y\n",
              "480818   1866283  ...            [251, 252, 405, 548, 549]\n",
              "480842   1866283  ...            [251, 263, 302, 306, 405]\n",
              "480865   1866283  ...                      [405, 548, 549]\n",
              "484801   1878102  ...                           [548, 549]\n",
              "484870   1878102  ...                           [548, 549]\n",
              "484899   1878102  ...                      [405, 548, 549]\n",
              "484923   1878102  ...            [251, 263, 405, 548, 549]\n",
              "491038   1901035  ...  [251, 263, 302, 303, 405, 548, 549]\n",
              "491045   1901035  ...                           [548, 549]\n",
              "496946   1924878  ...  [251, 263, 302, 303, 405, 548, 549]\n",
              "496962   1924878  ...                      [302, 306, 548]\n",
              "496971   1924878  ...            [548, 551, 558, 564, 566]\n",
              "496999   1924878  ...                           [548, 549]\n",
              "497032   1924878  ...            [251, 252, 253, 254, 262]\n",
              "498991   1935168  ...                           [548, 549]\n",
              "\n",
              "[15 rows x 13 columns]"
            ]
          },
          "metadata": {},
          "execution_count": 62
        }
      ]
    },
    {
      "cell_type": "markdown",
      "metadata": {
        "id": "SEV_hADozHQr"
      },
      "source": [
        "- Only used the download_id column to create multiple labels in one column, so no longer need that column\n",
        "- Also do not need the label_id_x column since label_id_y contains all the labels\n"
      ]
    },
    {
      "cell_type": "code",
      "metadata": {
        "id": "kLPvysm5WlxE",
        "colab": {
          "base_uri": "https://localhost:8080/",
          "height": 205
        },
        "outputId": "c6872575-c074-4500-972a-50fedd810082"
      },
      "source": [
        " master_df = master_df.drop(columns=[\"label_id_x\", \"download_id\"])\n",
        "master_df.tail()\n"
      ],
      "execution_count": 63,
      "outputs": [
        {
          "output_type": "execute_result",
          "data": {
            "text/html": [
              "<div>\n",
              "<style scoped>\n",
              "    .dataframe tbody tr th:only-of-type {\n",
              "        vertical-align: middle;\n",
              "    }\n",
              "\n",
              "    .dataframe tbody tr th {\n",
              "        vertical-align: top;\n",
              "    }\n",
              "\n",
              "    .dataframe thead th {\n",
              "        text-align: right;\n",
              "    }\n",
              "</style>\n",
              "<table border=\"1\" class=\"dataframe\">\n",
              "  <thead>\n",
              "    <tr style=\"text-align: right;\">\n",
              "      <th></th>\n",
              "      <th>event_id</th>\n",
              "      <th>app_id</th>\n",
              "      <th>is_active</th>\n",
              "      <th>device_id</th>\n",
              "      <th>device_model</th>\n",
              "      <th>gender</th>\n",
              "      <th>age</th>\n",
              "      <th>group</th>\n",
              "      <th>english_phone_brand</th>\n",
              "      <th>size</th>\n",
              "      <th>label_id_y</th>\n",
              "    </tr>\n",
              "  </thead>\n",
              "  <tbody>\n",
              "    <tr>\n",
              "      <th>496962</th>\n",
              "      <td>1924878</td>\n",
              "      <td>-1795740157468032841</td>\n",
              "      <td>0</td>\n",
              "      <td>-3818654833559084603</td>\n",
              "      <td>note顶配版</td>\n",
              "      <td>M</td>\n",
              "      <td>26</td>\n",
              "      <td>M23-26</td>\n",
              "      <td>xiaomi</td>\n",
              "      <td>1</td>\n",
              "      <td>[302, 306, 548]</td>\n",
              "    </tr>\n",
              "    <tr>\n",
              "      <th>496971</th>\n",
              "      <td>1924878</td>\n",
              "      <td>-653184324994839917</td>\n",
              "      <td>0</td>\n",
              "      <td>-3818654833559084603</td>\n",
              "      <td>note顶配版</td>\n",
              "      <td>M</td>\n",
              "      <td>26</td>\n",
              "      <td>M23-26</td>\n",
              "      <td>xiaomi</td>\n",
              "      <td>1</td>\n",
              "      <td>[548, 551, 558, 564, 566]</td>\n",
              "    </tr>\n",
              "    <tr>\n",
              "      <th>496999</th>\n",
              "      <td>1924878</td>\n",
              "      <td>3879845647105392250</td>\n",
              "      <td>0</td>\n",
              "      <td>-3818654833559084603</td>\n",
              "      <td>note顶配版</td>\n",
              "      <td>M</td>\n",
              "      <td>26</td>\n",
              "      <td>M23-26</td>\n",
              "      <td>xiaomi</td>\n",
              "      <td>1</td>\n",
              "      <td>[548, 549]</td>\n",
              "    </tr>\n",
              "    <tr>\n",
              "      <th>497032</th>\n",
              "      <td>1924878</td>\n",
              "      <td>7370144952606940864</td>\n",
              "      <td>0</td>\n",
              "      <td>-3818654833559084603</td>\n",
              "      <td>note顶配版</td>\n",
              "      <td>M</td>\n",
              "      <td>26</td>\n",
              "      <td>M23-26</td>\n",
              "      <td>xiaomi</td>\n",
              "      <td>1</td>\n",
              "      <td>[251, 252, 253, 254, 262]</td>\n",
              "    </tr>\n",
              "    <tr>\n",
              "      <th>498991</th>\n",
              "      <td>1935168</td>\n",
              "      <td>5927333115845830913</td>\n",
              "      <td>1</td>\n",
              "      <td>6201851326375590778</td>\n",
              "      <td>荣耀6 Plus</td>\n",
              "      <td>F</td>\n",
              "      <td>67</td>\n",
              "      <td>F43+</td>\n",
              "      <td>huawei</td>\n",
              "      <td>1</td>\n",
              "      <td>[548, 549]</td>\n",
              "    </tr>\n",
              "  </tbody>\n",
              "</table>\n",
              "</div>"
            ],
            "text/plain": [
              "        event_id               app_id  ...  size                 label_id_y\n",
              "496962   1924878 -1795740157468032841  ...     1            [302, 306, 548]\n",
              "496971   1924878  -653184324994839917  ...     1  [548, 551, 558, 564, 566]\n",
              "496999   1924878  3879845647105392250  ...     1                 [548, 549]\n",
              "497032   1924878  7370144952606940864  ...     1  [251, 252, 253, 254, 262]\n",
              "498991   1935168  5927333115845830913  ...     1                 [548, 549]\n",
              "\n",
              "[5 rows x 11 columns]"
            ]
          },
          "metadata": {},
          "execution_count": 63
        }
      ]
    },
    {
      "cell_type": "code",
      "metadata": {
        "id": "WWsYt8CSWw9F",
        "colab": {
          "base_uri": "https://localhost:8080/"
        },
        "outputId": "55684d11-4ca7-4c86-da31-9362dbd0040f"
      },
      "source": [
        "master_df.shape\n"
      ],
      "execution_count": 64,
      "outputs": [
        {
          "output_type": "execute_result",
          "data": {
            "text/plain": [
              "(15123, 11)"
            ]
          },
          "metadata": {},
          "execution_count": 64
        }
      ]
    },
    {
      "cell_type": "markdown",
      "metadata": {
        "id": "43iGQNWeXBQV"
      },
      "source": [
        "# Checking value counts for new data frames"
      ]
    },
    {
      "cell_type": "code",
      "metadata": {
        "id": "868OuYYoXFoH"
      },
      "source": [
        "pd.set_option(\"display.max_rows\", None)\n"
      ],
      "execution_count": 65,
      "outputs": []
    },
    {
      "cell_type": "code",
      "metadata": {
        "id": "uC2tKrjUXJr_",
        "colab": {
          "base_uri": "https://localhost:8080/"
        },
        "outputId": "f63e370f-ffcf-4133-985e-b6757dddc056"
      },
      "source": [
        "master_df[\"event_id\"].value_counts()\n"
      ],
      "execution_count": 66,
      "outputs": [
        {
          "output_type": "execute_result",
          "data": {
            "text/plain": [
              "279442     104\n",
              "58069       94\n",
              "36033       89\n",
              "101424      87\n",
              "28574       86\n",
              "156393      86\n",
              "58455       83\n",
              "15755       81\n",
              "195088      77\n",
              "49051       75\n",
              "542394      73\n",
              "166584      71\n",
              "82012       69\n",
              "515461      68\n",
              "72662       68\n",
              "361045      67\n",
              "115861      67\n",
              "34197       67\n",
              "381686      67\n",
              "127065      66\n",
              "201017      66\n",
              "736602      65\n",
              "760733      65\n",
              "330367      64\n",
              "419454      64\n",
              "2477        63\n",
              "10333       63\n",
              "5371        63\n",
              "40338       63\n",
              "466506      62\n",
              "77677       62\n",
              "1011672     62\n",
              "178635      61\n",
              "367525      61\n",
              "80925       61\n",
              "66606       60\n",
              "120844      60\n",
              "489352      60\n",
              "38995       59\n",
              "925         59\n",
              "33967       59\n",
              "596570      58\n",
              "6039        58\n",
              "2645        58\n",
              "405967      58\n",
              "74189       58\n",
              "8429        58\n",
              "160443      58\n",
              "15991       58\n",
              "250583      58\n",
              "3052        58\n",
              "446062      58\n",
              "172831      58\n",
              "343805      57\n",
              "8483        57\n",
              "122593      57\n",
              "64806       57\n",
              "23529       57\n",
              "315879      57\n",
              "580964      57\n",
              "176892      56\n",
              "131701      56\n",
              "264064      56\n",
              "66329       56\n",
              "214565      55\n",
              "1220980     55\n",
              "246303      55\n",
              "9494        55\n",
              "302274      55\n",
              "1334988     55\n",
              "156358      55\n",
              "230966      54\n",
              "160206      54\n",
              "70818       54\n",
              "4837        53\n",
              "195492      53\n",
              "62333       53\n",
              "293941      53\n",
              "168463      53\n",
              "1689767     53\n",
              "169166      53\n",
              "71624       53\n",
              "41529       52\n",
              "34376       52\n",
              "220810      52\n",
              "51302       52\n",
              "503097      52\n",
              "533442      52\n",
              "1176712     52\n",
              "702357      52\n",
              "23533       52\n",
              "254358      51\n",
              "338040      51\n",
              "7808        51\n",
              "279730      51\n",
              "352199      51\n",
              "597845      51\n",
              "731217      51\n",
              "3426        51\n",
              "98836       50\n",
              "632222      50\n",
              "32437       50\n",
              "29867       50\n",
              "194944      50\n",
              "861374      50\n",
              "267540      50\n",
              "35429       50\n",
              "248546      50\n",
              "30858       49\n",
              "771567      49\n",
              "592         49\n",
              "43477       49\n",
              "245830      49\n",
              "30960       49\n",
              "72481       49\n",
              "11967       49\n",
              "915         49\n",
              "4304        49\n",
              "341534      48\n",
              "125737      48\n",
              "592546      48\n",
              "236279      48\n",
              "248288      48\n",
              "29169       48\n",
              "112754      48\n",
              "2150        48\n",
              "12363       48\n",
              "48549       48\n",
              "271884      47\n",
              "52041       47\n",
              "124134      47\n",
              "1046649     47\n",
              "167974      47\n",
              "297192      47\n",
              "705         47\n",
              "1167        47\n",
              "36624       47\n",
              "153307      47\n",
              "33717       46\n",
              "8669        46\n",
              "91360       46\n",
              "63211       46\n",
              "40142       46\n",
              "45048       46\n",
              "76070       46\n",
              "261963      45\n",
              "82920       45\n",
              "61909       45\n",
              "30170       45\n",
              "565212      45\n",
              "1366324     45\n",
              "49439       45\n",
              "367725      45\n",
              "126059      45\n",
              "200518      45\n",
              "73833       44\n",
              "561463      44\n",
              "892649      44\n",
              "1350335     44\n",
              "78665       44\n",
              "221945      44\n",
              "70011       44\n",
              "162966      44\n",
              "241035      44\n",
              "232793      44\n",
              "43014       44\n",
              "165838      44\n",
              "29280       44\n",
              "295900      44\n",
              "166444      44\n",
              "33978       44\n",
              "160964      44\n",
              "1799        44\n",
              "99709       44\n",
              "24801       43\n",
              "7532        43\n",
              "75490       43\n",
              "6966        43\n",
              "478365      43\n",
              "785636      43\n",
              "16348       43\n",
              "49625       43\n",
              "33515       43\n",
              "219992      42\n",
              "6698        42\n",
              "76601       42\n",
              "33126       42\n",
              "101428      42\n",
              "151998      42\n",
              "146806      42\n",
              "13974       42\n",
              "973720      42\n",
              "713430      42\n",
              "271149      41\n",
              "188042      41\n",
              "592390      41\n",
              "46108       41\n",
              "213732      41\n",
              "112180      41\n",
              "132956      41\n",
              "31960       41\n",
              "101569      41\n",
              "87290       41\n",
              "23342       41\n",
              "266785      40\n",
              "213698      40\n",
              "175500      40\n",
              "129580      40\n",
              "869366      40\n",
              "193585      40\n",
              "427820      39\n",
              "69089       39\n",
              "29815       39\n",
              "149028      39\n",
              "164711      39\n",
              "10169       39\n",
              "721496      39\n",
              "240803      39\n",
              "5331        39\n",
              "40619       39\n",
              "253667      39\n",
              "1010020     39\n",
              "51404       39\n",
              "421         39\n",
              "37166       39\n",
              "656101      39\n",
              "958333      39\n",
              "186642      39\n",
              "7915        39\n",
              "14838       38\n",
              "246520      38\n",
              "73440       38\n",
              "56355       38\n",
              "916         38\n",
              "125002      38\n",
              "124423      38\n",
              "95281       38\n",
              "167313      38\n",
              "299439      38\n",
              "8279        38\n",
              "9738        38\n",
              "6720        38\n",
              "196608      37\n",
              "89040       37\n",
              "1405        37\n",
              "1798        37\n",
              "326764      37\n",
              "687908      37\n",
              "9030        37\n",
              "219823      37\n",
              "156388      37\n",
              "41368       37\n",
              "68886       37\n",
              "197124      37\n",
              "31420       37\n",
              "13941       37\n",
              "840305      37\n",
              "30092       36\n",
              "26625       36\n",
              "303128      36\n",
              "619627      36\n",
              "175383      36\n",
              "11834       36\n",
              "133444      36\n",
              "257133      36\n",
              "288696      36\n",
              "948138      36\n",
              "950363      36\n",
              "214133      36\n",
              "77867       36\n",
              "113060      35\n",
              "64235       35\n",
              "100239      35\n",
              "299681      35\n",
              "32302       35\n",
              "577433      35\n",
              "78938       35\n",
              "797895      35\n",
              "874         35\n",
              "14655       35\n",
              "119250      35\n",
              "561650      35\n",
              "125122      35\n",
              "13893       35\n",
              "131554      35\n",
              "57790       35\n",
              "10410       34\n",
              "55354       34\n",
              "400139      34\n",
              "1197736     34\n",
              "7427        34\n",
              "227519      34\n",
              "580328      34\n",
              "44630       34\n",
              "197340      34\n",
              "1298969     34\n",
              "198         33\n",
              "949987      33\n",
              "158354      33\n",
              "422056      33\n",
              "1747655     32\n",
              "223034      32\n",
              "22158       32\n",
              "96210       32\n",
              "5885        31\n",
              "622307      29\n",
              "129259      29\n",
              "1170102     23\n",
              "56618       20\n",
              "1197401     16\n",
              "1488315     10\n",
              "815631       8\n",
              "1077865      7\n",
              "108217       7\n",
              "182265       7\n",
              "109340       7\n",
              "245675       6\n",
              "817290       6\n",
              "668671       6\n",
              "922714       5\n",
              "333338       5\n",
              "150842       5\n",
              "241114       5\n",
              "1378406      5\n",
              "1924878      5\n",
              "85220        5\n",
              "44864        5\n",
              "709086       5\n",
              "975809       5\n",
              "260770       5\n",
              "416248       4\n",
              "401768       4\n",
              "1816338      4\n",
              "81886        4\n",
              "1192358      4\n",
              "60470        4\n",
              "630525       4\n",
              "234095       4\n",
              "247348       4\n",
              "726209       4\n",
              "1878102      4\n",
              "393408       4\n",
              "312610       4\n",
              "255625       4\n",
              "1866283      4\n",
              "594192       3\n",
              "238801       3\n",
              "127597       3\n",
              "211839       3\n",
              "1675758      3\n",
              "434320       3\n",
              "924633       3\n",
              "1753663      3\n",
              "160492       3\n",
              "715286       3\n",
              "163985       3\n",
              "897717       3\n",
              "284818       3\n",
              "295376       3\n",
              "59288        3\n",
              "1318746      3\n",
              "277404       3\n",
              "515928       3\n",
              "102668       3\n",
              "82010        3\n",
              "892433       2\n",
              "1172673      2\n",
              "303371       2\n",
              "402569       2\n",
              "265112       2\n",
              "865207       2\n",
              "1231944      2\n",
              "57410        2\n",
              "64017        2\n",
              "133704       2\n",
              "954733       2\n",
              "493304       2\n",
              "161310       2\n",
              "1729710      2\n",
              "348655       2\n",
              "219580       2\n",
              "956884       2\n",
              "1253875      2\n",
              "251970       2\n",
              "107045       2\n",
              "330635       2\n",
              "476495       2\n",
              "781259       2\n",
              "533909       2\n",
              "1001264      2\n",
              "1050369      2\n",
              "145407       2\n",
              "468611       2\n",
              "1424653      2\n",
              "1002328      2\n",
              "1601150      2\n",
              "903202       2\n",
              "405650       2\n",
              "1193563      2\n",
              "170439       2\n",
              "701848       2\n",
              "593858       2\n",
              "140930       2\n",
              "1901035      2\n",
              "296043       2\n",
              "780949       2\n",
              "623747       2\n",
              "1077273      2\n",
              "882507       2\n",
              "1818671      2\n",
              "769784       2\n",
              "209462       2\n",
              "1489807      2\n",
              "890151       2\n",
              "349853       2\n",
              "623911       1\n",
              "471815       1\n",
              "20148        1\n",
              "123316       1\n",
              "408286       1\n",
              "786761       1\n",
              "942418       1\n",
              "824685       1\n",
              "1504891      1\n",
              "419667       1\n",
              "1111305      1\n",
              "890479       1\n",
              "1329169      1\n",
              "186117       1\n",
              "626932       1\n",
              "96642        1\n",
              "924203       1\n",
              "1077643      1\n",
              "1302909      1\n",
              "307358       1\n",
              "1708427      1\n",
              "215201       1\n",
              "598530       1\n",
              "1517733      1\n",
              "922151       1\n",
              "1731120      1\n",
              "1714668      1\n",
              "1305922      1\n",
              "576096       1\n",
              "176759       1\n",
              "555249       1\n",
              "174579       1\n",
              "479386       1\n",
              "1052006      1\n",
              "73342        1\n",
              "976659       1\n",
              "123266       1\n",
              "209295       1\n",
              "1273482      1\n",
              "546333       1\n",
              "1742866      1\n",
              "873946       1\n",
              "439667       1\n",
              "564582       1\n",
              "1574432      1\n",
              "135954       1\n",
              "565362       1\n",
              "709426       1\n",
              "542279       1\n",
              "1304952      1\n",
              "1228279      1\n",
              "1232313      1\n",
              "38463        1\n",
              "1650077      1\n",
              "1826203      1\n",
              "77205        1\n",
              "851130       1\n",
              "292198       1\n",
              "902456       1\n",
              "416771       1\n",
              "174139       1\n",
              "271697       1\n",
              "1107540      1\n",
              "720471       1\n",
              "723665       1\n",
              "1035865      1\n",
              "245711       1\n",
              "1494953      1\n",
              "1108920      1\n",
              "298201       1\n",
              "1275433      1\n",
              "1935168      1\n",
              "411384       1\n",
              "360175       1\n",
              "240576       1\n",
              "268907       1\n",
              "887441       1\n",
              "714428       1\n",
              "141491       1\n",
              "1131589      1\n",
              "244850       1\n",
              "480727       1\n",
              "540208       1\n",
              "169578       1\n",
              "732765       1\n",
              "247363       1\n",
              "949782       1\n",
              "1540453      1\n",
              "276684       1\n",
              "1362026      1\n",
              "569850       1\n",
              "542485       1\n",
              "267644       1\n",
              "354294       1\n",
              "347487       1\n",
              "42790        1\n",
              "327783       1\n",
              "466253       1\n",
              "393367       1\n",
              "675997       1\n",
              "404795       1\n",
              "300332       1\n",
              "785211       1\n",
              "353702       1\n",
              "750450       1\n",
              "1504676      1\n",
              "192801       1\n",
              "921057       1\n",
              "857070       1\n",
              "1762694      1\n",
              "30076        1\n",
              "402790       1\n",
              "273675       1\n",
              "173120       1\n",
              "630013       1\n",
              "398566       1\n",
              "272526       1\n",
              "1470733      1\n",
              "1344361      1\n",
              "1026358      1\n",
              "372278       1\n",
              "249362       1\n",
              "1007208      1\n",
              "333281       1\n",
              "1095117      1\n",
              "251337       1\n",
              "333209       1\n",
              "206231       1\n",
              "638649       1\n",
              "1498920      1\n",
              "355486       1\n",
              "818172       1\n",
              "149347       1\n",
              "1613605      1\n",
              "544335       1\n",
              "417856       1\n",
              "260179       1\n",
              "978763       1\n",
              "452066       1\n",
              "116909       1\n",
              "1773830      1\n",
              "1160624      1\n",
              "913898       1\n",
              "334344       1\n",
              "747498       1\n",
              "1761735      1\n",
              "1675705      1\n",
              "356777       1\n",
              "404753       1\n",
              "668081       1\n",
              "631966       1\n",
              "1449802      1\n",
              "1106731      1\n",
              "231169       1\n",
              "346926       1\n",
              "677790       1\n",
              "35678        1\n",
              "20389        1\n",
              "343612       1\n",
              "139255       1\n",
              "768937       1\n",
              "279897       1\n",
              "1253457      1\n",
              "1135549      1\n",
              "664837       1\n",
              "678908       1\n",
              "1127671      1\n",
              "1440998      1\n",
              "1420083      1\n",
              "859338       1\n",
              "472263       1\n",
              "1041598      1\n",
              "1017972      1\n",
              "1511964      1\n",
              "1006698      1\n",
              "975957       1\n",
              "424146       1\n",
              "88374        1\n",
              "356172       1\n",
              "1368042      1\n",
              "1181556      1\n",
              "1601129      1\n",
              "165140       1\n",
              "1510379      1\n",
              "961881       1\n",
              "447424       1\n",
              "246690       1\n",
              "812424       1\n",
              "969815       1\n",
              "1479740      1\n",
              "1003037      1\n",
              "375541       1\n",
              "1381072      1\n",
              "296508       1\n",
              "1035933      1\n",
              "327754       1\n",
              "430776       1\n",
              "1141327      1\n",
              "90694        1\n",
              "1471496      1\n",
              "676264       1\n",
              "948645       1\n",
              "234165       1\n",
              "23316        1\n",
              "393378       1\n",
              "180370       1\n",
              "1132667      1\n",
              "1132635      1\n",
              "862230       1\n",
              "Name: event_id, dtype: int64"
            ]
          },
          "metadata": {},
          "execution_count": 66
        }
      ]
    },
    {
      "cell_type": "markdown",
      "metadata": {
        "id": "bpNDuPmYzL_A"
      },
      "source": [
        "- Only keep data that contains at least 10 counts,\n"
      ]
    },
    {
      "cell_type": "code",
      "metadata": {
        "id": "GhT6DrLPXRP3"
      },
      "source": [
        "count = master_df[\"event_id\"].value_counts()\n",
        "keep = count[count >= 10].index\n",
        "master_df = master_df[master_df[\"event_id\"].isin(keep)]\n"
      ],
      "execution_count": 67,
      "outputs": []
    },
    {
      "cell_type": "code",
      "metadata": {
        "id": "ujujjc9SXUmN",
        "colab": {
          "base_uri": "https://localhost:8080/"
        },
        "outputId": "97120f4f-8fd4-4c1f-bdb3-ee836b1c85df"
      },
      "source": [
        "master_df[\"device_model\"].value_counts()\n"
      ],
      "execution_count": 68,
      "outputs": [
        {
          "output_type": "execute_result",
          "data": {
            "text/plain": [
              "荣耀6 Plus           1246\n",
              "Mate 7             1126\n",
              "荣耀6                1070\n",
              "MI 4                811\n",
              "Galaxy Note 3       540\n",
              "小米note              523\n",
              "MX5                 432\n",
              "红米Note2             427\n",
              "小米4C                412\n",
              "Galaxy S5           349\n",
              "R7 Plus             311\n",
              "F2                  310\n",
              "note顶配版             278\n",
              "魅蓝NOTE              265\n",
              "MI 3                244\n",
              "荣耀7                 243\n",
              "荣耀畅玩4C              227\n",
              "P8 Lite             208\n",
              "红米note              200\n",
              "超级手机1               195\n",
              "红米2                 187\n",
              "大神Note3             181\n",
              "Galaxy S6           177\n",
              "红米Note3             172\n",
              "荣耀X2                163\n",
              "荣耀畅玩5X              155\n",
              "魅蓝metal             153\n",
              "ZenFone 2           151\n",
              "Galaxy Note 4       150\n",
              "MX4                 149\n",
              "超级手机1 Pro           134\n",
              "MX4 Pro             129\n",
              "青春版                 126\n",
              "超级手机1s              115\n",
              "P8max               113\n",
              "X5SL                111\n",
              "红米2A                104\n",
              "U3                  104\n",
              "坚果手机                103\n",
              "荣耀7i                102\n",
              "荣耀3C                100\n",
              "PRO5                 96\n",
              "2016版 Galaxy A7      88\n",
              "One                  86\n",
              "R7s                  82\n",
              "Mate 8               82\n",
              "Galaxy A8            82\n",
              "魅蓝Note 2             80\n",
              "红米1S                 79\n",
              "魅蓝2                  79\n",
              "荣耀畅玩4X               78\n",
              "X1 7.0               78\n",
              "R9                   78\n",
              "G718C                73\n",
              "麦芒3                  72\n",
              "X6 D                 65\n",
              "Galaxy S3 Neo+       62\n",
              "X6 Plus              58\n",
              "Mate S               57\n",
              "Z9 Max               56\n",
              "Nexus 4              53\n",
              "畅享5                  50\n",
              "Ascend G7            48\n",
              "荣耀3X                 46\n",
              "Galaxy A5            46\n",
              "My 布拉格               45\n",
              "R5                   42\n",
              "乐檬K3                 41\n",
              "VIBE Z2              41\n",
              "大神F1                 39\n",
              "Find 7               39\n",
              "MI 5                 39\n",
              "畅享5S                 39\n",
              "荣耀6 plus             39\n",
              "Z9 mini              38\n",
              "乐檬K3 Note            38\n",
              "麦芒4                  37\n",
              "T1                   37\n",
              "锋尚                   35\n",
              "R7                   34\n",
              "M8                   32\n",
              "Name: device_model, dtype: int64"
            ]
          },
          "metadata": {},
          "execution_count": 68
        }
      ]
    },
    {
      "cell_type": "markdown",
      "metadata": {
        "id": "JmpVdQz0zRUY"
      },
      "source": [
        "- Only keep data that contains at least 100 counts,\n"
      ]
    },
    {
      "cell_type": "code",
      "metadata": {
        "id": "JF-dD8wxXUpR"
      },
      "source": [
        "count = master_df[\"device_model\"].value_counts()\n",
        "keep = count[count >= 100].index\n",
        "master_df = master_df[master_df[\"device_model\"].isin(keep)]\n"
      ],
      "execution_count": 69,
      "outputs": []
    },
    {
      "cell_type": "code",
      "metadata": {
        "id": "WWMolC-9XUrY",
        "colab": {
          "base_uri": "https://localhost:8080/"
        },
        "outputId": "31531400-288c-47e1-b359-2687b5ae5a8d"
      },
      "source": [
        "master_df[\"english_phone_brand\"].value_counts()\n"
      ],
      "execution_count": 70,
      "outputs": [
        {
          "output_type": "execute_result",
          "data": {
            "text/plain": [
              "huawei     4753\n",
              "xiaomi     3358\n",
              "samsung    1216\n",
              "meizu      1128\n",
              "coolpad     491\n",
              "lshi        444\n",
              "oppo        311\n",
              "asus        151\n",
              "qiku        126\n",
              "vivo        111\n",
              "aiyouni     104\n",
              "hammer      103\n",
              "Name: english_phone_brand, dtype: int64"
            ]
          },
          "metadata": {},
          "execution_count": 70
        }
      ]
    },
    {
      "cell_type": "markdown",
      "metadata": {
        "id": "GI2qkZ59zXen"
      },
      "source": [
        "- Only keep data that contains at least 100 counts,\n"
      ]
    },
    {
      "cell_type": "code",
      "metadata": {
        "id": "N3KQkoeTXyd8"
      },
      "source": [
        "count = master_df[\"english_phone_brand\"].value_counts()\n",
        "keep = count[count >= 100].index\n",
        "master_df = master_df[master_df[\"english_phone_brand\"].isin(keep)]\n"
      ],
      "execution_count": 71,
      "outputs": []
    },
    {
      "cell_type": "code",
      "metadata": {
        "id": "dlDlummDX3Wt",
        "colab": {
          "base_uri": "https://localhost:8080/"
        },
        "outputId": "e0135406-8489-4753-d592-da0ebe0a8514"
      },
      "source": [
        "master_df[\"size\"].value_counts()\n"
      ],
      "execution_count": 72,
      "outputs": [
        {
          "output_type": "execute_result",
          "data": {
            "text/plain": [
              "1    12231\n",
              "2       65\n",
              "Name: size, dtype: int64"
            ]
          },
          "metadata": {},
          "execution_count": 72
        }
      ]
    },
    {
      "cell_type": "markdown",
      "metadata": {
        "id": "YTA738O-zZYA"
      },
      "source": [
        "- Only keep data that contains at least 100 counts,\n"
      ]
    },
    {
      "cell_type": "code",
      "metadata": {
        "id": "KNy5YoCFX3aA"
      },
      "source": [
        "count = master_df[\"size\"].value_counts()\n",
        "keep = count[count >= 100].index\n",
        "master_df = master_df[master_df[\"size\"].isin(keep)]\n"
      ],
      "execution_count": 73,
      "outputs": []
    },
    {
      "cell_type": "code",
      "metadata": {
        "id": "MQWRUD4xX3b-",
        "colab": {
          "base_uri": "https://localhost:8080/"
        },
        "outputId": "69d0876f-3723-4003-dc50-2ee0c3805e9c"
      },
      "source": [
        "master_df.shape\n"
      ],
      "execution_count": 74,
      "outputs": [
        {
          "output_type": "execute_result",
          "data": {
            "text/plain": [
              "(12231, 11)"
            ]
          },
          "metadata": {},
          "execution_count": 74
        }
      ]
    },
    {
      "cell_type": "code",
      "metadata": {
        "id": "q_PumkKXYECq",
        "colab": {
          "base_uri": "https://localhost:8080/"
        },
        "outputId": "d3a97f7a-1692-493b-af90-9aabceb111c5"
      },
      "source": [
        "master_df[\"device_id\"].value_counts()\n"
      ],
      "execution_count": 75,
      "outputs": [
        {
          "output_type": "execute_result",
          "data": {
            "text/plain": [
              " 3501470306085506711    104\n",
              " 6235671252343430682     94\n",
              " 6743854432188980361     89\n",
              " 3712119186429288439     87\n",
              "-7410679970237215532     86\n",
              "-2887114434325774500     86\n",
              "-8676244203426339853     83\n",
              "-2611733232907371667     81\n",
              "-8552278802939132943     77\n",
              "-9122745692722607839     75\n",
              " 1052872047402580097     71\n",
              " 5907292383047496113     71\n",
              " 1315525989930564136     69\n",
              " 626071240346317401      68\n",
              " 5796372344121324287     68\n",
              " 6201851326375590778     67\n",
              "-2491252495876406599     67\n",
              "-3911293973344461010     67\n",
              "-7259112553687932088     67\n",
              " 9164960547178665493     67\n",
              " 5587837929619725000     66\n",
              " 7353572136329657630     66\n",
              " 8781655188184243016     65\n",
              "-3541649923863661263     65\n",
              "-7839621909216476700     64\n",
              "-7804296101691453441     64\n",
              "-1227933520082640976     63\n",
              "-6887525481849727578     63\n",
              "-4660967967664722680     63\n",
              "-2010019061312728589     63\n",
              " 830421149800211303      62\n",
              " 873939917477332316      62\n",
              " 3101106144238649232     61\n",
              "-8896704548422631755     61\n",
              "-4551768034596689389     61\n",
              "-906684455621397904      60\n",
              " 7358678402058582528     60\n",
              " 4952730110245234835     60\n",
              " 5559338506474452564     59\n",
              " 746431036444367849      59\n",
              " 4657697113512107583     59\n",
              "-8897002098221859467     58\n",
              "-6580990884053387838     58\n",
              "-5761259307584729199     58\n",
              " 5916386736527873443     58\n",
              "-5044894706100277902     58\n",
              "-6542990369714353997     58\n",
              "-6785834194340059986     58\n",
              " 4262381068743021834     58\n",
              "-1492852560709053257     58\n",
              " 4462192131330157899     58\n",
              " 1718134838895713203     58\n",
              "-3376966615017152613     57\n",
              " 1028485364669565401     57\n",
              "-1237716434446458619     57\n",
              " 5024039076889175238     57\n",
              "-6877604122370071178     57\n",
              " 1810279573445529846     57\n",
              "-1548669842713562951     56\n",
              "-5127356298948955631     56\n",
              "-4655162081410840777     56\n",
              "-2922663263004220160     55\n",
              "-5338646207348406245     55\n",
              " 8345791724205711852     55\n",
              "-7663359058892533138     55\n",
              "-2982766727048699689     55\n",
              "-7445338073907384614     55\n",
              " 5703540261836883876     54\n",
              "-6342937272299717031     54\n",
              "-542288578902907903      54\n",
              " 3184018370936001319     53\n",
              " 9053069615758884517     53\n",
              "-3451682236502826461     53\n",
              " 6721639827938905415     53\n",
              "-2845809539101591108     53\n",
              "-446232573336781081      53\n",
              "-8062616309671626717     53\n",
              " 918793045857404845      52\n",
              "-3231048942341717560     52\n",
              "-8653748512040280849     52\n",
              "-2831902398235305114     52\n",
              "-1373869470418546394     52\n",
              " 3758067143012675964     52\n",
              "-9170266620213363189     52\n",
              " 4940470469972165699     52\n",
              " 2582724602409027850     52\n",
              " 4346408066998994770     51\n",
              " 5980815297357416305     51\n",
              "-4343277377568081738     51\n",
              " 4320833525062352930     51\n",
              " 5456363544491567330     51\n",
              "-3992437806233192141     51\n",
              " 1271622673586146475     51\n",
              " 938735566369219093      51\n",
              "-7669091876901862048     50\n",
              " 8596940001120334105     50\n",
              "-4709996886439234102     50\n",
              "-9003202516657721840     50\n",
              " 4335523533167411251     50\n",
              "-939242093024648160      50\n",
              " 1164199743691986077     50\n",
              "-5575783148440565574     49\n",
              " 6508988666158854578     49\n",
              "-6689616439140587409     49\n",
              " 2300942046233948988     49\n",
              " 5222029889670049246     49\n",
              " 1417082280418282830     49\n",
              "-6614039245200418472     49\n",
              " 1486094276859350375     49\n",
              " 1946302634062517988     49\n",
              " 3482222373021632350     49\n",
              "-1425815899486551766     48\n",
              "-6699673411903332868     48\n",
              " 1576584514736970145     48\n",
              "-3926780516486003005     48\n",
              "-1123273026470678219     48\n",
              "-4075403467887576570     48\n",
              "-7924501928202624291     48\n",
              "-5329661309236772223     47\n",
              " 6873838308926667080     47\n",
              "-4675255191330300693     47\n",
              "-6601962188528353005     47\n",
              "-1243691488305128829     47\n",
              "-7804740113324659485     47\n",
              "-1229043615960549458     47\n",
              " 5236604163767737669     47\n",
              " 5300147177802745115     47\n",
              " 3849458946444855287     47\n",
              "-1125956635991453634     46\n",
              "-8138100208350559977     46\n",
              "-4789904371226537305     46\n",
              "-5235782897752702554     46\n",
              "-6767092287843579432     46\n",
              "-2151560773181529067     45\n",
              "-1013918020565230379     45\n",
              "-4806108985875971600     45\n",
              " 6428543206524510136     45\n",
              " 7458466907666102967     45\n",
              "-1416849477504037355     45\n",
              "-3650852731987265648     44\n",
              "-3011931470468701050     44\n",
              " 136184312534080323      44\n",
              " 2773098292760920294     44\n",
              " 1499413091931003345     44\n",
              " 7563262287375824533     44\n",
              "-9008855154376909760     44\n",
              "-7146523025031567409     44\n",
              " 4355984014814353833     44\n",
              "-8924245943904643478     44\n",
              " 4238217942089411968     44\n",
              "-874421885115094876      44\n",
              " 8064625828857029612     44\n",
              " 9200003785071800248     44\n",
              " 2624731578884481922     44\n",
              " 2673592663316059053     44\n",
              " 7777769611755661577     43\n",
              " 2208873271690111636     43\n",
              " 4999326863344300791     43\n",
              "-1025301595256043113     43\n",
              "-7762153406980340481     43\n",
              "-2123535206475128837     43\n",
              " 3484879536672086429     43\n",
              "-3529314494950645522     42\n",
              " 7324312413354394792     42\n",
              "-609654747637122070      42\n",
              "-2513056169319952155     42\n",
              " 7875513327408424684     42\n",
              " 7565959697267570843     42\n",
              " 1077348820275023725     42\n",
              "-3588865410416911079     42\n",
              " 6032856622885575171     41\n",
              " 1983107438466980747     41\n",
              "-843494558030429669      41\n",
              " 7541120857409537969     41\n",
              "-3230567043058251011     41\n",
              "-7735651719455933820     41\n",
              "-8168297411668534466     41\n",
              " 5247844823556798579     41\n",
              " 5892360412601154957     40\n",
              " 660897975883029410      40\n",
              " 14146685518763335       40\n",
              "-3839598179393119976     40\n",
              " 6339746164229455458     40\n",
              "-1864968793374211495     39\n",
              " 7102818890309647918     39\n",
              "-2051490554966923335     39\n",
              "-4743322679539903094     39\n",
              "-4588457187941838564     39\n",
              " 8649283962578082729     39\n",
              " 3181881440930828392     39\n",
              "-5690337966396937750     39\n",
              "-3107504079501249668     39\n",
              " 4712721658265508052     39\n",
              " 5689486877079314881     38\n",
              "-3577644804811514105     38\n",
              " 2407726915124545999     38\n",
              " 611444382607140951      38\n",
              "-4003312670277294272     38\n",
              " 793217859169918970      38\n",
              "-855790062118903031      38\n",
              "-849581424637798872      38\n",
              "-2129645646640840942     38\n",
              "-8898506084854342426     38\n",
              "-1196907681639317836     37\n",
              "-5964641311444180171     37\n",
              " 1950009904725617418     37\n",
              " 174181722568243475      37\n",
              " 4839984114455319090     37\n",
              " 6795446150179056667     37\n",
              "-669426881946113309      37\n",
              " 4446324785922509968     37\n",
              "-42961107734561676       37\n",
              "-2910943771675370880     36\n",
              "-3845046065455222134     36\n",
              " 8386223120004027297     36\n",
              " 5494198195512694094     36\n",
              " 5573584757891544737     36\n",
              "-1105339726174466259     36\n",
              " 469648804785835549      36\n",
              " 649994868937856079      36\n",
              "-3818654833559084603     36\n",
              "-6153673241974140087     36\n",
              "-1838454260580131720     36\n",
              " 6236366296959198690     35\n",
              "-1071355579058424623     35\n",
              "-9101136702913293314     35\n",
              "-4058730093041674601     35\n",
              "-3041504961684287407     35\n",
              "-2130281998774012518     35\n",
              "-1825525468067485524     35\n",
              "-8253598202904686280     35\n",
              " 5872598991796785810     35\n",
              "-1503580149817943977     35\n",
              "-6926347091752945591     35\n",
              "-548822360812046251      35\n",
              "-1540573801328129375     35\n",
              "-4750109451401811349     35\n",
              " 3897626249562843727     34\n",
              "-5918089924769918518     34\n",
              " 5514882669824927206     34\n",
              "-6256617367794058339     34\n",
              "-1199329813390936272     34\n",
              " 7215207495115058024     34\n",
              "-5213413514323099675     34\n",
              " 8997587669536447044     33\n",
              " 6984152891252102027     33\n",
              " 6167566702868620293     33\n",
              " 7121327834459069945     32\n",
              "-8688870843246654685     32\n",
              "-1133913387809768728     31\n",
              "-3387327590617323684     29\n",
              " 1438012660481245807     29\n",
              "Name: device_id, dtype: int64"
            ]
          },
          "metadata": {},
          "execution_count": 75
        }
      ]
    },
    {
      "cell_type": "markdown",
      "metadata": {
        "id": "r9j3WUU5YPZu"
      },
      "source": [
        "After doing some data cleaning, the dataframe went from 4,486,652 rows by 15 columns to 12231 rows by 11 columns.\n",
        "\n",
        "\n",
        "\n"
      ]
    },
    {
      "cell_type": "markdown",
      "metadata": {
        "id": "yntdx6LyYZWa"
      },
      "source": [
        "# Preparing Data For Analysis\n",
        "\n",
        "### One Hot Encoding\n"
      ]
    },
    {
      "cell_type": "markdown",
      "metadata": {
        "id": "rA1SLTokzb1v"
      },
      "source": [
        "- Encoding the label_id_y column\n"
      ]
    },
    {
      "cell_type": "code",
      "metadata": {
        "id": "3PP-Qx6lYemH"
      },
      "source": [
        "mlb = MultiLabelBinarizer()\n",
        "master_df = master_df.join(\n",
        "    pd.DataFrame(\n",
        "        mlb.fit_transform(master_df.pop(\"label_id_y\")),\n",
        "        columns=mlb.classes_,\n",
        "        index=master_df.index,\n",
        "    )\n",
        ")\n"
      ],
      "execution_count": 76,
      "outputs": []
    },
    {
      "cell_type": "code",
      "metadata": {
        "id": "kkR2FJRdYe39",
        "colab": {
          "base_uri": "https://localhost:8080/",
          "height": 358
        },
        "outputId": "783aa513-4814-4b00-f961-bb88bd86f790"
      },
      "source": [
        "master_df = pd.get_dummies(\n",
        "    master_df, columns=[\"english_phone_brand\", \"device_model\"], drop_first=True\n",
        ")\n",
        "master_df.head()\n"
      ],
      "execution_count": 77,
      "outputs": [
        {
          "output_type": "execute_result",
          "data": {
            "text/html": [
              "<div>\n",
              "<style scoped>\n",
              "    .dataframe tbody tr th:only-of-type {\n",
              "        vertical-align: middle;\n",
              "    }\n",
              "\n",
              "    .dataframe tbody tr th {\n",
              "        vertical-align: top;\n",
              "    }\n",
              "\n",
              "    .dataframe thead th {\n",
              "        text-align: right;\n",
              "    }\n",
              "</style>\n",
              "<table border=\"1\" class=\"dataframe\">\n",
              "  <thead>\n",
              "    <tr style=\"text-align: right;\">\n",
              "      <th></th>\n",
              "      <th>event_id</th>\n",
              "      <th>app_id</th>\n",
              "      <th>is_active</th>\n",
              "      <th>device_id</th>\n",
              "      <th>gender</th>\n",
              "      <th>age</th>\n",
              "      <th>group</th>\n",
              "      <th>size</th>\n",
              "      <th>251</th>\n",
              "      <th>252</th>\n",
              "      <th>253</th>\n",
              "      <th>254</th>\n",
              "      <th>256</th>\n",
              "      <th>262</th>\n",
              "      <th>263</th>\n",
              "      <th>302</th>\n",
              "      <th>303</th>\n",
              "      <th>306</th>\n",
              "      <th>326</th>\n",
              "      <th>405</th>\n",
              "      <th>406</th>\n",
              "      <th>407</th>\n",
              "      <th>548</th>\n",
              "      <th>549</th>\n",
              "      <th>551</th>\n",
              "      <th>558</th>\n",
              "      <th>562</th>\n",
              "      <th>564</th>\n",
              "      <th>565</th>\n",
              "      <th>566</th>\n",
              "      <th>english_phone_brand_asus</th>\n",
              "      <th>english_phone_brand_coolpad</th>\n",
              "      <th>english_phone_brand_hammer</th>\n",
              "      <th>english_phone_brand_huawei</th>\n",
              "      <th>english_phone_brand_lshi</th>\n",
              "      <th>english_phone_brand_meizu</th>\n",
              "      <th>english_phone_brand_oppo</th>\n",
              "      <th>english_phone_brand_qiku</th>\n",
              "      <th>english_phone_brand_samsung</th>\n",
              "      <th>english_phone_brand_vivo</th>\n",
              "      <th>...</th>\n",
              "      <th>device_model_Galaxy Note 3</th>\n",
              "      <th>device_model_Galaxy Note 4</th>\n",
              "      <th>device_model_Galaxy S5</th>\n",
              "      <th>device_model_Galaxy S6</th>\n",
              "      <th>device_model_MI 3</th>\n",
              "      <th>device_model_MI 4</th>\n",
              "      <th>device_model_MX4</th>\n",
              "      <th>device_model_MX4 Pro</th>\n",
              "      <th>device_model_MX5</th>\n",
              "      <th>device_model_Mate 7</th>\n",
              "      <th>device_model_P8 Lite</th>\n",
              "      <th>device_model_P8max</th>\n",
              "      <th>device_model_R7 Plus</th>\n",
              "      <th>device_model_U3</th>\n",
              "      <th>device_model_X5SL</th>\n",
              "      <th>device_model_ZenFone 2</th>\n",
              "      <th>device_model_note顶配版</th>\n",
              "      <th>device_model_坚果手机</th>\n",
              "      <th>device_model_大神Note3</th>\n",
              "      <th>device_model_小米4C</th>\n",
              "      <th>device_model_小米note</th>\n",
              "      <th>device_model_红米2</th>\n",
              "      <th>device_model_红米2A</th>\n",
              "      <th>device_model_红米Note2</th>\n",
              "      <th>device_model_红米Note3</th>\n",
              "      <th>device_model_红米note</th>\n",
              "      <th>device_model_荣耀3C</th>\n",
              "      <th>device_model_荣耀6</th>\n",
              "      <th>device_model_荣耀6 Plus</th>\n",
              "      <th>device_model_荣耀7</th>\n",
              "      <th>device_model_荣耀7i</th>\n",
              "      <th>device_model_荣耀X2</th>\n",
              "      <th>device_model_荣耀畅玩4C</th>\n",
              "      <th>device_model_荣耀畅玩5X</th>\n",
              "      <th>device_model_超级手机1</th>\n",
              "      <th>device_model_超级手机1 Pro</th>\n",
              "      <th>device_model_超级手机1s</th>\n",
              "      <th>device_model_青春版</th>\n",
              "      <th>device_model_魅蓝NOTE</th>\n",
              "      <th>device_model_魅蓝metal</th>\n",
              "    </tr>\n",
              "  </thead>\n",
              "  <tbody>\n",
              "    <tr>\n",
              "      <th>0</th>\n",
              "      <td>198</td>\n",
              "      <td>-8807740666788515175</td>\n",
              "      <td>0</td>\n",
              "      <td>6984152891252102027</td>\n",
              "      <td>M</td>\n",
              "      <td>36</td>\n",
              "      <td>M32-38</td>\n",
              "      <td>1</td>\n",
              "      <td>0</td>\n",
              "      <td>0</td>\n",
              "      <td>0</td>\n",
              "      <td>0</td>\n",
              "      <td>0</td>\n",
              "      <td>0</td>\n",
              "      <td>0</td>\n",
              "      <td>0</td>\n",
              "      <td>0</td>\n",
              "      <td>0</td>\n",
              "      <td>0</td>\n",
              "      <td>0</td>\n",
              "      <td>0</td>\n",
              "      <td>0</td>\n",
              "      <td>1</td>\n",
              "      <td>1</td>\n",
              "      <td>0</td>\n",
              "      <td>0</td>\n",
              "      <td>0</td>\n",
              "      <td>0</td>\n",
              "      <td>0</td>\n",
              "      <td>0</td>\n",
              "      <td>0</td>\n",
              "      <td>0</td>\n",
              "      <td>0</td>\n",
              "      <td>0</td>\n",
              "      <td>0</td>\n",
              "      <td>0</td>\n",
              "      <td>0</td>\n",
              "      <td>0</td>\n",
              "      <td>0</td>\n",
              "      <td>0</td>\n",
              "      <td>...</td>\n",
              "      <td>0</td>\n",
              "      <td>0</td>\n",
              "      <td>0</td>\n",
              "      <td>0</td>\n",
              "      <td>0</td>\n",
              "      <td>1</td>\n",
              "      <td>0</td>\n",
              "      <td>0</td>\n",
              "      <td>0</td>\n",
              "      <td>0</td>\n",
              "      <td>0</td>\n",
              "      <td>0</td>\n",
              "      <td>0</td>\n",
              "      <td>0</td>\n",
              "      <td>0</td>\n",
              "      <td>0</td>\n",
              "      <td>0</td>\n",
              "      <td>0</td>\n",
              "      <td>0</td>\n",
              "      <td>0</td>\n",
              "      <td>0</td>\n",
              "      <td>0</td>\n",
              "      <td>0</td>\n",
              "      <td>0</td>\n",
              "      <td>0</td>\n",
              "      <td>0</td>\n",
              "      <td>0</td>\n",
              "      <td>0</td>\n",
              "      <td>0</td>\n",
              "      <td>0</td>\n",
              "      <td>0</td>\n",
              "      <td>0</td>\n",
              "      <td>0</td>\n",
              "      <td>0</td>\n",
              "      <td>0</td>\n",
              "      <td>0</td>\n",
              "      <td>0</td>\n",
              "      <td>0</td>\n",
              "      <td>0</td>\n",
              "      <td>0</td>\n",
              "    </tr>\n",
              "    <tr>\n",
              "      <th>2</th>\n",
              "      <td>198</td>\n",
              "      <td>-7415261454408512527</td>\n",
              "      <td>0</td>\n",
              "      <td>6984152891252102027</td>\n",
              "      <td>M</td>\n",
              "      <td>36</td>\n",
              "      <td>M32-38</td>\n",
              "      <td>1</td>\n",
              "      <td>0</td>\n",
              "      <td>0</td>\n",
              "      <td>0</td>\n",
              "      <td>1</td>\n",
              "      <td>0</td>\n",
              "      <td>0</td>\n",
              "      <td>0</td>\n",
              "      <td>0</td>\n",
              "      <td>0</td>\n",
              "      <td>0</td>\n",
              "      <td>0</td>\n",
              "      <td>0</td>\n",
              "      <td>0</td>\n",
              "      <td>0</td>\n",
              "      <td>1</td>\n",
              "      <td>0</td>\n",
              "      <td>0</td>\n",
              "      <td>0</td>\n",
              "      <td>1</td>\n",
              "      <td>1</td>\n",
              "      <td>0</td>\n",
              "      <td>0</td>\n",
              "      <td>0</td>\n",
              "      <td>0</td>\n",
              "      <td>0</td>\n",
              "      <td>0</td>\n",
              "      <td>0</td>\n",
              "      <td>0</td>\n",
              "      <td>0</td>\n",
              "      <td>0</td>\n",
              "      <td>0</td>\n",
              "      <td>0</td>\n",
              "      <td>...</td>\n",
              "      <td>0</td>\n",
              "      <td>0</td>\n",
              "      <td>0</td>\n",
              "      <td>0</td>\n",
              "      <td>0</td>\n",
              "      <td>1</td>\n",
              "      <td>0</td>\n",
              "      <td>0</td>\n",
              "      <td>0</td>\n",
              "      <td>0</td>\n",
              "      <td>0</td>\n",
              "      <td>0</td>\n",
              "      <td>0</td>\n",
              "      <td>0</td>\n",
              "      <td>0</td>\n",
              "      <td>0</td>\n",
              "      <td>0</td>\n",
              "      <td>0</td>\n",
              "      <td>0</td>\n",
              "      <td>0</td>\n",
              "      <td>0</td>\n",
              "      <td>0</td>\n",
              "      <td>0</td>\n",
              "      <td>0</td>\n",
              "      <td>0</td>\n",
              "      <td>0</td>\n",
              "      <td>0</td>\n",
              "      <td>0</td>\n",
              "      <td>0</td>\n",
              "      <td>0</td>\n",
              "      <td>0</td>\n",
              "      <td>0</td>\n",
              "      <td>0</td>\n",
              "      <td>0</td>\n",
              "      <td>0</td>\n",
              "      <td>0</td>\n",
              "      <td>0</td>\n",
              "      <td>0</td>\n",
              "      <td>0</td>\n",
              "      <td>0</td>\n",
              "    </tr>\n",
              "    <tr>\n",
              "      <th>6</th>\n",
              "      <td>198</td>\n",
              "      <td>-6538188762242952077</td>\n",
              "      <td>1</td>\n",
              "      <td>6984152891252102027</td>\n",
              "      <td>M</td>\n",
              "      <td>36</td>\n",
              "      <td>M32-38</td>\n",
              "      <td>1</td>\n",
              "      <td>1</td>\n",
              "      <td>0</td>\n",
              "      <td>0</td>\n",
              "      <td>0</td>\n",
              "      <td>0</td>\n",
              "      <td>1</td>\n",
              "      <td>0</td>\n",
              "      <td>1</td>\n",
              "      <td>1</td>\n",
              "      <td>0</td>\n",
              "      <td>0</td>\n",
              "      <td>0</td>\n",
              "      <td>0</td>\n",
              "      <td>0</td>\n",
              "      <td>0</td>\n",
              "      <td>0</td>\n",
              "      <td>0</td>\n",
              "      <td>0</td>\n",
              "      <td>0</td>\n",
              "      <td>0</td>\n",
              "      <td>0</td>\n",
              "      <td>0</td>\n",
              "      <td>0</td>\n",
              "      <td>0</td>\n",
              "      <td>0</td>\n",
              "      <td>0</td>\n",
              "      <td>0</td>\n",
              "      <td>0</td>\n",
              "      <td>0</td>\n",
              "      <td>0</td>\n",
              "      <td>0</td>\n",
              "      <td>0</td>\n",
              "      <td>...</td>\n",
              "      <td>0</td>\n",
              "      <td>0</td>\n",
              "      <td>0</td>\n",
              "      <td>0</td>\n",
              "      <td>0</td>\n",
              "      <td>1</td>\n",
              "      <td>0</td>\n",
              "      <td>0</td>\n",
              "      <td>0</td>\n",
              "      <td>0</td>\n",
              "      <td>0</td>\n",
              "      <td>0</td>\n",
              "      <td>0</td>\n",
              "      <td>0</td>\n",
              "      <td>0</td>\n",
              "      <td>0</td>\n",
              "      <td>0</td>\n",
              "      <td>0</td>\n",
              "      <td>0</td>\n",
              "      <td>0</td>\n",
              "      <td>0</td>\n",
              "      <td>0</td>\n",
              "      <td>0</td>\n",
              "      <td>0</td>\n",
              "      <td>0</td>\n",
              "      <td>0</td>\n",
              "      <td>0</td>\n",
              "      <td>0</td>\n",
              "      <td>0</td>\n",
              "      <td>0</td>\n",
              "      <td>0</td>\n",
              "      <td>0</td>\n",
              "      <td>0</td>\n",
              "      <td>0</td>\n",
              "      <td>0</td>\n",
              "      <td>0</td>\n",
              "      <td>0</td>\n",
              "      <td>0</td>\n",
              "      <td>0</td>\n",
              "      <td>0</td>\n",
              "    </tr>\n",
              "    <tr>\n",
              "      <th>10</th>\n",
              "      <td>198</td>\n",
              "      <td>-6493194103110420302</td>\n",
              "      <td>0</td>\n",
              "      <td>6984152891252102027</td>\n",
              "      <td>M</td>\n",
              "      <td>36</td>\n",
              "      <td>M32-38</td>\n",
              "      <td>1</td>\n",
              "      <td>0</td>\n",
              "      <td>0</td>\n",
              "      <td>1</td>\n",
              "      <td>0</td>\n",
              "      <td>0</td>\n",
              "      <td>0</td>\n",
              "      <td>0</td>\n",
              "      <td>0</td>\n",
              "      <td>0</td>\n",
              "      <td>0</td>\n",
              "      <td>0</td>\n",
              "      <td>1</td>\n",
              "      <td>0</td>\n",
              "      <td>0</td>\n",
              "      <td>1</td>\n",
              "      <td>1</td>\n",
              "      <td>0</td>\n",
              "      <td>0</td>\n",
              "      <td>0</td>\n",
              "      <td>1</td>\n",
              "      <td>0</td>\n",
              "      <td>0</td>\n",
              "      <td>0</td>\n",
              "      <td>0</td>\n",
              "      <td>0</td>\n",
              "      <td>0</td>\n",
              "      <td>0</td>\n",
              "      <td>0</td>\n",
              "      <td>0</td>\n",
              "      <td>0</td>\n",
              "      <td>0</td>\n",
              "      <td>0</td>\n",
              "      <td>...</td>\n",
              "      <td>0</td>\n",
              "      <td>0</td>\n",
              "      <td>0</td>\n",
              "      <td>0</td>\n",
              "      <td>0</td>\n",
              "      <td>1</td>\n",
              "      <td>0</td>\n",
              "      <td>0</td>\n",
              "      <td>0</td>\n",
              "      <td>0</td>\n",
              "      <td>0</td>\n",
              "      <td>0</td>\n",
              "      <td>0</td>\n",
              "      <td>0</td>\n",
              "      <td>0</td>\n",
              "      <td>0</td>\n",
              "      <td>0</td>\n",
              "      <td>0</td>\n",
              "      <td>0</td>\n",
              "      <td>0</td>\n",
              "      <td>0</td>\n",
              "      <td>0</td>\n",
              "      <td>0</td>\n",
              "      <td>0</td>\n",
              "      <td>0</td>\n",
              "      <td>0</td>\n",
              "      <td>0</td>\n",
              "      <td>0</td>\n",
              "      <td>0</td>\n",
              "      <td>0</td>\n",
              "      <td>0</td>\n",
              "      <td>0</td>\n",
              "      <td>0</td>\n",
              "      <td>0</td>\n",
              "      <td>0</td>\n",
              "      <td>0</td>\n",
              "      <td>0</td>\n",
              "      <td>0</td>\n",
              "      <td>0</td>\n",
              "      <td>0</td>\n",
              "    </tr>\n",
              "    <tr>\n",
              "      <th>15</th>\n",
              "      <td>198</td>\n",
              "      <td>-6349602347932703147</td>\n",
              "      <td>0</td>\n",
              "      <td>6984152891252102027</td>\n",
              "      <td>M</td>\n",
              "      <td>36</td>\n",
              "      <td>M32-38</td>\n",
              "      <td>1</td>\n",
              "      <td>0</td>\n",
              "      <td>0</td>\n",
              "      <td>0</td>\n",
              "      <td>0</td>\n",
              "      <td>0</td>\n",
              "      <td>0</td>\n",
              "      <td>0</td>\n",
              "      <td>0</td>\n",
              "      <td>0</td>\n",
              "      <td>0</td>\n",
              "      <td>0</td>\n",
              "      <td>1</td>\n",
              "      <td>0</td>\n",
              "      <td>0</td>\n",
              "      <td>1</td>\n",
              "      <td>1</td>\n",
              "      <td>0</td>\n",
              "      <td>0</td>\n",
              "      <td>0</td>\n",
              "      <td>0</td>\n",
              "      <td>0</td>\n",
              "      <td>0</td>\n",
              "      <td>0</td>\n",
              "      <td>0</td>\n",
              "      <td>0</td>\n",
              "      <td>0</td>\n",
              "      <td>0</td>\n",
              "      <td>0</td>\n",
              "      <td>0</td>\n",
              "      <td>0</td>\n",
              "      <td>0</td>\n",
              "      <td>0</td>\n",
              "      <td>...</td>\n",
              "      <td>0</td>\n",
              "      <td>0</td>\n",
              "      <td>0</td>\n",
              "      <td>0</td>\n",
              "      <td>0</td>\n",
              "      <td>1</td>\n",
              "      <td>0</td>\n",
              "      <td>0</td>\n",
              "      <td>0</td>\n",
              "      <td>0</td>\n",
              "      <td>0</td>\n",
              "      <td>0</td>\n",
              "      <td>0</td>\n",
              "      <td>0</td>\n",
              "      <td>0</td>\n",
              "      <td>0</td>\n",
              "      <td>0</td>\n",
              "      <td>0</td>\n",
              "      <td>0</td>\n",
              "      <td>0</td>\n",
              "      <td>0</td>\n",
              "      <td>0</td>\n",
              "      <td>0</td>\n",
              "      <td>0</td>\n",
              "      <td>0</td>\n",
              "      <td>0</td>\n",
              "      <td>0</td>\n",
              "      <td>0</td>\n",
              "      <td>0</td>\n",
              "      <td>0</td>\n",
              "      <td>0</td>\n",
              "      <td>0</td>\n",
              "      <td>0</td>\n",
              "      <td>0</td>\n",
              "      <td>0</td>\n",
              "      <td>0</td>\n",
              "      <td>0</td>\n",
              "      <td>0</td>\n",
              "      <td>0</td>\n",
              "      <td>0</td>\n",
              "    </tr>\n",
              "  </tbody>\n",
              "</table>\n",
              "<p>5 rows × 81 columns</p>\n",
              "</div>"
            ],
            "text/plain": [
              "    event_id               app_id  ...  device_model_魅蓝NOTE  device_model_魅蓝metal\n",
              "0        198 -8807740666788515175  ...                    0                     0\n",
              "2        198 -7415261454408512527  ...                    0                     0\n",
              "6        198 -6538188762242952077  ...                    0                     0\n",
              "10       198 -6493194103110420302  ...                    0                     0\n",
              "15       198 -6349602347932703147  ...                    0                     0\n",
              "\n",
              "[5 rows x 81 columns]"
            ]
          },
          "metadata": {},
          "execution_count": 77
        }
      ]
    },
    {
      "cell_type": "markdown",
      "metadata": {
        "id": "XSdLe7s2Y0CV"
      },
      "source": [
        "# Dropping Unnecessary Columns\n"
      ]
    },
    {
      "cell_type": "markdown",
      "metadata": {
        "id": "cClGGniTzd35"
      },
      "source": [
        "- Since I will be using group as the target variable, and group contains both age and gender, I can drop gender/age column\n",
        "- Size of Duplicate rows does not seem like it is too important mainly because there were not many duplicate rows, drop size\n"
      ]
    },
    {
      "cell_type": "code",
      "metadata": {
        "id": "RKsZxVYSYe6_",
        "colab": {
          "base_uri": "https://localhost:8080/",
          "height": 329
        },
        "outputId": "2097a5e3-6e96-4451-a798-8e60a55c853e"
      },
      "source": [
        "master_df = master_df.drop(columns=[\"gender\", \"age\", \"size\"])\n",
        "master_df.head()\n"
      ],
      "execution_count": 78,
      "outputs": [
        {
          "output_type": "execute_result",
          "data": {
            "text/html": [
              "<div>\n",
              "<style scoped>\n",
              "    .dataframe tbody tr th:only-of-type {\n",
              "        vertical-align: middle;\n",
              "    }\n",
              "\n",
              "    .dataframe tbody tr th {\n",
              "        vertical-align: top;\n",
              "    }\n",
              "\n",
              "    .dataframe thead th {\n",
              "        text-align: right;\n",
              "    }\n",
              "</style>\n",
              "<table border=\"1\" class=\"dataframe\">\n",
              "  <thead>\n",
              "    <tr style=\"text-align: right;\">\n",
              "      <th></th>\n",
              "      <th>event_id</th>\n",
              "      <th>app_id</th>\n",
              "      <th>is_active</th>\n",
              "      <th>device_id</th>\n",
              "      <th>group</th>\n",
              "      <th>251</th>\n",
              "      <th>252</th>\n",
              "      <th>253</th>\n",
              "      <th>254</th>\n",
              "      <th>256</th>\n",
              "      <th>262</th>\n",
              "      <th>263</th>\n",
              "      <th>302</th>\n",
              "      <th>303</th>\n",
              "      <th>306</th>\n",
              "      <th>326</th>\n",
              "      <th>405</th>\n",
              "      <th>406</th>\n",
              "      <th>407</th>\n",
              "      <th>548</th>\n",
              "      <th>549</th>\n",
              "      <th>551</th>\n",
              "      <th>558</th>\n",
              "      <th>562</th>\n",
              "      <th>564</th>\n",
              "      <th>565</th>\n",
              "      <th>566</th>\n",
              "      <th>english_phone_brand_asus</th>\n",
              "      <th>english_phone_brand_coolpad</th>\n",
              "      <th>english_phone_brand_hammer</th>\n",
              "      <th>english_phone_brand_huawei</th>\n",
              "      <th>english_phone_brand_lshi</th>\n",
              "      <th>english_phone_brand_meizu</th>\n",
              "      <th>english_phone_brand_oppo</th>\n",
              "      <th>english_phone_brand_qiku</th>\n",
              "      <th>english_phone_brand_samsung</th>\n",
              "      <th>english_phone_brand_vivo</th>\n",
              "      <th>english_phone_brand_xiaomi</th>\n",
              "      <th>device_model_Galaxy Note 3</th>\n",
              "      <th>device_model_Galaxy Note 4</th>\n",
              "      <th>device_model_Galaxy S5</th>\n",
              "      <th>device_model_Galaxy S6</th>\n",
              "      <th>device_model_MI 3</th>\n",
              "      <th>device_model_MI 4</th>\n",
              "      <th>device_model_MX4</th>\n",
              "      <th>device_model_MX4 Pro</th>\n",
              "      <th>device_model_MX5</th>\n",
              "      <th>device_model_Mate 7</th>\n",
              "      <th>device_model_P8 Lite</th>\n",
              "      <th>device_model_P8max</th>\n",
              "      <th>device_model_R7 Plus</th>\n",
              "      <th>device_model_U3</th>\n",
              "      <th>device_model_X5SL</th>\n",
              "      <th>device_model_ZenFone 2</th>\n",
              "      <th>device_model_note顶配版</th>\n",
              "      <th>device_model_坚果手机</th>\n",
              "      <th>device_model_大神Note3</th>\n",
              "      <th>device_model_小米4C</th>\n",
              "      <th>device_model_小米note</th>\n",
              "      <th>device_model_红米2</th>\n",
              "      <th>device_model_红米2A</th>\n",
              "      <th>device_model_红米Note2</th>\n",
              "      <th>device_model_红米Note3</th>\n",
              "      <th>device_model_红米note</th>\n",
              "      <th>device_model_荣耀3C</th>\n",
              "      <th>device_model_荣耀6</th>\n",
              "      <th>device_model_荣耀6 Plus</th>\n",
              "      <th>device_model_荣耀7</th>\n",
              "      <th>device_model_荣耀7i</th>\n",
              "      <th>device_model_荣耀X2</th>\n",
              "      <th>device_model_荣耀畅玩4C</th>\n",
              "      <th>device_model_荣耀畅玩5X</th>\n",
              "      <th>device_model_超级手机1</th>\n",
              "      <th>device_model_超级手机1 Pro</th>\n",
              "      <th>device_model_超级手机1s</th>\n",
              "      <th>device_model_青春版</th>\n",
              "      <th>device_model_魅蓝NOTE</th>\n",
              "      <th>device_model_魅蓝metal</th>\n",
              "    </tr>\n",
              "  </thead>\n",
              "  <tbody>\n",
              "    <tr>\n",
              "      <th>0</th>\n",
              "      <td>198</td>\n",
              "      <td>-8807740666788515175</td>\n",
              "      <td>0</td>\n",
              "      <td>6984152891252102027</td>\n",
              "      <td>M32-38</td>\n",
              "      <td>0</td>\n",
              "      <td>0</td>\n",
              "      <td>0</td>\n",
              "      <td>0</td>\n",
              "      <td>0</td>\n",
              "      <td>0</td>\n",
              "      <td>0</td>\n",
              "      <td>0</td>\n",
              "      <td>0</td>\n",
              "      <td>0</td>\n",
              "      <td>0</td>\n",
              "      <td>0</td>\n",
              "      <td>0</td>\n",
              "      <td>0</td>\n",
              "      <td>1</td>\n",
              "      <td>1</td>\n",
              "      <td>0</td>\n",
              "      <td>0</td>\n",
              "      <td>0</td>\n",
              "      <td>0</td>\n",
              "      <td>0</td>\n",
              "      <td>0</td>\n",
              "      <td>0</td>\n",
              "      <td>0</td>\n",
              "      <td>0</td>\n",
              "      <td>0</td>\n",
              "      <td>0</td>\n",
              "      <td>0</td>\n",
              "      <td>0</td>\n",
              "      <td>0</td>\n",
              "      <td>0</td>\n",
              "      <td>0</td>\n",
              "      <td>1</td>\n",
              "      <td>0</td>\n",
              "      <td>0</td>\n",
              "      <td>0</td>\n",
              "      <td>0</td>\n",
              "      <td>0</td>\n",
              "      <td>1</td>\n",
              "      <td>0</td>\n",
              "      <td>0</td>\n",
              "      <td>0</td>\n",
              "      <td>0</td>\n",
              "      <td>0</td>\n",
              "      <td>0</td>\n",
              "      <td>0</td>\n",
              "      <td>0</td>\n",
              "      <td>0</td>\n",
              "      <td>0</td>\n",
              "      <td>0</td>\n",
              "      <td>0</td>\n",
              "      <td>0</td>\n",
              "      <td>0</td>\n",
              "      <td>0</td>\n",
              "      <td>0</td>\n",
              "      <td>0</td>\n",
              "      <td>0</td>\n",
              "      <td>0</td>\n",
              "      <td>0</td>\n",
              "      <td>0</td>\n",
              "      <td>0</td>\n",
              "      <td>0</td>\n",
              "      <td>0</td>\n",
              "      <td>0</td>\n",
              "      <td>0</td>\n",
              "      <td>0</td>\n",
              "      <td>0</td>\n",
              "      <td>0</td>\n",
              "      <td>0</td>\n",
              "      <td>0</td>\n",
              "      <td>0</td>\n",
              "      <td>0</td>\n",
              "      <td>0</td>\n",
              "    </tr>\n",
              "    <tr>\n",
              "      <th>2</th>\n",
              "      <td>198</td>\n",
              "      <td>-7415261454408512527</td>\n",
              "      <td>0</td>\n",
              "      <td>6984152891252102027</td>\n",
              "      <td>M32-38</td>\n",
              "      <td>0</td>\n",
              "      <td>0</td>\n",
              "      <td>0</td>\n",
              "      <td>1</td>\n",
              "      <td>0</td>\n",
              "      <td>0</td>\n",
              "      <td>0</td>\n",
              "      <td>0</td>\n",
              "      <td>0</td>\n",
              "      <td>0</td>\n",
              "      <td>0</td>\n",
              "      <td>0</td>\n",
              "      <td>0</td>\n",
              "      <td>0</td>\n",
              "      <td>1</td>\n",
              "      <td>0</td>\n",
              "      <td>0</td>\n",
              "      <td>0</td>\n",
              "      <td>1</td>\n",
              "      <td>1</td>\n",
              "      <td>0</td>\n",
              "      <td>0</td>\n",
              "      <td>0</td>\n",
              "      <td>0</td>\n",
              "      <td>0</td>\n",
              "      <td>0</td>\n",
              "      <td>0</td>\n",
              "      <td>0</td>\n",
              "      <td>0</td>\n",
              "      <td>0</td>\n",
              "      <td>0</td>\n",
              "      <td>0</td>\n",
              "      <td>1</td>\n",
              "      <td>0</td>\n",
              "      <td>0</td>\n",
              "      <td>0</td>\n",
              "      <td>0</td>\n",
              "      <td>0</td>\n",
              "      <td>1</td>\n",
              "      <td>0</td>\n",
              "      <td>0</td>\n",
              "      <td>0</td>\n",
              "      <td>0</td>\n",
              "      <td>0</td>\n",
              "      <td>0</td>\n",
              "      <td>0</td>\n",
              "      <td>0</td>\n",
              "      <td>0</td>\n",
              "      <td>0</td>\n",
              "      <td>0</td>\n",
              "      <td>0</td>\n",
              "      <td>0</td>\n",
              "      <td>0</td>\n",
              "      <td>0</td>\n",
              "      <td>0</td>\n",
              "      <td>0</td>\n",
              "      <td>0</td>\n",
              "      <td>0</td>\n",
              "      <td>0</td>\n",
              "      <td>0</td>\n",
              "      <td>0</td>\n",
              "      <td>0</td>\n",
              "      <td>0</td>\n",
              "      <td>0</td>\n",
              "      <td>0</td>\n",
              "      <td>0</td>\n",
              "      <td>0</td>\n",
              "      <td>0</td>\n",
              "      <td>0</td>\n",
              "      <td>0</td>\n",
              "      <td>0</td>\n",
              "      <td>0</td>\n",
              "      <td>0</td>\n",
              "    </tr>\n",
              "    <tr>\n",
              "      <th>6</th>\n",
              "      <td>198</td>\n",
              "      <td>-6538188762242952077</td>\n",
              "      <td>1</td>\n",
              "      <td>6984152891252102027</td>\n",
              "      <td>M32-38</td>\n",
              "      <td>1</td>\n",
              "      <td>0</td>\n",
              "      <td>0</td>\n",
              "      <td>0</td>\n",
              "      <td>0</td>\n",
              "      <td>1</td>\n",
              "      <td>0</td>\n",
              "      <td>1</td>\n",
              "      <td>1</td>\n",
              "      <td>0</td>\n",
              "      <td>0</td>\n",
              "      <td>0</td>\n",
              "      <td>0</td>\n",
              "      <td>0</td>\n",
              "      <td>0</td>\n",
              "      <td>0</td>\n",
              "      <td>0</td>\n",
              "      <td>0</td>\n",
              "      <td>0</td>\n",
              "      <td>0</td>\n",
              "      <td>0</td>\n",
              "      <td>0</td>\n",
              "      <td>0</td>\n",
              "      <td>0</td>\n",
              "      <td>0</td>\n",
              "      <td>0</td>\n",
              "      <td>0</td>\n",
              "      <td>0</td>\n",
              "      <td>0</td>\n",
              "      <td>0</td>\n",
              "      <td>0</td>\n",
              "      <td>0</td>\n",
              "      <td>1</td>\n",
              "      <td>0</td>\n",
              "      <td>0</td>\n",
              "      <td>0</td>\n",
              "      <td>0</td>\n",
              "      <td>0</td>\n",
              "      <td>1</td>\n",
              "      <td>0</td>\n",
              "      <td>0</td>\n",
              "      <td>0</td>\n",
              "      <td>0</td>\n",
              "      <td>0</td>\n",
              "      <td>0</td>\n",
              "      <td>0</td>\n",
              "      <td>0</td>\n",
              "      <td>0</td>\n",
              "      <td>0</td>\n",
              "      <td>0</td>\n",
              "      <td>0</td>\n",
              "      <td>0</td>\n",
              "      <td>0</td>\n",
              "      <td>0</td>\n",
              "      <td>0</td>\n",
              "      <td>0</td>\n",
              "      <td>0</td>\n",
              "      <td>0</td>\n",
              "      <td>0</td>\n",
              "      <td>0</td>\n",
              "      <td>0</td>\n",
              "      <td>0</td>\n",
              "      <td>0</td>\n",
              "      <td>0</td>\n",
              "      <td>0</td>\n",
              "      <td>0</td>\n",
              "      <td>0</td>\n",
              "      <td>0</td>\n",
              "      <td>0</td>\n",
              "      <td>0</td>\n",
              "      <td>0</td>\n",
              "      <td>0</td>\n",
              "      <td>0</td>\n",
              "    </tr>\n",
              "    <tr>\n",
              "      <th>10</th>\n",
              "      <td>198</td>\n",
              "      <td>-6493194103110420302</td>\n",
              "      <td>0</td>\n",
              "      <td>6984152891252102027</td>\n",
              "      <td>M32-38</td>\n",
              "      <td>0</td>\n",
              "      <td>0</td>\n",
              "      <td>1</td>\n",
              "      <td>0</td>\n",
              "      <td>0</td>\n",
              "      <td>0</td>\n",
              "      <td>0</td>\n",
              "      <td>0</td>\n",
              "      <td>0</td>\n",
              "      <td>0</td>\n",
              "      <td>0</td>\n",
              "      <td>1</td>\n",
              "      <td>0</td>\n",
              "      <td>0</td>\n",
              "      <td>1</td>\n",
              "      <td>1</td>\n",
              "      <td>0</td>\n",
              "      <td>0</td>\n",
              "      <td>0</td>\n",
              "      <td>1</td>\n",
              "      <td>0</td>\n",
              "      <td>0</td>\n",
              "      <td>0</td>\n",
              "      <td>0</td>\n",
              "      <td>0</td>\n",
              "      <td>0</td>\n",
              "      <td>0</td>\n",
              "      <td>0</td>\n",
              "      <td>0</td>\n",
              "      <td>0</td>\n",
              "      <td>0</td>\n",
              "      <td>0</td>\n",
              "      <td>1</td>\n",
              "      <td>0</td>\n",
              "      <td>0</td>\n",
              "      <td>0</td>\n",
              "      <td>0</td>\n",
              "      <td>0</td>\n",
              "      <td>1</td>\n",
              "      <td>0</td>\n",
              "      <td>0</td>\n",
              "      <td>0</td>\n",
              "      <td>0</td>\n",
              "      <td>0</td>\n",
              "      <td>0</td>\n",
              "      <td>0</td>\n",
              "      <td>0</td>\n",
              "      <td>0</td>\n",
              "      <td>0</td>\n",
              "      <td>0</td>\n",
              "      <td>0</td>\n",
              "      <td>0</td>\n",
              "      <td>0</td>\n",
              "      <td>0</td>\n",
              "      <td>0</td>\n",
              "      <td>0</td>\n",
              "      <td>0</td>\n",
              "      <td>0</td>\n",
              "      <td>0</td>\n",
              "      <td>0</td>\n",
              "      <td>0</td>\n",
              "      <td>0</td>\n",
              "      <td>0</td>\n",
              "      <td>0</td>\n",
              "      <td>0</td>\n",
              "      <td>0</td>\n",
              "      <td>0</td>\n",
              "      <td>0</td>\n",
              "      <td>0</td>\n",
              "      <td>0</td>\n",
              "      <td>0</td>\n",
              "      <td>0</td>\n",
              "      <td>0</td>\n",
              "    </tr>\n",
              "    <tr>\n",
              "      <th>15</th>\n",
              "      <td>198</td>\n",
              "      <td>-6349602347932703147</td>\n",
              "      <td>0</td>\n",
              "      <td>6984152891252102027</td>\n",
              "      <td>M32-38</td>\n",
              "      <td>0</td>\n",
              "      <td>0</td>\n",
              "      <td>0</td>\n",
              "      <td>0</td>\n",
              "      <td>0</td>\n",
              "      <td>0</td>\n",
              "      <td>0</td>\n",
              "      <td>0</td>\n",
              "      <td>0</td>\n",
              "      <td>0</td>\n",
              "      <td>0</td>\n",
              "      <td>1</td>\n",
              "      <td>0</td>\n",
              "      <td>0</td>\n",
              "      <td>1</td>\n",
              "      <td>1</td>\n",
              "      <td>0</td>\n",
              "      <td>0</td>\n",
              "      <td>0</td>\n",
              "      <td>0</td>\n",
              "      <td>0</td>\n",
              "      <td>0</td>\n",
              "      <td>0</td>\n",
              "      <td>0</td>\n",
              "      <td>0</td>\n",
              "      <td>0</td>\n",
              "      <td>0</td>\n",
              "      <td>0</td>\n",
              "      <td>0</td>\n",
              "      <td>0</td>\n",
              "      <td>0</td>\n",
              "      <td>0</td>\n",
              "      <td>1</td>\n",
              "      <td>0</td>\n",
              "      <td>0</td>\n",
              "      <td>0</td>\n",
              "      <td>0</td>\n",
              "      <td>0</td>\n",
              "      <td>1</td>\n",
              "      <td>0</td>\n",
              "      <td>0</td>\n",
              "      <td>0</td>\n",
              "      <td>0</td>\n",
              "      <td>0</td>\n",
              "      <td>0</td>\n",
              "      <td>0</td>\n",
              "      <td>0</td>\n",
              "      <td>0</td>\n",
              "      <td>0</td>\n",
              "      <td>0</td>\n",
              "      <td>0</td>\n",
              "      <td>0</td>\n",
              "      <td>0</td>\n",
              "      <td>0</td>\n",
              "      <td>0</td>\n",
              "      <td>0</td>\n",
              "      <td>0</td>\n",
              "      <td>0</td>\n",
              "      <td>0</td>\n",
              "      <td>0</td>\n",
              "      <td>0</td>\n",
              "      <td>0</td>\n",
              "      <td>0</td>\n",
              "      <td>0</td>\n",
              "      <td>0</td>\n",
              "      <td>0</td>\n",
              "      <td>0</td>\n",
              "      <td>0</td>\n",
              "      <td>0</td>\n",
              "      <td>0</td>\n",
              "      <td>0</td>\n",
              "      <td>0</td>\n",
              "      <td>0</td>\n",
              "    </tr>\n",
              "  </tbody>\n",
              "</table>\n",
              "</div>"
            ],
            "text/plain": [
              "    event_id               app_id  ...  device_model_魅蓝NOTE  device_model_魅蓝metal\n",
              "0        198 -8807740666788515175  ...                    0                     0\n",
              "2        198 -7415261454408512527  ...                    0                     0\n",
              "6        198 -6538188762242952077  ...                    0                     0\n",
              "10       198 -6493194103110420302  ...                    0                     0\n",
              "15       198 -6349602347932703147  ...                    0                     0\n",
              "\n",
              "[5 rows x 78 columns]"
            ]
          },
          "metadata": {},
          "execution_count": 78
        }
      ]
    },
    {
      "cell_type": "code",
      "metadata": {
        "id": "RR3ze45aZD22",
        "colab": {
          "base_uri": "https://localhost:8080/"
        },
        "outputId": "07bfdc47-f391-415d-a228-5bf979dbae05"
      },
      "source": [
        "master_df.shape\n"
      ],
      "execution_count": 79,
      "outputs": [
        {
          "output_type": "execute_result",
          "data": {
            "text/plain": [
              "(12231, 78)"
            ]
          },
          "metadata": {},
          "execution_count": 79
        }
      ]
    },
    {
      "cell_type": "markdown",
      "metadata": {
        "id": "vS0fVKbPzg31"
      },
      "source": [
        "- Converting object data to numeric data in group column\n"
      ]
    },
    {
      "cell_type": "code",
      "metadata": {
        "id": "9eP3bSXCZD6J",
        "colab": {
          "base_uri": "https://localhost:8080/",
          "height": 243
        },
        "outputId": "1b505a10-caee-44d7-a1c7-7dbd842240fe"
      },
      "source": [
        "to_num = {\n",
        "    \"M22-\": 0,\n",
        "    \"M23-26\": 1,\n",
        "    \"M27-28\": 2,\n",
        "    \"M29-31\": 3,\n",
        "    \"M32-38\": 4,\n",
        "    \"M39+\": 5,\n",
        "    \"F23-\": 6,\n",
        "    \"F24-26\": 7,\n",
        "    \"F27-28\": 8,\n",
        "    \"F29-32\": 9,\n",
        "    \"F33-42\": 10,\n",
        "    \"F43+\": 11,\n",
        "}\n",
        "\n",
        "# Created new column for numeric group, can now drop old group column\n",
        "master_df[\"num_group\"] = master_df[\"group\"].map(to_num)\n",
        "master_df = master_df.drop(columns=[\"group\"])\n",
        "master_df.head()\n"
      ],
      "execution_count": 80,
      "outputs": [
        {
          "output_type": "execute_result",
          "data": {
            "text/html": [
              "<div>\n",
              "<style scoped>\n",
              "    .dataframe tbody tr th:only-of-type {\n",
              "        vertical-align: middle;\n",
              "    }\n",
              "\n",
              "    .dataframe tbody tr th {\n",
              "        vertical-align: top;\n",
              "    }\n",
              "\n",
              "    .dataframe thead th {\n",
              "        text-align: right;\n",
              "    }\n",
              "</style>\n",
              "<table border=\"1\" class=\"dataframe\">\n",
              "  <thead>\n",
              "    <tr style=\"text-align: right;\">\n",
              "      <th></th>\n",
              "      <th>event_id</th>\n",
              "      <th>app_id</th>\n",
              "      <th>is_active</th>\n",
              "      <th>device_id</th>\n",
              "      <th>251</th>\n",
              "      <th>252</th>\n",
              "      <th>253</th>\n",
              "      <th>254</th>\n",
              "      <th>256</th>\n",
              "      <th>262</th>\n",
              "      <th>263</th>\n",
              "      <th>302</th>\n",
              "      <th>303</th>\n",
              "      <th>306</th>\n",
              "      <th>326</th>\n",
              "      <th>405</th>\n",
              "      <th>406</th>\n",
              "      <th>407</th>\n",
              "      <th>548</th>\n",
              "      <th>549</th>\n",
              "      <th>551</th>\n",
              "      <th>558</th>\n",
              "      <th>562</th>\n",
              "      <th>564</th>\n",
              "      <th>565</th>\n",
              "      <th>566</th>\n",
              "      <th>english_phone_brand_asus</th>\n",
              "      <th>english_phone_brand_coolpad</th>\n",
              "      <th>english_phone_brand_hammer</th>\n",
              "      <th>english_phone_brand_huawei</th>\n",
              "      <th>english_phone_brand_lshi</th>\n",
              "      <th>english_phone_brand_meizu</th>\n",
              "      <th>english_phone_brand_oppo</th>\n",
              "      <th>english_phone_brand_qiku</th>\n",
              "      <th>english_phone_brand_samsung</th>\n",
              "      <th>english_phone_brand_vivo</th>\n",
              "      <th>english_phone_brand_xiaomi</th>\n",
              "      <th>device_model_Galaxy Note 3</th>\n",
              "      <th>device_model_Galaxy Note 4</th>\n",
              "      <th>device_model_Galaxy S5</th>\n",
              "      <th>device_model_Galaxy S6</th>\n",
              "      <th>device_model_MI 3</th>\n",
              "      <th>device_model_MI 4</th>\n",
              "      <th>device_model_MX4</th>\n",
              "      <th>device_model_MX4 Pro</th>\n",
              "      <th>device_model_MX5</th>\n",
              "      <th>device_model_Mate 7</th>\n",
              "      <th>device_model_P8 Lite</th>\n",
              "      <th>device_model_P8max</th>\n",
              "      <th>device_model_R7 Plus</th>\n",
              "      <th>device_model_U3</th>\n",
              "      <th>device_model_X5SL</th>\n",
              "      <th>device_model_ZenFone 2</th>\n",
              "      <th>device_model_note顶配版</th>\n",
              "      <th>device_model_坚果手机</th>\n",
              "      <th>device_model_大神Note3</th>\n",
              "      <th>device_model_小米4C</th>\n",
              "      <th>device_model_小米note</th>\n",
              "      <th>device_model_红米2</th>\n",
              "      <th>device_model_红米2A</th>\n",
              "      <th>device_model_红米Note2</th>\n",
              "      <th>device_model_红米Note3</th>\n",
              "      <th>device_model_红米note</th>\n",
              "      <th>device_model_荣耀3C</th>\n",
              "      <th>device_model_荣耀6</th>\n",
              "      <th>device_model_荣耀6 Plus</th>\n",
              "      <th>device_model_荣耀7</th>\n",
              "      <th>device_model_荣耀7i</th>\n",
              "      <th>device_model_荣耀X2</th>\n",
              "      <th>device_model_荣耀畅玩4C</th>\n",
              "      <th>device_model_荣耀畅玩5X</th>\n",
              "      <th>device_model_超级手机1</th>\n",
              "      <th>device_model_超级手机1 Pro</th>\n",
              "      <th>device_model_超级手机1s</th>\n",
              "      <th>device_model_青春版</th>\n",
              "      <th>device_model_魅蓝NOTE</th>\n",
              "      <th>device_model_魅蓝metal</th>\n",
              "      <th>num_group</th>\n",
              "    </tr>\n",
              "  </thead>\n",
              "  <tbody>\n",
              "    <tr>\n",
              "      <th>0</th>\n",
              "      <td>198</td>\n",
              "      <td>-8807740666788515175</td>\n",
              "      <td>0</td>\n",
              "      <td>6984152891252102027</td>\n",
              "      <td>0</td>\n",
              "      <td>0</td>\n",
              "      <td>0</td>\n",
              "      <td>0</td>\n",
              "      <td>0</td>\n",
              "      <td>0</td>\n",
              "      <td>0</td>\n",
              "      <td>0</td>\n",
              "      <td>0</td>\n",
              "      <td>0</td>\n",
              "      <td>0</td>\n",
              "      <td>0</td>\n",
              "      <td>0</td>\n",
              "      <td>0</td>\n",
              "      <td>1</td>\n",
              "      <td>1</td>\n",
              "      <td>0</td>\n",
              "      <td>0</td>\n",
              "      <td>0</td>\n",
              "      <td>0</td>\n",
              "      <td>0</td>\n",
              "      <td>0</td>\n",
              "      <td>0</td>\n",
              "      <td>0</td>\n",
              "      <td>0</td>\n",
              "      <td>0</td>\n",
              "      <td>0</td>\n",
              "      <td>0</td>\n",
              "      <td>0</td>\n",
              "      <td>0</td>\n",
              "      <td>0</td>\n",
              "      <td>0</td>\n",
              "      <td>1</td>\n",
              "      <td>0</td>\n",
              "      <td>0</td>\n",
              "      <td>0</td>\n",
              "      <td>0</td>\n",
              "      <td>0</td>\n",
              "      <td>1</td>\n",
              "      <td>0</td>\n",
              "      <td>0</td>\n",
              "      <td>0</td>\n",
              "      <td>0</td>\n",
              "      <td>0</td>\n",
              "      <td>0</td>\n",
              "      <td>0</td>\n",
              "      <td>0</td>\n",
              "      <td>0</td>\n",
              "      <td>0</td>\n",
              "      <td>0</td>\n",
              "      <td>0</td>\n",
              "      <td>0</td>\n",
              "      <td>0</td>\n",
              "      <td>0</td>\n",
              "      <td>0</td>\n",
              "      <td>0</td>\n",
              "      <td>0</td>\n",
              "      <td>0</td>\n",
              "      <td>0</td>\n",
              "      <td>0</td>\n",
              "      <td>0</td>\n",
              "      <td>0</td>\n",
              "      <td>0</td>\n",
              "      <td>0</td>\n",
              "      <td>0</td>\n",
              "      <td>0</td>\n",
              "      <td>0</td>\n",
              "      <td>0</td>\n",
              "      <td>0</td>\n",
              "      <td>0</td>\n",
              "      <td>0</td>\n",
              "      <td>0</td>\n",
              "      <td>0</td>\n",
              "      <td>4</td>\n",
              "    </tr>\n",
              "    <tr>\n",
              "      <th>2</th>\n",
              "      <td>198</td>\n",
              "      <td>-7415261454408512527</td>\n",
              "      <td>0</td>\n",
              "      <td>6984152891252102027</td>\n",
              "      <td>0</td>\n",
              "      <td>0</td>\n",
              "      <td>0</td>\n",
              "      <td>1</td>\n",
              "      <td>0</td>\n",
              "      <td>0</td>\n",
              "      <td>0</td>\n",
              "      <td>0</td>\n",
              "      <td>0</td>\n",
              "      <td>0</td>\n",
              "      <td>0</td>\n",
              "      <td>0</td>\n",
              "      <td>0</td>\n",
              "      <td>0</td>\n",
              "      <td>1</td>\n",
              "      <td>0</td>\n",
              "      <td>0</td>\n",
              "      <td>0</td>\n",
              "      <td>1</td>\n",
              "      <td>1</td>\n",
              "      <td>0</td>\n",
              "      <td>0</td>\n",
              "      <td>0</td>\n",
              "      <td>0</td>\n",
              "      <td>0</td>\n",
              "      <td>0</td>\n",
              "      <td>0</td>\n",
              "      <td>0</td>\n",
              "      <td>0</td>\n",
              "      <td>0</td>\n",
              "      <td>0</td>\n",
              "      <td>0</td>\n",
              "      <td>1</td>\n",
              "      <td>0</td>\n",
              "      <td>0</td>\n",
              "      <td>0</td>\n",
              "      <td>0</td>\n",
              "      <td>0</td>\n",
              "      <td>1</td>\n",
              "      <td>0</td>\n",
              "      <td>0</td>\n",
              "      <td>0</td>\n",
              "      <td>0</td>\n",
              "      <td>0</td>\n",
              "      <td>0</td>\n",
              "      <td>0</td>\n",
              "      <td>0</td>\n",
              "      <td>0</td>\n",
              "      <td>0</td>\n",
              "      <td>0</td>\n",
              "      <td>0</td>\n",
              "      <td>0</td>\n",
              "      <td>0</td>\n",
              "      <td>0</td>\n",
              "      <td>0</td>\n",
              "      <td>0</td>\n",
              "      <td>0</td>\n",
              "      <td>0</td>\n",
              "      <td>0</td>\n",
              "      <td>0</td>\n",
              "      <td>0</td>\n",
              "      <td>0</td>\n",
              "      <td>0</td>\n",
              "      <td>0</td>\n",
              "      <td>0</td>\n",
              "      <td>0</td>\n",
              "      <td>0</td>\n",
              "      <td>0</td>\n",
              "      <td>0</td>\n",
              "      <td>0</td>\n",
              "      <td>0</td>\n",
              "      <td>0</td>\n",
              "      <td>0</td>\n",
              "      <td>4</td>\n",
              "    </tr>\n",
              "    <tr>\n",
              "      <th>6</th>\n",
              "      <td>198</td>\n",
              "      <td>-6538188762242952077</td>\n",
              "      <td>1</td>\n",
              "      <td>6984152891252102027</td>\n",
              "      <td>1</td>\n",
              "      <td>0</td>\n",
              "      <td>0</td>\n",
              "      <td>0</td>\n",
              "      <td>0</td>\n",
              "      <td>1</td>\n",
              "      <td>0</td>\n",
              "      <td>1</td>\n",
              "      <td>1</td>\n",
              "      <td>0</td>\n",
              "      <td>0</td>\n",
              "      <td>0</td>\n",
              "      <td>0</td>\n",
              "      <td>0</td>\n",
              "      <td>0</td>\n",
              "      <td>0</td>\n",
              "      <td>0</td>\n",
              "      <td>0</td>\n",
              "      <td>0</td>\n",
              "      <td>0</td>\n",
              "      <td>0</td>\n",
              "      <td>0</td>\n",
              "      <td>0</td>\n",
              "      <td>0</td>\n",
              "      <td>0</td>\n",
              "      <td>0</td>\n",
              "      <td>0</td>\n",
              "      <td>0</td>\n",
              "      <td>0</td>\n",
              "      <td>0</td>\n",
              "      <td>0</td>\n",
              "      <td>0</td>\n",
              "      <td>1</td>\n",
              "      <td>0</td>\n",
              "      <td>0</td>\n",
              "      <td>0</td>\n",
              "      <td>0</td>\n",
              "      <td>0</td>\n",
              "      <td>1</td>\n",
              "      <td>0</td>\n",
              "      <td>0</td>\n",
              "      <td>0</td>\n",
              "      <td>0</td>\n",
              "      <td>0</td>\n",
              "      <td>0</td>\n",
              "      <td>0</td>\n",
              "      <td>0</td>\n",
              "      <td>0</td>\n",
              "      <td>0</td>\n",
              "      <td>0</td>\n",
              "      <td>0</td>\n",
              "      <td>0</td>\n",
              "      <td>0</td>\n",
              "      <td>0</td>\n",
              "      <td>0</td>\n",
              "      <td>0</td>\n",
              "      <td>0</td>\n",
              "      <td>0</td>\n",
              "      <td>0</td>\n",
              "      <td>0</td>\n",
              "      <td>0</td>\n",
              "      <td>0</td>\n",
              "      <td>0</td>\n",
              "      <td>0</td>\n",
              "      <td>0</td>\n",
              "      <td>0</td>\n",
              "      <td>0</td>\n",
              "      <td>0</td>\n",
              "      <td>0</td>\n",
              "      <td>0</td>\n",
              "      <td>0</td>\n",
              "      <td>0</td>\n",
              "      <td>0</td>\n",
              "      <td>4</td>\n",
              "    </tr>\n",
              "    <tr>\n",
              "      <th>10</th>\n",
              "      <td>198</td>\n",
              "      <td>-6493194103110420302</td>\n",
              "      <td>0</td>\n",
              "      <td>6984152891252102027</td>\n",
              "      <td>0</td>\n",
              "      <td>0</td>\n",
              "      <td>1</td>\n",
              "      <td>0</td>\n",
              "      <td>0</td>\n",
              "      <td>0</td>\n",
              "      <td>0</td>\n",
              "      <td>0</td>\n",
              "      <td>0</td>\n",
              "      <td>0</td>\n",
              "      <td>0</td>\n",
              "      <td>1</td>\n",
              "      <td>0</td>\n",
              "      <td>0</td>\n",
              "      <td>1</td>\n",
              "      <td>1</td>\n",
              "      <td>0</td>\n",
              "      <td>0</td>\n",
              "      <td>0</td>\n",
              "      <td>1</td>\n",
              "      <td>0</td>\n",
              "      <td>0</td>\n",
              "      <td>0</td>\n",
              "      <td>0</td>\n",
              "      <td>0</td>\n",
              "      <td>0</td>\n",
              "      <td>0</td>\n",
              "      <td>0</td>\n",
              "      <td>0</td>\n",
              "      <td>0</td>\n",
              "      <td>0</td>\n",
              "      <td>0</td>\n",
              "      <td>1</td>\n",
              "      <td>0</td>\n",
              "      <td>0</td>\n",
              "      <td>0</td>\n",
              "      <td>0</td>\n",
              "      <td>0</td>\n",
              "      <td>1</td>\n",
              "      <td>0</td>\n",
              "      <td>0</td>\n",
              "      <td>0</td>\n",
              "      <td>0</td>\n",
              "      <td>0</td>\n",
              "      <td>0</td>\n",
              "      <td>0</td>\n",
              "      <td>0</td>\n",
              "      <td>0</td>\n",
              "      <td>0</td>\n",
              "      <td>0</td>\n",
              "      <td>0</td>\n",
              "      <td>0</td>\n",
              "      <td>0</td>\n",
              "      <td>0</td>\n",
              "      <td>0</td>\n",
              "      <td>0</td>\n",
              "      <td>0</td>\n",
              "      <td>0</td>\n",
              "      <td>0</td>\n",
              "      <td>0</td>\n",
              "      <td>0</td>\n",
              "      <td>0</td>\n",
              "      <td>0</td>\n",
              "      <td>0</td>\n",
              "      <td>0</td>\n",
              "      <td>0</td>\n",
              "      <td>0</td>\n",
              "      <td>0</td>\n",
              "      <td>0</td>\n",
              "      <td>0</td>\n",
              "      <td>0</td>\n",
              "      <td>0</td>\n",
              "      <td>0</td>\n",
              "      <td>4</td>\n",
              "    </tr>\n",
              "    <tr>\n",
              "      <th>15</th>\n",
              "      <td>198</td>\n",
              "      <td>-6349602347932703147</td>\n",
              "      <td>0</td>\n",
              "      <td>6984152891252102027</td>\n",
              "      <td>0</td>\n",
              "      <td>0</td>\n",
              "      <td>0</td>\n",
              "      <td>0</td>\n",
              "      <td>0</td>\n",
              "      <td>0</td>\n",
              "      <td>0</td>\n",
              "      <td>0</td>\n",
              "      <td>0</td>\n",
              "      <td>0</td>\n",
              "      <td>0</td>\n",
              "      <td>1</td>\n",
              "      <td>0</td>\n",
              "      <td>0</td>\n",
              "      <td>1</td>\n",
              "      <td>1</td>\n",
              "      <td>0</td>\n",
              "      <td>0</td>\n",
              "      <td>0</td>\n",
              "      <td>0</td>\n",
              "      <td>0</td>\n",
              "      <td>0</td>\n",
              "      <td>0</td>\n",
              "      <td>0</td>\n",
              "      <td>0</td>\n",
              "      <td>0</td>\n",
              "      <td>0</td>\n",
              "      <td>0</td>\n",
              "      <td>0</td>\n",
              "      <td>0</td>\n",
              "      <td>0</td>\n",
              "      <td>0</td>\n",
              "      <td>1</td>\n",
              "      <td>0</td>\n",
              "      <td>0</td>\n",
              "      <td>0</td>\n",
              "      <td>0</td>\n",
              "      <td>0</td>\n",
              "      <td>1</td>\n",
              "      <td>0</td>\n",
              "      <td>0</td>\n",
              "      <td>0</td>\n",
              "      <td>0</td>\n",
              "      <td>0</td>\n",
              "      <td>0</td>\n",
              "      <td>0</td>\n",
              "      <td>0</td>\n",
              "      <td>0</td>\n",
              "      <td>0</td>\n",
              "      <td>0</td>\n",
              "      <td>0</td>\n",
              "      <td>0</td>\n",
              "      <td>0</td>\n",
              "      <td>0</td>\n",
              "      <td>0</td>\n",
              "      <td>0</td>\n",
              "      <td>0</td>\n",
              "      <td>0</td>\n",
              "      <td>0</td>\n",
              "      <td>0</td>\n",
              "      <td>0</td>\n",
              "      <td>0</td>\n",
              "      <td>0</td>\n",
              "      <td>0</td>\n",
              "      <td>0</td>\n",
              "      <td>0</td>\n",
              "      <td>0</td>\n",
              "      <td>0</td>\n",
              "      <td>0</td>\n",
              "      <td>0</td>\n",
              "      <td>0</td>\n",
              "      <td>0</td>\n",
              "      <td>0</td>\n",
              "      <td>4</td>\n",
              "    </tr>\n",
              "  </tbody>\n",
              "</table>\n",
              "</div>"
            ],
            "text/plain": [
              "    event_id               app_id  ...  device_model_魅蓝metal  num_group\n",
              "0        198 -8807740666788515175  ...                     0          4\n",
              "2        198 -7415261454408512527  ...                     0          4\n",
              "6        198 -6538188762242952077  ...                     0          4\n",
              "10       198 -6493194103110420302  ...                     0          4\n",
              "15       198 -6349602347932703147  ...                     0          4\n",
              "\n",
              "[5 rows x 78 columns]"
            ]
          },
          "metadata": {},
          "execution_count": 80
        }
      ]
    },
    {
      "cell_type": "markdown",
      "metadata": {
        "id": "FHU4muiOZUd2"
      },
      "source": [
        "# Create Visualization\n"
      ]
    },
    {
      "cell_type": "markdown",
      "metadata": {
        "id": "D2LtswMqznSC"
      },
      "source": [
        "- Need to change font size of x and y axis\n"
      ]
    },
    {
      "cell_type": "code",
      "metadata": {
        "id": "0dY2XlS4ZRRW",
        "colab": {
          "base_uri": "https://localhost:8080/",
          "height": 351
        },
        "outputId": "74f9d4cb-14b9-4135-d705-65fce4d7621b"
      },
      "source": [
        "sns.countplot(master_df[\"num_group\"])\n",
        "plt.title(\"Age/Gender Demographic by Count\")\n",
        "plt.ylabel(\"count\")\n",
        "plt.xlabel(\"Age/Gender\")\n",
        "plt.show()\n"
      ],
      "execution_count": 81,
      "outputs": [
        {
          "output_type": "stream",
          "name": "stderr",
          "text": [
            "/usr/local/lib/python3.7/dist-packages/seaborn/_decorators.py:43: FutureWarning: Pass the following variable as a keyword arg: x. From version 0.12, the only valid positional argument will be `data`, and passing other arguments without an explicit keyword will result in an error or misinterpretation.\n",
            "  FutureWarning\n"
          ]
        },
        {
          "output_type": "display_data",
          "data": {
            "image/png": "[encoded data removed]",
            "text/plain": [
              "<Figure size 432x288 with 1 Axes>"
            ]
          },
          "metadata": {
            "needs_background": "light"
          }
        }
      ]
    },
    {
      "cell_type": "markdown",
      "metadata": {
        "id": "3HfneGcjzpmR"
      },
      "source": [
        "- It seems like most of the data is for non-active apps, however 1/5 of the data is still good for  active apps.\n"
      ]
    },
    {
      "cell_type": "code",
      "metadata": {
        "id": "rRNPUNN5Zkjs",
        "colab": {
          "base_uri": "https://localhost:8080/",
          "height": 353
        },
        "outputId": "015553d0-4ba0-4d96-9f50-dd9054625f1e"
      },
      "source": [
        "sns.countplot(master_df[\"is_active\"])\n",
        "plt.title(\"Active Apps\")\n",
        "plt.show()\n"
      ],
      "execution_count": 82,
      "outputs": [
        {
          "output_type": "stream",
          "name": "stderr",
          "text": [
            "/usr/local/lib/python3.7/dist-packages/seaborn/_decorators.py:43: FutureWarning: Pass the following variable as a keyword arg: x. From version 0.12, the only valid positional argument will be `data`, and passing other arguments without an explicit keyword will result in an error or misinterpretation.\n",
            "  FutureWarning\n"
          ]
        },
        {
          "output_type": "display_data",
          "data": {
            "image/png": "[encoded data removed]",
            "text/plain": [
              "<Figure size 432x288 with 1 Axes>"
            ]
          },
          "metadata": {
            "needs_background": "light"
          }
        }
      ]
    },
    {
      "cell_type": "markdown",
      "metadata": {
        "id": "HFPG2B5kZq5n"
      },
      "source": [
        "Saving Cleaned Data as a New CSV\n"
      ]
    },
    {
      "cell_type": "code",
      "metadata": {
        "id": "WPS3Phl1ZkmI"
      },
      "source": [
        "# When finished with cleaning, save it as a csv to use for future notebooks and save time\n",
        "master_df.to_csv(\"master_clean.csv\", index=False)\n"
      ],
      "execution_count": 83,
      "outputs": []
    },
    {
      "cell_type": "code",
      "metadata": {
        "id": "kMhV0Nz9aw3s",
        "colab": {
          "base_uri": "https://localhost:8080/"
        },
        "outputId": "56c2991f-f1c8-4876-f554-8f9c642600d2"
      },
      "source": [
        "# Check to see if cleaned csv is in working directory\n",
        "!dir\n"
      ],
      "execution_count": 84,
      "outputs": [
        {
          "output_type": "stream",
          "name": "stdout",
          "text": [
            "app_events.csv\n",
            "app_labels.csv\n",
            "Conditions_Contributing_to_COVID-19_Deaths__by_State_and_Age__Provisional_2020-2021.csv\n",
            "Deep\\ Learning.ipynb\n",
            "events.csv\n",
            "Exploratory\\ Data\\ Analysis.ipynb\n",
            "gender_age_test.csv\n",
            "gender_age_train.csv\n",
            "label_categories.csv\n",
            "master_clean.csv\n",
            "phone_brand_device_model.csv\n",
            "Project\\ Proposal\\ &\\ Information.ipynb\n",
            "sample_submission.csv\n",
            "Supervised\\ Learning.ipynb\n",
            "test\\ merge.ipynb\n",
            "Unsupervised\\ Learning.ipynb\n"
          ]
        }
      ]
    }
  ]
}