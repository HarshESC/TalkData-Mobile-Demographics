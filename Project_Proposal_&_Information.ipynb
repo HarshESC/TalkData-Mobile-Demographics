{
  "nbformat": 4,
  "nbformat_minor": 0,
  "metadata": {
    "colab": {
      "name": "Project Proposal & Information",
      "provenance": [],
      "collapsed_sections": [],
      "authorship_tag": "ABX9TyN3OnzowaUAyzfLfKnAffP5",
      "include_colab_link": true
    },
    "kernelspec": {
      "name": "python3",
      "display_name": "Python 3"
    },
    "language_info": {
      "name": "python"
    },
    "accelerator": "GPU"
  },
  "cells": [
    {
      "cell_type": "markdown",
      "metadata": {
        "id": "view-in-github",
        "colab_type": "text"
      },
      "source": [
        "<a href=\"https://colab.research.google.com/github/HarshESC/TalkData-Mobile-Demographics/blob/main/Project_Proposal_%26_Information.ipynb\" target=\"_parent\"><img src=\"https://colab.research.google.com/assets/colab-badge.svg\" alt=\"Open In Colab\"/></a>"
      ]
    },
    {
      "cell_type": "markdown",
      "metadata": {
        "id": "-LXQF__NopeW"
      },
      "source": [
        "Today, I am exploring the dataset: [TalkingData Mobile User Demographic](https://https://www.kaggle.com/c/talkingdata-mobile-user-demographics/data.) from Kaggle, by user and Chinese Mobile Platforming firm, **TalkingData**\n",
        "\n"
      ]
    },
    {
      "cell_type": "markdown",
      "metadata": {
        "id": "xXx099_x-XLm"
      },
      "source": [
        "\n",
        "## 1. Introduction.\n",
        "---\n",
        "\n",
        "Adults, Kids, and even toddlers are glued to their screens in this everychanging technological world.  It is easy to find your favorite stores, coffee shops, university, and even hobbies.  However, it can be difficult for your preferred brands to personalize your experience.  \n",
        "\n",
        "TalkingData, China’s largest third-party mobile data platform, understands that everyday choices and behaviors reflect ourselves and what we value most.  \n",
        "\n",
        "TalkingData wants to leverage behavioral data from over 70% of the 500 million mobile devices as of 2016, active daily in China in order to help its clients better understand and interact with their audiences.\n",
        "\n",
        "The data consists of app downloads and usage behaviors, as well as the age and gender of the user.\n",
        "\n",
        "I intend to use the data from the app downloads and usage behaviors to answer the big question\n",
        "\n",
        "## Question\n",
        "---\n",
        "\n",
        "#*Is possible to predict the gender and age of the user by using  certain details on apps and phone usage?*\n",
        "\n",
        "Below are the datasets we will be evaluating.\n",
        "\n",
        "\n",
        "\n",
        "\n",
        "\n"
      ]
    },
    {
      "cell_type": "markdown",
      "metadata": {
        "id": "27EEGRW40WYI"
      },
      "source": [
        "### 2. Datasets \n",
        "---"
      ]
    },
    {
      "cell_type": "code",
      "metadata": {
        "colab": {
          "base_uri": "https://localhost:8080/"
        },
        "id": "xWEW-zZrSrlF",
        "outputId": "f22e346f-1993-4acd-f077-4ea317eb7dc8"
      },
      "source": [
        "#EDA Imports\n",
        "from google.colab import drive \n",
        "drive.mount('/content/gdrive')\n",
        "import os\n",
        "os.environ['KAGGLE_CONFIG_DIR'] = \"/content/gdrive/\"\n",
        "%cd \"/content/gdrive/My Drive/Final Capstone\"\n",
        "import pandas as pd\n",
        "import seaborn as sns\n",
        "import matplotlib.pyplot as plt\n",
        "from sklearn.preprocessing import MultiLabelBinarizer\n",
        "\n"
      ],
      "execution_count": null,
      "outputs": [
        {
          "output_type": "stream",
          "name": "stdout",
          "text": [
            "Mounted at /content/gdrive\n",
            "/content/gdrive/My Drive/Final Capstone\n"
          ]
        }
      ]
    },
    {
      "cell_type": "code",
      "metadata": {
        "id": "vOBmcLEnyft1"
      },
      "source": [
        "# Reading each data file\n",
        "app_events = pd.read_csv(\"app_events.csv\")\n",
        "app_labels = pd.read_csv(\"app_labels.csv\")\n",
        "events = pd.read_csv(\"events.csv\")\n",
        "gender_age_train = pd.read_csv(\"gender_age_train.csv\")\n",
        "gender_age_test = pd.read_csv(\"gender_age_test.csv\")\n",
        "category_labels = pd.read_csv(\"label_categories.csv\")\n",
        "phone_brand = pd.read_csv(\"phone_brand_device_model.csv\")\n"
      ],
      "execution_count": null,
      "outputs": []
    },
    {
      "cell_type": "code",
      "metadata": {
        "id": "cuwlbBz00Zks",
        "colab": {
          "base_uri": "https://localhost:8080/",
          "height": 202
        },
        "outputId": "4182d45c-e262-43eb-c3b0-61f9b3c2eae9"
      },
      "source": [
        "app_labels.head()"
      ],
      "execution_count": null,
      "outputs": [
        {
          "output_type": "execute_result",
          "data": {
            "text/html": [
              "<div>\n",
              "<style scoped>\n",
              "    .dataframe tbody tr th:only-of-type {\n",
              "        vertical-align: middle;\n",
              "    }\n",
              "\n",
              "    .dataframe tbody tr th {\n",
              "        vertical-align: top;\n",
              "    }\n",
              "\n",
              "    .dataframe thead th {\n",
              "        text-align: right;\n",
              "    }\n",
              "</style>\n",
              "<table border=\"1\" class=\"dataframe\">\n",
              "  <thead>\n",
              "    <tr style=\"text-align: right;\">\n",
              "      <th></th>\n",
              "      <th>app_id</th>\n",
              "      <th>label_id</th>\n",
              "    </tr>\n",
              "  </thead>\n",
              "  <tbody>\n",
              "    <tr>\n",
              "      <th>0</th>\n",
              "      <td>7324884708820027918</td>\n",
              "      <td>251</td>\n",
              "    </tr>\n",
              "    <tr>\n",
              "      <th>1</th>\n",
              "      <td>-4494216993218550286</td>\n",
              "      <td>251</td>\n",
              "    </tr>\n",
              "    <tr>\n",
              "      <th>2</th>\n",
              "      <td>6058196446775239644</td>\n",
              "      <td>406</td>\n",
              "    </tr>\n",
              "    <tr>\n",
              "      <th>3</th>\n",
              "      <td>6058196446775239644</td>\n",
              "      <td>407</td>\n",
              "    </tr>\n",
              "    <tr>\n",
              "      <th>4</th>\n",
              "      <td>8694625920731541625</td>\n",
              "      <td>406</td>\n",
              "    </tr>\n",
              "  </tbody>\n",
              "</table>\n",
              "</div>"
            ],
            "text/plain": [
              "                app_id  label_id\n",
              "0  7324884708820027918       251\n",
              "1 -4494216993218550286       251\n",
              "2  6058196446775239644       406\n",
              "3  6058196446775239644       407\n",
              "4  8694625920731541625       406"
            ]
          },
          "metadata": {},
          "execution_count": 3
        }
      ]
    },
    {
      "cell_type": "code",
      "metadata": {
        "id": "CH6q3T2C0cL1",
        "colab": {
          "base_uri": "https://localhost:8080/",
          "height": 202
        },
        "outputId": "f1b7d4d3-4c2b-4b60-d4cc-314d746ce061"
      },
      "source": [
        "events.head()"
      ],
      "execution_count": null,
      "outputs": [
        {
          "output_type": "execute_result",
          "data": {
            "text/html": [
              "<div>\n",
              "<style scoped>\n",
              "    .dataframe tbody tr th:only-of-type {\n",
              "        vertical-align: middle;\n",
              "    }\n",
              "\n",
              "    .dataframe tbody tr th {\n",
              "        vertical-align: top;\n",
              "    }\n",
              "\n",
              "    .dataframe thead th {\n",
              "        text-align: right;\n",
              "    }\n",
              "</style>\n",
              "<table border=\"1\" class=\"dataframe\">\n",
              "  <thead>\n",
              "    <tr style=\"text-align: right;\">\n",
              "      <th></th>\n",
              "      <th>event_id</th>\n",
              "      <th>device_id</th>\n",
              "      <th>timestamp</th>\n",
              "      <th>longitude</th>\n",
              "      <th>latitude</th>\n",
              "    </tr>\n",
              "  </thead>\n",
              "  <tbody>\n",
              "    <tr>\n",
              "      <th>0</th>\n",
              "      <td>1</td>\n",
              "      <td>29182687948017175</td>\n",
              "      <td>2016-05-01 00:55:25</td>\n",
              "      <td>121.38</td>\n",
              "      <td>31.24</td>\n",
              "    </tr>\n",
              "    <tr>\n",
              "      <th>1</th>\n",
              "      <td>2</td>\n",
              "      <td>-6401643145415154744</td>\n",
              "      <td>2016-05-01 00:54:12</td>\n",
              "      <td>103.65</td>\n",
              "      <td>30.97</td>\n",
              "    </tr>\n",
              "    <tr>\n",
              "      <th>2</th>\n",
              "      <td>3</td>\n",
              "      <td>-4833982096941402721</td>\n",
              "      <td>2016-05-01 00:08:05</td>\n",
              "      <td>106.60</td>\n",
              "      <td>29.70</td>\n",
              "    </tr>\n",
              "    <tr>\n",
              "      <th>3</th>\n",
              "      <td>4</td>\n",
              "      <td>-6815121365017318426</td>\n",
              "      <td>2016-05-01 00:06:40</td>\n",
              "      <td>104.27</td>\n",
              "      <td>23.28</td>\n",
              "    </tr>\n",
              "    <tr>\n",
              "      <th>4</th>\n",
              "      <td>5</td>\n",
              "      <td>-5373797595892518570</td>\n",
              "      <td>2016-05-01 00:07:18</td>\n",
              "      <td>115.88</td>\n",
              "      <td>28.66</td>\n",
              "    </tr>\n",
              "  </tbody>\n",
              "</table>\n",
              "</div>"
            ],
            "text/plain": [
              "   event_id            device_id            timestamp  longitude  latitude\n",
              "0         1    29182687948017175  2016-05-01 00:55:25     121.38     31.24\n",
              "1         2 -6401643145415154744  2016-05-01 00:54:12     103.65     30.97\n",
              "2         3 -4833982096941402721  2016-05-01 00:08:05     106.60     29.70\n",
              "3         4 -6815121365017318426  2016-05-01 00:06:40     104.27     23.28\n",
              "4         5 -5373797595892518570  2016-05-01 00:07:18     115.88     28.66"
            ]
          },
          "metadata": {},
          "execution_count": 4
        }
      ]
    },
    {
      "cell_type": "code",
      "metadata": {
        "id": "CjqwS_a50cRR",
        "colab": {
          "base_uri": "https://localhost:8080/",
          "height": 202
        },
        "outputId": "35651b0a-3ee5-41a9-820f-382fcf09fbaa"
      },
      "source": [
        "app_labels.head()\n"
      ],
      "execution_count": null,
      "outputs": [
        {
          "output_type": "execute_result",
          "data": {
            "text/html": [
              "<div>\n",
              "<style scoped>\n",
              "    .dataframe tbody tr th:only-of-type {\n",
              "        vertical-align: middle;\n",
              "    }\n",
              "\n",
              "    .dataframe tbody tr th {\n",
              "        vertical-align: top;\n",
              "    }\n",
              "\n",
              "    .dataframe thead th {\n",
              "        text-align: right;\n",
              "    }\n",
              "</style>\n",
              "<table border=\"1\" class=\"dataframe\">\n",
              "  <thead>\n",
              "    <tr style=\"text-align: right;\">\n",
              "      <th></th>\n",
              "      <th>app_id</th>\n",
              "      <th>label_id</th>\n",
              "    </tr>\n",
              "  </thead>\n",
              "  <tbody>\n",
              "    <tr>\n",
              "      <th>0</th>\n",
              "      <td>7324884708820027918</td>\n",
              "      <td>251</td>\n",
              "    </tr>\n",
              "    <tr>\n",
              "      <th>1</th>\n",
              "      <td>-4494216993218550286</td>\n",
              "      <td>251</td>\n",
              "    </tr>\n",
              "    <tr>\n",
              "      <th>2</th>\n",
              "      <td>6058196446775239644</td>\n",
              "      <td>406</td>\n",
              "    </tr>\n",
              "    <tr>\n",
              "      <th>3</th>\n",
              "      <td>6058196446775239644</td>\n",
              "      <td>407</td>\n",
              "    </tr>\n",
              "    <tr>\n",
              "      <th>4</th>\n",
              "      <td>8694625920731541625</td>\n",
              "      <td>406</td>\n",
              "    </tr>\n",
              "  </tbody>\n",
              "</table>\n",
              "</div>"
            ],
            "text/plain": [
              "                app_id  label_id\n",
              "0  7324884708820027918       251\n",
              "1 -4494216993218550286       251\n",
              "2  6058196446775239644       406\n",
              "3  6058196446775239644       407\n",
              "4  8694625920731541625       406"
            ]
          },
          "metadata": {},
          "execution_count": 5
        }
      ]
    },
    {
      "cell_type": "code",
      "metadata": {
        "id": "av63R5RK0cWR",
        "colab": {
          "base_uri": "https://localhost:8080/",
          "height": 338
        },
        "outputId": "9e736f77-5afb-44ca-8c6e-88d526ea1ecb"
      },
      "source": [
        "category_labels.head()\n"
      ],
      "execution_count": null,
      "outputs": [
        {
          "output_type": "execute_result",
          "data": {
            "text/html": [
              "<div>\n",
              "<style scoped>\n",
              "    .dataframe tbody tr th:only-of-type {\n",
              "        vertical-align: middle;\n",
              "    }\n",
              "\n",
              "    .dataframe tbody tr th {\n",
              "        vertical-align: top;\n",
              "    }\n",
              "\n",
              "    .dataframe thead th {\n",
              "        text-align: right;\n",
              "    }\n",
              "</style>\n",
              "<table border=\"1\" class=\"dataframe\">\n",
              "  <thead>\n",
              "    <tr style=\"text-align: right;\">\n",
              "      <th></th>\n",
              "      <th>label_id</th>\n",
              "      <th>category</th>\n",
              "    </tr>\n",
              "  </thead>\n",
              "  <tbody>\n",
              "    <tr>\n",
              "      <th>0</th>\n",
              "      <td>1</td>\n",
              "      <td>NaN</td>\n",
              "    </tr>\n",
              "    <tr>\n",
              "      <th>1</th>\n",
              "      <td>2</td>\n",
              "      <td>game-game type</td>\n",
              "    </tr>\n",
              "    <tr>\n",
              "      <th>2</th>\n",
              "      <td>3</td>\n",
              "      <td>game-Game themes</td>\n",
              "    </tr>\n",
              "    <tr>\n",
              "      <th>3</th>\n",
              "      <td>4</td>\n",
              "      <td>game-Art Style</td>\n",
              "    </tr>\n",
              "    <tr>\n",
              "      <th>4</th>\n",
              "      <td>5</td>\n",
              "      <td>game-Leisure time</td>\n",
              "    </tr>\n",
              "  </tbody>\n",
              "</table>\n",
              "</div>"
            ],
            "text/plain": [
              "   label_id           category\n",
              "0         1                NaN\n",
              "1         2     game-game type\n",
              "2         3   game-Game themes\n",
              "3         4     game-Art Style\n",
              "4         5  game-Leisure time"
            ]
          },
          "metadata": {},
          "execution_count": 6
        }
      ]
    },
    {
      "cell_type": "code",
      "metadata": {
        "id": "9maW2GAs0cgt",
        "colab": {
          "base_uri": "https://localhost:8080/",
          "height": 202
        },
        "outputId": "f49d0137-ccb8-461c-d8e0-4ea2ea678dfc"
      },
      "source": [
        "gender_age_train.head()\n"
      ],
      "execution_count": null,
      "outputs": [
        {
          "output_type": "execute_result",
          "data": {
            "text/html": [
              "<div>\n",
              "<style scoped>\n",
              "    .dataframe tbody tr th:only-of-type {\n",
              "        vertical-align: middle;\n",
              "    }\n",
              "\n",
              "    .dataframe tbody tr th {\n",
              "        vertical-align: top;\n",
              "    }\n",
              "\n",
              "    .dataframe thead th {\n",
              "        text-align: right;\n",
              "    }\n",
              "</style>\n",
              "<table border=\"1\" class=\"dataframe\">\n",
              "  <thead>\n",
              "    <tr style=\"text-align: right;\">\n",
              "      <th></th>\n",
              "      <th>device_id</th>\n",
              "      <th>gender</th>\n",
              "      <th>age</th>\n",
              "      <th>group</th>\n",
              "    </tr>\n",
              "  </thead>\n",
              "  <tbody>\n",
              "    <tr>\n",
              "      <th>0</th>\n",
              "      <td>-8076087639492063270</td>\n",
              "      <td>M</td>\n",
              "      <td>35</td>\n",
              "      <td>M32-38</td>\n",
              "    </tr>\n",
              "    <tr>\n",
              "      <th>1</th>\n",
              "      <td>-2897161552818060146</td>\n",
              "      <td>M</td>\n",
              "      <td>35</td>\n",
              "      <td>M32-38</td>\n",
              "    </tr>\n",
              "    <tr>\n",
              "      <th>2</th>\n",
              "      <td>-8260683887967679142</td>\n",
              "      <td>M</td>\n",
              "      <td>35</td>\n",
              "      <td>M32-38</td>\n",
              "    </tr>\n",
              "    <tr>\n",
              "      <th>3</th>\n",
              "      <td>-4938849341048082022</td>\n",
              "      <td>M</td>\n",
              "      <td>30</td>\n",
              "      <td>M29-31</td>\n",
              "    </tr>\n",
              "    <tr>\n",
              "      <th>4</th>\n",
              "      <td>245133531816851882</td>\n",
              "      <td>M</td>\n",
              "      <td>30</td>\n",
              "      <td>M29-31</td>\n",
              "    </tr>\n",
              "  </tbody>\n",
              "</table>\n",
              "</div>"
            ],
            "text/plain": [
              "             device_id gender  age   group\n",
              "0 -8076087639492063270      M   35  M32-38\n",
              "1 -2897161552818060146      M   35  M32-38\n",
              "2 -8260683887967679142      M   35  M32-38\n",
              "3 -4938849341048082022      M   30  M29-31\n",
              "4   245133531816851882      M   30  M29-31"
            ]
          },
          "metadata": {},
          "execution_count": 7
        }
      ]
    },
    {
      "cell_type": "code",
      "metadata": {
        "id": "1iJDaPiB0oGE",
        "colab": {
          "base_uri": "https://localhost:8080/",
          "height": 202
        },
        "outputId": "be23627c-3d88-4386-bc37-a3b1d9b7cffd"
      },
      "source": [
        "phone_brand.head()\n"
      ],
      "execution_count": null,
      "outputs": [
        {
          "output_type": "execute_result",
          "data": {
            "text/html": [
              "<div>\n",
              "<style scoped>\n",
              "    .dataframe tbody tr th:only-of-type {\n",
              "        vertical-align: middle;\n",
              "    }\n",
              "\n",
              "    .dataframe tbody tr th {\n",
              "        vertical-align: top;\n",
              "    }\n",
              "\n",
              "    .dataframe thead th {\n",
              "        text-align: right;\n",
              "    }\n",
              "</style>\n",
              "<table border=\"1\" class=\"dataframe\">\n",
              "  <thead>\n",
              "    <tr style=\"text-align: right;\">\n",
              "      <th></th>\n",
              "      <th>device_id</th>\n",
              "      <th>phone_brand</th>\n",
              "      <th>device_model</th>\n",
              "    </tr>\n",
              "  </thead>\n",
              "  <tbody>\n",
              "    <tr>\n",
              "      <th>0</th>\n",
              "      <td>-8890648629457979026</td>\n",
              "      <td>小米</td>\n",
              "      <td>红米</td>\n",
              "    </tr>\n",
              "    <tr>\n",
              "      <th>1</th>\n",
              "      <td>1277779817574759137</td>\n",
              "      <td>小米</td>\n",
              "      <td>MI 2</td>\n",
              "    </tr>\n",
              "    <tr>\n",
              "      <th>2</th>\n",
              "      <td>5137427614288105724</td>\n",
              "      <td>三星</td>\n",
              "      <td>Galaxy S4</td>\n",
              "    </tr>\n",
              "    <tr>\n",
              "      <th>3</th>\n",
              "      <td>3669464369358936369</td>\n",
              "      <td>SUGAR</td>\n",
              "      <td>时尚手机</td>\n",
              "    </tr>\n",
              "    <tr>\n",
              "      <th>4</th>\n",
              "      <td>-5019277647504317457</td>\n",
              "      <td>三星</td>\n",
              "      <td>Galaxy Note 2</td>\n",
              "    </tr>\n",
              "  </tbody>\n",
              "</table>\n",
              "</div>"
            ],
            "text/plain": [
              "             device_id phone_brand   device_model\n",
              "0 -8890648629457979026          小米             红米\n",
              "1  1277779817574759137          小米           MI 2\n",
              "2  5137427614288105724          三星      Galaxy S4\n",
              "3  3669464369358936369       SUGAR           时尚手机\n",
              "4 -5019277647504317457          三星  Galaxy Note 2"
            ]
          },
          "metadata": {},
          "execution_count": 8
        }
      ]
    },
    {
      "cell_type": "markdown",
      "metadata": {
        "id": "F8Yhnugtqn2d"
      },
      "source": [
        "#3. Audience & Use Case\n",
        "---\n",
        "This information would be most beneficial for advertiser because this can help create targeted ads towards genders and certain age groups.  This in return helps App Developers and SmartPhone brands raise their target demographic's awareness of their apps and brands, and shift focus on particular markets.  \n",
        "\n",
        "\n"
      ]
    },
    {
      "cell_type": "markdown",
      "metadata": {
        "id": "WLLZmyAXr-Id"
      },
      "source": [
        "# 3. Methods\n",
        "---\n",
        "I will be using 8 CSV files from Kaggle to answer the question.\n",
        "Each CSV file contains information ranging from age and gender, to phone brand.\n",
        "\n",
        "App labels and label categories are also included. I will be merging some of the files and create larger datasets.  The app label and label categories will be one of the files merged together because for ease of accessibility.  The gender and and age files will also be merged in order to make simplify the creation of predictive modeling and clustering algorithms.\n",
        "\n",
        "## Techniques applied on this project:\n",
        " 1. Exploratory Data Analysis \n",
        "- Data Cleaning\n",
        "- Merging originally split datasets\n",
        "\n",
        " 2. Supervised Learning\n",
        "- Create 6-7 Classification Models (using PCA and SelectKBest)\n",
        "- Use Gridsearch to determine best hyper parameters\n",
        "- Generate Classification Reports for each model\n",
        "- Compare models against each other and  determine which classification model is the most accurate for predicting age and gender \n",
        "- Determine which dimensionality reduction method was the most accurate helpful when creating the models\n",
        "\n",
        "Each model will predict Age and Gender from App User Information\n",
        "\n",
        " 3. Unsupervised Learning\n",
        "- 2 dimensionality reduction methods (PCA/K-means, T-SNE/GMM) will be used and applied to 2-3 clustering algorithms\n",
        "- Use clustered data to see what featuers are grouped together and how they impact my classification models\n",
        "- Compare the clustering algorithms using silhouette scores.\n",
        "\n",
        " 4. Deep Learning\n",
        "- I will be creating a CNN (Convolutional Neural Network)\n",
        "that will also be used as a classification model \n",
        "- Compare results with precision and recall scores with the Supervised Learning models and determine which produced the best model.\n"
      ]
    },
    {
      "cell_type": "markdown",
      "metadata": {
        "id": "LkGvAwo8WVUq"
      },
      "source": [
        "## 4. Challenges\n",
        "\n",
        "I believe there will be many challenges to completing this project. The data set is around 75,000 rows, so I will have to spend a good amount of time evaluating the data and making sure I understand what I am working with. \n",
        "\n",
        "Secondly, I believe performing optimal EDA will be one of the more challenges parts.  Due to there being so many records with missing information and data being scattered out in this dataset, I will need to merge and link some of the files togerher. \n",
        "\n",
        "Finally, I'm sure there will be challenges when creating the models, but the biggest challenges that come from the models is finding the right parameters to tune.  These parameters are what will go into the model itself and ideally would like an outcome accuracy of 65%.  Therefore, it will not be as difficult as conducting clean EDA."
      ]
    }
  ]
}